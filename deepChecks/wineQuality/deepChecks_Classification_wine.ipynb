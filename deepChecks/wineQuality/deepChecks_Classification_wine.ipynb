{
  "cells": [
    {
      "cell_type": "code",
      "execution_count": null,
      "metadata": {
        "collapsed": false
      },
      "outputs": [],
      "source": [
        "%matplotlib inline"
      ]
    },
    {
      "cell_type": "code",
      "execution_count": 1,
      "metadata": {},
      "outputs": [],
      "source": [
        "from random import random\n",
        "from sklearn import tree\n",
        "from sklearn.tree import _tree\n",
        "from sklearn.utils.validation import check_is_fitted, _deprecate_positional_args\n",
        "\n",
        "\n",
        "class SoftSplitDecisionTreeClassifier(tree.DecisionTreeClassifier):\n",
        "    def __init__(self, *,n=100,\n",
        "                 alphaProbability=0.1,\n",
        "                 criterion=\"gini\",\n",
        "                 splitter=\"best\",\n",
        "                 max_depth=None,\n",
        "                 min_samples_split=2,\n",
        "                 min_samples_leaf=1,\n",
        "                 min_weight_fraction_leaf=0.,\n",
        "                 max_features=None,\n",
        "                 random_state=None,\n",
        "                 max_leaf_nodes=None,\n",
        "                 min_impurity_decrease=0.,\n",
        "                 class_weight=None,\n",
        "                 ccp_alpha=0.0):\n",
        "        super().__init__(\n",
        "            criterion=criterion,\n",
        "            splitter=splitter,\n",
        "            max_depth=max_depth,\n",
        "            min_samples_split=min_samples_split,\n",
        "            min_samples_leaf=min_samples_leaf,\n",
        "            min_weight_fraction_leaf=min_weight_fraction_leaf,\n",
        "            max_features=max_features,\n",
        "            random_state=random_state,\n",
        "            max_leaf_nodes=max_leaf_nodes,\n",
        "            min_impurity_decrease=min_impurity_decrease,\n",
        "            class_weight=class_weight,\n",
        "            ccp_alpha=ccp_alpha)\n",
        "        self.n=n\n",
        "        self.alphaProbability=alphaProbability\n",
        "\n",
        "\n",
        "    def predict(self, X, check_input=True):\n",
        "        # check_is_fitted(self)\n",
        "        # X = self._validate_X_predict(X, check_input)\n",
        "        # return self.predictWrapper(X)\n",
        "        \"\"\"Predict class or regression value for X.\n",
        "\n",
        "        For a classification model, the predicted class for each sample in X is\n",
        "        returned. For a regression model, the predicted value based on X is\n",
        "        returned.\n",
        "\n",
        "        Parameters\n",
        "        ----------\n",
        "        X : {array-like, sparse matrix} of shape (n_samples, n_features)\n",
        "            The input samples. Internally, it will be converted to\n",
        "            ``dtype=np.float32`` and if a sparse matrix is provided\n",
        "            to a sparse ``csr_matrix``.\n",
        "\n",
        "        check_input : bool, default=True\n",
        "            Allow to bypass several input checking.\n",
        "            Don't use this parameter unless you know what you do.\n",
        "\n",
        "        Returns\n",
        "        -------\n",
        "        y : array-like of shape (n_samples,) or (n_samples, n_outputs)\n",
        "            The predicted classes, or the predict values.\n",
        "        \"\"\"\n",
        "        check_is_fitted(self)\n",
        "        X = self._validate_X_predict(X, check_input)\n",
        "        proba = self.predict_proba(X,check_input)\n",
        "        n_samples = X.shape[0]\n",
        "\n",
        "        # Classification\n",
        "        if self.n_outputs_ == 1:\n",
        "            return self.classes_.take(np.argmax(proba, axis=1), axis=0)\n",
        "\n",
        "        else:\n",
        "            class_type = self.classes_[0].dtype\n",
        "            predictions = np.zeros((n_samples, self.n_outputs_),\n",
        "                                   dtype=class_type)\n",
        "            for k in range(self.n_outputs_):\n",
        "                predictions[:, k] = self.classes_[k].take(\n",
        "                    np.argmax(proba[:, k], axis=1),\n",
        "                    axis=0)\n",
        "\n",
        "            return predictions\n",
        "\n",
        "    def predictWrapper(self,row,predictionFunction):\n",
        "        '''\n",
        "        Function to wrap the single prediction process, the function will\n",
        "        run the prediction for n iteration\n",
        "        :param X:\n",
        "        :type X:\n",
        "        :param n:\n",
        "        :type n:\n",
        "        :param alphaProbability:\n",
        "        :type alphaProbability:\n",
        "        :return:\n",
        "        :rtype:\n",
        "        '''\n",
        "        predictions = np.array([predictionFunction(row) for i in range(self.n)])\n",
        "        avgPredictions = np.array([np.array([val for val in i]) for i in predictions.mean(0)])\n",
        "        return avgPredictions\n",
        "\n",
        "    def predict_proba(self, X, check_input=True):\n",
        "        \"\"\"Predict class probabilities of the input samples X.\n",
        "\n",
        "        The predicted class probability is the fraction of samples of the same\n",
        "        class in a leaf.\n",
        "\n",
        "        Parameters\n",
        "        ----------\n",
        "        X : {array-like, sparse matrix} of shape (n_samples, n_features)\n",
        "            The input samples. Internally, it will be converted to\n",
        "            ``dtype=np.float32`` and if a sparse matrix is provided\n",
        "            to a sparse ``csr_matrix``.\n",
        "\n",
        "        alphaProbability : double, default=0 probability to choose the opposite decision path.\n",
        "\n",
        "        check_input : bool, default=True\n",
        "            Allow to bypass several input checking.\n",
        "            Don't use this parameter unless you know what you do.\n",
        "\n",
        "        Returns\n",
        "        -------\n",
        "        proba : ndarray of shape (n_samples, n_classes) or list of n_outputs \\\n",
        "            such arrays if n_outputs > 1\n",
        "            The class probabilities of the input samples. The order of the\n",
        "            classes corresponds to that in the attribute :term:`classes_`.\n",
        "        \"\"\"\n",
        "        check_is_fitted(self)\n",
        "        X = self._validate_X_predict(X, check_input)\n",
        "        probabilisticPredictionFunction = self._generateProbabilisticPredictionFunction(self.alphaProbability)\n",
        "        probaList = [self.predictWrapper(row, probabilisticPredictionFunction) for row in X]\n",
        "        proba = np.concatenate(probaList, axis=0)\n",
        "\n",
        "        if self.n_outputs_ == 1:\n",
        "            proba = proba[:, :self.n_classes_]\n",
        "            normalizer = proba.sum(axis=1)[:, np.newaxis]\n",
        "            normalizer[normalizer == 0.0] = 1.0\n",
        "            proba /= normalizer\n",
        "\n",
        "            return proba\n",
        "\n",
        "        else:\n",
        "            all_proba = []\n",
        "\n",
        "            for k in range(self.n_outputs_):\n",
        "                proba_k = proba[:, k, :self.n_classes_[k]]\n",
        "                normalizer = proba_k.sum(axis=1)[:, np.newaxis]\n",
        "                normalizer[normalizer == 0.0] = 1.0\n",
        "                proba_k /= normalizer\n",
        "                all_proba.append(proba_k)\n",
        "\n",
        "            return all_proba\n",
        "\n",
        "    def _generateProbabilisticPredictionFunction(self, alphaProbability):\n",
        "        '''\n",
        "        Private util function to generate probabilistic prediction function.\n",
        "        :param alphaProbability:\n",
        "        :type alphaProbability:\n",
        "        :return: function which accept single record\n",
        "        :rtype: function\n",
        "        '''\n",
        "        tree = self.tree_\n",
        "\n",
        "        def _traverse(sample, currNode):\n",
        "            '''\n",
        "            private function to traverse in the decision tree\n",
        "            :param sample: single record without the target variable\n",
        "            :type sample: pandas dataframe\n",
        "            :param currNode: index of the current node in the tree struct\n",
        "            :type currNode: int\n",
        "            :return: array of n-output of the classes, hold values for the record\n",
        "            :rtype: nd.array\n",
        "            '''\n",
        "            if tree.feature[currNode] != _tree.TREE_UNDEFINED:\n",
        "                randomProb = random()\n",
        "                sampleValue = sample[tree.feature[currNode]]\n",
        "                if sampleValue <= tree.threshold[currNode]:\n",
        "                    if (1 - alphaProbability) >= randomProb:\n",
        "                        return _traverse(sample, tree.children_left[currNode])\n",
        "                    else:\n",
        "                        return _traverse(sample, tree.children_right[currNode])\n",
        "                else:\n",
        "                    if (1 - alphaProbability) >= randomProb:\n",
        "                        return _traverse(sample, tree.children_right[currNode])\n",
        "                    else:\n",
        "                        return _traverse(sample, tree.children_left[currNode])\n",
        "            else:\n",
        "                value = tree.value[currNode]\n",
        "                return value\n",
        "\n",
        "        def _predict_single(sample):\n",
        "            '''\n",
        "            Util function to wrap the sample and the tree traverse for lazy use\n",
        "            :param sample:\n",
        "            :type sample:\n",
        "            :return: application of the traverse with the given sample and the root\n",
        "            :rtype:\n",
        "            '''\n",
        "            return _traverse(sample, 0)\n",
        "\n",
        "        return _predict_single\n",
        "\n",
        "\n",
        "class SoftSplitDecisionTreeRegressor(tree.DecisionTreeRegressor):\n",
        "    \"\"\"A decision tree regressor.\n",
        "\n",
        "    Read more in the :ref:`User Guide <tree>`.\n",
        "\n",
        "    Parameters\n",
        "    ----------\n",
        "    criterion : {\"mse\", \"friedman_mse\", \"mae\", \"poisson\"}, default=\"mse\"\n",
        "        The function to measure the quality of a split. Supported criteria\n",
        "        are \"mse\" for the mean squared error, which is equal to variance\n",
        "        reduction as feature selection criterion and minimizes the L2 loss\n",
        "        using the mean of each terminal node, \"friedman_mse\", which uses mean\n",
        "        squared error with Friedman's improvement score for potential splits,\n",
        "        \"mae\" for the mean absolute error, which minimizes the L1 loss using\n",
        "        the median of each terminal node, and \"poisson\" which uses reduction in\n",
        "        Poisson deviance to find splits.\n",
        "\n",
        "        .. versionadded:: 0.18\n",
        "           Mean Absolute Error (MAE) criterion.\n",
        "\n",
        "        .. versionadded:: 0.24\n",
        "            Poisson deviance criterion.\n",
        "\n",
        "    splitter : {\"best\", \"random\"}, default=\"best\"\n",
        "        The strategy used to choose the split at each node. Supported\n",
        "        strategies are \"best\" to choose the best split and \"random\" to choose\n",
        "        the best random split.\n",
        "\n",
        "    max_depth : int, default=None\n",
        "        The maximum depth of the tree. If None, then nodes are expanded until\n",
        "        all leaves are pure or until all leaves contain less than\n",
        "        min_samples_split samples.\n",
        "\n",
        "    min_samples_split : int or float, default=2\n",
        "        The minimum number of samples required to split an internal node:\n",
        "\n",
        "        - If int, then consider `min_samples_split` as the minimum number.\n",
        "        - If float, then `min_samples_split` is a fraction and\n",
        "          `ceil(min_samples_split * n_samples)` are the minimum\n",
        "          number of samples for each split.\n",
        "\n",
        "        .. versionchanged:: 0.18\n",
        "           Added float values for fractions.\n",
        "\n",
        "    min_samples_leaf : int or float, default=1\n",
        "        The minimum number of samples required to be at a leaf node.\n",
        "        A split point at any depth will only be considered if it leaves at\n",
        "        least ``min_samples_leaf`` training samples in each of the left and\n",
        "        right branches.  This may have the effect of smoothing the model,\n",
        "        especially in regression.\n",
        "\n",
        "        - If int, then consider `min_samples_leaf` as the minimum number.\n",
        "        - If float, then `min_samples_leaf` is a fraction and\n",
        "          `ceil(min_samples_leaf * n_samples)` are the minimum\n",
        "          number of samples for each node.\n",
        "\n",
        "        .. versionchanged:: 0.18\n",
        "           Added float values for fractions.\n",
        "\n",
        "    min_weight_fraction_leaf : float, default=0.0\n",
        "        The minimum weighted fraction of the sum total of weights (of all\n",
        "        the input samples) required to be at a leaf node. Samples have\n",
        "        equal weight when sample_weight is not provided.\n",
        "\n",
        "    max_features : int, float or {\"auto\", \"sqrt\", \"log2\"}, default=None\n",
        "        The number of features to consider when looking for the best split:\n",
        "\n",
        "        - If int, then consider `max_features` features at each split.\n",
        "        - If float, then `max_features` is a fraction and\n",
        "          `int(max_features * n_features)` features are considered at each\n",
        "          split.\n",
        "        - If \"auto\", then `max_features=n_features`.\n",
        "        - If \"sqrt\", then `max_features=sqrt(n_features)`.\n",
        "        - If \"log2\", then `max_features=log2(n_features)`.\n",
        "        - If None, then `max_features=n_features`.\n",
        "\n",
        "        Note: the search for a split does not stop until at least one\n",
        "        valid partition of the node samples is found, even if it requires to\n",
        "        effectively inspect more than ``max_features`` features.\n",
        "\n",
        "    random_state : int, RandomState instance or None, default=None\n",
        "        Controls the randomness of the estimator. The features are always\n",
        "        randomly permuted at each split, even if ``splitter`` is set to\n",
        "        ``\"best\"``. When ``max_features < n_features``, the algorithm will\n",
        "        select ``max_features`` at random at each split before finding the best\n",
        "        split among them. But the best found split may vary across different\n",
        "        runs, even if ``max_features=n_features``. That is the case, if the\n",
        "        improvement of the criterion is identical for several splits and one\n",
        "        split has to be selected at random. To obtain a deterministic behaviour\n",
        "        during fitting, ``random_state`` has to be fixed to an integer.\n",
        "        See :term:`Glossary <random_state>` for details.\n",
        "\n",
        "    max_leaf_nodes : int, default=None\n",
        "        Grow a tree with ``max_leaf_nodes`` in best-first fashion.\n",
        "        Best nodes are defined as relative reduction in impurity.\n",
        "        If None then unlimited number of leaf nodes.\n",
        "\n",
        "    min_impurity_decrease : float, default=0.0\n",
        "        A node will be split if this split induces a decrease of the impurity\n",
        "        greater than or equal to this value.\n",
        "\n",
        "        The weighted impurity decrease equation is the following::\n",
        "\n",
        "            N_t / N * (impurity - N_t_R / N_t * right_impurity\n",
        "                                - N_t_L / N_t * left_impurity)\n",
        "\n",
        "        where ``N`` is the total number of samples, ``N_t`` is the number of\n",
        "        samples at the current node, ``N_t_L`` is the number of samples in the\n",
        "        left child, and ``N_t_R`` is the number of samples in the right child.\n",
        "\n",
        "        ``N``, ``N_t``, ``N_t_R`` and ``N_t_L`` all refer to the weighted sum,\n",
        "        if ``sample_weight`` is passed.\n",
        "\n",
        "        .. versionadded:: 0.19\n",
        "\n",
        "    min_impurity_split : float, default=0\n",
        "        Threshold for early stopping in tree growth. A node will split\n",
        "        if its impurity is above the threshold, otherwise it is a leaf.\n",
        "\n",
        "        .. deprecated:: 0.19\n",
        "           ``min_impurity_split`` has been deprecated in favor of\n",
        "           ``min_impurity_decrease`` in 0.19. The default value of\n",
        "           ``min_impurity_split`` has changed from 1e-7 to 0 in 0.23 and it\n",
        "           will be removed in 1.0 (renaming of 0.25).\n",
        "           Use ``min_impurity_decrease`` instead.\n",
        "\n",
        "    ccp_alpha : non-negative float, default=0.0\n",
        "        Complexity parameter used for Minimal Cost-Complexity Pruning. The\n",
        "        subtree with the largest cost complexity that is smaller than\n",
        "        ``ccp_alpha`` will be chosen. By default, no pruning is performed. See\n",
        "        :ref:`minimal_cost_complexity_pruning` for details.\n",
        "\n",
        "        .. versionadded:: 0.22\n",
        "\n",
        "    Attributes\n",
        "    ----------\n",
        "    feature_importances_ : ndarray of shape (n_features,)\n",
        "        The feature importances.\n",
        "        The higher, the more important the feature.\n",
        "        The importance of a feature is computed as the\n",
        "        (normalized) total reduction of the criterion brought\n",
        "        by that feature. It is also known as the Gini importance [4]_.\n",
        "\n",
        "        Warning: impurity-based feature importances can be misleading for\n",
        "        high cardinality features (many unique values). See\n",
        "        :func:`sklearn.inspection.permutation_importance` as an alternative.\n",
        "\n",
        "    max_features_ : int\n",
        "        The inferred value of max_features.\n",
        "\n",
        "    n_features_ : int\n",
        "        The number of features when ``fit`` is performed.\n",
        "\n",
        "    n_outputs_ : int\n",
        "        The number of outputs when ``fit`` is performed.\n",
        "\n",
        "    tree_ : Tree instance\n",
        "        The underlying Tree object. Please refer to\n",
        "        ``help(sklearn.tree._tree.Tree)`` for attributes of Tree object and\n",
        "        :ref:`sphx_glr_auto_examples_tree_plot_unveil_tree_structure.py`\n",
        "        for basic usage of these attributes.\n",
        "\n",
        "    See Also\n",
        "    --------\n",
        "    DecisionTreeClassifier : A decision tree classifier.\n",
        "\n",
        "    Notes\n",
        "    -----\n",
        "    The default values for the parameters controlling the size of the trees\n",
        "    (e.g. ``max_depth``, ``min_samples_leaf``, etc.) lead to fully grown and\n",
        "    unpruned trees which can potentially be very large on some data sets. To\n",
        "    reduce memory consumption, the complexity and size of the trees should be\n",
        "    controlled by setting those parameter values.\n",
        "\n",
        "    References\n",
        "    ----------\n",
        "\n",
        "    .. [1] https://en.wikipedia.org/wiki/Decision_tree_learning\n",
        "\n",
        "    .. [2] L. Breiman, J. Friedman, R. Olshen, and C. Stone, \"Classification\n",
        "           and Regression Trees\", Wadsworth, Belmont, CA, 1984.\n",
        "\n",
        "    .. [3] T. Hastie, R. Tibshirani and J. Friedman. \"Elements of Statistical\n",
        "           Learning\", Springer, 2009.\n",
        "\n",
        "    .. [4] L. Breiman, and A. Cutler, \"Random Forests\",\n",
        "           https://www.stat.berkeley.edu/~breiman/RandomForests/cc_home.htm\n",
        "\n",
        "    Examples\n",
        "    --------\n",
        "    >>> from sklearn.datasets import load_diabetes\n",
        "    >>> from sklearn.model_selection import cross_val_score\n",
        "    >>> from sklearn.tree import DecisionTreeRegressor\n",
        "    >>> X, y = load_diabetes(return_X_y=True)\n",
        "    >>> regressor = DecisionTreeRegressor(random_state=0)\n",
        "    >>> cross_val_score(regressor, X, y, cv=10)\n",
        "    ...                    # doctest: +SKIP\n",
        "    ...\n",
        "    array([-0.39..., -0.46...,  0.02...,  0.06..., -0.50...,\n",
        "           0.16...,  0.11..., -0.73..., -0.30..., -0.00...])\n",
        "    \"\"\"\n",
        "\n",
        "    def __init__(self, *,n=100,\n",
        "                 alphaProbability=0.1,\n",
        "                 criterion=\"mse\",\n",
        "                 splitter=\"best\",\n",
        "                 max_depth=None,\n",
        "                 min_samples_split=2,\n",
        "                 min_samples_leaf=1,\n",
        "                 min_weight_fraction_leaf=0.,\n",
        "                 max_features=None,\n",
        "                 random_state=None,\n",
        "                 max_leaf_nodes=None,\n",
        "                 min_impurity_decrease=0.,\n",
        "                 min_impurity_split=None,\n",
        "                 ccp_alpha=0.0):\n",
        "        super().__init__(\n",
        "            criterion=criterion,\n",
        "            splitter=splitter,\n",
        "            max_depth=max_depth,\n",
        "            min_samples_split=min_samples_split,\n",
        "            min_samples_leaf=min_samples_leaf,\n",
        "            min_weight_fraction_leaf=min_weight_fraction_leaf,\n",
        "            max_features=max_features,\n",
        "            max_leaf_nodes=max_leaf_nodes,\n",
        "            random_state=random_state,\n",
        "            min_impurity_decrease=min_impurity_decrease,\n",
        "            min_impurity_split=min_impurity_split,\n",
        "            ccp_alpha=ccp_alpha)\n",
        "        self.n=n\n",
        "        self.alphaProbability=alphaProbability\n",
        "\n",
        "    def predict(self, X, check_input=True):\n",
        "        \"\"\"Predict class or regression value for X.\n",
        "\n",
        "            For a classification model, the predicted class for each sample in X is\n",
        "            returned. For a regression model, the predicted value based on X is\n",
        "            returned.\n",
        "\n",
        "            Parameters\n",
        "            ----------\n",
        "            X : {array-like, sparse matrix} of shape (n_samples, n_features)\n",
        "                The input samples. Internally, it will be converted to\n",
        "                ``dtype=np.float32`` and if a sparse matrix is provided\n",
        "                to a sparse ``csr_matrix``.\n",
        "\n",
        "            alphaProbability : double, default=0 probability to choose the opposite decision path.\n",
        "\n",
        "            check_input : bool, default=True\n",
        "                Allow to bypass several input checking.\n",
        "                Don't use this parameter unless you know what you do.\n",
        "\n",
        "            Returns\n",
        "            -------\n",
        "            y : array-like of shape (n_samples,) or (n_samples, n_outputs)\n",
        "                The predicted classes, or the predict values.\n",
        "            \"\"\"\n",
        "        check_is_fitted(self)\n",
        "        X = self._validate_X_predict(X, check_input)\n",
        "        probabilisticPredictionFunction = self._generateProbabilisticPredictionFunction(self.alphaProbability)\n",
        "        probaList = [self.predictWrapper(row,probabilisticPredictionFunction) for row in X]\n",
        "        proba = np.concatenate(probaList, axis=0)\n",
        "\n",
        "        # Regression\n",
        "        if self.n_outputs_ == 1:\n",
        "            return proba[:, 0]\n",
        "\n",
        "        else:\n",
        "            return proba[:, :, 0]\n",
        "\n",
        "    def _generateProbabilisticPredictionFunction(self, alphaProbability):\n",
        "        '''\n",
        "        Private util function to generate probabilistic prediction function.\n",
        "        :param alphaProbability:\n",
        "        :type alphaProbability:\n",
        "        :return: function which accept single record\n",
        "        :rtype: function\n",
        "        '''\n",
        "        tree = self.tree_\n",
        "\n",
        "        def _traverse(sample, currNode):\n",
        "            '''\n",
        "            private function to traverse in the decision tree\n",
        "            :param sample: single record without the target variable\n",
        "            :type sample: pandas dataframe\n",
        "            :param currNode: index of the current node in the tree struct\n",
        "            :type currNode: int\n",
        "            :return: array of n-output of the classes, hold values for the record\n",
        "            :rtype: nd.array\n",
        "            '''\n",
        "            if tree.feature[currNode] != _tree.TREE_UNDEFINED:\n",
        "                randomProb = random()\n",
        "                sampleValue = sample[tree.feature[currNode]]\n",
        "                if sampleValue <= tree.threshold[currNode]:\n",
        "                    if (1 - alphaProbability) >= randomProb:\n",
        "                        return _traverse(sample, tree.children_left[currNode])\n",
        "                    else:\n",
        "                        return _traverse(sample, tree.children_right[currNode])\n",
        "                else:\n",
        "                    if (1 - alphaProbability) >= randomProb:\n",
        "                        return _traverse(sample, tree.children_right[currNode])\n",
        "                    else:\n",
        "                        return _traverse(sample, tree.children_left[currNode])\n",
        "            else:\n",
        "                value = tree.value[currNode]\n",
        "                return value\n",
        "\n",
        "        def _predict_single(sample):\n",
        "            '''\n",
        "            Util function to wrap the sample and the tree traverse for lazy use\n",
        "            :param sample:\n",
        "            :type sample:\n",
        "            :return: application of the traverse with the given sample and the root\n",
        "            :rtype:\n",
        "            '''\n",
        "            return _traverse(sample, 0)\n",
        "\n",
        "        return _predict_single\n",
        "\n",
        "    def predictWrapper(self, row, predictionFunction):\n",
        "        '''\n",
        "        Function to wrap the single prediction process, the function will\n",
        "        run the prediction for n iteration\n",
        "        :param X:\n",
        "        :type X:\n",
        "        :param n:\n",
        "        :type n:\n",
        "        :param alphaProbability:\n",
        "        :type alphaProbability:\n",
        "        :return:\n",
        "        :rtype:\n",
        "        '''\n",
        "        predictions = np.array([predictionFunction(row) for i in range(self.n)])\n",
        "        avgPredictions = np.array([np.array([val for val in i]) for i in predictions.mean(0)])\n",
        "        return avgPredictions\n"
      ]
    },
    {
      "cell_type": "code",
      "execution_count": 3,
      "metadata": {
        "collapsed": false
      },
      "outputs": [],
      "source": [
        "# General imports\n",
        "import pandas as pd\n",
        "import numpy as np\n",
        "from sklearn.ensemble import RandomForestClassifier\n",
        "from sklearn.model_selection import train_test_split\n",
        "\n",
        "wineQualityDataset = pd.read_csv('../datasets/classification/wineQuality.csv')\n",
        "\n",
        "wineQualityDataset=wineQualityDataset[wineQualityDataset['chlorides'] < wineQualityDataset['chlorides'].quantile(0.95)]\n",
        "wineQualityDataset=wineQualityDataset[wineQualityDataset['free sulfur dioxide'] < wineQualityDataset['free sulfur dioxide'].quantile(0.95)]\n",
        "wineQualityDataset=wineQualityDataset[wineQualityDataset['total sulfur dioxide'] < wineQualityDataset['total sulfur dioxide'].quantile(0.95)]\n",
        "wineQualityDataset=wineQualityDataset[wineQualityDataset['residual sugar'] < wineQualityDataset['residual sugar'].quantile(0.95)]\n",
        "wineQualityDataset=wineQualityDataset[wineQualityDataset['sulphates'] < wineQualityDataset['sulphates'].quantile(0.95)]\n",
        "wineQualityDataset['quality'].mask(wineQualityDataset['quality'] <= 5, 0, inplace=True)\n",
        "wineQualityDataset['quality'].mask(wineQualityDataset['quality'] > 5, 1, inplace=True)\n",
        "wineQualityDataset['quality'].mask(wineQualityDataset['quality'] == 0, 'Low', inplace=True)\n",
        "wineQualityDataset['quality'].mask(wineQualityDataset['quality'] == 1, 'High', inplace=True)\n",
        "\n",
        "\n",
        "# Load Data\n",
        "wine_df = wineQualityDataset\n",
        "label_col = 'quality'\n",
        "df_train, df_test = train_test_split(wine_df, stratify=wine_df[label_col], random_state=0)\n",
        "\n",
        "# Train Model\n",
        "rf_clf = SoftSplitDecisionTreeClassifier()\n",
        "rf_clf.fit(df_train.drop(label_col, axis=1), df_train[label_col]);"
      ]
    },
    {
      "cell_type": "markdown",
      "metadata": {},
      "source": [
        "Define a Dataset Object\n",
        "=======================\n",
        "\n",
        "Initialize the Dataset object, stating the relevant metadata about the\n",
        "dataset (e.g. the name for the label column)\n",
        "\n",
        "Check out the Dataset\\'s attributes to see which additional special\n",
        "columns can be declared and used (e.g. date column, index column).\n"
      ]
    },
    {
      "cell_type": "code",
      "execution_count": 4,
      "metadata": {
        "collapsed": false
      },
      "outputs": [],
      "source": [
        "from deepchecks.tabular import Dataset\n",
        "\n",
        "# We explicitly state that this dataset has no categorical features, otherwise they will be automatically inferred\n",
        "# If the dataset has categorical features, the best practice is to pass a list with their names\n",
        "\n",
        "ds_train = Dataset(df_train, label=label_col, cat_features=[])\n",
        "ds_test =  Dataset(df_test,  label=label_col, cat_features=[])"
      ]
    },
    {
      "cell_type": "code",
      "execution_count": 5,
      "metadata": {
        "collapsed": false
      },
      "outputs": [],
      "source": [
        "from deepchecks.tabular.suites import full_suite\n",
        "\n",
        "suite = full_suite()"
      ]
    },
    {
      "cell_type": "code",
      "execution_count": 6,
      "metadata": {
        "collapsed": false
      },
      "outputs": [
        {
          "name": "stdout",
          "output_type": "stream",
          "text": [
            "Full Suite:   6%|██                                 | 2/35 [00:00<00:03,  9.05 Check/s, Check=Confusion Matrix Report]"
          ]
        },
        {
          "name": "stderr",
          "output_type": "stream",
          "text": [
            "/Users/eshmueli/Library/Python/3.8/lib/python/site-packages/sklearn/base.py:450: UserWarning:\n",
            "\n",
            "X does not have valid feature names, but SoftSplitDecisionTreeClassifier was fitted with feature names\n",
            "\n",
            "/Users/eshmueli/Library/Python/3.8/lib/python/site-packages/sklearn/base.py:450: UserWarning:\n",
            "\n",
            "X does not have valid feature names, but SoftSplitDecisionTreeClassifier was fitted with feature names\n",
            "\n",
            "/Users/eshmueli/Library/Python/3.8/lib/python/site-packages/sklearn/base.py:450: UserWarning:\n",
            "\n",
            "X does not have valid feature names, but SoftSplitDecisionTreeClassifier was fitted with feature names\n",
            "\n",
            "/Users/eshmueli/Library/Python/3.8/lib/python/site-packages/sklearn/base.py:450: UserWarning:\n",
            "\n",
            "X does not have valid feature names, but SoftSplitDecisionTreeClassifier was fitted with feature names\n",
            "\n"
          ]
        },
        {
          "name": "stdout",
          "output_type": "stream",
          "text": [
            "Full Suite:   9%|███                                | 3/35 [00:03<00:38,  1.22s/ Check, Check=Performance Report]     "
          ]
        },
        {
          "name": "stderr",
          "output_type": "stream",
          "text": [
            "/Users/eshmueli/Library/Python/3.8/lib/python/site-packages/sklearn/base.py:450: UserWarning:\n",
            "\n",
            "X does not have valid feature names, but SoftSplitDecisionTreeClassifier was fitted with feature names\n",
            "\n",
            "/Users/eshmueli/Library/Python/3.8/lib/python/site-packages/sklearn/base.py:450: UserWarning:\n",
            "\n",
            "X does not have valid feature names, but SoftSplitDecisionTreeClassifier was fitted with feature names\n",
            "\n",
            "/Users/eshmueli/Library/Python/3.8/lib/python/site-packages/sklearn/base.py:450: UserWarning:\n",
            "\n",
            "X does not have valid feature names, but SoftSplitDecisionTreeClassifier was fitted with feature names\n",
            "\n",
            "/Users/eshmueli/Library/Python/3.8/lib/python/site-packages/sklearn/base.py:450: UserWarning:\n",
            "\n",
            "X does not have valid feature names, but SoftSplitDecisionTreeClassifier was fitted with feature names\n",
            "\n",
            "/Users/eshmueli/Library/Python/3.8/lib/python/site-packages/sklearn/base.py:450: UserWarning:\n",
            "\n",
            "X does not have valid feature names, but SoftSplitDecisionTreeClassifier was fitted with feature names\n",
            "\n",
            "/Users/eshmueli/Library/Python/3.8/lib/python/site-packages/sklearn/base.py:450: UserWarning:\n",
            "\n",
            "X does not have valid feature names, but SoftSplitDecisionTreeClassifier was fitted with feature names\n",
            "\n",
            "/Users/eshmueli/Library/Python/3.8/lib/python/site-packages/sklearn/base.py:450: UserWarning:\n",
            "\n",
            "X does not have valid feature names, but SoftSplitDecisionTreeClassifier was fitted with feature names\n",
            "\n",
            "/Users/eshmueli/Library/Python/3.8/lib/python/site-packages/sklearn/base.py:450: UserWarning:\n",
            "\n",
            "X does not have valid feature names, but SoftSplitDecisionTreeClassifier was fitted with feature names\n",
            "\n",
            "/Users/eshmueli/Library/Python/3.8/lib/python/site-packages/sklearn/base.py:450: UserWarning:\n",
            "\n",
            "X does not have valid feature names, but SoftSplitDecisionTreeClassifier was fitted with feature names\n",
            "\n"
          ]
        },
        {
          "name": "stdout",
          "output_type": "stream",
          "text": [
            "Full Suite:  14%|█████                              | 5/35 [00:14<01:44,  3.49s/ Check, Check=Simple Model Comparison]"
          ]
        },
        {
          "name": "stderr",
          "output_type": "stream",
          "text": [
            "/Users/eshmueli/Library/Python/3.8/lib/python/site-packages/sklearn/base.py:450: UserWarning:\n",
            "\n",
            "X does not have valid feature names, but SoftSplitDecisionTreeClassifier was fitted with feature names\n",
            "\n",
            "/Users/eshmueli/Library/Python/3.8/lib/python/site-packages/sklearn/base.py:450: UserWarning:\n",
            "\n",
            "X does not have valid feature names, but SoftSplitDecisionTreeClassifier was fitted with feature names\n",
            "\n"
          ]
        },
        {
          "name": "stdout",
          "output_type": "stream",
          "text": [
            "Full Suite:  17%|██████                             | 6/35 [00:15<01:15,  2.62s/ Check, Check=Model Error Analysis]   "
          ]
        },
        {
          "name": "stderr",
          "output_type": "stream",
          "text": [
            "/Users/eshmueli/Library/Python/3.8/lib/python/site-packages/sklearn/base.py:450: UserWarning:\n",
            "\n",
            "X does not have valid feature names, but SoftSplitDecisionTreeClassifier was fitted with feature names\n",
            "\n"
          ]
        },
        {
          "name": "stdout",
          "output_type": "stream",
          "text": [
            "Full Suite:  34%|████████████                       | 12/35 [00:21<01:03,  2.75s/ Check, Check=Model Inference Time]        "
          ]
        },
        {
          "name": "stderr",
          "output_type": "stream",
          "text": [
            "/Users/eshmueli/Library/Python/3.8/lib/python/site-packages/sklearn/base.py:450: UserWarning:\n",
            "\n",
            "X does not have valid feature names, but SoftSplitDecisionTreeClassifier was fitted with feature names\n",
            "\n",
            "/Users/eshmueli/Library/Python/3.8/lib/python/site-packages/sklearn/base.py:450: UserWarning:\n",
            "\n",
            "X does not have valid feature names, but SoftSplitDecisionTreeClassifier was fitted with feature names\n",
            "\n",
            "/Users/eshmueli/Library/Python/3.8/lib/python/site-packages/sklearn/base.py:450: UserWarning:\n",
            "\n",
            "X does not have valid feature names, but SoftSplitDecisionTreeClassifier was fitted with feature names\n",
            "\n"
          ]
        },
        {
          "name": "stdout",
          "output_type": "stream",
          "text": [
            "                                                                                                                                      \r"
          ]
        },
        {
          "data": {
            "text/html": [
              "<hr style=\"background-color: black;border: 0 none;color: black;height: 1px;\">\n",
              "        <h1 id=\"summary_DETA7\">Full Suite</h1>\n",
              "        <p>\n",
              "            The suite is composed of various checks such as: Category Mismatch Train Test, Unused Features, Performance Report, etc...<br>\n",
              "            Each check may contain conditions (which will result in pass / fail / warning / error\n",
              "            , represented by \n",
              "    <span style=\"color: green;display:inline-block\">✓</span> /\n",
              "    <span style=\"color: red;display:inline-block\">✖</span> /\n",
              "    <span style=\"color: orange;font-weight:bold;display:inline-block\">!</span> /\n",
              "    <span style=\"color: firebrick;font-weight:bold;display:inline-block\">⁈</span>\n",
              "    ) as well as other outputs such as plots or tables.<br>\n",
              "            Suites, checks and conditions can all be modified. Read more about\n",
              "            <a href=https://docs.deepchecks.com/en/stable/examples/guides/create_a_custom_suite.html?utm_source=display_output&utm_medium=referral&utm_campaign=suite_link target=\"_blank\">custom suites</a>.\n",
              "        </p>\n",
              "        "
            ]
          },
          "metadata": {},
          "output_type": "display_data"
        },
        {
          "data": {
            "text/html": [
              "<h2>Conditions Summary</h2><style type=\"text/css\">\n",
              "#T_6e192 table {\n",
              "  text-align: left;\n",
              "  white-space: pre-wrap;\n",
              "}\n",
              "#T_6e192 thead {\n",
              "  text-align: left;\n",
              "  white-space: pre-wrap;\n",
              "}\n",
              "#T_6e192 tbody {\n",
              "  text-align: left;\n",
              "  white-space: pre-wrap;\n",
              "}\n",
              "#T_6e192 th {\n",
              "  text-align: left;\n",
              "  white-space: pre-wrap;\n",
              "}\n",
              "#T_6e192 td {\n",
              "  text-align: left;\n",
              "  white-space: pre-wrap;\n",
              "}\n",
              "</style>\n",
              "<table id=\"T_6e192\">\n",
              "  <thead>\n",
              "    <tr>\n",
              "      <th id=\"T_6e192_level0_col0\" class=\"col_heading level0 col0\" >Status</th>\n",
              "      <th id=\"T_6e192_level0_col1\" class=\"col_heading level0 col1\" >Check</th>\n",
              "      <th id=\"T_6e192_level0_col2\" class=\"col_heading level0 col2\" >Condition</th>\n",
              "      <th id=\"T_6e192_level0_col3\" class=\"col_heading level0 col3\" >More Info</th>\n",
              "    </tr>\n",
              "  </thead>\n",
              "  <tbody>\n",
              "    <tr>\n",
              "      <td id=\"T_6e192_row0_col0\" class=\"data row0 col0\" ><div style=\"color: red;text-align: center\">✖</div></td>\n",
              "      <td id=\"T_6e192_row0_col1\" class=\"data row0 col1\" ><a href=#PerformanceReport_DETA7>Performance Report</a></td>\n",
              "      <td id=\"T_6e192_row0_col2\" class=\"data row0 col2\" >Train-Test scores relative degradation is not greater than 0.1</td>\n",
              "      <td id=\"T_6e192_row0_col3\" class=\"data row0 col3\" >F1 for class High (train=0.89 test=0.75)\n",
              "Precision for class High (train=0.91 test=0.73)\n",
              "Recall for class High (train=0.9 test=0.78)\n",
              "F1 for class Low (train=0.86 test=0.68)\n",
              "Precision for class Low (train=0.89 test=0.67)\n",
              "Recall for class Low (train=0.87 test=0.67)</td>\n",
              "    </tr>\n",
              "    <tr>\n",
              "      <td id=\"T_6e192_row1_col0\" class=\"data row1 col0\" ><div style=\"color: red;text-align: center\">✖</div></td>\n",
              "      <td id=\"T_6e192_row1_col1\" class=\"data row1 col1\" ><a href=#SingleFeatureContributionTrain-Test_DETA7>Single Feature Contribution Train-Test</a></td>\n",
              "      <td id=\"T_6e192_row1_col2\" class=\"data row1 col2\" >Train-Test features' Predictive Power Score difference is not greater than 0.2</td>\n",
              "      <td id=\"T_6e192_row1_col3\" class=\"data row1 col3\" >Features with PPS difference above threshold: {'alcohol': '0.22'}</td>\n",
              "    </tr>\n",
              "    <tr>\n",
              "      <td id=\"T_6e192_row2_col0\" class=\"data row2 col0\" ><div style=\"color: red;text-align: center\">✖</div></td>\n",
              "      <td id=\"T_6e192_row2_col1\" class=\"data row2 col1\" ><a href=#SimpleModelComparison_DETA7>Simple Model Comparison</a></td>\n",
              "      <td id=\"T_6e192_row2_col2\" class=\"data row2 col2\" >Model performance gain over simple model is not less than 10%</td>\n",
              "      <td id=\"T_6e192_row2_col3\" class=\"data row2 col3\" >Found metrics with gain below threshold: {'F1': {'High': '4.63%'}}</td>\n",
              "    </tr>\n",
              "    <tr>\n",
              "      <td id=\"T_6e192_row3_col0\" class=\"data row3 col0\" ><div style=\"color: red;text-align: center\">✖</div></td>\n",
              "      <td id=\"T_6e192_row3_col1\" class=\"data row3 col1\" ><a href=#ModelInferenceTime-TrainDataset_DETA7>Model Inference Time - Train Dataset</a></td>\n",
              "      <td id=\"T_6e192_row3_col2\" class=\"data row3 col2\" >Average model inference time for one sample is not greater than 0.001</td>\n",
              "      <td id=\"T_6e192_row3_col3\" class=\"data row3 col3\" >Found average inference time (in seconds) above threshold: 0.00334447</td>\n",
              "    </tr>\n",
              "    <tr>\n",
              "      <td id=\"T_6e192_row4_col0\" class=\"data row4 col0\" ><div style=\"color: red;text-align: center\">✖</div></td>\n",
              "      <td id=\"T_6e192_row4_col1\" class=\"data row4 col1\" ><a href=#ModelInferenceTime-TestDataset_DETA7>Model Inference Time - Test Dataset</a></td>\n",
              "      <td id=\"T_6e192_row4_col2\" class=\"data row4 col2\" >Average model inference time for one sample is not greater than 0.001</td>\n",
              "      <td id=\"T_6e192_row4_col3\" class=\"data row4 col3\" >Found average inference time (in seconds) above threshold: 0.00319201</td>\n",
              "    </tr>\n",
              "    <tr>\n",
              "      <td id=\"T_6e192_row5_col0\" class=\"data row5 col0\" ><div style=\"color: green;text-align: center\">✓</div></td>\n",
              "      <td id=\"T_6e192_row5_col1\" class=\"data row5 col1\" ><a href=#DatasetsSizeComparison_DETA7>Datasets Size Comparison</a></td>\n",
              "      <td id=\"T_6e192_row5_col2\" class=\"data row5 col2\" >Test-Train size ratio is not smaller than 0.01</td>\n",
              "      <td id=\"T_6e192_row5_col3\" class=\"data row5 col3\" ></td>\n",
              "    </tr>\n",
              "    <tr>\n",
              "      <td id=\"T_6e192_row6_col0\" class=\"data row6 col0\" ><div style=\"color: green;text-align: center\">✓</div></td>\n",
              "      <td id=\"T_6e192_row6_col1\" class=\"data row6 col1\" ><a href=#WholeDatasetDrift_DETA7>Whole Dataset Drift</a></td>\n",
              "      <td id=\"T_6e192_row6_col2\" class=\"data row6 col2\" >Drift value is not greater than 0.25</td>\n",
              "      <td id=\"T_6e192_row6_col3\" class=\"data row6 col3\" ></td>\n",
              "    </tr>\n",
              "    <tr>\n",
              "      <td id=\"T_6e192_row7_col0\" class=\"data row7 col0\" ><div style=\"color: green;text-align: center\">✓</div></td>\n",
              "      <td id=\"T_6e192_row7_col1\" class=\"data row7 col1\" ><a href=#TrainTestLabelDrift_DETA7>Train Test Label Drift</a></td>\n",
              "      <td id=\"T_6e192_row7_col2\" class=\"data row7 col2\" >PSI <= 0.2 and Earth Mover's Distance <= 0.1 for label drift</td>\n",
              "      <td id=\"T_6e192_row7_col3\" class=\"data row7 col3\" ></td>\n",
              "    </tr>\n",
              "    <tr>\n",
              "      <td id=\"T_6e192_row8_col0\" class=\"data row8 col0\" ><div style=\"color: green;text-align: center\">✓</div></td>\n",
              "      <td id=\"T_6e192_row8_col1\" class=\"data row8 col1\" ><a href=#SingleFeatureContributionTrain-Test_DETA7>Single Feature Contribution Train-Test</a></td>\n",
              "      <td id=\"T_6e192_row8_col2\" class=\"data row8 col2\" >Train features' Predictive Power Score is not greater than 0.7</td>\n",
              "      <td id=\"T_6e192_row8_col3\" class=\"data row8 col3\" ></td>\n",
              "    </tr>\n",
              "    <tr>\n",
              "      <td id=\"T_6e192_row9_col0\" class=\"data row9 col0\" ><div style=\"color: green;text-align: center\">✓</div></td>\n",
              "      <td id=\"T_6e192_row9_col1\" class=\"data row9 col1\" ><a href=#ROCReport-TestDataset_DETA7>ROC Report - Test Dataset</a></td>\n",
              "      <td id=\"T_6e192_row9_col2\" class=\"data row9 col2\" >AUC score for all the classes is not less than 0.7</td>\n",
              "      <td id=\"T_6e192_row9_col3\" class=\"data row9 col3\" ></td>\n",
              "    </tr>\n",
              "    <tr>\n",
              "      <td id=\"T_6e192_row10_col0\" class=\"data row10 col0\" ><div style=\"color: green;text-align: center\">✓</div></td>\n",
              "      <td id=\"T_6e192_row10_col1\" class=\"data row10 col1\" ><a href=#ROCReport-TrainDataset_DETA7>ROC Report - Train Dataset</a></td>\n",
              "      <td id=\"T_6e192_row10_col2\" class=\"data row10 col2\" >AUC score for all the classes is not less than 0.7</td>\n",
              "      <td id=\"T_6e192_row10_col3\" class=\"data row10 col3\" ></td>\n",
              "    </tr>\n",
              "    <tr>\n",
              "      <td id=\"T_6e192_row11_col0\" class=\"data row11 col0\" ><div style=\"color: green;text-align: center\">✓</div></td>\n",
              "      <td id=\"T_6e192_row11_col1\" class=\"data row11 col1\" ><a href=#TrainTestDrift_DETA7>Train Test Drift</a></td>\n",
              "      <td id=\"T_6e192_row11_col2\" class=\"data row11 col2\" >PSI <= 0.2 and Earth Mover's Distance <= 0.1</td>\n",
              "      <td id=\"T_6e192_row11_col3\" class=\"data row11 col3\" ></td>\n",
              "    </tr>\n",
              "    <tr>\n",
              "      <td id=\"T_6e192_row12_col0\" class=\"data row12 col0\" ><div style=\"color: green;text-align: center\">✓</div></td>\n",
              "      <td id=\"T_6e192_row12_col1\" class=\"data row12 col1\" >Unused Features</td>\n",
              "      <td id=\"T_6e192_row12_col2\" class=\"data row12 col2\" >Number of high variance unused features is not greater than 5</td>\n",
              "      <td id=\"T_6e192_row12_col3\" class=\"data row12 col3\" ></td>\n",
              "    </tr>\n",
              "    <tr>\n",
              "      <td id=\"T_6e192_row13_col0\" class=\"data row13 col0\" ><div style=\"color: green;text-align: center\">✓</div></td>\n",
              "      <td id=\"T_6e192_row13_col1\" class=\"data row13 col1\" >Special Characters - Test Dataset</td>\n",
              "      <td id=\"T_6e192_row13_col2\" class=\"data row13 col2\" >Ratio of entirely special character samples not greater than 0.1%</td>\n",
              "      <td id=\"T_6e192_row13_col3\" class=\"data row13 col3\" ></td>\n",
              "    </tr>\n",
              "    <tr>\n",
              "      <td id=\"T_6e192_row14_col0\" class=\"data row14 col0\" ><div style=\"color: green;text-align: center\">✓</div></td>\n",
              "      <td id=\"T_6e192_row14_col1\" class=\"data row14 col1\" >Special Characters - Train Dataset</td>\n",
              "      <td id=\"T_6e192_row14_col2\" class=\"data row14 col2\" >Ratio of entirely special character samples not greater than 0.1%</td>\n",
              "      <td id=\"T_6e192_row14_col3\" class=\"data row14 col3\" ></td>\n",
              "    </tr>\n",
              "    <tr>\n",
              "      <td id=\"T_6e192_row15_col0\" class=\"data row15 col0\" ><div style=\"color: green;text-align: center\">✓</div></td>\n",
              "      <td id=\"T_6e192_row15_col1\" class=\"data row15 col1\" >String Length Out Of Bounds - Test Dataset</td>\n",
              "      <td id=\"T_6e192_row15_col2\" class=\"data row15 col2\" >Ratio of outliers not greater than 0% string length outliers</td>\n",
              "      <td id=\"T_6e192_row15_col3\" class=\"data row15 col3\" ></td>\n",
              "    </tr>\n",
              "    <tr>\n",
              "      <td id=\"T_6e192_row16_col0\" class=\"data row16 col0\" ><div style=\"color: green;text-align: center\">✓</div></td>\n",
              "      <td id=\"T_6e192_row16_col1\" class=\"data row16 col1\" >String Length Out Of Bounds - Train Dataset</td>\n",
              "      <td id=\"T_6e192_row16_col2\" class=\"data row16 col2\" >Ratio of outliers not greater than 0% string length outliers</td>\n",
              "      <td id=\"T_6e192_row16_col3\" class=\"data row16 col3\" ></td>\n",
              "    </tr>\n",
              "    <tr>\n",
              "      <td id=\"T_6e192_row17_col0\" class=\"data row17 col0\" ><div style=\"color: green;text-align: center\">✓</div></td>\n",
              "      <td id=\"T_6e192_row17_col1\" class=\"data row17 col1\" >Data Duplicates - Test Dataset</td>\n",
              "      <td id=\"T_6e192_row17_col2\" class=\"data row17 col2\" >Duplicate data ratio is not greater than 0%</td>\n",
              "      <td id=\"T_6e192_row17_col3\" class=\"data row17 col3\" ></td>\n",
              "    </tr>\n",
              "    <tr>\n",
              "      <td id=\"T_6e192_row18_col0\" class=\"data row18 col0\" ><div style=\"color: green;text-align: center\">✓</div></td>\n",
              "      <td id=\"T_6e192_row18_col1\" class=\"data row18 col1\" >Data Duplicates - Train Dataset</td>\n",
              "      <td id=\"T_6e192_row18_col2\" class=\"data row18 col2\" >Duplicate data ratio is not greater than 0%</td>\n",
              "      <td id=\"T_6e192_row18_col3\" class=\"data row18 col3\" ></td>\n",
              "    </tr>\n",
              "    <tr>\n",
              "      <td id=\"T_6e192_row19_col0\" class=\"data row19 col0\" ><div style=\"color: green;text-align: center\">✓</div></td>\n",
              "      <td id=\"T_6e192_row19_col1\" class=\"data row19 col1\" >String Mismatch - Test Dataset</td>\n",
              "      <td id=\"T_6e192_row19_col2\" class=\"data row19 col2\" >No string variants</td>\n",
              "      <td id=\"T_6e192_row19_col3\" class=\"data row19 col3\" ></td>\n",
              "    </tr>\n",
              "    <tr>\n",
              "      <td id=\"T_6e192_row20_col0\" class=\"data row20 col0\" ><div style=\"color: green;text-align: center\">✓</div></td>\n",
              "      <td id=\"T_6e192_row20_col1\" class=\"data row20 col1\" >String Mismatch - Train Dataset</td>\n",
              "      <td id=\"T_6e192_row20_col2\" class=\"data row20 col2\" >No string variants</td>\n",
              "      <td id=\"T_6e192_row20_col3\" class=\"data row20 col3\" ></td>\n",
              "    </tr>\n",
              "    <tr>\n",
              "      <td id=\"T_6e192_row21_col0\" class=\"data row21 col0\" ><div style=\"color: green;text-align: center\">✓</div></td>\n",
              "      <td id=\"T_6e192_row21_col1\" class=\"data row21 col1\" >Mixed Data Types - Test Dataset</td>\n",
              "      <td id=\"T_6e192_row21_col2\" class=\"data row21 col2\" >Rare data types in column are either more than 10% or less than 1% of the data</td>\n",
              "      <td id=\"T_6e192_row21_col3\" class=\"data row21 col3\" ></td>\n",
              "    </tr>\n",
              "    <tr>\n",
              "      <td id=\"T_6e192_row22_col0\" class=\"data row22 col0\" ><div style=\"color: green;text-align: center\">✓</div></td>\n",
              "      <td id=\"T_6e192_row22_col1\" class=\"data row22 col1\" >Mixed Nulls - Test Dataset</td>\n",
              "      <td id=\"T_6e192_row22_col2\" class=\"data row22 col2\" >Not more than 1 different null types</td>\n",
              "      <td id=\"T_6e192_row22_col3\" class=\"data row22 col3\" ></td>\n",
              "    </tr>\n",
              "    <tr>\n",
              "      <td id=\"T_6e192_row23_col0\" class=\"data row23 col0\" ><div style=\"color: green;text-align: center\">✓</div></td>\n",
              "      <td id=\"T_6e192_row23_col1\" class=\"data row23 col1\" >Mixed Nulls - Train Dataset</td>\n",
              "      <td id=\"T_6e192_row23_col2\" class=\"data row23 col2\" >Not more than 1 different null types</td>\n",
              "      <td id=\"T_6e192_row23_col3\" class=\"data row23 col3\" ></td>\n",
              "    </tr>\n",
              "    <tr>\n",
              "      <td id=\"T_6e192_row24_col0\" class=\"data row24 col0\" ><div style=\"color: green;text-align: center\">✓</div></td>\n",
              "      <td id=\"T_6e192_row24_col1\" class=\"data row24 col1\" >Single Value in Column - Test Dataset</td>\n",
              "      <td id=\"T_6e192_row24_col2\" class=\"data row24 col2\" >Does not contain only a single value</td>\n",
              "      <td id=\"T_6e192_row24_col3\" class=\"data row24 col3\" ></td>\n",
              "    </tr>\n",
              "    <tr>\n",
              "      <td id=\"T_6e192_row25_col0\" class=\"data row25 col0\" ><div style=\"color: green;text-align: center\">✓</div></td>\n",
              "      <td id=\"T_6e192_row25_col1\" class=\"data row25 col1\" >Single Value in Column - Train Dataset</td>\n",
              "      <td id=\"T_6e192_row25_col2\" class=\"data row25 col2\" >Does not contain only a single value</td>\n",
              "      <td id=\"T_6e192_row25_col3\" class=\"data row25 col3\" ></td>\n",
              "    </tr>\n",
              "    <tr>\n",
              "      <td id=\"T_6e192_row26_col0\" class=\"data row26 col0\" ><div style=\"color: green;text-align: center\">✓</div></td>\n",
              "      <td id=\"T_6e192_row26_col1\" class=\"data row26 col1\" >Train Test Samples Mix</td>\n",
              "      <td id=\"T_6e192_row26_col2\" class=\"data row26 col2\" >Percentage of test data samples that appear in train data not greater than 10%</td>\n",
              "      <td id=\"T_6e192_row26_col3\" class=\"data row26 col3\" ></td>\n",
              "    </tr>\n",
              "    <tr>\n",
              "      <td id=\"T_6e192_row27_col0\" class=\"data row27 col0\" ><div style=\"color: green;text-align: center\">✓</div></td>\n",
              "      <td id=\"T_6e192_row27_col1\" class=\"data row27 col1\" >Label Ambiguity - Train Dataset</td>\n",
              "      <td id=\"T_6e192_row27_col2\" class=\"data row27 col2\" >Ambiguous sample ratio is not greater than 0%</td>\n",
              "      <td id=\"T_6e192_row27_col3\" class=\"data row27 col3\" ></td>\n",
              "    </tr>\n",
              "    <tr>\n",
              "      <td id=\"T_6e192_row28_col0\" class=\"data row28 col0\" ><div style=\"color: green;text-align: center\">✓</div></td>\n",
              "      <td id=\"T_6e192_row28_col1\" class=\"data row28 col1\" >String Mismatch Comparison</td>\n",
              "      <td id=\"T_6e192_row28_col2\" class=\"data row28 col2\" >No new variants allowed in test data</td>\n",
              "      <td id=\"T_6e192_row28_col3\" class=\"data row28 col3\" ></td>\n",
              "    </tr>\n",
              "    <tr>\n",
              "      <td id=\"T_6e192_row29_col0\" class=\"data row29 col0\" ><div style=\"color: green;text-align: center\">✓</div></td>\n",
              "      <td id=\"T_6e192_row29_col1\" class=\"data row29 col1\" >New Label Train Test</td>\n",
              "      <td id=\"T_6e192_row29_col2\" class=\"data row29 col2\" >Number of new label values is not greater than 0</td>\n",
              "      <td id=\"T_6e192_row29_col3\" class=\"data row29 col3\" ></td>\n",
              "    </tr>\n",
              "    <tr>\n",
              "      <td id=\"T_6e192_row30_col0\" class=\"data row30 col0\" ><div style=\"color: green;text-align: center\">✓</div></td>\n",
              "      <td id=\"T_6e192_row30_col1\" class=\"data row30 col1\" >Category Mismatch Train Test</td>\n",
              "      <td id=\"T_6e192_row30_col2\" class=\"data row30 col2\" >Ratio of samples with a new category is not greater than 0%</td>\n",
              "      <td id=\"T_6e192_row30_col3\" class=\"data row30 col3\" ></td>\n",
              "    </tr>\n",
              "    <tr>\n",
              "      <td id=\"T_6e192_row31_col0\" class=\"data row31 col0\" ><div style=\"color: green;text-align: center\">✓</div></td>\n",
              "      <td id=\"T_6e192_row31_col1\" class=\"data row31 col1\" >Dominant Frequency Change</td>\n",
              "      <td id=\"T_6e192_row31_col2\" class=\"data row31 col2\" >Change in ratio of dominant value in data is not greater than 25%</td>\n",
              "      <td id=\"T_6e192_row31_col3\" class=\"data row31 col3\" ></td>\n",
              "    </tr>\n",
              "    <tr>\n",
              "      <td id=\"T_6e192_row32_col0\" class=\"data row32 col0\" ><div style=\"color: green;text-align: center\">✓</div></td>\n",
              "      <td id=\"T_6e192_row32_col1\" class=\"data row32 col1\" >Mixed Data Types - Train Dataset</td>\n",
              "      <td id=\"T_6e192_row32_col2\" class=\"data row32 col2\" >Rare data types in column are either more than 10% or less than 1% of the data</td>\n",
              "      <td id=\"T_6e192_row32_col3\" class=\"data row32 col3\" ></td>\n",
              "    </tr>\n",
              "    <tr>\n",
              "      <td id=\"T_6e192_row33_col0\" class=\"data row33 col0\" ><div style=\"color: green;text-align: center\">✓</div></td>\n",
              "      <td id=\"T_6e192_row33_col1\" class=\"data row33 col1\" >Label Ambiguity - Test Dataset</td>\n",
              "      <td id=\"T_6e192_row33_col2\" class=\"data row33 col2\" >Ambiguous sample ratio is not greater than 0%</td>\n",
              "      <td id=\"T_6e192_row33_col3\" class=\"data row33 col3\" ></td>\n",
              "    </tr>\n",
              "  </tbody>\n",
              "</table>\n"
            ]
          },
          "metadata": {},
          "output_type": "display_data"
        },
        {
          "data": {
            "text/html": [
              "<hr style=\"background-color: black;border: 0 none;color: black;height: 1px;\"><h2>Check With Conditions Output</h2>"
            ]
          },
          "metadata": {},
          "output_type": "display_data"
        },
        {
          "data": {
            "text/html": [
              "<h4 id=\"PerformanceReport_DETA7\">Performance Report</h4><p>Summarize given scores on a dataset and model. <a href=\"https://docs.deepchecks.com/0.6.1/examples/tabular/checks/performance/examples/plot_performance_report.html?utm_source=display_output&utm_medium=referral&utm_campaign=check_link\" target=\"_blank\">Read More...</a></p><h5>Conditions Summary</h5><style type=\"text/css\">\n",
              "#T_6b520 table {\n",
              "  text-align: left;\n",
              "  white-space: pre-wrap;\n",
              "}\n",
              "#T_6b520 thead {\n",
              "  text-align: left;\n",
              "  white-space: pre-wrap;\n",
              "}\n",
              "#T_6b520 tbody {\n",
              "  text-align: left;\n",
              "  white-space: pre-wrap;\n",
              "}\n",
              "#T_6b520 th {\n",
              "  text-align: left;\n",
              "  white-space: pre-wrap;\n",
              "}\n",
              "#T_6b520 td {\n",
              "  text-align: left;\n",
              "  white-space: pre-wrap;\n",
              "}\n",
              "</style>\n",
              "<table id=\"T_6b520\">\n",
              "  <thead>\n",
              "    <tr>\n",
              "      <th id=\"T_6b520_level0_col0\" class=\"col_heading level0 col0\" >Status</th>\n",
              "      <th id=\"T_6b520_level0_col1\" class=\"col_heading level0 col1\" >Condition</th>\n",
              "      <th id=\"T_6b520_level0_col2\" class=\"col_heading level0 col2\" >More Info</th>\n",
              "    </tr>\n",
              "  </thead>\n",
              "  <tbody>\n",
              "    <tr>\n",
              "      <td id=\"T_6b520_row0_col0\" class=\"data row0 col0\" ><div style=\"color: red;text-align: center\">✖</div></td>\n",
              "      <td id=\"T_6b520_row0_col1\" class=\"data row0 col1\" >Train-Test scores relative degradation is not greater than 0.1</td>\n",
              "      <td id=\"T_6b520_row0_col2\" class=\"data row0 col2\" >F1 for class High (train=0.89 test=0.75)\n",
              "Precision for class High (train=0.91 test=0.73)\n",
              "Recall for class High (train=0.9 test=0.78)\n",
              "F1 for class Low (train=0.86 test=0.68)\n",
              "Precision for class Low (train=0.89 test=0.67)\n",
              "Recall for class Low (train=0.87 test=0.67)</td>\n",
              "    </tr>\n",
              "  </tbody>\n",
              "</table>\n",
              "<h5>Additional Outputs</h5>"
            ]
          },
          "metadata": {},
          "output_type": "display_data"
        },
        {
          "data": {
            "application/vnd.plotly.v1+json": {
              "config": {
                "plotlyServerURL": "https://plot.ly"
              },
              "data": [
                {
                  "alignmentgroup": "True",
                  "bingroup": "x",
                  "histfunc": "sum",
                  "hovertemplate": "Dataset=Train<br>Metric=F1<br>Class=%{x}<br>sum of Value=%{y}<extra></extra>",
                  "legendgroup": "Train",
                  "marker": {
                    "color": "#636efa",
                    "pattern": {
                      "shape": ""
                    }
                  },
                  "name": "Train",
                  "offsetgroup": "Train",
                  "orientation": "v",
                  "showlegend": true,
                  "type": "histogram",
                  "x": [
                    "High",
                    "Low"
                  ],
                  "xaxis": "x",
                  "y": [
                    0.8903924221921515,
                    0.8591304347826086
                  ],
                  "yaxis": "y"
                },
                {
                  "alignmentgroup": "True",
                  "bingroup": "x",
                  "histfunc": "sum",
                  "hovertemplate": "Dataset=Train<br>Metric=Precision<br>Class=%{x}<br>sum of Value=%{y}<extra></extra>",
                  "legendgroup": "Train",
                  "marker": {
                    "color": "#636efa",
                    "pattern": {
                      "shape": ""
                    }
                  },
                  "name": "Train",
                  "offsetgroup": "Train",
                  "orientation": "v",
                  "showlegend": false,
                  "type": "histogram",
                  "x": [
                    "High",
                    "Low"
                  ],
                  "xaxis": "x2",
                  "y": [
                    0.9073569482288828,
                    0.8862068965517241
                  ],
                  "yaxis": "y2"
                },
                {
                  "alignmentgroup": "True",
                  "bingroup": "x",
                  "histfunc": "sum",
                  "hovertemplate": "Dataset=Train<br>Metric=Recall<br>Class=%{x}<br>sum of Value=%{y}<extra></extra>",
                  "legendgroup": "Train",
                  "marker": {
                    "color": "#636efa",
                    "pattern": {
                      "shape": ""
                    }
                  },
                  "name": "Train",
                  "offsetgroup": "Train",
                  "orientation": "v",
                  "showlegend": false,
                  "type": "histogram",
                  "x": [
                    "High",
                    "Low"
                  ],
                  "xaxis": "x3",
                  "y": [
                    0.8961748633879781,
                    0.872852233676976
                  ],
                  "yaxis": "y3"
                },
                {
                  "alignmentgroup": "True",
                  "bingroup": "x",
                  "histfunc": "sum",
                  "hovertemplate": "Dataset=Test<br>Metric=F1<br>Class=%{x}<br>sum of Value=%{y}<extra></extra>",
                  "legendgroup": "Test",
                  "marker": {
                    "color": "#EF553B",
                    "pattern": {
                      "shape": ""
                    }
                  },
                  "name": "Test",
                  "offsetgroup": "Test",
                  "orientation": "v",
                  "showlegend": true,
                  "type": "histogram",
                  "x": [
                    "High",
                    "Low"
                  ],
                  "xaxis": "x",
                  "y": [
                    0.7459016393442623,
                    0.6836734693877552
                  ],
                  "yaxis": "y"
                },
                {
                  "alignmentgroup": "True",
                  "bingroup": "x",
                  "histfunc": "sum",
                  "hovertemplate": "Dataset=Test<br>Metric=Precision<br>Class=%{x}<br>sum of Value=%{y}<extra></extra>",
                  "legendgroup": "Test",
                  "marker": {
                    "color": "#EF553B",
                    "pattern": {
                      "shape": ""
                    }
                  },
                  "name": "Test",
                  "offsetgroup": "Test",
                  "orientation": "v",
                  "showlegend": false,
                  "type": "histogram",
                  "x": [
                    "High",
                    "Low"
                  ],
                  "xaxis": "x2",
                  "y": [
                    0.7338709677419355,
                    0.6666666666666666
                  ],
                  "yaxis": "y2"
                },
                {
                  "alignmentgroup": "True",
                  "bingroup": "x",
                  "histfunc": "sum",
                  "hovertemplate": "Dataset=Test<br>Metric=Recall<br>Class=%{x}<br>sum of Value=%{y}<extra></extra>",
                  "legendgroup": "Test",
                  "marker": {
                    "color": "#EF553B",
                    "pattern": {
                      "shape": ""
                    }
                  },
                  "name": "Test",
                  "offsetgroup": "Test",
                  "orientation": "v",
                  "showlegend": false,
                  "type": "histogram",
                  "x": [
                    "High",
                    "Low"
                  ],
                  "xaxis": "x3",
                  "y": [
                    0.7804878048780488,
                    0.6701030927835051
                  ],
                  "yaxis": "y3"
                }
              ],
              "layout": {
                "annotations": [
                  {
                    "font": {},
                    "showarrow": false,
                    "text": "F1",
                    "x": 0.15,
                    "xanchor": "center",
                    "xref": "paper",
                    "y": 1,
                    "yanchor": "bottom",
                    "yref": "paper"
                  },
                  {
                    "font": {},
                    "showarrow": false,
                    "text": "Precision",
                    "x": 0.49999999999999994,
                    "xanchor": "center",
                    "xref": "paper",
                    "y": 1,
                    "yanchor": "bottom",
                    "yref": "paper"
                  },
                  {
                    "font": {},
                    "showarrow": false,
                    "text": "Recall",
                    "x": 0.85,
                    "xanchor": "center",
                    "xref": "paper",
                    "y": 1,
                    "yanchor": "bottom",
                    "yref": "paper"
                  }
                ],
                "barmode": "group",
                "legend": {
                  "title": {
                    "text": "Dataset"
                  },
                  "tracegroupgap": 0
                },
                "margin": {
                  "t": 60
                },
                "template": {
                  "data": {
                    "bar": [
                      {
                        "error_x": {
                          "color": "#2a3f5f"
                        },
                        "error_y": {
                          "color": "#2a3f5f"
                        },
                        "marker": {
                          "line": {
                            "color": "#E5ECF6",
                            "width": 0.5
                          },
                          "pattern": {
                            "fillmode": "overlay",
                            "size": 10,
                            "solidity": 0.2
                          }
                        },
                        "type": "bar"
                      }
                    ],
                    "barpolar": [
                      {
                        "marker": {
                          "line": {
                            "color": "#E5ECF6",
                            "width": 0.5
                          },
                          "pattern": {
                            "fillmode": "overlay",
                            "size": 10,
                            "solidity": 0.2
                          }
                        },
                        "type": "barpolar"
                      }
                    ],
                    "carpet": [
                      {
                        "aaxis": {
                          "endlinecolor": "#2a3f5f",
                          "gridcolor": "white",
                          "linecolor": "white",
                          "minorgridcolor": "white",
                          "startlinecolor": "#2a3f5f"
                        },
                        "baxis": {
                          "endlinecolor": "#2a3f5f",
                          "gridcolor": "white",
                          "linecolor": "white",
                          "minorgridcolor": "white",
                          "startlinecolor": "#2a3f5f"
                        },
                        "type": "carpet"
                      }
                    ],
                    "choropleth": [
                      {
                        "colorbar": {
                          "outlinewidth": 0,
                          "ticks": ""
                        },
                        "type": "choropleth"
                      }
                    ],
                    "contour": [
                      {
                        "colorbar": {
                          "outlinewidth": 0,
                          "ticks": ""
                        },
                        "colorscale": [
                          [
                            0,
                            "#0d0887"
                          ],
                          [
                            0.1111111111111111,
                            "#46039f"
                          ],
                          [
                            0.2222222222222222,
                            "#7201a8"
                          ],
                          [
                            0.3333333333333333,
                            "#9c179e"
                          ],
                          [
                            0.4444444444444444,
                            "#bd3786"
                          ],
                          [
                            0.5555555555555556,
                            "#d8576b"
                          ],
                          [
                            0.6666666666666666,
                            "#ed7953"
                          ],
                          [
                            0.7777777777777778,
                            "#fb9f3a"
                          ],
                          [
                            0.8888888888888888,
                            "#fdca26"
                          ],
                          [
                            1,
                            "#f0f921"
                          ]
                        ],
                        "type": "contour"
                      }
                    ],
                    "contourcarpet": [
                      {
                        "colorbar": {
                          "outlinewidth": 0,
                          "ticks": ""
                        },
                        "type": "contourcarpet"
                      }
                    ],
                    "heatmap": [
                      {
                        "colorbar": {
                          "outlinewidth": 0,
                          "ticks": ""
                        },
                        "colorscale": [
                          [
                            0,
                            "#0d0887"
                          ],
                          [
                            0.1111111111111111,
                            "#46039f"
                          ],
                          [
                            0.2222222222222222,
                            "#7201a8"
                          ],
                          [
                            0.3333333333333333,
                            "#9c179e"
                          ],
                          [
                            0.4444444444444444,
                            "#bd3786"
                          ],
                          [
                            0.5555555555555556,
                            "#d8576b"
                          ],
                          [
                            0.6666666666666666,
                            "#ed7953"
                          ],
                          [
                            0.7777777777777778,
                            "#fb9f3a"
                          ],
                          [
                            0.8888888888888888,
                            "#fdca26"
                          ],
                          [
                            1,
                            "#f0f921"
                          ]
                        ],
                        "type": "heatmap"
                      }
                    ],
                    "heatmapgl": [
                      {
                        "colorbar": {
                          "outlinewidth": 0,
                          "ticks": ""
                        },
                        "colorscale": [
                          [
                            0,
                            "#0d0887"
                          ],
                          [
                            0.1111111111111111,
                            "#46039f"
                          ],
                          [
                            0.2222222222222222,
                            "#7201a8"
                          ],
                          [
                            0.3333333333333333,
                            "#9c179e"
                          ],
                          [
                            0.4444444444444444,
                            "#bd3786"
                          ],
                          [
                            0.5555555555555556,
                            "#d8576b"
                          ],
                          [
                            0.6666666666666666,
                            "#ed7953"
                          ],
                          [
                            0.7777777777777778,
                            "#fb9f3a"
                          ],
                          [
                            0.8888888888888888,
                            "#fdca26"
                          ],
                          [
                            1,
                            "#f0f921"
                          ]
                        ],
                        "type": "heatmapgl"
                      }
                    ],
                    "histogram": [
                      {
                        "marker": {
                          "pattern": {
                            "fillmode": "overlay",
                            "size": 10,
                            "solidity": 0.2
                          }
                        },
                        "type": "histogram"
                      }
                    ],
                    "histogram2d": [
                      {
                        "colorbar": {
                          "outlinewidth": 0,
                          "ticks": ""
                        },
                        "colorscale": [
                          [
                            0,
                            "#0d0887"
                          ],
                          [
                            0.1111111111111111,
                            "#46039f"
                          ],
                          [
                            0.2222222222222222,
                            "#7201a8"
                          ],
                          [
                            0.3333333333333333,
                            "#9c179e"
                          ],
                          [
                            0.4444444444444444,
                            "#bd3786"
                          ],
                          [
                            0.5555555555555556,
                            "#d8576b"
                          ],
                          [
                            0.6666666666666666,
                            "#ed7953"
                          ],
                          [
                            0.7777777777777778,
                            "#fb9f3a"
                          ],
                          [
                            0.8888888888888888,
                            "#fdca26"
                          ],
                          [
                            1,
                            "#f0f921"
                          ]
                        ],
                        "type": "histogram2d"
                      }
                    ],
                    "histogram2dcontour": [
                      {
                        "colorbar": {
                          "outlinewidth": 0,
                          "ticks": ""
                        },
                        "colorscale": [
                          [
                            0,
                            "#0d0887"
                          ],
                          [
                            0.1111111111111111,
                            "#46039f"
                          ],
                          [
                            0.2222222222222222,
                            "#7201a8"
                          ],
                          [
                            0.3333333333333333,
                            "#9c179e"
                          ],
                          [
                            0.4444444444444444,
                            "#bd3786"
                          ],
                          [
                            0.5555555555555556,
                            "#d8576b"
                          ],
                          [
                            0.6666666666666666,
                            "#ed7953"
                          ],
                          [
                            0.7777777777777778,
                            "#fb9f3a"
                          ],
                          [
                            0.8888888888888888,
                            "#fdca26"
                          ],
                          [
                            1,
                            "#f0f921"
                          ]
                        ],
                        "type": "histogram2dcontour"
                      }
                    ],
                    "mesh3d": [
                      {
                        "colorbar": {
                          "outlinewidth": 0,
                          "ticks": ""
                        },
                        "type": "mesh3d"
                      }
                    ],
                    "parcoords": [
                      {
                        "line": {
                          "colorbar": {
                            "outlinewidth": 0,
                            "ticks": ""
                          }
                        },
                        "type": "parcoords"
                      }
                    ],
                    "pie": [
                      {
                        "automargin": true,
                        "type": "pie"
                      }
                    ],
                    "scatter": [
                      {
                        "marker": {
                          "colorbar": {
                            "outlinewidth": 0,
                            "ticks": ""
                          }
                        },
                        "type": "scatter"
                      }
                    ],
                    "scatter3d": [
                      {
                        "line": {
                          "colorbar": {
                            "outlinewidth": 0,
                            "ticks": ""
                          }
                        },
                        "marker": {
                          "colorbar": {
                            "outlinewidth": 0,
                            "ticks": ""
                          }
                        },
                        "type": "scatter3d"
                      }
                    ],
                    "scattercarpet": [
                      {
                        "marker": {
                          "colorbar": {
                            "outlinewidth": 0,
                            "ticks": ""
                          }
                        },
                        "type": "scattercarpet"
                      }
                    ],
                    "scattergeo": [
                      {
                        "marker": {
                          "colorbar": {
                            "outlinewidth": 0,
                            "ticks": ""
                          }
                        },
                        "type": "scattergeo"
                      }
                    ],
                    "scattergl": [
                      {
                        "marker": {
                          "colorbar": {
                            "outlinewidth": 0,
                            "ticks": ""
                          }
                        },
                        "type": "scattergl"
                      }
                    ],
                    "scattermapbox": [
                      {
                        "marker": {
                          "colorbar": {
                            "outlinewidth": 0,
                            "ticks": ""
                          }
                        },
                        "type": "scattermapbox"
                      }
                    ],
                    "scatterpolar": [
                      {
                        "marker": {
                          "colorbar": {
                            "outlinewidth": 0,
                            "ticks": ""
                          }
                        },
                        "type": "scatterpolar"
                      }
                    ],
                    "scatterpolargl": [
                      {
                        "marker": {
                          "colorbar": {
                            "outlinewidth": 0,
                            "ticks": ""
                          }
                        },
                        "type": "scatterpolargl"
                      }
                    ],
                    "scatterternary": [
                      {
                        "marker": {
                          "colorbar": {
                            "outlinewidth": 0,
                            "ticks": ""
                          }
                        },
                        "type": "scatterternary"
                      }
                    ],
                    "surface": [
                      {
                        "colorbar": {
                          "outlinewidth": 0,
                          "ticks": ""
                        },
                        "colorscale": [
                          [
                            0,
                            "#0d0887"
                          ],
                          [
                            0.1111111111111111,
                            "#46039f"
                          ],
                          [
                            0.2222222222222222,
                            "#7201a8"
                          ],
                          [
                            0.3333333333333333,
                            "#9c179e"
                          ],
                          [
                            0.4444444444444444,
                            "#bd3786"
                          ],
                          [
                            0.5555555555555556,
                            "#d8576b"
                          ],
                          [
                            0.6666666666666666,
                            "#ed7953"
                          ],
                          [
                            0.7777777777777778,
                            "#fb9f3a"
                          ],
                          [
                            0.8888888888888888,
                            "#fdca26"
                          ],
                          [
                            1,
                            "#f0f921"
                          ]
                        ],
                        "type": "surface"
                      }
                    ],
                    "table": [
                      {
                        "cells": {
                          "fill": {
                            "color": "#EBF0F8"
                          },
                          "line": {
                            "color": "white"
                          }
                        },
                        "header": {
                          "fill": {
                            "color": "#C8D4E3"
                          },
                          "line": {
                            "color": "white"
                          }
                        },
                        "type": "table"
                      }
                    ]
                  },
                  "layout": {
                    "annotationdefaults": {
                      "arrowcolor": "#2a3f5f",
                      "arrowhead": 0,
                      "arrowwidth": 1
                    },
                    "autotypenumbers": "strict",
                    "coloraxis": {
                      "colorbar": {
                        "outlinewidth": 0,
                        "ticks": ""
                      }
                    },
                    "colorscale": {
                      "diverging": [
                        [
                          0,
                          "#8e0152"
                        ],
                        [
                          0.1,
                          "#c51b7d"
                        ],
                        [
                          0.2,
                          "#de77ae"
                        ],
                        [
                          0.3,
                          "#f1b6da"
                        ],
                        [
                          0.4,
                          "#fde0ef"
                        ],
                        [
                          0.5,
                          "#f7f7f7"
                        ],
                        [
                          0.6,
                          "#e6f5d0"
                        ],
                        [
                          0.7,
                          "#b8e186"
                        ],
                        [
                          0.8,
                          "#7fbc41"
                        ],
                        [
                          0.9,
                          "#4d9221"
                        ],
                        [
                          1,
                          "#276419"
                        ]
                      ],
                      "sequential": [
                        [
                          0,
                          "#0d0887"
                        ],
                        [
                          0.1111111111111111,
                          "#46039f"
                        ],
                        [
                          0.2222222222222222,
                          "#7201a8"
                        ],
                        [
                          0.3333333333333333,
                          "#9c179e"
                        ],
                        [
                          0.4444444444444444,
                          "#bd3786"
                        ],
                        [
                          0.5555555555555556,
                          "#d8576b"
                        ],
                        [
                          0.6666666666666666,
                          "#ed7953"
                        ],
                        [
                          0.7777777777777778,
                          "#fb9f3a"
                        ],
                        [
                          0.8888888888888888,
                          "#fdca26"
                        ],
                        [
                          1,
                          "#f0f921"
                        ]
                      ],
                      "sequentialminus": [
                        [
                          0,
                          "#0d0887"
                        ],
                        [
                          0.1111111111111111,
                          "#46039f"
                        ],
                        [
                          0.2222222222222222,
                          "#7201a8"
                        ],
                        [
                          0.3333333333333333,
                          "#9c179e"
                        ],
                        [
                          0.4444444444444444,
                          "#bd3786"
                        ],
                        [
                          0.5555555555555556,
                          "#d8576b"
                        ],
                        [
                          0.6666666666666666,
                          "#ed7953"
                        ],
                        [
                          0.7777777777777778,
                          "#fb9f3a"
                        ],
                        [
                          0.8888888888888888,
                          "#fdca26"
                        ],
                        [
                          1,
                          "#f0f921"
                        ]
                      ]
                    },
                    "colorway": [
                      "#636efa",
                      "#EF553B",
                      "#00cc96",
                      "#ab63fa",
                      "#FFA15A",
                      "#19d3f3",
                      "#FF6692",
                      "#B6E880",
                      "#FF97FF",
                      "#FECB52"
                    ],
                    "font": {
                      "color": "#2a3f5f"
                    },
                    "geo": {
                      "bgcolor": "white",
                      "lakecolor": "white",
                      "landcolor": "#E5ECF6",
                      "showlakes": true,
                      "showland": true,
                      "subunitcolor": "white"
                    },
                    "hoverlabel": {
                      "align": "left"
                    },
                    "hovermode": "closest",
                    "mapbox": {
                      "style": "light"
                    },
                    "paper_bgcolor": "white",
                    "plot_bgcolor": "#E5ECF6",
                    "polar": {
                      "angularaxis": {
                        "gridcolor": "white",
                        "linecolor": "white",
                        "ticks": ""
                      },
                      "bgcolor": "#E5ECF6",
                      "radialaxis": {
                        "gridcolor": "white",
                        "linecolor": "white",
                        "ticks": ""
                      }
                    },
                    "scene": {
                      "xaxis": {
                        "backgroundcolor": "#E5ECF6",
                        "gridcolor": "white",
                        "gridwidth": 2,
                        "linecolor": "white",
                        "showbackground": true,
                        "ticks": "",
                        "zerolinecolor": "white"
                      },
                      "yaxis": {
                        "backgroundcolor": "#E5ECF6",
                        "gridcolor": "white",
                        "gridwidth": 2,
                        "linecolor": "white",
                        "showbackground": true,
                        "ticks": "",
                        "zerolinecolor": "white"
                      },
                      "zaxis": {
                        "backgroundcolor": "#E5ECF6",
                        "gridcolor": "white",
                        "gridwidth": 2,
                        "linecolor": "white",
                        "showbackground": true,
                        "ticks": "",
                        "zerolinecolor": "white"
                      }
                    },
                    "shapedefaults": {
                      "line": {
                        "color": "#2a3f5f"
                      }
                    },
                    "ternary": {
                      "aaxis": {
                        "gridcolor": "white",
                        "linecolor": "white",
                        "ticks": ""
                      },
                      "baxis": {
                        "gridcolor": "white",
                        "linecolor": "white",
                        "ticks": ""
                      },
                      "bgcolor": "#E5ECF6",
                      "caxis": {
                        "gridcolor": "white",
                        "linecolor": "white",
                        "ticks": ""
                      }
                    },
                    "title": {
                      "x": 0.05
                    },
                    "xaxis": {
                      "automargin": true,
                      "gridcolor": "white",
                      "linecolor": "white",
                      "ticks": "",
                      "title": {
                        "standoff": 15
                      },
                      "zerolinecolor": "white",
                      "zerolinewidth": 2
                    },
                    "yaxis": {
                      "automargin": true,
                      "gridcolor": "white",
                      "linecolor": "white",
                      "ticks": "",
                      "title": {
                        "standoff": 15
                      },
                      "zerolinecolor": "white",
                      "zerolinewidth": 2
                    }
                  }
                },
                "xaxis": {
                  "anchor": "y",
                  "domain": [
                    0,
                    0.3
                  ],
                  "tickangle": 60,
                  "tickprefix": "Class ",
                  "title": {},
                  "type": "category"
                },
                "xaxis2": {
                  "anchor": "y2",
                  "domain": [
                    0.35,
                    0.6499999999999999
                  ],
                  "matches": "x",
                  "tickangle": 60,
                  "tickprefix": "Class ",
                  "title": {},
                  "type": "category"
                },
                "xaxis3": {
                  "anchor": "y3",
                  "domain": [
                    0.7,
                    1
                  ],
                  "matches": "x",
                  "tickangle": 60,
                  "tickprefix": "Class ",
                  "title": {},
                  "type": "category"
                },
                "yaxis": {
                  "anchor": "x",
                  "domain": [
                    0,
                    1
                  ],
                  "showticklabels": true,
                  "title": {}
                },
                "yaxis2": {
                  "anchor": "x2",
                  "domain": [
                    0,
                    1
                  ],
                  "showticklabels": true,
                  "title": {}
                },
                "yaxis3": {
                  "anchor": "x3",
                  "domain": [
                    0,
                    1
                  ],
                  "showticklabels": true,
                  "title": {}
                }
              }
            }
          },
          "metadata": {},
          "output_type": "display_data"
        },
        {
          "data": {
            "text/html": [
              "<br><a href=\"#summary_DETA7\" style=\"font-size: 14px\">Go to top</a>"
            ]
          },
          "metadata": {},
          "output_type": "display_data"
        },
        {
          "data": {
            "text/html": [
              "<hr style=\"background-color: #eee;border: 0 none;color: #eee;height: 4px;\">"
            ]
          },
          "metadata": {},
          "output_type": "display_data"
        },
        {
          "data": {
            "text/html": [
              "<h4 id=\"SimpleModelComparison_DETA7\">Simple Model Comparison</h4><p>Compare given model score to simple model score (according to given model type). <a href=\"https://docs.deepchecks.com/0.6.1/examples/tabular/checks/performance/examples/plot_simple_model_comparison.html?utm_source=display_output&utm_medium=referral&utm_campaign=check_link\" target=\"_blank\">Read More...</a></p><h5>Conditions Summary</h5><style type=\"text/css\">\n",
              "#T_d620e table {\n",
              "  text-align: left;\n",
              "  white-space: pre-wrap;\n",
              "}\n",
              "#T_d620e thead {\n",
              "  text-align: left;\n",
              "  white-space: pre-wrap;\n",
              "}\n",
              "#T_d620e tbody {\n",
              "  text-align: left;\n",
              "  white-space: pre-wrap;\n",
              "}\n",
              "#T_d620e th {\n",
              "  text-align: left;\n",
              "  white-space: pre-wrap;\n",
              "}\n",
              "#T_d620e td {\n",
              "  text-align: left;\n",
              "  white-space: pre-wrap;\n",
              "}\n",
              "</style>\n",
              "<table id=\"T_d620e\">\n",
              "  <thead>\n",
              "    <tr>\n",
              "      <th id=\"T_d620e_level0_col0\" class=\"col_heading level0 col0\" >Status</th>\n",
              "      <th id=\"T_d620e_level0_col1\" class=\"col_heading level0 col1\" >Condition</th>\n",
              "      <th id=\"T_d620e_level0_col2\" class=\"col_heading level0 col2\" >More Info</th>\n",
              "    </tr>\n",
              "  </thead>\n",
              "  <tbody>\n",
              "    <tr>\n",
              "      <td id=\"T_d620e_row0_col0\" class=\"data row0 col0\" ><div style=\"color: red;text-align: center\">✖</div></td>\n",
              "      <td id=\"T_d620e_row0_col1\" class=\"data row0 col1\" >Model performance gain over simple model is not less than 10%</td>\n",
              "      <td id=\"T_d620e_row0_col2\" class=\"data row0 col2\" >Found metrics with gain below threshold: {'F1': {'High': '4.63%'}}</td>\n",
              "    </tr>\n",
              "  </tbody>\n",
              "</table>\n",
              "<h5>Additional Outputs</h5>"
            ]
          },
          "metadata": {},
          "output_type": "display_data"
        },
        {
          "data": {
            "application/vnd.plotly.v1+json": {
              "config": {
                "plotlyServerURL": "https://plot.ly"
              },
              "data": [
                {
                  "alignmentgroup": "True",
                  "bingroup": "x",
                  "histfunc": "sum",
                  "hovertemplate": "Model=SoftSplitDecisionTreeClassifier model<br>Metric=F1<br>value=%{x}<br>sum of Value=%{y}<extra></extra>",
                  "legendgroup": "SoftSplitDecisionTreeClassifier model",
                  "marker": {
                    "color": "#636efa",
                    "pattern": {
                      "shape": ""
                    }
                  },
                  "name": "SoftSplitDecisionTreeClassifier model",
                  "offsetgroup": "SoftSplitDecisionTreeClassifier model",
                  "orientation": "v",
                  "showlegend": true,
                  "type": "histogram",
                  "x": [
                    "High",
                    "Low"
                  ],
                  "xaxis": "x",
                  "y": [
                    0.7302904564315352,
                    0.6733668341708542
                  ],
                  "yaxis": "y"
                },
                {
                  "alignmentgroup": "True",
                  "bingroup": "x",
                  "histfunc": "sum",
                  "hovertemplate": "Model=Simple model - constant<br>Metric=F1<br>value=%{x}<br>sum of Value=%{y}<extra></extra>",
                  "legendgroup": "Simple model - constant",
                  "marker": {
                    "color": "#EF553B",
                    "pattern": {
                      "shape": ""
                    }
                  },
                  "name": "Simple model - constant",
                  "offsetgroup": "Simple model - constant",
                  "orientation": "v",
                  "showlegend": true,
                  "type": "histogram",
                  "x": [
                    "High",
                    "Low"
                  ],
                  "xaxis": "x",
                  "y": [
                    0.717201166180758,
                    0
                  ],
                  "yaxis": "y"
                }
              ],
              "layout": {
                "annotations": [
                  {
                    "font": {},
                    "showarrow": false,
                    "text": "F1",
                    "x": 0.5,
                    "xanchor": "center",
                    "xref": "paper",
                    "y": 1,
                    "yanchor": "bottom",
                    "yref": "paper"
                  }
                ],
                "barmode": "group",
                "legend": {
                  "title": {
                    "text": "Model"
                  },
                  "tracegroupgap": 0
                },
                "margin": {
                  "t": 60
                },
                "template": {
                  "data": {
                    "bar": [
                      {
                        "error_x": {
                          "color": "#2a3f5f"
                        },
                        "error_y": {
                          "color": "#2a3f5f"
                        },
                        "marker": {
                          "line": {
                            "color": "#E5ECF6",
                            "width": 0.5
                          },
                          "pattern": {
                            "fillmode": "overlay",
                            "size": 10,
                            "solidity": 0.2
                          }
                        },
                        "type": "bar"
                      }
                    ],
                    "barpolar": [
                      {
                        "marker": {
                          "line": {
                            "color": "#E5ECF6",
                            "width": 0.5
                          },
                          "pattern": {
                            "fillmode": "overlay",
                            "size": 10,
                            "solidity": 0.2
                          }
                        },
                        "type": "barpolar"
                      }
                    ],
                    "carpet": [
                      {
                        "aaxis": {
                          "endlinecolor": "#2a3f5f",
                          "gridcolor": "white",
                          "linecolor": "white",
                          "minorgridcolor": "white",
                          "startlinecolor": "#2a3f5f"
                        },
                        "baxis": {
                          "endlinecolor": "#2a3f5f",
                          "gridcolor": "white",
                          "linecolor": "white",
                          "minorgridcolor": "white",
                          "startlinecolor": "#2a3f5f"
                        },
                        "type": "carpet"
                      }
                    ],
                    "choropleth": [
                      {
                        "colorbar": {
                          "outlinewidth": 0,
                          "ticks": ""
                        },
                        "type": "choropleth"
                      }
                    ],
                    "contour": [
                      {
                        "colorbar": {
                          "outlinewidth": 0,
                          "ticks": ""
                        },
                        "colorscale": [
                          [
                            0,
                            "#0d0887"
                          ],
                          [
                            0.1111111111111111,
                            "#46039f"
                          ],
                          [
                            0.2222222222222222,
                            "#7201a8"
                          ],
                          [
                            0.3333333333333333,
                            "#9c179e"
                          ],
                          [
                            0.4444444444444444,
                            "#bd3786"
                          ],
                          [
                            0.5555555555555556,
                            "#d8576b"
                          ],
                          [
                            0.6666666666666666,
                            "#ed7953"
                          ],
                          [
                            0.7777777777777778,
                            "#fb9f3a"
                          ],
                          [
                            0.8888888888888888,
                            "#fdca26"
                          ],
                          [
                            1,
                            "#f0f921"
                          ]
                        ],
                        "type": "contour"
                      }
                    ],
                    "contourcarpet": [
                      {
                        "colorbar": {
                          "outlinewidth": 0,
                          "ticks": ""
                        },
                        "type": "contourcarpet"
                      }
                    ],
                    "heatmap": [
                      {
                        "colorbar": {
                          "outlinewidth": 0,
                          "ticks": ""
                        },
                        "colorscale": [
                          [
                            0,
                            "#0d0887"
                          ],
                          [
                            0.1111111111111111,
                            "#46039f"
                          ],
                          [
                            0.2222222222222222,
                            "#7201a8"
                          ],
                          [
                            0.3333333333333333,
                            "#9c179e"
                          ],
                          [
                            0.4444444444444444,
                            "#bd3786"
                          ],
                          [
                            0.5555555555555556,
                            "#d8576b"
                          ],
                          [
                            0.6666666666666666,
                            "#ed7953"
                          ],
                          [
                            0.7777777777777778,
                            "#fb9f3a"
                          ],
                          [
                            0.8888888888888888,
                            "#fdca26"
                          ],
                          [
                            1,
                            "#f0f921"
                          ]
                        ],
                        "type": "heatmap"
                      }
                    ],
                    "heatmapgl": [
                      {
                        "colorbar": {
                          "outlinewidth": 0,
                          "ticks": ""
                        },
                        "colorscale": [
                          [
                            0,
                            "#0d0887"
                          ],
                          [
                            0.1111111111111111,
                            "#46039f"
                          ],
                          [
                            0.2222222222222222,
                            "#7201a8"
                          ],
                          [
                            0.3333333333333333,
                            "#9c179e"
                          ],
                          [
                            0.4444444444444444,
                            "#bd3786"
                          ],
                          [
                            0.5555555555555556,
                            "#d8576b"
                          ],
                          [
                            0.6666666666666666,
                            "#ed7953"
                          ],
                          [
                            0.7777777777777778,
                            "#fb9f3a"
                          ],
                          [
                            0.8888888888888888,
                            "#fdca26"
                          ],
                          [
                            1,
                            "#f0f921"
                          ]
                        ],
                        "type": "heatmapgl"
                      }
                    ],
                    "histogram": [
                      {
                        "marker": {
                          "pattern": {
                            "fillmode": "overlay",
                            "size": 10,
                            "solidity": 0.2
                          }
                        },
                        "type": "histogram"
                      }
                    ],
                    "histogram2d": [
                      {
                        "colorbar": {
                          "outlinewidth": 0,
                          "ticks": ""
                        },
                        "colorscale": [
                          [
                            0,
                            "#0d0887"
                          ],
                          [
                            0.1111111111111111,
                            "#46039f"
                          ],
                          [
                            0.2222222222222222,
                            "#7201a8"
                          ],
                          [
                            0.3333333333333333,
                            "#9c179e"
                          ],
                          [
                            0.4444444444444444,
                            "#bd3786"
                          ],
                          [
                            0.5555555555555556,
                            "#d8576b"
                          ],
                          [
                            0.6666666666666666,
                            "#ed7953"
                          ],
                          [
                            0.7777777777777778,
                            "#fb9f3a"
                          ],
                          [
                            0.8888888888888888,
                            "#fdca26"
                          ],
                          [
                            1,
                            "#f0f921"
                          ]
                        ],
                        "type": "histogram2d"
                      }
                    ],
                    "histogram2dcontour": [
                      {
                        "colorbar": {
                          "outlinewidth": 0,
                          "ticks": ""
                        },
                        "colorscale": [
                          [
                            0,
                            "#0d0887"
                          ],
                          [
                            0.1111111111111111,
                            "#46039f"
                          ],
                          [
                            0.2222222222222222,
                            "#7201a8"
                          ],
                          [
                            0.3333333333333333,
                            "#9c179e"
                          ],
                          [
                            0.4444444444444444,
                            "#bd3786"
                          ],
                          [
                            0.5555555555555556,
                            "#d8576b"
                          ],
                          [
                            0.6666666666666666,
                            "#ed7953"
                          ],
                          [
                            0.7777777777777778,
                            "#fb9f3a"
                          ],
                          [
                            0.8888888888888888,
                            "#fdca26"
                          ],
                          [
                            1,
                            "#f0f921"
                          ]
                        ],
                        "type": "histogram2dcontour"
                      }
                    ],
                    "mesh3d": [
                      {
                        "colorbar": {
                          "outlinewidth": 0,
                          "ticks": ""
                        },
                        "type": "mesh3d"
                      }
                    ],
                    "parcoords": [
                      {
                        "line": {
                          "colorbar": {
                            "outlinewidth": 0,
                            "ticks": ""
                          }
                        },
                        "type": "parcoords"
                      }
                    ],
                    "pie": [
                      {
                        "automargin": true,
                        "type": "pie"
                      }
                    ],
                    "scatter": [
                      {
                        "marker": {
                          "colorbar": {
                            "outlinewidth": 0,
                            "ticks": ""
                          }
                        },
                        "type": "scatter"
                      }
                    ],
                    "scatter3d": [
                      {
                        "line": {
                          "colorbar": {
                            "outlinewidth": 0,
                            "ticks": ""
                          }
                        },
                        "marker": {
                          "colorbar": {
                            "outlinewidth": 0,
                            "ticks": ""
                          }
                        },
                        "type": "scatter3d"
                      }
                    ],
                    "scattercarpet": [
                      {
                        "marker": {
                          "colorbar": {
                            "outlinewidth": 0,
                            "ticks": ""
                          }
                        },
                        "type": "scattercarpet"
                      }
                    ],
                    "scattergeo": [
                      {
                        "marker": {
                          "colorbar": {
                            "outlinewidth": 0,
                            "ticks": ""
                          }
                        },
                        "type": "scattergeo"
                      }
                    ],
                    "scattergl": [
                      {
                        "marker": {
                          "colorbar": {
                            "outlinewidth": 0,
                            "ticks": ""
                          }
                        },
                        "type": "scattergl"
                      }
                    ],
                    "scattermapbox": [
                      {
                        "marker": {
                          "colorbar": {
                            "outlinewidth": 0,
                            "ticks": ""
                          }
                        },
                        "type": "scattermapbox"
                      }
                    ],
                    "scatterpolar": [
                      {
                        "marker": {
                          "colorbar": {
                            "outlinewidth": 0,
                            "ticks": ""
                          }
                        },
                        "type": "scatterpolar"
                      }
                    ],
                    "scatterpolargl": [
                      {
                        "marker": {
                          "colorbar": {
                            "outlinewidth": 0,
                            "ticks": ""
                          }
                        },
                        "type": "scatterpolargl"
                      }
                    ],
                    "scatterternary": [
                      {
                        "marker": {
                          "colorbar": {
                            "outlinewidth": 0,
                            "ticks": ""
                          }
                        },
                        "type": "scatterternary"
                      }
                    ],
                    "surface": [
                      {
                        "colorbar": {
                          "outlinewidth": 0,
                          "ticks": ""
                        },
                        "colorscale": [
                          [
                            0,
                            "#0d0887"
                          ],
                          [
                            0.1111111111111111,
                            "#46039f"
                          ],
                          [
                            0.2222222222222222,
                            "#7201a8"
                          ],
                          [
                            0.3333333333333333,
                            "#9c179e"
                          ],
                          [
                            0.4444444444444444,
                            "#bd3786"
                          ],
                          [
                            0.5555555555555556,
                            "#d8576b"
                          ],
                          [
                            0.6666666666666666,
                            "#ed7953"
                          ],
                          [
                            0.7777777777777778,
                            "#fb9f3a"
                          ],
                          [
                            0.8888888888888888,
                            "#fdca26"
                          ],
                          [
                            1,
                            "#f0f921"
                          ]
                        ],
                        "type": "surface"
                      }
                    ],
                    "table": [
                      {
                        "cells": {
                          "fill": {
                            "color": "#EBF0F8"
                          },
                          "line": {
                            "color": "white"
                          }
                        },
                        "header": {
                          "fill": {
                            "color": "#C8D4E3"
                          },
                          "line": {
                            "color": "white"
                          }
                        },
                        "type": "table"
                      }
                    ]
                  },
                  "layout": {
                    "annotationdefaults": {
                      "arrowcolor": "#2a3f5f",
                      "arrowhead": 0,
                      "arrowwidth": 1
                    },
                    "autotypenumbers": "strict",
                    "coloraxis": {
                      "colorbar": {
                        "outlinewidth": 0,
                        "ticks": ""
                      }
                    },
                    "colorscale": {
                      "diverging": [
                        [
                          0,
                          "#8e0152"
                        ],
                        [
                          0.1,
                          "#c51b7d"
                        ],
                        [
                          0.2,
                          "#de77ae"
                        ],
                        [
                          0.3,
                          "#f1b6da"
                        ],
                        [
                          0.4,
                          "#fde0ef"
                        ],
                        [
                          0.5,
                          "#f7f7f7"
                        ],
                        [
                          0.6,
                          "#e6f5d0"
                        ],
                        [
                          0.7,
                          "#b8e186"
                        ],
                        [
                          0.8,
                          "#7fbc41"
                        ],
                        [
                          0.9,
                          "#4d9221"
                        ],
                        [
                          1,
                          "#276419"
                        ]
                      ],
                      "sequential": [
                        [
                          0,
                          "#0d0887"
                        ],
                        [
                          0.1111111111111111,
                          "#46039f"
                        ],
                        [
                          0.2222222222222222,
                          "#7201a8"
                        ],
                        [
                          0.3333333333333333,
                          "#9c179e"
                        ],
                        [
                          0.4444444444444444,
                          "#bd3786"
                        ],
                        [
                          0.5555555555555556,
                          "#d8576b"
                        ],
                        [
                          0.6666666666666666,
                          "#ed7953"
                        ],
                        [
                          0.7777777777777778,
                          "#fb9f3a"
                        ],
                        [
                          0.8888888888888888,
                          "#fdca26"
                        ],
                        [
                          1,
                          "#f0f921"
                        ]
                      ],
                      "sequentialminus": [
                        [
                          0,
                          "#0d0887"
                        ],
                        [
                          0.1111111111111111,
                          "#46039f"
                        ],
                        [
                          0.2222222222222222,
                          "#7201a8"
                        ],
                        [
                          0.3333333333333333,
                          "#9c179e"
                        ],
                        [
                          0.4444444444444444,
                          "#bd3786"
                        ],
                        [
                          0.5555555555555556,
                          "#d8576b"
                        ],
                        [
                          0.6666666666666666,
                          "#ed7953"
                        ],
                        [
                          0.7777777777777778,
                          "#fb9f3a"
                        ],
                        [
                          0.8888888888888888,
                          "#fdca26"
                        ],
                        [
                          1,
                          "#f0f921"
                        ]
                      ]
                    },
                    "colorway": [
                      "#636efa",
                      "#EF553B",
                      "#00cc96",
                      "#ab63fa",
                      "#FFA15A",
                      "#19d3f3",
                      "#FF6692",
                      "#B6E880",
                      "#FF97FF",
                      "#FECB52"
                    ],
                    "font": {
                      "color": "#2a3f5f"
                    },
                    "geo": {
                      "bgcolor": "white",
                      "lakecolor": "white",
                      "landcolor": "#E5ECF6",
                      "showlakes": true,
                      "showland": true,
                      "subunitcolor": "white"
                    },
                    "hoverlabel": {
                      "align": "left"
                    },
                    "hovermode": "closest",
                    "mapbox": {
                      "style": "light"
                    },
                    "paper_bgcolor": "white",
                    "plot_bgcolor": "#E5ECF6",
                    "polar": {
                      "angularaxis": {
                        "gridcolor": "white",
                        "linecolor": "white",
                        "ticks": ""
                      },
                      "bgcolor": "#E5ECF6",
                      "radialaxis": {
                        "gridcolor": "white",
                        "linecolor": "white",
                        "ticks": ""
                      }
                    },
                    "scene": {
                      "xaxis": {
                        "backgroundcolor": "#E5ECF6",
                        "gridcolor": "white",
                        "gridwidth": 2,
                        "linecolor": "white",
                        "showbackground": true,
                        "ticks": "",
                        "zerolinecolor": "white"
                      },
                      "yaxis": {
                        "backgroundcolor": "#E5ECF6",
                        "gridcolor": "white",
                        "gridwidth": 2,
                        "linecolor": "white",
                        "showbackground": true,
                        "ticks": "",
                        "zerolinecolor": "white"
                      },
                      "zaxis": {
                        "backgroundcolor": "#E5ECF6",
                        "gridcolor": "white",
                        "gridwidth": 2,
                        "linecolor": "white",
                        "showbackground": true,
                        "ticks": "",
                        "zerolinecolor": "white"
                      }
                    },
                    "shapedefaults": {
                      "line": {
                        "color": "#2a3f5f"
                      }
                    },
                    "ternary": {
                      "aaxis": {
                        "gridcolor": "white",
                        "linecolor": "white",
                        "ticks": ""
                      },
                      "baxis": {
                        "gridcolor": "white",
                        "linecolor": "white",
                        "ticks": ""
                      },
                      "bgcolor": "#E5ECF6",
                      "caxis": {
                        "gridcolor": "white",
                        "linecolor": "white",
                        "ticks": ""
                      }
                    },
                    "title": {
                      "x": 0.05
                    },
                    "xaxis": {
                      "automargin": true,
                      "gridcolor": "white",
                      "linecolor": "white",
                      "ticks": "",
                      "title": {
                        "standoff": 15
                      },
                      "zerolinecolor": "white",
                      "zerolinewidth": 2
                    },
                    "yaxis": {
                      "automargin": true,
                      "gridcolor": "white",
                      "linecolor": "white",
                      "ticks": "",
                      "title": {
                        "standoff": 15
                      },
                      "zerolinecolor": "white",
                      "zerolinewidth": 2
                    }
                  }
                },
                "xaxis": {
                  "anchor": "y",
                  "domain": [
                    0,
                    1
                  ],
                  "tickangle": 60,
                  "tickprefix": "Class ",
                  "title": {},
                  "type": "category"
                },
                "yaxis": {
                  "anchor": "x",
                  "domain": [
                    0,
                    1
                  ],
                  "showticklabels": true,
                  "title": {}
                }
              }
            }
          },
          "metadata": {},
          "output_type": "display_data"
        },
        {
          "data": {
            "text/html": [
              "<br><a href=\"#summary_DETA7\" style=\"font-size: 14px\">Go to top</a>"
            ]
          },
          "metadata": {},
          "output_type": "display_data"
        },
        {
          "data": {
            "text/html": [
              "<hr style=\"background-color: #eee;border: 0 none;color: #eee;height: 4px;\">"
            ]
          },
          "metadata": {},
          "output_type": "display_data"
        },
        {
          "data": {
            "text/html": [
              "<h4 id=\"ModelInferenceTime-TrainDataset_DETA7\">Model Inference Time - Train Dataset</h4><p>Measure model average inference time (in seconds) per sample. <a href=\"https://docs.deepchecks.com/0.6.1/examples/tabular/checks/methodology/examples/plot_model_inference_time.html?utm_source=display_output&utm_medium=referral&utm_campaign=check_link\" target=\"_blank\">Read More...</a></p><h5>Conditions Summary</h5><style type=\"text/css\">\n",
              "#T_fa413 table {\n",
              "  text-align: left;\n",
              "  white-space: pre-wrap;\n",
              "}\n",
              "#T_fa413 thead {\n",
              "  text-align: left;\n",
              "  white-space: pre-wrap;\n",
              "}\n",
              "#T_fa413 tbody {\n",
              "  text-align: left;\n",
              "  white-space: pre-wrap;\n",
              "}\n",
              "#T_fa413 th {\n",
              "  text-align: left;\n",
              "  white-space: pre-wrap;\n",
              "}\n",
              "#T_fa413 td {\n",
              "  text-align: left;\n",
              "  white-space: pre-wrap;\n",
              "}\n",
              "</style>\n",
              "<table id=\"T_fa413\">\n",
              "  <thead>\n",
              "    <tr>\n",
              "      <th id=\"T_fa413_level0_col0\" class=\"col_heading level0 col0\" >Status</th>\n",
              "      <th id=\"T_fa413_level0_col1\" class=\"col_heading level0 col1\" >Condition</th>\n",
              "      <th id=\"T_fa413_level0_col2\" class=\"col_heading level0 col2\" >More Info</th>\n",
              "    </tr>\n",
              "  </thead>\n",
              "  <tbody>\n",
              "    <tr>\n",
              "      <td id=\"T_fa413_row0_col0\" class=\"data row0 col0\" ><div style=\"color: red;text-align: center\">✖</div></td>\n",
              "      <td id=\"T_fa413_row0_col1\" class=\"data row0 col1\" >Average model inference time for one sample is not greater than 0.001</td>\n",
              "      <td id=\"T_fa413_row0_col2\" class=\"data row0 col2\" >Found average inference time (in seconds) above threshold: 0.00334447</td>\n",
              "    </tr>\n",
              "  </tbody>\n",
              "</table>\n",
              "<h5>Additional Outputs</h5><div>Average model inference time for one sample (in seconds): 0.00334447</div><br><a href=\"#summary_DETA7\" style=\"font-size: 14px\">Go to top</a>"
            ]
          },
          "metadata": {},
          "output_type": "display_data"
        },
        {
          "data": {
            "text/html": [
              "<hr style=\"background-color: #eee;border: 0 none;color: #eee;height: 4px;\">"
            ]
          },
          "metadata": {},
          "output_type": "display_data"
        },
        {
          "data": {
            "text/html": [
              "<h4 id=\"ModelInferenceTime-TestDataset_DETA7\">Model Inference Time - Test Dataset</h4><p>Measure model average inference time (in seconds) per sample. <a href=\"https://docs.deepchecks.com/0.6.1/examples/tabular/checks/methodology/examples/plot_model_inference_time.html?utm_source=display_output&utm_medium=referral&utm_campaign=check_link\" target=\"_blank\">Read More...</a></p><h5>Conditions Summary</h5><style type=\"text/css\">\n",
              "#T_8b9ed table {\n",
              "  text-align: left;\n",
              "  white-space: pre-wrap;\n",
              "}\n",
              "#T_8b9ed thead {\n",
              "  text-align: left;\n",
              "  white-space: pre-wrap;\n",
              "}\n",
              "#T_8b9ed tbody {\n",
              "  text-align: left;\n",
              "  white-space: pre-wrap;\n",
              "}\n",
              "#T_8b9ed th {\n",
              "  text-align: left;\n",
              "  white-space: pre-wrap;\n",
              "}\n",
              "#T_8b9ed td {\n",
              "  text-align: left;\n",
              "  white-space: pre-wrap;\n",
              "}\n",
              "</style>\n",
              "<table id=\"T_8b9ed\">\n",
              "  <thead>\n",
              "    <tr>\n",
              "      <th id=\"T_8b9ed_level0_col0\" class=\"col_heading level0 col0\" >Status</th>\n",
              "      <th id=\"T_8b9ed_level0_col1\" class=\"col_heading level0 col1\" >Condition</th>\n",
              "      <th id=\"T_8b9ed_level0_col2\" class=\"col_heading level0 col2\" >More Info</th>\n",
              "    </tr>\n",
              "  </thead>\n",
              "  <tbody>\n",
              "    <tr>\n",
              "      <td id=\"T_8b9ed_row0_col0\" class=\"data row0 col0\" ><div style=\"color: red;text-align: center\">✖</div></td>\n",
              "      <td id=\"T_8b9ed_row0_col1\" class=\"data row0 col1\" >Average model inference time for one sample is not greater than 0.001</td>\n",
              "      <td id=\"T_8b9ed_row0_col2\" class=\"data row0 col2\" >Found average inference time (in seconds) above threshold: 0.00319201</td>\n",
              "    </tr>\n",
              "  </tbody>\n",
              "</table>\n",
              "<h5>Additional Outputs</h5><div>Average model inference time for one sample (in seconds): 0.00319201</div><br><a href=\"#summary_DETA7\" style=\"font-size: 14px\">Go to top</a>"
            ]
          },
          "metadata": {},
          "output_type": "display_data"
        },
        {
          "data": {
            "text/html": [
              "<hr style=\"background-color: #eee;border: 0 none;color: #eee;height: 4px;\">"
            ]
          },
          "metadata": {},
          "output_type": "display_data"
        },
        {
          "data": {
            "text/html": [
              "<h4 id=\"SingleFeatureContributionTrain-Test_DETA7\">Single Feature Contribution Train-Test</h4><p>    Return the Predictive Power Score of all features, in order to estimate each feature's ability to predict the label. <a href=\"https://docs.deepchecks.com/0.6.1/examples/tabular/checks/methodology/examples/plot_single_feature_contribution_train_test.html?utm_source=display_output&utm_medium=referral&utm_campaign=check_link\" target=\"_blank\">Read More...</a></p><h5>Conditions Summary</h5><style type=\"text/css\">\n",
              "#T_9f24f table {\n",
              "  text-align: left;\n",
              "  white-space: pre-wrap;\n",
              "}\n",
              "#T_9f24f thead {\n",
              "  text-align: left;\n",
              "  white-space: pre-wrap;\n",
              "}\n",
              "#T_9f24f tbody {\n",
              "  text-align: left;\n",
              "  white-space: pre-wrap;\n",
              "}\n",
              "#T_9f24f th {\n",
              "  text-align: left;\n",
              "  white-space: pre-wrap;\n",
              "}\n",
              "#T_9f24f td {\n",
              "  text-align: left;\n",
              "  white-space: pre-wrap;\n",
              "}\n",
              "</style>\n",
              "<table id=\"T_9f24f\">\n",
              "  <thead>\n",
              "    <tr>\n",
              "      <th id=\"T_9f24f_level0_col0\" class=\"col_heading level0 col0\" >Status</th>\n",
              "      <th id=\"T_9f24f_level0_col1\" class=\"col_heading level0 col1\" >Condition</th>\n",
              "      <th id=\"T_9f24f_level0_col2\" class=\"col_heading level0 col2\" >More Info</th>\n",
              "    </tr>\n",
              "  </thead>\n",
              "  <tbody>\n",
              "    <tr>\n",
              "      <td id=\"T_9f24f_row0_col0\" class=\"data row0 col0\" ><div style=\"color: red;text-align: center\">✖</div></td>\n",
              "      <td id=\"T_9f24f_row0_col1\" class=\"data row0 col1\" >Train-Test features' Predictive Power Score difference is not greater than 0.2</td>\n",
              "      <td id=\"T_9f24f_row0_col2\" class=\"data row0 col2\" >Features with PPS difference above threshold: {'alcohol': '0.22'}</td>\n",
              "    </tr>\n",
              "    <tr>\n",
              "      <td id=\"T_9f24f_row1_col0\" class=\"data row1 col0\" ><div style=\"color: green;text-align: center\">✓</div></td>\n",
              "      <td id=\"T_9f24f_row1_col1\" class=\"data row1 col1\" >Train features' Predictive Power Score is not greater than 0.7</td>\n",
              "      <td id=\"T_9f24f_row1_col2\" class=\"data row1 col2\" ></td>\n",
              "    </tr>\n",
              "  </tbody>\n",
              "</table>\n",
              "<h5>Additional Outputs</h5>"
            ]
          },
          "metadata": {},
          "output_type": "display_data"
        },
        {
          "data": {
            "application/vnd.plotly.v1+json": {
              "config": {
                "plotlyServerURL": "https://plot.ly"
              },
              "data": [
                {
                  "marker": {
                    "color": "#00008b"
                  },
                  "name": "Train",
                  "text": [
                    0.42,
                    0.32,
                    0.17,
                    0.14,
                    0.12
                  ],
                  "textposition": "outside",
                  "type": "bar",
                  "x": [
                    "alcohol",
                    "sulphates",
                    "Id",
                    "pH",
                    "volatile acidity"
                  ],
                  "y": [
                    0.4189159621169233,
                    0.31881355683644697,
                    0.17334387648096683,
                    0.14041228891671473,
                    0.12434836530486598
                  ]
                },
                {
                  "marker": {
                    "color": "#69b3a2"
                  },
                  "name": "Test",
                  "text": [
                    0.2,
                    0.12,
                    0,
                    0,
                    0.01
                  ],
                  "textposition": "outside",
                  "type": "bar",
                  "x": [
                    "alcohol",
                    "sulphates",
                    "Id",
                    "pH",
                    "volatile acidity"
                  ],
                  "y": [
                    0.1965817042380199,
                    0.12406139801237498,
                    0,
                    0,
                    0.010205997594498126
                  ]
                },
                {
                  "line": {
                    "color": "#aa57b5",
                    "width": 5
                  },
                  "marker": {
                    "size": 15,
                    "symbol": "circle"
                  },
                  "name": "Train-Test Difference (abs)",
                  "type": "scatter",
                  "x": [
                    "alcohol",
                    "sulphates",
                    "Id",
                    "pH",
                    "volatile acidity"
                  ],
                  "y": [
                    0.22233425787890337,
                    0.19475215882407199,
                    0.17334387648096683,
                    0.14041228891671473,
                    0.11414236771036786
                  ]
                }
              ],
              "layout": {
                "barmode": "group",
                "height": 500,
                "legend": {
                  "x": 1,
                  "y": 1
                },
                "template": {
                  "data": {
                    "bar": [
                      {
                        "error_x": {
                          "color": "#2a3f5f"
                        },
                        "error_y": {
                          "color": "#2a3f5f"
                        },
                        "marker": {
                          "line": {
                            "color": "#E5ECF6",
                            "width": 0.5
                          },
                          "pattern": {
                            "fillmode": "overlay",
                            "size": 10,
                            "solidity": 0.2
                          }
                        },
                        "type": "bar"
                      }
                    ],
                    "barpolar": [
                      {
                        "marker": {
                          "line": {
                            "color": "#E5ECF6",
                            "width": 0.5
                          },
                          "pattern": {
                            "fillmode": "overlay",
                            "size": 10,
                            "solidity": 0.2
                          }
                        },
                        "type": "barpolar"
                      }
                    ],
                    "carpet": [
                      {
                        "aaxis": {
                          "endlinecolor": "#2a3f5f",
                          "gridcolor": "white",
                          "linecolor": "white",
                          "minorgridcolor": "white",
                          "startlinecolor": "#2a3f5f"
                        },
                        "baxis": {
                          "endlinecolor": "#2a3f5f",
                          "gridcolor": "white",
                          "linecolor": "white",
                          "minorgridcolor": "white",
                          "startlinecolor": "#2a3f5f"
                        },
                        "type": "carpet"
                      }
                    ],
                    "choropleth": [
                      {
                        "colorbar": {
                          "outlinewidth": 0,
                          "ticks": ""
                        },
                        "type": "choropleth"
                      }
                    ],
                    "contour": [
                      {
                        "colorbar": {
                          "outlinewidth": 0,
                          "ticks": ""
                        },
                        "colorscale": [
                          [
                            0,
                            "#0d0887"
                          ],
                          [
                            0.1111111111111111,
                            "#46039f"
                          ],
                          [
                            0.2222222222222222,
                            "#7201a8"
                          ],
                          [
                            0.3333333333333333,
                            "#9c179e"
                          ],
                          [
                            0.4444444444444444,
                            "#bd3786"
                          ],
                          [
                            0.5555555555555556,
                            "#d8576b"
                          ],
                          [
                            0.6666666666666666,
                            "#ed7953"
                          ],
                          [
                            0.7777777777777778,
                            "#fb9f3a"
                          ],
                          [
                            0.8888888888888888,
                            "#fdca26"
                          ],
                          [
                            1,
                            "#f0f921"
                          ]
                        ],
                        "type": "contour"
                      }
                    ],
                    "contourcarpet": [
                      {
                        "colorbar": {
                          "outlinewidth": 0,
                          "ticks": ""
                        },
                        "type": "contourcarpet"
                      }
                    ],
                    "heatmap": [
                      {
                        "colorbar": {
                          "outlinewidth": 0,
                          "ticks": ""
                        },
                        "colorscale": [
                          [
                            0,
                            "#0d0887"
                          ],
                          [
                            0.1111111111111111,
                            "#46039f"
                          ],
                          [
                            0.2222222222222222,
                            "#7201a8"
                          ],
                          [
                            0.3333333333333333,
                            "#9c179e"
                          ],
                          [
                            0.4444444444444444,
                            "#bd3786"
                          ],
                          [
                            0.5555555555555556,
                            "#d8576b"
                          ],
                          [
                            0.6666666666666666,
                            "#ed7953"
                          ],
                          [
                            0.7777777777777778,
                            "#fb9f3a"
                          ],
                          [
                            0.8888888888888888,
                            "#fdca26"
                          ],
                          [
                            1,
                            "#f0f921"
                          ]
                        ],
                        "type": "heatmap"
                      }
                    ],
                    "heatmapgl": [
                      {
                        "colorbar": {
                          "outlinewidth": 0,
                          "ticks": ""
                        },
                        "colorscale": [
                          [
                            0,
                            "#0d0887"
                          ],
                          [
                            0.1111111111111111,
                            "#46039f"
                          ],
                          [
                            0.2222222222222222,
                            "#7201a8"
                          ],
                          [
                            0.3333333333333333,
                            "#9c179e"
                          ],
                          [
                            0.4444444444444444,
                            "#bd3786"
                          ],
                          [
                            0.5555555555555556,
                            "#d8576b"
                          ],
                          [
                            0.6666666666666666,
                            "#ed7953"
                          ],
                          [
                            0.7777777777777778,
                            "#fb9f3a"
                          ],
                          [
                            0.8888888888888888,
                            "#fdca26"
                          ],
                          [
                            1,
                            "#f0f921"
                          ]
                        ],
                        "type": "heatmapgl"
                      }
                    ],
                    "histogram": [
                      {
                        "marker": {
                          "pattern": {
                            "fillmode": "overlay",
                            "size": 10,
                            "solidity": 0.2
                          }
                        },
                        "type": "histogram"
                      }
                    ],
                    "histogram2d": [
                      {
                        "colorbar": {
                          "outlinewidth": 0,
                          "ticks": ""
                        },
                        "colorscale": [
                          [
                            0,
                            "#0d0887"
                          ],
                          [
                            0.1111111111111111,
                            "#46039f"
                          ],
                          [
                            0.2222222222222222,
                            "#7201a8"
                          ],
                          [
                            0.3333333333333333,
                            "#9c179e"
                          ],
                          [
                            0.4444444444444444,
                            "#bd3786"
                          ],
                          [
                            0.5555555555555556,
                            "#d8576b"
                          ],
                          [
                            0.6666666666666666,
                            "#ed7953"
                          ],
                          [
                            0.7777777777777778,
                            "#fb9f3a"
                          ],
                          [
                            0.8888888888888888,
                            "#fdca26"
                          ],
                          [
                            1,
                            "#f0f921"
                          ]
                        ],
                        "type": "histogram2d"
                      }
                    ],
                    "histogram2dcontour": [
                      {
                        "colorbar": {
                          "outlinewidth": 0,
                          "ticks": ""
                        },
                        "colorscale": [
                          [
                            0,
                            "#0d0887"
                          ],
                          [
                            0.1111111111111111,
                            "#46039f"
                          ],
                          [
                            0.2222222222222222,
                            "#7201a8"
                          ],
                          [
                            0.3333333333333333,
                            "#9c179e"
                          ],
                          [
                            0.4444444444444444,
                            "#bd3786"
                          ],
                          [
                            0.5555555555555556,
                            "#d8576b"
                          ],
                          [
                            0.6666666666666666,
                            "#ed7953"
                          ],
                          [
                            0.7777777777777778,
                            "#fb9f3a"
                          ],
                          [
                            0.8888888888888888,
                            "#fdca26"
                          ],
                          [
                            1,
                            "#f0f921"
                          ]
                        ],
                        "type": "histogram2dcontour"
                      }
                    ],
                    "mesh3d": [
                      {
                        "colorbar": {
                          "outlinewidth": 0,
                          "ticks": ""
                        },
                        "type": "mesh3d"
                      }
                    ],
                    "parcoords": [
                      {
                        "line": {
                          "colorbar": {
                            "outlinewidth": 0,
                            "ticks": ""
                          }
                        },
                        "type": "parcoords"
                      }
                    ],
                    "pie": [
                      {
                        "automargin": true,
                        "type": "pie"
                      }
                    ],
                    "scatter": [
                      {
                        "marker": {
                          "colorbar": {
                            "outlinewidth": 0,
                            "ticks": ""
                          }
                        },
                        "type": "scatter"
                      }
                    ],
                    "scatter3d": [
                      {
                        "line": {
                          "colorbar": {
                            "outlinewidth": 0,
                            "ticks": ""
                          }
                        },
                        "marker": {
                          "colorbar": {
                            "outlinewidth": 0,
                            "ticks": ""
                          }
                        },
                        "type": "scatter3d"
                      }
                    ],
                    "scattercarpet": [
                      {
                        "marker": {
                          "colorbar": {
                            "outlinewidth": 0,
                            "ticks": ""
                          }
                        },
                        "type": "scattercarpet"
                      }
                    ],
                    "scattergeo": [
                      {
                        "marker": {
                          "colorbar": {
                            "outlinewidth": 0,
                            "ticks": ""
                          }
                        },
                        "type": "scattergeo"
                      }
                    ],
                    "scattergl": [
                      {
                        "marker": {
                          "colorbar": {
                            "outlinewidth": 0,
                            "ticks": ""
                          }
                        },
                        "type": "scattergl"
                      }
                    ],
                    "scattermapbox": [
                      {
                        "marker": {
                          "colorbar": {
                            "outlinewidth": 0,
                            "ticks": ""
                          }
                        },
                        "type": "scattermapbox"
                      }
                    ],
                    "scatterpolar": [
                      {
                        "marker": {
                          "colorbar": {
                            "outlinewidth": 0,
                            "ticks": ""
                          }
                        },
                        "type": "scatterpolar"
                      }
                    ],
                    "scatterpolargl": [
                      {
                        "marker": {
                          "colorbar": {
                            "outlinewidth": 0,
                            "ticks": ""
                          }
                        },
                        "type": "scatterpolargl"
                      }
                    ],
                    "scatterternary": [
                      {
                        "marker": {
                          "colorbar": {
                            "outlinewidth": 0,
                            "ticks": ""
                          }
                        },
                        "type": "scatterternary"
                      }
                    ],
                    "surface": [
                      {
                        "colorbar": {
                          "outlinewidth": 0,
                          "ticks": ""
                        },
                        "colorscale": [
                          [
                            0,
                            "#0d0887"
                          ],
                          [
                            0.1111111111111111,
                            "#46039f"
                          ],
                          [
                            0.2222222222222222,
                            "#7201a8"
                          ],
                          [
                            0.3333333333333333,
                            "#9c179e"
                          ],
                          [
                            0.4444444444444444,
                            "#bd3786"
                          ],
                          [
                            0.5555555555555556,
                            "#d8576b"
                          ],
                          [
                            0.6666666666666666,
                            "#ed7953"
                          ],
                          [
                            0.7777777777777778,
                            "#fb9f3a"
                          ],
                          [
                            0.8888888888888888,
                            "#fdca26"
                          ],
                          [
                            1,
                            "#f0f921"
                          ]
                        ],
                        "type": "surface"
                      }
                    ],
                    "table": [
                      {
                        "cells": {
                          "fill": {
                            "color": "#EBF0F8"
                          },
                          "line": {
                            "color": "white"
                          }
                        },
                        "header": {
                          "fill": {
                            "color": "#C8D4E3"
                          },
                          "line": {
                            "color": "white"
                          }
                        },
                        "type": "table"
                      }
                    ]
                  },
                  "layout": {
                    "annotationdefaults": {
                      "arrowcolor": "#2a3f5f",
                      "arrowhead": 0,
                      "arrowwidth": 1
                    },
                    "autotypenumbers": "strict",
                    "coloraxis": {
                      "colorbar": {
                        "outlinewidth": 0,
                        "ticks": ""
                      }
                    },
                    "colorscale": {
                      "diverging": [
                        [
                          0,
                          "#8e0152"
                        ],
                        [
                          0.1,
                          "#c51b7d"
                        ],
                        [
                          0.2,
                          "#de77ae"
                        ],
                        [
                          0.3,
                          "#f1b6da"
                        ],
                        [
                          0.4,
                          "#fde0ef"
                        ],
                        [
                          0.5,
                          "#f7f7f7"
                        ],
                        [
                          0.6,
                          "#e6f5d0"
                        ],
                        [
                          0.7,
                          "#b8e186"
                        ],
                        [
                          0.8,
                          "#7fbc41"
                        ],
                        [
                          0.9,
                          "#4d9221"
                        ],
                        [
                          1,
                          "#276419"
                        ]
                      ],
                      "sequential": [
                        [
                          0,
                          "#0d0887"
                        ],
                        [
                          0.1111111111111111,
                          "#46039f"
                        ],
                        [
                          0.2222222222222222,
                          "#7201a8"
                        ],
                        [
                          0.3333333333333333,
                          "#9c179e"
                        ],
                        [
                          0.4444444444444444,
                          "#bd3786"
                        ],
                        [
                          0.5555555555555556,
                          "#d8576b"
                        ],
                        [
                          0.6666666666666666,
                          "#ed7953"
                        ],
                        [
                          0.7777777777777778,
                          "#fb9f3a"
                        ],
                        [
                          0.8888888888888888,
                          "#fdca26"
                        ],
                        [
                          1,
                          "#f0f921"
                        ]
                      ],
                      "sequentialminus": [
                        [
                          0,
                          "#0d0887"
                        ],
                        [
                          0.1111111111111111,
                          "#46039f"
                        ],
                        [
                          0.2222222222222222,
                          "#7201a8"
                        ],
                        [
                          0.3333333333333333,
                          "#9c179e"
                        ],
                        [
                          0.4444444444444444,
                          "#bd3786"
                        ],
                        [
                          0.5555555555555556,
                          "#d8576b"
                        ],
                        [
                          0.6666666666666666,
                          "#ed7953"
                        ],
                        [
                          0.7777777777777778,
                          "#fb9f3a"
                        ],
                        [
                          0.8888888888888888,
                          "#fdca26"
                        ],
                        [
                          1,
                          "#f0f921"
                        ]
                      ]
                    },
                    "colorway": [
                      "#636efa",
                      "#EF553B",
                      "#00cc96",
                      "#ab63fa",
                      "#FFA15A",
                      "#19d3f3",
                      "#FF6692",
                      "#B6E880",
                      "#FF97FF",
                      "#FECB52"
                    ],
                    "font": {
                      "color": "#2a3f5f"
                    },
                    "geo": {
                      "bgcolor": "white",
                      "lakecolor": "white",
                      "landcolor": "#E5ECF6",
                      "showlakes": true,
                      "showland": true,
                      "subunitcolor": "white"
                    },
                    "hoverlabel": {
                      "align": "left"
                    },
                    "hovermode": "closest",
                    "mapbox": {
                      "style": "light"
                    },
                    "paper_bgcolor": "white",
                    "plot_bgcolor": "#E5ECF6",
                    "polar": {
                      "angularaxis": {
                        "gridcolor": "white",
                        "linecolor": "white",
                        "ticks": ""
                      },
                      "bgcolor": "#E5ECF6",
                      "radialaxis": {
                        "gridcolor": "white",
                        "linecolor": "white",
                        "ticks": ""
                      }
                    },
                    "scene": {
                      "xaxis": {
                        "backgroundcolor": "#E5ECF6",
                        "gridcolor": "white",
                        "gridwidth": 2,
                        "linecolor": "white",
                        "showbackground": true,
                        "ticks": "",
                        "zerolinecolor": "white"
                      },
                      "yaxis": {
                        "backgroundcolor": "#E5ECF6",
                        "gridcolor": "white",
                        "gridwidth": 2,
                        "linecolor": "white",
                        "showbackground": true,
                        "ticks": "",
                        "zerolinecolor": "white"
                      },
                      "zaxis": {
                        "backgroundcolor": "#E5ECF6",
                        "gridcolor": "white",
                        "gridwidth": 2,
                        "linecolor": "white",
                        "showbackground": true,
                        "ticks": "",
                        "zerolinecolor": "white"
                      }
                    },
                    "shapedefaults": {
                      "line": {
                        "color": "#2a3f5f"
                      }
                    },
                    "ternary": {
                      "aaxis": {
                        "gridcolor": "white",
                        "linecolor": "white",
                        "ticks": ""
                      },
                      "baxis": {
                        "gridcolor": "white",
                        "linecolor": "white",
                        "ticks": ""
                      },
                      "bgcolor": "#E5ECF6",
                      "caxis": {
                        "gridcolor": "white",
                        "linecolor": "white",
                        "ticks": ""
                      }
                    },
                    "title": {
                      "x": 0.05
                    },
                    "xaxis": {
                      "automargin": true,
                      "gridcolor": "white",
                      "linecolor": "white",
                      "ticks": "",
                      "title": {
                        "standoff": 15
                      },
                      "zerolinecolor": "white",
                      "zerolinewidth": 2
                    },
                    "yaxis": {
                      "automargin": true,
                      "gridcolor": "white",
                      "linecolor": "white",
                      "ticks": "",
                      "title": {
                        "standoff": 15
                      },
                      "zerolinecolor": "white",
                      "zerolinewidth": 2
                    }
                  }
                },
                "title": {
                  "text": "Predictive Power Score (PPS) - Can a feature predict the label by itself?"
                },
                "width": 800,
                "xaxis": {
                  "title": {
                    "text": "Column"
                  }
                },
                "yaxis": {
                  "range": [
                    0,
                    1.05
                  ],
                  "title": {
                    "text": "Predictive Power Score (PPS)"
                  }
                }
              }
            }
          },
          "metadata": {},
          "output_type": "display_data"
        },
        {
          "data": {
            "text/html": [
              "<div>The Predictive Power Score (PPS) is used to estimate the ability of a feature to predict the label by itself. (Read more about <a href=https://docs.deepchecks.com/en/stable/examples/tabular/checks/methodology/single_feature_contribution_train_test.html?utm_source=display_output&utm_medium=referral&utm_campaign=check_link target=\"_blank\">Predictive Power Score</a>)</div><div><u>In the graph above</u>, we should suspect we have problems in our data if:</div><div>1. <b>Train dataset PPS values are high</b>:</div><div>Can indicate that this feature's success in predicting the label is actually due to data leakage, </div><div>   meaning that the feature holds information that is based on the label to begin with.</div><div>2. <b>Large difference between train and test PPS</b> (train PPS is larger):</div><div>   An even more powerful indication of data leakage, as a feature that was powerful in train but not in test </div><div>   can be explained by leakage in train that is not relevant to a new dataset.</div><div>3. <b>Large difference between test and train PPS</b> (test PPS is larger):</div><div>   An anomalous value, could indicate drift in test dataset that caused a coincidental correlation to the target label.</div><br><a href=\"#summary_DETA7\" style=\"font-size: 14px\">Go to top</a>"
            ]
          },
          "metadata": {},
          "output_type": "display_data"
        },
        {
          "data": {
            "text/html": [
              "<hr style=\"background-color: #eee;border: 0 none;color: #eee;height: 4px;\">"
            ]
          },
          "metadata": {},
          "output_type": "display_data"
        },
        {
          "data": {
            "text/html": [
              "<h4 id=\"ROCReport-TrainDataset_DETA7\">ROC Report - Train Dataset</h4><p>Calculate the ROC curve for each class. <a href=\"https://docs.deepchecks.com/0.6.1/examples/tabular/checks/performance/examples/plot_roc_report.html?utm_source=display_output&utm_medium=referral&utm_campaign=check_link\" target=\"_blank\">Read More...</a></p><h5>Conditions Summary</h5><style type=\"text/css\">\n",
              "#T_f0d35 table {\n",
              "  text-align: left;\n",
              "  white-space: pre-wrap;\n",
              "}\n",
              "#T_f0d35 thead {\n",
              "  text-align: left;\n",
              "  white-space: pre-wrap;\n",
              "}\n",
              "#T_f0d35 tbody {\n",
              "  text-align: left;\n",
              "  white-space: pre-wrap;\n",
              "}\n",
              "#T_f0d35 th {\n",
              "  text-align: left;\n",
              "  white-space: pre-wrap;\n",
              "}\n",
              "#T_f0d35 td {\n",
              "  text-align: left;\n",
              "  white-space: pre-wrap;\n",
              "}\n",
              "</style>\n",
              "<table id=\"T_f0d35\">\n",
              "  <thead>\n",
              "    <tr>\n",
              "      <th id=\"T_f0d35_level0_col0\" class=\"col_heading level0 col0\" >Status</th>\n",
              "      <th id=\"T_f0d35_level0_col1\" class=\"col_heading level0 col1\" >Condition</th>\n",
              "      <th id=\"T_f0d35_level0_col2\" class=\"col_heading level0 col2\" >More Info</th>\n",
              "    </tr>\n",
              "  </thead>\n",
              "  <tbody>\n",
              "    <tr>\n",
              "      <td id=\"T_f0d35_row0_col0\" class=\"data row0 col0\" ><div style=\"color: green;text-align: center\">✓</div></td>\n",
              "      <td id=\"T_f0d35_row0_col1\" class=\"data row0 col1\" >AUC score for all the classes is not less than 0.7</td>\n",
              "      <td id=\"T_f0d35_row0_col2\" class=\"data row0 col2\" ></td>\n",
              "    </tr>\n",
              "  </tbody>\n",
              "</table>\n",
              "<h5>Additional Outputs</h5>"
            ]
          },
          "metadata": {},
          "output_type": "display_data"
        },
        {
          "data": {
            "application/vnd.plotly.v1+json": {
              "config": {
                "plotlyServerURL": "https://plot.ly"
              },
              "data": [
                {
                  "line": {
                    "width": 2
                  },
                  "name": "auc = 0.96",
                  "type": "scatter",
                  "x": [
                    0,
                    0,
                    0,
                    0.003436426116838488,
                    0.003436426116838488,
                    0.006872852233676976,
                    0.006872852233676976,
                    0.010309278350515464,
                    0.010309278350515464,
                    0.013745704467353952,
                    0.013745704467353952,
                    0.01718213058419244,
                    0.01718213058419244,
                    0.020618556701030927,
                    0.020618556701030927,
                    0.024054982817869417,
                    0.024054982817869417,
                    0.027491408934707903,
                    0.027491408934707903,
                    0.030927835051546393,
                    0.030927835051546393,
                    0.03436426116838488,
                    0.03436426116838488,
                    0.037800687285223365,
                    0.037800687285223365,
                    0.041237113402061855,
                    0.041237113402061855,
                    0.044673539518900345,
                    0.044673539518900345,
                    0.048109965635738834,
                    0.048109965635738834,
                    0.05154639175257732,
                    0.05154639175257732,
                    0.054982817869415807,
                    0.054982817869415807,
                    0.058419243986254296,
                    0.058419243986254296,
                    0.06529209621993128,
                    0.06529209621993128,
                    0.06872852233676977,
                    0.06872852233676977,
                    0.07216494845360824,
                    0.07216494845360824,
                    0.07560137457044673,
                    0.07560137457044673,
                    0.07903780068728522,
                    0.07903780068728522,
                    0.0859106529209622,
                    0.0859106529209622,
                    0.08934707903780069,
                    0.08934707903780069,
                    0.09278350515463918,
                    0.09278350515463918,
                    0.09621993127147767,
                    0.09621993127147767,
                    0.09965635738831616,
                    0.09965635738831616,
                    0.10652920962199312,
                    0.10652920962199312,
                    0.1134020618556701,
                    0.1134020618556701,
                    0.12027491408934708,
                    0.12027491408934708,
                    0.12371134020618557,
                    0.12371134020618557,
                    0.12714776632302405,
                    0.12714776632302405,
                    0.13402061855670103,
                    0.13402061855670103,
                    0.13745704467353953,
                    0.13745704467353953,
                    0.140893470790378,
                    0.140893470790378,
                    0.15120274914089346,
                    0.15120274914089346,
                    0.15463917525773196,
                    0.15463917525773196,
                    0.16838487972508592,
                    0.16838487972508592,
                    0.17869415807560138,
                    0.17869415807560138,
                    0.18213058419243985,
                    0.18213058419243985,
                    0.18556701030927836,
                    0.18556701030927836,
                    0.19243986254295534,
                    0.19243986254295534,
                    0.1958762886597938,
                    0.1958762886597938,
                    0.19931271477663232,
                    0.19931271477663232,
                    0.21649484536082475,
                    0.21649484536082475,
                    0.2268041237113402,
                    0.2268041237113402,
                    0.23024054982817868,
                    0.23024054982817868,
                    0.23711340206185566,
                    0.23711340206185566,
                    0.24054982817869416,
                    0.24054982817869416,
                    0.24742268041237114,
                    0.24742268041237114,
                    0.2542955326460481,
                    0.2542955326460481,
                    0.2611683848797251,
                    0.2611683848797251,
                    0.26804123711340205,
                    0.26804123711340205,
                    0.2920962199312715,
                    0.2920962199312715,
                    0.29896907216494845,
                    0.29896907216494845,
                    0.32989690721649484,
                    0.32989690721649484,
                    0.3402061855670103,
                    0.3402061855670103,
                    0.3539518900343643,
                    0.3539518900343643,
                    0.36769759450171824,
                    0.36769759450171824,
                    0.5085910652920962,
                    0.5085910652920962,
                    1
                  ],
                  "y": [
                    0,
                    0.00273224043715847,
                    0.4890710382513661,
                    0.4890710382513661,
                    0.49453551912568305,
                    0.49453551912568305,
                    0.5109289617486339,
                    0.5109289617486339,
                    0.5163934426229508,
                    0.5163934426229508,
                    0.5655737704918032,
                    0.5655737704918032,
                    0.5710382513661202,
                    0.5710382513661202,
                    0.5846994535519126,
                    0.5846994535519126,
                    0.6120218579234973,
                    0.6120218579234973,
                    0.6311475409836066,
                    0.6311475409836066,
                    0.6338797814207651,
                    0.6338797814207651,
                    0.639344262295082,
                    0.639344262295082,
                    0.6639344262295082,
                    0.6639344262295082,
                    0.6830601092896175,
                    0.6830601092896175,
                    0.6912568306010929,
                    0.6912568306010929,
                    0.6939890710382514,
                    0.6939890710382514,
                    0.7049180327868853,
                    0.7049180327868853,
                    0.7240437158469946,
                    0.7240437158469946,
                    0.7377049180327869,
                    0.7377049180327869,
                    0.7459016393442623,
                    0.7459016393442623,
                    0.7650273224043715,
                    0.7650273224043715,
                    0.8005464480874317,
                    0.8005464480874317,
                    0.8087431693989071,
                    0.8087431693989071,
                    0.8114754098360656,
                    0.8114754098360656,
                    0.8169398907103825,
                    0.8169398907103825,
                    0.8278688524590164,
                    0.8278688524590164,
                    0.8524590163934426,
                    0.8524590163934426,
                    0.8579234972677595,
                    0.8579234972677595,
                    0.8715846994535519,
                    0.8715846994535519,
                    0.8743169398907104,
                    0.8743169398907104,
                    0.8770491803278688,
                    0.8770491803278688,
                    0.8825136612021858,
                    0.8825136612021858,
                    0.8907103825136612,
                    0.8907103825136612,
                    0.8934426229508197,
                    0.8934426229508197,
                    0.8989071038251366,
                    0.8989071038251366,
                    0.9016393442622951,
                    0.9016393442622951,
                    0.9098360655737705,
                    0.9098360655737705,
                    0.9153005464480874,
                    0.9153005464480874,
                    0.9180327868852459,
                    0.9180327868852459,
                    0.9207650273224044,
                    0.9207650273224044,
                    0.9262295081967213,
                    0.9262295081967213,
                    0.9289617486338798,
                    0.9289617486338798,
                    0.9344262295081968,
                    0.9344262295081968,
                    0.9371584699453552,
                    0.9371584699453552,
                    0.9398907103825137,
                    0.9398907103825137,
                    0.9426229508196722,
                    0.9426229508196722,
                    0.9508196721311475,
                    0.9508196721311475,
                    0.9590163934426229,
                    0.9590163934426229,
                    0.9617486338797814,
                    0.9617486338797814,
                    0.9644808743169399,
                    0.9644808743169399,
                    0.9672131147540983,
                    0.9672131147540983,
                    0.9699453551912568,
                    0.9699453551912568,
                    0.9726775956284153,
                    0.9726775956284153,
                    0.9754098360655737,
                    0.9754098360655737,
                    0.9781420765027322,
                    0.9781420765027322,
                    0.9808743169398907,
                    0.9808743169398907,
                    0.9863387978142076,
                    0.9863387978142076,
                    0.9890710382513661,
                    0.9890710382513661,
                    0.9918032786885246,
                    0.9918032786885246,
                    0.994535519125683,
                    0.994535519125683,
                    0.9972677595628415,
                    0.9972677595628415,
                    1,
                    1
                  ]
                },
                {
                  "hovertemplate": "TPR: %{y:.2%}<br>FPR: %{x:.2%}<br>Youden's Index: 0.552",
                  "marker": {
                    "size": 15
                  },
                  "mode": "markers",
                  "showlegend": false,
                  "type": "scatter",
                  "x": [
                    0.09965635738831616
                  ],
                  "y": [
                    0.8715846994535519
                  ]
                },
                {
                  "line": {
                    "color": "#444",
                    "dash": "dash",
                    "width": 2
                  },
                  "showlegend": false,
                  "type": "scatter",
                  "x": [
                    0,
                    1
                  ],
                  "y": [
                    0,
                    1
                  ]
                }
              ],
              "layout": {
                "height": 500,
                "template": {
                  "data": {
                    "bar": [
                      {
                        "error_x": {
                          "color": "#2a3f5f"
                        },
                        "error_y": {
                          "color": "#2a3f5f"
                        },
                        "marker": {
                          "line": {
                            "color": "#E5ECF6",
                            "width": 0.5
                          },
                          "pattern": {
                            "fillmode": "overlay",
                            "size": 10,
                            "solidity": 0.2
                          }
                        },
                        "type": "bar"
                      }
                    ],
                    "barpolar": [
                      {
                        "marker": {
                          "line": {
                            "color": "#E5ECF6",
                            "width": 0.5
                          },
                          "pattern": {
                            "fillmode": "overlay",
                            "size": 10,
                            "solidity": 0.2
                          }
                        },
                        "type": "barpolar"
                      }
                    ],
                    "carpet": [
                      {
                        "aaxis": {
                          "endlinecolor": "#2a3f5f",
                          "gridcolor": "white",
                          "linecolor": "white",
                          "minorgridcolor": "white",
                          "startlinecolor": "#2a3f5f"
                        },
                        "baxis": {
                          "endlinecolor": "#2a3f5f",
                          "gridcolor": "white",
                          "linecolor": "white",
                          "minorgridcolor": "white",
                          "startlinecolor": "#2a3f5f"
                        },
                        "type": "carpet"
                      }
                    ],
                    "choropleth": [
                      {
                        "colorbar": {
                          "outlinewidth": 0,
                          "ticks": ""
                        },
                        "type": "choropleth"
                      }
                    ],
                    "contour": [
                      {
                        "colorbar": {
                          "outlinewidth": 0,
                          "ticks": ""
                        },
                        "colorscale": [
                          [
                            0,
                            "#0d0887"
                          ],
                          [
                            0.1111111111111111,
                            "#46039f"
                          ],
                          [
                            0.2222222222222222,
                            "#7201a8"
                          ],
                          [
                            0.3333333333333333,
                            "#9c179e"
                          ],
                          [
                            0.4444444444444444,
                            "#bd3786"
                          ],
                          [
                            0.5555555555555556,
                            "#d8576b"
                          ],
                          [
                            0.6666666666666666,
                            "#ed7953"
                          ],
                          [
                            0.7777777777777778,
                            "#fb9f3a"
                          ],
                          [
                            0.8888888888888888,
                            "#fdca26"
                          ],
                          [
                            1,
                            "#f0f921"
                          ]
                        ],
                        "type": "contour"
                      }
                    ],
                    "contourcarpet": [
                      {
                        "colorbar": {
                          "outlinewidth": 0,
                          "ticks": ""
                        },
                        "type": "contourcarpet"
                      }
                    ],
                    "heatmap": [
                      {
                        "colorbar": {
                          "outlinewidth": 0,
                          "ticks": ""
                        },
                        "colorscale": [
                          [
                            0,
                            "#0d0887"
                          ],
                          [
                            0.1111111111111111,
                            "#46039f"
                          ],
                          [
                            0.2222222222222222,
                            "#7201a8"
                          ],
                          [
                            0.3333333333333333,
                            "#9c179e"
                          ],
                          [
                            0.4444444444444444,
                            "#bd3786"
                          ],
                          [
                            0.5555555555555556,
                            "#d8576b"
                          ],
                          [
                            0.6666666666666666,
                            "#ed7953"
                          ],
                          [
                            0.7777777777777778,
                            "#fb9f3a"
                          ],
                          [
                            0.8888888888888888,
                            "#fdca26"
                          ],
                          [
                            1,
                            "#f0f921"
                          ]
                        ],
                        "type": "heatmap"
                      }
                    ],
                    "heatmapgl": [
                      {
                        "colorbar": {
                          "outlinewidth": 0,
                          "ticks": ""
                        },
                        "colorscale": [
                          [
                            0,
                            "#0d0887"
                          ],
                          [
                            0.1111111111111111,
                            "#46039f"
                          ],
                          [
                            0.2222222222222222,
                            "#7201a8"
                          ],
                          [
                            0.3333333333333333,
                            "#9c179e"
                          ],
                          [
                            0.4444444444444444,
                            "#bd3786"
                          ],
                          [
                            0.5555555555555556,
                            "#d8576b"
                          ],
                          [
                            0.6666666666666666,
                            "#ed7953"
                          ],
                          [
                            0.7777777777777778,
                            "#fb9f3a"
                          ],
                          [
                            0.8888888888888888,
                            "#fdca26"
                          ],
                          [
                            1,
                            "#f0f921"
                          ]
                        ],
                        "type": "heatmapgl"
                      }
                    ],
                    "histogram": [
                      {
                        "marker": {
                          "pattern": {
                            "fillmode": "overlay",
                            "size": 10,
                            "solidity": 0.2
                          }
                        },
                        "type": "histogram"
                      }
                    ],
                    "histogram2d": [
                      {
                        "colorbar": {
                          "outlinewidth": 0,
                          "ticks": ""
                        },
                        "colorscale": [
                          [
                            0,
                            "#0d0887"
                          ],
                          [
                            0.1111111111111111,
                            "#46039f"
                          ],
                          [
                            0.2222222222222222,
                            "#7201a8"
                          ],
                          [
                            0.3333333333333333,
                            "#9c179e"
                          ],
                          [
                            0.4444444444444444,
                            "#bd3786"
                          ],
                          [
                            0.5555555555555556,
                            "#d8576b"
                          ],
                          [
                            0.6666666666666666,
                            "#ed7953"
                          ],
                          [
                            0.7777777777777778,
                            "#fb9f3a"
                          ],
                          [
                            0.8888888888888888,
                            "#fdca26"
                          ],
                          [
                            1,
                            "#f0f921"
                          ]
                        ],
                        "type": "histogram2d"
                      }
                    ],
                    "histogram2dcontour": [
                      {
                        "colorbar": {
                          "outlinewidth": 0,
                          "ticks": ""
                        },
                        "colorscale": [
                          [
                            0,
                            "#0d0887"
                          ],
                          [
                            0.1111111111111111,
                            "#46039f"
                          ],
                          [
                            0.2222222222222222,
                            "#7201a8"
                          ],
                          [
                            0.3333333333333333,
                            "#9c179e"
                          ],
                          [
                            0.4444444444444444,
                            "#bd3786"
                          ],
                          [
                            0.5555555555555556,
                            "#d8576b"
                          ],
                          [
                            0.6666666666666666,
                            "#ed7953"
                          ],
                          [
                            0.7777777777777778,
                            "#fb9f3a"
                          ],
                          [
                            0.8888888888888888,
                            "#fdca26"
                          ],
                          [
                            1,
                            "#f0f921"
                          ]
                        ],
                        "type": "histogram2dcontour"
                      }
                    ],
                    "mesh3d": [
                      {
                        "colorbar": {
                          "outlinewidth": 0,
                          "ticks": ""
                        },
                        "type": "mesh3d"
                      }
                    ],
                    "parcoords": [
                      {
                        "line": {
                          "colorbar": {
                            "outlinewidth": 0,
                            "ticks": ""
                          }
                        },
                        "type": "parcoords"
                      }
                    ],
                    "pie": [
                      {
                        "automargin": true,
                        "type": "pie"
                      }
                    ],
                    "scatter": [
                      {
                        "marker": {
                          "colorbar": {
                            "outlinewidth": 0,
                            "ticks": ""
                          }
                        },
                        "type": "scatter"
                      }
                    ],
                    "scatter3d": [
                      {
                        "line": {
                          "colorbar": {
                            "outlinewidth": 0,
                            "ticks": ""
                          }
                        },
                        "marker": {
                          "colorbar": {
                            "outlinewidth": 0,
                            "ticks": ""
                          }
                        },
                        "type": "scatter3d"
                      }
                    ],
                    "scattercarpet": [
                      {
                        "marker": {
                          "colorbar": {
                            "outlinewidth": 0,
                            "ticks": ""
                          }
                        },
                        "type": "scattercarpet"
                      }
                    ],
                    "scattergeo": [
                      {
                        "marker": {
                          "colorbar": {
                            "outlinewidth": 0,
                            "ticks": ""
                          }
                        },
                        "type": "scattergeo"
                      }
                    ],
                    "scattergl": [
                      {
                        "marker": {
                          "colorbar": {
                            "outlinewidth": 0,
                            "ticks": ""
                          }
                        },
                        "type": "scattergl"
                      }
                    ],
                    "scattermapbox": [
                      {
                        "marker": {
                          "colorbar": {
                            "outlinewidth": 0,
                            "ticks": ""
                          }
                        },
                        "type": "scattermapbox"
                      }
                    ],
                    "scatterpolar": [
                      {
                        "marker": {
                          "colorbar": {
                            "outlinewidth": 0,
                            "ticks": ""
                          }
                        },
                        "type": "scatterpolar"
                      }
                    ],
                    "scatterpolargl": [
                      {
                        "marker": {
                          "colorbar": {
                            "outlinewidth": 0,
                            "ticks": ""
                          }
                        },
                        "type": "scatterpolargl"
                      }
                    ],
                    "scatterternary": [
                      {
                        "marker": {
                          "colorbar": {
                            "outlinewidth": 0,
                            "ticks": ""
                          }
                        },
                        "type": "scatterternary"
                      }
                    ],
                    "surface": [
                      {
                        "colorbar": {
                          "outlinewidth": 0,
                          "ticks": ""
                        },
                        "colorscale": [
                          [
                            0,
                            "#0d0887"
                          ],
                          [
                            0.1111111111111111,
                            "#46039f"
                          ],
                          [
                            0.2222222222222222,
                            "#7201a8"
                          ],
                          [
                            0.3333333333333333,
                            "#9c179e"
                          ],
                          [
                            0.4444444444444444,
                            "#bd3786"
                          ],
                          [
                            0.5555555555555556,
                            "#d8576b"
                          ],
                          [
                            0.6666666666666666,
                            "#ed7953"
                          ],
                          [
                            0.7777777777777778,
                            "#fb9f3a"
                          ],
                          [
                            0.8888888888888888,
                            "#fdca26"
                          ],
                          [
                            1,
                            "#f0f921"
                          ]
                        ],
                        "type": "surface"
                      }
                    ],
                    "table": [
                      {
                        "cells": {
                          "fill": {
                            "color": "#EBF0F8"
                          },
                          "line": {
                            "color": "white"
                          }
                        },
                        "header": {
                          "fill": {
                            "color": "#C8D4E3"
                          },
                          "line": {
                            "color": "white"
                          }
                        },
                        "type": "table"
                      }
                    ]
                  },
                  "layout": {
                    "annotationdefaults": {
                      "arrowcolor": "#2a3f5f",
                      "arrowhead": 0,
                      "arrowwidth": 1
                    },
                    "autotypenumbers": "strict",
                    "coloraxis": {
                      "colorbar": {
                        "outlinewidth": 0,
                        "ticks": ""
                      }
                    },
                    "colorscale": {
                      "diverging": [
                        [
                          0,
                          "#8e0152"
                        ],
                        [
                          0.1,
                          "#c51b7d"
                        ],
                        [
                          0.2,
                          "#de77ae"
                        ],
                        [
                          0.3,
                          "#f1b6da"
                        ],
                        [
                          0.4,
                          "#fde0ef"
                        ],
                        [
                          0.5,
                          "#f7f7f7"
                        ],
                        [
                          0.6,
                          "#e6f5d0"
                        ],
                        [
                          0.7,
                          "#b8e186"
                        ],
                        [
                          0.8,
                          "#7fbc41"
                        ],
                        [
                          0.9,
                          "#4d9221"
                        ],
                        [
                          1,
                          "#276419"
                        ]
                      ],
                      "sequential": [
                        [
                          0,
                          "#0d0887"
                        ],
                        [
                          0.1111111111111111,
                          "#46039f"
                        ],
                        [
                          0.2222222222222222,
                          "#7201a8"
                        ],
                        [
                          0.3333333333333333,
                          "#9c179e"
                        ],
                        [
                          0.4444444444444444,
                          "#bd3786"
                        ],
                        [
                          0.5555555555555556,
                          "#d8576b"
                        ],
                        [
                          0.6666666666666666,
                          "#ed7953"
                        ],
                        [
                          0.7777777777777778,
                          "#fb9f3a"
                        ],
                        [
                          0.8888888888888888,
                          "#fdca26"
                        ],
                        [
                          1,
                          "#f0f921"
                        ]
                      ],
                      "sequentialminus": [
                        [
                          0,
                          "#0d0887"
                        ],
                        [
                          0.1111111111111111,
                          "#46039f"
                        ],
                        [
                          0.2222222222222222,
                          "#7201a8"
                        ],
                        [
                          0.3333333333333333,
                          "#9c179e"
                        ],
                        [
                          0.4444444444444444,
                          "#bd3786"
                        ],
                        [
                          0.5555555555555556,
                          "#d8576b"
                        ],
                        [
                          0.6666666666666666,
                          "#ed7953"
                        ],
                        [
                          0.7777777777777778,
                          "#fb9f3a"
                        ],
                        [
                          0.8888888888888888,
                          "#fdca26"
                        ],
                        [
                          1,
                          "#f0f921"
                        ]
                      ]
                    },
                    "colorway": [
                      "#636efa",
                      "#EF553B",
                      "#00cc96",
                      "#ab63fa",
                      "#FFA15A",
                      "#19d3f3",
                      "#FF6692",
                      "#B6E880",
                      "#FF97FF",
                      "#FECB52"
                    ],
                    "font": {
                      "color": "#2a3f5f"
                    },
                    "geo": {
                      "bgcolor": "white",
                      "lakecolor": "white",
                      "landcolor": "#E5ECF6",
                      "showlakes": true,
                      "showland": true,
                      "subunitcolor": "white"
                    },
                    "hoverlabel": {
                      "align": "left"
                    },
                    "hovermode": "closest",
                    "mapbox": {
                      "style": "light"
                    },
                    "paper_bgcolor": "white",
                    "plot_bgcolor": "#E5ECF6",
                    "polar": {
                      "angularaxis": {
                        "gridcolor": "white",
                        "linecolor": "white",
                        "ticks": ""
                      },
                      "bgcolor": "#E5ECF6",
                      "radialaxis": {
                        "gridcolor": "white",
                        "linecolor": "white",
                        "ticks": ""
                      }
                    },
                    "scene": {
                      "xaxis": {
                        "backgroundcolor": "#E5ECF6",
                        "gridcolor": "white",
                        "gridwidth": 2,
                        "linecolor": "white",
                        "showbackground": true,
                        "ticks": "",
                        "zerolinecolor": "white"
                      },
                      "yaxis": {
                        "backgroundcolor": "#E5ECF6",
                        "gridcolor": "white",
                        "gridwidth": 2,
                        "linecolor": "white",
                        "showbackground": true,
                        "ticks": "",
                        "zerolinecolor": "white"
                      },
                      "zaxis": {
                        "backgroundcolor": "#E5ECF6",
                        "gridcolor": "white",
                        "gridwidth": 2,
                        "linecolor": "white",
                        "showbackground": true,
                        "ticks": "",
                        "zerolinecolor": "white"
                      }
                    },
                    "shapedefaults": {
                      "line": {
                        "color": "#2a3f5f"
                      }
                    },
                    "ternary": {
                      "aaxis": {
                        "gridcolor": "white",
                        "linecolor": "white",
                        "ticks": ""
                      },
                      "baxis": {
                        "gridcolor": "white",
                        "linecolor": "white",
                        "ticks": ""
                      },
                      "bgcolor": "#E5ECF6",
                      "caxis": {
                        "gridcolor": "white",
                        "linecolor": "white",
                        "ticks": ""
                      }
                    },
                    "title": {
                      "x": 0.05
                    },
                    "xaxis": {
                      "automargin": true,
                      "gridcolor": "white",
                      "linecolor": "white",
                      "ticks": "",
                      "title": {
                        "standoff": 15
                      },
                      "zerolinecolor": "white",
                      "zerolinewidth": 2
                    },
                    "yaxis": {
                      "automargin": true,
                      "gridcolor": "white",
                      "linecolor": "white",
                      "ticks": "",
                      "title": {
                        "standoff": 15
                      },
                      "zerolinecolor": "white",
                      "zerolinewidth": 2
                    }
                  }
                },
                "title": {
                  "text": "Receiver operating characteristic for binary data"
                },
                "width": 900,
                "xaxis": {
                  "title": {
                    "text": "False Positive Rate"
                  }
                },
                "yaxis": {
                  "title": {
                    "text": "True Positive Rate"
                  }
                }
              }
            }
          },
          "metadata": {},
          "output_type": "display_data"
        },
        {
          "data": {
            "text/html": [
              "<div><span style=\"font-size:0.8em\"><i>\n",
              "        The marked points are the optimal threshold cut-off points. They are determined using Youden's index defined\n",
              "        as sensitivity + specificity - 1\n",
              "        </i></span></div><br><a href=\"#summary_DETA7\" style=\"font-size: 14px\">Go to top</a>"
            ]
          },
          "metadata": {},
          "output_type": "display_data"
        },
        {
          "data": {
            "text/html": [
              "<hr style=\"background-color: #eee;border: 0 none;color: #eee;height: 4px;\">"
            ]
          },
          "metadata": {},
          "output_type": "display_data"
        },
        {
          "data": {
            "text/html": [
              "<h4 id=\"ROCReport-TestDataset_DETA7\">ROC Report - Test Dataset</h4><p>Calculate the ROC curve for each class. <a href=\"https://docs.deepchecks.com/0.6.1/examples/tabular/checks/performance/examples/plot_roc_report.html?utm_source=display_output&utm_medium=referral&utm_campaign=check_link\" target=\"_blank\">Read More...</a></p><h5>Conditions Summary</h5><style type=\"text/css\">\n",
              "#T_9b8da table {\n",
              "  text-align: left;\n",
              "  white-space: pre-wrap;\n",
              "}\n",
              "#T_9b8da thead {\n",
              "  text-align: left;\n",
              "  white-space: pre-wrap;\n",
              "}\n",
              "#T_9b8da tbody {\n",
              "  text-align: left;\n",
              "  white-space: pre-wrap;\n",
              "}\n",
              "#T_9b8da th {\n",
              "  text-align: left;\n",
              "  white-space: pre-wrap;\n",
              "}\n",
              "#T_9b8da td {\n",
              "  text-align: left;\n",
              "  white-space: pre-wrap;\n",
              "}\n",
              "</style>\n",
              "<table id=\"T_9b8da\">\n",
              "  <thead>\n",
              "    <tr>\n",
              "      <th id=\"T_9b8da_level0_col0\" class=\"col_heading level0 col0\" >Status</th>\n",
              "      <th id=\"T_9b8da_level0_col1\" class=\"col_heading level0 col1\" >Condition</th>\n",
              "      <th id=\"T_9b8da_level0_col2\" class=\"col_heading level0 col2\" >More Info</th>\n",
              "    </tr>\n",
              "  </thead>\n",
              "  <tbody>\n",
              "    <tr>\n",
              "      <td id=\"T_9b8da_row0_col0\" class=\"data row0 col0\" ><div style=\"color: green;text-align: center\">✓</div></td>\n",
              "      <td id=\"T_9b8da_row0_col1\" class=\"data row0 col1\" >AUC score for all the classes is not less than 0.7</td>\n",
              "      <td id=\"T_9b8da_row0_col2\" class=\"data row0 col2\" ></td>\n",
              "    </tr>\n",
              "  </tbody>\n",
              "</table>\n",
              "<h5>Additional Outputs</h5>"
            ]
          },
          "metadata": {},
          "output_type": "display_data"
        },
        {
          "data": {
            "application/vnd.plotly.v1+json": {
              "config": {
                "plotlyServerURL": "https://plot.ly"
              },
              "data": [
                {
                  "line": {
                    "width": 2
                  },
                  "name": "auc = 0.78",
                  "type": "scatter",
                  "x": [
                    0,
                    0,
                    0,
                    0.010309278350515464,
                    0.010309278350515464,
                    0.020618556701030927,
                    0.020618556701030927,
                    0.041237113402061855,
                    0.041237113402061855,
                    0.05154639175257732,
                    0.05154639175257732,
                    0.061855670103092786,
                    0.061855670103092786,
                    0.09278350515463918,
                    0.09278350515463918,
                    0.10309278350515463,
                    0.10309278350515463,
                    0.1134020618556701,
                    0.1134020618556701,
                    0.12371134020618557,
                    0.12371134020618557,
                    0.13402061855670103,
                    0.13402061855670103,
                    0.14432989690721648,
                    0.14432989690721648,
                    0.16494845360824742,
                    0.16494845360824742,
                    0.17525773195876287,
                    0.17525773195876287,
                    0.20618556701030927,
                    0.20618556701030927,
                    0.21649484536082475,
                    0.21649484536082475,
                    0.2268041237113402,
                    0.2268041237113402,
                    0.23711340206185566,
                    0.23711340206185566,
                    0.24742268041237114,
                    0.24742268041237114,
                    0.25773195876288657,
                    0.25773195876288657,
                    0.27835051546391754,
                    0.27835051546391754,
                    0.28865979381443296,
                    0.28865979381443296,
                    0.29896907216494845,
                    0.29896907216494845,
                    0.30927835051546393,
                    0.30927835051546393,
                    0.31958762886597936,
                    0.31958762886597936,
                    0.3402061855670103,
                    0.3402061855670103,
                    0.35051546391752575,
                    0.35051546391752575,
                    0.36082474226804123,
                    0.36082474226804123,
                    0.3917525773195876,
                    0.3917525773195876,
                    0.44329896907216493,
                    0.44329896907216493,
                    0.4639175257731959,
                    0.4639175257731959,
                    0.4742268041237113,
                    0.4742268041237113,
                    0.4845360824742268,
                    0.4845360824742268,
                    0.5051546391752577,
                    0.5051546391752577,
                    0.5360824742268041,
                    0.5360824742268041,
                    0.5979381443298969,
                    0.5979381443298969,
                    0.6082474226804123,
                    0.6082474226804123,
                    0.6391752577319587,
                    0.6391752577319587,
                    0.7010309278350515,
                    0.7010309278350515,
                    0.7216494845360825,
                    0.7216494845360825,
                    0.7628865979381443,
                    0.7628865979381443,
                    0.8247422680412371,
                    0.8247422680412371,
                    0.845360824742268,
                    0.845360824742268,
                    0.9175257731958762,
                    0.9175257731958762,
                    0.9690721649484536,
                    0.9690721649484536,
                    1
                  ],
                  "y": [
                    0,
                    0.008130081300813009,
                    0.17073170731707318,
                    0.17073170731707318,
                    0.2032520325203252,
                    0.2032520325203252,
                    0.23577235772357724,
                    0.23577235772357724,
                    0.3008130081300813,
                    0.3008130081300813,
                    0.3089430894308943,
                    0.3089430894308943,
                    0.37398373983739835,
                    0.37398373983739835,
                    0.4146341463414634,
                    0.4146341463414634,
                    0.4878048780487805,
                    0.4878048780487805,
                    0.5040650406504065,
                    0.5040650406504065,
                    0.5121951219512195,
                    0.5121951219512195,
                    0.5284552845528455,
                    0.5284552845528455,
                    0.5609756097560976,
                    0.5609756097560976,
                    0.5691056910569106,
                    0.5691056910569106,
                    0.5772357723577236,
                    0.5772357723577236,
                    0.6097560975609756,
                    0.6097560975609756,
                    0.6178861788617886,
                    0.6178861788617886,
                    0.6341463414634146,
                    0.6341463414634146,
                    0.6504065040650406,
                    0.6504065040650406,
                    0.6585365853658537,
                    0.6585365853658537,
                    0.6666666666666666,
                    0.6666666666666666,
                    0.6829268292682927,
                    0.6829268292682927,
                    0.6910569105691057,
                    0.6910569105691057,
                    0.7073170731707317,
                    0.7073170731707317,
                    0.7560975609756098,
                    0.7560975609756098,
                    0.7642276422764228,
                    0.7642276422764228,
                    0.8211382113821138,
                    0.8211382113821138,
                    0.8292682926829268,
                    0.8292682926829268,
                    0.8373983739837398,
                    0.8373983739837398,
                    0.8455284552845529,
                    0.8455284552845529,
                    0.8536585365853658,
                    0.8536585365853658,
                    0.8617886178861789,
                    0.8617886178861789,
                    0.8699186991869918,
                    0.8699186991869918,
                    0.8780487804878049,
                    0.8780487804878049,
                    0.8861788617886179,
                    0.8861788617886179,
                    0.8943089430894309,
                    0.8943089430894309,
                    0.9024390243902439,
                    0.9024390243902439,
                    0.9105691056910569,
                    0.9105691056910569,
                    0.9186991869918699,
                    0.9186991869918699,
                    0.926829268292683,
                    0.926829268292683,
                    0.943089430894309,
                    0.943089430894309,
                    0.959349593495935,
                    0.959349593495935,
                    0.967479674796748,
                    0.967479674796748,
                    0.975609756097561,
                    0.975609756097561,
                    0.983739837398374,
                    0.983739837398374,
                    1,
                    1
                  ]
                },
                {
                  "hovertemplate": "TPR: %{y:.2%}<br>FPR: %{x:.2%}<br>Youden's Index: 0.431",
                  "marker": {
                    "size": 15
                  },
                  "mode": "markers",
                  "showlegend": false,
                  "type": "scatter",
                  "x": [
                    0.3402061855670103
                  ],
                  "y": [
                    0.8211382113821138
                  ]
                },
                {
                  "line": {
                    "color": "#444",
                    "dash": "dash",
                    "width": 2
                  },
                  "showlegend": false,
                  "type": "scatter",
                  "x": [
                    0,
                    1
                  ],
                  "y": [
                    0,
                    1
                  ]
                }
              ],
              "layout": {
                "height": 500,
                "template": {
                  "data": {
                    "bar": [
                      {
                        "error_x": {
                          "color": "#2a3f5f"
                        },
                        "error_y": {
                          "color": "#2a3f5f"
                        },
                        "marker": {
                          "line": {
                            "color": "#E5ECF6",
                            "width": 0.5
                          },
                          "pattern": {
                            "fillmode": "overlay",
                            "size": 10,
                            "solidity": 0.2
                          }
                        },
                        "type": "bar"
                      }
                    ],
                    "barpolar": [
                      {
                        "marker": {
                          "line": {
                            "color": "#E5ECF6",
                            "width": 0.5
                          },
                          "pattern": {
                            "fillmode": "overlay",
                            "size": 10,
                            "solidity": 0.2
                          }
                        },
                        "type": "barpolar"
                      }
                    ],
                    "carpet": [
                      {
                        "aaxis": {
                          "endlinecolor": "#2a3f5f",
                          "gridcolor": "white",
                          "linecolor": "white",
                          "minorgridcolor": "white",
                          "startlinecolor": "#2a3f5f"
                        },
                        "baxis": {
                          "endlinecolor": "#2a3f5f",
                          "gridcolor": "white",
                          "linecolor": "white",
                          "minorgridcolor": "white",
                          "startlinecolor": "#2a3f5f"
                        },
                        "type": "carpet"
                      }
                    ],
                    "choropleth": [
                      {
                        "colorbar": {
                          "outlinewidth": 0,
                          "ticks": ""
                        },
                        "type": "choropleth"
                      }
                    ],
                    "contour": [
                      {
                        "colorbar": {
                          "outlinewidth": 0,
                          "ticks": ""
                        },
                        "colorscale": [
                          [
                            0,
                            "#0d0887"
                          ],
                          [
                            0.1111111111111111,
                            "#46039f"
                          ],
                          [
                            0.2222222222222222,
                            "#7201a8"
                          ],
                          [
                            0.3333333333333333,
                            "#9c179e"
                          ],
                          [
                            0.4444444444444444,
                            "#bd3786"
                          ],
                          [
                            0.5555555555555556,
                            "#d8576b"
                          ],
                          [
                            0.6666666666666666,
                            "#ed7953"
                          ],
                          [
                            0.7777777777777778,
                            "#fb9f3a"
                          ],
                          [
                            0.8888888888888888,
                            "#fdca26"
                          ],
                          [
                            1,
                            "#f0f921"
                          ]
                        ],
                        "type": "contour"
                      }
                    ],
                    "contourcarpet": [
                      {
                        "colorbar": {
                          "outlinewidth": 0,
                          "ticks": ""
                        },
                        "type": "contourcarpet"
                      }
                    ],
                    "heatmap": [
                      {
                        "colorbar": {
                          "outlinewidth": 0,
                          "ticks": ""
                        },
                        "colorscale": [
                          [
                            0,
                            "#0d0887"
                          ],
                          [
                            0.1111111111111111,
                            "#46039f"
                          ],
                          [
                            0.2222222222222222,
                            "#7201a8"
                          ],
                          [
                            0.3333333333333333,
                            "#9c179e"
                          ],
                          [
                            0.4444444444444444,
                            "#bd3786"
                          ],
                          [
                            0.5555555555555556,
                            "#d8576b"
                          ],
                          [
                            0.6666666666666666,
                            "#ed7953"
                          ],
                          [
                            0.7777777777777778,
                            "#fb9f3a"
                          ],
                          [
                            0.8888888888888888,
                            "#fdca26"
                          ],
                          [
                            1,
                            "#f0f921"
                          ]
                        ],
                        "type": "heatmap"
                      }
                    ],
                    "heatmapgl": [
                      {
                        "colorbar": {
                          "outlinewidth": 0,
                          "ticks": ""
                        },
                        "colorscale": [
                          [
                            0,
                            "#0d0887"
                          ],
                          [
                            0.1111111111111111,
                            "#46039f"
                          ],
                          [
                            0.2222222222222222,
                            "#7201a8"
                          ],
                          [
                            0.3333333333333333,
                            "#9c179e"
                          ],
                          [
                            0.4444444444444444,
                            "#bd3786"
                          ],
                          [
                            0.5555555555555556,
                            "#d8576b"
                          ],
                          [
                            0.6666666666666666,
                            "#ed7953"
                          ],
                          [
                            0.7777777777777778,
                            "#fb9f3a"
                          ],
                          [
                            0.8888888888888888,
                            "#fdca26"
                          ],
                          [
                            1,
                            "#f0f921"
                          ]
                        ],
                        "type": "heatmapgl"
                      }
                    ],
                    "histogram": [
                      {
                        "marker": {
                          "pattern": {
                            "fillmode": "overlay",
                            "size": 10,
                            "solidity": 0.2
                          }
                        },
                        "type": "histogram"
                      }
                    ],
                    "histogram2d": [
                      {
                        "colorbar": {
                          "outlinewidth": 0,
                          "ticks": ""
                        },
                        "colorscale": [
                          [
                            0,
                            "#0d0887"
                          ],
                          [
                            0.1111111111111111,
                            "#46039f"
                          ],
                          [
                            0.2222222222222222,
                            "#7201a8"
                          ],
                          [
                            0.3333333333333333,
                            "#9c179e"
                          ],
                          [
                            0.4444444444444444,
                            "#bd3786"
                          ],
                          [
                            0.5555555555555556,
                            "#d8576b"
                          ],
                          [
                            0.6666666666666666,
                            "#ed7953"
                          ],
                          [
                            0.7777777777777778,
                            "#fb9f3a"
                          ],
                          [
                            0.8888888888888888,
                            "#fdca26"
                          ],
                          [
                            1,
                            "#f0f921"
                          ]
                        ],
                        "type": "histogram2d"
                      }
                    ],
                    "histogram2dcontour": [
                      {
                        "colorbar": {
                          "outlinewidth": 0,
                          "ticks": ""
                        },
                        "colorscale": [
                          [
                            0,
                            "#0d0887"
                          ],
                          [
                            0.1111111111111111,
                            "#46039f"
                          ],
                          [
                            0.2222222222222222,
                            "#7201a8"
                          ],
                          [
                            0.3333333333333333,
                            "#9c179e"
                          ],
                          [
                            0.4444444444444444,
                            "#bd3786"
                          ],
                          [
                            0.5555555555555556,
                            "#d8576b"
                          ],
                          [
                            0.6666666666666666,
                            "#ed7953"
                          ],
                          [
                            0.7777777777777778,
                            "#fb9f3a"
                          ],
                          [
                            0.8888888888888888,
                            "#fdca26"
                          ],
                          [
                            1,
                            "#f0f921"
                          ]
                        ],
                        "type": "histogram2dcontour"
                      }
                    ],
                    "mesh3d": [
                      {
                        "colorbar": {
                          "outlinewidth": 0,
                          "ticks": ""
                        },
                        "type": "mesh3d"
                      }
                    ],
                    "parcoords": [
                      {
                        "line": {
                          "colorbar": {
                            "outlinewidth": 0,
                            "ticks": ""
                          }
                        },
                        "type": "parcoords"
                      }
                    ],
                    "pie": [
                      {
                        "automargin": true,
                        "type": "pie"
                      }
                    ],
                    "scatter": [
                      {
                        "marker": {
                          "colorbar": {
                            "outlinewidth": 0,
                            "ticks": ""
                          }
                        },
                        "type": "scatter"
                      }
                    ],
                    "scatter3d": [
                      {
                        "line": {
                          "colorbar": {
                            "outlinewidth": 0,
                            "ticks": ""
                          }
                        },
                        "marker": {
                          "colorbar": {
                            "outlinewidth": 0,
                            "ticks": ""
                          }
                        },
                        "type": "scatter3d"
                      }
                    ],
                    "scattercarpet": [
                      {
                        "marker": {
                          "colorbar": {
                            "outlinewidth": 0,
                            "ticks": ""
                          }
                        },
                        "type": "scattercarpet"
                      }
                    ],
                    "scattergeo": [
                      {
                        "marker": {
                          "colorbar": {
                            "outlinewidth": 0,
                            "ticks": ""
                          }
                        },
                        "type": "scattergeo"
                      }
                    ],
                    "scattergl": [
                      {
                        "marker": {
                          "colorbar": {
                            "outlinewidth": 0,
                            "ticks": ""
                          }
                        },
                        "type": "scattergl"
                      }
                    ],
                    "scattermapbox": [
                      {
                        "marker": {
                          "colorbar": {
                            "outlinewidth": 0,
                            "ticks": ""
                          }
                        },
                        "type": "scattermapbox"
                      }
                    ],
                    "scatterpolar": [
                      {
                        "marker": {
                          "colorbar": {
                            "outlinewidth": 0,
                            "ticks": ""
                          }
                        },
                        "type": "scatterpolar"
                      }
                    ],
                    "scatterpolargl": [
                      {
                        "marker": {
                          "colorbar": {
                            "outlinewidth": 0,
                            "ticks": ""
                          }
                        },
                        "type": "scatterpolargl"
                      }
                    ],
                    "scatterternary": [
                      {
                        "marker": {
                          "colorbar": {
                            "outlinewidth": 0,
                            "ticks": ""
                          }
                        },
                        "type": "scatterternary"
                      }
                    ],
                    "surface": [
                      {
                        "colorbar": {
                          "outlinewidth": 0,
                          "ticks": ""
                        },
                        "colorscale": [
                          [
                            0,
                            "#0d0887"
                          ],
                          [
                            0.1111111111111111,
                            "#46039f"
                          ],
                          [
                            0.2222222222222222,
                            "#7201a8"
                          ],
                          [
                            0.3333333333333333,
                            "#9c179e"
                          ],
                          [
                            0.4444444444444444,
                            "#bd3786"
                          ],
                          [
                            0.5555555555555556,
                            "#d8576b"
                          ],
                          [
                            0.6666666666666666,
                            "#ed7953"
                          ],
                          [
                            0.7777777777777778,
                            "#fb9f3a"
                          ],
                          [
                            0.8888888888888888,
                            "#fdca26"
                          ],
                          [
                            1,
                            "#f0f921"
                          ]
                        ],
                        "type": "surface"
                      }
                    ],
                    "table": [
                      {
                        "cells": {
                          "fill": {
                            "color": "#EBF0F8"
                          },
                          "line": {
                            "color": "white"
                          }
                        },
                        "header": {
                          "fill": {
                            "color": "#C8D4E3"
                          },
                          "line": {
                            "color": "white"
                          }
                        },
                        "type": "table"
                      }
                    ]
                  },
                  "layout": {
                    "annotationdefaults": {
                      "arrowcolor": "#2a3f5f",
                      "arrowhead": 0,
                      "arrowwidth": 1
                    },
                    "autotypenumbers": "strict",
                    "coloraxis": {
                      "colorbar": {
                        "outlinewidth": 0,
                        "ticks": ""
                      }
                    },
                    "colorscale": {
                      "diverging": [
                        [
                          0,
                          "#8e0152"
                        ],
                        [
                          0.1,
                          "#c51b7d"
                        ],
                        [
                          0.2,
                          "#de77ae"
                        ],
                        [
                          0.3,
                          "#f1b6da"
                        ],
                        [
                          0.4,
                          "#fde0ef"
                        ],
                        [
                          0.5,
                          "#f7f7f7"
                        ],
                        [
                          0.6,
                          "#e6f5d0"
                        ],
                        [
                          0.7,
                          "#b8e186"
                        ],
                        [
                          0.8,
                          "#7fbc41"
                        ],
                        [
                          0.9,
                          "#4d9221"
                        ],
                        [
                          1,
                          "#276419"
                        ]
                      ],
                      "sequential": [
                        [
                          0,
                          "#0d0887"
                        ],
                        [
                          0.1111111111111111,
                          "#46039f"
                        ],
                        [
                          0.2222222222222222,
                          "#7201a8"
                        ],
                        [
                          0.3333333333333333,
                          "#9c179e"
                        ],
                        [
                          0.4444444444444444,
                          "#bd3786"
                        ],
                        [
                          0.5555555555555556,
                          "#d8576b"
                        ],
                        [
                          0.6666666666666666,
                          "#ed7953"
                        ],
                        [
                          0.7777777777777778,
                          "#fb9f3a"
                        ],
                        [
                          0.8888888888888888,
                          "#fdca26"
                        ],
                        [
                          1,
                          "#f0f921"
                        ]
                      ],
                      "sequentialminus": [
                        [
                          0,
                          "#0d0887"
                        ],
                        [
                          0.1111111111111111,
                          "#46039f"
                        ],
                        [
                          0.2222222222222222,
                          "#7201a8"
                        ],
                        [
                          0.3333333333333333,
                          "#9c179e"
                        ],
                        [
                          0.4444444444444444,
                          "#bd3786"
                        ],
                        [
                          0.5555555555555556,
                          "#d8576b"
                        ],
                        [
                          0.6666666666666666,
                          "#ed7953"
                        ],
                        [
                          0.7777777777777778,
                          "#fb9f3a"
                        ],
                        [
                          0.8888888888888888,
                          "#fdca26"
                        ],
                        [
                          1,
                          "#f0f921"
                        ]
                      ]
                    },
                    "colorway": [
                      "#636efa",
                      "#EF553B",
                      "#00cc96",
                      "#ab63fa",
                      "#FFA15A",
                      "#19d3f3",
                      "#FF6692",
                      "#B6E880",
                      "#FF97FF",
                      "#FECB52"
                    ],
                    "font": {
                      "color": "#2a3f5f"
                    },
                    "geo": {
                      "bgcolor": "white",
                      "lakecolor": "white",
                      "landcolor": "#E5ECF6",
                      "showlakes": true,
                      "showland": true,
                      "subunitcolor": "white"
                    },
                    "hoverlabel": {
                      "align": "left"
                    },
                    "hovermode": "closest",
                    "mapbox": {
                      "style": "light"
                    },
                    "paper_bgcolor": "white",
                    "plot_bgcolor": "#E5ECF6",
                    "polar": {
                      "angularaxis": {
                        "gridcolor": "white",
                        "linecolor": "white",
                        "ticks": ""
                      },
                      "bgcolor": "#E5ECF6",
                      "radialaxis": {
                        "gridcolor": "white",
                        "linecolor": "white",
                        "ticks": ""
                      }
                    },
                    "scene": {
                      "xaxis": {
                        "backgroundcolor": "#E5ECF6",
                        "gridcolor": "white",
                        "gridwidth": 2,
                        "linecolor": "white",
                        "showbackground": true,
                        "ticks": "",
                        "zerolinecolor": "white"
                      },
                      "yaxis": {
                        "backgroundcolor": "#E5ECF6",
                        "gridcolor": "white",
                        "gridwidth": 2,
                        "linecolor": "white",
                        "showbackground": true,
                        "ticks": "",
                        "zerolinecolor": "white"
                      },
                      "zaxis": {
                        "backgroundcolor": "#E5ECF6",
                        "gridcolor": "white",
                        "gridwidth": 2,
                        "linecolor": "white",
                        "showbackground": true,
                        "ticks": "",
                        "zerolinecolor": "white"
                      }
                    },
                    "shapedefaults": {
                      "line": {
                        "color": "#2a3f5f"
                      }
                    },
                    "ternary": {
                      "aaxis": {
                        "gridcolor": "white",
                        "linecolor": "white",
                        "ticks": ""
                      },
                      "baxis": {
                        "gridcolor": "white",
                        "linecolor": "white",
                        "ticks": ""
                      },
                      "bgcolor": "#E5ECF6",
                      "caxis": {
                        "gridcolor": "white",
                        "linecolor": "white",
                        "ticks": ""
                      }
                    },
                    "title": {
                      "x": 0.05
                    },
                    "xaxis": {
                      "automargin": true,
                      "gridcolor": "white",
                      "linecolor": "white",
                      "ticks": "",
                      "title": {
                        "standoff": 15
                      },
                      "zerolinecolor": "white",
                      "zerolinewidth": 2
                    },
                    "yaxis": {
                      "automargin": true,
                      "gridcolor": "white",
                      "linecolor": "white",
                      "ticks": "",
                      "title": {
                        "standoff": 15
                      },
                      "zerolinecolor": "white",
                      "zerolinewidth": 2
                    }
                  }
                },
                "title": {
                  "text": "Receiver operating characteristic for binary data"
                },
                "width": 900,
                "xaxis": {
                  "title": {
                    "text": "False Positive Rate"
                  }
                },
                "yaxis": {
                  "title": {
                    "text": "True Positive Rate"
                  }
                }
              }
            }
          },
          "metadata": {},
          "output_type": "display_data"
        },
        {
          "data": {
            "text/html": [
              "<div><span style=\"font-size:0.8em\"><i>\n",
              "        The marked points are the optimal threshold cut-off points. They are determined using Youden's index defined\n",
              "        as sensitivity + specificity - 1\n",
              "        </i></span></div><br><a href=\"#summary_DETA7\" style=\"font-size: 14px\">Go to top</a>"
            ]
          },
          "metadata": {},
          "output_type": "display_data"
        },
        {
          "data": {
            "text/html": [
              "<hr style=\"background-color: #eee;border: 0 none;color: #eee;height: 4px;\">"
            ]
          },
          "metadata": {},
          "output_type": "display_data"
        },
        {
          "data": {
            "text/html": [
              "<h4 id=\"TrainTestDrift_DETA7\">Train Test Drift</h4><p>    Calculate drift between train dataset and test dataset per feature, using statistical measures. <a href=\"https://docs.deepchecks.com/0.6.1/examples/tabular/checks/distribution/examples/plot_train_test_feature_drift.html?utm_source=display_output&utm_medium=referral&utm_campaign=check_link\" target=\"_blank\">Read More...</a></p><h5>Conditions Summary</h5><style type=\"text/css\">\n",
              "#T_54402 table {\n",
              "  text-align: left;\n",
              "  white-space: pre-wrap;\n",
              "}\n",
              "#T_54402 thead {\n",
              "  text-align: left;\n",
              "  white-space: pre-wrap;\n",
              "}\n",
              "#T_54402 tbody {\n",
              "  text-align: left;\n",
              "  white-space: pre-wrap;\n",
              "}\n",
              "#T_54402 th {\n",
              "  text-align: left;\n",
              "  white-space: pre-wrap;\n",
              "}\n",
              "#T_54402 td {\n",
              "  text-align: left;\n",
              "  white-space: pre-wrap;\n",
              "}\n",
              "</style>\n",
              "<table id=\"T_54402\">\n",
              "  <thead>\n",
              "    <tr>\n",
              "      <th id=\"T_54402_level0_col0\" class=\"col_heading level0 col0\" >Status</th>\n",
              "      <th id=\"T_54402_level0_col1\" class=\"col_heading level0 col1\" >Condition</th>\n",
              "      <th id=\"T_54402_level0_col2\" class=\"col_heading level0 col2\" >More Info</th>\n",
              "    </tr>\n",
              "  </thead>\n",
              "  <tbody>\n",
              "    <tr>\n",
              "      <td id=\"T_54402_row0_col0\" class=\"data row0 col0\" ><div style=\"color: green;text-align: center\">✓</div></td>\n",
              "      <td id=\"T_54402_row0_col1\" class=\"data row0 col1\" >PSI <= 0.2 and Earth Mover's Distance <= 0.1</td>\n",
              "      <td id=\"T_54402_row0_col2\" class=\"data row0 col2\" ></td>\n",
              "    </tr>\n",
              "  </tbody>\n",
              "</table>\n",
              "<h5>Additional Outputs</h5><div><span>\n",
              "            The Drift score is a measure for the difference between two distributions, in this check - the test\n",
              "            and train distributions.<br> The check shows the drift score and distributions for the features, sorted by\n",
              "            feature importance and showing only the top 5 features, according to feature importance.\n",
              "            <br>If available, the plot titles also show the feature importance (FI) rank.\n",
              "        </span></div>"
            ]
          },
          "metadata": {},
          "output_type": "display_data"
        },
        {
          "data": {
            "application/vnd.plotly.v1+json": {
              "config": {
                "plotlyServerURL": "https://plot.ly"
              },
              "data": [
                {
                  "base": 0,
                  "marker": {
                    "color": "#01B8AA"
                  },
                  "offsetgroup": "0",
                  "orientation": "h",
                  "showlegend": false,
                  "type": "bar",
                  "x": [
                    0.010157428821812382
                  ],
                  "xaxis": "x",
                  "y": [
                    "Drift Score"
                  ],
                  "yaxis": "y"
                },
                {
                  "fill": "tozeroy",
                  "line": {
                    "color": "#00008b"
                  },
                  "name": "Train Dataset",
                  "type": "scatter",
                  "x": [
                    8.4,
                    8.514285714285714,
                    8.628571428571428,
                    8.742857142857144,
                    8.857142857142858,
                    8.971428571428572,
                    9,
                    9.085714285714285,
                    9.1,
                    9.1,
                    9.2,
                    9.2,
                    9.2,
                    9.2,
                    9.200000000000001,
                    9.268,
                    9.3,
                    9.3,
                    9.3,
                    9.314285714285715,
                    9.4,
                    9.4,
                    9.4,
                    9.4,
                    9.4,
                    9.428571428571429,
                    9.5,
                    9.5,
                    9.5,
                    9.5,
                    9.5,
                    9.5,
                    9.5,
                    9.522,
                    9.542857142857143,
                    9.6,
                    9.6,
                    9.6,
                    9.6,
                    9.657142857142858,
                    9.7,
                    9.7,
                    9.7,
                    9.707999999999998,
                    9.771428571428572,
                    9.8,
                    9.8,
                    9.8,
                    9.8,
                    9.8,
                    9.885714285714286,
                    9.9,
                    9.9,
                    9.926000000000002,
                    10,
                    10,
                    10,
                    10,
                    10,
                    10,
                    10.1,
                    10.1,
                    10.112,
                    10.114285714285714,
                    10.2,
                    10.2,
                    10.22857142857143,
                    10.3,
                    10.3,
                    10.3,
                    10.342857142857143,
                    10.4,
                    10.4,
                    10.4,
                    10.457142857142857,
                    10.5,
                    10.5,
                    10.5,
                    10.5,
                    10.571428571428571,
                    10.589,
                    10.6,
                    10.685714285714287,
                    10.7,
                    10.7,
                    10.8,
                    10.8,
                    10.8,
                    10.9,
                    10.9,
                    10.9,
                    10.914285714285715,
                    11,
                    11,
                    11,
                    11,
                    11.028571428571428,
                    11.1,
                    11.142857142857142,
                    11.144,
                    11.2,
                    11.257142857142858,
                    11.282,
                    11.3,
                    11.3,
                    11.371428571428572,
                    11.4,
                    11.4,
                    11.4,
                    11.485714285714286,
                    11.5,
                    11.504000000000008,
                    11.6,
                    11.634,
                    11.7,
                    11.7,
                    11.714285714285715,
                    11.8,
                    11.82857142857143,
                    11.91,
                    11.942857142857143,
                    12,
                    12.057142857142857,
                    12.17142857142857,
                    12.2,
                    12.285714285714286,
                    12.3,
                    12.4,
                    12.4,
                    12.486,
                    12.514285714285714,
                    12.548000000000002,
                    12.6,
                    12.62857142857143,
                    12.742857142857144,
                    12.857142857142858,
                    12.862,
                    12.888,
                    12.971428571428572,
                    13.085714285714285,
                    13.2,
                    13.314285714285713,
                    13.428571428571429,
                    13.542857142857143,
                    13.657142857142858,
                    13.771428571428572,
                    13.885714285714286,
                    14
                  ],
                  "xaxis": "x2",
                  "y": [
                    0.006240571980020898,
                    0.011733247100636566,
                    0.023312079982882095,
                    0.04580057867927358,
                    0.08454207439152026,
                    0.14316001085780797,
                    0.16094424599543722,
                    0.22065635539252226,
                    0.2313596089316682,
                    0.2313596089316682,
                    0.30916850603485135,
                    0.30916850603485135,
                    0.30916850603485135,
                    0.30916850603485135,
                    0.309168506034853,
                    0.36132760088336374,
                    0.3844399670667196,
                    0.3844399670667196,
                    0.3844399670667196,
                    0.3943158138274994,
                    0.44585231864052083,
                    0.44585231864052083,
                    0.44585231864052083,
                    0.44585231864052083,
                    0.44585231864052083,
                    0.45946272420150747,
                    0.48428765188092343,
                    0.48428765188092343,
                    0.48428765188092343,
                    0.48428765188092343,
                    0.48428765188092343,
                    0.48428765188092343,
                    0.48428765188092343,
                    0.4891580727249828,
                    0.492556801002253,
                    0.4959460012888165,
                    0.4959460012888165,
                    0.4959460012888165,
                    0.4959460012888165,
                    0.49128892445012246,
                    0.48322547884352357,
                    0.48322547884352357,
                    0.48322547884352357,
                    0.48134304743611117,
                    0.4629570479035,
                    0.4530545975361178,
                    0.4530545975361178,
                    0.4530545975361178,
                    0.4530545975361178,
                    0.4530545975361178,
                    0.41982594963381326,
                    0.41402340370340607,
                    0.41402340370340607,
                    0.40343302831549543,
                    0.3739803920575736,
                    0.3739803920575736,
                    0.3739803920575736,
                    0.3739803920575736,
                    0.3739803920575736,
                    0.3739803920575736,
                    0.338718718181622,
                    0.338718718181622,
                    0.3349879004736981,
                    0.33429083906715573,
                    0.3113889013779459,
                    0.3113889013779459,
                    0.3051520033842095,
                    0.2923422585206116,
                    0.2923422585206116,
                    0.2923422585206116,
                    0.286290856772924,
                    0.279661514543811,
                    0.279661514543811,
                    0.279661514543811,
                    0.2741754163945974,
                    0.2705242695959741,
                    0.2705242695959741,
                    0.2705242695959741,
                    0.2705242695959741,
                    0.26490158419651,
                    0.26356965201754134,
                    0.26274312646974374,
                    0.256485650974534,
                    0.255478988292955,
                    0.255478988292955,
                    0.24884897805248823,
                    0.24884897805248823,
                    0.24884897805248823,
                    0.24308936974787282,
                    0.24308936974787282,
                    0.24308936974787282,
                    0.2423334363617838,
                    0.23800705060063282,
                    0.23800705060063282,
                    0.23800705060063282,
                    0.23800705060063282,
                    0.23658764336885188,
                    0.2328561080846523,
                    0.23034541074416812,
                    0.23027439383338486,
                    0.2264668046994314,
                    0.22177821578664172,
                    0.21944261128425854,
                    0.21763204960068838,
                    0.21763204960068838,
                    0.20945247429221744,
                    0.2057578954778274,
                    0.2057578954778274,
                    0.2057578954778274,
                    0.19352617845807793,
                    0.1913643911983333,
                    0.19075483413592909,
                    0.1758610465032468,
                    0.1706039627899054,
                    0.16063926690462188,
                    0.16063926690462188,
                    0.15853449359181535,
                    0.14630892885801008,
                    0.14237528758228854,
                    0.13151254688389744,
                    0.12728722546354565,
                    0.1202277520101736,
                    0.11367181207042495,
                    0.10276324916873551,
                    0.10058068953207351,
                    0.09530265983886681,
                    0.09458232756083883,
                    0.09027428597450544,
                    0.09027428597450544,
                    0.08665603349688368,
                    0.08528806650528649,
                    0.08347308455296931,
                    0.08020387474982948,
                    0.0781406897610405,
                    0.06798545427551578,
                    0.05542620818070481,
                    0.05486040489679815,
                    0.051810382760981044,
                    0.042004107932725764,
                    0.02956979864414006,
                    0.019643412766573564,
                    0.01295008328225632,
                    0.009420833216371032,
                    0.008563272383467335,
                    0.009726165487176601,
                    0.011996607574985373,
                    0.01406228635972771,
                    0.014569046783240076
                  ],
                  "yaxis": "y2"
                },
                {
                  "fill": "tozeroy",
                  "line": {
                    "color": "#69b3a2"
                  },
                  "name": "Test Dataset",
                  "type": "scatter",
                  "x": [
                    8.4,
                    8.514285714285714,
                    8.628571428571428,
                    8.742857142857144,
                    8.857142857142858,
                    8.971428571428572,
                    9,
                    9.085714285714285,
                    9.1,
                    9.1,
                    9.2,
                    9.2,
                    9.2,
                    9.2,
                    9.200000000000001,
                    9.268,
                    9.3,
                    9.3,
                    9.3,
                    9.314285714285715,
                    9.4,
                    9.4,
                    9.4,
                    9.4,
                    9.4,
                    9.428571428571429,
                    9.5,
                    9.5,
                    9.5,
                    9.5,
                    9.5,
                    9.5,
                    9.5,
                    9.522,
                    9.542857142857143,
                    9.6,
                    9.6,
                    9.6,
                    9.6,
                    9.657142857142858,
                    9.7,
                    9.7,
                    9.7,
                    9.707999999999998,
                    9.771428571428572,
                    9.8,
                    9.8,
                    9.8,
                    9.8,
                    9.8,
                    9.885714285714286,
                    9.9,
                    9.9,
                    9.926000000000002,
                    10,
                    10,
                    10,
                    10,
                    10,
                    10,
                    10.1,
                    10.1,
                    10.112,
                    10.114285714285714,
                    10.2,
                    10.2,
                    10.22857142857143,
                    10.3,
                    10.3,
                    10.3,
                    10.342857142857143,
                    10.4,
                    10.4,
                    10.4,
                    10.457142857142857,
                    10.5,
                    10.5,
                    10.5,
                    10.5,
                    10.571428571428571,
                    10.589,
                    10.6,
                    10.685714285714287,
                    10.7,
                    10.7,
                    10.8,
                    10.8,
                    10.8,
                    10.9,
                    10.9,
                    10.9,
                    10.914285714285715,
                    11,
                    11,
                    11,
                    11,
                    11.028571428571428,
                    11.1,
                    11.142857142857142,
                    11.144,
                    11.2,
                    11.257142857142858,
                    11.282,
                    11.3,
                    11.3,
                    11.371428571428572,
                    11.4,
                    11.4,
                    11.4,
                    11.485714285714286,
                    11.5,
                    11.504000000000008,
                    11.6,
                    11.634,
                    11.7,
                    11.7,
                    11.714285714285715,
                    11.8,
                    11.82857142857143,
                    11.91,
                    11.942857142857143,
                    12,
                    12.057142857142857,
                    12.17142857142857,
                    12.2,
                    12.285714285714286,
                    12.3,
                    12.4,
                    12.4,
                    12.486,
                    12.514285714285714,
                    12.548000000000002,
                    12.6,
                    12.62857142857143,
                    12.742857142857144,
                    12.857142857142858,
                    12.862,
                    12.888,
                    12.971428571428572,
                    13.085714285714285,
                    13.2,
                    13.314285714285713,
                    13.428571428571429,
                    13.542857142857143,
                    13.657142857142858,
                    13.771428571428572,
                    13.885714285714286,
                    14
                  ],
                  "xaxis": "x2",
                  "y": [
                    0.005336521771108518,
                    0.014676623983960158,
                    0.03453031361242312,
                    0.070071337325285,
                    0.12381727736160364,
                    0.19259866609755766,
                    0.2111459747713823,
                    0.2669965814300712,
                    0.27606510023220987,
                    0.27606510023220987,
                    0.3344479824203922,
                    0.3344479824203922,
                    0.3344479824203922,
                    0.3344479824203922,
                    0.33444798242039325,
                    0.3667244736836819,
                    0.3793254249263763,
                    0.3793254249263763,
                    0.3793254249263763,
                    0.3843841027264823,
                    0.40731643777012055,
                    0.40731643777012055,
                    0.40731643777012055,
                    0.40731643777012055,
                    0.40731643777012055,
                    0.41221943246316783,
                    0.4191258543967084,
                    0.4191258543967084,
                    0.4191258543967084,
                    0.4191258543967084,
                    0.4191258543967084,
                    0.4191258543967084,
                    0.4191258543967084,
                    0.4198919489228306,
                    0.42010940259914287,
                    0.41855613071481884,
                    0.41855613071481884,
                    0.41855613071481884,
                    0.41855613071481884,
                    0.414612866779916,
                    0.4106191536419143,
                    0.4106191536419143,
                    0.4106191536419143,
                    0.4098053543150707,
                    0.4028706856035254,
                    0.3995726204300381,
                    0.3995726204300381,
                    0.3995726204300381,
                    0.3995726204300381,
                    0.3995726204300381,
                    0.38942605566941735,
                    0.38771060722973766,
                    0.38771060722973766,
                    0.38456597345492327,
                    0.37535174718521297,
                    0.37535174718521297,
                    0.37535174718521297,
                    0.37535174718521297,
                    0.37535174718521297,
                    0.37535174718521297,
                    0.36172804843640066,
                    0.36172804843640066,
                    0.3599640147505158,
                    0.35962439710132027,
                    0.34599892867311477,
                    0.34599892867311477,
                    0.3410602271271968,
                    0.32790236387302746,
                    0.32790236387302746,
                    0.32790236387302746,
                    0.3195549108385978,
                    0.3081444348967963,
                    0.3081444348967963,
                    0.3081444348967963,
                    0.2967958926927812,
                    0.2886326171599443,
                    0.2886326171599443,
                    0.2886326171599443,
                    0.2886326171599443,
                    0.27638018798239494,
                    0.27371978910243855,
                    0.27213752864995,
                    0.262214723727566,
                    0.2609884425183203,
                    0.2609884425183203,
                    0.25542384152776576,
                    0.25542384152776576,
                    0.25542384152776576,
                    0.2530708299757009,
                    0.2530708299757009,
                    0.2530708299757009,
                    0.2527832305800714,
                    0.25030875873109565,
                    0.25030875873109565,
                    0.25030875873109565,
                    0.25030875873109565,
                    0.24901791456104505,
                    0.24445064238452197,
                    0.240766464427294,
                    0.24065891889715552,
                    0.23484325847145537,
                    0.22792619738739053,
                    0.22464932345434258,
                    0.22218356652978408,
                    0.22218356652978408,
                    0.2116681668019841,
                    0.20713720682059986,
                    0.20713720682059986,
                    0.20713720682059986,
                    0.19236957900981505,
                    0.18973026261956258,
                    0.18898203325567786,
                    0.16987858886527202,
                    0.16266385421191837,
                    0.1483021015577396,
                    0.1483021015577396,
                    0.14517789977730775,
                    0.1269316793577982,
                    0.12123881757925817,
                    0.10689407033461676,
                    0.10210581028492934,
                    0.09539608777261113,
                    0.09084617306168907,
                    0.08771011980928116,
                    0.08790308814666391,
                    0.08971606551898789,
                    0.09009410244438662,
                    0.0921195461229775,
                    0.0921195461229775,
                    0.09170252986283041,
                    0.09095994812217756,
                    0.08966502816795734,
                    0.08683127432945284,
                    0.0848808558943655,
                    0.07497722236894379,
                    0.06328201551204246,
                    0.0627734135992538,
                    0.06005416063658865,
                    0.051499423866451816,
                    0.04070940890822332,
                    0.03155132035248402,
                    0.02429221982004042,
                    0.018760742155203538,
                    0.01442340080027832,
                    0.010709191493763188,
                    0.007363331020374131,
                    0.004510855675140735,
                    0.002393695475190369
                  ],
                  "yaxis": "y2"
                }
              ],
              "layout": {
                "annotations": [
                  {
                    "font": {
                      "size": 16
                    },
                    "showarrow": false,
                    "text": "Drift Score (Earth Mover's Distance)",
                    "x": 0.5,
                    "xanchor": "center",
                    "xref": "paper",
                    "y": 1.0000000000000002,
                    "yanchor": "bottom",
                    "yref": "paper"
                  },
                  {
                    "font": {
                      "size": 16
                    },
                    "showarrow": false,
                    "text": "Distribution Plot",
                    "x": 0.5,
                    "xanchor": "center",
                    "xref": "paper",
                    "y": 0.7200000000000001,
                    "yanchor": "bottom",
                    "yref": "paper"
                  }
                ],
                "bargroupgap": 0,
                "height": 400,
                "legend": {
                  "title": {
                    "text": "Dataset"
                  },
                  "y": 0.6,
                  "yanchor": "top"
                },
                "template": {
                  "data": {
                    "bar": [
                      {
                        "error_x": {
                          "color": "#2a3f5f"
                        },
                        "error_y": {
                          "color": "#2a3f5f"
                        },
                        "marker": {
                          "line": {
                            "color": "#E5ECF6",
                            "width": 0.5
                          },
                          "pattern": {
                            "fillmode": "overlay",
                            "size": 10,
                            "solidity": 0.2
                          }
                        },
                        "type": "bar"
                      }
                    ],
                    "barpolar": [
                      {
                        "marker": {
                          "line": {
                            "color": "#E5ECF6",
                            "width": 0.5
                          },
                          "pattern": {
                            "fillmode": "overlay",
                            "size": 10,
                            "solidity": 0.2
                          }
                        },
                        "type": "barpolar"
                      }
                    ],
                    "carpet": [
                      {
                        "aaxis": {
                          "endlinecolor": "#2a3f5f",
                          "gridcolor": "white",
                          "linecolor": "white",
                          "minorgridcolor": "white",
                          "startlinecolor": "#2a3f5f"
                        },
                        "baxis": {
                          "endlinecolor": "#2a3f5f",
                          "gridcolor": "white",
                          "linecolor": "white",
                          "minorgridcolor": "white",
                          "startlinecolor": "#2a3f5f"
                        },
                        "type": "carpet"
                      }
                    ],
                    "choropleth": [
                      {
                        "colorbar": {
                          "outlinewidth": 0,
                          "ticks": ""
                        },
                        "type": "choropleth"
                      }
                    ],
                    "contour": [
                      {
                        "colorbar": {
                          "outlinewidth": 0,
                          "ticks": ""
                        },
                        "colorscale": [
                          [
                            0,
                            "#0d0887"
                          ],
                          [
                            0.1111111111111111,
                            "#46039f"
                          ],
                          [
                            0.2222222222222222,
                            "#7201a8"
                          ],
                          [
                            0.3333333333333333,
                            "#9c179e"
                          ],
                          [
                            0.4444444444444444,
                            "#bd3786"
                          ],
                          [
                            0.5555555555555556,
                            "#d8576b"
                          ],
                          [
                            0.6666666666666666,
                            "#ed7953"
                          ],
                          [
                            0.7777777777777778,
                            "#fb9f3a"
                          ],
                          [
                            0.8888888888888888,
                            "#fdca26"
                          ],
                          [
                            1,
                            "#f0f921"
                          ]
                        ],
                        "type": "contour"
                      }
                    ],
                    "contourcarpet": [
                      {
                        "colorbar": {
                          "outlinewidth": 0,
                          "ticks": ""
                        },
                        "type": "contourcarpet"
                      }
                    ],
                    "heatmap": [
                      {
                        "colorbar": {
                          "outlinewidth": 0,
                          "ticks": ""
                        },
                        "colorscale": [
                          [
                            0,
                            "#0d0887"
                          ],
                          [
                            0.1111111111111111,
                            "#46039f"
                          ],
                          [
                            0.2222222222222222,
                            "#7201a8"
                          ],
                          [
                            0.3333333333333333,
                            "#9c179e"
                          ],
                          [
                            0.4444444444444444,
                            "#bd3786"
                          ],
                          [
                            0.5555555555555556,
                            "#d8576b"
                          ],
                          [
                            0.6666666666666666,
                            "#ed7953"
                          ],
                          [
                            0.7777777777777778,
                            "#fb9f3a"
                          ],
                          [
                            0.8888888888888888,
                            "#fdca26"
                          ],
                          [
                            1,
                            "#f0f921"
                          ]
                        ],
                        "type": "heatmap"
                      }
                    ],
                    "heatmapgl": [
                      {
                        "colorbar": {
                          "outlinewidth": 0,
                          "ticks": ""
                        },
                        "colorscale": [
                          [
                            0,
                            "#0d0887"
                          ],
                          [
                            0.1111111111111111,
                            "#46039f"
                          ],
                          [
                            0.2222222222222222,
                            "#7201a8"
                          ],
                          [
                            0.3333333333333333,
                            "#9c179e"
                          ],
                          [
                            0.4444444444444444,
                            "#bd3786"
                          ],
                          [
                            0.5555555555555556,
                            "#d8576b"
                          ],
                          [
                            0.6666666666666666,
                            "#ed7953"
                          ],
                          [
                            0.7777777777777778,
                            "#fb9f3a"
                          ],
                          [
                            0.8888888888888888,
                            "#fdca26"
                          ],
                          [
                            1,
                            "#f0f921"
                          ]
                        ],
                        "type": "heatmapgl"
                      }
                    ],
                    "histogram": [
                      {
                        "marker": {
                          "pattern": {
                            "fillmode": "overlay",
                            "size": 10,
                            "solidity": 0.2
                          }
                        },
                        "type": "histogram"
                      }
                    ],
                    "histogram2d": [
                      {
                        "colorbar": {
                          "outlinewidth": 0,
                          "ticks": ""
                        },
                        "colorscale": [
                          [
                            0,
                            "#0d0887"
                          ],
                          [
                            0.1111111111111111,
                            "#46039f"
                          ],
                          [
                            0.2222222222222222,
                            "#7201a8"
                          ],
                          [
                            0.3333333333333333,
                            "#9c179e"
                          ],
                          [
                            0.4444444444444444,
                            "#bd3786"
                          ],
                          [
                            0.5555555555555556,
                            "#d8576b"
                          ],
                          [
                            0.6666666666666666,
                            "#ed7953"
                          ],
                          [
                            0.7777777777777778,
                            "#fb9f3a"
                          ],
                          [
                            0.8888888888888888,
                            "#fdca26"
                          ],
                          [
                            1,
                            "#f0f921"
                          ]
                        ],
                        "type": "histogram2d"
                      }
                    ],
                    "histogram2dcontour": [
                      {
                        "colorbar": {
                          "outlinewidth": 0,
                          "ticks": ""
                        },
                        "colorscale": [
                          [
                            0,
                            "#0d0887"
                          ],
                          [
                            0.1111111111111111,
                            "#46039f"
                          ],
                          [
                            0.2222222222222222,
                            "#7201a8"
                          ],
                          [
                            0.3333333333333333,
                            "#9c179e"
                          ],
                          [
                            0.4444444444444444,
                            "#bd3786"
                          ],
                          [
                            0.5555555555555556,
                            "#d8576b"
                          ],
                          [
                            0.6666666666666666,
                            "#ed7953"
                          ],
                          [
                            0.7777777777777778,
                            "#fb9f3a"
                          ],
                          [
                            0.8888888888888888,
                            "#fdca26"
                          ],
                          [
                            1,
                            "#f0f921"
                          ]
                        ],
                        "type": "histogram2dcontour"
                      }
                    ],
                    "mesh3d": [
                      {
                        "colorbar": {
                          "outlinewidth": 0,
                          "ticks": ""
                        },
                        "type": "mesh3d"
                      }
                    ],
                    "parcoords": [
                      {
                        "line": {
                          "colorbar": {
                            "outlinewidth": 0,
                            "ticks": ""
                          }
                        },
                        "type": "parcoords"
                      }
                    ],
                    "pie": [
                      {
                        "automargin": true,
                        "type": "pie"
                      }
                    ],
                    "scatter": [
                      {
                        "marker": {
                          "colorbar": {
                            "outlinewidth": 0,
                            "ticks": ""
                          }
                        },
                        "type": "scatter"
                      }
                    ],
                    "scatter3d": [
                      {
                        "line": {
                          "colorbar": {
                            "outlinewidth": 0,
                            "ticks": ""
                          }
                        },
                        "marker": {
                          "colorbar": {
                            "outlinewidth": 0,
                            "ticks": ""
                          }
                        },
                        "type": "scatter3d"
                      }
                    ],
                    "scattercarpet": [
                      {
                        "marker": {
                          "colorbar": {
                            "outlinewidth": 0,
                            "ticks": ""
                          }
                        },
                        "type": "scattercarpet"
                      }
                    ],
                    "scattergeo": [
                      {
                        "marker": {
                          "colorbar": {
                            "outlinewidth": 0,
                            "ticks": ""
                          }
                        },
                        "type": "scattergeo"
                      }
                    ],
                    "scattergl": [
                      {
                        "marker": {
                          "colorbar": {
                            "outlinewidth": 0,
                            "ticks": ""
                          }
                        },
                        "type": "scattergl"
                      }
                    ],
                    "scattermapbox": [
                      {
                        "marker": {
                          "colorbar": {
                            "outlinewidth": 0,
                            "ticks": ""
                          }
                        },
                        "type": "scattermapbox"
                      }
                    ],
                    "scatterpolar": [
                      {
                        "marker": {
                          "colorbar": {
                            "outlinewidth": 0,
                            "ticks": ""
                          }
                        },
                        "type": "scatterpolar"
                      }
                    ],
                    "scatterpolargl": [
                      {
                        "marker": {
                          "colorbar": {
                            "outlinewidth": 0,
                            "ticks": ""
                          }
                        },
                        "type": "scatterpolargl"
                      }
                    ],
                    "scatterternary": [
                      {
                        "marker": {
                          "colorbar": {
                            "outlinewidth": 0,
                            "ticks": ""
                          }
                        },
                        "type": "scatterternary"
                      }
                    ],
                    "surface": [
                      {
                        "colorbar": {
                          "outlinewidth": 0,
                          "ticks": ""
                        },
                        "colorscale": [
                          [
                            0,
                            "#0d0887"
                          ],
                          [
                            0.1111111111111111,
                            "#46039f"
                          ],
                          [
                            0.2222222222222222,
                            "#7201a8"
                          ],
                          [
                            0.3333333333333333,
                            "#9c179e"
                          ],
                          [
                            0.4444444444444444,
                            "#bd3786"
                          ],
                          [
                            0.5555555555555556,
                            "#d8576b"
                          ],
                          [
                            0.6666666666666666,
                            "#ed7953"
                          ],
                          [
                            0.7777777777777778,
                            "#fb9f3a"
                          ],
                          [
                            0.8888888888888888,
                            "#fdca26"
                          ],
                          [
                            1,
                            "#f0f921"
                          ]
                        ],
                        "type": "surface"
                      }
                    ],
                    "table": [
                      {
                        "cells": {
                          "fill": {
                            "color": "#EBF0F8"
                          },
                          "line": {
                            "color": "white"
                          }
                        },
                        "header": {
                          "fill": {
                            "color": "#C8D4E3"
                          },
                          "line": {
                            "color": "white"
                          }
                        },
                        "type": "table"
                      }
                    ]
                  },
                  "layout": {
                    "annotationdefaults": {
                      "arrowcolor": "#2a3f5f",
                      "arrowhead": 0,
                      "arrowwidth": 1
                    },
                    "autotypenumbers": "strict",
                    "coloraxis": {
                      "colorbar": {
                        "outlinewidth": 0,
                        "ticks": ""
                      }
                    },
                    "colorscale": {
                      "diverging": [
                        [
                          0,
                          "#8e0152"
                        ],
                        [
                          0.1,
                          "#c51b7d"
                        ],
                        [
                          0.2,
                          "#de77ae"
                        ],
                        [
                          0.3,
                          "#f1b6da"
                        ],
                        [
                          0.4,
                          "#fde0ef"
                        ],
                        [
                          0.5,
                          "#f7f7f7"
                        ],
                        [
                          0.6,
                          "#e6f5d0"
                        ],
                        [
                          0.7,
                          "#b8e186"
                        ],
                        [
                          0.8,
                          "#7fbc41"
                        ],
                        [
                          0.9,
                          "#4d9221"
                        ],
                        [
                          1,
                          "#276419"
                        ]
                      ],
                      "sequential": [
                        [
                          0,
                          "#0d0887"
                        ],
                        [
                          0.1111111111111111,
                          "#46039f"
                        ],
                        [
                          0.2222222222222222,
                          "#7201a8"
                        ],
                        [
                          0.3333333333333333,
                          "#9c179e"
                        ],
                        [
                          0.4444444444444444,
                          "#bd3786"
                        ],
                        [
                          0.5555555555555556,
                          "#d8576b"
                        ],
                        [
                          0.6666666666666666,
                          "#ed7953"
                        ],
                        [
                          0.7777777777777778,
                          "#fb9f3a"
                        ],
                        [
                          0.8888888888888888,
                          "#fdca26"
                        ],
                        [
                          1,
                          "#f0f921"
                        ]
                      ],
                      "sequentialminus": [
                        [
                          0,
                          "#0d0887"
                        ],
                        [
                          0.1111111111111111,
                          "#46039f"
                        ],
                        [
                          0.2222222222222222,
                          "#7201a8"
                        ],
                        [
                          0.3333333333333333,
                          "#9c179e"
                        ],
                        [
                          0.4444444444444444,
                          "#bd3786"
                        ],
                        [
                          0.5555555555555556,
                          "#d8576b"
                        ],
                        [
                          0.6666666666666666,
                          "#ed7953"
                        ],
                        [
                          0.7777777777777778,
                          "#fb9f3a"
                        ],
                        [
                          0.8888888888888888,
                          "#fdca26"
                        ],
                        [
                          1,
                          "#f0f921"
                        ]
                      ]
                    },
                    "colorway": [
                      "#636efa",
                      "#EF553B",
                      "#00cc96",
                      "#ab63fa",
                      "#FFA15A",
                      "#19d3f3",
                      "#FF6692",
                      "#B6E880",
                      "#FF97FF",
                      "#FECB52"
                    ],
                    "font": {
                      "color": "#2a3f5f"
                    },
                    "geo": {
                      "bgcolor": "white",
                      "lakecolor": "white",
                      "landcolor": "#E5ECF6",
                      "showlakes": true,
                      "showland": true,
                      "subunitcolor": "white"
                    },
                    "hoverlabel": {
                      "align": "left"
                    },
                    "hovermode": "closest",
                    "mapbox": {
                      "style": "light"
                    },
                    "paper_bgcolor": "white",
                    "plot_bgcolor": "#E5ECF6",
                    "polar": {
                      "angularaxis": {
                        "gridcolor": "white",
                        "linecolor": "white",
                        "ticks": ""
                      },
                      "bgcolor": "#E5ECF6",
                      "radialaxis": {
                        "gridcolor": "white",
                        "linecolor": "white",
                        "ticks": ""
                      }
                    },
                    "scene": {
                      "xaxis": {
                        "backgroundcolor": "#E5ECF6",
                        "gridcolor": "white",
                        "gridwidth": 2,
                        "linecolor": "white",
                        "showbackground": true,
                        "ticks": "",
                        "zerolinecolor": "white"
                      },
                      "yaxis": {
                        "backgroundcolor": "#E5ECF6",
                        "gridcolor": "white",
                        "gridwidth": 2,
                        "linecolor": "white",
                        "showbackground": true,
                        "ticks": "",
                        "zerolinecolor": "white"
                      },
                      "zaxis": {
                        "backgroundcolor": "#E5ECF6",
                        "gridcolor": "white",
                        "gridwidth": 2,
                        "linecolor": "white",
                        "showbackground": true,
                        "ticks": "",
                        "zerolinecolor": "white"
                      }
                    },
                    "shapedefaults": {
                      "line": {
                        "color": "#2a3f5f"
                      }
                    },
                    "ternary": {
                      "aaxis": {
                        "gridcolor": "white",
                        "linecolor": "white",
                        "ticks": ""
                      },
                      "baxis": {
                        "gridcolor": "white",
                        "linecolor": "white",
                        "ticks": ""
                      },
                      "bgcolor": "#E5ECF6",
                      "caxis": {
                        "gridcolor": "white",
                        "linecolor": "white",
                        "ticks": ""
                      }
                    },
                    "title": {
                      "x": 0.05
                    },
                    "xaxis": {
                      "automargin": true,
                      "gridcolor": "white",
                      "linecolor": "white",
                      "ticks": "",
                      "title": {
                        "standoff": 15
                      },
                      "zerolinecolor": "white",
                      "zerolinewidth": 2
                    },
                    "yaxis": {
                      "automargin": true,
                      "gridcolor": "white",
                      "linecolor": "white",
                      "ticks": "",
                      "title": {
                        "standoff": 15
                      },
                      "zerolinecolor": "white",
                      "zerolinewidth": 2
                    }
                  }
                },
                "title": {
                  "text": "alcohol (#1 in FI)",
                  "x": 0.5,
                  "xanchor": "center"
                },
                "width": 700,
                "xaxis": {
                  "anchor": "y",
                  "domain": [
                    0,
                    1
                  ],
                  "dtick": 0.05,
                  "fixedrange": true,
                  "gridcolor": "black",
                  "linecolor": "black",
                  "range": [
                    0,
                    0.4
                  ],
                  "showgrid": false
                },
                "xaxis2": {
                  "anchor": "y2",
                  "domain": [
                    0,
                    1
                  ],
                  "fixedrange": false,
                  "range": [
                    9,
                    12.888
                  ],
                  "title": {
                    "text": "alcohol"
                  }
                },
                "yaxis": {
                  "anchor": "x",
                  "color": "black",
                  "domain": [
                    0.9200000000000002,
                    1
                  ],
                  "fixedrange": true,
                  "showgrid": false,
                  "showline": false,
                  "showticklabels": false,
                  "zeroline": false
                },
                "yaxis2": {
                  "anchor": "x2",
                  "domain": [
                    0,
                    0.7200000000000001
                  ],
                  "fixedrange": true,
                  "title": {
                    "text": "Probability Density"
                  }
                }
              }
            }
          },
          "metadata": {},
          "output_type": "display_data"
        },
        {
          "data": {
            "text/html": []
          },
          "metadata": {},
          "output_type": "display_data"
        },
        {
          "data": {
            "application/vnd.plotly.v1+json": {
              "config": {
                "plotlyServerURL": "https://plot.ly"
              },
              "data": [
                {
                  "base": 0,
                  "marker": {
                    "color": "#01B8AA"
                  },
                  "offsetgroup": "0",
                  "orientation": "h",
                  "showlegend": false,
                  "type": "bar",
                  "x": [
                    0.021273362749770673
                  ],
                  "xaxis": "x",
                  "y": [
                    "Drift Score"
                  ],
                  "yaxis": "y"
                },
                {
                  "fill": "tozeroy",
                  "line": {
                    "color": "#00008b"
                  },
                  "name": "Train Dataset",
                  "type": "scatter",
                  "x": [
                    0.33,
                    0.34102040816326534,
                    0.3520408163265306,
                    0.36306122448979594,
                    0.37408163265306127,
                    0.38510204081632654,
                    0.39612244897959187,
                    0.40714285714285714,
                    0.41816326530612247,
                    0.4291836734693878,
                    0.44,
                    0.44,
                    0.44020408163265307,
                    0.4476,
                    0.4512244897959184,
                    0.46224489795918366,
                    0.47,
                    0.47,
                    0.473265306122449,
                    0.48,
                    0.4842857142857143,
                    0.48519999999999996,
                    0.49,
                    0.49,
                    0.49530612244897965,
                    0.5,
                    0.5028,
                    0.5063265306122449,
                    0.51,
                    0.5173469387755102,
                    0.52,
                    0.52,
                    0.52,
                    0.5283673469387755,
                    0.53,
                    0.53,
                    0.5393877551020408,
                    0.54,
                    0.54,
                    0.54,
                    0.54,
                    0.55,
                    0.55,
                    0.55,
                    0.55,
                    0.5504081632653062,
                    0.56,
                    0.56,
                    0.56,
                    0.56,
                    0.56,
                    0.56,
                    0.5614285714285714,
                    0.57,
                    0.57,
                    0.57,
                    0.5724489795918368,
                    0.5746,
                    0.58,
                    0.58,
                    0.58,
                    0.583469387755102,
                    0.59,
                    0.59,
                    0.59,
                    0.59,
                    0.59,
                    0.5944897959183674,
                    0.6,
                    0.6,
                    0.6,
                    0.6,
                    0.6055102040816327,
                    0.61,
                    0.61,
                    0.61,
                    0.6165306122448979,
                    0.62,
                    0.62,
                    0.62,
                    0.62,
                    0.62,
                    0.6275510204081634,
                    0.63,
                    0.63,
                    0.63,
                    0.6385714285714286,
                    0.64,
                    0.64,
                    0.64,
                    0.64,
                    0.6495918367346939,
                    0.65,
                    0.65,
                    0.6516,
                    0.66,
                    0.66,
                    0.6606122448979592,
                    0.67,
                    0.67,
                    0.6716326530612244,
                    0.6792000000000002,
                    0.68,
                    0.68,
                    0.6826530612244899,
                    0.6868000000000001,
                    0.69,
                    0.6936734693877551,
                    0.7,
                    0.7006,
                    0.7046938775510204,
                    0.71,
                    0.71,
                    0.7157142857142857,
                    0.72,
                    0.72,
                    0.726734693877551,
                    0.73,
                    0.7320000000000002,
                    0.7377551020408164,
                    0.74,
                    0.74,
                    0.7487755102040816,
                    0.75,
                    0.759795918367347,
                    0.76,
                    0.77,
                    0.77,
                    0.7708163265306123,
                    0.78,
                    0.7818367346938776,
                    0.79,
                    0.7909999999999999,
                    0.7928571428571429,
                    0.8,
                    0.8038775510204081,
                    0.81,
                    0.81,
                    0.8148979591836736,
                    0.8224,
                    0.8259183673469388,
                    0.83,
                    0.836938775510204,
                    0.8462000000000001,
                    0.8479591836734695,
                    0.8587999999999999,
                    0.8589795918367347,
                    0.87
                  ],
                  "xaxis": "x2",
                  "y": [
                    0.02605457852289468,
                    0.027570089658609322,
                    0.030141840615690595,
                    0.03888027155880859,
                    0.05916810963355788,
                    0.09648205676893996,
                    0.15752977442049867,
                    0.2498959502463998,
                    0.37894517424720064,
                    0.5448977631213372,
                    0.7388987759391391,
                    0.7388987759391391,
                    0.7428056168797336,
                    0.8891651116447016,
                    0.9635831738257075,
                    1.1950168948784055,
                    1.3588967939441574,
                    1.3588967939441574,
                    1.4281573871037163,
                    1.5738591070143926,
                    1.6710628811558614,
                    1.6925162746230027,
                    1.8107427374132177,
                    1.8107427374132177,
                    1.9554986843444442,
                    2.0989927132398756,
                    2.1922618604575836,
                    2.3180412305569527,
                    2.4584254695801917,
                    2.762080998474327,
                    2.8764322127441875,
                    2.8764322127441875,
                    2.8764322127441875,
                    3.2359664298355124,
                    3.3035788376576627,
                    3.3035788376576627,
                    3.655281513299754,
                    3.675432815710429,
                    3.675432815710429,
                    3.675432815710429,
                    3.675432815710429,
                    3.946273142230096,
                    3.946273142230096,
                    3.946273142230096,
                    3.946273142230096,
                    3.9549472604449325,
                    4.109490545450183,
                    4.109490545450183,
                    4.109490545450183,
                    4.109490545450183,
                    4.109490545450183,
                    4.109490545450183,
                    4.125295321218709,
                    4.190570789206934,
                    4.190570789206934,
                    4.190570789206934,
                    4.201763863442852,
                    4.209452925234134,
                    4.221071536488831,
                    4.221071536488831,
                    4.221071536488831,
                    4.223203405846324,
                    4.215546452298477,
                    4.215546452298477,
                    4.215546452298477,
                    4.215546452298477,
                    4.215546452298477,
                    4.200124648469482,
                    4.16756812339872,
                    4.16756812339872,
                    4.16756812339872,
                    4.16756812339872,
                    4.117743653177483,
                    4.0633351235292405,
                    4.0633351235292405,
                    4.0633351235292405,
                    3.9619909252205243,
                    3.898112154949977,
                    3.898112154949977,
                    3.898112154949977,
                    3.898112154949977,
                    3.898112154949977,
                    3.7387026003031707,
                    3.6820633844165367,
                    3.6820633844165367,
                    3.6820633844165367,
                    3.470658480312995,
                    3.4339863910925628,
                    3.4339863910925628,
                    3.4339863910925628,
                    3.4339863910925628,
                    3.1824491927515095,
                    3.1716368915958983,
                    3.1716368915958983,
                    3.129234408439178,
                    2.9075314133608994,
                    2.9075314133608994,
                    2.8915244403710694,
                    2.651633376601328,
                    2.651633376601328,
                    2.6113826950783876,
                    2.4332360988084485,
                    2.415354845922378,
                    2.415354845922378,
                    2.3575586577495224,
                    2.2722005501194955,
                    2.2107838213818893,
                    2.145242864182502,
                    2.0445974829555382,
                    2.0358116142234315,
                    1.9789991678127736,
                    1.912264983674341,
                    1.912264983674341,
                    1.8463668797561728,
                    1.79903589400549,
                    1.79903589400549,
                    1.7251040392841435,
                    1.6886487641219754,
                    1.6660149709638048,
                    1.5996563049108248,
                    1.5734185804192375,
                    1.5734185804192375,
                    1.4712721365330317,
                    1.4573314359384855,
                    1.3518520539980885,
                    1.3497928445129233,
                    1.2564401913009458,
                    1.2564401913009458,
                    1.249437061804628,
                    1.1756713890841928,
                    1.1618071857956802,
                    1.102636279070714,
                    1.0956210421312829,
                    1.082717002838788,
                    1.0346457105117335,
                    1.0096984703637106,
                    0.9722000156138777,
                    0.9722000156138777,
                    0.9439494488134621,
                    0.9033458889498279,
                    0.8850549756659055,
                    0.8639828400740925,
                    0.8269747335090932,
                    0.7699473446757025,
                    0.7574701179846818,
                    0.6642543829098363,
                    0.662449850151219,
                    0.5360571913601158
                  ],
                  "yaxis": "y2"
                },
                {
                  "fill": "tozeroy",
                  "line": {
                    "color": "#69b3a2"
                  },
                  "name": "Test Dataset",
                  "type": "scatter",
                  "x": [
                    0.33,
                    0.34102040816326534,
                    0.3520408163265306,
                    0.36306122448979594,
                    0.37408163265306127,
                    0.38510204081632654,
                    0.39612244897959187,
                    0.40714285714285714,
                    0.41816326530612247,
                    0.4291836734693878,
                    0.44,
                    0.44,
                    0.44020408163265307,
                    0.4476,
                    0.4512244897959184,
                    0.46224489795918366,
                    0.47,
                    0.47,
                    0.473265306122449,
                    0.48,
                    0.4842857142857143,
                    0.48519999999999996,
                    0.49,
                    0.49,
                    0.49530612244897965,
                    0.5,
                    0.5028,
                    0.5063265306122449,
                    0.51,
                    0.5173469387755102,
                    0.52,
                    0.52,
                    0.52,
                    0.5283673469387755,
                    0.53,
                    0.53,
                    0.5393877551020408,
                    0.54,
                    0.54,
                    0.54,
                    0.54,
                    0.55,
                    0.55,
                    0.55,
                    0.55,
                    0.5504081632653062,
                    0.56,
                    0.56,
                    0.56,
                    0.56,
                    0.56,
                    0.56,
                    0.5614285714285714,
                    0.57,
                    0.57,
                    0.57,
                    0.5724489795918368,
                    0.5746,
                    0.58,
                    0.58,
                    0.58,
                    0.583469387755102,
                    0.59,
                    0.59,
                    0.59,
                    0.59,
                    0.59,
                    0.5944897959183674,
                    0.6,
                    0.6,
                    0.6,
                    0.6,
                    0.6055102040816327,
                    0.61,
                    0.61,
                    0.61,
                    0.6165306122448979,
                    0.62,
                    0.62,
                    0.62,
                    0.62,
                    0.62,
                    0.6275510204081634,
                    0.63,
                    0.63,
                    0.63,
                    0.6385714285714286,
                    0.64,
                    0.64,
                    0.64,
                    0.64,
                    0.6495918367346939,
                    0.65,
                    0.65,
                    0.6516,
                    0.66,
                    0.66,
                    0.6606122448979592,
                    0.67,
                    0.67,
                    0.6716326530612244,
                    0.6792000000000002,
                    0.68,
                    0.68,
                    0.6826530612244899,
                    0.6868000000000001,
                    0.69,
                    0.6936734693877551,
                    0.7,
                    0.7006,
                    0.7046938775510204,
                    0.71,
                    0.71,
                    0.7157142857142857,
                    0.72,
                    0.72,
                    0.726734693877551,
                    0.73,
                    0.7320000000000002,
                    0.7377551020408164,
                    0.74,
                    0.74,
                    0.7487755102040816,
                    0.75,
                    0.759795918367347,
                    0.76,
                    0.77,
                    0.77,
                    0.7708163265306123,
                    0.78,
                    0.7818367346938776,
                    0.79,
                    0.7909999999999999,
                    0.7928571428571429,
                    0.8,
                    0.8038775510204081,
                    0.81,
                    0.81,
                    0.8148979591836736,
                    0.8224,
                    0.8259183673469388,
                    0.83,
                    0.836938775510204,
                    0.8462000000000001,
                    0.8479591836734695,
                    0.8587999999999999,
                    0.8589795918367347,
                    0.87
                  ],
                  "xaxis": "x2",
                  "y": [
                    0.003084536640195836,
                    0.008939558171603438,
                    0.022714947184914066,
                    0.05108672939918501,
                    0.1027221562231407,
                    0.1864074865129053,
                    0.30766469493751797,
                    0.46465390013248115,
                    0.6457088218056369,
                    0.8317378622219385,
                    1.0014207013609742,
                    1.0014207013609742,
                    1.0044283349879892,
                    1.1083896551786978,
                    1.1561455614160423,
                    1.2948066407100365,
                    1.3951687926724585,
                    1.3951687926724585,
                    1.4404866846817082,
                    1.543102939555353,
                    1.6164509105903855,
                    1.6330209438434682,
                    1.7257236370826614,
                    1.7257236370826614,
                    1.8398635924269884,
                    1.9512135666584907,
                    2.0221671415498483,
                    2.116109399486459,
                    2.2190118769165226,
                    2.4379831101754013,
                    2.520502608887486,
                    2.520502608887486,
                    2.520502608887486,
                    2.7877243294884697,
                    2.8403788257889606,
                    2.8403788257889606,
                    3.138216447622768,
                    3.1570229624143766,
                    3.1570229624143766,
                    3.1570229624143766,
                    3.1570229624143766,
                    3.443045027965456,
                    3.443045027965456,
                    3.443045027965456,
                    3.443045027965456,
                    3.453639264215914,
                    3.669475319766272,
                    3.669475319766272,
                    3.669475319766272,
                    3.669475319766272,
                    3.669475319766272,
                    3.669475319766272,
                    3.6955212149682524,
                    3.814577406234404,
                    3.814577406234404,
                    3.814577406234404,
                    3.8366322472857703,
                    3.8516744825110893,
                    3.8723160343288296,
                    3.8723160343288296,
                    3.8723160343288296,
                    3.873514929083123,
                    3.853365175791769,
                    3.853365175791769,
                    3.853365175791769,
                    3.853365175791769,
                    3.853365175791769,
                    3.824997632307082,
                    3.7769144337688982,
                    3.7769144337688982,
                    3.7769144337688982,
                    3.7769144337688982,
                    3.7165555042153264,
                    3.6594863920169223,
                    3.6594863920169223,
                    3.6594863920169223,
                    3.56496622680575,
                    3.5094794460265453,
                    3.5094794460265453,
                    3.5094794460265453,
                    3.5094794460265453,
                    3.5094794460265453,
                    3.3768709446031386,
                    3.330670615364708,
                    3.330670615364708,
                    3.330670615364708,
                    3.159315249542427,
                    3.1296696184685415,
                    3.1296696184685415,
                    3.1296696184685415,
                    3.1296696184685415,
                    2.9277870932943397,
                    2.919208983697108,
                    2.919208983697108,
                    2.885685663742458,
                    2.714174868635552,
                    2.714174868635552,
                    2.702069678676197,
                    2.5250537827433774,
                    2.5250537827433774,
                    2.4960192432669293,
                    2.3683622251449163,
                    2.355524748516862,
                    2.355524748516862,
                    2.313838689756432,
                    2.2513916019049054,
                    2.205458151334204,
                    2.155165222070376,
                    2.0747698751592725,
                    2.067561103547449,
                    2.020328430881176,
                    1.964221320629722,
                    1.964221320629722,
                    1.9102481787726964,
                    1.8740907792965047,
                    1.8740907792965047,
                    1.824550870043288,
                    1.803653252142718,
                    1.7918409419083061,
                    1.761971620605934,
                    1.7519549788995534,
                    1.7519549788995534,
                    1.7212825219433687,
                    1.7180285896799263,
                    1.6997947833282694,
                    1.699542034129521,
                    1.6909573735420431,
                    1.6909573735420431,
                    1.6904287812877208,
                    1.6827736965783622,
                    1.6803512737827209,
                    1.6624809647029941,
                    1.6592708416024389,
                    1.6525940347576769,
                    1.6170497647956412,
                    1.5903252348598975,
                    1.5363187847159308,
                    1.5363187847159308,
                    1.482314965714195,
                    1.381303218366583,
                    1.326792339404826,
                    1.2584384097731511,
                    1.1315108105051532,
                    0.9473219837393431,
                    0.9112402247793023,
                    0.6889824487477461,
                    0.685370949534817,
                    0.47542442860707845
                  ],
                  "yaxis": "y2"
                }
              ],
              "layout": {
                "annotations": [
                  {
                    "font": {
                      "size": 16
                    },
                    "showarrow": false,
                    "text": "Drift Score (Earth Mover's Distance)",
                    "x": 0.5,
                    "xanchor": "center",
                    "xref": "paper",
                    "y": 1.0000000000000002,
                    "yanchor": "bottom",
                    "yref": "paper"
                  },
                  {
                    "font": {
                      "size": 16
                    },
                    "showarrow": false,
                    "text": "Distribution Plot",
                    "x": 0.5,
                    "xanchor": "center",
                    "xref": "paper",
                    "y": 0.7200000000000001,
                    "yanchor": "bottom",
                    "yref": "paper"
                  }
                ],
                "bargroupgap": 0,
                "height": 400,
                "legend": {
                  "title": {
                    "text": "Dataset"
                  },
                  "y": 0.6,
                  "yanchor": "top"
                },
                "template": {
                  "data": {
                    "bar": [
                      {
                        "error_x": {
                          "color": "#2a3f5f"
                        },
                        "error_y": {
                          "color": "#2a3f5f"
                        },
                        "marker": {
                          "line": {
                            "color": "#E5ECF6",
                            "width": 0.5
                          },
                          "pattern": {
                            "fillmode": "overlay",
                            "size": 10,
                            "solidity": 0.2
                          }
                        },
                        "type": "bar"
                      }
                    ],
                    "barpolar": [
                      {
                        "marker": {
                          "line": {
                            "color": "#E5ECF6",
                            "width": 0.5
                          },
                          "pattern": {
                            "fillmode": "overlay",
                            "size": 10,
                            "solidity": 0.2
                          }
                        },
                        "type": "barpolar"
                      }
                    ],
                    "carpet": [
                      {
                        "aaxis": {
                          "endlinecolor": "#2a3f5f",
                          "gridcolor": "white",
                          "linecolor": "white",
                          "minorgridcolor": "white",
                          "startlinecolor": "#2a3f5f"
                        },
                        "baxis": {
                          "endlinecolor": "#2a3f5f",
                          "gridcolor": "white",
                          "linecolor": "white",
                          "minorgridcolor": "white",
                          "startlinecolor": "#2a3f5f"
                        },
                        "type": "carpet"
                      }
                    ],
                    "choropleth": [
                      {
                        "colorbar": {
                          "outlinewidth": 0,
                          "ticks": ""
                        },
                        "type": "choropleth"
                      }
                    ],
                    "contour": [
                      {
                        "colorbar": {
                          "outlinewidth": 0,
                          "ticks": ""
                        },
                        "colorscale": [
                          [
                            0,
                            "#0d0887"
                          ],
                          [
                            0.1111111111111111,
                            "#46039f"
                          ],
                          [
                            0.2222222222222222,
                            "#7201a8"
                          ],
                          [
                            0.3333333333333333,
                            "#9c179e"
                          ],
                          [
                            0.4444444444444444,
                            "#bd3786"
                          ],
                          [
                            0.5555555555555556,
                            "#d8576b"
                          ],
                          [
                            0.6666666666666666,
                            "#ed7953"
                          ],
                          [
                            0.7777777777777778,
                            "#fb9f3a"
                          ],
                          [
                            0.8888888888888888,
                            "#fdca26"
                          ],
                          [
                            1,
                            "#f0f921"
                          ]
                        ],
                        "type": "contour"
                      }
                    ],
                    "contourcarpet": [
                      {
                        "colorbar": {
                          "outlinewidth": 0,
                          "ticks": ""
                        },
                        "type": "contourcarpet"
                      }
                    ],
                    "heatmap": [
                      {
                        "colorbar": {
                          "outlinewidth": 0,
                          "ticks": ""
                        },
                        "colorscale": [
                          [
                            0,
                            "#0d0887"
                          ],
                          [
                            0.1111111111111111,
                            "#46039f"
                          ],
                          [
                            0.2222222222222222,
                            "#7201a8"
                          ],
                          [
                            0.3333333333333333,
                            "#9c179e"
                          ],
                          [
                            0.4444444444444444,
                            "#bd3786"
                          ],
                          [
                            0.5555555555555556,
                            "#d8576b"
                          ],
                          [
                            0.6666666666666666,
                            "#ed7953"
                          ],
                          [
                            0.7777777777777778,
                            "#fb9f3a"
                          ],
                          [
                            0.8888888888888888,
                            "#fdca26"
                          ],
                          [
                            1,
                            "#f0f921"
                          ]
                        ],
                        "type": "heatmap"
                      }
                    ],
                    "heatmapgl": [
                      {
                        "colorbar": {
                          "outlinewidth": 0,
                          "ticks": ""
                        },
                        "colorscale": [
                          [
                            0,
                            "#0d0887"
                          ],
                          [
                            0.1111111111111111,
                            "#46039f"
                          ],
                          [
                            0.2222222222222222,
                            "#7201a8"
                          ],
                          [
                            0.3333333333333333,
                            "#9c179e"
                          ],
                          [
                            0.4444444444444444,
                            "#bd3786"
                          ],
                          [
                            0.5555555555555556,
                            "#d8576b"
                          ],
                          [
                            0.6666666666666666,
                            "#ed7953"
                          ],
                          [
                            0.7777777777777778,
                            "#fb9f3a"
                          ],
                          [
                            0.8888888888888888,
                            "#fdca26"
                          ],
                          [
                            1,
                            "#f0f921"
                          ]
                        ],
                        "type": "heatmapgl"
                      }
                    ],
                    "histogram": [
                      {
                        "marker": {
                          "pattern": {
                            "fillmode": "overlay",
                            "size": 10,
                            "solidity": 0.2
                          }
                        },
                        "type": "histogram"
                      }
                    ],
                    "histogram2d": [
                      {
                        "colorbar": {
                          "outlinewidth": 0,
                          "ticks": ""
                        },
                        "colorscale": [
                          [
                            0,
                            "#0d0887"
                          ],
                          [
                            0.1111111111111111,
                            "#46039f"
                          ],
                          [
                            0.2222222222222222,
                            "#7201a8"
                          ],
                          [
                            0.3333333333333333,
                            "#9c179e"
                          ],
                          [
                            0.4444444444444444,
                            "#bd3786"
                          ],
                          [
                            0.5555555555555556,
                            "#d8576b"
                          ],
                          [
                            0.6666666666666666,
                            "#ed7953"
                          ],
                          [
                            0.7777777777777778,
                            "#fb9f3a"
                          ],
                          [
                            0.8888888888888888,
                            "#fdca26"
                          ],
                          [
                            1,
                            "#f0f921"
                          ]
                        ],
                        "type": "histogram2d"
                      }
                    ],
                    "histogram2dcontour": [
                      {
                        "colorbar": {
                          "outlinewidth": 0,
                          "ticks": ""
                        },
                        "colorscale": [
                          [
                            0,
                            "#0d0887"
                          ],
                          [
                            0.1111111111111111,
                            "#46039f"
                          ],
                          [
                            0.2222222222222222,
                            "#7201a8"
                          ],
                          [
                            0.3333333333333333,
                            "#9c179e"
                          ],
                          [
                            0.4444444444444444,
                            "#bd3786"
                          ],
                          [
                            0.5555555555555556,
                            "#d8576b"
                          ],
                          [
                            0.6666666666666666,
                            "#ed7953"
                          ],
                          [
                            0.7777777777777778,
                            "#fb9f3a"
                          ],
                          [
                            0.8888888888888888,
                            "#fdca26"
                          ],
                          [
                            1,
                            "#f0f921"
                          ]
                        ],
                        "type": "histogram2dcontour"
                      }
                    ],
                    "mesh3d": [
                      {
                        "colorbar": {
                          "outlinewidth": 0,
                          "ticks": ""
                        },
                        "type": "mesh3d"
                      }
                    ],
                    "parcoords": [
                      {
                        "line": {
                          "colorbar": {
                            "outlinewidth": 0,
                            "ticks": ""
                          }
                        },
                        "type": "parcoords"
                      }
                    ],
                    "pie": [
                      {
                        "automargin": true,
                        "type": "pie"
                      }
                    ],
                    "scatter": [
                      {
                        "marker": {
                          "colorbar": {
                            "outlinewidth": 0,
                            "ticks": ""
                          }
                        },
                        "type": "scatter"
                      }
                    ],
                    "scatter3d": [
                      {
                        "line": {
                          "colorbar": {
                            "outlinewidth": 0,
                            "ticks": ""
                          }
                        },
                        "marker": {
                          "colorbar": {
                            "outlinewidth": 0,
                            "ticks": ""
                          }
                        },
                        "type": "scatter3d"
                      }
                    ],
                    "scattercarpet": [
                      {
                        "marker": {
                          "colorbar": {
                            "outlinewidth": 0,
                            "ticks": ""
                          }
                        },
                        "type": "scattercarpet"
                      }
                    ],
                    "scattergeo": [
                      {
                        "marker": {
                          "colorbar": {
                            "outlinewidth": 0,
                            "ticks": ""
                          }
                        },
                        "type": "scattergeo"
                      }
                    ],
                    "scattergl": [
                      {
                        "marker": {
                          "colorbar": {
                            "outlinewidth": 0,
                            "ticks": ""
                          }
                        },
                        "type": "scattergl"
                      }
                    ],
                    "scattermapbox": [
                      {
                        "marker": {
                          "colorbar": {
                            "outlinewidth": 0,
                            "ticks": ""
                          }
                        },
                        "type": "scattermapbox"
                      }
                    ],
                    "scatterpolar": [
                      {
                        "marker": {
                          "colorbar": {
                            "outlinewidth": 0,
                            "ticks": ""
                          }
                        },
                        "type": "scatterpolar"
                      }
                    ],
                    "scatterpolargl": [
                      {
                        "marker": {
                          "colorbar": {
                            "outlinewidth": 0,
                            "ticks": ""
                          }
                        },
                        "type": "scatterpolargl"
                      }
                    ],
                    "scatterternary": [
                      {
                        "marker": {
                          "colorbar": {
                            "outlinewidth": 0,
                            "ticks": ""
                          }
                        },
                        "type": "scatterternary"
                      }
                    ],
                    "surface": [
                      {
                        "colorbar": {
                          "outlinewidth": 0,
                          "ticks": ""
                        },
                        "colorscale": [
                          [
                            0,
                            "#0d0887"
                          ],
                          [
                            0.1111111111111111,
                            "#46039f"
                          ],
                          [
                            0.2222222222222222,
                            "#7201a8"
                          ],
                          [
                            0.3333333333333333,
                            "#9c179e"
                          ],
                          [
                            0.4444444444444444,
                            "#bd3786"
                          ],
                          [
                            0.5555555555555556,
                            "#d8576b"
                          ],
                          [
                            0.6666666666666666,
                            "#ed7953"
                          ],
                          [
                            0.7777777777777778,
                            "#fb9f3a"
                          ],
                          [
                            0.8888888888888888,
                            "#fdca26"
                          ],
                          [
                            1,
                            "#f0f921"
                          ]
                        ],
                        "type": "surface"
                      }
                    ],
                    "table": [
                      {
                        "cells": {
                          "fill": {
                            "color": "#EBF0F8"
                          },
                          "line": {
                            "color": "white"
                          }
                        },
                        "header": {
                          "fill": {
                            "color": "#C8D4E3"
                          },
                          "line": {
                            "color": "white"
                          }
                        },
                        "type": "table"
                      }
                    ]
                  },
                  "layout": {
                    "annotationdefaults": {
                      "arrowcolor": "#2a3f5f",
                      "arrowhead": 0,
                      "arrowwidth": 1
                    },
                    "autotypenumbers": "strict",
                    "coloraxis": {
                      "colorbar": {
                        "outlinewidth": 0,
                        "ticks": ""
                      }
                    },
                    "colorscale": {
                      "diverging": [
                        [
                          0,
                          "#8e0152"
                        ],
                        [
                          0.1,
                          "#c51b7d"
                        ],
                        [
                          0.2,
                          "#de77ae"
                        ],
                        [
                          0.3,
                          "#f1b6da"
                        ],
                        [
                          0.4,
                          "#fde0ef"
                        ],
                        [
                          0.5,
                          "#f7f7f7"
                        ],
                        [
                          0.6,
                          "#e6f5d0"
                        ],
                        [
                          0.7,
                          "#b8e186"
                        ],
                        [
                          0.8,
                          "#7fbc41"
                        ],
                        [
                          0.9,
                          "#4d9221"
                        ],
                        [
                          1,
                          "#276419"
                        ]
                      ],
                      "sequential": [
                        [
                          0,
                          "#0d0887"
                        ],
                        [
                          0.1111111111111111,
                          "#46039f"
                        ],
                        [
                          0.2222222222222222,
                          "#7201a8"
                        ],
                        [
                          0.3333333333333333,
                          "#9c179e"
                        ],
                        [
                          0.4444444444444444,
                          "#bd3786"
                        ],
                        [
                          0.5555555555555556,
                          "#d8576b"
                        ],
                        [
                          0.6666666666666666,
                          "#ed7953"
                        ],
                        [
                          0.7777777777777778,
                          "#fb9f3a"
                        ],
                        [
                          0.8888888888888888,
                          "#fdca26"
                        ],
                        [
                          1,
                          "#f0f921"
                        ]
                      ],
                      "sequentialminus": [
                        [
                          0,
                          "#0d0887"
                        ],
                        [
                          0.1111111111111111,
                          "#46039f"
                        ],
                        [
                          0.2222222222222222,
                          "#7201a8"
                        ],
                        [
                          0.3333333333333333,
                          "#9c179e"
                        ],
                        [
                          0.4444444444444444,
                          "#bd3786"
                        ],
                        [
                          0.5555555555555556,
                          "#d8576b"
                        ],
                        [
                          0.6666666666666666,
                          "#ed7953"
                        ],
                        [
                          0.7777777777777778,
                          "#fb9f3a"
                        ],
                        [
                          0.8888888888888888,
                          "#fdca26"
                        ],
                        [
                          1,
                          "#f0f921"
                        ]
                      ]
                    },
                    "colorway": [
                      "#636efa",
                      "#EF553B",
                      "#00cc96",
                      "#ab63fa",
                      "#FFA15A",
                      "#19d3f3",
                      "#FF6692",
                      "#B6E880",
                      "#FF97FF",
                      "#FECB52"
                    ],
                    "font": {
                      "color": "#2a3f5f"
                    },
                    "geo": {
                      "bgcolor": "white",
                      "lakecolor": "white",
                      "landcolor": "#E5ECF6",
                      "showlakes": true,
                      "showland": true,
                      "subunitcolor": "white"
                    },
                    "hoverlabel": {
                      "align": "left"
                    },
                    "hovermode": "closest",
                    "mapbox": {
                      "style": "light"
                    },
                    "paper_bgcolor": "white",
                    "plot_bgcolor": "#E5ECF6",
                    "polar": {
                      "angularaxis": {
                        "gridcolor": "white",
                        "linecolor": "white",
                        "ticks": ""
                      },
                      "bgcolor": "#E5ECF6",
                      "radialaxis": {
                        "gridcolor": "white",
                        "linecolor": "white",
                        "ticks": ""
                      }
                    },
                    "scene": {
                      "xaxis": {
                        "backgroundcolor": "#E5ECF6",
                        "gridcolor": "white",
                        "gridwidth": 2,
                        "linecolor": "white",
                        "showbackground": true,
                        "ticks": "",
                        "zerolinecolor": "white"
                      },
                      "yaxis": {
                        "backgroundcolor": "#E5ECF6",
                        "gridcolor": "white",
                        "gridwidth": 2,
                        "linecolor": "white",
                        "showbackground": true,
                        "ticks": "",
                        "zerolinecolor": "white"
                      },
                      "zaxis": {
                        "backgroundcolor": "#E5ECF6",
                        "gridcolor": "white",
                        "gridwidth": 2,
                        "linecolor": "white",
                        "showbackground": true,
                        "ticks": "",
                        "zerolinecolor": "white"
                      }
                    },
                    "shapedefaults": {
                      "line": {
                        "color": "#2a3f5f"
                      }
                    },
                    "ternary": {
                      "aaxis": {
                        "gridcolor": "white",
                        "linecolor": "white",
                        "ticks": ""
                      },
                      "baxis": {
                        "gridcolor": "white",
                        "linecolor": "white",
                        "ticks": ""
                      },
                      "bgcolor": "#E5ECF6",
                      "caxis": {
                        "gridcolor": "white",
                        "linecolor": "white",
                        "ticks": ""
                      }
                    },
                    "title": {
                      "x": 0.05
                    },
                    "xaxis": {
                      "automargin": true,
                      "gridcolor": "white",
                      "linecolor": "white",
                      "ticks": "",
                      "title": {
                        "standoff": 15
                      },
                      "zerolinecolor": "white",
                      "zerolinewidth": 2
                    },
                    "yaxis": {
                      "automargin": true,
                      "gridcolor": "white",
                      "linecolor": "white",
                      "ticks": "",
                      "title": {
                        "standoff": 15
                      },
                      "zerolinecolor": "white",
                      "zerolinewidth": 2
                    }
                  }
                },
                "title": {
                  "text": "sulphates (#2 in FI)",
                  "x": 0.5,
                  "xanchor": "center"
                },
                "width": 700,
                "xaxis": {
                  "anchor": "y",
                  "domain": [
                    0,
                    1
                  ],
                  "dtick": 0.05,
                  "fixedrange": true,
                  "gridcolor": "black",
                  "linecolor": "black",
                  "range": [
                    0,
                    0.4
                  ],
                  "showgrid": false
                },
                "xaxis2": {
                  "anchor": "y2",
                  "domain": [
                    0,
                    1
                  ],
                  "fixedrange": false,
                  "range": [
                    0.44,
                    0.8587999999999999
                  ],
                  "title": {
                    "text": "sulphates"
                  }
                },
                "yaxis": {
                  "anchor": "x",
                  "color": "black",
                  "domain": [
                    0.9200000000000002,
                    1
                  ],
                  "fixedrange": true,
                  "showgrid": false,
                  "showline": false,
                  "showticklabels": false,
                  "zeroline": false
                },
                "yaxis2": {
                  "anchor": "x2",
                  "domain": [
                    0,
                    0.7200000000000001
                  ],
                  "fixedrange": true,
                  "title": {
                    "text": "Probability Density"
                  }
                }
              }
            }
          },
          "metadata": {},
          "output_type": "display_data"
        },
        {
          "data": {
            "text/html": []
          },
          "metadata": {},
          "output_type": "display_data"
        },
        {
          "data": {
            "application/vnd.plotly.v1+json": {
              "config": {
                "plotlyServerURL": "https://plot.ly"
              },
              "data": [
                {
                  "base": 0,
                  "marker": {
                    "color": "#01B8AA"
                  },
                  "offsetgroup": "0",
                  "orientation": "h",
                  "showlegend": false,
                  "type": "bar",
                  "x": [
                    0.020274510660165265
                  ],
                  "xaxis": "x",
                  "y": [
                    "Drift Score"
                  ],
                  "yaxis": "y"
                },
                {
                  "fill": "tozeroy",
                  "line": {
                    "color": "#00008b"
                  },
                  "name": "Train Dataset",
                  "type": "scatter",
                  "x": [
                    0,
                    29.12,
                    32.59183673469388,
                    45.94,
                    65.16000000000003,
                    65.18367346938776,
                    97.77551020408163,
                    99.36,
                    103.64,
                    126.48,
                    130.3673469387755,
                    159.20000000000002,
                    162.9591836734694,
                    172.98,
                    181.44000000000003,
                    195.55102040816325,
                    201.39999999999998,
                    216.7199999999999,
                    216.9,
                    228.14285714285714,
                    250.96,
                    257.56,
                    260.734693877551,
                    284.65999999999997,
                    287.08,
                    293.3265306122449,
                    312.4,
                    318.04,
                    325.9183673469388,
                    346.24,
                    357.32,
                    358.51020408163265,
                    383.2,
                    391.1020408163265,
                    409.18,
                    409.2,
                    423.68,
                    423.6938775510204,
                    444.24,
                    456.2857142857143,
                    458.82,
                    469.04,
                    488.28000000000003,
                    488.8775510204082,
                    512.2000000000002,
                    521.469387755102,
                    525,
                    543.9200000000001,
                    551.08,
                    554.0612244897959,
                    579.04,
                    586.6530612244898,
                    605.8800000000002,
                    609.1600000000001,
                    619.2448979591837,
                    636.4,
                    646.2,
                    651.8367346938776,
                    662.76,
                    677.8000000000001,
                    682.2,
                    684.4285714285714,
                    701.96,
                    712.0800000000002,
                    717.0204081632653,
                    728.36,
                    742.1999999999999,
                    749.6122448979592,
                    757.74,
                    768.28,
                    768.84,
                    782.204081632653,
                    793.5,
                    808.0400000000001,
                    812.7600000000001,
                    814.795918367347,
                    824.52,
                    847.3877551020408,
                    851,
                    879.9795918367347,
                    886.24,
                    907.24,
                    911.3600000000004,
                    912.5714285714286,
                    942.72,
                    945.1632653061224,
                    950.2800000000002,
                    977.7551020408164,
                    978.96,
                    992.8000000000001,
                    1009.8,
                    1010.3469387755102,
                    1031.8,
                    1034.1599999999999,
                    1042.938775510204,
                    1057.16,
                    1062.8400000000001,
                    1075.530612244898,
                    1087.54,
                    1092.96,
                    1108.1224489795918,
                    1116.16,
                    1121.8400000000001,
                    1140.7142857142858,
                    1146.2000000000003,
                    1148.3,
                    1173.3061224489795,
                    1178.96,
                    1196.48,
                    1205.8979591836735,
                    1210.88,
                    1230.42,
                    1238.4897959183675,
                    1238.56,
                    1267.68,
                    1271.0816326530612,
                    1281.44,
                    1289.8000000000004,
                    1303.6734693877552,
                    1309.74,
                    1321.92,
                    1336.265306122449,
                    1338.4,
                    1341.0800000000002,
                    1368.857142857143,
                    1372.64,
                    1378.1599999999999,
                    1396.92,
                    1401.4489795918369,
                    1410.28,
                    1428.02,
                    1434.0408163265306,
                    1445.88,
                    1457.1,
                    1460.4,
                    1466.6326530612246,
                    1484.04,
                    1487.92,
                    1499.2244897959183,
                    1507.8600000000001,
                    1512.92,
                    1531.8163265306123,
                    1534.7600000000002,
                    1558.92,
                    1562.88,
                    1564.408163265306,
                    1570.24,
                    1597
                  ],
                  "xaxis": "x2",
                  "y": [
                    0.00031925444691099334,
                    0.00038243134043995593,
                    0.00038976013813214223,
                    0.00041724594838400973,
                    0.00045431804235225115,
                    0.00045436152860541435,
                    0.0005080746116747729,
                    0.0005103435234414473,
                    0.000516301560453951,
                    0.0005437552455649778,
                    0.0005476855453856714,
                    0.0005701312815532648,
                    0.0005722110784832386,
                    0.0005768527436556916,
                    0.0005797920153903518,
                    0.0005828471233786787,
                    0.0005834897797758235,
                    0.0005836452875047305,
                    0.0005836351058927707,
                    0.0005825145115382469,
                    0.0005778538507705083,
                    0.0005760728911930507,
                    0.0005751678041456208,
                    0.0005677647808183069,
                    0.0005669940746631164,
                    0.0005650172933428482,
                    0.000559303802747751,
                    0.0005577687441663759,
                    0.0005557852557296386,
                    0.0005517195232114479,
                    0.0005502373703630154,
                    0.0005501112939092298,
                    0.0005489862636231555,
                    0.000549221846289822,
                    0.0005507764416015323,
                    0.0005507788968214082,
                    0.0005529394281226853,
                    0.0005529418443832885,
                    0.0005571267236016064,
                    0.0005600341208459442,
                    0.0005606769702153593,
                    0.0005633503466366302,
                    0.0005685776113968384,
                    0.0005687410514734119,
                    0.0005749904369934145,
                    0.0005773387665700999,
                    0.0005782036523985411,
                    0.0005825009641021646,
                    0.000583959523796888,
                    0.0005845372761809039,
                    0.0005886581870267664,
                    0.000589652855387856,
                    0.000591632197905103,
                    0.0005918966077022546,
                    0.0005925842317628275,
                    0.000593355592473139,
                    0.0005936002434192131,
                    0.0005936860320650204,
                    0.0005937560287093507,
                    0.0005936946987376272,
                    0.000593653325604854,
                    0.0005936297493413965,
                    0.0005934214606525331,
                    0.0005933222293178112,
                    0.0005932909580578796,
                    0.0005932851334199607,
                    0.0005934520210497353,
                    0.0005936435325542031,
                    0.0005939515141127436,
                    0.0005945241237203572,
                    0.000594560466900305,
                    0.0005956202768426955,
                    0.0005968243650477686,
                    0.0005988229894970141,
                    0.0005995845056738241,
                    0.0005999302913750595,
                    0.000601726357207083,
                    0.0006068795828047812,
                    0.0006078086707365663,
                    0.000616272296654334,
                    0.0006183072810695043,
                    0.0006255346285683535,
                    0.0006270095732224122,
                    0.0006274459698713077,
                    0.0006385306477732344,
                    0.0006394340563294302,
                    0.0006413211671421569,
                    0.0006511985504035666,
                    0.0006516168808988654,
                    0.0006562997705858471,
                    0.0006616949947795484,
                    0.0006618613045179391,
                    0.0006679966238614649,
                    0.0006686239354571199,
                    0.0006708727650267538,
                    0.0006742329964763072,
                    0.0006754786498888494,
                    0.000678068807489853,
                    0.0006802839760932928,
                    0.0006812119149696229,
                    0.0006835824910928752,
                    0.000684709860279666,
                    0.0006854542674345127,
                    0.0006876211144141386,
                    0.0006881615896264399,
                    0.0006883575585980948,
                    0.0006901931740936808,
                    0.0006904690194829558,
                    0.0006909427644880871,
                    0.0006909304212259328,
                    0.0006908396942873499,
                    0.0006898568916174901,
                    0.000689131148233056,
                    0.0006891239552549147,
                    0.0006847329921644913,
                    0.0006840276387393686,
                    0.0006816203546113073,
                    0.0006793891620767427,
                    0.0006751135074342217,
                    0.0006730193310099082,
                    0.000668405213933826,
                    0.0006622764836875527,
                    0.0006613007342377713,
                    0.0006600523928647465,
                    0.0006455665305121893,
                    0.0006433692918345382,
                    0.0006400614480154182,
                    0.0006278598517199711,
                    0.0006246743080575187,
                    0.0006181671631046022,
                    0.0006037828703389439,
                    0.000598455879031229,
                    0.0005872408756635661,
                    0.0005756214974882017,
                    0.0005720063653203133,
                    0.0005649202185472443,
                    0.0005432339053034044,
                    0.0005380009720441472,
                    0.0005218907426623425,
                    0.0005087037091688301,
                    0.0005006205114980041,
                    0.0004681474419622791,
                    0.00046277444329385323,
                    0.00041580278069981426,
                    0.0004076691008523788,
                    0.00040450216583686865,
                    0.00039228268902533796,
                    0.0003342057014191851
                  ],
                  "yaxis": "y2"
                },
                {
                  "fill": "tozeroy",
                  "line": {
                    "color": "#69b3a2"
                  },
                  "name": "Test Dataset",
                  "type": "scatter",
                  "x": [
                    0,
                    29.12,
                    32.59183673469388,
                    45.94,
                    65.16000000000003,
                    65.18367346938776,
                    97.77551020408163,
                    99.36,
                    103.64,
                    126.48,
                    130.3673469387755,
                    159.20000000000002,
                    162.9591836734694,
                    172.98,
                    181.44000000000003,
                    195.55102040816325,
                    201.39999999999998,
                    216.7199999999999,
                    216.9,
                    228.14285714285714,
                    250.96,
                    257.56,
                    260.734693877551,
                    284.65999999999997,
                    287.08,
                    293.3265306122449,
                    312.4,
                    318.04,
                    325.9183673469388,
                    346.24,
                    357.32,
                    358.51020408163265,
                    383.2,
                    391.1020408163265,
                    409.18,
                    409.2,
                    423.68,
                    423.6938775510204,
                    444.24,
                    456.2857142857143,
                    458.82,
                    469.04,
                    488.28000000000003,
                    488.8775510204082,
                    512.2000000000002,
                    521.469387755102,
                    525,
                    543.9200000000001,
                    551.08,
                    554.0612244897959,
                    579.04,
                    586.6530612244898,
                    605.8800000000002,
                    609.1600000000001,
                    619.2448979591837,
                    636.4,
                    646.2,
                    651.8367346938776,
                    662.76,
                    677.8000000000001,
                    682.2,
                    684.4285714285714,
                    701.96,
                    712.0800000000002,
                    717.0204081632653,
                    728.36,
                    742.1999999999999,
                    749.6122448979592,
                    757.74,
                    768.28,
                    768.84,
                    782.204081632653,
                    793.5,
                    808.0400000000001,
                    812.7600000000001,
                    814.795918367347,
                    824.52,
                    847.3877551020408,
                    851,
                    879.9795918367347,
                    886.24,
                    907.24,
                    911.3600000000004,
                    912.5714285714286,
                    942.72,
                    945.1632653061224,
                    950.2800000000002,
                    977.7551020408164,
                    978.96,
                    992.8000000000001,
                    1009.8,
                    1010.3469387755102,
                    1031.8,
                    1034.1599999999999,
                    1042.938775510204,
                    1057.16,
                    1062.8400000000001,
                    1075.530612244898,
                    1087.54,
                    1092.96,
                    1108.1224489795918,
                    1116.16,
                    1121.8400000000001,
                    1140.7142857142858,
                    1146.2000000000003,
                    1148.3,
                    1173.3061224489795,
                    1178.96,
                    1196.48,
                    1205.8979591836735,
                    1210.88,
                    1230.42,
                    1238.4897959183675,
                    1238.56,
                    1267.68,
                    1271.0816326530612,
                    1281.44,
                    1289.8000000000004,
                    1303.6734693877552,
                    1309.74,
                    1321.92,
                    1336.265306122449,
                    1338.4,
                    1341.0800000000002,
                    1368.857142857143,
                    1372.64,
                    1378.1599999999999,
                    1396.92,
                    1401.4489795918369,
                    1410.28,
                    1428.02,
                    1434.0408163265306,
                    1445.88,
                    1457.1,
                    1460.4,
                    1466.6326530612246,
                    1484.04,
                    1487.92,
                    1499.2244897959183,
                    1507.8600000000001,
                    1512.92,
                    1531.8163265306123,
                    1534.7600000000002,
                    1558.92,
                    1562.88,
                    1564.408163265306,
                    1570.24,
                    1597
                  ],
                  "xaxis": "x2",
                  "y": [
                    0.0002117192467277219,
                    0.00025755596733292077,
                    0.0002631775566021633,
                    0.0002850360813321808,
                    0.00031705177283815507,
                    0.00031709150637283876,
                    0.00037211708099595825,
                    0.0003747950264536672,
                    0.00038202234086374417,
                    0.00042027852490112246,
                    0.0004267075318822958,
                    0.0004731236924787162,
                    0.00047896426212679826,
                    0.0004942340795901745,
                    0.0005067513084447708,
                    0.0005267669600705758,
                    0.0005347173597101119,
                    0.000554489132980812,
                    0.0005547119673268679,
                    0.0005681735943535052,
                    0.0005926115259847936,
                    0.0005989354289652584,
                    0.0006018564436190346,
                    0.0006213397981448583,
                    0.0006230629487196551,
                    0.0006273030495724264,
                    0.0006384276356547424,
                    0.0006412029896095097,
                    0.0006446979317127922,
                    0.000651729423847377,
                    0.0006544152832788146,
                    0.0006546577859400584,
                    0.0006578029694186577,
                    0.0006581044710343573,
                    0.0006576894468075309,
                    0.0006576882220899888,
                    0.0006564294344842094,
                    0.0006564279058129208,
                    0.000653680690315547,
                    0.0006518087121929219,
                    0.0006514108644285797,
                    0.0006498476316598506,
                    0.0006474068785406142,
                    0.0006473479988637176,
                    0.0006462693309447568,
                    0.0006466626248958754,
                    0.0006469589824511219,
                    0.0006500722480365426,
                    0.0006519636952080969,
                    0.0006528708290191777,
                    0.0006632066992544031,
                    0.0006672748842075106,
                    0.0006791201358249352,
                    0.000681323078988453,
                    0.0006883259439833559,
                    0.0007006330949758124,
                    0.0007075830647919827,
                    0.0007114595421224301,
                    0.000718555760953276,
                    0.0007270052682732041,
                    0.0007291014545155992,
                    0.0007300881524618672,
                    0.0007358522402927372,
                    0.0007373563767764492,
                    0.0007375554050106566,
                    0.0007366124578413428,
                    0.0007327312306961503,
                    0.0007294074962411054,
                    0.0007247826990278247,
                    0.0007173184226216325,
                    0.0007168774281256196,
                    0.0007051209136748086,
                    0.00069352499503488,
                    0.0006768246035576266,
                    0.0006710737053846088,
                    0.0006685545105240942,
                    0.0006562766186500864,
                    0.000626853902098462,
                    0.0006222754565820684,
                    0.0005881676525191121,
                    0.0005816818512611351,
                    0.0005629869286564373,
                    0.0005599222469436393,
                    0.0005590605069707671,
                    0.0005434372159934404,
                    0.0005426513559852218,
                    0.0005412258151344298,
                    0.0005381612038491783,
                    0.0005381815054117434,
                    0.0005391514908827825,
                    0.0005417986816898343,
                    0.0005419033333892343,
                    0.0005465513801468152,
                    0.0005470990727909932,
                    0.0005491403075976077,
                    0.0005523344300806161,
                    0.0005535306659157945,
                    0.0005559725276082089,
                    0.0005579475823080784,
                    0.0005587281415292634,
                    0.0005605721671827073,
                    0.0005613780493187746,
                    0.0005618945370008164,
                    0.000563463499803959,
                    0.0005639285665182483,
                    0.0005641135432489001,
                    0.0005669376125977643,
                    0.0005678186731261515,
                    0.0005713879237830079,
                    0.0005739292747716444,
                    0.0005754726671930325,
                    0.0005829662186452402,
                    0.0005867579424936908,
                    0.0005867927353545112,
                    0.000603796895330383,
                    0.0006060922101881588,
                    0.0006134132693077804,
                    0.0006196332887862363,
                    0.0006303878568205013,
                    0.0006351887734491603,
                    0.0006448407976055128,
                    0.0006559095863675216,
                    0.0006575014381891747,
                    0.0006594726269997835,
                    0.0006773066165841709,
                    0.0006792487904795666,
                    0.0006818181986555325,
                    0.0006878489241146776,
                    0.0006885991360377827,
                    0.0006891800515890781,
                    0.0006865135116544261,
                    0.0006843599663361017,
                    0.000678171837494426,
                    0.0006698432340073649,
                    0.0006669291104090481,
                    0.0006608455749831645,
                    0.0006398532739935997,
                    0.0006343816412652351,
                    0.0006168427963534433,
                    0.0006018978079537294,
                    0.0005925466309981822,
                    0.0005540506430703475,
                    0.0005475876250389034,
                    0.0004906404608617517,
                    0.0004807512741917473,
                    0.00047690145302282217,
                    0.0004620545152140546,
                    0.0003918301443745256
                  ],
                  "yaxis": "y2"
                }
              ],
              "layout": {
                "annotations": [
                  {
                    "font": {
                      "size": 16
                    },
                    "showarrow": false,
                    "text": "Drift Score (Earth Mover's Distance)",
                    "x": 0.5,
                    "xanchor": "center",
                    "xref": "paper",
                    "y": 1.0000000000000002,
                    "yanchor": "bottom",
                    "yref": "paper"
                  },
                  {
                    "font": {
                      "size": 16
                    },
                    "showarrow": false,
                    "text": "Distribution Plot",
                    "x": 0.5,
                    "xanchor": "center",
                    "xref": "paper",
                    "y": 0.7200000000000001,
                    "yanchor": "bottom",
                    "yref": "paper"
                  }
                ],
                "bargroupgap": 0,
                "height": 400,
                "legend": {
                  "title": {
                    "text": "Dataset"
                  },
                  "y": 0.6,
                  "yanchor": "top"
                },
                "template": {
                  "data": {
                    "bar": [
                      {
                        "error_x": {
                          "color": "#2a3f5f"
                        },
                        "error_y": {
                          "color": "#2a3f5f"
                        },
                        "marker": {
                          "line": {
                            "color": "#E5ECF6",
                            "width": 0.5
                          },
                          "pattern": {
                            "fillmode": "overlay",
                            "size": 10,
                            "solidity": 0.2
                          }
                        },
                        "type": "bar"
                      }
                    ],
                    "barpolar": [
                      {
                        "marker": {
                          "line": {
                            "color": "#E5ECF6",
                            "width": 0.5
                          },
                          "pattern": {
                            "fillmode": "overlay",
                            "size": 10,
                            "solidity": 0.2
                          }
                        },
                        "type": "barpolar"
                      }
                    ],
                    "carpet": [
                      {
                        "aaxis": {
                          "endlinecolor": "#2a3f5f",
                          "gridcolor": "white",
                          "linecolor": "white",
                          "minorgridcolor": "white",
                          "startlinecolor": "#2a3f5f"
                        },
                        "baxis": {
                          "endlinecolor": "#2a3f5f",
                          "gridcolor": "white",
                          "linecolor": "white",
                          "minorgridcolor": "white",
                          "startlinecolor": "#2a3f5f"
                        },
                        "type": "carpet"
                      }
                    ],
                    "choropleth": [
                      {
                        "colorbar": {
                          "outlinewidth": 0,
                          "ticks": ""
                        },
                        "type": "choropleth"
                      }
                    ],
                    "contour": [
                      {
                        "colorbar": {
                          "outlinewidth": 0,
                          "ticks": ""
                        },
                        "colorscale": [
                          [
                            0,
                            "#0d0887"
                          ],
                          [
                            0.1111111111111111,
                            "#46039f"
                          ],
                          [
                            0.2222222222222222,
                            "#7201a8"
                          ],
                          [
                            0.3333333333333333,
                            "#9c179e"
                          ],
                          [
                            0.4444444444444444,
                            "#bd3786"
                          ],
                          [
                            0.5555555555555556,
                            "#d8576b"
                          ],
                          [
                            0.6666666666666666,
                            "#ed7953"
                          ],
                          [
                            0.7777777777777778,
                            "#fb9f3a"
                          ],
                          [
                            0.8888888888888888,
                            "#fdca26"
                          ],
                          [
                            1,
                            "#f0f921"
                          ]
                        ],
                        "type": "contour"
                      }
                    ],
                    "contourcarpet": [
                      {
                        "colorbar": {
                          "outlinewidth": 0,
                          "ticks": ""
                        },
                        "type": "contourcarpet"
                      }
                    ],
                    "heatmap": [
                      {
                        "colorbar": {
                          "outlinewidth": 0,
                          "ticks": ""
                        },
                        "colorscale": [
                          [
                            0,
                            "#0d0887"
                          ],
                          [
                            0.1111111111111111,
                            "#46039f"
                          ],
                          [
                            0.2222222222222222,
                            "#7201a8"
                          ],
                          [
                            0.3333333333333333,
                            "#9c179e"
                          ],
                          [
                            0.4444444444444444,
                            "#bd3786"
                          ],
                          [
                            0.5555555555555556,
                            "#d8576b"
                          ],
                          [
                            0.6666666666666666,
                            "#ed7953"
                          ],
                          [
                            0.7777777777777778,
                            "#fb9f3a"
                          ],
                          [
                            0.8888888888888888,
                            "#fdca26"
                          ],
                          [
                            1,
                            "#f0f921"
                          ]
                        ],
                        "type": "heatmap"
                      }
                    ],
                    "heatmapgl": [
                      {
                        "colorbar": {
                          "outlinewidth": 0,
                          "ticks": ""
                        },
                        "colorscale": [
                          [
                            0,
                            "#0d0887"
                          ],
                          [
                            0.1111111111111111,
                            "#46039f"
                          ],
                          [
                            0.2222222222222222,
                            "#7201a8"
                          ],
                          [
                            0.3333333333333333,
                            "#9c179e"
                          ],
                          [
                            0.4444444444444444,
                            "#bd3786"
                          ],
                          [
                            0.5555555555555556,
                            "#d8576b"
                          ],
                          [
                            0.6666666666666666,
                            "#ed7953"
                          ],
                          [
                            0.7777777777777778,
                            "#fb9f3a"
                          ],
                          [
                            0.8888888888888888,
                            "#fdca26"
                          ],
                          [
                            1,
                            "#f0f921"
                          ]
                        ],
                        "type": "heatmapgl"
                      }
                    ],
                    "histogram": [
                      {
                        "marker": {
                          "pattern": {
                            "fillmode": "overlay",
                            "size": 10,
                            "solidity": 0.2
                          }
                        },
                        "type": "histogram"
                      }
                    ],
                    "histogram2d": [
                      {
                        "colorbar": {
                          "outlinewidth": 0,
                          "ticks": ""
                        },
                        "colorscale": [
                          [
                            0,
                            "#0d0887"
                          ],
                          [
                            0.1111111111111111,
                            "#46039f"
                          ],
                          [
                            0.2222222222222222,
                            "#7201a8"
                          ],
                          [
                            0.3333333333333333,
                            "#9c179e"
                          ],
                          [
                            0.4444444444444444,
                            "#bd3786"
                          ],
                          [
                            0.5555555555555556,
                            "#d8576b"
                          ],
                          [
                            0.6666666666666666,
                            "#ed7953"
                          ],
                          [
                            0.7777777777777778,
                            "#fb9f3a"
                          ],
                          [
                            0.8888888888888888,
                            "#fdca26"
                          ],
                          [
                            1,
                            "#f0f921"
                          ]
                        ],
                        "type": "histogram2d"
                      }
                    ],
                    "histogram2dcontour": [
                      {
                        "colorbar": {
                          "outlinewidth": 0,
                          "ticks": ""
                        },
                        "colorscale": [
                          [
                            0,
                            "#0d0887"
                          ],
                          [
                            0.1111111111111111,
                            "#46039f"
                          ],
                          [
                            0.2222222222222222,
                            "#7201a8"
                          ],
                          [
                            0.3333333333333333,
                            "#9c179e"
                          ],
                          [
                            0.4444444444444444,
                            "#bd3786"
                          ],
                          [
                            0.5555555555555556,
                            "#d8576b"
                          ],
                          [
                            0.6666666666666666,
                            "#ed7953"
                          ],
                          [
                            0.7777777777777778,
                            "#fb9f3a"
                          ],
                          [
                            0.8888888888888888,
                            "#fdca26"
                          ],
                          [
                            1,
                            "#f0f921"
                          ]
                        ],
                        "type": "histogram2dcontour"
                      }
                    ],
                    "mesh3d": [
                      {
                        "colorbar": {
                          "outlinewidth": 0,
                          "ticks": ""
                        },
                        "type": "mesh3d"
                      }
                    ],
                    "parcoords": [
                      {
                        "line": {
                          "colorbar": {
                            "outlinewidth": 0,
                            "ticks": ""
                          }
                        },
                        "type": "parcoords"
                      }
                    ],
                    "pie": [
                      {
                        "automargin": true,
                        "type": "pie"
                      }
                    ],
                    "scatter": [
                      {
                        "marker": {
                          "colorbar": {
                            "outlinewidth": 0,
                            "ticks": ""
                          }
                        },
                        "type": "scatter"
                      }
                    ],
                    "scatter3d": [
                      {
                        "line": {
                          "colorbar": {
                            "outlinewidth": 0,
                            "ticks": ""
                          }
                        },
                        "marker": {
                          "colorbar": {
                            "outlinewidth": 0,
                            "ticks": ""
                          }
                        },
                        "type": "scatter3d"
                      }
                    ],
                    "scattercarpet": [
                      {
                        "marker": {
                          "colorbar": {
                            "outlinewidth": 0,
                            "ticks": ""
                          }
                        },
                        "type": "scattercarpet"
                      }
                    ],
                    "scattergeo": [
                      {
                        "marker": {
                          "colorbar": {
                            "outlinewidth": 0,
                            "ticks": ""
                          }
                        },
                        "type": "scattergeo"
                      }
                    ],
                    "scattergl": [
                      {
                        "marker": {
                          "colorbar": {
                            "outlinewidth": 0,
                            "ticks": ""
                          }
                        },
                        "type": "scattergl"
                      }
                    ],
                    "scattermapbox": [
                      {
                        "marker": {
                          "colorbar": {
                            "outlinewidth": 0,
                            "ticks": ""
                          }
                        },
                        "type": "scattermapbox"
                      }
                    ],
                    "scatterpolar": [
                      {
                        "marker": {
                          "colorbar": {
                            "outlinewidth": 0,
                            "ticks": ""
                          }
                        },
                        "type": "scatterpolar"
                      }
                    ],
                    "scatterpolargl": [
                      {
                        "marker": {
                          "colorbar": {
                            "outlinewidth": 0,
                            "ticks": ""
                          }
                        },
                        "type": "scatterpolargl"
                      }
                    ],
                    "scatterternary": [
                      {
                        "marker": {
                          "colorbar": {
                            "outlinewidth": 0,
                            "ticks": ""
                          }
                        },
                        "type": "scatterternary"
                      }
                    ],
                    "surface": [
                      {
                        "colorbar": {
                          "outlinewidth": 0,
                          "ticks": ""
                        },
                        "colorscale": [
                          [
                            0,
                            "#0d0887"
                          ],
                          [
                            0.1111111111111111,
                            "#46039f"
                          ],
                          [
                            0.2222222222222222,
                            "#7201a8"
                          ],
                          [
                            0.3333333333333333,
                            "#9c179e"
                          ],
                          [
                            0.4444444444444444,
                            "#bd3786"
                          ],
                          [
                            0.5555555555555556,
                            "#d8576b"
                          ],
                          [
                            0.6666666666666666,
                            "#ed7953"
                          ],
                          [
                            0.7777777777777778,
                            "#fb9f3a"
                          ],
                          [
                            0.8888888888888888,
                            "#fdca26"
                          ],
                          [
                            1,
                            "#f0f921"
                          ]
                        ],
                        "type": "surface"
                      }
                    ],
                    "table": [
                      {
                        "cells": {
                          "fill": {
                            "color": "#EBF0F8"
                          },
                          "line": {
                            "color": "white"
                          }
                        },
                        "header": {
                          "fill": {
                            "color": "#C8D4E3"
                          },
                          "line": {
                            "color": "white"
                          }
                        },
                        "type": "table"
                      }
                    ]
                  },
                  "layout": {
                    "annotationdefaults": {
                      "arrowcolor": "#2a3f5f",
                      "arrowhead": 0,
                      "arrowwidth": 1
                    },
                    "autotypenumbers": "strict",
                    "coloraxis": {
                      "colorbar": {
                        "outlinewidth": 0,
                        "ticks": ""
                      }
                    },
                    "colorscale": {
                      "diverging": [
                        [
                          0,
                          "#8e0152"
                        ],
                        [
                          0.1,
                          "#c51b7d"
                        ],
                        [
                          0.2,
                          "#de77ae"
                        ],
                        [
                          0.3,
                          "#f1b6da"
                        ],
                        [
                          0.4,
                          "#fde0ef"
                        ],
                        [
                          0.5,
                          "#f7f7f7"
                        ],
                        [
                          0.6,
                          "#e6f5d0"
                        ],
                        [
                          0.7,
                          "#b8e186"
                        ],
                        [
                          0.8,
                          "#7fbc41"
                        ],
                        [
                          0.9,
                          "#4d9221"
                        ],
                        [
                          1,
                          "#276419"
                        ]
                      ],
                      "sequential": [
                        [
                          0,
                          "#0d0887"
                        ],
                        [
                          0.1111111111111111,
                          "#46039f"
                        ],
                        [
                          0.2222222222222222,
                          "#7201a8"
                        ],
                        [
                          0.3333333333333333,
                          "#9c179e"
                        ],
                        [
                          0.4444444444444444,
                          "#bd3786"
                        ],
                        [
                          0.5555555555555556,
                          "#d8576b"
                        ],
                        [
                          0.6666666666666666,
                          "#ed7953"
                        ],
                        [
                          0.7777777777777778,
                          "#fb9f3a"
                        ],
                        [
                          0.8888888888888888,
                          "#fdca26"
                        ],
                        [
                          1,
                          "#f0f921"
                        ]
                      ],
                      "sequentialminus": [
                        [
                          0,
                          "#0d0887"
                        ],
                        [
                          0.1111111111111111,
                          "#46039f"
                        ],
                        [
                          0.2222222222222222,
                          "#7201a8"
                        ],
                        [
                          0.3333333333333333,
                          "#9c179e"
                        ],
                        [
                          0.4444444444444444,
                          "#bd3786"
                        ],
                        [
                          0.5555555555555556,
                          "#d8576b"
                        ],
                        [
                          0.6666666666666666,
                          "#ed7953"
                        ],
                        [
                          0.7777777777777778,
                          "#fb9f3a"
                        ],
                        [
                          0.8888888888888888,
                          "#fdca26"
                        ],
                        [
                          1,
                          "#f0f921"
                        ]
                      ]
                    },
                    "colorway": [
                      "#636efa",
                      "#EF553B",
                      "#00cc96",
                      "#ab63fa",
                      "#FFA15A",
                      "#19d3f3",
                      "#FF6692",
                      "#B6E880",
                      "#FF97FF",
                      "#FECB52"
                    ],
                    "font": {
                      "color": "#2a3f5f"
                    },
                    "geo": {
                      "bgcolor": "white",
                      "lakecolor": "white",
                      "landcolor": "#E5ECF6",
                      "showlakes": true,
                      "showland": true,
                      "subunitcolor": "white"
                    },
                    "hoverlabel": {
                      "align": "left"
                    },
                    "hovermode": "closest",
                    "mapbox": {
                      "style": "light"
                    },
                    "paper_bgcolor": "white",
                    "plot_bgcolor": "#E5ECF6",
                    "polar": {
                      "angularaxis": {
                        "gridcolor": "white",
                        "linecolor": "white",
                        "ticks": ""
                      },
                      "bgcolor": "#E5ECF6",
                      "radialaxis": {
                        "gridcolor": "white",
                        "linecolor": "white",
                        "ticks": ""
                      }
                    },
                    "scene": {
                      "xaxis": {
                        "backgroundcolor": "#E5ECF6",
                        "gridcolor": "white",
                        "gridwidth": 2,
                        "linecolor": "white",
                        "showbackground": true,
                        "ticks": "",
                        "zerolinecolor": "white"
                      },
                      "yaxis": {
                        "backgroundcolor": "#E5ECF6",
                        "gridcolor": "white",
                        "gridwidth": 2,
                        "linecolor": "white",
                        "showbackground": true,
                        "ticks": "",
                        "zerolinecolor": "white"
                      },
                      "zaxis": {
                        "backgroundcolor": "#E5ECF6",
                        "gridcolor": "white",
                        "gridwidth": 2,
                        "linecolor": "white",
                        "showbackground": true,
                        "ticks": "",
                        "zerolinecolor": "white"
                      }
                    },
                    "shapedefaults": {
                      "line": {
                        "color": "#2a3f5f"
                      }
                    },
                    "ternary": {
                      "aaxis": {
                        "gridcolor": "white",
                        "linecolor": "white",
                        "ticks": ""
                      },
                      "baxis": {
                        "gridcolor": "white",
                        "linecolor": "white",
                        "ticks": ""
                      },
                      "bgcolor": "#E5ECF6",
                      "caxis": {
                        "gridcolor": "white",
                        "linecolor": "white",
                        "ticks": ""
                      }
                    },
                    "title": {
                      "x": 0.05
                    },
                    "xaxis": {
                      "automargin": true,
                      "gridcolor": "white",
                      "linecolor": "white",
                      "ticks": "",
                      "title": {
                        "standoff": 15
                      },
                      "zerolinecolor": "white",
                      "zerolinewidth": 2
                    },
                    "yaxis": {
                      "automargin": true,
                      "gridcolor": "white",
                      "linecolor": "white",
                      "ticks": "",
                      "title": {
                        "standoff": 15
                      },
                      "zerolinecolor": "white",
                      "zerolinewidth": 2
                    }
                  }
                },
                "title": {
                  "text": "Id (#3 in FI)",
                  "x": 0.5,
                  "xanchor": "center"
                },
                "width": 700,
                "xaxis": {
                  "anchor": "y",
                  "domain": [
                    0,
                    1
                  ],
                  "dtick": 0.05,
                  "fixedrange": true,
                  "gridcolor": "black",
                  "linecolor": "black",
                  "range": [
                    0,
                    0.4
                  ],
                  "showgrid": false
                },
                "xaxis2": {
                  "anchor": "y2",
                  "domain": [
                    0,
                    1
                  ],
                  "fixedrange": false,
                  "range": [
                    29.12,
                    1570.24
                  ],
                  "title": {
                    "text": "Id"
                  }
                },
                "yaxis": {
                  "anchor": "x",
                  "color": "black",
                  "domain": [
                    0.9200000000000002,
                    1
                  ],
                  "fixedrange": true,
                  "showgrid": false,
                  "showline": false,
                  "showticklabels": false,
                  "zeroline": false
                },
                "yaxis2": {
                  "anchor": "x2",
                  "domain": [
                    0,
                    0.7200000000000001
                  ],
                  "fixedrange": true,
                  "title": {
                    "text": "Probability Density"
                  }
                }
              }
            }
          },
          "metadata": {},
          "output_type": "display_data"
        },
        {
          "data": {
            "text/html": []
          },
          "metadata": {},
          "output_type": "display_data"
        },
        {
          "data": {
            "application/vnd.plotly.v1+json": {
              "config": {
                "plotlyServerURL": "https://plot.ly"
              },
              "data": [
                {
                  "base": 0,
                  "marker": {
                    "color": "#01B8AA"
                  },
                  "offsetgroup": "0",
                  "orientation": "h",
                  "showlegend": false,
                  "type": "bar",
                  "x": [
                    0.01217441595852102
                  ],
                  "xaxis": "x",
                  "y": [
                    "Drift Score"
                  ],
                  "yaxis": "y"
                },
                {
                  "fill": "tozeroy",
                  "line": {
                    "color": "#00008b"
                  },
                  "name": "Train Dataset",
                  "type": "scatter",
                  "x": [
                    0.12,
                    0.1446938775510204,
                    0.1693877551020408,
                    0.19408163265306122,
                    0.21877551020408162,
                    0.22,
                    0.24,
                    0.24346938775510202,
                    0.2676,
                    0.26816326530612244,
                    0.28,
                    0.28,
                    0.2928571428571428,
                    0.3,
                    0.3,
                    0.31,
                    0.31755102040816324,
                    0.319,
                    0.32,
                    0.33,
                    0.34,
                    0.34224489795918367,
                    0.35,
                    0.35,
                    0.36,
                    0.36,
                    0.36693877551020404,
                    0.3704,
                    0.3719999999999999,
                    0.38,
                    0.38,
                    0.38319999999999993,
                    0.39,
                    0.39163265306122447,
                    0.4,
                    0.4,
                    0.41,
                    0.41,
                    0.4163265306122449,
                    0.4197,
                    0.42,
                    0.42,
                    0.43,
                    0.43,
                    0.43079999999999996,
                    0.44,
                    0.44102040816326527,
                    0.46,
                    0.46,
                    0.46,
                    0.4657142857142857,
                    0.46840000000000004,
                    0.47609999999999997,
                    0.48,
                    0.48,
                    0.49,
                    0.49,
                    0.49040816326530606,
                    0.5,
                    0.5,
                    0.51,
                    0.51,
                    0.5112000000000001,
                    0.5151020408163265,
                    0.52,
                    0.52,
                    0.53,
                    0.5397959183673469,
                    0.54,
                    0.545,
                    0.5488000000000002,
                    0.56,
                    0.56,
                    0.5644897959183672,
                    0.57,
                    0.57,
                    0.57,
                    0.58,
                    0.58,
                    0.58,
                    0.5891836734693877,
                    0.59,
                    0.59,
                    0.5984000000000003,
                    0.6,
                    0.6,
                    0.6092000000000002,
                    0.61,
                    0.6138775510204081,
                    0.62,
                    0.6265000000000001,
                    0.63,
                    0.6372,
                    0.6385714285714286,
                    0.64,
                    0.645,
                    0.65,
                    0.66,
                    0.66,
                    0.6632653061224489,
                    0.67,
                    0.67,
                    0.68,
                    0.685,
                    0.6879591836734693,
                    0.69,
                    0.695,
                    0.7048,
                    0.71,
                    0.7126530612244898,
                    0.7317,
                    0.735,
                    0.7373469387755102,
                    0.7469999999999999,
                    0.7486,
                    0.7620408163265305,
                    0.77,
                    0.78,
                    0.78,
                    0.7867346938775509,
                    0.8114285714285714,
                    0.8231999999999999,
                    0.8361224489795918,
                    0.8443,
                    0.857600000000001,
                    0.8608163265306121,
                    0.87,
                    0.8855102040816326,
                    0.910204081632653,
                    0.9217000000000002,
                    0.9348979591836734,
                    0.9595918367346938,
                    0.9737999999999999,
                    0.9842857142857142,
                    1.0089795918367346,
                    1.0336734693877552,
                    1.0583673469387755,
                    1.083061224489796,
                    1.1077551020408163,
                    1.1324489795918367,
                    1.157142857142857,
                    1.1818367346938774,
                    1.2065306122448978,
                    1.2312244897959181,
                    1.2559183673469385,
                    1.2806122448979589,
                    1.3053061224489797,
                    1.33
                  ],
                  "xaxis": "x2",
                  "y": [
                    0.03605123396279791,
                    0.07989812817053109,
                    0.15031087110617428,
                    0.251565749464158,
                    0.3945708715789878,
                    0.4031011356012287,
                    0.5666258145929446,
                    0.5999971956329624,
                    0.8724830133838432,
                    0.8795785341648367,
                    1.033723833902849,
                    1.033723833902849,
                    1.2061790964751127,
                    1.3006146565826893,
                    1.3006146565826893,
                    1.427134372246217,
                    1.5160384470252182,
                    1.5323038190951714,
                    1.5433682495750272,
                    1.6462571984922807,
                    1.7338582366665107,
                    1.7513072484179972,
                    1.8051975344331432,
                    1.8051975344331432,
                    1.860031983476051,
                    1.860031983476051,
                    1.8885262481939578,
                    1.8998959489326612,
                    1.9045279168868883,
                    1.9219914921454404,
                    1.9219914921454404,
                    1.9264427587978257,
                    1.9315079179226016,
                    1.9319002827703788,
                    1.92958880981717,
                    1.92958880981717,
                    1.9194713063754842,
                    1.9194713063754842,
                    1.9106012962020973,
                    1.9055420546394688,
                    1.9050888924470293,
                    1.9050888924470293,
                    1.890654391618416,
                    1.890654391618416,
                    1.8896193213010277,
                    1.8800827980480648,
                    1.8793511399509613,
                    1.8812818426267803,
                    1.8812818426267803,
                    1.8812818426267803,
                    1.88804191023022,
                    1.892165351652998,
                    1.9070065171315904,
                    1.916011317577164,
                    1.916011317577164,
                    1.9424680345724363,
                    1.9424680345724363,
                    1.9436249262490397,
                    1.9717584143916502,
                    1.9717584143916502,
                    2.001640755109937,
                    2.001640755109937,
                    2.0051835754839864,
                    2.0165776979280627,
                    2.030546188940119,
                    2.030546188940119,
                    2.057666842801105,
                    2.0822165798961216,
                    2.082705499485951,
                    2.0943745352047163,
                    2.1028155154791177,
                    2.125000014230184,
                    2.125000014230184,
                    2.132420712870903,
                    2.13998023246559,
                    2.13998023246559,
                    2.13998023246559,
                    2.1480129599024447,
                    2.1480129599024447,
                    2.1480129599024447,
                    2.1468944866636557,
                    2.1463254590776453,
                    2.1463254590776453,
                    2.1354278015324093,
                    2.132249563776528,
                    2.132249563776528,
                    2.1066253714653267,
                    2.1037898246769875,
                    2.088646558624644,
                    2.060020138954026,
                    2.023439126077462,
                    2.00120600293748,
                    1.9502500019343267,
                    1.9397945181180214,
                    1.928662837229849,
                    1.8878670630053214,
                    1.8444505724912375,
                    1.7510351904057717,
                    1.7510351904057717,
                    1.7189756332520787,
                    1.6510165480914536,
                    1.6510165480914536,
                    1.546956452138212,
                    1.4941764576207122,
                    1.4628676009808486,
                    1.4412818431593155,
                    1.3885434663976088,
                    1.2865813830361348,
                    1.2336972983256373,
                    1.2071370923044156,
                    1.0270350639248034,
                    0.9979958728556985,
                    0.9777683683916714,
                    0.8984081926513271,
                    0.8858636074164157,
                    0.787494474583354,
                    0.7352023718575978,
                    0.6757207281904185,
                    0.6757207281904185,
                    0.6394271713413694,
                    0.528500164690766,
                    0.48439003542554765,
                    0.4390545340380999,
                    0.4110338401619328,
                    0.3657338144765664,
                    0.3548362229331542,
                    0.32407959816270365,
                    0.27490806946373836,
                    0.21191387160413538,
                    0.1915969762632522,
                    0.17567950359143003,
                    0.16254244966063927,
                    0.16002705195529618,
                    0.1581989207404278,
                    0.1479610674876008,
                    0.1250026911136059,
                    0.09248091431526145,
                    0.05985700195390935,
                    0.035716796882823046,
                    0.022771955227861462,
                    0.017950572461560465,
                    0.015695874210405407,
                    0.012492686148838757,
                    0.009387063003437338,
                    0.00992754463600701,
                    0.015760947655332022,
                    0.02373093063471803,
                    0.027478250216957018
                  ],
                  "yaxis": "y2"
                },
                {
                  "fill": "tozeroy",
                  "line": {
                    "color": "#69b3a2"
                  },
                  "name": "Test Dataset",
                  "type": "scatter",
                  "x": [
                    0.12,
                    0.1446938775510204,
                    0.1693877551020408,
                    0.19408163265306122,
                    0.21877551020408162,
                    0.22,
                    0.24,
                    0.24346938775510202,
                    0.2676,
                    0.26816326530612244,
                    0.28,
                    0.28,
                    0.2928571428571428,
                    0.3,
                    0.3,
                    0.31,
                    0.31755102040816324,
                    0.319,
                    0.32,
                    0.33,
                    0.34,
                    0.34224489795918367,
                    0.35,
                    0.35,
                    0.36,
                    0.36,
                    0.36693877551020404,
                    0.3704,
                    0.3719999999999999,
                    0.38,
                    0.38,
                    0.38319999999999993,
                    0.39,
                    0.39163265306122447,
                    0.4,
                    0.4,
                    0.41,
                    0.41,
                    0.4163265306122449,
                    0.4197,
                    0.42,
                    0.42,
                    0.43,
                    0.43,
                    0.43079999999999996,
                    0.44,
                    0.44102040816326527,
                    0.46,
                    0.46,
                    0.46,
                    0.4657142857142857,
                    0.46840000000000004,
                    0.47609999999999997,
                    0.48,
                    0.48,
                    0.49,
                    0.49,
                    0.49040816326530606,
                    0.5,
                    0.5,
                    0.51,
                    0.51,
                    0.5112000000000001,
                    0.5151020408163265,
                    0.52,
                    0.52,
                    0.53,
                    0.5397959183673469,
                    0.54,
                    0.545,
                    0.5488000000000002,
                    0.56,
                    0.56,
                    0.5644897959183672,
                    0.57,
                    0.57,
                    0.57,
                    0.58,
                    0.58,
                    0.58,
                    0.5891836734693877,
                    0.59,
                    0.59,
                    0.5984000000000003,
                    0.6,
                    0.6,
                    0.6092000000000002,
                    0.61,
                    0.6138775510204081,
                    0.62,
                    0.6265000000000001,
                    0.63,
                    0.6372,
                    0.6385714285714286,
                    0.64,
                    0.645,
                    0.65,
                    0.66,
                    0.66,
                    0.6632653061224489,
                    0.67,
                    0.67,
                    0.68,
                    0.685,
                    0.6879591836734693,
                    0.69,
                    0.695,
                    0.7048,
                    0.71,
                    0.7126530612244898,
                    0.7317,
                    0.735,
                    0.7373469387755102,
                    0.7469999999999999,
                    0.7486,
                    0.7620408163265305,
                    0.77,
                    0.78,
                    0.78,
                    0.7867346938775509,
                    0.8114285714285714,
                    0.8231999999999999,
                    0.8361224489795918,
                    0.8443,
                    0.857600000000001,
                    0.8608163265306121,
                    0.87,
                    0.8855102040816326,
                    0.910204081632653,
                    0.9217000000000002,
                    0.9348979591836734,
                    0.9595918367346938,
                    0.9737999999999999,
                    0.9842857142857142,
                    1.0089795918367346,
                    1.0336734693877552,
                    1.0583673469387755,
                    1.083061224489796,
                    1.1077551020408163,
                    1.1324489795918367,
                    1.157142857142857,
                    1.1818367346938774,
                    1.2065306122448978,
                    1.2312244897959181,
                    1.2559183673469385,
                    1.2806122448979589,
                    1.3053061224489797,
                    1.33
                  ],
                  "xaxis": "x2",
                  "y": [
                    0.11960544069683801,
                    0.15678668077693356,
                    0.20911919669193835,
                    0.2949104096453872,
                    0.42368649774881173,
                    0.43113798546642224,
                    0.5628494574983028,
                    0.5869347734267351,
                    0.7535886933064545,
                    0.7573697086135798,
                    0.8355969160701588,
                    0.8355969160701588,
                    0.920476845662835,
                    0.9699204376590402,
                    0.9699204376590402,
                    1.0452136339597453,
                    1.1087286880638634,
                    1.1216876429294933,
                    1.1307835509118798,
                    1.2287410288308986,
                    1.3388270431797644,
                    1.3649554982282657,
                    1.4580602563903646,
                    1.4580602563903646,
                    1.5810683368686762,
                    1.5810683368686762,
                    1.6650583517187734,
                    1.705659639210522,
                    1.7240241352301546,
                    1.8109505407750142,
                    1.8109505407750142,
                    1.8430033197193478,
                    1.9050205128599373,
                    1.9185861693867459,
                    1.9795833274010157,
                    1.9795833274010157,
                    2.0336196942651097,
                    2.0336196942651097,
                    2.0577757465087454,
                    2.067774748300329,
                    2.0685733018317753,
                    2.0685733018317753,
                    2.0876312180052525,
                    2.0876312180052525,
                    2.088585718104826,
                    2.09469923293894,
                    2.0948963022678817,
                    2.0865378648354818,
                    2.0865378648354818,
                    2.0865378648354818,
                    2.080825980063642,
                    2.077791622944313,
                    2.0681283305698885,
                    2.062841016636122,
                    2.062841016636122,
                    2.048971173142338,
                    2.048971173142338,
                    2.048418056763278,
                    2.0365768334363112,
                    2.0365768334363112,
                    2.0285798238741144,
                    2.0285798238741144,
                    2.028057414534331,
                    2.0271343391657597,
                    2.0277862336392536,
                    2.0277862336392536,
                    2.0357225051097774,
                    2.051172461408007,
                    2.0515550274572725,
                    2.06139614478661,
                    2.0691858240235574,
                    2.0900211285919665,
                    2.0900211285919665,
                    2.0958860423593446,
                    2.099839780117579,
                    2.099839780117579,
                    2.099839780117579,
                    2.09515636213984,
                    2.09515636213984,
                    2.09515636213984,
                    2.075109517787775,
                    2.0725714632144556,
                    2.0725714632144556,
                    2.039631126913543,
                    2.0320329036191596,
                    2.0320329036191596,
                    1.9814502782218069,
                    1.9765747656533652,
                    1.952088414542704,
                    1.9111449428671095,
                    1.86579733175164,
                    1.84101278378414,
                    1.7900223784027147,
                    1.780373181989956,
                    1.770356858056706,
                    1.735632725443452,
                    1.7014896884567094,
                    1.634868327126502,
                    1.634868327126502,
                    1.6134889340068577,
                    1.5697153696667598,
                    1.5697153696667598,
                    1.5048708190013802,
                    1.4722739822834674,
                    1.4528899530563524,
                    1.439478132794196,
                    1.4064682253216678,
                    1.341213143482634,
                    1.30635045170261,
                    1.288511188427427,
                    1.1591311482918543,
                    1.1363372913248901,
                    1.1200214114192282,
                    1.051797650385051,
                    1.0402962078649132,
                    0.94155345094039,
                    0.8819301609742998,
                    0.8077176686917976,
                    0.8077176686917976,
                    0.7596036445200491,
                    0.6138219882470226,
                    0.5676338811119934,
                    0.5329672457051173,
                    0.5167371286000513,
                    0.4930439982452691,
                    0.48696333012625376,
                    0.46742732186379965,
                    0.4251184062775251,
                    0.341598586872848,
                    0.3038718404005399,
                    0.2663627499033825,
                    0.21452937526117707,
                    0.19163630064769946,
                    0.17565174419103613,
                    0.13601233406077992,
                    0.09252596229765235,
                    0.05203087085026359,
                    0.023093766861012912,
                    0.00784354112050987,
                    0.0020006948779758994,
                    0.00037914920143594953,
                    0.000053048578947382674,
                    0.000005458932390055548,
                    4.1211886673511954e-7,
                    2.27852208789337e-8,
                    9.213683014291905e-10,
                    2.7222501425889965e-11,
                    5.872163574750843e-13
                  ],
                  "yaxis": "y2"
                }
              ],
              "layout": {
                "annotations": [
                  {
                    "font": {
                      "size": 16
                    },
                    "showarrow": false,
                    "text": "Drift Score (Earth Mover's Distance)",
                    "x": 0.5,
                    "xanchor": "center",
                    "xref": "paper",
                    "y": 1.0000000000000002,
                    "yanchor": "bottom",
                    "yref": "paper"
                  },
                  {
                    "font": {
                      "size": 16
                    },
                    "showarrow": false,
                    "text": "Distribution Plot",
                    "x": 0.5,
                    "xanchor": "center",
                    "xref": "paper",
                    "y": 0.7200000000000001,
                    "yanchor": "bottom",
                    "yref": "paper"
                  }
                ],
                "bargroupgap": 0,
                "height": 400,
                "legend": {
                  "title": {
                    "text": "Dataset"
                  },
                  "y": 0.6,
                  "yanchor": "top"
                },
                "template": {
                  "data": {
                    "bar": [
                      {
                        "error_x": {
                          "color": "#2a3f5f"
                        },
                        "error_y": {
                          "color": "#2a3f5f"
                        },
                        "marker": {
                          "line": {
                            "color": "#E5ECF6",
                            "width": 0.5
                          },
                          "pattern": {
                            "fillmode": "overlay",
                            "size": 10,
                            "solidity": 0.2
                          }
                        },
                        "type": "bar"
                      }
                    ],
                    "barpolar": [
                      {
                        "marker": {
                          "line": {
                            "color": "#E5ECF6",
                            "width": 0.5
                          },
                          "pattern": {
                            "fillmode": "overlay",
                            "size": 10,
                            "solidity": 0.2
                          }
                        },
                        "type": "barpolar"
                      }
                    ],
                    "carpet": [
                      {
                        "aaxis": {
                          "endlinecolor": "#2a3f5f",
                          "gridcolor": "white",
                          "linecolor": "white",
                          "minorgridcolor": "white",
                          "startlinecolor": "#2a3f5f"
                        },
                        "baxis": {
                          "endlinecolor": "#2a3f5f",
                          "gridcolor": "white",
                          "linecolor": "white",
                          "minorgridcolor": "white",
                          "startlinecolor": "#2a3f5f"
                        },
                        "type": "carpet"
                      }
                    ],
                    "choropleth": [
                      {
                        "colorbar": {
                          "outlinewidth": 0,
                          "ticks": ""
                        },
                        "type": "choropleth"
                      }
                    ],
                    "contour": [
                      {
                        "colorbar": {
                          "outlinewidth": 0,
                          "ticks": ""
                        },
                        "colorscale": [
                          [
                            0,
                            "#0d0887"
                          ],
                          [
                            0.1111111111111111,
                            "#46039f"
                          ],
                          [
                            0.2222222222222222,
                            "#7201a8"
                          ],
                          [
                            0.3333333333333333,
                            "#9c179e"
                          ],
                          [
                            0.4444444444444444,
                            "#bd3786"
                          ],
                          [
                            0.5555555555555556,
                            "#d8576b"
                          ],
                          [
                            0.6666666666666666,
                            "#ed7953"
                          ],
                          [
                            0.7777777777777778,
                            "#fb9f3a"
                          ],
                          [
                            0.8888888888888888,
                            "#fdca26"
                          ],
                          [
                            1,
                            "#f0f921"
                          ]
                        ],
                        "type": "contour"
                      }
                    ],
                    "contourcarpet": [
                      {
                        "colorbar": {
                          "outlinewidth": 0,
                          "ticks": ""
                        },
                        "type": "contourcarpet"
                      }
                    ],
                    "heatmap": [
                      {
                        "colorbar": {
                          "outlinewidth": 0,
                          "ticks": ""
                        },
                        "colorscale": [
                          [
                            0,
                            "#0d0887"
                          ],
                          [
                            0.1111111111111111,
                            "#46039f"
                          ],
                          [
                            0.2222222222222222,
                            "#7201a8"
                          ],
                          [
                            0.3333333333333333,
                            "#9c179e"
                          ],
                          [
                            0.4444444444444444,
                            "#bd3786"
                          ],
                          [
                            0.5555555555555556,
                            "#d8576b"
                          ],
                          [
                            0.6666666666666666,
                            "#ed7953"
                          ],
                          [
                            0.7777777777777778,
                            "#fb9f3a"
                          ],
                          [
                            0.8888888888888888,
                            "#fdca26"
                          ],
                          [
                            1,
                            "#f0f921"
                          ]
                        ],
                        "type": "heatmap"
                      }
                    ],
                    "heatmapgl": [
                      {
                        "colorbar": {
                          "outlinewidth": 0,
                          "ticks": ""
                        },
                        "colorscale": [
                          [
                            0,
                            "#0d0887"
                          ],
                          [
                            0.1111111111111111,
                            "#46039f"
                          ],
                          [
                            0.2222222222222222,
                            "#7201a8"
                          ],
                          [
                            0.3333333333333333,
                            "#9c179e"
                          ],
                          [
                            0.4444444444444444,
                            "#bd3786"
                          ],
                          [
                            0.5555555555555556,
                            "#d8576b"
                          ],
                          [
                            0.6666666666666666,
                            "#ed7953"
                          ],
                          [
                            0.7777777777777778,
                            "#fb9f3a"
                          ],
                          [
                            0.8888888888888888,
                            "#fdca26"
                          ],
                          [
                            1,
                            "#f0f921"
                          ]
                        ],
                        "type": "heatmapgl"
                      }
                    ],
                    "histogram": [
                      {
                        "marker": {
                          "pattern": {
                            "fillmode": "overlay",
                            "size": 10,
                            "solidity": 0.2
                          }
                        },
                        "type": "histogram"
                      }
                    ],
                    "histogram2d": [
                      {
                        "colorbar": {
                          "outlinewidth": 0,
                          "ticks": ""
                        },
                        "colorscale": [
                          [
                            0,
                            "#0d0887"
                          ],
                          [
                            0.1111111111111111,
                            "#46039f"
                          ],
                          [
                            0.2222222222222222,
                            "#7201a8"
                          ],
                          [
                            0.3333333333333333,
                            "#9c179e"
                          ],
                          [
                            0.4444444444444444,
                            "#bd3786"
                          ],
                          [
                            0.5555555555555556,
                            "#d8576b"
                          ],
                          [
                            0.6666666666666666,
                            "#ed7953"
                          ],
                          [
                            0.7777777777777778,
                            "#fb9f3a"
                          ],
                          [
                            0.8888888888888888,
                            "#fdca26"
                          ],
                          [
                            1,
                            "#f0f921"
                          ]
                        ],
                        "type": "histogram2d"
                      }
                    ],
                    "histogram2dcontour": [
                      {
                        "colorbar": {
                          "outlinewidth": 0,
                          "ticks": ""
                        },
                        "colorscale": [
                          [
                            0,
                            "#0d0887"
                          ],
                          [
                            0.1111111111111111,
                            "#46039f"
                          ],
                          [
                            0.2222222222222222,
                            "#7201a8"
                          ],
                          [
                            0.3333333333333333,
                            "#9c179e"
                          ],
                          [
                            0.4444444444444444,
                            "#bd3786"
                          ],
                          [
                            0.5555555555555556,
                            "#d8576b"
                          ],
                          [
                            0.6666666666666666,
                            "#ed7953"
                          ],
                          [
                            0.7777777777777778,
                            "#fb9f3a"
                          ],
                          [
                            0.8888888888888888,
                            "#fdca26"
                          ],
                          [
                            1,
                            "#f0f921"
                          ]
                        ],
                        "type": "histogram2dcontour"
                      }
                    ],
                    "mesh3d": [
                      {
                        "colorbar": {
                          "outlinewidth": 0,
                          "ticks": ""
                        },
                        "type": "mesh3d"
                      }
                    ],
                    "parcoords": [
                      {
                        "line": {
                          "colorbar": {
                            "outlinewidth": 0,
                            "ticks": ""
                          }
                        },
                        "type": "parcoords"
                      }
                    ],
                    "pie": [
                      {
                        "automargin": true,
                        "type": "pie"
                      }
                    ],
                    "scatter": [
                      {
                        "marker": {
                          "colorbar": {
                            "outlinewidth": 0,
                            "ticks": ""
                          }
                        },
                        "type": "scatter"
                      }
                    ],
                    "scatter3d": [
                      {
                        "line": {
                          "colorbar": {
                            "outlinewidth": 0,
                            "ticks": ""
                          }
                        },
                        "marker": {
                          "colorbar": {
                            "outlinewidth": 0,
                            "ticks": ""
                          }
                        },
                        "type": "scatter3d"
                      }
                    ],
                    "scattercarpet": [
                      {
                        "marker": {
                          "colorbar": {
                            "outlinewidth": 0,
                            "ticks": ""
                          }
                        },
                        "type": "scattercarpet"
                      }
                    ],
                    "scattergeo": [
                      {
                        "marker": {
                          "colorbar": {
                            "outlinewidth": 0,
                            "ticks": ""
                          }
                        },
                        "type": "scattergeo"
                      }
                    ],
                    "scattergl": [
                      {
                        "marker": {
                          "colorbar": {
                            "outlinewidth": 0,
                            "ticks": ""
                          }
                        },
                        "type": "scattergl"
                      }
                    ],
                    "scattermapbox": [
                      {
                        "marker": {
                          "colorbar": {
                            "outlinewidth": 0,
                            "ticks": ""
                          }
                        },
                        "type": "scattermapbox"
                      }
                    ],
                    "scatterpolar": [
                      {
                        "marker": {
                          "colorbar": {
                            "outlinewidth": 0,
                            "ticks": ""
                          }
                        },
                        "type": "scatterpolar"
                      }
                    ],
                    "scatterpolargl": [
                      {
                        "marker": {
                          "colorbar": {
                            "outlinewidth": 0,
                            "ticks": ""
                          }
                        },
                        "type": "scatterpolargl"
                      }
                    ],
                    "scatterternary": [
                      {
                        "marker": {
                          "colorbar": {
                            "outlinewidth": 0,
                            "ticks": ""
                          }
                        },
                        "type": "scatterternary"
                      }
                    ],
                    "surface": [
                      {
                        "colorbar": {
                          "outlinewidth": 0,
                          "ticks": ""
                        },
                        "colorscale": [
                          [
                            0,
                            "#0d0887"
                          ],
                          [
                            0.1111111111111111,
                            "#46039f"
                          ],
                          [
                            0.2222222222222222,
                            "#7201a8"
                          ],
                          [
                            0.3333333333333333,
                            "#9c179e"
                          ],
                          [
                            0.4444444444444444,
                            "#bd3786"
                          ],
                          [
                            0.5555555555555556,
                            "#d8576b"
                          ],
                          [
                            0.6666666666666666,
                            "#ed7953"
                          ],
                          [
                            0.7777777777777778,
                            "#fb9f3a"
                          ],
                          [
                            0.8888888888888888,
                            "#fdca26"
                          ],
                          [
                            1,
                            "#f0f921"
                          ]
                        ],
                        "type": "surface"
                      }
                    ],
                    "table": [
                      {
                        "cells": {
                          "fill": {
                            "color": "#EBF0F8"
                          },
                          "line": {
                            "color": "white"
                          }
                        },
                        "header": {
                          "fill": {
                            "color": "#C8D4E3"
                          },
                          "line": {
                            "color": "white"
                          }
                        },
                        "type": "table"
                      }
                    ]
                  },
                  "layout": {
                    "annotationdefaults": {
                      "arrowcolor": "#2a3f5f",
                      "arrowhead": 0,
                      "arrowwidth": 1
                    },
                    "autotypenumbers": "strict",
                    "coloraxis": {
                      "colorbar": {
                        "outlinewidth": 0,
                        "ticks": ""
                      }
                    },
                    "colorscale": {
                      "diverging": [
                        [
                          0,
                          "#8e0152"
                        ],
                        [
                          0.1,
                          "#c51b7d"
                        ],
                        [
                          0.2,
                          "#de77ae"
                        ],
                        [
                          0.3,
                          "#f1b6da"
                        ],
                        [
                          0.4,
                          "#fde0ef"
                        ],
                        [
                          0.5,
                          "#f7f7f7"
                        ],
                        [
                          0.6,
                          "#e6f5d0"
                        ],
                        [
                          0.7,
                          "#b8e186"
                        ],
                        [
                          0.8,
                          "#7fbc41"
                        ],
                        [
                          0.9,
                          "#4d9221"
                        ],
                        [
                          1,
                          "#276419"
                        ]
                      ],
                      "sequential": [
                        [
                          0,
                          "#0d0887"
                        ],
                        [
                          0.1111111111111111,
                          "#46039f"
                        ],
                        [
                          0.2222222222222222,
                          "#7201a8"
                        ],
                        [
                          0.3333333333333333,
                          "#9c179e"
                        ],
                        [
                          0.4444444444444444,
                          "#bd3786"
                        ],
                        [
                          0.5555555555555556,
                          "#d8576b"
                        ],
                        [
                          0.6666666666666666,
                          "#ed7953"
                        ],
                        [
                          0.7777777777777778,
                          "#fb9f3a"
                        ],
                        [
                          0.8888888888888888,
                          "#fdca26"
                        ],
                        [
                          1,
                          "#f0f921"
                        ]
                      ],
                      "sequentialminus": [
                        [
                          0,
                          "#0d0887"
                        ],
                        [
                          0.1111111111111111,
                          "#46039f"
                        ],
                        [
                          0.2222222222222222,
                          "#7201a8"
                        ],
                        [
                          0.3333333333333333,
                          "#9c179e"
                        ],
                        [
                          0.4444444444444444,
                          "#bd3786"
                        ],
                        [
                          0.5555555555555556,
                          "#d8576b"
                        ],
                        [
                          0.6666666666666666,
                          "#ed7953"
                        ],
                        [
                          0.7777777777777778,
                          "#fb9f3a"
                        ],
                        [
                          0.8888888888888888,
                          "#fdca26"
                        ],
                        [
                          1,
                          "#f0f921"
                        ]
                      ]
                    },
                    "colorway": [
                      "#636efa",
                      "#EF553B",
                      "#00cc96",
                      "#ab63fa",
                      "#FFA15A",
                      "#19d3f3",
                      "#FF6692",
                      "#B6E880",
                      "#FF97FF",
                      "#FECB52"
                    ],
                    "font": {
                      "color": "#2a3f5f"
                    },
                    "geo": {
                      "bgcolor": "white",
                      "lakecolor": "white",
                      "landcolor": "#E5ECF6",
                      "showlakes": true,
                      "showland": true,
                      "subunitcolor": "white"
                    },
                    "hoverlabel": {
                      "align": "left"
                    },
                    "hovermode": "closest",
                    "mapbox": {
                      "style": "light"
                    },
                    "paper_bgcolor": "white",
                    "plot_bgcolor": "#E5ECF6",
                    "polar": {
                      "angularaxis": {
                        "gridcolor": "white",
                        "linecolor": "white",
                        "ticks": ""
                      },
                      "bgcolor": "#E5ECF6",
                      "radialaxis": {
                        "gridcolor": "white",
                        "linecolor": "white",
                        "ticks": ""
                      }
                    },
                    "scene": {
                      "xaxis": {
                        "backgroundcolor": "#E5ECF6",
                        "gridcolor": "white",
                        "gridwidth": 2,
                        "linecolor": "white",
                        "showbackground": true,
                        "ticks": "",
                        "zerolinecolor": "white"
                      },
                      "yaxis": {
                        "backgroundcolor": "#E5ECF6",
                        "gridcolor": "white",
                        "gridwidth": 2,
                        "linecolor": "white",
                        "showbackground": true,
                        "ticks": "",
                        "zerolinecolor": "white"
                      },
                      "zaxis": {
                        "backgroundcolor": "#E5ECF6",
                        "gridcolor": "white",
                        "gridwidth": 2,
                        "linecolor": "white",
                        "showbackground": true,
                        "ticks": "",
                        "zerolinecolor": "white"
                      }
                    },
                    "shapedefaults": {
                      "line": {
                        "color": "#2a3f5f"
                      }
                    },
                    "ternary": {
                      "aaxis": {
                        "gridcolor": "white",
                        "linecolor": "white",
                        "ticks": ""
                      },
                      "baxis": {
                        "gridcolor": "white",
                        "linecolor": "white",
                        "ticks": ""
                      },
                      "bgcolor": "#E5ECF6",
                      "caxis": {
                        "gridcolor": "white",
                        "linecolor": "white",
                        "ticks": ""
                      }
                    },
                    "title": {
                      "x": 0.05
                    },
                    "xaxis": {
                      "automargin": true,
                      "gridcolor": "white",
                      "linecolor": "white",
                      "ticks": "",
                      "title": {
                        "standoff": 15
                      },
                      "zerolinecolor": "white",
                      "zerolinewidth": 2
                    },
                    "yaxis": {
                      "automargin": true,
                      "gridcolor": "white",
                      "linecolor": "white",
                      "ticks": "",
                      "title": {
                        "standoff": 15
                      },
                      "zerolinecolor": "white",
                      "zerolinewidth": 2
                    }
                  }
                },
                "title": {
                  "text": "volatile acidity (#4 in FI)",
                  "x": 0.5,
                  "xanchor": "center"
                },
                "width": 700,
                "xaxis": {
                  "anchor": "y",
                  "domain": [
                    0,
                    1
                  ],
                  "dtick": 0.05,
                  "fixedrange": true,
                  "gridcolor": "black",
                  "linecolor": "black",
                  "range": [
                    0,
                    0.4
                  ],
                  "showgrid": false
                },
                "xaxis2": {
                  "anchor": "y2",
                  "domain": [
                    0,
                    1
                  ],
                  "fixedrange": false,
                  "range": [
                    0.22,
                    0.9737999999999999
                  ],
                  "title": {
                    "text": "volatile acidity"
                  }
                },
                "yaxis": {
                  "anchor": "x",
                  "color": "black",
                  "domain": [
                    0.9200000000000002,
                    1
                  ],
                  "fixedrange": true,
                  "showgrid": false,
                  "showline": false,
                  "showticklabels": false,
                  "zeroline": false
                },
                "yaxis2": {
                  "anchor": "x2",
                  "domain": [
                    0,
                    0.7200000000000001
                  ],
                  "fixedrange": true,
                  "title": {
                    "text": "Probability Density"
                  }
                }
              }
            }
          },
          "metadata": {},
          "output_type": "display_data"
        },
        {
          "data": {
            "text/html": []
          },
          "metadata": {},
          "output_type": "display_data"
        },
        {
          "data": {
            "application/vnd.plotly.v1+json": {
              "config": {
                "plotlyServerURL": "https://plot.ly"
              },
              "data": [
                {
                  "base": 0,
                  "marker": {
                    "color": "#01B8AA"
                  },
                  "offsetgroup": "0",
                  "orientation": "h",
                  "showlegend": false,
                  "type": "bar",
                  "x": [
                    0.01640423199327291
                  ],
                  "xaxis": "x",
                  "y": [
                    "Drift Score"
                  ],
                  "yaxis": "y"
                },
                {
                  "fill": "tozeroy",
                  "line": {
                    "color": "#00008b"
                  },
                  "name": "Train Dataset",
                  "type": "scatter",
                  "x": [
                    0.9902,
                    0.990465306122449,
                    0.9907306122448979,
                    0.9909959183673469,
                    0.9912612244897959,
                    0.9915265306122448,
                    0.9917918367346938,
                    0.9920571428571429,
                    0.9923224489795919,
                    0.99258,
                    0.9925877551020408,
                    0.9926024,
                    0.9928530612244898,
                    0.9931183673469388,
                    0.9933836734693877,
                    0.9934143999999999,
                    0.993516,
                    0.9936489795918367,
                    0.9937471999999999,
                    0.9939142857142858,
                    0.9939648,
                    0.9940112,
                    0.9941795918367347,
                    0.994292,
                    0.9944448979591837,
                    0.994532,
                    0.9945544,
                    0.9946784,
                    0.9947102040816327,
                    0.9947180000000001,
                    0.9948,
                    0.9948928,
                    0.9949616,
                    0.9949755102040816,
                    0.994983,
                    0.9951,
                    0.99514,
                    0.9951684,
                    0.995208,
                    0.9952408163265306,
                    0.9952596,
                    0.9953154000000001,
                    0.99538,
                    0.9954868,
                    0.9955,
                    0.9955,
                    0.9955061224489796,
                    0.9956,
                    0.9956,
                    0.995634,
                    0.99568,
                    0.9957431999999999,
                    0.9957592,
                    0.9957714285714286,
                    0.9958404,
                    0.9958546,
                    0.99592,
                    0.9959504,
                    0.9960327999999999,
                    0.9960344,
                    0.9960367346938775,
                    0.99612,
                    0.996178,
                    0.9961856,
                    0.9962392,
                    0.9963,
                    0.9963020408163266,
                    0.9963152000000001,
                    0.9963576,
                    0.9964,
                    0.9965,
                    0.9965,
                    0.9965673469387756,
                    0.9966,
                    0.9966012000000001,
                    0.99668,
                    0.9967,
                    0.9967808,
                    0.9968,
                    0.9968278,
                    0.9968326530612245,
                    0.9968548,
                    0.996932,
                    0.9969747999999999,
                    0.997,
                    0.997014,
                    0.99708,
                    0.9970956,
                    0.9970979591836735,
                    0.99716,
                    0.9972,
                    0.9972832,
                    0.9973,
                    0.9973362,
                    0.9973632653061225,
                    0.99738,
                    0.9974,
                    0.99745,
                    0.997456,
                    0.9976,
                    0.9976,
                    0.9976285714285714,
                    0.9976668000000001,
                    0.9978,
                    0.9978,
                    0.9978938775510204,
                    0.997964,
                    0.998,
                    0.9980276,
                    0.9980874,
                    0.9981591836734695,
                    0.9982059999999999,
                    0.9982208,
                    0.9984,
                    0.99842,
                    0.9984244897959185,
                    0.9985980000000001,
                    0.9986897959183674,
                    0.9987,
                    0.9987,
                    0.9988,
                    0.9988576,
                    0.9989551020408164,
                    0.9992204081632654,
                    0.999255,
                    0.9993951999999999,
                    0.9994,
                    0.9994857142857143,
                    0.999572,
                    0.9997510204081633,
                    0.999876,
                    1.0000163265306123,
                    1.000129,
                    1.0002,
                    1.0002816326530612,
                    1.0004,
                    1.0005469387755104,
                    1.0008122448979593,
                    1.000924,
                    1.0010775510204082,
                    1.0013428571428573,
                    1.0016081632653062,
                    1.0018734693877551,
                    1.0021387755102042,
                    1.0024040816326532,
                    1.002669387755102,
                    1.0029346938775512,
                    1.0032
                  ],
                  "xaxis": "x2",
                  "y": [
                    1.8870737699456575,
                    2.379468509133893,
                    3.0924655269585357,
                    4.536976523298749,
                    6.874443461771072,
                    9.500417771189255,
                    11.750611823777964,
                    13.92212577549806,
                    16.688553460804982,
                    20.109269329102798,
                    20.226702183775437,
                    20.45160274390385,
                    25.226524723436633,
                    33.3441536522959,
                    44.97859740129489,
                    46.47666869386288,
                    51.53031438240463,
                    58.232677006787334,
                    63.18532362093121,
                    71.72219715865049,
                    74.38684415973164,
                    76.89207096923533,
                    86.60646305189516,
                    93.72339736179768,
                    104.15288392658928,
                    110.37934418255756,
                    112.00384251581443,
                    121.11734347399974,
                    123.48184875991407,
                    124.0630173934062,
                    130.21699393250384,
                    137.29720251814211,
                    142.65874156437727,
                    143.75719482978613,
                    144.35084990864738,
                    153.84597756539188,
                    157.19436935305208,
                    159.60371153017405,
                    163.00567817560224,
                    165.8595633450152,
                    167.5058232639573,
                    172.4413987593278,
                    178.21010497565115,
                    187.73388431685365,
                    188.89832535192159,
                    188.89832535192159,
                    189.43684666951341,
                    197.52357702174461,
                    197.52357702174461,
                    200.34842491590103,
                    204.05573267091575,
                    208.89636301872045,
                    210.06972223368192,
                    210.95125945854147,
                    215.65973563026736,
                    216.57046625638486,
                    220.4880606964043,
                    222.14792007036587,
                    226.10784326083402,
                    226.17677444895685,
                    226.27680737490616,
                    229.41511700366124,
                    231.1075685576999,
                    231.2995782508535,
                    232.46137829737353,
                    233.38252220020001,
                    233.40636684142117,
                    233.54937157265726,
                    233.88648683174713,
                    234.04299540711222,
                    233.7644154327034,
                    233.7644154327034,
                    233.12844750643922,
                    232.70749159300632,
                    232.69072007873328,
                    231.4019790428628,
                    231.01947614408917,
                    229.26179067599264,
                    228.79490274720365,
                    228.085033432208,
                    227.95694411632707,
                    227.3563458855243,
                    225.04457492144306,
                    223.60209735148575,
                    222.69294139387748,
                    222.16741225688702,
                    219.47648376885806,
                    218.7852513390218,
                    218.67877063483087,
                    215.6857705189991,
                    213.54762164172513,
                    208.53556006381683,
                    207.42755588003482,
                    204.92872656813623,
                    202.96123642497383,
                    201.7026068449198,
                    200.15670357415337,
                    196.09852902995019,
                    195.59353496079532,
                    182.45350002960984,
                    182.45350002960984,
                    179.64957651690608,
                    175.82170999085767,
                    162.0483885367969,
                    162.0483885367969,
                    152.2391637573157,
                    145.02748697903448,
                    141.39586162330622,
                    138.65254156168064,
                    132.84972284942592,
                    126.1743703637172,
                    122.0086220038342,
                    120.72400468424074,
                    106.44221884606416,
                    104.99468948014915,
                    104.67373583732986,
                    93.3732939388686,
                    88.24347225906682,
                    87.70876380061708,
                    87.70876380061708,
                    82.8399682319105,
                    80.33708116890558,
                    76.58396005004785,
                    68.96903713940554,
                    68.17737568645958,
                    65.16974993305573,
                    65.0690894804647,
                    63.251208393392034,
                    61.32303242938363,
                    56.71439008032648,
                    52.8507917082242,
                    47.82118773144605,
                    43.295870266054315,
                    40.26572426360795,
                    36.66554788855079,
                    31.360629592816775,
                    24.95982198573818,
                    15.16872268505241,
                    12.01104143396184,
                    8.64120847171449,
                    5.009464608357218,
                    3.2156128050594117,
                    2.384142224268553,
                    1.9798349188759443,
                    1.8442431187979278,
                    2.0846263844911057,
                    2.5654583438981646,
                    2.719267043848534
                  ],
                  "yaxis": "y2"
                },
                {
                  "fill": "tozeroy",
                  "line": {
                    "color": "#69b3a2"
                  },
                  "name": "Test Dataset",
                  "type": "scatter",
                  "x": [
                    0.9902,
                    0.990465306122449,
                    0.9907306122448979,
                    0.9909959183673469,
                    0.9912612244897959,
                    0.9915265306122448,
                    0.9917918367346938,
                    0.9920571428571429,
                    0.9923224489795919,
                    0.99258,
                    0.9925877551020408,
                    0.9926024,
                    0.9928530612244898,
                    0.9931183673469388,
                    0.9933836734693877,
                    0.9934143999999999,
                    0.993516,
                    0.9936489795918367,
                    0.9937471999999999,
                    0.9939142857142858,
                    0.9939648,
                    0.9940112,
                    0.9941795918367347,
                    0.994292,
                    0.9944448979591837,
                    0.994532,
                    0.9945544,
                    0.9946784,
                    0.9947102040816327,
                    0.9947180000000001,
                    0.9948,
                    0.9948928,
                    0.9949616,
                    0.9949755102040816,
                    0.994983,
                    0.9951,
                    0.99514,
                    0.9951684,
                    0.995208,
                    0.9952408163265306,
                    0.9952596,
                    0.9953154000000001,
                    0.99538,
                    0.9954868,
                    0.9955,
                    0.9955,
                    0.9955061224489796,
                    0.9956,
                    0.9956,
                    0.995634,
                    0.99568,
                    0.9957431999999999,
                    0.9957592,
                    0.9957714285714286,
                    0.9958404,
                    0.9958546,
                    0.99592,
                    0.9959504,
                    0.9960327999999999,
                    0.9960344,
                    0.9960367346938775,
                    0.99612,
                    0.996178,
                    0.9961856,
                    0.9962392,
                    0.9963,
                    0.9963020408163266,
                    0.9963152000000001,
                    0.9963576,
                    0.9964,
                    0.9965,
                    0.9965,
                    0.9965673469387756,
                    0.9966,
                    0.9966012000000001,
                    0.99668,
                    0.9967,
                    0.9967808,
                    0.9968,
                    0.9968278,
                    0.9968326530612245,
                    0.9968548,
                    0.996932,
                    0.9969747999999999,
                    0.997,
                    0.997014,
                    0.99708,
                    0.9970956,
                    0.9970979591836735,
                    0.99716,
                    0.9972,
                    0.9972832,
                    0.9973,
                    0.9973362,
                    0.9973632653061225,
                    0.99738,
                    0.9974,
                    0.99745,
                    0.997456,
                    0.9976,
                    0.9976,
                    0.9976285714285714,
                    0.9976668000000001,
                    0.9978,
                    0.9978,
                    0.9978938775510204,
                    0.997964,
                    0.998,
                    0.9980276,
                    0.9980874,
                    0.9981591836734695,
                    0.9982059999999999,
                    0.9982208,
                    0.9984,
                    0.99842,
                    0.9984244897959185,
                    0.9985980000000001,
                    0.9986897959183674,
                    0.9987,
                    0.9987,
                    0.9988,
                    0.9988576,
                    0.9989551020408164,
                    0.9992204081632654,
                    0.999255,
                    0.9993951999999999,
                    0.9994,
                    0.9994857142857143,
                    0.999572,
                    0.9997510204081633,
                    0.999876,
                    1.0000163265306123,
                    1.000129,
                    1.0002,
                    1.0002816326530612,
                    1.0004,
                    1.0005469387755104,
                    1.0008122448979593,
                    1.000924,
                    1.0010775510204082,
                    1.0013428571428573,
                    1.0016081632653062,
                    1.0018734693877551,
                    1.0021387755102042,
                    1.0024040816326532,
                    1.002669387755102,
                    1.0029346938775512,
                    1.0032
                  ],
                  "xaxis": "x2",
                  "y": [
                    0.06163677763505783,
                    0.26674819092190044,
                    0.8652615341174106,
                    2.1582398149466306,
                    4.337554279602005,
                    7.480816990735308,
                    11.581569799990021,
                    16.040231308613695,
                    19.51472232048021,
                    21.492188642879693,
                    21.542456781551323,
                    21.637777866676796,
                    23.721990504194935,
                    27.632060599542065,
                    32.58128362511831,
                    33.15250482390954,
                    35.02788228503382,
                    37.59727106245188,
                    39.821762234292706,
                    45.087883442379315,
                    47.237651447616294,
                    49.50444967056734,
                    60.50325846573329,
                    70.55890805070385,
                    87.76938225536051,
                    99.17956741242836,
                    102.2689146544605,
                    120.21026323921187,
                    124.96709456321342,
                    126.13822259958187,
                    138.49287427763056,
                    152.2653381828967,
                    162.0697705649895,
                    163.99118580515278,
                    165.01598740972304,
                    179.97397238683777,
                    184.5593273465623,
                    187.62870870946233,
                    191.6357917125814,
                    194.70580491017517,
                    196.3578508783707,
                    200.80326137837443,
                    205.0730707804782,
                    210.09105882773167,
                    210.54102729381955,
                    210.54102729381955,
                    210.73753373682422,
                    212.83383401185554,
                    212.83383401185554,
                    213.20143615684333,
                    213.40953060098224,
                    213.22865695422212,
                    213.11021524890984,
                    213.0026251172588,
                    212.16766217529442,
                    211.95789562313146,
                    210.8956910135961,
                    210.3771572271574,
                    209.0359654281507,
                    209.01209971076537,
                    208.97748461886997,
                    207.94752452508368,
                    207.53434749368145,
                    207.50230467928495,
                    207.43446439225383,
                    207.70738696447714,
                    207.72308797375754,
                    207.8344373332353,
                    208.3099636268463,
                    208.95441835081542,
                    211.02763094262832,
                    211.02763094262832,
                    212.70939603090073,
                    213.55463054241042,
                    213.58568651441135,
                    215.5544575563684,
                    216.01218669886737,
                    217.54149280819163,
                    217.80707636833554,
                    218.10968594448687,
                    218.1518707401801,
                    218.30155532872848,
                    218.2161754780245,
                    217.71781886520952,
                    217.26237549874932,
                    216.95604538940395,
                    214.98965969757901,
                    214.39837442369208,
                    214.30476143979132,
                    211.4536798200642,
                    209.2307240588553,
                    203.7287820453204,
                    202.4883836767365,
                    199.68678816696448,
                    197.4882217082628,
                    196.08927978488884,
                    194.38180825503125,
                    189.97071206200593,
                    189.43000148873415,
                    176.10223341468125,
                    176.10223341468125,
                    173.4506954767883,
                    169.9393573848443,
                    158.28741744859104,
                    158.28741744859104,
                    150.83103486495412,
                    145.72167428847285,
                    143.24737699752697,
                    141.41461636050596,
                    137.61774343124753,
                    133.32469164760164,
                    130.6424413173458,
                    129.8087928455256,
                    119.91319278459588,
                    118.79901814789436,
                    118.54788050587429,
                    108.42638952718562,
                    102.67816619317551,
                    102.02280799683409,
                    102.02280799683409,
                    95.46289505554839,
                    91.60899343036975,
                    85.0811179689187,
                    68.79301900336304,
                    66.97414485598311,
                    60.609090947402656,
                    60.421712522493465,
                    57.42978917661525,
                    55.08904093359237,
                    52.14859490553307,
                    51.20934400771894,
                    50.58168756048142,
                    49.92581397506672,
                    49.27625148534677,
                    48.20891762903411,
                    45.959756324756675,
                    42.03801406383575,
                    32.92240754062771,
                    28.889003949192762,
                    23.64934554742458,
                    16.121116305795017,
                    10.89598041837066,
                    7.726189347160497,
                    5.874513744975674,
                    4.749451611295836,
                    4.278924349560108,
                    4.2807391486200075,
                    4.054313639605734
                  ],
                  "yaxis": "y2"
                }
              ],
              "layout": {
                "annotations": [
                  {
                    "font": {
                      "size": 16
                    },
                    "showarrow": false,
                    "text": "Drift Score (Earth Mover's Distance)",
                    "x": 0.5,
                    "xanchor": "center",
                    "xref": "paper",
                    "y": 1.0000000000000002,
                    "yanchor": "bottom",
                    "yref": "paper"
                  },
                  {
                    "font": {
                      "size": 16
                    },
                    "showarrow": false,
                    "text": "Distribution Plot",
                    "x": 0.5,
                    "xanchor": "center",
                    "xref": "paper",
                    "y": 0.7200000000000001,
                    "yanchor": "bottom",
                    "yref": "paper"
                  }
                ],
                "bargroupgap": 0,
                "height": 400,
                "legend": {
                  "title": {
                    "text": "Dataset"
                  },
                  "y": 0.6,
                  "yanchor": "top"
                },
                "template": {
                  "data": {
                    "bar": [
                      {
                        "error_x": {
                          "color": "#2a3f5f"
                        },
                        "error_y": {
                          "color": "#2a3f5f"
                        },
                        "marker": {
                          "line": {
                            "color": "#E5ECF6",
                            "width": 0.5
                          },
                          "pattern": {
                            "fillmode": "overlay",
                            "size": 10,
                            "solidity": 0.2
                          }
                        },
                        "type": "bar"
                      }
                    ],
                    "barpolar": [
                      {
                        "marker": {
                          "line": {
                            "color": "#E5ECF6",
                            "width": 0.5
                          },
                          "pattern": {
                            "fillmode": "overlay",
                            "size": 10,
                            "solidity": 0.2
                          }
                        },
                        "type": "barpolar"
                      }
                    ],
                    "carpet": [
                      {
                        "aaxis": {
                          "endlinecolor": "#2a3f5f",
                          "gridcolor": "white",
                          "linecolor": "white",
                          "minorgridcolor": "white",
                          "startlinecolor": "#2a3f5f"
                        },
                        "baxis": {
                          "endlinecolor": "#2a3f5f",
                          "gridcolor": "white",
                          "linecolor": "white",
                          "minorgridcolor": "white",
                          "startlinecolor": "#2a3f5f"
                        },
                        "type": "carpet"
                      }
                    ],
                    "choropleth": [
                      {
                        "colorbar": {
                          "outlinewidth": 0,
                          "ticks": ""
                        },
                        "type": "choropleth"
                      }
                    ],
                    "contour": [
                      {
                        "colorbar": {
                          "outlinewidth": 0,
                          "ticks": ""
                        },
                        "colorscale": [
                          [
                            0,
                            "#0d0887"
                          ],
                          [
                            0.1111111111111111,
                            "#46039f"
                          ],
                          [
                            0.2222222222222222,
                            "#7201a8"
                          ],
                          [
                            0.3333333333333333,
                            "#9c179e"
                          ],
                          [
                            0.4444444444444444,
                            "#bd3786"
                          ],
                          [
                            0.5555555555555556,
                            "#d8576b"
                          ],
                          [
                            0.6666666666666666,
                            "#ed7953"
                          ],
                          [
                            0.7777777777777778,
                            "#fb9f3a"
                          ],
                          [
                            0.8888888888888888,
                            "#fdca26"
                          ],
                          [
                            1,
                            "#f0f921"
                          ]
                        ],
                        "type": "contour"
                      }
                    ],
                    "contourcarpet": [
                      {
                        "colorbar": {
                          "outlinewidth": 0,
                          "ticks": ""
                        },
                        "type": "contourcarpet"
                      }
                    ],
                    "heatmap": [
                      {
                        "colorbar": {
                          "outlinewidth": 0,
                          "ticks": ""
                        },
                        "colorscale": [
                          [
                            0,
                            "#0d0887"
                          ],
                          [
                            0.1111111111111111,
                            "#46039f"
                          ],
                          [
                            0.2222222222222222,
                            "#7201a8"
                          ],
                          [
                            0.3333333333333333,
                            "#9c179e"
                          ],
                          [
                            0.4444444444444444,
                            "#bd3786"
                          ],
                          [
                            0.5555555555555556,
                            "#d8576b"
                          ],
                          [
                            0.6666666666666666,
                            "#ed7953"
                          ],
                          [
                            0.7777777777777778,
                            "#fb9f3a"
                          ],
                          [
                            0.8888888888888888,
                            "#fdca26"
                          ],
                          [
                            1,
                            "#f0f921"
                          ]
                        ],
                        "type": "heatmap"
                      }
                    ],
                    "heatmapgl": [
                      {
                        "colorbar": {
                          "outlinewidth": 0,
                          "ticks": ""
                        },
                        "colorscale": [
                          [
                            0,
                            "#0d0887"
                          ],
                          [
                            0.1111111111111111,
                            "#46039f"
                          ],
                          [
                            0.2222222222222222,
                            "#7201a8"
                          ],
                          [
                            0.3333333333333333,
                            "#9c179e"
                          ],
                          [
                            0.4444444444444444,
                            "#bd3786"
                          ],
                          [
                            0.5555555555555556,
                            "#d8576b"
                          ],
                          [
                            0.6666666666666666,
                            "#ed7953"
                          ],
                          [
                            0.7777777777777778,
                            "#fb9f3a"
                          ],
                          [
                            0.8888888888888888,
                            "#fdca26"
                          ],
                          [
                            1,
                            "#f0f921"
                          ]
                        ],
                        "type": "heatmapgl"
                      }
                    ],
                    "histogram": [
                      {
                        "marker": {
                          "pattern": {
                            "fillmode": "overlay",
                            "size": 10,
                            "solidity": 0.2
                          }
                        },
                        "type": "histogram"
                      }
                    ],
                    "histogram2d": [
                      {
                        "colorbar": {
                          "outlinewidth": 0,
                          "ticks": ""
                        },
                        "colorscale": [
                          [
                            0,
                            "#0d0887"
                          ],
                          [
                            0.1111111111111111,
                            "#46039f"
                          ],
                          [
                            0.2222222222222222,
                            "#7201a8"
                          ],
                          [
                            0.3333333333333333,
                            "#9c179e"
                          ],
                          [
                            0.4444444444444444,
                            "#bd3786"
                          ],
                          [
                            0.5555555555555556,
                            "#d8576b"
                          ],
                          [
                            0.6666666666666666,
                            "#ed7953"
                          ],
                          [
                            0.7777777777777778,
                            "#fb9f3a"
                          ],
                          [
                            0.8888888888888888,
                            "#fdca26"
                          ],
                          [
                            1,
                            "#f0f921"
                          ]
                        ],
                        "type": "histogram2d"
                      }
                    ],
                    "histogram2dcontour": [
                      {
                        "colorbar": {
                          "outlinewidth": 0,
                          "ticks": ""
                        },
                        "colorscale": [
                          [
                            0,
                            "#0d0887"
                          ],
                          [
                            0.1111111111111111,
                            "#46039f"
                          ],
                          [
                            0.2222222222222222,
                            "#7201a8"
                          ],
                          [
                            0.3333333333333333,
                            "#9c179e"
                          ],
                          [
                            0.4444444444444444,
                            "#bd3786"
                          ],
                          [
                            0.5555555555555556,
                            "#d8576b"
                          ],
                          [
                            0.6666666666666666,
                            "#ed7953"
                          ],
                          [
                            0.7777777777777778,
                            "#fb9f3a"
                          ],
                          [
                            0.8888888888888888,
                            "#fdca26"
                          ],
                          [
                            1,
                            "#f0f921"
                          ]
                        ],
                        "type": "histogram2dcontour"
                      }
                    ],
                    "mesh3d": [
                      {
                        "colorbar": {
                          "outlinewidth": 0,
                          "ticks": ""
                        },
                        "type": "mesh3d"
                      }
                    ],
                    "parcoords": [
                      {
                        "line": {
                          "colorbar": {
                            "outlinewidth": 0,
                            "ticks": ""
                          }
                        },
                        "type": "parcoords"
                      }
                    ],
                    "pie": [
                      {
                        "automargin": true,
                        "type": "pie"
                      }
                    ],
                    "scatter": [
                      {
                        "marker": {
                          "colorbar": {
                            "outlinewidth": 0,
                            "ticks": ""
                          }
                        },
                        "type": "scatter"
                      }
                    ],
                    "scatter3d": [
                      {
                        "line": {
                          "colorbar": {
                            "outlinewidth": 0,
                            "ticks": ""
                          }
                        },
                        "marker": {
                          "colorbar": {
                            "outlinewidth": 0,
                            "ticks": ""
                          }
                        },
                        "type": "scatter3d"
                      }
                    ],
                    "scattercarpet": [
                      {
                        "marker": {
                          "colorbar": {
                            "outlinewidth": 0,
                            "ticks": ""
                          }
                        },
                        "type": "scattercarpet"
                      }
                    ],
                    "scattergeo": [
                      {
                        "marker": {
                          "colorbar": {
                            "outlinewidth": 0,
                            "ticks": ""
                          }
                        },
                        "type": "scattergeo"
                      }
                    ],
                    "scattergl": [
                      {
                        "marker": {
                          "colorbar": {
                            "outlinewidth": 0,
                            "ticks": ""
                          }
                        },
                        "type": "scattergl"
                      }
                    ],
                    "scattermapbox": [
                      {
                        "marker": {
                          "colorbar": {
                            "outlinewidth": 0,
                            "ticks": ""
                          }
                        },
                        "type": "scattermapbox"
                      }
                    ],
                    "scatterpolar": [
                      {
                        "marker": {
                          "colorbar": {
                            "outlinewidth": 0,
                            "ticks": ""
                          }
                        },
                        "type": "scatterpolar"
                      }
                    ],
                    "scatterpolargl": [
                      {
                        "marker": {
                          "colorbar": {
                            "outlinewidth": 0,
                            "ticks": ""
                          }
                        },
                        "type": "scatterpolargl"
                      }
                    ],
                    "scatterternary": [
                      {
                        "marker": {
                          "colorbar": {
                            "outlinewidth": 0,
                            "ticks": ""
                          }
                        },
                        "type": "scatterternary"
                      }
                    ],
                    "surface": [
                      {
                        "colorbar": {
                          "outlinewidth": 0,
                          "ticks": ""
                        },
                        "colorscale": [
                          [
                            0,
                            "#0d0887"
                          ],
                          [
                            0.1111111111111111,
                            "#46039f"
                          ],
                          [
                            0.2222222222222222,
                            "#7201a8"
                          ],
                          [
                            0.3333333333333333,
                            "#9c179e"
                          ],
                          [
                            0.4444444444444444,
                            "#bd3786"
                          ],
                          [
                            0.5555555555555556,
                            "#d8576b"
                          ],
                          [
                            0.6666666666666666,
                            "#ed7953"
                          ],
                          [
                            0.7777777777777778,
                            "#fb9f3a"
                          ],
                          [
                            0.8888888888888888,
                            "#fdca26"
                          ],
                          [
                            1,
                            "#f0f921"
                          ]
                        ],
                        "type": "surface"
                      }
                    ],
                    "table": [
                      {
                        "cells": {
                          "fill": {
                            "color": "#EBF0F8"
                          },
                          "line": {
                            "color": "white"
                          }
                        },
                        "header": {
                          "fill": {
                            "color": "#C8D4E3"
                          },
                          "line": {
                            "color": "white"
                          }
                        },
                        "type": "table"
                      }
                    ]
                  },
                  "layout": {
                    "annotationdefaults": {
                      "arrowcolor": "#2a3f5f",
                      "arrowhead": 0,
                      "arrowwidth": 1
                    },
                    "autotypenumbers": "strict",
                    "coloraxis": {
                      "colorbar": {
                        "outlinewidth": 0,
                        "ticks": ""
                      }
                    },
                    "colorscale": {
                      "diverging": [
                        [
                          0,
                          "#8e0152"
                        ],
                        [
                          0.1,
                          "#c51b7d"
                        ],
                        [
                          0.2,
                          "#de77ae"
                        ],
                        [
                          0.3,
                          "#f1b6da"
                        ],
                        [
                          0.4,
                          "#fde0ef"
                        ],
                        [
                          0.5,
                          "#f7f7f7"
                        ],
                        [
                          0.6,
                          "#e6f5d0"
                        ],
                        [
                          0.7,
                          "#b8e186"
                        ],
                        [
                          0.8,
                          "#7fbc41"
                        ],
                        [
                          0.9,
                          "#4d9221"
                        ],
                        [
                          1,
                          "#276419"
                        ]
                      ],
                      "sequential": [
                        [
                          0,
                          "#0d0887"
                        ],
                        [
                          0.1111111111111111,
                          "#46039f"
                        ],
                        [
                          0.2222222222222222,
                          "#7201a8"
                        ],
                        [
                          0.3333333333333333,
                          "#9c179e"
                        ],
                        [
                          0.4444444444444444,
                          "#bd3786"
                        ],
                        [
                          0.5555555555555556,
                          "#d8576b"
                        ],
                        [
                          0.6666666666666666,
                          "#ed7953"
                        ],
                        [
                          0.7777777777777778,
                          "#fb9f3a"
                        ],
                        [
                          0.8888888888888888,
                          "#fdca26"
                        ],
                        [
                          1,
                          "#f0f921"
                        ]
                      ],
                      "sequentialminus": [
                        [
                          0,
                          "#0d0887"
                        ],
                        [
                          0.1111111111111111,
                          "#46039f"
                        ],
                        [
                          0.2222222222222222,
                          "#7201a8"
                        ],
                        [
                          0.3333333333333333,
                          "#9c179e"
                        ],
                        [
                          0.4444444444444444,
                          "#bd3786"
                        ],
                        [
                          0.5555555555555556,
                          "#d8576b"
                        ],
                        [
                          0.6666666666666666,
                          "#ed7953"
                        ],
                        [
                          0.7777777777777778,
                          "#fb9f3a"
                        ],
                        [
                          0.8888888888888888,
                          "#fdca26"
                        ],
                        [
                          1,
                          "#f0f921"
                        ]
                      ]
                    },
                    "colorway": [
                      "#636efa",
                      "#EF553B",
                      "#00cc96",
                      "#ab63fa",
                      "#FFA15A",
                      "#19d3f3",
                      "#FF6692",
                      "#B6E880",
                      "#FF97FF",
                      "#FECB52"
                    ],
                    "font": {
                      "color": "#2a3f5f"
                    },
                    "geo": {
                      "bgcolor": "white",
                      "lakecolor": "white",
                      "landcolor": "#E5ECF6",
                      "showlakes": true,
                      "showland": true,
                      "subunitcolor": "white"
                    },
                    "hoverlabel": {
                      "align": "left"
                    },
                    "hovermode": "closest",
                    "mapbox": {
                      "style": "light"
                    },
                    "paper_bgcolor": "white",
                    "plot_bgcolor": "#E5ECF6",
                    "polar": {
                      "angularaxis": {
                        "gridcolor": "white",
                        "linecolor": "white",
                        "ticks": ""
                      },
                      "bgcolor": "#E5ECF6",
                      "radialaxis": {
                        "gridcolor": "white",
                        "linecolor": "white",
                        "ticks": ""
                      }
                    },
                    "scene": {
                      "xaxis": {
                        "backgroundcolor": "#E5ECF6",
                        "gridcolor": "white",
                        "gridwidth": 2,
                        "linecolor": "white",
                        "showbackground": true,
                        "ticks": "",
                        "zerolinecolor": "white"
                      },
                      "yaxis": {
                        "backgroundcolor": "#E5ECF6",
                        "gridcolor": "white",
                        "gridwidth": 2,
                        "linecolor": "white",
                        "showbackground": true,
                        "ticks": "",
                        "zerolinecolor": "white"
                      },
                      "zaxis": {
                        "backgroundcolor": "#E5ECF6",
                        "gridcolor": "white",
                        "gridwidth": 2,
                        "linecolor": "white",
                        "showbackground": true,
                        "ticks": "",
                        "zerolinecolor": "white"
                      }
                    },
                    "shapedefaults": {
                      "line": {
                        "color": "#2a3f5f"
                      }
                    },
                    "ternary": {
                      "aaxis": {
                        "gridcolor": "white",
                        "linecolor": "white",
                        "ticks": ""
                      },
                      "baxis": {
                        "gridcolor": "white",
                        "linecolor": "white",
                        "ticks": ""
                      },
                      "bgcolor": "#E5ECF6",
                      "caxis": {
                        "gridcolor": "white",
                        "linecolor": "white",
                        "ticks": ""
                      }
                    },
                    "title": {
                      "x": 0.05
                    },
                    "xaxis": {
                      "automargin": true,
                      "gridcolor": "white",
                      "linecolor": "white",
                      "ticks": "",
                      "title": {
                        "standoff": 15
                      },
                      "zerolinecolor": "white",
                      "zerolinewidth": 2
                    },
                    "yaxis": {
                      "automargin": true,
                      "gridcolor": "white",
                      "linecolor": "white",
                      "ticks": "",
                      "title": {
                        "standoff": 15
                      },
                      "zerolinecolor": "white",
                      "zerolinewidth": 2
                    }
                  }
                },
                "title": {
                  "text": "density (#5 in FI)",
                  "x": 0.5,
                  "xanchor": "center"
                },
                "width": 700,
                "xaxis": {
                  "anchor": "y",
                  "domain": [
                    0,
                    1
                  ],
                  "dtick": 0.05,
                  "fixedrange": true,
                  "gridcolor": "black",
                  "linecolor": "black",
                  "range": [
                    0,
                    0.4
                  ],
                  "showgrid": false
                },
                "xaxis2": {
                  "anchor": "y2",
                  "domain": [
                    0,
                    1
                  ],
                  "fixedrange": false,
                  "range": [
                    0.99258,
                    1.000924
                  ],
                  "title": {
                    "text": "density"
                  }
                },
                "yaxis": {
                  "anchor": "x",
                  "color": "black",
                  "domain": [
                    0.9200000000000002,
                    1
                  ],
                  "fixedrange": true,
                  "showgrid": false,
                  "showline": false,
                  "showticklabels": false,
                  "zeroline": false
                },
                "yaxis2": {
                  "anchor": "x2",
                  "domain": [
                    0,
                    0.7200000000000001
                  ],
                  "fixedrange": true,
                  "title": {
                    "text": "Probability Density"
                  }
                }
              }
            }
          },
          "metadata": {},
          "output_type": "display_data"
        },
        {
          "data": {
            "text/html": [
              "<br><a href=\"#summary_DETA7\" style=\"font-size: 14px\">Go to top</a>"
            ]
          },
          "metadata": {},
          "output_type": "display_data"
        },
        {
          "data": {
            "text/html": [
              "<hr style=\"background-color: #eee;border: 0 none;color: #eee;height: 4px;\">"
            ]
          },
          "metadata": {},
          "output_type": "display_data"
        },
        {
          "data": {
            "text/html": [
              "<h4 id=\"TrainTestLabelDrift_DETA7\">Train Test Label Drift</h4><p>    Calculate label drift between train dataset and test dataset, using statistical measures. <a href=\"https://docs.deepchecks.com/0.6.1/examples/tabular/checks/distribution/examples/plot_train_test_label_drift.html?utm_source=display_output&utm_medium=referral&utm_campaign=check_link\" target=\"_blank\">Read More...</a></p><h5>Conditions Summary</h5><style type=\"text/css\">\n",
              "#T_ebc81 table {\n",
              "  text-align: left;\n",
              "  white-space: pre-wrap;\n",
              "}\n",
              "#T_ebc81 thead {\n",
              "  text-align: left;\n",
              "  white-space: pre-wrap;\n",
              "}\n",
              "#T_ebc81 tbody {\n",
              "  text-align: left;\n",
              "  white-space: pre-wrap;\n",
              "}\n",
              "#T_ebc81 th {\n",
              "  text-align: left;\n",
              "  white-space: pre-wrap;\n",
              "}\n",
              "#T_ebc81 td {\n",
              "  text-align: left;\n",
              "  white-space: pre-wrap;\n",
              "}\n",
              "</style>\n",
              "<table id=\"T_ebc81\">\n",
              "  <thead>\n",
              "    <tr>\n",
              "      <th id=\"T_ebc81_level0_col0\" class=\"col_heading level0 col0\" >Status</th>\n",
              "      <th id=\"T_ebc81_level0_col1\" class=\"col_heading level0 col1\" >Condition</th>\n",
              "      <th id=\"T_ebc81_level0_col2\" class=\"col_heading level0 col2\" >More Info</th>\n",
              "    </tr>\n",
              "  </thead>\n",
              "  <tbody>\n",
              "    <tr>\n",
              "      <td id=\"T_ebc81_row0_col0\" class=\"data row0 col0\" ><div style=\"color: green;text-align: center\">✓</div></td>\n",
              "      <td id=\"T_ebc81_row0_col1\" class=\"data row0 col1\" >PSI <= 0.2 and Earth Mover's Distance <= 0.1 for label drift</td>\n",
              "      <td id=\"T_ebc81_row0_col2\" class=\"data row0 col2\" ></td>\n",
              "    </tr>\n",
              "  </tbody>\n",
              "</table>\n",
              "<h5>Additional Outputs</h5><div><span>\n",
              "            The Drift score is a measure for the difference between two distributions, in this check - the test\n",
              "            and train distributions.<br> The check shows the drift score and distributions for the label.\n",
              "        </span></div>"
            ]
          },
          "metadata": {},
          "output_type": "display_data"
        },
        {
          "data": {
            "application/vnd.plotly.v1+json": {
              "config": {
                "plotlyServerURL": "https://plot.ly"
              },
              "data": [
                {
                  "base": 0,
                  "marker": {
                    "color": "#01B8AA"
                  },
                  "offsetgroup": "0",
                  "orientation": "h",
                  "showlegend": false,
                  "type": "bar",
                  "x": [
                    0.000016435058779547603
                  ],
                  "xaxis": "x",
                  "y": [
                    "Drift Score"
                  ],
                  "yaxis": "y"
                },
                {
                  "marker": {
                    "color": "#00008b"
                  },
                  "name": "Train Dataset",
                  "type": "bar",
                  "x": [
                    "High",
                    "Low"
                  ],
                  "xaxis": "x2",
                  "y": [
                    0.5570776255707762,
                    0.4429223744292237
                  ],
                  "yaxis": "y2"
                },
                {
                  "marker": {
                    "color": "#69b3a2"
                  },
                  "name": "Test Dataset",
                  "type": "bar",
                  "x": [
                    "High",
                    "Low"
                  ],
                  "xaxis": "x2",
                  "y": [
                    0.5590909090909091,
                    0.4409090909090909
                  ],
                  "yaxis": "y2"
                }
              ],
              "layout": {
                "annotations": [
                  {
                    "font": {
                      "size": 16
                    },
                    "showarrow": false,
                    "text": "Drift Score (PSI)",
                    "x": 0.5,
                    "xanchor": "center",
                    "xref": "paper",
                    "y": 1.0000000000000002,
                    "yanchor": "bottom",
                    "yref": "paper"
                  },
                  {
                    "font": {
                      "size": 16
                    },
                    "showarrow": false,
                    "text": "Distribution Plot",
                    "x": 0.5,
                    "xanchor": "center",
                    "xref": "paper",
                    "y": 0.7200000000000001,
                    "yanchor": "bottom",
                    "yref": "paper"
                  }
                ],
                "bargroupgap": 0,
                "height": 400,
                "legend": {
                  "title": {
                    "text": "Dataset"
                  },
                  "y": 0.6,
                  "yanchor": "top"
                },
                "template": {
                  "data": {
                    "bar": [
                      {
                        "error_x": {
                          "color": "#2a3f5f"
                        },
                        "error_y": {
                          "color": "#2a3f5f"
                        },
                        "marker": {
                          "line": {
                            "color": "#E5ECF6",
                            "width": 0.5
                          },
                          "pattern": {
                            "fillmode": "overlay",
                            "size": 10,
                            "solidity": 0.2
                          }
                        },
                        "type": "bar"
                      }
                    ],
                    "barpolar": [
                      {
                        "marker": {
                          "line": {
                            "color": "#E5ECF6",
                            "width": 0.5
                          },
                          "pattern": {
                            "fillmode": "overlay",
                            "size": 10,
                            "solidity": 0.2
                          }
                        },
                        "type": "barpolar"
                      }
                    ],
                    "carpet": [
                      {
                        "aaxis": {
                          "endlinecolor": "#2a3f5f",
                          "gridcolor": "white",
                          "linecolor": "white",
                          "minorgridcolor": "white",
                          "startlinecolor": "#2a3f5f"
                        },
                        "baxis": {
                          "endlinecolor": "#2a3f5f",
                          "gridcolor": "white",
                          "linecolor": "white",
                          "minorgridcolor": "white",
                          "startlinecolor": "#2a3f5f"
                        },
                        "type": "carpet"
                      }
                    ],
                    "choropleth": [
                      {
                        "colorbar": {
                          "outlinewidth": 0,
                          "ticks": ""
                        },
                        "type": "choropleth"
                      }
                    ],
                    "contour": [
                      {
                        "colorbar": {
                          "outlinewidth": 0,
                          "ticks": ""
                        },
                        "colorscale": [
                          [
                            0,
                            "#0d0887"
                          ],
                          [
                            0.1111111111111111,
                            "#46039f"
                          ],
                          [
                            0.2222222222222222,
                            "#7201a8"
                          ],
                          [
                            0.3333333333333333,
                            "#9c179e"
                          ],
                          [
                            0.4444444444444444,
                            "#bd3786"
                          ],
                          [
                            0.5555555555555556,
                            "#d8576b"
                          ],
                          [
                            0.6666666666666666,
                            "#ed7953"
                          ],
                          [
                            0.7777777777777778,
                            "#fb9f3a"
                          ],
                          [
                            0.8888888888888888,
                            "#fdca26"
                          ],
                          [
                            1,
                            "#f0f921"
                          ]
                        ],
                        "type": "contour"
                      }
                    ],
                    "contourcarpet": [
                      {
                        "colorbar": {
                          "outlinewidth": 0,
                          "ticks": ""
                        },
                        "type": "contourcarpet"
                      }
                    ],
                    "heatmap": [
                      {
                        "colorbar": {
                          "outlinewidth": 0,
                          "ticks": ""
                        },
                        "colorscale": [
                          [
                            0,
                            "#0d0887"
                          ],
                          [
                            0.1111111111111111,
                            "#46039f"
                          ],
                          [
                            0.2222222222222222,
                            "#7201a8"
                          ],
                          [
                            0.3333333333333333,
                            "#9c179e"
                          ],
                          [
                            0.4444444444444444,
                            "#bd3786"
                          ],
                          [
                            0.5555555555555556,
                            "#d8576b"
                          ],
                          [
                            0.6666666666666666,
                            "#ed7953"
                          ],
                          [
                            0.7777777777777778,
                            "#fb9f3a"
                          ],
                          [
                            0.8888888888888888,
                            "#fdca26"
                          ],
                          [
                            1,
                            "#f0f921"
                          ]
                        ],
                        "type": "heatmap"
                      }
                    ],
                    "heatmapgl": [
                      {
                        "colorbar": {
                          "outlinewidth": 0,
                          "ticks": ""
                        },
                        "colorscale": [
                          [
                            0,
                            "#0d0887"
                          ],
                          [
                            0.1111111111111111,
                            "#46039f"
                          ],
                          [
                            0.2222222222222222,
                            "#7201a8"
                          ],
                          [
                            0.3333333333333333,
                            "#9c179e"
                          ],
                          [
                            0.4444444444444444,
                            "#bd3786"
                          ],
                          [
                            0.5555555555555556,
                            "#d8576b"
                          ],
                          [
                            0.6666666666666666,
                            "#ed7953"
                          ],
                          [
                            0.7777777777777778,
                            "#fb9f3a"
                          ],
                          [
                            0.8888888888888888,
                            "#fdca26"
                          ],
                          [
                            1,
                            "#f0f921"
                          ]
                        ],
                        "type": "heatmapgl"
                      }
                    ],
                    "histogram": [
                      {
                        "marker": {
                          "pattern": {
                            "fillmode": "overlay",
                            "size": 10,
                            "solidity": 0.2
                          }
                        },
                        "type": "histogram"
                      }
                    ],
                    "histogram2d": [
                      {
                        "colorbar": {
                          "outlinewidth": 0,
                          "ticks": ""
                        },
                        "colorscale": [
                          [
                            0,
                            "#0d0887"
                          ],
                          [
                            0.1111111111111111,
                            "#46039f"
                          ],
                          [
                            0.2222222222222222,
                            "#7201a8"
                          ],
                          [
                            0.3333333333333333,
                            "#9c179e"
                          ],
                          [
                            0.4444444444444444,
                            "#bd3786"
                          ],
                          [
                            0.5555555555555556,
                            "#d8576b"
                          ],
                          [
                            0.6666666666666666,
                            "#ed7953"
                          ],
                          [
                            0.7777777777777778,
                            "#fb9f3a"
                          ],
                          [
                            0.8888888888888888,
                            "#fdca26"
                          ],
                          [
                            1,
                            "#f0f921"
                          ]
                        ],
                        "type": "histogram2d"
                      }
                    ],
                    "histogram2dcontour": [
                      {
                        "colorbar": {
                          "outlinewidth": 0,
                          "ticks": ""
                        },
                        "colorscale": [
                          [
                            0,
                            "#0d0887"
                          ],
                          [
                            0.1111111111111111,
                            "#46039f"
                          ],
                          [
                            0.2222222222222222,
                            "#7201a8"
                          ],
                          [
                            0.3333333333333333,
                            "#9c179e"
                          ],
                          [
                            0.4444444444444444,
                            "#bd3786"
                          ],
                          [
                            0.5555555555555556,
                            "#d8576b"
                          ],
                          [
                            0.6666666666666666,
                            "#ed7953"
                          ],
                          [
                            0.7777777777777778,
                            "#fb9f3a"
                          ],
                          [
                            0.8888888888888888,
                            "#fdca26"
                          ],
                          [
                            1,
                            "#f0f921"
                          ]
                        ],
                        "type": "histogram2dcontour"
                      }
                    ],
                    "mesh3d": [
                      {
                        "colorbar": {
                          "outlinewidth": 0,
                          "ticks": ""
                        },
                        "type": "mesh3d"
                      }
                    ],
                    "parcoords": [
                      {
                        "line": {
                          "colorbar": {
                            "outlinewidth": 0,
                            "ticks": ""
                          }
                        },
                        "type": "parcoords"
                      }
                    ],
                    "pie": [
                      {
                        "automargin": true,
                        "type": "pie"
                      }
                    ],
                    "scatter": [
                      {
                        "marker": {
                          "colorbar": {
                            "outlinewidth": 0,
                            "ticks": ""
                          }
                        },
                        "type": "scatter"
                      }
                    ],
                    "scatter3d": [
                      {
                        "line": {
                          "colorbar": {
                            "outlinewidth": 0,
                            "ticks": ""
                          }
                        },
                        "marker": {
                          "colorbar": {
                            "outlinewidth": 0,
                            "ticks": ""
                          }
                        },
                        "type": "scatter3d"
                      }
                    ],
                    "scattercarpet": [
                      {
                        "marker": {
                          "colorbar": {
                            "outlinewidth": 0,
                            "ticks": ""
                          }
                        },
                        "type": "scattercarpet"
                      }
                    ],
                    "scattergeo": [
                      {
                        "marker": {
                          "colorbar": {
                            "outlinewidth": 0,
                            "ticks": ""
                          }
                        },
                        "type": "scattergeo"
                      }
                    ],
                    "scattergl": [
                      {
                        "marker": {
                          "colorbar": {
                            "outlinewidth": 0,
                            "ticks": ""
                          }
                        },
                        "type": "scattergl"
                      }
                    ],
                    "scattermapbox": [
                      {
                        "marker": {
                          "colorbar": {
                            "outlinewidth": 0,
                            "ticks": ""
                          }
                        },
                        "type": "scattermapbox"
                      }
                    ],
                    "scatterpolar": [
                      {
                        "marker": {
                          "colorbar": {
                            "outlinewidth": 0,
                            "ticks": ""
                          }
                        },
                        "type": "scatterpolar"
                      }
                    ],
                    "scatterpolargl": [
                      {
                        "marker": {
                          "colorbar": {
                            "outlinewidth": 0,
                            "ticks": ""
                          }
                        },
                        "type": "scatterpolargl"
                      }
                    ],
                    "scatterternary": [
                      {
                        "marker": {
                          "colorbar": {
                            "outlinewidth": 0,
                            "ticks": ""
                          }
                        },
                        "type": "scatterternary"
                      }
                    ],
                    "surface": [
                      {
                        "colorbar": {
                          "outlinewidth": 0,
                          "ticks": ""
                        },
                        "colorscale": [
                          [
                            0,
                            "#0d0887"
                          ],
                          [
                            0.1111111111111111,
                            "#46039f"
                          ],
                          [
                            0.2222222222222222,
                            "#7201a8"
                          ],
                          [
                            0.3333333333333333,
                            "#9c179e"
                          ],
                          [
                            0.4444444444444444,
                            "#bd3786"
                          ],
                          [
                            0.5555555555555556,
                            "#d8576b"
                          ],
                          [
                            0.6666666666666666,
                            "#ed7953"
                          ],
                          [
                            0.7777777777777778,
                            "#fb9f3a"
                          ],
                          [
                            0.8888888888888888,
                            "#fdca26"
                          ],
                          [
                            1,
                            "#f0f921"
                          ]
                        ],
                        "type": "surface"
                      }
                    ],
                    "table": [
                      {
                        "cells": {
                          "fill": {
                            "color": "#EBF0F8"
                          },
                          "line": {
                            "color": "white"
                          }
                        },
                        "header": {
                          "fill": {
                            "color": "#C8D4E3"
                          },
                          "line": {
                            "color": "white"
                          }
                        },
                        "type": "table"
                      }
                    ]
                  },
                  "layout": {
                    "annotationdefaults": {
                      "arrowcolor": "#2a3f5f",
                      "arrowhead": 0,
                      "arrowwidth": 1
                    },
                    "autotypenumbers": "strict",
                    "coloraxis": {
                      "colorbar": {
                        "outlinewidth": 0,
                        "ticks": ""
                      }
                    },
                    "colorscale": {
                      "diverging": [
                        [
                          0,
                          "#8e0152"
                        ],
                        [
                          0.1,
                          "#c51b7d"
                        ],
                        [
                          0.2,
                          "#de77ae"
                        ],
                        [
                          0.3,
                          "#f1b6da"
                        ],
                        [
                          0.4,
                          "#fde0ef"
                        ],
                        [
                          0.5,
                          "#f7f7f7"
                        ],
                        [
                          0.6,
                          "#e6f5d0"
                        ],
                        [
                          0.7,
                          "#b8e186"
                        ],
                        [
                          0.8,
                          "#7fbc41"
                        ],
                        [
                          0.9,
                          "#4d9221"
                        ],
                        [
                          1,
                          "#276419"
                        ]
                      ],
                      "sequential": [
                        [
                          0,
                          "#0d0887"
                        ],
                        [
                          0.1111111111111111,
                          "#46039f"
                        ],
                        [
                          0.2222222222222222,
                          "#7201a8"
                        ],
                        [
                          0.3333333333333333,
                          "#9c179e"
                        ],
                        [
                          0.4444444444444444,
                          "#bd3786"
                        ],
                        [
                          0.5555555555555556,
                          "#d8576b"
                        ],
                        [
                          0.6666666666666666,
                          "#ed7953"
                        ],
                        [
                          0.7777777777777778,
                          "#fb9f3a"
                        ],
                        [
                          0.8888888888888888,
                          "#fdca26"
                        ],
                        [
                          1,
                          "#f0f921"
                        ]
                      ],
                      "sequentialminus": [
                        [
                          0,
                          "#0d0887"
                        ],
                        [
                          0.1111111111111111,
                          "#46039f"
                        ],
                        [
                          0.2222222222222222,
                          "#7201a8"
                        ],
                        [
                          0.3333333333333333,
                          "#9c179e"
                        ],
                        [
                          0.4444444444444444,
                          "#bd3786"
                        ],
                        [
                          0.5555555555555556,
                          "#d8576b"
                        ],
                        [
                          0.6666666666666666,
                          "#ed7953"
                        ],
                        [
                          0.7777777777777778,
                          "#fb9f3a"
                        ],
                        [
                          0.8888888888888888,
                          "#fdca26"
                        ],
                        [
                          1,
                          "#f0f921"
                        ]
                      ]
                    },
                    "colorway": [
                      "#636efa",
                      "#EF553B",
                      "#00cc96",
                      "#ab63fa",
                      "#FFA15A",
                      "#19d3f3",
                      "#FF6692",
                      "#B6E880",
                      "#FF97FF",
                      "#FECB52"
                    ],
                    "font": {
                      "color": "#2a3f5f"
                    },
                    "geo": {
                      "bgcolor": "white",
                      "lakecolor": "white",
                      "landcolor": "#E5ECF6",
                      "showlakes": true,
                      "showland": true,
                      "subunitcolor": "white"
                    },
                    "hoverlabel": {
                      "align": "left"
                    },
                    "hovermode": "closest",
                    "mapbox": {
                      "style": "light"
                    },
                    "paper_bgcolor": "white",
                    "plot_bgcolor": "#E5ECF6",
                    "polar": {
                      "angularaxis": {
                        "gridcolor": "white",
                        "linecolor": "white",
                        "ticks": ""
                      },
                      "bgcolor": "#E5ECF6",
                      "radialaxis": {
                        "gridcolor": "white",
                        "linecolor": "white",
                        "ticks": ""
                      }
                    },
                    "scene": {
                      "xaxis": {
                        "backgroundcolor": "#E5ECF6",
                        "gridcolor": "white",
                        "gridwidth": 2,
                        "linecolor": "white",
                        "showbackground": true,
                        "ticks": "",
                        "zerolinecolor": "white"
                      },
                      "yaxis": {
                        "backgroundcolor": "#E5ECF6",
                        "gridcolor": "white",
                        "gridwidth": 2,
                        "linecolor": "white",
                        "showbackground": true,
                        "ticks": "",
                        "zerolinecolor": "white"
                      },
                      "zaxis": {
                        "backgroundcolor": "#E5ECF6",
                        "gridcolor": "white",
                        "gridwidth": 2,
                        "linecolor": "white",
                        "showbackground": true,
                        "ticks": "",
                        "zerolinecolor": "white"
                      }
                    },
                    "shapedefaults": {
                      "line": {
                        "color": "#2a3f5f"
                      }
                    },
                    "ternary": {
                      "aaxis": {
                        "gridcolor": "white",
                        "linecolor": "white",
                        "ticks": ""
                      },
                      "baxis": {
                        "gridcolor": "white",
                        "linecolor": "white",
                        "ticks": ""
                      },
                      "bgcolor": "#E5ECF6",
                      "caxis": {
                        "gridcolor": "white",
                        "linecolor": "white",
                        "ticks": ""
                      }
                    },
                    "title": {
                      "x": 0.05
                    },
                    "xaxis": {
                      "automargin": true,
                      "gridcolor": "white",
                      "linecolor": "white",
                      "ticks": "",
                      "title": {
                        "standoff": 15
                      },
                      "zerolinecolor": "white",
                      "zerolinewidth": 2
                    },
                    "yaxis": {
                      "automargin": true,
                      "gridcolor": "white",
                      "linecolor": "white",
                      "ticks": "",
                      "title": {
                        "standoff": 15
                      },
                      "zerolinecolor": "white",
                      "zerolinewidth": 2
                    }
                  }
                },
                "title": {
                  "text": "quality",
                  "x": 0.5,
                  "xanchor": "center"
                },
                "width": 700,
                "xaxis": {
                  "anchor": "y",
                  "domain": [
                    0,
                    1
                  ],
                  "dtick": 0.05,
                  "fixedrange": true,
                  "gridcolor": "black",
                  "linecolor": "black",
                  "range": [
                    0,
                    0.4
                  ],
                  "showgrid": false
                },
                "xaxis2": {
                  "anchor": "y2",
                  "domain": [
                    0,
                    1
                  ],
                  "type": "category"
                },
                "yaxis": {
                  "anchor": "x",
                  "color": "black",
                  "domain": [
                    0.9200000000000002,
                    1
                  ],
                  "fixedrange": true,
                  "showgrid": false,
                  "showline": false,
                  "showticklabels": false,
                  "zeroline": false
                },
                "yaxis2": {
                  "anchor": "x2",
                  "domain": [
                    0,
                    0.7200000000000001
                  ],
                  "fixedrange": true,
                  "range": [
                    0,
                    1
                  ],
                  "title": {
                    "text": "Percentage"
                  }
                }
              }
            }
          },
          "metadata": {},
          "output_type": "display_data"
        },
        {
          "data": {
            "text/html": [
              "<br><a href=\"#summary_DETA7\" style=\"font-size: 14px\">Go to top</a>"
            ]
          },
          "metadata": {},
          "output_type": "display_data"
        },
        {
          "data": {
            "text/html": [
              "<hr style=\"background-color: #eee;border: 0 none;color: #eee;height: 4px;\">"
            ]
          },
          "metadata": {},
          "output_type": "display_data"
        },
        {
          "data": {
            "text/html": [
              "<h4 id=\"WholeDatasetDrift_DETA7\">Whole Dataset Drift</h4><p>    Calculate drift between the entire train and test datasets using a model trained to distinguish between them. <a href=\"https://docs.deepchecks.com/0.6.1/examples/tabular/checks/distribution/examples/plot_whole_dataset_drift.html?utm_source=display_output&utm_medium=referral&utm_campaign=check_link\" target=\"_blank\">Read More...</a></p><h5>Conditions Summary</h5><style type=\"text/css\">\n",
              "#T_a270d table {\n",
              "  text-align: left;\n",
              "  white-space: pre-wrap;\n",
              "}\n",
              "#T_a270d thead {\n",
              "  text-align: left;\n",
              "  white-space: pre-wrap;\n",
              "}\n",
              "#T_a270d tbody {\n",
              "  text-align: left;\n",
              "  white-space: pre-wrap;\n",
              "}\n",
              "#T_a270d th {\n",
              "  text-align: left;\n",
              "  white-space: pre-wrap;\n",
              "}\n",
              "#T_a270d td {\n",
              "  text-align: left;\n",
              "  white-space: pre-wrap;\n",
              "}\n",
              "</style>\n",
              "<table id=\"T_a270d\">\n",
              "  <thead>\n",
              "    <tr>\n",
              "      <th id=\"T_a270d_level0_col0\" class=\"col_heading level0 col0\" >Status</th>\n",
              "      <th id=\"T_a270d_level0_col1\" class=\"col_heading level0 col1\" >Condition</th>\n",
              "      <th id=\"T_a270d_level0_col2\" class=\"col_heading level0 col2\" >More Info</th>\n",
              "    </tr>\n",
              "  </thead>\n",
              "  <tbody>\n",
              "    <tr>\n",
              "      <td id=\"T_a270d_row0_col0\" class=\"data row0 col0\" ><div style=\"color: green;text-align: center\">✓</div></td>\n",
              "      <td id=\"T_a270d_row0_col1\" class=\"data row0 col1\" >Drift value is not greater than 0.25</td>\n",
              "      <td id=\"T_a270d_row0_col2\" class=\"data row0 col2\" ></td>\n",
              "    </tr>\n",
              "  </tbody>\n",
              "</table>\n",
              "<h5>Additional Outputs</h5><div>\n",
              "        <span>\n",
              "        The shown features are the features that are most important for the domain classifier - the\n",
              "        domain_classifier trained to distinguish between the train and test datasets.<br>\n",
              "        </span>\n",
              "        </div><div>\n",
              "    <span>\n",
              "    The percents of explained dataset difference are the importance values for the feature calculated\n",
              "    using `permutation_importance`.\n",
              "    </span><br><br>\n",
              "    </div>"
            ]
          },
          "metadata": {},
          "output_type": "display_data"
        },
        {
          "data": {
            "application/vnd.plotly.v1+json": {
              "config": {
                "plotlyServerURL": "https://plot.ly"
              },
              "data": [
                {
                  "base": 0,
                  "marker": {
                    "color": "#01B8AA"
                  },
                  "offsetgroup": "0",
                  "orientation": "h",
                  "showlegend": false,
                  "type": "bar",
                  "x": [
                    0.07001836547291096
                  ],
                  "y": [
                    "Drift Score"
                  ]
                }
              ],
              "layout": {
                "height": 200,
                "template": {
                  "data": {
                    "bar": [
                      {
                        "error_x": {
                          "color": "#2a3f5f"
                        },
                        "error_y": {
                          "color": "#2a3f5f"
                        },
                        "marker": {
                          "line": {
                            "color": "#E5ECF6",
                            "width": 0.5
                          },
                          "pattern": {
                            "fillmode": "overlay",
                            "size": 10,
                            "solidity": 0.2
                          }
                        },
                        "type": "bar"
                      }
                    ],
                    "barpolar": [
                      {
                        "marker": {
                          "line": {
                            "color": "#E5ECF6",
                            "width": 0.5
                          },
                          "pattern": {
                            "fillmode": "overlay",
                            "size": 10,
                            "solidity": 0.2
                          }
                        },
                        "type": "barpolar"
                      }
                    ],
                    "carpet": [
                      {
                        "aaxis": {
                          "endlinecolor": "#2a3f5f",
                          "gridcolor": "white",
                          "linecolor": "white",
                          "minorgridcolor": "white",
                          "startlinecolor": "#2a3f5f"
                        },
                        "baxis": {
                          "endlinecolor": "#2a3f5f",
                          "gridcolor": "white",
                          "linecolor": "white",
                          "minorgridcolor": "white",
                          "startlinecolor": "#2a3f5f"
                        },
                        "type": "carpet"
                      }
                    ],
                    "choropleth": [
                      {
                        "colorbar": {
                          "outlinewidth": 0,
                          "ticks": ""
                        },
                        "type": "choropleth"
                      }
                    ],
                    "contour": [
                      {
                        "colorbar": {
                          "outlinewidth": 0,
                          "ticks": ""
                        },
                        "colorscale": [
                          [
                            0,
                            "#0d0887"
                          ],
                          [
                            0.1111111111111111,
                            "#46039f"
                          ],
                          [
                            0.2222222222222222,
                            "#7201a8"
                          ],
                          [
                            0.3333333333333333,
                            "#9c179e"
                          ],
                          [
                            0.4444444444444444,
                            "#bd3786"
                          ],
                          [
                            0.5555555555555556,
                            "#d8576b"
                          ],
                          [
                            0.6666666666666666,
                            "#ed7953"
                          ],
                          [
                            0.7777777777777778,
                            "#fb9f3a"
                          ],
                          [
                            0.8888888888888888,
                            "#fdca26"
                          ],
                          [
                            1,
                            "#f0f921"
                          ]
                        ],
                        "type": "contour"
                      }
                    ],
                    "contourcarpet": [
                      {
                        "colorbar": {
                          "outlinewidth": 0,
                          "ticks": ""
                        },
                        "type": "contourcarpet"
                      }
                    ],
                    "heatmap": [
                      {
                        "colorbar": {
                          "outlinewidth": 0,
                          "ticks": ""
                        },
                        "colorscale": [
                          [
                            0,
                            "#0d0887"
                          ],
                          [
                            0.1111111111111111,
                            "#46039f"
                          ],
                          [
                            0.2222222222222222,
                            "#7201a8"
                          ],
                          [
                            0.3333333333333333,
                            "#9c179e"
                          ],
                          [
                            0.4444444444444444,
                            "#bd3786"
                          ],
                          [
                            0.5555555555555556,
                            "#d8576b"
                          ],
                          [
                            0.6666666666666666,
                            "#ed7953"
                          ],
                          [
                            0.7777777777777778,
                            "#fb9f3a"
                          ],
                          [
                            0.8888888888888888,
                            "#fdca26"
                          ],
                          [
                            1,
                            "#f0f921"
                          ]
                        ],
                        "type": "heatmap"
                      }
                    ],
                    "heatmapgl": [
                      {
                        "colorbar": {
                          "outlinewidth": 0,
                          "ticks": ""
                        },
                        "colorscale": [
                          [
                            0,
                            "#0d0887"
                          ],
                          [
                            0.1111111111111111,
                            "#46039f"
                          ],
                          [
                            0.2222222222222222,
                            "#7201a8"
                          ],
                          [
                            0.3333333333333333,
                            "#9c179e"
                          ],
                          [
                            0.4444444444444444,
                            "#bd3786"
                          ],
                          [
                            0.5555555555555556,
                            "#d8576b"
                          ],
                          [
                            0.6666666666666666,
                            "#ed7953"
                          ],
                          [
                            0.7777777777777778,
                            "#fb9f3a"
                          ],
                          [
                            0.8888888888888888,
                            "#fdca26"
                          ],
                          [
                            1,
                            "#f0f921"
                          ]
                        ],
                        "type": "heatmapgl"
                      }
                    ],
                    "histogram": [
                      {
                        "marker": {
                          "pattern": {
                            "fillmode": "overlay",
                            "size": 10,
                            "solidity": 0.2
                          }
                        },
                        "type": "histogram"
                      }
                    ],
                    "histogram2d": [
                      {
                        "colorbar": {
                          "outlinewidth": 0,
                          "ticks": ""
                        },
                        "colorscale": [
                          [
                            0,
                            "#0d0887"
                          ],
                          [
                            0.1111111111111111,
                            "#46039f"
                          ],
                          [
                            0.2222222222222222,
                            "#7201a8"
                          ],
                          [
                            0.3333333333333333,
                            "#9c179e"
                          ],
                          [
                            0.4444444444444444,
                            "#bd3786"
                          ],
                          [
                            0.5555555555555556,
                            "#d8576b"
                          ],
                          [
                            0.6666666666666666,
                            "#ed7953"
                          ],
                          [
                            0.7777777777777778,
                            "#fb9f3a"
                          ],
                          [
                            0.8888888888888888,
                            "#fdca26"
                          ],
                          [
                            1,
                            "#f0f921"
                          ]
                        ],
                        "type": "histogram2d"
                      }
                    ],
                    "histogram2dcontour": [
                      {
                        "colorbar": {
                          "outlinewidth": 0,
                          "ticks": ""
                        },
                        "colorscale": [
                          [
                            0,
                            "#0d0887"
                          ],
                          [
                            0.1111111111111111,
                            "#46039f"
                          ],
                          [
                            0.2222222222222222,
                            "#7201a8"
                          ],
                          [
                            0.3333333333333333,
                            "#9c179e"
                          ],
                          [
                            0.4444444444444444,
                            "#bd3786"
                          ],
                          [
                            0.5555555555555556,
                            "#d8576b"
                          ],
                          [
                            0.6666666666666666,
                            "#ed7953"
                          ],
                          [
                            0.7777777777777778,
                            "#fb9f3a"
                          ],
                          [
                            0.8888888888888888,
                            "#fdca26"
                          ],
                          [
                            1,
                            "#f0f921"
                          ]
                        ],
                        "type": "histogram2dcontour"
                      }
                    ],
                    "mesh3d": [
                      {
                        "colorbar": {
                          "outlinewidth": 0,
                          "ticks": ""
                        },
                        "type": "mesh3d"
                      }
                    ],
                    "parcoords": [
                      {
                        "line": {
                          "colorbar": {
                            "outlinewidth": 0,
                            "ticks": ""
                          }
                        },
                        "type": "parcoords"
                      }
                    ],
                    "pie": [
                      {
                        "automargin": true,
                        "type": "pie"
                      }
                    ],
                    "scatter": [
                      {
                        "marker": {
                          "colorbar": {
                            "outlinewidth": 0,
                            "ticks": ""
                          }
                        },
                        "type": "scatter"
                      }
                    ],
                    "scatter3d": [
                      {
                        "line": {
                          "colorbar": {
                            "outlinewidth": 0,
                            "ticks": ""
                          }
                        },
                        "marker": {
                          "colorbar": {
                            "outlinewidth": 0,
                            "ticks": ""
                          }
                        },
                        "type": "scatter3d"
                      }
                    ],
                    "scattercarpet": [
                      {
                        "marker": {
                          "colorbar": {
                            "outlinewidth": 0,
                            "ticks": ""
                          }
                        },
                        "type": "scattercarpet"
                      }
                    ],
                    "scattergeo": [
                      {
                        "marker": {
                          "colorbar": {
                            "outlinewidth": 0,
                            "ticks": ""
                          }
                        },
                        "type": "scattergeo"
                      }
                    ],
                    "scattergl": [
                      {
                        "marker": {
                          "colorbar": {
                            "outlinewidth": 0,
                            "ticks": ""
                          }
                        },
                        "type": "scattergl"
                      }
                    ],
                    "scattermapbox": [
                      {
                        "marker": {
                          "colorbar": {
                            "outlinewidth": 0,
                            "ticks": ""
                          }
                        },
                        "type": "scattermapbox"
                      }
                    ],
                    "scatterpolar": [
                      {
                        "marker": {
                          "colorbar": {
                            "outlinewidth": 0,
                            "ticks": ""
                          }
                        },
                        "type": "scatterpolar"
                      }
                    ],
                    "scatterpolargl": [
                      {
                        "marker": {
                          "colorbar": {
                            "outlinewidth": 0,
                            "ticks": ""
                          }
                        },
                        "type": "scatterpolargl"
                      }
                    ],
                    "scatterternary": [
                      {
                        "marker": {
                          "colorbar": {
                            "outlinewidth": 0,
                            "ticks": ""
                          }
                        },
                        "type": "scatterternary"
                      }
                    ],
                    "surface": [
                      {
                        "colorbar": {
                          "outlinewidth": 0,
                          "ticks": ""
                        },
                        "colorscale": [
                          [
                            0,
                            "#0d0887"
                          ],
                          [
                            0.1111111111111111,
                            "#46039f"
                          ],
                          [
                            0.2222222222222222,
                            "#7201a8"
                          ],
                          [
                            0.3333333333333333,
                            "#9c179e"
                          ],
                          [
                            0.4444444444444444,
                            "#bd3786"
                          ],
                          [
                            0.5555555555555556,
                            "#d8576b"
                          ],
                          [
                            0.6666666666666666,
                            "#ed7953"
                          ],
                          [
                            0.7777777777777778,
                            "#fb9f3a"
                          ],
                          [
                            0.8888888888888888,
                            "#fdca26"
                          ],
                          [
                            1,
                            "#f0f921"
                          ]
                        ],
                        "type": "surface"
                      }
                    ],
                    "table": [
                      {
                        "cells": {
                          "fill": {
                            "color": "#EBF0F8"
                          },
                          "line": {
                            "color": "white"
                          }
                        },
                        "header": {
                          "fill": {
                            "color": "#C8D4E3"
                          },
                          "line": {
                            "color": "white"
                          }
                        },
                        "type": "table"
                      }
                    ]
                  },
                  "layout": {
                    "annotationdefaults": {
                      "arrowcolor": "#2a3f5f",
                      "arrowhead": 0,
                      "arrowwidth": 1
                    },
                    "autotypenumbers": "strict",
                    "coloraxis": {
                      "colorbar": {
                        "outlinewidth": 0,
                        "ticks": ""
                      }
                    },
                    "colorscale": {
                      "diverging": [
                        [
                          0,
                          "#8e0152"
                        ],
                        [
                          0.1,
                          "#c51b7d"
                        ],
                        [
                          0.2,
                          "#de77ae"
                        ],
                        [
                          0.3,
                          "#f1b6da"
                        ],
                        [
                          0.4,
                          "#fde0ef"
                        ],
                        [
                          0.5,
                          "#f7f7f7"
                        ],
                        [
                          0.6,
                          "#e6f5d0"
                        ],
                        [
                          0.7,
                          "#b8e186"
                        ],
                        [
                          0.8,
                          "#7fbc41"
                        ],
                        [
                          0.9,
                          "#4d9221"
                        ],
                        [
                          1,
                          "#276419"
                        ]
                      ],
                      "sequential": [
                        [
                          0,
                          "#0d0887"
                        ],
                        [
                          0.1111111111111111,
                          "#46039f"
                        ],
                        [
                          0.2222222222222222,
                          "#7201a8"
                        ],
                        [
                          0.3333333333333333,
                          "#9c179e"
                        ],
                        [
                          0.4444444444444444,
                          "#bd3786"
                        ],
                        [
                          0.5555555555555556,
                          "#d8576b"
                        ],
                        [
                          0.6666666666666666,
                          "#ed7953"
                        ],
                        [
                          0.7777777777777778,
                          "#fb9f3a"
                        ],
                        [
                          0.8888888888888888,
                          "#fdca26"
                        ],
                        [
                          1,
                          "#f0f921"
                        ]
                      ],
                      "sequentialminus": [
                        [
                          0,
                          "#0d0887"
                        ],
                        [
                          0.1111111111111111,
                          "#46039f"
                        ],
                        [
                          0.2222222222222222,
                          "#7201a8"
                        ],
                        [
                          0.3333333333333333,
                          "#9c179e"
                        ],
                        [
                          0.4444444444444444,
                          "#bd3786"
                        ],
                        [
                          0.5555555555555556,
                          "#d8576b"
                        ],
                        [
                          0.6666666666666666,
                          "#ed7953"
                        ],
                        [
                          0.7777777777777778,
                          "#fb9f3a"
                        ],
                        [
                          0.8888888888888888,
                          "#fdca26"
                        ],
                        [
                          1,
                          "#f0f921"
                        ]
                      ]
                    },
                    "colorway": [
                      "#636efa",
                      "#EF553B",
                      "#00cc96",
                      "#ab63fa",
                      "#FFA15A",
                      "#19d3f3",
                      "#FF6692",
                      "#B6E880",
                      "#FF97FF",
                      "#FECB52"
                    ],
                    "font": {
                      "color": "#2a3f5f"
                    },
                    "geo": {
                      "bgcolor": "white",
                      "lakecolor": "white",
                      "landcolor": "#E5ECF6",
                      "showlakes": true,
                      "showland": true,
                      "subunitcolor": "white"
                    },
                    "hoverlabel": {
                      "align": "left"
                    },
                    "hovermode": "closest",
                    "mapbox": {
                      "style": "light"
                    },
                    "paper_bgcolor": "white",
                    "plot_bgcolor": "#E5ECF6",
                    "polar": {
                      "angularaxis": {
                        "gridcolor": "white",
                        "linecolor": "white",
                        "ticks": ""
                      },
                      "bgcolor": "#E5ECF6",
                      "radialaxis": {
                        "gridcolor": "white",
                        "linecolor": "white",
                        "ticks": ""
                      }
                    },
                    "scene": {
                      "xaxis": {
                        "backgroundcolor": "#E5ECF6",
                        "gridcolor": "white",
                        "gridwidth": 2,
                        "linecolor": "white",
                        "showbackground": true,
                        "ticks": "",
                        "zerolinecolor": "white"
                      },
                      "yaxis": {
                        "backgroundcolor": "#E5ECF6",
                        "gridcolor": "white",
                        "gridwidth": 2,
                        "linecolor": "white",
                        "showbackground": true,
                        "ticks": "",
                        "zerolinecolor": "white"
                      },
                      "zaxis": {
                        "backgroundcolor": "#E5ECF6",
                        "gridcolor": "white",
                        "gridwidth": 2,
                        "linecolor": "white",
                        "showbackground": true,
                        "ticks": "",
                        "zerolinecolor": "white"
                      }
                    },
                    "shapedefaults": {
                      "line": {
                        "color": "#2a3f5f"
                      }
                    },
                    "ternary": {
                      "aaxis": {
                        "gridcolor": "white",
                        "linecolor": "white",
                        "ticks": ""
                      },
                      "baxis": {
                        "gridcolor": "white",
                        "linecolor": "white",
                        "ticks": ""
                      },
                      "bgcolor": "#E5ECF6",
                      "caxis": {
                        "gridcolor": "white",
                        "linecolor": "white",
                        "ticks": ""
                      }
                    },
                    "title": {
                      "x": 0.05
                    },
                    "xaxis": {
                      "automargin": true,
                      "gridcolor": "white",
                      "linecolor": "white",
                      "ticks": "",
                      "title": {
                        "standoff": 15
                      },
                      "zerolinecolor": "white",
                      "zerolinewidth": 2
                    },
                    "yaxis": {
                      "automargin": true,
                      "gridcolor": "white",
                      "linecolor": "white",
                      "ticks": "",
                      "title": {
                        "standoff": 15
                      },
                      "zerolinecolor": "white",
                      "zerolinewidth": 2
                    }
                  }
                },
                "title": {
                  "text": "Drift Score - Whole Dataset Total"
                },
                "width": 700,
                "xaxis": {
                  "dtick": 0.05,
                  "fixedrange": true,
                  "gridcolor": "black",
                  "linecolor": "black",
                  "range": [
                    0,
                    0.4
                  ],
                  "showgrid": false,
                  "title": {
                    "text": "Drift score"
                  }
                },
                "yaxis": {
                  "color": "black",
                  "fixedrange": true,
                  "showgrid": false,
                  "showline": false,
                  "showticklabels": false,
                  "zeroline": false
                }
              }
            }
          },
          "metadata": {},
          "output_type": "display_data"
        },
        {
          "data": {
            "text/html": [
              "<div><h3>Main features contributing to drift</h3></div><div>* showing only the top 3 columns, you can change it using n_top_columns param</div>"
            ]
          },
          "metadata": {},
          "output_type": "display_data"
        },
        {
          "data": {
            "application/vnd.plotly.v1+json": {
              "config": {
                "plotlyServerURL": "https://plot.ly"
              },
              "data": [
                {
                  "fill": "tozeroy",
                  "line": {
                    "color": "#00008b"
                  },
                  "name": "Train Dataset",
                  "type": "scatter",
                  "x": [
                    0,
                    23.38,
                    32.59183673469388,
                    36.76,
                    45.94,
                    65.18367346938776,
                    97.77551020408163,
                    98.14,
                    103.64,
                    108.12,
                    130.3673469387755,
                    134.60000000000002,
                    162.9591836734694,
                    172.98,
                    175.84,
                    195.55102040816325,
                    201.39999999999998,
                    216.59999999999997,
                    216.9,
                    228.14285714285714,
                    232.56,
                    257.56,
                    260.734693877551,
                    261.84000000000003,
                    284.65999999999997,
                    289.2,
                    293.3265306122449,
                    318.04,
                    325.9183673469388,
                    338.21999999999997,
                    346.24,
                    358.51020408163265,
                    383.2,
                    391.1020408163265,
                    394.79999999999995,
                    409.18,
                    423.68,
                    423.6938775510204,
                    430.76,
                    449.5200000000001,
                    456.2857142857143,
                    458.82,
                    483.20000000000005,
                    488.28000000000003,
                    488.8775510204082,
                    521.469387755102,
                    525,
                    533.3199999999999,
                    551.08,
                    552.1400000000001,
                    554.0612244897959,
                    586.6530612244898,
                    603.04,
                    605.8800000000002,
                    619.2448979591837,
                    629.86,
                    646.2,
                    651.8367346938776,
                    662.76,
                    666.2,
                    682.2,
                    684.4285714285714,
                    697.98,
                    701.96,
                    717.0204081632653,
                    728.36,
                    735.08,
                    749.6122448979592,
                    754.22,
                    757.74,
                    768.84,
                    778.36,
                    782.204081632653,
                    793.5,
                    799,
                    808.0400000000001,
                    814.795918367347,
                    824.52,
                    846.88,
                    847.3877551020408,
                    872.78,
                    879.9795918367347,
                    898.8400000000001,
                    911.3600000000004,
                    912.5714285714286,
                    945.1632653061224,
                    950.2800000000002,
                    961.3400000000001,
                    977.7551020408164,
                    992.8000000000001,
                    1000.4000000000001,
                    1010.3469387755102,
                    1015.56,
                    1031.8,
                    1042.938775510204,
                    1046.16,
                    1057.16,
                    1072.7800000000002,
                    1075.530612244898,
                    1087.54,
                    1108.1224489795918,
                    1109.6000000000001,
                    1121.8400000000001,
                    1138.3,
                    1140.7142857142858,
                    1148.3,
                    1173.3061224489795,
                    1173.3600000000001,
                    1196.48,
                    1205.8979591836735,
                    1208.66,
                    1230.42,
                    1232.08,
                    1238.4897959183675,
                    1250.1,
                    1271.0816326530612,
                    1271.2,
                    1281.44,
                    1282.48,
                    1303.6734693877552,
                    1309.74,
                    1321.72,
                    1336.265306122449,
                    1338.4,
                    1349.08,
                    1368.857142857143,
                    1372.64,
                    1385.16,
                    1396.92,
                    1401.4489795918369,
                    1412.6999999999998,
                    1428.02,
                    1434.0408163265306,
                    1445.88,
                    1457.1,
                    1466.6326530612246,
                    1485.4,
                    1487.92,
                    1499.2244897959183,
                    1507.8600000000001,
                    1516.3200000000002,
                    1531.8163265306123,
                    1544.24,
                    1558.92,
                    1559.72,
                    1564.408163265306,
                    1570.24,
                    1597
                  ],
                  "y": [
                    0.00035328937791326504,
                    0.0004024252722448066,
                    0.00042093368653842134,
                    0.0004291012767269928,
                    0.0004465748864324423,
                    0.0004805651784019182,
                    0.0005284585708911209,
                    0.0005289188424794828,
                    0.0005356539542407014,
                    0.0005408470797207476,
                    0.0005627162762179767,
                    0.0005661418322912779,
                    0.00058325630833112,
                    0.0005870020228335108,
                    0.0005878654837896291,
                    0.0005915103465351978,
                    0.0005918742650778707,
                    0.0005914764031290578,
                    0.0005914505884802253,
                    0.0005900388533425058,
                    0.0005892660752252488,
                    0.0005830917256463431,
                    0.0005821397932262876,
                    0.0005818019121280892,
                    0.0005743328271832595,
                    0.0005727928496037575,
                    0.0005713952717900252,
                    0.000563401097374388,
                    0.0005611049060981643,
                    0.0005578774358162679,
                    0.0005560435354795714,
                    0.0005536961574878291,
                    0.0005507666506071469,
                    0.0005503392323237542,
                    0.0005502216478831879,
                    0.0005502418347249445,
                    0.0005509739870478398,
                    0.0005509750026508662,
                    0.0005515648635194138,
                    0.0005537714164312062,
                    0.0005547678272271152,
                    0.0005551654236330069,
                    0.000559586364047178,
                    0.0005606293350921692,
                    0.000560754547346586,
                    0.0005683496146815264,
                    0.0005692614545942268,
                    0.0005714806309109761,
                    0.0005765590000843525,
                    0.0005768772025345006,
                    0.0005774583431123999,
                    0.0005881779907863504,
                    0.000594133041957262,
                    0.0005951961763879358,
                    0.0006002900363983891,
                    0.0006044016814488958,
                    0.0006107149399704224,
                    0.000612853769246052,
                    0.0006168850287162728,
                    0.0006181136256138389,
                    0.0006234729300648301,
                    0.0006241639470667689,
                    0.0006280058871820017,
                    0.0006290037863907958,
                    0.0006321640359194666,
                    0.0006338369611875193,
                    0.0006345202528276841,
                    0.0006351838197760158,
                    0.0006351597447744007,
                    0.000635065852911493,
                    0.0006343506569828121,
                    0.0006332524854779248,
                    0.0006326901805382324,
                    0.0006306775277756877,
                    0.0006295219899065061,
                    0.0006274115686872729,
                    0.0006256918784786445,
                    0.0006230588713767379,
                    0.0006167087996144768,
                    0.000616565535131412,
                    0.0006099222203785326,
                    0.0006083300187792076,
                    0.0006050654344125911,
                    0.0006037559634233107,
                    0.0006036692001656639,
                    0.000604140659751386,
                    0.000604709550276462,
                    0.0006063819693358654,
                    0.0006099170735804686,
                    0.0006141519763203507,
                    0.0006166110297225469,
                    0.0006201165666426123,
                    0.0006220721029481194,
                    0.0006286175937781849,
                    0.0006334461461428011,
                    0.0006348862446265975,
                    0.0006399318724380124,
                    0.0006473775347140616,
                    0.000648715880127515,
                    0.000654628968584066,
                    0.0006649024621952835,
                    0.0006656402152901954,
                    0.0006717133545154485,
                    0.0006796541198368107,
                    0.0006807838596012771,
                    0.0006842542700231659,
                    0.0006945031174790103,
                    0.0006945226648705058,
                    0.0007015557342761354,
                    0.0007035093139556324,
                    0.0007039664834852768,
                    0.0007055187331814944,
                    0.0007054772800814407,
                    0.0007050909831899061,
                    0.0007034499630219548,
                    0.0006973100908017329,
                    0.000697263786736392,
                    0.0006927699859895295,
                    0.0006922602218801563,
                    0.0006798325578698401,
                    0.0006756023993017931,
                    0.000666465054345999,
                    0.0006541405924045766,
                    0.0006522327177873201,
                    0.0006423607612718322,
                    0.0006229159563469702,
                    0.0006190640334948909,
                    0.0006060929730659309,
                    0.0005936650188025763,
                    0.0005888288529410943,
                    0.0005767107390004273,
                    0.0005599730765295652,
                    0.0005533093255172993,
                    0.0005400248942919652,
                    0.0005271513676396057,
                    0.0005159319529478129,
                    0.0004928456688784693,
                    0.0004896252665829929,
                    0.0004747694772957503,
                    0.00046293033586945076,
                    0.0004508832340492485,
                    0.00042758997377067393,
                    0.0004077339556288244,
                    0.0003829431905039609,
                    0.000381552752586101,
                    0.00037332698972863254,
                    0.00036291730831672294,
                    0.0003130904508738515
                  ]
                },
                {
                  "fill": "tozeroy",
                  "line": {
                    "color": "#69b3a2"
                  },
                  "name": "Test Dataset",
                  "type": "scatter",
                  "x": [
                    0,
                    23.38,
                    32.59183673469388,
                    36.76,
                    45.94,
                    65.18367346938776,
                    97.77551020408163,
                    98.14,
                    103.64,
                    108.12,
                    130.3673469387755,
                    134.60000000000002,
                    162.9591836734694,
                    172.98,
                    175.84,
                    195.55102040816325,
                    201.39999999999998,
                    216.59999999999997,
                    216.9,
                    228.14285714285714,
                    232.56,
                    257.56,
                    260.734693877551,
                    261.84000000000003,
                    284.65999999999997,
                    289.2,
                    293.3265306122449,
                    318.04,
                    325.9183673469388,
                    338.21999999999997,
                    346.24,
                    358.51020408163265,
                    383.2,
                    391.1020408163265,
                    394.79999999999995,
                    409.18,
                    423.68,
                    423.6938775510204,
                    430.76,
                    449.5200000000001,
                    456.2857142857143,
                    458.82,
                    483.20000000000005,
                    488.28000000000003,
                    488.8775510204082,
                    521.469387755102,
                    525,
                    533.3199999999999,
                    551.08,
                    552.1400000000001,
                    554.0612244897959,
                    586.6530612244898,
                    603.04,
                    605.8800000000002,
                    619.2448979591837,
                    629.86,
                    646.2,
                    651.8367346938776,
                    662.76,
                    666.2,
                    682.2,
                    684.4285714285714,
                    697.98,
                    701.96,
                    717.0204081632653,
                    728.36,
                    735.08,
                    749.6122448979592,
                    754.22,
                    757.74,
                    768.84,
                    778.36,
                    782.204081632653,
                    793.5,
                    799,
                    808.0400000000001,
                    814.795918367347,
                    824.52,
                    846.88,
                    847.3877551020408,
                    872.78,
                    879.9795918367347,
                    898.8400000000001,
                    911.3600000000004,
                    912.5714285714286,
                    945.1632653061224,
                    950.2800000000002,
                    961.3400000000001,
                    977.7551020408164,
                    992.8000000000001,
                    1000.4000000000001,
                    1010.3469387755102,
                    1015.56,
                    1031.8,
                    1042.938775510204,
                    1046.16,
                    1057.16,
                    1072.7800000000002,
                    1075.530612244898,
                    1087.54,
                    1108.1224489795918,
                    1109.6000000000001,
                    1121.8400000000001,
                    1138.3,
                    1140.7142857142858,
                    1148.3,
                    1173.3061224489795,
                    1173.3600000000001,
                    1196.48,
                    1205.8979591836735,
                    1208.66,
                    1230.42,
                    1232.08,
                    1238.4897959183675,
                    1250.1,
                    1271.0816326530612,
                    1271.2,
                    1281.44,
                    1282.48,
                    1303.6734693877552,
                    1309.74,
                    1321.72,
                    1336.265306122449,
                    1338.4,
                    1349.08,
                    1368.857142857143,
                    1372.64,
                    1385.16,
                    1396.92,
                    1401.4489795918369,
                    1412.6999999999998,
                    1428.02,
                    1434.0408163265306,
                    1445.88,
                    1457.1,
                    1466.6326530612246,
                    1485.4,
                    1487.92,
                    1499.2244897959183,
                    1507.8600000000001,
                    1516.3200000000002,
                    1531.8163265306123,
                    1544.24,
                    1558.92,
                    1559.72,
                    1564.408163265306,
                    1570.24,
                    1597
                  ],
                  "y": [
                    0.0002117192467277219,
                    0.0002483270397050003,
                    0.0002631775566021633,
                    0.00026996325179727624,
                    0.0002850360813321808,
                    0.00031709150637283876,
                    0.00037211708099595825,
                    0.0003727331963910086,
                    0.00038202234086374417,
                    0.0003895740553556624,
                    0.0004267075318822958,
                    0.00043367009179435547,
                    0.00047896426212679826,
                    0.0004942340795901745,
                    0.0004985060615651638,
                    0.0005267669600705758,
                    0.0005347173597101119,
                    0.0005543404510462479,
                    0.0005547119673268679,
                    0.0005681735943535052,
                    0.0005732109475236188,
                    0.0005989354289652584,
                    0.0006018564436190346,
                    0.0006028549602467531,
                    0.0006213397981448583,
                    0.0006245354789793106,
                    0.0006273030495724264,
                    0.0006412029896095097,
                    0.0006446979317127922,
                    0.0006492880806841634,
                    0.000651729423847377,
                    0.0006546577859400584,
                    0.0006578029694186577,
                    0.0006581044710343573,
                    0.0006581393253944569,
                    0.0006576894468075309,
                    0.0006564294344842094,
                    0.0006564279058129208,
                    0.0006555829003777421,
                    0.000652869545704583,
                    0.0006518087121929219,
                    0.0006514108644285797,
                    0.0006479559733334419,
                    0.0006474068785406142,
                    0.0006473479988637176,
                    0.0006466626248958754,
                    0.0006469589824511219,
                    0.0006480016341053722,
                    0.0006519636952080969,
                    0.0006522781471247199,
                    0.0006528708290191777,
                    0.0006672748842075106,
                    0.0006772493998545435,
                    0.0006791201358249352,
                    0.0006883259439833559,
                    0.0006959257569922406,
                    0.0007075830647919827,
                    0.0007114595421224301,
                    0.000718555760953276,
                    0.0007206427948468619,
                    0.0007291014545155992,
                    0.0007300881524618672,
                    0.0007348773844493822,
                    0.0007358522402927372,
                    0.0007375554050106566,
                    0.0007366124578413428,
                    0.0007351067723445243,
                    0.0007294074962411054,
                    0.0007269096781158081,
                    0.0007247826990278247,
                    0.0007168774281256196,
                    0.0007087359586884545,
                    0.0007051209136748086,
                    0.00069352499503488,
                    0.0006874136174456879,
                    0.0006768246035576266,
                    0.0006685545105240942,
                    0.0006562766186500864,
                    0.0006275008255430256,
                    0.000626853902098462,
                    0.000596074407205682,
                    0.0005881676525191121,
                    0.0005698646026683083,
                    0.0005599222469436393,
                    0.0005590605069707671,
                    0.0005426513559852218,
                    0.0005412258151344298,
                    0.0005391140983186689,
                    0.0005381612038491783,
                    0.0005391514908827825,
                    0.0005401731588760738,
                    0.0005419033333892343,
                    0.0005429459315544051,
                    0.0005465513801468152,
                    0.0005491403075976077,
                    0.0005498819405260813,
                    0.0005523344300806161,
                    0.0005554729187378904,
                    0.0005559725276082089,
                    0.0005579475823080784,
                    0.0005605721671827073,
                    0.0005607280258347541,
                    0.0005618945370008164,
                    0.0005632643972294975,
                    0.000563463499803959,
                    0.0005641135432489001,
                    0.0005669376125977643,
                    0.0005669454772124677,
                    0.0005713879237830079,
                    0.0005739292747716444,
                    0.0005747672994087153,
                    0.0005829662186452402,
                    0.000583712525418213,
                    0.0005867579424936908,
                    0.0005929299143044932,
                    0.0006060922101881588,
                    0.0006061731083680586,
                    0.0006134132693077804,
                    0.0006141733284577496,
                    0.0006303878568205013,
                    0.0006351887734491603,
                    0.0006446832589779016,
                    0.0006559095863675216,
                    0.0006575014381891747,
                    0.0006651441935077198,
                    0.0006773066165841709,
                    0.0006792487904795666,
                    0.0006845846519997093,
                    0.0006878489241146776,
                    0.0006885991360377827,
                    0.0006891261467680993,
                    0.0006865135116544261,
                    0.0006843599663361017,
                    0.000678171837494426,
                    0.0006698432340073649,
                    0.0006608455749831645,
                    0.0006379677911296058,
                    0.0006343816412652351,
                    0.0006168427963534433,
                    0.0006018978079537294,
                    0.0005860261268131732,
                    0.0005540506430703475,
                    0.0005260194677899144,
                    0.0004906404608617517,
                    0.0004886531742448482,
                    0.00047690145302282217,
                    0.0004620545152140546,
                    0.0003918301443745256
                  ]
                }
              ],
              "layout": {
                "height": 300,
                "legend": {
                  "title": {
                    "text": "Dataset"
                  },
                  "xanchor": "left",
                  "y": 0.9,
                  "yanchor": "top"
                },
                "template": {
                  "data": {
                    "bar": [
                      {
                        "error_x": {
                          "color": "#2a3f5f"
                        },
                        "error_y": {
                          "color": "#2a3f5f"
                        },
                        "marker": {
                          "line": {
                            "color": "#E5ECF6",
                            "width": 0.5
                          },
                          "pattern": {
                            "fillmode": "overlay",
                            "size": 10,
                            "solidity": 0.2
                          }
                        },
                        "type": "bar"
                      }
                    ],
                    "barpolar": [
                      {
                        "marker": {
                          "line": {
                            "color": "#E5ECF6",
                            "width": 0.5
                          },
                          "pattern": {
                            "fillmode": "overlay",
                            "size": 10,
                            "solidity": 0.2
                          }
                        },
                        "type": "barpolar"
                      }
                    ],
                    "carpet": [
                      {
                        "aaxis": {
                          "endlinecolor": "#2a3f5f",
                          "gridcolor": "white",
                          "linecolor": "white",
                          "minorgridcolor": "white",
                          "startlinecolor": "#2a3f5f"
                        },
                        "baxis": {
                          "endlinecolor": "#2a3f5f",
                          "gridcolor": "white",
                          "linecolor": "white",
                          "minorgridcolor": "white",
                          "startlinecolor": "#2a3f5f"
                        },
                        "type": "carpet"
                      }
                    ],
                    "choropleth": [
                      {
                        "colorbar": {
                          "outlinewidth": 0,
                          "ticks": ""
                        },
                        "type": "choropleth"
                      }
                    ],
                    "contour": [
                      {
                        "colorbar": {
                          "outlinewidth": 0,
                          "ticks": ""
                        },
                        "colorscale": [
                          [
                            0,
                            "#0d0887"
                          ],
                          [
                            0.1111111111111111,
                            "#46039f"
                          ],
                          [
                            0.2222222222222222,
                            "#7201a8"
                          ],
                          [
                            0.3333333333333333,
                            "#9c179e"
                          ],
                          [
                            0.4444444444444444,
                            "#bd3786"
                          ],
                          [
                            0.5555555555555556,
                            "#d8576b"
                          ],
                          [
                            0.6666666666666666,
                            "#ed7953"
                          ],
                          [
                            0.7777777777777778,
                            "#fb9f3a"
                          ],
                          [
                            0.8888888888888888,
                            "#fdca26"
                          ],
                          [
                            1,
                            "#f0f921"
                          ]
                        ],
                        "type": "contour"
                      }
                    ],
                    "contourcarpet": [
                      {
                        "colorbar": {
                          "outlinewidth": 0,
                          "ticks": ""
                        },
                        "type": "contourcarpet"
                      }
                    ],
                    "heatmap": [
                      {
                        "colorbar": {
                          "outlinewidth": 0,
                          "ticks": ""
                        },
                        "colorscale": [
                          [
                            0,
                            "#0d0887"
                          ],
                          [
                            0.1111111111111111,
                            "#46039f"
                          ],
                          [
                            0.2222222222222222,
                            "#7201a8"
                          ],
                          [
                            0.3333333333333333,
                            "#9c179e"
                          ],
                          [
                            0.4444444444444444,
                            "#bd3786"
                          ],
                          [
                            0.5555555555555556,
                            "#d8576b"
                          ],
                          [
                            0.6666666666666666,
                            "#ed7953"
                          ],
                          [
                            0.7777777777777778,
                            "#fb9f3a"
                          ],
                          [
                            0.8888888888888888,
                            "#fdca26"
                          ],
                          [
                            1,
                            "#f0f921"
                          ]
                        ],
                        "type": "heatmap"
                      }
                    ],
                    "heatmapgl": [
                      {
                        "colorbar": {
                          "outlinewidth": 0,
                          "ticks": ""
                        },
                        "colorscale": [
                          [
                            0,
                            "#0d0887"
                          ],
                          [
                            0.1111111111111111,
                            "#46039f"
                          ],
                          [
                            0.2222222222222222,
                            "#7201a8"
                          ],
                          [
                            0.3333333333333333,
                            "#9c179e"
                          ],
                          [
                            0.4444444444444444,
                            "#bd3786"
                          ],
                          [
                            0.5555555555555556,
                            "#d8576b"
                          ],
                          [
                            0.6666666666666666,
                            "#ed7953"
                          ],
                          [
                            0.7777777777777778,
                            "#fb9f3a"
                          ],
                          [
                            0.8888888888888888,
                            "#fdca26"
                          ],
                          [
                            1,
                            "#f0f921"
                          ]
                        ],
                        "type": "heatmapgl"
                      }
                    ],
                    "histogram": [
                      {
                        "marker": {
                          "pattern": {
                            "fillmode": "overlay",
                            "size": 10,
                            "solidity": 0.2
                          }
                        },
                        "type": "histogram"
                      }
                    ],
                    "histogram2d": [
                      {
                        "colorbar": {
                          "outlinewidth": 0,
                          "ticks": ""
                        },
                        "colorscale": [
                          [
                            0,
                            "#0d0887"
                          ],
                          [
                            0.1111111111111111,
                            "#46039f"
                          ],
                          [
                            0.2222222222222222,
                            "#7201a8"
                          ],
                          [
                            0.3333333333333333,
                            "#9c179e"
                          ],
                          [
                            0.4444444444444444,
                            "#bd3786"
                          ],
                          [
                            0.5555555555555556,
                            "#d8576b"
                          ],
                          [
                            0.6666666666666666,
                            "#ed7953"
                          ],
                          [
                            0.7777777777777778,
                            "#fb9f3a"
                          ],
                          [
                            0.8888888888888888,
                            "#fdca26"
                          ],
                          [
                            1,
                            "#f0f921"
                          ]
                        ],
                        "type": "histogram2d"
                      }
                    ],
                    "histogram2dcontour": [
                      {
                        "colorbar": {
                          "outlinewidth": 0,
                          "ticks": ""
                        },
                        "colorscale": [
                          [
                            0,
                            "#0d0887"
                          ],
                          [
                            0.1111111111111111,
                            "#46039f"
                          ],
                          [
                            0.2222222222222222,
                            "#7201a8"
                          ],
                          [
                            0.3333333333333333,
                            "#9c179e"
                          ],
                          [
                            0.4444444444444444,
                            "#bd3786"
                          ],
                          [
                            0.5555555555555556,
                            "#d8576b"
                          ],
                          [
                            0.6666666666666666,
                            "#ed7953"
                          ],
                          [
                            0.7777777777777778,
                            "#fb9f3a"
                          ],
                          [
                            0.8888888888888888,
                            "#fdca26"
                          ],
                          [
                            1,
                            "#f0f921"
                          ]
                        ],
                        "type": "histogram2dcontour"
                      }
                    ],
                    "mesh3d": [
                      {
                        "colorbar": {
                          "outlinewidth": 0,
                          "ticks": ""
                        },
                        "type": "mesh3d"
                      }
                    ],
                    "parcoords": [
                      {
                        "line": {
                          "colorbar": {
                            "outlinewidth": 0,
                            "ticks": ""
                          }
                        },
                        "type": "parcoords"
                      }
                    ],
                    "pie": [
                      {
                        "automargin": true,
                        "type": "pie"
                      }
                    ],
                    "scatter": [
                      {
                        "marker": {
                          "colorbar": {
                            "outlinewidth": 0,
                            "ticks": ""
                          }
                        },
                        "type": "scatter"
                      }
                    ],
                    "scatter3d": [
                      {
                        "line": {
                          "colorbar": {
                            "outlinewidth": 0,
                            "ticks": ""
                          }
                        },
                        "marker": {
                          "colorbar": {
                            "outlinewidth": 0,
                            "ticks": ""
                          }
                        },
                        "type": "scatter3d"
                      }
                    ],
                    "scattercarpet": [
                      {
                        "marker": {
                          "colorbar": {
                            "outlinewidth": 0,
                            "ticks": ""
                          }
                        },
                        "type": "scattercarpet"
                      }
                    ],
                    "scattergeo": [
                      {
                        "marker": {
                          "colorbar": {
                            "outlinewidth": 0,
                            "ticks": ""
                          }
                        },
                        "type": "scattergeo"
                      }
                    ],
                    "scattergl": [
                      {
                        "marker": {
                          "colorbar": {
                            "outlinewidth": 0,
                            "ticks": ""
                          }
                        },
                        "type": "scattergl"
                      }
                    ],
                    "scattermapbox": [
                      {
                        "marker": {
                          "colorbar": {
                            "outlinewidth": 0,
                            "ticks": ""
                          }
                        },
                        "type": "scattermapbox"
                      }
                    ],
                    "scatterpolar": [
                      {
                        "marker": {
                          "colorbar": {
                            "outlinewidth": 0,
                            "ticks": ""
                          }
                        },
                        "type": "scatterpolar"
                      }
                    ],
                    "scatterpolargl": [
                      {
                        "marker": {
                          "colorbar": {
                            "outlinewidth": 0,
                            "ticks": ""
                          }
                        },
                        "type": "scatterpolargl"
                      }
                    ],
                    "scatterternary": [
                      {
                        "marker": {
                          "colorbar": {
                            "outlinewidth": 0,
                            "ticks": ""
                          }
                        },
                        "type": "scatterternary"
                      }
                    ],
                    "surface": [
                      {
                        "colorbar": {
                          "outlinewidth": 0,
                          "ticks": ""
                        },
                        "colorscale": [
                          [
                            0,
                            "#0d0887"
                          ],
                          [
                            0.1111111111111111,
                            "#46039f"
                          ],
                          [
                            0.2222222222222222,
                            "#7201a8"
                          ],
                          [
                            0.3333333333333333,
                            "#9c179e"
                          ],
                          [
                            0.4444444444444444,
                            "#bd3786"
                          ],
                          [
                            0.5555555555555556,
                            "#d8576b"
                          ],
                          [
                            0.6666666666666666,
                            "#ed7953"
                          ],
                          [
                            0.7777777777777778,
                            "#fb9f3a"
                          ],
                          [
                            0.8888888888888888,
                            "#fdca26"
                          ],
                          [
                            1,
                            "#f0f921"
                          ]
                        ],
                        "type": "surface"
                      }
                    ],
                    "table": [
                      {
                        "cells": {
                          "fill": {
                            "color": "#EBF0F8"
                          },
                          "line": {
                            "color": "white"
                          }
                        },
                        "header": {
                          "fill": {
                            "color": "#C8D4E3"
                          },
                          "line": {
                            "color": "white"
                          }
                        },
                        "type": "table"
                      }
                    ]
                  },
                  "layout": {
                    "annotationdefaults": {
                      "arrowcolor": "#2a3f5f",
                      "arrowhead": 0,
                      "arrowwidth": 1
                    },
                    "autotypenumbers": "strict",
                    "coloraxis": {
                      "colorbar": {
                        "outlinewidth": 0,
                        "ticks": ""
                      }
                    },
                    "colorscale": {
                      "diverging": [
                        [
                          0,
                          "#8e0152"
                        ],
                        [
                          0.1,
                          "#c51b7d"
                        ],
                        [
                          0.2,
                          "#de77ae"
                        ],
                        [
                          0.3,
                          "#f1b6da"
                        ],
                        [
                          0.4,
                          "#fde0ef"
                        ],
                        [
                          0.5,
                          "#f7f7f7"
                        ],
                        [
                          0.6,
                          "#e6f5d0"
                        ],
                        [
                          0.7,
                          "#b8e186"
                        ],
                        [
                          0.8,
                          "#7fbc41"
                        ],
                        [
                          0.9,
                          "#4d9221"
                        ],
                        [
                          1,
                          "#276419"
                        ]
                      ],
                      "sequential": [
                        [
                          0,
                          "#0d0887"
                        ],
                        [
                          0.1111111111111111,
                          "#46039f"
                        ],
                        [
                          0.2222222222222222,
                          "#7201a8"
                        ],
                        [
                          0.3333333333333333,
                          "#9c179e"
                        ],
                        [
                          0.4444444444444444,
                          "#bd3786"
                        ],
                        [
                          0.5555555555555556,
                          "#d8576b"
                        ],
                        [
                          0.6666666666666666,
                          "#ed7953"
                        ],
                        [
                          0.7777777777777778,
                          "#fb9f3a"
                        ],
                        [
                          0.8888888888888888,
                          "#fdca26"
                        ],
                        [
                          1,
                          "#f0f921"
                        ]
                      ],
                      "sequentialminus": [
                        [
                          0,
                          "#0d0887"
                        ],
                        [
                          0.1111111111111111,
                          "#46039f"
                        ],
                        [
                          0.2222222222222222,
                          "#7201a8"
                        ],
                        [
                          0.3333333333333333,
                          "#9c179e"
                        ],
                        [
                          0.4444444444444444,
                          "#bd3786"
                        ],
                        [
                          0.5555555555555556,
                          "#d8576b"
                        ],
                        [
                          0.6666666666666666,
                          "#ed7953"
                        ],
                        [
                          0.7777777777777778,
                          "#fb9f3a"
                        ],
                        [
                          0.8888888888888888,
                          "#fdca26"
                        ],
                        [
                          1,
                          "#f0f921"
                        ]
                      ]
                    },
                    "colorway": [
                      "#636efa",
                      "#EF553B",
                      "#00cc96",
                      "#ab63fa",
                      "#FFA15A",
                      "#19d3f3",
                      "#FF6692",
                      "#B6E880",
                      "#FF97FF",
                      "#FECB52"
                    ],
                    "font": {
                      "color": "#2a3f5f"
                    },
                    "geo": {
                      "bgcolor": "white",
                      "lakecolor": "white",
                      "landcolor": "#E5ECF6",
                      "showlakes": true,
                      "showland": true,
                      "subunitcolor": "white"
                    },
                    "hoverlabel": {
                      "align": "left"
                    },
                    "hovermode": "closest",
                    "mapbox": {
                      "style": "light"
                    },
                    "paper_bgcolor": "white",
                    "plot_bgcolor": "#E5ECF6",
                    "polar": {
                      "angularaxis": {
                        "gridcolor": "white",
                        "linecolor": "white",
                        "ticks": ""
                      },
                      "bgcolor": "#E5ECF6",
                      "radialaxis": {
                        "gridcolor": "white",
                        "linecolor": "white",
                        "ticks": ""
                      }
                    },
                    "scene": {
                      "xaxis": {
                        "backgroundcolor": "#E5ECF6",
                        "gridcolor": "white",
                        "gridwidth": 2,
                        "linecolor": "white",
                        "showbackground": true,
                        "ticks": "",
                        "zerolinecolor": "white"
                      },
                      "yaxis": {
                        "backgroundcolor": "#E5ECF6",
                        "gridcolor": "white",
                        "gridwidth": 2,
                        "linecolor": "white",
                        "showbackground": true,
                        "ticks": "",
                        "zerolinecolor": "white"
                      },
                      "zaxis": {
                        "backgroundcolor": "#E5ECF6",
                        "gridcolor": "white",
                        "gridwidth": 2,
                        "linecolor": "white",
                        "showbackground": true,
                        "ticks": "",
                        "zerolinecolor": "white"
                      }
                    },
                    "shapedefaults": {
                      "line": {
                        "color": "#2a3f5f"
                      }
                    },
                    "ternary": {
                      "aaxis": {
                        "gridcolor": "white",
                        "linecolor": "white",
                        "ticks": ""
                      },
                      "baxis": {
                        "gridcolor": "white",
                        "linecolor": "white",
                        "ticks": ""
                      },
                      "bgcolor": "#E5ECF6",
                      "caxis": {
                        "gridcolor": "white",
                        "linecolor": "white",
                        "ticks": ""
                      }
                    },
                    "title": {
                      "x": 0.05
                    },
                    "xaxis": {
                      "automargin": true,
                      "gridcolor": "white",
                      "linecolor": "white",
                      "ticks": "",
                      "title": {
                        "standoff": 15
                      },
                      "zerolinecolor": "white",
                      "zerolinewidth": 2
                    },
                    "yaxis": {
                      "automargin": true,
                      "gridcolor": "white",
                      "linecolor": "white",
                      "ticks": "",
                      "title": {
                        "standoff": 15
                      },
                      "zerolinecolor": "white",
                      "zerolinewidth": 2
                    }
                  }
                },
                "title": {
                  "text": "Feature: Id - Explains 71.43% of dataset difference"
                },
                "width": 700,
                "xaxis": {
                  "fixedrange": false,
                  "range": [
                    23.38,
                    1570.24
                  ],
                  "title": {
                    "text": "Id"
                  }
                },
                "yaxis": {
                  "fixedrange": true,
                  "title": {
                    "text": "Probability Density"
                  }
                }
              }
            }
          },
          "metadata": {},
          "output_type": "display_data"
        },
        {
          "data": {
            "text/html": []
          },
          "metadata": {},
          "output_type": "display_data"
        },
        {
          "data": {
            "application/vnd.plotly.v1+json": {
              "config": {
                "plotlyServerURL": "https://plot.ly"
              },
              "data": [
                {
                  "fill": "tozeroy",
                  "line": {
                    "color": "#00008b"
                  },
                  "name": "Train Dataset",
                  "type": "scatter",
                  "x": [
                    0.038,
                    0.0396734693877551,
                    0.041346938775510204,
                    0.04302040816326531,
                    0.043379999999999995,
                    0.0446938775510204,
                    0.046367346938775506,
                    0.048,
                    0.04804081632653061,
                    0.049280000000000004,
                    0.04971428571428571,
                    0.049760000000000006,
                    0.051387755102040814,
                    0.05214,
                    0.053061224489795916,
                    0.054,
                    0.05473469387755102,
                    0.055,
                    0.05640816326530612,
                    0.05689999999999999,
                    0.057519999999999946,
                    0.058081632653061224,
                    0.059,
                    0.05975510204081633,
                    0.06065999999999999,
                    0.0609,
                    0.06142857142857142,
                    0.062,
                    0.062,
                    0.063,
                    0.06310204081632653,
                    0.064,
                    0.06477551020408162,
                    0.065,
                    0.065,
                    0.066,
                    0.066,
                    0.06644897959183674,
                    0.067,
                    0.067,
                    0.06794000000000001,
                    0.068,
                    0.06812244897959183,
                    0.06832,
                    0.06956,
                    0.06979591836734694,
                    0.07,
                    0.07,
                    0.07032000000000001,
                    0.071,
                    0.071,
                    0.07146938775510203,
                    0.072,
                    0.07246,
                    0.073,
                    0.07314285714285713,
                    0.074,
                    0.074,
                    0.074,
                    0.0746,
                    0.07481632653061224,
                    0.075,
                    0.075,
                    0.075,
                    0.076,
                    0.076,
                    0.076,
                    0.07648979591836734,
                    0.077,
                    0.077,
                    0.077,
                    0.077,
                    0.078,
                    0.078,
                    0.078,
                    0.078,
                    0.07816326530612244,
                    0.079,
                    0.079,
                    0.079,
                    0.07983673469387755,
                    0.08,
                    0.08,
                    0.08,
                    0.08,
                    0.08002000000000001,
                    0.081,
                    0.08139999999999997,
                    0.08151020408163265,
                    0.08153999999999997,
                    0.0819999999999999,
                    0.0819999999999999,
                    0.0819999999999999,
                    0.08215999999999991,
                    0.083,
                    0.08318367346938775,
                    0.08368000000000002,
                    0.084,
                    0.08485714285714285,
                    0.08492000000000002,
                    0.085,
                    0.08530000000000001,
                    0.086,
                    0.08653061224489794,
                    0.087,
                    0.08720000000000001,
                    0.088,
                    0.08820408163265306,
                    0.08943999999999999,
                    0.08958,
                    0.08987755102040815,
                    0.09,
                    0.091,
                    0.09134,
                    0.09155102040816326,
                    0.092,
                    0.093,
                    0.093,
                    0.09322448979591835,
                    0.094,
                    0.09489795918367347,
                    0.095,
                    0.096,
                    0.09657142857142856,
                    0.0969999999999999,
                    0.09747999999999997,
                    0.09809999999999999,
                    0.09824489795918367,
                    0.09991836734693876,
                    0.1,
                    0.10047999999999997,
                    0.10159183673469388,
                    0.102,
                    0.10326530612244897,
                    0.10424,
                    0.10424,
                    0.10493877551020409,
                    0.10661224489795917,
                    0.10828571428571426,
                    0.10886000000000001,
                    0.10995918367346938,
                    0.11163265306122447,
                    0.11330612244897958,
                    0.114,
                    0.11497959183673467,
                    0.11665306122448979,
                    0.11832653061224488,
                    0.12
                  ],
                  "y": [
                    1.2788046048121637,
                    1.759831153388977,
                    2.2083642432864736,
                    2.684914568102931,
                    2.8040216373641287,
                    3.3208232358836356,
                    4.1591799757146175,
                    5.011756999510277,
                    5.031086346115024,
                    5.523280371533158,
                    5.643449891307373,
                    5.654351243499172,
                    5.835264315501106,
                    5.812970493036911,
                    5.755517237419814,
                    5.733821345826398,
                    5.791972565478434,
                    5.836165704646491,
                    6.331809962042412,
                    6.6198378768536745,
                    7.070382091227392,
                    7.55969024092712,
                    8.509593556838155,
                    9.406266772917565,
                    10.579215172167638,
                    10.902768026928722,
                    11.626873832374788,
                    12.419913962573007,
                    12.419913962573007,
                    13.809466326588177,
                    13.950395653284307,
                    15.178665256005893,
                    16.221219440418512,
                    16.520231548446258,
                    16.520231548446258,
                    17.842020275456854,
                    17.842020275456854,
                    18.432627951259295,
                    19.15754130720085,
                    19.15754130720085,
                    20.399945397786645,
                    20.47968825681705,
                    20.642651778078587,
                    20.90626367656429,
                    22.59063147487447,
                    22.919668884660748,
                    23.207429653764834,
                    23.207429653764834,
                    23.66541978132399,
                    24.672716062556756,
                    24.672716062556756,
                    25.401579453491895,
                    26.265169705482275,
                    27.0513573626469,
                    28.019933711135497,
                    28.284108803269284,
                    29.926840281793982,
                    29.926840281793982,
                    29.926840281793982,
                    31.1120097259173,
                    31.53945671380455,
                    31.90021654207982,
                    31.90021654207982,
                    31.90021654207982,
                    33.76935516666649,
                    33.76935516666649,
                    33.76935516666649,
                    34.577218611062904,
                    35.300373903157194,
                    35.300373903157194,
                    35.300373903157194,
                    35.300373903157194,
                    36.24670882280961,
                    36.24670882280961,
                    36.24670882280961,
                    36.24670882280961,
                    36.33099112874902,
                    36.41224180016279,
                    36.41224180016279,
                    36.41224180016279,
                    35.880011649170335,
                    35.704870473878174,
                    35.704870473878174,
                    35.704870473878174,
                    35.704870473878174,
                    35.681857014013474,
                    34.162071162691014,
                    33.3430341670658,
                    33.100036081568675,
                    33.03313880789643,
                    31.94132245255827,
                    31.94132245255827,
                    31.94132245255827,
                    31.53835744102255,
                    29.281274368262512,
                    28.76613519733799,
                    27.357951021741762,
                    26.44834736312499,
                    24.06793054735004,
                    23.89888395508672,
                    23.68514398919288,
                    22.89887776456272,
                    21.172763146875884,
                    19.979500945813356,
                    19.01242725856526,
                    18.62579835385024,
                    17.226159957347523,
                    16.904720532376228,
                    15.219270799860821,
                    15.052247350626695,
                    14.710157301577855,
                    14.574050717060755,
                    13.54278714676232,
                    13.2168130550998,
                    13.01899948444316,
                    12.6074195519878,
                    11.724784331837306,
                    11.724784331837306,
                    11.531934141350595,
                    10.880193066960077,
                    10.157059188565926,
                    10.077304342601716,
                    9.324387469696877,
                    8.917849579801594,
                    8.623642323528436,
                    8.303868474096367,
                    7.9034942396816295,
                    7.811594880644743,
                    6.774774656163238,
                    6.724667006475043,
                    6.429778423151116,
                    5.742981630595175,
                    5.48968280906524,
                    4.707969911717917,
                    4.1227559955836,
                    4.1227559955836,
                    3.7221895865589456,
                    2.869604946334102,
                    2.2341604367859316,
                    2.0775627740264806,
                    1.8715114756093743,
                    1.782994330063135,
                    1.9081116257422601,
                    1.9988505499926648,
                    2.141647696223223,
                    2.3511519712299966,
                    2.392503590779368,
                    2.163719058956817
                  ]
                },
                {
                  "fill": "tozeroy",
                  "line": {
                    "color": "#69b3a2"
                  },
                  "name": "Test Dataset",
                  "type": "scatter",
                  "x": [
                    0.038,
                    0.0396734693877551,
                    0.041346938775510204,
                    0.04302040816326531,
                    0.043379999999999995,
                    0.0446938775510204,
                    0.046367346938775506,
                    0.048,
                    0.04804081632653061,
                    0.049280000000000004,
                    0.04971428571428571,
                    0.049760000000000006,
                    0.051387755102040814,
                    0.05214,
                    0.053061224489795916,
                    0.054,
                    0.05473469387755102,
                    0.055,
                    0.05640816326530612,
                    0.05689999999999999,
                    0.057519999999999946,
                    0.058081632653061224,
                    0.059,
                    0.05975510204081633,
                    0.06065999999999999,
                    0.0609,
                    0.06142857142857142,
                    0.062,
                    0.062,
                    0.063,
                    0.06310204081632653,
                    0.064,
                    0.06477551020408162,
                    0.065,
                    0.065,
                    0.066,
                    0.066,
                    0.06644897959183674,
                    0.067,
                    0.067,
                    0.06794000000000001,
                    0.068,
                    0.06812244897959183,
                    0.06832,
                    0.06956,
                    0.06979591836734694,
                    0.07,
                    0.07,
                    0.07032000000000001,
                    0.071,
                    0.071,
                    0.07146938775510203,
                    0.072,
                    0.07246,
                    0.073,
                    0.07314285714285713,
                    0.074,
                    0.074,
                    0.074,
                    0.0746,
                    0.07481632653061224,
                    0.075,
                    0.075,
                    0.075,
                    0.076,
                    0.076,
                    0.076,
                    0.07648979591836734,
                    0.077,
                    0.077,
                    0.077,
                    0.077,
                    0.078,
                    0.078,
                    0.078,
                    0.078,
                    0.07816326530612244,
                    0.079,
                    0.079,
                    0.079,
                    0.07983673469387755,
                    0.08,
                    0.08,
                    0.08,
                    0.08,
                    0.08002000000000001,
                    0.081,
                    0.08139999999999997,
                    0.08151020408163265,
                    0.08153999999999997,
                    0.0819999999999999,
                    0.0819999999999999,
                    0.0819999999999999,
                    0.08215999999999991,
                    0.083,
                    0.08318367346938775,
                    0.08368000000000002,
                    0.084,
                    0.08485714285714285,
                    0.08492000000000002,
                    0.085,
                    0.08530000000000001,
                    0.086,
                    0.08653061224489794,
                    0.087,
                    0.08720000000000001,
                    0.088,
                    0.08820408163265306,
                    0.08943999999999999,
                    0.08958,
                    0.08987755102040815,
                    0.09,
                    0.091,
                    0.09134,
                    0.09155102040816326,
                    0.092,
                    0.093,
                    0.093,
                    0.09322448979591835,
                    0.094,
                    0.09489795918367347,
                    0.095,
                    0.096,
                    0.09657142857142856,
                    0.0969999999999999,
                    0.09747999999999997,
                    0.09809999999999999,
                    0.09824489795918367,
                    0.09991836734693876,
                    0.1,
                    0.10047999999999997,
                    0.10159183673469388,
                    0.102,
                    0.10326530612244897,
                    0.10424,
                    0.10424,
                    0.10493877551020409,
                    0.10661224489795917,
                    0.10828571428571426,
                    0.10886000000000001,
                    0.10995918367346938,
                    0.11163265306122447,
                    0.11330612244897958,
                    0.114,
                    0.11497959183673467,
                    0.11665306122448979,
                    0.11832653061224488,
                    0.12
                  ],
                  "y": [
                    2.1594851104986064,
                    2.627194778077324,
                    2.9785942133655166,
                    3.22023591113473,
                    3.2618669750942098,
                    3.404777463007396,
                    3.6458192536141647,
                    4.0966095573645145,
                    4.112021932796248,
                    4.695892217347376,
                    4.955575731347542,
                    4.984563838311562,
                    6.199491941514911,
                    6.8515914387149115,
                    7.681337270285076,
                    8.515440051622667,
                    9.131820283416538,
                    9.343243199828477,
                    10.353129249889605,
                    10.664535739572893,
                    11.03538685673275,
                    11.359386896169259,
                    11.891307010917096,
                    12.356743054742681,
                    12.97657353781126,
                    13.154692874952644,
                    13.568208565221541,
                    14.046613757384682,
                    14.046613757384682,
                    14.946456804937446,
                    15.041416781855634,
                    15.886327058389329,
                    16.60873207325704,
                    16.813194693363513,
                    16.813194693363513,
                    17.68634393583508,
                    17.68634393583508,
                    18.05682265960423,
                    18.495703285058774,
                    18.495703285058774,
                    19.222599634134294,
                    19.268919730601414,
                    19.363687580569195,
                    19.517518883883202,
                    20.539679304242625,
                    20.75077953365722,
                    20.93878344854956,
                    20.93878344854956,
                    21.2441433630164,
                    21.936576210248084,
                    21.936576210248084,
                    22.446677081881894,
                    23.047982182907113,
                    23.582124279723352,
                    24.21102196590795,
                    24.375671338656364,
                    25.322049073550254,
                    25.322049073550254,
                    25.322049073550254,
                    25.914159836218833,
                    26.107835236121897,
                    26.26279053306443,
                    26.26279053306443,
                    26.26279053306443,
                    26.930750898387906,
                    26.930750898387906,
                    26.930750898387906,
                    27.137027097048662,
                    27.261151380828796,
                    27.261151380828796,
                    27.261151380828796,
                    27.261151380828796,
                    27.233823251456293,
                    27.233823251456293,
                    27.233823251456293,
                    27.233823251456293,
                    27.196171422175013,
                    26.866308619532592,
                    26.866308619532592,
                    26.866308619532592,
                    26.327284890402947,
                    26.20033167145013,
                    26.20033167145013,
                    26.20033167145013,
                    26.20033167145013,
                    26.184325876299177,
                    25.28981794841136,
                    24.87045670802309,
                    24.750269247870502,
                    24.717453624872228,
                    24.195026742696466,
                    24.195026742696466,
                    24.195026742696466,
                    24.007083848461765,
                    22.982074231665067,
                    22.752094035433696,
                    22.126602256684897,
                    21.723565031480113,
                    20.666542269545786,
                    20.59121163828431,
                    20.495904500067336,
                    20.144737778991914,
                    19.371470607456644,
                    18.83720682236831,
                    18.40717113298016,
                    18.2367527001981,
                    17.633176204827777,
                    17.498915663837177,
                    16.83850160888178,
                    16.777874505773937,
                    16.656501617423316,
                    16.609189169828042,
                    16.26151292795067,
                    16.15096689904102,
                    16.08217355501136,
                    15.932076351181728,
                    15.556851273703156,
                    15.556851273703156,
                    15.461372391156686,
                    15.092377778235369,
                    14.585206549413407,
                    14.522277549971408,
                    13.855181393218734,
                    13.439644929730136,
                    13.11585940270939,
                    12.744061187117678,
                    12.254100079979889,
                    12.138535953176856,
                    10.793293705524748,
                    10.727557374623773,
                    10.34116040522452,
                    9.446822553868985,
                    9.118656263659005,
                    8.104160982344322,
                    7.333449912331741,
                    7.333449912331741,
                    6.794596470322105,
                    5.591756525101085,
                    4.574527620771379,
                    4.275069134576333,
                    3.767510395029949,
                    3.117367980405752,
                    2.5310167158642325,
                    2.2892949554614455,
                    1.9451612421548552,
                    1.3671106183566664,
                    0.8559086265137188,
                    0.46874125546886664
                  ]
                }
              ],
              "layout": {
                "height": 300,
                "legend": {
                  "title": {
                    "text": "Dataset"
                  },
                  "xanchor": "left",
                  "y": 0.9,
                  "yanchor": "top"
                },
                "template": {
                  "data": {
                    "bar": [
                      {
                        "error_x": {
                          "color": "#2a3f5f"
                        },
                        "error_y": {
                          "color": "#2a3f5f"
                        },
                        "marker": {
                          "line": {
                            "color": "#E5ECF6",
                            "width": 0.5
                          },
                          "pattern": {
                            "fillmode": "overlay",
                            "size": 10,
                            "solidity": 0.2
                          }
                        },
                        "type": "bar"
                      }
                    ],
                    "barpolar": [
                      {
                        "marker": {
                          "line": {
                            "color": "#E5ECF6",
                            "width": 0.5
                          },
                          "pattern": {
                            "fillmode": "overlay",
                            "size": 10,
                            "solidity": 0.2
                          }
                        },
                        "type": "barpolar"
                      }
                    ],
                    "carpet": [
                      {
                        "aaxis": {
                          "endlinecolor": "#2a3f5f",
                          "gridcolor": "white",
                          "linecolor": "white",
                          "minorgridcolor": "white",
                          "startlinecolor": "#2a3f5f"
                        },
                        "baxis": {
                          "endlinecolor": "#2a3f5f",
                          "gridcolor": "white",
                          "linecolor": "white",
                          "minorgridcolor": "white",
                          "startlinecolor": "#2a3f5f"
                        },
                        "type": "carpet"
                      }
                    ],
                    "choropleth": [
                      {
                        "colorbar": {
                          "outlinewidth": 0,
                          "ticks": ""
                        },
                        "type": "choropleth"
                      }
                    ],
                    "contour": [
                      {
                        "colorbar": {
                          "outlinewidth": 0,
                          "ticks": ""
                        },
                        "colorscale": [
                          [
                            0,
                            "#0d0887"
                          ],
                          [
                            0.1111111111111111,
                            "#46039f"
                          ],
                          [
                            0.2222222222222222,
                            "#7201a8"
                          ],
                          [
                            0.3333333333333333,
                            "#9c179e"
                          ],
                          [
                            0.4444444444444444,
                            "#bd3786"
                          ],
                          [
                            0.5555555555555556,
                            "#d8576b"
                          ],
                          [
                            0.6666666666666666,
                            "#ed7953"
                          ],
                          [
                            0.7777777777777778,
                            "#fb9f3a"
                          ],
                          [
                            0.8888888888888888,
                            "#fdca26"
                          ],
                          [
                            1,
                            "#f0f921"
                          ]
                        ],
                        "type": "contour"
                      }
                    ],
                    "contourcarpet": [
                      {
                        "colorbar": {
                          "outlinewidth": 0,
                          "ticks": ""
                        },
                        "type": "contourcarpet"
                      }
                    ],
                    "heatmap": [
                      {
                        "colorbar": {
                          "outlinewidth": 0,
                          "ticks": ""
                        },
                        "colorscale": [
                          [
                            0,
                            "#0d0887"
                          ],
                          [
                            0.1111111111111111,
                            "#46039f"
                          ],
                          [
                            0.2222222222222222,
                            "#7201a8"
                          ],
                          [
                            0.3333333333333333,
                            "#9c179e"
                          ],
                          [
                            0.4444444444444444,
                            "#bd3786"
                          ],
                          [
                            0.5555555555555556,
                            "#d8576b"
                          ],
                          [
                            0.6666666666666666,
                            "#ed7953"
                          ],
                          [
                            0.7777777777777778,
                            "#fb9f3a"
                          ],
                          [
                            0.8888888888888888,
                            "#fdca26"
                          ],
                          [
                            1,
                            "#f0f921"
                          ]
                        ],
                        "type": "heatmap"
                      }
                    ],
                    "heatmapgl": [
                      {
                        "colorbar": {
                          "outlinewidth": 0,
                          "ticks": ""
                        },
                        "colorscale": [
                          [
                            0,
                            "#0d0887"
                          ],
                          [
                            0.1111111111111111,
                            "#46039f"
                          ],
                          [
                            0.2222222222222222,
                            "#7201a8"
                          ],
                          [
                            0.3333333333333333,
                            "#9c179e"
                          ],
                          [
                            0.4444444444444444,
                            "#bd3786"
                          ],
                          [
                            0.5555555555555556,
                            "#d8576b"
                          ],
                          [
                            0.6666666666666666,
                            "#ed7953"
                          ],
                          [
                            0.7777777777777778,
                            "#fb9f3a"
                          ],
                          [
                            0.8888888888888888,
                            "#fdca26"
                          ],
                          [
                            1,
                            "#f0f921"
                          ]
                        ],
                        "type": "heatmapgl"
                      }
                    ],
                    "histogram": [
                      {
                        "marker": {
                          "pattern": {
                            "fillmode": "overlay",
                            "size": 10,
                            "solidity": 0.2
                          }
                        },
                        "type": "histogram"
                      }
                    ],
                    "histogram2d": [
                      {
                        "colorbar": {
                          "outlinewidth": 0,
                          "ticks": ""
                        },
                        "colorscale": [
                          [
                            0,
                            "#0d0887"
                          ],
                          [
                            0.1111111111111111,
                            "#46039f"
                          ],
                          [
                            0.2222222222222222,
                            "#7201a8"
                          ],
                          [
                            0.3333333333333333,
                            "#9c179e"
                          ],
                          [
                            0.4444444444444444,
                            "#bd3786"
                          ],
                          [
                            0.5555555555555556,
                            "#d8576b"
                          ],
                          [
                            0.6666666666666666,
                            "#ed7953"
                          ],
                          [
                            0.7777777777777778,
                            "#fb9f3a"
                          ],
                          [
                            0.8888888888888888,
                            "#fdca26"
                          ],
                          [
                            1,
                            "#f0f921"
                          ]
                        ],
                        "type": "histogram2d"
                      }
                    ],
                    "histogram2dcontour": [
                      {
                        "colorbar": {
                          "outlinewidth": 0,
                          "ticks": ""
                        },
                        "colorscale": [
                          [
                            0,
                            "#0d0887"
                          ],
                          [
                            0.1111111111111111,
                            "#46039f"
                          ],
                          [
                            0.2222222222222222,
                            "#7201a8"
                          ],
                          [
                            0.3333333333333333,
                            "#9c179e"
                          ],
                          [
                            0.4444444444444444,
                            "#bd3786"
                          ],
                          [
                            0.5555555555555556,
                            "#d8576b"
                          ],
                          [
                            0.6666666666666666,
                            "#ed7953"
                          ],
                          [
                            0.7777777777777778,
                            "#fb9f3a"
                          ],
                          [
                            0.8888888888888888,
                            "#fdca26"
                          ],
                          [
                            1,
                            "#f0f921"
                          ]
                        ],
                        "type": "histogram2dcontour"
                      }
                    ],
                    "mesh3d": [
                      {
                        "colorbar": {
                          "outlinewidth": 0,
                          "ticks": ""
                        },
                        "type": "mesh3d"
                      }
                    ],
                    "parcoords": [
                      {
                        "line": {
                          "colorbar": {
                            "outlinewidth": 0,
                            "ticks": ""
                          }
                        },
                        "type": "parcoords"
                      }
                    ],
                    "pie": [
                      {
                        "automargin": true,
                        "type": "pie"
                      }
                    ],
                    "scatter": [
                      {
                        "marker": {
                          "colorbar": {
                            "outlinewidth": 0,
                            "ticks": ""
                          }
                        },
                        "type": "scatter"
                      }
                    ],
                    "scatter3d": [
                      {
                        "line": {
                          "colorbar": {
                            "outlinewidth": 0,
                            "ticks": ""
                          }
                        },
                        "marker": {
                          "colorbar": {
                            "outlinewidth": 0,
                            "ticks": ""
                          }
                        },
                        "type": "scatter3d"
                      }
                    ],
                    "scattercarpet": [
                      {
                        "marker": {
                          "colorbar": {
                            "outlinewidth": 0,
                            "ticks": ""
                          }
                        },
                        "type": "scattercarpet"
                      }
                    ],
                    "scattergeo": [
                      {
                        "marker": {
                          "colorbar": {
                            "outlinewidth": 0,
                            "ticks": ""
                          }
                        },
                        "type": "scattergeo"
                      }
                    ],
                    "scattergl": [
                      {
                        "marker": {
                          "colorbar": {
                            "outlinewidth": 0,
                            "ticks": ""
                          }
                        },
                        "type": "scattergl"
                      }
                    ],
                    "scattermapbox": [
                      {
                        "marker": {
                          "colorbar": {
                            "outlinewidth": 0,
                            "ticks": ""
                          }
                        },
                        "type": "scattermapbox"
                      }
                    ],
                    "scatterpolar": [
                      {
                        "marker": {
                          "colorbar": {
                            "outlinewidth": 0,
                            "ticks": ""
                          }
                        },
                        "type": "scatterpolar"
                      }
                    ],
                    "scatterpolargl": [
                      {
                        "marker": {
                          "colorbar": {
                            "outlinewidth": 0,
                            "ticks": ""
                          }
                        },
                        "type": "scatterpolargl"
                      }
                    ],
                    "scatterternary": [
                      {
                        "marker": {
                          "colorbar": {
                            "outlinewidth": 0,
                            "ticks": ""
                          }
                        },
                        "type": "scatterternary"
                      }
                    ],
                    "surface": [
                      {
                        "colorbar": {
                          "outlinewidth": 0,
                          "ticks": ""
                        },
                        "colorscale": [
                          [
                            0,
                            "#0d0887"
                          ],
                          [
                            0.1111111111111111,
                            "#46039f"
                          ],
                          [
                            0.2222222222222222,
                            "#7201a8"
                          ],
                          [
                            0.3333333333333333,
                            "#9c179e"
                          ],
                          [
                            0.4444444444444444,
                            "#bd3786"
                          ],
                          [
                            0.5555555555555556,
                            "#d8576b"
                          ],
                          [
                            0.6666666666666666,
                            "#ed7953"
                          ],
                          [
                            0.7777777777777778,
                            "#fb9f3a"
                          ],
                          [
                            0.8888888888888888,
                            "#fdca26"
                          ],
                          [
                            1,
                            "#f0f921"
                          ]
                        ],
                        "type": "surface"
                      }
                    ],
                    "table": [
                      {
                        "cells": {
                          "fill": {
                            "color": "#EBF0F8"
                          },
                          "line": {
                            "color": "white"
                          }
                        },
                        "header": {
                          "fill": {
                            "color": "#C8D4E3"
                          },
                          "line": {
                            "color": "white"
                          }
                        },
                        "type": "table"
                      }
                    ]
                  },
                  "layout": {
                    "annotationdefaults": {
                      "arrowcolor": "#2a3f5f",
                      "arrowhead": 0,
                      "arrowwidth": 1
                    },
                    "autotypenumbers": "strict",
                    "coloraxis": {
                      "colorbar": {
                        "outlinewidth": 0,
                        "ticks": ""
                      }
                    },
                    "colorscale": {
                      "diverging": [
                        [
                          0,
                          "#8e0152"
                        ],
                        [
                          0.1,
                          "#c51b7d"
                        ],
                        [
                          0.2,
                          "#de77ae"
                        ],
                        [
                          0.3,
                          "#f1b6da"
                        ],
                        [
                          0.4,
                          "#fde0ef"
                        ],
                        [
                          0.5,
                          "#f7f7f7"
                        ],
                        [
                          0.6,
                          "#e6f5d0"
                        ],
                        [
                          0.7,
                          "#b8e186"
                        ],
                        [
                          0.8,
                          "#7fbc41"
                        ],
                        [
                          0.9,
                          "#4d9221"
                        ],
                        [
                          1,
                          "#276419"
                        ]
                      ],
                      "sequential": [
                        [
                          0,
                          "#0d0887"
                        ],
                        [
                          0.1111111111111111,
                          "#46039f"
                        ],
                        [
                          0.2222222222222222,
                          "#7201a8"
                        ],
                        [
                          0.3333333333333333,
                          "#9c179e"
                        ],
                        [
                          0.4444444444444444,
                          "#bd3786"
                        ],
                        [
                          0.5555555555555556,
                          "#d8576b"
                        ],
                        [
                          0.6666666666666666,
                          "#ed7953"
                        ],
                        [
                          0.7777777777777778,
                          "#fb9f3a"
                        ],
                        [
                          0.8888888888888888,
                          "#fdca26"
                        ],
                        [
                          1,
                          "#f0f921"
                        ]
                      ],
                      "sequentialminus": [
                        [
                          0,
                          "#0d0887"
                        ],
                        [
                          0.1111111111111111,
                          "#46039f"
                        ],
                        [
                          0.2222222222222222,
                          "#7201a8"
                        ],
                        [
                          0.3333333333333333,
                          "#9c179e"
                        ],
                        [
                          0.4444444444444444,
                          "#bd3786"
                        ],
                        [
                          0.5555555555555556,
                          "#d8576b"
                        ],
                        [
                          0.6666666666666666,
                          "#ed7953"
                        ],
                        [
                          0.7777777777777778,
                          "#fb9f3a"
                        ],
                        [
                          0.8888888888888888,
                          "#fdca26"
                        ],
                        [
                          1,
                          "#f0f921"
                        ]
                      ]
                    },
                    "colorway": [
                      "#636efa",
                      "#EF553B",
                      "#00cc96",
                      "#ab63fa",
                      "#FFA15A",
                      "#19d3f3",
                      "#FF6692",
                      "#B6E880",
                      "#FF97FF",
                      "#FECB52"
                    ],
                    "font": {
                      "color": "#2a3f5f"
                    },
                    "geo": {
                      "bgcolor": "white",
                      "lakecolor": "white",
                      "landcolor": "#E5ECF6",
                      "showlakes": true,
                      "showland": true,
                      "subunitcolor": "white"
                    },
                    "hoverlabel": {
                      "align": "left"
                    },
                    "hovermode": "closest",
                    "mapbox": {
                      "style": "light"
                    },
                    "paper_bgcolor": "white",
                    "plot_bgcolor": "#E5ECF6",
                    "polar": {
                      "angularaxis": {
                        "gridcolor": "white",
                        "linecolor": "white",
                        "ticks": ""
                      },
                      "bgcolor": "#E5ECF6",
                      "radialaxis": {
                        "gridcolor": "white",
                        "linecolor": "white",
                        "ticks": ""
                      }
                    },
                    "scene": {
                      "xaxis": {
                        "backgroundcolor": "#E5ECF6",
                        "gridcolor": "white",
                        "gridwidth": 2,
                        "linecolor": "white",
                        "showbackground": true,
                        "ticks": "",
                        "zerolinecolor": "white"
                      },
                      "yaxis": {
                        "backgroundcolor": "#E5ECF6",
                        "gridcolor": "white",
                        "gridwidth": 2,
                        "linecolor": "white",
                        "showbackground": true,
                        "ticks": "",
                        "zerolinecolor": "white"
                      },
                      "zaxis": {
                        "backgroundcolor": "#E5ECF6",
                        "gridcolor": "white",
                        "gridwidth": 2,
                        "linecolor": "white",
                        "showbackground": true,
                        "ticks": "",
                        "zerolinecolor": "white"
                      }
                    },
                    "shapedefaults": {
                      "line": {
                        "color": "#2a3f5f"
                      }
                    },
                    "ternary": {
                      "aaxis": {
                        "gridcolor": "white",
                        "linecolor": "white",
                        "ticks": ""
                      },
                      "baxis": {
                        "gridcolor": "white",
                        "linecolor": "white",
                        "ticks": ""
                      },
                      "bgcolor": "#E5ECF6",
                      "caxis": {
                        "gridcolor": "white",
                        "linecolor": "white",
                        "ticks": ""
                      }
                    },
                    "title": {
                      "x": 0.05
                    },
                    "xaxis": {
                      "automargin": true,
                      "gridcolor": "white",
                      "linecolor": "white",
                      "ticks": "",
                      "title": {
                        "standoff": 15
                      },
                      "zerolinecolor": "white",
                      "zerolinewidth": 2
                    },
                    "yaxis": {
                      "automargin": true,
                      "gridcolor": "white",
                      "linecolor": "white",
                      "ticks": "",
                      "title": {
                        "standoff": 15
                      },
                      "zerolinecolor": "white",
                      "zerolinewidth": 2
                    }
                  }
                },
                "title": {
                  "text": "Feature: chlorides - Explains 28.57% of dataset difference"
                },
                "width": 700,
                "xaxis": {
                  "fixedrange": false,
                  "range": [
                    0.043379999999999995,
                    0.114
                  ],
                  "title": {
                    "text": "chlorides"
                  }
                },
                "yaxis": {
                  "fixedrange": true,
                  "title": {
                    "text": "Probability Density"
                  }
                }
              }
            }
          },
          "metadata": {},
          "output_type": "display_data"
        },
        {
          "data": {
            "text/html": [
              "<br><a href=\"#summary_DETA7\" style=\"font-size: 14px\">Go to top</a>"
            ]
          },
          "metadata": {},
          "output_type": "display_data"
        },
        {
          "data": {
            "text/html": [
              "<hr style=\"background-color: #eee;border: 0 none;color: #eee;height: 4px;\">"
            ]
          },
          "metadata": {},
          "output_type": "display_data"
        },
        {
          "data": {
            "text/html": [
              "<h4 id=\"DatasetsSizeComparison_DETA7\">Datasets Size Comparison</h4><p>Verify test dataset size comparing it to the train dataset size. <a href=\"https://docs.deepchecks.com/0.6.1/examples/tabular/checks/methodology/examples/plot_datasets_size_comparison.html?utm_source=display_output&utm_medium=referral&utm_campaign=check_link\" target=\"_blank\">Read More...</a></p><h5>Conditions Summary</h5><style type=\"text/css\">\n",
              "#T_17e83 table {\n",
              "  text-align: left;\n",
              "  white-space: pre-wrap;\n",
              "}\n",
              "#T_17e83 thead {\n",
              "  text-align: left;\n",
              "  white-space: pre-wrap;\n",
              "}\n",
              "#T_17e83 tbody {\n",
              "  text-align: left;\n",
              "  white-space: pre-wrap;\n",
              "}\n",
              "#T_17e83 th {\n",
              "  text-align: left;\n",
              "  white-space: pre-wrap;\n",
              "}\n",
              "#T_17e83 td {\n",
              "  text-align: left;\n",
              "  white-space: pre-wrap;\n",
              "}\n",
              "</style>\n",
              "<table id=\"T_17e83\">\n",
              "  <thead>\n",
              "    <tr>\n",
              "      <th id=\"T_17e83_level0_col0\" class=\"col_heading level0 col0\" >Status</th>\n",
              "      <th id=\"T_17e83_level0_col1\" class=\"col_heading level0 col1\" >Condition</th>\n",
              "      <th id=\"T_17e83_level0_col2\" class=\"col_heading level0 col2\" >More Info</th>\n",
              "    </tr>\n",
              "  </thead>\n",
              "  <tbody>\n",
              "    <tr>\n",
              "      <td id=\"T_17e83_row0_col0\" class=\"data row0 col0\" ><div style=\"color: green;text-align: center\">✓</div></td>\n",
              "      <td id=\"T_17e83_row0_col1\" class=\"data row0 col1\" >Test-Train size ratio is not smaller than 0.01</td>\n",
              "      <td id=\"T_17e83_row0_col2\" class=\"data row0 col2\" ></td>\n",
              "    </tr>\n",
              "  </tbody>\n",
              "</table>\n",
              "<h5>Additional Outputs</h5><style type=\"text/css\">\n",
              "#T_a8100 table {\n",
              "  text-align: left;\n",
              "  white-space: pre-wrap;\n",
              "}\n",
              "#T_a8100 thead {\n",
              "  text-align: left;\n",
              "  white-space: pre-wrap;\n",
              "}\n",
              "#T_a8100 tbody {\n",
              "  text-align: left;\n",
              "  white-space: pre-wrap;\n",
              "}\n",
              "#T_a8100 th {\n",
              "  text-align: left;\n",
              "  white-space: pre-wrap;\n",
              "}\n",
              "#T_a8100 td {\n",
              "  text-align: left;\n",
              "  white-space: pre-wrap;\n",
              "}\n",
              "</style>\n",
              "<table id=\"T_a8100\">\n",
              "  <thead>\n",
              "    <tr>\n",
              "      <th class=\"blank level0\" >&nbsp;</th>\n",
              "      <th id=\"T_a8100_level0_col0\" class=\"col_heading level0 col0\" >Train</th>\n",
              "      <th id=\"T_a8100_level0_col1\" class=\"col_heading level0 col1\" >Test</th>\n",
              "    </tr>\n",
              "  </thead>\n",
              "  <tbody>\n",
              "    <tr>\n",
              "      <th id=\"T_a8100_level0_row0\" class=\"row_heading level0 row0\" >Size</th>\n",
              "      <td id=\"T_a8100_row0_col0\" class=\"data row0 col0\" >657</td>\n",
              "      <td id=\"T_a8100_row0_col1\" class=\"data row0 col1\" >220</td>\n",
              "    </tr>\n",
              "  </tbody>\n",
              "</table>\n",
              "<br><a href=\"#summary_DETA7\" style=\"font-size: 14px\">Go to top</a>"
            ]
          },
          "metadata": {},
          "output_type": "display_data"
        },
        {
          "data": {
            "text/html": [
              "<hr style=\"background-color: black;border: 0 none;color: black;height: 1px;\"><h2>Check Without Conditions Output</h2>"
            ]
          },
          "metadata": {},
          "output_type": "display_data"
        },
        {
          "data": {
            "text/html": [
              "<h4 id=\"ModelInfo_DETA7\">Model Info</h4><p>Summarize given model parameters. <a href=\"https://docs.deepchecks.com/0.6.1/examples/tabular/checks/overview/examples/plot_model_info.html?utm_source=display_output&utm_medium=referral&utm_campaign=check_link\" target=\"_blank\">Read More...</a></p><h5>Additional Outputs</h5><div>Model Type: SoftSplitDecisionTreeClassifier</div><style type=\"text/css\">\n",
              "#T_a2149 table {\n",
              "  text-align: left;\n",
              "  white-space: pre-wrap;\n",
              "}\n",
              "#T_a2149 thead {\n",
              "  text-align: left;\n",
              "  white-space: pre-wrap;\n",
              "}\n",
              "#T_a2149 tbody {\n",
              "  text-align: left;\n",
              "  white-space: pre-wrap;\n",
              "}\n",
              "#T_a2149 th {\n",
              "  text-align: left;\n",
              "  white-space: pre-wrap;\n",
              "}\n",
              "#T_a2149 td {\n",
              "  text-align: left;\n",
              "  white-space: pre-wrap;\n",
              "}\n",
              "</style>\n",
              "<table id=\"T_a2149\">\n",
              "  <thead>\n",
              "    <tr>\n",
              "      <th id=\"T_a2149_level0_col0\" class=\"col_heading level0 col0\" >Parameter</th>\n",
              "      <th id=\"T_a2149_level0_col1\" class=\"col_heading level0 col1\" >Value</th>\n",
              "      <th id=\"T_a2149_level0_col2\" class=\"col_heading level0 col2\" >Default</th>\n",
              "    </tr>\n",
              "  </thead>\n",
              "  <tbody>\n",
              "    <tr>\n",
              "      <td id=\"T_a2149_row0_col0\" class=\"data row0 col0\" >alphaProbability</td>\n",
              "      <td id=\"T_a2149_row0_col1\" class=\"data row0 col1\" >0.10</td>\n",
              "      <td id=\"T_a2149_row0_col2\" class=\"data row0 col2\" >0.10</td>\n",
              "    </tr>\n",
              "    <tr>\n",
              "      <td id=\"T_a2149_row1_col0\" class=\"data row1 col0\" >ccp_alpha</td>\n",
              "      <td id=\"T_a2149_row1_col1\" class=\"data row1 col1\" >0.00</td>\n",
              "      <td id=\"T_a2149_row1_col2\" class=\"data row1 col2\" >0.00</td>\n",
              "    </tr>\n",
              "    <tr>\n",
              "      <td id=\"T_a2149_row2_col0\" class=\"data row2 col0\" >class_weight</td>\n",
              "      <td id=\"T_a2149_row2_col1\" class=\"data row2 col1\" >None</td>\n",
              "      <td id=\"T_a2149_row2_col2\" class=\"data row2 col2\" >None</td>\n",
              "    </tr>\n",
              "    <tr>\n",
              "      <td id=\"T_a2149_row3_col0\" class=\"data row3 col0\" >criterion</td>\n",
              "      <td id=\"T_a2149_row3_col1\" class=\"data row3 col1\" >gini</td>\n",
              "      <td id=\"T_a2149_row3_col2\" class=\"data row3 col2\" >gini</td>\n",
              "    </tr>\n",
              "    <tr>\n",
              "      <td id=\"T_a2149_row4_col0\" class=\"data row4 col0\" >max_depth</td>\n",
              "      <td id=\"T_a2149_row4_col1\" class=\"data row4 col1\" >None</td>\n",
              "      <td id=\"T_a2149_row4_col2\" class=\"data row4 col2\" >None</td>\n",
              "    </tr>\n",
              "    <tr>\n",
              "      <td id=\"T_a2149_row5_col0\" class=\"data row5 col0\" >max_features</td>\n",
              "      <td id=\"T_a2149_row5_col1\" class=\"data row5 col1\" >None</td>\n",
              "      <td id=\"T_a2149_row5_col2\" class=\"data row5 col2\" >None</td>\n",
              "    </tr>\n",
              "    <tr>\n",
              "      <td id=\"T_a2149_row6_col0\" class=\"data row6 col0\" >max_leaf_nodes</td>\n",
              "      <td id=\"T_a2149_row6_col1\" class=\"data row6 col1\" >None</td>\n",
              "      <td id=\"T_a2149_row6_col2\" class=\"data row6 col2\" >None</td>\n",
              "    </tr>\n",
              "    <tr>\n",
              "      <td id=\"T_a2149_row7_col0\" class=\"data row7 col0\" >min_impurity_decrease</td>\n",
              "      <td id=\"T_a2149_row7_col1\" class=\"data row7 col1\" >0.00</td>\n",
              "      <td id=\"T_a2149_row7_col2\" class=\"data row7 col2\" >0.00</td>\n",
              "    </tr>\n",
              "    <tr>\n",
              "      <td id=\"T_a2149_row8_col0\" class=\"data row8 col0\" >min_samples_leaf</td>\n",
              "      <td id=\"T_a2149_row8_col1\" class=\"data row8 col1\" >1</td>\n",
              "      <td id=\"T_a2149_row8_col2\" class=\"data row8 col2\" >1</td>\n",
              "    </tr>\n",
              "    <tr>\n",
              "      <td id=\"T_a2149_row9_col0\" class=\"data row9 col0\" >min_samples_split</td>\n",
              "      <td id=\"T_a2149_row9_col1\" class=\"data row9 col1\" >2</td>\n",
              "      <td id=\"T_a2149_row9_col2\" class=\"data row9 col2\" >2</td>\n",
              "    </tr>\n",
              "    <tr>\n",
              "      <td id=\"T_a2149_row10_col0\" class=\"data row10 col0\" >min_weight_fraction_leaf</td>\n",
              "      <td id=\"T_a2149_row10_col1\" class=\"data row10 col1\" >0.00</td>\n",
              "      <td id=\"T_a2149_row10_col2\" class=\"data row10 col2\" >0.00</td>\n",
              "    </tr>\n",
              "    <tr>\n",
              "      <td id=\"T_a2149_row11_col0\" class=\"data row11 col0\" >n</td>\n",
              "      <td id=\"T_a2149_row11_col1\" class=\"data row11 col1\" >100</td>\n",
              "      <td id=\"T_a2149_row11_col2\" class=\"data row11 col2\" >100</td>\n",
              "    </tr>\n",
              "    <tr>\n",
              "      <td id=\"T_a2149_row12_col0\" class=\"data row12 col0\" >random_state</td>\n",
              "      <td id=\"T_a2149_row12_col1\" class=\"data row12 col1\" >None</td>\n",
              "      <td id=\"T_a2149_row12_col2\" class=\"data row12 col2\" >None</td>\n",
              "    </tr>\n",
              "    <tr>\n",
              "      <td id=\"T_a2149_row13_col0\" class=\"data row13 col0\" >splitter</td>\n",
              "      <td id=\"T_a2149_row13_col1\" class=\"data row13 col1\" >best</td>\n",
              "      <td id=\"T_a2149_row13_col2\" class=\"data row13 col2\" >best</td>\n",
              "    </tr>\n",
              "  </tbody>\n",
              "</table>\n",
              "<div><p style=\"font-size:0.7em\"><i>Colored rows are parameters with non-default values</i></p></div><br><a href=\"#summary_DETA7\" style=\"font-size: 14px\">Go to top</a>"
            ]
          },
          "metadata": {},
          "output_type": "display_data"
        },
        {
          "data": {
            "text/html": [
              "<hr style=\"background-color: #eee;border: 0 none;color: #eee;height: 4px;\">"
            ]
          },
          "metadata": {},
          "output_type": "display_data"
        },
        {
          "data": {
            "text/html": [
              "<h4 id=\"ColumnsInfo-TrainDataset_DETA7\">Columns Info - Train Dataset</h4><p>Return the role and logical type of each column. <a href=\"https://docs.deepchecks.com/0.6.1/examples/tabular/checks/overview/examples/plot_columns_info.html?utm_source=display_output&utm_medium=referral&utm_campaign=check_link\" target=\"_blank\">Read More...</a></p><h5>Additional Outputs</h5><div>* showing only the top 10 columns, you can change it using n_top_columns param</div><style type=\"text/css\">\n",
              "#T_45df9 table {\n",
              "  text-align: left;\n",
              "  white-space: pre-wrap;\n",
              "}\n",
              "#T_45df9 thead {\n",
              "  text-align: left;\n",
              "  white-space: pre-wrap;\n",
              "}\n",
              "#T_45df9 tbody {\n",
              "  text-align: left;\n",
              "  white-space: pre-wrap;\n",
              "}\n",
              "#T_45df9 th {\n",
              "  text-align: left;\n",
              "  white-space: pre-wrap;\n",
              "}\n",
              "#T_45df9 td {\n",
              "  text-align: left;\n",
              "  white-space: pre-wrap;\n",
              "}\n",
              "</style>\n",
              "<table id=\"T_45df9\">\n",
              "  <thead>\n",
              "    <tr>\n",
              "      <th class=\"blank level0\" >&nbsp;</th>\n",
              "      <th id=\"T_45df9_level0_col0\" class=\"col_heading level0 col0\" >quality</th>\n",
              "      <th id=\"T_45df9_level0_col1\" class=\"col_heading level0 col1\" >alcohol</th>\n",
              "      <th id=\"T_45df9_level0_col2\" class=\"col_heading level0 col2\" >sulphates</th>\n",
              "      <th id=\"T_45df9_level0_col3\" class=\"col_heading level0 col3\" >Id</th>\n",
              "      <th id=\"T_45df9_level0_col4\" class=\"col_heading level0 col4\" >volatile acidity</th>\n",
              "      <th id=\"T_45df9_level0_col5\" class=\"col_heading level0 col5\" >density</th>\n",
              "      <th id=\"T_45df9_level0_col6\" class=\"col_heading level0 col6\" >chlorides</th>\n",
              "      <th id=\"T_45df9_level0_col7\" class=\"col_heading level0 col7\" >total sulfur dioxide</th>\n",
              "      <th id=\"T_45df9_level0_col8\" class=\"col_heading level0 col8\" >fixed acidity</th>\n",
              "      <th id=\"T_45df9_level0_col9\" class=\"col_heading level0 col9\" >residual sugar</th>\n",
              "    </tr>\n",
              "  </thead>\n",
              "  <tbody>\n",
              "    <tr>\n",
              "      <th id=\"T_45df9_level0_row0\" class=\"row_heading level0 row0\" >role</th>\n",
              "      <td id=\"T_45df9_row0_col0\" class=\"data row0 col0\" >label</td>\n",
              "      <td id=\"T_45df9_row0_col1\" class=\"data row0 col1\" >numerical feature</td>\n",
              "      <td id=\"T_45df9_row0_col2\" class=\"data row0 col2\" >numerical feature</td>\n",
              "      <td id=\"T_45df9_row0_col3\" class=\"data row0 col3\" >numerical feature</td>\n",
              "      <td id=\"T_45df9_row0_col4\" class=\"data row0 col4\" >numerical feature</td>\n",
              "      <td id=\"T_45df9_row0_col5\" class=\"data row0 col5\" >numerical feature</td>\n",
              "      <td id=\"T_45df9_row0_col6\" class=\"data row0 col6\" >numerical feature</td>\n",
              "      <td id=\"T_45df9_row0_col7\" class=\"data row0 col7\" >numerical feature</td>\n",
              "      <td id=\"T_45df9_row0_col8\" class=\"data row0 col8\" >numerical feature</td>\n",
              "      <td id=\"T_45df9_row0_col9\" class=\"data row0 col9\" >numerical feature</td>\n",
              "    </tr>\n",
              "  </tbody>\n",
              "</table>\n",
              "<br><a href=\"#summary_DETA7\" style=\"font-size: 14px\">Go to top</a>"
            ]
          },
          "metadata": {},
          "output_type": "display_data"
        },
        {
          "data": {
            "text/html": [
              "<hr style=\"background-color: #eee;border: 0 none;color: #eee;height: 4px;\">"
            ]
          },
          "metadata": {},
          "output_type": "display_data"
        },
        {
          "data": {
            "text/html": [
              "<h4 id=\"ColumnsInfo-TestDataset_DETA7\">Columns Info - Test Dataset</h4><p>Return the role and logical type of each column. <a href=\"https://docs.deepchecks.com/0.6.1/examples/tabular/checks/overview/examples/plot_columns_info.html?utm_source=display_output&utm_medium=referral&utm_campaign=check_link\" target=\"_blank\">Read More...</a></p><h5>Additional Outputs</h5><div>* showing only the top 10 columns, you can change it using n_top_columns param</div><style type=\"text/css\">\n",
              "#T_802b8 table {\n",
              "  text-align: left;\n",
              "  white-space: pre-wrap;\n",
              "}\n",
              "#T_802b8 thead {\n",
              "  text-align: left;\n",
              "  white-space: pre-wrap;\n",
              "}\n",
              "#T_802b8 tbody {\n",
              "  text-align: left;\n",
              "  white-space: pre-wrap;\n",
              "}\n",
              "#T_802b8 th {\n",
              "  text-align: left;\n",
              "  white-space: pre-wrap;\n",
              "}\n",
              "#T_802b8 td {\n",
              "  text-align: left;\n",
              "  white-space: pre-wrap;\n",
              "}\n",
              "</style>\n",
              "<table id=\"T_802b8\">\n",
              "  <thead>\n",
              "    <tr>\n",
              "      <th class=\"blank level0\" >&nbsp;</th>\n",
              "      <th id=\"T_802b8_level0_col0\" class=\"col_heading level0 col0\" >quality</th>\n",
              "      <th id=\"T_802b8_level0_col1\" class=\"col_heading level0 col1\" >alcohol</th>\n",
              "      <th id=\"T_802b8_level0_col2\" class=\"col_heading level0 col2\" >sulphates</th>\n",
              "      <th id=\"T_802b8_level0_col3\" class=\"col_heading level0 col3\" >Id</th>\n",
              "      <th id=\"T_802b8_level0_col4\" class=\"col_heading level0 col4\" >volatile acidity</th>\n",
              "      <th id=\"T_802b8_level0_col5\" class=\"col_heading level0 col5\" >density</th>\n",
              "      <th id=\"T_802b8_level0_col6\" class=\"col_heading level0 col6\" >chlorides</th>\n",
              "      <th id=\"T_802b8_level0_col7\" class=\"col_heading level0 col7\" >total sulfur dioxide</th>\n",
              "      <th id=\"T_802b8_level0_col8\" class=\"col_heading level0 col8\" >fixed acidity</th>\n",
              "      <th id=\"T_802b8_level0_col9\" class=\"col_heading level0 col9\" >residual sugar</th>\n",
              "    </tr>\n",
              "  </thead>\n",
              "  <tbody>\n",
              "    <tr>\n",
              "      <th id=\"T_802b8_level0_row0\" class=\"row_heading level0 row0\" >role</th>\n",
              "      <td id=\"T_802b8_row0_col0\" class=\"data row0 col0\" >label</td>\n",
              "      <td id=\"T_802b8_row0_col1\" class=\"data row0 col1\" >numerical feature</td>\n",
              "      <td id=\"T_802b8_row0_col2\" class=\"data row0 col2\" >numerical feature</td>\n",
              "      <td id=\"T_802b8_row0_col3\" class=\"data row0 col3\" >numerical feature</td>\n",
              "      <td id=\"T_802b8_row0_col4\" class=\"data row0 col4\" >numerical feature</td>\n",
              "      <td id=\"T_802b8_row0_col5\" class=\"data row0 col5\" >numerical feature</td>\n",
              "      <td id=\"T_802b8_row0_col6\" class=\"data row0 col6\" >numerical feature</td>\n",
              "      <td id=\"T_802b8_row0_col7\" class=\"data row0 col7\" >numerical feature</td>\n",
              "      <td id=\"T_802b8_row0_col8\" class=\"data row0 col8\" >numerical feature</td>\n",
              "      <td id=\"T_802b8_row0_col9\" class=\"data row0 col9\" >numerical feature</td>\n",
              "    </tr>\n",
              "  </tbody>\n",
              "</table>\n",
              "<br><a href=\"#summary_DETA7\" style=\"font-size: 14px\">Go to top</a>"
            ]
          },
          "metadata": {},
          "output_type": "display_data"
        },
        {
          "data": {
            "text/html": [
              "<hr style=\"background-color: #eee;border: 0 none;color: #eee;height: 4px;\">"
            ]
          },
          "metadata": {},
          "output_type": "display_data"
        },
        {
          "data": {
            "text/html": [
              "<h4 id=\"ConfusionMatrixReport-TrainDataset_DETA7\">Confusion Matrix Report - Train Dataset</h4><p>Calculate the confusion matrix of the model on the given dataset. <a href=\"https://docs.deepchecks.com/0.6.1/examples/tabular/checks/performance/examples/plot_confusion_matrix_report.html?utm_source=display_output&utm_medium=referral&utm_campaign=check_link\" target=\"_blank\">Read More...</a></p><h5>Additional Outputs</h5>"
            ]
          },
          "metadata": {},
          "output_type": "display_data"
        },
        {
          "data": {
            "application/vnd.plotly.v1+json": {
              "config": {
                "plotlyServerURL": "https://plot.ly"
              },
              "data": [
                {
                  "coloraxis": "coloraxis",
                  "hovertemplate": "x: %{x}<br>y: %{y}<br>color: %{z}<extra></extra>",
                  "name": "0",
                  "texttemplate": "%{z}",
                  "type": "heatmap",
                  "x": [
                    "High",
                    "Low"
                  ],
                  "xaxis": "x",
                  "y": [
                    "High",
                    "Low"
                  ],
                  "yaxis": "y",
                  "z": [
                    [
                      329,
                      37
                    ],
                    [
                      33,
                      258
                    ]
                  ]
                }
              ],
              "layout": {
                "coloraxis": {
                  "colorscale": [
                    [
                      0,
                      "#0d0887"
                    ],
                    [
                      0.1111111111111111,
                      "#46039f"
                    ],
                    [
                      0.2222222222222222,
                      "#7201a8"
                    ],
                    [
                      0.3333333333333333,
                      "#9c179e"
                    ],
                    [
                      0.4444444444444444,
                      "#bd3786"
                    ],
                    [
                      0.5555555555555556,
                      "#d8576b"
                    ],
                    [
                      0.6666666666666666,
                      "#ed7953"
                    ],
                    [
                      0.7777777777777778,
                      "#fb9f3a"
                    ],
                    [
                      0.8888888888888888,
                      "#fdca26"
                    ],
                    [
                      1,
                      "#f0f921"
                    ]
                  ]
                },
                "height": 600,
                "margin": {
                  "t": 60
                },
                "template": {
                  "data": {
                    "bar": [
                      {
                        "error_x": {
                          "color": "#2a3f5f"
                        },
                        "error_y": {
                          "color": "#2a3f5f"
                        },
                        "marker": {
                          "line": {
                            "color": "#E5ECF6",
                            "width": 0.5
                          },
                          "pattern": {
                            "fillmode": "overlay",
                            "size": 10,
                            "solidity": 0.2
                          }
                        },
                        "type": "bar"
                      }
                    ],
                    "barpolar": [
                      {
                        "marker": {
                          "line": {
                            "color": "#E5ECF6",
                            "width": 0.5
                          },
                          "pattern": {
                            "fillmode": "overlay",
                            "size": 10,
                            "solidity": 0.2
                          }
                        },
                        "type": "barpolar"
                      }
                    ],
                    "carpet": [
                      {
                        "aaxis": {
                          "endlinecolor": "#2a3f5f",
                          "gridcolor": "white",
                          "linecolor": "white",
                          "minorgridcolor": "white",
                          "startlinecolor": "#2a3f5f"
                        },
                        "baxis": {
                          "endlinecolor": "#2a3f5f",
                          "gridcolor": "white",
                          "linecolor": "white",
                          "minorgridcolor": "white",
                          "startlinecolor": "#2a3f5f"
                        },
                        "type": "carpet"
                      }
                    ],
                    "choropleth": [
                      {
                        "colorbar": {
                          "outlinewidth": 0,
                          "ticks": ""
                        },
                        "type": "choropleth"
                      }
                    ],
                    "contour": [
                      {
                        "colorbar": {
                          "outlinewidth": 0,
                          "ticks": ""
                        },
                        "colorscale": [
                          [
                            0,
                            "#0d0887"
                          ],
                          [
                            0.1111111111111111,
                            "#46039f"
                          ],
                          [
                            0.2222222222222222,
                            "#7201a8"
                          ],
                          [
                            0.3333333333333333,
                            "#9c179e"
                          ],
                          [
                            0.4444444444444444,
                            "#bd3786"
                          ],
                          [
                            0.5555555555555556,
                            "#d8576b"
                          ],
                          [
                            0.6666666666666666,
                            "#ed7953"
                          ],
                          [
                            0.7777777777777778,
                            "#fb9f3a"
                          ],
                          [
                            0.8888888888888888,
                            "#fdca26"
                          ],
                          [
                            1,
                            "#f0f921"
                          ]
                        ],
                        "type": "contour"
                      }
                    ],
                    "contourcarpet": [
                      {
                        "colorbar": {
                          "outlinewidth": 0,
                          "ticks": ""
                        },
                        "type": "contourcarpet"
                      }
                    ],
                    "heatmap": [
                      {
                        "colorbar": {
                          "outlinewidth": 0,
                          "ticks": ""
                        },
                        "colorscale": [
                          [
                            0,
                            "#0d0887"
                          ],
                          [
                            0.1111111111111111,
                            "#46039f"
                          ],
                          [
                            0.2222222222222222,
                            "#7201a8"
                          ],
                          [
                            0.3333333333333333,
                            "#9c179e"
                          ],
                          [
                            0.4444444444444444,
                            "#bd3786"
                          ],
                          [
                            0.5555555555555556,
                            "#d8576b"
                          ],
                          [
                            0.6666666666666666,
                            "#ed7953"
                          ],
                          [
                            0.7777777777777778,
                            "#fb9f3a"
                          ],
                          [
                            0.8888888888888888,
                            "#fdca26"
                          ],
                          [
                            1,
                            "#f0f921"
                          ]
                        ],
                        "type": "heatmap"
                      }
                    ],
                    "heatmapgl": [
                      {
                        "colorbar": {
                          "outlinewidth": 0,
                          "ticks": ""
                        },
                        "colorscale": [
                          [
                            0,
                            "#0d0887"
                          ],
                          [
                            0.1111111111111111,
                            "#46039f"
                          ],
                          [
                            0.2222222222222222,
                            "#7201a8"
                          ],
                          [
                            0.3333333333333333,
                            "#9c179e"
                          ],
                          [
                            0.4444444444444444,
                            "#bd3786"
                          ],
                          [
                            0.5555555555555556,
                            "#d8576b"
                          ],
                          [
                            0.6666666666666666,
                            "#ed7953"
                          ],
                          [
                            0.7777777777777778,
                            "#fb9f3a"
                          ],
                          [
                            0.8888888888888888,
                            "#fdca26"
                          ],
                          [
                            1,
                            "#f0f921"
                          ]
                        ],
                        "type": "heatmapgl"
                      }
                    ],
                    "histogram": [
                      {
                        "marker": {
                          "pattern": {
                            "fillmode": "overlay",
                            "size": 10,
                            "solidity": 0.2
                          }
                        },
                        "type": "histogram"
                      }
                    ],
                    "histogram2d": [
                      {
                        "colorbar": {
                          "outlinewidth": 0,
                          "ticks": ""
                        },
                        "colorscale": [
                          [
                            0,
                            "#0d0887"
                          ],
                          [
                            0.1111111111111111,
                            "#46039f"
                          ],
                          [
                            0.2222222222222222,
                            "#7201a8"
                          ],
                          [
                            0.3333333333333333,
                            "#9c179e"
                          ],
                          [
                            0.4444444444444444,
                            "#bd3786"
                          ],
                          [
                            0.5555555555555556,
                            "#d8576b"
                          ],
                          [
                            0.6666666666666666,
                            "#ed7953"
                          ],
                          [
                            0.7777777777777778,
                            "#fb9f3a"
                          ],
                          [
                            0.8888888888888888,
                            "#fdca26"
                          ],
                          [
                            1,
                            "#f0f921"
                          ]
                        ],
                        "type": "histogram2d"
                      }
                    ],
                    "histogram2dcontour": [
                      {
                        "colorbar": {
                          "outlinewidth": 0,
                          "ticks": ""
                        },
                        "colorscale": [
                          [
                            0,
                            "#0d0887"
                          ],
                          [
                            0.1111111111111111,
                            "#46039f"
                          ],
                          [
                            0.2222222222222222,
                            "#7201a8"
                          ],
                          [
                            0.3333333333333333,
                            "#9c179e"
                          ],
                          [
                            0.4444444444444444,
                            "#bd3786"
                          ],
                          [
                            0.5555555555555556,
                            "#d8576b"
                          ],
                          [
                            0.6666666666666666,
                            "#ed7953"
                          ],
                          [
                            0.7777777777777778,
                            "#fb9f3a"
                          ],
                          [
                            0.8888888888888888,
                            "#fdca26"
                          ],
                          [
                            1,
                            "#f0f921"
                          ]
                        ],
                        "type": "histogram2dcontour"
                      }
                    ],
                    "mesh3d": [
                      {
                        "colorbar": {
                          "outlinewidth": 0,
                          "ticks": ""
                        },
                        "type": "mesh3d"
                      }
                    ],
                    "parcoords": [
                      {
                        "line": {
                          "colorbar": {
                            "outlinewidth": 0,
                            "ticks": ""
                          }
                        },
                        "type": "parcoords"
                      }
                    ],
                    "pie": [
                      {
                        "automargin": true,
                        "type": "pie"
                      }
                    ],
                    "scatter": [
                      {
                        "marker": {
                          "colorbar": {
                            "outlinewidth": 0,
                            "ticks": ""
                          }
                        },
                        "type": "scatter"
                      }
                    ],
                    "scatter3d": [
                      {
                        "line": {
                          "colorbar": {
                            "outlinewidth": 0,
                            "ticks": ""
                          }
                        },
                        "marker": {
                          "colorbar": {
                            "outlinewidth": 0,
                            "ticks": ""
                          }
                        },
                        "type": "scatter3d"
                      }
                    ],
                    "scattercarpet": [
                      {
                        "marker": {
                          "colorbar": {
                            "outlinewidth": 0,
                            "ticks": ""
                          }
                        },
                        "type": "scattercarpet"
                      }
                    ],
                    "scattergeo": [
                      {
                        "marker": {
                          "colorbar": {
                            "outlinewidth": 0,
                            "ticks": ""
                          }
                        },
                        "type": "scattergeo"
                      }
                    ],
                    "scattergl": [
                      {
                        "marker": {
                          "colorbar": {
                            "outlinewidth": 0,
                            "ticks": ""
                          }
                        },
                        "type": "scattergl"
                      }
                    ],
                    "scattermapbox": [
                      {
                        "marker": {
                          "colorbar": {
                            "outlinewidth": 0,
                            "ticks": ""
                          }
                        },
                        "type": "scattermapbox"
                      }
                    ],
                    "scatterpolar": [
                      {
                        "marker": {
                          "colorbar": {
                            "outlinewidth": 0,
                            "ticks": ""
                          }
                        },
                        "type": "scatterpolar"
                      }
                    ],
                    "scatterpolargl": [
                      {
                        "marker": {
                          "colorbar": {
                            "outlinewidth": 0,
                            "ticks": ""
                          }
                        },
                        "type": "scatterpolargl"
                      }
                    ],
                    "scatterternary": [
                      {
                        "marker": {
                          "colorbar": {
                            "outlinewidth": 0,
                            "ticks": ""
                          }
                        },
                        "type": "scatterternary"
                      }
                    ],
                    "surface": [
                      {
                        "colorbar": {
                          "outlinewidth": 0,
                          "ticks": ""
                        },
                        "colorscale": [
                          [
                            0,
                            "#0d0887"
                          ],
                          [
                            0.1111111111111111,
                            "#46039f"
                          ],
                          [
                            0.2222222222222222,
                            "#7201a8"
                          ],
                          [
                            0.3333333333333333,
                            "#9c179e"
                          ],
                          [
                            0.4444444444444444,
                            "#bd3786"
                          ],
                          [
                            0.5555555555555556,
                            "#d8576b"
                          ],
                          [
                            0.6666666666666666,
                            "#ed7953"
                          ],
                          [
                            0.7777777777777778,
                            "#fb9f3a"
                          ],
                          [
                            0.8888888888888888,
                            "#fdca26"
                          ],
                          [
                            1,
                            "#f0f921"
                          ]
                        ],
                        "type": "surface"
                      }
                    ],
                    "table": [
                      {
                        "cells": {
                          "fill": {
                            "color": "#EBF0F8"
                          },
                          "line": {
                            "color": "white"
                          }
                        },
                        "header": {
                          "fill": {
                            "color": "#C8D4E3"
                          },
                          "line": {
                            "color": "white"
                          }
                        },
                        "type": "table"
                      }
                    ]
                  },
                  "layout": {
                    "annotationdefaults": {
                      "arrowcolor": "#2a3f5f",
                      "arrowhead": 0,
                      "arrowwidth": 1
                    },
                    "autotypenumbers": "strict",
                    "coloraxis": {
                      "colorbar": {
                        "outlinewidth": 0,
                        "ticks": ""
                      }
                    },
                    "colorscale": {
                      "diverging": [
                        [
                          0,
                          "#8e0152"
                        ],
                        [
                          0.1,
                          "#c51b7d"
                        ],
                        [
                          0.2,
                          "#de77ae"
                        ],
                        [
                          0.3,
                          "#f1b6da"
                        ],
                        [
                          0.4,
                          "#fde0ef"
                        ],
                        [
                          0.5,
                          "#f7f7f7"
                        ],
                        [
                          0.6,
                          "#e6f5d0"
                        ],
                        [
                          0.7,
                          "#b8e186"
                        ],
                        [
                          0.8,
                          "#7fbc41"
                        ],
                        [
                          0.9,
                          "#4d9221"
                        ],
                        [
                          1,
                          "#276419"
                        ]
                      ],
                      "sequential": [
                        [
                          0,
                          "#0d0887"
                        ],
                        [
                          0.1111111111111111,
                          "#46039f"
                        ],
                        [
                          0.2222222222222222,
                          "#7201a8"
                        ],
                        [
                          0.3333333333333333,
                          "#9c179e"
                        ],
                        [
                          0.4444444444444444,
                          "#bd3786"
                        ],
                        [
                          0.5555555555555556,
                          "#d8576b"
                        ],
                        [
                          0.6666666666666666,
                          "#ed7953"
                        ],
                        [
                          0.7777777777777778,
                          "#fb9f3a"
                        ],
                        [
                          0.8888888888888888,
                          "#fdca26"
                        ],
                        [
                          1,
                          "#f0f921"
                        ]
                      ],
                      "sequentialminus": [
                        [
                          0,
                          "#0d0887"
                        ],
                        [
                          0.1111111111111111,
                          "#46039f"
                        ],
                        [
                          0.2222222222222222,
                          "#7201a8"
                        ],
                        [
                          0.3333333333333333,
                          "#9c179e"
                        ],
                        [
                          0.4444444444444444,
                          "#bd3786"
                        ],
                        [
                          0.5555555555555556,
                          "#d8576b"
                        ],
                        [
                          0.6666666666666666,
                          "#ed7953"
                        ],
                        [
                          0.7777777777777778,
                          "#fb9f3a"
                        ],
                        [
                          0.8888888888888888,
                          "#fdca26"
                        ],
                        [
                          1,
                          "#f0f921"
                        ]
                      ]
                    },
                    "colorway": [
                      "#636efa",
                      "#EF553B",
                      "#00cc96",
                      "#ab63fa",
                      "#FFA15A",
                      "#19d3f3",
                      "#FF6692",
                      "#B6E880",
                      "#FF97FF",
                      "#FECB52"
                    ],
                    "font": {
                      "color": "#2a3f5f"
                    },
                    "geo": {
                      "bgcolor": "white",
                      "lakecolor": "white",
                      "landcolor": "#E5ECF6",
                      "showlakes": true,
                      "showland": true,
                      "subunitcolor": "white"
                    },
                    "hoverlabel": {
                      "align": "left"
                    },
                    "hovermode": "closest",
                    "mapbox": {
                      "style": "light"
                    },
                    "paper_bgcolor": "white",
                    "plot_bgcolor": "#E5ECF6",
                    "polar": {
                      "angularaxis": {
                        "gridcolor": "white",
                        "linecolor": "white",
                        "ticks": ""
                      },
                      "bgcolor": "#E5ECF6",
                      "radialaxis": {
                        "gridcolor": "white",
                        "linecolor": "white",
                        "ticks": ""
                      }
                    },
                    "scene": {
                      "xaxis": {
                        "backgroundcolor": "#E5ECF6",
                        "gridcolor": "white",
                        "gridwidth": 2,
                        "linecolor": "white",
                        "showbackground": true,
                        "ticks": "",
                        "zerolinecolor": "white"
                      },
                      "yaxis": {
                        "backgroundcolor": "#E5ECF6",
                        "gridcolor": "white",
                        "gridwidth": 2,
                        "linecolor": "white",
                        "showbackground": true,
                        "ticks": "",
                        "zerolinecolor": "white"
                      },
                      "zaxis": {
                        "backgroundcolor": "#E5ECF6",
                        "gridcolor": "white",
                        "gridwidth": 2,
                        "linecolor": "white",
                        "showbackground": true,
                        "ticks": "",
                        "zerolinecolor": "white"
                      }
                    },
                    "shapedefaults": {
                      "line": {
                        "color": "#2a3f5f"
                      }
                    },
                    "ternary": {
                      "aaxis": {
                        "gridcolor": "white",
                        "linecolor": "white",
                        "ticks": ""
                      },
                      "baxis": {
                        "gridcolor": "white",
                        "linecolor": "white",
                        "ticks": ""
                      },
                      "bgcolor": "#E5ECF6",
                      "caxis": {
                        "gridcolor": "white",
                        "linecolor": "white",
                        "ticks": ""
                      }
                    },
                    "title": {
                      "x": 0.05
                    },
                    "xaxis": {
                      "automargin": true,
                      "gridcolor": "white",
                      "linecolor": "white",
                      "ticks": "",
                      "title": {
                        "standoff": 15
                      },
                      "zerolinecolor": "white",
                      "zerolinewidth": 2
                    },
                    "yaxis": {
                      "automargin": true,
                      "gridcolor": "white",
                      "linecolor": "white",
                      "ticks": "",
                      "title": {
                        "standoff": 15
                      },
                      "zerolinecolor": "white",
                      "zerolinewidth": 2
                    }
                  }
                },
                "width": 600,
                "xaxis": {
                  "anchor": "y",
                  "constrain": "domain",
                  "domain": [
                    0,
                    1
                  ],
                  "scaleanchor": "y",
                  "title": {
                    "text": "Predicted Value"
                  },
                  "type": "category"
                },
                "yaxis": {
                  "anchor": "x",
                  "autorange": "reversed",
                  "constrain": "domain",
                  "domain": [
                    0,
                    1
                  ],
                  "title": {
                    "text": "True value"
                  },
                  "type": "category"
                }
              }
            }
          },
          "metadata": {},
          "output_type": "display_data"
        },
        {
          "data": {
            "text/html": [
              "<br><a href=\"#summary_DETA7\" style=\"font-size: 14px\">Go to top</a>"
            ]
          },
          "metadata": {},
          "output_type": "display_data"
        },
        {
          "data": {
            "text/html": [
              "<hr style=\"background-color: #eee;border: 0 none;color: #eee;height: 4px;\">"
            ]
          },
          "metadata": {},
          "output_type": "display_data"
        },
        {
          "data": {
            "text/html": [
              "<h4 id=\"ConfusionMatrixReport-TestDataset_DETA7\">Confusion Matrix Report - Test Dataset</h4><p>Calculate the confusion matrix of the model on the given dataset. <a href=\"https://docs.deepchecks.com/0.6.1/examples/tabular/checks/performance/examples/plot_confusion_matrix_report.html?utm_source=display_output&utm_medium=referral&utm_campaign=check_link\" target=\"_blank\">Read More...</a></p><h5>Additional Outputs</h5>"
            ]
          },
          "metadata": {},
          "output_type": "display_data"
        },
        {
          "data": {
            "application/vnd.plotly.v1+json": {
              "config": {
                "plotlyServerURL": "https://plot.ly"
              },
              "data": [
                {
                  "coloraxis": "coloraxis",
                  "hovertemplate": "x: %{x}<br>y: %{y}<br>color: %{z}<extra></extra>",
                  "name": "0",
                  "texttemplate": "%{z}",
                  "type": "heatmap",
                  "x": [
                    "High",
                    "Low"
                  ],
                  "xaxis": "x",
                  "y": [
                    "High",
                    "Low"
                  ],
                  "yaxis": "y",
                  "z": [
                    [
                      92,
                      31
                    ],
                    [
                      30,
                      67
                    ]
                  ]
                }
              ],
              "layout": {
                "coloraxis": {
                  "colorscale": [
                    [
                      0,
                      "#0d0887"
                    ],
                    [
                      0.1111111111111111,
                      "#46039f"
                    ],
                    [
                      0.2222222222222222,
                      "#7201a8"
                    ],
                    [
                      0.3333333333333333,
                      "#9c179e"
                    ],
                    [
                      0.4444444444444444,
                      "#bd3786"
                    ],
                    [
                      0.5555555555555556,
                      "#d8576b"
                    ],
                    [
                      0.6666666666666666,
                      "#ed7953"
                    ],
                    [
                      0.7777777777777778,
                      "#fb9f3a"
                    ],
                    [
                      0.8888888888888888,
                      "#fdca26"
                    ],
                    [
                      1,
                      "#f0f921"
                    ]
                  ]
                },
                "height": 600,
                "margin": {
                  "t": 60
                },
                "template": {
                  "data": {
                    "bar": [
                      {
                        "error_x": {
                          "color": "#2a3f5f"
                        },
                        "error_y": {
                          "color": "#2a3f5f"
                        },
                        "marker": {
                          "line": {
                            "color": "#E5ECF6",
                            "width": 0.5
                          },
                          "pattern": {
                            "fillmode": "overlay",
                            "size": 10,
                            "solidity": 0.2
                          }
                        },
                        "type": "bar"
                      }
                    ],
                    "barpolar": [
                      {
                        "marker": {
                          "line": {
                            "color": "#E5ECF6",
                            "width": 0.5
                          },
                          "pattern": {
                            "fillmode": "overlay",
                            "size": 10,
                            "solidity": 0.2
                          }
                        },
                        "type": "barpolar"
                      }
                    ],
                    "carpet": [
                      {
                        "aaxis": {
                          "endlinecolor": "#2a3f5f",
                          "gridcolor": "white",
                          "linecolor": "white",
                          "minorgridcolor": "white",
                          "startlinecolor": "#2a3f5f"
                        },
                        "baxis": {
                          "endlinecolor": "#2a3f5f",
                          "gridcolor": "white",
                          "linecolor": "white",
                          "minorgridcolor": "white",
                          "startlinecolor": "#2a3f5f"
                        },
                        "type": "carpet"
                      }
                    ],
                    "choropleth": [
                      {
                        "colorbar": {
                          "outlinewidth": 0,
                          "ticks": ""
                        },
                        "type": "choropleth"
                      }
                    ],
                    "contour": [
                      {
                        "colorbar": {
                          "outlinewidth": 0,
                          "ticks": ""
                        },
                        "colorscale": [
                          [
                            0,
                            "#0d0887"
                          ],
                          [
                            0.1111111111111111,
                            "#46039f"
                          ],
                          [
                            0.2222222222222222,
                            "#7201a8"
                          ],
                          [
                            0.3333333333333333,
                            "#9c179e"
                          ],
                          [
                            0.4444444444444444,
                            "#bd3786"
                          ],
                          [
                            0.5555555555555556,
                            "#d8576b"
                          ],
                          [
                            0.6666666666666666,
                            "#ed7953"
                          ],
                          [
                            0.7777777777777778,
                            "#fb9f3a"
                          ],
                          [
                            0.8888888888888888,
                            "#fdca26"
                          ],
                          [
                            1,
                            "#f0f921"
                          ]
                        ],
                        "type": "contour"
                      }
                    ],
                    "contourcarpet": [
                      {
                        "colorbar": {
                          "outlinewidth": 0,
                          "ticks": ""
                        },
                        "type": "contourcarpet"
                      }
                    ],
                    "heatmap": [
                      {
                        "colorbar": {
                          "outlinewidth": 0,
                          "ticks": ""
                        },
                        "colorscale": [
                          [
                            0,
                            "#0d0887"
                          ],
                          [
                            0.1111111111111111,
                            "#46039f"
                          ],
                          [
                            0.2222222222222222,
                            "#7201a8"
                          ],
                          [
                            0.3333333333333333,
                            "#9c179e"
                          ],
                          [
                            0.4444444444444444,
                            "#bd3786"
                          ],
                          [
                            0.5555555555555556,
                            "#d8576b"
                          ],
                          [
                            0.6666666666666666,
                            "#ed7953"
                          ],
                          [
                            0.7777777777777778,
                            "#fb9f3a"
                          ],
                          [
                            0.8888888888888888,
                            "#fdca26"
                          ],
                          [
                            1,
                            "#f0f921"
                          ]
                        ],
                        "type": "heatmap"
                      }
                    ],
                    "heatmapgl": [
                      {
                        "colorbar": {
                          "outlinewidth": 0,
                          "ticks": ""
                        },
                        "colorscale": [
                          [
                            0,
                            "#0d0887"
                          ],
                          [
                            0.1111111111111111,
                            "#46039f"
                          ],
                          [
                            0.2222222222222222,
                            "#7201a8"
                          ],
                          [
                            0.3333333333333333,
                            "#9c179e"
                          ],
                          [
                            0.4444444444444444,
                            "#bd3786"
                          ],
                          [
                            0.5555555555555556,
                            "#d8576b"
                          ],
                          [
                            0.6666666666666666,
                            "#ed7953"
                          ],
                          [
                            0.7777777777777778,
                            "#fb9f3a"
                          ],
                          [
                            0.8888888888888888,
                            "#fdca26"
                          ],
                          [
                            1,
                            "#f0f921"
                          ]
                        ],
                        "type": "heatmapgl"
                      }
                    ],
                    "histogram": [
                      {
                        "marker": {
                          "pattern": {
                            "fillmode": "overlay",
                            "size": 10,
                            "solidity": 0.2
                          }
                        },
                        "type": "histogram"
                      }
                    ],
                    "histogram2d": [
                      {
                        "colorbar": {
                          "outlinewidth": 0,
                          "ticks": ""
                        },
                        "colorscale": [
                          [
                            0,
                            "#0d0887"
                          ],
                          [
                            0.1111111111111111,
                            "#46039f"
                          ],
                          [
                            0.2222222222222222,
                            "#7201a8"
                          ],
                          [
                            0.3333333333333333,
                            "#9c179e"
                          ],
                          [
                            0.4444444444444444,
                            "#bd3786"
                          ],
                          [
                            0.5555555555555556,
                            "#d8576b"
                          ],
                          [
                            0.6666666666666666,
                            "#ed7953"
                          ],
                          [
                            0.7777777777777778,
                            "#fb9f3a"
                          ],
                          [
                            0.8888888888888888,
                            "#fdca26"
                          ],
                          [
                            1,
                            "#f0f921"
                          ]
                        ],
                        "type": "histogram2d"
                      }
                    ],
                    "histogram2dcontour": [
                      {
                        "colorbar": {
                          "outlinewidth": 0,
                          "ticks": ""
                        },
                        "colorscale": [
                          [
                            0,
                            "#0d0887"
                          ],
                          [
                            0.1111111111111111,
                            "#46039f"
                          ],
                          [
                            0.2222222222222222,
                            "#7201a8"
                          ],
                          [
                            0.3333333333333333,
                            "#9c179e"
                          ],
                          [
                            0.4444444444444444,
                            "#bd3786"
                          ],
                          [
                            0.5555555555555556,
                            "#d8576b"
                          ],
                          [
                            0.6666666666666666,
                            "#ed7953"
                          ],
                          [
                            0.7777777777777778,
                            "#fb9f3a"
                          ],
                          [
                            0.8888888888888888,
                            "#fdca26"
                          ],
                          [
                            1,
                            "#f0f921"
                          ]
                        ],
                        "type": "histogram2dcontour"
                      }
                    ],
                    "mesh3d": [
                      {
                        "colorbar": {
                          "outlinewidth": 0,
                          "ticks": ""
                        },
                        "type": "mesh3d"
                      }
                    ],
                    "parcoords": [
                      {
                        "line": {
                          "colorbar": {
                            "outlinewidth": 0,
                            "ticks": ""
                          }
                        },
                        "type": "parcoords"
                      }
                    ],
                    "pie": [
                      {
                        "automargin": true,
                        "type": "pie"
                      }
                    ],
                    "scatter": [
                      {
                        "marker": {
                          "colorbar": {
                            "outlinewidth": 0,
                            "ticks": ""
                          }
                        },
                        "type": "scatter"
                      }
                    ],
                    "scatter3d": [
                      {
                        "line": {
                          "colorbar": {
                            "outlinewidth": 0,
                            "ticks": ""
                          }
                        },
                        "marker": {
                          "colorbar": {
                            "outlinewidth": 0,
                            "ticks": ""
                          }
                        },
                        "type": "scatter3d"
                      }
                    ],
                    "scattercarpet": [
                      {
                        "marker": {
                          "colorbar": {
                            "outlinewidth": 0,
                            "ticks": ""
                          }
                        },
                        "type": "scattercarpet"
                      }
                    ],
                    "scattergeo": [
                      {
                        "marker": {
                          "colorbar": {
                            "outlinewidth": 0,
                            "ticks": ""
                          }
                        },
                        "type": "scattergeo"
                      }
                    ],
                    "scattergl": [
                      {
                        "marker": {
                          "colorbar": {
                            "outlinewidth": 0,
                            "ticks": ""
                          }
                        },
                        "type": "scattergl"
                      }
                    ],
                    "scattermapbox": [
                      {
                        "marker": {
                          "colorbar": {
                            "outlinewidth": 0,
                            "ticks": ""
                          }
                        },
                        "type": "scattermapbox"
                      }
                    ],
                    "scatterpolar": [
                      {
                        "marker": {
                          "colorbar": {
                            "outlinewidth": 0,
                            "ticks": ""
                          }
                        },
                        "type": "scatterpolar"
                      }
                    ],
                    "scatterpolargl": [
                      {
                        "marker": {
                          "colorbar": {
                            "outlinewidth": 0,
                            "ticks": ""
                          }
                        },
                        "type": "scatterpolargl"
                      }
                    ],
                    "scatterternary": [
                      {
                        "marker": {
                          "colorbar": {
                            "outlinewidth": 0,
                            "ticks": ""
                          }
                        },
                        "type": "scatterternary"
                      }
                    ],
                    "surface": [
                      {
                        "colorbar": {
                          "outlinewidth": 0,
                          "ticks": ""
                        },
                        "colorscale": [
                          [
                            0,
                            "#0d0887"
                          ],
                          [
                            0.1111111111111111,
                            "#46039f"
                          ],
                          [
                            0.2222222222222222,
                            "#7201a8"
                          ],
                          [
                            0.3333333333333333,
                            "#9c179e"
                          ],
                          [
                            0.4444444444444444,
                            "#bd3786"
                          ],
                          [
                            0.5555555555555556,
                            "#d8576b"
                          ],
                          [
                            0.6666666666666666,
                            "#ed7953"
                          ],
                          [
                            0.7777777777777778,
                            "#fb9f3a"
                          ],
                          [
                            0.8888888888888888,
                            "#fdca26"
                          ],
                          [
                            1,
                            "#f0f921"
                          ]
                        ],
                        "type": "surface"
                      }
                    ],
                    "table": [
                      {
                        "cells": {
                          "fill": {
                            "color": "#EBF0F8"
                          },
                          "line": {
                            "color": "white"
                          }
                        },
                        "header": {
                          "fill": {
                            "color": "#C8D4E3"
                          },
                          "line": {
                            "color": "white"
                          }
                        },
                        "type": "table"
                      }
                    ]
                  },
                  "layout": {
                    "annotationdefaults": {
                      "arrowcolor": "#2a3f5f",
                      "arrowhead": 0,
                      "arrowwidth": 1
                    },
                    "autotypenumbers": "strict",
                    "coloraxis": {
                      "colorbar": {
                        "outlinewidth": 0,
                        "ticks": ""
                      }
                    },
                    "colorscale": {
                      "diverging": [
                        [
                          0,
                          "#8e0152"
                        ],
                        [
                          0.1,
                          "#c51b7d"
                        ],
                        [
                          0.2,
                          "#de77ae"
                        ],
                        [
                          0.3,
                          "#f1b6da"
                        ],
                        [
                          0.4,
                          "#fde0ef"
                        ],
                        [
                          0.5,
                          "#f7f7f7"
                        ],
                        [
                          0.6,
                          "#e6f5d0"
                        ],
                        [
                          0.7,
                          "#b8e186"
                        ],
                        [
                          0.8,
                          "#7fbc41"
                        ],
                        [
                          0.9,
                          "#4d9221"
                        ],
                        [
                          1,
                          "#276419"
                        ]
                      ],
                      "sequential": [
                        [
                          0,
                          "#0d0887"
                        ],
                        [
                          0.1111111111111111,
                          "#46039f"
                        ],
                        [
                          0.2222222222222222,
                          "#7201a8"
                        ],
                        [
                          0.3333333333333333,
                          "#9c179e"
                        ],
                        [
                          0.4444444444444444,
                          "#bd3786"
                        ],
                        [
                          0.5555555555555556,
                          "#d8576b"
                        ],
                        [
                          0.6666666666666666,
                          "#ed7953"
                        ],
                        [
                          0.7777777777777778,
                          "#fb9f3a"
                        ],
                        [
                          0.8888888888888888,
                          "#fdca26"
                        ],
                        [
                          1,
                          "#f0f921"
                        ]
                      ],
                      "sequentialminus": [
                        [
                          0,
                          "#0d0887"
                        ],
                        [
                          0.1111111111111111,
                          "#46039f"
                        ],
                        [
                          0.2222222222222222,
                          "#7201a8"
                        ],
                        [
                          0.3333333333333333,
                          "#9c179e"
                        ],
                        [
                          0.4444444444444444,
                          "#bd3786"
                        ],
                        [
                          0.5555555555555556,
                          "#d8576b"
                        ],
                        [
                          0.6666666666666666,
                          "#ed7953"
                        ],
                        [
                          0.7777777777777778,
                          "#fb9f3a"
                        ],
                        [
                          0.8888888888888888,
                          "#fdca26"
                        ],
                        [
                          1,
                          "#f0f921"
                        ]
                      ]
                    },
                    "colorway": [
                      "#636efa",
                      "#EF553B",
                      "#00cc96",
                      "#ab63fa",
                      "#FFA15A",
                      "#19d3f3",
                      "#FF6692",
                      "#B6E880",
                      "#FF97FF",
                      "#FECB52"
                    ],
                    "font": {
                      "color": "#2a3f5f"
                    },
                    "geo": {
                      "bgcolor": "white",
                      "lakecolor": "white",
                      "landcolor": "#E5ECF6",
                      "showlakes": true,
                      "showland": true,
                      "subunitcolor": "white"
                    },
                    "hoverlabel": {
                      "align": "left"
                    },
                    "hovermode": "closest",
                    "mapbox": {
                      "style": "light"
                    },
                    "paper_bgcolor": "white",
                    "plot_bgcolor": "#E5ECF6",
                    "polar": {
                      "angularaxis": {
                        "gridcolor": "white",
                        "linecolor": "white",
                        "ticks": ""
                      },
                      "bgcolor": "#E5ECF6",
                      "radialaxis": {
                        "gridcolor": "white",
                        "linecolor": "white",
                        "ticks": ""
                      }
                    },
                    "scene": {
                      "xaxis": {
                        "backgroundcolor": "#E5ECF6",
                        "gridcolor": "white",
                        "gridwidth": 2,
                        "linecolor": "white",
                        "showbackground": true,
                        "ticks": "",
                        "zerolinecolor": "white"
                      },
                      "yaxis": {
                        "backgroundcolor": "#E5ECF6",
                        "gridcolor": "white",
                        "gridwidth": 2,
                        "linecolor": "white",
                        "showbackground": true,
                        "ticks": "",
                        "zerolinecolor": "white"
                      },
                      "zaxis": {
                        "backgroundcolor": "#E5ECF6",
                        "gridcolor": "white",
                        "gridwidth": 2,
                        "linecolor": "white",
                        "showbackground": true,
                        "ticks": "",
                        "zerolinecolor": "white"
                      }
                    },
                    "shapedefaults": {
                      "line": {
                        "color": "#2a3f5f"
                      }
                    },
                    "ternary": {
                      "aaxis": {
                        "gridcolor": "white",
                        "linecolor": "white",
                        "ticks": ""
                      },
                      "baxis": {
                        "gridcolor": "white",
                        "linecolor": "white",
                        "ticks": ""
                      },
                      "bgcolor": "#E5ECF6",
                      "caxis": {
                        "gridcolor": "white",
                        "linecolor": "white",
                        "ticks": ""
                      }
                    },
                    "title": {
                      "x": 0.05
                    },
                    "xaxis": {
                      "automargin": true,
                      "gridcolor": "white",
                      "linecolor": "white",
                      "ticks": "",
                      "title": {
                        "standoff": 15
                      },
                      "zerolinecolor": "white",
                      "zerolinewidth": 2
                    },
                    "yaxis": {
                      "automargin": true,
                      "gridcolor": "white",
                      "linecolor": "white",
                      "ticks": "",
                      "title": {
                        "standoff": 15
                      },
                      "zerolinecolor": "white",
                      "zerolinewidth": 2
                    }
                  }
                },
                "width": 600,
                "xaxis": {
                  "anchor": "y",
                  "constrain": "domain",
                  "domain": [
                    0,
                    1
                  ],
                  "scaleanchor": "y",
                  "title": {
                    "text": "Predicted Value"
                  },
                  "type": "category"
                },
                "yaxis": {
                  "anchor": "x",
                  "autorange": "reversed",
                  "constrain": "domain",
                  "domain": [
                    0,
                    1
                  ],
                  "title": {
                    "text": "True value"
                  },
                  "type": "category"
                }
              }
            }
          },
          "metadata": {},
          "output_type": "display_data"
        },
        {
          "data": {
            "text/html": [
              "<br><a href=\"#summary_DETA7\" style=\"font-size: 14px\">Go to top</a>"
            ]
          },
          "metadata": {},
          "output_type": "display_data"
        },
        {
          "data": {
            "text/html": [
              "<hr style=\"background-color: #eee;border: 0 none;color: #eee;height: 4px;\">"
            ]
          },
          "metadata": {},
          "output_type": "display_data"
        },
        {
          "data": {
            "text/html": [
              "<h4 id=\"CalibrationMetric-TrainDataset_DETA7\">Calibration Metric - Train Dataset</h4><p>Calculate the calibration curve with brier score for each class. <a href=\"https://docs.deepchecks.com/0.6.1/examples/tabular/checks/performance/examples/plot_calibration_score.html?utm_source=display_output&utm_medium=referral&utm_campaign=check_link\" target=\"_blank\">Read More...</a></p><h5>Additional Outputs</h5><div>Calibration curves (also known as reliability diagrams) compare how well the probabilistic predictions of a binary classifier are calibrated. It plots the true frequency of the positive label against its predicted probability, for binned predictions.</div>"
            ]
          },
          "metadata": {},
          "output_type": "display_data"
        },
        {
          "data": {
            "application/vnd.plotly.v1+json": {
              "config": {
                "plotlyServerURL": "https://plot.ly"
              },
              "data": [
                {
                  "line": {
                    "dash": "dash",
                    "width": 2
                  },
                  "name": "Perfectly calibrated",
                  "type": "scatter",
                  "x": [
                    0,
                    1
                  ],
                  "y": [
                    0,
                    1
                  ]
                },
                {
                  "mode": "lines+markers",
                  "name": "(brier:   0.0865)",
                  "type": "scatter",
                  "x": [
                    0.042558558325567424,
                    0.15176592342310158,
                    0.24720507847011441,
                    0.3546481842328245,
                    0.45566865602854323,
                    0.5494167806081943,
                    0.6530277447043632,
                    0.7524254629262401,
                    0.8552553820060035,
                    0.9392069157407755
                  ],
                  "y": [
                    0,
                    0.0975609756097561,
                    0.12244897959183673,
                    0.16666666666666666,
                    0.41025641025641024,
                    0.6086956521739131,
                    0.7142857142857143,
                    0.75,
                    0.9848484848484849,
                    1
                  ]
                }
              ],
              "layout": {
                "height": 500,
                "template": {
                  "data": {
                    "bar": [
                      {
                        "error_x": {
                          "color": "#2a3f5f"
                        },
                        "error_y": {
                          "color": "#2a3f5f"
                        },
                        "marker": {
                          "line": {
                            "color": "#E5ECF6",
                            "width": 0.5
                          },
                          "pattern": {
                            "fillmode": "overlay",
                            "size": 10,
                            "solidity": 0.2
                          }
                        },
                        "type": "bar"
                      }
                    ],
                    "barpolar": [
                      {
                        "marker": {
                          "line": {
                            "color": "#E5ECF6",
                            "width": 0.5
                          },
                          "pattern": {
                            "fillmode": "overlay",
                            "size": 10,
                            "solidity": 0.2
                          }
                        },
                        "type": "barpolar"
                      }
                    ],
                    "carpet": [
                      {
                        "aaxis": {
                          "endlinecolor": "#2a3f5f",
                          "gridcolor": "white",
                          "linecolor": "white",
                          "minorgridcolor": "white",
                          "startlinecolor": "#2a3f5f"
                        },
                        "baxis": {
                          "endlinecolor": "#2a3f5f",
                          "gridcolor": "white",
                          "linecolor": "white",
                          "minorgridcolor": "white",
                          "startlinecolor": "#2a3f5f"
                        },
                        "type": "carpet"
                      }
                    ],
                    "choropleth": [
                      {
                        "colorbar": {
                          "outlinewidth": 0,
                          "ticks": ""
                        },
                        "type": "choropleth"
                      }
                    ],
                    "contour": [
                      {
                        "colorbar": {
                          "outlinewidth": 0,
                          "ticks": ""
                        },
                        "colorscale": [
                          [
                            0,
                            "#0d0887"
                          ],
                          [
                            0.1111111111111111,
                            "#46039f"
                          ],
                          [
                            0.2222222222222222,
                            "#7201a8"
                          ],
                          [
                            0.3333333333333333,
                            "#9c179e"
                          ],
                          [
                            0.4444444444444444,
                            "#bd3786"
                          ],
                          [
                            0.5555555555555556,
                            "#d8576b"
                          ],
                          [
                            0.6666666666666666,
                            "#ed7953"
                          ],
                          [
                            0.7777777777777778,
                            "#fb9f3a"
                          ],
                          [
                            0.8888888888888888,
                            "#fdca26"
                          ],
                          [
                            1,
                            "#f0f921"
                          ]
                        ],
                        "type": "contour"
                      }
                    ],
                    "contourcarpet": [
                      {
                        "colorbar": {
                          "outlinewidth": 0,
                          "ticks": ""
                        },
                        "type": "contourcarpet"
                      }
                    ],
                    "heatmap": [
                      {
                        "colorbar": {
                          "outlinewidth": 0,
                          "ticks": ""
                        },
                        "colorscale": [
                          [
                            0,
                            "#0d0887"
                          ],
                          [
                            0.1111111111111111,
                            "#46039f"
                          ],
                          [
                            0.2222222222222222,
                            "#7201a8"
                          ],
                          [
                            0.3333333333333333,
                            "#9c179e"
                          ],
                          [
                            0.4444444444444444,
                            "#bd3786"
                          ],
                          [
                            0.5555555555555556,
                            "#d8576b"
                          ],
                          [
                            0.6666666666666666,
                            "#ed7953"
                          ],
                          [
                            0.7777777777777778,
                            "#fb9f3a"
                          ],
                          [
                            0.8888888888888888,
                            "#fdca26"
                          ],
                          [
                            1,
                            "#f0f921"
                          ]
                        ],
                        "type": "heatmap"
                      }
                    ],
                    "heatmapgl": [
                      {
                        "colorbar": {
                          "outlinewidth": 0,
                          "ticks": ""
                        },
                        "colorscale": [
                          [
                            0,
                            "#0d0887"
                          ],
                          [
                            0.1111111111111111,
                            "#46039f"
                          ],
                          [
                            0.2222222222222222,
                            "#7201a8"
                          ],
                          [
                            0.3333333333333333,
                            "#9c179e"
                          ],
                          [
                            0.4444444444444444,
                            "#bd3786"
                          ],
                          [
                            0.5555555555555556,
                            "#d8576b"
                          ],
                          [
                            0.6666666666666666,
                            "#ed7953"
                          ],
                          [
                            0.7777777777777778,
                            "#fb9f3a"
                          ],
                          [
                            0.8888888888888888,
                            "#fdca26"
                          ],
                          [
                            1,
                            "#f0f921"
                          ]
                        ],
                        "type": "heatmapgl"
                      }
                    ],
                    "histogram": [
                      {
                        "marker": {
                          "pattern": {
                            "fillmode": "overlay",
                            "size": 10,
                            "solidity": 0.2
                          }
                        },
                        "type": "histogram"
                      }
                    ],
                    "histogram2d": [
                      {
                        "colorbar": {
                          "outlinewidth": 0,
                          "ticks": ""
                        },
                        "colorscale": [
                          [
                            0,
                            "#0d0887"
                          ],
                          [
                            0.1111111111111111,
                            "#46039f"
                          ],
                          [
                            0.2222222222222222,
                            "#7201a8"
                          ],
                          [
                            0.3333333333333333,
                            "#9c179e"
                          ],
                          [
                            0.4444444444444444,
                            "#bd3786"
                          ],
                          [
                            0.5555555555555556,
                            "#d8576b"
                          ],
                          [
                            0.6666666666666666,
                            "#ed7953"
                          ],
                          [
                            0.7777777777777778,
                            "#fb9f3a"
                          ],
                          [
                            0.8888888888888888,
                            "#fdca26"
                          ],
                          [
                            1,
                            "#f0f921"
                          ]
                        ],
                        "type": "histogram2d"
                      }
                    ],
                    "histogram2dcontour": [
                      {
                        "colorbar": {
                          "outlinewidth": 0,
                          "ticks": ""
                        },
                        "colorscale": [
                          [
                            0,
                            "#0d0887"
                          ],
                          [
                            0.1111111111111111,
                            "#46039f"
                          ],
                          [
                            0.2222222222222222,
                            "#7201a8"
                          ],
                          [
                            0.3333333333333333,
                            "#9c179e"
                          ],
                          [
                            0.4444444444444444,
                            "#bd3786"
                          ],
                          [
                            0.5555555555555556,
                            "#d8576b"
                          ],
                          [
                            0.6666666666666666,
                            "#ed7953"
                          ],
                          [
                            0.7777777777777778,
                            "#fb9f3a"
                          ],
                          [
                            0.8888888888888888,
                            "#fdca26"
                          ],
                          [
                            1,
                            "#f0f921"
                          ]
                        ],
                        "type": "histogram2dcontour"
                      }
                    ],
                    "mesh3d": [
                      {
                        "colorbar": {
                          "outlinewidth": 0,
                          "ticks": ""
                        },
                        "type": "mesh3d"
                      }
                    ],
                    "parcoords": [
                      {
                        "line": {
                          "colorbar": {
                            "outlinewidth": 0,
                            "ticks": ""
                          }
                        },
                        "type": "parcoords"
                      }
                    ],
                    "pie": [
                      {
                        "automargin": true,
                        "type": "pie"
                      }
                    ],
                    "scatter": [
                      {
                        "marker": {
                          "colorbar": {
                            "outlinewidth": 0,
                            "ticks": ""
                          }
                        },
                        "type": "scatter"
                      }
                    ],
                    "scatter3d": [
                      {
                        "line": {
                          "colorbar": {
                            "outlinewidth": 0,
                            "ticks": ""
                          }
                        },
                        "marker": {
                          "colorbar": {
                            "outlinewidth": 0,
                            "ticks": ""
                          }
                        },
                        "type": "scatter3d"
                      }
                    ],
                    "scattercarpet": [
                      {
                        "marker": {
                          "colorbar": {
                            "outlinewidth": 0,
                            "ticks": ""
                          }
                        },
                        "type": "scattercarpet"
                      }
                    ],
                    "scattergeo": [
                      {
                        "marker": {
                          "colorbar": {
                            "outlinewidth": 0,
                            "ticks": ""
                          }
                        },
                        "type": "scattergeo"
                      }
                    ],
                    "scattergl": [
                      {
                        "marker": {
                          "colorbar": {
                            "outlinewidth": 0,
                            "ticks": ""
                          }
                        },
                        "type": "scattergl"
                      }
                    ],
                    "scattermapbox": [
                      {
                        "marker": {
                          "colorbar": {
                            "outlinewidth": 0,
                            "ticks": ""
                          }
                        },
                        "type": "scattermapbox"
                      }
                    ],
                    "scatterpolar": [
                      {
                        "marker": {
                          "colorbar": {
                            "outlinewidth": 0,
                            "ticks": ""
                          }
                        },
                        "type": "scatterpolar"
                      }
                    ],
                    "scatterpolargl": [
                      {
                        "marker": {
                          "colorbar": {
                            "outlinewidth": 0,
                            "ticks": ""
                          }
                        },
                        "type": "scatterpolargl"
                      }
                    ],
                    "scatterternary": [
                      {
                        "marker": {
                          "colorbar": {
                            "outlinewidth": 0,
                            "ticks": ""
                          }
                        },
                        "type": "scatterternary"
                      }
                    ],
                    "surface": [
                      {
                        "colorbar": {
                          "outlinewidth": 0,
                          "ticks": ""
                        },
                        "colorscale": [
                          [
                            0,
                            "#0d0887"
                          ],
                          [
                            0.1111111111111111,
                            "#46039f"
                          ],
                          [
                            0.2222222222222222,
                            "#7201a8"
                          ],
                          [
                            0.3333333333333333,
                            "#9c179e"
                          ],
                          [
                            0.4444444444444444,
                            "#bd3786"
                          ],
                          [
                            0.5555555555555556,
                            "#d8576b"
                          ],
                          [
                            0.6666666666666666,
                            "#ed7953"
                          ],
                          [
                            0.7777777777777778,
                            "#fb9f3a"
                          ],
                          [
                            0.8888888888888888,
                            "#fdca26"
                          ],
                          [
                            1,
                            "#f0f921"
                          ]
                        ],
                        "type": "surface"
                      }
                    ],
                    "table": [
                      {
                        "cells": {
                          "fill": {
                            "color": "#EBF0F8"
                          },
                          "line": {
                            "color": "white"
                          }
                        },
                        "header": {
                          "fill": {
                            "color": "#C8D4E3"
                          },
                          "line": {
                            "color": "white"
                          }
                        },
                        "type": "table"
                      }
                    ]
                  },
                  "layout": {
                    "annotationdefaults": {
                      "arrowcolor": "#2a3f5f",
                      "arrowhead": 0,
                      "arrowwidth": 1
                    },
                    "autotypenumbers": "strict",
                    "coloraxis": {
                      "colorbar": {
                        "outlinewidth": 0,
                        "ticks": ""
                      }
                    },
                    "colorscale": {
                      "diverging": [
                        [
                          0,
                          "#8e0152"
                        ],
                        [
                          0.1,
                          "#c51b7d"
                        ],
                        [
                          0.2,
                          "#de77ae"
                        ],
                        [
                          0.3,
                          "#f1b6da"
                        ],
                        [
                          0.4,
                          "#fde0ef"
                        ],
                        [
                          0.5,
                          "#f7f7f7"
                        ],
                        [
                          0.6,
                          "#e6f5d0"
                        ],
                        [
                          0.7,
                          "#b8e186"
                        ],
                        [
                          0.8,
                          "#7fbc41"
                        ],
                        [
                          0.9,
                          "#4d9221"
                        ],
                        [
                          1,
                          "#276419"
                        ]
                      ],
                      "sequential": [
                        [
                          0,
                          "#0d0887"
                        ],
                        [
                          0.1111111111111111,
                          "#46039f"
                        ],
                        [
                          0.2222222222222222,
                          "#7201a8"
                        ],
                        [
                          0.3333333333333333,
                          "#9c179e"
                        ],
                        [
                          0.4444444444444444,
                          "#bd3786"
                        ],
                        [
                          0.5555555555555556,
                          "#d8576b"
                        ],
                        [
                          0.6666666666666666,
                          "#ed7953"
                        ],
                        [
                          0.7777777777777778,
                          "#fb9f3a"
                        ],
                        [
                          0.8888888888888888,
                          "#fdca26"
                        ],
                        [
                          1,
                          "#f0f921"
                        ]
                      ],
                      "sequentialminus": [
                        [
                          0,
                          "#0d0887"
                        ],
                        [
                          0.1111111111111111,
                          "#46039f"
                        ],
                        [
                          0.2222222222222222,
                          "#7201a8"
                        ],
                        [
                          0.3333333333333333,
                          "#9c179e"
                        ],
                        [
                          0.4444444444444444,
                          "#bd3786"
                        ],
                        [
                          0.5555555555555556,
                          "#d8576b"
                        ],
                        [
                          0.6666666666666666,
                          "#ed7953"
                        ],
                        [
                          0.7777777777777778,
                          "#fb9f3a"
                        ],
                        [
                          0.8888888888888888,
                          "#fdca26"
                        ],
                        [
                          1,
                          "#f0f921"
                        ]
                      ]
                    },
                    "colorway": [
                      "#636efa",
                      "#EF553B",
                      "#00cc96",
                      "#ab63fa",
                      "#FFA15A",
                      "#19d3f3",
                      "#FF6692",
                      "#B6E880",
                      "#FF97FF",
                      "#FECB52"
                    ],
                    "font": {
                      "color": "#2a3f5f"
                    },
                    "geo": {
                      "bgcolor": "white",
                      "lakecolor": "white",
                      "landcolor": "#E5ECF6",
                      "showlakes": true,
                      "showland": true,
                      "subunitcolor": "white"
                    },
                    "hoverlabel": {
                      "align": "left"
                    },
                    "hovermode": "closest",
                    "mapbox": {
                      "style": "light"
                    },
                    "paper_bgcolor": "white",
                    "plot_bgcolor": "#E5ECF6",
                    "polar": {
                      "angularaxis": {
                        "gridcolor": "white",
                        "linecolor": "white",
                        "ticks": ""
                      },
                      "bgcolor": "#E5ECF6",
                      "radialaxis": {
                        "gridcolor": "white",
                        "linecolor": "white",
                        "ticks": ""
                      }
                    },
                    "scene": {
                      "xaxis": {
                        "backgroundcolor": "#E5ECF6",
                        "gridcolor": "white",
                        "gridwidth": 2,
                        "linecolor": "white",
                        "showbackground": true,
                        "ticks": "",
                        "zerolinecolor": "white"
                      },
                      "yaxis": {
                        "backgroundcolor": "#E5ECF6",
                        "gridcolor": "white",
                        "gridwidth": 2,
                        "linecolor": "white",
                        "showbackground": true,
                        "ticks": "",
                        "zerolinecolor": "white"
                      },
                      "zaxis": {
                        "backgroundcolor": "#E5ECF6",
                        "gridcolor": "white",
                        "gridwidth": 2,
                        "linecolor": "white",
                        "showbackground": true,
                        "ticks": "",
                        "zerolinecolor": "white"
                      }
                    },
                    "shapedefaults": {
                      "line": {
                        "color": "#2a3f5f"
                      }
                    },
                    "ternary": {
                      "aaxis": {
                        "gridcolor": "white",
                        "linecolor": "white",
                        "ticks": ""
                      },
                      "baxis": {
                        "gridcolor": "white",
                        "linecolor": "white",
                        "ticks": ""
                      },
                      "bgcolor": "#E5ECF6",
                      "caxis": {
                        "gridcolor": "white",
                        "linecolor": "white",
                        "ticks": ""
                      }
                    },
                    "title": {
                      "x": 0.05
                    },
                    "xaxis": {
                      "automargin": true,
                      "gridcolor": "white",
                      "linecolor": "white",
                      "ticks": "",
                      "title": {
                        "standoff": 15
                      },
                      "zerolinecolor": "white",
                      "zerolinewidth": 2
                    },
                    "yaxis": {
                      "automargin": true,
                      "gridcolor": "white",
                      "linecolor": "white",
                      "ticks": "",
                      "title": {
                        "standoff": 15
                      },
                      "zerolinecolor": "white",
                      "zerolinewidth": 2
                    }
                  }
                },
                "title": {
                  "text": "Calibration plots (reliability curve)"
                },
                "width": 700,
                "xaxis": {
                  "title": {
                    "text": "Mean predicted value"
                  }
                },
                "yaxis": {
                  "title": {
                    "text": "Fraction of positives"
                  }
                }
              }
            }
          },
          "metadata": {},
          "output_type": "display_data"
        },
        {
          "data": {
            "text/html": [
              "<div>The Brier score metric may be used to assess how well a classifier is calibrated. For more info, please visit https://en.wikipedia.org/wiki/Brier_score</div><br><a href=\"#summary_DETA7\" style=\"font-size: 14px\">Go to top</a>"
            ]
          },
          "metadata": {},
          "output_type": "display_data"
        },
        {
          "data": {
            "text/html": [
              "<hr style=\"background-color: #eee;border: 0 none;color: #eee;height: 4px;\">"
            ]
          },
          "metadata": {},
          "output_type": "display_data"
        },
        {
          "data": {
            "text/html": [
              "<h4 id=\"CalibrationMetric-TestDataset_DETA7\">Calibration Metric - Test Dataset</h4><p>Calculate the calibration curve with brier score for each class. <a href=\"https://docs.deepchecks.com/0.6.1/examples/tabular/checks/performance/examples/plot_calibration_score.html?utm_source=display_output&utm_medium=referral&utm_campaign=check_link\" target=\"_blank\">Read More...</a></p><h5>Additional Outputs</h5><div>Calibration curves (also known as reliability diagrams) compare how well the probabilistic predictions of a binary classifier are calibrated. It plots the true frequency of the positive label against its predicted probability, for binned predictions.</div>"
            ]
          },
          "metadata": {},
          "output_type": "display_data"
        },
        {
          "data": {
            "application/vnd.plotly.v1+json": {
              "config": {
                "plotlyServerURL": "https://plot.ly"
              },
              "data": [
                {
                  "line": {
                    "dash": "dash",
                    "width": 2
                  },
                  "name": "Perfectly calibrated",
                  "type": "scatter",
                  "x": [
                    0,
                    1
                  ],
                  "y": [
                    0,
                    1
                  ]
                },
                {
                  "mode": "lines+markers",
                  "name": "(brier:   0.2020)",
                  "type": "scatter",
                  "x": [
                    0.0466191099362578,
                    0.14933672026746536,
                    0.2476280740675975,
                    0.34789291489307855,
                    0.41484199260485044,
                    0.5668051155019783,
                    0.6485085807098483,
                    0.7568318294014115,
                    0.8468745753173909,
                    0.9384911324311054
                  ],
                  "y": [
                    0.13725490196078433,
                    0.28125,
                    0.3181818181818182,
                    0.36363636363636365,
                    0.75,
                    0.4444444444444444,
                    0.625,
                    0.8,
                    0.6666666666666666,
                    0.75
                  ]
                }
              ],
              "layout": {
                "height": 500,
                "template": {
                  "data": {
                    "bar": [
                      {
                        "error_x": {
                          "color": "#2a3f5f"
                        },
                        "error_y": {
                          "color": "#2a3f5f"
                        },
                        "marker": {
                          "line": {
                            "color": "#E5ECF6",
                            "width": 0.5
                          },
                          "pattern": {
                            "fillmode": "overlay",
                            "size": 10,
                            "solidity": 0.2
                          }
                        },
                        "type": "bar"
                      }
                    ],
                    "barpolar": [
                      {
                        "marker": {
                          "line": {
                            "color": "#E5ECF6",
                            "width": 0.5
                          },
                          "pattern": {
                            "fillmode": "overlay",
                            "size": 10,
                            "solidity": 0.2
                          }
                        },
                        "type": "barpolar"
                      }
                    ],
                    "carpet": [
                      {
                        "aaxis": {
                          "endlinecolor": "#2a3f5f",
                          "gridcolor": "white",
                          "linecolor": "white",
                          "minorgridcolor": "white",
                          "startlinecolor": "#2a3f5f"
                        },
                        "baxis": {
                          "endlinecolor": "#2a3f5f",
                          "gridcolor": "white",
                          "linecolor": "white",
                          "minorgridcolor": "white",
                          "startlinecolor": "#2a3f5f"
                        },
                        "type": "carpet"
                      }
                    ],
                    "choropleth": [
                      {
                        "colorbar": {
                          "outlinewidth": 0,
                          "ticks": ""
                        },
                        "type": "choropleth"
                      }
                    ],
                    "contour": [
                      {
                        "colorbar": {
                          "outlinewidth": 0,
                          "ticks": ""
                        },
                        "colorscale": [
                          [
                            0,
                            "#0d0887"
                          ],
                          [
                            0.1111111111111111,
                            "#46039f"
                          ],
                          [
                            0.2222222222222222,
                            "#7201a8"
                          ],
                          [
                            0.3333333333333333,
                            "#9c179e"
                          ],
                          [
                            0.4444444444444444,
                            "#bd3786"
                          ],
                          [
                            0.5555555555555556,
                            "#d8576b"
                          ],
                          [
                            0.6666666666666666,
                            "#ed7953"
                          ],
                          [
                            0.7777777777777778,
                            "#fb9f3a"
                          ],
                          [
                            0.8888888888888888,
                            "#fdca26"
                          ],
                          [
                            1,
                            "#f0f921"
                          ]
                        ],
                        "type": "contour"
                      }
                    ],
                    "contourcarpet": [
                      {
                        "colorbar": {
                          "outlinewidth": 0,
                          "ticks": ""
                        },
                        "type": "contourcarpet"
                      }
                    ],
                    "heatmap": [
                      {
                        "colorbar": {
                          "outlinewidth": 0,
                          "ticks": ""
                        },
                        "colorscale": [
                          [
                            0,
                            "#0d0887"
                          ],
                          [
                            0.1111111111111111,
                            "#46039f"
                          ],
                          [
                            0.2222222222222222,
                            "#7201a8"
                          ],
                          [
                            0.3333333333333333,
                            "#9c179e"
                          ],
                          [
                            0.4444444444444444,
                            "#bd3786"
                          ],
                          [
                            0.5555555555555556,
                            "#d8576b"
                          ],
                          [
                            0.6666666666666666,
                            "#ed7953"
                          ],
                          [
                            0.7777777777777778,
                            "#fb9f3a"
                          ],
                          [
                            0.8888888888888888,
                            "#fdca26"
                          ],
                          [
                            1,
                            "#f0f921"
                          ]
                        ],
                        "type": "heatmap"
                      }
                    ],
                    "heatmapgl": [
                      {
                        "colorbar": {
                          "outlinewidth": 0,
                          "ticks": ""
                        },
                        "colorscale": [
                          [
                            0,
                            "#0d0887"
                          ],
                          [
                            0.1111111111111111,
                            "#46039f"
                          ],
                          [
                            0.2222222222222222,
                            "#7201a8"
                          ],
                          [
                            0.3333333333333333,
                            "#9c179e"
                          ],
                          [
                            0.4444444444444444,
                            "#bd3786"
                          ],
                          [
                            0.5555555555555556,
                            "#d8576b"
                          ],
                          [
                            0.6666666666666666,
                            "#ed7953"
                          ],
                          [
                            0.7777777777777778,
                            "#fb9f3a"
                          ],
                          [
                            0.8888888888888888,
                            "#fdca26"
                          ],
                          [
                            1,
                            "#f0f921"
                          ]
                        ],
                        "type": "heatmapgl"
                      }
                    ],
                    "histogram": [
                      {
                        "marker": {
                          "pattern": {
                            "fillmode": "overlay",
                            "size": 10,
                            "solidity": 0.2
                          }
                        },
                        "type": "histogram"
                      }
                    ],
                    "histogram2d": [
                      {
                        "colorbar": {
                          "outlinewidth": 0,
                          "ticks": ""
                        },
                        "colorscale": [
                          [
                            0,
                            "#0d0887"
                          ],
                          [
                            0.1111111111111111,
                            "#46039f"
                          ],
                          [
                            0.2222222222222222,
                            "#7201a8"
                          ],
                          [
                            0.3333333333333333,
                            "#9c179e"
                          ],
                          [
                            0.4444444444444444,
                            "#bd3786"
                          ],
                          [
                            0.5555555555555556,
                            "#d8576b"
                          ],
                          [
                            0.6666666666666666,
                            "#ed7953"
                          ],
                          [
                            0.7777777777777778,
                            "#fb9f3a"
                          ],
                          [
                            0.8888888888888888,
                            "#fdca26"
                          ],
                          [
                            1,
                            "#f0f921"
                          ]
                        ],
                        "type": "histogram2d"
                      }
                    ],
                    "histogram2dcontour": [
                      {
                        "colorbar": {
                          "outlinewidth": 0,
                          "ticks": ""
                        },
                        "colorscale": [
                          [
                            0,
                            "#0d0887"
                          ],
                          [
                            0.1111111111111111,
                            "#46039f"
                          ],
                          [
                            0.2222222222222222,
                            "#7201a8"
                          ],
                          [
                            0.3333333333333333,
                            "#9c179e"
                          ],
                          [
                            0.4444444444444444,
                            "#bd3786"
                          ],
                          [
                            0.5555555555555556,
                            "#d8576b"
                          ],
                          [
                            0.6666666666666666,
                            "#ed7953"
                          ],
                          [
                            0.7777777777777778,
                            "#fb9f3a"
                          ],
                          [
                            0.8888888888888888,
                            "#fdca26"
                          ],
                          [
                            1,
                            "#f0f921"
                          ]
                        ],
                        "type": "histogram2dcontour"
                      }
                    ],
                    "mesh3d": [
                      {
                        "colorbar": {
                          "outlinewidth": 0,
                          "ticks": ""
                        },
                        "type": "mesh3d"
                      }
                    ],
                    "parcoords": [
                      {
                        "line": {
                          "colorbar": {
                            "outlinewidth": 0,
                            "ticks": ""
                          }
                        },
                        "type": "parcoords"
                      }
                    ],
                    "pie": [
                      {
                        "automargin": true,
                        "type": "pie"
                      }
                    ],
                    "scatter": [
                      {
                        "marker": {
                          "colorbar": {
                            "outlinewidth": 0,
                            "ticks": ""
                          }
                        },
                        "type": "scatter"
                      }
                    ],
                    "scatter3d": [
                      {
                        "line": {
                          "colorbar": {
                            "outlinewidth": 0,
                            "ticks": ""
                          }
                        },
                        "marker": {
                          "colorbar": {
                            "outlinewidth": 0,
                            "ticks": ""
                          }
                        },
                        "type": "scatter3d"
                      }
                    ],
                    "scattercarpet": [
                      {
                        "marker": {
                          "colorbar": {
                            "outlinewidth": 0,
                            "ticks": ""
                          }
                        },
                        "type": "scattercarpet"
                      }
                    ],
                    "scattergeo": [
                      {
                        "marker": {
                          "colorbar": {
                            "outlinewidth": 0,
                            "ticks": ""
                          }
                        },
                        "type": "scattergeo"
                      }
                    ],
                    "scattergl": [
                      {
                        "marker": {
                          "colorbar": {
                            "outlinewidth": 0,
                            "ticks": ""
                          }
                        },
                        "type": "scattergl"
                      }
                    ],
                    "scattermapbox": [
                      {
                        "marker": {
                          "colorbar": {
                            "outlinewidth": 0,
                            "ticks": ""
                          }
                        },
                        "type": "scattermapbox"
                      }
                    ],
                    "scatterpolar": [
                      {
                        "marker": {
                          "colorbar": {
                            "outlinewidth": 0,
                            "ticks": ""
                          }
                        },
                        "type": "scatterpolar"
                      }
                    ],
                    "scatterpolargl": [
                      {
                        "marker": {
                          "colorbar": {
                            "outlinewidth": 0,
                            "ticks": ""
                          }
                        },
                        "type": "scatterpolargl"
                      }
                    ],
                    "scatterternary": [
                      {
                        "marker": {
                          "colorbar": {
                            "outlinewidth": 0,
                            "ticks": ""
                          }
                        },
                        "type": "scatterternary"
                      }
                    ],
                    "surface": [
                      {
                        "colorbar": {
                          "outlinewidth": 0,
                          "ticks": ""
                        },
                        "colorscale": [
                          [
                            0,
                            "#0d0887"
                          ],
                          [
                            0.1111111111111111,
                            "#46039f"
                          ],
                          [
                            0.2222222222222222,
                            "#7201a8"
                          ],
                          [
                            0.3333333333333333,
                            "#9c179e"
                          ],
                          [
                            0.4444444444444444,
                            "#bd3786"
                          ],
                          [
                            0.5555555555555556,
                            "#d8576b"
                          ],
                          [
                            0.6666666666666666,
                            "#ed7953"
                          ],
                          [
                            0.7777777777777778,
                            "#fb9f3a"
                          ],
                          [
                            0.8888888888888888,
                            "#fdca26"
                          ],
                          [
                            1,
                            "#f0f921"
                          ]
                        ],
                        "type": "surface"
                      }
                    ],
                    "table": [
                      {
                        "cells": {
                          "fill": {
                            "color": "#EBF0F8"
                          },
                          "line": {
                            "color": "white"
                          }
                        },
                        "header": {
                          "fill": {
                            "color": "#C8D4E3"
                          },
                          "line": {
                            "color": "white"
                          }
                        },
                        "type": "table"
                      }
                    ]
                  },
                  "layout": {
                    "annotationdefaults": {
                      "arrowcolor": "#2a3f5f",
                      "arrowhead": 0,
                      "arrowwidth": 1
                    },
                    "autotypenumbers": "strict",
                    "coloraxis": {
                      "colorbar": {
                        "outlinewidth": 0,
                        "ticks": ""
                      }
                    },
                    "colorscale": {
                      "diverging": [
                        [
                          0,
                          "#8e0152"
                        ],
                        [
                          0.1,
                          "#c51b7d"
                        ],
                        [
                          0.2,
                          "#de77ae"
                        ],
                        [
                          0.3,
                          "#f1b6da"
                        ],
                        [
                          0.4,
                          "#fde0ef"
                        ],
                        [
                          0.5,
                          "#f7f7f7"
                        ],
                        [
                          0.6,
                          "#e6f5d0"
                        ],
                        [
                          0.7,
                          "#b8e186"
                        ],
                        [
                          0.8,
                          "#7fbc41"
                        ],
                        [
                          0.9,
                          "#4d9221"
                        ],
                        [
                          1,
                          "#276419"
                        ]
                      ],
                      "sequential": [
                        [
                          0,
                          "#0d0887"
                        ],
                        [
                          0.1111111111111111,
                          "#46039f"
                        ],
                        [
                          0.2222222222222222,
                          "#7201a8"
                        ],
                        [
                          0.3333333333333333,
                          "#9c179e"
                        ],
                        [
                          0.4444444444444444,
                          "#bd3786"
                        ],
                        [
                          0.5555555555555556,
                          "#d8576b"
                        ],
                        [
                          0.6666666666666666,
                          "#ed7953"
                        ],
                        [
                          0.7777777777777778,
                          "#fb9f3a"
                        ],
                        [
                          0.8888888888888888,
                          "#fdca26"
                        ],
                        [
                          1,
                          "#f0f921"
                        ]
                      ],
                      "sequentialminus": [
                        [
                          0,
                          "#0d0887"
                        ],
                        [
                          0.1111111111111111,
                          "#46039f"
                        ],
                        [
                          0.2222222222222222,
                          "#7201a8"
                        ],
                        [
                          0.3333333333333333,
                          "#9c179e"
                        ],
                        [
                          0.4444444444444444,
                          "#bd3786"
                        ],
                        [
                          0.5555555555555556,
                          "#d8576b"
                        ],
                        [
                          0.6666666666666666,
                          "#ed7953"
                        ],
                        [
                          0.7777777777777778,
                          "#fb9f3a"
                        ],
                        [
                          0.8888888888888888,
                          "#fdca26"
                        ],
                        [
                          1,
                          "#f0f921"
                        ]
                      ]
                    },
                    "colorway": [
                      "#636efa",
                      "#EF553B",
                      "#00cc96",
                      "#ab63fa",
                      "#FFA15A",
                      "#19d3f3",
                      "#FF6692",
                      "#B6E880",
                      "#FF97FF",
                      "#FECB52"
                    ],
                    "font": {
                      "color": "#2a3f5f"
                    },
                    "geo": {
                      "bgcolor": "white",
                      "lakecolor": "white",
                      "landcolor": "#E5ECF6",
                      "showlakes": true,
                      "showland": true,
                      "subunitcolor": "white"
                    },
                    "hoverlabel": {
                      "align": "left"
                    },
                    "hovermode": "closest",
                    "mapbox": {
                      "style": "light"
                    },
                    "paper_bgcolor": "white",
                    "plot_bgcolor": "#E5ECF6",
                    "polar": {
                      "angularaxis": {
                        "gridcolor": "white",
                        "linecolor": "white",
                        "ticks": ""
                      },
                      "bgcolor": "#E5ECF6",
                      "radialaxis": {
                        "gridcolor": "white",
                        "linecolor": "white",
                        "ticks": ""
                      }
                    },
                    "scene": {
                      "xaxis": {
                        "backgroundcolor": "#E5ECF6",
                        "gridcolor": "white",
                        "gridwidth": 2,
                        "linecolor": "white",
                        "showbackground": true,
                        "ticks": "",
                        "zerolinecolor": "white"
                      },
                      "yaxis": {
                        "backgroundcolor": "#E5ECF6",
                        "gridcolor": "white",
                        "gridwidth": 2,
                        "linecolor": "white",
                        "showbackground": true,
                        "ticks": "",
                        "zerolinecolor": "white"
                      },
                      "zaxis": {
                        "backgroundcolor": "#E5ECF6",
                        "gridcolor": "white",
                        "gridwidth": 2,
                        "linecolor": "white",
                        "showbackground": true,
                        "ticks": "",
                        "zerolinecolor": "white"
                      }
                    },
                    "shapedefaults": {
                      "line": {
                        "color": "#2a3f5f"
                      }
                    },
                    "ternary": {
                      "aaxis": {
                        "gridcolor": "white",
                        "linecolor": "white",
                        "ticks": ""
                      },
                      "baxis": {
                        "gridcolor": "white",
                        "linecolor": "white",
                        "ticks": ""
                      },
                      "bgcolor": "#E5ECF6",
                      "caxis": {
                        "gridcolor": "white",
                        "linecolor": "white",
                        "ticks": ""
                      }
                    },
                    "title": {
                      "x": 0.05
                    },
                    "xaxis": {
                      "automargin": true,
                      "gridcolor": "white",
                      "linecolor": "white",
                      "ticks": "",
                      "title": {
                        "standoff": 15
                      },
                      "zerolinecolor": "white",
                      "zerolinewidth": 2
                    },
                    "yaxis": {
                      "automargin": true,
                      "gridcolor": "white",
                      "linecolor": "white",
                      "ticks": "",
                      "title": {
                        "standoff": 15
                      },
                      "zerolinecolor": "white",
                      "zerolinewidth": 2
                    }
                  }
                },
                "title": {
                  "text": "Calibration plots (reliability curve)"
                },
                "width": 700,
                "xaxis": {
                  "title": {
                    "text": "Mean predicted value"
                  }
                },
                "yaxis": {
                  "title": {
                    "text": "Fraction of positives"
                  }
                }
              }
            }
          },
          "metadata": {},
          "output_type": "display_data"
        },
        {
          "data": {
            "text/html": [
              "<div>The Brier score metric may be used to assess how well a classifier is calibrated. For more info, please visit https://en.wikipedia.org/wiki/Brier_score</div><br><a href=\"#summary_DETA7\" style=\"font-size: 14px\">Go to top</a>"
            ]
          },
          "metadata": {},
          "output_type": "display_data"
        },
        {
          "data": {
            "text/html": [
              "<hr style=\"background-color: black;border: 0 none;color: black;height: 1px;\"><h2>Other Checks That Weren't Displayed</h2><style type=\"text/css\">\n",
              "#T_82ec8 table {\n",
              "  text-align: left;\n",
              "  white-space: pre-wrap;\n",
              "}\n",
              "#T_82ec8 thead {\n",
              "  text-align: left;\n",
              "  white-space: pre-wrap;\n",
              "}\n",
              "#T_82ec8 tbody {\n",
              "  text-align: left;\n",
              "  white-space: pre-wrap;\n",
              "}\n",
              "#T_82ec8 th {\n",
              "  text-align: left;\n",
              "  white-space: pre-wrap;\n",
              "}\n",
              "#T_82ec8 td {\n",
              "  text-align: left;\n",
              "  white-space: pre-wrap;\n",
              "}\n",
              "</style>\n",
              "<table id=\"T_82ec8\">\n",
              "  <thead>\n",
              "    <tr>\n",
              "      <th id=\"T_82ec8_level0_col0\" class=\"col_heading level0 col0\" >Check</th>\n",
              "      <th id=\"T_82ec8_level0_col1\" class=\"col_heading level0 col1\" >Reason</th>\n",
              "    </tr>\n",
              "  </thead>\n",
              "  <tbody>\n",
              "    <tr>\n",
              "      <td id=\"T_82ec8_row0_col0\" class=\"data row0 col0\" >Model Error Analysis</td>\n",
              "      <td id=\"T_82ec8_row0_col1\" class=\"data row0 col1\" >Unable to train meaningful error model (r^2 score: -0.12)</td>\n",
              "    </tr>\n",
              "    <tr>\n",
              "      <td id=\"T_82ec8_row1_col0\" class=\"data row1 col0\" >Identifier Leakage - Test Dataset</td>\n",
              "      <td id=\"T_82ec8_row1_col1\" class=\"data row1 col1\" >Check is irrelevant for Datasets without index or date column</td>\n",
              "    </tr>\n",
              "    <tr>\n",
              "      <td id=\"T_82ec8_row2_col0\" class=\"data row2 col0\" >Identifier Leakage - Train Dataset</td>\n",
              "      <td id=\"T_82ec8_row2_col1\" class=\"data row2 col1\" >Check is irrelevant for Datasets without index or date column</td>\n",
              "    </tr>\n",
              "    <tr>\n",
              "      <td id=\"T_82ec8_row3_col0\" class=\"data row3 col0\" >Date Train Test Leakage Overlap</td>\n",
              "      <td id=\"T_82ec8_row3_col1\" class=\"data row3 col1\" >There is no datetime defined to use. Did you pass a DataFrame instead of a Dataset?</td>\n",
              "    </tr>\n",
              "    <tr>\n",
              "      <td id=\"T_82ec8_row4_col0\" class=\"data row4 col0\" >Date Train Test Leakage Duplicates</td>\n",
              "      <td id=\"T_82ec8_row4_col1\" class=\"data row4 col1\" >There is no datetime defined to use. Did you pass a DataFrame instead of a Dataset?</td>\n",
              "    </tr>\n",
              "    <tr>\n",
              "      <td id=\"T_82ec8_row5_col0\" class=\"data row5 col0\" >Index Train Test Leakage</td>\n",
              "      <td id=\"T_82ec8_row5_col1\" class=\"data row5 col1\" >There is no index defined to use. Did you pass a DataFrame instead of a Dataset?</td>\n",
              "    </tr>\n",
              "    <tr>\n",
              "      <td id=\"T_82ec8_row6_col0\" class=\"data row6 col0\" >Regression Error Distribution - Test Dataset</td>\n",
              "      <td id=\"T_82ec8_row6_col1\" class=\"data row6 col1\" >Check is relevant for models of type ['regression'], but received model of type 'binary'</td>\n",
              "    </tr>\n",
              "    <tr>\n",
              "      <td id=\"T_82ec8_row7_col0\" class=\"data row7 col0\" >Regression Error Distribution - Train Dataset</td>\n",
              "      <td id=\"T_82ec8_row7_col1\" class=\"data row7 col1\" >Check is relevant for models of type ['regression'], but received model of type 'binary'</td>\n",
              "    </tr>\n",
              "    <tr>\n",
              "      <td id=\"T_82ec8_row8_col0\" class=\"data row8 col0\" >Regression Systematic Error - Test Dataset</td>\n",
              "      <td id=\"T_82ec8_row8_col1\" class=\"data row8 col1\" >Check is relevant for models of type ['regression'], but received model of type 'binary'</td>\n",
              "    </tr>\n",
              "    <tr>\n",
              "      <td id=\"T_82ec8_row9_col0\" class=\"data row9 col0\" >Regression Systematic Error - Train Dataset</td>\n",
              "      <td id=\"T_82ec8_row9_col1\" class=\"data row9 col1\" >Check is relevant for models of type ['regression'], but received model of type 'binary'</td>\n",
              "    </tr>\n",
              "    <tr>\n",
              "      <td id=\"T_82ec8_row10_col0\" class=\"data row10 col0\" >Boosting Overfit</td>\n",
              "      <td id=\"T_82ec8_row10_col1\" class=\"data row10 col1\" >Check is relevant for Boosting models of type ('AdaBoostClassifier', 'GradientBoostingClassifier', 'LGBMClassifier', 'XGBClassifier', 'CatBoostClassifier', 'AdaBoostRegressor', 'GradientBoostingRegressor', 'LGBMRegressor', 'XGBRegressor', 'CatBoostRegressor'), but received model of type SoftSplitDecisionTreeClassifier</td>\n",
              "    </tr>\n",
              "    <tr>\n",
              "      <td id=\"T_82ec8_row11_col0\" class=\"data row11 col0\" >Unused Features</td>\n",
              "      <td id=\"T_82ec8_row11_col1\" class=\"data row11 col1\" >Nothing found</td>\n",
              "    </tr>\n",
              "    <tr>\n",
              "      <td id=\"T_82ec8_row12_col0\" class=\"data row12 col0\" >Special Characters - Test Dataset</td>\n",
              "      <td id=\"T_82ec8_row12_col1\" class=\"data row12 col1\" >Nothing found</td>\n",
              "    </tr>\n",
              "    <tr>\n",
              "      <td id=\"T_82ec8_row13_col0\" class=\"data row13 col0\" >Special Characters - Train Dataset</td>\n",
              "      <td id=\"T_82ec8_row13_col1\" class=\"data row13 col1\" >Nothing found</td>\n",
              "    </tr>\n",
              "    <tr>\n",
              "      <td id=\"T_82ec8_row14_col0\" class=\"data row14 col0\" >String Length Out Of Bounds - Test Dataset</td>\n",
              "      <td id=\"T_82ec8_row14_col1\" class=\"data row14 col1\" >Nothing found</td>\n",
              "    </tr>\n",
              "    <tr>\n",
              "      <td id=\"T_82ec8_row15_col0\" class=\"data row15 col0\" >String Length Out Of Bounds - Train Dataset</td>\n",
              "      <td id=\"T_82ec8_row15_col1\" class=\"data row15 col1\" >Nothing found</td>\n",
              "    </tr>\n",
              "    <tr>\n",
              "      <td id=\"T_82ec8_row16_col0\" class=\"data row16 col0\" >Data Duplicates - Test Dataset</td>\n",
              "      <td id=\"T_82ec8_row16_col1\" class=\"data row16 col1\" >Nothing found</td>\n",
              "    </tr>\n",
              "    <tr>\n",
              "      <td id=\"T_82ec8_row17_col0\" class=\"data row17 col0\" >Data Duplicates - Train Dataset</td>\n",
              "      <td id=\"T_82ec8_row17_col1\" class=\"data row17 col1\" >Nothing found</td>\n",
              "    </tr>\n",
              "    <tr>\n",
              "      <td id=\"T_82ec8_row18_col0\" class=\"data row18 col0\" >String Mismatch - Test Dataset</td>\n",
              "      <td id=\"T_82ec8_row18_col1\" class=\"data row18 col1\" >Nothing found</td>\n",
              "    </tr>\n",
              "    <tr>\n",
              "      <td id=\"T_82ec8_row19_col0\" class=\"data row19 col0\" >String Mismatch - Train Dataset</td>\n",
              "      <td id=\"T_82ec8_row19_col1\" class=\"data row19 col1\" >Nothing found</td>\n",
              "    </tr>\n",
              "    <tr>\n",
              "      <td id=\"T_82ec8_row20_col0\" class=\"data row20 col0\" >Mixed Data Types - Test Dataset</td>\n",
              "      <td id=\"T_82ec8_row20_col1\" class=\"data row20 col1\" >Nothing found</td>\n",
              "    </tr>\n",
              "    <tr>\n",
              "      <td id=\"T_82ec8_row21_col0\" class=\"data row21 col0\" >Mixed Nulls - Train Dataset</td>\n",
              "      <td id=\"T_82ec8_row21_col1\" class=\"data row21 col1\" >Nothing found</td>\n",
              "    </tr>\n",
              "    <tr>\n",
              "      <td id=\"T_82ec8_row22_col0\" class=\"data row22 col0\" >Mixed Nulls - Test Dataset</td>\n",
              "      <td id=\"T_82ec8_row22_col1\" class=\"data row22 col1\" >Nothing found</td>\n",
              "    </tr>\n",
              "    <tr>\n",
              "      <td id=\"T_82ec8_row23_col0\" class=\"data row23 col0\" >Single Value in Column - Test Dataset</td>\n",
              "      <td id=\"T_82ec8_row23_col1\" class=\"data row23 col1\" >Nothing found</td>\n",
              "    </tr>\n",
              "    <tr>\n",
              "      <td id=\"T_82ec8_row24_col0\" class=\"data row24 col0\" >Single Value in Column - Train Dataset</td>\n",
              "      <td id=\"T_82ec8_row24_col1\" class=\"data row24 col1\" >Nothing found</td>\n",
              "    </tr>\n",
              "    <tr>\n",
              "      <td id=\"T_82ec8_row25_col0\" class=\"data row25 col0\" >Label Ambiguity - Train Dataset</td>\n",
              "      <td id=\"T_82ec8_row25_col1\" class=\"data row25 col1\" >Nothing found</td>\n",
              "    </tr>\n",
              "    <tr>\n",
              "      <td id=\"T_82ec8_row26_col0\" class=\"data row26 col0\" >Train Test Samples Mix</td>\n",
              "      <td id=\"T_82ec8_row26_col1\" class=\"data row26 col1\" >Nothing found</td>\n",
              "    </tr>\n",
              "    <tr>\n",
              "      <td id=\"T_82ec8_row27_col0\" class=\"data row27 col0\" >String Mismatch Comparison</td>\n",
              "      <td id=\"T_82ec8_row27_col1\" class=\"data row27 col1\" >Nothing found</td>\n",
              "    </tr>\n",
              "    <tr>\n",
              "      <td id=\"T_82ec8_row28_col0\" class=\"data row28 col0\" >New Label Train Test</td>\n",
              "      <td id=\"T_82ec8_row28_col1\" class=\"data row28 col1\" >Nothing found</td>\n",
              "    </tr>\n",
              "    <tr>\n",
              "      <td id=\"T_82ec8_row29_col0\" class=\"data row29 col0\" >Category Mismatch Train Test</td>\n",
              "      <td id=\"T_82ec8_row29_col1\" class=\"data row29 col1\" >Nothing found</td>\n",
              "    </tr>\n",
              "    <tr>\n",
              "      <td id=\"T_82ec8_row30_col0\" class=\"data row30 col0\" >Dominant Frequency Change</td>\n",
              "      <td id=\"T_82ec8_row30_col1\" class=\"data row30 col1\" >Nothing found</td>\n",
              "    </tr>\n",
              "    <tr>\n",
              "      <td id=\"T_82ec8_row31_col0\" class=\"data row31 col0\" >Mixed Data Types - Train Dataset</td>\n",
              "      <td id=\"T_82ec8_row31_col1\" class=\"data row31 col1\" >Nothing found</td>\n",
              "    </tr>\n",
              "    <tr>\n",
              "      <td id=\"T_82ec8_row32_col0\" class=\"data row32 col0\" >Label Ambiguity - Test Dataset</td>\n",
              "      <td id=\"T_82ec8_row32_col1\" class=\"data row32 col1\" >Nothing found</td>\n",
              "    </tr>\n",
              "  </tbody>\n",
              "</table>\n"
            ]
          },
          "metadata": {},
          "output_type": "display_data"
        },
        {
          "data": {
            "text/html": [
              "<br><a href=\"#summary_DETA7\" style=\"font-size: 14px\">Go to top</a>"
            ]
          },
          "metadata": {},
          "output_type": "display_data"
        }
      ],
      "source": [
        "suite.run(train_dataset=ds_train, test_dataset=ds_test, model=rf_clf)"
      ]
    }
  ],
  "metadata": {
    "kernelspec": {
      "display_name": "Python 3",
      "language": "python",
      "name": "python3"
    },
    "language_info": {
      "codemirror_mode": {
        "name": "ipython",
        "version": 3
      },
      "file_extension": ".py",
      "mimetype": "text/x-python",
      "name": "python",
      "nbconvert_exporter": "python",
      "pygments_lexer": "ipython3",
      "version": "3.8.2"
    }
  },
  "nbformat": 4,
  "nbformat_minor": 0
}
