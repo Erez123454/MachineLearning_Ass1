{
  "cells": [
    {
      "cell_type": "code",
      "execution_count": null,
      "metadata": {
        "collapsed": false
      },
      "outputs": [],
      "source": [
        "%matplotlib inline"
      ]
    },
    {
      "cell_type": "markdown",
      "metadata": {},
      "source": [
        "Quickstart in 5 minutes\n",
        "=======================\n",
        "\n",
        "In order to run your first Deepchecks Suite all you need to have is the\n",
        "data and model that you wish to validate. More specifically, you need:\n",
        "\n",
        "-   Your train and test data (in Pandas DataFrames or Numpy Arrays)\n",
        "-   (optional) A\n",
        "    `supported model </user-guide/tabular/supported_models>`{.interpreted-text\n",
        "    role=\"doc\"} (including XGBoost, scikit-learn models, and many more).\n",
        "    Required for running checks that need the model\\'s predictions for\n",
        "    running.\n",
        "\n",
        "To run your first suite on your data and model, you need only a few\n",
        "lines of code, that start here: [Define a Dataset\n",
        "Object](#define-a-dataset-object).\n",
        "\n",
        "\\# If you don\\'t have deepchecks installed yet:\n",
        "\n",
        "``` {.sourceCode .python}\n",
        "# If you don't have deepchecks installed yet:\n",
        "import sys\n",
        "!{sys.executable} -m pip install deepchecks -U --quiet #--user\n",
        "```\n"
      ]
    },
    {
      "cell_type": "markdown",
      "metadata": {},
      "source": [
        "Load Data, Split Train-Val, and Train a Simple Model\n",
        "====================================================\n",
        "\n",
        "For the purpose of this guide we\\'ll use the simple iris dataset and\n",
        "train a simple random forest model for multiclass classification:\n"
      ]
    },
    {
      "cell_type": "code",
      "execution_count": 4,
      "metadata": {},
      "outputs": [],
      "source": [
        "from random import random\n",
        "from sklearn import tree\n",
        "from sklearn.tree import _tree\n",
        "from sklearn.utils.validation import check_is_fitted, _deprecate_positional_args\n",
        "\n",
        "\n",
        "class SoftSplitDecisionTreeClassifier(tree.DecisionTreeClassifier):\n",
        "    def __init__(self, *,n=100,\n",
        "                 alphaProbability=0.1,\n",
        "                 criterion=\"gini\",\n",
        "                 splitter=\"best\",\n",
        "                 max_depth=None,\n",
        "                 min_samples_split=2,\n",
        "                 min_samples_leaf=1,\n",
        "                 min_weight_fraction_leaf=0.,\n",
        "                 max_features=None,\n",
        "                 random_state=None,\n",
        "                 max_leaf_nodes=None,\n",
        "                 min_impurity_decrease=0.,\n",
        "                 class_weight=None,\n",
        "                 ccp_alpha=0.0):\n",
        "        super().__init__(\n",
        "            criterion=criterion,\n",
        "            splitter=splitter,\n",
        "            max_depth=max_depth,\n",
        "            min_samples_split=min_samples_split,\n",
        "            min_samples_leaf=min_samples_leaf,\n",
        "            min_weight_fraction_leaf=min_weight_fraction_leaf,\n",
        "            max_features=max_features,\n",
        "            random_state=random_state,\n",
        "            max_leaf_nodes=max_leaf_nodes,\n",
        "            min_impurity_decrease=min_impurity_decrease,\n",
        "            class_weight=class_weight,\n",
        "            ccp_alpha=ccp_alpha)\n",
        "        self.n=n\n",
        "        self.alphaProbability=alphaProbability\n",
        "\n",
        "\n",
        "    def predict(self, X, check_input=True):\n",
        "        # check_is_fitted(self)\n",
        "        # X = self._validate_X_predict(X, check_input)\n",
        "        # return self.predictWrapper(X)\n",
        "        \"\"\"Predict class or regression value for X.\n",
        "\n",
        "        For a classification model, the predicted class for each sample in X is\n",
        "        returned. For a regression model, the predicted value based on X is\n",
        "        returned.\n",
        "\n",
        "        Parameters\n",
        "        ----------\n",
        "        X : {array-like, sparse matrix} of shape (n_samples, n_features)\n",
        "            The input samples. Internally, it will be converted to\n",
        "            ``dtype=np.float32`` and if a sparse matrix is provided\n",
        "            to a sparse ``csr_matrix``.\n",
        "\n",
        "        check_input : bool, default=True\n",
        "            Allow to bypass several input checking.\n",
        "            Don't use this parameter unless you know what you do.\n",
        "\n",
        "        Returns\n",
        "        -------\n",
        "        y : array-like of shape (n_samples,) or (n_samples, n_outputs)\n",
        "            The predicted classes, or the predict values.\n",
        "        \"\"\"\n",
        "        check_is_fitted(self)\n",
        "        X = self._validate_X_predict(X, check_input)\n",
        "        proba = self.predict_proba(X,check_input)\n",
        "        n_samples = X.shape[0]\n",
        "\n",
        "        # Classification\n",
        "        if self.n_outputs_ == 1:\n",
        "            return self.classes_.take(np.argmax(proba, axis=1), axis=0)\n",
        "\n",
        "        else:\n",
        "            class_type = self.classes_[0].dtype\n",
        "            predictions = np.zeros((n_samples, self.n_outputs_),\n",
        "                                   dtype=class_type)\n",
        "            for k in range(self.n_outputs_):\n",
        "                predictions[:, k] = self.classes_[k].take(\n",
        "                    np.argmax(proba[:, k], axis=1),\n",
        "                    axis=0)\n",
        "\n",
        "            return predictions\n",
        "\n",
        "    def predictWrapper(self,row,predictionFunction):\n",
        "        '''\n",
        "        Function to wrap the single prediction process, the function will\n",
        "        run the prediction for n iteration\n",
        "        :param X:\n",
        "        :type X:\n",
        "        :param n:\n",
        "        :type n:\n",
        "        :param alphaProbability:\n",
        "        :type alphaProbability:\n",
        "        :return:\n",
        "        :rtype:\n",
        "        '''\n",
        "        predictions = np.array([predictionFunction(row) for i in range(self.n)])\n",
        "        avgPredictions = np.array([np.array([val for val in i]) for i in predictions.mean(0)])\n",
        "        return avgPredictions\n",
        "\n",
        "    def predict_proba(self, X, check_input=True):\n",
        "        \"\"\"Predict class probabilities of the input samples X.\n",
        "\n",
        "        The predicted class probability is the fraction of samples of the same\n",
        "        class in a leaf.\n",
        "\n",
        "        Parameters\n",
        "        ----------\n",
        "        X : {array-like, sparse matrix} of shape (n_samples, n_features)\n",
        "            The input samples. Internally, it will be converted to\n",
        "            ``dtype=np.float32`` and if a sparse matrix is provided\n",
        "            to a sparse ``csr_matrix``.\n",
        "\n",
        "        alphaProbability : double, default=0 probability to choose the opposite decision path.\n",
        "\n",
        "        check_input : bool, default=True\n",
        "            Allow to bypass several input checking.\n",
        "            Don't use this parameter unless you know what you do.\n",
        "\n",
        "        Returns\n",
        "        -------\n",
        "        proba : ndarray of shape (n_samples, n_classes) or list of n_outputs \\\n",
        "            such arrays if n_outputs > 1\n",
        "            The class probabilities of the input samples. The order of the\n",
        "            classes corresponds to that in the attribute :term:`classes_`.\n",
        "        \"\"\"\n",
        "        check_is_fitted(self)\n",
        "        X = self._validate_X_predict(X, check_input)\n",
        "        probabilisticPredictionFunction = self._generateProbabilisticPredictionFunction(self.alphaProbability)\n",
        "        probaList = [self.predictWrapper(row, probabilisticPredictionFunction) for row in X]\n",
        "        proba = np.concatenate(probaList, axis=0)\n",
        "\n",
        "        if self.n_outputs_ == 1:\n",
        "            proba = proba[:, :self.n_classes_]\n",
        "            normalizer = proba.sum(axis=1)[:, np.newaxis]\n",
        "            normalizer[normalizer == 0.0] = 1.0\n",
        "            proba /= normalizer\n",
        "\n",
        "            return proba\n",
        "\n",
        "        else:\n",
        "            all_proba = []\n",
        "\n",
        "            for k in range(self.n_outputs_):\n",
        "                proba_k = proba[:, k, :self.n_classes_[k]]\n",
        "                normalizer = proba_k.sum(axis=1)[:, np.newaxis]\n",
        "                normalizer[normalizer == 0.0] = 1.0\n",
        "                proba_k /= normalizer\n",
        "                all_proba.append(proba_k)\n",
        "\n",
        "            return all_proba\n",
        "\n",
        "    def _generateProbabilisticPredictionFunction(self, alphaProbability):\n",
        "        '''\n",
        "        Private util function to generate probabilistic prediction function.\n",
        "        :param alphaProbability:\n",
        "        :type alphaProbability:\n",
        "        :return: function which accept single record\n",
        "        :rtype: function\n",
        "        '''\n",
        "        tree = self.tree_\n",
        "\n",
        "        def _traverse(sample, currNode):\n",
        "            '''\n",
        "            private function to traverse in the decision tree\n",
        "            :param sample: single record without the target variable\n",
        "            :type sample: pandas dataframe\n",
        "            :param currNode: index of the current node in the tree struct\n",
        "            :type currNode: int\n",
        "            :return: array of n-output of the classes, hold values for the record\n",
        "            :rtype: nd.array\n",
        "            '''\n",
        "            if tree.feature[currNode] != _tree.TREE_UNDEFINED:\n",
        "                randomProb = random()\n",
        "                sampleValue = sample[tree.feature[currNode]]\n",
        "                if sampleValue <= tree.threshold[currNode]:\n",
        "                    if (1 - alphaProbability) >= randomProb:\n",
        "                        return _traverse(sample, tree.children_left[currNode])\n",
        "                    else:\n",
        "                        return _traverse(sample, tree.children_right[currNode])\n",
        "                else:\n",
        "                    if (1 - alphaProbability) >= randomProb:\n",
        "                        return _traverse(sample, tree.children_right[currNode])\n",
        "                    else:\n",
        "                        return _traverse(sample, tree.children_left[currNode])\n",
        "            else:\n",
        "                value = tree.value[currNode]\n",
        "                return value\n",
        "\n",
        "        def _predict_single(sample):\n",
        "            '''\n",
        "            Util function to wrap the sample and the tree traverse for lazy use\n",
        "            :param sample:\n",
        "            :type sample:\n",
        "            :return: application of the traverse with the given sample and the root\n",
        "            :rtype:\n",
        "            '''\n",
        "            return _traverse(sample, 0)\n",
        "\n",
        "        return _predict_single\n",
        "\n",
        "\n",
        "class SoftSplitDecisionTreeRegressor(tree.DecisionTreeRegressor):\n",
        "    \"\"\"A decision tree regressor.\n",
        "\n",
        "    Read more in the :ref:`User Guide <tree>`.\n",
        "\n",
        "    Parameters\n",
        "    ----------\n",
        "    criterion : {\"mse\", \"friedman_mse\", \"mae\", \"poisson\"}, default=\"mse\"\n",
        "        The function to measure the quality of a split. Supported criteria\n",
        "        are \"mse\" for the mean squared error, which is equal to variance\n",
        "        reduction as feature selection criterion and minimizes the L2 loss\n",
        "        using the mean of each terminal node, \"friedman_mse\", which uses mean\n",
        "        squared error with Friedman's improvement score for potential splits,\n",
        "        \"mae\" for the mean absolute error, which minimizes the L1 loss using\n",
        "        the median of each terminal node, and \"poisson\" which uses reduction in\n",
        "        Poisson deviance to find splits.\n",
        "\n",
        "        .. versionadded:: 0.18\n",
        "           Mean Absolute Error (MAE) criterion.\n",
        "\n",
        "        .. versionadded:: 0.24\n",
        "            Poisson deviance criterion.\n",
        "\n",
        "    splitter : {\"best\", \"random\"}, default=\"best\"\n",
        "        The strategy used to choose the split at each node. Supported\n",
        "        strategies are \"best\" to choose the best split and \"random\" to choose\n",
        "        the best random split.\n",
        "\n",
        "    max_depth : int, default=None\n",
        "        The maximum depth of the tree. If None, then nodes are expanded until\n",
        "        all leaves are pure or until all leaves contain less than\n",
        "        min_samples_split samples.\n",
        "\n",
        "    min_samples_split : int or float, default=2\n",
        "        The minimum number of samples required to split an internal node:\n",
        "\n",
        "        - If int, then consider `min_samples_split` as the minimum number.\n",
        "        - If float, then `min_samples_split` is a fraction and\n",
        "          `ceil(min_samples_split * n_samples)` are the minimum\n",
        "          number of samples for each split.\n",
        "\n",
        "        .. versionchanged:: 0.18\n",
        "           Added float values for fractions.\n",
        "\n",
        "    min_samples_leaf : int or float, default=1\n",
        "        The minimum number of samples required to be at a leaf node.\n",
        "        A split point at any depth will only be considered if it leaves at\n",
        "        least ``min_samples_leaf`` training samples in each of the left and\n",
        "        right branches.  This may have the effect of smoothing the model,\n",
        "        especially in regression.\n",
        "\n",
        "        - If int, then consider `min_samples_leaf` as the minimum number.\n",
        "        - If float, then `min_samples_leaf` is a fraction and\n",
        "          `ceil(min_samples_leaf * n_samples)` are the minimum\n",
        "          number of samples for each node.\n",
        "\n",
        "        .. versionchanged:: 0.18\n",
        "           Added float values for fractions.\n",
        "\n",
        "    min_weight_fraction_leaf : float, default=0.0\n",
        "        The minimum weighted fraction of the sum total of weights (of all\n",
        "        the input samples) required to be at a leaf node. Samples have\n",
        "        equal weight when sample_weight is not provided.\n",
        "\n",
        "    max_features : int, float or {\"auto\", \"sqrt\", \"log2\"}, default=None\n",
        "        The number of features to consider when looking for the best split:\n",
        "\n",
        "        - If int, then consider `max_features` features at each split.\n",
        "        - If float, then `max_features` is a fraction and\n",
        "          `int(max_features * n_features)` features are considered at each\n",
        "          split.\n",
        "        - If \"auto\", then `max_features=n_features`.\n",
        "        - If \"sqrt\", then `max_features=sqrt(n_features)`.\n",
        "        - If \"log2\", then `max_features=log2(n_features)`.\n",
        "        - If None, then `max_features=n_features`.\n",
        "\n",
        "        Note: the search for a split does not stop until at least one\n",
        "        valid partition of the node samples is found, even if it requires to\n",
        "        effectively inspect more than ``max_features`` features.\n",
        "\n",
        "    random_state : int, RandomState instance or None, default=None\n",
        "        Controls the randomness of the estimator. The features are always\n",
        "        randomly permuted at each split, even if ``splitter`` is set to\n",
        "        ``\"best\"``. When ``max_features < n_features``, the algorithm will\n",
        "        select ``max_features`` at random at each split before finding the best\n",
        "        split among them. But the best found split may vary across different\n",
        "        runs, even if ``max_features=n_features``. That is the case, if the\n",
        "        improvement of the criterion is identical for several splits and one\n",
        "        split has to be selected at random. To obtain a deterministic behaviour\n",
        "        during fitting, ``random_state`` has to be fixed to an integer.\n",
        "        See :term:`Glossary <random_state>` for details.\n",
        "\n",
        "    max_leaf_nodes : int, default=None\n",
        "        Grow a tree with ``max_leaf_nodes`` in best-first fashion.\n",
        "        Best nodes are defined as relative reduction in impurity.\n",
        "        If None then unlimited number of leaf nodes.\n",
        "\n",
        "    min_impurity_decrease : float, default=0.0\n",
        "        A node will be split if this split induces a decrease of the impurity\n",
        "        greater than or equal to this value.\n",
        "\n",
        "        The weighted impurity decrease equation is the following::\n",
        "\n",
        "            N_t / N * (impurity - N_t_R / N_t * right_impurity\n",
        "                                - N_t_L / N_t * left_impurity)\n",
        "\n",
        "        where ``N`` is the total number of samples, ``N_t`` is the number of\n",
        "        samples at the current node, ``N_t_L`` is the number of samples in the\n",
        "        left child, and ``N_t_R`` is the number of samples in the right child.\n",
        "\n",
        "        ``N``, ``N_t``, ``N_t_R`` and ``N_t_L`` all refer to the weighted sum,\n",
        "        if ``sample_weight`` is passed.\n",
        "\n",
        "        .. versionadded:: 0.19\n",
        "\n",
        "    min_impurity_split : float, default=0\n",
        "        Threshold for early stopping in tree growth. A node will split\n",
        "        if its impurity is above the threshold, otherwise it is a leaf.\n",
        "\n",
        "        .. deprecated:: 0.19\n",
        "           ``min_impurity_split`` has been deprecated in favor of\n",
        "           ``min_impurity_decrease`` in 0.19. The default value of\n",
        "           ``min_impurity_split`` has changed from 1e-7 to 0 in 0.23 and it\n",
        "           will be removed in 1.0 (renaming of 0.25).\n",
        "           Use ``min_impurity_decrease`` instead.\n",
        "\n",
        "    ccp_alpha : non-negative float, default=0.0\n",
        "        Complexity parameter used for Minimal Cost-Complexity Pruning. The\n",
        "        subtree with the largest cost complexity that is smaller than\n",
        "        ``ccp_alpha`` will be chosen. By default, no pruning is performed. See\n",
        "        :ref:`minimal_cost_complexity_pruning` for details.\n",
        "\n",
        "        .. versionadded:: 0.22\n",
        "\n",
        "    Attributes\n",
        "    ----------\n",
        "    feature_importances_ : ndarray of shape (n_features,)\n",
        "        The feature importances.\n",
        "        The higher, the more important the feature.\n",
        "        The importance of a feature is computed as the\n",
        "        (normalized) total reduction of the criterion brought\n",
        "        by that feature. It is also known as the Gini importance [4]_.\n",
        "\n",
        "        Warning: impurity-based feature importances can be misleading for\n",
        "        high cardinality features (many unique values). See\n",
        "        :func:`sklearn.inspection.permutation_importance` as an alternative.\n",
        "\n",
        "    max_features_ : int\n",
        "        The inferred value of max_features.\n",
        "\n",
        "    n_features_ : int\n",
        "        The number of features when ``fit`` is performed.\n",
        "\n",
        "    n_outputs_ : int\n",
        "        The number of outputs when ``fit`` is performed.\n",
        "\n",
        "    tree_ : Tree instance\n",
        "        The underlying Tree object. Please refer to\n",
        "        ``help(sklearn.tree._tree.Tree)`` for attributes of Tree object and\n",
        "        :ref:`sphx_glr_auto_examples_tree_plot_unveil_tree_structure.py`\n",
        "        for basic usage of these attributes.\n",
        "\n",
        "    See Also\n",
        "    --------\n",
        "    DecisionTreeClassifier : A decision tree classifier.\n",
        "\n",
        "    Notes\n",
        "    -----\n",
        "    The default values for the parameters controlling the size of the trees\n",
        "    (e.g. ``max_depth``, ``min_samples_leaf``, etc.) lead to fully grown and\n",
        "    unpruned trees which can potentially be very large on some data sets. To\n",
        "    reduce memory consumption, the complexity and size of the trees should be\n",
        "    controlled by setting those parameter values.\n",
        "\n",
        "    References\n",
        "    ----------\n",
        "\n",
        "    .. [1] https://en.wikipedia.org/wiki/Decision_tree_learning\n",
        "\n",
        "    .. [2] L. Breiman, J. Friedman, R. Olshen, and C. Stone, \"Classification\n",
        "           and Regression Trees\", Wadsworth, Belmont, CA, 1984.\n",
        "\n",
        "    .. [3] T. Hastie, R. Tibshirani and J. Friedman. \"Elements of Statistical\n",
        "           Learning\", Springer, 2009.\n",
        "\n",
        "    .. [4] L. Breiman, and A. Cutler, \"Random Forests\",\n",
        "           https://www.stat.berkeley.edu/~breiman/RandomForests/cc_home.htm\n",
        "\n",
        "    Examples\n",
        "    --------\n",
        "    >>> from sklearn.datasets import load_diabetes\n",
        "    >>> from sklearn.model_selection import cross_val_score\n",
        "    >>> from sklearn.tree import DecisionTreeRegressor\n",
        "    >>> X, y = load_diabetes(return_X_y=True)\n",
        "    >>> regressor = DecisionTreeRegressor(random_state=0)\n",
        "    >>> cross_val_score(regressor, X, y, cv=10)\n",
        "    ...                    # doctest: +SKIP\n",
        "    ...\n",
        "    array([-0.39..., -0.46...,  0.02...,  0.06..., -0.50...,\n",
        "           0.16...,  0.11..., -0.73..., -0.30..., -0.00...])\n",
        "    \"\"\"\n",
        "\n",
        "    def __init__(self, *,n=100,\n",
        "                 alphaProbability=0.1,\n",
        "                 criterion=\"mse\",\n",
        "                 splitter=\"best\",\n",
        "                 max_depth=None,\n",
        "                 min_samples_split=2,\n",
        "                 min_samples_leaf=1,\n",
        "                 min_weight_fraction_leaf=0.,\n",
        "                 max_features=None,\n",
        "                 random_state=None,\n",
        "                 max_leaf_nodes=None,\n",
        "                 min_impurity_decrease=0.,\n",
        "                 min_impurity_split=None,\n",
        "                 ccp_alpha=0.0):\n",
        "        super().__init__(\n",
        "            criterion=criterion,\n",
        "            splitter=splitter,\n",
        "            max_depth=max_depth,\n",
        "            min_samples_split=min_samples_split,\n",
        "            min_samples_leaf=min_samples_leaf,\n",
        "            min_weight_fraction_leaf=min_weight_fraction_leaf,\n",
        "            max_features=max_features,\n",
        "            max_leaf_nodes=max_leaf_nodes,\n",
        "            random_state=random_state,\n",
        "            min_impurity_decrease=min_impurity_decrease,\n",
        "            min_impurity_split=min_impurity_split,\n",
        "            ccp_alpha=ccp_alpha)\n",
        "        self.n=n\n",
        "        self.alphaProbability=alphaProbability\n",
        "\n",
        "    def predict(self, X, check_input=True):\n",
        "        \"\"\"Predict class or regression value for X.\n",
        "\n",
        "            For a classification model, the predicted class for each sample in X is\n",
        "            returned. For a regression model, the predicted value based on X is\n",
        "            returned.\n",
        "\n",
        "            Parameters\n",
        "            ----------\n",
        "            X : {array-like, sparse matrix} of shape (n_samples, n_features)\n",
        "                The input samples. Internally, it will be converted to\n",
        "                ``dtype=np.float32`` and if a sparse matrix is provided\n",
        "                to a sparse ``csr_matrix``.\n",
        "\n",
        "            alphaProbability : double, default=0 probability to choose the opposite decision path.\n",
        "\n",
        "            check_input : bool, default=True\n",
        "                Allow to bypass several input checking.\n",
        "                Don't use this parameter unless you know what you do.\n",
        "\n",
        "            Returns\n",
        "            -------\n",
        "            y : array-like of shape (n_samples,) or (n_samples, n_outputs)\n",
        "                The predicted classes, or the predict values.\n",
        "            \"\"\"\n",
        "        check_is_fitted(self)\n",
        "        X = self._validate_X_predict(X, check_input)\n",
        "        probabilisticPredictionFunction = self._generateProbabilisticPredictionFunction(self.alphaProbability)\n",
        "        probaList = [self.predictWrapper(row,probabilisticPredictionFunction) for row in X]\n",
        "        proba = np.concatenate(probaList, axis=0)\n",
        "\n",
        "        # Regression\n",
        "        if self.n_outputs_ == 1:\n",
        "            return proba[:, 0]\n",
        "\n",
        "        else:\n",
        "            return proba[:, :, 0]\n",
        "\n",
        "    def _generateProbabilisticPredictionFunction(self, alphaProbability):\n",
        "        '''\n",
        "        Private util function to generate probabilistic prediction function.\n",
        "        :param alphaProbability:\n",
        "        :type alphaProbability:\n",
        "        :return: function which accept single record\n",
        "        :rtype: function\n",
        "        '''\n",
        "        tree = self.tree_\n",
        "\n",
        "        def _traverse(sample, currNode):\n",
        "            '''\n",
        "            private function to traverse in the decision tree\n",
        "            :param sample: single record without the target variable\n",
        "            :type sample: pandas dataframe\n",
        "            :param currNode: index of the current node in the tree struct\n",
        "            :type currNode: int\n",
        "            :return: array of n-output of the classes, hold values for the record\n",
        "            :rtype: nd.array\n",
        "            '''\n",
        "            if tree.feature[currNode] != _tree.TREE_UNDEFINED:\n",
        "                randomProb = random()\n",
        "                sampleValue = sample[tree.feature[currNode]]\n",
        "                if sampleValue <= tree.threshold[currNode]:\n",
        "                    if (1 - alphaProbability) >= randomProb:\n",
        "                        return _traverse(sample, tree.children_left[currNode])\n",
        "                    else:\n",
        "                        return _traverse(sample, tree.children_right[currNode])\n",
        "                else:\n",
        "                    if (1 - alphaProbability) >= randomProb:\n",
        "                        return _traverse(sample, tree.children_right[currNode])\n",
        "                    else:\n",
        "                        return _traverse(sample, tree.children_left[currNode])\n",
        "            else:\n",
        "                value = tree.value[currNode]\n",
        "                return value\n",
        "\n",
        "        def _predict_single(sample):\n",
        "            '''\n",
        "            Util function to wrap the sample and the tree traverse for lazy use\n",
        "            :param sample:\n",
        "            :type sample:\n",
        "            :return: application of the traverse with the given sample and the root\n",
        "            :rtype:\n",
        "            '''\n",
        "            return _traverse(sample, 0)\n",
        "\n",
        "        return _predict_single\n",
        "\n",
        "    def predictWrapper(self, row, predictionFunction):\n",
        "        '''\n",
        "        Function to wrap the single prediction process, the function will\n",
        "        run the prediction for n iteration\n",
        "        :param X:\n",
        "        :type X:\n",
        "        :param n:\n",
        "        :type n:\n",
        "        :param alphaProbability:\n",
        "        :type alphaProbability:\n",
        "        :return:\n",
        "        :rtype:\n",
        "        '''\n",
        "        predictions = np.array([predictionFunction(row) for i in range(self.n)])\n",
        "        avgPredictions = np.array([np.array([val for val in i]) for i in predictions.mean(0)])\n",
        "        return avgPredictions\n"
      ]
    },
    {
      "cell_type": "code",
      "execution_count": 5,
      "metadata": {
        "collapsed": false
      },
      "outputs": [],
      "source": [
        "# General imports\n",
        "import pandas as pd\n",
        "import numpy as np\n",
        "from sklearn.ensemble import RandomForestClassifier\n",
        "from sklearn.model_selection import train_test_split\n",
        "\n",
        "strokeDataset = pd.read_csv('../datasets/classification/healthcare-dataset-stroke-data.csv')\n",
        "\n",
        "#strokeDataset=preprocess(strokeDataset)\n",
        "\n",
        "#Alternative preprocess using the future steps we mention earlier\n",
        "strokeDataset=strokeDataset[(strokeDataset['bmi'] > strokeDataset['bmi'].quantile(0.01)) & (strokeDataset['bmi'] < strokeDataset['bmi'].quantile(0.99))]\n",
        "strokeDataset = strokeDataset[strokeDataset['gender']!='Other']\n",
        "strokeDataset=pd.get_dummies(strokeDataset,columns=['gender','work_type'],drop_first=False)\n",
        "strokeDataset['ever_married'].replace({'Yes':1,'No':0},inplace=True)\n",
        "strokeDataset['Residence_type'].replace({'Urban':1,'Rural':0},inplace=True)\n",
        "strokeDataset['smoking_status'].replace({'never smoked':0,'formerly smoked':1,'smokes':2,'Unknown':3},inplace=True)\n",
        "strokeDataset.fillna(strokeDataset.mean(), inplace=True)\n",
        "\n",
        "\n",
        "# Load Data\n",
        "stroke_df = strokeDataset\n",
        "label_col = 'stroke'\n",
        "df_train, df_test = train_test_split(stroke_df, stratify=stroke_df[label_col], random_state=0)\n",
        "\n",
        "# Train Model\n",
        "rf_clf = SoftSplitDecisionTreeClassifier()\n",
        "rf_clf.fit(df_train.drop(label_col, axis=1), df_train[label_col]);"
      ]
    },
    {
      "cell_type": "markdown",
      "metadata": {},
      "source": [
        "Define a Dataset Object\n",
        "=======================\n",
        "\n",
        "Initialize the Dataset object, stating the relevant metadata about the\n",
        "dataset (e.g. the name for the label column)\n",
        "\n",
        "Check out the Dataset\\'s attributes to see which additional special\n",
        "columns can be declared and used (e.g. date column, index column).\n"
      ]
    },
    {
      "cell_type": "code",
      "execution_count": 18,
      "metadata": {
        "collapsed": false
      },
      "outputs": [],
      "source": [
        "from deepchecks.tabular import Dataset\n",
        "\n",
        "# We explicitly state that this dataset has no categorical features, otherwise they will be automatically inferred\n",
        "# If the dataset has categorical features, the best practice is to pass a list with their names\n",
        "\n",
        "ds_train = Dataset(df_train, label=label_col, cat_features=[])\n",
        "ds_test =  Dataset(df_test,  label=label_col, cat_features=[])"
      ]
    },
    {
      "cell_type": "code",
      "execution_count": 19,
      "metadata": {
        "collapsed": false
      },
      "outputs": [],
      "source": [
        "from deepchecks.tabular.suites import full_suite\n",
        "\n",
        "suite = full_suite()"
      ]
    },
    {
      "cell_type": "code",
      "execution_count": 20,
      "metadata": {
        "collapsed": false
      },
      "outputs": [
        {
          "name": "stdout",
          "output_type": "stream",
          "text": [
            "Full Suite:   6%|██                                 | 2/35 [00:00<00:00, 70.41 Check/s, Check=Confusion Matrix Report]"
          ]
        },
        {
          "name": "stderr",
          "output_type": "stream",
          "text": [
            "/Users/eshmueli/Library/Python/3.8/lib/python/site-packages/sklearn/base.py:450: UserWarning:\n",
            "\n",
            "X does not have valid feature names, but SoftSplitDecisionTreeClassifier was fitted with feature names\n",
            "\n",
            "/Users/eshmueli/Library/Python/3.8/lib/python/site-packages/sklearn/base.py:450: UserWarning:\n",
            "\n",
            "X does not have valid feature names, but SoftSplitDecisionTreeClassifier was fitted with feature names\n",
            "\n",
            "/Users/eshmueli/Library/Python/3.8/lib/python/site-packages/sklearn/base.py:450: UserWarning:\n",
            "\n",
            "X does not have valid feature names, but SoftSplitDecisionTreeClassifier was fitted with feature names\n",
            "\n",
            "/Users/eshmueli/Library/Python/3.8/lib/python/site-packages/sklearn/base.py:450: UserWarning:\n",
            "\n",
            "X does not have valid feature names, but SoftSplitDecisionTreeClassifier was fitted with feature names\n",
            "\n"
          ]
        },
        {
          "name": "stdout",
          "output_type": "stream",
          "text": [
            "Full Suite:   9%|███                                | 3/35 [00:16<02:56,  5.53s/ Check, Check=Performance Report]     "
          ]
        },
        {
          "name": "stderr",
          "output_type": "stream",
          "text": [
            "/Users/eshmueli/Library/Python/3.8/lib/python/site-packages/sklearn/base.py:450: UserWarning:\n",
            "\n",
            "X does not have valid feature names, but SoftSplitDecisionTreeClassifier was fitted with feature names\n",
            "\n",
            "/Users/eshmueli/Library/Python/3.8/lib/python/site-packages/sklearn/base.py:450: UserWarning:\n",
            "\n",
            "X does not have valid feature names, but SoftSplitDecisionTreeClassifier was fitted with feature names\n",
            "\n",
            "/Users/eshmueli/Library/Python/3.8/lib/python/site-packages/sklearn/base.py:450: UserWarning:\n",
            "\n",
            "X does not have valid feature names, but SoftSplitDecisionTreeClassifier was fitted with feature names\n",
            "\n",
            "/Users/eshmueli/Library/Python/3.8/lib/python/site-packages/sklearn/base.py:450: UserWarning:\n",
            "\n",
            "X does not have valid feature names, but SoftSplitDecisionTreeClassifier was fitted with feature names\n",
            "\n",
            "/Users/eshmueli/Library/Python/3.8/lib/python/site-packages/sklearn/base.py:450: UserWarning:\n",
            "\n",
            "X does not have valid feature names, but SoftSplitDecisionTreeClassifier was fitted with feature names\n",
            "\n",
            "/Users/eshmueli/Library/Python/3.8/lib/python/site-packages/sklearn/base.py:450: UserWarning:\n",
            "\n",
            "X does not have valid feature names, but SoftSplitDecisionTreeClassifier was fitted with feature names\n",
            "\n",
            "/Users/eshmueli/Library/Python/3.8/lib/python/site-packages/sklearn/base.py:450: UserWarning:\n",
            "\n",
            "X does not have valid feature names, but SoftSplitDecisionTreeClassifier was fitted with feature names\n",
            "\n",
            "/Users/eshmueli/Library/Python/3.8/lib/python/site-packages/sklearn/base.py:450: UserWarning:\n",
            "\n",
            "X does not have valid feature names, but SoftSplitDecisionTreeClassifier was fitted with feature names\n",
            "\n",
            "/Users/eshmueli/Library/Python/3.8/lib/python/site-packages/sklearn/base.py:450: UserWarning:\n",
            "\n",
            "X does not have valid feature names, but SoftSplitDecisionTreeClassifier was fitted with feature names\n",
            "\n"
          ]
        },
        {
          "name": "stdout",
          "output_type": "stream",
          "text": [
            "Full Suite:  14%|█████                              | 5/35 [01:22<09:19, 18.67s/ Check, Check=Simple Model Comparison]"
          ]
        },
        {
          "name": "stderr",
          "output_type": "stream",
          "text": [
            "/Users/eshmueli/Library/Python/3.8/lib/python/site-packages/sklearn/base.py:450: UserWarning:\n",
            "\n",
            "X does not have valid feature names, but SoftSplitDecisionTreeClassifier was fitted with feature names\n",
            "\n",
            "/Users/eshmueli/Library/Python/3.8/lib/python/site-packages/sklearn/base.py:450: UserWarning:\n",
            "\n",
            "X does not have valid feature names, but SoftSplitDecisionTreeClassifier was fitted with feature names\n",
            "\n"
          ]
        },
        {
          "name": "stdout",
          "output_type": "stream",
          "text": [
            "Full Suite:  17%|██████                             | 6/35 [01:26<06:51, 14.17s/ Check, Check=Model Error Analysis]   "
          ]
        },
        {
          "name": "stderr",
          "output_type": "stream",
          "text": [
            "/Users/eshmueli/Library/Python/3.8/lib/python/site-packages/sklearn/base.py:450: UserWarning:\n",
            "\n",
            "X does not have valid feature names, but SoftSplitDecisionTreeClassifier was fitted with feature names\n",
            "\n"
          ]
        },
        {
          "name": "stdout",
          "output_type": "stream",
          "text": [
            "Full Suite:  34%|████████████                       | 12/35 [01:59<05:53, 15.38s/ Check, Check=Model Inference Time]        "
          ]
        },
        {
          "name": "stderr",
          "output_type": "stream",
          "text": [
            "/Users/eshmueli/Library/Python/3.8/lib/python/site-packages/sklearn/base.py:450: UserWarning:\n",
            "\n",
            "X does not have valid feature names, but SoftSplitDecisionTreeClassifier was fitted with feature names\n",
            "\n",
            "/Users/eshmueli/Library/Python/3.8/lib/python/site-packages/sklearn/base.py:450: UserWarning:\n",
            "\n",
            "X does not have valid feature names, but SoftSplitDecisionTreeClassifier was fitted with feature names\n",
            "\n",
            "/Users/eshmueli/Library/Python/3.8/lib/python/site-packages/sklearn/base.py:450: UserWarning:\n",
            "\n",
            "X does not have valid feature names, but SoftSplitDecisionTreeClassifier was fitted with feature names\n",
            "\n"
          ]
        },
        {
          "name": "stdout",
          "output_type": "stream",
          "text": [
            "                                                                                                                                      \r"
          ]
        },
        {
          "data": {
            "text/html": [
              "<hr style=\"background-color: black;border: 0 none;color: black;height: 1px;\">\n",
              "        <h1 id=\"summary_G5D4I\">Full Suite</h1>\n",
              "        <p>\n",
              "            The suite is composed of various checks such as: Category Mismatch Train Test, Train Test Samples Mix, String Length Out Of Bounds, etc...<br>\n",
              "            Each check may contain conditions (which will result in pass / fail / warning / error\n",
              "            , represented by \n",
              "    <span style=\"color: green;display:inline-block\">✓</span> /\n",
              "    <span style=\"color: red;display:inline-block\">✖</span> /\n",
              "    <span style=\"color: orange;font-weight:bold;display:inline-block\">!</span> /\n",
              "    <span style=\"color: firebrick;font-weight:bold;display:inline-block\">⁈</span>\n",
              "    ) as well as other outputs such as plots or tables.<br>\n",
              "            Suites, checks and conditions can all be modified. Read more about\n",
              "            <a href=https://docs.deepchecks.com/en/stable/examples/guides/create_a_custom_suite.html?utm_source=display_output&utm_medium=referral&utm_campaign=suite_link target=\"_blank\">custom suites</a>.\n",
              "        </p>\n",
              "        "
            ]
          },
          "metadata": {},
          "output_type": "display_data"
        },
        {
          "data": {
            "text/html": [
              "<h2>Conditions Summary</h2><style type=\"text/css\">\n",
              "#T_f4503 table {\n",
              "  text-align: left;\n",
              "  white-space: pre-wrap;\n",
              "}\n",
              "#T_f4503 thead {\n",
              "  text-align: left;\n",
              "  white-space: pre-wrap;\n",
              "}\n",
              "#T_f4503 tbody {\n",
              "  text-align: left;\n",
              "  white-space: pre-wrap;\n",
              "}\n",
              "#T_f4503 th {\n",
              "  text-align: left;\n",
              "  white-space: pre-wrap;\n",
              "}\n",
              "#T_f4503 td {\n",
              "  text-align: left;\n",
              "  white-space: pre-wrap;\n",
              "}\n",
              "</style>\n",
              "<table id=\"T_f4503\">\n",
              "  <thead>\n",
              "    <tr>\n",
              "      <th id=\"T_f4503_level0_col0\" class=\"col_heading level0 col0\" >Status</th>\n",
              "      <th id=\"T_f4503_level0_col1\" class=\"col_heading level0 col1\" >Check</th>\n",
              "      <th id=\"T_f4503_level0_col2\" class=\"col_heading level0 col2\" >Condition</th>\n",
              "      <th id=\"T_f4503_level0_col3\" class=\"col_heading level0 col3\" >More Info</th>\n",
              "    </tr>\n",
              "  </thead>\n",
              "  <tbody>\n",
              "    <tr>\n",
              "      <td id=\"T_f4503_row0_col0\" class=\"data row0 col0\" ><div style=\"color: red;text-align: center\">✖</div></td>\n",
              "      <td id=\"T_f4503_row0_col1\" class=\"data row0 col1\" ><a href=#PerformanceReport_G5D4I>Performance Report</a></td>\n",
              "      <td id=\"T_f4503_row0_col2\" class=\"data row0 col2\" >Train-Test scores relative degradation is not greater than 0.1</td>\n",
              "      <td id=\"T_f4503_row0_col3\" class=\"data row0 col3\" >F1 for class 1 (train=0.06 test=0)\n",
              "Precision for class 1 (train=1 test=0.5)\n",
              "Recall for class 1 (train=0.03 test=0)</td>\n",
              "    </tr>\n",
              "    <tr>\n",
              "      <td id=\"T_f4503_row1_col0\" class=\"data row1 col0\" ><div style=\"color: red;text-align: center\">✖</div></td>\n",
              "      <td id=\"T_f4503_row1_col1\" class=\"data row1 col1\" ><a href=#SimpleModelComparison_G5D4I>Simple Model Comparison</a></td>\n",
              "      <td id=\"T_f4503_row1_col2\" class=\"data row1 col2\" >Model performance gain over simple model is not less than 10%</td>\n",
              "      <td id=\"T_f4503_row1_col3\" class=\"data row1 col3\" >Found metrics with gain below threshold: {'F1': {0: '-3.93%', 1: '0%'}}</td>\n",
              "    </tr>\n",
              "    <tr>\n",
              "      <td id=\"T_f4503_row2_col0\" class=\"data row2 col0\" ><div style=\"color: red;text-align: center\">✖</div></td>\n",
              "      <td id=\"T_f4503_row2_col1\" class=\"data row2 col1\" ><a href=#ModelInferenceTime-TrainDataset_G5D4I>Model Inference Time - Train Dataset</a></td>\n",
              "      <td id=\"T_f4503_row2_col2\" class=\"data row2 col2\" >Average model inference time for one sample is not greater than 0.001</td>\n",
              "      <td id=\"T_f4503_row2_col3\" class=\"data row2 col3\" >Found average inference time (in seconds) above threshold: 0.00350966</td>\n",
              "    </tr>\n",
              "    <tr>\n",
              "      <td id=\"T_f4503_row3_col0\" class=\"data row3 col0\" ><div style=\"color: red;text-align: center\">✖</div></td>\n",
              "      <td id=\"T_f4503_row3_col1\" class=\"data row3 col1\" ><a href=#ModelInferenceTime-TestDataset_G5D4I>Model Inference Time - Test Dataset</a></td>\n",
              "      <td id=\"T_f4503_row3_col2\" class=\"data row3 col2\" >Average model inference time for one sample is not greater than 0.001</td>\n",
              "      <td id=\"T_f4503_row3_col3\" class=\"data row3 col3\" >Found average inference time (in seconds) above threshold: 0.00353499</td>\n",
              "    </tr>\n",
              "    <tr>\n",
              "      <td id=\"T_f4503_row4_col0\" class=\"data row4 col0\" ><div style=\"color: green;text-align: center\">✓</div></td>\n",
              "      <td id=\"T_f4503_row4_col1\" class=\"data row4 col1\" ><a href=#ROCReport-TrainDataset_G5D4I>ROC Report - Train Dataset</a></td>\n",
              "      <td id=\"T_f4503_row4_col2\" class=\"data row4 col2\" >AUC score for all the classes is not less than 0.7</td>\n",
              "      <td id=\"T_f4503_row4_col3\" class=\"data row4 col3\" ></td>\n",
              "    </tr>\n",
              "    <tr>\n",
              "      <td id=\"T_f4503_row5_col0\" class=\"data row5 col0\" ><div style=\"color: green;text-align: center\">✓</div></td>\n",
              "      <td id=\"T_f4503_row5_col1\" class=\"data row5 col1\" ><a href=#ROCReport-TestDataset_G5D4I>ROC Report - Test Dataset</a></td>\n",
              "      <td id=\"T_f4503_row5_col2\" class=\"data row5 col2\" >AUC score for all the classes is not less than 0.7</td>\n",
              "      <td id=\"T_f4503_row5_col3\" class=\"data row5 col3\" ></td>\n",
              "    </tr>\n",
              "    <tr>\n",
              "      <td id=\"T_f4503_row6_col0\" class=\"data row6 col0\" ><div style=\"color: green;text-align: center\">✓</div></td>\n",
              "      <td id=\"T_f4503_row6_col1\" class=\"data row6 col1\" ><a href=#UnusedFeatures_G5D4I>Unused Features</a></td>\n",
              "      <td id=\"T_f4503_row6_col2\" class=\"data row6 col2\" >Number of high variance unused features is not greater than 5</td>\n",
              "      <td id=\"T_f4503_row6_col3\" class=\"data row6 col3\" ></td>\n",
              "    </tr>\n",
              "    <tr>\n",
              "      <td id=\"T_f4503_row7_col0\" class=\"data row7 col0\" ><div style=\"color: green;text-align: center\">✓</div></td>\n",
              "      <td id=\"T_f4503_row7_col1\" class=\"data row7 col1\" ><a href=#TrainTestDrift_G5D4I>Train Test Drift</a></td>\n",
              "      <td id=\"T_f4503_row7_col2\" class=\"data row7 col2\" >PSI <= 0.2 and Earth Mover's Distance <= 0.1</td>\n",
              "      <td id=\"T_f4503_row7_col3\" class=\"data row7 col3\" ></td>\n",
              "    </tr>\n",
              "    <tr>\n",
              "      <td id=\"T_f4503_row8_col0\" class=\"data row8 col0\" ><div style=\"color: green;text-align: center\">✓</div></td>\n",
              "      <td id=\"T_f4503_row8_col1\" class=\"data row8 col1\" ><a href=#TrainTestLabelDrift_G5D4I>Train Test Label Drift</a></td>\n",
              "      <td id=\"T_f4503_row8_col2\" class=\"data row8 col2\" >PSI <= 0.2 and Earth Mover's Distance <= 0.1 for label drift</td>\n",
              "      <td id=\"T_f4503_row8_col3\" class=\"data row8 col3\" ></td>\n",
              "    </tr>\n",
              "    <tr>\n",
              "      <td id=\"T_f4503_row9_col0\" class=\"data row9 col0\" ><div style=\"color: green;text-align: center\">✓</div></td>\n",
              "      <td id=\"T_f4503_row9_col1\" class=\"data row9 col1\" ><a href=#DatasetsSizeComparison_G5D4I>Datasets Size Comparison</a></td>\n",
              "      <td id=\"T_f4503_row9_col2\" class=\"data row9 col2\" >Test-Train size ratio is not smaller than 0.01</td>\n",
              "      <td id=\"T_f4503_row9_col3\" class=\"data row9 col3\" ></td>\n",
              "    </tr>\n",
              "    <tr>\n",
              "      <td id=\"T_f4503_row10_col0\" class=\"data row10 col0\" ><div style=\"color: green;text-align: center\">✓</div></td>\n",
              "      <td id=\"T_f4503_row10_col1\" class=\"data row10 col1\" >Mixed Data Types - Test Dataset</td>\n",
              "      <td id=\"T_f4503_row10_col2\" class=\"data row10 col2\" >Rare data types in column are either more than 10% or less than 1% of the data</td>\n",
              "      <td id=\"T_f4503_row10_col3\" class=\"data row10 col3\" ></td>\n",
              "    </tr>\n",
              "    <tr>\n",
              "      <td id=\"T_f4503_row11_col0\" class=\"data row11 col0\" ><div style=\"color: green;text-align: center\">✓</div></td>\n",
              "      <td id=\"T_f4503_row11_col1\" class=\"data row11 col1\" >String Mismatch - Train Dataset</td>\n",
              "      <td id=\"T_f4503_row11_col2\" class=\"data row11 col2\" >No string variants</td>\n",
              "      <td id=\"T_f4503_row11_col3\" class=\"data row11 col3\" ></td>\n",
              "    </tr>\n",
              "    <tr>\n",
              "      <td id=\"T_f4503_row12_col0\" class=\"data row12 col0\" ><div style=\"color: green;text-align: center\">✓</div></td>\n",
              "      <td id=\"T_f4503_row12_col1\" class=\"data row12 col1\" >String Mismatch - Test Dataset</td>\n",
              "      <td id=\"T_f4503_row12_col2\" class=\"data row12 col2\" >No string variants</td>\n",
              "      <td id=\"T_f4503_row12_col3\" class=\"data row12 col3\" ></td>\n",
              "    </tr>\n",
              "    <tr>\n",
              "      <td id=\"T_f4503_row13_col0\" class=\"data row13 col0\" ><div style=\"color: green;text-align: center\">✓</div></td>\n",
              "      <td id=\"T_f4503_row13_col1\" class=\"data row13 col1\" >Data Duplicates - Train Dataset</td>\n",
              "      <td id=\"T_f4503_row13_col2\" class=\"data row13 col2\" >Duplicate data ratio is not greater than 0%</td>\n",
              "      <td id=\"T_f4503_row13_col3\" class=\"data row13 col3\" ></td>\n",
              "    </tr>\n",
              "    <tr>\n",
              "      <td id=\"T_f4503_row14_col0\" class=\"data row14 col0\" ><div style=\"color: green;text-align: center\">✓</div></td>\n",
              "      <td id=\"T_f4503_row14_col1\" class=\"data row14 col1\" >Special Characters - Train Dataset</td>\n",
              "      <td id=\"T_f4503_row14_col2\" class=\"data row14 col2\" >Ratio of entirely special character samples not greater than 0.1%</td>\n",
              "      <td id=\"T_f4503_row14_col3\" class=\"data row14 col3\" ></td>\n",
              "    </tr>\n",
              "    <tr>\n",
              "      <td id=\"T_f4503_row15_col0\" class=\"data row15 col0\" ><div style=\"color: green;text-align: center\">✓</div></td>\n",
              "      <td id=\"T_f4503_row15_col1\" class=\"data row15 col1\" >String Length Out Of Bounds - Train Dataset</td>\n",
              "      <td id=\"T_f4503_row15_col2\" class=\"data row15 col2\" >Ratio of outliers not greater than 0% string length outliers</td>\n",
              "      <td id=\"T_f4503_row15_col3\" class=\"data row15 col3\" ></td>\n",
              "    </tr>\n",
              "    <tr>\n",
              "      <td id=\"T_f4503_row16_col0\" class=\"data row16 col0\" ><div style=\"color: green;text-align: center\">✓</div></td>\n",
              "      <td id=\"T_f4503_row16_col1\" class=\"data row16 col1\" >String Length Out Of Bounds - Test Dataset</td>\n",
              "      <td id=\"T_f4503_row16_col2\" class=\"data row16 col2\" >Ratio of outliers not greater than 0% string length outliers</td>\n",
              "      <td id=\"T_f4503_row16_col3\" class=\"data row16 col3\" ></td>\n",
              "    </tr>\n",
              "    <tr>\n",
              "      <td id=\"T_f4503_row17_col0\" class=\"data row17 col0\" ><div style=\"color: green;text-align: center\">✓</div></td>\n",
              "      <td id=\"T_f4503_row17_col1\" class=\"data row17 col1\" >Mixed Data Types - Train Dataset</td>\n",
              "      <td id=\"T_f4503_row17_col2\" class=\"data row17 col2\" >Rare data types in column are either more than 10% or less than 1% of the data</td>\n",
              "      <td id=\"T_f4503_row17_col3\" class=\"data row17 col3\" ></td>\n",
              "    </tr>\n",
              "    <tr>\n",
              "      <td id=\"T_f4503_row18_col0\" class=\"data row18 col0\" ><div style=\"color: green;text-align: center\">✓</div></td>\n",
              "      <td id=\"T_f4503_row18_col1\" class=\"data row18 col1\" >Special Characters - Test Dataset</td>\n",
              "      <td id=\"T_f4503_row18_col2\" class=\"data row18 col2\" >Ratio of entirely special character samples not greater than 0.1%</td>\n",
              "      <td id=\"T_f4503_row18_col3\" class=\"data row18 col3\" ></td>\n",
              "    </tr>\n",
              "    <tr>\n",
              "      <td id=\"T_f4503_row19_col0\" class=\"data row19 col0\" ><div style=\"color: green;text-align: center\">✓</div></td>\n",
              "      <td id=\"T_f4503_row19_col1\" class=\"data row19 col1\" >Data Duplicates - Test Dataset</td>\n",
              "      <td id=\"T_f4503_row19_col2\" class=\"data row19 col2\" >Duplicate data ratio is not greater than 0%</td>\n",
              "      <td id=\"T_f4503_row19_col3\" class=\"data row19 col3\" ></td>\n",
              "    </tr>\n",
              "    <tr>\n",
              "      <td id=\"T_f4503_row20_col0\" class=\"data row20 col0\" ><div style=\"color: green;text-align: center\">✓</div></td>\n",
              "      <td id=\"T_f4503_row20_col1\" class=\"data row20 col1\" >Mixed Nulls - Test Dataset</td>\n",
              "      <td id=\"T_f4503_row20_col2\" class=\"data row20 col2\" >Not more than 1 different null types</td>\n",
              "      <td id=\"T_f4503_row20_col3\" class=\"data row20 col3\" ></td>\n",
              "    </tr>\n",
              "    <tr>\n",
              "      <td id=\"T_f4503_row21_col0\" class=\"data row21 col0\" ><div style=\"color: green;text-align: center\">✓</div></td>\n",
              "      <td id=\"T_f4503_row21_col1\" class=\"data row21 col1\" >Single Feature Contribution Train-Test</td>\n",
              "      <td id=\"T_f4503_row21_col2\" class=\"data row21 col2\" >Train features' Predictive Power Score is not greater than 0.7</td>\n",
              "      <td id=\"T_f4503_row21_col3\" class=\"data row21 col3\" ></td>\n",
              "    </tr>\n",
              "    <tr>\n",
              "      <td id=\"T_f4503_row22_col0\" class=\"data row22 col0\" ><div style=\"color: green;text-align: center\">✓</div></td>\n",
              "      <td id=\"T_f4503_row22_col1\" class=\"data row22 col1\" >Single Value in Column - Test Dataset</td>\n",
              "      <td id=\"T_f4503_row22_col2\" class=\"data row22 col2\" >Does not contain only a single value</td>\n",
              "      <td id=\"T_f4503_row22_col3\" class=\"data row22 col3\" ></td>\n",
              "    </tr>\n",
              "    <tr>\n",
              "      <td id=\"T_f4503_row23_col0\" class=\"data row23 col0\" ><div style=\"color: green;text-align: center\">✓</div></td>\n",
              "      <td id=\"T_f4503_row23_col1\" class=\"data row23 col1\" >Single Value in Column - Train Dataset</td>\n",
              "      <td id=\"T_f4503_row23_col2\" class=\"data row23 col2\" >Does not contain only a single value</td>\n",
              "      <td id=\"T_f4503_row23_col3\" class=\"data row23 col3\" ></td>\n",
              "    </tr>\n",
              "    <tr>\n",
              "      <td id=\"T_f4503_row24_col0\" class=\"data row24 col0\" ><div style=\"color: green;text-align: center\">✓</div></td>\n",
              "      <td id=\"T_f4503_row24_col1\" class=\"data row24 col1\" >Train Test Samples Mix</td>\n",
              "      <td id=\"T_f4503_row24_col2\" class=\"data row24 col2\" >Percentage of test data samples that appear in train data not greater than 10%</td>\n",
              "      <td id=\"T_f4503_row24_col3\" class=\"data row24 col3\" ></td>\n",
              "    </tr>\n",
              "    <tr>\n",
              "      <td id=\"T_f4503_row25_col0\" class=\"data row25 col0\" ><div style=\"color: green;text-align: center\">✓</div></td>\n",
              "      <td id=\"T_f4503_row25_col1\" class=\"data row25 col1\" >Label Ambiguity - Train Dataset</td>\n",
              "      <td id=\"T_f4503_row25_col2\" class=\"data row25 col2\" >Ambiguous sample ratio is not greater than 0%</td>\n",
              "      <td id=\"T_f4503_row25_col3\" class=\"data row25 col3\" ></td>\n",
              "    </tr>\n",
              "    <tr>\n",
              "      <td id=\"T_f4503_row26_col0\" class=\"data row26 col0\" ><div style=\"color: green;text-align: center\">✓</div></td>\n",
              "      <td id=\"T_f4503_row26_col1\" class=\"data row26 col1\" >Single Feature Contribution Train-Test</td>\n",
              "      <td id=\"T_f4503_row26_col2\" class=\"data row26 col2\" >Train-Test features' Predictive Power Score difference is not greater than 0.2</td>\n",
              "      <td id=\"T_f4503_row26_col3\" class=\"data row26 col3\" ></td>\n",
              "    </tr>\n",
              "    <tr>\n",
              "      <td id=\"T_f4503_row27_col0\" class=\"data row27 col0\" ><div style=\"color: green;text-align: center\">✓</div></td>\n",
              "      <td id=\"T_f4503_row27_col1\" class=\"data row27 col1\" >String Mismatch Comparison</td>\n",
              "      <td id=\"T_f4503_row27_col2\" class=\"data row27 col2\" >No new variants allowed in test data</td>\n",
              "      <td id=\"T_f4503_row27_col3\" class=\"data row27 col3\" ></td>\n",
              "    </tr>\n",
              "    <tr>\n",
              "      <td id=\"T_f4503_row28_col0\" class=\"data row28 col0\" ><div style=\"color: green;text-align: center\">✓</div></td>\n",
              "      <td id=\"T_f4503_row28_col1\" class=\"data row28 col1\" >New Label Train Test</td>\n",
              "      <td id=\"T_f4503_row28_col2\" class=\"data row28 col2\" >Number of new label values is not greater than 0</td>\n",
              "      <td id=\"T_f4503_row28_col3\" class=\"data row28 col3\" ></td>\n",
              "    </tr>\n",
              "    <tr>\n",
              "      <td id=\"T_f4503_row29_col0\" class=\"data row29 col0\" ><div style=\"color: green;text-align: center\">✓</div></td>\n",
              "      <td id=\"T_f4503_row29_col1\" class=\"data row29 col1\" >Category Mismatch Train Test</td>\n",
              "      <td id=\"T_f4503_row29_col2\" class=\"data row29 col2\" >Ratio of samples with a new category is not greater than 0%</td>\n",
              "      <td id=\"T_f4503_row29_col3\" class=\"data row29 col3\" ></td>\n",
              "    </tr>\n",
              "    <tr>\n",
              "      <td id=\"T_f4503_row30_col0\" class=\"data row30 col0\" ><div style=\"color: green;text-align: center\">✓</div></td>\n",
              "      <td id=\"T_f4503_row30_col1\" class=\"data row30 col1\" >Dominant Frequency Change</td>\n",
              "      <td id=\"T_f4503_row30_col2\" class=\"data row30 col2\" >Change in ratio of dominant value in data is not greater than 25%</td>\n",
              "      <td id=\"T_f4503_row30_col3\" class=\"data row30 col3\" ></td>\n",
              "    </tr>\n",
              "    <tr>\n",
              "      <td id=\"T_f4503_row31_col0\" class=\"data row31 col0\" ><div style=\"color: green;text-align: center\">✓</div></td>\n",
              "      <td id=\"T_f4503_row31_col1\" class=\"data row31 col1\" >Whole Dataset Drift</td>\n",
              "      <td id=\"T_f4503_row31_col2\" class=\"data row31 col2\" >Drift value is not greater than 0.25</td>\n",
              "      <td id=\"T_f4503_row31_col3\" class=\"data row31 col3\" ></td>\n",
              "    </tr>\n",
              "    <tr>\n",
              "      <td id=\"T_f4503_row32_col0\" class=\"data row32 col0\" ><div style=\"color: green;text-align: center\">✓</div></td>\n",
              "      <td id=\"T_f4503_row32_col1\" class=\"data row32 col1\" >Mixed Nulls - Train Dataset</td>\n",
              "      <td id=\"T_f4503_row32_col2\" class=\"data row32 col2\" >Not more than 1 different null types</td>\n",
              "      <td id=\"T_f4503_row32_col3\" class=\"data row32 col3\" ></td>\n",
              "    </tr>\n",
              "    <tr>\n",
              "      <td id=\"T_f4503_row33_col0\" class=\"data row33 col0\" ><div style=\"color: green;text-align: center\">✓</div></td>\n",
              "      <td id=\"T_f4503_row33_col1\" class=\"data row33 col1\" >Label Ambiguity - Test Dataset</td>\n",
              "      <td id=\"T_f4503_row33_col2\" class=\"data row33 col2\" >Ambiguous sample ratio is not greater than 0%</td>\n",
              "      <td id=\"T_f4503_row33_col3\" class=\"data row33 col3\" ></td>\n",
              "    </tr>\n",
              "  </tbody>\n",
              "</table>\n"
            ]
          },
          "metadata": {},
          "output_type": "display_data"
        },
        {
          "data": {
            "text/html": [
              "<hr style=\"background-color: black;border: 0 none;color: black;height: 1px;\"><h2>Check With Conditions Output</h2>"
            ]
          },
          "metadata": {},
          "output_type": "display_data"
        },
        {
          "data": {
            "text/html": [
              "<h4 id=\"PerformanceReport_G5D4I\">Performance Report</h4><p>Summarize given scores on a dataset and model. <a href=\"https://docs.deepchecks.com/0.6.1/examples/tabular/checks/performance/examples/plot_performance_report.html?utm_source=display_output&utm_medium=referral&utm_campaign=check_link\" target=\"_blank\">Read More...</a></p><h5>Conditions Summary</h5><style type=\"text/css\">\n",
              "#T_459e4 table {\n",
              "  text-align: left;\n",
              "  white-space: pre-wrap;\n",
              "}\n",
              "#T_459e4 thead {\n",
              "  text-align: left;\n",
              "  white-space: pre-wrap;\n",
              "}\n",
              "#T_459e4 tbody {\n",
              "  text-align: left;\n",
              "  white-space: pre-wrap;\n",
              "}\n",
              "#T_459e4 th {\n",
              "  text-align: left;\n",
              "  white-space: pre-wrap;\n",
              "}\n",
              "#T_459e4 td {\n",
              "  text-align: left;\n",
              "  white-space: pre-wrap;\n",
              "}\n",
              "</style>\n",
              "<table id=\"T_459e4\">\n",
              "  <thead>\n",
              "    <tr>\n",
              "      <th id=\"T_459e4_level0_col0\" class=\"col_heading level0 col0\" >Status</th>\n",
              "      <th id=\"T_459e4_level0_col1\" class=\"col_heading level0 col1\" >Condition</th>\n",
              "      <th id=\"T_459e4_level0_col2\" class=\"col_heading level0 col2\" >More Info</th>\n",
              "    </tr>\n",
              "  </thead>\n",
              "  <tbody>\n",
              "    <tr>\n",
              "      <td id=\"T_459e4_row0_col0\" class=\"data row0 col0\" ><div style=\"color: red;text-align: center\">✖</div></td>\n",
              "      <td id=\"T_459e4_row0_col1\" class=\"data row0 col1\" >Train-Test scores relative degradation is not greater than 0.1</td>\n",
              "      <td id=\"T_459e4_row0_col2\" class=\"data row0 col2\" >F1 for class 1 (train=0.06 test=0)\n",
              "Precision for class 1 (train=1 test=0.5)\n",
              "Recall for class 1 (train=0.03 test=0)</td>\n",
              "    </tr>\n",
              "  </tbody>\n",
              "</table>\n",
              "<h5>Additional Outputs</h5>"
            ]
          },
          "metadata": {},
          "output_type": "display_data"
        },
        {
          "data": {
            "application/vnd.plotly.v1+json": {
              "config": {
                "plotlyServerURL": "https://plot.ly"
              },
              "data": [
                {
                  "alignmentgroup": "True",
                  "bingroup": "x",
                  "histfunc": "sum",
                  "hovertemplate": "Dataset=Train<br>Metric=F1<br>Class=%{x}<br>sum of Value=%{y}<extra></extra>",
                  "legendgroup": "Train",
                  "marker": {
                    "color": "#636efa",
                    "pattern": {
                      "shape": ""
                    }
                  },
                  "name": "Train",
                  "offsetgroup": "Train",
                  "orientation": "v",
                  "showlegend": true,
                  "type": "histogram",
                  "x": [
                    0,
                    1
                  ],
                  "xaxis": "x",
                  "y": [
                    0.9785663591199432,
                    0.062111801242236024
                  ],
                  "yaxis": "y"
                },
                {
                  "alignmentgroup": "True",
                  "bingroup": "x",
                  "histfunc": "sum",
                  "hovertemplate": "Dataset=Train<br>Metric=Precision<br>Class=%{x}<br>sum of Value=%{y}<extra></extra>",
                  "legendgroup": "Train",
                  "marker": {
                    "color": "#636efa",
                    "pattern": {
                      "shape": ""
                    }
                  },
                  "name": "Train",
                  "offsetgroup": "Train",
                  "orientation": "v",
                  "showlegend": false,
                  "type": "histogram",
                  "x": [
                    0,
                    1
                  ],
                  "xaxis": "x2",
                  "y": [
                    0.9575,
                    1
                  ],
                  "yaxis": "y2"
                },
                {
                  "alignmentgroup": "True",
                  "bingroup": "x",
                  "histfunc": "sum",
                  "hovertemplate": "Dataset=Train<br>Metric=Recall<br>Class=%{x}<br>sum of Value=%{y}<extra></extra>",
                  "legendgroup": "Train",
                  "marker": {
                    "color": "#636efa",
                    "pattern": {
                      "shape": ""
                    }
                  },
                  "name": "Train",
                  "offsetgroup": "Train",
                  "orientation": "v",
                  "showlegend": false,
                  "type": "histogram",
                  "x": [
                    0,
                    1
                  ],
                  "xaxis": "x3",
                  "y": [
                    1,
                    0.03205128205128205
                  ],
                  "yaxis": "y3"
                },
                {
                  "alignmentgroup": "True",
                  "bingroup": "x",
                  "histfunc": "sum",
                  "hovertemplate": "Dataset=Test<br>Metric=F1<br>Class=%{x}<br>sum of Value=%{y}<extra></extra>",
                  "legendgroup": "Test",
                  "marker": {
                    "color": "#EF553B",
                    "pattern": {
                      "shape": ""
                    }
                  },
                  "name": "Test",
                  "offsetgroup": "Test",
                  "orientation": "v",
                  "showlegend": true,
                  "type": "histogram",
                  "x": [
                    0,
                    1
                  ],
                  "xaxis": "x",
                  "y": [
                    0.9774564015312632,
                    0
                  ],
                  "yaxis": "y"
                },
                {
                  "alignmentgroup": "True",
                  "bingroup": "x",
                  "histfunc": "sum",
                  "hovertemplate": "Dataset=Test<br>Metric=Precision<br>Class=%{x}<br>sum of Value=%{y}<extra></extra>",
                  "legendgroup": "Test",
                  "marker": {
                    "color": "#EF553B",
                    "pattern": {
                      "shape": ""
                    }
                  },
                  "name": "Test",
                  "offsetgroup": "Test",
                  "orientation": "v",
                  "showlegend": false,
                  "type": "histogram",
                  "x": [
                    0,
                    1
                  ],
                  "xaxis": "x2",
                  "y": [
                    0.9575,
                    0.5
                  ],
                  "yaxis": "y2"
                },
                {
                  "alignmentgroup": "True",
                  "bingroup": "x",
                  "histfunc": "sum",
                  "hovertemplate": "Dataset=Test<br>Metric=Recall<br>Class=%{x}<br>sum of Value=%{y}<extra></extra>",
                  "legendgroup": "Test",
                  "marker": {
                    "color": "#EF553B",
                    "pattern": {
                      "shape": ""
                    }
                  },
                  "name": "Test",
                  "offsetgroup": "Test",
                  "orientation": "v",
                  "showlegend": false,
                  "type": "histogram",
                  "x": [
                    0,
                    1
                  ],
                  "xaxis": "x3",
                  "y": [
                    0.9991304347826087,
                    0
                  ],
                  "yaxis": "y3"
                }
              ],
              "layout": {
                "annotations": [
                  {
                    "font": {},
                    "showarrow": false,
                    "text": "F1",
                    "x": 0.15,
                    "xanchor": "center",
                    "xref": "paper",
                    "y": 1,
                    "yanchor": "bottom",
                    "yref": "paper"
                  },
                  {
                    "font": {},
                    "showarrow": false,
                    "text": "Precision",
                    "x": 0.49999999999999994,
                    "xanchor": "center",
                    "xref": "paper",
                    "y": 1,
                    "yanchor": "bottom",
                    "yref": "paper"
                  },
                  {
                    "font": {},
                    "showarrow": false,
                    "text": "Recall",
                    "x": 0.85,
                    "xanchor": "center",
                    "xref": "paper",
                    "y": 1,
                    "yanchor": "bottom",
                    "yref": "paper"
                  }
                ],
                "barmode": "group",
                "legend": {
                  "title": {
                    "text": "Dataset"
                  },
                  "tracegroupgap": 0
                },
                "margin": {
                  "t": 60
                },
                "template": {
                  "data": {
                    "bar": [
                      {
                        "error_x": {
                          "color": "#2a3f5f"
                        },
                        "error_y": {
                          "color": "#2a3f5f"
                        },
                        "marker": {
                          "line": {
                            "color": "#E5ECF6",
                            "width": 0.5
                          },
                          "pattern": {
                            "fillmode": "overlay",
                            "size": 10,
                            "solidity": 0.2
                          }
                        },
                        "type": "bar"
                      }
                    ],
                    "barpolar": [
                      {
                        "marker": {
                          "line": {
                            "color": "#E5ECF6",
                            "width": 0.5
                          },
                          "pattern": {
                            "fillmode": "overlay",
                            "size": 10,
                            "solidity": 0.2
                          }
                        },
                        "type": "barpolar"
                      }
                    ],
                    "carpet": [
                      {
                        "aaxis": {
                          "endlinecolor": "#2a3f5f",
                          "gridcolor": "white",
                          "linecolor": "white",
                          "minorgridcolor": "white",
                          "startlinecolor": "#2a3f5f"
                        },
                        "baxis": {
                          "endlinecolor": "#2a3f5f",
                          "gridcolor": "white",
                          "linecolor": "white",
                          "minorgridcolor": "white",
                          "startlinecolor": "#2a3f5f"
                        },
                        "type": "carpet"
                      }
                    ],
                    "choropleth": [
                      {
                        "colorbar": {
                          "outlinewidth": 0,
                          "ticks": ""
                        },
                        "type": "choropleth"
                      }
                    ],
                    "contour": [
                      {
                        "colorbar": {
                          "outlinewidth": 0,
                          "ticks": ""
                        },
                        "colorscale": [
                          [
                            0,
                            "#0d0887"
                          ],
                          [
                            0.1111111111111111,
                            "#46039f"
                          ],
                          [
                            0.2222222222222222,
                            "#7201a8"
                          ],
                          [
                            0.3333333333333333,
                            "#9c179e"
                          ],
                          [
                            0.4444444444444444,
                            "#bd3786"
                          ],
                          [
                            0.5555555555555556,
                            "#d8576b"
                          ],
                          [
                            0.6666666666666666,
                            "#ed7953"
                          ],
                          [
                            0.7777777777777778,
                            "#fb9f3a"
                          ],
                          [
                            0.8888888888888888,
                            "#fdca26"
                          ],
                          [
                            1,
                            "#f0f921"
                          ]
                        ],
                        "type": "contour"
                      }
                    ],
                    "contourcarpet": [
                      {
                        "colorbar": {
                          "outlinewidth": 0,
                          "ticks": ""
                        },
                        "type": "contourcarpet"
                      }
                    ],
                    "heatmap": [
                      {
                        "colorbar": {
                          "outlinewidth": 0,
                          "ticks": ""
                        },
                        "colorscale": [
                          [
                            0,
                            "#0d0887"
                          ],
                          [
                            0.1111111111111111,
                            "#46039f"
                          ],
                          [
                            0.2222222222222222,
                            "#7201a8"
                          ],
                          [
                            0.3333333333333333,
                            "#9c179e"
                          ],
                          [
                            0.4444444444444444,
                            "#bd3786"
                          ],
                          [
                            0.5555555555555556,
                            "#d8576b"
                          ],
                          [
                            0.6666666666666666,
                            "#ed7953"
                          ],
                          [
                            0.7777777777777778,
                            "#fb9f3a"
                          ],
                          [
                            0.8888888888888888,
                            "#fdca26"
                          ],
                          [
                            1,
                            "#f0f921"
                          ]
                        ],
                        "type": "heatmap"
                      }
                    ],
                    "heatmapgl": [
                      {
                        "colorbar": {
                          "outlinewidth": 0,
                          "ticks": ""
                        },
                        "colorscale": [
                          [
                            0,
                            "#0d0887"
                          ],
                          [
                            0.1111111111111111,
                            "#46039f"
                          ],
                          [
                            0.2222222222222222,
                            "#7201a8"
                          ],
                          [
                            0.3333333333333333,
                            "#9c179e"
                          ],
                          [
                            0.4444444444444444,
                            "#bd3786"
                          ],
                          [
                            0.5555555555555556,
                            "#d8576b"
                          ],
                          [
                            0.6666666666666666,
                            "#ed7953"
                          ],
                          [
                            0.7777777777777778,
                            "#fb9f3a"
                          ],
                          [
                            0.8888888888888888,
                            "#fdca26"
                          ],
                          [
                            1,
                            "#f0f921"
                          ]
                        ],
                        "type": "heatmapgl"
                      }
                    ],
                    "histogram": [
                      {
                        "marker": {
                          "pattern": {
                            "fillmode": "overlay",
                            "size": 10,
                            "solidity": 0.2
                          }
                        },
                        "type": "histogram"
                      }
                    ],
                    "histogram2d": [
                      {
                        "colorbar": {
                          "outlinewidth": 0,
                          "ticks": ""
                        },
                        "colorscale": [
                          [
                            0,
                            "#0d0887"
                          ],
                          [
                            0.1111111111111111,
                            "#46039f"
                          ],
                          [
                            0.2222222222222222,
                            "#7201a8"
                          ],
                          [
                            0.3333333333333333,
                            "#9c179e"
                          ],
                          [
                            0.4444444444444444,
                            "#bd3786"
                          ],
                          [
                            0.5555555555555556,
                            "#d8576b"
                          ],
                          [
                            0.6666666666666666,
                            "#ed7953"
                          ],
                          [
                            0.7777777777777778,
                            "#fb9f3a"
                          ],
                          [
                            0.8888888888888888,
                            "#fdca26"
                          ],
                          [
                            1,
                            "#f0f921"
                          ]
                        ],
                        "type": "histogram2d"
                      }
                    ],
                    "histogram2dcontour": [
                      {
                        "colorbar": {
                          "outlinewidth": 0,
                          "ticks": ""
                        },
                        "colorscale": [
                          [
                            0,
                            "#0d0887"
                          ],
                          [
                            0.1111111111111111,
                            "#46039f"
                          ],
                          [
                            0.2222222222222222,
                            "#7201a8"
                          ],
                          [
                            0.3333333333333333,
                            "#9c179e"
                          ],
                          [
                            0.4444444444444444,
                            "#bd3786"
                          ],
                          [
                            0.5555555555555556,
                            "#d8576b"
                          ],
                          [
                            0.6666666666666666,
                            "#ed7953"
                          ],
                          [
                            0.7777777777777778,
                            "#fb9f3a"
                          ],
                          [
                            0.8888888888888888,
                            "#fdca26"
                          ],
                          [
                            1,
                            "#f0f921"
                          ]
                        ],
                        "type": "histogram2dcontour"
                      }
                    ],
                    "mesh3d": [
                      {
                        "colorbar": {
                          "outlinewidth": 0,
                          "ticks": ""
                        },
                        "type": "mesh3d"
                      }
                    ],
                    "parcoords": [
                      {
                        "line": {
                          "colorbar": {
                            "outlinewidth": 0,
                            "ticks": ""
                          }
                        },
                        "type": "parcoords"
                      }
                    ],
                    "pie": [
                      {
                        "automargin": true,
                        "type": "pie"
                      }
                    ],
                    "scatter": [
                      {
                        "marker": {
                          "colorbar": {
                            "outlinewidth": 0,
                            "ticks": ""
                          }
                        },
                        "type": "scatter"
                      }
                    ],
                    "scatter3d": [
                      {
                        "line": {
                          "colorbar": {
                            "outlinewidth": 0,
                            "ticks": ""
                          }
                        },
                        "marker": {
                          "colorbar": {
                            "outlinewidth": 0,
                            "ticks": ""
                          }
                        },
                        "type": "scatter3d"
                      }
                    ],
                    "scattercarpet": [
                      {
                        "marker": {
                          "colorbar": {
                            "outlinewidth": 0,
                            "ticks": ""
                          }
                        },
                        "type": "scattercarpet"
                      }
                    ],
                    "scattergeo": [
                      {
                        "marker": {
                          "colorbar": {
                            "outlinewidth": 0,
                            "ticks": ""
                          }
                        },
                        "type": "scattergeo"
                      }
                    ],
                    "scattergl": [
                      {
                        "marker": {
                          "colorbar": {
                            "outlinewidth": 0,
                            "ticks": ""
                          }
                        },
                        "type": "scattergl"
                      }
                    ],
                    "scattermapbox": [
                      {
                        "marker": {
                          "colorbar": {
                            "outlinewidth": 0,
                            "ticks": ""
                          }
                        },
                        "type": "scattermapbox"
                      }
                    ],
                    "scatterpolar": [
                      {
                        "marker": {
                          "colorbar": {
                            "outlinewidth": 0,
                            "ticks": ""
                          }
                        },
                        "type": "scatterpolar"
                      }
                    ],
                    "scatterpolargl": [
                      {
                        "marker": {
                          "colorbar": {
                            "outlinewidth": 0,
                            "ticks": ""
                          }
                        },
                        "type": "scatterpolargl"
                      }
                    ],
                    "scatterternary": [
                      {
                        "marker": {
                          "colorbar": {
                            "outlinewidth": 0,
                            "ticks": ""
                          }
                        },
                        "type": "scatterternary"
                      }
                    ],
                    "surface": [
                      {
                        "colorbar": {
                          "outlinewidth": 0,
                          "ticks": ""
                        },
                        "colorscale": [
                          [
                            0,
                            "#0d0887"
                          ],
                          [
                            0.1111111111111111,
                            "#46039f"
                          ],
                          [
                            0.2222222222222222,
                            "#7201a8"
                          ],
                          [
                            0.3333333333333333,
                            "#9c179e"
                          ],
                          [
                            0.4444444444444444,
                            "#bd3786"
                          ],
                          [
                            0.5555555555555556,
                            "#d8576b"
                          ],
                          [
                            0.6666666666666666,
                            "#ed7953"
                          ],
                          [
                            0.7777777777777778,
                            "#fb9f3a"
                          ],
                          [
                            0.8888888888888888,
                            "#fdca26"
                          ],
                          [
                            1,
                            "#f0f921"
                          ]
                        ],
                        "type": "surface"
                      }
                    ],
                    "table": [
                      {
                        "cells": {
                          "fill": {
                            "color": "#EBF0F8"
                          },
                          "line": {
                            "color": "white"
                          }
                        },
                        "header": {
                          "fill": {
                            "color": "#C8D4E3"
                          },
                          "line": {
                            "color": "white"
                          }
                        },
                        "type": "table"
                      }
                    ]
                  },
                  "layout": {
                    "annotationdefaults": {
                      "arrowcolor": "#2a3f5f",
                      "arrowhead": 0,
                      "arrowwidth": 1
                    },
                    "autotypenumbers": "strict",
                    "coloraxis": {
                      "colorbar": {
                        "outlinewidth": 0,
                        "ticks": ""
                      }
                    },
                    "colorscale": {
                      "diverging": [
                        [
                          0,
                          "#8e0152"
                        ],
                        [
                          0.1,
                          "#c51b7d"
                        ],
                        [
                          0.2,
                          "#de77ae"
                        ],
                        [
                          0.3,
                          "#f1b6da"
                        ],
                        [
                          0.4,
                          "#fde0ef"
                        ],
                        [
                          0.5,
                          "#f7f7f7"
                        ],
                        [
                          0.6,
                          "#e6f5d0"
                        ],
                        [
                          0.7,
                          "#b8e186"
                        ],
                        [
                          0.8,
                          "#7fbc41"
                        ],
                        [
                          0.9,
                          "#4d9221"
                        ],
                        [
                          1,
                          "#276419"
                        ]
                      ],
                      "sequential": [
                        [
                          0,
                          "#0d0887"
                        ],
                        [
                          0.1111111111111111,
                          "#46039f"
                        ],
                        [
                          0.2222222222222222,
                          "#7201a8"
                        ],
                        [
                          0.3333333333333333,
                          "#9c179e"
                        ],
                        [
                          0.4444444444444444,
                          "#bd3786"
                        ],
                        [
                          0.5555555555555556,
                          "#d8576b"
                        ],
                        [
                          0.6666666666666666,
                          "#ed7953"
                        ],
                        [
                          0.7777777777777778,
                          "#fb9f3a"
                        ],
                        [
                          0.8888888888888888,
                          "#fdca26"
                        ],
                        [
                          1,
                          "#f0f921"
                        ]
                      ],
                      "sequentialminus": [
                        [
                          0,
                          "#0d0887"
                        ],
                        [
                          0.1111111111111111,
                          "#46039f"
                        ],
                        [
                          0.2222222222222222,
                          "#7201a8"
                        ],
                        [
                          0.3333333333333333,
                          "#9c179e"
                        ],
                        [
                          0.4444444444444444,
                          "#bd3786"
                        ],
                        [
                          0.5555555555555556,
                          "#d8576b"
                        ],
                        [
                          0.6666666666666666,
                          "#ed7953"
                        ],
                        [
                          0.7777777777777778,
                          "#fb9f3a"
                        ],
                        [
                          0.8888888888888888,
                          "#fdca26"
                        ],
                        [
                          1,
                          "#f0f921"
                        ]
                      ]
                    },
                    "colorway": [
                      "#636efa",
                      "#EF553B",
                      "#00cc96",
                      "#ab63fa",
                      "#FFA15A",
                      "#19d3f3",
                      "#FF6692",
                      "#B6E880",
                      "#FF97FF",
                      "#FECB52"
                    ],
                    "font": {
                      "color": "#2a3f5f"
                    },
                    "geo": {
                      "bgcolor": "white",
                      "lakecolor": "white",
                      "landcolor": "#E5ECF6",
                      "showlakes": true,
                      "showland": true,
                      "subunitcolor": "white"
                    },
                    "hoverlabel": {
                      "align": "left"
                    },
                    "hovermode": "closest",
                    "mapbox": {
                      "style": "light"
                    },
                    "paper_bgcolor": "white",
                    "plot_bgcolor": "#E5ECF6",
                    "polar": {
                      "angularaxis": {
                        "gridcolor": "white",
                        "linecolor": "white",
                        "ticks": ""
                      },
                      "bgcolor": "#E5ECF6",
                      "radialaxis": {
                        "gridcolor": "white",
                        "linecolor": "white",
                        "ticks": ""
                      }
                    },
                    "scene": {
                      "xaxis": {
                        "backgroundcolor": "#E5ECF6",
                        "gridcolor": "white",
                        "gridwidth": 2,
                        "linecolor": "white",
                        "showbackground": true,
                        "ticks": "",
                        "zerolinecolor": "white"
                      },
                      "yaxis": {
                        "backgroundcolor": "#E5ECF6",
                        "gridcolor": "white",
                        "gridwidth": 2,
                        "linecolor": "white",
                        "showbackground": true,
                        "ticks": "",
                        "zerolinecolor": "white"
                      },
                      "zaxis": {
                        "backgroundcolor": "#E5ECF6",
                        "gridcolor": "white",
                        "gridwidth": 2,
                        "linecolor": "white",
                        "showbackground": true,
                        "ticks": "",
                        "zerolinecolor": "white"
                      }
                    },
                    "shapedefaults": {
                      "line": {
                        "color": "#2a3f5f"
                      }
                    },
                    "ternary": {
                      "aaxis": {
                        "gridcolor": "white",
                        "linecolor": "white",
                        "ticks": ""
                      },
                      "baxis": {
                        "gridcolor": "white",
                        "linecolor": "white",
                        "ticks": ""
                      },
                      "bgcolor": "#E5ECF6",
                      "caxis": {
                        "gridcolor": "white",
                        "linecolor": "white",
                        "ticks": ""
                      }
                    },
                    "title": {
                      "x": 0.05
                    },
                    "xaxis": {
                      "automargin": true,
                      "gridcolor": "white",
                      "linecolor": "white",
                      "ticks": "",
                      "title": {
                        "standoff": 15
                      },
                      "zerolinecolor": "white",
                      "zerolinewidth": 2
                    },
                    "yaxis": {
                      "automargin": true,
                      "gridcolor": "white",
                      "linecolor": "white",
                      "ticks": "",
                      "title": {
                        "standoff": 15
                      },
                      "zerolinecolor": "white",
                      "zerolinewidth": 2
                    }
                  }
                },
                "xaxis": {
                  "anchor": "y",
                  "domain": [
                    0,
                    0.3
                  ],
                  "tickangle": 60,
                  "tickprefix": "Class ",
                  "title": {},
                  "type": "category"
                },
                "xaxis2": {
                  "anchor": "y2",
                  "domain": [
                    0.35,
                    0.6499999999999999
                  ],
                  "matches": "x",
                  "tickangle": 60,
                  "tickprefix": "Class ",
                  "title": {},
                  "type": "category"
                },
                "xaxis3": {
                  "anchor": "y3",
                  "domain": [
                    0.7,
                    1
                  ],
                  "matches": "x",
                  "tickangle": 60,
                  "tickprefix": "Class ",
                  "title": {},
                  "type": "category"
                },
                "yaxis": {
                  "anchor": "x",
                  "domain": [
                    0,
                    1
                  ],
                  "showticklabels": true,
                  "title": {}
                },
                "yaxis2": {
                  "anchor": "x2",
                  "domain": [
                    0,
                    1
                  ],
                  "showticklabels": true,
                  "title": {}
                },
                "yaxis3": {
                  "anchor": "x3",
                  "domain": [
                    0,
                    1
                  ],
                  "showticklabels": true,
                  "title": {}
                }
              }
            }
          },
          "metadata": {},
          "output_type": "display_data"
        },
        {
          "data": {
            "text/html": [
              "<br><a href=\"#summary_G5D4I\" style=\"font-size: 14px\">Go to top</a>"
            ]
          },
          "metadata": {},
          "output_type": "display_data"
        },
        {
          "data": {
            "text/html": [
              "<hr style=\"background-color: #eee;border: 0 none;color: #eee;height: 4px;\">"
            ]
          },
          "metadata": {},
          "output_type": "display_data"
        },
        {
          "data": {
            "text/html": [
              "<h4 id=\"SimpleModelComparison_G5D4I\">Simple Model Comparison</h4><p>Compare given model score to simple model score (according to given model type). <a href=\"https://docs.deepchecks.com/0.6.1/examples/tabular/checks/performance/examples/plot_simple_model_comparison.html?utm_source=display_output&utm_medium=referral&utm_campaign=check_link\" target=\"_blank\">Read More...</a></p><h5>Conditions Summary</h5><style type=\"text/css\">\n",
              "#T_30961 table {\n",
              "  text-align: left;\n",
              "  white-space: pre-wrap;\n",
              "}\n",
              "#T_30961 thead {\n",
              "  text-align: left;\n",
              "  white-space: pre-wrap;\n",
              "}\n",
              "#T_30961 tbody {\n",
              "  text-align: left;\n",
              "  white-space: pre-wrap;\n",
              "}\n",
              "#T_30961 th {\n",
              "  text-align: left;\n",
              "  white-space: pre-wrap;\n",
              "}\n",
              "#T_30961 td {\n",
              "  text-align: left;\n",
              "  white-space: pre-wrap;\n",
              "}\n",
              "</style>\n",
              "<table id=\"T_30961\">\n",
              "  <thead>\n",
              "    <tr>\n",
              "      <th id=\"T_30961_level0_col0\" class=\"col_heading level0 col0\" >Status</th>\n",
              "      <th id=\"T_30961_level0_col1\" class=\"col_heading level0 col1\" >Condition</th>\n",
              "      <th id=\"T_30961_level0_col2\" class=\"col_heading level0 col2\" >More Info</th>\n",
              "    </tr>\n",
              "  </thead>\n",
              "  <tbody>\n",
              "    <tr>\n",
              "      <td id=\"T_30961_row0_col0\" class=\"data row0 col0\" ><div style=\"color: red;text-align: center\">✖</div></td>\n",
              "      <td id=\"T_30961_row0_col1\" class=\"data row0 col1\" >Model performance gain over simple model is not less than 10%</td>\n",
              "      <td id=\"T_30961_row0_col2\" class=\"data row0 col2\" >Found metrics with gain below threshold: {'F1': {0: '-3.93%', 1: '0%'}}</td>\n",
              "    </tr>\n",
              "  </tbody>\n",
              "</table>\n",
              "<h5>Additional Outputs</h5>"
            ]
          },
          "metadata": {},
          "output_type": "display_data"
        },
        {
          "data": {
            "application/vnd.plotly.v1+json": {
              "config": {
                "plotlyServerURL": "https://plot.ly"
              },
              "data": [
                {
                  "alignmentgroup": "True",
                  "bingroup": "x",
                  "histfunc": "sum",
                  "hovertemplate": "Model=SoftSplitDecisionTreeClassifier model<br>Metric=F1<br>value=%{x}<br>sum of Value=%{y}<extra></extra>",
                  "legendgroup": "SoftSplitDecisionTreeClassifier model",
                  "marker": {
                    "color": "#636efa",
                    "pattern": {
                      "shape": ""
                    }
                  },
                  "name": "SoftSplitDecisionTreeClassifier model",
                  "offsetgroup": "SoftSplitDecisionTreeClassifier model",
                  "orientation": "v",
                  "showlegend": true,
                  "type": "histogram",
                  "x": [
                    0,
                    1
                  ],
                  "xaxis": "x",
                  "y": [
                    0.9770212765957447,
                    0
                  ],
                  "yaxis": "y"
                },
                {
                  "alignmentgroup": "True",
                  "bingroup": "x",
                  "histfunc": "sum",
                  "hovertemplate": "Model=Simple model - constant<br>Metric=F1<br>value=%{x}<br>sum of Value=%{y}<extra></extra>",
                  "legendgroup": "Simple model - constant",
                  "marker": {
                    "color": "#EF553B",
                    "pattern": {
                      "shape": ""
                    }
                  },
                  "name": "Simple model - constant",
                  "offsetgroup": "Simple model - constant",
                  "orientation": "v",
                  "showlegend": true,
                  "type": "histogram",
                  "x": [
                    0,
                    1
                  ],
                  "xaxis": "x",
                  "y": [
                    0.9778911564625851,
                    0
                  ],
                  "yaxis": "y"
                }
              ],
              "layout": {
                "annotations": [
                  {
                    "font": {},
                    "showarrow": false,
                    "text": "F1",
                    "x": 0.5,
                    "xanchor": "center",
                    "xref": "paper",
                    "y": 1,
                    "yanchor": "bottom",
                    "yref": "paper"
                  }
                ],
                "barmode": "group",
                "legend": {
                  "title": {
                    "text": "Model"
                  },
                  "tracegroupgap": 0
                },
                "margin": {
                  "t": 60
                },
                "template": {
                  "data": {
                    "bar": [
                      {
                        "error_x": {
                          "color": "#2a3f5f"
                        },
                        "error_y": {
                          "color": "#2a3f5f"
                        },
                        "marker": {
                          "line": {
                            "color": "#E5ECF6",
                            "width": 0.5
                          },
                          "pattern": {
                            "fillmode": "overlay",
                            "size": 10,
                            "solidity": 0.2
                          }
                        },
                        "type": "bar"
                      }
                    ],
                    "barpolar": [
                      {
                        "marker": {
                          "line": {
                            "color": "#E5ECF6",
                            "width": 0.5
                          },
                          "pattern": {
                            "fillmode": "overlay",
                            "size": 10,
                            "solidity": 0.2
                          }
                        },
                        "type": "barpolar"
                      }
                    ],
                    "carpet": [
                      {
                        "aaxis": {
                          "endlinecolor": "#2a3f5f",
                          "gridcolor": "white",
                          "linecolor": "white",
                          "minorgridcolor": "white",
                          "startlinecolor": "#2a3f5f"
                        },
                        "baxis": {
                          "endlinecolor": "#2a3f5f",
                          "gridcolor": "white",
                          "linecolor": "white",
                          "minorgridcolor": "white",
                          "startlinecolor": "#2a3f5f"
                        },
                        "type": "carpet"
                      }
                    ],
                    "choropleth": [
                      {
                        "colorbar": {
                          "outlinewidth": 0,
                          "ticks": ""
                        },
                        "type": "choropleth"
                      }
                    ],
                    "contour": [
                      {
                        "colorbar": {
                          "outlinewidth": 0,
                          "ticks": ""
                        },
                        "colorscale": [
                          [
                            0,
                            "#0d0887"
                          ],
                          [
                            0.1111111111111111,
                            "#46039f"
                          ],
                          [
                            0.2222222222222222,
                            "#7201a8"
                          ],
                          [
                            0.3333333333333333,
                            "#9c179e"
                          ],
                          [
                            0.4444444444444444,
                            "#bd3786"
                          ],
                          [
                            0.5555555555555556,
                            "#d8576b"
                          ],
                          [
                            0.6666666666666666,
                            "#ed7953"
                          ],
                          [
                            0.7777777777777778,
                            "#fb9f3a"
                          ],
                          [
                            0.8888888888888888,
                            "#fdca26"
                          ],
                          [
                            1,
                            "#f0f921"
                          ]
                        ],
                        "type": "contour"
                      }
                    ],
                    "contourcarpet": [
                      {
                        "colorbar": {
                          "outlinewidth": 0,
                          "ticks": ""
                        },
                        "type": "contourcarpet"
                      }
                    ],
                    "heatmap": [
                      {
                        "colorbar": {
                          "outlinewidth": 0,
                          "ticks": ""
                        },
                        "colorscale": [
                          [
                            0,
                            "#0d0887"
                          ],
                          [
                            0.1111111111111111,
                            "#46039f"
                          ],
                          [
                            0.2222222222222222,
                            "#7201a8"
                          ],
                          [
                            0.3333333333333333,
                            "#9c179e"
                          ],
                          [
                            0.4444444444444444,
                            "#bd3786"
                          ],
                          [
                            0.5555555555555556,
                            "#d8576b"
                          ],
                          [
                            0.6666666666666666,
                            "#ed7953"
                          ],
                          [
                            0.7777777777777778,
                            "#fb9f3a"
                          ],
                          [
                            0.8888888888888888,
                            "#fdca26"
                          ],
                          [
                            1,
                            "#f0f921"
                          ]
                        ],
                        "type": "heatmap"
                      }
                    ],
                    "heatmapgl": [
                      {
                        "colorbar": {
                          "outlinewidth": 0,
                          "ticks": ""
                        },
                        "colorscale": [
                          [
                            0,
                            "#0d0887"
                          ],
                          [
                            0.1111111111111111,
                            "#46039f"
                          ],
                          [
                            0.2222222222222222,
                            "#7201a8"
                          ],
                          [
                            0.3333333333333333,
                            "#9c179e"
                          ],
                          [
                            0.4444444444444444,
                            "#bd3786"
                          ],
                          [
                            0.5555555555555556,
                            "#d8576b"
                          ],
                          [
                            0.6666666666666666,
                            "#ed7953"
                          ],
                          [
                            0.7777777777777778,
                            "#fb9f3a"
                          ],
                          [
                            0.8888888888888888,
                            "#fdca26"
                          ],
                          [
                            1,
                            "#f0f921"
                          ]
                        ],
                        "type": "heatmapgl"
                      }
                    ],
                    "histogram": [
                      {
                        "marker": {
                          "pattern": {
                            "fillmode": "overlay",
                            "size": 10,
                            "solidity": 0.2
                          }
                        },
                        "type": "histogram"
                      }
                    ],
                    "histogram2d": [
                      {
                        "colorbar": {
                          "outlinewidth": 0,
                          "ticks": ""
                        },
                        "colorscale": [
                          [
                            0,
                            "#0d0887"
                          ],
                          [
                            0.1111111111111111,
                            "#46039f"
                          ],
                          [
                            0.2222222222222222,
                            "#7201a8"
                          ],
                          [
                            0.3333333333333333,
                            "#9c179e"
                          ],
                          [
                            0.4444444444444444,
                            "#bd3786"
                          ],
                          [
                            0.5555555555555556,
                            "#d8576b"
                          ],
                          [
                            0.6666666666666666,
                            "#ed7953"
                          ],
                          [
                            0.7777777777777778,
                            "#fb9f3a"
                          ],
                          [
                            0.8888888888888888,
                            "#fdca26"
                          ],
                          [
                            1,
                            "#f0f921"
                          ]
                        ],
                        "type": "histogram2d"
                      }
                    ],
                    "histogram2dcontour": [
                      {
                        "colorbar": {
                          "outlinewidth": 0,
                          "ticks": ""
                        },
                        "colorscale": [
                          [
                            0,
                            "#0d0887"
                          ],
                          [
                            0.1111111111111111,
                            "#46039f"
                          ],
                          [
                            0.2222222222222222,
                            "#7201a8"
                          ],
                          [
                            0.3333333333333333,
                            "#9c179e"
                          ],
                          [
                            0.4444444444444444,
                            "#bd3786"
                          ],
                          [
                            0.5555555555555556,
                            "#d8576b"
                          ],
                          [
                            0.6666666666666666,
                            "#ed7953"
                          ],
                          [
                            0.7777777777777778,
                            "#fb9f3a"
                          ],
                          [
                            0.8888888888888888,
                            "#fdca26"
                          ],
                          [
                            1,
                            "#f0f921"
                          ]
                        ],
                        "type": "histogram2dcontour"
                      }
                    ],
                    "mesh3d": [
                      {
                        "colorbar": {
                          "outlinewidth": 0,
                          "ticks": ""
                        },
                        "type": "mesh3d"
                      }
                    ],
                    "parcoords": [
                      {
                        "line": {
                          "colorbar": {
                            "outlinewidth": 0,
                            "ticks": ""
                          }
                        },
                        "type": "parcoords"
                      }
                    ],
                    "pie": [
                      {
                        "automargin": true,
                        "type": "pie"
                      }
                    ],
                    "scatter": [
                      {
                        "marker": {
                          "colorbar": {
                            "outlinewidth": 0,
                            "ticks": ""
                          }
                        },
                        "type": "scatter"
                      }
                    ],
                    "scatter3d": [
                      {
                        "line": {
                          "colorbar": {
                            "outlinewidth": 0,
                            "ticks": ""
                          }
                        },
                        "marker": {
                          "colorbar": {
                            "outlinewidth": 0,
                            "ticks": ""
                          }
                        },
                        "type": "scatter3d"
                      }
                    ],
                    "scattercarpet": [
                      {
                        "marker": {
                          "colorbar": {
                            "outlinewidth": 0,
                            "ticks": ""
                          }
                        },
                        "type": "scattercarpet"
                      }
                    ],
                    "scattergeo": [
                      {
                        "marker": {
                          "colorbar": {
                            "outlinewidth": 0,
                            "ticks": ""
                          }
                        },
                        "type": "scattergeo"
                      }
                    ],
                    "scattergl": [
                      {
                        "marker": {
                          "colorbar": {
                            "outlinewidth": 0,
                            "ticks": ""
                          }
                        },
                        "type": "scattergl"
                      }
                    ],
                    "scattermapbox": [
                      {
                        "marker": {
                          "colorbar": {
                            "outlinewidth": 0,
                            "ticks": ""
                          }
                        },
                        "type": "scattermapbox"
                      }
                    ],
                    "scatterpolar": [
                      {
                        "marker": {
                          "colorbar": {
                            "outlinewidth": 0,
                            "ticks": ""
                          }
                        },
                        "type": "scatterpolar"
                      }
                    ],
                    "scatterpolargl": [
                      {
                        "marker": {
                          "colorbar": {
                            "outlinewidth": 0,
                            "ticks": ""
                          }
                        },
                        "type": "scatterpolargl"
                      }
                    ],
                    "scatterternary": [
                      {
                        "marker": {
                          "colorbar": {
                            "outlinewidth": 0,
                            "ticks": ""
                          }
                        },
                        "type": "scatterternary"
                      }
                    ],
                    "surface": [
                      {
                        "colorbar": {
                          "outlinewidth": 0,
                          "ticks": ""
                        },
                        "colorscale": [
                          [
                            0,
                            "#0d0887"
                          ],
                          [
                            0.1111111111111111,
                            "#46039f"
                          ],
                          [
                            0.2222222222222222,
                            "#7201a8"
                          ],
                          [
                            0.3333333333333333,
                            "#9c179e"
                          ],
                          [
                            0.4444444444444444,
                            "#bd3786"
                          ],
                          [
                            0.5555555555555556,
                            "#d8576b"
                          ],
                          [
                            0.6666666666666666,
                            "#ed7953"
                          ],
                          [
                            0.7777777777777778,
                            "#fb9f3a"
                          ],
                          [
                            0.8888888888888888,
                            "#fdca26"
                          ],
                          [
                            1,
                            "#f0f921"
                          ]
                        ],
                        "type": "surface"
                      }
                    ],
                    "table": [
                      {
                        "cells": {
                          "fill": {
                            "color": "#EBF0F8"
                          },
                          "line": {
                            "color": "white"
                          }
                        },
                        "header": {
                          "fill": {
                            "color": "#C8D4E3"
                          },
                          "line": {
                            "color": "white"
                          }
                        },
                        "type": "table"
                      }
                    ]
                  },
                  "layout": {
                    "annotationdefaults": {
                      "arrowcolor": "#2a3f5f",
                      "arrowhead": 0,
                      "arrowwidth": 1
                    },
                    "autotypenumbers": "strict",
                    "coloraxis": {
                      "colorbar": {
                        "outlinewidth": 0,
                        "ticks": ""
                      }
                    },
                    "colorscale": {
                      "diverging": [
                        [
                          0,
                          "#8e0152"
                        ],
                        [
                          0.1,
                          "#c51b7d"
                        ],
                        [
                          0.2,
                          "#de77ae"
                        ],
                        [
                          0.3,
                          "#f1b6da"
                        ],
                        [
                          0.4,
                          "#fde0ef"
                        ],
                        [
                          0.5,
                          "#f7f7f7"
                        ],
                        [
                          0.6,
                          "#e6f5d0"
                        ],
                        [
                          0.7,
                          "#b8e186"
                        ],
                        [
                          0.8,
                          "#7fbc41"
                        ],
                        [
                          0.9,
                          "#4d9221"
                        ],
                        [
                          1,
                          "#276419"
                        ]
                      ],
                      "sequential": [
                        [
                          0,
                          "#0d0887"
                        ],
                        [
                          0.1111111111111111,
                          "#46039f"
                        ],
                        [
                          0.2222222222222222,
                          "#7201a8"
                        ],
                        [
                          0.3333333333333333,
                          "#9c179e"
                        ],
                        [
                          0.4444444444444444,
                          "#bd3786"
                        ],
                        [
                          0.5555555555555556,
                          "#d8576b"
                        ],
                        [
                          0.6666666666666666,
                          "#ed7953"
                        ],
                        [
                          0.7777777777777778,
                          "#fb9f3a"
                        ],
                        [
                          0.8888888888888888,
                          "#fdca26"
                        ],
                        [
                          1,
                          "#f0f921"
                        ]
                      ],
                      "sequentialminus": [
                        [
                          0,
                          "#0d0887"
                        ],
                        [
                          0.1111111111111111,
                          "#46039f"
                        ],
                        [
                          0.2222222222222222,
                          "#7201a8"
                        ],
                        [
                          0.3333333333333333,
                          "#9c179e"
                        ],
                        [
                          0.4444444444444444,
                          "#bd3786"
                        ],
                        [
                          0.5555555555555556,
                          "#d8576b"
                        ],
                        [
                          0.6666666666666666,
                          "#ed7953"
                        ],
                        [
                          0.7777777777777778,
                          "#fb9f3a"
                        ],
                        [
                          0.8888888888888888,
                          "#fdca26"
                        ],
                        [
                          1,
                          "#f0f921"
                        ]
                      ]
                    },
                    "colorway": [
                      "#636efa",
                      "#EF553B",
                      "#00cc96",
                      "#ab63fa",
                      "#FFA15A",
                      "#19d3f3",
                      "#FF6692",
                      "#B6E880",
                      "#FF97FF",
                      "#FECB52"
                    ],
                    "font": {
                      "color": "#2a3f5f"
                    },
                    "geo": {
                      "bgcolor": "white",
                      "lakecolor": "white",
                      "landcolor": "#E5ECF6",
                      "showlakes": true,
                      "showland": true,
                      "subunitcolor": "white"
                    },
                    "hoverlabel": {
                      "align": "left"
                    },
                    "hovermode": "closest",
                    "mapbox": {
                      "style": "light"
                    },
                    "paper_bgcolor": "white",
                    "plot_bgcolor": "#E5ECF6",
                    "polar": {
                      "angularaxis": {
                        "gridcolor": "white",
                        "linecolor": "white",
                        "ticks": ""
                      },
                      "bgcolor": "#E5ECF6",
                      "radialaxis": {
                        "gridcolor": "white",
                        "linecolor": "white",
                        "ticks": ""
                      }
                    },
                    "scene": {
                      "xaxis": {
                        "backgroundcolor": "#E5ECF6",
                        "gridcolor": "white",
                        "gridwidth": 2,
                        "linecolor": "white",
                        "showbackground": true,
                        "ticks": "",
                        "zerolinecolor": "white"
                      },
                      "yaxis": {
                        "backgroundcolor": "#E5ECF6",
                        "gridcolor": "white",
                        "gridwidth": 2,
                        "linecolor": "white",
                        "showbackground": true,
                        "ticks": "",
                        "zerolinecolor": "white"
                      },
                      "zaxis": {
                        "backgroundcolor": "#E5ECF6",
                        "gridcolor": "white",
                        "gridwidth": 2,
                        "linecolor": "white",
                        "showbackground": true,
                        "ticks": "",
                        "zerolinecolor": "white"
                      }
                    },
                    "shapedefaults": {
                      "line": {
                        "color": "#2a3f5f"
                      }
                    },
                    "ternary": {
                      "aaxis": {
                        "gridcolor": "white",
                        "linecolor": "white",
                        "ticks": ""
                      },
                      "baxis": {
                        "gridcolor": "white",
                        "linecolor": "white",
                        "ticks": ""
                      },
                      "bgcolor": "#E5ECF6",
                      "caxis": {
                        "gridcolor": "white",
                        "linecolor": "white",
                        "ticks": ""
                      }
                    },
                    "title": {
                      "x": 0.05
                    },
                    "xaxis": {
                      "automargin": true,
                      "gridcolor": "white",
                      "linecolor": "white",
                      "ticks": "",
                      "title": {
                        "standoff": 15
                      },
                      "zerolinecolor": "white",
                      "zerolinewidth": 2
                    },
                    "yaxis": {
                      "automargin": true,
                      "gridcolor": "white",
                      "linecolor": "white",
                      "ticks": "",
                      "title": {
                        "standoff": 15
                      },
                      "zerolinecolor": "white",
                      "zerolinewidth": 2
                    }
                  }
                },
                "xaxis": {
                  "anchor": "y",
                  "domain": [
                    0,
                    1
                  ],
                  "tickangle": 60,
                  "tickprefix": "Class ",
                  "title": {},
                  "type": "category"
                },
                "yaxis": {
                  "anchor": "x",
                  "domain": [
                    0,
                    1
                  ],
                  "showticklabels": true,
                  "title": {}
                }
              }
            }
          },
          "metadata": {},
          "output_type": "display_data"
        },
        {
          "data": {
            "text/html": [
              "<br><a href=\"#summary_G5D4I\" style=\"font-size: 14px\">Go to top</a>"
            ]
          },
          "metadata": {},
          "output_type": "display_data"
        },
        {
          "data": {
            "text/html": [
              "<hr style=\"background-color: #eee;border: 0 none;color: #eee;height: 4px;\">"
            ]
          },
          "metadata": {},
          "output_type": "display_data"
        },
        {
          "data": {
            "text/html": [
              "<h4 id=\"ModelInferenceTime-TrainDataset_G5D4I\">Model Inference Time - Train Dataset</h4><p>Measure model average inference time (in seconds) per sample. <a href=\"https://docs.deepchecks.com/0.6.1/examples/tabular/checks/methodology/examples/plot_model_inference_time.html?utm_source=display_output&utm_medium=referral&utm_campaign=check_link\" target=\"_blank\">Read More...</a></p><h5>Conditions Summary</h5><style type=\"text/css\">\n",
              "#T_005fd table {\n",
              "  text-align: left;\n",
              "  white-space: pre-wrap;\n",
              "}\n",
              "#T_005fd thead {\n",
              "  text-align: left;\n",
              "  white-space: pre-wrap;\n",
              "}\n",
              "#T_005fd tbody {\n",
              "  text-align: left;\n",
              "  white-space: pre-wrap;\n",
              "}\n",
              "#T_005fd th {\n",
              "  text-align: left;\n",
              "  white-space: pre-wrap;\n",
              "}\n",
              "#T_005fd td {\n",
              "  text-align: left;\n",
              "  white-space: pre-wrap;\n",
              "}\n",
              "</style>\n",
              "<table id=\"T_005fd\">\n",
              "  <thead>\n",
              "    <tr>\n",
              "      <th id=\"T_005fd_level0_col0\" class=\"col_heading level0 col0\" >Status</th>\n",
              "      <th id=\"T_005fd_level0_col1\" class=\"col_heading level0 col1\" >Condition</th>\n",
              "      <th id=\"T_005fd_level0_col2\" class=\"col_heading level0 col2\" >More Info</th>\n",
              "    </tr>\n",
              "  </thead>\n",
              "  <tbody>\n",
              "    <tr>\n",
              "      <td id=\"T_005fd_row0_col0\" class=\"data row0 col0\" ><div style=\"color: red;text-align: center\">✖</div></td>\n",
              "      <td id=\"T_005fd_row0_col1\" class=\"data row0 col1\" >Average model inference time for one sample is not greater than 0.001</td>\n",
              "      <td id=\"T_005fd_row0_col2\" class=\"data row0 col2\" >Found average inference time (in seconds) above threshold: 0.00350966</td>\n",
              "    </tr>\n",
              "  </tbody>\n",
              "</table>\n",
              "<h5>Additional Outputs</h5><div>Average model inference time for one sample (in seconds): 0.00350966</div><br><a href=\"#summary_G5D4I\" style=\"font-size: 14px\">Go to top</a>"
            ]
          },
          "metadata": {},
          "output_type": "display_data"
        },
        {
          "data": {
            "text/html": [
              "<hr style=\"background-color: #eee;border: 0 none;color: #eee;height: 4px;\">"
            ]
          },
          "metadata": {},
          "output_type": "display_data"
        },
        {
          "data": {
            "text/html": [
              "<h4 id=\"ModelInferenceTime-TestDataset_G5D4I\">Model Inference Time - Test Dataset</h4><p>Measure model average inference time (in seconds) per sample. <a href=\"https://docs.deepchecks.com/0.6.1/examples/tabular/checks/methodology/examples/plot_model_inference_time.html?utm_source=display_output&utm_medium=referral&utm_campaign=check_link\" target=\"_blank\">Read More...</a></p><h5>Conditions Summary</h5><style type=\"text/css\">\n",
              "#T_7c687 table {\n",
              "  text-align: left;\n",
              "  white-space: pre-wrap;\n",
              "}\n",
              "#T_7c687 thead {\n",
              "  text-align: left;\n",
              "  white-space: pre-wrap;\n",
              "}\n",
              "#T_7c687 tbody {\n",
              "  text-align: left;\n",
              "  white-space: pre-wrap;\n",
              "}\n",
              "#T_7c687 th {\n",
              "  text-align: left;\n",
              "  white-space: pre-wrap;\n",
              "}\n",
              "#T_7c687 td {\n",
              "  text-align: left;\n",
              "  white-space: pre-wrap;\n",
              "}\n",
              "</style>\n",
              "<table id=\"T_7c687\">\n",
              "  <thead>\n",
              "    <tr>\n",
              "      <th id=\"T_7c687_level0_col0\" class=\"col_heading level0 col0\" >Status</th>\n",
              "      <th id=\"T_7c687_level0_col1\" class=\"col_heading level0 col1\" >Condition</th>\n",
              "      <th id=\"T_7c687_level0_col2\" class=\"col_heading level0 col2\" >More Info</th>\n",
              "    </tr>\n",
              "  </thead>\n",
              "  <tbody>\n",
              "    <tr>\n",
              "      <td id=\"T_7c687_row0_col0\" class=\"data row0 col0\" ><div style=\"color: red;text-align: center\">✖</div></td>\n",
              "      <td id=\"T_7c687_row0_col1\" class=\"data row0 col1\" >Average model inference time for one sample is not greater than 0.001</td>\n",
              "      <td id=\"T_7c687_row0_col2\" class=\"data row0 col2\" >Found average inference time (in seconds) above threshold: 0.00353499</td>\n",
              "    </tr>\n",
              "  </tbody>\n",
              "</table>\n",
              "<h5>Additional Outputs</h5><div>Average model inference time for one sample (in seconds): 0.00353499</div><br><a href=\"#summary_G5D4I\" style=\"font-size: 14px\">Go to top</a>"
            ]
          },
          "metadata": {},
          "output_type": "display_data"
        },
        {
          "data": {
            "text/html": [
              "<hr style=\"background-color: #eee;border: 0 none;color: #eee;height: 4px;\">"
            ]
          },
          "metadata": {},
          "output_type": "display_data"
        },
        {
          "data": {
            "text/html": [
              "<h4 id=\"ROCReport-TrainDataset_G5D4I\">ROC Report - Train Dataset</h4><p>Calculate the ROC curve for each class. <a href=\"https://docs.deepchecks.com/0.6.1/examples/tabular/checks/performance/examples/plot_roc_report.html?utm_source=display_output&utm_medium=referral&utm_campaign=check_link\" target=\"_blank\">Read More...</a></p><h5>Conditions Summary</h5><style type=\"text/css\">\n",
              "#T_49f4d table {\n",
              "  text-align: left;\n",
              "  white-space: pre-wrap;\n",
              "}\n",
              "#T_49f4d thead {\n",
              "  text-align: left;\n",
              "  white-space: pre-wrap;\n",
              "}\n",
              "#T_49f4d tbody {\n",
              "  text-align: left;\n",
              "  white-space: pre-wrap;\n",
              "}\n",
              "#T_49f4d th {\n",
              "  text-align: left;\n",
              "  white-space: pre-wrap;\n",
              "}\n",
              "#T_49f4d td {\n",
              "  text-align: left;\n",
              "  white-space: pre-wrap;\n",
              "}\n",
              "</style>\n",
              "<table id=\"T_49f4d\">\n",
              "  <thead>\n",
              "    <tr>\n",
              "      <th id=\"T_49f4d_level0_col0\" class=\"col_heading level0 col0\" >Status</th>\n",
              "      <th id=\"T_49f4d_level0_col1\" class=\"col_heading level0 col1\" >Condition</th>\n",
              "      <th id=\"T_49f4d_level0_col2\" class=\"col_heading level0 col2\" >More Info</th>\n",
              "    </tr>\n",
              "  </thead>\n",
              "  <tbody>\n",
              "    <tr>\n",
              "      <td id=\"T_49f4d_row0_col0\" class=\"data row0 col0\" ><div style=\"color: green;text-align: center\">✓</div></td>\n",
              "      <td id=\"T_49f4d_row0_col1\" class=\"data row0 col1\" >AUC score for all the classes is not less than 0.7</td>\n",
              "      <td id=\"T_49f4d_row0_col2\" class=\"data row0 col2\" ></td>\n",
              "    </tr>\n",
              "  </tbody>\n",
              "</table>\n",
              "<h5>Additional Outputs</h5>"
            ]
          },
          "metadata": {},
          "output_type": "display_data"
        },
        {
          "data": {
            "application/vnd.plotly.v1+json": {
              "config": {
                "plotlyServerURL": "https://plot.ly"
              },
              "data": [
                {
                  "line": {
                    "width": 2
                  },
                  "name": "auc = 0.94",
                  "type": "scatter",
                  "x": [
                    0,
                    0,
                    0,
                    0,
                    0,
                    0,
                    0,
                    0,
                    0,
                    0.00641025641025641,
                    0.00641025641025641,
                    0.01282051282051282,
                    0.01282051282051282,
                    0.019230769230769232,
                    0.019230769230769232,
                    0.02564102564102564,
                    0.02564102564102564,
                    0.02564102564102564,
                    0.02564102564102564,
                    0.038461538461538464,
                    0.038461538461538464,
                    0.04487179487179487,
                    0.04487179487179487,
                    0.05128205128205128,
                    0.05128205128205128,
                    0.057692307692307696,
                    0.057692307692307696,
                    0.057692307692307696,
                    0.057692307692307696,
                    0.0641025641025641,
                    0.0641025641025641,
                    0.07051282051282051,
                    0.07051282051282051,
                    0.07692307692307693,
                    0.07692307692307693,
                    0.08333333333333333,
                    0.08333333333333333,
                    0.08974358974358974,
                    0.08974358974358974,
                    0.10256410256410256,
                    0.10256410256410256,
                    0.10897435897435898,
                    0.10897435897435898,
                    0.11538461538461539,
                    0.11538461538461539,
                    0.12179487179487179,
                    0.12179487179487179,
                    0.1282051282051282,
                    0.1282051282051282,
                    0.1346153846153846,
                    0.1346153846153846,
                    0.14102564102564102,
                    0.14102564102564102,
                    0.14743589743589744,
                    0.14743589743589744,
                    0.16666666666666666,
                    0.16666666666666666,
                    0.17307692307692307,
                    0.17307692307692307,
                    0.1794871794871795,
                    0.1794871794871795,
                    0.1858974358974359,
                    0.1858974358974359,
                    0.19230769230769232,
                    0.19230769230769232,
                    0.1987179487179487,
                    0.1987179487179487,
                    0.20512820512820512,
                    0.20512820512820512,
                    0.21153846153846154,
                    0.21153846153846154,
                    0.21794871794871795,
                    0.21794871794871795,
                    0.22435897435897437,
                    0.22435897435897437,
                    0.23076923076923078,
                    0.23076923076923078,
                    0.24358974358974358,
                    0.24358974358974358,
                    0.25,
                    0.25,
                    0.2564102564102564,
                    0.2564102564102564,
                    0.26282051282051283,
                    0.26282051282051283,
                    0.27564102564102566,
                    0.27564102564102566,
                    0.28205128205128205,
                    0.28205128205128205,
                    0.28846153846153844,
                    0.28846153846153844,
                    0.2948717948717949,
                    0.2948717948717949,
                    0.30128205128205127,
                    0.30128205128205127,
                    0.3076923076923077,
                    0.3076923076923077,
                    0.3141025641025641,
                    0.3141025641025641,
                    0.32051282051282054,
                    0.32051282051282054,
                    0.3269230769230769,
                    0.3269230769230769,
                    0.3333333333333333,
                    0.3333333333333333,
                    0.34615384615384615,
                    0.34615384615384615,
                    0.3525641025641026,
                    0.3525641025641026,
                    0.3525641025641026,
                    0.3525641025641026,
                    0.358974358974359,
                    0.358974358974359,
                    0.36538461538461536,
                    0.36538461538461536,
                    0.3717948717948718,
                    0.3717948717948718,
                    0.3782051282051282,
                    0.3782051282051282,
                    0.38461538461538464,
                    0.38461538461538464,
                    0.391025641025641,
                    0.391025641025641,
                    0.3974358974358974,
                    0.3974358974358974,
                    0.40384615384615385,
                    0.40384615384615385,
                    0.41025641025641024,
                    0.41025641025641024,
                    0.4166666666666667,
                    0.4166666666666667,
                    0.4230769230769231,
                    0.4230769230769231,
                    0.42948717948717946,
                    0.42948717948717946,
                    0.4358974358974359,
                    0.4358974358974359,
                    0.4423076923076923,
                    0.4423076923076923,
                    0.44871794871794873,
                    0.44871794871794873,
                    0.4551282051282051,
                    0.4551282051282051,
                    0.46153846153846156,
                    0.46153846153846156,
                    0.46794871794871795,
                    0.46794871794871795,
                    0.47435897435897434,
                    0.47435897435897434,
                    0.4807692307692308,
                    0.4807692307692308,
                    0.4935897435897436,
                    0.4935897435897436,
                    0.5,
                    0.5,
                    0.5064102564102564,
                    0.5064102564102564,
                    0.5192307692307693,
                    0.5192307692307693,
                    0.5256410256410257,
                    0.5256410256410257,
                    0.5384615384615384,
                    0.5384615384615384,
                    0.5512820512820513,
                    0.5512820512820513,
                    0.5641025641025641,
                    0.5641025641025641,
                    0.5705128205128205,
                    0.5705128205128205,
                    0.5769230769230769,
                    0.5769230769230769,
                    0.5833333333333334,
                    0.5833333333333334,
                    0.5961538461538461,
                    0.5961538461538461,
                    0.6089743589743589,
                    0.6089743589743589,
                    0.6153846153846154,
                    0.6153846153846154,
                    0.6282051282051282,
                    0.6282051282051282,
                    0.6410256410256411,
                    0.6410256410256411,
                    0.6474358974358975,
                    0.6474358974358975,
                    0.6538461538461539,
                    0.6538461538461539,
                    0.6666666666666666,
                    0.6666666666666666,
                    0.6730769230769231,
                    0.6730769230769231,
                    0.6858974358974359,
                    0.6858974358974359,
                    0.6923076923076923,
                    0.6923076923076923,
                    0.7051282051282052,
                    0.7051282051282052,
                    0.7628205128205128,
                    0.7628205128205128,
                    0.782051282051282,
                    0.782051282051282,
                    0.7948717948717948,
                    0.7948717948717948,
                    0.8141025641025641,
                    0.8141025641025641,
                    0.8269230769230769,
                    0.8269230769230769,
                    0.8397435897435898,
                    0.8397435897435898,
                    0.8653846153846154,
                    0.8653846153846154,
                    1
                  ],
                  "y": [
                    0,
                    0.0002901073397156948,
                    0.12213519002030751,
                    0.1227154046997389,
                    0.6202494923121555,
                    0.6208297069915869,
                    0.7357122135190021,
                    0.7362924281984334,
                    0.74528575572962,
                    0.74528575572962,
                    0.7667536988685814,
                    0.7667536988685814,
                    0.7888018566869742,
                    0.7888018566869742,
                    0.7893820713664056,
                    0.7893820713664056,
                    0.789962286045837,
                    0.7905425007252683,
                    0.790832608064984,
                    0.790832608064984,
                    0.7954743255004352,
                    0.7954743255004352,
                    0.8053379750507688,
                    0.8053379750507688,
                    0.8091093704670728,
                    0.8091093704670728,
                    0.8166521612996809,
                    0.8172323759791122,
                    0.8175224833188279,
                    0.8175224833188279,
                    0.8189730200174065,
                    0.8189730200174065,
                    0.8210037713954162,
                    0.8210037713954162,
                    0.8215839860748477,
                    0.8215839860748477,
                    0.824194952132289,
                    0.824194952132289,
                    0.8328981723237598,
                    0.8328981723237598,
                    0.8331882796634755,
                    0.8331882796634755,
                    0.8334783870031912,
                    0.8334783870031912,
                    0.8349289237017696,
                    0.8349289237017696,
                    0.8387003191180736,
                    0.8387003191180736,
                    0.8389904264577894,
                    0.8389904264577894,
                    0.8421816071946621,
                    0.8421816071946621,
                    0.8511749347258486,
                    0.8511749347258486,
                    0.8532056861038584,
                    0.8532056861038584,
                    0.8645198723527705,
                    0.8645198723527705,
                    0.8653901943719177,
                    0.8653901943719177,
                    0.865970409051349,
                    0.865970409051349,
                    0.8662605163910647,
                    0.8662605163910647,
                    0.8671308384102118,
                    0.8671308384102118,
                    0.8694516971279374,
                    0.8694516971279374,
                    0.8740934145633884,
                    0.8740934145633884,
                    0.8746736292428199,
                    0.8746736292428199,
                    0.8793153466782709,
                    0.8793153466782709,
                    0.8845372787931535,
                    0.8845372787931535,
                    0.8856977081520162,
                    0.8856977081520162,
                    0.8874383521903104,
                    0.8874383521903104,
                    0.8912097476066144,
                    0.8912097476066144,
                    0.8917899622860458,
                    0.8917899622860458,
                    0.8938207136640557,
                    0.8938207136640557,
                    0.8941108210037714,
                    0.8941108210037714,
                    0.897302001740644,
                    0.897302001740644,
                    0.8990426457789382,
                    0.8990426457789382,
                    0.9060052219321149,
                    0.9060052219321149,
                    0.9065854366115462,
                    0.9065854366115462,
                    0.9094865100087032,
                    0.9094865100087032,
                    0.9158688714824486,
                    0.9158688714824486,
                    0.9178996228604583,
                    0.9178996228604583,
                    0.9242819843342036,
                    0.9242819843342036,
                    0.9251523063533508,
                    0.9251523063533508,
                    0.9309544531476647,
                    0.9309544531476647,
                    0.9405279953582826,
                    0.9411082100377139,
                    0.9440092834348709,
                    0.9440092834348709,
                    0.9457499274731651,
                    0.9457499274731651,
                    0.9483608935306064,
                    0.9483608935306064,
                    0.9492312155497534,
                    0.9492312155497534,
                    0.9527125036263417,
                    0.9527125036263417,
                    0.9556135770234987,
                    0.9556135770234987,
                    0.9570641137220771,
                    0.9570641137220771,
                    0.9579344357412243,
                    0.9579344357412243,
                    0.9622860458369596,
                    0.9622860458369596,
                    0.9637365825355382,
                    0.9637365825355382,
                    0.9643167972149695,
                    0.9643167972149695,
                    0.9651871192341166,
                    0.9651871192341166,
                    0.9669277632724108,
                    0.9669277632724108,
                    0.9675079779518422,
                    0.9675079779518422,
                    0.9727299100667247,
                    0.9727299100667247,
                    0.9733101247461561,
                    0.9733101247461561,
                    0.9747606614447345,
                    0.9747606614447345,
                    0.9756309834638817,
                    0.9756309834638817,
                    0.9765013054830287,
                    0.9765013054830287,
                    0.9767914128227444,
                    0.9767914128227444,
                    0.9779518421816072,
                    0.9779518421816072,
                    0.9782419495213229,
                    0.9782419495213229,
                    0.9785320568610386,
                    0.9785320568610386,
                    0.9788221642007543,
                    0.9788221642007543,
                    0.9808529155787642,
                    0.9808529155787642,
                    0.9814331302581956,
                    0.9814331302581956,
                    0.9825935596170583,
                    0.9825935596170583,
                    0.9852045256744996,
                    0.9852045256744996,
                    0.9863649550333623,
                    0.9863649550333623,
                    0.9872352770525095,
                    0.9872352770525095,
                    0.9878154917319408,
                    0.9878154917319408,
                    0.9883957064113722,
                    0.9883957064113722,
                    0.9892660284305193,
                    0.9892660284305193,
                    0.9901363504496664,
                    0.9904264577893821,
                    0.9910066724688135,
                    0.9910066724688135,
                    0.9912967798085291,
                    0.9912967798085291,
                    0.9918769944879605,
                    0.9918769944879605,
                    0.9930374238468234,
                    0.9930374238468234,
                    0.9936176385262547,
                    0.9936176385262547,
                    0.9939077458659704,
                    0.9939077458659704,
                    0.9944879605454018,
                    0.9944879605454018,
                    0.9953582825645488,
                    0.9953582825645488,
                    0.9956483899042646,
                    0.9956483899042646,
                    0.9959384972439803,
                    0.9959384972439803,
                    0.997098926602843,
                    0.997098926602843,
                    0.9973890339425587,
                    0.9973890339425587,
                    0.9979692486219901,
                    0.9979692486219901,
                    0.9985494633014216,
                    0.9985494633014216,
                    0.9988395706411373,
                    0.9988395706411373,
                    0.9997098926602843,
                    0.9997098926602843,
                    1,
                    1
                  ]
                },
                {
                  "hovertemplate": "TPR: %{y:.2%}<br>FPR: %{x:.2%}<br>Youden's Index: 0.99",
                  "marker": {
                    "size": 15
                  },
                  "mode": "markers",
                  "showlegend": false,
                  "type": "scatter",
                  "x": [
                    0.01282051282051282
                  ],
                  "y": [
                    0.7888018566869742
                  ]
                },
                {
                  "line": {
                    "color": "#444",
                    "dash": "dash",
                    "width": 2
                  },
                  "showlegend": false,
                  "type": "scatter",
                  "x": [
                    0,
                    1
                  ],
                  "y": [
                    0,
                    1
                  ]
                }
              ],
              "layout": {
                "height": 500,
                "template": {
                  "data": {
                    "bar": [
                      {
                        "error_x": {
                          "color": "#2a3f5f"
                        },
                        "error_y": {
                          "color": "#2a3f5f"
                        },
                        "marker": {
                          "line": {
                            "color": "#E5ECF6",
                            "width": 0.5
                          },
                          "pattern": {
                            "fillmode": "overlay",
                            "size": 10,
                            "solidity": 0.2
                          }
                        },
                        "type": "bar"
                      }
                    ],
                    "barpolar": [
                      {
                        "marker": {
                          "line": {
                            "color": "#E5ECF6",
                            "width": 0.5
                          },
                          "pattern": {
                            "fillmode": "overlay",
                            "size": 10,
                            "solidity": 0.2
                          }
                        },
                        "type": "barpolar"
                      }
                    ],
                    "carpet": [
                      {
                        "aaxis": {
                          "endlinecolor": "#2a3f5f",
                          "gridcolor": "white",
                          "linecolor": "white",
                          "minorgridcolor": "white",
                          "startlinecolor": "#2a3f5f"
                        },
                        "baxis": {
                          "endlinecolor": "#2a3f5f",
                          "gridcolor": "white",
                          "linecolor": "white",
                          "minorgridcolor": "white",
                          "startlinecolor": "#2a3f5f"
                        },
                        "type": "carpet"
                      }
                    ],
                    "choropleth": [
                      {
                        "colorbar": {
                          "outlinewidth": 0,
                          "ticks": ""
                        },
                        "type": "choropleth"
                      }
                    ],
                    "contour": [
                      {
                        "colorbar": {
                          "outlinewidth": 0,
                          "ticks": ""
                        },
                        "colorscale": [
                          [
                            0,
                            "#0d0887"
                          ],
                          [
                            0.1111111111111111,
                            "#46039f"
                          ],
                          [
                            0.2222222222222222,
                            "#7201a8"
                          ],
                          [
                            0.3333333333333333,
                            "#9c179e"
                          ],
                          [
                            0.4444444444444444,
                            "#bd3786"
                          ],
                          [
                            0.5555555555555556,
                            "#d8576b"
                          ],
                          [
                            0.6666666666666666,
                            "#ed7953"
                          ],
                          [
                            0.7777777777777778,
                            "#fb9f3a"
                          ],
                          [
                            0.8888888888888888,
                            "#fdca26"
                          ],
                          [
                            1,
                            "#f0f921"
                          ]
                        ],
                        "type": "contour"
                      }
                    ],
                    "contourcarpet": [
                      {
                        "colorbar": {
                          "outlinewidth": 0,
                          "ticks": ""
                        },
                        "type": "contourcarpet"
                      }
                    ],
                    "heatmap": [
                      {
                        "colorbar": {
                          "outlinewidth": 0,
                          "ticks": ""
                        },
                        "colorscale": [
                          [
                            0,
                            "#0d0887"
                          ],
                          [
                            0.1111111111111111,
                            "#46039f"
                          ],
                          [
                            0.2222222222222222,
                            "#7201a8"
                          ],
                          [
                            0.3333333333333333,
                            "#9c179e"
                          ],
                          [
                            0.4444444444444444,
                            "#bd3786"
                          ],
                          [
                            0.5555555555555556,
                            "#d8576b"
                          ],
                          [
                            0.6666666666666666,
                            "#ed7953"
                          ],
                          [
                            0.7777777777777778,
                            "#fb9f3a"
                          ],
                          [
                            0.8888888888888888,
                            "#fdca26"
                          ],
                          [
                            1,
                            "#f0f921"
                          ]
                        ],
                        "type": "heatmap"
                      }
                    ],
                    "heatmapgl": [
                      {
                        "colorbar": {
                          "outlinewidth": 0,
                          "ticks": ""
                        },
                        "colorscale": [
                          [
                            0,
                            "#0d0887"
                          ],
                          [
                            0.1111111111111111,
                            "#46039f"
                          ],
                          [
                            0.2222222222222222,
                            "#7201a8"
                          ],
                          [
                            0.3333333333333333,
                            "#9c179e"
                          ],
                          [
                            0.4444444444444444,
                            "#bd3786"
                          ],
                          [
                            0.5555555555555556,
                            "#d8576b"
                          ],
                          [
                            0.6666666666666666,
                            "#ed7953"
                          ],
                          [
                            0.7777777777777778,
                            "#fb9f3a"
                          ],
                          [
                            0.8888888888888888,
                            "#fdca26"
                          ],
                          [
                            1,
                            "#f0f921"
                          ]
                        ],
                        "type": "heatmapgl"
                      }
                    ],
                    "histogram": [
                      {
                        "marker": {
                          "pattern": {
                            "fillmode": "overlay",
                            "size": 10,
                            "solidity": 0.2
                          }
                        },
                        "type": "histogram"
                      }
                    ],
                    "histogram2d": [
                      {
                        "colorbar": {
                          "outlinewidth": 0,
                          "ticks": ""
                        },
                        "colorscale": [
                          [
                            0,
                            "#0d0887"
                          ],
                          [
                            0.1111111111111111,
                            "#46039f"
                          ],
                          [
                            0.2222222222222222,
                            "#7201a8"
                          ],
                          [
                            0.3333333333333333,
                            "#9c179e"
                          ],
                          [
                            0.4444444444444444,
                            "#bd3786"
                          ],
                          [
                            0.5555555555555556,
                            "#d8576b"
                          ],
                          [
                            0.6666666666666666,
                            "#ed7953"
                          ],
                          [
                            0.7777777777777778,
                            "#fb9f3a"
                          ],
                          [
                            0.8888888888888888,
                            "#fdca26"
                          ],
                          [
                            1,
                            "#f0f921"
                          ]
                        ],
                        "type": "histogram2d"
                      }
                    ],
                    "histogram2dcontour": [
                      {
                        "colorbar": {
                          "outlinewidth": 0,
                          "ticks": ""
                        },
                        "colorscale": [
                          [
                            0,
                            "#0d0887"
                          ],
                          [
                            0.1111111111111111,
                            "#46039f"
                          ],
                          [
                            0.2222222222222222,
                            "#7201a8"
                          ],
                          [
                            0.3333333333333333,
                            "#9c179e"
                          ],
                          [
                            0.4444444444444444,
                            "#bd3786"
                          ],
                          [
                            0.5555555555555556,
                            "#d8576b"
                          ],
                          [
                            0.6666666666666666,
                            "#ed7953"
                          ],
                          [
                            0.7777777777777778,
                            "#fb9f3a"
                          ],
                          [
                            0.8888888888888888,
                            "#fdca26"
                          ],
                          [
                            1,
                            "#f0f921"
                          ]
                        ],
                        "type": "histogram2dcontour"
                      }
                    ],
                    "mesh3d": [
                      {
                        "colorbar": {
                          "outlinewidth": 0,
                          "ticks": ""
                        },
                        "type": "mesh3d"
                      }
                    ],
                    "parcoords": [
                      {
                        "line": {
                          "colorbar": {
                            "outlinewidth": 0,
                            "ticks": ""
                          }
                        },
                        "type": "parcoords"
                      }
                    ],
                    "pie": [
                      {
                        "automargin": true,
                        "type": "pie"
                      }
                    ],
                    "scatter": [
                      {
                        "marker": {
                          "colorbar": {
                            "outlinewidth": 0,
                            "ticks": ""
                          }
                        },
                        "type": "scatter"
                      }
                    ],
                    "scatter3d": [
                      {
                        "line": {
                          "colorbar": {
                            "outlinewidth": 0,
                            "ticks": ""
                          }
                        },
                        "marker": {
                          "colorbar": {
                            "outlinewidth": 0,
                            "ticks": ""
                          }
                        },
                        "type": "scatter3d"
                      }
                    ],
                    "scattercarpet": [
                      {
                        "marker": {
                          "colorbar": {
                            "outlinewidth": 0,
                            "ticks": ""
                          }
                        },
                        "type": "scattercarpet"
                      }
                    ],
                    "scattergeo": [
                      {
                        "marker": {
                          "colorbar": {
                            "outlinewidth": 0,
                            "ticks": ""
                          }
                        },
                        "type": "scattergeo"
                      }
                    ],
                    "scattergl": [
                      {
                        "marker": {
                          "colorbar": {
                            "outlinewidth": 0,
                            "ticks": ""
                          }
                        },
                        "type": "scattergl"
                      }
                    ],
                    "scattermapbox": [
                      {
                        "marker": {
                          "colorbar": {
                            "outlinewidth": 0,
                            "ticks": ""
                          }
                        },
                        "type": "scattermapbox"
                      }
                    ],
                    "scatterpolar": [
                      {
                        "marker": {
                          "colorbar": {
                            "outlinewidth": 0,
                            "ticks": ""
                          }
                        },
                        "type": "scatterpolar"
                      }
                    ],
                    "scatterpolargl": [
                      {
                        "marker": {
                          "colorbar": {
                            "outlinewidth": 0,
                            "ticks": ""
                          }
                        },
                        "type": "scatterpolargl"
                      }
                    ],
                    "scatterternary": [
                      {
                        "marker": {
                          "colorbar": {
                            "outlinewidth": 0,
                            "ticks": ""
                          }
                        },
                        "type": "scatterternary"
                      }
                    ],
                    "surface": [
                      {
                        "colorbar": {
                          "outlinewidth": 0,
                          "ticks": ""
                        },
                        "colorscale": [
                          [
                            0,
                            "#0d0887"
                          ],
                          [
                            0.1111111111111111,
                            "#46039f"
                          ],
                          [
                            0.2222222222222222,
                            "#7201a8"
                          ],
                          [
                            0.3333333333333333,
                            "#9c179e"
                          ],
                          [
                            0.4444444444444444,
                            "#bd3786"
                          ],
                          [
                            0.5555555555555556,
                            "#d8576b"
                          ],
                          [
                            0.6666666666666666,
                            "#ed7953"
                          ],
                          [
                            0.7777777777777778,
                            "#fb9f3a"
                          ],
                          [
                            0.8888888888888888,
                            "#fdca26"
                          ],
                          [
                            1,
                            "#f0f921"
                          ]
                        ],
                        "type": "surface"
                      }
                    ],
                    "table": [
                      {
                        "cells": {
                          "fill": {
                            "color": "#EBF0F8"
                          },
                          "line": {
                            "color": "white"
                          }
                        },
                        "header": {
                          "fill": {
                            "color": "#C8D4E3"
                          },
                          "line": {
                            "color": "white"
                          }
                        },
                        "type": "table"
                      }
                    ]
                  },
                  "layout": {
                    "annotationdefaults": {
                      "arrowcolor": "#2a3f5f",
                      "arrowhead": 0,
                      "arrowwidth": 1
                    },
                    "autotypenumbers": "strict",
                    "coloraxis": {
                      "colorbar": {
                        "outlinewidth": 0,
                        "ticks": ""
                      }
                    },
                    "colorscale": {
                      "diverging": [
                        [
                          0,
                          "#8e0152"
                        ],
                        [
                          0.1,
                          "#c51b7d"
                        ],
                        [
                          0.2,
                          "#de77ae"
                        ],
                        [
                          0.3,
                          "#f1b6da"
                        ],
                        [
                          0.4,
                          "#fde0ef"
                        ],
                        [
                          0.5,
                          "#f7f7f7"
                        ],
                        [
                          0.6,
                          "#e6f5d0"
                        ],
                        [
                          0.7,
                          "#b8e186"
                        ],
                        [
                          0.8,
                          "#7fbc41"
                        ],
                        [
                          0.9,
                          "#4d9221"
                        ],
                        [
                          1,
                          "#276419"
                        ]
                      ],
                      "sequential": [
                        [
                          0,
                          "#0d0887"
                        ],
                        [
                          0.1111111111111111,
                          "#46039f"
                        ],
                        [
                          0.2222222222222222,
                          "#7201a8"
                        ],
                        [
                          0.3333333333333333,
                          "#9c179e"
                        ],
                        [
                          0.4444444444444444,
                          "#bd3786"
                        ],
                        [
                          0.5555555555555556,
                          "#d8576b"
                        ],
                        [
                          0.6666666666666666,
                          "#ed7953"
                        ],
                        [
                          0.7777777777777778,
                          "#fb9f3a"
                        ],
                        [
                          0.8888888888888888,
                          "#fdca26"
                        ],
                        [
                          1,
                          "#f0f921"
                        ]
                      ],
                      "sequentialminus": [
                        [
                          0,
                          "#0d0887"
                        ],
                        [
                          0.1111111111111111,
                          "#46039f"
                        ],
                        [
                          0.2222222222222222,
                          "#7201a8"
                        ],
                        [
                          0.3333333333333333,
                          "#9c179e"
                        ],
                        [
                          0.4444444444444444,
                          "#bd3786"
                        ],
                        [
                          0.5555555555555556,
                          "#d8576b"
                        ],
                        [
                          0.6666666666666666,
                          "#ed7953"
                        ],
                        [
                          0.7777777777777778,
                          "#fb9f3a"
                        ],
                        [
                          0.8888888888888888,
                          "#fdca26"
                        ],
                        [
                          1,
                          "#f0f921"
                        ]
                      ]
                    },
                    "colorway": [
                      "#636efa",
                      "#EF553B",
                      "#00cc96",
                      "#ab63fa",
                      "#FFA15A",
                      "#19d3f3",
                      "#FF6692",
                      "#B6E880",
                      "#FF97FF",
                      "#FECB52"
                    ],
                    "font": {
                      "color": "#2a3f5f"
                    },
                    "geo": {
                      "bgcolor": "white",
                      "lakecolor": "white",
                      "landcolor": "#E5ECF6",
                      "showlakes": true,
                      "showland": true,
                      "subunitcolor": "white"
                    },
                    "hoverlabel": {
                      "align": "left"
                    },
                    "hovermode": "closest",
                    "mapbox": {
                      "style": "light"
                    },
                    "paper_bgcolor": "white",
                    "plot_bgcolor": "#E5ECF6",
                    "polar": {
                      "angularaxis": {
                        "gridcolor": "white",
                        "linecolor": "white",
                        "ticks": ""
                      },
                      "bgcolor": "#E5ECF6",
                      "radialaxis": {
                        "gridcolor": "white",
                        "linecolor": "white",
                        "ticks": ""
                      }
                    },
                    "scene": {
                      "xaxis": {
                        "backgroundcolor": "#E5ECF6",
                        "gridcolor": "white",
                        "gridwidth": 2,
                        "linecolor": "white",
                        "showbackground": true,
                        "ticks": "",
                        "zerolinecolor": "white"
                      },
                      "yaxis": {
                        "backgroundcolor": "#E5ECF6",
                        "gridcolor": "white",
                        "gridwidth": 2,
                        "linecolor": "white",
                        "showbackground": true,
                        "ticks": "",
                        "zerolinecolor": "white"
                      },
                      "zaxis": {
                        "backgroundcolor": "#E5ECF6",
                        "gridcolor": "white",
                        "gridwidth": 2,
                        "linecolor": "white",
                        "showbackground": true,
                        "ticks": "",
                        "zerolinecolor": "white"
                      }
                    },
                    "shapedefaults": {
                      "line": {
                        "color": "#2a3f5f"
                      }
                    },
                    "ternary": {
                      "aaxis": {
                        "gridcolor": "white",
                        "linecolor": "white",
                        "ticks": ""
                      },
                      "baxis": {
                        "gridcolor": "white",
                        "linecolor": "white",
                        "ticks": ""
                      },
                      "bgcolor": "#E5ECF6",
                      "caxis": {
                        "gridcolor": "white",
                        "linecolor": "white",
                        "ticks": ""
                      }
                    },
                    "title": {
                      "x": 0.05
                    },
                    "xaxis": {
                      "automargin": true,
                      "gridcolor": "white",
                      "linecolor": "white",
                      "ticks": "",
                      "title": {
                        "standoff": 15
                      },
                      "zerolinecolor": "white",
                      "zerolinewidth": 2
                    },
                    "yaxis": {
                      "automargin": true,
                      "gridcolor": "white",
                      "linecolor": "white",
                      "ticks": "",
                      "title": {
                        "standoff": 15
                      },
                      "zerolinecolor": "white",
                      "zerolinewidth": 2
                    }
                  }
                },
                "title": {
                  "text": "Receiver operating characteristic for binary data"
                },
                "width": 900,
                "xaxis": {
                  "title": {
                    "text": "False Positive Rate"
                  }
                },
                "yaxis": {
                  "title": {
                    "text": "True Positive Rate"
                  }
                }
              }
            }
          },
          "metadata": {},
          "output_type": "display_data"
        },
        {
          "data": {
            "text/html": [
              "<div><span style=\"font-size:0.8em\"><i>\n",
              "        The marked points are the optimal threshold cut-off points. They are determined using Youden's index defined\n",
              "        as sensitivity + specificity - 1\n",
              "        </i></span></div><br><a href=\"#summary_G5D4I\" style=\"font-size: 14px\">Go to top</a>"
            ]
          },
          "metadata": {},
          "output_type": "display_data"
        },
        {
          "data": {
            "text/html": [
              "<hr style=\"background-color: #eee;border: 0 none;color: #eee;height: 4px;\">"
            ]
          },
          "metadata": {},
          "output_type": "display_data"
        },
        {
          "data": {
            "text/html": [
              "<h4 id=\"ROCReport-TestDataset_G5D4I\">ROC Report - Test Dataset</h4><p>Calculate the ROC curve for each class. <a href=\"https://docs.deepchecks.com/0.6.1/examples/tabular/checks/performance/examples/plot_roc_report.html?utm_source=display_output&utm_medium=referral&utm_campaign=check_link\" target=\"_blank\">Read More...</a></p><h5>Conditions Summary</h5><style type=\"text/css\">\n",
              "#T_be3fb table {\n",
              "  text-align: left;\n",
              "  white-space: pre-wrap;\n",
              "}\n",
              "#T_be3fb thead {\n",
              "  text-align: left;\n",
              "  white-space: pre-wrap;\n",
              "}\n",
              "#T_be3fb tbody {\n",
              "  text-align: left;\n",
              "  white-space: pre-wrap;\n",
              "}\n",
              "#T_be3fb th {\n",
              "  text-align: left;\n",
              "  white-space: pre-wrap;\n",
              "}\n",
              "#T_be3fb td {\n",
              "  text-align: left;\n",
              "  white-space: pre-wrap;\n",
              "}\n",
              "</style>\n",
              "<table id=\"T_be3fb\">\n",
              "  <thead>\n",
              "    <tr>\n",
              "      <th id=\"T_be3fb_level0_col0\" class=\"col_heading level0 col0\" >Status</th>\n",
              "      <th id=\"T_be3fb_level0_col1\" class=\"col_heading level0 col1\" >Condition</th>\n",
              "      <th id=\"T_be3fb_level0_col2\" class=\"col_heading level0 col2\" >More Info</th>\n",
              "    </tr>\n",
              "  </thead>\n",
              "  <tbody>\n",
              "    <tr>\n",
              "      <td id=\"T_be3fb_row0_col0\" class=\"data row0 col0\" ><div style=\"color: green;text-align: center\">✓</div></td>\n",
              "      <td id=\"T_be3fb_row0_col1\" class=\"data row0 col1\" >AUC score for all the classes is not less than 0.7</td>\n",
              "      <td id=\"T_be3fb_row0_col2\" class=\"data row0 col2\" ></td>\n",
              "    </tr>\n",
              "  </tbody>\n",
              "</table>\n",
              "<h5>Additional Outputs</h5>"
            ]
          },
          "metadata": {},
          "output_type": "display_data"
        },
        {
          "data": {
            "application/vnd.plotly.v1+json": {
              "config": {
                "plotlyServerURL": "https://plot.ly"
              },
              "data": [
                {
                  "line": {
                    "width": 2
                  },
                  "name": "auc = 0.83",
                  "type": "scatter",
                  "x": [
                    0,
                    0,
                    0,
                    0,
                    0,
                    0.019230769230769232,
                    0.019230769230769232,
                    0.038461538461538464,
                    0.038461538461538464,
                    0.057692307692307696,
                    0.057692307692307696,
                    0.07692307692307693,
                    0.07692307692307693,
                    0.09615384615384616,
                    0.09615384615384616,
                    0.11538461538461539,
                    0.11538461538461539,
                    0.1346153846153846,
                    0.1346153846153846,
                    0.15384615384615385,
                    0.15384615384615385,
                    0.17307692307692307,
                    0.17307692307692307,
                    0.19230769230769232,
                    0.19230769230769232,
                    0.21153846153846154,
                    0.21153846153846154,
                    0.23076923076923078,
                    0.23076923076923078,
                    0.25,
                    0.25,
                    0.2692307692307692,
                    0.2692307692307692,
                    0.28846153846153844,
                    0.28846153846153844,
                    0.34615384615384615,
                    0.34615384615384615,
                    0.38461538461538464,
                    0.38461538461538464,
                    0.40384615384615385,
                    0.40384615384615385,
                    0.4230769230769231,
                    0.4230769230769231,
                    0.4423076923076923,
                    0.4423076923076923,
                    0.46153846153846156,
                    0.46153846153846156,
                    0.4807692307692308,
                    0.4807692307692308,
                    0.5,
                    0.5,
                    0.5192307692307693,
                    0.5192307692307693,
                    0.5384615384615384,
                    0.5384615384615384,
                    0.5769230769230769,
                    0.5769230769230769,
                    0.6153846153846154,
                    0.6153846153846154,
                    0.6346153846153846,
                    0.6346153846153846,
                    0.6538461538461539,
                    0.6538461538461539,
                    0.7115384615384616,
                    0.7115384615384616,
                    0.7307692307692307,
                    0.7307692307692307,
                    0.75,
                    0.75,
                    0.7884615384615384,
                    0.7884615384615384,
                    0.8076923076923077,
                    0.8076923076923077,
                    0.8269230769230769,
                    0.8269230769230769,
                    0.8461538461538461,
                    0.8461538461538461,
                    0.8653846153846154,
                    0.8653846153846154,
                    0.8846153846153846,
                    0.8846153846153846,
                    0.9230769230769231,
                    0.9230769230769231,
                    0.9423076923076923,
                    0.9423076923076923,
                    0.9615384615384616,
                    0.9615384615384616,
                    1,
                    1
                  ],
                  "y": [
                    0,
                    0.0008695652173913044,
                    0.2565217391304348,
                    0.2582608695652174,
                    0.34608695652173915,
                    0.34608695652173915,
                    0.3765217391304348,
                    0.3765217391304348,
                    0.42695652173913046,
                    0.42695652173913046,
                    0.44956521739130434,
                    0.44956521739130434,
                    0.45652173913043476,
                    0.45652173913043476,
                    0.48434782608695653,
                    0.48434782608695653,
                    0.6043478260869565,
                    0.6043478260869565,
                    0.6217391304347826,
                    0.6217391304347826,
                    0.668695652173913,
                    0.668695652173913,
                    0.7208695652173913,
                    0.7208695652173913,
                    0.7226086956521739,
                    0.7226086956521739,
                    0.7356521739130435,
                    0.7356521739130435,
                    0.7391304347826086,
                    0.7391304347826086,
                    0.7678260869565218,
                    0.7678260869565218,
                    0.7904347826086957,
                    0.7904347826086957,
                    0.808695652173913,
                    0.808695652173913,
                    0.8252173913043478,
                    0.8252173913043478,
                    0.8469565217391304,
                    0.8469565217391304,
                    0.86,
                    0.86,
                    0.8826086956521739,
                    0.8826086956521739,
                    0.888695652173913,
                    0.888695652173913,
                    0.8947826086956522,
                    0.8947826086956522,
                    0.9078260869565218,
                    0.9078260869565218,
                    0.9104347826086957,
                    0.9104347826086957,
                    0.922608695652174,
                    0.922608695652174,
                    0.9234782608695652,
                    0.9234782608695652,
                    0.9304347826086956,
                    0.9304347826086956,
                    0.931304347826087,
                    0.931304347826087,
                    0.9347826086956522,
                    0.9347826086956522,
                    0.9434782608695652,
                    0.9434782608695652,
                    0.9460869565217391,
                    0.9460869565217391,
                    0.9547826086956521,
                    0.9547826086956521,
                    0.9591304347826087,
                    0.9591304347826087,
                    0.9643478260869566,
                    0.9643478260869566,
                    0.9704347826086956,
                    0.9704347826086956,
                    0.9721739130434782,
                    0.9721739130434782,
                    0.9730434782608696,
                    0.9730434782608696,
                    0.9739130434782609,
                    0.9739130434782609,
                    0.9852173913043478,
                    0.9852173913043478,
                    0.9869565217391304,
                    0.9869565217391304,
                    0.9930434782608696,
                    0.9930434782608696,
                    0.9939130434782608,
                    0.9939130434782608,
                    1
                  ]
                },
                {
                  "hovertemplate": "TPR: %{y:.2%}<br>FPR: %{x:.2%}<br>Youden's Index: 0.993",
                  "marker": {
                    "size": 15
                  },
                  "mode": "markers",
                  "showlegend": false,
                  "type": "scatter",
                  "x": [
                    0.17307692307692307
                  ],
                  "y": [
                    0.7208695652173913
                  ]
                },
                {
                  "line": {
                    "color": "#444",
                    "dash": "dash",
                    "width": 2
                  },
                  "showlegend": false,
                  "type": "scatter",
                  "x": [
                    0,
                    1
                  ],
                  "y": [
                    0,
                    1
                  ]
                }
              ],
              "layout": {
                "height": 500,
                "template": {
                  "data": {
                    "bar": [
                      {
                        "error_x": {
                          "color": "#2a3f5f"
                        },
                        "error_y": {
                          "color": "#2a3f5f"
                        },
                        "marker": {
                          "line": {
                            "color": "#E5ECF6",
                            "width": 0.5
                          },
                          "pattern": {
                            "fillmode": "overlay",
                            "size": 10,
                            "solidity": 0.2
                          }
                        },
                        "type": "bar"
                      }
                    ],
                    "barpolar": [
                      {
                        "marker": {
                          "line": {
                            "color": "#E5ECF6",
                            "width": 0.5
                          },
                          "pattern": {
                            "fillmode": "overlay",
                            "size": 10,
                            "solidity": 0.2
                          }
                        },
                        "type": "barpolar"
                      }
                    ],
                    "carpet": [
                      {
                        "aaxis": {
                          "endlinecolor": "#2a3f5f",
                          "gridcolor": "white",
                          "linecolor": "white",
                          "minorgridcolor": "white",
                          "startlinecolor": "#2a3f5f"
                        },
                        "baxis": {
                          "endlinecolor": "#2a3f5f",
                          "gridcolor": "white",
                          "linecolor": "white",
                          "minorgridcolor": "white",
                          "startlinecolor": "#2a3f5f"
                        },
                        "type": "carpet"
                      }
                    ],
                    "choropleth": [
                      {
                        "colorbar": {
                          "outlinewidth": 0,
                          "ticks": ""
                        },
                        "type": "choropleth"
                      }
                    ],
                    "contour": [
                      {
                        "colorbar": {
                          "outlinewidth": 0,
                          "ticks": ""
                        },
                        "colorscale": [
                          [
                            0,
                            "#0d0887"
                          ],
                          [
                            0.1111111111111111,
                            "#46039f"
                          ],
                          [
                            0.2222222222222222,
                            "#7201a8"
                          ],
                          [
                            0.3333333333333333,
                            "#9c179e"
                          ],
                          [
                            0.4444444444444444,
                            "#bd3786"
                          ],
                          [
                            0.5555555555555556,
                            "#d8576b"
                          ],
                          [
                            0.6666666666666666,
                            "#ed7953"
                          ],
                          [
                            0.7777777777777778,
                            "#fb9f3a"
                          ],
                          [
                            0.8888888888888888,
                            "#fdca26"
                          ],
                          [
                            1,
                            "#f0f921"
                          ]
                        ],
                        "type": "contour"
                      }
                    ],
                    "contourcarpet": [
                      {
                        "colorbar": {
                          "outlinewidth": 0,
                          "ticks": ""
                        },
                        "type": "contourcarpet"
                      }
                    ],
                    "heatmap": [
                      {
                        "colorbar": {
                          "outlinewidth": 0,
                          "ticks": ""
                        },
                        "colorscale": [
                          [
                            0,
                            "#0d0887"
                          ],
                          [
                            0.1111111111111111,
                            "#46039f"
                          ],
                          [
                            0.2222222222222222,
                            "#7201a8"
                          ],
                          [
                            0.3333333333333333,
                            "#9c179e"
                          ],
                          [
                            0.4444444444444444,
                            "#bd3786"
                          ],
                          [
                            0.5555555555555556,
                            "#d8576b"
                          ],
                          [
                            0.6666666666666666,
                            "#ed7953"
                          ],
                          [
                            0.7777777777777778,
                            "#fb9f3a"
                          ],
                          [
                            0.8888888888888888,
                            "#fdca26"
                          ],
                          [
                            1,
                            "#f0f921"
                          ]
                        ],
                        "type": "heatmap"
                      }
                    ],
                    "heatmapgl": [
                      {
                        "colorbar": {
                          "outlinewidth": 0,
                          "ticks": ""
                        },
                        "colorscale": [
                          [
                            0,
                            "#0d0887"
                          ],
                          [
                            0.1111111111111111,
                            "#46039f"
                          ],
                          [
                            0.2222222222222222,
                            "#7201a8"
                          ],
                          [
                            0.3333333333333333,
                            "#9c179e"
                          ],
                          [
                            0.4444444444444444,
                            "#bd3786"
                          ],
                          [
                            0.5555555555555556,
                            "#d8576b"
                          ],
                          [
                            0.6666666666666666,
                            "#ed7953"
                          ],
                          [
                            0.7777777777777778,
                            "#fb9f3a"
                          ],
                          [
                            0.8888888888888888,
                            "#fdca26"
                          ],
                          [
                            1,
                            "#f0f921"
                          ]
                        ],
                        "type": "heatmapgl"
                      }
                    ],
                    "histogram": [
                      {
                        "marker": {
                          "pattern": {
                            "fillmode": "overlay",
                            "size": 10,
                            "solidity": 0.2
                          }
                        },
                        "type": "histogram"
                      }
                    ],
                    "histogram2d": [
                      {
                        "colorbar": {
                          "outlinewidth": 0,
                          "ticks": ""
                        },
                        "colorscale": [
                          [
                            0,
                            "#0d0887"
                          ],
                          [
                            0.1111111111111111,
                            "#46039f"
                          ],
                          [
                            0.2222222222222222,
                            "#7201a8"
                          ],
                          [
                            0.3333333333333333,
                            "#9c179e"
                          ],
                          [
                            0.4444444444444444,
                            "#bd3786"
                          ],
                          [
                            0.5555555555555556,
                            "#d8576b"
                          ],
                          [
                            0.6666666666666666,
                            "#ed7953"
                          ],
                          [
                            0.7777777777777778,
                            "#fb9f3a"
                          ],
                          [
                            0.8888888888888888,
                            "#fdca26"
                          ],
                          [
                            1,
                            "#f0f921"
                          ]
                        ],
                        "type": "histogram2d"
                      }
                    ],
                    "histogram2dcontour": [
                      {
                        "colorbar": {
                          "outlinewidth": 0,
                          "ticks": ""
                        },
                        "colorscale": [
                          [
                            0,
                            "#0d0887"
                          ],
                          [
                            0.1111111111111111,
                            "#46039f"
                          ],
                          [
                            0.2222222222222222,
                            "#7201a8"
                          ],
                          [
                            0.3333333333333333,
                            "#9c179e"
                          ],
                          [
                            0.4444444444444444,
                            "#bd3786"
                          ],
                          [
                            0.5555555555555556,
                            "#d8576b"
                          ],
                          [
                            0.6666666666666666,
                            "#ed7953"
                          ],
                          [
                            0.7777777777777778,
                            "#fb9f3a"
                          ],
                          [
                            0.8888888888888888,
                            "#fdca26"
                          ],
                          [
                            1,
                            "#f0f921"
                          ]
                        ],
                        "type": "histogram2dcontour"
                      }
                    ],
                    "mesh3d": [
                      {
                        "colorbar": {
                          "outlinewidth": 0,
                          "ticks": ""
                        },
                        "type": "mesh3d"
                      }
                    ],
                    "parcoords": [
                      {
                        "line": {
                          "colorbar": {
                            "outlinewidth": 0,
                            "ticks": ""
                          }
                        },
                        "type": "parcoords"
                      }
                    ],
                    "pie": [
                      {
                        "automargin": true,
                        "type": "pie"
                      }
                    ],
                    "scatter": [
                      {
                        "marker": {
                          "colorbar": {
                            "outlinewidth": 0,
                            "ticks": ""
                          }
                        },
                        "type": "scatter"
                      }
                    ],
                    "scatter3d": [
                      {
                        "line": {
                          "colorbar": {
                            "outlinewidth": 0,
                            "ticks": ""
                          }
                        },
                        "marker": {
                          "colorbar": {
                            "outlinewidth": 0,
                            "ticks": ""
                          }
                        },
                        "type": "scatter3d"
                      }
                    ],
                    "scattercarpet": [
                      {
                        "marker": {
                          "colorbar": {
                            "outlinewidth": 0,
                            "ticks": ""
                          }
                        },
                        "type": "scattercarpet"
                      }
                    ],
                    "scattergeo": [
                      {
                        "marker": {
                          "colorbar": {
                            "outlinewidth": 0,
                            "ticks": ""
                          }
                        },
                        "type": "scattergeo"
                      }
                    ],
                    "scattergl": [
                      {
                        "marker": {
                          "colorbar": {
                            "outlinewidth": 0,
                            "ticks": ""
                          }
                        },
                        "type": "scattergl"
                      }
                    ],
                    "scattermapbox": [
                      {
                        "marker": {
                          "colorbar": {
                            "outlinewidth": 0,
                            "ticks": ""
                          }
                        },
                        "type": "scattermapbox"
                      }
                    ],
                    "scatterpolar": [
                      {
                        "marker": {
                          "colorbar": {
                            "outlinewidth": 0,
                            "ticks": ""
                          }
                        },
                        "type": "scatterpolar"
                      }
                    ],
                    "scatterpolargl": [
                      {
                        "marker": {
                          "colorbar": {
                            "outlinewidth": 0,
                            "ticks": ""
                          }
                        },
                        "type": "scatterpolargl"
                      }
                    ],
                    "scatterternary": [
                      {
                        "marker": {
                          "colorbar": {
                            "outlinewidth": 0,
                            "ticks": ""
                          }
                        },
                        "type": "scatterternary"
                      }
                    ],
                    "surface": [
                      {
                        "colorbar": {
                          "outlinewidth": 0,
                          "ticks": ""
                        },
                        "colorscale": [
                          [
                            0,
                            "#0d0887"
                          ],
                          [
                            0.1111111111111111,
                            "#46039f"
                          ],
                          [
                            0.2222222222222222,
                            "#7201a8"
                          ],
                          [
                            0.3333333333333333,
                            "#9c179e"
                          ],
                          [
                            0.4444444444444444,
                            "#bd3786"
                          ],
                          [
                            0.5555555555555556,
                            "#d8576b"
                          ],
                          [
                            0.6666666666666666,
                            "#ed7953"
                          ],
                          [
                            0.7777777777777778,
                            "#fb9f3a"
                          ],
                          [
                            0.8888888888888888,
                            "#fdca26"
                          ],
                          [
                            1,
                            "#f0f921"
                          ]
                        ],
                        "type": "surface"
                      }
                    ],
                    "table": [
                      {
                        "cells": {
                          "fill": {
                            "color": "#EBF0F8"
                          },
                          "line": {
                            "color": "white"
                          }
                        },
                        "header": {
                          "fill": {
                            "color": "#C8D4E3"
                          },
                          "line": {
                            "color": "white"
                          }
                        },
                        "type": "table"
                      }
                    ]
                  },
                  "layout": {
                    "annotationdefaults": {
                      "arrowcolor": "#2a3f5f",
                      "arrowhead": 0,
                      "arrowwidth": 1
                    },
                    "autotypenumbers": "strict",
                    "coloraxis": {
                      "colorbar": {
                        "outlinewidth": 0,
                        "ticks": ""
                      }
                    },
                    "colorscale": {
                      "diverging": [
                        [
                          0,
                          "#8e0152"
                        ],
                        [
                          0.1,
                          "#c51b7d"
                        ],
                        [
                          0.2,
                          "#de77ae"
                        ],
                        [
                          0.3,
                          "#f1b6da"
                        ],
                        [
                          0.4,
                          "#fde0ef"
                        ],
                        [
                          0.5,
                          "#f7f7f7"
                        ],
                        [
                          0.6,
                          "#e6f5d0"
                        ],
                        [
                          0.7,
                          "#b8e186"
                        ],
                        [
                          0.8,
                          "#7fbc41"
                        ],
                        [
                          0.9,
                          "#4d9221"
                        ],
                        [
                          1,
                          "#276419"
                        ]
                      ],
                      "sequential": [
                        [
                          0,
                          "#0d0887"
                        ],
                        [
                          0.1111111111111111,
                          "#46039f"
                        ],
                        [
                          0.2222222222222222,
                          "#7201a8"
                        ],
                        [
                          0.3333333333333333,
                          "#9c179e"
                        ],
                        [
                          0.4444444444444444,
                          "#bd3786"
                        ],
                        [
                          0.5555555555555556,
                          "#d8576b"
                        ],
                        [
                          0.6666666666666666,
                          "#ed7953"
                        ],
                        [
                          0.7777777777777778,
                          "#fb9f3a"
                        ],
                        [
                          0.8888888888888888,
                          "#fdca26"
                        ],
                        [
                          1,
                          "#f0f921"
                        ]
                      ],
                      "sequentialminus": [
                        [
                          0,
                          "#0d0887"
                        ],
                        [
                          0.1111111111111111,
                          "#46039f"
                        ],
                        [
                          0.2222222222222222,
                          "#7201a8"
                        ],
                        [
                          0.3333333333333333,
                          "#9c179e"
                        ],
                        [
                          0.4444444444444444,
                          "#bd3786"
                        ],
                        [
                          0.5555555555555556,
                          "#d8576b"
                        ],
                        [
                          0.6666666666666666,
                          "#ed7953"
                        ],
                        [
                          0.7777777777777778,
                          "#fb9f3a"
                        ],
                        [
                          0.8888888888888888,
                          "#fdca26"
                        ],
                        [
                          1,
                          "#f0f921"
                        ]
                      ]
                    },
                    "colorway": [
                      "#636efa",
                      "#EF553B",
                      "#00cc96",
                      "#ab63fa",
                      "#FFA15A",
                      "#19d3f3",
                      "#FF6692",
                      "#B6E880",
                      "#FF97FF",
                      "#FECB52"
                    ],
                    "font": {
                      "color": "#2a3f5f"
                    },
                    "geo": {
                      "bgcolor": "white",
                      "lakecolor": "white",
                      "landcolor": "#E5ECF6",
                      "showlakes": true,
                      "showland": true,
                      "subunitcolor": "white"
                    },
                    "hoverlabel": {
                      "align": "left"
                    },
                    "hovermode": "closest",
                    "mapbox": {
                      "style": "light"
                    },
                    "paper_bgcolor": "white",
                    "plot_bgcolor": "#E5ECF6",
                    "polar": {
                      "angularaxis": {
                        "gridcolor": "white",
                        "linecolor": "white",
                        "ticks": ""
                      },
                      "bgcolor": "#E5ECF6",
                      "radialaxis": {
                        "gridcolor": "white",
                        "linecolor": "white",
                        "ticks": ""
                      }
                    },
                    "scene": {
                      "xaxis": {
                        "backgroundcolor": "#E5ECF6",
                        "gridcolor": "white",
                        "gridwidth": 2,
                        "linecolor": "white",
                        "showbackground": true,
                        "ticks": "",
                        "zerolinecolor": "white"
                      },
                      "yaxis": {
                        "backgroundcolor": "#E5ECF6",
                        "gridcolor": "white",
                        "gridwidth": 2,
                        "linecolor": "white",
                        "showbackground": true,
                        "ticks": "",
                        "zerolinecolor": "white"
                      },
                      "zaxis": {
                        "backgroundcolor": "#E5ECF6",
                        "gridcolor": "white",
                        "gridwidth": 2,
                        "linecolor": "white",
                        "showbackground": true,
                        "ticks": "",
                        "zerolinecolor": "white"
                      }
                    },
                    "shapedefaults": {
                      "line": {
                        "color": "#2a3f5f"
                      }
                    },
                    "ternary": {
                      "aaxis": {
                        "gridcolor": "white",
                        "linecolor": "white",
                        "ticks": ""
                      },
                      "baxis": {
                        "gridcolor": "white",
                        "linecolor": "white",
                        "ticks": ""
                      },
                      "bgcolor": "#E5ECF6",
                      "caxis": {
                        "gridcolor": "white",
                        "linecolor": "white",
                        "ticks": ""
                      }
                    },
                    "title": {
                      "x": 0.05
                    },
                    "xaxis": {
                      "automargin": true,
                      "gridcolor": "white",
                      "linecolor": "white",
                      "ticks": "",
                      "title": {
                        "standoff": 15
                      },
                      "zerolinecolor": "white",
                      "zerolinewidth": 2
                    },
                    "yaxis": {
                      "automargin": true,
                      "gridcolor": "white",
                      "linecolor": "white",
                      "ticks": "",
                      "title": {
                        "standoff": 15
                      },
                      "zerolinecolor": "white",
                      "zerolinewidth": 2
                    }
                  }
                },
                "title": {
                  "text": "Receiver operating characteristic for binary data"
                },
                "width": 900,
                "xaxis": {
                  "title": {
                    "text": "False Positive Rate"
                  }
                },
                "yaxis": {
                  "title": {
                    "text": "True Positive Rate"
                  }
                }
              }
            }
          },
          "metadata": {},
          "output_type": "display_data"
        },
        {
          "data": {
            "text/html": [
              "<div><span style=\"font-size:0.8em\"><i>\n",
              "        The marked points are the optimal threshold cut-off points. They are determined using Youden's index defined\n",
              "        as sensitivity + specificity - 1\n",
              "        </i></span></div><br><a href=\"#summary_G5D4I\" style=\"font-size: 14px\">Go to top</a>"
            ]
          },
          "metadata": {},
          "output_type": "display_data"
        },
        {
          "data": {
            "text/html": [
              "<hr style=\"background-color: #eee;border: 0 none;color: #eee;height: 4px;\">"
            ]
          },
          "metadata": {},
          "output_type": "display_data"
        },
        {
          "data": {
            "text/html": [
              "<h4 id=\"UnusedFeatures_G5D4I\">Unused Features</h4><p>Detect features that are nearly unused by the model. <a href=\"https://docs.deepchecks.com/0.6.1/examples/tabular/checks/methodology/examples/plot_unused_features.html?utm_source=display_output&utm_medium=referral&utm_campaign=check_link\" target=\"_blank\">Read More...</a></p><h5>Conditions Summary</h5><style type=\"text/css\">\n",
              "#T_68a47 table {\n",
              "  text-align: left;\n",
              "  white-space: pre-wrap;\n",
              "}\n",
              "#T_68a47 thead {\n",
              "  text-align: left;\n",
              "  white-space: pre-wrap;\n",
              "}\n",
              "#T_68a47 tbody {\n",
              "  text-align: left;\n",
              "  white-space: pre-wrap;\n",
              "}\n",
              "#T_68a47 th {\n",
              "  text-align: left;\n",
              "  white-space: pre-wrap;\n",
              "}\n",
              "#T_68a47 td {\n",
              "  text-align: left;\n",
              "  white-space: pre-wrap;\n",
              "}\n",
              "</style>\n",
              "<table id=\"T_68a47\">\n",
              "  <thead>\n",
              "    <tr>\n",
              "      <th id=\"T_68a47_level0_col0\" class=\"col_heading level0 col0\" >Status</th>\n",
              "      <th id=\"T_68a47_level0_col1\" class=\"col_heading level0 col1\" >Condition</th>\n",
              "      <th id=\"T_68a47_level0_col2\" class=\"col_heading level0 col2\" >More Info</th>\n",
              "    </tr>\n",
              "  </thead>\n",
              "  <tbody>\n",
              "    <tr>\n",
              "      <td id=\"T_68a47_row0_col0\" class=\"data row0 col0\" ><div style=\"color: green;text-align: center\">✓</div></td>\n",
              "      <td id=\"T_68a47_row0_col1\" class=\"data row0 col1\" >Number of high variance unused features is not greater than 5</td>\n",
              "      <td id=\"T_68a47_row0_col2\" class=\"data row0 col2\" ></td>\n",
              "    </tr>\n",
              "  </tbody>\n",
              "</table>\n",
              "<h5>Additional Outputs</h5><div>Features above the line are a sample of the most important features, while the features below the line are the unused features with highest variance, as defined by check parameters</div>"
            ]
          },
          "metadata": {},
          "output_type": "display_data"
        },
        {
          "data": {
            "application/vnd.plotly.v1+json": {
              "config": {
                "plotlyServerURL": "https://plot.ly"
              },
              "data": [
                {
                  "marker": {
                    "color": "indianred"
                  },
                  "name": "Feature Importance %",
                  "orientation": "h",
                  "type": "bar",
                  "x": [
                    25.990063049301277,
                    23.858655453768346,
                    17.30675399996634,
                    15.347765092751445,
                    5.951555949215461,
                    0.5346436864404449,
                    0.8547310158675754,
                    1.148633785709504,
                    0,
                    0.5528305325127341
                  ],
                  "y": [
                    "avg_glucose_level",
                    "id",
                    "bmi",
                    "age",
                    "smoking_status",
                    "Residence_type",
                    "ever_married",
                    "gender_Male",
                    "work_type_children",
                    "work_type_Govt_job"
                  ]
                },
                {
                  "marker": {
                    "color": "lightsalmon"
                  },
                  "name": "Feature Variance %",
                  "orientation": "h",
                  "type": "bar",
                  "x": [
                    8.160416587141887,
                    8.526775319218624,
                    12.727046163867223,
                    9.497852687951779,
                    9.148229768637192,
                    7.2030730419707405,
                    6.565702590275864,
                    5.974786566523097,
                    4.287252261866777,
                    3.846745748323614
                  ],
                  "y": [
                    "avg_glucose_level",
                    "id",
                    "bmi",
                    "age",
                    "smoking_status",
                    "Residence_type",
                    "ever_married",
                    "gender_Male",
                    "work_type_children",
                    "work_type_Govt_job"
                  ]
                }
              ],
              "layout": {
                "annotations": [
                  {
                    "showarrow": false,
                    "text": "Last shown significant feature",
                    "x": 1,
                    "xanchor": "right",
                    "xref": "x domain",
                    "y": 4.5,
                    "yanchor": "bottom",
                    "yref": "y"
                  }
                ],
                "height": 500,
                "shapes": [
                  {
                    "line": {
                      "color": "green",
                      "dash": "dash",
                      "width": 2
                    },
                    "type": "line",
                    "x0": 0,
                    "x1": 1,
                    "xref": "x domain",
                    "y0": 4.5,
                    "y1": 4.5,
                    "yref": "y"
                  }
                ],
                "template": {
                  "data": {
                    "bar": [
                      {
                        "error_x": {
                          "color": "#2a3f5f"
                        },
                        "error_y": {
                          "color": "#2a3f5f"
                        },
                        "marker": {
                          "line": {
                            "color": "#E5ECF6",
                            "width": 0.5
                          },
                          "pattern": {
                            "fillmode": "overlay",
                            "size": 10,
                            "solidity": 0.2
                          }
                        },
                        "type": "bar"
                      }
                    ],
                    "barpolar": [
                      {
                        "marker": {
                          "line": {
                            "color": "#E5ECF6",
                            "width": 0.5
                          },
                          "pattern": {
                            "fillmode": "overlay",
                            "size": 10,
                            "solidity": 0.2
                          }
                        },
                        "type": "barpolar"
                      }
                    ],
                    "carpet": [
                      {
                        "aaxis": {
                          "endlinecolor": "#2a3f5f",
                          "gridcolor": "white",
                          "linecolor": "white",
                          "minorgridcolor": "white",
                          "startlinecolor": "#2a3f5f"
                        },
                        "baxis": {
                          "endlinecolor": "#2a3f5f",
                          "gridcolor": "white",
                          "linecolor": "white",
                          "minorgridcolor": "white",
                          "startlinecolor": "#2a3f5f"
                        },
                        "type": "carpet"
                      }
                    ],
                    "choropleth": [
                      {
                        "colorbar": {
                          "outlinewidth": 0,
                          "ticks": ""
                        },
                        "type": "choropleth"
                      }
                    ],
                    "contour": [
                      {
                        "colorbar": {
                          "outlinewidth": 0,
                          "ticks": ""
                        },
                        "colorscale": [
                          [
                            0,
                            "#0d0887"
                          ],
                          [
                            0.1111111111111111,
                            "#46039f"
                          ],
                          [
                            0.2222222222222222,
                            "#7201a8"
                          ],
                          [
                            0.3333333333333333,
                            "#9c179e"
                          ],
                          [
                            0.4444444444444444,
                            "#bd3786"
                          ],
                          [
                            0.5555555555555556,
                            "#d8576b"
                          ],
                          [
                            0.6666666666666666,
                            "#ed7953"
                          ],
                          [
                            0.7777777777777778,
                            "#fb9f3a"
                          ],
                          [
                            0.8888888888888888,
                            "#fdca26"
                          ],
                          [
                            1,
                            "#f0f921"
                          ]
                        ],
                        "type": "contour"
                      }
                    ],
                    "contourcarpet": [
                      {
                        "colorbar": {
                          "outlinewidth": 0,
                          "ticks": ""
                        },
                        "type": "contourcarpet"
                      }
                    ],
                    "heatmap": [
                      {
                        "colorbar": {
                          "outlinewidth": 0,
                          "ticks": ""
                        },
                        "colorscale": [
                          [
                            0,
                            "#0d0887"
                          ],
                          [
                            0.1111111111111111,
                            "#46039f"
                          ],
                          [
                            0.2222222222222222,
                            "#7201a8"
                          ],
                          [
                            0.3333333333333333,
                            "#9c179e"
                          ],
                          [
                            0.4444444444444444,
                            "#bd3786"
                          ],
                          [
                            0.5555555555555556,
                            "#d8576b"
                          ],
                          [
                            0.6666666666666666,
                            "#ed7953"
                          ],
                          [
                            0.7777777777777778,
                            "#fb9f3a"
                          ],
                          [
                            0.8888888888888888,
                            "#fdca26"
                          ],
                          [
                            1,
                            "#f0f921"
                          ]
                        ],
                        "type": "heatmap"
                      }
                    ],
                    "heatmapgl": [
                      {
                        "colorbar": {
                          "outlinewidth": 0,
                          "ticks": ""
                        },
                        "colorscale": [
                          [
                            0,
                            "#0d0887"
                          ],
                          [
                            0.1111111111111111,
                            "#46039f"
                          ],
                          [
                            0.2222222222222222,
                            "#7201a8"
                          ],
                          [
                            0.3333333333333333,
                            "#9c179e"
                          ],
                          [
                            0.4444444444444444,
                            "#bd3786"
                          ],
                          [
                            0.5555555555555556,
                            "#d8576b"
                          ],
                          [
                            0.6666666666666666,
                            "#ed7953"
                          ],
                          [
                            0.7777777777777778,
                            "#fb9f3a"
                          ],
                          [
                            0.8888888888888888,
                            "#fdca26"
                          ],
                          [
                            1,
                            "#f0f921"
                          ]
                        ],
                        "type": "heatmapgl"
                      }
                    ],
                    "histogram": [
                      {
                        "marker": {
                          "pattern": {
                            "fillmode": "overlay",
                            "size": 10,
                            "solidity": 0.2
                          }
                        },
                        "type": "histogram"
                      }
                    ],
                    "histogram2d": [
                      {
                        "colorbar": {
                          "outlinewidth": 0,
                          "ticks": ""
                        },
                        "colorscale": [
                          [
                            0,
                            "#0d0887"
                          ],
                          [
                            0.1111111111111111,
                            "#46039f"
                          ],
                          [
                            0.2222222222222222,
                            "#7201a8"
                          ],
                          [
                            0.3333333333333333,
                            "#9c179e"
                          ],
                          [
                            0.4444444444444444,
                            "#bd3786"
                          ],
                          [
                            0.5555555555555556,
                            "#d8576b"
                          ],
                          [
                            0.6666666666666666,
                            "#ed7953"
                          ],
                          [
                            0.7777777777777778,
                            "#fb9f3a"
                          ],
                          [
                            0.8888888888888888,
                            "#fdca26"
                          ],
                          [
                            1,
                            "#f0f921"
                          ]
                        ],
                        "type": "histogram2d"
                      }
                    ],
                    "histogram2dcontour": [
                      {
                        "colorbar": {
                          "outlinewidth": 0,
                          "ticks": ""
                        },
                        "colorscale": [
                          [
                            0,
                            "#0d0887"
                          ],
                          [
                            0.1111111111111111,
                            "#46039f"
                          ],
                          [
                            0.2222222222222222,
                            "#7201a8"
                          ],
                          [
                            0.3333333333333333,
                            "#9c179e"
                          ],
                          [
                            0.4444444444444444,
                            "#bd3786"
                          ],
                          [
                            0.5555555555555556,
                            "#d8576b"
                          ],
                          [
                            0.6666666666666666,
                            "#ed7953"
                          ],
                          [
                            0.7777777777777778,
                            "#fb9f3a"
                          ],
                          [
                            0.8888888888888888,
                            "#fdca26"
                          ],
                          [
                            1,
                            "#f0f921"
                          ]
                        ],
                        "type": "histogram2dcontour"
                      }
                    ],
                    "mesh3d": [
                      {
                        "colorbar": {
                          "outlinewidth": 0,
                          "ticks": ""
                        },
                        "type": "mesh3d"
                      }
                    ],
                    "parcoords": [
                      {
                        "line": {
                          "colorbar": {
                            "outlinewidth": 0,
                            "ticks": ""
                          }
                        },
                        "type": "parcoords"
                      }
                    ],
                    "pie": [
                      {
                        "automargin": true,
                        "type": "pie"
                      }
                    ],
                    "scatter": [
                      {
                        "marker": {
                          "colorbar": {
                            "outlinewidth": 0,
                            "ticks": ""
                          }
                        },
                        "type": "scatter"
                      }
                    ],
                    "scatter3d": [
                      {
                        "line": {
                          "colorbar": {
                            "outlinewidth": 0,
                            "ticks": ""
                          }
                        },
                        "marker": {
                          "colorbar": {
                            "outlinewidth": 0,
                            "ticks": ""
                          }
                        },
                        "type": "scatter3d"
                      }
                    ],
                    "scattercarpet": [
                      {
                        "marker": {
                          "colorbar": {
                            "outlinewidth": 0,
                            "ticks": ""
                          }
                        },
                        "type": "scattercarpet"
                      }
                    ],
                    "scattergeo": [
                      {
                        "marker": {
                          "colorbar": {
                            "outlinewidth": 0,
                            "ticks": ""
                          }
                        },
                        "type": "scattergeo"
                      }
                    ],
                    "scattergl": [
                      {
                        "marker": {
                          "colorbar": {
                            "outlinewidth": 0,
                            "ticks": ""
                          }
                        },
                        "type": "scattergl"
                      }
                    ],
                    "scattermapbox": [
                      {
                        "marker": {
                          "colorbar": {
                            "outlinewidth": 0,
                            "ticks": ""
                          }
                        },
                        "type": "scattermapbox"
                      }
                    ],
                    "scatterpolar": [
                      {
                        "marker": {
                          "colorbar": {
                            "outlinewidth": 0,
                            "ticks": ""
                          }
                        },
                        "type": "scatterpolar"
                      }
                    ],
                    "scatterpolargl": [
                      {
                        "marker": {
                          "colorbar": {
                            "outlinewidth": 0,
                            "ticks": ""
                          }
                        },
                        "type": "scatterpolargl"
                      }
                    ],
                    "scatterternary": [
                      {
                        "marker": {
                          "colorbar": {
                            "outlinewidth": 0,
                            "ticks": ""
                          }
                        },
                        "type": "scatterternary"
                      }
                    ],
                    "surface": [
                      {
                        "colorbar": {
                          "outlinewidth": 0,
                          "ticks": ""
                        },
                        "colorscale": [
                          [
                            0,
                            "#0d0887"
                          ],
                          [
                            0.1111111111111111,
                            "#46039f"
                          ],
                          [
                            0.2222222222222222,
                            "#7201a8"
                          ],
                          [
                            0.3333333333333333,
                            "#9c179e"
                          ],
                          [
                            0.4444444444444444,
                            "#bd3786"
                          ],
                          [
                            0.5555555555555556,
                            "#d8576b"
                          ],
                          [
                            0.6666666666666666,
                            "#ed7953"
                          ],
                          [
                            0.7777777777777778,
                            "#fb9f3a"
                          ],
                          [
                            0.8888888888888888,
                            "#fdca26"
                          ],
                          [
                            1,
                            "#f0f921"
                          ]
                        ],
                        "type": "surface"
                      }
                    ],
                    "table": [
                      {
                        "cells": {
                          "fill": {
                            "color": "#EBF0F8"
                          },
                          "line": {
                            "color": "white"
                          }
                        },
                        "header": {
                          "fill": {
                            "color": "#C8D4E3"
                          },
                          "line": {
                            "color": "white"
                          }
                        },
                        "type": "table"
                      }
                    ]
                  },
                  "layout": {
                    "annotationdefaults": {
                      "arrowcolor": "#2a3f5f",
                      "arrowhead": 0,
                      "arrowwidth": 1
                    },
                    "autotypenumbers": "strict",
                    "coloraxis": {
                      "colorbar": {
                        "outlinewidth": 0,
                        "ticks": ""
                      }
                    },
                    "colorscale": {
                      "diverging": [
                        [
                          0,
                          "#8e0152"
                        ],
                        [
                          0.1,
                          "#c51b7d"
                        ],
                        [
                          0.2,
                          "#de77ae"
                        ],
                        [
                          0.3,
                          "#f1b6da"
                        ],
                        [
                          0.4,
                          "#fde0ef"
                        ],
                        [
                          0.5,
                          "#f7f7f7"
                        ],
                        [
                          0.6,
                          "#e6f5d0"
                        ],
                        [
                          0.7,
                          "#b8e186"
                        ],
                        [
                          0.8,
                          "#7fbc41"
                        ],
                        [
                          0.9,
                          "#4d9221"
                        ],
                        [
                          1,
                          "#276419"
                        ]
                      ],
                      "sequential": [
                        [
                          0,
                          "#0d0887"
                        ],
                        [
                          0.1111111111111111,
                          "#46039f"
                        ],
                        [
                          0.2222222222222222,
                          "#7201a8"
                        ],
                        [
                          0.3333333333333333,
                          "#9c179e"
                        ],
                        [
                          0.4444444444444444,
                          "#bd3786"
                        ],
                        [
                          0.5555555555555556,
                          "#d8576b"
                        ],
                        [
                          0.6666666666666666,
                          "#ed7953"
                        ],
                        [
                          0.7777777777777778,
                          "#fb9f3a"
                        ],
                        [
                          0.8888888888888888,
                          "#fdca26"
                        ],
                        [
                          1,
                          "#f0f921"
                        ]
                      ],
                      "sequentialminus": [
                        [
                          0,
                          "#0d0887"
                        ],
                        [
                          0.1111111111111111,
                          "#46039f"
                        ],
                        [
                          0.2222222222222222,
                          "#7201a8"
                        ],
                        [
                          0.3333333333333333,
                          "#9c179e"
                        ],
                        [
                          0.4444444444444444,
                          "#bd3786"
                        ],
                        [
                          0.5555555555555556,
                          "#d8576b"
                        ],
                        [
                          0.6666666666666666,
                          "#ed7953"
                        ],
                        [
                          0.7777777777777778,
                          "#fb9f3a"
                        ],
                        [
                          0.8888888888888888,
                          "#fdca26"
                        ],
                        [
                          1,
                          "#f0f921"
                        ]
                      ]
                    },
                    "colorway": [
                      "#636efa",
                      "#EF553B",
                      "#00cc96",
                      "#ab63fa",
                      "#FFA15A",
                      "#19d3f3",
                      "#FF6692",
                      "#B6E880",
                      "#FF97FF",
                      "#FECB52"
                    ],
                    "font": {
                      "color": "#2a3f5f"
                    },
                    "geo": {
                      "bgcolor": "white",
                      "lakecolor": "white",
                      "landcolor": "#E5ECF6",
                      "showlakes": true,
                      "showland": true,
                      "subunitcolor": "white"
                    },
                    "hoverlabel": {
                      "align": "left"
                    },
                    "hovermode": "closest",
                    "mapbox": {
                      "style": "light"
                    },
                    "paper_bgcolor": "white",
                    "plot_bgcolor": "#E5ECF6",
                    "polar": {
                      "angularaxis": {
                        "gridcolor": "white",
                        "linecolor": "white",
                        "ticks": ""
                      },
                      "bgcolor": "#E5ECF6",
                      "radialaxis": {
                        "gridcolor": "white",
                        "linecolor": "white",
                        "ticks": ""
                      }
                    },
                    "scene": {
                      "xaxis": {
                        "backgroundcolor": "#E5ECF6",
                        "gridcolor": "white",
                        "gridwidth": 2,
                        "linecolor": "white",
                        "showbackground": true,
                        "ticks": "",
                        "zerolinecolor": "white"
                      },
                      "yaxis": {
                        "backgroundcolor": "#E5ECF6",
                        "gridcolor": "white",
                        "gridwidth": 2,
                        "linecolor": "white",
                        "showbackground": true,
                        "ticks": "",
                        "zerolinecolor": "white"
                      },
                      "zaxis": {
                        "backgroundcolor": "#E5ECF6",
                        "gridcolor": "white",
                        "gridwidth": 2,
                        "linecolor": "white",
                        "showbackground": true,
                        "ticks": "",
                        "zerolinecolor": "white"
                      }
                    },
                    "shapedefaults": {
                      "line": {
                        "color": "#2a3f5f"
                      }
                    },
                    "ternary": {
                      "aaxis": {
                        "gridcolor": "white",
                        "linecolor": "white",
                        "ticks": ""
                      },
                      "baxis": {
                        "gridcolor": "white",
                        "linecolor": "white",
                        "ticks": ""
                      },
                      "bgcolor": "#E5ECF6",
                      "caxis": {
                        "gridcolor": "white",
                        "linecolor": "white",
                        "ticks": ""
                      }
                    },
                    "title": {
                      "x": 0.05
                    },
                    "xaxis": {
                      "automargin": true,
                      "gridcolor": "white",
                      "linecolor": "white",
                      "ticks": "",
                      "title": {
                        "standoff": 15
                      },
                      "zerolinecolor": "white",
                      "zerolinewidth": 2
                    },
                    "yaxis": {
                      "automargin": true,
                      "gridcolor": "white",
                      "linecolor": "white",
                      "ticks": "",
                      "title": {
                        "standoff": 15
                      },
                      "zerolinecolor": "white",
                      "zerolinewidth": 2
                    }
                  }
                },
                "title": {
                  "text": "Unused features compared to top important features"
                },
                "width": 800,
                "yaxis": {
                  "autorange": "reversed"
                }
              }
            }
          },
          "metadata": {},
          "output_type": "display_data"
        },
        {
          "data": {
            "text/html": [
              "<br><a href=\"#summary_G5D4I\" style=\"font-size: 14px\">Go to top</a>"
            ]
          },
          "metadata": {},
          "output_type": "display_data"
        },
        {
          "data": {
            "text/html": [
              "<hr style=\"background-color: #eee;border: 0 none;color: #eee;height: 4px;\">"
            ]
          },
          "metadata": {},
          "output_type": "display_data"
        },
        {
          "data": {
            "text/html": [
              "<h4 id=\"TrainTestDrift_G5D4I\">Train Test Drift</h4><p>    Calculate drift between train dataset and test dataset per feature, using statistical measures. <a href=\"https://docs.deepchecks.com/0.6.1/examples/tabular/checks/distribution/examples/plot_train_test_feature_drift.html?utm_source=display_output&utm_medium=referral&utm_campaign=check_link\" target=\"_blank\">Read More...</a></p><h5>Conditions Summary</h5><style type=\"text/css\">\n",
              "#T_3b3ff table {\n",
              "  text-align: left;\n",
              "  white-space: pre-wrap;\n",
              "}\n",
              "#T_3b3ff thead {\n",
              "  text-align: left;\n",
              "  white-space: pre-wrap;\n",
              "}\n",
              "#T_3b3ff tbody {\n",
              "  text-align: left;\n",
              "  white-space: pre-wrap;\n",
              "}\n",
              "#T_3b3ff th {\n",
              "  text-align: left;\n",
              "  white-space: pre-wrap;\n",
              "}\n",
              "#T_3b3ff td {\n",
              "  text-align: left;\n",
              "  white-space: pre-wrap;\n",
              "}\n",
              "</style>\n",
              "<table id=\"T_3b3ff\">\n",
              "  <thead>\n",
              "    <tr>\n",
              "      <th id=\"T_3b3ff_level0_col0\" class=\"col_heading level0 col0\" >Status</th>\n",
              "      <th id=\"T_3b3ff_level0_col1\" class=\"col_heading level0 col1\" >Condition</th>\n",
              "      <th id=\"T_3b3ff_level0_col2\" class=\"col_heading level0 col2\" >More Info</th>\n",
              "    </tr>\n",
              "  </thead>\n",
              "  <tbody>\n",
              "    <tr>\n",
              "      <td id=\"T_3b3ff_row0_col0\" class=\"data row0 col0\" ><div style=\"color: green;text-align: center\">✓</div></td>\n",
              "      <td id=\"T_3b3ff_row0_col1\" class=\"data row0 col1\" >PSI <= 0.2 and Earth Mover's Distance <= 0.1</td>\n",
              "      <td id=\"T_3b3ff_row0_col2\" class=\"data row0 col2\" ></td>\n",
              "    </tr>\n",
              "  </tbody>\n",
              "</table>\n",
              "<h5>Additional Outputs</h5><div><span>\n",
              "            The Drift score is a measure for the difference between two distributions, in this check - the test\n",
              "            and train distributions.<br> The check shows the drift score and distributions for the features, sorted by\n",
              "            feature importance and showing only the top 5 features, according to feature importance.\n",
              "            <br>If available, the plot titles also show the feature importance (FI) rank.\n",
              "        </span></div>"
            ]
          },
          "metadata": {},
          "output_type": "display_data"
        },
        {
          "data": {
            "application/vnd.plotly.v1+json": {
              "config": {
                "plotlyServerURL": "https://plot.ly"
              },
              "data": [
                {
                  "base": 0,
                  "marker": {
                    "color": "#01B8AA"
                  },
                  "offsetgroup": "0",
                  "orientation": "h",
                  "showlegend": false,
                  "type": "bar",
                  "x": [
                    0.006041105526616869
                  ],
                  "xaxis": "x",
                  "y": [
                    "Drift Score"
                  ],
                  "yaxis": "y"
                },
                {
                  "fill": "tozeroy",
                  "line": {
                    "color": "#00008b"
                  },
                  "name": "Train Dataset",
                  "type": "scatter",
                  "x": [
                    55.12,
                    57.064,
                    57.421600000000005,
                    59.152,
                    59.54081632653061,
                    59.7648,
                    61.1,
                    61.9624,
                    63.2232,
                    63.96163265306122,
                    64.1064,
                    65.582,
                    65.633,
                    67.3108,
                    67.69200000000001,
                    68.38244897959183,
                    69.2028,
                    69.2056,
                    70.51,
                    70.938,
                    72.1344,
                    72.3708,
                    72.80326530612246,
                    73.588,
                    73.822,
                    74.8044,
                    75.0922,
                    76.1948,
                    76.5668,
                    77.22408163265305,
                    77.5352,
                    77.82,
                    78.5812,
                    79.042,
                    79.806,
                    80.13100000000001,
                    80.8564,
                    81.4488,
                    81.64489795918368,
                    82.1136,
                    82.347,
                    83.1236,
                    83.18880000000001,
                    83.90520000000001,
                    84.41760000000001,
                    84.784,
                    85.6,
                    86.06571428571428,
                    86.35419999999999,
                    86.7304,
                    87.4484,
                    88.03760000000001,
                    88.943,
                    89.1584,
                    90.1048,
                    90.42960000000001,
                    90.4865306122449,
                    91.155,
                    91.89,
                    92.2504,
                    93.1508,
                    93.7616,
                    94.2408,
                    94.9073469387755,
                    95.1824,
                    95.50840000000001,
                    96.8516,
                    97.16960000000002,
                    98.05,
                    98.676,
                    99.32816326530613,
                    99.402,
                    100.54,
                    100.944,
                    102.1896,
                    102.36280000000001,
                    103.74897959183673,
                    103.94,
                    104.298,
                    106.2272,
                    106.32600000000001,
                    108.16979591836736,
                    108.22160000000001,
                    108.614,
                    110.95439999999999,
                    111.0032,
                    112.59061224489795,
                    112.7344,
                    113.364,
                    115.1252,
                    116.17260000000002,
                    117.01142857142858,
                    119.5968,
                    119.61200000000001,
                    121.43224489795918,
                    123.96800000000002,
                    124.23440000000002,
                    125.8530612244898,
                    128.262,
                    130.2738775510204,
                    133.6704000000001,
                    134.69469387755103,
                    136.8068,
                    139.11551020408163,
                    143.53632653061226,
                    145.0469999999999,
                    147.46319999999997,
                    147.95714285714286,
                    152.37795918367348,
                    156.79877551020408,
                    159.73240000000024,
                    161.2195918367347,
                    162.28560000000002,
                    165.6404081632653,
                    170.06122448979593,
                    174.48204081632653,
                    178.90285714285716,
                    182.91300000000007,
                    183.32367346938776,
                    187.3660000000001,
                    187.74448979591838,
                    192.165306122449,
                    196.5861224489796,
                    197.0856,
                    199.8384,
                    201.0069387755102,
                    205.42775510204083,
                    207.31900000000005,
                    208.8416,
                    209.84857142857146,
                    214.26938775510206,
                    218.69020408163266,
                    219.5276,
                    220.248,
                    223.11102040816328,
                    227.5318367346939,
                    230.56400000000002,
                    231.9526530612245,
                    234.5774,
                    236.3734693877551,
                    240.79428571428573,
                    245.21510204081636,
                    249.63591836734696,
                    254.05673469387756,
                    258.47755102040816,
                    262.8983673469388,
                    267.3191836734694,
                    271.74
                  ],
                  "xaxis": "x2",
                  "y": [
                    0.005375423151247379,
                    0.0062731439640558275,
                    0.006442067499778947,
                    0.007269894142350561,
                    0.007457394215455693,
                    0.007565514754164235,
                    0.008209928753498614,
                    0.008624102254147663,
                    0.00922288330216691,
                    0.009568194001975259,
                    0.009635319515850102,
                    0.010306779704913982,
                    0.010329526134847439,
                    0.011057578143523162,
                    0.011216991736485866,
                    0.011499465936632697,
                    0.01182393919965465,
                    0.011825025017185327,
                    0.012313908916542587,
                    0.012466638814012823,
                    0.0128721350717877,
                    0.012948388394518123,
                    0.01308447068986218,
                    0.013319862914008962,
                    0.013387112013236729,
                    0.013654283501688711,
                    0.013727827174585303,
                    0.013989225781983354,
                    0.014070003526554454,
                    0.014203408730066456,
                    0.014262360252190829,
                    0.014313940699366964,
                    0.014440521171262691,
                    0.014509103191682476,
                    0.014609322778431971,
                    0.014646826320671803,
                    0.0147194430434295,
                    0.014767357699551602,
                    0.014780961450344942,
                    0.014808930773998372,
                    0.014820470754220192,
                    0.014847473156485108,
                    0.014848945242906489,
                    0.014857057843647705,
                    0.014853851187588009,
                    0.014846993030931031,
                    0.01481820267909135,
                    0.014793522152839533,
                    0.014775271121705288,
                    0.01474810617544599,
                    0.014685857611008771,
                    0.014624795584499972,
                    0.014513982548092958,
                    0.014484672158857428,
                    0.014342954809085744,
                    0.014289599135375565,
                    0.014280005371352555,
                    0.01416208891591275,
                    0.014021605384806258,
                    0.013948753626381562,
                    0.013755935849778536,
                    0.013616812380203992,
                    0.013503239419422221,
                    0.013339167741702808,
                    0.013269498092093181,
                    0.013185506631486108,
                    0.012824438368247353,
                    0.012735711406349149,
                    0.01248431593200608,
                    0.012300882380431864,
                    0.012106112693326022,
                    0.012083843653582725,
                    0.011735660729744224,
                    0.01161005068276606,
                    0.011217478734373178,
                    0.011162355884724797,
                    0.010717715840706942,
                    0.01065606061072505,
                    0.01054033061056916,
                    0.009914518052537692,
                    0.009882446809238972,
                    0.009285574461791166,
                    0.00926887551859159,
                    0.009142562702823303,
                    0.008397712561010117,
                    0.008382372035102077,
                    0.007888633808349262,
                    0.007844457435864465,
                    0.007652194768928814,
                    0.007125394817477089,
                    0.006820606410744084,
                    0.006581515316790365,
                    0.005875280271001139,
                    0.005871273581138535,
                    0.00540457544321337,
                    0.004800008041631961,
                    0.004739708822120985,
                    0.004386858941991587,
                    0.003905480226254251,
                    0.0035438682029349518,
                    0.0030153109208243584,
                    0.002875342610001059,
                    0.0026134051170805363,
                    0.002365243883535402,
                    0.0019846714366547214,
                    0.001878035965362165,
                    0.0017268638508856158,
                    0.0016984955394592515,
                    0.0014744756780925084,
                    0.0012910848966840756,
                    0.0011875017687418402,
                    0.001140607453956475,
                    0.0011095054921903345,
                    0.0010269433188813716,
                    0.0009602385725067376,
                    0.0009511118113507461,
                    0.0010058077483959854,
                    0.001108901938193397,
                    0.0011220018314453295,
                    0.0012702781092588092,
                    0.0012855540651999801,
                    0.001470697746216692,
                    0.0016461343808620865,
                    0.0016640585701328415,
                    0.0017530230574841147,
                    0.0017851739686212031,
                    0.0018732376471952425,
                    0.0018943075845362714,
                    0.001904099563007767,
                    0.0019070967244881494,
                    0.001887660128492832,
                    0.0018142378111345354,
                    0.0017941136192395149,
                    0.001775215384213712,
                    0.0016859142714848118,
                    0.0015077036674203635,
                    0.0013639784453930055,
                    0.0012945170422107304,
                    0.0011604210300878068,
                    0.001068664449765208,
                    0.0008525458895674966,
                    0.0006616985334382056,
                    0.0005023859006147366,
                    0.0003739459861269208,
                    0.00027272077853088733,
                    0.00019448449131244727,
                    0.00013503279741117061,
                    0.00009039315638357003
                  ],
                  "yaxis": "y2"
                },
                {
                  "fill": "tozeroy",
                  "line": {
                    "color": "#69b3a2"
                  },
                  "name": "Test Dataset",
                  "type": "scatter",
                  "x": [
                    55.12,
                    57.064,
                    57.421600000000005,
                    59.152,
                    59.54081632653061,
                    59.7648,
                    61.1,
                    61.9624,
                    63.2232,
                    63.96163265306122,
                    64.1064,
                    65.582,
                    65.633,
                    67.3108,
                    67.69200000000001,
                    68.38244897959183,
                    69.2028,
                    69.2056,
                    70.51,
                    70.938,
                    72.1344,
                    72.3708,
                    72.80326530612246,
                    73.588,
                    73.822,
                    74.8044,
                    75.0922,
                    76.1948,
                    76.5668,
                    77.22408163265305,
                    77.5352,
                    77.82,
                    78.5812,
                    79.042,
                    79.806,
                    80.13100000000001,
                    80.8564,
                    81.4488,
                    81.64489795918368,
                    82.1136,
                    82.347,
                    83.1236,
                    83.18880000000001,
                    83.90520000000001,
                    84.41760000000001,
                    84.784,
                    85.6,
                    86.06571428571428,
                    86.35419999999999,
                    86.7304,
                    87.4484,
                    88.03760000000001,
                    88.943,
                    89.1584,
                    90.1048,
                    90.42960000000001,
                    90.4865306122449,
                    91.155,
                    91.89,
                    92.2504,
                    93.1508,
                    93.7616,
                    94.2408,
                    94.9073469387755,
                    95.1824,
                    95.50840000000001,
                    96.8516,
                    97.16960000000002,
                    98.05,
                    98.676,
                    99.32816326530613,
                    99.402,
                    100.54,
                    100.944,
                    102.1896,
                    102.36280000000001,
                    103.74897959183673,
                    103.94,
                    104.298,
                    106.2272,
                    106.32600000000001,
                    108.16979591836736,
                    108.22160000000001,
                    108.614,
                    110.95439999999999,
                    111.0032,
                    112.59061224489795,
                    112.7344,
                    113.364,
                    115.1252,
                    116.17260000000002,
                    117.01142857142858,
                    119.5968,
                    119.61200000000001,
                    121.43224489795918,
                    123.96800000000002,
                    124.23440000000002,
                    125.8530612244898,
                    128.262,
                    130.2738775510204,
                    133.6704000000001,
                    134.69469387755103,
                    136.8068,
                    139.11551020408163,
                    143.53632653061226,
                    145.0469999999999,
                    147.46319999999997,
                    147.95714285714286,
                    152.37795918367348,
                    156.79877551020408,
                    159.73240000000024,
                    161.2195918367347,
                    162.28560000000002,
                    165.6404081632653,
                    170.06122448979593,
                    174.48204081632653,
                    178.90285714285716,
                    182.91300000000007,
                    183.32367346938776,
                    187.3660000000001,
                    187.74448979591838,
                    192.165306122449,
                    196.5861224489796,
                    197.0856,
                    199.8384,
                    201.0069387755102,
                    205.42775510204083,
                    207.31900000000005,
                    208.8416,
                    209.84857142857146,
                    214.26938775510206,
                    218.69020408163266,
                    219.5276,
                    220.248,
                    223.11102040816328,
                    227.5318367346939,
                    230.56400000000002,
                    231.9526530612245,
                    234.5774,
                    236.3734693877551,
                    240.79428571428573,
                    245.21510204081636,
                    249.63591836734696,
                    254.05673469387756,
                    258.47755102040816,
                    262.8983673469388,
                    267.3191836734694,
                    271.74
                  ],
                  "xaxis": "x2",
                  "y": [
                    0.00542359250480511,
                    0.0062905778811630595,
                    0.00645334993754708,
                    0.007250491420330173,
                    0.007431094788756513,
                    0.007535277142495337,
                    0.008157214204719836,
                    0.00855832712557443,
                    0.009141181369200155,
                    0.009479400532542209,
                    0.009545359636554847,
                    0.010209675626445234,
                    0.010232341317768116,
                    0.01096461635265403,
                    0.011126941770337656,
                    0.01141660813892915,
                    0.011752876106922475,
                    0.01175400823530113,
                    0.012268887838740614,
                    0.012432028161748933,
                    0.012871261630485641,
                    0.012954944635669149,
                    0.013105225360285456,
                    0.013368249347508061,
                    0.013444167596263813,
                    0.013749611926821888,
                    0.013834874115762515,
                    0.014142815180471481,
                    0.01423975327845886,
                    0.014402075813518832,
                    0.014474820483226373,
                    0.014539056877619925,
                    0.014699452838779397,
                    0.014788382356535425,
                    0.014921888226154643,
                    0.014973312091165184,
                    0.015076317713730733,
                    0.01514820791973977,
                    0.015169556768878645,
                    0.015215614093778168,
                    0.015235924955934527,
                    0.015290881233919617,
                    0.015294609546803303,
                    0.015326526648614933,
                    0.015339186868535663,
                    0.015343053908843529,
                    0.015336217211005884,
                    0.015322835942392532,
                    0.01531112617210466,
                    0.015291959029055325,
                    0.015243286334637117,
                    0.015191698682988175,
                    0.015092513938052112,
                    0.015065449225500216,
                    0.014931251142495362,
                    0.014879603686360121,
                    0.014870263919285368,
                    0.014754326564806077,
                    0.014613917495252876,
                    0.014540314129410538,
                    0.014343408811928415,
                    0.014199760773657935,
                    0.014081674585332762,
                    0.0139099528587351,
                    0.013836671035768378,
                    0.0137480606329029,
                    0.013364216942018342,
                    0.01326924474623105,
                    0.012998929792759246,
                    0.01280063646233794,
                    0.01258919425922372,
                    0.012564963109148309,
                    0.012184702370515891,
                    0.012046906586642469,
                    0.011614323242514343,
                    0.011553360607998575,
                    0.011059776883210061,
                    0.010991090019864383,
                    0.010862009670493902,
                    0.010160851784544206,
                    0.010124788059026656,
                    0.009451638521218724,
                    0.009432756951154808,
                    0.009289859824795535,
                    0.008445041244870388,
                    0.008427612372903744,
                    0.007866345734475502,
                    0.007816112370156366,
                    0.007597499770525413,
                    0.006998987535224248,
                    0.006653436765382714,
                    0.006382997646030421,
                    0.005589370168504414,
                    0.005584897630004618,
                    0.005067182219591653,
                    0.004409432370073791,
                    0.004344887502113116,
                    0.003972099697191838,
                    0.003480154623962028,
                    0.003126843897157752,
                    0.0026423268570822172,
                    0.0025212006328222377,
                    0.0023027427507848024,
                    0.00210435018256722,
                    0.0018051807560271408,
                    0.0017182510366843355,
                    0.0015885419581404623,
                    0.0015631104743407836,
                    0.0013490127213487725,
                    0.0011645198179519067,
                    0.0010661734491174875,
                    0.001025449309969216,
                    0.0010003656233053592,
                    0.0009447734091448881,
                    0.0009255646357530247,
                    0.0009631675573885867,
                    0.0010499809750234715,
                    0.0011641522126651855,
                    0.0011774234601406985,
                    0.0013191995180704356,
                    0.0013331899630539441,
                    0.0014959483226203187,
                    0.0016337615705437527,
                    0.0016461748126983733,
                    0.001698915141748289,
                    0.0017124025480721244,
                    0.0017120009300533672,
                    0.0016886351740192,
                    0.0016617022545733415,
                    0.0016407301002058744,
                    0.001532956641703608,
                    0.0014298739857963334,
                    0.0014132969321765847,
                    0.001399951749135253,
                    0.0013549538618614651,
                    0.0013018430203628022,
                    0.0012639978941761942,
                    0.0012430011053654697,
                    0.0011935535100217286,
                    0.001151117490838176,
                    0.0010166793287465193,
                    0.0008508781956493675,
                    0.0006759828782469231,
                    0.000512967676185245,
                    0.0003742610882217835,
                    0.00026322606122462506,
                    0.00017763833826630774,
                    0.00011359465809057521
                  ],
                  "yaxis": "y2"
                }
              ],
              "layout": {
                "annotations": [
                  {
                    "font": {
                      "size": 16
                    },
                    "showarrow": false,
                    "text": "Drift Score (Earth Mover's Distance)",
                    "x": 0.5,
                    "xanchor": "center",
                    "xref": "paper",
                    "y": 1.0000000000000002,
                    "yanchor": "bottom",
                    "yref": "paper"
                  },
                  {
                    "font": {
                      "size": 16
                    },
                    "showarrow": false,
                    "text": "Distribution Plot",
                    "x": 0.5,
                    "xanchor": "center",
                    "xref": "paper",
                    "y": 0.7200000000000001,
                    "yanchor": "bottom",
                    "yref": "paper"
                  }
                ],
                "bargroupgap": 0,
                "height": 400,
                "legend": {
                  "title": {
                    "text": "Dataset"
                  },
                  "y": 0.6,
                  "yanchor": "top"
                },
                "template": {
                  "data": {
                    "bar": [
                      {
                        "error_x": {
                          "color": "#2a3f5f"
                        },
                        "error_y": {
                          "color": "#2a3f5f"
                        },
                        "marker": {
                          "line": {
                            "color": "#E5ECF6",
                            "width": 0.5
                          },
                          "pattern": {
                            "fillmode": "overlay",
                            "size": 10,
                            "solidity": 0.2
                          }
                        },
                        "type": "bar"
                      }
                    ],
                    "barpolar": [
                      {
                        "marker": {
                          "line": {
                            "color": "#E5ECF6",
                            "width": 0.5
                          },
                          "pattern": {
                            "fillmode": "overlay",
                            "size": 10,
                            "solidity": 0.2
                          }
                        },
                        "type": "barpolar"
                      }
                    ],
                    "carpet": [
                      {
                        "aaxis": {
                          "endlinecolor": "#2a3f5f",
                          "gridcolor": "white",
                          "linecolor": "white",
                          "minorgridcolor": "white",
                          "startlinecolor": "#2a3f5f"
                        },
                        "baxis": {
                          "endlinecolor": "#2a3f5f",
                          "gridcolor": "white",
                          "linecolor": "white",
                          "minorgridcolor": "white",
                          "startlinecolor": "#2a3f5f"
                        },
                        "type": "carpet"
                      }
                    ],
                    "choropleth": [
                      {
                        "colorbar": {
                          "outlinewidth": 0,
                          "ticks": ""
                        },
                        "type": "choropleth"
                      }
                    ],
                    "contour": [
                      {
                        "colorbar": {
                          "outlinewidth": 0,
                          "ticks": ""
                        },
                        "colorscale": [
                          [
                            0,
                            "#0d0887"
                          ],
                          [
                            0.1111111111111111,
                            "#46039f"
                          ],
                          [
                            0.2222222222222222,
                            "#7201a8"
                          ],
                          [
                            0.3333333333333333,
                            "#9c179e"
                          ],
                          [
                            0.4444444444444444,
                            "#bd3786"
                          ],
                          [
                            0.5555555555555556,
                            "#d8576b"
                          ],
                          [
                            0.6666666666666666,
                            "#ed7953"
                          ],
                          [
                            0.7777777777777778,
                            "#fb9f3a"
                          ],
                          [
                            0.8888888888888888,
                            "#fdca26"
                          ],
                          [
                            1,
                            "#f0f921"
                          ]
                        ],
                        "type": "contour"
                      }
                    ],
                    "contourcarpet": [
                      {
                        "colorbar": {
                          "outlinewidth": 0,
                          "ticks": ""
                        },
                        "type": "contourcarpet"
                      }
                    ],
                    "heatmap": [
                      {
                        "colorbar": {
                          "outlinewidth": 0,
                          "ticks": ""
                        },
                        "colorscale": [
                          [
                            0,
                            "#0d0887"
                          ],
                          [
                            0.1111111111111111,
                            "#46039f"
                          ],
                          [
                            0.2222222222222222,
                            "#7201a8"
                          ],
                          [
                            0.3333333333333333,
                            "#9c179e"
                          ],
                          [
                            0.4444444444444444,
                            "#bd3786"
                          ],
                          [
                            0.5555555555555556,
                            "#d8576b"
                          ],
                          [
                            0.6666666666666666,
                            "#ed7953"
                          ],
                          [
                            0.7777777777777778,
                            "#fb9f3a"
                          ],
                          [
                            0.8888888888888888,
                            "#fdca26"
                          ],
                          [
                            1,
                            "#f0f921"
                          ]
                        ],
                        "type": "heatmap"
                      }
                    ],
                    "heatmapgl": [
                      {
                        "colorbar": {
                          "outlinewidth": 0,
                          "ticks": ""
                        },
                        "colorscale": [
                          [
                            0,
                            "#0d0887"
                          ],
                          [
                            0.1111111111111111,
                            "#46039f"
                          ],
                          [
                            0.2222222222222222,
                            "#7201a8"
                          ],
                          [
                            0.3333333333333333,
                            "#9c179e"
                          ],
                          [
                            0.4444444444444444,
                            "#bd3786"
                          ],
                          [
                            0.5555555555555556,
                            "#d8576b"
                          ],
                          [
                            0.6666666666666666,
                            "#ed7953"
                          ],
                          [
                            0.7777777777777778,
                            "#fb9f3a"
                          ],
                          [
                            0.8888888888888888,
                            "#fdca26"
                          ],
                          [
                            1,
                            "#f0f921"
                          ]
                        ],
                        "type": "heatmapgl"
                      }
                    ],
                    "histogram": [
                      {
                        "marker": {
                          "pattern": {
                            "fillmode": "overlay",
                            "size": 10,
                            "solidity": 0.2
                          }
                        },
                        "type": "histogram"
                      }
                    ],
                    "histogram2d": [
                      {
                        "colorbar": {
                          "outlinewidth": 0,
                          "ticks": ""
                        },
                        "colorscale": [
                          [
                            0,
                            "#0d0887"
                          ],
                          [
                            0.1111111111111111,
                            "#46039f"
                          ],
                          [
                            0.2222222222222222,
                            "#7201a8"
                          ],
                          [
                            0.3333333333333333,
                            "#9c179e"
                          ],
                          [
                            0.4444444444444444,
                            "#bd3786"
                          ],
                          [
                            0.5555555555555556,
                            "#d8576b"
                          ],
                          [
                            0.6666666666666666,
                            "#ed7953"
                          ],
                          [
                            0.7777777777777778,
                            "#fb9f3a"
                          ],
                          [
                            0.8888888888888888,
                            "#fdca26"
                          ],
                          [
                            1,
                            "#f0f921"
                          ]
                        ],
                        "type": "histogram2d"
                      }
                    ],
                    "histogram2dcontour": [
                      {
                        "colorbar": {
                          "outlinewidth": 0,
                          "ticks": ""
                        },
                        "colorscale": [
                          [
                            0,
                            "#0d0887"
                          ],
                          [
                            0.1111111111111111,
                            "#46039f"
                          ],
                          [
                            0.2222222222222222,
                            "#7201a8"
                          ],
                          [
                            0.3333333333333333,
                            "#9c179e"
                          ],
                          [
                            0.4444444444444444,
                            "#bd3786"
                          ],
                          [
                            0.5555555555555556,
                            "#d8576b"
                          ],
                          [
                            0.6666666666666666,
                            "#ed7953"
                          ],
                          [
                            0.7777777777777778,
                            "#fb9f3a"
                          ],
                          [
                            0.8888888888888888,
                            "#fdca26"
                          ],
                          [
                            1,
                            "#f0f921"
                          ]
                        ],
                        "type": "histogram2dcontour"
                      }
                    ],
                    "mesh3d": [
                      {
                        "colorbar": {
                          "outlinewidth": 0,
                          "ticks": ""
                        },
                        "type": "mesh3d"
                      }
                    ],
                    "parcoords": [
                      {
                        "line": {
                          "colorbar": {
                            "outlinewidth": 0,
                            "ticks": ""
                          }
                        },
                        "type": "parcoords"
                      }
                    ],
                    "pie": [
                      {
                        "automargin": true,
                        "type": "pie"
                      }
                    ],
                    "scatter": [
                      {
                        "marker": {
                          "colorbar": {
                            "outlinewidth": 0,
                            "ticks": ""
                          }
                        },
                        "type": "scatter"
                      }
                    ],
                    "scatter3d": [
                      {
                        "line": {
                          "colorbar": {
                            "outlinewidth": 0,
                            "ticks": ""
                          }
                        },
                        "marker": {
                          "colorbar": {
                            "outlinewidth": 0,
                            "ticks": ""
                          }
                        },
                        "type": "scatter3d"
                      }
                    ],
                    "scattercarpet": [
                      {
                        "marker": {
                          "colorbar": {
                            "outlinewidth": 0,
                            "ticks": ""
                          }
                        },
                        "type": "scattercarpet"
                      }
                    ],
                    "scattergeo": [
                      {
                        "marker": {
                          "colorbar": {
                            "outlinewidth": 0,
                            "ticks": ""
                          }
                        },
                        "type": "scattergeo"
                      }
                    ],
                    "scattergl": [
                      {
                        "marker": {
                          "colorbar": {
                            "outlinewidth": 0,
                            "ticks": ""
                          }
                        },
                        "type": "scattergl"
                      }
                    ],
                    "scattermapbox": [
                      {
                        "marker": {
                          "colorbar": {
                            "outlinewidth": 0,
                            "ticks": ""
                          }
                        },
                        "type": "scattermapbox"
                      }
                    ],
                    "scatterpolar": [
                      {
                        "marker": {
                          "colorbar": {
                            "outlinewidth": 0,
                            "ticks": ""
                          }
                        },
                        "type": "scatterpolar"
                      }
                    ],
                    "scatterpolargl": [
                      {
                        "marker": {
                          "colorbar": {
                            "outlinewidth": 0,
                            "ticks": ""
                          }
                        },
                        "type": "scatterpolargl"
                      }
                    ],
                    "scatterternary": [
                      {
                        "marker": {
                          "colorbar": {
                            "outlinewidth": 0,
                            "ticks": ""
                          }
                        },
                        "type": "scatterternary"
                      }
                    ],
                    "surface": [
                      {
                        "colorbar": {
                          "outlinewidth": 0,
                          "ticks": ""
                        },
                        "colorscale": [
                          [
                            0,
                            "#0d0887"
                          ],
                          [
                            0.1111111111111111,
                            "#46039f"
                          ],
                          [
                            0.2222222222222222,
                            "#7201a8"
                          ],
                          [
                            0.3333333333333333,
                            "#9c179e"
                          ],
                          [
                            0.4444444444444444,
                            "#bd3786"
                          ],
                          [
                            0.5555555555555556,
                            "#d8576b"
                          ],
                          [
                            0.6666666666666666,
                            "#ed7953"
                          ],
                          [
                            0.7777777777777778,
                            "#fb9f3a"
                          ],
                          [
                            0.8888888888888888,
                            "#fdca26"
                          ],
                          [
                            1,
                            "#f0f921"
                          ]
                        ],
                        "type": "surface"
                      }
                    ],
                    "table": [
                      {
                        "cells": {
                          "fill": {
                            "color": "#EBF0F8"
                          },
                          "line": {
                            "color": "white"
                          }
                        },
                        "header": {
                          "fill": {
                            "color": "#C8D4E3"
                          },
                          "line": {
                            "color": "white"
                          }
                        },
                        "type": "table"
                      }
                    ]
                  },
                  "layout": {
                    "annotationdefaults": {
                      "arrowcolor": "#2a3f5f",
                      "arrowhead": 0,
                      "arrowwidth": 1
                    },
                    "autotypenumbers": "strict",
                    "coloraxis": {
                      "colorbar": {
                        "outlinewidth": 0,
                        "ticks": ""
                      }
                    },
                    "colorscale": {
                      "diverging": [
                        [
                          0,
                          "#8e0152"
                        ],
                        [
                          0.1,
                          "#c51b7d"
                        ],
                        [
                          0.2,
                          "#de77ae"
                        ],
                        [
                          0.3,
                          "#f1b6da"
                        ],
                        [
                          0.4,
                          "#fde0ef"
                        ],
                        [
                          0.5,
                          "#f7f7f7"
                        ],
                        [
                          0.6,
                          "#e6f5d0"
                        ],
                        [
                          0.7,
                          "#b8e186"
                        ],
                        [
                          0.8,
                          "#7fbc41"
                        ],
                        [
                          0.9,
                          "#4d9221"
                        ],
                        [
                          1,
                          "#276419"
                        ]
                      ],
                      "sequential": [
                        [
                          0,
                          "#0d0887"
                        ],
                        [
                          0.1111111111111111,
                          "#46039f"
                        ],
                        [
                          0.2222222222222222,
                          "#7201a8"
                        ],
                        [
                          0.3333333333333333,
                          "#9c179e"
                        ],
                        [
                          0.4444444444444444,
                          "#bd3786"
                        ],
                        [
                          0.5555555555555556,
                          "#d8576b"
                        ],
                        [
                          0.6666666666666666,
                          "#ed7953"
                        ],
                        [
                          0.7777777777777778,
                          "#fb9f3a"
                        ],
                        [
                          0.8888888888888888,
                          "#fdca26"
                        ],
                        [
                          1,
                          "#f0f921"
                        ]
                      ],
                      "sequentialminus": [
                        [
                          0,
                          "#0d0887"
                        ],
                        [
                          0.1111111111111111,
                          "#46039f"
                        ],
                        [
                          0.2222222222222222,
                          "#7201a8"
                        ],
                        [
                          0.3333333333333333,
                          "#9c179e"
                        ],
                        [
                          0.4444444444444444,
                          "#bd3786"
                        ],
                        [
                          0.5555555555555556,
                          "#d8576b"
                        ],
                        [
                          0.6666666666666666,
                          "#ed7953"
                        ],
                        [
                          0.7777777777777778,
                          "#fb9f3a"
                        ],
                        [
                          0.8888888888888888,
                          "#fdca26"
                        ],
                        [
                          1,
                          "#f0f921"
                        ]
                      ]
                    },
                    "colorway": [
                      "#636efa",
                      "#EF553B",
                      "#00cc96",
                      "#ab63fa",
                      "#FFA15A",
                      "#19d3f3",
                      "#FF6692",
                      "#B6E880",
                      "#FF97FF",
                      "#FECB52"
                    ],
                    "font": {
                      "color": "#2a3f5f"
                    },
                    "geo": {
                      "bgcolor": "white",
                      "lakecolor": "white",
                      "landcolor": "#E5ECF6",
                      "showlakes": true,
                      "showland": true,
                      "subunitcolor": "white"
                    },
                    "hoverlabel": {
                      "align": "left"
                    },
                    "hovermode": "closest",
                    "mapbox": {
                      "style": "light"
                    },
                    "paper_bgcolor": "white",
                    "plot_bgcolor": "#E5ECF6",
                    "polar": {
                      "angularaxis": {
                        "gridcolor": "white",
                        "linecolor": "white",
                        "ticks": ""
                      },
                      "bgcolor": "#E5ECF6",
                      "radialaxis": {
                        "gridcolor": "white",
                        "linecolor": "white",
                        "ticks": ""
                      }
                    },
                    "scene": {
                      "xaxis": {
                        "backgroundcolor": "#E5ECF6",
                        "gridcolor": "white",
                        "gridwidth": 2,
                        "linecolor": "white",
                        "showbackground": true,
                        "ticks": "",
                        "zerolinecolor": "white"
                      },
                      "yaxis": {
                        "backgroundcolor": "#E5ECF6",
                        "gridcolor": "white",
                        "gridwidth": 2,
                        "linecolor": "white",
                        "showbackground": true,
                        "ticks": "",
                        "zerolinecolor": "white"
                      },
                      "zaxis": {
                        "backgroundcolor": "#E5ECF6",
                        "gridcolor": "white",
                        "gridwidth": 2,
                        "linecolor": "white",
                        "showbackground": true,
                        "ticks": "",
                        "zerolinecolor": "white"
                      }
                    },
                    "shapedefaults": {
                      "line": {
                        "color": "#2a3f5f"
                      }
                    },
                    "ternary": {
                      "aaxis": {
                        "gridcolor": "white",
                        "linecolor": "white",
                        "ticks": ""
                      },
                      "baxis": {
                        "gridcolor": "white",
                        "linecolor": "white",
                        "ticks": ""
                      },
                      "bgcolor": "#E5ECF6",
                      "caxis": {
                        "gridcolor": "white",
                        "linecolor": "white",
                        "ticks": ""
                      }
                    },
                    "title": {
                      "x": 0.05
                    },
                    "xaxis": {
                      "automargin": true,
                      "gridcolor": "white",
                      "linecolor": "white",
                      "ticks": "",
                      "title": {
                        "standoff": 15
                      },
                      "zerolinecolor": "white",
                      "zerolinewidth": 2
                    },
                    "yaxis": {
                      "automargin": true,
                      "gridcolor": "white",
                      "linecolor": "white",
                      "ticks": "",
                      "title": {
                        "standoff": 15
                      },
                      "zerolinecolor": "white",
                      "zerolinewidth": 2
                    }
                  }
                },
                "title": {
                  "text": "avg_glucose_level (#1 in FI)",
                  "x": 0.5,
                  "xanchor": "center"
                },
                "width": 700,
                "xaxis": {
                  "anchor": "y",
                  "domain": [
                    0,
                    1
                  ],
                  "dtick": 0.05,
                  "fixedrange": true,
                  "gridcolor": "black",
                  "linecolor": "black",
                  "range": [
                    0,
                    0.4
                  ],
                  "showgrid": false
                },
                "xaxis2": {
                  "anchor": "y2",
                  "domain": [
                    0,
                    1
                  ],
                  "fixedrange": false,
                  "range": [
                    57.064,
                    234.5774
                  ],
                  "title": {
                    "text": "avg_glucose_level"
                  }
                },
                "yaxis": {
                  "anchor": "x",
                  "color": "black",
                  "domain": [
                    0.9200000000000002,
                    1
                  ],
                  "fixedrange": true,
                  "showgrid": false,
                  "showline": false,
                  "showticklabels": false,
                  "zeroline": false
                },
                "yaxis2": {
                  "anchor": "x2",
                  "domain": [
                    0,
                    0.7200000000000001
                  ],
                  "fixedrange": true,
                  "title": {
                    "text": "Probability Density"
                  }
                }
              }
            }
          },
          "metadata": {},
          "output_type": "display_data"
        },
        {
          "data": {
            "text/html": []
          },
          "metadata": {},
          "output_type": "display_data"
        },
        {
          "data": {
            "application/vnd.plotly.v1+json": {
              "config": {
                "plotlyServerURL": "https://plot.ly"
              },
              "data": [
                {
                  "base": 0,
                  "marker": {
                    "color": "#01B8AA"
                  },
                  "offsetgroup": "0",
                  "orientation": "h",
                  "showlegend": false,
                  "type": "bar",
                  "x": [
                    0.008628020257408473
                  ],
                  "xaxis": "x",
                  "y": [
                    "Drift Score"
                  ],
                  "yaxis": "y"
                },
                {
                  "fill": "tozeroy",
                  "line": {
                    "color": "#00008b"
                  },
                  "name": "Train Dataset",
                  "type": "scatter",
                  "x": [
                    77,
                    1564,
                    1687.8000000000002,
                    2752.34,
                    3051,
                    3258.760000000001,
                    3850.6,
                    4538,
                    4842.96,
                    5297.26,
                    6025,
                    6243.000000000001,
                    6961.04,
                    7512,
                    7560,
                    8361.000000000002,
                    8848.560000000001,
                    8999,
                    10252.36,
                    10486,
                    10549.119999999999,
                    11895.16,
                    11911.779999999999,
                    11973,
                    12850.28,
                    13376.8,
                    13460,
                    14224.639999999996,
                    14796.199999999999,
                    14947,
                    15581.8,
                    16195.600000000006,
                    16434,
                    17206.800000000003,
                    17630.68,
                    17921,
                    18218.920000000002,
                    19408,
                    19587.6,
                    19807.5,
                    20895,
                    21083.72,
                    21424.800000000003,
                    22382,
                    22684.600000000002,
                    22866.200000000004,
                    23869,
                    24205.36,
                    24252.4,
                    25356,
                    25675.36,
                    26155.420000000002,
                    26843,
                    27454.640000000003,
                    27958.72000000001,
                    28330,
                    28519.76,
                    29644.039999999997,
                    29817,
                    30181.4,
                    31139.4,
                    31304,
                    31469.960000000003,
                    32448.52,
                    32791,
                    32878.72,
                    34105.560000000005,
                    34278,
                    34540.44,
                    35251.700000000004,
                    35765,
                    36354.32,
                    36591.200000000004,
                    37252,
                    37586.5,
                    37660,
                    38739,
                    38793.92,
                    39129.4,
                    40226,
                    40549.840000000004,
                    40598.240000000005,
                    41713,
                    42000.8,
                    42074.28,
                    43200,
                    43479.44,
                    43494.32,
                    44687,
                    44942.799999999996,
                    45275,
                    46174,
                    46180.35999999999,
                    46746.24,
                    47611.920000000006,
                    47661,
                    48262.64,
                    49016.880000000005,
                    49148,
                    49733.46,
                    50164.40000000001,
                    50635,
                    50980.44,
                    51421.4,
                    52122,
                    52147.60000000001,
                    52684.08,
                    53609,
                    53998.12000000003,
                    54113.88,
                    55096,
                    55294.2,
                    55579.479999999996,
                    56562.2,
                    56583,
                    56995.56,
                    57548.520000000026,
                    58070,
                    58219.8,
                    59305.6,
                    59557,
                    59856.52000000001,
                    60953.740000000005,
                    61044,
                    61346.48,
                    62374.00000000001,
                    62531,
                    62686.31999999998,
                    63637.67999999999,
                    64018,
                    64152.520000000004,
                    65101.8,
                    65505,
                    65708.2,
                    66065.3,
                    66992,
                    67109.92,
                    67410.52,
                    68478.68000000001,
                    68479,
                    68748.26,
                    69966,
                    69978.44,
                    70053.12000000001,
                    71423.9,
                    71453,
                    71512.28,
                    72940
                  ],
                  "xaxis": "x2",
                  "y": [
                    0.000006602146006696027,
                    0.000008137305435884875,
                    0.000008262520092859965,
                    0.000009303323552199958,
                    0.000009580648178227959,
                    0.00000976899812637552,
                    0.00001028291403841502,
                    0.000010833340446824716,
                    0.000011060240702011505,
                    0.000011377575893661958,
                    0.000011832892787839115,
                    0.000011956427255119705,
                    0.000012321595371422936,
                    0.000012559247137734564,
                    0.000012578248311655084,
                    0.000012856648220780643,
                    0.00001299206276721526,
                    0.000013028951621638098,
                    0.000013254833870657376,
                    0.000013282341441528165,
                    0.000013289063085734713,
                    0.000013368887719005775,
                    0.000013369200921974285,
                    0.000013370230977488308,
                    0.000013365650457895267,
                    0.000013348264717941982,
                    0.000013344698676997536,
                    0.00001330357954834403,
                    0.000013265499618495765,
                    0.00001325476529168195,
                    0.000013207863125404175,
                    0.000013162016900285388,
                    0.000013144647534572332,
                    0.000013092183141108904,
                    0.000013066994855146268,
                    0.000013051616843804431,
                    0.000013037616747585813,
                    0.000013002287141733557,
                    0.000013000033991059693,
                    0.000012998416825625302,
                    0.000013008693183879828,
                    0.000013013455297847452,
                    0.000013024133253057544,
                    0.000013066771765743582,
                    0.000013083518729549833,
                    0.000013094177105882015,
                    0.000013159000837966827,
                    0.000013182108914149624,
                    0.00001318536228299333,
                    0.000013260829564720394,
                    0.00001328157193851045,
                    0.000013311055070496496,
                    0.000013348726297792314,
                    0.000013376824215695222,
                    0.000013395749236789318,
                    0.000013407168346313525,
                    0.000013412182673274154,
                    0.000013431143950650185,
                    0.000013432578397426045,
                    0.00001343450662625568,
                    0.000013434031712158096,
                    0.000013433389750585558,
                    0.000013432645152990299,
                    0.00001342778273286226,
                    0.000013426592039089401,
                    0.000013426384598818259,
                    0.000013430234575996258,
                    0.00001343210520098731,
                    0.00001343573254794434,
                    0.000013450817180078342,
                    0.00001346697443288763,
                    0.000013491430207526497,
                    0.000013503101190212445,
                    0.000013541321104548053,
                    0.000013563834119221781,
                    0.000013569062452168813,
                    0.00001365704874596995,
                    0.000013662065646961292,
                    0.000013693768361709676,
                    0.00001380890619184638,
                    0.000013845826597987216,
                    0.000013851442605151106,
                    0.0000139865255409498,
                    0.000014022759997849234,
                    0.000014032070937196064,
                    0.000014176126358898531,
                    0.000014211808701523384,
                    0.00001421370254641366,
                    0.00001436154651289497,
                    0.00001439174897066803,
                    0.000014429863301160677,
                    0.00001452526608966914,
                    0.000014525894586089763,
                    0.000014578811875276876,
                    0.000014646944887555777,
                    0.000014650298008006593,
                    0.000014686615017337518,
                    0.000014719006564264834,
                    0.000014723087854499284,
                    0.000014735591015975211,
                    0.000014738794854946287,
                    0.000014736523121340465,
                    0.000014731090601729263,
                    0.000014719660356183038,
                    0.000014691647636435817,
                    0.000014690406284830936,
                    0.00001466108862425463,
                    0.000014597101270913257,
                    0.000014565781529905567,
                    0.000014556023946784118,
                    0.000014466311361770686,
                    0.000014446920636985062,
                    0.00001441838841093422,
                    0.000014315528450050042,
                    0.000014313287992352896,
                    0.00001426840408175169,
                    0.000014207040174409102,
                    0.000014147991165655915,
                    0.000014130810688196408,
                    0.000014002650666244033,
                    0.000013971793480980972,
                    0.000013934237878352615,
                    0.000013786361725505096,
                    0.000013773250095970616,
                    0.000013727961584520957,
                    0.000013554597522249623,
                    0.00001352482001203176,
                    0.000013494340687658816,
                    0.000013281825978653187,
                    0.000013182260704727839,
                    0.000013144741330186082,
                    0.000012841157930350099,
                    0.000012689205133188183,
                    0.000012606875497794285,
                    0.000012452343188238008,
                    0.00001198870008467678,
                    0.000011922886411062474,
                    0.000011747906644350643,
                    0.000011040926734159267,
                    0.000011040694964311241,
                    0.000010841488797644835,
                    0.000009840553225548985,
                    0.000009829535308226782,
                    0.000009763080560605907,
                    0.000008460021548925988,
                    0.000008430923415464635,
                    0.000008371501572327498,
                    0.00000690013704694826
                  ],
                  "yaxis": "y2"
                },
                {
                  "fill": "tozeroy",
                  "line": {
                    "color": "#69b3a2"
                  },
                  "name": "Test Dataset",
                  "type": "scatter",
                  "x": [
                    77,
                    1564,
                    1687.8000000000002,
                    2752.34,
                    3051,
                    3258.760000000001,
                    3850.6,
                    4538,
                    4842.96,
                    5297.26,
                    6025,
                    6243.000000000001,
                    6961.04,
                    7512,
                    7560,
                    8361.000000000002,
                    8848.560000000001,
                    8999,
                    10252.36,
                    10486,
                    10549.119999999999,
                    11895.16,
                    11911.779999999999,
                    11973,
                    12850.28,
                    13376.8,
                    13460,
                    14224.639999999996,
                    14796.199999999999,
                    14947,
                    15581.8,
                    16195.600000000006,
                    16434,
                    17206.800000000003,
                    17630.68,
                    17921,
                    18218.920000000002,
                    19408,
                    19587.6,
                    19807.5,
                    20895,
                    21083.72,
                    21424.800000000003,
                    22382,
                    22684.600000000002,
                    22866.200000000004,
                    23869,
                    24205.36,
                    24252.4,
                    25356,
                    25675.36,
                    26155.420000000002,
                    26843,
                    27454.640000000003,
                    27958.72000000001,
                    28330,
                    28519.76,
                    29644.039999999997,
                    29817,
                    30181.4,
                    31139.4,
                    31304,
                    31469.960000000003,
                    32448.52,
                    32791,
                    32878.72,
                    34105.560000000005,
                    34278,
                    34540.44,
                    35251.700000000004,
                    35765,
                    36354.32,
                    36591.200000000004,
                    37252,
                    37586.5,
                    37660,
                    38739,
                    38793.92,
                    39129.4,
                    40226,
                    40549.840000000004,
                    40598.240000000005,
                    41713,
                    42000.8,
                    42074.28,
                    43200,
                    43479.44,
                    43494.32,
                    44687,
                    44942.799999999996,
                    45275,
                    46174,
                    46180.35999999999,
                    46746.24,
                    47611.920000000006,
                    47661,
                    48262.64,
                    49016.880000000005,
                    49148,
                    49733.46,
                    50164.40000000001,
                    50635,
                    50980.44,
                    51421.4,
                    52122,
                    52147.60000000001,
                    52684.08,
                    53609,
                    53998.12000000003,
                    54113.88,
                    55096,
                    55294.2,
                    55579.479999999996,
                    56562.2,
                    56583,
                    56995.56,
                    57548.520000000026,
                    58070,
                    58219.8,
                    59305.6,
                    59557,
                    59856.52000000001,
                    60953.740000000005,
                    61044,
                    61346.48,
                    62374.00000000001,
                    62531,
                    62686.31999999998,
                    63637.67999999999,
                    64018,
                    64152.520000000004,
                    65101.8,
                    65505,
                    65708.2,
                    66065.3,
                    66992,
                    67109.92,
                    67410.52,
                    68478.68000000001,
                    68479,
                    68748.26,
                    69966,
                    69978.44,
                    70053.12000000001,
                    71423.9,
                    71453,
                    71512.28,
                    72940
                  ],
                  "xaxis": "x2",
                  "y": [
                    0.0000057923144566297465,
                    0.000007235182088450776,
                    0.0000073547304512084596,
                    0.000008362159057762443,
                    0.000008635466860604713,
                    0.00000882250684355346,
                    0.000009339653453396478,
                    0.000009907405399425677,
                    0.000010146862383582245,
                    0.000010488616498306581,
                    0.00001099756801885705,
                    0.000011140680312816996,
                    0.000011581739258385933,
                    0.00001188926933339287,
                    0.000011914824206211879,
                    0.000012313086926526682,
                    0.000012530534843039303,
                    0.00001259399700713312,
                    0.0000130603784002958,
                    0.000013135669581526303,
                    0.000013155412269480157,
                    0.000013518268890896174,
                    0.0000135220743140007,
                    0.000013535952782903143,
                    0.000013711052622904658,
                    0.000013794987909416435,
                    0.000013806806874654903,
                    0.000013897005963705064,
                    0.000013942781421362189,
                    0.000013951786271621605,
                    0.000013975762656861644,
                    0.000013977917618927266,
                    0.000013973334140387407,
                    0.000013938592496877725,
                    0.000013907367235182936,
                    0.000013881387004341057,
                    0.000013851104217643186,
                    0.000013699157471933041,
                    0.000013672691313871437,
                    0.000013639331085877963,
                    0.000013463904955698946,
                    0.000013432581172658512,
                    0.000013376046865843002,
                    0.000013222628525682036,
                    0.000013177259185487487,
                    0.000013151059462372907,
                    0.000013024193600833194,
                    0.000012989785182137733,
                    0.000012985345205352737,
                    0.000012910158904548967,
                    0.000012899556633318646,
                    0.000012893641527161688,
                    0.000012906527319886686,
                    0.00001293899867363902,
                    0.000012980065144568872,
                    0.000013018100343687479,
                    0.000013039941741684723,
                    0.000013198409919047941,
                    0.000013226528926786826,
                    0.000013288290196328043,
                    0.00001346203616978227,
                    0.000013492796652618184,
                    0.000013523880889353605,
                    0.000013704378116927527,
                    0.000013764519791064895,
                    0.000013779525312854086,
                    0.000013965715232889822,
                    0.000013987546851861837,
                    0.000014018357950313755,
                    0.000014086079458667197,
                    0.0000141196678914055,
                    0.00001414183688237418,
                    0.000014145818959125429,
                    0.000014142480072847477,
                    0.000014133099050483632,
                    0.000014130387669005132,
                    0.000014066938075002888,
                    0.000014062680494696822,
                    0.0000140349563468591,
                    0.000013929800327248877,
                    0.000013896658012499105,
                    0.00001389169462030846,
                    0.00001378166661508539,
                    0.000013756019632770727,
                    0.000013749740719079463,
                    0.00001367087886961942,
                    0.000013657199085443362,
                    0.000013656543646636329,
                    0.000013629293659267565,
                    0.00001363007272425054,
                    0.000013634521318078226,
                    0.000013664930054247475,
                    0.00001366523418764368,
                    0.000013696738418043283,
                    0.000013759388794374867,
                    0.00001376336177075057,
                    0.000013814760233760601,
                    0.000013883853208522484,
                    0.000013896112724538089,
                    0.000013950805826944935,
                    0.00001399031568987211,
                    0.000014031952008762548,
                    0.00001406114100214551,
                    0.000014096335426712864,
                    0.000014146741972158125,
                    0.000014148446122034379,
                    0.000014181834102154659,
                    0.00001422899364299381,
                    0.000014245087050482997,
                    0.000014249477841064782,
                    0.000014280274846838877,
                    0.000014285276605846131,
                    0.000014291893589592435,
                    0.000014310619847422034,
                    0.000014310964406978307,
                    0.000014317485563033675,
                    0.000014325477924312888,
                    0.000014332384275651756,
                    0.000014334250984704925,
                    0.000014345254203758318,
                    0.00001434677527972415,
                    0.000014347771425276866,
                    0.000014339391932663354,
                    0.000014337517540921164,
                    0.000014329469581730611,
                    0.000014275817986761814,
                    0.000014263105377508007,
                    0.000014249114246655261,
                    0.000014127504148316805,
                    0.000014058583788285393,
                    0.000014031017544342425,
                    0.00001378315058205749,
                    0.000013646569018723458,
                    0.00001357000421562227,
                    0.000013422319190367454,
                    0.000012956737973350905,
                    0.000012888655115556833,
                    0.000012705879639201818,
                    0.000011949162442821178,
                    0.000011948910984115706,
                    0.00001173221282425741,
                    0.000010632172200045968,
                    0.000010620001066007374,
                    0.000010546574461738543,
                    0.000009104541716174125,
                    0.000009072347062959791,
                    0.000009006608389487582,
                    0.000007383324407133464
                  ],
                  "yaxis": "y2"
                }
              ],
              "layout": {
                "annotations": [
                  {
                    "font": {
                      "size": 16
                    },
                    "showarrow": false,
                    "text": "Drift Score (Earth Mover's Distance)",
                    "x": 0.5,
                    "xanchor": "center",
                    "xref": "paper",
                    "y": 1.0000000000000002,
                    "yanchor": "bottom",
                    "yref": "paper"
                  },
                  {
                    "font": {
                      "size": 16
                    },
                    "showarrow": false,
                    "text": "Distribution Plot",
                    "x": 0.5,
                    "xanchor": "center",
                    "xref": "paper",
                    "y": 0.7200000000000001,
                    "yanchor": "bottom",
                    "yref": "paper"
                  }
                ],
                "bargroupgap": 0,
                "height": 400,
                "legend": {
                  "title": {
                    "text": "Dataset"
                  },
                  "y": 0.6,
                  "yanchor": "top"
                },
                "template": {
                  "data": {
                    "bar": [
                      {
                        "error_x": {
                          "color": "#2a3f5f"
                        },
                        "error_y": {
                          "color": "#2a3f5f"
                        },
                        "marker": {
                          "line": {
                            "color": "#E5ECF6",
                            "width": 0.5
                          },
                          "pattern": {
                            "fillmode": "overlay",
                            "size": 10,
                            "solidity": 0.2
                          }
                        },
                        "type": "bar"
                      }
                    ],
                    "barpolar": [
                      {
                        "marker": {
                          "line": {
                            "color": "#E5ECF6",
                            "width": 0.5
                          },
                          "pattern": {
                            "fillmode": "overlay",
                            "size": 10,
                            "solidity": 0.2
                          }
                        },
                        "type": "barpolar"
                      }
                    ],
                    "carpet": [
                      {
                        "aaxis": {
                          "endlinecolor": "#2a3f5f",
                          "gridcolor": "white",
                          "linecolor": "white",
                          "minorgridcolor": "white",
                          "startlinecolor": "#2a3f5f"
                        },
                        "baxis": {
                          "endlinecolor": "#2a3f5f",
                          "gridcolor": "white",
                          "linecolor": "white",
                          "minorgridcolor": "white",
                          "startlinecolor": "#2a3f5f"
                        },
                        "type": "carpet"
                      }
                    ],
                    "choropleth": [
                      {
                        "colorbar": {
                          "outlinewidth": 0,
                          "ticks": ""
                        },
                        "type": "choropleth"
                      }
                    ],
                    "contour": [
                      {
                        "colorbar": {
                          "outlinewidth": 0,
                          "ticks": ""
                        },
                        "colorscale": [
                          [
                            0,
                            "#0d0887"
                          ],
                          [
                            0.1111111111111111,
                            "#46039f"
                          ],
                          [
                            0.2222222222222222,
                            "#7201a8"
                          ],
                          [
                            0.3333333333333333,
                            "#9c179e"
                          ],
                          [
                            0.4444444444444444,
                            "#bd3786"
                          ],
                          [
                            0.5555555555555556,
                            "#d8576b"
                          ],
                          [
                            0.6666666666666666,
                            "#ed7953"
                          ],
                          [
                            0.7777777777777778,
                            "#fb9f3a"
                          ],
                          [
                            0.8888888888888888,
                            "#fdca26"
                          ],
                          [
                            1,
                            "#f0f921"
                          ]
                        ],
                        "type": "contour"
                      }
                    ],
                    "contourcarpet": [
                      {
                        "colorbar": {
                          "outlinewidth": 0,
                          "ticks": ""
                        },
                        "type": "contourcarpet"
                      }
                    ],
                    "heatmap": [
                      {
                        "colorbar": {
                          "outlinewidth": 0,
                          "ticks": ""
                        },
                        "colorscale": [
                          [
                            0,
                            "#0d0887"
                          ],
                          [
                            0.1111111111111111,
                            "#46039f"
                          ],
                          [
                            0.2222222222222222,
                            "#7201a8"
                          ],
                          [
                            0.3333333333333333,
                            "#9c179e"
                          ],
                          [
                            0.4444444444444444,
                            "#bd3786"
                          ],
                          [
                            0.5555555555555556,
                            "#d8576b"
                          ],
                          [
                            0.6666666666666666,
                            "#ed7953"
                          ],
                          [
                            0.7777777777777778,
                            "#fb9f3a"
                          ],
                          [
                            0.8888888888888888,
                            "#fdca26"
                          ],
                          [
                            1,
                            "#f0f921"
                          ]
                        ],
                        "type": "heatmap"
                      }
                    ],
                    "heatmapgl": [
                      {
                        "colorbar": {
                          "outlinewidth": 0,
                          "ticks": ""
                        },
                        "colorscale": [
                          [
                            0,
                            "#0d0887"
                          ],
                          [
                            0.1111111111111111,
                            "#46039f"
                          ],
                          [
                            0.2222222222222222,
                            "#7201a8"
                          ],
                          [
                            0.3333333333333333,
                            "#9c179e"
                          ],
                          [
                            0.4444444444444444,
                            "#bd3786"
                          ],
                          [
                            0.5555555555555556,
                            "#d8576b"
                          ],
                          [
                            0.6666666666666666,
                            "#ed7953"
                          ],
                          [
                            0.7777777777777778,
                            "#fb9f3a"
                          ],
                          [
                            0.8888888888888888,
                            "#fdca26"
                          ],
                          [
                            1,
                            "#f0f921"
                          ]
                        ],
                        "type": "heatmapgl"
                      }
                    ],
                    "histogram": [
                      {
                        "marker": {
                          "pattern": {
                            "fillmode": "overlay",
                            "size": 10,
                            "solidity": 0.2
                          }
                        },
                        "type": "histogram"
                      }
                    ],
                    "histogram2d": [
                      {
                        "colorbar": {
                          "outlinewidth": 0,
                          "ticks": ""
                        },
                        "colorscale": [
                          [
                            0,
                            "#0d0887"
                          ],
                          [
                            0.1111111111111111,
                            "#46039f"
                          ],
                          [
                            0.2222222222222222,
                            "#7201a8"
                          ],
                          [
                            0.3333333333333333,
                            "#9c179e"
                          ],
                          [
                            0.4444444444444444,
                            "#bd3786"
                          ],
                          [
                            0.5555555555555556,
                            "#d8576b"
                          ],
                          [
                            0.6666666666666666,
                            "#ed7953"
                          ],
                          [
                            0.7777777777777778,
                            "#fb9f3a"
                          ],
                          [
                            0.8888888888888888,
                            "#fdca26"
                          ],
                          [
                            1,
                            "#f0f921"
                          ]
                        ],
                        "type": "histogram2d"
                      }
                    ],
                    "histogram2dcontour": [
                      {
                        "colorbar": {
                          "outlinewidth": 0,
                          "ticks": ""
                        },
                        "colorscale": [
                          [
                            0,
                            "#0d0887"
                          ],
                          [
                            0.1111111111111111,
                            "#46039f"
                          ],
                          [
                            0.2222222222222222,
                            "#7201a8"
                          ],
                          [
                            0.3333333333333333,
                            "#9c179e"
                          ],
                          [
                            0.4444444444444444,
                            "#bd3786"
                          ],
                          [
                            0.5555555555555556,
                            "#d8576b"
                          ],
                          [
                            0.6666666666666666,
                            "#ed7953"
                          ],
                          [
                            0.7777777777777778,
                            "#fb9f3a"
                          ],
                          [
                            0.8888888888888888,
                            "#fdca26"
                          ],
                          [
                            1,
                            "#f0f921"
                          ]
                        ],
                        "type": "histogram2dcontour"
                      }
                    ],
                    "mesh3d": [
                      {
                        "colorbar": {
                          "outlinewidth": 0,
                          "ticks": ""
                        },
                        "type": "mesh3d"
                      }
                    ],
                    "parcoords": [
                      {
                        "line": {
                          "colorbar": {
                            "outlinewidth": 0,
                            "ticks": ""
                          }
                        },
                        "type": "parcoords"
                      }
                    ],
                    "pie": [
                      {
                        "automargin": true,
                        "type": "pie"
                      }
                    ],
                    "scatter": [
                      {
                        "marker": {
                          "colorbar": {
                            "outlinewidth": 0,
                            "ticks": ""
                          }
                        },
                        "type": "scatter"
                      }
                    ],
                    "scatter3d": [
                      {
                        "line": {
                          "colorbar": {
                            "outlinewidth": 0,
                            "ticks": ""
                          }
                        },
                        "marker": {
                          "colorbar": {
                            "outlinewidth": 0,
                            "ticks": ""
                          }
                        },
                        "type": "scatter3d"
                      }
                    ],
                    "scattercarpet": [
                      {
                        "marker": {
                          "colorbar": {
                            "outlinewidth": 0,
                            "ticks": ""
                          }
                        },
                        "type": "scattercarpet"
                      }
                    ],
                    "scattergeo": [
                      {
                        "marker": {
                          "colorbar": {
                            "outlinewidth": 0,
                            "ticks": ""
                          }
                        },
                        "type": "scattergeo"
                      }
                    ],
                    "scattergl": [
                      {
                        "marker": {
                          "colorbar": {
                            "outlinewidth": 0,
                            "ticks": ""
                          }
                        },
                        "type": "scattergl"
                      }
                    ],
                    "scattermapbox": [
                      {
                        "marker": {
                          "colorbar": {
                            "outlinewidth": 0,
                            "ticks": ""
                          }
                        },
                        "type": "scattermapbox"
                      }
                    ],
                    "scatterpolar": [
                      {
                        "marker": {
                          "colorbar": {
                            "outlinewidth": 0,
                            "ticks": ""
                          }
                        },
                        "type": "scatterpolar"
                      }
                    ],
                    "scatterpolargl": [
                      {
                        "marker": {
                          "colorbar": {
                            "outlinewidth": 0,
                            "ticks": ""
                          }
                        },
                        "type": "scatterpolargl"
                      }
                    ],
                    "scatterternary": [
                      {
                        "marker": {
                          "colorbar": {
                            "outlinewidth": 0,
                            "ticks": ""
                          }
                        },
                        "type": "scatterternary"
                      }
                    ],
                    "surface": [
                      {
                        "colorbar": {
                          "outlinewidth": 0,
                          "ticks": ""
                        },
                        "colorscale": [
                          [
                            0,
                            "#0d0887"
                          ],
                          [
                            0.1111111111111111,
                            "#46039f"
                          ],
                          [
                            0.2222222222222222,
                            "#7201a8"
                          ],
                          [
                            0.3333333333333333,
                            "#9c179e"
                          ],
                          [
                            0.4444444444444444,
                            "#bd3786"
                          ],
                          [
                            0.5555555555555556,
                            "#d8576b"
                          ],
                          [
                            0.6666666666666666,
                            "#ed7953"
                          ],
                          [
                            0.7777777777777778,
                            "#fb9f3a"
                          ],
                          [
                            0.8888888888888888,
                            "#fdca26"
                          ],
                          [
                            1,
                            "#f0f921"
                          ]
                        ],
                        "type": "surface"
                      }
                    ],
                    "table": [
                      {
                        "cells": {
                          "fill": {
                            "color": "#EBF0F8"
                          },
                          "line": {
                            "color": "white"
                          }
                        },
                        "header": {
                          "fill": {
                            "color": "#C8D4E3"
                          },
                          "line": {
                            "color": "white"
                          }
                        },
                        "type": "table"
                      }
                    ]
                  },
                  "layout": {
                    "annotationdefaults": {
                      "arrowcolor": "#2a3f5f",
                      "arrowhead": 0,
                      "arrowwidth": 1
                    },
                    "autotypenumbers": "strict",
                    "coloraxis": {
                      "colorbar": {
                        "outlinewidth": 0,
                        "ticks": ""
                      }
                    },
                    "colorscale": {
                      "diverging": [
                        [
                          0,
                          "#8e0152"
                        ],
                        [
                          0.1,
                          "#c51b7d"
                        ],
                        [
                          0.2,
                          "#de77ae"
                        ],
                        [
                          0.3,
                          "#f1b6da"
                        ],
                        [
                          0.4,
                          "#fde0ef"
                        ],
                        [
                          0.5,
                          "#f7f7f7"
                        ],
                        [
                          0.6,
                          "#e6f5d0"
                        ],
                        [
                          0.7,
                          "#b8e186"
                        ],
                        [
                          0.8,
                          "#7fbc41"
                        ],
                        [
                          0.9,
                          "#4d9221"
                        ],
                        [
                          1,
                          "#276419"
                        ]
                      ],
                      "sequential": [
                        [
                          0,
                          "#0d0887"
                        ],
                        [
                          0.1111111111111111,
                          "#46039f"
                        ],
                        [
                          0.2222222222222222,
                          "#7201a8"
                        ],
                        [
                          0.3333333333333333,
                          "#9c179e"
                        ],
                        [
                          0.4444444444444444,
                          "#bd3786"
                        ],
                        [
                          0.5555555555555556,
                          "#d8576b"
                        ],
                        [
                          0.6666666666666666,
                          "#ed7953"
                        ],
                        [
                          0.7777777777777778,
                          "#fb9f3a"
                        ],
                        [
                          0.8888888888888888,
                          "#fdca26"
                        ],
                        [
                          1,
                          "#f0f921"
                        ]
                      ],
                      "sequentialminus": [
                        [
                          0,
                          "#0d0887"
                        ],
                        [
                          0.1111111111111111,
                          "#46039f"
                        ],
                        [
                          0.2222222222222222,
                          "#7201a8"
                        ],
                        [
                          0.3333333333333333,
                          "#9c179e"
                        ],
                        [
                          0.4444444444444444,
                          "#bd3786"
                        ],
                        [
                          0.5555555555555556,
                          "#d8576b"
                        ],
                        [
                          0.6666666666666666,
                          "#ed7953"
                        ],
                        [
                          0.7777777777777778,
                          "#fb9f3a"
                        ],
                        [
                          0.8888888888888888,
                          "#fdca26"
                        ],
                        [
                          1,
                          "#f0f921"
                        ]
                      ]
                    },
                    "colorway": [
                      "#636efa",
                      "#EF553B",
                      "#00cc96",
                      "#ab63fa",
                      "#FFA15A",
                      "#19d3f3",
                      "#FF6692",
                      "#B6E880",
                      "#FF97FF",
                      "#FECB52"
                    ],
                    "font": {
                      "color": "#2a3f5f"
                    },
                    "geo": {
                      "bgcolor": "white",
                      "lakecolor": "white",
                      "landcolor": "#E5ECF6",
                      "showlakes": true,
                      "showland": true,
                      "subunitcolor": "white"
                    },
                    "hoverlabel": {
                      "align": "left"
                    },
                    "hovermode": "closest",
                    "mapbox": {
                      "style": "light"
                    },
                    "paper_bgcolor": "white",
                    "plot_bgcolor": "#E5ECF6",
                    "polar": {
                      "angularaxis": {
                        "gridcolor": "white",
                        "linecolor": "white",
                        "ticks": ""
                      },
                      "bgcolor": "#E5ECF6",
                      "radialaxis": {
                        "gridcolor": "white",
                        "linecolor": "white",
                        "ticks": ""
                      }
                    },
                    "scene": {
                      "xaxis": {
                        "backgroundcolor": "#E5ECF6",
                        "gridcolor": "white",
                        "gridwidth": 2,
                        "linecolor": "white",
                        "showbackground": true,
                        "ticks": "",
                        "zerolinecolor": "white"
                      },
                      "yaxis": {
                        "backgroundcolor": "#E5ECF6",
                        "gridcolor": "white",
                        "gridwidth": 2,
                        "linecolor": "white",
                        "showbackground": true,
                        "ticks": "",
                        "zerolinecolor": "white"
                      },
                      "zaxis": {
                        "backgroundcolor": "#E5ECF6",
                        "gridcolor": "white",
                        "gridwidth": 2,
                        "linecolor": "white",
                        "showbackground": true,
                        "ticks": "",
                        "zerolinecolor": "white"
                      }
                    },
                    "shapedefaults": {
                      "line": {
                        "color": "#2a3f5f"
                      }
                    },
                    "ternary": {
                      "aaxis": {
                        "gridcolor": "white",
                        "linecolor": "white",
                        "ticks": ""
                      },
                      "baxis": {
                        "gridcolor": "white",
                        "linecolor": "white",
                        "ticks": ""
                      },
                      "bgcolor": "#E5ECF6",
                      "caxis": {
                        "gridcolor": "white",
                        "linecolor": "white",
                        "ticks": ""
                      }
                    },
                    "title": {
                      "x": 0.05
                    },
                    "xaxis": {
                      "automargin": true,
                      "gridcolor": "white",
                      "linecolor": "white",
                      "ticks": "",
                      "title": {
                        "standoff": 15
                      },
                      "zerolinecolor": "white",
                      "zerolinewidth": 2
                    },
                    "yaxis": {
                      "automargin": true,
                      "gridcolor": "white",
                      "linecolor": "white",
                      "ticks": "",
                      "title": {
                        "standoff": 15
                      },
                      "zerolinecolor": "white",
                      "zerolinewidth": 2
                    }
                  }
                },
                "title": {
                  "text": "id (#2 in FI)",
                  "x": 0.5,
                  "xanchor": "center"
                },
                "width": 700,
                "xaxis": {
                  "anchor": "y",
                  "domain": [
                    0,
                    1
                  ],
                  "dtick": 0.05,
                  "fixedrange": true,
                  "gridcolor": "black",
                  "linecolor": "black",
                  "range": [
                    0,
                    0.4
                  ],
                  "showgrid": false
                },
                "xaxis2": {
                  "anchor": "y2",
                  "domain": [
                    0,
                    1
                  ],
                  "fixedrange": false,
                  "range": [
                    1687.8000000000002,
                    71512.28
                  ],
                  "title": {
                    "text": "id"
                  }
                },
                "yaxis": {
                  "anchor": "x",
                  "color": "black",
                  "domain": [
                    0.9200000000000002,
                    1
                  ],
                  "fixedrange": true,
                  "showgrid": false,
                  "showline": false,
                  "showticklabels": false,
                  "zeroline": false
                },
                "yaxis2": {
                  "anchor": "x2",
                  "domain": [
                    0,
                    0.7200000000000001
                  ],
                  "fixedrange": true,
                  "title": {
                    "text": "Probability Density"
                  }
                }
              }
            }
          },
          "metadata": {},
          "output_type": "display_data"
        },
        {
          "data": {
            "text/html": []
          },
          "metadata": {},
          "output_type": "display_data"
        },
        {
          "data": {
            "application/vnd.plotly.v1+json": {
              "config": {
                "plotlyServerURL": "https://plot.ly"
              },
              "data": [
                {
                  "base": 0,
                  "marker": {
                    "color": "#01B8AA"
                  },
                  "offsetgroup": "0",
                  "orientation": "h",
                  "showlegend": false,
                  "type": "bar",
                  "x": [
                    0.008257683304951325
                  ],
                  "xaxis": "x",
                  "y": [
                    "Drift Score"
                  ],
                  "yaxis": "y"
                },
                {
                  "fill": "tozeroy",
                  "line": {
                    "color": "#00008b"
                  },
                  "name": "Train Dataset",
                  "type": "scatter",
                  "x": [
                    15.2,
                    15.96938775510204,
                    16.7,
                    16.701999999999998,
                    16.738775510204082,
                    17.508163265306123,
                    17.6,
                    17.8,
                    18.27755102040816,
                    18.4,
                    18.8,
                    19.046938775510203,
                    19.116000000000003,
                    19.8,
                    19.816326530612244,
                    19.9,
                    20.3,
                    20.4,
                    20.585714285714285,
                    21,
                    21,
                    21.355102040816327,
                    21.5,
                    21.5,
                    21.9,
                    22.1,
                    22.124489795918365,
                    22.317999999999998,
                    22.6,
                    22.89387755102041,
                    22.9,
                    23,
                    23.4,
                    23.4,
                    23.663265306122447,
                    23.7,
                    23.8,
                    24.1,
                    24.2,
                    24.4,
                    24.43265306122449,
                    24.6,
                    24.8,
                    24.9,
                    25.20204081632653,
                    25.232,
                    25.3,
                    25.534000000000002,
                    25.7,
                    25.936000000000007,
                    25.97142857142857,
                    26.1,
                    26.2,
                    26.4,
                    26.5,
                    26.7,
                    26.740816326530613,
                    26.8,
                    27.1,
                    27.1,
                    27.4,
                    27.5,
                    27.51020408163265,
                    27.7,
                    27.7,
                    28,
                    28.1,
                    28.279591836734696,
                    28.4,
                    28.4,
                    28.7,
                    28.7,
                    29,
                    29.048979591836734,
                    29.1,
                    29.4,
                    29.4,
                    29.7,
                    29.7,
                    29.818367346938775,
                    30.1,
                    30.1,
                    30.5,
                    30.587755102040816,
                    30.6,
                    30.8,
                    31,
                    31.3,
                    31.357142857142858,
                    31.4,
                    31.8,
                    31.870000000000005,
                    32.1265306122449,
                    32.2,
                    32.3,
                    32.6,
                    32.7,
                    32.89591836734694,
                    33,
                    33.3,
                    33.5,
                    33.66530612244898,
                    33.9,
                    34.080000000000005,
                    34.43469387755102,
                    34.5,
                    34.68200000000001,
                    35.1,
                    35.20408163265306,
                    35.4,
                    35.8,
                    35.9734693877551,
                    36.2,
                    36.67199999999998,
                    36.74285714285715,
                    36.8,
                    37.51224489795918,
                    37.6,
                    37.8,
                    38.28163265306122,
                    38.68000000000002,
                    39,
                    39.05102040816327,
                    39.78400000000001,
                    39.820408163265306,
                    40.4,
                    40.589795918367344,
                    41.2,
                    41.35918367346939,
                    42.12857142857143,
                    42.396,
                    42.897959183673464,
                    43.1,
                    43.66734693877551,
                    44.19400000000001,
                    44.436734693877554,
                    45.20612244897959,
                    45.5,
                    45.97551020408163,
                    46.744897959183675,
                    47.51428571428572,
                    48.28367346938775,
                    49.053061224489795,
                    49.82244897959184,
                    50.59183673469387,
                    51.361224489795916,
                    52.13061224489796,
                    52.9
                  ],
                  "xaxis": "x2",
                  "y": [
                    0.008732183090318596,
                    0.012785052871244333,
                    0.01683461798149449,
                    0.016845601848519763,
                    0.01704731477232844,
                    0.021107221376729206,
                    0.021566645776729013,
                    0.02254677686980287,
                    0.024778850897789598,
                    0.02532908132918979,
                    0.02707728860326296,
                    0.02812870002167974,
                    0.028420247612749902,
                    0.03129000997780364,
                    0.03135874814014884,
                    0.0317116177794215,
                    0.033416570274283394,
                    0.033848561354628805,
                    0.03465783090920538,
                    0.036496957031768314,
                    0.036496957031768314,
                    0.038107412164216946,
                    0.03877159332632123,
                    0.03877159332632123,
                    0.04061657307284489,
                    0.041539756519309315,
                    0.04165259075858035,
                    0.04254124172658584,
                    0.043821790843891,
                    0.04512809681322803,
                    0.045154927674919534,
                    0.04559065821597957,
                    0.04728028700148045,
                    0.04728028700148045,
                    0.048339151199833584,
                    0.048483242265092874,
                    0.04887080070949027,
                    0.049991351591381857,
                    0.050350580780062895,
                    0.05104739863087869,
                    0.05115842077772802,
                    0.051715320258418886,
                    0.052354346377214374,
                    0.052662999600322634,
                    0.05355076457681019,
                    0.05363511565672623,
                    0.053824033960128484,
                    0.05444647355607585,
                    0.05486078567634485,
                    0.055407630278292916,
                    0.05548516784149597,
                    0.055755916951532584,
                    0.05595445433369401,
                    0.05631754855994846,
                    0.05648092911485697,
                    0.056768275557615294,
                    0.05682010945182175,
                    0.05689098299165501,
                    0.05716781319116739,
                    0.05716781319116739,
                    0.0572957695723923,
                    0.05730304952789789,
                    0.05730276723916989,
                    0.057262334247571864,
                    0.057262334247571864,
                    0.05705983055148923,
                    0.05695428293264862,
                    0.05671731788074845,
                    0.056524845905150875,
                    0.056524845905150875,
                    0.055932309099303086,
                    0.055932309099303086,
                    0.05518912362075177,
                    0.055054582582374105,
                    0.0549107222556384,
                    0.053993217689100446,
                    0.053993217689100446,
                    0.05296771139362825,
                    0.05296771139362825,
                    0.052537730499600865,
                    0.051466130222447046,
                    0.051466130222447046,
                    0.04984906939293765,
                    0.049482333590916375,
                    0.04943086622103796,
                    0.04858086610516591,
                    0.04771521844886113,
                    0.04639295874086194,
                    0.046138387873697936,
                    0.045946962669495425,
                    0.04414326808899717,
                    0.04382510238108803,
                    0.04265503506398605,
                    0.04231913009717244,
                    0.041861647169304,
                    0.0404895450035217,
                    0.04003309295246063,
                    0.039141498088228324,
                    0.03866974731393552,
                    0.037319907777305726,
                    0.03643000355336015,
                    0.03570150757379278,
                    0.03467922567305214,
                    0.03390532105484443,
                    0.03240739023131853,
                    0.03213560263673721,
                    0.03138487027873776,
                    0.029698906605908442,
                    0.02928766886517367,
                    0.028523291767459383,
                    0.02700471872156212,
                    0.026365166559555852,
                    0.025548901124776185,
                    0.02392339062326863,
                    0.02368874390662598,
                    0.0235013681068479,
                    0.021308318271132505,
                    0.021056353395972664,
                    0.02049652789561388,
                    0.01922536494049601,
                    0.0182457872195108,
                    0.017497239430461012,
                    0.01738057492828472,
                    0.015767888608366348,
                    0.0156903360309956,
                    0.014480864124895522,
                    0.014094335344935796,
                    0.012884044253348917,
                    0.01257719231415054,
                    0.01115420719230998,
                    0.01068437995079758,
                    0.009835667951483197,
                    0.009504888616392778,
                    0.008601206327136483,
                    0.007784819338942002,
                    0.0074136540499321925,
                    0.006265375746066396,
                    0.005846320253879074,
                    0.005208242630553245,
                    0.004327262053152932,
                    0.003676308894648426,
                    0.003234146915708188,
                    0.0029162146467767965,
                    0.002625509158093834,
                    0.002299483651364696,
                    0.0019240348544127411,
                    0.0015183749819389165,
                    0.0011147697976726892
                  ],
                  "yaxis": "y2"
                },
                {
                  "fill": "tozeroy",
                  "line": {
                    "color": "#69b3a2"
                  },
                  "name": "Test Dataset",
                  "type": "scatter",
                  "x": [
                    15.2,
                    15.96938775510204,
                    16.7,
                    16.701999999999998,
                    16.738775510204082,
                    17.508163265306123,
                    17.6,
                    17.8,
                    18.27755102040816,
                    18.4,
                    18.8,
                    19.046938775510203,
                    19.116000000000003,
                    19.8,
                    19.816326530612244,
                    19.9,
                    20.3,
                    20.4,
                    20.585714285714285,
                    21,
                    21,
                    21.355102040816327,
                    21.5,
                    21.5,
                    21.9,
                    22.1,
                    22.124489795918365,
                    22.317999999999998,
                    22.6,
                    22.89387755102041,
                    22.9,
                    23,
                    23.4,
                    23.4,
                    23.663265306122447,
                    23.7,
                    23.8,
                    24.1,
                    24.2,
                    24.4,
                    24.43265306122449,
                    24.6,
                    24.8,
                    24.9,
                    25.20204081632653,
                    25.232,
                    25.3,
                    25.534000000000002,
                    25.7,
                    25.936000000000007,
                    25.97142857142857,
                    26.1,
                    26.2,
                    26.4,
                    26.5,
                    26.7,
                    26.740816326530613,
                    26.8,
                    27.1,
                    27.1,
                    27.4,
                    27.5,
                    27.51020408163265,
                    27.7,
                    27.7,
                    28,
                    28.1,
                    28.279591836734696,
                    28.4,
                    28.4,
                    28.7,
                    28.7,
                    29,
                    29.048979591836734,
                    29.1,
                    29.4,
                    29.4,
                    29.7,
                    29.7,
                    29.818367346938775,
                    30.1,
                    30.1,
                    30.5,
                    30.587755102040816,
                    30.6,
                    30.8,
                    31,
                    31.3,
                    31.357142857142858,
                    31.4,
                    31.8,
                    31.870000000000005,
                    32.1265306122449,
                    32.2,
                    32.3,
                    32.6,
                    32.7,
                    32.89591836734694,
                    33,
                    33.3,
                    33.5,
                    33.66530612244898,
                    33.9,
                    34.080000000000005,
                    34.43469387755102,
                    34.5,
                    34.68200000000001,
                    35.1,
                    35.20408163265306,
                    35.4,
                    35.8,
                    35.9734693877551,
                    36.2,
                    36.67199999999998,
                    36.74285714285715,
                    36.8,
                    37.51224489795918,
                    37.6,
                    37.8,
                    38.28163265306122,
                    38.68000000000002,
                    39,
                    39.05102040816327,
                    39.78400000000001,
                    39.820408163265306,
                    40.4,
                    40.589795918367344,
                    41.2,
                    41.35918367346939,
                    42.12857142857143,
                    42.396,
                    42.897959183673464,
                    43.1,
                    43.66734693877551,
                    44.19400000000001,
                    44.436734693877554,
                    45.20612244897959,
                    45.5,
                    45.97551020408163,
                    46.744897959183675,
                    47.51428571428572,
                    48.28367346938775,
                    49.053061224489795,
                    49.82244897959184,
                    50.59183673469387,
                    51.361224489795916,
                    52.13061224489796,
                    52.9
                  ],
                  "xaxis": "x2",
                  "y": [
                    0.007442455640810634,
                    0.010879726732093793,
                    0.014301910763638166,
                    0.014311269747369038,
                    0.01448329002836705,
                    0.01804947407489595,
                    0.018472622229121806,
                    0.019395378521420422,
                    0.021623031482201547,
                    0.02220386626526457,
                    0.02414074374053662,
                    0.025370801140949903,
                    0.02571970753503558,
                    0.02927963051795763,
                    0.029366527767803196,
                    0.029812899125848925,
                    0.031963666403660496,
                    0.03250367206373695,
                    0.033506557697952764,
                    0.03573426476497486,
                    0.03573426476497486,
                    0.03762331540643704,
                    0.0383874477386152,
                    0.0383874477386152,
                    0.04047687614106294,
                    0.04151156554019856,
                    0.04163785170520613,
                    0.04263281040717456,
                    0.044074107592417984,
                    0.04556538070329022,
                    0.045596324009627785,
                    0.04610093747843579,
                    0.048101586208225154,
                    0.048101586208225154,
                    0.04939770787222182,
                    0.04957689071155932,
                    0.050062283022250686,
                    0.051494227054353095,
                    0.05196210122167813,
                    0.05288101214372022,
                    0.05302870425339449,
                    0.053774207287962866,
                    0.0546374374943982,
                    0.05505637735623285,
                    0.05626277372308882,
                    0.056377123446800084,
                    0.056632798936477574,
                    0.057468661952070836,
                    0.05801635489299761,
                    0.058722416534542715,
                    0.05882049863042788,
                    0.059157992652408745,
                    0.05939972422085212,
                    0.059825563769213566,
                    0.06000831503409265,
                    0.0603104544826495,
                    0.06036144145852113,
                    0.06042880929938599,
                    0.06064829127432636,
                    0.06064829127432636,
                    0.060659897130954245,
                    0.06061736779140379,
                    0.0606117322482734,
                    0.060463629193096384,
                    0.060463629193096384,
                    0.060066475522474044,
                    0.05989160862410532,
                    0.05952725936715456,
                    0.059248565753445934,
                    0.059248565753445934,
                    0.058444515203416876,
                    0.058444515203416876,
                    0.0575039725047095,
                    0.05733927996594685,
                    0.05716475057131373,
                    0.05608442260101645,
                    0.05608442260101645,
                    0.054931731130407314,
                    0.054931731130407314,
                    0.05446290572612097,
                    0.053327388158023854,
                    0.053327388158023854,
                    0.0516930087903487,
                    0.05133416616723678,
                    0.05128412720788988,
                    0.05046840672375892,
                    0.04965618610546312,
                    0.04844296638638572,
                    0.048212080735442364,
                    0.0480388497096719,
                    0.0464117531891475,
                    0.04612350920440895,
                    0.04505218826852665,
                    0.04474009176769378,
                    0.04431085754149815,
                    0.042988453929997124,
                    0.04253505569956525,
                    0.04162767101353898,
                    0.041135415040492514,
                    0.03967964487703661,
                    0.03868297859230546,
                    0.03784739759823907,
                    0.0366497027445036,
                    0.03572795464185255,
                    0.03392357385454387,
                    0.03359519119510743,
                    0.0326893673808583,
                    0.03067471239914879,
                    0.0301894762124032,
                    0.029294962319987947,
                    0.027544218633016943,
                    0.026814635515099803,
                    0.02588622160498517,
                    0.0240290444891436,
                    0.023758285610287765,
                    0.023541357438428476,
                    0.02094178078315107,
                    0.020635231525634484,
                    0.019948834613239194,
                    0.018372161346066455,
                    0.01715935376009926,
                    0.016251519122116663,
                    0.01611254251032897,
                    0.014302131750237574,
                    0.01422162716370225,
                    0.013064669933759793,
                    0.012736539368037982,
                    0.01183708844785385,
                    0.011635960342989311,
                    0.010775139813846764,
                    0.010486752413903474,
                    0.009902658276000417,
                    0.00964112044105185,
                    0.008802138496780767,
                    0.007889493192264684,
                    0.007436238794555217,
                    0.0059549192290164026,
                    0.005405491444115524,
                    0.004577400690143388,
                    0.003465356484712384,
                    0.0026689034897117406,
                    0.002140812546857075,
                    0.0017829331688681224,
                    0.001498255780408917,
                    0.001227671723972179,
                    0.0009573093023727368,
                    0.0007009933801693602,
                    0.00047742586265363165
                  ],
                  "yaxis": "y2"
                }
              ],
              "layout": {
                "annotations": [
                  {
                    "font": {
                      "size": 16
                    },
                    "showarrow": false,
                    "text": "Drift Score (Earth Mover's Distance)",
                    "x": 0.5,
                    "xanchor": "center",
                    "xref": "paper",
                    "y": 1.0000000000000002,
                    "yanchor": "bottom",
                    "yref": "paper"
                  },
                  {
                    "font": {
                      "size": 16
                    },
                    "showarrow": false,
                    "text": "Distribution Plot",
                    "x": 0.5,
                    "xanchor": "center",
                    "xref": "paper",
                    "y": 0.7200000000000001,
                    "yanchor": "bottom",
                    "yref": "paper"
                  }
                ],
                "bargroupgap": 0,
                "height": 400,
                "legend": {
                  "title": {
                    "text": "Dataset"
                  },
                  "y": 0.6,
                  "yanchor": "top"
                },
                "template": {
                  "data": {
                    "bar": [
                      {
                        "error_x": {
                          "color": "#2a3f5f"
                        },
                        "error_y": {
                          "color": "#2a3f5f"
                        },
                        "marker": {
                          "line": {
                            "color": "#E5ECF6",
                            "width": 0.5
                          },
                          "pattern": {
                            "fillmode": "overlay",
                            "size": 10,
                            "solidity": 0.2
                          }
                        },
                        "type": "bar"
                      }
                    ],
                    "barpolar": [
                      {
                        "marker": {
                          "line": {
                            "color": "#E5ECF6",
                            "width": 0.5
                          },
                          "pattern": {
                            "fillmode": "overlay",
                            "size": 10,
                            "solidity": 0.2
                          }
                        },
                        "type": "barpolar"
                      }
                    ],
                    "carpet": [
                      {
                        "aaxis": {
                          "endlinecolor": "#2a3f5f",
                          "gridcolor": "white",
                          "linecolor": "white",
                          "minorgridcolor": "white",
                          "startlinecolor": "#2a3f5f"
                        },
                        "baxis": {
                          "endlinecolor": "#2a3f5f",
                          "gridcolor": "white",
                          "linecolor": "white",
                          "minorgridcolor": "white",
                          "startlinecolor": "#2a3f5f"
                        },
                        "type": "carpet"
                      }
                    ],
                    "choropleth": [
                      {
                        "colorbar": {
                          "outlinewidth": 0,
                          "ticks": ""
                        },
                        "type": "choropleth"
                      }
                    ],
                    "contour": [
                      {
                        "colorbar": {
                          "outlinewidth": 0,
                          "ticks": ""
                        },
                        "colorscale": [
                          [
                            0,
                            "#0d0887"
                          ],
                          [
                            0.1111111111111111,
                            "#46039f"
                          ],
                          [
                            0.2222222222222222,
                            "#7201a8"
                          ],
                          [
                            0.3333333333333333,
                            "#9c179e"
                          ],
                          [
                            0.4444444444444444,
                            "#bd3786"
                          ],
                          [
                            0.5555555555555556,
                            "#d8576b"
                          ],
                          [
                            0.6666666666666666,
                            "#ed7953"
                          ],
                          [
                            0.7777777777777778,
                            "#fb9f3a"
                          ],
                          [
                            0.8888888888888888,
                            "#fdca26"
                          ],
                          [
                            1,
                            "#f0f921"
                          ]
                        ],
                        "type": "contour"
                      }
                    ],
                    "contourcarpet": [
                      {
                        "colorbar": {
                          "outlinewidth": 0,
                          "ticks": ""
                        },
                        "type": "contourcarpet"
                      }
                    ],
                    "heatmap": [
                      {
                        "colorbar": {
                          "outlinewidth": 0,
                          "ticks": ""
                        },
                        "colorscale": [
                          [
                            0,
                            "#0d0887"
                          ],
                          [
                            0.1111111111111111,
                            "#46039f"
                          ],
                          [
                            0.2222222222222222,
                            "#7201a8"
                          ],
                          [
                            0.3333333333333333,
                            "#9c179e"
                          ],
                          [
                            0.4444444444444444,
                            "#bd3786"
                          ],
                          [
                            0.5555555555555556,
                            "#d8576b"
                          ],
                          [
                            0.6666666666666666,
                            "#ed7953"
                          ],
                          [
                            0.7777777777777778,
                            "#fb9f3a"
                          ],
                          [
                            0.8888888888888888,
                            "#fdca26"
                          ],
                          [
                            1,
                            "#f0f921"
                          ]
                        ],
                        "type": "heatmap"
                      }
                    ],
                    "heatmapgl": [
                      {
                        "colorbar": {
                          "outlinewidth": 0,
                          "ticks": ""
                        },
                        "colorscale": [
                          [
                            0,
                            "#0d0887"
                          ],
                          [
                            0.1111111111111111,
                            "#46039f"
                          ],
                          [
                            0.2222222222222222,
                            "#7201a8"
                          ],
                          [
                            0.3333333333333333,
                            "#9c179e"
                          ],
                          [
                            0.4444444444444444,
                            "#bd3786"
                          ],
                          [
                            0.5555555555555556,
                            "#d8576b"
                          ],
                          [
                            0.6666666666666666,
                            "#ed7953"
                          ],
                          [
                            0.7777777777777778,
                            "#fb9f3a"
                          ],
                          [
                            0.8888888888888888,
                            "#fdca26"
                          ],
                          [
                            1,
                            "#f0f921"
                          ]
                        ],
                        "type": "heatmapgl"
                      }
                    ],
                    "histogram": [
                      {
                        "marker": {
                          "pattern": {
                            "fillmode": "overlay",
                            "size": 10,
                            "solidity": 0.2
                          }
                        },
                        "type": "histogram"
                      }
                    ],
                    "histogram2d": [
                      {
                        "colorbar": {
                          "outlinewidth": 0,
                          "ticks": ""
                        },
                        "colorscale": [
                          [
                            0,
                            "#0d0887"
                          ],
                          [
                            0.1111111111111111,
                            "#46039f"
                          ],
                          [
                            0.2222222222222222,
                            "#7201a8"
                          ],
                          [
                            0.3333333333333333,
                            "#9c179e"
                          ],
                          [
                            0.4444444444444444,
                            "#bd3786"
                          ],
                          [
                            0.5555555555555556,
                            "#d8576b"
                          ],
                          [
                            0.6666666666666666,
                            "#ed7953"
                          ],
                          [
                            0.7777777777777778,
                            "#fb9f3a"
                          ],
                          [
                            0.8888888888888888,
                            "#fdca26"
                          ],
                          [
                            1,
                            "#f0f921"
                          ]
                        ],
                        "type": "histogram2d"
                      }
                    ],
                    "histogram2dcontour": [
                      {
                        "colorbar": {
                          "outlinewidth": 0,
                          "ticks": ""
                        },
                        "colorscale": [
                          [
                            0,
                            "#0d0887"
                          ],
                          [
                            0.1111111111111111,
                            "#46039f"
                          ],
                          [
                            0.2222222222222222,
                            "#7201a8"
                          ],
                          [
                            0.3333333333333333,
                            "#9c179e"
                          ],
                          [
                            0.4444444444444444,
                            "#bd3786"
                          ],
                          [
                            0.5555555555555556,
                            "#d8576b"
                          ],
                          [
                            0.6666666666666666,
                            "#ed7953"
                          ],
                          [
                            0.7777777777777778,
                            "#fb9f3a"
                          ],
                          [
                            0.8888888888888888,
                            "#fdca26"
                          ],
                          [
                            1,
                            "#f0f921"
                          ]
                        ],
                        "type": "histogram2dcontour"
                      }
                    ],
                    "mesh3d": [
                      {
                        "colorbar": {
                          "outlinewidth": 0,
                          "ticks": ""
                        },
                        "type": "mesh3d"
                      }
                    ],
                    "parcoords": [
                      {
                        "line": {
                          "colorbar": {
                            "outlinewidth": 0,
                            "ticks": ""
                          }
                        },
                        "type": "parcoords"
                      }
                    ],
                    "pie": [
                      {
                        "automargin": true,
                        "type": "pie"
                      }
                    ],
                    "scatter": [
                      {
                        "marker": {
                          "colorbar": {
                            "outlinewidth": 0,
                            "ticks": ""
                          }
                        },
                        "type": "scatter"
                      }
                    ],
                    "scatter3d": [
                      {
                        "line": {
                          "colorbar": {
                            "outlinewidth": 0,
                            "ticks": ""
                          }
                        },
                        "marker": {
                          "colorbar": {
                            "outlinewidth": 0,
                            "ticks": ""
                          }
                        },
                        "type": "scatter3d"
                      }
                    ],
                    "scattercarpet": [
                      {
                        "marker": {
                          "colorbar": {
                            "outlinewidth": 0,
                            "ticks": ""
                          }
                        },
                        "type": "scattercarpet"
                      }
                    ],
                    "scattergeo": [
                      {
                        "marker": {
                          "colorbar": {
                            "outlinewidth": 0,
                            "ticks": ""
                          }
                        },
                        "type": "scattergeo"
                      }
                    ],
                    "scattergl": [
                      {
                        "marker": {
                          "colorbar": {
                            "outlinewidth": 0,
                            "ticks": ""
                          }
                        },
                        "type": "scattergl"
                      }
                    ],
                    "scattermapbox": [
                      {
                        "marker": {
                          "colorbar": {
                            "outlinewidth": 0,
                            "ticks": ""
                          }
                        },
                        "type": "scattermapbox"
                      }
                    ],
                    "scatterpolar": [
                      {
                        "marker": {
                          "colorbar": {
                            "outlinewidth": 0,
                            "ticks": ""
                          }
                        },
                        "type": "scatterpolar"
                      }
                    ],
                    "scatterpolargl": [
                      {
                        "marker": {
                          "colorbar": {
                            "outlinewidth": 0,
                            "ticks": ""
                          }
                        },
                        "type": "scatterpolargl"
                      }
                    ],
                    "scatterternary": [
                      {
                        "marker": {
                          "colorbar": {
                            "outlinewidth": 0,
                            "ticks": ""
                          }
                        },
                        "type": "scatterternary"
                      }
                    ],
                    "surface": [
                      {
                        "colorbar": {
                          "outlinewidth": 0,
                          "ticks": ""
                        },
                        "colorscale": [
                          [
                            0,
                            "#0d0887"
                          ],
                          [
                            0.1111111111111111,
                            "#46039f"
                          ],
                          [
                            0.2222222222222222,
                            "#7201a8"
                          ],
                          [
                            0.3333333333333333,
                            "#9c179e"
                          ],
                          [
                            0.4444444444444444,
                            "#bd3786"
                          ],
                          [
                            0.5555555555555556,
                            "#d8576b"
                          ],
                          [
                            0.6666666666666666,
                            "#ed7953"
                          ],
                          [
                            0.7777777777777778,
                            "#fb9f3a"
                          ],
                          [
                            0.8888888888888888,
                            "#fdca26"
                          ],
                          [
                            1,
                            "#f0f921"
                          ]
                        ],
                        "type": "surface"
                      }
                    ],
                    "table": [
                      {
                        "cells": {
                          "fill": {
                            "color": "#EBF0F8"
                          },
                          "line": {
                            "color": "white"
                          }
                        },
                        "header": {
                          "fill": {
                            "color": "#C8D4E3"
                          },
                          "line": {
                            "color": "white"
                          }
                        },
                        "type": "table"
                      }
                    ]
                  },
                  "layout": {
                    "annotationdefaults": {
                      "arrowcolor": "#2a3f5f",
                      "arrowhead": 0,
                      "arrowwidth": 1
                    },
                    "autotypenumbers": "strict",
                    "coloraxis": {
                      "colorbar": {
                        "outlinewidth": 0,
                        "ticks": ""
                      }
                    },
                    "colorscale": {
                      "diverging": [
                        [
                          0,
                          "#8e0152"
                        ],
                        [
                          0.1,
                          "#c51b7d"
                        ],
                        [
                          0.2,
                          "#de77ae"
                        ],
                        [
                          0.3,
                          "#f1b6da"
                        ],
                        [
                          0.4,
                          "#fde0ef"
                        ],
                        [
                          0.5,
                          "#f7f7f7"
                        ],
                        [
                          0.6,
                          "#e6f5d0"
                        ],
                        [
                          0.7,
                          "#b8e186"
                        ],
                        [
                          0.8,
                          "#7fbc41"
                        ],
                        [
                          0.9,
                          "#4d9221"
                        ],
                        [
                          1,
                          "#276419"
                        ]
                      ],
                      "sequential": [
                        [
                          0,
                          "#0d0887"
                        ],
                        [
                          0.1111111111111111,
                          "#46039f"
                        ],
                        [
                          0.2222222222222222,
                          "#7201a8"
                        ],
                        [
                          0.3333333333333333,
                          "#9c179e"
                        ],
                        [
                          0.4444444444444444,
                          "#bd3786"
                        ],
                        [
                          0.5555555555555556,
                          "#d8576b"
                        ],
                        [
                          0.6666666666666666,
                          "#ed7953"
                        ],
                        [
                          0.7777777777777778,
                          "#fb9f3a"
                        ],
                        [
                          0.8888888888888888,
                          "#fdca26"
                        ],
                        [
                          1,
                          "#f0f921"
                        ]
                      ],
                      "sequentialminus": [
                        [
                          0,
                          "#0d0887"
                        ],
                        [
                          0.1111111111111111,
                          "#46039f"
                        ],
                        [
                          0.2222222222222222,
                          "#7201a8"
                        ],
                        [
                          0.3333333333333333,
                          "#9c179e"
                        ],
                        [
                          0.4444444444444444,
                          "#bd3786"
                        ],
                        [
                          0.5555555555555556,
                          "#d8576b"
                        ],
                        [
                          0.6666666666666666,
                          "#ed7953"
                        ],
                        [
                          0.7777777777777778,
                          "#fb9f3a"
                        ],
                        [
                          0.8888888888888888,
                          "#fdca26"
                        ],
                        [
                          1,
                          "#f0f921"
                        ]
                      ]
                    },
                    "colorway": [
                      "#636efa",
                      "#EF553B",
                      "#00cc96",
                      "#ab63fa",
                      "#FFA15A",
                      "#19d3f3",
                      "#FF6692",
                      "#B6E880",
                      "#FF97FF",
                      "#FECB52"
                    ],
                    "font": {
                      "color": "#2a3f5f"
                    },
                    "geo": {
                      "bgcolor": "white",
                      "lakecolor": "white",
                      "landcolor": "#E5ECF6",
                      "showlakes": true,
                      "showland": true,
                      "subunitcolor": "white"
                    },
                    "hoverlabel": {
                      "align": "left"
                    },
                    "hovermode": "closest",
                    "mapbox": {
                      "style": "light"
                    },
                    "paper_bgcolor": "white",
                    "plot_bgcolor": "#E5ECF6",
                    "polar": {
                      "angularaxis": {
                        "gridcolor": "white",
                        "linecolor": "white",
                        "ticks": ""
                      },
                      "bgcolor": "#E5ECF6",
                      "radialaxis": {
                        "gridcolor": "white",
                        "linecolor": "white",
                        "ticks": ""
                      }
                    },
                    "scene": {
                      "xaxis": {
                        "backgroundcolor": "#E5ECF6",
                        "gridcolor": "white",
                        "gridwidth": 2,
                        "linecolor": "white",
                        "showbackground": true,
                        "ticks": "",
                        "zerolinecolor": "white"
                      },
                      "yaxis": {
                        "backgroundcolor": "#E5ECF6",
                        "gridcolor": "white",
                        "gridwidth": 2,
                        "linecolor": "white",
                        "showbackground": true,
                        "ticks": "",
                        "zerolinecolor": "white"
                      },
                      "zaxis": {
                        "backgroundcolor": "#E5ECF6",
                        "gridcolor": "white",
                        "gridwidth": 2,
                        "linecolor": "white",
                        "showbackground": true,
                        "ticks": "",
                        "zerolinecolor": "white"
                      }
                    },
                    "shapedefaults": {
                      "line": {
                        "color": "#2a3f5f"
                      }
                    },
                    "ternary": {
                      "aaxis": {
                        "gridcolor": "white",
                        "linecolor": "white",
                        "ticks": ""
                      },
                      "baxis": {
                        "gridcolor": "white",
                        "linecolor": "white",
                        "ticks": ""
                      },
                      "bgcolor": "#E5ECF6",
                      "caxis": {
                        "gridcolor": "white",
                        "linecolor": "white",
                        "ticks": ""
                      }
                    },
                    "title": {
                      "x": 0.05
                    },
                    "xaxis": {
                      "automargin": true,
                      "gridcolor": "white",
                      "linecolor": "white",
                      "ticks": "",
                      "title": {
                        "standoff": 15
                      },
                      "zerolinecolor": "white",
                      "zerolinewidth": 2
                    },
                    "yaxis": {
                      "automargin": true,
                      "gridcolor": "white",
                      "linecolor": "white",
                      "ticks": "",
                      "title": {
                        "standoff": 15
                      },
                      "zerolinecolor": "white",
                      "zerolinewidth": 2
                    }
                  }
                },
                "title": {
                  "text": "bmi (#3 in FI)",
                  "x": 0.5,
                  "xanchor": "center"
                },
                "width": 700,
                "xaxis": {
                  "anchor": "y",
                  "domain": [
                    0,
                    1
                  ],
                  "dtick": 0.05,
                  "fixedrange": true,
                  "gridcolor": "black",
                  "linecolor": "black",
                  "range": [
                    0,
                    0.4
                  ],
                  "showgrid": false
                },
                "xaxis2": {
                  "anchor": "y2",
                  "domain": [
                    0,
                    1
                  ],
                  "fixedrange": false,
                  "range": [
                    16.7,
                    45.5
                  ],
                  "title": {
                    "text": "bmi"
                  }
                },
                "yaxis": {
                  "anchor": "x",
                  "color": "black",
                  "domain": [
                    0.9200000000000002,
                    1
                  ],
                  "fixedrange": true,
                  "showgrid": false,
                  "showline": false,
                  "showticklabels": false,
                  "zeroline": false
                },
                "yaxis2": {
                  "anchor": "x2",
                  "domain": [
                    0,
                    0.7200000000000001
                  ],
                  "fixedrange": true,
                  "title": {
                    "text": "Probability Density"
                  }
                }
              }
            }
          },
          "metadata": {},
          "output_type": "display_data"
        },
        {
          "data": {
            "text/html": []
          },
          "metadata": {},
          "output_type": "display_data"
        },
        {
          "data": {
            "application/vnd.plotly.v1+json": {
              "config": {
                "plotlyServerURL": "https://plot.ly"
              },
              "data": [
                {
                  "base": 0,
                  "marker": {
                    "color": "#01B8AA"
                  },
                  "offsetgroup": "0",
                  "orientation": "h",
                  "showlegend": false,
                  "type": "bar",
                  "x": [
                    0.006560210055659959
                  ],
                  "xaxis": "x",
                  "y": [
                    "Drift Score"
                  ],
                  "yaxis": "y"
                },
                {
                  "fill": "tozeroy",
                  "line": {
                    "color": "#00008b"
                  },
                  "name": "Train Dataset",
                  "type": "scatter",
                  "x": [
                    0.08,
                    1.7518367346938777,
                    1.88,
                    2,
                    3.0800000000000125,
                    3.4236734693877553,
                    4,
                    5,
                    5.0955102040816325,
                    6.7673469387755105,
                    7,
                    8,
                    8.439183673469389,
                    10,
                    10.111020408163265,
                    11,
                    11.782857142857143,
                    12,
                    13,
                    13.454693877551021,
                    14,
                    15,
                    15,
                    15.126530612244899,
                    16.798367346938775,
                    17,
                    17,
                    18.47020408163265,
                    19,
                    19,
                    20.142040816326528,
                    21,
                    21,
                    21.813877551020408,
                    23,
                    23,
                    23.485714285714284,
                    24,
                    25,
                    25.157551020408164,
                    26,
                    26,
                    26.82938775510204,
                    28,
                    28,
                    28.501224489795916,
                    30,
                    30,
                    30.173061224489796,
                    31,
                    31.844897959183672,
                    32,
                    32,
                    33.51673469387755,
                    34,
                    34,
                    35.18857142857143,
                    36,
                    36,
                    36.860408163265305,
                    37,
                    38,
                    38,
                    38.53224489795918,
                    39,
                    39,
                    40,
                    40.20408163265306,
                    41,
                    41.87591836734694,
                    42,
                    42,
                    43,
                    43,
                    43.54775510204082,
                    45,
                    45,
                    45.21959183673469,
                    46,
                    46,
                    46.89142857142857,
                    47,
                    47,
                    48.563265306122446,
                    49,
                    49,
                    50,
                    50.23510204081633,
                    51,
                    51,
                    51.906938775510206,
                    52,
                    52,
                    53,
                    53,
                    53.57877551020408,
                    55,
                    55,
                    55.25061224489796,
                    56,
                    56,
                    56.922448979591834,
                    57,
                    57,
                    58,
                    58,
                    58.59428571428572,
                    59,
                    60,
                    60.266122448979594,
                    61,
                    61,
                    61.93795918367347,
                    62,
                    62,
                    63,
                    63.60979591836735,
                    64,
                    64,
                    65.28163265306122,
                    66,
                    66,
                    66.9534693877551,
                    68,
                    68,
                    68.62530612244898,
                    70,
                    70,
                    70.29714285714286,
                    71.96897959183674,
                    72,
                    72,
                    73.64081632653061,
                    74,
                    75,
                    75.3126530612245,
                    76,
                    76.98448979591836,
                    77,
                    78,
                    78,
                    78.65632653061225,
                    79,
                    79,
                    80.32816326530612,
                    81,
                    81,
                    82
                  ],
                  "xaxis": "x2",
                  "y": [
                    0.00491763723232106,
                    0.005918323835298423,
                    0.005989927548748051,
                    0.006056165802320173,
                    0.006614257683766977,
                    0.006776521615562579,
                    0.0070313336846941805,
                    0.007422729501609694,
                    0.007456879519919548,
                    0.00797582031069643,
                    0.00803800100184736,
                    0.00828551325874861,
                    0.008386568244483325,
                    0.00872791667927902,
                    0.008751836434100256,
                    0.00894465284229922,
                    0.009118093956564738,
                    0.009166974016449742,
                    0.009396292640088316,
                    0.009502432968172955,
                    0.009630594830572877,
                    0.009865502521159548,
                    0.009865502521159548,
                    0.0098949954717161,
                    0.010272103983968026,
                    0.010315384209297474,
                    0.010315384209297474,
                    0.010611659385093012,
                    0.010709392117006666,
                    0.010709392117006666,
                    0.010903631832037833,
                    0.011035971354904877,
                    0.011035971354904877,
                    0.011152514373635064,
                    0.011310717585541223,
                    0.011310717585541223,
                    0.011372776015484632,
                    0.011437421919863909,
                    0.011561506545323898,
                    0.011580989055055236,
                    0.011685379248535802,
                    0.011685379248535802,
                    0.011788987195182583,
                    0.01193716950354011,
                    0.01193716950354011,
                    0.01200129426388273,
                    0.012195005654111277,
                    0.012195005654111277,
                    0.012217545172730696,
                    0.012325800172379267,
                    0.012437669401676586,
                    0.012458395760199277,
                    0.012458395760199277,
                    0.012665902508147002,
                    0.012734532112856684,
                    0.012734532112856684,
                    0.012910639054281409,
                    0.013038037966016915,
                    0.013038037966016915,
                    0.013180346006877137,
                    0.013204161453580983,
                    0.013380704328994188,
                    0.013380704328994188,
                    0.013478782980332631,
                    0.01356717862152372,
                    0.01356717862152372,
                    0.013762317544802675,
                    0.013803050174150386,
                    0.01396431752271379,
                    0.014145244047970499,
                    0.014171083942271382,
                    0.014171083942271382,
                    0.014380371836013579,
                    0.014380371836013579,
                    0.014495217652954556,
                    0.014796409683388124,
                    0.014796409683388124,
                    0.014841092995218998,
                    0.014996809962721333,
                    0.014996809962721333,
                    0.015166498994697334,
                    0.015186392972531416,
                    0.015186392972531416,
                    0.015446918847470419,
                    0.015508782957169544,
                    0.015508782957169544,
                    0.01562677191110657,
                    0.015649064231310062,
                    0.015705184055478716,
                    0.015705184055478716,
                    0.015735576258169463,
                    0.015736287221397305,
                    0.015736287221397305,
                    0.015713556591744633,
                    0.015713556591744633,
                    0.0156738954210292,
                    0.015490524794640222,
                    0.015490524794640222,
                    0.015445462877908859,
                    0.015288462393626405,
                    0.015288462393626405,
                    0.015051308547343998,
                    0.015029277797792001,
                    0.015029277797792001,
                    0.014718470052376996,
                    0.014718470052376996,
                    0.014512315826736398,
                    0.014363558485602295,
                    0.013973631195823694,
                    0.01386524320656858,
                    0.01355889946936704,
                    0.01355889946936704,
                    0.013157082795962343,
                    0.013130300463363068,
                    0.013130300463363068,
                    0.01269915340351199,
                    0.01243985780630954,
                    0.01227683851653643,
                    0.01227683851653643,
                    0.011766153679881352,
                    0.011502294182437737,
                    0.011502294182437737,
                    0.011183871310189433,
                    0.010882415663918048,
                    0.010882415663918048,
                    0.010728144745254978,
                    0.010456941839266676,
                    0.010456941839266676,
                    0.010409815904235708,
                    0.010203171291428201,
                    0.01020002089532163,
                    0.01020002089532163,
                    0.010039372830361267,
                    0.010000101330008806,
                    0.009865845324843943,
                    0.009813384804462618,
                    0.009674781468468022,
                    0.009408495603454381,
                    0.009403577797902313,
                    0.009034370557323626,
                    0.009034370557323626,
                    0.008733740396739973,
                    0.008557527205085461,
                    0.008557527205085461,
                    0.00776004146647881,
                    0.007293286099348738,
                    0.007293286099348738,
                    0.006537598611503998
                  ],
                  "yaxis": "y2"
                },
                {
                  "fill": "tozeroy",
                  "line": {
                    "color": "#69b3a2"
                  },
                  "name": "Test Dataset",
                  "type": "scatter",
                  "x": [
                    0.08,
                    1.7518367346938777,
                    1.88,
                    2,
                    3.0800000000000125,
                    3.4236734693877553,
                    4,
                    5,
                    5.0955102040816325,
                    6.7673469387755105,
                    7,
                    8,
                    8.439183673469389,
                    10,
                    10.111020408163265,
                    11,
                    11.782857142857143,
                    12,
                    13,
                    13.454693877551021,
                    14,
                    15,
                    15,
                    15.126530612244899,
                    16.798367346938775,
                    17,
                    17,
                    18.47020408163265,
                    19,
                    19,
                    20.142040816326528,
                    21,
                    21,
                    21.813877551020408,
                    23,
                    23,
                    23.485714285714284,
                    24,
                    25,
                    25.157551020408164,
                    26,
                    26,
                    26.82938775510204,
                    28,
                    28,
                    28.501224489795916,
                    30,
                    30,
                    30.173061224489796,
                    31,
                    31.844897959183672,
                    32,
                    32,
                    33.51673469387755,
                    34,
                    34,
                    35.18857142857143,
                    36,
                    36,
                    36.860408163265305,
                    37,
                    38,
                    38,
                    38.53224489795918,
                    39,
                    39,
                    40,
                    40.20408163265306,
                    41,
                    41.87591836734694,
                    42,
                    42,
                    43,
                    43,
                    43.54775510204082,
                    45,
                    45,
                    45.21959183673469,
                    46,
                    46,
                    46.89142857142857,
                    47,
                    47,
                    48.563265306122446,
                    49,
                    49,
                    50,
                    50.23510204081633,
                    51,
                    51,
                    51.906938775510206,
                    52,
                    52,
                    53,
                    53,
                    53.57877551020408,
                    55,
                    55,
                    55.25061224489796,
                    56,
                    56,
                    56.922448979591834,
                    57,
                    57,
                    58,
                    58,
                    58.59428571428572,
                    59,
                    60,
                    60.266122448979594,
                    61,
                    61,
                    61.93795918367347,
                    62,
                    62,
                    63,
                    63.60979591836735,
                    64,
                    64,
                    65.28163265306122,
                    66,
                    66,
                    66.9534693877551,
                    68,
                    68,
                    68.62530612244898,
                    70,
                    70,
                    70.29714285714286,
                    71.96897959183674,
                    72,
                    72,
                    73.64081632653061,
                    74,
                    75,
                    75.3126530612245,
                    76,
                    76.98448979591836,
                    77,
                    78,
                    78,
                    78.65632653061225,
                    79,
                    79,
                    80.32816326530612,
                    81,
                    81,
                    82
                  ],
                  "xaxis": "x2",
                  "y": [
                    0.00455085934813347,
                    0.005535572507709462,
                    0.00560845427668193,
                    0.005676253898140128,
                    0.006265106432553519,
                    0.00644370055384365,
                    0.006733047545525321,
                    0.007204590563465967,
                    0.00724762878811393,
                    0.0079481291838506,
                    0.008038184622040112,
                    0.00840655625930748,
                    0.008559183353142617,
                    0.009058243167120478,
                    0.009091154442565825,
                    0.009341833997095893,
                    0.009542889974871453,
                    0.00959524358306701,
                    0.00981644851661714,
                    0.009905983301278933,
                    0.010004176179082782,
                    0.010158723065489152,
                    0.010158723065489152,
                    0.010176006883780883,
                    0.010361817376644126,
                    0.01037953087779832,
                    0.01037953087779832,
                    0.010486689035882964,
                    0.01051847699601831,
                    0.01051847699601831,
                    0.010581367041942631,
                    0.010627854676278331,
                    0.010627854676278331,
                    0.010674578913798518,
                    0.010751762654574762,
                    0.010751762654574762,
                    0.010787593846821255,
                    0.010828762109310181,
                    0.01091977654445338,
                    0.01093558805844006,
                    0.011027826486381299,
                    0.011027826486381299,
                    0.011132726094655054,
                    0.01130835967685785,
                    0.01130835967685785,
                    0.011394508278644366,
                    0.011694259385445847,
                    0.011694259385445847,
                    0.011732965478097908,
                    0.011929022959338417,
                    0.012146461553709438,
                    0.012187981942884282,
                    0.012187981942884282,
                    0.012611392184857744,
                    0.01274941451140869,
                    0.01274941451140869,
                    0.013083320197456953,
                    0.013298964532611035,
                    0.013298964532611035,
                    0.013509487254484476,
                    0.013541509045093773,
                    0.01375098379429101,
                    0.01375098379429101,
                    0.013847261807291487,
                    0.013922828307502513,
                    0.013922828307502513,
                    0.014056489065291233,
                    0.014079314173668473,
                    0.014155330887211522,
                    0.014218491341837468,
                    0.014226022396987352,
                    0.014226022396987352,
                    0.014277534291984403,
                    0.014277534291984403,
                    0.014301233054532854,
                    0.014363071731533643,
                    0.014363071731533643,
                    0.014373533372604974,
                    0.014415519363393522,
                    0.014415519363393522,
                    0.014475239897810578,
                    0.014483498400735983,
                    0.014483498400735983,
                    0.014627440858536777,
                    0.014675588286339152,
                    0.014675588286339152,
                    0.014795985824406284,
                    0.014825811451512263,
                    0.014924754715127631,
                    0.014924754715127631,
                    0.015041117286989427,
                    0.015052706936119544,
                    0.015052706936119544,
                    0.015168970258369573,
                    0.015168970258369573,
                    0.015226366108549525,
                    0.015320297943822742,
                    0.015320297943822742,
                    0.01532826203418444,
                    0.015333852859927093,
                    0.015333852859927093,
                    0.015299487797951117,
                    0.015294382272359531,
                    0.015294382272359531,
                    0.015196190239328429,
                    0.015196190239328429,
                    0.015108759359091324,
                    0.01503652249388812,
                    0.014815795421441328,
                    0.014747157482253867,
                    0.014537651421540928,
                    0.014537651421540928,
                    0.014230543456787773,
                    0.014208835687117614,
                    0.014208835687117614,
                    0.013838879261043123,
                    0.013598049395474179,
                    0.013439572101000118,
                    0.013439572101000118,
                    0.012906258523515126,
                    0.012606712663277442,
                    0.012606712663277442,
                    0.01221889309675059,
                    0.011816991417554386,
                    0.011816991417554386,
                    0.011592913836549694,
                    0.01114984574188679,
                    0.01114984574188679,
                    0.011063272576863598,
                    0.010629692853145451,
                    0.010622352422949526,
                    0.010622352422949526,
                    0.010249918022705242,
                    0.010168208804140535,
                    0.009926669642384674,
                    0.0098444380532946,
                    0.00964750116060107,
                    0.00931594191223062,
                    0.00931017391997562,
                    0.008897836370551518,
                    0.008897836370551518,
                    0.008581032980669144,
                    0.008399939636754842,
                    0.008399939636754842,
                    0.007603777573210203,
                    0.0071476135461731915,
                    0.0071476135461731915,
                    0.006415924624798918
                  ],
                  "yaxis": "y2"
                }
              ],
              "layout": {
                "annotations": [
                  {
                    "font": {
                      "size": 16
                    },
                    "showarrow": false,
                    "text": "Drift Score (Earth Mover's Distance)",
                    "x": 0.5,
                    "xanchor": "center",
                    "xref": "paper",
                    "y": 1.0000000000000002,
                    "yanchor": "bottom",
                    "yref": "paper"
                  },
                  {
                    "font": {
                      "size": 16
                    },
                    "showarrow": false,
                    "text": "Distribution Plot",
                    "x": 0.5,
                    "xanchor": "center",
                    "xref": "paper",
                    "y": 0.7200000000000001,
                    "yanchor": "bottom",
                    "yref": "paper"
                  }
                ],
                "bargroupgap": 0,
                "height": 400,
                "legend": {
                  "title": {
                    "text": "Dataset"
                  },
                  "y": 0.6,
                  "yanchor": "top"
                },
                "template": {
                  "data": {
                    "bar": [
                      {
                        "error_x": {
                          "color": "#2a3f5f"
                        },
                        "error_y": {
                          "color": "#2a3f5f"
                        },
                        "marker": {
                          "line": {
                            "color": "#E5ECF6",
                            "width": 0.5
                          },
                          "pattern": {
                            "fillmode": "overlay",
                            "size": 10,
                            "solidity": 0.2
                          }
                        },
                        "type": "bar"
                      }
                    ],
                    "barpolar": [
                      {
                        "marker": {
                          "line": {
                            "color": "#E5ECF6",
                            "width": 0.5
                          },
                          "pattern": {
                            "fillmode": "overlay",
                            "size": 10,
                            "solidity": 0.2
                          }
                        },
                        "type": "barpolar"
                      }
                    ],
                    "carpet": [
                      {
                        "aaxis": {
                          "endlinecolor": "#2a3f5f",
                          "gridcolor": "white",
                          "linecolor": "white",
                          "minorgridcolor": "white",
                          "startlinecolor": "#2a3f5f"
                        },
                        "baxis": {
                          "endlinecolor": "#2a3f5f",
                          "gridcolor": "white",
                          "linecolor": "white",
                          "minorgridcolor": "white",
                          "startlinecolor": "#2a3f5f"
                        },
                        "type": "carpet"
                      }
                    ],
                    "choropleth": [
                      {
                        "colorbar": {
                          "outlinewidth": 0,
                          "ticks": ""
                        },
                        "type": "choropleth"
                      }
                    ],
                    "contour": [
                      {
                        "colorbar": {
                          "outlinewidth": 0,
                          "ticks": ""
                        },
                        "colorscale": [
                          [
                            0,
                            "#0d0887"
                          ],
                          [
                            0.1111111111111111,
                            "#46039f"
                          ],
                          [
                            0.2222222222222222,
                            "#7201a8"
                          ],
                          [
                            0.3333333333333333,
                            "#9c179e"
                          ],
                          [
                            0.4444444444444444,
                            "#bd3786"
                          ],
                          [
                            0.5555555555555556,
                            "#d8576b"
                          ],
                          [
                            0.6666666666666666,
                            "#ed7953"
                          ],
                          [
                            0.7777777777777778,
                            "#fb9f3a"
                          ],
                          [
                            0.8888888888888888,
                            "#fdca26"
                          ],
                          [
                            1,
                            "#f0f921"
                          ]
                        ],
                        "type": "contour"
                      }
                    ],
                    "contourcarpet": [
                      {
                        "colorbar": {
                          "outlinewidth": 0,
                          "ticks": ""
                        },
                        "type": "contourcarpet"
                      }
                    ],
                    "heatmap": [
                      {
                        "colorbar": {
                          "outlinewidth": 0,
                          "ticks": ""
                        },
                        "colorscale": [
                          [
                            0,
                            "#0d0887"
                          ],
                          [
                            0.1111111111111111,
                            "#46039f"
                          ],
                          [
                            0.2222222222222222,
                            "#7201a8"
                          ],
                          [
                            0.3333333333333333,
                            "#9c179e"
                          ],
                          [
                            0.4444444444444444,
                            "#bd3786"
                          ],
                          [
                            0.5555555555555556,
                            "#d8576b"
                          ],
                          [
                            0.6666666666666666,
                            "#ed7953"
                          ],
                          [
                            0.7777777777777778,
                            "#fb9f3a"
                          ],
                          [
                            0.8888888888888888,
                            "#fdca26"
                          ],
                          [
                            1,
                            "#f0f921"
                          ]
                        ],
                        "type": "heatmap"
                      }
                    ],
                    "heatmapgl": [
                      {
                        "colorbar": {
                          "outlinewidth": 0,
                          "ticks": ""
                        },
                        "colorscale": [
                          [
                            0,
                            "#0d0887"
                          ],
                          [
                            0.1111111111111111,
                            "#46039f"
                          ],
                          [
                            0.2222222222222222,
                            "#7201a8"
                          ],
                          [
                            0.3333333333333333,
                            "#9c179e"
                          ],
                          [
                            0.4444444444444444,
                            "#bd3786"
                          ],
                          [
                            0.5555555555555556,
                            "#d8576b"
                          ],
                          [
                            0.6666666666666666,
                            "#ed7953"
                          ],
                          [
                            0.7777777777777778,
                            "#fb9f3a"
                          ],
                          [
                            0.8888888888888888,
                            "#fdca26"
                          ],
                          [
                            1,
                            "#f0f921"
                          ]
                        ],
                        "type": "heatmapgl"
                      }
                    ],
                    "histogram": [
                      {
                        "marker": {
                          "pattern": {
                            "fillmode": "overlay",
                            "size": 10,
                            "solidity": 0.2
                          }
                        },
                        "type": "histogram"
                      }
                    ],
                    "histogram2d": [
                      {
                        "colorbar": {
                          "outlinewidth": 0,
                          "ticks": ""
                        },
                        "colorscale": [
                          [
                            0,
                            "#0d0887"
                          ],
                          [
                            0.1111111111111111,
                            "#46039f"
                          ],
                          [
                            0.2222222222222222,
                            "#7201a8"
                          ],
                          [
                            0.3333333333333333,
                            "#9c179e"
                          ],
                          [
                            0.4444444444444444,
                            "#bd3786"
                          ],
                          [
                            0.5555555555555556,
                            "#d8576b"
                          ],
                          [
                            0.6666666666666666,
                            "#ed7953"
                          ],
                          [
                            0.7777777777777778,
                            "#fb9f3a"
                          ],
                          [
                            0.8888888888888888,
                            "#fdca26"
                          ],
                          [
                            1,
                            "#f0f921"
                          ]
                        ],
                        "type": "histogram2d"
                      }
                    ],
                    "histogram2dcontour": [
                      {
                        "colorbar": {
                          "outlinewidth": 0,
                          "ticks": ""
                        },
                        "colorscale": [
                          [
                            0,
                            "#0d0887"
                          ],
                          [
                            0.1111111111111111,
                            "#46039f"
                          ],
                          [
                            0.2222222222222222,
                            "#7201a8"
                          ],
                          [
                            0.3333333333333333,
                            "#9c179e"
                          ],
                          [
                            0.4444444444444444,
                            "#bd3786"
                          ],
                          [
                            0.5555555555555556,
                            "#d8576b"
                          ],
                          [
                            0.6666666666666666,
                            "#ed7953"
                          ],
                          [
                            0.7777777777777778,
                            "#fb9f3a"
                          ],
                          [
                            0.8888888888888888,
                            "#fdca26"
                          ],
                          [
                            1,
                            "#f0f921"
                          ]
                        ],
                        "type": "histogram2dcontour"
                      }
                    ],
                    "mesh3d": [
                      {
                        "colorbar": {
                          "outlinewidth": 0,
                          "ticks": ""
                        },
                        "type": "mesh3d"
                      }
                    ],
                    "parcoords": [
                      {
                        "line": {
                          "colorbar": {
                            "outlinewidth": 0,
                            "ticks": ""
                          }
                        },
                        "type": "parcoords"
                      }
                    ],
                    "pie": [
                      {
                        "automargin": true,
                        "type": "pie"
                      }
                    ],
                    "scatter": [
                      {
                        "marker": {
                          "colorbar": {
                            "outlinewidth": 0,
                            "ticks": ""
                          }
                        },
                        "type": "scatter"
                      }
                    ],
                    "scatter3d": [
                      {
                        "line": {
                          "colorbar": {
                            "outlinewidth": 0,
                            "ticks": ""
                          }
                        },
                        "marker": {
                          "colorbar": {
                            "outlinewidth": 0,
                            "ticks": ""
                          }
                        },
                        "type": "scatter3d"
                      }
                    ],
                    "scattercarpet": [
                      {
                        "marker": {
                          "colorbar": {
                            "outlinewidth": 0,
                            "ticks": ""
                          }
                        },
                        "type": "scattercarpet"
                      }
                    ],
                    "scattergeo": [
                      {
                        "marker": {
                          "colorbar": {
                            "outlinewidth": 0,
                            "ticks": ""
                          }
                        },
                        "type": "scattergeo"
                      }
                    ],
                    "scattergl": [
                      {
                        "marker": {
                          "colorbar": {
                            "outlinewidth": 0,
                            "ticks": ""
                          }
                        },
                        "type": "scattergl"
                      }
                    ],
                    "scattermapbox": [
                      {
                        "marker": {
                          "colorbar": {
                            "outlinewidth": 0,
                            "ticks": ""
                          }
                        },
                        "type": "scattermapbox"
                      }
                    ],
                    "scatterpolar": [
                      {
                        "marker": {
                          "colorbar": {
                            "outlinewidth": 0,
                            "ticks": ""
                          }
                        },
                        "type": "scatterpolar"
                      }
                    ],
                    "scatterpolargl": [
                      {
                        "marker": {
                          "colorbar": {
                            "outlinewidth": 0,
                            "ticks": ""
                          }
                        },
                        "type": "scatterpolargl"
                      }
                    ],
                    "scatterternary": [
                      {
                        "marker": {
                          "colorbar": {
                            "outlinewidth": 0,
                            "ticks": ""
                          }
                        },
                        "type": "scatterternary"
                      }
                    ],
                    "surface": [
                      {
                        "colorbar": {
                          "outlinewidth": 0,
                          "ticks": ""
                        },
                        "colorscale": [
                          [
                            0,
                            "#0d0887"
                          ],
                          [
                            0.1111111111111111,
                            "#46039f"
                          ],
                          [
                            0.2222222222222222,
                            "#7201a8"
                          ],
                          [
                            0.3333333333333333,
                            "#9c179e"
                          ],
                          [
                            0.4444444444444444,
                            "#bd3786"
                          ],
                          [
                            0.5555555555555556,
                            "#d8576b"
                          ],
                          [
                            0.6666666666666666,
                            "#ed7953"
                          ],
                          [
                            0.7777777777777778,
                            "#fb9f3a"
                          ],
                          [
                            0.8888888888888888,
                            "#fdca26"
                          ],
                          [
                            1,
                            "#f0f921"
                          ]
                        ],
                        "type": "surface"
                      }
                    ],
                    "table": [
                      {
                        "cells": {
                          "fill": {
                            "color": "#EBF0F8"
                          },
                          "line": {
                            "color": "white"
                          }
                        },
                        "header": {
                          "fill": {
                            "color": "#C8D4E3"
                          },
                          "line": {
                            "color": "white"
                          }
                        },
                        "type": "table"
                      }
                    ]
                  },
                  "layout": {
                    "annotationdefaults": {
                      "arrowcolor": "#2a3f5f",
                      "arrowhead": 0,
                      "arrowwidth": 1
                    },
                    "autotypenumbers": "strict",
                    "coloraxis": {
                      "colorbar": {
                        "outlinewidth": 0,
                        "ticks": ""
                      }
                    },
                    "colorscale": {
                      "diverging": [
                        [
                          0,
                          "#8e0152"
                        ],
                        [
                          0.1,
                          "#c51b7d"
                        ],
                        [
                          0.2,
                          "#de77ae"
                        ],
                        [
                          0.3,
                          "#f1b6da"
                        ],
                        [
                          0.4,
                          "#fde0ef"
                        ],
                        [
                          0.5,
                          "#f7f7f7"
                        ],
                        [
                          0.6,
                          "#e6f5d0"
                        ],
                        [
                          0.7,
                          "#b8e186"
                        ],
                        [
                          0.8,
                          "#7fbc41"
                        ],
                        [
                          0.9,
                          "#4d9221"
                        ],
                        [
                          1,
                          "#276419"
                        ]
                      ],
                      "sequential": [
                        [
                          0,
                          "#0d0887"
                        ],
                        [
                          0.1111111111111111,
                          "#46039f"
                        ],
                        [
                          0.2222222222222222,
                          "#7201a8"
                        ],
                        [
                          0.3333333333333333,
                          "#9c179e"
                        ],
                        [
                          0.4444444444444444,
                          "#bd3786"
                        ],
                        [
                          0.5555555555555556,
                          "#d8576b"
                        ],
                        [
                          0.6666666666666666,
                          "#ed7953"
                        ],
                        [
                          0.7777777777777778,
                          "#fb9f3a"
                        ],
                        [
                          0.8888888888888888,
                          "#fdca26"
                        ],
                        [
                          1,
                          "#f0f921"
                        ]
                      ],
                      "sequentialminus": [
                        [
                          0,
                          "#0d0887"
                        ],
                        [
                          0.1111111111111111,
                          "#46039f"
                        ],
                        [
                          0.2222222222222222,
                          "#7201a8"
                        ],
                        [
                          0.3333333333333333,
                          "#9c179e"
                        ],
                        [
                          0.4444444444444444,
                          "#bd3786"
                        ],
                        [
                          0.5555555555555556,
                          "#d8576b"
                        ],
                        [
                          0.6666666666666666,
                          "#ed7953"
                        ],
                        [
                          0.7777777777777778,
                          "#fb9f3a"
                        ],
                        [
                          0.8888888888888888,
                          "#fdca26"
                        ],
                        [
                          1,
                          "#f0f921"
                        ]
                      ]
                    },
                    "colorway": [
                      "#636efa",
                      "#EF553B",
                      "#00cc96",
                      "#ab63fa",
                      "#FFA15A",
                      "#19d3f3",
                      "#FF6692",
                      "#B6E880",
                      "#FF97FF",
                      "#FECB52"
                    ],
                    "font": {
                      "color": "#2a3f5f"
                    },
                    "geo": {
                      "bgcolor": "white",
                      "lakecolor": "white",
                      "landcolor": "#E5ECF6",
                      "showlakes": true,
                      "showland": true,
                      "subunitcolor": "white"
                    },
                    "hoverlabel": {
                      "align": "left"
                    },
                    "hovermode": "closest",
                    "mapbox": {
                      "style": "light"
                    },
                    "paper_bgcolor": "white",
                    "plot_bgcolor": "#E5ECF6",
                    "polar": {
                      "angularaxis": {
                        "gridcolor": "white",
                        "linecolor": "white",
                        "ticks": ""
                      },
                      "bgcolor": "#E5ECF6",
                      "radialaxis": {
                        "gridcolor": "white",
                        "linecolor": "white",
                        "ticks": ""
                      }
                    },
                    "scene": {
                      "xaxis": {
                        "backgroundcolor": "#E5ECF6",
                        "gridcolor": "white",
                        "gridwidth": 2,
                        "linecolor": "white",
                        "showbackground": true,
                        "ticks": "",
                        "zerolinecolor": "white"
                      },
                      "yaxis": {
                        "backgroundcolor": "#E5ECF6",
                        "gridcolor": "white",
                        "gridwidth": 2,
                        "linecolor": "white",
                        "showbackground": true,
                        "ticks": "",
                        "zerolinecolor": "white"
                      },
                      "zaxis": {
                        "backgroundcolor": "#E5ECF6",
                        "gridcolor": "white",
                        "gridwidth": 2,
                        "linecolor": "white",
                        "showbackground": true,
                        "ticks": "",
                        "zerolinecolor": "white"
                      }
                    },
                    "shapedefaults": {
                      "line": {
                        "color": "#2a3f5f"
                      }
                    },
                    "ternary": {
                      "aaxis": {
                        "gridcolor": "white",
                        "linecolor": "white",
                        "ticks": ""
                      },
                      "baxis": {
                        "gridcolor": "white",
                        "linecolor": "white",
                        "ticks": ""
                      },
                      "bgcolor": "#E5ECF6",
                      "caxis": {
                        "gridcolor": "white",
                        "linecolor": "white",
                        "ticks": ""
                      }
                    },
                    "title": {
                      "x": 0.05
                    },
                    "xaxis": {
                      "automargin": true,
                      "gridcolor": "white",
                      "linecolor": "white",
                      "ticks": "",
                      "title": {
                        "standoff": 15
                      },
                      "zerolinecolor": "white",
                      "zerolinewidth": 2
                    },
                    "yaxis": {
                      "automargin": true,
                      "gridcolor": "white",
                      "linecolor": "white",
                      "ticks": "",
                      "title": {
                        "standoff": 15
                      },
                      "zerolinecolor": "white",
                      "zerolinewidth": 2
                    }
                  }
                },
                "title": {
                  "text": "age (#4 in FI)",
                  "x": 0.5,
                  "xanchor": "center"
                },
                "width": 700,
                "xaxis": {
                  "anchor": "y",
                  "domain": [
                    0,
                    1
                  ],
                  "dtick": 0.05,
                  "fixedrange": true,
                  "gridcolor": "black",
                  "linecolor": "black",
                  "range": [
                    0,
                    0.4
                  ],
                  "showgrid": false
                },
                "xaxis2": {
                  "anchor": "y2",
                  "domain": [
                    0,
                    1
                  ],
                  "fixedrange": false,
                  "range": [
                    1.88,
                    81
                  ],
                  "title": {
                    "text": "age"
                  }
                },
                "yaxis": {
                  "anchor": "x",
                  "color": "black",
                  "domain": [
                    0.9200000000000002,
                    1
                  ],
                  "fixedrange": true,
                  "showgrid": false,
                  "showline": false,
                  "showticklabels": false,
                  "zeroline": false
                },
                "yaxis2": {
                  "anchor": "x2",
                  "domain": [
                    0,
                    0.7200000000000001
                  ],
                  "fixedrange": true,
                  "title": {
                    "text": "Probability Density"
                  }
                }
              }
            }
          },
          "metadata": {},
          "output_type": "display_data"
        },
        {
          "data": {
            "text/html": []
          },
          "metadata": {},
          "output_type": "display_data"
        },
        {
          "data": {
            "application/vnd.plotly.v1+json": {
              "config": {
                "plotlyServerURL": "https://plot.ly"
              },
              "data": [
                {
                  "base": 0,
                  "marker": {
                    "color": "#01B8AA"
                  },
                  "offsetgroup": "0",
                  "orientation": "h",
                  "showlegend": false,
                  "type": "bar",
                  "x": [
                    0.029687391523271486
                  ],
                  "xaxis": "x",
                  "y": [
                    "Drift Score"
                  ],
                  "yaxis": "y"
                },
                {
                  "marker": {
                    "color": "#00008b"
                  },
                  "name": "Train Dataset",
                  "type": "bar",
                  "x": [
                    0,
                    1,
                    2,
                    3
                  ],
                  "xaxis": "x2",
                  "y": [
                    0.3733000277546489,
                    0.170413544268665,
                    0.15320566194837634,
                    0.30308076602830974
                  ],
                  "yaxis": "y2"
                },
                {
                  "marker": {
                    "color": "#69b3a2"
                  },
                  "name": "Test Dataset",
                  "type": "bar",
                  "x": [
                    0,
                    1,
                    2,
                    3
                  ],
                  "xaxis": "x2",
                  "y": [
                    0.4001663893510815,
                    0.1772046589018303,
                    0.1480865224625624,
                    0.27454242928452577
                  ],
                  "yaxis": "y2"
                }
              ],
              "layout": {
                "annotations": [
                  {
                    "font": {
                      "size": 16
                    },
                    "showarrow": false,
                    "text": "Drift Score (Earth Mover's Distance)",
                    "x": 0.5,
                    "xanchor": "center",
                    "xref": "paper",
                    "y": 1.0000000000000002,
                    "yanchor": "bottom",
                    "yref": "paper"
                  },
                  {
                    "font": {
                      "size": 16
                    },
                    "showarrow": false,
                    "text": "Distribution Plot",
                    "x": 0.5,
                    "xanchor": "center",
                    "xref": "paper",
                    "y": 0.7200000000000001,
                    "yanchor": "bottom",
                    "yref": "paper"
                  }
                ],
                "bargroupgap": 0,
                "height": 400,
                "legend": {
                  "title": {
                    "text": "Dataset"
                  },
                  "y": 0.6,
                  "yanchor": "top"
                },
                "template": {
                  "data": {
                    "bar": [
                      {
                        "error_x": {
                          "color": "#2a3f5f"
                        },
                        "error_y": {
                          "color": "#2a3f5f"
                        },
                        "marker": {
                          "line": {
                            "color": "#E5ECF6",
                            "width": 0.5
                          },
                          "pattern": {
                            "fillmode": "overlay",
                            "size": 10,
                            "solidity": 0.2
                          }
                        },
                        "type": "bar"
                      }
                    ],
                    "barpolar": [
                      {
                        "marker": {
                          "line": {
                            "color": "#E5ECF6",
                            "width": 0.5
                          },
                          "pattern": {
                            "fillmode": "overlay",
                            "size": 10,
                            "solidity": 0.2
                          }
                        },
                        "type": "barpolar"
                      }
                    ],
                    "carpet": [
                      {
                        "aaxis": {
                          "endlinecolor": "#2a3f5f",
                          "gridcolor": "white",
                          "linecolor": "white",
                          "minorgridcolor": "white",
                          "startlinecolor": "#2a3f5f"
                        },
                        "baxis": {
                          "endlinecolor": "#2a3f5f",
                          "gridcolor": "white",
                          "linecolor": "white",
                          "minorgridcolor": "white",
                          "startlinecolor": "#2a3f5f"
                        },
                        "type": "carpet"
                      }
                    ],
                    "choropleth": [
                      {
                        "colorbar": {
                          "outlinewidth": 0,
                          "ticks": ""
                        },
                        "type": "choropleth"
                      }
                    ],
                    "contour": [
                      {
                        "colorbar": {
                          "outlinewidth": 0,
                          "ticks": ""
                        },
                        "colorscale": [
                          [
                            0,
                            "#0d0887"
                          ],
                          [
                            0.1111111111111111,
                            "#46039f"
                          ],
                          [
                            0.2222222222222222,
                            "#7201a8"
                          ],
                          [
                            0.3333333333333333,
                            "#9c179e"
                          ],
                          [
                            0.4444444444444444,
                            "#bd3786"
                          ],
                          [
                            0.5555555555555556,
                            "#d8576b"
                          ],
                          [
                            0.6666666666666666,
                            "#ed7953"
                          ],
                          [
                            0.7777777777777778,
                            "#fb9f3a"
                          ],
                          [
                            0.8888888888888888,
                            "#fdca26"
                          ],
                          [
                            1,
                            "#f0f921"
                          ]
                        ],
                        "type": "contour"
                      }
                    ],
                    "contourcarpet": [
                      {
                        "colorbar": {
                          "outlinewidth": 0,
                          "ticks": ""
                        },
                        "type": "contourcarpet"
                      }
                    ],
                    "heatmap": [
                      {
                        "colorbar": {
                          "outlinewidth": 0,
                          "ticks": ""
                        },
                        "colorscale": [
                          [
                            0,
                            "#0d0887"
                          ],
                          [
                            0.1111111111111111,
                            "#46039f"
                          ],
                          [
                            0.2222222222222222,
                            "#7201a8"
                          ],
                          [
                            0.3333333333333333,
                            "#9c179e"
                          ],
                          [
                            0.4444444444444444,
                            "#bd3786"
                          ],
                          [
                            0.5555555555555556,
                            "#d8576b"
                          ],
                          [
                            0.6666666666666666,
                            "#ed7953"
                          ],
                          [
                            0.7777777777777778,
                            "#fb9f3a"
                          ],
                          [
                            0.8888888888888888,
                            "#fdca26"
                          ],
                          [
                            1,
                            "#f0f921"
                          ]
                        ],
                        "type": "heatmap"
                      }
                    ],
                    "heatmapgl": [
                      {
                        "colorbar": {
                          "outlinewidth": 0,
                          "ticks": ""
                        },
                        "colorscale": [
                          [
                            0,
                            "#0d0887"
                          ],
                          [
                            0.1111111111111111,
                            "#46039f"
                          ],
                          [
                            0.2222222222222222,
                            "#7201a8"
                          ],
                          [
                            0.3333333333333333,
                            "#9c179e"
                          ],
                          [
                            0.4444444444444444,
                            "#bd3786"
                          ],
                          [
                            0.5555555555555556,
                            "#d8576b"
                          ],
                          [
                            0.6666666666666666,
                            "#ed7953"
                          ],
                          [
                            0.7777777777777778,
                            "#fb9f3a"
                          ],
                          [
                            0.8888888888888888,
                            "#fdca26"
                          ],
                          [
                            1,
                            "#f0f921"
                          ]
                        ],
                        "type": "heatmapgl"
                      }
                    ],
                    "histogram": [
                      {
                        "marker": {
                          "pattern": {
                            "fillmode": "overlay",
                            "size": 10,
                            "solidity": 0.2
                          }
                        },
                        "type": "histogram"
                      }
                    ],
                    "histogram2d": [
                      {
                        "colorbar": {
                          "outlinewidth": 0,
                          "ticks": ""
                        },
                        "colorscale": [
                          [
                            0,
                            "#0d0887"
                          ],
                          [
                            0.1111111111111111,
                            "#46039f"
                          ],
                          [
                            0.2222222222222222,
                            "#7201a8"
                          ],
                          [
                            0.3333333333333333,
                            "#9c179e"
                          ],
                          [
                            0.4444444444444444,
                            "#bd3786"
                          ],
                          [
                            0.5555555555555556,
                            "#d8576b"
                          ],
                          [
                            0.6666666666666666,
                            "#ed7953"
                          ],
                          [
                            0.7777777777777778,
                            "#fb9f3a"
                          ],
                          [
                            0.8888888888888888,
                            "#fdca26"
                          ],
                          [
                            1,
                            "#f0f921"
                          ]
                        ],
                        "type": "histogram2d"
                      }
                    ],
                    "histogram2dcontour": [
                      {
                        "colorbar": {
                          "outlinewidth": 0,
                          "ticks": ""
                        },
                        "colorscale": [
                          [
                            0,
                            "#0d0887"
                          ],
                          [
                            0.1111111111111111,
                            "#46039f"
                          ],
                          [
                            0.2222222222222222,
                            "#7201a8"
                          ],
                          [
                            0.3333333333333333,
                            "#9c179e"
                          ],
                          [
                            0.4444444444444444,
                            "#bd3786"
                          ],
                          [
                            0.5555555555555556,
                            "#d8576b"
                          ],
                          [
                            0.6666666666666666,
                            "#ed7953"
                          ],
                          [
                            0.7777777777777778,
                            "#fb9f3a"
                          ],
                          [
                            0.8888888888888888,
                            "#fdca26"
                          ],
                          [
                            1,
                            "#f0f921"
                          ]
                        ],
                        "type": "histogram2dcontour"
                      }
                    ],
                    "mesh3d": [
                      {
                        "colorbar": {
                          "outlinewidth": 0,
                          "ticks": ""
                        },
                        "type": "mesh3d"
                      }
                    ],
                    "parcoords": [
                      {
                        "line": {
                          "colorbar": {
                            "outlinewidth": 0,
                            "ticks": ""
                          }
                        },
                        "type": "parcoords"
                      }
                    ],
                    "pie": [
                      {
                        "automargin": true,
                        "type": "pie"
                      }
                    ],
                    "scatter": [
                      {
                        "marker": {
                          "colorbar": {
                            "outlinewidth": 0,
                            "ticks": ""
                          }
                        },
                        "type": "scatter"
                      }
                    ],
                    "scatter3d": [
                      {
                        "line": {
                          "colorbar": {
                            "outlinewidth": 0,
                            "ticks": ""
                          }
                        },
                        "marker": {
                          "colorbar": {
                            "outlinewidth": 0,
                            "ticks": ""
                          }
                        },
                        "type": "scatter3d"
                      }
                    ],
                    "scattercarpet": [
                      {
                        "marker": {
                          "colorbar": {
                            "outlinewidth": 0,
                            "ticks": ""
                          }
                        },
                        "type": "scattercarpet"
                      }
                    ],
                    "scattergeo": [
                      {
                        "marker": {
                          "colorbar": {
                            "outlinewidth": 0,
                            "ticks": ""
                          }
                        },
                        "type": "scattergeo"
                      }
                    ],
                    "scattergl": [
                      {
                        "marker": {
                          "colorbar": {
                            "outlinewidth": 0,
                            "ticks": ""
                          }
                        },
                        "type": "scattergl"
                      }
                    ],
                    "scattermapbox": [
                      {
                        "marker": {
                          "colorbar": {
                            "outlinewidth": 0,
                            "ticks": ""
                          }
                        },
                        "type": "scattermapbox"
                      }
                    ],
                    "scatterpolar": [
                      {
                        "marker": {
                          "colorbar": {
                            "outlinewidth": 0,
                            "ticks": ""
                          }
                        },
                        "type": "scatterpolar"
                      }
                    ],
                    "scatterpolargl": [
                      {
                        "marker": {
                          "colorbar": {
                            "outlinewidth": 0,
                            "ticks": ""
                          }
                        },
                        "type": "scatterpolargl"
                      }
                    ],
                    "scatterternary": [
                      {
                        "marker": {
                          "colorbar": {
                            "outlinewidth": 0,
                            "ticks": ""
                          }
                        },
                        "type": "scatterternary"
                      }
                    ],
                    "surface": [
                      {
                        "colorbar": {
                          "outlinewidth": 0,
                          "ticks": ""
                        },
                        "colorscale": [
                          [
                            0,
                            "#0d0887"
                          ],
                          [
                            0.1111111111111111,
                            "#46039f"
                          ],
                          [
                            0.2222222222222222,
                            "#7201a8"
                          ],
                          [
                            0.3333333333333333,
                            "#9c179e"
                          ],
                          [
                            0.4444444444444444,
                            "#bd3786"
                          ],
                          [
                            0.5555555555555556,
                            "#d8576b"
                          ],
                          [
                            0.6666666666666666,
                            "#ed7953"
                          ],
                          [
                            0.7777777777777778,
                            "#fb9f3a"
                          ],
                          [
                            0.8888888888888888,
                            "#fdca26"
                          ],
                          [
                            1,
                            "#f0f921"
                          ]
                        ],
                        "type": "surface"
                      }
                    ],
                    "table": [
                      {
                        "cells": {
                          "fill": {
                            "color": "#EBF0F8"
                          },
                          "line": {
                            "color": "white"
                          }
                        },
                        "header": {
                          "fill": {
                            "color": "#C8D4E3"
                          },
                          "line": {
                            "color": "white"
                          }
                        },
                        "type": "table"
                      }
                    ]
                  },
                  "layout": {
                    "annotationdefaults": {
                      "arrowcolor": "#2a3f5f",
                      "arrowhead": 0,
                      "arrowwidth": 1
                    },
                    "autotypenumbers": "strict",
                    "coloraxis": {
                      "colorbar": {
                        "outlinewidth": 0,
                        "ticks": ""
                      }
                    },
                    "colorscale": {
                      "diverging": [
                        [
                          0,
                          "#8e0152"
                        ],
                        [
                          0.1,
                          "#c51b7d"
                        ],
                        [
                          0.2,
                          "#de77ae"
                        ],
                        [
                          0.3,
                          "#f1b6da"
                        ],
                        [
                          0.4,
                          "#fde0ef"
                        ],
                        [
                          0.5,
                          "#f7f7f7"
                        ],
                        [
                          0.6,
                          "#e6f5d0"
                        ],
                        [
                          0.7,
                          "#b8e186"
                        ],
                        [
                          0.8,
                          "#7fbc41"
                        ],
                        [
                          0.9,
                          "#4d9221"
                        ],
                        [
                          1,
                          "#276419"
                        ]
                      ],
                      "sequential": [
                        [
                          0,
                          "#0d0887"
                        ],
                        [
                          0.1111111111111111,
                          "#46039f"
                        ],
                        [
                          0.2222222222222222,
                          "#7201a8"
                        ],
                        [
                          0.3333333333333333,
                          "#9c179e"
                        ],
                        [
                          0.4444444444444444,
                          "#bd3786"
                        ],
                        [
                          0.5555555555555556,
                          "#d8576b"
                        ],
                        [
                          0.6666666666666666,
                          "#ed7953"
                        ],
                        [
                          0.7777777777777778,
                          "#fb9f3a"
                        ],
                        [
                          0.8888888888888888,
                          "#fdca26"
                        ],
                        [
                          1,
                          "#f0f921"
                        ]
                      ],
                      "sequentialminus": [
                        [
                          0,
                          "#0d0887"
                        ],
                        [
                          0.1111111111111111,
                          "#46039f"
                        ],
                        [
                          0.2222222222222222,
                          "#7201a8"
                        ],
                        [
                          0.3333333333333333,
                          "#9c179e"
                        ],
                        [
                          0.4444444444444444,
                          "#bd3786"
                        ],
                        [
                          0.5555555555555556,
                          "#d8576b"
                        ],
                        [
                          0.6666666666666666,
                          "#ed7953"
                        ],
                        [
                          0.7777777777777778,
                          "#fb9f3a"
                        ],
                        [
                          0.8888888888888888,
                          "#fdca26"
                        ],
                        [
                          1,
                          "#f0f921"
                        ]
                      ]
                    },
                    "colorway": [
                      "#636efa",
                      "#EF553B",
                      "#00cc96",
                      "#ab63fa",
                      "#FFA15A",
                      "#19d3f3",
                      "#FF6692",
                      "#B6E880",
                      "#FF97FF",
                      "#FECB52"
                    ],
                    "font": {
                      "color": "#2a3f5f"
                    },
                    "geo": {
                      "bgcolor": "white",
                      "lakecolor": "white",
                      "landcolor": "#E5ECF6",
                      "showlakes": true,
                      "showland": true,
                      "subunitcolor": "white"
                    },
                    "hoverlabel": {
                      "align": "left"
                    },
                    "hovermode": "closest",
                    "mapbox": {
                      "style": "light"
                    },
                    "paper_bgcolor": "white",
                    "plot_bgcolor": "#E5ECF6",
                    "polar": {
                      "angularaxis": {
                        "gridcolor": "white",
                        "linecolor": "white",
                        "ticks": ""
                      },
                      "bgcolor": "#E5ECF6",
                      "radialaxis": {
                        "gridcolor": "white",
                        "linecolor": "white",
                        "ticks": ""
                      }
                    },
                    "scene": {
                      "xaxis": {
                        "backgroundcolor": "#E5ECF6",
                        "gridcolor": "white",
                        "gridwidth": 2,
                        "linecolor": "white",
                        "showbackground": true,
                        "ticks": "",
                        "zerolinecolor": "white"
                      },
                      "yaxis": {
                        "backgroundcolor": "#E5ECF6",
                        "gridcolor": "white",
                        "gridwidth": 2,
                        "linecolor": "white",
                        "showbackground": true,
                        "ticks": "",
                        "zerolinecolor": "white"
                      },
                      "zaxis": {
                        "backgroundcolor": "#E5ECF6",
                        "gridcolor": "white",
                        "gridwidth": 2,
                        "linecolor": "white",
                        "showbackground": true,
                        "ticks": "",
                        "zerolinecolor": "white"
                      }
                    },
                    "shapedefaults": {
                      "line": {
                        "color": "#2a3f5f"
                      }
                    },
                    "ternary": {
                      "aaxis": {
                        "gridcolor": "white",
                        "linecolor": "white",
                        "ticks": ""
                      },
                      "baxis": {
                        "gridcolor": "white",
                        "linecolor": "white",
                        "ticks": ""
                      },
                      "bgcolor": "#E5ECF6",
                      "caxis": {
                        "gridcolor": "white",
                        "linecolor": "white",
                        "ticks": ""
                      }
                    },
                    "title": {
                      "x": 0.05
                    },
                    "xaxis": {
                      "automargin": true,
                      "gridcolor": "white",
                      "linecolor": "white",
                      "ticks": "",
                      "title": {
                        "standoff": 15
                      },
                      "zerolinecolor": "white",
                      "zerolinewidth": 2
                    },
                    "yaxis": {
                      "automargin": true,
                      "gridcolor": "white",
                      "linecolor": "white",
                      "ticks": "",
                      "title": {
                        "standoff": 15
                      },
                      "zerolinecolor": "white",
                      "zerolinewidth": 2
                    }
                  }
                },
                "title": {
                  "text": "smoking_status (#5 in FI)",
                  "x": 0.5,
                  "xanchor": "center"
                },
                "width": 700,
                "xaxis": {
                  "anchor": "y",
                  "domain": [
                    0,
                    1
                  ],
                  "dtick": 0.05,
                  "fixedrange": true,
                  "gridcolor": "black",
                  "linecolor": "black",
                  "range": [
                    0,
                    0.4
                  ],
                  "showgrid": false
                },
                "xaxis2": {
                  "anchor": "y2",
                  "domain": [
                    0,
                    1
                  ],
                  "tickmode": "array",
                  "ticks": "outside",
                  "tickvals": [
                    0,
                    1,
                    2,
                    3
                  ]
                },
                "yaxis": {
                  "anchor": "x",
                  "color": "black",
                  "domain": [
                    0.9200000000000002,
                    1
                  ],
                  "fixedrange": true,
                  "showgrid": false,
                  "showline": false,
                  "showticklabels": false,
                  "zeroline": false
                },
                "yaxis2": {
                  "anchor": "x2",
                  "domain": [
                    0,
                    0.7200000000000001
                  ],
                  "fixedrange": true,
                  "range": [
                    0,
                    0.4401830282861897
                  ],
                  "title": {
                    "text": "Percentage"
                  }
                }
              }
            }
          },
          "metadata": {},
          "output_type": "display_data"
        },
        {
          "data": {
            "text/html": [
              "<br><a href=\"#summary_G5D4I\" style=\"font-size: 14px\">Go to top</a>"
            ]
          },
          "metadata": {},
          "output_type": "display_data"
        },
        {
          "data": {
            "text/html": [
              "<hr style=\"background-color: #eee;border: 0 none;color: #eee;height: 4px;\">"
            ]
          },
          "metadata": {},
          "output_type": "display_data"
        },
        {
          "data": {
            "text/html": [
              "<h4 id=\"TrainTestLabelDrift_G5D4I\">Train Test Label Drift</h4><p>    Calculate label drift between train dataset and test dataset, using statistical measures. <a href=\"https://docs.deepchecks.com/0.6.1/examples/tabular/checks/distribution/examples/plot_train_test_label_drift.html?utm_source=display_output&utm_medium=referral&utm_campaign=check_link\" target=\"_blank\">Read More...</a></p><h5>Conditions Summary</h5><style type=\"text/css\">\n",
              "#T_ae4fc table {\n",
              "  text-align: left;\n",
              "  white-space: pre-wrap;\n",
              "}\n",
              "#T_ae4fc thead {\n",
              "  text-align: left;\n",
              "  white-space: pre-wrap;\n",
              "}\n",
              "#T_ae4fc tbody {\n",
              "  text-align: left;\n",
              "  white-space: pre-wrap;\n",
              "}\n",
              "#T_ae4fc th {\n",
              "  text-align: left;\n",
              "  white-space: pre-wrap;\n",
              "}\n",
              "#T_ae4fc td {\n",
              "  text-align: left;\n",
              "  white-space: pre-wrap;\n",
              "}\n",
              "</style>\n",
              "<table id=\"T_ae4fc\">\n",
              "  <thead>\n",
              "    <tr>\n",
              "      <th id=\"T_ae4fc_level0_col0\" class=\"col_heading level0 col0\" >Status</th>\n",
              "      <th id=\"T_ae4fc_level0_col1\" class=\"col_heading level0 col1\" >Condition</th>\n",
              "      <th id=\"T_ae4fc_level0_col2\" class=\"col_heading level0 col2\" >More Info</th>\n",
              "    </tr>\n",
              "  </thead>\n",
              "  <tbody>\n",
              "    <tr>\n",
              "      <td id=\"T_ae4fc_row0_col0\" class=\"data row0 col0\" ><div style=\"color: green;text-align: center\">✓</div></td>\n",
              "      <td id=\"T_ae4fc_row0_col1\" class=\"data row0 col1\" >PSI <= 0.2 and Earth Mover's Distance <= 0.1 for label drift</td>\n",
              "      <td id=\"T_ae4fc_row0_col2\" class=\"data row0 col2\" ></td>\n",
              "    </tr>\n",
              "  </tbody>\n",
              "</table>\n",
              "<h5>Additional Outputs</h5><div><span>\n",
              "            The Drift score is a measure for the difference between two distributions, in this check - the test\n",
              "            and train distributions.<br> The check shows the drift score and distributions for the label.\n",
              "        </span></div>"
            ]
          },
          "metadata": {},
          "output_type": "display_data"
        },
        {
          "data": {
            "application/vnd.plotly.v1+json": {
              "config": {
                "plotlyServerURL": "https://plot.ly"
              },
              "data": [
                {
                  "base": 0,
                  "marker": {
                    "color": "#01B8AA"
                  },
                  "offsetgroup": "0",
                  "orientation": "h",
                  "showlegend": false,
                  "type": "bar",
                  "x": [
                    3.133624256830611e-8
                  ],
                  "xaxis": "x",
                  "y": [
                    "Drift Score"
                  ],
                  "yaxis": "y"
                },
                {
                  "marker": {
                    "color": "#00008b"
                  },
                  "name": "Train Dataset",
                  "type": "bar",
                  "x": [
                    0,
                    1
                  ],
                  "xaxis": "x2",
                  "y": [
                    0.9567027477102414,
                    0.04329725228975854
                  ],
                  "yaxis": "y2"
                },
                {
                  "marker": {
                    "color": "#69b3a2"
                  },
                  "name": "Test Dataset",
                  "type": "bar",
                  "x": [
                    0,
                    1
                  ],
                  "xaxis": "x2",
                  "y": [
                    0.956738768718802,
                    0.04326123128119801
                  ],
                  "yaxis": "y2"
                }
              ],
              "layout": {
                "annotations": [
                  {
                    "font": {
                      "size": 16
                    },
                    "showarrow": false,
                    "text": "Drift Score (PSI)",
                    "x": 0.5,
                    "xanchor": "center",
                    "xref": "paper",
                    "y": 1.0000000000000002,
                    "yanchor": "bottom",
                    "yref": "paper"
                  },
                  {
                    "font": {
                      "size": 16
                    },
                    "showarrow": false,
                    "text": "Distribution Plot",
                    "x": 0.5,
                    "xanchor": "center",
                    "xref": "paper",
                    "y": 0.7200000000000001,
                    "yanchor": "bottom",
                    "yref": "paper"
                  }
                ],
                "bargroupgap": 0,
                "height": 400,
                "legend": {
                  "title": {
                    "text": "Dataset"
                  },
                  "y": 0.6,
                  "yanchor": "top"
                },
                "template": {
                  "data": {
                    "bar": [
                      {
                        "error_x": {
                          "color": "#2a3f5f"
                        },
                        "error_y": {
                          "color": "#2a3f5f"
                        },
                        "marker": {
                          "line": {
                            "color": "#E5ECF6",
                            "width": 0.5
                          },
                          "pattern": {
                            "fillmode": "overlay",
                            "size": 10,
                            "solidity": 0.2
                          }
                        },
                        "type": "bar"
                      }
                    ],
                    "barpolar": [
                      {
                        "marker": {
                          "line": {
                            "color": "#E5ECF6",
                            "width": 0.5
                          },
                          "pattern": {
                            "fillmode": "overlay",
                            "size": 10,
                            "solidity": 0.2
                          }
                        },
                        "type": "barpolar"
                      }
                    ],
                    "carpet": [
                      {
                        "aaxis": {
                          "endlinecolor": "#2a3f5f",
                          "gridcolor": "white",
                          "linecolor": "white",
                          "minorgridcolor": "white",
                          "startlinecolor": "#2a3f5f"
                        },
                        "baxis": {
                          "endlinecolor": "#2a3f5f",
                          "gridcolor": "white",
                          "linecolor": "white",
                          "minorgridcolor": "white",
                          "startlinecolor": "#2a3f5f"
                        },
                        "type": "carpet"
                      }
                    ],
                    "choropleth": [
                      {
                        "colorbar": {
                          "outlinewidth": 0,
                          "ticks": ""
                        },
                        "type": "choropleth"
                      }
                    ],
                    "contour": [
                      {
                        "colorbar": {
                          "outlinewidth": 0,
                          "ticks": ""
                        },
                        "colorscale": [
                          [
                            0,
                            "#0d0887"
                          ],
                          [
                            0.1111111111111111,
                            "#46039f"
                          ],
                          [
                            0.2222222222222222,
                            "#7201a8"
                          ],
                          [
                            0.3333333333333333,
                            "#9c179e"
                          ],
                          [
                            0.4444444444444444,
                            "#bd3786"
                          ],
                          [
                            0.5555555555555556,
                            "#d8576b"
                          ],
                          [
                            0.6666666666666666,
                            "#ed7953"
                          ],
                          [
                            0.7777777777777778,
                            "#fb9f3a"
                          ],
                          [
                            0.8888888888888888,
                            "#fdca26"
                          ],
                          [
                            1,
                            "#f0f921"
                          ]
                        ],
                        "type": "contour"
                      }
                    ],
                    "contourcarpet": [
                      {
                        "colorbar": {
                          "outlinewidth": 0,
                          "ticks": ""
                        },
                        "type": "contourcarpet"
                      }
                    ],
                    "heatmap": [
                      {
                        "colorbar": {
                          "outlinewidth": 0,
                          "ticks": ""
                        },
                        "colorscale": [
                          [
                            0,
                            "#0d0887"
                          ],
                          [
                            0.1111111111111111,
                            "#46039f"
                          ],
                          [
                            0.2222222222222222,
                            "#7201a8"
                          ],
                          [
                            0.3333333333333333,
                            "#9c179e"
                          ],
                          [
                            0.4444444444444444,
                            "#bd3786"
                          ],
                          [
                            0.5555555555555556,
                            "#d8576b"
                          ],
                          [
                            0.6666666666666666,
                            "#ed7953"
                          ],
                          [
                            0.7777777777777778,
                            "#fb9f3a"
                          ],
                          [
                            0.8888888888888888,
                            "#fdca26"
                          ],
                          [
                            1,
                            "#f0f921"
                          ]
                        ],
                        "type": "heatmap"
                      }
                    ],
                    "heatmapgl": [
                      {
                        "colorbar": {
                          "outlinewidth": 0,
                          "ticks": ""
                        },
                        "colorscale": [
                          [
                            0,
                            "#0d0887"
                          ],
                          [
                            0.1111111111111111,
                            "#46039f"
                          ],
                          [
                            0.2222222222222222,
                            "#7201a8"
                          ],
                          [
                            0.3333333333333333,
                            "#9c179e"
                          ],
                          [
                            0.4444444444444444,
                            "#bd3786"
                          ],
                          [
                            0.5555555555555556,
                            "#d8576b"
                          ],
                          [
                            0.6666666666666666,
                            "#ed7953"
                          ],
                          [
                            0.7777777777777778,
                            "#fb9f3a"
                          ],
                          [
                            0.8888888888888888,
                            "#fdca26"
                          ],
                          [
                            1,
                            "#f0f921"
                          ]
                        ],
                        "type": "heatmapgl"
                      }
                    ],
                    "histogram": [
                      {
                        "marker": {
                          "pattern": {
                            "fillmode": "overlay",
                            "size": 10,
                            "solidity": 0.2
                          }
                        },
                        "type": "histogram"
                      }
                    ],
                    "histogram2d": [
                      {
                        "colorbar": {
                          "outlinewidth": 0,
                          "ticks": ""
                        },
                        "colorscale": [
                          [
                            0,
                            "#0d0887"
                          ],
                          [
                            0.1111111111111111,
                            "#46039f"
                          ],
                          [
                            0.2222222222222222,
                            "#7201a8"
                          ],
                          [
                            0.3333333333333333,
                            "#9c179e"
                          ],
                          [
                            0.4444444444444444,
                            "#bd3786"
                          ],
                          [
                            0.5555555555555556,
                            "#d8576b"
                          ],
                          [
                            0.6666666666666666,
                            "#ed7953"
                          ],
                          [
                            0.7777777777777778,
                            "#fb9f3a"
                          ],
                          [
                            0.8888888888888888,
                            "#fdca26"
                          ],
                          [
                            1,
                            "#f0f921"
                          ]
                        ],
                        "type": "histogram2d"
                      }
                    ],
                    "histogram2dcontour": [
                      {
                        "colorbar": {
                          "outlinewidth": 0,
                          "ticks": ""
                        },
                        "colorscale": [
                          [
                            0,
                            "#0d0887"
                          ],
                          [
                            0.1111111111111111,
                            "#46039f"
                          ],
                          [
                            0.2222222222222222,
                            "#7201a8"
                          ],
                          [
                            0.3333333333333333,
                            "#9c179e"
                          ],
                          [
                            0.4444444444444444,
                            "#bd3786"
                          ],
                          [
                            0.5555555555555556,
                            "#d8576b"
                          ],
                          [
                            0.6666666666666666,
                            "#ed7953"
                          ],
                          [
                            0.7777777777777778,
                            "#fb9f3a"
                          ],
                          [
                            0.8888888888888888,
                            "#fdca26"
                          ],
                          [
                            1,
                            "#f0f921"
                          ]
                        ],
                        "type": "histogram2dcontour"
                      }
                    ],
                    "mesh3d": [
                      {
                        "colorbar": {
                          "outlinewidth": 0,
                          "ticks": ""
                        },
                        "type": "mesh3d"
                      }
                    ],
                    "parcoords": [
                      {
                        "line": {
                          "colorbar": {
                            "outlinewidth": 0,
                            "ticks": ""
                          }
                        },
                        "type": "parcoords"
                      }
                    ],
                    "pie": [
                      {
                        "automargin": true,
                        "type": "pie"
                      }
                    ],
                    "scatter": [
                      {
                        "marker": {
                          "colorbar": {
                            "outlinewidth": 0,
                            "ticks": ""
                          }
                        },
                        "type": "scatter"
                      }
                    ],
                    "scatter3d": [
                      {
                        "line": {
                          "colorbar": {
                            "outlinewidth": 0,
                            "ticks": ""
                          }
                        },
                        "marker": {
                          "colorbar": {
                            "outlinewidth": 0,
                            "ticks": ""
                          }
                        },
                        "type": "scatter3d"
                      }
                    ],
                    "scattercarpet": [
                      {
                        "marker": {
                          "colorbar": {
                            "outlinewidth": 0,
                            "ticks": ""
                          }
                        },
                        "type": "scattercarpet"
                      }
                    ],
                    "scattergeo": [
                      {
                        "marker": {
                          "colorbar": {
                            "outlinewidth": 0,
                            "ticks": ""
                          }
                        },
                        "type": "scattergeo"
                      }
                    ],
                    "scattergl": [
                      {
                        "marker": {
                          "colorbar": {
                            "outlinewidth": 0,
                            "ticks": ""
                          }
                        },
                        "type": "scattergl"
                      }
                    ],
                    "scattermapbox": [
                      {
                        "marker": {
                          "colorbar": {
                            "outlinewidth": 0,
                            "ticks": ""
                          }
                        },
                        "type": "scattermapbox"
                      }
                    ],
                    "scatterpolar": [
                      {
                        "marker": {
                          "colorbar": {
                            "outlinewidth": 0,
                            "ticks": ""
                          }
                        },
                        "type": "scatterpolar"
                      }
                    ],
                    "scatterpolargl": [
                      {
                        "marker": {
                          "colorbar": {
                            "outlinewidth": 0,
                            "ticks": ""
                          }
                        },
                        "type": "scatterpolargl"
                      }
                    ],
                    "scatterternary": [
                      {
                        "marker": {
                          "colorbar": {
                            "outlinewidth": 0,
                            "ticks": ""
                          }
                        },
                        "type": "scatterternary"
                      }
                    ],
                    "surface": [
                      {
                        "colorbar": {
                          "outlinewidth": 0,
                          "ticks": ""
                        },
                        "colorscale": [
                          [
                            0,
                            "#0d0887"
                          ],
                          [
                            0.1111111111111111,
                            "#46039f"
                          ],
                          [
                            0.2222222222222222,
                            "#7201a8"
                          ],
                          [
                            0.3333333333333333,
                            "#9c179e"
                          ],
                          [
                            0.4444444444444444,
                            "#bd3786"
                          ],
                          [
                            0.5555555555555556,
                            "#d8576b"
                          ],
                          [
                            0.6666666666666666,
                            "#ed7953"
                          ],
                          [
                            0.7777777777777778,
                            "#fb9f3a"
                          ],
                          [
                            0.8888888888888888,
                            "#fdca26"
                          ],
                          [
                            1,
                            "#f0f921"
                          ]
                        ],
                        "type": "surface"
                      }
                    ],
                    "table": [
                      {
                        "cells": {
                          "fill": {
                            "color": "#EBF0F8"
                          },
                          "line": {
                            "color": "white"
                          }
                        },
                        "header": {
                          "fill": {
                            "color": "#C8D4E3"
                          },
                          "line": {
                            "color": "white"
                          }
                        },
                        "type": "table"
                      }
                    ]
                  },
                  "layout": {
                    "annotationdefaults": {
                      "arrowcolor": "#2a3f5f",
                      "arrowhead": 0,
                      "arrowwidth": 1
                    },
                    "autotypenumbers": "strict",
                    "coloraxis": {
                      "colorbar": {
                        "outlinewidth": 0,
                        "ticks": ""
                      }
                    },
                    "colorscale": {
                      "diverging": [
                        [
                          0,
                          "#8e0152"
                        ],
                        [
                          0.1,
                          "#c51b7d"
                        ],
                        [
                          0.2,
                          "#de77ae"
                        ],
                        [
                          0.3,
                          "#f1b6da"
                        ],
                        [
                          0.4,
                          "#fde0ef"
                        ],
                        [
                          0.5,
                          "#f7f7f7"
                        ],
                        [
                          0.6,
                          "#e6f5d0"
                        ],
                        [
                          0.7,
                          "#b8e186"
                        ],
                        [
                          0.8,
                          "#7fbc41"
                        ],
                        [
                          0.9,
                          "#4d9221"
                        ],
                        [
                          1,
                          "#276419"
                        ]
                      ],
                      "sequential": [
                        [
                          0,
                          "#0d0887"
                        ],
                        [
                          0.1111111111111111,
                          "#46039f"
                        ],
                        [
                          0.2222222222222222,
                          "#7201a8"
                        ],
                        [
                          0.3333333333333333,
                          "#9c179e"
                        ],
                        [
                          0.4444444444444444,
                          "#bd3786"
                        ],
                        [
                          0.5555555555555556,
                          "#d8576b"
                        ],
                        [
                          0.6666666666666666,
                          "#ed7953"
                        ],
                        [
                          0.7777777777777778,
                          "#fb9f3a"
                        ],
                        [
                          0.8888888888888888,
                          "#fdca26"
                        ],
                        [
                          1,
                          "#f0f921"
                        ]
                      ],
                      "sequentialminus": [
                        [
                          0,
                          "#0d0887"
                        ],
                        [
                          0.1111111111111111,
                          "#46039f"
                        ],
                        [
                          0.2222222222222222,
                          "#7201a8"
                        ],
                        [
                          0.3333333333333333,
                          "#9c179e"
                        ],
                        [
                          0.4444444444444444,
                          "#bd3786"
                        ],
                        [
                          0.5555555555555556,
                          "#d8576b"
                        ],
                        [
                          0.6666666666666666,
                          "#ed7953"
                        ],
                        [
                          0.7777777777777778,
                          "#fb9f3a"
                        ],
                        [
                          0.8888888888888888,
                          "#fdca26"
                        ],
                        [
                          1,
                          "#f0f921"
                        ]
                      ]
                    },
                    "colorway": [
                      "#636efa",
                      "#EF553B",
                      "#00cc96",
                      "#ab63fa",
                      "#FFA15A",
                      "#19d3f3",
                      "#FF6692",
                      "#B6E880",
                      "#FF97FF",
                      "#FECB52"
                    ],
                    "font": {
                      "color": "#2a3f5f"
                    },
                    "geo": {
                      "bgcolor": "white",
                      "lakecolor": "white",
                      "landcolor": "#E5ECF6",
                      "showlakes": true,
                      "showland": true,
                      "subunitcolor": "white"
                    },
                    "hoverlabel": {
                      "align": "left"
                    },
                    "hovermode": "closest",
                    "mapbox": {
                      "style": "light"
                    },
                    "paper_bgcolor": "white",
                    "plot_bgcolor": "#E5ECF6",
                    "polar": {
                      "angularaxis": {
                        "gridcolor": "white",
                        "linecolor": "white",
                        "ticks": ""
                      },
                      "bgcolor": "#E5ECF6",
                      "radialaxis": {
                        "gridcolor": "white",
                        "linecolor": "white",
                        "ticks": ""
                      }
                    },
                    "scene": {
                      "xaxis": {
                        "backgroundcolor": "#E5ECF6",
                        "gridcolor": "white",
                        "gridwidth": 2,
                        "linecolor": "white",
                        "showbackground": true,
                        "ticks": "",
                        "zerolinecolor": "white"
                      },
                      "yaxis": {
                        "backgroundcolor": "#E5ECF6",
                        "gridcolor": "white",
                        "gridwidth": 2,
                        "linecolor": "white",
                        "showbackground": true,
                        "ticks": "",
                        "zerolinecolor": "white"
                      },
                      "zaxis": {
                        "backgroundcolor": "#E5ECF6",
                        "gridcolor": "white",
                        "gridwidth": 2,
                        "linecolor": "white",
                        "showbackground": true,
                        "ticks": "",
                        "zerolinecolor": "white"
                      }
                    },
                    "shapedefaults": {
                      "line": {
                        "color": "#2a3f5f"
                      }
                    },
                    "ternary": {
                      "aaxis": {
                        "gridcolor": "white",
                        "linecolor": "white",
                        "ticks": ""
                      },
                      "baxis": {
                        "gridcolor": "white",
                        "linecolor": "white",
                        "ticks": ""
                      },
                      "bgcolor": "#E5ECF6",
                      "caxis": {
                        "gridcolor": "white",
                        "linecolor": "white",
                        "ticks": ""
                      }
                    },
                    "title": {
                      "x": 0.05
                    },
                    "xaxis": {
                      "automargin": true,
                      "gridcolor": "white",
                      "linecolor": "white",
                      "ticks": "",
                      "title": {
                        "standoff": 15
                      },
                      "zerolinecolor": "white",
                      "zerolinewidth": 2
                    },
                    "yaxis": {
                      "automargin": true,
                      "gridcolor": "white",
                      "linecolor": "white",
                      "ticks": "",
                      "title": {
                        "standoff": 15
                      },
                      "zerolinecolor": "white",
                      "zerolinewidth": 2
                    }
                  }
                },
                "title": {
                  "text": "stroke",
                  "x": 0.5,
                  "xanchor": "center"
                },
                "width": 700,
                "xaxis": {
                  "anchor": "y",
                  "domain": [
                    0,
                    1
                  ],
                  "dtick": 0.05,
                  "fixedrange": true,
                  "gridcolor": "black",
                  "linecolor": "black",
                  "range": [
                    0,
                    0.4
                  ],
                  "showgrid": false
                },
                "xaxis2": {
                  "anchor": "y2",
                  "domain": [
                    0,
                    1
                  ],
                  "type": "category"
                },
                "yaxis": {
                  "anchor": "x",
                  "color": "black",
                  "domain": [
                    0.9200000000000002,
                    1
                  ],
                  "fixedrange": true,
                  "showgrid": false,
                  "showline": false,
                  "showticklabels": false,
                  "zeroline": false
                },
                "yaxis2": {
                  "anchor": "x2",
                  "domain": [
                    0,
                    0.7200000000000001
                  ],
                  "fixedrange": true,
                  "range": [
                    0,
                    1
                  ],
                  "title": {
                    "text": "Percentage"
                  }
                }
              }
            }
          },
          "metadata": {},
          "output_type": "display_data"
        },
        {
          "data": {
            "text/html": [
              "<br><a href=\"#summary_G5D4I\" style=\"font-size: 14px\">Go to top</a>"
            ]
          },
          "metadata": {},
          "output_type": "display_data"
        },
        {
          "data": {
            "text/html": [
              "<hr style=\"background-color: #eee;border: 0 none;color: #eee;height: 4px;\">"
            ]
          },
          "metadata": {},
          "output_type": "display_data"
        },
        {
          "data": {
            "text/html": [
              "<h4 id=\"DatasetsSizeComparison_G5D4I\">Datasets Size Comparison</h4><p>Verify test dataset size comparing it to the train dataset size. <a href=\"https://docs.deepchecks.com/0.6.1/examples/tabular/checks/methodology/examples/plot_datasets_size_comparison.html?utm_source=display_output&utm_medium=referral&utm_campaign=check_link\" target=\"_blank\">Read More...</a></p><h5>Conditions Summary</h5><style type=\"text/css\">\n",
              "#T_cf0fe table {\n",
              "  text-align: left;\n",
              "  white-space: pre-wrap;\n",
              "}\n",
              "#T_cf0fe thead {\n",
              "  text-align: left;\n",
              "  white-space: pre-wrap;\n",
              "}\n",
              "#T_cf0fe tbody {\n",
              "  text-align: left;\n",
              "  white-space: pre-wrap;\n",
              "}\n",
              "#T_cf0fe th {\n",
              "  text-align: left;\n",
              "  white-space: pre-wrap;\n",
              "}\n",
              "#T_cf0fe td {\n",
              "  text-align: left;\n",
              "  white-space: pre-wrap;\n",
              "}\n",
              "</style>\n",
              "<table id=\"T_cf0fe\">\n",
              "  <thead>\n",
              "    <tr>\n",
              "      <th id=\"T_cf0fe_level0_col0\" class=\"col_heading level0 col0\" >Status</th>\n",
              "      <th id=\"T_cf0fe_level0_col1\" class=\"col_heading level0 col1\" >Condition</th>\n",
              "      <th id=\"T_cf0fe_level0_col2\" class=\"col_heading level0 col2\" >More Info</th>\n",
              "    </tr>\n",
              "  </thead>\n",
              "  <tbody>\n",
              "    <tr>\n",
              "      <td id=\"T_cf0fe_row0_col0\" class=\"data row0 col0\" ><div style=\"color: green;text-align: center\">✓</div></td>\n",
              "      <td id=\"T_cf0fe_row0_col1\" class=\"data row0 col1\" >Test-Train size ratio is not smaller than 0.01</td>\n",
              "      <td id=\"T_cf0fe_row0_col2\" class=\"data row0 col2\" ></td>\n",
              "    </tr>\n",
              "  </tbody>\n",
              "</table>\n",
              "<h5>Additional Outputs</h5><style type=\"text/css\">\n",
              "#T_8b7ac table {\n",
              "  text-align: left;\n",
              "  white-space: pre-wrap;\n",
              "}\n",
              "#T_8b7ac thead {\n",
              "  text-align: left;\n",
              "  white-space: pre-wrap;\n",
              "}\n",
              "#T_8b7ac tbody {\n",
              "  text-align: left;\n",
              "  white-space: pre-wrap;\n",
              "}\n",
              "#T_8b7ac th {\n",
              "  text-align: left;\n",
              "  white-space: pre-wrap;\n",
              "}\n",
              "#T_8b7ac td {\n",
              "  text-align: left;\n",
              "  white-space: pre-wrap;\n",
              "}\n",
              "</style>\n",
              "<table id=\"T_8b7ac\">\n",
              "  <thead>\n",
              "    <tr>\n",
              "      <th class=\"blank level0\" >&nbsp;</th>\n",
              "      <th id=\"T_8b7ac_level0_col0\" class=\"col_heading level0 col0\" >Train</th>\n",
              "      <th id=\"T_8b7ac_level0_col1\" class=\"col_heading level0 col1\" >Test</th>\n",
              "    </tr>\n",
              "  </thead>\n",
              "  <tbody>\n",
              "    <tr>\n",
              "      <th id=\"T_8b7ac_level0_row0\" class=\"row_heading level0 row0\" >Size</th>\n",
              "      <td id=\"T_8b7ac_row0_col0\" class=\"data row0 col0\" >3603</td>\n",
              "      <td id=\"T_8b7ac_row0_col1\" class=\"data row0 col1\" >1202</td>\n",
              "    </tr>\n",
              "  </tbody>\n",
              "</table>\n",
              "<br><a href=\"#summary_G5D4I\" style=\"font-size: 14px\">Go to top</a>"
            ]
          },
          "metadata": {},
          "output_type": "display_data"
        },
        {
          "data": {
            "text/html": [
              "<hr style=\"background-color: black;border: 0 none;color: black;height: 1px;\"><h2>Check Without Conditions Output</h2>"
            ]
          },
          "metadata": {},
          "output_type": "display_data"
        },
        {
          "data": {
            "text/html": [
              "<h4 id=\"ModelInfo_G5D4I\">Model Info</h4><p>Summarize given model parameters. <a href=\"https://docs.deepchecks.com/0.6.1/examples/tabular/checks/overview/examples/plot_model_info.html?utm_source=display_output&utm_medium=referral&utm_campaign=check_link\" target=\"_blank\">Read More...</a></p><h5>Additional Outputs</h5><div>Model Type: SoftSplitDecisionTreeClassifier</div><style type=\"text/css\">\n",
              "#T_2cf10 table {\n",
              "  text-align: left;\n",
              "  white-space: pre-wrap;\n",
              "}\n",
              "#T_2cf10 thead {\n",
              "  text-align: left;\n",
              "  white-space: pre-wrap;\n",
              "}\n",
              "#T_2cf10 tbody {\n",
              "  text-align: left;\n",
              "  white-space: pre-wrap;\n",
              "}\n",
              "#T_2cf10 th {\n",
              "  text-align: left;\n",
              "  white-space: pre-wrap;\n",
              "}\n",
              "#T_2cf10 td {\n",
              "  text-align: left;\n",
              "  white-space: pre-wrap;\n",
              "}\n",
              "</style>\n",
              "<table id=\"T_2cf10\">\n",
              "  <thead>\n",
              "    <tr>\n",
              "      <th id=\"T_2cf10_level0_col0\" class=\"col_heading level0 col0\" >Parameter</th>\n",
              "      <th id=\"T_2cf10_level0_col1\" class=\"col_heading level0 col1\" >Value</th>\n",
              "      <th id=\"T_2cf10_level0_col2\" class=\"col_heading level0 col2\" >Default</th>\n",
              "    </tr>\n",
              "  </thead>\n",
              "  <tbody>\n",
              "    <tr>\n",
              "      <td id=\"T_2cf10_row0_col0\" class=\"data row0 col0\" >alphaProbability</td>\n",
              "      <td id=\"T_2cf10_row0_col1\" class=\"data row0 col1\" >0.10</td>\n",
              "      <td id=\"T_2cf10_row0_col2\" class=\"data row0 col2\" >0.10</td>\n",
              "    </tr>\n",
              "    <tr>\n",
              "      <td id=\"T_2cf10_row1_col0\" class=\"data row1 col0\" >ccp_alpha</td>\n",
              "      <td id=\"T_2cf10_row1_col1\" class=\"data row1 col1\" >0.00</td>\n",
              "      <td id=\"T_2cf10_row1_col2\" class=\"data row1 col2\" >0.00</td>\n",
              "    </tr>\n",
              "    <tr>\n",
              "      <td id=\"T_2cf10_row2_col0\" class=\"data row2 col0\" >class_weight</td>\n",
              "      <td id=\"T_2cf10_row2_col1\" class=\"data row2 col1\" >None</td>\n",
              "      <td id=\"T_2cf10_row2_col2\" class=\"data row2 col2\" >None</td>\n",
              "    </tr>\n",
              "    <tr>\n",
              "      <td id=\"T_2cf10_row3_col0\" class=\"data row3 col0\" >criterion</td>\n",
              "      <td id=\"T_2cf10_row3_col1\" class=\"data row3 col1\" >gini</td>\n",
              "      <td id=\"T_2cf10_row3_col2\" class=\"data row3 col2\" >gini</td>\n",
              "    </tr>\n",
              "    <tr>\n",
              "      <td id=\"T_2cf10_row4_col0\" class=\"data row4 col0\" >max_depth</td>\n",
              "      <td id=\"T_2cf10_row4_col1\" class=\"data row4 col1\" >None</td>\n",
              "      <td id=\"T_2cf10_row4_col2\" class=\"data row4 col2\" >None</td>\n",
              "    </tr>\n",
              "    <tr>\n",
              "      <td id=\"T_2cf10_row5_col0\" class=\"data row5 col0\" >max_features</td>\n",
              "      <td id=\"T_2cf10_row5_col1\" class=\"data row5 col1\" >None</td>\n",
              "      <td id=\"T_2cf10_row5_col2\" class=\"data row5 col2\" >None</td>\n",
              "    </tr>\n",
              "    <tr>\n",
              "      <td id=\"T_2cf10_row6_col0\" class=\"data row6 col0\" >max_leaf_nodes</td>\n",
              "      <td id=\"T_2cf10_row6_col1\" class=\"data row6 col1\" >None</td>\n",
              "      <td id=\"T_2cf10_row6_col2\" class=\"data row6 col2\" >None</td>\n",
              "    </tr>\n",
              "    <tr>\n",
              "      <td id=\"T_2cf10_row7_col0\" class=\"data row7 col0\" >min_impurity_decrease</td>\n",
              "      <td id=\"T_2cf10_row7_col1\" class=\"data row7 col1\" >0.00</td>\n",
              "      <td id=\"T_2cf10_row7_col2\" class=\"data row7 col2\" >0.00</td>\n",
              "    </tr>\n",
              "    <tr>\n",
              "      <td id=\"T_2cf10_row8_col0\" class=\"data row8 col0\" >min_samples_leaf</td>\n",
              "      <td id=\"T_2cf10_row8_col1\" class=\"data row8 col1\" >1</td>\n",
              "      <td id=\"T_2cf10_row8_col2\" class=\"data row8 col2\" >1</td>\n",
              "    </tr>\n",
              "    <tr>\n",
              "      <td id=\"T_2cf10_row9_col0\" class=\"data row9 col0\" >min_samples_split</td>\n",
              "      <td id=\"T_2cf10_row9_col1\" class=\"data row9 col1\" >2</td>\n",
              "      <td id=\"T_2cf10_row9_col2\" class=\"data row9 col2\" >2</td>\n",
              "    </tr>\n",
              "    <tr>\n",
              "      <td id=\"T_2cf10_row10_col0\" class=\"data row10 col0\" >min_weight_fraction_leaf</td>\n",
              "      <td id=\"T_2cf10_row10_col1\" class=\"data row10 col1\" >0.00</td>\n",
              "      <td id=\"T_2cf10_row10_col2\" class=\"data row10 col2\" >0.00</td>\n",
              "    </tr>\n",
              "    <tr>\n",
              "      <td id=\"T_2cf10_row11_col0\" class=\"data row11 col0\" >n</td>\n",
              "      <td id=\"T_2cf10_row11_col1\" class=\"data row11 col1\" >100</td>\n",
              "      <td id=\"T_2cf10_row11_col2\" class=\"data row11 col2\" >100</td>\n",
              "    </tr>\n",
              "    <tr>\n",
              "      <td id=\"T_2cf10_row12_col0\" class=\"data row12 col0\" >random_state</td>\n",
              "      <td id=\"T_2cf10_row12_col1\" class=\"data row12 col1\" >None</td>\n",
              "      <td id=\"T_2cf10_row12_col2\" class=\"data row12 col2\" >None</td>\n",
              "    </tr>\n",
              "    <tr>\n",
              "      <td id=\"T_2cf10_row13_col0\" class=\"data row13 col0\" >splitter</td>\n",
              "      <td id=\"T_2cf10_row13_col1\" class=\"data row13 col1\" >best</td>\n",
              "      <td id=\"T_2cf10_row13_col2\" class=\"data row13 col2\" >best</td>\n",
              "    </tr>\n",
              "  </tbody>\n",
              "</table>\n",
              "<div><p style=\"font-size:0.7em\"><i>Colored rows are parameters with non-default values</i></p></div><br><a href=\"#summary_G5D4I\" style=\"font-size: 14px\">Go to top</a>"
            ]
          },
          "metadata": {},
          "output_type": "display_data"
        },
        {
          "data": {
            "text/html": [
              "<hr style=\"background-color: #eee;border: 0 none;color: #eee;height: 4px;\">"
            ]
          },
          "metadata": {},
          "output_type": "display_data"
        },
        {
          "data": {
            "text/html": [
              "<h4 id=\"ColumnsInfo-TrainDataset_G5D4I\">Columns Info - Train Dataset</h4><p>Return the role and logical type of each column. <a href=\"https://docs.deepchecks.com/0.6.1/examples/tabular/checks/overview/examples/plot_columns_info.html?utm_source=display_output&utm_medium=referral&utm_campaign=check_link\" target=\"_blank\">Read More...</a></p><h5>Additional Outputs</h5><div>* showing only the top 10 columns, you can change it using n_top_columns param</div><style type=\"text/css\">\n",
              "#T_714de table {\n",
              "  text-align: left;\n",
              "  white-space: pre-wrap;\n",
              "}\n",
              "#T_714de thead {\n",
              "  text-align: left;\n",
              "  white-space: pre-wrap;\n",
              "}\n",
              "#T_714de tbody {\n",
              "  text-align: left;\n",
              "  white-space: pre-wrap;\n",
              "}\n",
              "#T_714de th {\n",
              "  text-align: left;\n",
              "  white-space: pre-wrap;\n",
              "}\n",
              "#T_714de td {\n",
              "  text-align: left;\n",
              "  white-space: pre-wrap;\n",
              "}\n",
              "</style>\n",
              "<table id=\"T_714de\">\n",
              "  <thead>\n",
              "    <tr>\n",
              "      <th class=\"blank level0\" >&nbsp;</th>\n",
              "      <th id=\"T_714de_level0_col0\" class=\"col_heading level0 col0\" >stroke</th>\n",
              "      <th id=\"T_714de_level0_col1\" class=\"col_heading level0 col1\" >avg_glucose_level</th>\n",
              "      <th id=\"T_714de_level0_col2\" class=\"col_heading level0 col2\" >id</th>\n",
              "      <th id=\"T_714de_level0_col3\" class=\"col_heading level0 col3\" >bmi</th>\n",
              "      <th id=\"T_714de_level0_col4\" class=\"col_heading level0 col4\" >age</th>\n",
              "      <th id=\"T_714de_level0_col5\" class=\"col_heading level0 col5\" >smoking_status</th>\n",
              "      <th id=\"T_714de_level0_col6\" class=\"col_heading level0 col6\" >hypertension</th>\n",
              "      <th id=\"T_714de_level0_col7\" class=\"col_heading level0 col7\" >work_type_Private</th>\n",
              "      <th id=\"T_714de_level0_col8\" class=\"col_heading level0 col8\" >heart_disease</th>\n",
              "      <th id=\"T_714de_level0_col9\" class=\"col_heading level0 col9\" >gender_Female</th>\n",
              "    </tr>\n",
              "  </thead>\n",
              "  <tbody>\n",
              "    <tr>\n",
              "      <th id=\"T_714de_level0_row0\" class=\"row_heading level0 row0\" >role</th>\n",
              "      <td id=\"T_714de_row0_col0\" class=\"data row0 col0\" >label</td>\n",
              "      <td id=\"T_714de_row0_col1\" class=\"data row0 col1\" >numerical feature</td>\n",
              "      <td id=\"T_714de_row0_col2\" class=\"data row0 col2\" >numerical feature</td>\n",
              "      <td id=\"T_714de_row0_col3\" class=\"data row0 col3\" >numerical feature</td>\n",
              "      <td id=\"T_714de_row0_col4\" class=\"data row0 col4\" >numerical feature</td>\n",
              "      <td id=\"T_714de_row0_col5\" class=\"data row0 col5\" >numerical feature</td>\n",
              "      <td id=\"T_714de_row0_col6\" class=\"data row0 col6\" >numerical feature</td>\n",
              "      <td id=\"T_714de_row0_col7\" class=\"data row0 col7\" >numerical feature</td>\n",
              "      <td id=\"T_714de_row0_col8\" class=\"data row0 col8\" >numerical feature</td>\n",
              "      <td id=\"T_714de_row0_col9\" class=\"data row0 col9\" >numerical feature</td>\n",
              "    </tr>\n",
              "  </tbody>\n",
              "</table>\n",
              "<br><a href=\"#summary_G5D4I\" style=\"font-size: 14px\">Go to top</a>"
            ]
          },
          "metadata": {},
          "output_type": "display_data"
        },
        {
          "data": {
            "text/html": [
              "<hr style=\"background-color: #eee;border: 0 none;color: #eee;height: 4px;\">"
            ]
          },
          "metadata": {},
          "output_type": "display_data"
        },
        {
          "data": {
            "text/html": [
              "<h4 id=\"ColumnsInfo-TestDataset_G5D4I\">Columns Info - Test Dataset</h4><p>Return the role and logical type of each column. <a href=\"https://docs.deepchecks.com/0.6.1/examples/tabular/checks/overview/examples/plot_columns_info.html?utm_source=display_output&utm_medium=referral&utm_campaign=check_link\" target=\"_blank\">Read More...</a></p><h5>Additional Outputs</h5><div>* showing only the top 10 columns, you can change it using n_top_columns param</div><style type=\"text/css\">\n",
              "#T_a08f4 table {\n",
              "  text-align: left;\n",
              "  white-space: pre-wrap;\n",
              "}\n",
              "#T_a08f4 thead {\n",
              "  text-align: left;\n",
              "  white-space: pre-wrap;\n",
              "}\n",
              "#T_a08f4 tbody {\n",
              "  text-align: left;\n",
              "  white-space: pre-wrap;\n",
              "}\n",
              "#T_a08f4 th {\n",
              "  text-align: left;\n",
              "  white-space: pre-wrap;\n",
              "}\n",
              "#T_a08f4 td {\n",
              "  text-align: left;\n",
              "  white-space: pre-wrap;\n",
              "}\n",
              "</style>\n",
              "<table id=\"T_a08f4\">\n",
              "  <thead>\n",
              "    <tr>\n",
              "      <th class=\"blank level0\" >&nbsp;</th>\n",
              "      <th id=\"T_a08f4_level0_col0\" class=\"col_heading level0 col0\" >stroke</th>\n",
              "      <th id=\"T_a08f4_level0_col1\" class=\"col_heading level0 col1\" >avg_glucose_level</th>\n",
              "      <th id=\"T_a08f4_level0_col2\" class=\"col_heading level0 col2\" >id</th>\n",
              "      <th id=\"T_a08f4_level0_col3\" class=\"col_heading level0 col3\" >bmi</th>\n",
              "      <th id=\"T_a08f4_level0_col4\" class=\"col_heading level0 col4\" >age</th>\n",
              "      <th id=\"T_a08f4_level0_col5\" class=\"col_heading level0 col5\" >smoking_status</th>\n",
              "      <th id=\"T_a08f4_level0_col6\" class=\"col_heading level0 col6\" >hypertension</th>\n",
              "      <th id=\"T_a08f4_level0_col7\" class=\"col_heading level0 col7\" >work_type_Private</th>\n",
              "      <th id=\"T_a08f4_level0_col8\" class=\"col_heading level0 col8\" >heart_disease</th>\n",
              "      <th id=\"T_a08f4_level0_col9\" class=\"col_heading level0 col9\" >gender_Female</th>\n",
              "    </tr>\n",
              "  </thead>\n",
              "  <tbody>\n",
              "    <tr>\n",
              "      <th id=\"T_a08f4_level0_row0\" class=\"row_heading level0 row0\" >role</th>\n",
              "      <td id=\"T_a08f4_row0_col0\" class=\"data row0 col0\" >label</td>\n",
              "      <td id=\"T_a08f4_row0_col1\" class=\"data row0 col1\" >numerical feature</td>\n",
              "      <td id=\"T_a08f4_row0_col2\" class=\"data row0 col2\" >numerical feature</td>\n",
              "      <td id=\"T_a08f4_row0_col3\" class=\"data row0 col3\" >numerical feature</td>\n",
              "      <td id=\"T_a08f4_row0_col4\" class=\"data row0 col4\" >numerical feature</td>\n",
              "      <td id=\"T_a08f4_row0_col5\" class=\"data row0 col5\" >numerical feature</td>\n",
              "      <td id=\"T_a08f4_row0_col6\" class=\"data row0 col6\" >numerical feature</td>\n",
              "      <td id=\"T_a08f4_row0_col7\" class=\"data row0 col7\" >numerical feature</td>\n",
              "      <td id=\"T_a08f4_row0_col8\" class=\"data row0 col8\" >numerical feature</td>\n",
              "      <td id=\"T_a08f4_row0_col9\" class=\"data row0 col9\" >numerical feature</td>\n",
              "    </tr>\n",
              "  </tbody>\n",
              "</table>\n",
              "<br><a href=\"#summary_G5D4I\" style=\"font-size: 14px\">Go to top</a>"
            ]
          },
          "metadata": {},
          "output_type": "display_data"
        },
        {
          "data": {
            "text/html": [
              "<hr style=\"background-color: #eee;border: 0 none;color: #eee;height: 4px;\">"
            ]
          },
          "metadata": {},
          "output_type": "display_data"
        },
        {
          "data": {
            "text/html": [
              "<h4 id=\"ConfusionMatrixReport-TrainDataset_G5D4I\">Confusion Matrix Report - Train Dataset</h4><p>Calculate the confusion matrix of the model on the given dataset. <a href=\"https://docs.deepchecks.com/0.6.1/examples/tabular/checks/performance/examples/plot_confusion_matrix_report.html?utm_source=display_output&utm_medium=referral&utm_campaign=check_link\" target=\"_blank\">Read More...</a></p><h5>Additional Outputs</h5>"
            ]
          },
          "metadata": {},
          "output_type": "display_data"
        },
        {
          "data": {
            "application/vnd.plotly.v1+json": {
              "config": {
                "plotlyServerURL": "https://plot.ly"
              },
              "data": [
                {
                  "coloraxis": "coloraxis",
                  "hovertemplate": "x: %{x}<br>y: %{y}<br>color: %{z}<extra></extra>",
                  "name": "0",
                  "texttemplate": "%{z}",
                  "type": "heatmap",
                  "x": [
                    0,
                    1
                  ],
                  "xaxis": "x",
                  "y": [
                    0,
                    1
                  ],
                  "yaxis": "y",
                  "z": [
                    [
                      3447,
                      0
                    ],
                    [
                      151,
                      5
                    ]
                  ]
                }
              ],
              "layout": {
                "coloraxis": {
                  "colorscale": [
                    [
                      0,
                      "#0d0887"
                    ],
                    [
                      0.1111111111111111,
                      "#46039f"
                    ],
                    [
                      0.2222222222222222,
                      "#7201a8"
                    ],
                    [
                      0.3333333333333333,
                      "#9c179e"
                    ],
                    [
                      0.4444444444444444,
                      "#bd3786"
                    ],
                    [
                      0.5555555555555556,
                      "#d8576b"
                    ],
                    [
                      0.6666666666666666,
                      "#ed7953"
                    ],
                    [
                      0.7777777777777778,
                      "#fb9f3a"
                    ],
                    [
                      0.8888888888888888,
                      "#fdca26"
                    ],
                    [
                      1,
                      "#f0f921"
                    ]
                  ]
                },
                "height": 600,
                "margin": {
                  "t": 60
                },
                "template": {
                  "data": {
                    "bar": [
                      {
                        "error_x": {
                          "color": "#2a3f5f"
                        },
                        "error_y": {
                          "color": "#2a3f5f"
                        },
                        "marker": {
                          "line": {
                            "color": "#E5ECF6",
                            "width": 0.5
                          },
                          "pattern": {
                            "fillmode": "overlay",
                            "size": 10,
                            "solidity": 0.2
                          }
                        },
                        "type": "bar"
                      }
                    ],
                    "barpolar": [
                      {
                        "marker": {
                          "line": {
                            "color": "#E5ECF6",
                            "width": 0.5
                          },
                          "pattern": {
                            "fillmode": "overlay",
                            "size": 10,
                            "solidity": 0.2
                          }
                        },
                        "type": "barpolar"
                      }
                    ],
                    "carpet": [
                      {
                        "aaxis": {
                          "endlinecolor": "#2a3f5f",
                          "gridcolor": "white",
                          "linecolor": "white",
                          "minorgridcolor": "white",
                          "startlinecolor": "#2a3f5f"
                        },
                        "baxis": {
                          "endlinecolor": "#2a3f5f",
                          "gridcolor": "white",
                          "linecolor": "white",
                          "minorgridcolor": "white",
                          "startlinecolor": "#2a3f5f"
                        },
                        "type": "carpet"
                      }
                    ],
                    "choropleth": [
                      {
                        "colorbar": {
                          "outlinewidth": 0,
                          "ticks": ""
                        },
                        "type": "choropleth"
                      }
                    ],
                    "contour": [
                      {
                        "colorbar": {
                          "outlinewidth": 0,
                          "ticks": ""
                        },
                        "colorscale": [
                          [
                            0,
                            "#0d0887"
                          ],
                          [
                            0.1111111111111111,
                            "#46039f"
                          ],
                          [
                            0.2222222222222222,
                            "#7201a8"
                          ],
                          [
                            0.3333333333333333,
                            "#9c179e"
                          ],
                          [
                            0.4444444444444444,
                            "#bd3786"
                          ],
                          [
                            0.5555555555555556,
                            "#d8576b"
                          ],
                          [
                            0.6666666666666666,
                            "#ed7953"
                          ],
                          [
                            0.7777777777777778,
                            "#fb9f3a"
                          ],
                          [
                            0.8888888888888888,
                            "#fdca26"
                          ],
                          [
                            1,
                            "#f0f921"
                          ]
                        ],
                        "type": "contour"
                      }
                    ],
                    "contourcarpet": [
                      {
                        "colorbar": {
                          "outlinewidth": 0,
                          "ticks": ""
                        },
                        "type": "contourcarpet"
                      }
                    ],
                    "heatmap": [
                      {
                        "colorbar": {
                          "outlinewidth": 0,
                          "ticks": ""
                        },
                        "colorscale": [
                          [
                            0,
                            "#0d0887"
                          ],
                          [
                            0.1111111111111111,
                            "#46039f"
                          ],
                          [
                            0.2222222222222222,
                            "#7201a8"
                          ],
                          [
                            0.3333333333333333,
                            "#9c179e"
                          ],
                          [
                            0.4444444444444444,
                            "#bd3786"
                          ],
                          [
                            0.5555555555555556,
                            "#d8576b"
                          ],
                          [
                            0.6666666666666666,
                            "#ed7953"
                          ],
                          [
                            0.7777777777777778,
                            "#fb9f3a"
                          ],
                          [
                            0.8888888888888888,
                            "#fdca26"
                          ],
                          [
                            1,
                            "#f0f921"
                          ]
                        ],
                        "type": "heatmap"
                      }
                    ],
                    "heatmapgl": [
                      {
                        "colorbar": {
                          "outlinewidth": 0,
                          "ticks": ""
                        },
                        "colorscale": [
                          [
                            0,
                            "#0d0887"
                          ],
                          [
                            0.1111111111111111,
                            "#46039f"
                          ],
                          [
                            0.2222222222222222,
                            "#7201a8"
                          ],
                          [
                            0.3333333333333333,
                            "#9c179e"
                          ],
                          [
                            0.4444444444444444,
                            "#bd3786"
                          ],
                          [
                            0.5555555555555556,
                            "#d8576b"
                          ],
                          [
                            0.6666666666666666,
                            "#ed7953"
                          ],
                          [
                            0.7777777777777778,
                            "#fb9f3a"
                          ],
                          [
                            0.8888888888888888,
                            "#fdca26"
                          ],
                          [
                            1,
                            "#f0f921"
                          ]
                        ],
                        "type": "heatmapgl"
                      }
                    ],
                    "histogram": [
                      {
                        "marker": {
                          "pattern": {
                            "fillmode": "overlay",
                            "size": 10,
                            "solidity": 0.2
                          }
                        },
                        "type": "histogram"
                      }
                    ],
                    "histogram2d": [
                      {
                        "colorbar": {
                          "outlinewidth": 0,
                          "ticks": ""
                        },
                        "colorscale": [
                          [
                            0,
                            "#0d0887"
                          ],
                          [
                            0.1111111111111111,
                            "#46039f"
                          ],
                          [
                            0.2222222222222222,
                            "#7201a8"
                          ],
                          [
                            0.3333333333333333,
                            "#9c179e"
                          ],
                          [
                            0.4444444444444444,
                            "#bd3786"
                          ],
                          [
                            0.5555555555555556,
                            "#d8576b"
                          ],
                          [
                            0.6666666666666666,
                            "#ed7953"
                          ],
                          [
                            0.7777777777777778,
                            "#fb9f3a"
                          ],
                          [
                            0.8888888888888888,
                            "#fdca26"
                          ],
                          [
                            1,
                            "#f0f921"
                          ]
                        ],
                        "type": "histogram2d"
                      }
                    ],
                    "histogram2dcontour": [
                      {
                        "colorbar": {
                          "outlinewidth": 0,
                          "ticks": ""
                        },
                        "colorscale": [
                          [
                            0,
                            "#0d0887"
                          ],
                          [
                            0.1111111111111111,
                            "#46039f"
                          ],
                          [
                            0.2222222222222222,
                            "#7201a8"
                          ],
                          [
                            0.3333333333333333,
                            "#9c179e"
                          ],
                          [
                            0.4444444444444444,
                            "#bd3786"
                          ],
                          [
                            0.5555555555555556,
                            "#d8576b"
                          ],
                          [
                            0.6666666666666666,
                            "#ed7953"
                          ],
                          [
                            0.7777777777777778,
                            "#fb9f3a"
                          ],
                          [
                            0.8888888888888888,
                            "#fdca26"
                          ],
                          [
                            1,
                            "#f0f921"
                          ]
                        ],
                        "type": "histogram2dcontour"
                      }
                    ],
                    "mesh3d": [
                      {
                        "colorbar": {
                          "outlinewidth": 0,
                          "ticks": ""
                        },
                        "type": "mesh3d"
                      }
                    ],
                    "parcoords": [
                      {
                        "line": {
                          "colorbar": {
                            "outlinewidth": 0,
                            "ticks": ""
                          }
                        },
                        "type": "parcoords"
                      }
                    ],
                    "pie": [
                      {
                        "automargin": true,
                        "type": "pie"
                      }
                    ],
                    "scatter": [
                      {
                        "marker": {
                          "colorbar": {
                            "outlinewidth": 0,
                            "ticks": ""
                          }
                        },
                        "type": "scatter"
                      }
                    ],
                    "scatter3d": [
                      {
                        "line": {
                          "colorbar": {
                            "outlinewidth": 0,
                            "ticks": ""
                          }
                        },
                        "marker": {
                          "colorbar": {
                            "outlinewidth": 0,
                            "ticks": ""
                          }
                        },
                        "type": "scatter3d"
                      }
                    ],
                    "scattercarpet": [
                      {
                        "marker": {
                          "colorbar": {
                            "outlinewidth": 0,
                            "ticks": ""
                          }
                        },
                        "type": "scattercarpet"
                      }
                    ],
                    "scattergeo": [
                      {
                        "marker": {
                          "colorbar": {
                            "outlinewidth": 0,
                            "ticks": ""
                          }
                        },
                        "type": "scattergeo"
                      }
                    ],
                    "scattergl": [
                      {
                        "marker": {
                          "colorbar": {
                            "outlinewidth": 0,
                            "ticks": ""
                          }
                        },
                        "type": "scattergl"
                      }
                    ],
                    "scattermapbox": [
                      {
                        "marker": {
                          "colorbar": {
                            "outlinewidth": 0,
                            "ticks": ""
                          }
                        },
                        "type": "scattermapbox"
                      }
                    ],
                    "scatterpolar": [
                      {
                        "marker": {
                          "colorbar": {
                            "outlinewidth": 0,
                            "ticks": ""
                          }
                        },
                        "type": "scatterpolar"
                      }
                    ],
                    "scatterpolargl": [
                      {
                        "marker": {
                          "colorbar": {
                            "outlinewidth": 0,
                            "ticks": ""
                          }
                        },
                        "type": "scatterpolargl"
                      }
                    ],
                    "scatterternary": [
                      {
                        "marker": {
                          "colorbar": {
                            "outlinewidth": 0,
                            "ticks": ""
                          }
                        },
                        "type": "scatterternary"
                      }
                    ],
                    "surface": [
                      {
                        "colorbar": {
                          "outlinewidth": 0,
                          "ticks": ""
                        },
                        "colorscale": [
                          [
                            0,
                            "#0d0887"
                          ],
                          [
                            0.1111111111111111,
                            "#46039f"
                          ],
                          [
                            0.2222222222222222,
                            "#7201a8"
                          ],
                          [
                            0.3333333333333333,
                            "#9c179e"
                          ],
                          [
                            0.4444444444444444,
                            "#bd3786"
                          ],
                          [
                            0.5555555555555556,
                            "#d8576b"
                          ],
                          [
                            0.6666666666666666,
                            "#ed7953"
                          ],
                          [
                            0.7777777777777778,
                            "#fb9f3a"
                          ],
                          [
                            0.8888888888888888,
                            "#fdca26"
                          ],
                          [
                            1,
                            "#f0f921"
                          ]
                        ],
                        "type": "surface"
                      }
                    ],
                    "table": [
                      {
                        "cells": {
                          "fill": {
                            "color": "#EBF0F8"
                          },
                          "line": {
                            "color": "white"
                          }
                        },
                        "header": {
                          "fill": {
                            "color": "#C8D4E3"
                          },
                          "line": {
                            "color": "white"
                          }
                        },
                        "type": "table"
                      }
                    ]
                  },
                  "layout": {
                    "annotationdefaults": {
                      "arrowcolor": "#2a3f5f",
                      "arrowhead": 0,
                      "arrowwidth": 1
                    },
                    "autotypenumbers": "strict",
                    "coloraxis": {
                      "colorbar": {
                        "outlinewidth": 0,
                        "ticks": ""
                      }
                    },
                    "colorscale": {
                      "diverging": [
                        [
                          0,
                          "#8e0152"
                        ],
                        [
                          0.1,
                          "#c51b7d"
                        ],
                        [
                          0.2,
                          "#de77ae"
                        ],
                        [
                          0.3,
                          "#f1b6da"
                        ],
                        [
                          0.4,
                          "#fde0ef"
                        ],
                        [
                          0.5,
                          "#f7f7f7"
                        ],
                        [
                          0.6,
                          "#e6f5d0"
                        ],
                        [
                          0.7,
                          "#b8e186"
                        ],
                        [
                          0.8,
                          "#7fbc41"
                        ],
                        [
                          0.9,
                          "#4d9221"
                        ],
                        [
                          1,
                          "#276419"
                        ]
                      ],
                      "sequential": [
                        [
                          0,
                          "#0d0887"
                        ],
                        [
                          0.1111111111111111,
                          "#46039f"
                        ],
                        [
                          0.2222222222222222,
                          "#7201a8"
                        ],
                        [
                          0.3333333333333333,
                          "#9c179e"
                        ],
                        [
                          0.4444444444444444,
                          "#bd3786"
                        ],
                        [
                          0.5555555555555556,
                          "#d8576b"
                        ],
                        [
                          0.6666666666666666,
                          "#ed7953"
                        ],
                        [
                          0.7777777777777778,
                          "#fb9f3a"
                        ],
                        [
                          0.8888888888888888,
                          "#fdca26"
                        ],
                        [
                          1,
                          "#f0f921"
                        ]
                      ],
                      "sequentialminus": [
                        [
                          0,
                          "#0d0887"
                        ],
                        [
                          0.1111111111111111,
                          "#46039f"
                        ],
                        [
                          0.2222222222222222,
                          "#7201a8"
                        ],
                        [
                          0.3333333333333333,
                          "#9c179e"
                        ],
                        [
                          0.4444444444444444,
                          "#bd3786"
                        ],
                        [
                          0.5555555555555556,
                          "#d8576b"
                        ],
                        [
                          0.6666666666666666,
                          "#ed7953"
                        ],
                        [
                          0.7777777777777778,
                          "#fb9f3a"
                        ],
                        [
                          0.8888888888888888,
                          "#fdca26"
                        ],
                        [
                          1,
                          "#f0f921"
                        ]
                      ]
                    },
                    "colorway": [
                      "#636efa",
                      "#EF553B",
                      "#00cc96",
                      "#ab63fa",
                      "#FFA15A",
                      "#19d3f3",
                      "#FF6692",
                      "#B6E880",
                      "#FF97FF",
                      "#FECB52"
                    ],
                    "font": {
                      "color": "#2a3f5f"
                    },
                    "geo": {
                      "bgcolor": "white",
                      "lakecolor": "white",
                      "landcolor": "#E5ECF6",
                      "showlakes": true,
                      "showland": true,
                      "subunitcolor": "white"
                    },
                    "hoverlabel": {
                      "align": "left"
                    },
                    "hovermode": "closest",
                    "mapbox": {
                      "style": "light"
                    },
                    "paper_bgcolor": "white",
                    "plot_bgcolor": "#E5ECF6",
                    "polar": {
                      "angularaxis": {
                        "gridcolor": "white",
                        "linecolor": "white",
                        "ticks": ""
                      },
                      "bgcolor": "#E5ECF6",
                      "radialaxis": {
                        "gridcolor": "white",
                        "linecolor": "white",
                        "ticks": ""
                      }
                    },
                    "scene": {
                      "xaxis": {
                        "backgroundcolor": "#E5ECF6",
                        "gridcolor": "white",
                        "gridwidth": 2,
                        "linecolor": "white",
                        "showbackground": true,
                        "ticks": "",
                        "zerolinecolor": "white"
                      },
                      "yaxis": {
                        "backgroundcolor": "#E5ECF6",
                        "gridcolor": "white",
                        "gridwidth": 2,
                        "linecolor": "white",
                        "showbackground": true,
                        "ticks": "",
                        "zerolinecolor": "white"
                      },
                      "zaxis": {
                        "backgroundcolor": "#E5ECF6",
                        "gridcolor": "white",
                        "gridwidth": 2,
                        "linecolor": "white",
                        "showbackground": true,
                        "ticks": "",
                        "zerolinecolor": "white"
                      }
                    },
                    "shapedefaults": {
                      "line": {
                        "color": "#2a3f5f"
                      }
                    },
                    "ternary": {
                      "aaxis": {
                        "gridcolor": "white",
                        "linecolor": "white",
                        "ticks": ""
                      },
                      "baxis": {
                        "gridcolor": "white",
                        "linecolor": "white",
                        "ticks": ""
                      },
                      "bgcolor": "#E5ECF6",
                      "caxis": {
                        "gridcolor": "white",
                        "linecolor": "white",
                        "ticks": ""
                      }
                    },
                    "title": {
                      "x": 0.05
                    },
                    "xaxis": {
                      "automargin": true,
                      "gridcolor": "white",
                      "linecolor": "white",
                      "ticks": "",
                      "title": {
                        "standoff": 15
                      },
                      "zerolinecolor": "white",
                      "zerolinewidth": 2
                    },
                    "yaxis": {
                      "automargin": true,
                      "gridcolor": "white",
                      "linecolor": "white",
                      "ticks": "",
                      "title": {
                        "standoff": 15
                      },
                      "zerolinecolor": "white",
                      "zerolinewidth": 2
                    }
                  }
                },
                "width": 600,
                "xaxis": {
                  "anchor": "y",
                  "constrain": "domain",
                  "domain": [
                    0,
                    1
                  ],
                  "scaleanchor": "y",
                  "title": {
                    "text": "Predicted Value"
                  },
                  "type": "category"
                },
                "yaxis": {
                  "anchor": "x",
                  "autorange": "reversed",
                  "constrain": "domain",
                  "domain": [
                    0,
                    1
                  ],
                  "title": {
                    "text": "True value"
                  },
                  "type": "category"
                }
              }
            }
          },
          "metadata": {},
          "output_type": "display_data"
        },
        {
          "data": {
            "text/html": [
              "<br><a href=\"#summary_G5D4I\" style=\"font-size: 14px\">Go to top</a>"
            ]
          },
          "metadata": {},
          "output_type": "display_data"
        },
        {
          "data": {
            "text/html": [
              "<hr style=\"background-color: #eee;border: 0 none;color: #eee;height: 4px;\">"
            ]
          },
          "metadata": {},
          "output_type": "display_data"
        },
        {
          "data": {
            "text/html": [
              "<h4 id=\"ConfusionMatrixReport-TestDataset_G5D4I\">Confusion Matrix Report - Test Dataset</h4><p>Calculate the confusion matrix of the model on the given dataset. <a href=\"https://docs.deepchecks.com/0.6.1/examples/tabular/checks/performance/examples/plot_confusion_matrix_report.html?utm_source=display_output&utm_medium=referral&utm_campaign=check_link\" target=\"_blank\">Read More...</a></p><h5>Additional Outputs</h5>"
            ]
          },
          "metadata": {},
          "output_type": "display_data"
        },
        {
          "data": {
            "application/vnd.plotly.v1+json": {
              "config": {
                "plotlyServerURL": "https://plot.ly"
              },
              "data": [
                {
                  "coloraxis": "coloraxis",
                  "hovertemplate": "x: %{x}<br>y: %{y}<br>color: %{z}<extra></extra>",
                  "name": "0",
                  "texttemplate": "%{z}",
                  "type": "heatmap",
                  "x": [
                    0,
                    1
                  ],
                  "xaxis": "x",
                  "y": [
                    0,
                    1
                  ],
                  "yaxis": "y",
                  "z": [
                    [
                      1148,
                      2
                    ],
                    [
                      52,
                      0
                    ]
                  ]
                }
              ],
              "layout": {
                "coloraxis": {
                  "colorscale": [
                    [
                      0,
                      "#0d0887"
                    ],
                    [
                      0.1111111111111111,
                      "#46039f"
                    ],
                    [
                      0.2222222222222222,
                      "#7201a8"
                    ],
                    [
                      0.3333333333333333,
                      "#9c179e"
                    ],
                    [
                      0.4444444444444444,
                      "#bd3786"
                    ],
                    [
                      0.5555555555555556,
                      "#d8576b"
                    ],
                    [
                      0.6666666666666666,
                      "#ed7953"
                    ],
                    [
                      0.7777777777777778,
                      "#fb9f3a"
                    ],
                    [
                      0.8888888888888888,
                      "#fdca26"
                    ],
                    [
                      1,
                      "#f0f921"
                    ]
                  ]
                },
                "height": 600,
                "margin": {
                  "t": 60
                },
                "template": {
                  "data": {
                    "bar": [
                      {
                        "error_x": {
                          "color": "#2a3f5f"
                        },
                        "error_y": {
                          "color": "#2a3f5f"
                        },
                        "marker": {
                          "line": {
                            "color": "#E5ECF6",
                            "width": 0.5
                          },
                          "pattern": {
                            "fillmode": "overlay",
                            "size": 10,
                            "solidity": 0.2
                          }
                        },
                        "type": "bar"
                      }
                    ],
                    "barpolar": [
                      {
                        "marker": {
                          "line": {
                            "color": "#E5ECF6",
                            "width": 0.5
                          },
                          "pattern": {
                            "fillmode": "overlay",
                            "size": 10,
                            "solidity": 0.2
                          }
                        },
                        "type": "barpolar"
                      }
                    ],
                    "carpet": [
                      {
                        "aaxis": {
                          "endlinecolor": "#2a3f5f",
                          "gridcolor": "white",
                          "linecolor": "white",
                          "minorgridcolor": "white",
                          "startlinecolor": "#2a3f5f"
                        },
                        "baxis": {
                          "endlinecolor": "#2a3f5f",
                          "gridcolor": "white",
                          "linecolor": "white",
                          "minorgridcolor": "white",
                          "startlinecolor": "#2a3f5f"
                        },
                        "type": "carpet"
                      }
                    ],
                    "choropleth": [
                      {
                        "colorbar": {
                          "outlinewidth": 0,
                          "ticks": ""
                        },
                        "type": "choropleth"
                      }
                    ],
                    "contour": [
                      {
                        "colorbar": {
                          "outlinewidth": 0,
                          "ticks": ""
                        },
                        "colorscale": [
                          [
                            0,
                            "#0d0887"
                          ],
                          [
                            0.1111111111111111,
                            "#46039f"
                          ],
                          [
                            0.2222222222222222,
                            "#7201a8"
                          ],
                          [
                            0.3333333333333333,
                            "#9c179e"
                          ],
                          [
                            0.4444444444444444,
                            "#bd3786"
                          ],
                          [
                            0.5555555555555556,
                            "#d8576b"
                          ],
                          [
                            0.6666666666666666,
                            "#ed7953"
                          ],
                          [
                            0.7777777777777778,
                            "#fb9f3a"
                          ],
                          [
                            0.8888888888888888,
                            "#fdca26"
                          ],
                          [
                            1,
                            "#f0f921"
                          ]
                        ],
                        "type": "contour"
                      }
                    ],
                    "contourcarpet": [
                      {
                        "colorbar": {
                          "outlinewidth": 0,
                          "ticks": ""
                        },
                        "type": "contourcarpet"
                      }
                    ],
                    "heatmap": [
                      {
                        "colorbar": {
                          "outlinewidth": 0,
                          "ticks": ""
                        },
                        "colorscale": [
                          [
                            0,
                            "#0d0887"
                          ],
                          [
                            0.1111111111111111,
                            "#46039f"
                          ],
                          [
                            0.2222222222222222,
                            "#7201a8"
                          ],
                          [
                            0.3333333333333333,
                            "#9c179e"
                          ],
                          [
                            0.4444444444444444,
                            "#bd3786"
                          ],
                          [
                            0.5555555555555556,
                            "#d8576b"
                          ],
                          [
                            0.6666666666666666,
                            "#ed7953"
                          ],
                          [
                            0.7777777777777778,
                            "#fb9f3a"
                          ],
                          [
                            0.8888888888888888,
                            "#fdca26"
                          ],
                          [
                            1,
                            "#f0f921"
                          ]
                        ],
                        "type": "heatmap"
                      }
                    ],
                    "heatmapgl": [
                      {
                        "colorbar": {
                          "outlinewidth": 0,
                          "ticks": ""
                        },
                        "colorscale": [
                          [
                            0,
                            "#0d0887"
                          ],
                          [
                            0.1111111111111111,
                            "#46039f"
                          ],
                          [
                            0.2222222222222222,
                            "#7201a8"
                          ],
                          [
                            0.3333333333333333,
                            "#9c179e"
                          ],
                          [
                            0.4444444444444444,
                            "#bd3786"
                          ],
                          [
                            0.5555555555555556,
                            "#d8576b"
                          ],
                          [
                            0.6666666666666666,
                            "#ed7953"
                          ],
                          [
                            0.7777777777777778,
                            "#fb9f3a"
                          ],
                          [
                            0.8888888888888888,
                            "#fdca26"
                          ],
                          [
                            1,
                            "#f0f921"
                          ]
                        ],
                        "type": "heatmapgl"
                      }
                    ],
                    "histogram": [
                      {
                        "marker": {
                          "pattern": {
                            "fillmode": "overlay",
                            "size": 10,
                            "solidity": 0.2
                          }
                        },
                        "type": "histogram"
                      }
                    ],
                    "histogram2d": [
                      {
                        "colorbar": {
                          "outlinewidth": 0,
                          "ticks": ""
                        },
                        "colorscale": [
                          [
                            0,
                            "#0d0887"
                          ],
                          [
                            0.1111111111111111,
                            "#46039f"
                          ],
                          [
                            0.2222222222222222,
                            "#7201a8"
                          ],
                          [
                            0.3333333333333333,
                            "#9c179e"
                          ],
                          [
                            0.4444444444444444,
                            "#bd3786"
                          ],
                          [
                            0.5555555555555556,
                            "#d8576b"
                          ],
                          [
                            0.6666666666666666,
                            "#ed7953"
                          ],
                          [
                            0.7777777777777778,
                            "#fb9f3a"
                          ],
                          [
                            0.8888888888888888,
                            "#fdca26"
                          ],
                          [
                            1,
                            "#f0f921"
                          ]
                        ],
                        "type": "histogram2d"
                      }
                    ],
                    "histogram2dcontour": [
                      {
                        "colorbar": {
                          "outlinewidth": 0,
                          "ticks": ""
                        },
                        "colorscale": [
                          [
                            0,
                            "#0d0887"
                          ],
                          [
                            0.1111111111111111,
                            "#46039f"
                          ],
                          [
                            0.2222222222222222,
                            "#7201a8"
                          ],
                          [
                            0.3333333333333333,
                            "#9c179e"
                          ],
                          [
                            0.4444444444444444,
                            "#bd3786"
                          ],
                          [
                            0.5555555555555556,
                            "#d8576b"
                          ],
                          [
                            0.6666666666666666,
                            "#ed7953"
                          ],
                          [
                            0.7777777777777778,
                            "#fb9f3a"
                          ],
                          [
                            0.8888888888888888,
                            "#fdca26"
                          ],
                          [
                            1,
                            "#f0f921"
                          ]
                        ],
                        "type": "histogram2dcontour"
                      }
                    ],
                    "mesh3d": [
                      {
                        "colorbar": {
                          "outlinewidth": 0,
                          "ticks": ""
                        },
                        "type": "mesh3d"
                      }
                    ],
                    "parcoords": [
                      {
                        "line": {
                          "colorbar": {
                            "outlinewidth": 0,
                            "ticks": ""
                          }
                        },
                        "type": "parcoords"
                      }
                    ],
                    "pie": [
                      {
                        "automargin": true,
                        "type": "pie"
                      }
                    ],
                    "scatter": [
                      {
                        "marker": {
                          "colorbar": {
                            "outlinewidth": 0,
                            "ticks": ""
                          }
                        },
                        "type": "scatter"
                      }
                    ],
                    "scatter3d": [
                      {
                        "line": {
                          "colorbar": {
                            "outlinewidth": 0,
                            "ticks": ""
                          }
                        },
                        "marker": {
                          "colorbar": {
                            "outlinewidth": 0,
                            "ticks": ""
                          }
                        },
                        "type": "scatter3d"
                      }
                    ],
                    "scattercarpet": [
                      {
                        "marker": {
                          "colorbar": {
                            "outlinewidth": 0,
                            "ticks": ""
                          }
                        },
                        "type": "scattercarpet"
                      }
                    ],
                    "scattergeo": [
                      {
                        "marker": {
                          "colorbar": {
                            "outlinewidth": 0,
                            "ticks": ""
                          }
                        },
                        "type": "scattergeo"
                      }
                    ],
                    "scattergl": [
                      {
                        "marker": {
                          "colorbar": {
                            "outlinewidth": 0,
                            "ticks": ""
                          }
                        },
                        "type": "scattergl"
                      }
                    ],
                    "scattermapbox": [
                      {
                        "marker": {
                          "colorbar": {
                            "outlinewidth": 0,
                            "ticks": ""
                          }
                        },
                        "type": "scattermapbox"
                      }
                    ],
                    "scatterpolar": [
                      {
                        "marker": {
                          "colorbar": {
                            "outlinewidth": 0,
                            "ticks": ""
                          }
                        },
                        "type": "scatterpolar"
                      }
                    ],
                    "scatterpolargl": [
                      {
                        "marker": {
                          "colorbar": {
                            "outlinewidth": 0,
                            "ticks": ""
                          }
                        },
                        "type": "scatterpolargl"
                      }
                    ],
                    "scatterternary": [
                      {
                        "marker": {
                          "colorbar": {
                            "outlinewidth": 0,
                            "ticks": ""
                          }
                        },
                        "type": "scatterternary"
                      }
                    ],
                    "surface": [
                      {
                        "colorbar": {
                          "outlinewidth": 0,
                          "ticks": ""
                        },
                        "colorscale": [
                          [
                            0,
                            "#0d0887"
                          ],
                          [
                            0.1111111111111111,
                            "#46039f"
                          ],
                          [
                            0.2222222222222222,
                            "#7201a8"
                          ],
                          [
                            0.3333333333333333,
                            "#9c179e"
                          ],
                          [
                            0.4444444444444444,
                            "#bd3786"
                          ],
                          [
                            0.5555555555555556,
                            "#d8576b"
                          ],
                          [
                            0.6666666666666666,
                            "#ed7953"
                          ],
                          [
                            0.7777777777777778,
                            "#fb9f3a"
                          ],
                          [
                            0.8888888888888888,
                            "#fdca26"
                          ],
                          [
                            1,
                            "#f0f921"
                          ]
                        ],
                        "type": "surface"
                      }
                    ],
                    "table": [
                      {
                        "cells": {
                          "fill": {
                            "color": "#EBF0F8"
                          },
                          "line": {
                            "color": "white"
                          }
                        },
                        "header": {
                          "fill": {
                            "color": "#C8D4E3"
                          },
                          "line": {
                            "color": "white"
                          }
                        },
                        "type": "table"
                      }
                    ]
                  },
                  "layout": {
                    "annotationdefaults": {
                      "arrowcolor": "#2a3f5f",
                      "arrowhead": 0,
                      "arrowwidth": 1
                    },
                    "autotypenumbers": "strict",
                    "coloraxis": {
                      "colorbar": {
                        "outlinewidth": 0,
                        "ticks": ""
                      }
                    },
                    "colorscale": {
                      "diverging": [
                        [
                          0,
                          "#8e0152"
                        ],
                        [
                          0.1,
                          "#c51b7d"
                        ],
                        [
                          0.2,
                          "#de77ae"
                        ],
                        [
                          0.3,
                          "#f1b6da"
                        ],
                        [
                          0.4,
                          "#fde0ef"
                        ],
                        [
                          0.5,
                          "#f7f7f7"
                        ],
                        [
                          0.6,
                          "#e6f5d0"
                        ],
                        [
                          0.7,
                          "#b8e186"
                        ],
                        [
                          0.8,
                          "#7fbc41"
                        ],
                        [
                          0.9,
                          "#4d9221"
                        ],
                        [
                          1,
                          "#276419"
                        ]
                      ],
                      "sequential": [
                        [
                          0,
                          "#0d0887"
                        ],
                        [
                          0.1111111111111111,
                          "#46039f"
                        ],
                        [
                          0.2222222222222222,
                          "#7201a8"
                        ],
                        [
                          0.3333333333333333,
                          "#9c179e"
                        ],
                        [
                          0.4444444444444444,
                          "#bd3786"
                        ],
                        [
                          0.5555555555555556,
                          "#d8576b"
                        ],
                        [
                          0.6666666666666666,
                          "#ed7953"
                        ],
                        [
                          0.7777777777777778,
                          "#fb9f3a"
                        ],
                        [
                          0.8888888888888888,
                          "#fdca26"
                        ],
                        [
                          1,
                          "#f0f921"
                        ]
                      ],
                      "sequentialminus": [
                        [
                          0,
                          "#0d0887"
                        ],
                        [
                          0.1111111111111111,
                          "#46039f"
                        ],
                        [
                          0.2222222222222222,
                          "#7201a8"
                        ],
                        [
                          0.3333333333333333,
                          "#9c179e"
                        ],
                        [
                          0.4444444444444444,
                          "#bd3786"
                        ],
                        [
                          0.5555555555555556,
                          "#d8576b"
                        ],
                        [
                          0.6666666666666666,
                          "#ed7953"
                        ],
                        [
                          0.7777777777777778,
                          "#fb9f3a"
                        ],
                        [
                          0.8888888888888888,
                          "#fdca26"
                        ],
                        [
                          1,
                          "#f0f921"
                        ]
                      ]
                    },
                    "colorway": [
                      "#636efa",
                      "#EF553B",
                      "#00cc96",
                      "#ab63fa",
                      "#FFA15A",
                      "#19d3f3",
                      "#FF6692",
                      "#B6E880",
                      "#FF97FF",
                      "#FECB52"
                    ],
                    "font": {
                      "color": "#2a3f5f"
                    },
                    "geo": {
                      "bgcolor": "white",
                      "lakecolor": "white",
                      "landcolor": "#E5ECF6",
                      "showlakes": true,
                      "showland": true,
                      "subunitcolor": "white"
                    },
                    "hoverlabel": {
                      "align": "left"
                    },
                    "hovermode": "closest",
                    "mapbox": {
                      "style": "light"
                    },
                    "paper_bgcolor": "white",
                    "plot_bgcolor": "#E5ECF6",
                    "polar": {
                      "angularaxis": {
                        "gridcolor": "white",
                        "linecolor": "white",
                        "ticks": ""
                      },
                      "bgcolor": "#E5ECF6",
                      "radialaxis": {
                        "gridcolor": "white",
                        "linecolor": "white",
                        "ticks": ""
                      }
                    },
                    "scene": {
                      "xaxis": {
                        "backgroundcolor": "#E5ECF6",
                        "gridcolor": "white",
                        "gridwidth": 2,
                        "linecolor": "white",
                        "showbackground": true,
                        "ticks": "",
                        "zerolinecolor": "white"
                      },
                      "yaxis": {
                        "backgroundcolor": "#E5ECF6",
                        "gridcolor": "white",
                        "gridwidth": 2,
                        "linecolor": "white",
                        "showbackground": true,
                        "ticks": "",
                        "zerolinecolor": "white"
                      },
                      "zaxis": {
                        "backgroundcolor": "#E5ECF6",
                        "gridcolor": "white",
                        "gridwidth": 2,
                        "linecolor": "white",
                        "showbackground": true,
                        "ticks": "",
                        "zerolinecolor": "white"
                      }
                    },
                    "shapedefaults": {
                      "line": {
                        "color": "#2a3f5f"
                      }
                    },
                    "ternary": {
                      "aaxis": {
                        "gridcolor": "white",
                        "linecolor": "white",
                        "ticks": ""
                      },
                      "baxis": {
                        "gridcolor": "white",
                        "linecolor": "white",
                        "ticks": ""
                      },
                      "bgcolor": "#E5ECF6",
                      "caxis": {
                        "gridcolor": "white",
                        "linecolor": "white",
                        "ticks": ""
                      }
                    },
                    "title": {
                      "x": 0.05
                    },
                    "xaxis": {
                      "automargin": true,
                      "gridcolor": "white",
                      "linecolor": "white",
                      "ticks": "",
                      "title": {
                        "standoff": 15
                      },
                      "zerolinecolor": "white",
                      "zerolinewidth": 2
                    },
                    "yaxis": {
                      "automargin": true,
                      "gridcolor": "white",
                      "linecolor": "white",
                      "ticks": "",
                      "title": {
                        "standoff": 15
                      },
                      "zerolinecolor": "white",
                      "zerolinewidth": 2
                    }
                  }
                },
                "width": 600,
                "xaxis": {
                  "anchor": "y",
                  "constrain": "domain",
                  "domain": [
                    0,
                    1
                  ],
                  "scaleanchor": "y",
                  "title": {
                    "text": "Predicted Value"
                  },
                  "type": "category"
                },
                "yaxis": {
                  "anchor": "x",
                  "autorange": "reversed",
                  "constrain": "domain",
                  "domain": [
                    0,
                    1
                  ],
                  "title": {
                    "text": "True value"
                  },
                  "type": "category"
                }
              }
            }
          },
          "metadata": {},
          "output_type": "display_data"
        },
        {
          "data": {
            "text/html": [
              "<br><a href=\"#summary_G5D4I\" style=\"font-size: 14px\">Go to top</a>"
            ]
          },
          "metadata": {},
          "output_type": "display_data"
        },
        {
          "data": {
            "text/html": [
              "<hr style=\"background-color: #eee;border: 0 none;color: #eee;height: 4px;\">"
            ]
          },
          "metadata": {},
          "output_type": "display_data"
        },
        {
          "data": {
            "text/html": [
              "<h4 id=\"CalibrationMetric-TrainDataset_G5D4I\">Calibration Metric - Train Dataset</h4><p>Calculate the calibration curve with brier score for each class. <a href=\"https://docs.deepchecks.com/0.6.1/examples/tabular/checks/performance/examples/plot_calibration_score.html?utm_source=display_output&utm_medium=referral&utm_campaign=check_link\" target=\"_blank\">Read More...</a></p><h5>Additional Outputs</h5><div>Calibration curves (also known as reliability diagrams) compare how well the probabilistic predictions of a binary classifier are calibrated. It plots the true frequency of the positive label against its predicted probability, for binned predictions.</div>"
            ]
          },
          "metadata": {},
          "output_type": "display_data"
        },
        {
          "data": {
            "application/vnd.plotly.v1+json": {
              "config": {
                "plotlyServerURL": "https://plot.ly"
              },
              "data": [
                {
                  "line": {
                    "dash": "dash",
                    "width": 2
                  },
                  "name": "Perfectly calibrated",
                  "type": "scatter",
                  "x": [
                    0,
                    1
                  ],
                  "y": [
                    0,
                    1
                  ]
                },
                {
                  "mode": "lines+markers",
                  "name": "(brier:   0.0343)",
                  "type": "scatter",
                  "x": [
                    0.009968483585863636,
                    0.1338192971211265,
                    0.23929814034822233,
                    0.32986261351623725,
                    0.4537523154544431,
                    0.5341333020622436,
                    0.6505464480874317,
                    0.8504672897196262
                  ],
                  "y": [
                    0.02664756446991404,
                    0.3783783783783784,
                    0.8,
                    1,
                    1,
                    1,
                    1,
                    1
                  ]
                }
              ],
              "layout": {
                "height": 500,
                "template": {
                  "data": {
                    "bar": [
                      {
                        "error_x": {
                          "color": "#2a3f5f"
                        },
                        "error_y": {
                          "color": "#2a3f5f"
                        },
                        "marker": {
                          "line": {
                            "color": "#E5ECF6",
                            "width": 0.5
                          },
                          "pattern": {
                            "fillmode": "overlay",
                            "size": 10,
                            "solidity": 0.2
                          }
                        },
                        "type": "bar"
                      }
                    ],
                    "barpolar": [
                      {
                        "marker": {
                          "line": {
                            "color": "#E5ECF6",
                            "width": 0.5
                          },
                          "pattern": {
                            "fillmode": "overlay",
                            "size": 10,
                            "solidity": 0.2
                          }
                        },
                        "type": "barpolar"
                      }
                    ],
                    "carpet": [
                      {
                        "aaxis": {
                          "endlinecolor": "#2a3f5f",
                          "gridcolor": "white",
                          "linecolor": "white",
                          "minorgridcolor": "white",
                          "startlinecolor": "#2a3f5f"
                        },
                        "baxis": {
                          "endlinecolor": "#2a3f5f",
                          "gridcolor": "white",
                          "linecolor": "white",
                          "minorgridcolor": "white",
                          "startlinecolor": "#2a3f5f"
                        },
                        "type": "carpet"
                      }
                    ],
                    "choropleth": [
                      {
                        "colorbar": {
                          "outlinewidth": 0,
                          "ticks": ""
                        },
                        "type": "choropleth"
                      }
                    ],
                    "contour": [
                      {
                        "colorbar": {
                          "outlinewidth": 0,
                          "ticks": ""
                        },
                        "colorscale": [
                          [
                            0,
                            "#0d0887"
                          ],
                          [
                            0.1111111111111111,
                            "#46039f"
                          ],
                          [
                            0.2222222222222222,
                            "#7201a8"
                          ],
                          [
                            0.3333333333333333,
                            "#9c179e"
                          ],
                          [
                            0.4444444444444444,
                            "#bd3786"
                          ],
                          [
                            0.5555555555555556,
                            "#d8576b"
                          ],
                          [
                            0.6666666666666666,
                            "#ed7953"
                          ],
                          [
                            0.7777777777777778,
                            "#fb9f3a"
                          ],
                          [
                            0.8888888888888888,
                            "#fdca26"
                          ],
                          [
                            1,
                            "#f0f921"
                          ]
                        ],
                        "type": "contour"
                      }
                    ],
                    "contourcarpet": [
                      {
                        "colorbar": {
                          "outlinewidth": 0,
                          "ticks": ""
                        },
                        "type": "contourcarpet"
                      }
                    ],
                    "heatmap": [
                      {
                        "colorbar": {
                          "outlinewidth": 0,
                          "ticks": ""
                        },
                        "colorscale": [
                          [
                            0,
                            "#0d0887"
                          ],
                          [
                            0.1111111111111111,
                            "#46039f"
                          ],
                          [
                            0.2222222222222222,
                            "#7201a8"
                          ],
                          [
                            0.3333333333333333,
                            "#9c179e"
                          ],
                          [
                            0.4444444444444444,
                            "#bd3786"
                          ],
                          [
                            0.5555555555555556,
                            "#d8576b"
                          ],
                          [
                            0.6666666666666666,
                            "#ed7953"
                          ],
                          [
                            0.7777777777777778,
                            "#fb9f3a"
                          ],
                          [
                            0.8888888888888888,
                            "#fdca26"
                          ],
                          [
                            1,
                            "#f0f921"
                          ]
                        ],
                        "type": "heatmap"
                      }
                    ],
                    "heatmapgl": [
                      {
                        "colorbar": {
                          "outlinewidth": 0,
                          "ticks": ""
                        },
                        "colorscale": [
                          [
                            0,
                            "#0d0887"
                          ],
                          [
                            0.1111111111111111,
                            "#46039f"
                          ],
                          [
                            0.2222222222222222,
                            "#7201a8"
                          ],
                          [
                            0.3333333333333333,
                            "#9c179e"
                          ],
                          [
                            0.4444444444444444,
                            "#bd3786"
                          ],
                          [
                            0.5555555555555556,
                            "#d8576b"
                          ],
                          [
                            0.6666666666666666,
                            "#ed7953"
                          ],
                          [
                            0.7777777777777778,
                            "#fb9f3a"
                          ],
                          [
                            0.8888888888888888,
                            "#fdca26"
                          ],
                          [
                            1,
                            "#f0f921"
                          ]
                        ],
                        "type": "heatmapgl"
                      }
                    ],
                    "histogram": [
                      {
                        "marker": {
                          "pattern": {
                            "fillmode": "overlay",
                            "size": 10,
                            "solidity": 0.2
                          }
                        },
                        "type": "histogram"
                      }
                    ],
                    "histogram2d": [
                      {
                        "colorbar": {
                          "outlinewidth": 0,
                          "ticks": ""
                        },
                        "colorscale": [
                          [
                            0,
                            "#0d0887"
                          ],
                          [
                            0.1111111111111111,
                            "#46039f"
                          ],
                          [
                            0.2222222222222222,
                            "#7201a8"
                          ],
                          [
                            0.3333333333333333,
                            "#9c179e"
                          ],
                          [
                            0.4444444444444444,
                            "#bd3786"
                          ],
                          [
                            0.5555555555555556,
                            "#d8576b"
                          ],
                          [
                            0.6666666666666666,
                            "#ed7953"
                          ],
                          [
                            0.7777777777777778,
                            "#fb9f3a"
                          ],
                          [
                            0.8888888888888888,
                            "#fdca26"
                          ],
                          [
                            1,
                            "#f0f921"
                          ]
                        ],
                        "type": "histogram2d"
                      }
                    ],
                    "histogram2dcontour": [
                      {
                        "colorbar": {
                          "outlinewidth": 0,
                          "ticks": ""
                        },
                        "colorscale": [
                          [
                            0,
                            "#0d0887"
                          ],
                          [
                            0.1111111111111111,
                            "#46039f"
                          ],
                          [
                            0.2222222222222222,
                            "#7201a8"
                          ],
                          [
                            0.3333333333333333,
                            "#9c179e"
                          ],
                          [
                            0.4444444444444444,
                            "#bd3786"
                          ],
                          [
                            0.5555555555555556,
                            "#d8576b"
                          ],
                          [
                            0.6666666666666666,
                            "#ed7953"
                          ],
                          [
                            0.7777777777777778,
                            "#fb9f3a"
                          ],
                          [
                            0.8888888888888888,
                            "#fdca26"
                          ],
                          [
                            1,
                            "#f0f921"
                          ]
                        ],
                        "type": "histogram2dcontour"
                      }
                    ],
                    "mesh3d": [
                      {
                        "colorbar": {
                          "outlinewidth": 0,
                          "ticks": ""
                        },
                        "type": "mesh3d"
                      }
                    ],
                    "parcoords": [
                      {
                        "line": {
                          "colorbar": {
                            "outlinewidth": 0,
                            "ticks": ""
                          }
                        },
                        "type": "parcoords"
                      }
                    ],
                    "pie": [
                      {
                        "automargin": true,
                        "type": "pie"
                      }
                    ],
                    "scatter": [
                      {
                        "marker": {
                          "colorbar": {
                            "outlinewidth": 0,
                            "ticks": ""
                          }
                        },
                        "type": "scatter"
                      }
                    ],
                    "scatter3d": [
                      {
                        "line": {
                          "colorbar": {
                            "outlinewidth": 0,
                            "ticks": ""
                          }
                        },
                        "marker": {
                          "colorbar": {
                            "outlinewidth": 0,
                            "ticks": ""
                          }
                        },
                        "type": "scatter3d"
                      }
                    ],
                    "scattercarpet": [
                      {
                        "marker": {
                          "colorbar": {
                            "outlinewidth": 0,
                            "ticks": ""
                          }
                        },
                        "type": "scattercarpet"
                      }
                    ],
                    "scattergeo": [
                      {
                        "marker": {
                          "colorbar": {
                            "outlinewidth": 0,
                            "ticks": ""
                          }
                        },
                        "type": "scattergeo"
                      }
                    ],
                    "scattergl": [
                      {
                        "marker": {
                          "colorbar": {
                            "outlinewidth": 0,
                            "ticks": ""
                          }
                        },
                        "type": "scattergl"
                      }
                    ],
                    "scattermapbox": [
                      {
                        "marker": {
                          "colorbar": {
                            "outlinewidth": 0,
                            "ticks": ""
                          }
                        },
                        "type": "scattermapbox"
                      }
                    ],
                    "scatterpolar": [
                      {
                        "marker": {
                          "colorbar": {
                            "outlinewidth": 0,
                            "ticks": ""
                          }
                        },
                        "type": "scatterpolar"
                      }
                    ],
                    "scatterpolargl": [
                      {
                        "marker": {
                          "colorbar": {
                            "outlinewidth": 0,
                            "ticks": ""
                          }
                        },
                        "type": "scatterpolargl"
                      }
                    ],
                    "scatterternary": [
                      {
                        "marker": {
                          "colorbar": {
                            "outlinewidth": 0,
                            "ticks": ""
                          }
                        },
                        "type": "scatterternary"
                      }
                    ],
                    "surface": [
                      {
                        "colorbar": {
                          "outlinewidth": 0,
                          "ticks": ""
                        },
                        "colorscale": [
                          [
                            0,
                            "#0d0887"
                          ],
                          [
                            0.1111111111111111,
                            "#46039f"
                          ],
                          [
                            0.2222222222222222,
                            "#7201a8"
                          ],
                          [
                            0.3333333333333333,
                            "#9c179e"
                          ],
                          [
                            0.4444444444444444,
                            "#bd3786"
                          ],
                          [
                            0.5555555555555556,
                            "#d8576b"
                          ],
                          [
                            0.6666666666666666,
                            "#ed7953"
                          ],
                          [
                            0.7777777777777778,
                            "#fb9f3a"
                          ],
                          [
                            0.8888888888888888,
                            "#fdca26"
                          ],
                          [
                            1,
                            "#f0f921"
                          ]
                        ],
                        "type": "surface"
                      }
                    ],
                    "table": [
                      {
                        "cells": {
                          "fill": {
                            "color": "#EBF0F8"
                          },
                          "line": {
                            "color": "white"
                          }
                        },
                        "header": {
                          "fill": {
                            "color": "#C8D4E3"
                          },
                          "line": {
                            "color": "white"
                          }
                        },
                        "type": "table"
                      }
                    ]
                  },
                  "layout": {
                    "annotationdefaults": {
                      "arrowcolor": "#2a3f5f",
                      "arrowhead": 0,
                      "arrowwidth": 1
                    },
                    "autotypenumbers": "strict",
                    "coloraxis": {
                      "colorbar": {
                        "outlinewidth": 0,
                        "ticks": ""
                      }
                    },
                    "colorscale": {
                      "diverging": [
                        [
                          0,
                          "#8e0152"
                        ],
                        [
                          0.1,
                          "#c51b7d"
                        ],
                        [
                          0.2,
                          "#de77ae"
                        ],
                        [
                          0.3,
                          "#f1b6da"
                        ],
                        [
                          0.4,
                          "#fde0ef"
                        ],
                        [
                          0.5,
                          "#f7f7f7"
                        ],
                        [
                          0.6,
                          "#e6f5d0"
                        ],
                        [
                          0.7,
                          "#b8e186"
                        ],
                        [
                          0.8,
                          "#7fbc41"
                        ],
                        [
                          0.9,
                          "#4d9221"
                        ],
                        [
                          1,
                          "#276419"
                        ]
                      ],
                      "sequential": [
                        [
                          0,
                          "#0d0887"
                        ],
                        [
                          0.1111111111111111,
                          "#46039f"
                        ],
                        [
                          0.2222222222222222,
                          "#7201a8"
                        ],
                        [
                          0.3333333333333333,
                          "#9c179e"
                        ],
                        [
                          0.4444444444444444,
                          "#bd3786"
                        ],
                        [
                          0.5555555555555556,
                          "#d8576b"
                        ],
                        [
                          0.6666666666666666,
                          "#ed7953"
                        ],
                        [
                          0.7777777777777778,
                          "#fb9f3a"
                        ],
                        [
                          0.8888888888888888,
                          "#fdca26"
                        ],
                        [
                          1,
                          "#f0f921"
                        ]
                      ],
                      "sequentialminus": [
                        [
                          0,
                          "#0d0887"
                        ],
                        [
                          0.1111111111111111,
                          "#46039f"
                        ],
                        [
                          0.2222222222222222,
                          "#7201a8"
                        ],
                        [
                          0.3333333333333333,
                          "#9c179e"
                        ],
                        [
                          0.4444444444444444,
                          "#bd3786"
                        ],
                        [
                          0.5555555555555556,
                          "#d8576b"
                        ],
                        [
                          0.6666666666666666,
                          "#ed7953"
                        ],
                        [
                          0.7777777777777778,
                          "#fb9f3a"
                        ],
                        [
                          0.8888888888888888,
                          "#fdca26"
                        ],
                        [
                          1,
                          "#f0f921"
                        ]
                      ]
                    },
                    "colorway": [
                      "#636efa",
                      "#EF553B",
                      "#00cc96",
                      "#ab63fa",
                      "#FFA15A",
                      "#19d3f3",
                      "#FF6692",
                      "#B6E880",
                      "#FF97FF",
                      "#FECB52"
                    ],
                    "font": {
                      "color": "#2a3f5f"
                    },
                    "geo": {
                      "bgcolor": "white",
                      "lakecolor": "white",
                      "landcolor": "#E5ECF6",
                      "showlakes": true,
                      "showland": true,
                      "subunitcolor": "white"
                    },
                    "hoverlabel": {
                      "align": "left"
                    },
                    "hovermode": "closest",
                    "mapbox": {
                      "style": "light"
                    },
                    "paper_bgcolor": "white",
                    "plot_bgcolor": "#E5ECF6",
                    "polar": {
                      "angularaxis": {
                        "gridcolor": "white",
                        "linecolor": "white",
                        "ticks": ""
                      },
                      "bgcolor": "#E5ECF6",
                      "radialaxis": {
                        "gridcolor": "white",
                        "linecolor": "white",
                        "ticks": ""
                      }
                    },
                    "scene": {
                      "xaxis": {
                        "backgroundcolor": "#E5ECF6",
                        "gridcolor": "white",
                        "gridwidth": 2,
                        "linecolor": "white",
                        "showbackground": true,
                        "ticks": "",
                        "zerolinecolor": "white"
                      },
                      "yaxis": {
                        "backgroundcolor": "#E5ECF6",
                        "gridcolor": "white",
                        "gridwidth": 2,
                        "linecolor": "white",
                        "showbackground": true,
                        "ticks": "",
                        "zerolinecolor": "white"
                      },
                      "zaxis": {
                        "backgroundcolor": "#E5ECF6",
                        "gridcolor": "white",
                        "gridwidth": 2,
                        "linecolor": "white",
                        "showbackground": true,
                        "ticks": "",
                        "zerolinecolor": "white"
                      }
                    },
                    "shapedefaults": {
                      "line": {
                        "color": "#2a3f5f"
                      }
                    },
                    "ternary": {
                      "aaxis": {
                        "gridcolor": "white",
                        "linecolor": "white",
                        "ticks": ""
                      },
                      "baxis": {
                        "gridcolor": "white",
                        "linecolor": "white",
                        "ticks": ""
                      },
                      "bgcolor": "#E5ECF6",
                      "caxis": {
                        "gridcolor": "white",
                        "linecolor": "white",
                        "ticks": ""
                      }
                    },
                    "title": {
                      "x": 0.05
                    },
                    "xaxis": {
                      "automargin": true,
                      "gridcolor": "white",
                      "linecolor": "white",
                      "ticks": "",
                      "title": {
                        "standoff": 15
                      },
                      "zerolinecolor": "white",
                      "zerolinewidth": 2
                    },
                    "yaxis": {
                      "automargin": true,
                      "gridcolor": "white",
                      "linecolor": "white",
                      "ticks": "",
                      "title": {
                        "standoff": 15
                      },
                      "zerolinecolor": "white",
                      "zerolinewidth": 2
                    }
                  }
                },
                "title": {
                  "text": "Calibration plots (reliability curve)"
                },
                "width": 700,
                "xaxis": {
                  "title": {
                    "text": "Mean predicted value"
                  }
                },
                "yaxis": {
                  "title": {
                    "text": "Fraction of positives"
                  }
                }
              }
            }
          },
          "metadata": {},
          "output_type": "display_data"
        },
        {
          "data": {
            "text/html": [
              "<div>The Brier score metric may be used to assess how well a classifier is calibrated. For more info, please visit https://en.wikipedia.org/wiki/Brier_score</div><br><a href=\"#summary_G5D4I\" style=\"font-size: 14px\">Go to top</a>"
            ]
          },
          "metadata": {},
          "output_type": "display_data"
        },
        {
          "data": {
            "text/html": [
              "<hr style=\"background-color: #eee;border: 0 none;color: #eee;height: 4px;\">"
            ]
          },
          "metadata": {},
          "output_type": "display_data"
        },
        {
          "data": {
            "text/html": [
              "<h4 id=\"CalibrationMetric-TestDataset_G5D4I\">Calibration Metric - Test Dataset</h4><p>Calculate the calibration curve with brier score for each class. <a href=\"https://docs.deepchecks.com/0.6.1/examples/tabular/checks/performance/examples/plot_calibration_score.html?utm_source=display_output&utm_medium=referral&utm_campaign=check_link\" target=\"_blank\">Read More...</a></p><h5>Additional Outputs</h5><div>Calibration curves (also known as reliability diagrams) compare how well the probabilistic predictions of a binary classifier are calibrated. It plots the true frequency of the positive label against its predicted probability, for binned predictions.</div>"
            ]
          },
          "metadata": {},
          "output_type": "display_data"
        },
        {
          "data": {
            "application/vnd.plotly.v1+json": {
              "config": {
                "plotlyServerURL": "https://plot.ly"
              },
              "data": [
                {
                  "line": {
                    "dash": "dash",
                    "width": 2
                  },
                  "name": "Perfectly calibrated",
                  "type": "scatter",
                  "x": [
                    0,
                    1
                  ],
                  "y": [
                    0,
                    1
                  ]
                },
                {
                  "mode": "lines+markers",
                  "name": "(brier:   0.0400)",
                  "type": "scatter",
                  "x": [
                    0.010441655797837134,
                    0.1483592775013003,
                    0.2422046925668551,
                    0.3307801068849588,
                    0.5490716180371353
                  ],
                  "y": [
                    0.03862660944206009,
                    0.25,
                    0,
                    0.2,
                    0
                  ]
                }
              ],
              "layout": {
                "height": 500,
                "template": {
                  "data": {
                    "bar": [
                      {
                        "error_x": {
                          "color": "#2a3f5f"
                        },
                        "error_y": {
                          "color": "#2a3f5f"
                        },
                        "marker": {
                          "line": {
                            "color": "#E5ECF6",
                            "width": 0.5
                          },
                          "pattern": {
                            "fillmode": "overlay",
                            "size": 10,
                            "solidity": 0.2
                          }
                        },
                        "type": "bar"
                      }
                    ],
                    "barpolar": [
                      {
                        "marker": {
                          "line": {
                            "color": "#E5ECF6",
                            "width": 0.5
                          },
                          "pattern": {
                            "fillmode": "overlay",
                            "size": 10,
                            "solidity": 0.2
                          }
                        },
                        "type": "barpolar"
                      }
                    ],
                    "carpet": [
                      {
                        "aaxis": {
                          "endlinecolor": "#2a3f5f",
                          "gridcolor": "white",
                          "linecolor": "white",
                          "minorgridcolor": "white",
                          "startlinecolor": "#2a3f5f"
                        },
                        "baxis": {
                          "endlinecolor": "#2a3f5f",
                          "gridcolor": "white",
                          "linecolor": "white",
                          "minorgridcolor": "white",
                          "startlinecolor": "#2a3f5f"
                        },
                        "type": "carpet"
                      }
                    ],
                    "choropleth": [
                      {
                        "colorbar": {
                          "outlinewidth": 0,
                          "ticks": ""
                        },
                        "type": "choropleth"
                      }
                    ],
                    "contour": [
                      {
                        "colorbar": {
                          "outlinewidth": 0,
                          "ticks": ""
                        },
                        "colorscale": [
                          [
                            0,
                            "#0d0887"
                          ],
                          [
                            0.1111111111111111,
                            "#46039f"
                          ],
                          [
                            0.2222222222222222,
                            "#7201a8"
                          ],
                          [
                            0.3333333333333333,
                            "#9c179e"
                          ],
                          [
                            0.4444444444444444,
                            "#bd3786"
                          ],
                          [
                            0.5555555555555556,
                            "#d8576b"
                          ],
                          [
                            0.6666666666666666,
                            "#ed7953"
                          ],
                          [
                            0.7777777777777778,
                            "#fb9f3a"
                          ],
                          [
                            0.8888888888888888,
                            "#fdca26"
                          ],
                          [
                            1,
                            "#f0f921"
                          ]
                        ],
                        "type": "contour"
                      }
                    ],
                    "contourcarpet": [
                      {
                        "colorbar": {
                          "outlinewidth": 0,
                          "ticks": ""
                        },
                        "type": "contourcarpet"
                      }
                    ],
                    "heatmap": [
                      {
                        "colorbar": {
                          "outlinewidth": 0,
                          "ticks": ""
                        },
                        "colorscale": [
                          [
                            0,
                            "#0d0887"
                          ],
                          [
                            0.1111111111111111,
                            "#46039f"
                          ],
                          [
                            0.2222222222222222,
                            "#7201a8"
                          ],
                          [
                            0.3333333333333333,
                            "#9c179e"
                          ],
                          [
                            0.4444444444444444,
                            "#bd3786"
                          ],
                          [
                            0.5555555555555556,
                            "#d8576b"
                          ],
                          [
                            0.6666666666666666,
                            "#ed7953"
                          ],
                          [
                            0.7777777777777778,
                            "#fb9f3a"
                          ],
                          [
                            0.8888888888888888,
                            "#fdca26"
                          ],
                          [
                            1,
                            "#f0f921"
                          ]
                        ],
                        "type": "heatmap"
                      }
                    ],
                    "heatmapgl": [
                      {
                        "colorbar": {
                          "outlinewidth": 0,
                          "ticks": ""
                        },
                        "colorscale": [
                          [
                            0,
                            "#0d0887"
                          ],
                          [
                            0.1111111111111111,
                            "#46039f"
                          ],
                          [
                            0.2222222222222222,
                            "#7201a8"
                          ],
                          [
                            0.3333333333333333,
                            "#9c179e"
                          ],
                          [
                            0.4444444444444444,
                            "#bd3786"
                          ],
                          [
                            0.5555555555555556,
                            "#d8576b"
                          ],
                          [
                            0.6666666666666666,
                            "#ed7953"
                          ],
                          [
                            0.7777777777777778,
                            "#fb9f3a"
                          ],
                          [
                            0.8888888888888888,
                            "#fdca26"
                          ],
                          [
                            1,
                            "#f0f921"
                          ]
                        ],
                        "type": "heatmapgl"
                      }
                    ],
                    "histogram": [
                      {
                        "marker": {
                          "pattern": {
                            "fillmode": "overlay",
                            "size": 10,
                            "solidity": 0.2
                          }
                        },
                        "type": "histogram"
                      }
                    ],
                    "histogram2d": [
                      {
                        "colorbar": {
                          "outlinewidth": 0,
                          "ticks": ""
                        },
                        "colorscale": [
                          [
                            0,
                            "#0d0887"
                          ],
                          [
                            0.1111111111111111,
                            "#46039f"
                          ],
                          [
                            0.2222222222222222,
                            "#7201a8"
                          ],
                          [
                            0.3333333333333333,
                            "#9c179e"
                          ],
                          [
                            0.4444444444444444,
                            "#bd3786"
                          ],
                          [
                            0.5555555555555556,
                            "#d8576b"
                          ],
                          [
                            0.6666666666666666,
                            "#ed7953"
                          ],
                          [
                            0.7777777777777778,
                            "#fb9f3a"
                          ],
                          [
                            0.8888888888888888,
                            "#fdca26"
                          ],
                          [
                            1,
                            "#f0f921"
                          ]
                        ],
                        "type": "histogram2d"
                      }
                    ],
                    "histogram2dcontour": [
                      {
                        "colorbar": {
                          "outlinewidth": 0,
                          "ticks": ""
                        },
                        "colorscale": [
                          [
                            0,
                            "#0d0887"
                          ],
                          [
                            0.1111111111111111,
                            "#46039f"
                          ],
                          [
                            0.2222222222222222,
                            "#7201a8"
                          ],
                          [
                            0.3333333333333333,
                            "#9c179e"
                          ],
                          [
                            0.4444444444444444,
                            "#bd3786"
                          ],
                          [
                            0.5555555555555556,
                            "#d8576b"
                          ],
                          [
                            0.6666666666666666,
                            "#ed7953"
                          ],
                          [
                            0.7777777777777778,
                            "#fb9f3a"
                          ],
                          [
                            0.8888888888888888,
                            "#fdca26"
                          ],
                          [
                            1,
                            "#f0f921"
                          ]
                        ],
                        "type": "histogram2dcontour"
                      }
                    ],
                    "mesh3d": [
                      {
                        "colorbar": {
                          "outlinewidth": 0,
                          "ticks": ""
                        },
                        "type": "mesh3d"
                      }
                    ],
                    "parcoords": [
                      {
                        "line": {
                          "colorbar": {
                            "outlinewidth": 0,
                            "ticks": ""
                          }
                        },
                        "type": "parcoords"
                      }
                    ],
                    "pie": [
                      {
                        "automargin": true,
                        "type": "pie"
                      }
                    ],
                    "scatter": [
                      {
                        "marker": {
                          "colorbar": {
                            "outlinewidth": 0,
                            "ticks": ""
                          }
                        },
                        "type": "scatter"
                      }
                    ],
                    "scatter3d": [
                      {
                        "line": {
                          "colorbar": {
                            "outlinewidth": 0,
                            "ticks": ""
                          }
                        },
                        "marker": {
                          "colorbar": {
                            "outlinewidth": 0,
                            "ticks": ""
                          }
                        },
                        "type": "scatter3d"
                      }
                    ],
                    "scattercarpet": [
                      {
                        "marker": {
                          "colorbar": {
                            "outlinewidth": 0,
                            "ticks": ""
                          }
                        },
                        "type": "scattercarpet"
                      }
                    ],
                    "scattergeo": [
                      {
                        "marker": {
                          "colorbar": {
                            "outlinewidth": 0,
                            "ticks": ""
                          }
                        },
                        "type": "scattergeo"
                      }
                    ],
                    "scattergl": [
                      {
                        "marker": {
                          "colorbar": {
                            "outlinewidth": 0,
                            "ticks": ""
                          }
                        },
                        "type": "scattergl"
                      }
                    ],
                    "scattermapbox": [
                      {
                        "marker": {
                          "colorbar": {
                            "outlinewidth": 0,
                            "ticks": ""
                          }
                        },
                        "type": "scattermapbox"
                      }
                    ],
                    "scatterpolar": [
                      {
                        "marker": {
                          "colorbar": {
                            "outlinewidth": 0,
                            "ticks": ""
                          }
                        },
                        "type": "scatterpolar"
                      }
                    ],
                    "scatterpolargl": [
                      {
                        "marker": {
                          "colorbar": {
                            "outlinewidth": 0,
                            "ticks": ""
                          }
                        },
                        "type": "scatterpolargl"
                      }
                    ],
                    "scatterternary": [
                      {
                        "marker": {
                          "colorbar": {
                            "outlinewidth": 0,
                            "ticks": ""
                          }
                        },
                        "type": "scatterternary"
                      }
                    ],
                    "surface": [
                      {
                        "colorbar": {
                          "outlinewidth": 0,
                          "ticks": ""
                        },
                        "colorscale": [
                          [
                            0,
                            "#0d0887"
                          ],
                          [
                            0.1111111111111111,
                            "#46039f"
                          ],
                          [
                            0.2222222222222222,
                            "#7201a8"
                          ],
                          [
                            0.3333333333333333,
                            "#9c179e"
                          ],
                          [
                            0.4444444444444444,
                            "#bd3786"
                          ],
                          [
                            0.5555555555555556,
                            "#d8576b"
                          ],
                          [
                            0.6666666666666666,
                            "#ed7953"
                          ],
                          [
                            0.7777777777777778,
                            "#fb9f3a"
                          ],
                          [
                            0.8888888888888888,
                            "#fdca26"
                          ],
                          [
                            1,
                            "#f0f921"
                          ]
                        ],
                        "type": "surface"
                      }
                    ],
                    "table": [
                      {
                        "cells": {
                          "fill": {
                            "color": "#EBF0F8"
                          },
                          "line": {
                            "color": "white"
                          }
                        },
                        "header": {
                          "fill": {
                            "color": "#C8D4E3"
                          },
                          "line": {
                            "color": "white"
                          }
                        },
                        "type": "table"
                      }
                    ]
                  },
                  "layout": {
                    "annotationdefaults": {
                      "arrowcolor": "#2a3f5f",
                      "arrowhead": 0,
                      "arrowwidth": 1
                    },
                    "autotypenumbers": "strict",
                    "coloraxis": {
                      "colorbar": {
                        "outlinewidth": 0,
                        "ticks": ""
                      }
                    },
                    "colorscale": {
                      "diverging": [
                        [
                          0,
                          "#8e0152"
                        ],
                        [
                          0.1,
                          "#c51b7d"
                        ],
                        [
                          0.2,
                          "#de77ae"
                        ],
                        [
                          0.3,
                          "#f1b6da"
                        ],
                        [
                          0.4,
                          "#fde0ef"
                        ],
                        [
                          0.5,
                          "#f7f7f7"
                        ],
                        [
                          0.6,
                          "#e6f5d0"
                        ],
                        [
                          0.7,
                          "#b8e186"
                        ],
                        [
                          0.8,
                          "#7fbc41"
                        ],
                        [
                          0.9,
                          "#4d9221"
                        ],
                        [
                          1,
                          "#276419"
                        ]
                      ],
                      "sequential": [
                        [
                          0,
                          "#0d0887"
                        ],
                        [
                          0.1111111111111111,
                          "#46039f"
                        ],
                        [
                          0.2222222222222222,
                          "#7201a8"
                        ],
                        [
                          0.3333333333333333,
                          "#9c179e"
                        ],
                        [
                          0.4444444444444444,
                          "#bd3786"
                        ],
                        [
                          0.5555555555555556,
                          "#d8576b"
                        ],
                        [
                          0.6666666666666666,
                          "#ed7953"
                        ],
                        [
                          0.7777777777777778,
                          "#fb9f3a"
                        ],
                        [
                          0.8888888888888888,
                          "#fdca26"
                        ],
                        [
                          1,
                          "#f0f921"
                        ]
                      ],
                      "sequentialminus": [
                        [
                          0,
                          "#0d0887"
                        ],
                        [
                          0.1111111111111111,
                          "#46039f"
                        ],
                        [
                          0.2222222222222222,
                          "#7201a8"
                        ],
                        [
                          0.3333333333333333,
                          "#9c179e"
                        ],
                        [
                          0.4444444444444444,
                          "#bd3786"
                        ],
                        [
                          0.5555555555555556,
                          "#d8576b"
                        ],
                        [
                          0.6666666666666666,
                          "#ed7953"
                        ],
                        [
                          0.7777777777777778,
                          "#fb9f3a"
                        ],
                        [
                          0.8888888888888888,
                          "#fdca26"
                        ],
                        [
                          1,
                          "#f0f921"
                        ]
                      ]
                    },
                    "colorway": [
                      "#636efa",
                      "#EF553B",
                      "#00cc96",
                      "#ab63fa",
                      "#FFA15A",
                      "#19d3f3",
                      "#FF6692",
                      "#B6E880",
                      "#FF97FF",
                      "#FECB52"
                    ],
                    "font": {
                      "color": "#2a3f5f"
                    },
                    "geo": {
                      "bgcolor": "white",
                      "lakecolor": "white",
                      "landcolor": "#E5ECF6",
                      "showlakes": true,
                      "showland": true,
                      "subunitcolor": "white"
                    },
                    "hoverlabel": {
                      "align": "left"
                    },
                    "hovermode": "closest",
                    "mapbox": {
                      "style": "light"
                    },
                    "paper_bgcolor": "white",
                    "plot_bgcolor": "#E5ECF6",
                    "polar": {
                      "angularaxis": {
                        "gridcolor": "white",
                        "linecolor": "white",
                        "ticks": ""
                      },
                      "bgcolor": "#E5ECF6",
                      "radialaxis": {
                        "gridcolor": "white",
                        "linecolor": "white",
                        "ticks": ""
                      }
                    },
                    "scene": {
                      "xaxis": {
                        "backgroundcolor": "#E5ECF6",
                        "gridcolor": "white",
                        "gridwidth": 2,
                        "linecolor": "white",
                        "showbackground": true,
                        "ticks": "",
                        "zerolinecolor": "white"
                      },
                      "yaxis": {
                        "backgroundcolor": "#E5ECF6",
                        "gridcolor": "white",
                        "gridwidth": 2,
                        "linecolor": "white",
                        "showbackground": true,
                        "ticks": "",
                        "zerolinecolor": "white"
                      },
                      "zaxis": {
                        "backgroundcolor": "#E5ECF6",
                        "gridcolor": "white",
                        "gridwidth": 2,
                        "linecolor": "white",
                        "showbackground": true,
                        "ticks": "",
                        "zerolinecolor": "white"
                      }
                    },
                    "shapedefaults": {
                      "line": {
                        "color": "#2a3f5f"
                      }
                    },
                    "ternary": {
                      "aaxis": {
                        "gridcolor": "white",
                        "linecolor": "white",
                        "ticks": ""
                      },
                      "baxis": {
                        "gridcolor": "white",
                        "linecolor": "white",
                        "ticks": ""
                      },
                      "bgcolor": "#E5ECF6",
                      "caxis": {
                        "gridcolor": "white",
                        "linecolor": "white",
                        "ticks": ""
                      }
                    },
                    "title": {
                      "x": 0.05
                    },
                    "xaxis": {
                      "automargin": true,
                      "gridcolor": "white",
                      "linecolor": "white",
                      "ticks": "",
                      "title": {
                        "standoff": 15
                      },
                      "zerolinecolor": "white",
                      "zerolinewidth": 2
                    },
                    "yaxis": {
                      "automargin": true,
                      "gridcolor": "white",
                      "linecolor": "white",
                      "ticks": "",
                      "title": {
                        "standoff": 15
                      },
                      "zerolinecolor": "white",
                      "zerolinewidth": 2
                    }
                  }
                },
                "title": {
                  "text": "Calibration plots (reliability curve)"
                },
                "width": 700,
                "xaxis": {
                  "title": {
                    "text": "Mean predicted value"
                  }
                },
                "yaxis": {
                  "title": {
                    "text": "Fraction of positives"
                  }
                }
              }
            }
          },
          "metadata": {},
          "output_type": "display_data"
        },
        {
          "data": {
            "text/html": [
              "<div>The Brier score metric may be used to assess how well a classifier is calibrated. For more info, please visit https://en.wikipedia.org/wiki/Brier_score</div><br><a href=\"#summary_G5D4I\" style=\"font-size: 14px\">Go to top</a>"
            ]
          },
          "metadata": {},
          "output_type": "display_data"
        },
        {
          "data": {
            "text/html": [
              "<hr style=\"background-color: black;border: 0 none;color: black;height: 1px;\"><h2>Other Checks That Weren't Displayed</h2><style type=\"text/css\">\n",
              "#T_891c5 table {\n",
              "  text-align: left;\n",
              "  white-space: pre-wrap;\n",
              "}\n",
              "#T_891c5 thead {\n",
              "  text-align: left;\n",
              "  white-space: pre-wrap;\n",
              "}\n",
              "#T_891c5 tbody {\n",
              "  text-align: left;\n",
              "  white-space: pre-wrap;\n",
              "}\n",
              "#T_891c5 th {\n",
              "  text-align: left;\n",
              "  white-space: pre-wrap;\n",
              "}\n",
              "#T_891c5 td {\n",
              "  text-align: left;\n",
              "  white-space: pre-wrap;\n",
              "}\n",
              "</style>\n",
              "<table id=\"T_891c5\">\n",
              "  <thead>\n",
              "    <tr>\n",
              "      <th id=\"T_891c5_level0_col0\" class=\"col_heading level0 col0\" >Check</th>\n",
              "      <th id=\"T_891c5_level0_col1\" class=\"col_heading level0 col1\" >Reason</th>\n",
              "    </tr>\n",
              "  </thead>\n",
              "  <tbody>\n",
              "    <tr>\n",
              "      <td id=\"T_891c5_row0_col0\" class=\"data row0 col0\" >Model Error Analysis</td>\n",
              "      <td id=\"T_891c5_row0_col1\" class=\"data row0 col1\" >Unable to train meaningful error model (r^2 score: 0.04)</td>\n",
              "    </tr>\n",
              "    <tr>\n",
              "      <td id=\"T_891c5_row1_col0\" class=\"data row1 col0\" >Index Train Test Leakage</td>\n",
              "      <td id=\"T_891c5_row1_col1\" class=\"data row1 col1\" >There is no index defined to use. Did you pass a DataFrame instead of a Dataset?</td>\n",
              "    </tr>\n",
              "    <tr>\n",
              "      <td id=\"T_891c5_row2_col0\" class=\"data row2 col0\" >Identifier Leakage - Train Dataset</td>\n",
              "      <td id=\"T_891c5_row2_col1\" class=\"data row2 col1\" >Check is irrelevant for Datasets without index or date column</td>\n",
              "    </tr>\n",
              "    <tr>\n",
              "      <td id=\"T_891c5_row3_col0\" class=\"data row3 col0\" >Date Train Test Leakage Overlap</td>\n",
              "      <td id=\"T_891c5_row3_col1\" class=\"data row3 col1\" >There is no datetime defined to use. Did you pass a DataFrame instead of a Dataset?</td>\n",
              "    </tr>\n",
              "    <tr>\n",
              "      <td id=\"T_891c5_row4_col0\" class=\"data row4 col0\" >Date Train Test Leakage Duplicates</td>\n",
              "      <td id=\"T_891c5_row4_col1\" class=\"data row4 col1\" >There is no datetime defined to use. Did you pass a DataFrame instead of a Dataset?</td>\n",
              "    </tr>\n",
              "    <tr>\n",
              "      <td id=\"T_891c5_row5_col0\" class=\"data row5 col0\" >Identifier Leakage - Test Dataset</td>\n",
              "      <td id=\"T_891c5_row5_col1\" class=\"data row5 col1\" >Check is irrelevant for Datasets without index or date column</td>\n",
              "    </tr>\n",
              "    <tr>\n",
              "      <td id=\"T_891c5_row6_col0\" class=\"data row6 col0\" >Regression Error Distribution - Test Dataset</td>\n",
              "      <td id=\"T_891c5_row6_col1\" class=\"data row6 col1\" >Check is relevant for models of type ['regression'], but received model of type 'binary'</td>\n",
              "    </tr>\n",
              "    <tr>\n",
              "      <td id=\"T_891c5_row7_col0\" class=\"data row7 col0\" >Regression Error Distribution - Train Dataset</td>\n",
              "      <td id=\"T_891c5_row7_col1\" class=\"data row7 col1\" >Check is relevant for models of type ['regression'], but received model of type 'binary'</td>\n",
              "    </tr>\n",
              "    <tr>\n",
              "      <td id=\"T_891c5_row8_col0\" class=\"data row8 col0\" >Regression Systematic Error - Test Dataset</td>\n",
              "      <td id=\"T_891c5_row8_col1\" class=\"data row8 col1\" >Check is relevant for models of type ['regression'], but received model of type 'binary'</td>\n",
              "    </tr>\n",
              "    <tr>\n",
              "      <td id=\"T_891c5_row9_col0\" class=\"data row9 col0\" >Regression Systematic Error - Train Dataset</td>\n",
              "      <td id=\"T_891c5_row9_col1\" class=\"data row9 col1\" >Check is relevant for models of type ['regression'], but received model of type 'binary'</td>\n",
              "    </tr>\n",
              "    <tr>\n",
              "      <td id=\"T_891c5_row10_col0\" class=\"data row10 col0\" >Boosting Overfit</td>\n",
              "      <td id=\"T_891c5_row10_col1\" class=\"data row10 col1\" >Check is relevant for Boosting models of type ('AdaBoostClassifier', 'GradientBoostingClassifier', 'LGBMClassifier', 'XGBClassifier', 'CatBoostClassifier', 'AdaBoostRegressor', 'GradientBoostingRegressor', 'LGBMRegressor', 'XGBRegressor', 'CatBoostRegressor'), but received model of type SoftSplitDecisionTreeClassifier</td>\n",
              "    </tr>\n",
              "    <tr>\n",
              "      <td id=\"T_891c5_row11_col0\" class=\"data row11 col0\" >Whole Dataset Drift</td>\n",
              "      <td id=\"T_891c5_row11_col1\" class=\"data row11 col1\" >Nothing found</td>\n",
              "    </tr>\n",
              "    <tr>\n",
              "      <td id=\"T_891c5_row12_col0\" class=\"data row12 col0\" >Special Characters - Test Dataset</td>\n",
              "      <td id=\"T_891c5_row12_col1\" class=\"data row12 col1\" >Nothing found</td>\n",
              "    </tr>\n",
              "    <tr>\n",
              "      <td id=\"T_891c5_row13_col0\" class=\"data row13 col0\" >Special Characters - Train Dataset</td>\n",
              "      <td id=\"T_891c5_row13_col1\" class=\"data row13 col1\" >Nothing found</td>\n",
              "    </tr>\n",
              "    <tr>\n",
              "      <td id=\"T_891c5_row14_col0\" class=\"data row14 col0\" >String Length Out Of Bounds - Test Dataset</td>\n",
              "      <td id=\"T_891c5_row14_col1\" class=\"data row14 col1\" >Nothing found</td>\n",
              "    </tr>\n",
              "    <tr>\n",
              "      <td id=\"T_891c5_row15_col0\" class=\"data row15 col0\" >String Length Out Of Bounds - Train Dataset</td>\n",
              "      <td id=\"T_891c5_row15_col1\" class=\"data row15 col1\" >Nothing found</td>\n",
              "    </tr>\n",
              "    <tr>\n",
              "      <td id=\"T_891c5_row16_col0\" class=\"data row16 col0\" >Data Duplicates - Test Dataset</td>\n",
              "      <td id=\"T_891c5_row16_col1\" class=\"data row16 col1\" >Nothing found</td>\n",
              "    </tr>\n",
              "    <tr>\n",
              "      <td id=\"T_891c5_row17_col0\" class=\"data row17 col0\" >Data Duplicates - Train Dataset</td>\n",
              "      <td id=\"T_891c5_row17_col1\" class=\"data row17 col1\" >Nothing found</td>\n",
              "    </tr>\n",
              "    <tr>\n",
              "      <td id=\"T_891c5_row18_col0\" class=\"data row18 col0\" >String Mismatch - Test Dataset</td>\n",
              "      <td id=\"T_891c5_row18_col1\" class=\"data row18 col1\" >Nothing found</td>\n",
              "    </tr>\n",
              "    <tr>\n",
              "      <td id=\"T_891c5_row19_col0\" class=\"data row19 col0\" >String Mismatch - Train Dataset</td>\n",
              "      <td id=\"T_891c5_row19_col1\" class=\"data row19 col1\" >Nothing found</td>\n",
              "    </tr>\n",
              "    <tr>\n",
              "      <td id=\"T_891c5_row20_col0\" class=\"data row20 col0\" >Mixed Data Types - Test Dataset</td>\n",
              "      <td id=\"T_891c5_row20_col1\" class=\"data row20 col1\" >Nothing found</td>\n",
              "    </tr>\n",
              "    <tr>\n",
              "      <td id=\"T_891c5_row21_col0\" class=\"data row21 col0\" >Mixed Data Types - Train Dataset</td>\n",
              "      <td id=\"T_891c5_row21_col1\" class=\"data row21 col1\" >Nothing found</td>\n",
              "    </tr>\n",
              "    <tr>\n",
              "      <td id=\"T_891c5_row22_col0\" class=\"data row22 col0\" >Single Value in Column - Test Dataset</td>\n",
              "      <td id=\"T_891c5_row22_col1\" class=\"data row22 col1\" >Nothing found</td>\n",
              "    </tr>\n",
              "    <tr>\n",
              "      <td id=\"T_891c5_row23_col0\" class=\"data row23 col0\" >Mixed Nulls - Train Dataset</td>\n",
              "      <td id=\"T_891c5_row23_col1\" class=\"data row23 col1\" >Nothing found</td>\n",
              "    </tr>\n",
              "    <tr>\n",
              "      <td id=\"T_891c5_row24_col0\" class=\"data row24 col0\" >Single Value in Column - Train Dataset</td>\n",
              "      <td id=\"T_891c5_row24_col1\" class=\"data row24 col1\" >Nothing found</td>\n",
              "    </tr>\n",
              "    <tr>\n",
              "      <td id=\"T_891c5_row25_col0\" class=\"data row25 col0\" >Label Ambiguity - Train Dataset</td>\n",
              "      <td id=\"T_891c5_row25_col1\" class=\"data row25 col1\" >Nothing found</td>\n",
              "    </tr>\n",
              "    <tr>\n",
              "      <td id=\"T_891c5_row26_col0\" class=\"data row26 col0\" >Train Test Samples Mix</td>\n",
              "      <td id=\"T_891c5_row26_col1\" class=\"data row26 col1\" >Nothing found</td>\n",
              "    </tr>\n",
              "    <tr>\n",
              "      <td id=\"T_891c5_row27_col0\" class=\"data row27 col0\" >Single Feature Contribution Train-Test</td>\n",
              "      <td id=\"T_891c5_row27_col1\" class=\"data row27 col1\" >Nothing found</td>\n",
              "    </tr>\n",
              "    <tr>\n",
              "      <td id=\"T_891c5_row28_col0\" class=\"data row28 col0\" >String Mismatch Comparison</td>\n",
              "      <td id=\"T_891c5_row28_col1\" class=\"data row28 col1\" >Nothing found</td>\n",
              "    </tr>\n",
              "    <tr>\n",
              "      <td id=\"T_891c5_row29_col0\" class=\"data row29 col0\" >New Label Train Test</td>\n",
              "      <td id=\"T_891c5_row29_col1\" class=\"data row29 col1\" >Nothing found</td>\n",
              "    </tr>\n",
              "    <tr>\n",
              "      <td id=\"T_891c5_row30_col0\" class=\"data row30 col0\" >Category Mismatch Train Test</td>\n",
              "      <td id=\"T_891c5_row30_col1\" class=\"data row30 col1\" >Nothing found</td>\n",
              "    </tr>\n",
              "    <tr>\n",
              "      <td id=\"T_891c5_row31_col0\" class=\"data row31 col0\" >Dominant Frequency Change</td>\n",
              "      <td id=\"T_891c5_row31_col1\" class=\"data row31 col1\" >Nothing found</td>\n",
              "    </tr>\n",
              "    <tr>\n",
              "      <td id=\"T_891c5_row32_col0\" class=\"data row32 col0\" >Mixed Nulls - Test Dataset</td>\n",
              "      <td id=\"T_891c5_row32_col1\" class=\"data row32 col1\" >Nothing found</td>\n",
              "    </tr>\n",
              "    <tr>\n",
              "      <td id=\"T_891c5_row33_col0\" class=\"data row33 col0\" >Label Ambiguity - Test Dataset</td>\n",
              "      <td id=\"T_891c5_row33_col1\" class=\"data row33 col1\" >Nothing found</td>\n",
              "    </tr>\n",
              "  </tbody>\n",
              "</table>\n"
            ]
          },
          "metadata": {},
          "output_type": "display_data"
        },
        {
          "data": {
            "text/html": [
              "<br><a href=\"#summary_G5D4I\" style=\"font-size: 14px\">Go to top</a>"
            ]
          },
          "metadata": {},
          "output_type": "display_data"
        }
      ],
      "source": [
        "suite.run(train_dataset=ds_train, test_dataset=ds_test, model=rf_clf)"
      ]
    }
  ],
  "metadata": {
    "kernelspec": {
      "display_name": "Python 3",
      "language": "python",
      "name": "python3"
    },
    "language_info": {
      "codemirror_mode": {
        "name": "ipython",
        "version": 3
      },
      "file_extension": ".py",
      "mimetype": "text/x-python",
      "name": "python",
      "nbconvert_exporter": "python",
      "pygments_lexer": "ipython3",
      "version": "3.8.9"
    }
  },
  "nbformat": 4,
  "nbformat_minor": 0
}
