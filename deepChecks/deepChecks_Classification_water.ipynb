{
  "cells": [
    {
      "cell_type": "code",
      "execution_count": null,
      "metadata": {
        "collapsed": false
      },
      "outputs": [],
      "source": [
        "%matplotlib inline"
      ]
    },
    {
      "cell_type": "markdown",
      "metadata": {},
      "source": [
        "Quickstart in 5 minutes\n",
        "=======================\n",
        "\n",
        "In order to run your first Deepchecks Suite all you need to have is the\n",
        "data and model that you wish to validate. More specifically, you need:\n",
        "\n",
        "-   Your train and test data (in Pandas DataFrames or Numpy Arrays)\n",
        "-   (optional) A\n",
        "    `supported model </user-guide/tabular/supported_models>`{.interpreted-text\n",
        "    role=\"doc\"} (including XGBoost, scikit-learn models, and many more).\n",
        "    Required for running checks that need the model\\'s predictions for\n",
        "    running.\n",
        "\n",
        "To run your first suite on your data and model, you need only a few\n",
        "lines of code, that start here: [Define a Dataset\n",
        "Object](#define-a-dataset-object).\n",
        "\n",
        "\\# If you don\\'t have deepchecks installed yet:\n",
        "\n",
        "``` {.sourceCode .python}\n",
        "# If you don't have deepchecks installed yet:\n",
        "import sys\n",
        "!{sys.executable} -m pip install deepchecks -U --quiet #--user\n",
        "```\n"
      ]
    },
    {
      "cell_type": "markdown",
      "metadata": {},
      "source": [
        "Load Data, Split Train-Val, and Train a Simple Model\n",
        "====================================================\n",
        "\n",
        "For the purpose of this guide we\\'ll use the simple iris dataset and\n",
        "train a simple random forest model for multiclass classification:\n"
      ]
    },
    {
      "cell_type": "code",
      "execution_count": 1,
      "metadata": {},
      "outputs": [],
      "source": [
        "from random import random\n",
        "from sklearn import tree\n",
        "from sklearn.tree import _tree\n",
        "from sklearn.utils.validation import check_is_fitted, _deprecate_positional_args\n",
        "\n",
        "\n",
        "class SoftSplitDecisionTreeClassifier(tree.DecisionTreeClassifier):\n",
        "    def __init__(self, *,n=100,\n",
        "                 alphaProbability=0.1,\n",
        "                 criterion=\"gini\",\n",
        "                 splitter=\"best\",\n",
        "                 max_depth=None,\n",
        "                 min_samples_split=2,\n",
        "                 min_samples_leaf=1,\n",
        "                 min_weight_fraction_leaf=0.,\n",
        "                 max_features=None,\n",
        "                 random_state=None,\n",
        "                 max_leaf_nodes=None,\n",
        "                 min_impurity_decrease=0.,\n",
        "                 class_weight=None,\n",
        "                 ccp_alpha=0.0):\n",
        "        super().__init__(\n",
        "            criterion=criterion,\n",
        "            splitter=splitter,\n",
        "            max_depth=max_depth,\n",
        "            min_samples_split=min_samples_split,\n",
        "            min_samples_leaf=min_samples_leaf,\n",
        "            min_weight_fraction_leaf=min_weight_fraction_leaf,\n",
        "            max_features=max_features,\n",
        "            random_state=random_state,\n",
        "            max_leaf_nodes=max_leaf_nodes,\n",
        "            min_impurity_decrease=min_impurity_decrease,\n",
        "            class_weight=class_weight,\n",
        "            ccp_alpha=ccp_alpha)\n",
        "        self.n=n\n",
        "        self.alphaProbability=alphaProbability\n",
        "\n",
        "\n",
        "    def predict(self, X, check_input=True):\n",
        "        # check_is_fitted(self)\n",
        "        # X = self._validate_X_predict(X, check_input)\n",
        "        # return self.predictWrapper(X)\n",
        "        \"\"\"Predict class or regression value for X.\n",
        "\n",
        "        For a classification model, the predicted class for each sample in X is\n",
        "        returned. For a regression model, the predicted value based on X is\n",
        "        returned.\n",
        "\n",
        "        Parameters\n",
        "        ----------\n",
        "        X : {array-like, sparse matrix} of shape (n_samples, n_features)\n",
        "            The input samples. Internally, it will be converted to\n",
        "            ``dtype=np.float32`` and if a sparse matrix is provided\n",
        "            to a sparse ``csr_matrix``.\n",
        "\n",
        "        check_input : bool, default=True\n",
        "            Allow to bypass several input checking.\n",
        "            Don't use this parameter unless you know what you do.\n",
        "\n",
        "        Returns\n",
        "        -------\n",
        "        y : array-like of shape (n_samples,) or (n_samples, n_outputs)\n",
        "            The predicted classes, or the predict values.\n",
        "        \"\"\"\n",
        "        check_is_fitted(self)\n",
        "        X = self._validate_X_predict(X, check_input)\n",
        "        proba = self.predict_proba(X,check_input)\n",
        "        n_samples = X.shape[0]\n",
        "\n",
        "        # Classification\n",
        "        if self.n_outputs_ == 1:\n",
        "            return self.classes_.take(np.argmax(proba, axis=1), axis=0)\n",
        "\n",
        "        else:\n",
        "            class_type = self.classes_[0].dtype\n",
        "            predictions = np.zeros((n_samples, self.n_outputs_),\n",
        "                                   dtype=class_type)\n",
        "            for k in range(self.n_outputs_):\n",
        "                predictions[:, k] = self.classes_[k].take(\n",
        "                    np.argmax(proba[:, k], axis=1),\n",
        "                    axis=0)\n",
        "\n",
        "            return predictions\n",
        "\n",
        "    def predictWrapper(self,row,predictionFunction):\n",
        "        '''\n",
        "        Function to wrap the single prediction process, the function will\n",
        "        run the prediction for n iteration\n",
        "        :param X:\n",
        "        :type X:\n",
        "        :param n:\n",
        "        :type n:\n",
        "        :param alphaProbability:\n",
        "        :type alphaProbability:\n",
        "        :return:\n",
        "        :rtype:\n",
        "        '''\n",
        "        predictions = np.array([predictionFunction(row) for i in range(self.n)])\n",
        "        avgPredictions = np.array([np.array([val for val in i]) for i in predictions.mean(0)])\n",
        "        return avgPredictions\n",
        "\n",
        "    def predict_proba(self, X, check_input=True):\n",
        "        \"\"\"Predict class probabilities of the input samples X.\n",
        "\n",
        "        The predicted class probability is the fraction of samples of the same\n",
        "        class in a leaf.\n",
        "\n",
        "        Parameters\n",
        "        ----------\n",
        "        X : {array-like, sparse matrix} of shape (n_samples, n_features)\n",
        "            The input samples. Internally, it will be converted to\n",
        "            ``dtype=np.float32`` and if a sparse matrix is provided\n",
        "            to a sparse ``csr_matrix``.\n",
        "\n",
        "        alphaProbability : double, default=0 probability to choose the opposite decision path.\n",
        "\n",
        "        check_input : bool, default=True\n",
        "            Allow to bypass several input checking.\n",
        "            Don't use this parameter unless you know what you do.\n",
        "\n",
        "        Returns\n",
        "        -------\n",
        "        proba : ndarray of shape (n_samples, n_classes) or list of n_outputs \\\n",
        "            such arrays if n_outputs > 1\n",
        "            The class probabilities of the input samples. The order of the\n",
        "            classes corresponds to that in the attribute :term:`classes_`.\n",
        "        \"\"\"\n",
        "        check_is_fitted(self)\n",
        "        X = self._validate_X_predict(X, check_input)\n",
        "        probabilisticPredictionFunction = self._generateProbabilisticPredictionFunction(self.alphaProbability)\n",
        "        probaList = [self.predictWrapper(row, probabilisticPredictionFunction) for row in X]\n",
        "        proba = np.concatenate(probaList, axis=0)\n",
        "\n",
        "        if self.n_outputs_ == 1:\n",
        "            proba = proba[:, :self.n_classes_]\n",
        "            normalizer = proba.sum(axis=1)[:, np.newaxis]\n",
        "            normalizer[normalizer == 0.0] = 1.0\n",
        "            proba /= normalizer\n",
        "\n",
        "            return proba\n",
        "\n",
        "        else:\n",
        "            all_proba = []\n",
        "\n",
        "            for k in range(self.n_outputs_):\n",
        "                proba_k = proba[:, k, :self.n_classes_[k]]\n",
        "                normalizer = proba_k.sum(axis=1)[:, np.newaxis]\n",
        "                normalizer[normalizer == 0.0] = 1.0\n",
        "                proba_k /= normalizer\n",
        "                all_proba.append(proba_k)\n",
        "\n",
        "            return all_proba\n",
        "\n",
        "    def _generateProbabilisticPredictionFunction(self, alphaProbability):\n",
        "        '''\n",
        "        Private util function to generate probabilistic prediction function.\n",
        "        :param alphaProbability:\n",
        "        :type alphaProbability:\n",
        "        :return: function which accept single record\n",
        "        :rtype: function\n",
        "        '''\n",
        "        tree = self.tree_\n",
        "\n",
        "        def _traverse(sample, currNode):\n",
        "            '''\n",
        "            private function to traverse in the decision tree\n",
        "            :param sample: single record without the target variable\n",
        "            :type sample: pandas dataframe\n",
        "            :param currNode: index of the current node in the tree struct\n",
        "            :type currNode: int\n",
        "            :return: array of n-output of the classes, hold values for the record\n",
        "            :rtype: nd.array\n",
        "            '''\n",
        "            if tree.feature[currNode] != _tree.TREE_UNDEFINED:\n",
        "                randomProb = random()\n",
        "                sampleValue = sample[tree.feature[currNode]]\n",
        "                if sampleValue <= tree.threshold[currNode]:\n",
        "                    if (1 - alphaProbability) >= randomProb:\n",
        "                        return _traverse(sample, tree.children_left[currNode])\n",
        "                    else:\n",
        "                        return _traverse(sample, tree.children_right[currNode])\n",
        "                else:\n",
        "                    if (1 - alphaProbability) >= randomProb:\n",
        "                        return _traverse(sample, tree.children_right[currNode])\n",
        "                    else:\n",
        "                        return _traverse(sample, tree.children_left[currNode])\n",
        "            else:\n",
        "                value = tree.value[currNode]\n",
        "                return value\n",
        "\n",
        "        def _predict_single(sample):\n",
        "            '''\n",
        "            Util function to wrap the sample and the tree traverse for lazy use\n",
        "            :param sample:\n",
        "            :type sample:\n",
        "            :return: application of the traverse with the given sample and the root\n",
        "            :rtype:\n",
        "            '''\n",
        "            return _traverse(sample, 0)\n",
        "\n",
        "        return _predict_single\n",
        "\n",
        "\n",
        "class SoftSplitDecisionTreeRegressor(tree.DecisionTreeRegressor):\n",
        "    \"\"\"A decision tree regressor.\n",
        "\n",
        "    Read more in the :ref:`User Guide <tree>`.\n",
        "\n",
        "    Parameters\n",
        "    ----------\n",
        "    criterion : {\"mse\", \"friedman_mse\", \"mae\", \"poisson\"}, default=\"mse\"\n",
        "        The function to measure the quality of a split. Supported criteria\n",
        "        are \"mse\" for the mean squared error, which is equal to variance\n",
        "        reduction as feature selection criterion and minimizes the L2 loss\n",
        "        using the mean of each terminal node, \"friedman_mse\", which uses mean\n",
        "        squared error with Friedman's improvement score for potential splits,\n",
        "        \"mae\" for the mean absolute error, which minimizes the L1 loss using\n",
        "        the median of each terminal node, and \"poisson\" which uses reduction in\n",
        "        Poisson deviance to find splits.\n",
        "\n",
        "        .. versionadded:: 0.18\n",
        "           Mean Absolute Error (MAE) criterion.\n",
        "\n",
        "        .. versionadded:: 0.24\n",
        "            Poisson deviance criterion.\n",
        "\n",
        "    splitter : {\"best\", \"random\"}, default=\"best\"\n",
        "        The strategy used to choose the split at each node. Supported\n",
        "        strategies are \"best\" to choose the best split and \"random\" to choose\n",
        "        the best random split.\n",
        "\n",
        "    max_depth : int, default=None\n",
        "        The maximum depth of the tree. If None, then nodes are expanded until\n",
        "        all leaves are pure or until all leaves contain less than\n",
        "        min_samples_split samples.\n",
        "\n",
        "    min_samples_split : int or float, default=2\n",
        "        The minimum number of samples required to split an internal node:\n",
        "\n",
        "        - If int, then consider `min_samples_split` as the minimum number.\n",
        "        - If float, then `min_samples_split` is a fraction and\n",
        "          `ceil(min_samples_split * n_samples)` are the minimum\n",
        "          number of samples for each split.\n",
        "\n",
        "        .. versionchanged:: 0.18\n",
        "           Added float values for fractions.\n",
        "\n",
        "    min_samples_leaf : int or float, default=1\n",
        "        The minimum number of samples required to be at a leaf node.\n",
        "        A split point at any depth will only be considered if it leaves at\n",
        "        least ``min_samples_leaf`` training samples in each of the left and\n",
        "        right branches.  This may have the effect of smoothing the model,\n",
        "        especially in regression.\n",
        "\n",
        "        - If int, then consider `min_samples_leaf` as the minimum number.\n",
        "        - If float, then `min_samples_leaf` is a fraction and\n",
        "          `ceil(min_samples_leaf * n_samples)` are the minimum\n",
        "          number of samples for each node.\n",
        "\n",
        "        .. versionchanged:: 0.18\n",
        "           Added float values for fractions.\n",
        "\n",
        "    min_weight_fraction_leaf : float, default=0.0\n",
        "        The minimum weighted fraction of the sum total of weights (of all\n",
        "        the input samples) required to be at a leaf node. Samples have\n",
        "        equal weight when sample_weight is not provided.\n",
        "\n",
        "    max_features : int, float or {\"auto\", \"sqrt\", \"log2\"}, default=None\n",
        "        The number of features to consider when looking for the best split:\n",
        "\n",
        "        - If int, then consider `max_features` features at each split.\n",
        "        - If float, then `max_features` is a fraction and\n",
        "          `int(max_features * n_features)` features are considered at each\n",
        "          split.\n",
        "        - If \"auto\", then `max_features=n_features`.\n",
        "        - If \"sqrt\", then `max_features=sqrt(n_features)`.\n",
        "        - If \"log2\", then `max_features=log2(n_features)`.\n",
        "        - If None, then `max_features=n_features`.\n",
        "\n",
        "        Note: the search for a split does not stop until at least one\n",
        "        valid partition of the node samples is found, even if it requires to\n",
        "        effectively inspect more than ``max_features`` features.\n",
        "\n",
        "    random_state : int, RandomState instance or None, default=None\n",
        "        Controls the randomness of the estimator. The features are always\n",
        "        randomly permuted at each split, even if ``splitter`` is set to\n",
        "        ``\"best\"``. When ``max_features < n_features``, the algorithm will\n",
        "        select ``max_features`` at random at each split before finding the best\n",
        "        split among them. But the best found split may vary across different\n",
        "        runs, even if ``max_features=n_features``. That is the case, if the\n",
        "        improvement of the criterion is identical for several splits and one\n",
        "        split has to be selected at random. To obtain a deterministic behaviour\n",
        "        during fitting, ``random_state`` has to be fixed to an integer.\n",
        "        See :term:`Glossary <random_state>` for details.\n",
        "\n",
        "    max_leaf_nodes : int, default=None\n",
        "        Grow a tree with ``max_leaf_nodes`` in best-first fashion.\n",
        "        Best nodes are defined as relative reduction in impurity.\n",
        "        If None then unlimited number of leaf nodes.\n",
        "\n",
        "    min_impurity_decrease : float, default=0.0\n",
        "        A node will be split if this split induces a decrease of the impurity\n",
        "        greater than or equal to this value.\n",
        "\n",
        "        The weighted impurity decrease equation is the following::\n",
        "\n",
        "            N_t / N * (impurity - N_t_R / N_t * right_impurity\n",
        "                                - N_t_L / N_t * left_impurity)\n",
        "\n",
        "        where ``N`` is the total number of samples, ``N_t`` is the number of\n",
        "        samples at the current node, ``N_t_L`` is the number of samples in the\n",
        "        left child, and ``N_t_R`` is the number of samples in the right child.\n",
        "\n",
        "        ``N``, ``N_t``, ``N_t_R`` and ``N_t_L`` all refer to the weighted sum,\n",
        "        if ``sample_weight`` is passed.\n",
        "\n",
        "        .. versionadded:: 0.19\n",
        "\n",
        "    min_impurity_split : float, default=0\n",
        "        Threshold for early stopping in tree growth. A node will split\n",
        "        if its impurity is above the threshold, otherwise it is a leaf.\n",
        "\n",
        "        .. deprecated:: 0.19\n",
        "           ``min_impurity_split`` has been deprecated in favor of\n",
        "           ``min_impurity_decrease`` in 0.19. The default value of\n",
        "           ``min_impurity_split`` has changed from 1e-7 to 0 in 0.23 and it\n",
        "           will be removed in 1.0 (renaming of 0.25).\n",
        "           Use ``min_impurity_decrease`` instead.\n",
        "\n",
        "    ccp_alpha : non-negative float, default=0.0\n",
        "        Complexity parameter used for Minimal Cost-Complexity Pruning. The\n",
        "        subtree with the largest cost complexity that is smaller than\n",
        "        ``ccp_alpha`` will be chosen. By default, no pruning is performed. See\n",
        "        :ref:`minimal_cost_complexity_pruning` for details.\n",
        "\n",
        "        .. versionadded:: 0.22\n",
        "\n",
        "    Attributes\n",
        "    ----------\n",
        "    feature_importances_ : ndarray of shape (n_features,)\n",
        "        The feature importances.\n",
        "        The higher, the more important the feature.\n",
        "        The importance of a feature is computed as the\n",
        "        (normalized) total reduction of the criterion brought\n",
        "        by that feature. It is also known as the Gini importance [4]_.\n",
        "\n",
        "        Warning: impurity-based feature importances can be misleading for\n",
        "        high cardinality features (many unique values). See\n",
        "        :func:`sklearn.inspection.permutation_importance` as an alternative.\n",
        "\n",
        "    max_features_ : int\n",
        "        The inferred value of max_features.\n",
        "\n",
        "    n_features_ : int\n",
        "        The number of features when ``fit`` is performed.\n",
        "\n",
        "    n_outputs_ : int\n",
        "        The number of outputs when ``fit`` is performed.\n",
        "\n",
        "    tree_ : Tree instance\n",
        "        The underlying Tree object. Please refer to\n",
        "        ``help(sklearn.tree._tree.Tree)`` for attributes of Tree object and\n",
        "        :ref:`sphx_glr_auto_examples_tree_plot_unveil_tree_structure.py`\n",
        "        for basic usage of these attributes.\n",
        "\n",
        "    See Also\n",
        "    --------\n",
        "    DecisionTreeClassifier : A decision tree classifier.\n",
        "\n",
        "    Notes\n",
        "    -----\n",
        "    The default values for the parameters controlling the size of the trees\n",
        "    (e.g. ``max_depth``, ``min_samples_leaf``, etc.) lead to fully grown and\n",
        "    unpruned trees which can potentially be very large on some data sets. To\n",
        "    reduce memory consumption, the complexity and size of the trees should be\n",
        "    controlled by setting those parameter values.\n",
        "\n",
        "    References\n",
        "    ----------\n",
        "\n",
        "    .. [1] https://en.wikipedia.org/wiki/Decision_tree_learning\n",
        "\n",
        "    .. [2] L. Breiman, J. Friedman, R. Olshen, and C. Stone, \"Classification\n",
        "           and Regression Trees\", Wadsworth, Belmont, CA, 1984.\n",
        "\n",
        "    .. [3] T. Hastie, R. Tibshirani and J. Friedman. \"Elements of Statistical\n",
        "           Learning\", Springer, 2009.\n",
        "\n",
        "    .. [4] L. Breiman, and A. Cutler, \"Random Forests\",\n",
        "           https://www.stat.berkeley.edu/~breiman/RandomForests/cc_home.htm\n",
        "\n",
        "    Examples\n",
        "    --------\n",
        "    >>> from sklearn.datasets import load_diabetes\n",
        "    >>> from sklearn.model_selection import cross_val_score\n",
        "    >>> from sklearn.tree import DecisionTreeRegressor\n",
        "    >>> X, y = load_diabetes(return_X_y=True)\n",
        "    >>> regressor = DecisionTreeRegressor(random_state=0)\n",
        "    >>> cross_val_score(regressor, X, y, cv=10)\n",
        "    ...                    # doctest: +SKIP\n",
        "    ...\n",
        "    array([-0.39..., -0.46...,  0.02...,  0.06..., -0.50...,\n",
        "           0.16...,  0.11..., -0.73..., -0.30..., -0.00...])\n",
        "    \"\"\"\n",
        "\n",
        "    def __init__(self, *,n=100,\n",
        "                 alphaProbability=0.1,\n",
        "                 criterion=\"mse\",\n",
        "                 splitter=\"best\",\n",
        "                 max_depth=None,\n",
        "                 min_samples_split=2,\n",
        "                 min_samples_leaf=1,\n",
        "                 min_weight_fraction_leaf=0.,\n",
        "                 max_features=None,\n",
        "                 random_state=None,\n",
        "                 max_leaf_nodes=None,\n",
        "                 min_impurity_decrease=0.,\n",
        "                 min_impurity_split=None,\n",
        "                 ccp_alpha=0.0):\n",
        "        super().__init__(\n",
        "            criterion=criterion,\n",
        "            splitter=splitter,\n",
        "            max_depth=max_depth,\n",
        "            min_samples_split=min_samples_split,\n",
        "            min_samples_leaf=min_samples_leaf,\n",
        "            min_weight_fraction_leaf=min_weight_fraction_leaf,\n",
        "            max_features=max_features,\n",
        "            max_leaf_nodes=max_leaf_nodes,\n",
        "            random_state=random_state,\n",
        "            min_impurity_decrease=min_impurity_decrease,\n",
        "            min_impurity_split=min_impurity_split,\n",
        "            ccp_alpha=ccp_alpha)\n",
        "        self.n=n\n",
        "        self.alphaProbability=alphaProbability\n",
        "\n",
        "    def predict(self, X, check_input=True):\n",
        "        \"\"\"Predict class or regression value for X.\n",
        "\n",
        "            For a classification model, the predicted class for each sample in X is\n",
        "            returned. For a regression model, the predicted value based on X is\n",
        "            returned.\n",
        "\n",
        "            Parameters\n",
        "            ----------\n",
        "            X : {array-like, sparse matrix} of shape (n_samples, n_features)\n",
        "                The input samples. Internally, it will be converted to\n",
        "                ``dtype=np.float32`` and if a sparse matrix is provided\n",
        "                to a sparse ``csr_matrix``.\n",
        "\n",
        "            alphaProbability : double, default=0 probability to choose the opposite decision path.\n",
        "\n",
        "            check_input : bool, default=True\n",
        "                Allow to bypass several input checking.\n",
        "                Don't use this parameter unless you know what you do.\n",
        "\n",
        "            Returns\n",
        "            -------\n",
        "            y : array-like of shape (n_samples,) or (n_samples, n_outputs)\n",
        "                The predicted classes, or the predict values.\n",
        "            \"\"\"\n",
        "        check_is_fitted(self)\n",
        "        X = self._validate_X_predict(X, check_input)\n",
        "        probabilisticPredictionFunction = self._generateProbabilisticPredictionFunction(self.alphaProbability)\n",
        "        probaList = [self.predictWrapper(row,probabilisticPredictionFunction) for row in X]\n",
        "        proba = np.concatenate(probaList, axis=0)\n",
        "\n",
        "        # Regression\n",
        "        if self.n_outputs_ == 1:\n",
        "            return proba[:, 0]\n",
        "\n",
        "        else:\n",
        "            return proba[:, :, 0]\n",
        "\n",
        "    def _generateProbabilisticPredictionFunction(self, alphaProbability):\n",
        "        '''\n",
        "        Private util function to generate probabilistic prediction function.\n",
        "        :param alphaProbability:\n",
        "        :type alphaProbability:\n",
        "        :return: function which accept single record\n",
        "        :rtype: function\n",
        "        '''\n",
        "        tree = self.tree_\n",
        "\n",
        "        def _traverse(sample, currNode):\n",
        "            '''\n",
        "            private function to traverse in the decision tree\n",
        "            :param sample: single record without the target variable\n",
        "            :type sample: pandas dataframe\n",
        "            :param currNode: index of the current node in the tree struct\n",
        "            :type currNode: int\n",
        "            :return: array of n-output of the classes, hold values for the record\n",
        "            :rtype: nd.array\n",
        "            '''\n",
        "            if tree.feature[currNode] != _tree.TREE_UNDEFINED:\n",
        "                randomProb = random()\n",
        "                sampleValue = sample[tree.feature[currNode]]\n",
        "                if sampleValue <= tree.threshold[currNode]:\n",
        "                    if (1 - alphaProbability) >= randomProb:\n",
        "                        return _traverse(sample, tree.children_left[currNode])\n",
        "                    else:\n",
        "                        return _traverse(sample, tree.children_right[currNode])\n",
        "                else:\n",
        "                    if (1 - alphaProbability) >= randomProb:\n",
        "                        return _traverse(sample, tree.children_right[currNode])\n",
        "                    else:\n",
        "                        return _traverse(sample, tree.children_left[currNode])\n",
        "            else:\n",
        "                value = tree.value[currNode]\n",
        "                return value\n",
        "\n",
        "        def _predict_single(sample):\n",
        "            '''\n",
        "            Util function to wrap the sample and the tree traverse for lazy use\n",
        "            :param sample:\n",
        "            :type sample:\n",
        "            :return: application of the traverse with the given sample and the root\n",
        "            :rtype:\n",
        "            '''\n",
        "            return _traverse(sample, 0)\n",
        "\n",
        "        return _predict_single\n",
        "\n",
        "    def predictWrapper(self, row, predictionFunction):\n",
        "        '''\n",
        "        Function to wrap the single prediction process, the function will\n",
        "        run the prediction for n iteration\n",
        "        :param X:\n",
        "        :type X:\n",
        "        :param n:\n",
        "        :type n:\n",
        "        :param alphaProbability:\n",
        "        :type alphaProbability:\n",
        "        :return:\n",
        "        :rtype:\n",
        "        '''\n",
        "        predictions = np.array([predictionFunction(row) for i in range(self.n)])\n",
        "        avgPredictions = np.array([np.array([val for val in i]) for i in predictions.mean(0)])\n",
        "        return avgPredictions\n"
      ]
    },
    {
      "cell_type": "code",
      "execution_count": 15,
      "metadata": {
        "collapsed": false
      },
      "outputs": [],
      "source": [
        "# General imports\n",
        "import pandas as pd\n",
        "import numpy as np\n",
        "from sklearn.ensemble import RandomForestClassifier\n",
        "from sklearn.model_selection import train_test_split\n",
        "\n",
        "waterDataset = pd.read_csv('../datasets/classification/waterQuality.csv')\n",
        "waterDataset.fillna(waterDataset.mean(), inplace=True)\n",
        "\n",
        "# Load Data\n",
        "water_df = waterDataset\n",
        "label_col = 'Potability'\n",
        "df_train, df_test = train_test_split(water_df, stratify=water_df[label_col], random_state=0)\n",
        "\n",
        "# Train Model\n",
        "rf_clf = SoftSplitDecisionTreeClassifier()\n",
        "rf_clf.fit(df_train.drop(label_col, axis=1), df_train[label_col]);"
      ]
    },
    {
      "cell_type": "markdown",
      "metadata": {},
      "source": [
        "Define a Dataset Object\n",
        "=======================\n",
        "\n",
        "Initialize the Dataset object, stating the relevant metadata about the\n",
        "dataset (e.g. the name for the label column)\n",
        "\n",
        "Check out the Dataset\\'s attributes to see which additional special\n",
        "columns can be declared and used (e.g. date column, index column).\n"
      ]
    },
    {
      "cell_type": "code",
      "execution_count": 16,
      "metadata": {
        "collapsed": false
      },
      "outputs": [],
      "source": [
        "from deepchecks.tabular import Dataset\n",
        "\n",
        "# We explicitly state that this dataset has no categorical features, otherwise they will be automatically inferred\n",
        "# If the dataset has categorical features, the best practice is to pass a list with their names\n",
        "\n",
        "ds_train = Dataset(df_train, label=label_col, cat_features=[])\n",
        "ds_test =  Dataset(df_test,  label=label_col, cat_features=[])"
      ]
    },
    {
      "cell_type": "code",
      "execution_count": 17,
      "metadata": {
        "collapsed": false
      },
      "outputs": [],
      "source": [
        "from deepchecks.tabular.suites import full_suite\n",
        "\n",
        "suite = full_suite()"
      ]
    },
    {
      "cell_type": "code",
      "execution_count": 18,
      "metadata": {
        "collapsed": false
      },
      "outputs": [
        {
          "name": "stdout",
          "output_type": "stream",
          "text": [
            "Full Suite:   6%|██                                 | 2/35 [00:00<00:04,  8.16 Check/s, Check=Confusion Matrix Report]"
          ]
        },
        {
          "name": "stderr",
          "output_type": "stream",
          "text": [
            "/Users/eshmueli/Library/Python/3.8/lib/python/site-packages/sklearn/base.py:450: UserWarning:\n",
            "\n",
            "X does not have valid feature names, but SoftSplitDecisionTreeClassifier was fitted with feature names\n",
            "\n",
            "/Users/eshmueli/Library/Python/3.8/lib/python/site-packages/sklearn/base.py:450: UserWarning:\n",
            "\n",
            "X does not have valid feature names, but SoftSplitDecisionTreeClassifier was fitted with feature names\n",
            "\n",
            "/Users/eshmueli/Library/Python/3.8/lib/python/site-packages/sklearn/base.py:450: UserWarning:\n",
            "\n",
            "X does not have valid feature names, but SoftSplitDecisionTreeClassifier was fitted with feature names\n",
            "\n",
            "/Users/eshmueli/Library/Python/3.8/lib/python/site-packages/sklearn/base.py:450: UserWarning:\n",
            "\n",
            "X does not have valid feature names, but SoftSplitDecisionTreeClassifier was fitted with feature names\n",
            "\n"
          ]
        },
        {
          "name": "stdout",
          "output_type": "stream",
          "text": [
            "Full Suite:   9%|███                                | 3/35 [00:16<03:13,  6.04s/ Check, Check=Performance Report]     "
          ]
        },
        {
          "name": "stderr",
          "output_type": "stream",
          "text": [
            "/Users/eshmueli/Library/Python/3.8/lib/python/site-packages/sklearn/base.py:450: UserWarning:\n",
            "\n",
            "X does not have valid feature names, but SoftSplitDecisionTreeClassifier was fitted with feature names\n",
            "\n",
            "/Users/eshmueli/Library/Python/3.8/lib/python/site-packages/sklearn/base.py:450: UserWarning:\n",
            "\n",
            "X does not have valid feature names, but SoftSplitDecisionTreeClassifier was fitted with feature names\n",
            "\n",
            "/Users/eshmueli/Library/Python/3.8/lib/python/site-packages/sklearn/base.py:450: UserWarning:\n",
            "\n",
            "X does not have valid feature names, but SoftSplitDecisionTreeClassifier was fitted with feature names\n",
            "\n",
            "/Users/eshmueli/Library/Python/3.8/lib/python/site-packages/sklearn/base.py:450: UserWarning:\n",
            "\n",
            "X does not have valid feature names, but SoftSplitDecisionTreeClassifier was fitted with feature names\n",
            "\n",
            "/Users/eshmueli/Library/Python/3.8/lib/python/site-packages/sklearn/base.py:450: UserWarning:\n",
            "\n",
            "X does not have valid feature names, but SoftSplitDecisionTreeClassifier was fitted with feature names\n",
            "\n",
            "/Users/eshmueli/Library/Python/3.8/lib/python/site-packages/sklearn/base.py:450: UserWarning:\n",
            "\n",
            "X does not have valid feature names, but SoftSplitDecisionTreeClassifier was fitted with feature names\n",
            "\n",
            "/Users/eshmueli/Library/Python/3.8/lib/python/site-packages/sklearn/base.py:450: UserWarning:\n",
            "\n",
            "X does not have valid feature names, but SoftSplitDecisionTreeClassifier was fitted with feature names\n",
            "\n",
            "/Users/eshmueli/Library/Python/3.8/lib/python/site-packages/sklearn/base.py:450: UserWarning:\n",
            "\n",
            "X does not have valid feature names, but SoftSplitDecisionTreeClassifier was fitted with feature names\n",
            "\n",
            "/Users/eshmueli/Library/Python/3.8/lib/python/site-packages/sklearn/base.py:450: UserWarning:\n",
            "\n",
            "X does not have valid feature names, but SoftSplitDecisionTreeClassifier was fitted with feature names\n",
            "\n"
          ]
        },
        {
          "name": "stdout",
          "output_type": "stream",
          "text": [
            "Full Suite:  14%|█████                              | 5/35 [01:18<09:19, 18.65s/ Check, Check=Simple Model Comparison]"
          ]
        },
        {
          "name": "stderr",
          "output_type": "stream",
          "text": [
            "/Users/eshmueli/Library/Python/3.8/lib/python/site-packages/sklearn/base.py:450: UserWarning:\n",
            "\n",
            "X does not have valid feature names, but SoftSplitDecisionTreeClassifier was fitted with feature names\n",
            "\n",
            "/Users/eshmueli/Library/Python/3.8/lib/python/site-packages/sklearn/base.py:450: UserWarning:\n",
            "\n",
            "X does not have valid feature names, but SoftSplitDecisionTreeClassifier was fitted with feature names\n",
            "\n"
          ]
        },
        {
          "name": "stdout",
          "output_type": "stream",
          "text": [
            "Full Suite:  17%|██████                             | 6/35 [01:22<06:43, 13.91s/ Check, Check=Model Error Analysis]   "
          ]
        },
        {
          "name": "stderr",
          "output_type": "stream",
          "text": [
            "/Users/eshmueli/Library/Python/3.8/lib/python/site-packages/sklearn/base.py:450: UserWarning:\n",
            "\n",
            "X does not have valid feature names, but SoftSplitDecisionTreeClassifier was fitted with feature names\n",
            "\n"
          ]
        },
        {
          "name": "stdout",
          "output_type": "stream",
          "text": [
            "Full Suite:  34%|████████████                       | 12/35 [01:53<05:40, 14.80s/ Check, Check=Model Inference Time]        "
          ]
        },
        {
          "name": "stderr",
          "output_type": "stream",
          "text": [
            "/Users/eshmueli/Library/Python/3.8/lib/python/site-packages/sklearn/base.py:450: UserWarning:\n",
            "\n",
            "X does not have valid feature names, but SoftSplitDecisionTreeClassifier was fitted with feature names\n",
            "\n",
            "/Users/eshmueli/Library/Python/3.8/lib/python/site-packages/sklearn/base.py:450: UserWarning:\n",
            "\n",
            "X does not have valid feature names, but SoftSplitDecisionTreeClassifier was fitted with feature names\n",
            "\n",
            "/Users/eshmueli/Library/Python/3.8/lib/python/site-packages/sklearn/base.py:450: UserWarning:\n",
            "\n",
            "X does not have valid feature names, but SoftSplitDecisionTreeClassifier was fitted with feature names\n",
            "\n"
          ]
        },
        {
          "name": "stdout",
          "output_type": "stream",
          "text": [
            "                                                                                                                                      \r"
          ]
        },
        {
          "data": {
            "text/html": [
              "<hr style=\"background-color: black;border: 0 none;color: black;height: 1px;\">\n",
              "        <h1 id=\"summary_Y10XZ\">Full Suite</h1>\n",
              "        <p>\n",
              "            The suite is composed of various checks such as: Regression Systematic Error, Date Train Test Leakage Overlap, Model Info, etc...<br>\n",
              "            Each check may contain conditions (which will result in pass / fail / warning / error\n",
              "            , represented by \n",
              "    <span style=\"color: green;display:inline-block\">✓</span> /\n",
              "    <span style=\"color: red;display:inline-block\">✖</span> /\n",
              "    <span style=\"color: orange;font-weight:bold;display:inline-block\">!</span> /\n",
              "    <span style=\"color: firebrick;font-weight:bold;display:inline-block\">⁈</span>\n",
              "    ) as well as other outputs such as plots or tables.<br>\n",
              "            Suites, checks and conditions can all be modified. Read more about\n",
              "            <a href=https://docs.deepchecks.com/en/stable/examples/guides/create_a_custom_suite.html?utm_source=display_output&utm_medium=referral&utm_campaign=suite_link target=\"_blank\">custom suites</a>.\n",
              "        </p>\n",
              "        "
            ]
          },
          "metadata": {},
          "output_type": "display_data"
        },
        {
          "data": {
            "text/html": [
              "<h2>Conditions Summary</h2><style type=\"text/css\">\n",
              "#T_cd3db table {\n",
              "  text-align: left;\n",
              "  white-space: pre-wrap;\n",
              "}\n",
              "#T_cd3db thead {\n",
              "  text-align: left;\n",
              "  white-space: pre-wrap;\n",
              "}\n",
              "#T_cd3db tbody {\n",
              "  text-align: left;\n",
              "  white-space: pre-wrap;\n",
              "}\n",
              "#T_cd3db th {\n",
              "  text-align: left;\n",
              "  white-space: pre-wrap;\n",
              "}\n",
              "#T_cd3db td {\n",
              "  text-align: left;\n",
              "  white-space: pre-wrap;\n",
              "}\n",
              "</style>\n",
              "<table id=\"T_cd3db\">\n",
              "  <thead>\n",
              "    <tr>\n",
              "      <th id=\"T_cd3db_level0_col0\" class=\"col_heading level0 col0\" >Status</th>\n",
              "      <th id=\"T_cd3db_level0_col1\" class=\"col_heading level0 col1\" >Check</th>\n",
              "      <th id=\"T_cd3db_level0_col2\" class=\"col_heading level0 col2\" >Condition</th>\n",
              "      <th id=\"T_cd3db_level0_col3\" class=\"col_heading level0 col3\" >More Info</th>\n",
              "    </tr>\n",
              "  </thead>\n",
              "  <tbody>\n",
              "    <tr>\n",
              "      <td id=\"T_cd3db_row0_col0\" class=\"data row0 col0\" ><div style=\"color: red;text-align: center\">✖</div></td>\n",
              "      <td id=\"T_cd3db_row0_col1\" class=\"data row0 col1\" ><a href=#PerformanceReport_Y10XZ>Performance Report</a></td>\n",
              "      <td id=\"T_cd3db_row0_col2\" class=\"data row0 col2\" >Train-Test scores relative degradation is not greater than 0.1</td>\n",
              "      <td id=\"T_cd3db_row0_col3\" class=\"data row0 col3\" >F1 for class 0 (train=0.84 test=0.74)\n",
              "Precision for class 0 (train=0.75 test=0.66)\n",
              "Recall for class 0 (train=0.96 test=0.84)\n",
              "F1 for class 1 (train=0.64 test=0.4)\n",
              "Precision for class 1 (train=0.88 test=0.6)\n",
              "Recall for class 1 (train=0.49 test=0.29)</td>\n",
              "    </tr>\n",
              "    <tr>\n",
              "      <td id=\"T_cd3db_row1_col0\" class=\"data row1 col0\" ><div style=\"color: red;text-align: center\">✖</div></td>\n",
              "      <td id=\"T_cd3db_row1_col1\" class=\"data row1 col1\" ><a href=#ROCReport-TestDataset_Y10XZ>ROC Report - Test Dataset</a></td>\n",
              "      <td id=\"T_cd3db_row1_col2\" class=\"data row1 col2\" >AUC score for all the classes is not less than 0.7</td>\n",
              "      <td id=\"T_cd3db_row1_col3\" class=\"data row1 col3\" >Found classes with AUC below threshold: {0: '0.62', 1: '0.62'}</td>\n",
              "    </tr>\n",
              "    <tr>\n",
              "      <td id=\"T_cd3db_row2_col0\" class=\"data row2 col0\" ><div style=\"color: red;text-align: center\">✖</div></td>\n",
              "      <td id=\"T_cd3db_row2_col1\" class=\"data row2 col1\" ><a href=#SimpleModelComparison_Y10XZ>Simple Model Comparison</a></td>\n",
              "      <td id=\"T_cd3db_row2_col2\" class=\"data row2 col2\" >Model performance gain over simple model is not less than 10%</td>\n",
              "      <td id=\"T_cd3db_row2_col3\" class=\"data row2 col3\" >Found metrics with gain below threshold: {'F1': {0: '-14.09%'}}</td>\n",
              "    </tr>\n",
              "    <tr>\n",
              "      <td id=\"T_cd3db_row3_col0\" class=\"data row3 col0\" ><div style=\"color: red;text-align: center\">✖</div></td>\n",
              "      <td id=\"T_cd3db_row3_col1\" class=\"data row3 col1\" ><a href=#ModelInferenceTime-TrainDataset_Y10XZ>Model Inference Time - Train Dataset</a></td>\n",
              "      <td id=\"T_cd3db_row3_col2\" class=\"data row3 col2\" >Average model inference time for one sample is not greater than 0.001</td>\n",
              "      <td id=\"T_cd3db_row3_col3\" class=\"data row3 col3\" >Found average inference time (in seconds) above threshold: 0.00468164</td>\n",
              "    </tr>\n",
              "    <tr>\n",
              "      <td id=\"T_cd3db_row4_col0\" class=\"data row4 col0\" ><div style=\"color: red;text-align: center\">✖</div></td>\n",
              "      <td id=\"T_cd3db_row4_col1\" class=\"data row4 col1\" ><a href=#ModelInferenceTime-TestDataset_Y10XZ>Model Inference Time - Test Dataset</a></td>\n",
              "      <td id=\"T_cd3db_row4_col2\" class=\"data row4 col2\" >Average model inference time for one sample is not greater than 0.001</td>\n",
              "      <td id=\"T_cd3db_row4_col3\" class=\"data row4 col3\" >Found average inference time (in seconds) above threshold: 0.00467828</td>\n",
              "    </tr>\n",
              "    <tr>\n",
              "      <td id=\"T_cd3db_row5_col0\" class=\"data row5 col0\" ><div style=\"color: green;text-align: center\">✓</div></td>\n",
              "      <td id=\"T_cd3db_row5_col1\" class=\"data row5 col1\" ><a href=#ROCReport-TrainDataset_Y10XZ>ROC Report - Train Dataset</a></td>\n",
              "      <td id=\"T_cd3db_row5_col2\" class=\"data row5 col2\" >AUC score for all the classes is not less than 0.7</td>\n",
              "      <td id=\"T_cd3db_row5_col3\" class=\"data row5 col3\" ></td>\n",
              "    </tr>\n",
              "    <tr>\n",
              "      <td id=\"T_cd3db_row6_col0\" class=\"data row6 col0\" ><div style=\"color: green;text-align: center\">✓</div></td>\n",
              "      <td id=\"T_cd3db_row6_col1\" class=\"data row6 col1\" ><a href=#TrainTestDrift_Y10XZ>Train Test Drift</a></td>\n",
              "      <td id=\"T_cd3db_row6_col2\" class=\"data row6 col2\" >PSI <= 0.2 and Earth Mover's Distance <= 0.1</td>\n",
              "      <td id=\"T_cd3db_row6_col3\" class=\"data row6 col3\" ></td>\n",
              "    </tr>\n",
              "    <tr>\n",
              "      <td id=\"T_cd3db_row7_col0\" class=\"data row7 col0\" ><div style=\"color: green;text-align: center\">✓</div></td>\n",
              "      <td id=\"T_cd3db_row7_col1\" class=\"data row7 col1\" ><a href=#TrainTestLabelDrift_Y10XZ>Train Test Label Drift</a></td>\n",
              "      <td id=\"T_cd3db_row7_col2\" class=\"data row7 col2\" >PSI <= 0.2 and Earth Mover's Distance <= 0.1 for label drift</td>\n",
              "      <td id=\"T_cd3db_row7_col3\" class=\"data row7 col3\" ></td>\n",
              "    </tr>\n",
              "    <tr>\n",
              "      <td id=\"T_cd3db_row8_col0\" class=\"data row8 col0\" ><div style=\"color: green;text-align: center\">✓</div></td>\n",
              "      <td id=\"T_cd3db_row8_col1\" class=\"data row8 col1\" ><a href=#DatasetsSizeComparison_Y10XZ>Datasets Size Comparison</a></td>\n",
              "      <td id=\"T_cd3db_row8_col2\" class=\"data row8 col2\" >Test-Train size ratio is not smaller than 0.01</td>\n",
              "      <td id=\"T_cd3db_row8_col3\" class=\"data row8 col3\" ></td>\n",
              "    </tr>\n",
              "    <tr>\n",
              "      <td id=\"T_cd3db_row9_col0\" class=\"data row9 col0\" ><div style=\"color: green;text-align: center\">✓</div></td>\n",
              "      <td id=\"T_cd3db_row9_col1\" class=\"data row9 col1\" >Mixed Data Types - Test Dataset</td>\n",
              "      <td id=\"T_cd3db_row9_col2\" class=\"data row9 col2\" >Rare data types in column are either more than 10% or less than 1% of the data</td>\n",
              "      <td id=\"T_cd3db_row9_col3\" class=\"data row9 col3\" ></td>\n",
              "    </tr>\n",
              "    <tr>\n",
              "      <td id=\"T_cd3db_row10_col0\" class=\"data row10 col0\" ><div style=\"color: green;text-align: center\">✓</div></td>\n",
              "      <td id=\"T_cd3db_row10_col1\" class=\"data row10 col1\" >String Mismatch - Train Dataset</td>\n",
              "      <td id=\"T_cd3db_row10_col2\" class=\"data row10 col2\" >No string variants</td>\n",
              "      <td id=\"T_cd3db_row10_col3\" class=\"data row10 col3\" ></td>\n",
              "    </tr>\n",
              "    <tr>\n",
              "      <td id=\"T_cd3db_row11_col0\" class=\"data row11 col0\" ><div style=\"color: green;text-align: center\">✓</div></td>\n",
              "      <td id=\"T_cd3db_row11_col1\" class=\"data row11 col1\" >String Mismatch - Test Dataset</td>\n",
              "      <td id=\"T_cd3db_row11_col2\" class=\"data row11 col2\" >No string variants</td>\n",
              "      <td id=\"T_cd3db_row11_col3\" class=\"data row11 col3\" ></td>\n",
              "    </tr>\n",
              "    <tr>\n",
              "      <td id=\"T_cd3db_row12_col0\" class=\"data row12 col0\" ><div style=\"color: green;text-align: center\">✓</div></td>\n",
              "      <td id=\"T_cd3db_row12_col1\" class=\"data row12 col1\" >Data Duplicates - Train Dataset</td>\n",
              "      <td id=\"T_cd3db_row12_col2\" class=\"data row12 col2\" >Duplicate data ratio is not greater than 0%</td>\n",
              "      <td id=\"T_cd3db_row12_col3\" class=\"data row12 col3\" ></td>\n",
              "    </tr>\n",
              "    <tr>\n",
              "      <td id=\"T_cd3db_row13_col0\" class=\"data row13 col0\" ><div style=\"color: green;text-align: center\">✓</div></td>\n",
              "      <td id=\"T_cd3db_row13_col1\" class=\"data row13 col1\" >Special Characters - Train Dataset</td>\n",
              "      <td id=\"T_cd3db_row13_col2\" class=\"data row13 col2\" >Ratio of entirely special character samples not greater than 0.1%</td>\n",
              "      <td id=\"T_cd3db_row13_col3\" class=\"data row13 col3\" ></td>\n",
              "    </tr>\n",
              "    <tr>\n",
              "      <td id=\"T_cd3db_row14_col0\" class=\"data row14 col0\" ><div style=\"color: green;text-align: center\">✓</div></td>\n",
              "      <td id=\"T_cd3db_row14_col1\" class=\"data row14 col1\" >String Length Out Of Bounds - Train Dataset</td>\n",
              "      <td id=\"T_cd3db_row14_col2\" class=\"data row14 col2\" >Ratio of outliers not greater than 0% string length outliers</td>\n",
              "      <td id=\"T_cd3db_row14_col3\" class=\"data row14 col3\" ></td>\n",
              "    </tr>\n",
              "    <tr>\n",
              "      <td id=\"T_cd3db_row15_col0\" class=\"data row15 col0\" ><div style=\"color: green;text-align: center\">✓</div></td>\n",
              "      <td id=\"T_cd3db_row15_col1\" class=\"data row15 col1\" >String Length Out Of Bounds - Test Dataset</td>\n",
              "      <td id=\"T_cd3db_row15_col2\" class=\"data row15 col2\" >Ratio of outliers not greater than 0% string length outliers</td>\n",
              "      <td id=\"T_cd3db_row15_col3\" class=\"data row15 col3\" ></td>\n",
              "    </tr>\n",
              "    <tr>\n",
              "      <td id=\"T_cd3db_row16_col0\" class=\"data row16 col0\" ><div style=\"color: green;text-align: center\">✓</div></td>\n",
              "      <td id=\"T_cd3db_row16_col1\" class=\"data row16 col1\" >Mixed Data Types - Train Dataset</td>\n",
              "      <td id=\"T_cd3db_row16_col2\" class=\"data row16 col2\" >Rare data types in column are either more than 10% or less than 1% of the data</td>\n",
              "      <td id=\"T_cd3db_row16_col3\" class=\"data row16 col3\" ></td>\n",
              "    </tr>\n",
              "    <tr>\n",
              "      <td id=\"T_cd3db_row17_col0\" class=\"data row17 col0\" ><div style=\"color: green;text-align: center\">✓</div></td>\n",
              "      <td id=\"T_cd3db_row17_col1\" class=\"data row17 col1\" >Special Characters - Test Dataset</td>\n",
              "      <td id=\"T_cd3db_row17_col2\" class=\"data row17 col2\" >Ratio of entirely special character samples not greater than 0.1%</td>\n",
              "      <td id=\"T_cd3db_row17_col3\" class=\"data row17 col3\" ></td>\n",
              "    </tr>\n",
              "    <tr>\n",
              "      <td id=\"T_cd3db_row18_col0\" class=\"data row18 col0\" ><div style=\"color: green;text-align: center\">✓</div></td>\n",
              "      <td id=\"T_cd3db_row18_col1\" class=\"data row18 col1\" >Data Duplicates - Test Dataset</td>\n",
              "      <td id=\"T_cd3db_row18_col2\" class=\"data row18 col2\" >Duplicate data ratio is not greater than 0%</td>\n",
              "      <td id=\"T_cd3db_row18_col3\" class=\"data row18 col3\" ></td>\n",
              "    </tr>\n",
              "    <tr>\n",
              "      <td id=\"T_cd3db_row19_col0\" class=\"data row19 col0\" ><div style=\"color: green;text-align: center\">✓</div></td>\n",
              "      <td id=\"T_cd3db_row19_col1\" class=\"data row19 col1\" >Mixed Nulls - Test Dataset</td>\n",
              "      <td id=\"T_cd3db_row19_col2\" class=\"data row19 col2\" >Not more than 1 different null types</td>\n",
              "      <td id=\"T_cd3db_row19_col3\" class=\"data row19 col3\" ></td>\n",
              "    </tr>\n",
              "    <tr>\n",
              "      <td id=\"T_cd3db_row20_col0\" class=\"data row20 col0\" ><div style=\"color: green;text-align: center\">✓</div></td>\n",
              "      <td id=\"T_cd3db_row20_col1\" class=\"data row20 col1\" >Single Feature Contribution Train-Test</td>\n",
              "      <td id=\"T_cd3db_row20_col2\" class=\"data row20 col2\" >Train features' Predictive Power Score is not greater than 0.7</td>\n",
              "      <td id=\"T_cd3db_row20_col3\" class=\"data row20 col3\" ></td>\n",
              "    </tr>\n",
              "    <tr>\n",
              "      <td id=\"T_cd3db_row21_col0\" class=\"data row21 col0\" ><div style=\"color: green;text-align: center\">✓</div></td>\n",
              "      <td id=\"T_cd3db_row21_col1\" class=\"data row21 col1\" >Single Value in Column - Test Dataset</td>\n",
              "      <td id=\"T_cd3db_row21_col2\" class=\"data row21 col2\" >Does not contain only a single value</td>\n",
              "      <td id=\"T_cd3db_row21_col3\" class=\"data row21 col3\" ></td>\n",
              "    </tr>\n",
              "    <tr>\n",
              "      <td id=\"T_cd3db_row22_col0\" class=\"data row22 col0\" ><div style=\"color: green;text-align: center\">✓</div></td>\n",
              "      <td id=\"T_cd3db_row22_col1\" class=\"data row22 col1\" >Single Value in Column - Train Dataset</td>\n",
              "      <td id=\"T_cd3db_row22_col2\" class=\"data row22 col2\" >Does not contain only a single value</td>\n",
              "      <td id=\"T_cd3db_row22_col3\" class=\"data row22 col3\" ></td>\n",
              "    </tr>\n",
              "    <tr>\n",
              "      <td id=\"T_cd3db_row23_col0\" class=\"data row23 col0\" ><div style=\"color: green;text-align: center\">✓</div></td>\n",
              "      <td id=\"T_cd3db_row23_col1\" class=\"data row23 col1\" >Train Test Samples Mix</td>\n",
              "      <td id=\"T_cd3db_row23_col2\" class=\"data row23 col2\" >Percentage of test data samples that appear in train data not greater than 10%</td>\n",
              "      <td id=\"T_cd3db_row23_col3\" class=\"data row23 col3\" ></td>\n",
              "    </tr>\n",
              "    <tr>\n",
              "      <td id=\"T_cd3db_row24_col0\" class=\"data row24 col0\" ><div style=\"color: green;text-align: center\">✓</div></td>\n",
              "      <td id=\"T_cd3db_row24_col1\" class=\"data row24 col1\" >Label Ambiguity - Train Dataset</td>\n",
              "      <td id=\"T_cd3db_row24_col2\" class=\"data row24 col2\" >Ambiguous sample ratio is not greater than 0%</td>\n",
              "      <td id=\"T_cd3db_row24_col3\" class=\"data row24 col3\" ></td>\n",
              "    </tr>\n",
              "    <tr>\n",
              "      <td id=\"T_cd3db_row25_col0\" class=\"data row25 col0\" ><div style=\"color: green;text-align: center\">✓</div></td>\n",
              "      <td id=\"T_cd3db_row25_col1\" class=\"data row25 col1\" >Single Feature Contribution Train-Test</td>\n",
              "      <td id=\"T_cd3db_row25_col2\" class=\"data row25 col2\" >Train-Test features' Predictive Power Score difference is not greater than 0.2</td>\n",
              "      <td id=\"T_cd3db_row25_col3\" class=\"data row25 col3\" ></td>\n",
              "    </tr>\n",
              "    <tr>\n",
              "      <td id=\"T_cd3db_row26_col0\" class=\"data row26 col0\" ><div style=\"color: green;text-align: center\">✓</div></td>\n",
              "      <td id=\"T_cd3db_row26_col1\" class=\"data row26 col1\" >String Mismatch Comparison</td>\n",
              "      <td id=\"T_cd3db_row26_col2\" class=\"data row26 col2\" >No new variants allowed in test data</td>\n",
              "      <td id=\"T_cd3db_row26_col3\" class=\"data row26 col3\" ></td>\n",
              "    </tr>\n",
              "    <tr>\n",
              "      <td id=\"T_cd3db_row27_col0\" class=\"data row27 col0\" ><div style=\"color: green;text-align: center\">✓</div></td>\n",
              "      <td id=\"T_cd3db_row27_col1\" class=\"data row27 col1\" >New Label Train Test</td>\n",
              "      <td id=\"T_cd3db_row27_col2\" class=\"data row27 col2\" >Number of new label values is not greater than 0</td>\n",
              "      <td id=\"T_cd3db_row27_col3\" class=\"data row27 col3\" ></td>\n",
              "    </tr>\n",
              "    <tr>\n",
              "      <td id=\"T_cd3db_row28_col0\" class=\"data row28 col0\" ><div style=\"color: green;text-align: center\">✓</div></td>\n",
              "      <td id=\"T_cd3db_row28_col1\" class=\"data row28 col1\" >Category Mismatch Train Test</td>\n",
              "      <td id=\"T_cd3db_row28_col2\" class=\"data row28 col2\" >Ratio of samples with a new category is not greater than 0%</td>\n",
              "      <td id=\"T_cd3db_row28_col3\" class=\"data row28 col3\" ></td>\n",
              "    </tr>\n",
              "    <tr>\n",
              "      <td id=\"T_cd3db_row29_col0\" class=\"data row29 col0\" ><div style=\"color: green;text-align: center\">✓</div></td>\n",
              "      <td id=\"T_cd3db_row29_col1\" class=\"data row29 col1\" >Dominant Frequency Change</td>\n",
              "      <td id=\"T_cd3db_row29_col2\" class=\"data row29 col2\" >Change in ratio of dominant value in data is not greater than 25%</td>\n",
              "      <td id=\"T_cd3db_row29_col3\" class=\"data row29 col3\" ></td>\n",
              "    </tr>\n",
              "    <tr>\n",
              "      <td id=\"T_cd3db_row30_col0\" class=\"data row30 col0\" ><div style=\"color: green;text-align: center\">✓</div></td>\n",
              "      <td id=\"T_cd3db_row30_col1\" class=\"data row30 col1\" >Whole Dataset Drift</td>\n",
              "      <td id=\"T_cd3db_row30_col2\" class=\"data row30 col2\" >Drift value is not greater than 0.25</td>\n",
              "      <td id=\"T_cd3db_row30_col3\" class=\"data row30 col3\" ></td>\n",
              "    </tr>\n",
              "    <tr>\n",
              "      <td id=\"T_cd3db_row31_col0\" class=\"data row31 col0\" ><div style=\"color: green;text-align: center\">✓</div></td>\n",
              "      <td id=\"T_cd3db_row31_col1\" class=\"data row31 col1\" >Unused Features</td>\n",
              "      <td id=\"T_cd3db_row31_col2\" class=\"data row31 col2\" >Number of high variance unused features is not greater than 5</td>\n",
              "      <td id=\"T_cd3db_row31_col3\" class=\"data row31 col3\" ></td>\n",
              "    </tr>\n",
              "    <tr>\n",
              "      <td id=\"T_cd3db_row32_col0\" class=\"data row32 col0\" ><div style=\"color: green;text-align: center\">✓</div></td>\n",
              "      <td id=\"T_cd3db_row32_col1\" class=\"data row32 col1\" >Mixed Nulls - Train Dataset</td>\n",
              "      <td id=\"T_cd3db_row32_col2\" class=\"data row32 col2\" >Not more than 1 different null types</td>\n",
              "      <td id=\"T_cd3db_row32_col3\" class=\"data row32 col3\" ></td>\n",
              "    </tr>\n",
              "    <tr>\n",
              "      <td id=\"T_cd3db_row33_col0\" class=\"data row33 col0\" ><div style=\"color: green;text-align: center\">✓</div></td>\n",
              "      <td id=\"T_cd3db_row33_col1\" class=\"data row33 col1\" >Label Ambiguity - Test Dataset</td>\n",
              "      <td id=\"T_cd3db_row33_col2\" class=\"data row33 col2\" >Ambiguous sample ratio is not greater than 0%</td>\n",
              "      <td id=\"T_cd3db_row33_col3\" class=\"data row33 col3\" ></td>\n",
              "    </tr>\n",
              "  </tbody>\n",
              "</table>\n"
            ]
          },
          "metadata": {},
          "output_type": "display_data"
        },
        {
          "data": {
            "text/html": [
              "<hr style=\"background-color: black;border: 0 none;color: black;height: 1px;\"><h2>Check With Conditions Output</h2>"
            ]
          },
          "metadata": {},
          "output_type": "display_data"
        },
        {
          "data": {
            "text/html": [
              "<h4 id=\"PerformanceReport_Y10XZ\">Performance Report</h4><p>Summarize given scores on a dataset and model. <a href=\"https://docs.deepchecks.com/0.6.1/examples/tabular/checks/performance/examples/plot_performance_report.html?utm_source=display_output&utm_medium=referral&utm_campaign=check_link\" target=\"_blank\">Read More...</a></p><h5>Conditions Summary</h5><style type=\"text/css\">\n",
              "#T_c43e6 table {\n",
              "  text-align: left;\n",
              "  white-space: pre-wrap;\n",
              "}\n",
              "#T_c43e6 thead {\n",
              "  text-align: left;\n",
              "  white-space: pre-wrap;\n",
              "}\n",
              "#T_c43e6 tbody {\n",
              "  text-align: left;\n",
              "  white-space: pre-wrap;\n",
              "}\n",
              "#T_c43e6 th {\n",
              "  text-align: left;\n",
              "  white-space: pre-wrap;\n",
              "}\n",
              "#T_c43e6 td {\n",
              "  text-align: left;\n",
              "  white-space: pre-wrap;\n",
              "}\n",
              "</style>\n",
              "<table id=\"T_c43e6\">\n",
              "  <thead>\n",
              "    <tr>\n",
              "      <th id=\"T_c43e6_level0_col0\" class=\"col_heading level0 col0\" >Status</th>\n",
              "      <th id=\"T_c43e6_level0_col1\" class=\"col_heading level0 col1\" >Condition</th>\n",
              "      <th id=\"T_c43e6_level0_col2\" class=\"col_heading level0 col2\" >More Info</th>\n",
              "    </tr>\n",
              "  </thead>\n",
              "  <tbody>\n",
              "    <tr>\n",
              "      <td id=\"T_c43e6_row0_col0\" class=\"data row0 col0\" ><div style=\"color: red;text-align: center\">✖</div></td>\n",
              "      <td id=\"T_c43e6_row0_col1\" class=\"data row0 col1\" >Train-Test scores relative degradation is not greater than 0.1</td>\n",
              "      <td id=\"T_c43e6_row0_col2\" class=\"data row0 col2\" >F1 for class 0 (train=0.84 test=0.74)\n",
              "Precision for class 0 (train=0.75 test=0.66)\n",
              "Recall for class 0 (train=0.96 test=0.84)\n",
              "F1 for class 1 (train=0.64 test=0.4)\n",
              "Precision for class 1 (train=0.88 test=0.6)\n",
              "Recall for class 1 (train=0.49 test=0.29)</td>\n",
              "    </tr>\n",
              "  </tbody>\n",
              "</table>\n",
              "<h5>Additional Outputs</h5>"
            ]
          },
          "metadata": {},
          "output_type": "display_data"
        },
        {
          "data": {
            "application/vnd.plotly.v1+json": {
              "config": {
                "plotlyServerURL": "https://plot.ly"
              },
              "data": [
                {
                  "alignmentgroup": "True",
                  "bingroup": "x",
                  "histfunc": "sum",
                  "hovertemplate": "Dataset=Train<br>Metric=F1<br>Class=%{x}<br>sum of Value=%{y}<extra></extra>",
                  "legendgroup": "Train",
                  "marker": {
                    "color": "#636efa",
                    "pattern": {
                      "shape": ""
                    }
                  },
                  "name": "Train",
                  "offsetgroup": "Train",
                  "orientation": "v",
                  "showlegend": true,
                  "type": "histogram",
                  "x": [
                    0,
                    1
                  ],
                  "xaxis": "x",
                  "y": [
                    0.8428446005267779,
                    0.6412825651302605
                  ],
                  "yaxis": "y"
                },
                {
                  "alignmentgroup": "True",
                  "bingroup": "x",
                  "histfunc": "sum",
                  "hovertemplate": "Dataset=Train<br>Metric=Precision<br>Class=%{x}<br>sum of Value=%{y}<extra></extra>",
                  "legendgroup": "Train",
                  "marker": {
                    "color": "#636efa",
                    "pattern": {
                      "shape": ""
                    }
                  },
                  "name": "Train",
                  "offsetgroup": "Train",
                  "orientation": "v",
                  "showlegend": false,
                  "type": "histogram",
                  "x": [
                    0,
                    1
                  ],
                  "xaxis": "x2",
                  "y": [
                    0.749869178440607,
                    0.8791208791208791
                  ],
                  "yaxis": "y2"
                },
                {
                  "alignmentgroup": "True",
                  "bingroup": "x",
                  "histfunc": "sum",
                  "hovertemplate": "Dataset=Train<br>Metric=Recall<br>Class=%{x}<br>sum of Value=%{y}<extra></extra>",
                  "legendgroup": "Train",
                  "marker": {
                    "color": "#636efa",
                    "pattern": {
                      "shape": ""
                    }
                  },
                  "name": "Train",
                  "offsetgroup": "Train",
                  "orientation": "v",
                  "showlegend": false,
                  "type": "histogram",
                  "x": [
                    0,
                    1
                  ],
                  "xaxis": "x3",
                  "y": [
                    0.9579719813208806,
                    0.49164926931106473
                  ],
                  "yaxis": "y3"
                },
                {
                  "alignmentgroup": "True",
                  "bingroup": "x",
                  "histfunc": "sum",
                  "hovertemplate": "Dataset=Test<br>Metric=F1<br>Class=%{x}<br>sum of Value=%{y}<extra></extra>",
                  "legendgroup": "Test",
                  "marker": {
                    "color": "#EF553B",
                    "pattern": {
                      "shape": ""
                    }
                  },
                  "name": "Test",
                  "offsetgroup": "Test",
                  "orientation": "v",
                  "showlegend": true,
                  "type": "histogram",
                  "x": [
                    0,
                    1
                  ],
                  "xaxis": "x",
                  "y": [
                    0.7428073234524848,
                    0.39918533604887985
                  ],
                  "yaxis": "y"
                },
                {
                  "alignmentgroup": "True",
                  "bingroup": "x",
                  "histfunc": "sum",
                  "hovertemplate": "Dataset=Test<br>Metric=Precision<br>Class=%{x}<br>sum of Value=%{y}<extra></extra>",
                  "legendgroup": "Test",
                  "marker": {
                    "color": "#EF553B",
                    "pattern": {
                      "shape": ""
                    }
                  },
                  "name": "Test",
                  "offsetgroup": "Test",
                  "orientation": "v",
                  "showlegend": false,
                  "type": "histogram",
                  "x": [
                    0,
                    1
                  ],
                  "xaxis": "x2",
                  "y": [
                    0.6630769230769231,
                    0.5976331360946746
                  ],
                  "yaxis": "y2"
                },
                {
                  "alignmentgroup": "True",
                  "bingroup": "x",
                  "histfunc": "sum",
                  "hovertemplate": "Dataset=Test<br>Metric=Recall<br>Class=%{x}<br>sum of Value=%{y}<extra></extra>",
                  "legendgroup": "Test",
                  "marker": {
                    "color": "#EF553B",
                    "pattern": {
                      "shape": ""
                    }
                  },
                  "name": "Test",
                  "offsetgroup": "Test",
                  "orientation": "v",
                  "showlegend": false,
                  "type": "histogram",
                  "x": [
                    0,
                    1
                  ],
                  "xaxis": "x3",
                  "y": [
                    0.8416833667334669,
                    0.290625
                  ],
                  "yaxis": "y3"
                }
              ],
              "layout": {
                "annotations": [
                  {
                    "font": {},
                    "showarrow": false,
                    "text": "F1",
                    "x": 0.15,
                    "xanchor": "center",
                    "xref": "paper",
                    "y": 1,
                    "yanchor": "bottom",
                    "yref": "paper"
                  },
                  {
                    "font": {},
                    "showarrow": false,
                    "text": "Precision",
                    "x": 0.49999999999999994,
                    "xanchor": "center",
                    "xref": "paper",
                    "y": 1,
                    "yanchor": "bottom",
                    "yref": "paper"
                  },
                  {
                    "font": {},
                    "showarrow": false,
                    "text": "Recall",
                    "x": 0.85,
                    "xanchor": "center",
                    "xref": "paper",
                    "y": 1,
                    "yanchor": "bottom",
                    "yref": "paper"
                  }
                ],
                "barmode": "group",
                "legend": {
                  "title": {
                    "text": "Dataset"
                  },
                  "tracegroupgap": 0
                },
                "margin": {
                  "t": 60
                },
                "template": {
                  "data": {
                    "bar": [
                      {
                        "error_x": {
                          "color": "#2a3f5f"
                        },
                        "error_y": {
                          "color": "#2a3f5f"
                        },
                        "marker": {
                          "line": {
                            "color": "#E5ECF6",
                            "width": 0.5
                          },
                          "pattern": {
                            "fillmode": "overlay",
                            "size": 10,
                            "solidity": 0.2
                          }
                        },
                        "type": "bar"
                      }
                    ],
                    "barpolar": [
                      {
                        "marker": {
                          "line": {
                            "color": "#E5ECF6",
                            "width": 0.5
                          },
                          "pattern": {
                            "fillmode": "overlay",
                            "size": 10,
                            "solidity": 0.2
                          }
                        },
                        "type": "barpolar"
                      }
                    ],
                    "carpet": [
                      {
                        "aaxis": {
                          "endlinecolor": "#2a3f5f",
                          "gridcolor": "white",
                          "linecolor": "white",
                          "minorgridcolor": "white",
                          "startlinecolor": "#2a3f5f"
                        },
                        "baxis": {
                          "endlinecolor": "#2a3f5f",
                          "gridcolor": "white",
                          "linecolor": "white",
                          "minorgridcolor": "white",
                          "startlinecolor": "#2a3f5f"
                        },
                        "type": "carpet"
                      }
                    ],
                    "choropleth": [
                      {
                        "colorbar": {
                          "outlinewidth": 0,
                          "ticks": ""
                        },
                        "type": "choropleth"
                      }
                    ],
                    "contour": [
                      {
                        "colorbar": {
                          "outlinewidth": 0,
                          "ticks": ""
                        },
                        "colorscale": [
                          [
                            0,
                            "#0d0887"
                          ],
                          [
                            0.1111111111111111,
                            "#46039f"
                          ],
                          [
                            0.2222222222222222,
                            "#7201a8"
                          ],
                          [
                            0.3333333333333333,
                            "#9c179e"
                          ],
                          [
                            0.4444444444444444,
                            "#bd3786"
                          ],
                          [
                            0.5555555555555556,
                            "#d8576b"
                          ],
                          [
                            0.6666666666666666,
                            "#ed7953"
                          ],
                          [
                            0.7777777777777778,
                            "#fb9f3a"
                          ],
                          [
                            0.8888888888888888,
                            "#fdca26"
                          ],
                          [
                            1,
                            "#f0f921"
                          ]
                        ],
                        "type": "contour"
                      }
                    ],
                    "contourcarpet": [
                      {
                        "colorbar": {
                          "outlinewidth": 0,
                          "ticks": ""
                        },
                        "type": "contourcarpet"
                      }
                    ],
                    "heatmap": [
                      {
                        "colorbar": {
                          "outlinewidth": 0,
                          "ticks": ""
                        },
                        "colorscale": [
                          [
                            0,
                            "#0d0887"
                          ],
                          [
                            0.1111111111111111,
                            "#46039f"
                          ],
                          [
                            0.2222222222222222,
                            "#7201a8"
                          ],
                          [
                            0.3333333333333333,
                            "#9c179e"
                          ],
                          [
                            0.4444444444444444,
                            "#bd3786"
                          ],
                          [
                            0.5555555555555556,
                            "#d8576b"
                          ],
                          [
                            0.6666666666666666,
                            "#ed7953"
                          ],
                          [
                            0.7777777777777778,
                            "#fb9f3a"
                          ],
                          [
                            0.8888888888888888,
                            "#fdca26"
                          ],
                          [
                            1,
                            "#f0f921"
                          ]
                        ],
                        "type": "heatmap"
                      }
                    ],
                    "heatmapgl": [
                      {
                        "colorbar": {
                          "outlinewidth": 0,
                          "ticks": ""
                        },
                        "colorscale": [
                          [
                            0,
                            "#0d0887"
                          ],
                          [
                            0.1111111111111111,
                            "#46039f"
                          ],
                          [
                            0.2222222222222222,
                            "#7201a8"
                          ],
                          [
                            0.3333333333333333,
                            "#9c179e"
                          ],
                          [
                            0.4444444444444444,
                            "#bd3786"
                          ],
                          [
                            0.5555555555555556,
                            "#d8576b"
                          ],
                          [
                            0.6666666666666666,
                            "#ed7953"
                          ],
                          [
                            0.7777777777777778,
                            "#fb9f3a"
                          ],
                          [
                            0.8888888888888888,
                            "#fdca26"
                          ],
                          [
                            1,
                            "#f0f921"
                          ]
                        ],
                        "type": "heatmapgl"
                      }
                    ],
                    "histogram": [
                      {
                        "marker": {
                          "pattern": {
                            "fillmode": "overlay",
                            "size": 10,
                            "solidity": 0.2
                          }
                        },
                        "type": "histogram"
                      }
                    ],
                    "histogram2d": [
                      {
                        "colorbar": {
                          "outlinewidth": 0,
                          "ticks": ""
                        },
                        "colorscale": [
                          [
                            0,
                            "#0d0887"
                          ],
                          [
                            0.1111111111111111,
                            "#46039f"
                          ],
                          [
                            0.2222222222222222,
                            "#7201a8"
                          ],
                          [
                            0.3333333333333333,
                            "#9c179e"
                          ],
                          [
                            0.4444444444444444,
                            "#bd3786"
                          ],
                          [
                            0.5555555555555556,
                            "#d8576b"
                          ],
                          [
                            0.6666666666666666,
                            "#ed7953"
                          ],
                          [
                            0.7777777777777778,
                            "#fb9f3a"
                          ],
                          [
                            0.8888888888888888,
                            "#fdca26"
                          ],
                          [
                            1,
                            "#f0f921"
                          ]
                        ],
                        "type": "histogram2d"
                      }
                    ],
                    "histogram2dcontour": [
                      {
                        "colorbar": {
                          "outlinewidth": 0,
                          "ticks": ""
                        },
                        "colorscale": [
                          [
                            0,
                            "#0d0887"
                          ],
                          [
                            0.1111111111111111,
                            "#46039f"
                          ],
                          [
                            0.2222222222222222,
                            "#7201a8"
                          ],
                          [
                            0.3333333333333333,
                            "#9c179e"
                          ],
                          [
                            0.4444444444444444,
                            "#bd3786"
                          ],
                          [
                            0.5555555555555556,
                            "#d8576b"
                          ],
                          [
                            0.6666666666666666,
                            "#ed7953"
                          ],
                          [
                            0.7777777777777778,
                            "#fb9f3a"
                          ],
                          [
                            0.8888888888888888,
                            "#fdca26"
                          ],
                          [
                            1,
                            "#f0f921"
                          ]
                        ],
                        "type": "histogram2dcontour"
                      }
                    ],
                    "mesh3d": [
                      {
                        "colorbar": {
                          "outlinewidth": 0,
                          "ticks": ""
                        },
                        "type": "mesh3d"
                      }
                    ],
                    "parcoords": [
                      {
                        "line": {
                          "colorbar": {
                            "outlinewidth": 0,
                            "ticks": ""
                          }
                        },
                        "type": "parcoords"
                      }
                    ],
                    "pie": [
                      {
                        "automargin": true,
                        "type": "pie"
                      }
                    ],
                    "scatter": [
                      {
                        "marker": {
                          "colorbar": {
                            "outlinewidth": 0,
                            "ticks": ""
                          }
                        },
                        "type": "scatter"
                      }
                    ],
                    "scatter3d": [
                      {
                        "line": {
                          "colorbar": {
                            "outlinewidth": 0,
                            "ticks": ""
                          }
                        },
                        "marker": {
                          "colorbar": {
                            "outlinewidth": 0,
                            "ticks": ""
                          }
                        },
                        "type": "scatter3d"
                      }
                    ],
                    "scattercarpet": [
                      {
                        "marker": {
                          "colorbar": {
                            "outlinewidth": 0,
                            "ticks": ""
                          }
                        },
                        "type": "scattercarpet"
                      }
                    ],
                    "scattergeo": [
                      {
                        "marker": {
                          "colorbar": {
                            "outlinewidth": 0,
                            "ticks": ""
                          }
                        },
                        "type": "scattergeo"
                      }
                    ],
                    "scattergl": [
                      {
                        "marker": {
                          "colorbar": {
                            "outlinewidth": 0,
                            "ticks": ""
                          }
                        },
                        "type": "scattergl"
                      }
                    ],
                    "scattermapbox": [
                      {
                        "marker": {
                          "colorbar": {
                            "outlinewidth": 0,
                            "ticks": ""
                          }
                        },
                        "type": "scattermapbox"
                      }
                    ],
                    "scatterpolar": [
                      {
                        "marker": {
                          "colorbar": {
                            "outlinewidth": 0,
                            "ticks": ""
                          }
                        },
                        "type": "scatterpolar"
                      }
                    ],
                    "scatterpolargl": [
                      {
                        "marker": {
                          "colorbar": {
                            "outlinewidth": 0,
                            "ticks": ""
                          }
                        },
                        "type": "scatterpolargl"
                      }
                    ],
                    "scatterternary": [
                      {
                        "marker": {
                          "colorbar": {
                            "outlinewidth": 0,
                            "ticks": ""
                          }
                        },
                        "type": "scatterternary"
                      }
                    ],
                    "surface": [
                      {
                        "colorbar": {
                          "outlinewidth": 0,
                          "ticks": ""
                        },
                        "colorscale": [
                          [
                            0,
                            "#0d0887"
                          ],
                          [
                            0.1111111111111111,
                            "#46039f"
                          ],
                          [
                            0.2222222222222222,
                            "#7201a8"
                          ],
                          [
                            0.3333333333333333,
                            "#9c179e"
                          ],
                          [
                            0.4444444444444444,
                            "#bd3786"
                          ],
                          [
                            0.5555555555555556,
                            "#d8576b"
                          ],
                          [
                            0.6666666666666666,
                            "#ed7953"
                          ],
                          [
                            0.7777777777777778,
                            "#fb9f3a"
                          ],
                          [
                            0.8888888888888888,
                            "#fdca26"
                          ],
                          [
                            1,
                            "#f0f921"
                          ]
                        ],
                        "type": "surface"
                      }
                    ],
                    "table": [
                      {
                        "cells": {
                          "fill": {
                            "color": "#EBF0F8"
                          },
                          "line": {
                            "color": "white"
                          }
                        },
                        "header": {
                          "fill": {
                            "color": "#C8D4E3"
                          },
                          "line": {
                            "color": "white"
                          }
                        },
                        "type": "table"
                      }
                    ]
                  },
                  "layout": {
                    "annotationdefaults": {
                      "arrowcolor": "#2a3f5f",
                      "arrowhead": 0,
                      "arrowwidth": 1
                    },
                    "autotypenumbers": "strict",
                    "coloraxis": {
                      "colorbar": {
                        "outlinewidth": 0,
                        "ticks": ""
                      }
                    },
                    "colorscale": {
                      "diverging": [
                        [
                          0,
                          "#8e0152"
                        ],
                        [
                          0.1,
                          "#c51b7d"
                        ],
                        [
                          0.2,
                          "#de77ae"
                        ],
                        [
                          0.3,
                          "#f1b6da"
                        ],
                        [
                          0.4,
                          "#fde0ef"
                        ],
                        [
                          0.5,
                          "#f7f7f7"
                        ],
                        [
                          0.6,
                          "#e6f5d0"
                        ],
                        [
                          0.7,
                          "#b8e186"
                        ],
                        [
                          0.8,
                          "#7fbc41"
                        ],
                        [
                          0.9,
                          "#4d9221"
                        ],
                        [
                          1,
                          "#276419"
                        ]
                      ],
                      "sequential": [
                        [
                          0,
                          "#0d0887"
                        ],
                        [
                          0.1111111111111111,
                          "#46039f"
                        ],
                        [
                          0.2222222222222222,
                          "#7201a8"
                        ],
                        [
                          0.3333333333333333,
                          "#9c179e"
                        ],
                        [
                          0.4444444444444444,
                          "#bd3786"
                        ],
                        [
                          0.5555555555555556,
                          "#d8576b"
                        ],
                        [
                          0.6666666666666666,
                          "#ed7953"
                        ],
                        [
                          0.7777777777777778,
                          "#fb9f3a"
                        ],
                        [
                          0.8888888888888888,
                          "#fdca26"
                        ],
                        [
                          1,
                          "#f0f921"
                        ]
                      ],
                      "sequentialminus": [
                        [
                          0,
                          "#0d0887"
                        ],
                        [
                          0.1111111111111111,
                          "#46039f"
                        ],
                        [
                          0.2222222222222222,
                          "#7201a8"
                        ],
                        [
                          0.3333333333333333,
                          "#9c179e"
                        ],
                        [
                          0.4444444444444444,
                          "#bd3786"
                        ],
                        [
                          0.5555555555555556,
                          "#d8576b"
                        ],
                        [
                          0.6666666666666666,
                          "#ed7953"
                        ],
                        [
                          0.7777777777777778,
                          "#fb9f3a"
                        ],
                        [
                          0.8888888888888888,
                          "#fdca26"
                        ],
                        [
                          1,
                          "#f0f921"
                        ]
                      ]
                    },
                    "colorway": [
                      "#636efa",
                      "#EF553B",
                      "#00cc96",
                      "#ab63fa",
                      "#FFA15A",
                      "#19d3f3",
                      "#FF6692",
                      "#B6E880",
                      "#FF97FF",
                      "#FECB52"
                    ],
                    "font": {
                      "color": "#2a3f5f"
                    },
                    "geo": {
                      "bgcolor": "white",
                      "lakecolor": "white",
                      "landcolor": "#E5ECF6",
                      "showlakes": true,
                      "showland": true,
                      "subunitcolor": "white"
                    },
                    "hoverlabel": {
                      "align": "left"
                    },
                    "hovermode": "closest",
                    "mapbox": {
                      "style": "light"
                    },
                    "paper_bgcolor": "white",
                    "plot_bgcolor": "#E5ECF6",
                    "polar": {
                      "angularaxis": {
                        "gridcolor": "white",
                        "linecolor": "white",
                        "ticks": ""
                      },
                      "bgcolor": "#E5ECF6",
                      "radialaxis": {
                        "gridcolor": "white",
                        "linecolor": "white",
                        "ticks": ""
                      }
                    },
                    "scene": {
                      "xaxis": {
                        "backgroundcolor": "#E5ECF6",
                        "gridcolor": "white",
                        "gridwidth": 2,
                        "linecolor": "white",
                        "showbackground": true,
                        "ticks": "",
                        "zerolinecolor": "white"
                      },
                      "yaxis": {
                        "backgroundcolor": "#E5ECF6",
                        "gridcolor": "white",
                        "gridwidth": 2,
                        "linecolor": "white",
                        "showbackground": true,
                        "ticks": "",
                        "zerolinecolor": "white"
                      },
                      "zaxis": {
                        "backgroundcolor": "#E5ECF6",
                        "gridcolor": "white",
                        "gridwidth": 2,
                        "linecolor": "white",
                        "showbackground": true,
                        "ticks": "",
                        "zerolinecolor": "white"
                      }
                    },
                    "shapedefaults": {
                      "line": {
                        "color": "#2a3f5f"
                      }
                    },
                    "ternary": {
                      "aaxis": {
                        "gridcolor": "white",
                        "linecolor": "white",
                        "ticks": ""
                      },
                      "baxis": {
                        "gridcolor": "white",
                        "linecolor": "white",
                        "ticks": ""
                      },
                      "bgcolor": "#E5ECF6",
                      "caxis": {
                        "gridcolor": "white",
                        "linecolor": "white",
                        "ticks": ""
                      }
                    },
                    "title": {
                      "x": 0.05
                    },
                    "xaxis": {
                      "automargin": true,
                      "gridcolor": "white",
                      "linecolor": "white",
                      "ticks": "",
                      "title": {
                        "standoff": 15
                      },
                      "zerolinecolor": "white",
                      "zerolinewidth": 2
                    },
                    "yaxis": {
                      "automargin": true,
                      "gridcolor": "white",
                      "linecolor": "white",
                      "ticks": "",
                      "title": {
                        "standoff": 15
                      },
                      "zerolinecolor": "white",
                      "zerolinewidth": 2
                    }
                  }
                },
                "xaxis": {
                  "anchor": "y",
                  "domain": [
                    0,
                    0.3
                  ],
                  "tickangle": 60,
                  "tickprefix": "Class ",
                  "title": {},
                  "type": "category"
                },
                "xaxis2": {
                  "anchor": "y2",
                  "domain": [
                    0.35,
                    0.6499999999999999
                  ],
                  "matches": "x",
                  "tickangle": 60,
                  "tickprefix": "Class ",
                  "title": {},
                  "type": "category"
                },
                "xaxis3": {
                  "anchor": "y3",
                  "domain": [
                    0.7,
                    1
                  ],
                  "matches": "x",
                  "tickangle": 60,
                  "tickprefix": "Class ",
                  "title": {},
                  "type": "category"
                },
                "yaxis": {
                  "anchor": "x",
                  "domain": [
                    0,
                    1
                  ],
                  "showticklabels": true,
                  "title": {}
                },
                "yaxis2": {
                  "anchor": "x2",
                  "domain": [
                    0,
                    1
                  ],
                  "showticklabels": true,
                  "title": {}
                },
                "yaxis3": {
                  "anchor": "x3",
                  "domain": [
                    0,
                    1
                  ],
                  "showticklabels": true,
                  "title": {}
                }
              }
            }
          },
          "metadata": {},
          "output_type": "display_data"
        },
        {
          "data": {
            "text/html": [
              "<br><a href=\"#summary_Y10XZ\" style=\"font-size: 14px\">Go to top</a>"
            ]
          },
          "metadata": {},
          "output_type": "display_data"
        },
        {
          "data": {
            "text/html": [
              "<hr style=\"background-color: #eee;border: 0 none;color: #eee;height: 4px;\">"
            ]
          },
          "metadata": {},
          "output_type": "display_data"
        },
        {
          "data": {
            "text/html": [
              "<h4 id=\"ROCReport-TestDataset_Y10XZ\">ROC Report - Test Dataset</h4><p>Calculate the ROC curve for each class. <a href=\"https://docs.deepchecks.com/0.6.1/examples/tabular/checks/performance/examples/plot_roc_report.html?utm_source=display_output&utm_medium=referral&utm_campaign=check_link\" target=\"_blank\">Read More...</a></p><h5>Conditions Summary</h5><style type=\"text/css\">\n",
              "#T_264b6 table {\n",
              "  text-align: left;\n",
              "  white-space: pre-wrap;\n",
              "}\n",
              "#T_264b6 thead {\n",
              "  text-align: left;\n",
              "  white-space: pre-wrap;\n",
              "}\n",
              "#T_264b6 tbody {\n",
              "  text-align: left;\n",
              "  white-space: pre-wrap;\n",
              "}\n",
              "#T_264b6 th {\n",
              "  text-align: left;\n",
              "  white-space: pre-wrap;\n",
              "}\n",
              "#T_264b6 td {\n",
              "  text-align: left;\n",
              "  white-space: pre-wrap;\n",
              "}\n",
              "</style>\n",
              "<table id=\"T_264b6\">\n",
              "  <thead>\n",
              "    <tr>\n",
              "      <th id=\"T_264b6_level0_col0\" class=\"col_heading level0 col0\" >Status</th>\n",
              "      <th id=\"T_264b6_level0_col1\" class=\"col_heading level0 col1\" >Condition</th>\n",
              "      <th id=\"T_264b6_level0_col2\" class=\"col_heading level0 col2\" >More Info</th>\n",
              "    </tr>\n",
              "  </thead>\n",
              "  <tbody>\n",
              "    <tr>\n",
              "      <td id=\"T_264b6_row0_col0\" class=\"data row0 col0\" ><div style=\"color: red;text-align: center\">✖</div></td>\n",
              "      <td id=\"T_264b6_row0_col1\" class=\"data row0 col1\" >AUC score for all the classes is not less than 0.7</td>\n",
              "      <td id=\"T_264b6_row0_col2\" class=\"data row0 col2\" >Found classes with AUC below threshold: {0: '0.62', 1: '0.62'}</td>\n",
              "    </tr>\n",
              "  </tbody>\n",
              "</table>\n",
              "<h5>Additional Outputs</h5>"
            ]
          },
          "metadata": {},
          "output_type": "display_data"
        },
        {
          "data": {
            "application/vnd.plotly.v1+json": {
              "config": {
                "plotlyServerURL": "https://plot.ly"
              },
              "data": [
                {
                  "line": {
                    "width": 2
                  },
                  "name": "auc = 0.62",
                  "type": "scatter",
                  "x": [
                    0,
                    0,
                    0,
                    0.003125,
                    0.003125,
                    0.009375,
                    0.009375,
                    0.015625,
                    0.015625,
                    0.021875,
                    0.021875,
                    0.025,
                    0.025,
                    0.028125,
                    0.028125,
                    0.03125,
                    0.03125,
                    0.040625,
                    0.040625,
                    0.046875,
                    0.046875,
                    0.05,
                    0.05,
                    0.053125,
                    0.053125,
                    0.05625,
                    0.05625,
                    0.059375,
                    0.059375,
                    0.0625,
                    0.0625,
                    0.071875,
                    0.071875,
                    0.075,
                    0.075,
                    0.078125,
                    0.078125,
                    0.08125,
                    0.08125,
                    0.0875,
                    0.0875,
                    0.090625,
                    0.090625,
                    0.09375,
                    0.09375,
                    0.096875,
                    0.096875,
                    0.1,
                    0.1,
                    0.109375,
                    0.109375,
                    0.1125,
                    0.1125,
                    0.115625,
                    0.115625,
                    0.11875,
                    0.11875,
                    0.121875,
                    0.121875,
                    0.13125,
                    0.13125,
                    0.1375,
                    0.1375,
                    0.140625,
                    0.140625,
                    0.15,
                    0.15,
                    0.15625,
                    0.15625,
                    0.159375,
                    0.159375,
                    0.16875,
                    0.16875,
                    0.171875,
                    0.171875,
                    0.18125,
                    0.18125,
                    0.184375,
                    0.184375,
                    0.190625,
                    0.190625,
                    0.19375,
                    0.19375,
                    0.196875,
                    0.196875,
                    0.2,
                    0.2,
                    0.20625,
                    0.20625,
                    0.221875,
                    0.221875,
                    0.225,
                    0.225,
                    0.228125,
                    0.228125,
                    0.234375,
                    0.234375,
                    0.240625,
                    0.240625,
                    0.246875,
                    0.246875,
                    0.25,
                    0.25,
                    0.25625,
                    0.25625,
                    0.26875,
                    0.26875,
                    0.275,
                    0.275,
                    0.278125,
                    0.278125,
                    0.284375,
                    0.284375,
                    0.2875,
                    0.2875,
                    0.29375,
                    0.29375,
                    0.296875,
                    0.296875,
                    0.303125,
                    0.303125,
                    0.30625,
                    0.30625,
                    0.315625,
                    0.315625,
                    0.321875,
                    0.321875,
                    0.325,
                    0.325,
                    0.328125,
                    0.328125,
                    0.33125,
                    0.33125,
                    0.3375,
                    0.3375,
                    0.340625,
                    0.340625,
                    0.35,
                    0.35,
                    0.353125,
                    0.353125,
                    0.35625,
                    0.35625,
                    0.359375,
                    0.359375,
                    0.3625,
                    0.3625,
                    0.365625,
                    0.365625,
                    0.378125,
                    0.378125,
                    0.38125,
                    0.38125,
                    0.3875,
                    0.3875,
                    0.390625,
                    0.390625,
                    0.39375,
                    0.39375,
                    0.4,
                    0.4,
                    0.40625,
                    0.40625,
                    0.4125,
                    0.4125,
                    0.415625,
                    0.415625,
                    0.41875,
                    0.41875,
                    0.421875,
                    0.421875,
                    0.425,
                    0.425,
                    0.428125,
                    0.428125,
                    0.43125,
                    0.43125,
                    0.434375,
                    0.434375,
                    0.4375,
                    0.4375,
                    0.45,
                    0.45,
                    0.453125,
                    0.453125,
                    0.459375,
                    0.459375,
                    0.4625,
                    0.4625,
                    0.465625,
                    0.465625,
                    0.475,
                    0.475,
                    0.48125,
                    0.48125,
                    0.484375,
                    0.484375,
                    0.4875,
                    0.4875,
                    0.49375,
                    0.49375,
                    0.496875,
                    0.496875,
                    0.503125,
                    0.503125,
                    0.509375,
                    0.509375,
                    0.5125,
                    0.5125,
                    0.51875,
                    0.51875,
                    0.528125,
                    0.528125,
                    0.53125,
                    0.53125,
                    0.534375,
                    0.540625,
                    0.540625,
                    0.54375,
                    0.54375,
                    0.553125,
                    0.553125,
                    0.5625,
                    0.5625,
                    0.56875,
                    0.56875,
                    0.571875,
                    0.571875,
                    0.575,
                    0.575,
                    0.578125,
                    0.578125,
                    0.58125,
                    0.58125,
                    0.590625,
                    0.590625,
                    0.596875,
                    0.596875,
                    0.603125,
                    0.603125,
                    0.609375,
                    0.609375,
                    0.615625,
                    0.615625,
                    0.61875,
                    0.61875,
                    0.621875,
                    0.621875,
                    0.625,
                    0.625,
                    0.63125,
                    0.63125,
                    0.6375,
                    0.6375,
                    0.640625,
                    0.640625,
                    0.65,
                    0.65,
                    0.65625,
                    0.65625,
                    0.659375,
                    0.659375,
                    0.6625,
                    0.6625,
                    0.66875,
                    0.66875,
                    0.671875,
                    0.671875,
                    0.675,
                    0.675,
                    0.678125,
                    0.678125,
                    0.684375,
                    0.684375,
                    0.6875,
                    0.6875,
                    0.69375,
                    0.69375,
                    0.7,
                    0.7,
                    0.709375,
                    0.709375,
                    0.7125,
                    0.7125,
                    0.715625,
                    0.715625,
                    0.725,
                    0.725,
                    0.728125,
                    0.728125,
                    0.73125,
                    0.73125,
                    0.740625,
                    0.740625,
                    0.74375,
                    0.74375,
                    0.746875,
                    0.746875,
                    0.75,
                    0.75,
                    0.753125,
                    0.753125,
                    0.75625,
                    0.75625,
                    0.759375,
                    0.759375,
                    0.7625,
                    0.7625,
                    0.765625,
                    0.765625,
                    0.76875,
                    0.76875,
                    0.78125,
                    0.78125,
                    0.784375,
                    0.784375,
                    0.8,
                    0.8,
                    0.80625,
                    0.80625,
                    0.809375,
                    0.809375,
                    0.8125,
                    0.8125,
                    0.815625,
                    0.815625,
                    0.81875,
                    0.81875,
                    0.828125,
                    0.828125,
                    0.8375,
                    0.8375,
                    0.84375,
                    0.84375,
                    0.859375,
                    0.859375,
                    0.8625,
                    0.8625,
                    0.871875,
                    0.871875,
                    0.878125,
                    0.878125,
                    0.896875,
                    0.896875,
                    0.9,
                    0.9,
                    0.903125,
                    0.903125,
                    0.909375,
                    0.909375,
                    0.91875,
                    0.91875,
                    0.93125,
                    0.93125,
                    0.934375,
                    0.934375,
                    0.9375,
                    0.9375,
                    0.946875,
                    0.946875,
                    0.953125,
                    0.953125,
                    0.95625,
                    0.95625,
                    0.959375,
                    0.959375,
                    0.9625,
                    0.9625,
                    0.978125,
                    0.978125,
                    0.9875,
                    0.9875,
                    0.990625,
                    0.990625,
                    1
                  ],
                  "y": [
                    0,
                    0.002004008016032064,
                    0.012024048096192385,
                    0.012024048096192385,
                    0.07014028056112225,
                    0.07014028056112225,
                    0.07615230460921844,
                    0.07615230460921844,
                    0.08016032064128256,
                    0.08016032064128256,
                    0.0841683366733467,
                    0.0841683366733467,
                    0.08817635270541083,
                    0.08817635270541083,
                    0.09418837675350701,
                    0.09418837675350701,
                    0.09619238476953908,
                    0.09619238476953908,
                    0.10020040080160321,
                    0.10020040080160321,
                    0.10220440881763528,
                    0.10220440881763528,
                    0.10420841683366733,
                    0.10420841683366733,
                    0.11022044088176353,
                    0.11022044088176353,
                    0.11222444889779559,
                    0.11222444889779559,
                    0.12625250501002003,
                    0.12625250501002003,
                    0.1342685370741483,
                    0.1342685370741483,
                    0.13827655310621242,
                    0.13827655310621242,
                    0.14228456913827656,
                    0.14228456913827656,
                    0.14829659318637275,
                    0.14829659318637275,
                    0.1523046092184369,
                    0.1523046092184369,
                    0.156312625250501,
                    0.156312625250501,
                    0.16432865731462926,
                    0.16432865731462926,
                    0.1743486973947896,
                    0.1743486973947896,
                    0.18036072144288579,
                    0.18036072144288579,
                    0.1843687374749499,
                    0.1843687374749499,
                    0.19238476953907815,
                    0.19238476953907815,
                    0.19438877755511022,
                    0.19438877755511022,
                    0.19839679358717435,
                    0.19839679358717435,
                    0.20040080160320642,
                    0.20040080160320642,
                    0.218436873747495,
                    0.218436873747495,
                    0.22444889779559118,
                    0.22444889779559118,
                    0.23246492985971945,
                    0.23246492985971945,
                    0.23446893787575152,
                    0.23446893787575152,
                    0.24448897795591182,
                    0.24448897795591182,
                    0.24649298597194388,
                    0.24649298597194388,
                    0.2545090180360721,
                    0.2545090180360721,
                    0.2725450901803607,
                    0.2725450901803607,
                    0.2785571142284569,
                    0.2785571142284569,
                    0.280561122244489,
                    0.280561122244489,
                    0.2865731462925852,
                    0.2865731462925852,
                    0.29458917835671344,
                    0.29458917835671344,
                    0.30060120240480964,
                    0.30060120240480964,
                    0.32064128256513025,
                    0.32064128256513025,
                    0.3226452905811623,
                    0.3226452905811623,
                    0.32665330661322645,
                    0.32665330661322645,
                    0.3306613226452906,
                    0.3306613226452906,
                    0.33266533066132264,
                    0.33266533066132264,
                    0.3366733466933868,
                    0.3366733466933868,
                    0.3466933867735471,
                    0.3466933867735471,
                    0.3527054108216433,
                    0.3527054108216433,
                    0.35470941883767537,
                    0.35470941883767537,
                    0.36072144288577157,
                    0.36072144288577157,
                    0.3627254509018036,
                    0.3627254509018036,
                    0.374749498997996,
                    0.374749498997996,
                    0.37675350701402804,
                    0.37675350701402804,
                    0.3807615230460922,
                    0.3807615230460922,
                    0.39478957915831664,
                    0.39478957915831664,
                    0.40681362725450904,
                    0.40681362725450904,
                    0.4088176352705411,
                    0.4088176352705411,
                    0.4168336673346693,
                    0.4168336673346693,
                    0.43286573146292584,
                    0.43286573146292584,
                    0.43687374749499,
                    0.43687374749499,
                    0.4408817635270541,
                    0.4408817635270541,
                    0.44889779559118237,
                    0.44889779559118237,
                    0.45490981963927857,
                    0.45490981963927857,
                    0.45691382765531063,
                    0.45691382765531063,
                    0.4729458917835671,
                    0.4729458917835671,
                    0.48296593186372744,
                    0.48296593186372744,
                    0.4849699398797595,
                    0.4849699398797595,
                    0.5090180360721442,
                    0.5090180360721442,
                    0.5110220440881763,
                    0.5110220440881763,
                    0.5170340681362725,
                    0.5170340681362725,
                    0.5250501002004008,
                    0.5270541082164328,
                    0.5290581162324649,
                    0.5290581162324649,
                    0.5591182364729459,
                    0.5591182364729459,
                    0.56312625250501,
                    0.56312625250501,
                    0.5711422845691383,
                    0.5711422845691383,
                    0.5731462925851704,
                    0.5731462925851704,
                    0.5771543086172345,
                    0.5771543086172345,
                    0.5791583166332666,
                    0.5791583166332666,
                    0.5871743486973948,
                    0.5871743486973948,
                    0.5891783567134269,
                    0.5891783567134269,
                    0.5971943887775552,
                    0.5971943887775552,
                    0.6012024048096193,
                    0.6012024048096193,
                    0.6052104208416834,
                    0.6052104208416834,
                    0.6072144288577155,
                    0.6072144288577155,
                    0.6092184368737475,
                    0.6092184368737475,
                    0.6112224448897795,
                    0.6112224448897795,
                    0.6132264529058116,
                    0.6132264529058116,
                    0.6192384769539078,
                    0.6192384769539078,
                    0.6232464929859719,
                    0.6232464929859719,
                    0.627254509018036,
                    0.627254509018036,
                    0.6292585170340681,
                    0.6292585170340681,
                    0.6352705410821643,
                    0.6352705410821643,
                    0.6412825651302605,
                    0.6412825651302605,
                    0.6452905811623246,
                    0.6452905811623246,
                    0.6472945891783567,
                    0.6472945891783567,
                    0.6533066132264529,
                    0.6533066132264529,
                    0.6613226452905812,
                    0.6613226452905812,
                    0.6693386773547094,
                    0.6693386773547094,
                    0.6753507014028056,
                    0.6753507014028056,
                    0.6773547094188377,
                    0.6773547094188377,
                    0.6793587174348698,
                    0.6793587174348698,
                    0.6933867735470942,
                    0.6933867735470942,
                    0.6953907815631263,
                    0.6953907815631263,
                    0.6973947895791583,
                    0.6973947895791583,
                    0.6993987975951904,
                    0.6993987975951904,
                    0.7034068136272545,
                    0.7054108216432866,
                    0.7054108216432866,
                    0.7094188376753507,
                    0.7094188376753507,
                    0.7114228456913828,
                    0.7114228456913828,
                    0.7134268537074149,
                    0.7134268537074149,
                    0.7154308617234469,
                    0.7154308617234469,
                    0.7194388777555111,
                    0.7194388777555111,
                    0.7234468937875751,
                    0.7234468937875751,
                    0.7334669338677354,
                    0.7334669338677354,
                    0.7394789579158316,
                    0.7394789579158316,
                    0.7414829659318637,
                    0.7414829659318637,
                    0.7474949899799599,
                    0.7474949899799599,
                    0.7535070140280561,
                    0.7535070140280561,
                    0.7595190380761523,
                    0.7595190380761523,
                    0.7615230460921844,
                    0.7615230460921844,
                    0.7715430861723447,
                    0.7715430861723447,
                    0.7735470941883767,
                    0.7735470941883767,
                    0.7775551102204409,
                    0.7775551102204409,
                    0.7835671342685371,
                    0.7835671342685371,
                    0.7855711422845691,
                    0.7855711422845691,
                    0.7875751503006012,
                    0.7875751503006012,
                    0.7895791583166333,
                    0.7895791583166333,
                    0.7915831663326653,
                    0.7915831663326653,
                    0.7935871743486974,
                    0.7935871743486974,
                    0.7955911823647295,
                    0.7955911823647295,
                    0.8176352705410822,
                    0.8176352705410822,
                    0.8256513026052105,
                    0.8256513026052105,
                    0.8276553106212425,
                    0.8276553106212425,
                    0.8296593186372746,
                    0.8296593186372746,
                    0.8336673346693386,
                    0.8336673346693386,
                    0.8376753507014028,
                    0.8376753507014028,
                    0.8396793587174348,
                    0.8396793587174348,
                    0.8416833667334669,
                    0.8416833667334669,
                    0.8496993987975952,
                    0.8496993987975952,
                    0.8517034068136272,
                    0.8517034068136272,
                    0.8537074148296593,
                    0.8537074148296593,
                    0.8557114228456913,
                    0.8557114228456913,
                    0.8597194388777555,
                    0.8597194388777555,
                    0.8657314629258517,
                    0.8657314629258517,
                    0.8697394789579158,
                    0.8697394789579158,
                    0.87374749498998,
                    0.87374749498998,
                    0.875751503006012,
                    0.875751503006012,
                    0.8777555110220441,
                    0.8777555110220441,
                    0.8797595190380761,
                    0.8797595190380761,
                    0.8877755511022044,
                    0.8877755511022044,
                    0.8897795591182365,
                    0.8897795591182365,
                    0.8937875751503006,
                    0.8937875751503006,
                    0.9018036072144289,
                    0.9018036072144289,
                    0.9078156312625251,
                    0.9078156312625251,
                    0.9098196392785571,
                    0.9098196392785571,
                    0.9118236472945892,
                    0.9118236472945892,
                    0.9158316633266533,
                    0.9158316633266533,
                    0.9238476953907816,
                    0.9238476953907816,
                    0.9258517034068137,
                    0.9258517034068137,
                    0.9278557114228457,
                    0.9278557114228457,
                    0.9338677354709419,
                    0.9338677354709419,
                    0.935871743486974,
                    0.935871743486974,
                    0.9398797595190381,
                    0.9398797595190381,
                    0.9418837675350702,
                    0.9418837675350702,
                    0.9438877755511023,
                    0.9438877755511023,
                    0.9458917835671342,
                    0.9458917835671342,
                    0.9478957915831663,
                    0.9478957915831663,
                    0.9498997995991983,
                    0.9498997995991983,
                    0.9559118236472945,
                    0.9559118236472945,
                    0.9579158316633266,
                    0.9579158316633266,
                    0.9599198396793587,
                    0.9599198396793587,
                    0.9619238476953907,
                    0.9619238476953907,
                    0.9639278557114228,
                    0.9639278557114228,
                    0.9659318637274549,
                    0.9659318637274549,
                    0.9679358717434869,
                    0.9679358717434869,
                    0.9719438877755511,
                    0.9719438877755511,
                    0.9739478957915831,
                    0.9739478957915831,
                    0.9779559118236473,
                    0.9779559118236473,
                    0.9819639278557114,
                    0.9819639278557114,
                    0.9859719438877755,
                    0.9859719438877755,
                    0.9879759519038076,
                    0.9879759519038076,
                    0.9899799599198397,
                    0.9899799599198397,
                    0.9939879759519038,
                    0.9939879759519038,
                    0.9959919839679359,
                    0.9959919839679359,
                    0.9979959919839679,
                    0.9979959919839679,
                    1,
                    1
                  ]
                },
                {
                  "hovertemplate": "TPR: %{y:.2%}<br>FPR: %{x:.2%}<br>Youden's Index: 0.715",
                  "marker": {
                    "size": 15
                  },
                  "mode": "markers",
                  "showlegend": false,
                  "type": "scatter",
                  "x": [
                    0.365625
                  ],
                  "y": [
                    0.5591182364729459
                  ]
                },
                {
                  "line": {
                    "color": "#444",
                    "dash": "dash",
                    "width": 2
                  },
                  "showlegend": false,
                  "type": "scatter",
                  "x": [
                    0,
                    1
                  ],
                  "y": [
                    0,
                    1
                  ]
                }
              ],
              "layout": {
                "height": 500,
                "template": {
                  "data": {
                    "bar": [
                      {
                        "error_x": {
                          "color": "#2a3f5f"
                        },
                        "error_y": {
                          "color": "#2a3f5f"
                        },
                        "marker": {
                          "line": {
                            "color": "#E5ECF6",
                            "width": 0.5
                          },
                          "pattern": {
                            "fillmode": "overlay",
                            "size": 10,
                            "solidity": 0.2
                          }
                        },
                        "type": "bar"
                      }
                    ],
                    "barpolar": [
                      {
                        "marker": {
                          "line": {
                            "color": "#E5ECF6",
                            "width": 0.5
                          },
                          "pattern": {
                            "fillmode": "overlay",
                            "size": 10,
                            "solidity": 0.2
                          }
                        },
                        "type": "barpolar"
                      }
                    ],
                    "carpet": [
                      {
                        "aaxis": {
                          "endlinecolor": "#2a3f5f",
                          "gridcolor": "white",
                          "linecolor": "white",
                          "minorgridcolor": "white",
                          "startlinecolor": "#2a3f5f"
                        },
                        "baxis": {
                          "endlinecolor": "#2a3f5f",
                          "gridcolor": "white",
                          "linecolor": "white",
                          "minorgridcolor": "white",
                          "startlinecolor": "#2a3f5f"
                        },
                        "type": "carpet"
                      }
                    ],
                    "choropleth": [
                      {
                        "colorbar": {
                          "outlinewidth": 0,
                          "ticks": ""
                        },
                        "type": "choropleth"
                      }
                    ],
                    "contour": [
                      {
                        "colorbar": {
                          "outlinewidth": 0,
                          "ticks": ""
                        },
                        "colorscale": [
                          [
                            0,
                            "#0d0887"
                          ],
                          [
                            0.1111111111111111,
                            "#46039f"
                          ],
                          [
                            0.2222222222222222,
                            "#7201a8"
                          ],
                          [
                            0.3333333333333333,
                            "#9c179e"
                          ],
                          [
                            0.4444444444444444,
                            "#bd3786"
                          ],
                          [
                            0.5555555555555556,
                            "#d8576b"
                          ],
                          [
                            0.6666666666666666,
                            "#ed7953"
                          ],
                          [
                            0.7777777777777778,
                            "#fb9f3a"
                          ],
                          [
                            0.8888888888888888,
                            "#fdca26"
                          ],
                          [
                            1,
                            "#f0f921"
                          ]
                        ],
                        "type": "contour"
                      }
                    ],
                    "contourcarpet": [
                      {
                        "colorbar": {
                          "outlinewidth": 0,
                          "ticks": ""
                        },
                        "type": "contourcarpet"
                      }
                    ],
                    "heatmap": [
                      {
                        "colorbar": {
                          "outlinewidth": 0,
                          "ticks": ""
                        },
                        "colorscale": [
                          [
                            0,
                            "#0d0887"
                          ],
                          [
                            0.1111111111111111,
                            "#46039f"
                          ],
                          [
                            0.2222222222222222,
                            "#7201a8"
                          ],
                          [
                            0.3333333333333333,
                            "#9c179e"
                          ],
                          [
                            0.4444444444444444,
                            "#bd3786"
                          ],
                          [
                            0.5555555555555556,
                            "#d8576b"
                          ],
                          [
                            0.6666666666666666,
                            "#ed7953"
                          ],
                          [
                            0.7777777777777778,
                            "#fb9f3a"
                          ],
                          [
                            0.8888888888888888,
                            "#fdca26"
                          ],
                          [
                            1,
                            "#f0f921"
                          ]
                        ],
                        "type": "heatmap"
                      }
                    ],
                    "heatmapgl": [
                      {
                        "colorbar": {
                          "outlinewidth": 0,
                          "ticks": ""
                        },
                        "colorscale": [
                          [
                            0,
                            "#0d0887"
                          ],
                          [
                            0.1111111111111111,
                            "#46039f"
                          ],
                          [
                            0.2222222222222222,
                            "#7201a8"
                          ],
                          [
                            0.3333333333333333,
                            "#9c179e"
                          ],
                          [
                            0.4444444444444444,
                            "#bd3786"
                          ],
                          [
                            0.5555555555555556,
                            "#d8576b"
                          ],
                          [
                            0.6666666666666666,
                            "#ed7953"
                          ],
                          [
                            0.7777777777777778,
                            "#fb9f3a"
                          ],
                          [
                            0.8888888888888888,
                            "#fdca26"
                          ],
                          [
                            1,
                            "#f0f921"
                          ]
                        ],
                        "type": "heatmapgl"
                      }
                    ],
                    "histogram": [
                      {
                        "marker": {
                          "pattern": {
                            "fillmode": "overlay",
                            "size": 10,
                            "solidity": 0.2
                          }
                        },
                        "type": "histogram"
                      }
                    ],
                    "histogram2d": [
                      {
                        "colorbar": {
                          "outlinewidth": 0,
                          "ticks": ""
                        },
                        "colorscale": [
                          [
                            0,
                            "#0d0887"
                          ],
                          [
                            0.1111111111111111,
                            "#46039f"
                          ],
                          [
                            0.2222222222222222,
                            "#7201a8"
                          ],
                          [
                            0.3333333333333333,
                            "#9c179e"
                          ],
                          [
                            0.4444444444444444,
                            "#bd3786"
                          ],
                          [
                            0.5555555555555556,
                            "#d8576b"
                          ],
                          [
                            0.6666666666666666,
                            "#ed7953"
                          ],
                          [
                            0.7777777777777778,
                            "#fb9f3a"
                          ],
                          [
                            0.8888888888888888,
                            "#fdca26"
                          ],
                          [
                            1,
                            "#f0f921"
                          ]
                        ],
                        "type": "histogram2d"
                      }
                    ],
                    "histogram2dcontour": [
                      {
                        "colorbar": {
                          "outlinewidth": 0,
                          "ticks": ""
                        },
                        "colorscale": [
                          [
                            0,
                            "#0d0887"
                          ],
                          [
                            0.1111111111111111,
                            "#46039f"
                          ],
                          [
                            0.2222222222222222,
                            "#7201a8"
                          ],
                          [
                            0.3333333333333333,
                            "#9c179e"
                          ],
                          [
                            0.4444444444444444,
                            "#bd3786"
                          ],
                          [
                            0.5555555555555556,
                            "#d8576b"
                          ],
                          [
                            0.6666666666666666,
                            "#ed7953"
                          ],
                          [
                            0.7777777777777778,
                            "#fb9f3a"
                          ],
                          [
                            0.8888888888888888,
                            "#fdca26"
                          ],
                          [
                            1,
                            "#f0f921"
                          ]
                        ],
                        "type": "histogram2dcontour"
                      }
                    ],
                    "mesh3d": [
                      {
                        "colorbar": {
                          "outlinewidth": 0,
                          "ticks": ""
                        },
                        "type": "mesh3d"
                      }
                    ],
                    "parcoords": [
                      {
                        "line": {
                          "colorbar": {
                            "outlinewidth": 0,
                            "ticks": ""
                          }
                        },
                        "type": "parcoords"
                      }
                    ],
                    "pie": [
                      {
                        "automargin": true,
                        "type": "pie"
                      }
                    ],
                    "scatter": [
                      {
                        "marker": {
                          "colorbar": {
                            "outlinewidth": 0,
                            "ticks": ""
                          }
                        },
                        "type": "scatter"
                      }
                    ],
                    "scatter3d": [
                      {
                        "line": {
                          "colorbar": {
                            "outlinewidth": 0,
                            "ticks": ""
                          }
                        },
                        "marker": {
                          "colorbar": {
                            "outlinewidth": 0,
                            "ticks": ""
                          }
                        },
                        "type": "scatter3d"
                      }
                    ],
                    "scattercarpet": [
                      {
                        "marker": {
                          "colorbar": {
                            "outlinewidth": 0,
                            "ticks": ""
                          }
                        },
                        "type": "scattercarpet"
                      }
                    ],
                    "scattergeo": [
                      {
                        "marker": {
                          "colorbar": {
                            "outlinewidth": 0,
                            "ticks": ""
                          }
                        },
                        "type": "scattergeo"
                      }
                    ],
                    "scattergl": [
                      {
                        "marker": {
                          "colorbar": {
                            "outlinewidth": 0,
                            "ticks": ""
                          }
                        },
                        "type": "scattergl"
                      }
                    ],
                    "scattermapbox": [
                      {
                        "marker": {
                          "colorbar": {
                            "outlinewidth": 0,
                            "ticks": ""
                          }
                        },
                        "type": "scattermapbox"
                      }
                    ],
                    "scatterpolar": [
                      {
                        "marker": {
                          "colorbar": {
                            "outlinewidth": 0,
                            "ticks": ""
                          }
                        },
                        "type": "scatterpolar"
                      }
                    ],
                    "scatterpolargl": [
                      {
                        "marker": {
                          "colorbar": {
                            "outlinewidth": 0,
                            "ticks": ""
                          }
                        },
                        "type": "scatterpolargl"
                      }
                    ],
                    "scatterternary": [
                      {
                        "marker": {
                          "colorbar": {
                            "outlinewidth": 0,
                            "ticks": ""
                          }
                        },
                        "type": "scatterternary"
                      }
                    ],
                    "surface": [
                      {
                        "colorbar": {
                          "outlinewidth": 0,
                          "ticks": ""
                        },
                        "colorscale": [
                          [
                            0,
                            "#0d0887"
                          ],
                          [
                            0.1111111111111111,
                            "#46039f"
                          ],
                          [
                            0.2222222222222222,
                            "#7201a8"
                          ],
                          [
                            0.3333333333333333,
                            "#9c179e"
                          ],
                          [
                            0.4444444444444444,
                            "#bd3786"
                          ],
                          [
                            0.5555555555555556,
                            "#d8576b"
                          ],
                          [
                            0.6666666666666666,
                            "#ed7953"
                          ],
                          [
                            0.7777777777777778,
                            "#fb9f3a"
                          ],
                          [
                            0.8888888888888888,
                            "#fdca26"
                          ],
                          [
                            1,
                            "#f0f921"
                          ]
                        ],
                        "type": "surface"
                      }
                    ],
                    "table": [
                      {
                        "cells": {
                          "fill": {
                            "color": "#EBF0F8"
                          },
                          "line": {
                            "color": "white"
                          }
                        },
                        "header": {
                          "fill": {
                            "color": "#C8D4E3"
                          },
                          "line": {
                            "color": "white"
                          }
                        },
                        "type": "table"
                      }
                    ]
                  },
                  "layout": {
                    "annotationdefaults": {
                      "arrowcolor": "#2a3f5f",
                      "arrowhead": 0,
                      "arrowwidth": 1
                    },
                    "autotypenumbers": "strict",
                    "coloraxis": {
                      "colorbar": {
                        "outlinewidth": 0,
                        "ticks": ""
                      }
                    },
                    "colorscale": {
                      "diverging": [
                        [
                          0,
                          "#8e0152"
                        ],
                        [
                          0.1,
                          "#c51b7d"
                        ],
                        [
                          0.2,
                          "#de77ae"
                        ],
                        [
                          0.3,
                          "#f1b6da"
                        ],
                        [
                          0.4,
                          "#fde0ef"
                        ],
                        [
                          0.5,
                          "#f7f7f7"
                        ],
                        [
                          0.6,
                          "#e6f5d0"
                        ],
                        [
                          0.7,
                          "#b8e186"
                        ],
                        [
                          0.8,
                          "#7fbc41"
                        ],
                        [
                          0.9,
                          "#4d9221"
                        ],
                        [
                          1,
                          "#276419"
                        ]
                      ],
                      "sequential": [
                        [
                          0,
                          "#0d0887"
                        ],
                        [
                          0.1111111111111111,
                          "#46039f"
                        ],
                        [
                          0.2222222222222222,
                          "#7201a8"
                        ],
                        [
                          0.3333333333333333,
                          "#9c179e"
                        ],
                        [
                          0.4444444444444444,
                          "#bd3786"
                        ],
                        [
                          0.5555555555555556,
                          "#d8576b"
                        ],
                        [
                          0.6666666666666666,
                          "#ed7953"
                        ],
                        [
                          0.7777777777777778,
                          "#fb9f3a"
                        ],
                        [
                          0.8888888888888888,
                          "#fdca26"
                        ],
                        [
                          1,
                          "#f0f921"
                        ]
                      ],
                      "sequentialminus": [
                        [
                          0,
                          "#0d0887"
                        ],
                        [
                          0.1111111111111111,
                          "#46039f"
                        ],
                        [
                          0.2222222222222222,
                          "#7201a8"
                        ],
                        [
                          0.3333333333333333,
                          "#9c179e"
                        ],
                        [
                          0.4444444444444444,
                          "#bd3786"
                        ],
                        [
                          0.5555555555555556,
                          "#d8576b"
                        ],
                        [
                          0.6666666666666666,
                          "#ed7953"
                        ],
                        [
                          0.7777777777777778,
                          "#fb9f3a"
                        ],
                        [
                          0.8888888888888888,
                          "#fdca26"
                        ],
                        [
                          1,
                          "#f0f921"
                        ]
                      ]
                    },
                    "colorway": [
                      "#636efa",
                      "#EF553B",
                      "#00cc96",
                      "#ab63fa",
                      "#FFA15A",
                      "#19d3f3",
                      "#FF6692",
                      "#B6E880",
                      "#FF97FF",
                      "#FECB52"
                    ],
                    "font": {
                      "color": "#2a3f5f"
                    },
                    "geo": {
                      "bgcolor": "white",
                      "lakecolor": "white",
                      "landcolor": "#E5ECF6",
                      "showlakes": true,
                      "showland": true,
                      "subunitcolor": "white"
                    },
                    "hoverlabel": {
                      "align": "left"
                    },
                    "hovermode": "closest",
                    "mapbox": {
                      "style": "light"
                    },
                    "paper_bgcolor": "white",
                    "plot_bgcolor": "#E5ECF6",
                    "polar": {
                      "angularaxis": {
                        "gridcolor": "white",
                        "linecolor": "white",
                        "ticks": ""
                      },
                      "bgcolor": "#E5ECF6",
                      "radialaxis": {
                        "gridcolor": "white",
                        "linecolor": "white",
                        "ticks": ""
                      }
                    },
                    "scene": {
                      "xaxis": {
                        "backgroundcolor": "#E5ECF6",
                        "gridcolor": "white",
                        "gridwidth": 2,
                        "linecolor": "white",
                        "showbackground": true,
                        "ticks": "",
                        "zerolinecolor": "white"
                      },
                      "yaxis": {
                        "backgroundcolor": "#E5ECF6",
                        "gridcolor": "white",
                        "gridwidth": 2,
                        "linecolor": "white",
                        "showbackground": true,
                        "ticks": "",
                        "zerolinecolor": "white"
                      },
                      "zaxis": {
                        "backgroundcolor": "#E5ECF6",
                        "gridcolor": "white",
                        "gridwidth": 2,
                        "linecolor": "white",
                        "showbackground": true,
                        "ticks": "",
                        "zerolinecolor": "white"
                      }
                    },
                    "shapedefaults": {
                      "line": {
                        "color": "#2a3f5f"
                      }
                    },
                    "ternary": {
                      "aaxis": {
                        "gridcolor": "white",
                        "linecolor": "white",
                        "ticks": ""
                      },
                      "baxis": {
                        "gridcolor": "white",
                        "linecolor": "white",
                        "ticks": ""
                      },
                      "bgcolor": "#E5ECF6",
                      "caxis": {
                        "gridcolor": "white",
                        "linecolor": "white",
                        "ticks": ""
                      }
                    },
                    "title": {
                      "x": 0.05
                    },
                    "xaxis": {
                      "automargin": true,
                      "gridcolor": "white",
                      "linecolor": "white",
                      "ticks": "",
                      "title": {
                        "standoff": 15
                      },
                      "zerolinecolor": "white",
                      "zerolinewidth": 2
                    },
                    "yaxis": {
                      "automargin": true,
                      "gridcolor": "white",
                      "linecolor": "white",
                      "ticks": "",
                      "title": {
                        "standoff": 15
                      },
                      "zerolinecolor": "white",
                      "zerolinewidth": 2
                    }
                  }
                },
                "title": {
                  "text": "Receiver operating characteristic for binary data"
                },
                "width": 900,
                "xaxis": {
                  "title": {
                    "text": "False Positive Rate"
                  }
                },
                "yaxis": {
                  "title": {
                    "text": "True Positive Rate"
                  }
                }
              }
            }
          },
          "metadata": {},
          "output_type": "display_data"
        },
        {
          "data": {
            "text/html": [
              "<div><span style=\"font-size:0.8em\"><i>\n",
              "        The marked points are the optimal threshold cut-off points. They are determined using Youden's index defined\n",
              "        as sensitivity + specificity - 1\n",
              "        </i></span></div><br><a href=\"#summary_Y10XZ\" style=\"font-size: 14px\">Go to top</a>"
            ]
          },
          "metadata": {},
          "output_type": "display_data"
        },
        {
          "data": {
            "text/html": [
              "<hr style=\"background-color: #eee;border: 0 none;color: #eee;height: 4px;\">"
            ]
          },
          "metadata": {},
          "output_type": "display_data"
        },
        {
          "data": {
            "text/html": [
              "<h4 id=\"SimpleModelComparison_Y10XZ\">Simple Model Comparison</h4><p>Compare given model score to simple model score (according to given model type). <a href=\"https://docs.deepchecks.com/0.6.1/examples/tabular/checks/performance/examples/plot_simple_model_comparison.html?utm_source=display_output&utm_medium=referral&utm_campaign=check_link\" target=\"_blank\">Read More...</a></p><h5>Conditions Summary</h5><style type=\"text/css\">\n",
              "#T_79e05 table {\n",
              "  text-align: left;\n",
              "  white-space: pre-wrap;\n",
              "}\n",
              "#T_79e05 thead {\n",
              "  text-align: left;\n",
              "  white-space: pre-wrap;\n",
              "}\n",
              "#T_79e05 tbody {\n",
              "  text-align: left;\n",
              "  white-space: pre-wrap;\n",
              "}\n",
              "#T_79e05 th {\n",
              "  text-align: left;\n",
              "  white-space: pre-wrap;\n",
              "}\n",
              "#T_79e05 td {\n",
              "  text-align: left;\n",
              "  white-space: pre-wrap;\n",
              "}\n",
              "</style>\n",
              "<table id=\"T_79e05\">\n",
              "  <thead>\n",
              "    <tr>\n",
              "      <th id=\"T_79e05_level0_col0\" class=\"col_heading level0 col0\" >Status</th>\n",
              "      <th id=\"T_79e05_level0_col1\" class=\"col_heading level0 col1\" >Condition</th>\n",
              "      <th id=\"T_79e05_level0_col2\" class=\"col_heading level0 col2\" >More Info</th>\n",
              "    </tr>\n",
              "  </thead>\n",
              "  <tbody>\n",
              "    <tr>\n",
              "      <td id=\"T_79e05_row0_col0\" class=\"data row0 col0\" ><div style=\"color: red;text-align: center\">✖</div></td>\n",
              "      <td id=\"T_79e05_row0_col1\" class=\"data row0 col1\" >Model performance gain over simple model is not less than 10%</td>\n",
              "      <td id=\"T_79e05_row0_col2\" class=\"data row0 col2\" >Found metrics with gain below threshold: {'F1': {0: '-14.09%'}}</td>\n",
              "    </tr>\n",
              "  </tbody>\n",
              "</table>\n",
              "<h5>Additional Outputs</h5>"
            ]
          },
          "metadata": {},
          "output_type": "display_data"
        },
        {
          "data": {
            "application/vnd.plotly.v1+json": {
              "config": {
                "plotlyServerURL": "https://plot.ly"
              },
              "data": [
                {
                  "alignmentgroup": "True",
                  "bingroup": "x",
                  "histfunc": "sum",
                  "hovertemplate": "Model=SoftSplitDecisionTreeClassifier model<br>Metric=F1<br>value=%{x}<br>sum of Value=%{y}<extra></extra>",
                  "legendgroup": "SoftSplitDecisionTreeClassifier model",
                  "marker": {
                    "color": "#636efa",
                    "pattern": {
                      "shape": ""
                    }
                  },
                  "name": "SoftSplitDecisionTreeClassifier model",
                  "offsetgroup": "SoftSplitDecisionTreeClassifier model",
                  "orientation": "v",
                  "showlegend": true,
                  "type": "histogram",
                  "x": [
                    0,
                    1
                  ],
                  "xaxis": "x",
                  "y": [
                    0.7229965156794425,
                    0.3510204081632653
                  ],
                  "yaxis": "y"
                },
                {
                  "alignmentgroup": "True",
                  "bingroup": "x",
                  "histfunc": "sum",
                  "hovertemplate": "Model=Simple model - constant<br>Metric=F1<br>value=%{x}<br>sum of Value=%{y}<extra></extra>",
                  "legendgroup": "Simple model - constant",
                  "marker": {
                    "color": "#EF553B",
                    "pattern": {
                      "shape": ""
                    }
                  },
                  "name": "Simple model - constant",
                  "offsetgroup": "Simple model - constant",
                  "orientation": "v",
                  "showlegend": true,
                  "type": "histogram",
                  "x": [
                    0,
                    1
                  ],
                  "xaxis": "x",
                  "y": [
                    0.7572078907435508,
                    0
                  ],
                  "yaxis": "y"
                }
              ],
              "layout": {
                "annotations": [
                  {
                    "font": {},
                    "showarrow": false,
                    "text": "F1",
                    "x": 0.5,
                    "xanchor": "center",
                    "xref": "paper",
                    "y": 1,
                    "yanchor": "bottom",
                    "yref": "paper"
                  }
                ],
                "barmode": "group",
                "legend": {
                  "title": {
                    "text": "Model"
                  },
                  "tracegroupgap": 0
                },
                "margin": {
                  "t": 60
                },
                "template": {
                  "data": {
                    "bar": [
                      {
                        "error_x": {
                          "color": "#2a3f5f"
                        },
                        "error_y": {
                          "color": "#2a3f5f"
                        },
                        "marker": {
                          "line": {
                            "color": "#E5ECF6",
                            "width": 0.5
                          },
                          "pattern": {
                            "fillmode": "overlay",
                            "size": 10,
                            "solidity": 0.2
                          }
                        },
                        "type": "bar"
                      }
                    ],
                    "barpolar": [
                      {
                        "marker": {
                          "line": {
                            "color": "#E5ECF6",
                            "width": 0.5
                          },
                          "pattern": {
                            "fillmode": "overlay",
                            "size": 10,
                            "solidity": 0.2
                          }
                        },
                        "type": "barpolar"
                      }
                    ],
                    "carpet": [
                      {
                        "aaxis": {
                          "endlinecolor": "#2a3f5f",
                          "gridcolor": "white",
                          "linecolor": "white",
                          "minorgridcolor": "white",
                          "startlinecolor": "#2a3f5f"
                        },
                        "baxis": {
                          "endlinecolor": "#2a3f5f",
                          "gridcolor": "white",
                          "linecolor": "white",
                          "minorgridcolor": "white",
                          "startlinecolor": "#2a3f5f"
                        },
                        "type": "carpet"
                      }
                    ],
                    "choropleth": [
                      {
                        "colorbar": {
                          "outlinewidth": 0,
                          "ticks": ""
                        },
                        "type": "choropleth"
                      }
                    ],
                    "contour": [
                      {
                        "colorbar": {
                          "outlinewidth": 0,
                          "ticks": ""
                        },
                        "colorscale": [
                          [
                            0,
                            "#0d0887"
                          ],
                          [
                            0.1111111111111111,
                            "#46039f"
                          ],
                          [
                            0.2222222222222222,
                            "#7201a8"
                          ],
                          [
                            0.3333333333333333,
                            "#9c179e"
                          ],
                          [
                            0.4444444444444444,
                            "#bd3786"
                          ],
                          [
                            0.5555555555555556,
                            "#d8576b"
                          ],
                          [
                            0.6666666666666666,
                            "#ed7953"
                          ],
                          [
                            0.7777777777777778,
                            "#fb9f3a"
                          ],
                          [
                            0.8888888888888888,
                            "#fdca26"
                          ],
                          [
                            1,
                            "#f0f921"
                          ]
                        ],
                        "type": "contour"
                      }
                    ],
                    "contourcarpet": [
                      {
                        "colorbar": {
                          "outlinewidth": 0,
                          "ticks": ""
                        },
                        "type": "contourcarpet"
                      }
                    ],
                    "heatmap": [
                      {
                        "colorbar": {
                          "outlinewidth": 0,
                          "ticks": ""
                        },
                        "colorscale": [
                          [
                            0,
                            "#0d0887"
                          ],
                          [
                            0.1111111111111111,
                            "#46039f"
                          ],
                          [
                            0.2222222222222222,
                            "#7201a8"
                          ],
                          [
                            0.3333333333333333,
                            "#9c179e"
                          ],
                          [
                            0.4444444444444444,
                            "#bd3786"
                          ],
                          [
                            0.5555555555555556,
                            "#d8576b"
                          ],
                          [
                            0.6666666666666666,
                            "#ed7953"
                          ],
                          [
                            0.7777777777777778,
                            "#fb9f3a"
                          ],
                          [
                            0.8888888888888888,
                            "#fdca26"
                          ],
                          [
                            1,
                            "#f0f921"
                          ]
                        ],
                        "type": "heatmap"
                      }
                    ],
                    "heatmapgl": [
                      {
                        "colorbar": {
                          "outlinewidth": 0,
                          "ticks": ""
                        },
                        "colorscale": [
                          [
                            0,
                            "#0d0887"
                          ],
                          [
                            0.1111111111111111,
                            "#46039f"
                          ],
                          [
                            0.2222222222222222,
                            "#7201a8"
                          ],
                          [
                            0.3333333333333333,
                            "#9c179e"
                          ],
                          [
                            0.4444444444444444,
                            "#bd3786"
                          ],
                          [
                            0.5555555555555556,
                            "#d8576b"
                          ],
                          [
                            0.6666666666666666,
                            "#ed7953"
                          ],
                          [
                            0.7777777777777778,
                            "#fb9f3a"
                          ],
                          [
                            0.8888888888888888,
                            "#fdca26"
                          ],
                          [
                            1,
                            "#f0f921"
                          ]
                        ],
                        "type": "heatmapgl"
                      }
                    ],
                    "histogram": [
                      {
                        "marker": {
                          "pattern": {
                            "fillmode": "overlay",
                            "size": 10,
                            "solidity": 0.2
                          }
                        },
                        "type": "histogram"
                      }
                    ],
                    "histogram2d": [
                      {
                        "colorbar": {
                          "outlinewidth": 0,
                          "ticks": ""
                        },
                        "colorscale": [
                          [
                            0,
                            "#0d0887"
                          ],
                          [
                            0.1111111111111111,
                            "#46039f"
                          ],
                          [
                            0.2222222222222222,
                            "#7201a8"
                          ],
                          [
                            0.3333333333333333,
                            "#9c179e"
                          ],
                          [
                            0.4444444444444444,
                            "#bd3786"
                          ],
                          [
                            0.5555555555555556,
                            "#d8576b"
                          ],
                          [
                            0.6666666666666666,
                            "#ed7953"
                          ],
                          [
                            0.7777777777777778,
                            "#fb9f3a"
                          ],
                          [
                            0.8888888888888888,
                            "#fdca26"
                          ],
                          [
                            1,
                            "#f0f921"
                          ]
                        ],
                        "type": "histogram2d"
                      }
                    ],
                    "histogram2dcontour": [
                      {
                        "colorbar": {
                          "outlinewidth": 0,
                          "ticks": ""
                        },
                        "colorscale": [
                          [
                            0,
                            "#0d0887"
                          ],
                          [
                            0.1111111111111111,
                            "#46039f"
                          ],
                          [
                            0.2222222222222222,
                            "#7201a8"
                          ],
                          [
                            0.3333333333333333,
                            "#9c179e"
                          ],
                          [
                            0.4444444444444444,
                            "#bd3786"
                          ],
                          [
                            0.5555555555555556,
                            "#d8576b"
                          ],
                          [
                            0.6666666666666666,
                            "#ed7953"
                          ],
                          [
                            0.7777777777777778,
                            "#fb9f3a"
                          ],
                          [
                            0.8888888888888888,
                            "#fdca26"
                          ],
                          [
                            1,
                            "#f0f921"
                          ]
                        ],
                        "type": "histogram2dcontour"
                      }
                    ],
                    "mesh3d": [
                      {
                        "colorbar": {
                          "outlinewidth": 0,
                          "ticks": ""
                        },
                        "type": "mesh3d"
                      }
                    ],
                    "parcoords": [
                      {
                        "line": {
                          "colorbar": {
                            "outlinewidth": 0,
                            "ticks": ""
                          }
                        },
                        "type": "parcoords"
                      }
                    ],
                    "pie": [
                      {
                        "automargin": true,
                        "type": "pie"
                      }
                    ],
                    "scatter": [
                      {
                        "marker": {
                          "colorbar": {
                            "outlinewidth": 0,
                            "ticks": ""
                          }
                        },
                        "type": "scatter"
                      }
                    ],
                    "scatter3d": [
                      {
                        "line": {
                          "colorbar": {
                            "outlinewidth": 0,
                            "ticks": ""
                          }
                        },
                        "marker": {
                          "colorbar": {
                            "outlinewidth": 0,
                            "ticks": ""
                          }
                        },
                        "type": "scatter3d"
                      }
                    ],
                    "scattercarpet": [
                      {
                        "marker": {
                          "colorbar": {
                            "outlinewidth": 0,
                            "ticks": ""
                          }
                        },
                        "type": "scattercarpet"
                      }
                    ],
                    "scattergeo": [
                      {
                        "marker": {
                          "colorbar": {
                            "outlinewidth": 0,
                            "ticks": ""
                          }
                        },
                        "type": "scattergeo"
                      }
                    ],
                    "scattergl": [
                      {
                        "marker": {
                          "colorbar": {
                            "outlinewidth": 0,
                            "ticks": ""
                          }
                        },
                        "type": "scattergl"
                      }
                    ],
                    "scattermapbox": [
                      {
                        "marker": {
                          "colorbar": {
                            "outlinewidth": 0,
                            "ticks": ""
                          }
                        },
                        "type": "scattermapbox"
                      }
                    ],
                    "scatterpolar": [
                      {
                        "marker": {
                          "colorbar": {
                            "outlinewidth": 0,
                            "ticks": ""
                          }
                        },
                        "type": "scatterpolar"
                      }
                    ],
                    "scatterpolargl": [
                      {
                        "marker": {
                          "colorbar": {
                            "outlinewidth": 0,
                            "ticks": ""
                          }
                        },
                        "type": "scatterpolargl"
                      }
                    ],
                    "scatterternary": [
                      {
                        "marker": {
                          "colorbar": {
                            "outlinewidth": 0,
                            "ticks": ""
                          }
                        },
                        "type": "scatterternary"
                      }
                    ],
                    "surface": [
                      {
                        "colorbar": {
                          "outlinewidth": 0,
                          "ticks": ""
                        },
                        "colorscale": [
                          [
                            0,
                            "#0d0887"
                          ],
                          [
                            0.1111111111111111,
                            "#46039f"
                          ],
                          [
                            0.2222222222222222,
                            "#7201a8"
                          ],
                          [
                            0.3333333333333333,
                            "#9c179e"
                          ],
                          [
                            0.4444444444444444,
                            "#bd3786"
                          ],
                          [
                            0.5555555555555556,
                            "#d8576b"
                          ],
                          [
                            0.6666666666666666,
                            "#ed7953"
                          ],
                          [
                            0.7777777777777778,
                            "#fb9f3a"
                          ],
                          [
                            0.8888888888888888,
                            "#fdca26"
                          ],
                          [
                            1,
                            "#f0f921"
                          ]
                        ],
                        "type": "surface"
                      }
                    ],
                    "table": [
                      {
                        "cells": {
                          "fill": {
                            "color": "#EBF0F8"
                          },
                          "line": {
                            "color": "white"
                          }
                        },
                        "header": {
                          "fill": {
                            "color": "#C8D4E3"
                          },
                          "line": {
                            "color": "white"
                          }
                        },
                        "type": "table"
                      }
                    ]
                  },
                  "layout": {
                    "annotationdefaults": {
                      "arrowcolor": "#2a3f5f",
                      "arrowhead": 0,
                      "arrowwidth": 1
                    },
                    "autotypenumbers": "strict",
                    "coloraxis": {
                      "colorbar": {
                        "outlinewidth": 0,
                        "ticks": ""
                      }
                    },
                    "colorscale": {
                      "diverging": [
                        [
                          0,
                          "#8e0152"
                        ],
                        [
                          0.1,
                          "#c51b7d"
                        ],
                        [
                          0.2,
                          "#de77ae"
                        ],
                        [
                          0.3,
                          "#f1b6da"
                        ],
                        [
                          0.4,
                          "#fde0ef"
                        ],
                        [
                          0.5,
                          "#f7f7f7"
                        ],
                        [
                          0.6,
                          "#e6f5d0"
                        ],
                        [
                          0.7,
                          "#b8e186"
                        ],
                        [
                          0.8,
                          "#7fbc41"
                        ],
                        [
                          0.9,
                          "#4d9221"
                        ],
                        [
                          1,
                          "#276419"
                        ]
                      ],
                      "sequential": [
                        [
                          0,
                          "#0d0887"
                        ],
                        [
                          0.1111111111111111,
                          "#46039f"
                        ],
                        [
                          0.2222222222222222,
                          "#7201a8"
                        ],
                        [
                          0.3333333333333333,
                          "#9c179e"
                        ],
                        [
                          0.4444444444444444,
                          "#bd3786"
                        ],
                        [
                          0.5555555555555556,
                          "#d8576b"
                        ],
                        [
                          0.6666666666666666,
                          "#ed7953"
                        ],
                        [
                          0.7777777777777778,
                          "#fb9f3a"
                        ],
                        [
                          0.8888888888888888,
                          "#fdca26"
                        ],
                        [
                          1,
                          "#f0f921"
                        ]
                      ],
                      "sequentialminus": [
                        [
                          0,
                          "#0d0887"
                        ],
                        [
                          0.1111111111111111,
                          "#46039f"
                        ],
                        [
                          0.2222222222222222,
                          "#7201a8"
                        ],
                        [
                          0.3333333333333333,
                          "#9c179e"
                        ],
                        [
                          0.4444444444444444,
                          "#bd3786"
                        ],
                        [
                          0.5555555555555556,
                          "#d8576b"
                        ],
                        [
                          0.6666666666666666,
                          "#ed7953"
                        ],
                        [
                          0.7777777777777778,
                          "#fb9f3a"
                        ],
                        [
                          0.8888888888888888,
                          "#fdca26"
                        ],
                        [
                          1,
                          "#f0f921"
                        ]
                      ]
                    },
                    "colorway": [
                      "#636efa",
                      "#EF553B",
                      "#00cc96",
                      "#ab63fa",
                      "#FFA15A",
                      "#19d3f3",
                      "#FF6692",
                      "#B6E880",
                      "#FF97FF",
                      "#FECB52"
                    ],
                    "font": {
                      "color": "#2a3f5f"
                    },
                    "geo": {
                      "bgcolor": "white",
                      "lakecolor": "white",
                      "landcolor": "#E5ECF6",
                      "showlakes": true,
                      "showland": true,
                      "subunitcolor": "white"
                    },
                    "hoverlabel": {
                      "align": "left"
                    },
                    "hovermode": "closest",
                    "mapbox": {
                      "style": "light"
                    },
                    "paper_bgcolor": "white",
                    "plot_bgcolor": "#E5ECF6",
                    "polar": {
                      "angularaxis": {
                        "gridcolor": "white",
                        "linecolor": "white",
                        "ticks": ""
                      },
                      "bgcolor": "#E5ECF6",
                      "radialaxis": {
                        "gridcolor": "white",
                        "linecolor": "white",
                        "ticks": ""
                      }
                    },
                    "scene": {
                      "xaxis": {
                        "backgroundcolor": "#E5ECF6",
                        "gridcolor": "white",
                        "gridwidth": 2,
                        "linecolor": "white",
                        "showbackground": true,
                        "ticks": "",
                        "zerolinecolor": "white"
                      },
                      "yaxis": {
                        "backgroundcolor": "#E5ECF6",
                        "gridcolor": "white",
                        "gridwidth": 2,
                        "linecolor": "white",
                        "showbackground": true,
                        "ticks": "",
                        "zerolinecolor": "white"
                      },
                      "zaxis": {
                        "backgroundcolor": "#E5ECF6",
                        "gridcolor": "white",
                        "gridwidth": 2,
                        "linecolor": "white",
                        "showbackground": true,
                        "ticks": "",
                        "zerolinecolor": "white"
                      }
                    },
                    "shapedefaults": {
                      "line": {
                        "color": "#2a3f5f"
                      }
                    },
                    "ternary": {
                      "aaxis": {
                        "gridcolor": "white",
                        "linecolor": "white",
                        "ticks": ""
                      },
                      "baxis": {
                        "gridcolor": "white",
                        "linecolor": "white",
                        "ticks": ""
                      },
                      "bgcolor": "#E5ECF6",
                      "caxis": {
                        "gridcolor": "white",
                        "linecolor": "white",
                        "ticks": ""
                      }
                    },
                    "title": {
                      "x": 0.05
                    },
                    "xaxis": {
                      "automargin": true,
                      "gridcolor": "white",
                      "linecolor": "white",
                      "ticks": "",
                      "title": {
                        "standoff": 15
                      },
                      "zerolinecolor": "white",
                      "zerolinewidth": 2
                    },
                    "yaxis": {
                      "automargin": true,
                      "gridcolor": "white",
                      "linecolor": "white",
                      "ticks": "",
                      "title": {
                        "standoff": 15
                      },
                      "zerolinecolor": "white",
                      "zerolinewidth": 2
                    }
                  }
                },
                "xaxis": {
                  "anchor": "y",
                  "domain": [
                    0,
                    1
                  ],
                  "tickangle": 60,
                  "tickprefix": "Class ",
                  "title": {},
                  "type": "category"
                },
                "yaxis": {
                  "anchor": "x",
                  "domain": [
                    0,
                    1
                  ],
                  "showticklabels": true,
                  "title": {}
                }
              }
            }
          },
          "metadata": {},
          "output_type": "display_data"
        },
        {
          "data": {
            "text/html": [
              "<br><a href=\"#summary_Y10XZ\" style=\"font-size: 14px\">Go to top</a>"
            ]
          },
          "metadata": {},
          "output_type": "display_data"
        },
        {
          "data": {
            "text/html": [
              "<hr style=\"background-color: #eee;border: 0 none;color: #eee;height: 4px;\">"
            ]
          },
          "metadata": {},
          "output_type": "display_data"
        },
        {
          "data": {
            "text/html": [
              "<h4 id=\"ModelInferenceTime-TrainDataset_Y10XZ\">Model Inference Time - Train Dataset</h4><p>Measure model average inference time (in seconds) per sample. <a href=\"https://docs.deepchecks.com/0.6.1/examples/tabular/checks/methodology/examples/plot_model_inference_time.html?utm_source=display_output&utm_medium=referral&utm_campaign=check_link\" target=\"_blank\">Read More...</a></p><h5>Conditions Summary</h5><style type=\"text/css\">\n",
              "#T_7fc4f table {\n",
              "  text-align: left;\n",
              "  white-space: pre-wrap;\n",
              "}\n",
              "#T_7fc4f thead {\n",
              "  text-align: left;\n",
              "  white-space: pre-wrap;\n",
              "}\n",
              "#T_7fc4f tbody {\n",
              "  text-align: left;\n",
              "  white-space: pre-wrap;\n",
              "}\n",
              "#T_7fc4f th {\n",
              "  text-align: left;\n",
              "  white-space: pre-wrap;\n",
              "}\n",
              "#T_7fc4f td {\n",
              "  text-align: left;\n",
              "  white-space: pre-wrap;\n",
              "}\n",
              "</style>\n",
              "<table id=\"T_7fc4f\">\n",
              "  <thead>\n",
              "    <tr>\n",
              "      <th id=\"T_7fc4f_level0_col0\" class=\"col_heading level0 col0\" >Status</th>\n",
              "      <th id=\"T_7fc4f_level0_col1\" class=\"col_heading level0 col1\" >Condition</th>\n",
              "      <th id=\"T_7fc4f_level0_col2\" class=\"col_heading level0 col2\" >More Info</th>\n",
              "    </tr>\n",
              "  </thead>\n",
              "  <tbody>\n",
              "    <tr>\n",
              "      <td id=\"T_7fc4f_row0_col0\" class=\"data row0 col0\" ><div style=\"color: red;text-align: center\">✖</div></td>\n",
              "      <td id=\"T_7fc4f_row0_col1\" class=\"data row0 col1\" >Average model inference time for one sample is not greater than 0.001</td>\n",
              "      <td id=\"T_7fc4f_row0_col2\" class=\"data row0 col2\" >Found average inference time (in seconds) above threshold: 0.00468164</td>\n",
              "    </tr>\n",
              "  </tbody>\n",
              "</table>\n",
              "<h5>Additional Outputs</h5><div>Average model inference time for one sample (in seconds): 0.00468164</div><br><a href=\"#summary_Y10XZ\" style=\"font-size: 14px\">Go to top</a>"
            ]
          },
          "metadata": {},
          "output_type": "display_data"
        },
        {
          "data": {
            "text/html": [
              "<hr style=\"background-color: #eee;border: 0 none;color: #eee;height: 4px;\">"
            ]
          },
          "metadata": {},
          "output_type": "display_data"
        },
        {
          "data": {
            "text/html": [
              "<h4 id=\"ModelInferenceTime-TestDataset_Y10XZ\">Model Inference Time - Test Dataset</h4><p>Measure model average inference time (in seconds) per sample. <a href=\"https://docs.deepchecks.com/0.6.1/examples/tabular/checks/methodology/examples/plot_model_inference_time.html?utm_source=display_output&utm_medium=referral&utm_campaign=check_link\" target=\"_blank\">Read More...</a></p><h5>Conditions Summary</h5><style type=\"text/css\">\n",
              "#T_067f2 table {\n",
              "  text-align: left;\n",
              "  white-space: pre-wrap;\n",
              "}\n",
              "#T_067f2 thead {\n",
              "  text-align: left;\n",
              "  white-space: pre-wrap;\n",
              "}\n",
              "#T_067f2 tbody {\n",
              "  text-align: left;\n",
              "  white-space: pre-wrap;\n",
              "}\n",
              "#T_067f2 th {\n",
              "  text-align: left;\n",
              "  white-space: pre-wrap;\n",
              "}\n",
              "#T_067f2 td {\n",
              "  text-align: left;\n",
              "  white-space: pre-wrap;\n",
              "}\n",
              "</style>\n",
              "<table id=\"T_067f2\">\n",
              "  <thead>\n",
              "    <tr>\n",
              "      <th id=\"T_067f2_level0_col0\" class=\"col_heading level0 col0\" >Status</th>\n",
              "      <th id=\"T_067f2_level0_col1\" class=\"col_heading level0 col1\" >Condition</th>\n",
              "      <th id=\"T_067f2_level0_col2\" class=\"col_heading level0 col2\" >More Info</th>\n",
              "    </tr>\n",
              "  </thead>\n",
              "  <tbody>\n",
              "    <tr>\n",
              "      <td id=\"T_067f2_row0_col0\" class=\"data row0 col0\" ><div style=\"color: red;text-align: center\">✖</div></td>\n",
              "      <td id=\"T_067f2_row0_col1\" class=\"data row0 col1\" >Average model inference time for one sample is not greater than 0.001</td>\n",
              "      <td id=\"T_067f2_row0_col2\" class=\"data row0 col2\" >Found average inference time (in seconds) above threshold: 0.00467828</td>\n",
              "    </tr>\n",
              "  </tbody>\n",
              "</table>\n",
              "<h5>Additional Outputs</h5><div>Average model inference time for one sample (in seconds): 0.00467828</div><br><a href=\"#summary_Y10XZ\" style=\"font-size: 14px\">Go to top</a>"
            ]
          },
          "metadata": {},
          "output_type": "display_data"
        },
        {
          "data": {
            "text/html": [
              "<hr style=\"background-color: #eee;border: 0 none;color: #eee;height: 4px;\">"
            ]
          },
          "metadata": {},
          "output_type": "display_data"
        },
        {
          "data": {
            "text/html": [
              "<h4 id=\"ROCReport-TrainDataset_Y10XZ\">ROC Report - Train Dataset</h4><p>Calculate the ROC curve for each class. <a href=\"https://docs.deepchecks.com/0.6.1/examples/tabular/checks/performance/examples/plot_roc_report.html?utm_source=display_output&utm_medium=referral&utm_campaign=check_link\" target=\"_blank\">Read More...</a></p><h5>Conditions Summary</h5><style type=\"text/css\">\n",
              "#T_eeae1 table {\n",
              "  text-align: left;\n",
              "  white-space: pre-wrap;\n",
              "}\n",
              "#T_eeae1 thead {\n",
              "  text-align: left;\n",
              "  white-space: pre-wrap;\n",
              "}\n",
              "#T_eeae1 tbody {\n",
              "  text-align: left;\n",
              "  white-space: pre-wrap;\n",
              "}\n",
              "#T_eeae1 th {\n",
              "  text-align: left;\n",
              "  white-space: pre-wrap;\n",
              "}\n",
              "#T_eeae1 td {\n",
              "  text-align: left;\n",
              "  white-space: pre-wrap;\n",
              "}\n",
              "</style>\n",
              "<table id=\"T_eeae1\">\n",
              "  <thead>\n",
              "    <tr>\n",
              "      <th id=\"T_eeae1_level0_col0\" class=\"col_heading level0 col0\" >Status</th>\n",
              "      <th id=\"T_eeae1_level0_col1\" class=\"col_heading level0 col1\" >Condition</th>\n",
              "      <th id=\"T_eeae1_level0_col2\" class=\"col_heading level0 col2\" >More Info</th>\n",
              "    </tr>\n",
              "  </thead>\n",
              "  <tbody>\n",
              "    <tr>\n",
              "      <td id=\"T_eeae1_row0_col0\" class=\"data row0 col0\" ><div style=\"color: green;text-align: center\">✓</div></td>\n",
              "      <td id=\"T_eeae1_row0_col1\" class=\"data row0 col1\" >AUC score for all the classes is not less than 0.7</td>\n",
              "      <td id=\"T_eeae1_row0_col2\" class=\"data row0 col2\" ></td>\n",
              "    </tr>\n",
              "  </tbody>\n",
              "</table>\n",
              "<h5>Additional Outputs</h5>"
            ]
          },
          "metadata": {},
          "output_type": "display_data"
        },
        {
          "data": {
            "application/vnd.plotly.v1+json": {
              "config": {
                "plotlyServerURL": "https://plot.ly"
              },
              "data": [
                {
                  "line": {
                    "width": 2
                  },
                  "name": "auc = 0.90",
                  "type": "scatter",
                  "x": [
                    0,
                    0,
                    0,
                    0,
                    0,
                    0.0010438413361169101,
                    0.0010438413361169101,
                    0.0020876826722338203,
                    0.0020876826722338203,
                    0.003131524008350731,
                    0.003131524008350731,
                    0.0041753653444676405,
                    0.0041753653444676405,
                    0.005219206680584551,
                    0.005219206680584551,
                    0.006263048016701462,
                    0.006263048016701462,
                    0.008350730688935281,
                    0.008350730688935281,
                    0.009394572025052192,
                    0.009394572025052192,
                    0.010438413361169102,
                    0.010438413361169102,
                    0.011482254697286013,
                    0.011482254697286013,
                    0.013569937369519834,
                    0.013569937369519834,
                    0.014613778705636743,
                    0.014613778705636743,
                    0.015657620041753653,
                    0.015657620041753653,
                    0.016701461377870562,
                    0.016701461377870562,
                    0.017745302713987474,
                    0.017745302713987474,
                    0.018789144050104383,
                    0.018789144050104383,
                    0.019832985386221295,
                    0.019832985386221295,
                    0.020876826722338204,
                    0.020876826722338204,
                    0.021920668058455117,
                    0.021920668058455117,
                    0.022964509394572025,
                    0.022964509394572025,
                    0.025052192066805846,
                    0.025052192066805846,
                    0.026096033402922755,
                    0.026096033402922755,
                    0.027139874739039668,
                    0.027139874739039668,
                    0.028183716075156576,
                    0.028183716075156576,
                    0.029227557411273485,
                    0.029227557411273485,
                    0.030271398747390398,
                    0.030271398747390398,
                    0.031315240083507306,
                    0.031315240083507306,
                    0.032359081419624215,
                    0.032359081419624215,
                    0.033402922755741124,
                    0.033402922755741124,
                    0.03549060542797495,
                    0.03549060542797495,
                    0.03653444676409186,
                    0.03653444676409186,
                    0.037578288100208766,
                    0.037578288100208766,
                    0.038622129436325675,
                    0.038622129436325675,
                    0.038622129436325675,
                    0.038622129436325675,
                    0.03966597077244259,
                    0.03966597077244259,
                    0.0407098121085595,
                    0.0407098121085595,
                    0.04175365344467641,
                    0.04175365344467641,
                    0.04279749478079332,
                    0.04279749478079332,
                    0.04384133611691023,
                    0.04384133611691023,
                    0.04488517745302714,
                    0.04488517745302714,
                    0.04592901878914405,
                    0.04592901878914405,
                    0.04697286012526096,
                    0.04697286012526096,
                    0.049060542797494784,
                    0.049060542797494784,
                    0.05010438413361169,
                    0.05010438413361169,
                    0.0511482254697286,
                    0.0511482254697286,
                    0.05219206680584551,
                    0.05219206680584551,
                    0.05323590814196242,
                    0.05323590814196242,
                    0.054279749478079335,
                    0.054279749478079335,
                    0.054279749478079335,
                    0.054279749478079335,
                    0.055323590814196244,
                    0.055323590814196244,
                    0.05636743215031315,
                    0.05636743215031315,
                    0.05741127348643006,
                    0.05741127348643006,
                    0.05845511482254697,
                    0.05845511482254697,
                    0.059498956158663886,
                    0.059498956158663886,
                    0.060542797494780795,
                    0.060542797494780795,
                    0.061586638830897704,
                    0.061586638830897704,
                    0.06471816283924843,
                    0.06471816283924843,
                    0.06680584551148225,
                    0.06680584551148225,
                    0.06784968684759916,
                    0.06784968684759916,
                    0.06889352818371608,
                    0.06889352818371608,
                    0.0709812108559499,
                    0.0709812108559499,
                    0.0720250521920668,
                    0.0720250521920668,
                    0.07306889352818371,
                    0.07306889352818371,
                    0.07515657620041753,
                    0.07515657620041753,
                    0.07620041753653445,
                    0.07620041753653445,
                    0.07724425887265135,
                    0.07724425887265135,
                    0.07828810020876827,
                    0.07828810020876827,
                    0.07933194154488518,
                    0.07933194154488518,
                    0.081419624217119,
                    0.081419624217119,
                    0.0824634655532359,
                    0.0824634655532359,
                    0.08350730688935282,
                    0.08350730688935282,
                    0.08455114822546973,
                    0.08455114822546973,
                    0.08559498956158663,
                    0.08559498956158663,
                    0.08663883089770355,
                    0.08663883089770355,
                    0.08768267223382047,
                    0.08768267223382047,
                    0.08768267223382047,
                    0.08768267223382047,
                    0.08872651356993737,
                    0.08872651356993737,
                    0.08977035490605428,
                    0.08977035490605428,
                    0.09081419624217119,
                    0.09081419624217119,
                    0.0918580375782881,
                    0.0918580375782881,
                    0.09603340292275574,
                    0.09603340292275574,
                    0.09916492693110647,
                    0.09916492693110647,
                    0.10125260960334029,
                    0.10125260960334029,
                    0.1022964509394572,
                    0.1022964509394572,
                    0.10334029227557412,
                    0.10334029227557412,
                    0.10438413361169102,
                    0.10438413361169102,
                    0.10542797494780794,
                    0.10542797494780794,
                    0.10647181628392484,
                    0.10647181628392484,
                    0.10751565762004175,
                    0.10751565762004175,
                    0.10855949895615867,
                    0.10855949895615867,
                    0.10960334029227557,
                    0.10960334029227557,
                    0.11064718162839249,
                    0.11064718162839249,
                    0.11169102296450939,
                    0.11169102296450939,
                    0.1127348643006263,
                    0.1127348643006263,
                    0.11377870563674322,
                    0.11377870563674322,
                    0.11482254697286012,
                    0.11482254697286012,
                    0.11586638830897704,
                    0.11586638830897704,
                    0.11899791231732777,
                    0.11899791231732777,
                    0.12108559498956159,
                    0.12108559498956159,
                    0.12212943632567849,
                    0.12212943632567849,
                    0.12526096033402923,
                    0.12526096033402923,
                    0.12943632567849686,
                    0.12943632567849686,
                    0.1315240083507307,
                    0.1315240083507307,
                    0.1325678496868476,
                    0.1325678496868476,
                    0.1336116910229645,
                    0.1336116910229645,
                    0.13569937369519833,
                    0.13569937369519833,
                    0.13674321503131523,
                    0.13674321503131523,
                    0.13778705636743216,
                    0.13778705636743216,
                    0.13883089770354906,
                    0.13883089770354906,
                    0.13987473903966596,
                    0.13987473903966596,
                    0.1419624217118998,
                    0.1419624217118998,
                    0.14509394572025053,
                    0.14509394572025053,
                    0.14822546972860126,
                    0.14822546972860126,
                    0.14926931106471816,
                    0.14926931106471816,
                    0.15031315240083507,
                    0.15031315240083507,
                    0.1524008350730689,
                    0.1524008350730689,
                    0.1534446764091858,
                    0.1534446764091858,
                    0.15553235908141963,
                    0.15553235908141963,
                    0.15762004175365343,
                    0.15762004175365343,
                    0.15970772442588727,
                    0.15970772442588727,
                    0.1617954070981211,
                    0.1617954070981211,
                    0.1638830897703549,
                    0.1638830897703549,
                    0.1649269311064718,
                    0.1649269311064718,
                    0.16597077244258873,
                    0.16597077244258873,
                    0.16701461377870563,
                    0.16701461377870563,
                    0.16805845511482254,
                    0.16805845511482254,
                    0.16910229645093947,
                    0.16910229645093947,
                    0.17014613778705637,
                    0.17014613778705637,
                    0.17118997912317327,
                    0.17118997912317327,
                    0.174321503131524,
                    0.174321503131524,
                    0.17745302713987474,
                    0.17745302713987474,
                    0.17849686847599164,
                    0.17849686847599164,
                    0.18058455114822547,
                    0.18058455114822547,
                    0.18162839248434237,
                    0.18162839248434237,
                    0.1826722338204593,
                    0.1826722338204593,
                    0.1847599164926931,
                    0.1847599164926931,
                    0.18580375782881003,
                    0.18580375782881003,
                    0.18789144050104384,
                    0.18789144050104384,
                    0.18893528183716074,
                    0.18893528183716074,
                    0.18997912317327767,
                    0.18997912317327767,
                    0.1931106471816284,
                    0.1931106471816284,
                    0.1941544885177453,
                    0.1941544885177453,
                    0.19832985386221294,
                    0.19832985386221294,
                    0.20250521920668058,
                    0.20250521920668058,
                    0.2056367432150313,
                    0.2056367432150313,
                    0.20668058455114824,
                    0.20668058455114824,
                    0.20876826722338204,
                    0.20876826722338204,
                    0.20981210855949894,
                    0.20981210855949894,
                    0.21085594989561587,
                    0.21189979123173278,
                    0.21189979123173278,
                    0.2150313152400835,
                    0.2150313152400835,
                    0.2160751565762004,
                    0.2160751565762004,
                    0.21711899791231734,
                    0.21711899791231734,
                    0.21816283924843424,
                    0.21816283924843424,
                    0.22338204592901878,
                    0.22338204592901878,
                    0.2254697286012526,
                    0.2254697286012526,
                    0.22755741127348644,
                    0.22755741127348644,
                    0.23173277661795408,
                    0.23173277661795408,
                    0.23382045929018788,
                    0.23382045929018788,
                    0.2348643006263048,
                    0.2348643006263048,
                    0.2359081419624217,
                    0.2359081419624217,
                    0.23799582463465555,
                    0.23799582463465555,
                    0.24008350730688935,
                    0.24008350730688935,
                    0.24217118997912318,
                    0.24217118997912318,
                    0.24321503131524008,
                    0.24321503131524008,
                    0.2453027139874739,
                    0.2453027139874739,
                    0.24634655532359082,
                    0.24634655532359082,
                    0.24843423799582465,
                    0.24843423799582465,
                    0.25052192066805845,
                    0.25052192066805845,
                    0.2546972860125261,
                    0.2546972860125261,
                    0.255741127348643,
                    0.255741127348643,
                    0.2578288100208768,
                    0.2578288100208768,
                    0.2599164926931106,
                    0.2599164926931106,
                    0.2620041753653445,
                    0.2620041753653445,
                    0.2640918580375783,
                    0.2640918580375783,
                    0.2651356993736952,
                    0.2651356993736952,
                    0.267223382045929,
                    0.267223382045929,
                    0.26826722338204595,
                    0.26826722338204595,
                    0.27244258872651356,
                    0.27244258872651356,
                    0.27348643006263046,
                    0.27348643006263046,
                    0.2745302713987474,
                    0.2745302713987474,
                    0.2755741127348643,
                    0.2755741127348643,
                    0.2776617954070981,
                    0.2776617954070981,
                    0.278705636743215,
                    0.278705636743215,
                    0.2849686847599165,
                    0.2849686847599165,
                    0.2860125260960334,
                    0.2860125260960334,
                    0.2881002087682672,
                    0.2881002087682672,
                    0.29331941544885176,
                    0.29331941544885176,
                    0.29436325678496866,
                    0.29436325678496866,
                    0.2954070981210856,
                    0.2954070981210856,
                    0.2974947807933194,
                    0.2974947807933194,
                    0.30167014613778703,
                    0.30167014613778703,
                    0.3037578288100209,
                    0.3037578288100209,
                    0.3058455114822547,
                    0.3058455114822547,
                    0.31106471816283926,
                    0.31106471816283926,
                    0.31524008350730687,
                    0.31524008350730687,
                    0.3173277661795407,
                    0.3173277661795407,
                    0.31837160751565763,
                    0.31837160751565763,
                    0.32254697286012524,
                    0.32254697286012524,
                    0.3235908141962422,
                    0.3235908141962422,
                    0.3246346555323591,
                    0.3246346555323591,
                    0.325678496868476,
                    0.325678496868476,
                    0.3267223382045929,
                    0.3267223382045929,
                    0.33298538622129437,
                    0.33298538622129437,
                    0.33402922755741127,
                    0.33402922755741127,
                    0.33507306889352817,
                    0.33507306889352817,
                    0.33716075156576203,
                    0.33716075156576203,
                    0.33820459290187893,
                    0.33820459290187893,
                    0.33924843423799583,
                    0.33924843423799583,
                    0.34237995824634654,
                    0.34237995824634654,
                    0.3444676409185804,
                    0.3444676409185804,
                    0.3496868475991649,
                    0.3496868475991649,
                    0.35073068893528186,
                    0.35073068893528186,
                    0.35386221294363257,
                    0.35386221294363257,
                    0.3559498956158664,
                    0.3559498956158664,
                    0.36012526096033404,
                    0.36012526096033404,
                    0.36116910229645094,
                    0.36116910229645094,
                    0.36221294363256784,
                    0.36221294363256784,
                    0.36325678496868474,
                    0.36325678496868474,
                    0.3695198329853862,
                    0.3695198329853862,
                    0.3705636743215031,
                    0.3705636743215031,
                    0.37265135699373697,
                    0.37265135699373697,
                    0.3736951983298539,
                    0.3736951983298539,
                    0.3757828810020877,
                    0.3757828810020877,
                    0.3768267223382046,
                    0.3768267223382046,
                    0.37891440501043844,
                    0.37891440501043844,
                    0.38204592901878914,
                    0.38204592901878914,
                    0.3883089770354906,
                    0.3883089770354906,
                    0.3893528183716075,
                    0.3893528183716075,
                    0.3924843423799583,
                    0.3924843423799583,
                    0.395615866388309,
                    0.395615866388309,
                    0.3977035490605428,
                    0.3977035490605428,
                    0.40083507306889354,
                    0.40083507306889354,
                    0.40605427974947805,
                    0.40605427974947805,
                    0.407098121085595,
                    0.407098121085595,
                    0.4102296450939457,
                    0.4102296450939457,
                    0.4133611691022965,
                    0.4133611691022965,
                    0.4144050104384134,
                    0.4144050104384134,
                    0.4164926931106472,
                    0.4164926931106472,
                    0.42066805845511485,
                    0.42066805845511485,
                    0.42693110647181626,
                    0.42693110647181626,
                    0.430062630480167,
                    0.430062630480167,
                    0.4342379958246347,
                    0.4342379958246347,
                    0.44467640918580376,
                    0.44467640918580376,
                    0.44780793319415446,
                    0.44780793319415446,
                    0.4509394572025052,
                    0.4509394572025052,
                    0.453027139874739,
                    0.453027139874739,
                    0.4551148225469729,
                    0.4551148225469729,
                    0.4561586638830898,
                    0.4561586638830898,
                    0.4592901878914405,
                    0.4592901878914405,
                    0.4613778705636743,
                    0.4613778705636743,
                    0.46346555323590816,
                    0.46346555323590816,
                    0.46555323590814196,
                    0.46555323590814196,
                    0.46659707724425886,
                    0.46659707724425886,
                    0.46764091858037576,
                    0.46764091858037576,
                    0.4707724425887265,
                    0.4707724425887265,
                    0.4718162839248434,
                    0.4718162839248434,
                    0.47286012526096033,
                    0.47286012526096033,
                    0.4759916492693111,
                    0.4759916492693111,
                    0.4812108559498956,
                    0.4812108559498956,
                    0.48329853862212946,
                    0.48329853862212946,
                    0.48434237995824636,
                    0.48434237995824636,
                    0.48643006263048016,
                    0.48643006263048016,
                    0.48747390396659707,
                    0.48747390396659707,
                    0.48956158663883087,
                    0.48956158663883087,
                    0.5,
                    0.5,
                    0.5041753653444676,
                    0.5041753653444676,
                    0.511482254697286,
                    0.511482254697286,
                    0.5177453027139874,
                    0.5177453027139874,
                    0.5271398747390397,
                    0.5271398747390397,
                    0.5281837160751566,
                    0.5281837160751566,
                    0.5292275574112735,
                    0.5292275574112735,
                    0.534446764091858,
                    0.534446764091858,
                    0.5375782881002088,
                    0.5375782881002088,
                    0.5438413361169102,
                    0.5438413361169102,
                    0.545929018789144,
                    0.545929018789144,
                    0.5480167014613778,
                    0.5480167014613778,
                    0.5521920668058455,
                    0.5521920668058455,
                    0.5532359081419624,
                    0.5532359081419624,
                    0.558455114822547,
                    0.558455114822547,
                    0.5730688935281837,
                    0.5730688935281837,
                    0.5741127348643006,
                    0.5741127348643006,
                    0.5845511482254697,
                    0.5845511482254697,
                    0.5855949895615866,
                    0.5855949895615866,
                    0.5887265135699373,
                    0.5887265135699373,
                    0.5908141962421712,
                    0.5908141962421712,
                    0.5960334029227558,
                    0.5960334029227558,
                    0.5970772442588727,
                    0.5970772442588727,
                    0.5991649269311065,
                    0.5991649269311065,
                    0.6043841336116911,
                    0.6043841336116911,
                    0.605427974947808,
                    0.605427974947808,
                    0.6075156576200418,
                    0.6075156576200418,
                    0.6127348643006263,
                    0.6127348643006263,
                    0.6179540709812108,
                    0.6179540709812108,
                    0.6231732776617954,
                    0.6231732776617954,
                    0.627348643006263,
                    0.627348643006263,
                    0.6304801670146137,
                    0.6304801670146137,
                    0.6346555323590815,
                    0.6346555323590815,
                    0.6356993736951984,
                    0.6356993736951984,
                    0.639874739039666,
                    0.639874739039666,
                    0.6430062630480167,
                    0.6450939457202505,
                    0.6482254697286013,
                    0.6482254697286013,
                    0.651356993736952,
                    0.651356993736952,
                    0.6722338204592901,
                    0.6722338204592901,
                    0.6743215031315241,
                    0.6743215031315241,
                    0.6764091858037579,
                    0.6764091858037579,
                    0.6784968684759917,
                    0.6784968684759917,
                    0.68580375782881,
                    0.68580375782881,
                    0.6889352818371608,
                    0.6889352818371608,
                    0.7004175365344467,
                    0.7004175365344467,
                    0.7025052192066806,
                    0.7025052192066806,
                    0.7118997912317327,
                    0.7118997912317327,
                    0.7484342379958246,
                    0.7484342379958246,
                    0.755741127348643,
                    0.755741127348643,
                    0.7599164926931107,
                    0.7599164926931107,
                    0.7693110647181628,
                    0.7693110647181628,
                    0.7860125260960334,
                    0.7860125260960334,
                    0.8215031315240083,
                    0.8215031315240083,
                    0.8319415448851775,
                    0.8319415448851775,
                    1
                  ],
                  "y": [
                    0,
                    0.00066711140760507,
                    0.15543695797198132,
                    0.15677118078719146,
                    0.20813875917278185,
                    0.20813875917278185,
                    0.25883922615076715,
                    0.25883922615076715,
                    0.2621747831887925,
                    0.2621747831887925,
                    0.2715143428952635,
                    0.2715143428952635,
                    0.2828552368245497,
                    0.2828552368245497,
                    0.2901934623082055,
                    0.2901934623082055,
                    0.29486324216144094,
                    0.29486324216144094,
                    0.31020680453635757,
                    0.31020680453635757,
                    0.37558372248165445,
                    0.37558372248165445,
                    0.3829219479653102,
                    0.3829219479653102,
                    0.38358905937291526,
                    0.38358905937291526,
                    0.39693128752501666,
                    0.39693128752501666,
                    0.400266844563042,
                    0.400266844563042,
                    0.40226817878585724,
                    0.40226817878585724,
                    0.40493662441627754,
                    0.40493662441627754,
                    0.409606404269513,
                    0.409606404269513,
                    0.4342895263509006,
                    0.4342895263509006,
                    0.4389593062041361,
                    0.4389593062041361,
                    0.45163442294863243,
                    0.45163442294863243,
                    0.45963975983989325,
                    0.45963975983989325,
                    0.4609739826551034,
                    0.4609739826551034,
                    0.47164776517678453,
                    0.47164776517678453,
                    0.47298198799199465,
                    0.47298198799199465,
                    0.48232154769846564,
                    0.48232154769846564,
                    0.48432288192128087,
                    0.48432288192128087,
                    0.4903268845897265,
                    0.4903268845897265,
                    0.4983322214809873,
                    0.4983322214809873,
                    0.5023348899266178,
                    0.5023348899266178,
                    0.5030020013342228,
                    0.5030020013342228,
                    0.5063375583722481,
                    0.5063375583722481,
                    0.5103402268178786,
                    0.5103402268178786,
                    0.5110073382254836,
                    0.5110073382254836,
                    0.513675783855904,
                    0.513675783855904,
                    0.5156771180787192,
                    0.5170113408939293,
                    0.524349566377585,
                    0.524349566377585,
                    0.5256837891927952,
                    0.5256837891927952,
                    0.5316877918612408,
                    0.5316877918612408,
                    0.5350233488992662,
                    0.5350233488992662,
                    0.5363575717144763,
                    0.5363575717144763,
                    0.5483655770513676,
                    0.5483655770513676,
                    0.552368245496998,
                    0.552368245496998,
                    0.5570380253502335,
                    0.5570380253502335,
                    0.5583722481654436,
                    0.5583722481654436,
                    0.5610406937958639,
                    0.5610406937958639,
                    0.5623749166110741,
                    0.5623749166110741,
                    0.5677118078719147,
                    0.5677118078719147,
                    0.5723815877251501,
                    0.5723815877251501,
                    0.5730486991327551,
                    0.5730486991327551,
                    0.5790527018012008,
                    0.580386924616411,
                    0.5843895930620414,
                    0.5843895930620414,
                    0.5857238158772515,
                    0.5863909272848565,
                    0.5883922615076718,
                    0.5883922615076718,
                    0.5930620413609072,
                    0.5930620413609072,
                    0.5983989326217478,
                    0.5983989326217478,
                    0.6024016010673783,
                    0.6024016010673783,
                    0.6037358238825884,
                    0.6037358238825884,
                    0.609739826551034,
                    0.609739826551034,
                    0.6137424949966644,
                    0.6137424949966644,
                    0.61974649766511,
                    0.61974649766511,
                    0.6224149432955304,
                    0.6224149432955304,
                    0.627751834556371,
                    0.627751834556371,
                    0.6317545030020013,
                    0.6317545030020013,
                    0.638425617078052,
                    0.638425617078052,
                    0.6417611741160774,
                    0.6417611741160774,
                    0.6424282855236825,
                    0.6424282855236825,
                    0.6430953969312875,
                    0.6430953969312875,
                    0.6457638425617078,
                    0.6457638425617078,
                    0.6464309539693128,
                    0.6464309539693128,
                    0.6484322881921281,
                    0.6484322881921281,
                    0.6511007338225484,
                    0.6511007338225484,
                    0.6537691794529686,
                    0.6537691794529686,
                    0.6544362908605738,
                    0.6544362908605738,
                    0.6551034022681788,
                    0.6551034022681788,
                    0.6584389593062041,
                    0.6584389593062041,
                    0.6657771847898599,
                    0.6657771847898599,
                    0.6677785190126752,
                    0.6691127418278853,
                    0.6704469646430954,
                    0.6704469646430954,
                    0.6711140760507005,
                    0.6711140760507005,
                    0.675783855903936,
                    0.675783855903936,
                    0.6804536357571714,
                    0.6804536357571714,
                    0.6931287525016678,
                    0.6931287525016678,
                    0.6984656437625083,
                    0.6984656437625083,
                    0.6991327551701134,
                    0.6991327551701134,
                    0.7011340893929286,
                    0.7011340893929286,
                    0.7064709806537692,
                    0.7064709806537692,
                    0.7078052034689793,
                    0.7078052034689793,
                    0.7091394262841895,
                    0.7091394262841895,
                    0.7111407605070047,
                    0.7111407605070047,
                    0.7138092061374249,
                    0.7138092061374249,
                    0.7211474316210807,
                    0.7211474316210807,
                    0.7224816544362909,
                    0.7224816544362909,
                    0.723148765843896,
                    0.723148765843896,
                    0.7244829886591061,
                    0.7244829886591061,
                    0.7291527685123416,
                    0.7291527685123416,
                    0.7324883255503669,
                    0.7324883255503669,
                    0.733155436957972,
                    0.733155436957972,
                    0.7344896597731821,
                    0.7344896597731821,
                    0.7364909939959974,
                    0.7364909939959974,
                    0.7391594396264176,
                    0.7391594396264176,
                    0.7398265510340227,
                    0.7398265510340227,
                    0.7411607738492328,
                    0.7411607738492328,
                    0.742494996664443,
                    0.742494996664443,
                    0.7431621080720481,
                    0.7431621080720481,
                    0.7464976651100734,
                    0.7464976651100734,
                    0.7498332221480988,
                    0.7498332221480988,
                    0.7511674449633089,
                    0.7511674449633089,
                    0.7518345563709139,
                    0.7518345563709139,
                    0.7551701134089392,
                    0.7551701134089392,
                    0.7558372248165444,
                    0.7558372248165444,
                    0.7585056704469646,
                    0.7585056704469646,
                    0.7598398932621748,
                    0.7598398932621748,
                    0.7605070046697798,
                    0.7605070046697798,
                    0.7645096731154103,
                    0.7645096731154103,
                    0.7685123415610406,
                    0.7685123415610406,
                    0.7691794529686458,
                    0.7691794529686458,
                    0.771180787191461,
                    0.771180787191461,
                    0.7745163442294863,
                    0.7745163442294863,
                    0.7751834556370913,
                    0.7751834556370913,
                    0.7758505670446965,
                    0.7758505670446965,
                    0.7785190126751167,
                    0.7785190126751167,
                    0.7805203468979319,
                    0.7805203468979319,
                    0.7825216811207472,
                    0.7825216811207472,
                    0.7838559039359573,
                    0.7838559039359573,
                    0.7845230153435624,
                    0.7845230153435624,
                    0.7865243495663776,
                    0.7865243495663776,
                    0.7911941294196131,
                    0.7911941294196131,
                    0.7931954636424283,
                    0.7931954636424283,
                    0.7965310206804537,
                    0.7965310206804537,
                    0.7971981320880587,
                    0.7971981320880587,
                    0.7978652434956638,
                    0.7978652434956638,
                    0.7991994663108739,
                    0.7991994663108739,
                    0.8018679119412941,
                    0.8018679119412941,
                    0.8045363575717145,
                    0.8045363575717145,
                    0.8058705803869246,
                    0.8058705803869246,
                    0.8072048032021347,
                    0.8072048032021347,
                    0.8098732488325551,
                    0.8098732488325551,
                    0.8112074716477652,
                    0.8112074716477652,
                    0.8125416944629753,
                    0.8125416944629753,
                    0.8132088058705804,
                    0.8132088058705804,
                    0.8145430286857905,
                    0.8145430286857905,
                    0.8158772515010007,
                    0.8158772515010007,
                    0.8178785857238159,
                    0.8178785857238159,
                    0.8205470313542361,
                    0.8205470313542361,
                    0.8218812541694464,
                    0.8218812541694464,
                    0.8232154769846565,
                    0.8232154769846565,
                    0.8238825883922615,
                    0.8238825883922615,
                    0.8258839226150767,
                    0.8258839226150767,
                    0.8265510340226818,
                    0.8265510340226818,
                    0.8272181454302868,
                    0.8278852568378919,
                    0.8278852568378919,
                    0.829219479653102,
                    0.829219479653102,
                    0.8298865910607072,
                    0.8298865910607072,
                    0.8332221480987325,
                    0.8332221480987325,
                    0.8338892595063375,
                    0.8338892595063375,
                    0.8345563709139426,
                    0.8345563709139426,
                    0.8398932621747832,
                    0.8398932621747832,
                    0.8405603735823882,
                    0.8405603735823882,
                    0.8418945963975984,
                    0.8418945963975984,
                    0.8425617078052035,
                    0.8425617078052035,
                    0.8432288192128086,
                    0.8432288192128086,
                    0.8445630420280187,
                    0.8445630420280187,
                    0.8465643762508339,
                    0.8465643762508339,
                    0.847898599066044,
                    0.847898599066044,
                    0.8492328218812542,
                    0.8492328218812542,
                    0.8512341561040694,
                    0.8512341561040694,
                    0.8519012675116745,
                    0.8519012675116745,
                    0.8525683789192795,
                    0.8525683789192795,
                    0.8539026017344896,
                    0.8539026017344896,
                    0.8545697131420947,
                    0.8545697131420947,
                    0.8552368245496998,
                    0.8552368245496998,
                    0.8592394929953302,
                    0.8592394929953302,
                    0.8625750500333556,
                    0.8625750500333556,
                    0.8652434956637759,
                    0.8652434956637759,
                    0.8659106070713809,
                    0.8659106070713809,
                    0.8679119412941961,
                    0.8679119412941961,
                    0.8685790527018012,
                    0.8685790527018012,
                    0.8692461641094062,
                    0.8692461641094062,
                    0.8699132755170114,
                    0.8699132755170114,
                    0.8705803869246164,
                    0.8705803869246164,
                    0.8719146097398266,
                    0.8719146097398266,
                    0.8725817211474316,
                    0.8725817211474316,
                    0.8739159439626417,
                    0.8739159439626417,
                    0.8745830553702468,
                    0.8745830553702468,
                    0.875250166777852,
                    0.875250166777852,
                    0.875917278185457,
                    0.875917278185457,
                    0.8772515010006671,
                    0.8772515010006671,
                    0.8779186124082722,
                    0.8779186124082722,
                    0.8792528352234823,
                    0.8792528352234823,
                    0.8812541694462975,
                    0.8812541694462975,
                    0.8825883922615076,
                    0.8825883922615076,
                    0.8845897264843229,
                    0.8845897264843229,
                    0.885256837891928,
                    0.885256837891928,
                    0.885923949299533,
                    0.885923949299533,
                    0.8872581721147431,
                    0.8872581721147431,
                    0.8885923949299533,
                    0.8885923949299533,
                    0.8892595063375583,
                    0.8892595063375583,
                    0.8905937291527685,
                    0.8905937291527685,
                    0.8912608405603736,
                    0.8912608405603736,
                    0.8919279519679787,
                    0.8919279519679787,
                    0.8932621747831888,
                    0.8932621747831888,
                    0.8945963975983989,
                    0.8945963975983989,
                    0.895930620413609,
                    0.895930620413609,
                    0.8965977318212142,
                    0.8965977318212142,
                    0.8985990660440294,
                    0.8985990660440294,
                    0.8992661774516344,
                    0.8992661774516344,
                    0.8999332888592395,
                    0.8999332888592395,
                    0.9006004002668445,
                    0.9006004002668445,
                    0.9012675116744496,
                    0.9012675116744496,
                    0.9019346230820547,
                    0.9019346230820547,
                    0.9032688458972649,
                    0.9032688458972649,
                    0.904603068712475,
                    0.904603068712475,
                    0.9052701801200801,
                    0.9052701801200801,
                    0.9059372915276851,
                    0.9059372915276851,
                    0.9066044029352902,
                    0.9066044029352902,
                    0.9086057371581054,
                    0.9086057371581054,
                    0.9099399599733156,
                    0.9099399599733156,
                    0.9119412941961308,
                    0.9119412941961308,
                    0.9126084056037358,
                    0.9126084056037358,
                    0.9139426284189459,
                    0.9139426284189459,
                    0.9152768512341561,
                    0.9152768512341561,
                    0.9159439626417611,
                    0.9159439626417611,
                    0.9166110740493663,
                    0.9166110740493663,
                    0.9179452968645764,
                    0.9179452968645764,
                    0.9199466310873916,
                    0.9199466310873916,
                    0.9206137424949966,
                    0.9206137424949966,
                    0.9212808539026017,
                    0.9212808539026017,
                    0.9219479653102068,
                    0.9219479653102068,
                    0.9226150767178118,
                    0.9226150767178118,
                    0.923282188125417,
                    0.923282188125417,
                    0.923949299533022,
                    0.923949299533022,
                    0.9246164109406271,
                    0.9246164109406271,
                    0.9259506337558372,
                    0.9259506337558372,
                    0.9266177451634423,
                    0.9266177451634423,
                    0.9279519679786524,
                    0.9279519679786524,
                    0.9286190793862575,
                    0.9286190793862575,
                    0.9292861907938625,
                    0.9292861907938625,
                    0.9299533022014677,
                    0.9299533022014677,
                    0.9312875250166778,
                    0.9312875250166778,
                    0.9319546364242829,
                    0.9319546364242829,
                    0.933955970647098,
                    0.933955970647098,
                    0.9346230820547031,
                    0.9346230820547031,
                    0.9359573048699132,
                    0.9359573048699132,
                    0.9372915276851234,
                    0.9372915276851234,
                    0.9379586390927285,
                    0.9379586390927285,
                    0.9399599733155437,
                    0.9399599733155437,
                    0.9406270847231488,
                    0.9406270847231488,
                    0.9426284189459639,
                    0.9426284189459639,
                    0.9432955303535691,
                    0.9432955303535691,
                    0.9446297531687792,
                    0.9446297531687792,
                    0.9452968645763843,
                    0.9452968645763843,
                    0.9459639759839893,
                    0.9459639759839893,
                    0.9466310873915944,
                    0.9466310873915944,
                    0.9472981987991995,
                    0.9472981987991995,
                    0.9479653102068045,
                    0.9479653102068045,
                    0.9486324216144096,
                    0.9486324216144096,
                    0.9499666444296198,
                    0.9499666444296198,
                    0.9513008672448299,
                    0.9513008672448299,
                    0.951967978652435,
                    0.951967978652435,
                    0.95263509006004,
                    0.95263509006004,
                    0.9539693128752502,
                    0.9539693128752502,
                    0.9546364242828552,
                    0.9546364242828552,
                    0.9559706470980653,
                    0.9559706470980653,
                    0.9566377585056705,
                    0.9566377585056705,
                    0.9573048699132756,
                    0.9573048699132756,
                    0.9579719813208806,
                    0.9579719813208806,
                    0.9586390927284857,
                    0.9586390927284857,
                    0.9593062041360907,
                    0.9593062041360907,
                    0.9599733155436958,
                    0.9599733155436958,
                    0.9606404269513009,
                    0.9606404269513009,
                    0.961974649766511,
                    0.961974649766511,
                    0.9639759839893263,
                    0.9639759839893263,
                    0.9646430953969313,
                    0.9646430953969313,
                    0.9653102068045364,
                    0.9653102068045364,
                    0.9659773182121414,
                    0.9659773182121414,
                    0.9673115410273516,
                    0.9673115410273516,
                    0.9679786524349566,
                    0.9679786524349566,
                    0.9686457638425617,
                    0.9686457638425617,
                    0.9693128752501667,
                    0.9693128752501667,
                    0.9699799866577719,
                    0.9699799866577719,
                    0.970647098065377,
                    0.970647098065377,
                    0.9719813208805871,
                    0.9719813208805871,
                    0.9726484322881921,
                    0.9726484322881921,
                    0.9733155436957972,
                    0.9733155436957972,
                    0.9739826551034023,
                    0.9739826551034023,
                    0.9746497665110073,
                    0.9746497665110073,
                    0.9753168779186124,
                    0.9753168779186124,
                    0.9759839893262174,
                    0.9759839893262174,
                    0.9766511007338226,
                    0.9766511007338226,
                    0.9773182121414277,
                    0.9773182121414277,
                    0.9779853235490327,
                    0.9779853235490327,
                    0.9786524349566378,
                    0.9786524349566378,
                    0.9793195463642428,
                    0.9793195463642428,
                    0.9799866577718479,
                    0.9799866577718479,
                    0.980653769179453,
                    0.980653769179453,
                    0.981320880587058,
                    0.981320880587058,
                    0.9826551034022681,
                    0.9826551034022681,
                    0.9833222148098733,
                    0.9833222148098733,
                    0.9839893262174784,
                    0.9839893262174784,
                    0.9846564376250834,
                    0.9846564376250834,
                    0.9853235490326885,
                    0.9853235490326885,
                    0.9859906604402935,
                    0.9859906604402935,
                    0.9859906604402935,
                    0.9859906604402935,
                    0.9873248832555037,
                    0.9873248832555037,
                    0.9879919946631087,
                    0.9879919946631087,
                    0.9886591060707138,
                    0.9886591060707138,
                    0.989993328885924,
                    0.989993328885924,
                    0.9906604402935291,
                    0.9906604402935291,
                    0.9913275517011341,
                    0.9913275517011341,
                    0.9919946631087392,
                    0.9919946631087392,
                    0.9933288859239493,
                    0.9933288859239493,
                    0.9939959973315544,
                    0.9939959973315544,
                    0.9946631087391594,
                    0.9946631087391594,
                    0.9953302201467645,
                    0.9953302201467645,
                    0.9959973315543695,
                    0.9959973315543695,
                    0.9966644429619747,
                    0.9966644429619747,
                    0.9973315543695798,
                    0.9973315543695798,
                    0.9979986657771848,
                    0.9979986657771848,
                    0.9986657771847899,
                    0.9986657771847899,
                    0.9993328885923949,
                    0.9993328885923949,
                    1,
                    1
                  ]
                },
                {
                  "hovertemplate": "TPR: %{y:.2%}<br>FPR: %{x:.2%}<br>Youden's Index: 0.663",
                  "marker": {
                    "size": 15
                  },
                  "mode": "markers",
                  "showlegend": false,
                  "type": "scatter",
                  "x": [
                    0.16910229645093947
                  ],
                  "y": [
                    0.7965310206804537
                  ]
                },
                {
                  "line": {
                    "color": "#444",
                    "dash": "dash",
                    "width": 2
                  },
                  "showlegend": false,
                  "type": "scatter",
                  "x": [
                    0,
                    1
                  ],
                  "y": [
                    0,
                    1
                  ]
                }
              ],
              "layout": {
                "height": 500,
                "template": {
                  "data": {
                    "bar": [
                      {
                        "error_x": {
                          "color": "#2a3f5f"
                        },
                        "error_y": {
                          "color": "#2a3f5f"
                        },
                        "marker": {
                          "line": {
                            "color": "#E5ECF6",
                            "width": 0.5
                          },
                          "pattern": {
                            "fillmode": "overlay",
                            "size": 10,
                            "solidity": 0.2
                          }
                        },
                        "type": "bar"
                      }
                    ],
                    "barpolar": [
                      {
                        "marker": {
                          "line": {
                            "color": "#E5ECF6",
                            "width": 0.5
                          },
                          "pattern": {
                            "fillmode": "overlay",
                            "size": 10,
                            "solidity": 0.2
                          }
                        },
                        "type": "barpolar"
                      }
                    ],
                    "carpet": [
                      {
                        "aaxis": {
                          "endlinecolor": "#2a3f5f",
                          "gridcolor": "white",
                          "linecolor": "white",
                          "minorgridcolor": "white",
                          "startlinecolor": "#2a3f5f"
                        },
                        "baxis": {
                          "endlinecolor": "#2a3f5f",
                          "gridcolor": "white",
                          "linecolor": "white",
                          "minorgridcolor": "white",
                          "startlinecolor": "#2a3f5f"
                        },
                        "type": "carpet"
                      }
                    ],
                    "choropleth": [
                      {
                        "colorbar": {
                          "outlinewidth": 0,
                          "ticks": ""
                        },
                        "type": "choropleth"
                      }
                    ],
                    "contour": [
                      {
                        "colorbar": {
                          "outlinewidth": 0,
                          "ticks": ""
                        },
                        "colorscale": [
                          [
                            0,
                            "#0d0887"
                          ],
                          [
                            0.1111111111111111,
                            "#46039f"
                          ],
                          [
                            0.2222222222222222,
                            "#7201a8"
                          ],
                          [
                            0.3333333333333333,
                            "#9c179e"
                          ],
                          [
                            0.4444444444444444,
                            "#bd3786"
                          ],
                          [
                            0.5555555555555556,
                            "#d8576b"
                          ],
                          [
                            0.6666666666666666,
                            "#ed7953"
                          ],
                          [
                            0.7777777777777778,
                            "#fb9f3a"
                          ],
                          [
                            0.8888888888888888,
                            "#fdca26"
                          ],
                          [
                            1,
                            "#f0f921"
                          ]
                        ],
                        "type": "contour"
                      }
                    ],
                    "contourcarpet": [
                      {
                        "colorbar": {
                          "outlinewidth": 0,
                          "ticks": ""
                        },
                        "type": "contourcarpet"
                      }
                    ],
                    "heatmap": [
                      {
                        "colorbar": {
                          "outlinewidth": 0,
                          "ticks": ""
                        },
                        "colorscale": [
                          [
                            0,
                            "#0d0887"
                          ],
                          [
                            0.1111111111111111,
                            "#46039f"
                          ],
                          [
                            0.2222222222222222,
                            "#7201a8"
                          ],
                          [
                            0.3333333333333333,
                            "#9c179e"
                          ],
                          [
                            0.4444444444444444,
                            "#bd3786"
                          ],
                          [
                            0.5555555555555556,
                            "#d8576b"
                          ],
                          [
                            0.6666666666666666,
                            "#ed7953"
                          ],
                          [
                            0.7777777777777778,
                            "#fb9f3a"
                          ],
                          [
                            0.8888888888888888,
                            "#fdca26"
                          ],
                          [
                            1,
                            "#f0f921"
                          ]
                        ],
                        "type": "heatmap"
                      }
                    ],
                    "heatmapgl": [
                      {
                        "colorbar": {
                          "outlinewidth": 0,
                          "ticks": ""
                        },
                        "colorscale": [
                          [
                            0,
                            "#0d0887"
                          ],
                          [
                            0.1111111111111111,
                            "#46039f"
                          ],
                          [
                            0.2222222222222222,
                            "#7201a8"
                          ],
                          [
                            0.3333333333333333,
                            "#9c179e"
                          ],
                          [
                            0.4444444444444444,
                            "#bd3786"
                          ],
                          [
                            0.5555555555555556,
                            "#d8576b"
                          ],
                          [
                            0.6666666666666666,
                            "#ed7953"
                          ],
                          [
                            0.7777777777777778,
                            "#fb9f3a"
                          ],
                          [
                            0.8888888888888888,
                            "#fdca26"
                          ],
                          [
                            1,
                            "#f0f921"
                          ]
                        ],
                        "type": "heatmapgl"
                      }
                    ],
                    "histogram": [
                      {
                        "marker": {
                          "pattern": {
                            "fillmode": "overlay",
                            "size": 10,
                            "solidity": 0.2
                          }
                        },
                        "type": "histogram"
                      }
                    ],
                    "histogram2d": [
                      {
                        "colorbar": {
                          "outlinewidth": 0,
                          "ticks": ""
                        },
                        "colorscale": [
                          [
                            0,
                            "#0d0887"
                          ],
                          [
                            0.1111111111111111,
                            "#46039f"
                          ],
                          [
                            0.2222222222222222,
                            "#7201a8"
                          ],
                          [
                            0.3333333333333333,
                            "#9c179e"
                          ],
                          [
                            0.4444444444444444,
                            "#bd3786"
                          ],
                          [
                            0.5555555555555556,
                            "#d8576b"
                          ],
                          [
                            0.6666666666666666,
                            "#ed7953"
                          ],
                          [
                            0.7777777777777778,
                            "#fb9f3a"
                          ],
                          [
                            0.8888888888888888,
                            "#fdca26"
                          ],
                          [
                            1,
                            "#f0f921"
                          ]
                        ],
                        "type": "histogram2d"
                      }
                    ],
                    "histogram2dcontour": [
                      {
                        "colorbar": {
                          "outlinewidth": 0,
                          "ticks": ""
                        },
                        "colorscale": [
                          [
                            0,
                            "#0d0887"
                          ],
                          [
                            0.1111111111111111,
                            "#46039f"
                          ],
                          [
                            0.2222222222222222,
                            "#7201a8"
                          ],
                          [
                            0.3333333333333333,
                            "#9c179e"
                          ],
                          [
                            0.4444444444444444,
                            "#bd3786"
                          ],
                          [
                            0.5555555555555556,
                            "#d8576b"
                          ],
                          [
                            0.6666666666666666,
                            "#ed7953"
                          ],
                          [
                            0.7777777777777778,
                            "#fb9f3a"
                          ],
                          [
                            0.8888888888888888,
                            "#fdca26"
                          ],
                          [
                            1,
                            "#f0f921"
                          ]
                        ],
                        "type": "histogram2dcontour"
                      }
                    ],
                    "mesh3d": [
                      {
                        "colorbar": {
                          "outlinewidth": 0,
                          "ticks": ""
                        },
                        "type": "mesh3d"
                      }
                    ],
                    "parcoords": [
                      {
                        "line": {
                          "colorbar": {
                            "outlinewidth": 0,
                            "ticks": ""
                          }
                        },
                        "type": "parcoords"
                      }
                    ],
                    "pie": [
                      {
                        "automargin": true,
                        "type": "pie"
                      }
                    ],
                    "scatter": [
                      {
                        "marker": {
                          "colorbar": {
                            "outlinewidth": 0,
                            "ticks": ""
                          }
                        },
                        "type": "scatter"
                      }
                    ],
                    "scatter3d": [
                      {
                        "line": {
                          "colorbar": {
                            "outlinewidth": 0,
                            "ticks": ""
                          }
                        },
                        "marker": {
                          "colorbar": {
                            "outlinewidth": 0,
                            "ticks": ""
                          }
                        },
                        "type": "scatter3d"
                      }
                    ],
                    "scattercarpet": [
                      {
                        "marker": {
                          "colorbar": {
                            "outlinewidth": 0,
                            "ticks": ""
                          }
                        },
                        "type": "scattercarpet"
                      }
                    ],
                    "scattergeo": [
                      {
                        "marker": {
                          "colorbar": {
                            "outlinewidth": 0,
                            "ticks": ""
                          }
                        },
                        "type": "scattergeo"
                      }
                    ],
                    "scattergl": [
                      {
                        "marker": {
                          "colorbar": {
                            "outlinewidth": 0,
                            "ticks": ""
                          }
                        },
                        "type": "scattergl"
                      }
                    ],
                    "scattermapbox": [
                      {
                        "marker": {
                          "colorbar": {
                            "outlinewidth": 0,
                            "ticks": ""
                          }
                        },
                        "type": "scattermapbox"
                      }
                    ],
                    "scatterpolar": [
                      {
                        "marker": {
                          "colorbar": {
                            "outlinewidth": 0,
                            "ticks": ""
                          }
                        },
                        "type": "scatterpolar"
                      }
                    ],
                    "scatterpolargl": [
                      {
                        "marker": {
                          "colorbar": {
                            "outlinewidth": 0,
                            "ticks": ""
                          }
                        },
                        "type": "scatterpolargl"
                      }
                    ],
                    "scatterternary": [
                      {
                        "marker": {
                          "colorbar": {
                            "outlinewidth": 0,
                            "ticks": ""
                          }
                        },
                        "type": "scatterternary"
                      }
                    ],
                    "surface": [
                      {
                        "colorbar": {
                          "outlinewidth": 0,
                          "ticks": ""
                        },
                        "colorscale": [
                          [
                            0,
                            "#0d0887"
                          ],
                          [
                            0.1111111111111111,
                            "#46039f"
                          ],
                          [
                            0.2222222222222222,
                            "#7201a8"
                          ],
                          [
                            0.3333333333333333,
                            "#9c179e"
                          ],
                          [
                            0.4444444444444444,
                            "#bd3786"
                          ],
                          [
                            0.5555555555555556,
                            "#d8576b"
                          ],
                          [
                            0.6666666666666666,
                            "#ed7953"
                          ],
                          [
                            0.7777777777777778,
                            "#fb9f3a"
                          ],
                          [
                            0.8888888888888888,
                            "#fdca26"
                          ],
                          [
                            1,
                            "#f0f921"
                          ]
                        ],
                        "type": "surface"
                      }
                    ],
                    "table": [
                      {
                        "cells": {
                          "fill": {
                            "color": "#EBF0F8"
                          },
                          "line": {
                            "color": "white"
                          }
                        },
                        "header": {
                          "fill": {
                            "color": "#C8D4E3"
                          },
                          "line": {
                            "color": "white"
                          }
                        },
                        "type": "table"
                      }
                    ]
                  },
                  "layout": {
                    "annotationdefaults": {
                      "arrowcolor": "#2a3f5f",
                      "arrowhead": 0,
                      "arrowwidth": 1
                    },
                    "autotypenumbers": "strict",
                    "coloraxis": {
                      "colorbar": {
                        "outlinewidth": 0,
                        "ticks": ""
                      }
                    },
                    "colorscale": {
                      "diverging": [
                        [
                          0,
                          "#8e0152"
                        ],
                        [
                          0.1,
                          "#c51b7d"
                        ],
                        [
                          0.2,
                          "#de77ae"
                        ],
                        [
                          0.3,
                          "#f1b6da"
                        ],
                        [
                          0.4,
                          "#fde0ef"
                        ],
                        [
                          0.5,
                          "#f7f7f7"
                        ],
                        [
                          0.6,
                          "#e6f5d0"
                        ],
                        [
                          0.7,
                          "#b8e186"
                        ],
                        [
                          0.8,
                          "#7fbc41"
                        ],
                        [
                          0.9,
                          "#4d9221"
                        ],
                        [
                          1,
                          "#276419"
                        ]
                      ],
                      "sequential": [
                        [
                          0,
                          "#0d0887"
                        ],
                        [
                          0.1111111111111111,
                          "#46039f"
                        ],
                        [
                          0.2222222222222222,
                          "#7201a8"
                        ],
                        [
                          0.3333333333333333,
                          "#9c179e"
                        ],
                        [
                          0.4444444444444444,
                          "#bd3786"
                        ],
                        [
                          0.5555555555555556,
                          "#d8576b"
                        ],
                        [
                          0.6666666666666666,
                          "#ed7953"
                        ],
                        [
                          0.7777777777777778,
                          "#fb9f3a"
                        ],
                        [
                          0.8888888888888888,
                          "#fdca26"
                        ],
                        [
                          1,
                          "#f0f921"
                        ]
                      ],
                      "sequentialminus": [
                        [
                          0,
                          "#0d0887"
                        ],
                        [
                          0.1111111111111111,
                          "#46039f"
                        ],
                        [
                          0.2222222222222222,
                          "#7201a8"
                        ],
                        [
                          0.3333333333333333,
                          "#9c179e"
                        ],
                        [
                          0.4444444444444444,
                          "#bd3786"
                        ],
                        [
                          0.5555555555555556,
                          "#d8576b"
                        ],
                        [
                          0.6666666666666666,
                          "#ed7953"
                        ],
                        [
                          0.7777777777777778,
                          "#fb9f3a"
                        ],
                        [
                          0.8888888888888888,
                          "#fdca26"
                        ],
                        [
                          1,
                          "#f0f921"
                        ]
                      ]
                    },
                    "colorway": [
                      "#636efa",
                      "#EF553B",
                      "#00cc96",
                      "#ab63fa",
                      "#FFA15A",
                      "#19d3f3",
                      "#FF6692",
                      "#B6E880",
                      "#FF97FF",
                      "#FECB52"
                    ],
                    "font": {
                      "color": "#2a3f5f"
                    },
                    "geo": {
                      "bgcolor": "white",
                      "lakecolor": "white",
                      "landcolor": "#E5ECF6",
                      "showlakes": true,
                      "showland": true,
                      "subunitcolor": "white"
                    },
                    "hoverlabel": {
                      "align": "left"
                    },
                    "hovermode": "closest",
                    "mapbox": {
                      "style": "light"
                    },
                    "paper_bgcolor": "white",
                    "plot_bgcolor": "#E5ECF6",
                    "polar": {
                      "angularaxis": {
                        "gridcolor": "white",
                        "linecolor": "white",
                        "ticks": ""
                      },
                      "bgcolor": "#E5ECF6",
                      "radialaxis": {
                        "gridcolor": "white",
                        "linecolor": "white",
                        "ticks": ""
                      }
                    },
                    "scene": {
                      "xaxis": {
                        "backgroundcolor": "#E5ECF6",
                        "gridcolor": "white",
                        "gridwidth": 2,
                        "linecolor": "white",
                        "showbackground": true,
                        "ticks": "",
                        "zerolinecolor": "white"
                      },
                      "yaxis": {
                        "backgroundcolor": "#E5ECF6",
                        "gridcolor": "white",
                        "gridwidth": 2,
                        "linecolor": "white",
                        "showbackground": true,
                        "ticks": "",
                        "zerolinecolor": "white"
                      },
                      "zaxis": {
                        "backgroundcolor": "#E5ECF6",
                        "gridcolor": "white",
                        "gridwidth": 2,
                        "linecolor": "white",
                        "showbackground": true,
                        "ticks": "",
                        "zerolinecolor": "white"
                      }
                    },
                    "shapedefaults": {
                      "line": {
                        "color": "#2a3f5f"
                      }
                    },
                    "ternary": {
                      "aaxis": {
                        "gridcolor": "white",
                        "linecolor": "white",
                        "ticks": ""
                      },
                      "baxis": {
                        "gridcolor": "white",
                        "linecolor": "white",
                        "ticks": ""
                      },
                      "bgcolor": "#E5ECF6",
                      "caxis": {
                        "gridcolor": "white",
                        "linecolor": "white",
                        "ticks": ""
                      }
                    },
                    "title": {
                      "x": 0.05
                    },
                    "xaxis": {
                      "automargin": true,
                      "gridcolor": "white",
                      "linecolor": "white",
                      "ticks": "",
                      "title": {
                        "standoff": 15
                      },
                      "zerolinecolor": "white",
                      "zerolinewidth": 2
                    },
                    "yaxis": {
                      "automargin": true,
                      "gridcolor": "white",
                      "linecolor": "white",
                      "ticks": "",
                      "title": {
                        "standoff": 15
                      },
                      "zerolinecolor": "white",
                      "zerolinewidth": 2
                    }
                  }
                },
                "title": {
                  "text": "Receiver operating characteristic for binary data"
                },
                "width": 900,
                "xaxis": {
                  "title": {
                    "text": "False Positive Rate"
                  }
                },
                "yaxis": {
                  "title": {
                    "text": "True Positive Rate"
                  }
                }
              }
            }
          },
          "metadata": {},
          "output_type": "display_data"
        },
        {
          "data": {
            "text/html": [
              "<div><span style=\"font-size:0.8em\"><i>\n",
              "        The marked points are the optimal threshold cut-off points. They are determined using Youden's index defined\n",
              "        as sensitivity + specificity - 1\n",
              "        </i></span></div><br><a href=\"#summary_Y10XZ\" style=\"font-size: 14px\">Go to top</a>"
            ]
          },
          "metadata": {},
          "output_type": "display_data"
        },
        {
          "data": {
            "text/html": [
              "<hr style=\"background-color: #eee;border: 0 none;color: #eee;height: 4px;\">"
            ]
          },
          "metadata": {},
          "output_type": "display_data"
        },
        {
          "data": {
            "text/html": [
              "<h4 id=\"TrainTestDrift_Y10XZ\">Train Test Drift</h4><p>    Calculate drift between train dataset and test dataset per feature, using statistical measures. <a href=\"https://docs.deepchecks.com/0.6.1/examples/tabular/checks/distribution/examples/plot_train_test_feature_drift.html?utm_source=display_output&utm_medium=referral&utm_campaign=check_link\" target=\"_blank\">Read More...</a></p><h5>Conditions Summary</h5><style type=\"text/css\">\n",
              "#T_a48cd table {\n",
              "  text-align: left;\n",
              "  white-space: pre-wrap;\n",
              "}\n",
              "#T_a48cd thead {\n",
              "  text-align: left;\n",
              "  white-space: pre-wrap;\n",
              "}\n",
              "#T_a48cd tbody {\n",
              "  text-align: left;\n",
              "  white-space: pre-wrap;\n",
              "}\n",
              "#T_a48cd th {\n",
              "  text-align: left;\n",
              "  white-space: pre-wrap;\n",
              "}\n",
              "#T_a48cd td {\n",
              "  text-align: left;\n",
              "  white-space: pre-wrap;\n",
              "}\n",
              "</style>\n",
              "<table id=\"T_a48cd\">\n",
              "  <thead>\n",
              "    <tr>\n",
              "      <th id=\"T_a48cd_level0_col0\" class=\"col_heading level0 col0\" >Status</th>\n",
              "      <th id=\"T_a48cd_level0_col1\" class=\"col_heading level0 col1\" >Condition</th>\n",
              "      <th id=\"T_a48cd_level0_col2\" class=\"col_heading level0 col2\" >More Info</th>\n",
              "    </tr>\n",
              "  </thead>\n",
              "  <tbody>\n",
              "    <tr>\n",
              "      <td id=\"T_a48cd_row0_col0\" class=\"data row0 col0\" ><div style=\"color: green;text-align: center\">✓</div></td>\n",
              "      <td id=\"T_a48cd_row0_col1\" class=\"data row0 col1\" >PSI <= 0.2 and Earth Mover's Distance <= 0.1</td>\n",
              "      <td id=\"T_a48cd_row0_col2\" class=\"data row0 col2\" ></td>\n",
              "    </tr>\n",
              "  </tbody>\n",
              "</table>\n",
              "<h5>Additional Outputs</h5><div><span>\n",
              "            The Drift score is a measure for the difference between two distributions, in this check - the test\n",
              "            and train distributions.<br> The check shows the drift score and distributions for the features, sorted by\n",
              "            feature importance and showing only the top 5 features, according to feature importance.\n",
              "            <br>If available, the plot titles also show the feature importance (FI) rank.\n",
              "        </span></div>"
            ]
          },
          "metadata": {},
          "output_type": "display_data"
        },
        {
          "data": {
            "application/vnd.plotly.v1+json": {
              "config": {
                "plotlyServerURL": "https://plot.ly"
              },
              "data": [
                {
                  "base": 0,
                  "marker": {
                    "color": "#01B8AA"
                  },
                  "offsetgroup": "0",
                  "orientation": "h",
                  "showlegend": false,
                  "type": "bar",
                  "x": [
                    0.0031203288889934625
                  ],
                  "xaxis": "x",
                  "y": [
                    "Drift Score"
                  ],
                  "yaxis": "y"
                },
                {
                  "fill": "tozeroy",
                  "line": {
                    "color": "#00008b"
                  },
                  "name": "Train Dataset",
                  "type": "scatter",
                  "x": [
                    129.00000000000003,
                    136.1842988225714,
                    143.36859764514276,
                    150.55289646771413,
                    157.7371952902855,
                    164.9214941128569,
                    172.10579293542827,
                    179.29009175799962,
                    186.474390580571,
                    193.65868940314238,
                    200.84298822571373,
                    208.0272870482851,
                    215.21158587085648,
                    222.39588469342786,
                    229.58018351599924,
                    236.7644823385706,
                    243.94878116114197,
                    251.13307998371334,
                    253.43923220167306,
                    253.6202770153992,
                    258.31737880628475,
                    265.5016776288561,
                    267.46586365397,
                    267.8082829112039,
                    272.68597645142745,
                    276.2787565598718,
                    278.14987488207026,
                    279.8702752739988,
                    283.21225676736856,
                    284.0300916989136,
                    287.05457409657015,
                    289.1166095481323,
                    290.28451837872154,
                    293.7747928964892,
                    294.23887291914156,
                    295.98236425910676,
                    297.82779882674885,
                    299.3936214125056,
                    301.42317174171296,
                    301.71451292440435,
                    303.0713577596908,
                    305.3039506274113,
                    306.1858070017731,
                    308.6074705642843,
                    308.6679444976116,
                    309.6491511912346,
                    312.3933582107505,
                    313.3607497541109,
                    315.6941827287931,
                    315.79176938685566,
                    316.53041166478397,
                    318.21026062828855,
                    318.6624088540965,
                    320.11262144670445,
                    320.97686451219283,
                    322.91272856033413,
                    322.976068209427,
                    323.127881835333,
                    325.34720414277126,
                    325.3518344323451,
                    327.69833553404385,
                    328.36774346488596,
                    329.6314782613487,
                    330.1603670319984,
                    330.8024886580832,
                    332.75670711825865,
                    333.0752493768394,
                    333.7757766108135,
                    333.7757766108135,
                    333.7757766108135,
                    333.7757766108135,
                    333.7757766108135,
                    333.7757766108135,
                    333.7757766108135,
                    333.7757766108135,
                    333.7757766108135,
                    333.7757766108135,
                    333.7757766108135,
                    333.7757766108135,
                    333.7757766108135,
                    333.7757766108135,
                    333.7757766108135,
                    333.7757766108135,
                    333.7757766108135,
                    333.7757766108135,
                    333.7757766108135,
                    333.7757766108135,
                    333.7757766108135,
                    333.7757766108135,
                    333.7757766108135,
                    333.7757766108135,
                    333.7757766108135,
                    335.666830320752,
                    336.0303066491559,
                    337.3446658545698,
                    338.06311952944554,
                    338.9354270218572,
                    340.6574219012402,
                    342.2268745802115,
                    343.04273684479244,
                    344.5289646771412,
                    345.20420882526327,
                    346.06730528718276,
                    348.9382293665572,
                    349.32083425400936,
                    350.76525828857007,
                    351.7132634997125,
                    351.81541106303,
                    352.9842664598457,
                    355.4437960180604,
                    356.52858068309007,
                    358.71920773152146,
                    358.8975623222839,
                    360.0370789325358,
                    362.3302563676488,
                    364.98575499569466,
                    366.0818611448553,
                    366.645711902089,
                    368.9110008834472,
                    370.335524824655,
                    373.2661599674267,
                    373.4978110705282,
                    374.37898566290534,
                    376.8874995232773,
                    378.77505074981383,
                    380.45045878999804,
                    384.69068388924427,
                    384.901348174624,
                    387.6347576125694,
                    390.73387078072795,
                    392.36818881800843,
                    394.81905643514074,
                    400.68645279099184,
                    402.0033552577121,
                    402.6015366529538,
                    409.18765408028355,
                    415.7561465391917,
                    416.3719529028549,
                    418.21202969727455,
                    423.55625172542625,
                    430.7405505479976,
                    437.92484937056895,
                    445.1091481931403,
                    452.29344701571176,
                    459.4777458382831,
                    466.66204466085446,
                    473.8463434834258,
                    481.0306423059972
                  ],
                  "xaxis": "x2",
                  "y": [
                    0.000017902301902511697,
                    0.000013081733127208876,
                    0.00000510904409540922,
                    0.0000011590810697171676,
                    0.0000011413256972153976,
                    0.000006248660979219649,
                    0.00002246579577111162,
                    0.0000493956106850783,
                    0.00007013652106755223,
                    0.00007740346977900079,
                    0.00009421547122662556,
                    0.0001263002943581514,
                    0.0001543591673815446,
                    0.0001990812658505396,
                    0.0003122592895506285,
                    0.0004932956275184401,
                    0.0007062935100990672,
                    0.0009538251208598594,
                    0.0010416639441596476,
                    0.0010487165018493055,
                    0.001240711293727442,
                    0.0016029741163112816,
                    0.0017292692582027828,
                    0.0017528131038475124,
                    0.0021369084082660758,
                    0.0024667499014206775,
                    0.002647830171433353,
                    0.002817750537009725,
                    0.0031561888965695854,
                    0.003241193894966985,
                    0.0035673057420751043,
                    0.0038035693399872147,
                    0.003943230446364749,
                    0.004384973829718096,
                    0.004446074512580538,
                    0.004679194182407614,
                    0.004930275695734271,
                    0.005145416874151905,
                    0.005426963235578157,
                    0.005467761054745491,
                    0.005659982128872729,
                    0.005990593399109899,
                    0.006129618653481484,
                    0.006554414048273901,
                    0.0065660946327702405,
                    0.006765072217548851,
                    0.007443572461542624,
                    0.007738357812239449,
                    0.008603834119326956,
                    0.008645323222848632,
                    0.008974187545220776,
                    0.009822643767142649,
                    0.010075135279896712,
                    0.010951523591913441,
                    0.0115183340533282,
                    0.012881550965360457,
                    0.012927739495441622,
                    0.013038713972175122,
                    0.014673112171180938,
                    0.014676480810234266,
                    0.01628667987565299,
                    0.016691388953184966,
                    0.017356960692207875,
                    0.01759064174178205,
                    0.017834067582617855,
                    0.018271250526434666,
                    0.018296081797508128,
                    0.018303122264085307,
                    0.018303122264085307,
                    0.018303122264085307,
                    0.018303122264085307,
                    0.018303122264085307,
                    0.018303122264085307,
                    0.018303122264085307,
                    0.018303122264085307,
                    0.018303122264085307,
                    0.018303122264085307,
                    0.018303122264085307,
                    0.018303122264085307,
                    0.018303122264085307,
                    0.018303122264085307,
                    0.018303122264085307,
                    0.018303122264085307,
                    0.018303122264085307,
                    0.018303122264085307,
                    0.018303122264085307,
                    0.018303122264085307,
                    0.018303122264085307,
                    0.018303122264085307,
                    0.018303122264085307,
                    0.018303122264085307,
                    0.018303122264085307,
                    0.01799661377176698,
                    0.017884946795221884,
                    0.017350656517065056,
                    0.016979674535791404,
                    0.01646459759800272,
                    0.01528405210974503,
                    0.014087982872551039,
                    0.013446714871532714,
                    0.012283520630432324,
                    0.011768435696449642,
                    0.011131058143520913,
                    0.009252118683428706,
                    0.009034637362846515,
                    0.008287976615455732,
                    0.007861022734404473,
                    0.007817913168583091,
                    0.007362927996166572,
                    0.006612130956482054,
                    0.006355551755964563,
                    0.005943011539994831,
                    0.005914531287235285,
                    0.0057471013985849,
                    0.005469827601213948,
                    0.005210746901073611,
                    0.005114287617706552,
                    0.005065943241398813,
                    0.004875176620680017,
                    0.004754334579000154,
                    0.004493906358607797,
                    0.004472411125823839,
                    0.004389292949862741,
                    0.004141086447327276,
                    0.0039444370151522305,
                    0.0037649525009697455,
                    0.003305347560729136,
                    0.003282752223494807,
                    0.0029950658963213035,
                    0.002684800352288462,
                    0.0025289350255109392,
                    0.0023056735112781932,
                    0.0018289293773634185,
                    0.0017354230906706457,
                    0.0016948466928965037,
                    0.001330460372134236,
                    0.001082629591596571,
                    0.001061884252453339,
                    0.0010001655646457094,
                    0.0008172885800548542,
                    0.0005847609218892554,
                    0.0004187440759436885,
                    0.00030495994289131086,
                    0.00020525730096636625,
                    0.00012632019951302657,
                    0.00008349575702068548,
                    0.00006802553538694567,
                    0.000053278602023575414
                  ],
                  "yaxis": "y2"
                },
                {
                  "fill": "tozeroy",
                  "line": {
                    "color": "#69b3a2"
                  },
                  "name": "Test Dataset",
                  "type": "scatter",
                  "x": [
                    129.00000000000003,
                    136.1842988225714,
                    143.36859764514276,
                    150.55289646771413,
                    157.7371952902855,
                    164.9214941128569,
                    172.10579293542827,
                    179.29009175799962,
                    186.474390580571,
                    193.65868940314238,
                    200.84298822571373,
                    208.0272870482851,
                    215.21158587085648,
                    222.39588469342786,
                    229.58018351599924,
                    236.7644823385706,
                    243.94878116114197,
                    251.13307998371334,
                    253.43923220167306,
                    253.6202770153992,
                    258.31737880628475,
                    265.5016776288561,
                    267.46586365397,
                    267.8082829112039,
                    272.68597645142745,
                    276.2787565598718,
                    278.14987488207026,
                    279.8702752739988,
                    283.21225676736856,
                    284.0300916989136,
                    287.05457409657015,
                    289.1166095481323,
                    290.28451837872154,
                    293.7747928964892,
                    294.23887291914156,
                    295.98236425910676,
                    297.82779882674885,
                    299.3936214125056,
                    301.42317174171296,
                    301.71451292440435,
                    303.0713577596908,
                    305.3039506274113,
                    306.1858070017731,
                    308.6074705642843,
                    308.6679444976116,
                    309.6491511912346,
                    312.3933582107505,
                    313.3607497541109,
                    315.6941827287931,
                    315.79176938685566,
                    316.53041166478397,
                    318.21026062828855,
                    318.6624088540965,
                    320.11262144670445,
                    320.97686451219283,
                    322.91272856033413,
                    322.976068209427,
                    323.127881835333,
                    325.34720414277126,
                    325.3518344323451,
                    327.69833553404385,
                    328.36774346488596,
                    329.6314782613487,
                    330.1603670319984,
                    330.8024886580832,
                    332.75670711825865,
                    333.0752493768394,
                    333.7757766108135,
                    333.7757766108135,
                    333.7757766108135,
                    333.7757766108135,
                    333.7757766108135,
                    333.7757766108135,
                    333.7757766108135,
                    333.7757766108135,
                    333.7757766108135,
                    333.7757766108135,
                    333.7757766108135,
                    333.7757766108135,
                    333.7757766108135,
                    333.7757766108135,
                    333.7757766108135,
                    333.7757766108135,
                    333.7757766108135,
                    333.7757766108135,
                    333.7757766108135,
                    333.7757766108135,
                    333.7757766108135,
                    333.7757766108135,
                    333.7757766108135,
                    333.7757766108135,
                    333.7757766108135,
                    335.666830320752,
                    336.0303066491559,
                    337.3446658545698,
                    338.06311952944554,
                    338.9354270218572,
                    340.6574219012402,
                    342.2268745802115,
                    343.04273684479244,
                    344.5289646771412,
                    345.20420882526327,
                    346.06730528718276,
                    348.9382293665572,
                    349.32083425400936,
                    350.76525828857007,
                    351.7132634997125,
                    351.81541106303,
                    352.9842664598457,
                    355.4437960180604,
                    356.52858068309007,
                    358.71920773152146,
                    358.8975623222839,
                    360.0370789325358,
                    362.3302563676488,
                    364.98575499569466,
                    366.0818611448553,
                    366.645711902089,
                    368.9110008834472,
                    370.335524824655,
                    373.2661599674267,
                    373.4978110705282,
                    374.37898566290534,
                    376.8874995232773,
                    378.77505074981383,
                    380.45045878999804,
                    384.69068388924427,
                    384.901348174624,
                    387.6347576125694,
                    390.73387078072795,
                    392.36818881800843,
                    394.81905643514074,
                    400.68645279099184,
                    402.0033552577121,
                    402.6015366529538,
                    409.18765408028355,
                    415.7561465391917,
                    416.3719529028549,
                    418.21202969727455,
                    423.55625172542625,
                    430.7405505479976,
                    437.92484937056895,
                    445.1091481931403,
                    452.29344701571176,
                    459.4777458382831,
                    466.66204466085446,
                    473.8463434834258,
                    481.0306423059972
                  ],
                  "xaxis": "x2",
                  "y": [
                    9.619929135831965e-13,
                    8.494581292688958e-11,
                    3.930163815206929e-9,
                    9.527559641949798e-8,
                    0.0000012102642790870125,
                    0.000008058879725382776,
                    0.000028203228495538755,
                    0.000052795977493189736,
                    0.00005908522820172014,
                    0.00006179521565603392,
                    0.00008910720588728038,
                    0.00013358128182288162,
                    0.00021462396935111855,
                    0.00035557923426639336,
                    0.00046470510362019754,
                    0.0004934860554720249,
                    0.0005922927887643326,
                    0.0008755934657310305,
                    0.0009956257418548048,
                    0.0010053707743991381,
                    0.0012676039111021657,
                    0.001718632168297871,
                    0.0018647412021465845,
                    0.0018915147529676732,
                    0.002310820936563763,
                    0.00264889828462657,
                    0.0028280546557940683,
                    0.002993272078605548,
                    0.003317030139616987,
                    0.0033974916946420113,
                    0.0037020070286621727,
                    0.00391635520858374,
                    0.004039660449243929,
                    0.0044103369759515,
                    0.00445929507708509,
                    0.004641590206951122,
                    0.004831865036553473,
                    0.004992812347796936,
                    0.005206508395557271,
                    0.005238229587592023,
                    0.005391769064523731,
                    0.005676331815084594,
                    0.005804727337138004,
                    0.0062254035913867824,
                    0.006237460597085046,
                    0.006445733179260212,
                    0.007179556489947402,
                    0.00750269381921483,
                    0.008451250019029096,
                    0.008496602476080136,
                    0.008855599198297348,
                    0.009778003976591296,
                    0.010051591841773478,
                    0.010998765835378187,
                    0.011609814456745273,
                    0.01307617260926177,
                    0.013125792798770072,
                    0.01324499741921498,
                    0.014998094207835823,
                    0.015001701970321137,
                    0.016721812767104563,
                    0.017151945538132464,
                    0.01785528361971449,
                    0.01810020040475961,
                    0.01835325466302916,
                    0.018790718255848552,
                    0.018811375208428592,
                    0.018805203104184022,
                    0.018805203104184022,
                    0.018805203104184022,
                    0.018805203104184022,
                    0.018805203104184022,
                    0.018805203104184022,
                    0.018805203104184022,
                    0.018805203104184022,
                    0.018805203104184022,
                    0.018805203104184022,
                    0.018805203104184022,
                    0.018805203104184022,
                    0.018805203104184022,
                    0.018805203104184022,
                    0.018805203104184022,
                    0.018805203104184022,
                    0.018805203104184022,
                    0.018805203104184022,
                    0.018805203104184022,
                    0.018805203104184022,
                    0.018805203104184022,
                    0.018805203104184022,
                    0.018805203104184022,
                    0.018805203104184022,
                    0.018805203104184022,
                    0.0184381258585827,
                    0.018311327692784554,
                    0.01771583611986238,
                    0.01730861769087269,
                    0.01674872912837201,
                    0.01548366667747992,
                    0.014223382286260031,
                    0.013555827938383835,
                    0.0123590605582213,
                    0.01183487598772708,
                    0.01119109749904165,
                    0.009322815395670397,
                    0.009109003293062705,
                    0.008377027439641778,
                    0.007958525914230793,
                    0.00791619737331253,
                    0.007467601486814562,
                    0.006709885519862413,
                    0.00644022768120892,
                    0.005984186859661826,
                    0.005951323243860473,
                    0.005753678826931564,
                    0.005408722204278706,
                    0.005071961713956255,
                    0.004946562342404996,
                    0.004884344268725661,
                    0.004645671514556008,
                    0.004501396432047455,
                    0.004208610628633727,
                    0.004185433163894402,
                    0.004097051515553968,
                    0.003843475486380158,
                    0.0036517239041851998,
                    0.0034823079545907906,
                    0.0030640182674088116,
                    0.003043740959198358,
                    0.0027850502846787574,
                    0.0025016471156264273,
                    0.002357384609954549,
                    0.002151151719681841,
                    0.0017391299590254253,
                    0.0016667937361441562,
                    0.0016364197247365924,
                    0.0013806506135811698,
                    0.0011751700171615982,
                    0.0011545858222809034,
                    0.0010906121535938732,
                    0.0008859392531787807,
                    0.000609222926058974,
                    0.00040011185464039494,
                    0.0002511132696423134,
                    0.00014185934093938714,
                    0.00007164606058799016,
                    0.000027945310788461428,
                    0.000006790886821280637,
                    9.161260782496738e-7
                  ],
                  "yaxis": "y2"
                }
              ],
              "layout": {
                "annotations": [
                  {
                    "font": {
                      "size": 16
                    },
                    "showarrow": false,
                    "text": "Drift Score (Earth Mover's Distance)",
                    "x": 0.5,
                    "xanchor": "center",
                    "xref": "paper",
                    "y": 1.0000000000000002,
                    "yanchor": "bottom",
                    "yref": "paper"
                  },
                  {
                    "font": {
                      "size": 16
                    },
                    "showarrow": false,
                    "text": "Distribution Plot",
                    "x": 0.5,
                    "xanchor": "center",
                    "xref": "paper",
                    "y": 0.7200000000000001,
                    "yanchor": "bottom",
                    "yref": "paper"
                  }
                ],
                "bargroupgap": 0,
                "height": 400,
                "legend": {
                  "title": {
                    "text": "Dataset"
                  },
                  "y": 0.6,
                  "yanchor": "top"
                },
                "template": {
                  "data": {
                    "bar": [
                      {
                        "error_x": {
                          "color": "#2a3f5f"
                        },
                        "error_y": {
                          "color": "#2a3f5f"
                        },
                        "marker": {
                          "line": {
                            "color": "#E5ECF6",
                            "width": 0.5
                          },
                          "pattern": {
                            "fillmode": "overlay",
                            "size": 10,
                            "solidity": 0.2
                          }
                        },
                        "type": "bar"
                      }
                    ],
                    "barpolar": [
                      {
                        "marker": {
                          "line": {
                            "color": "#E5ECF6",
                            "width": 0.5
                          },
                          "pattern": {
                            "fillmode": "overlay",
                            "size": 10,
                            "solidity": 0.2
                          }
                        },
                        "type": "barpolar"
                      }
                    ],
                    "carpet": [
                      {
                        "aaxis": {
                          "endlinecolor": "#2a3f5f",
                          "gridcolor": "white",
                          "linecolor": "white",
                          "minorgridcolor": "white",
                          "startlinecolor": "#2a3f5f"
                        },
                        "baxis": {
                          "endlinecolor": "#2a3f5f",
                          "gridcolor": "white",
                          "linecolor": "white",
                          "minorgridcolor": "white",
                          "startlinecolor": "#2a3f5f"
                        },
                        "type": "carpet"
                      }
                    ],
                    "choropleth": [
                      {
                        "colorbar": {
                          "outlinewidth": 0,
                          "ticks": ""
                        },
                        "type": "choropleth"
                      }
                    ],
                    "contour": [
                      {
                        "colorbar": {
                          "outlinewidth": 0,
                          "ticks": ""
                        },
                        "colorscale": [
                          [
                            0,
                            "#0d0887"
                          ],
                          [
                            0.1111111111111111,
                            "#46039f"
                          ],
                          [
                            0.2222222222222222,
                            "#7201a8"
                          ],
                          [
                            0.3333333333333333,
                            "#9c179e"
                          ],
                          [
                            0.4444444444444444,
                            "#bd3786"
                          ],
                          [
                            0.5555555555555556,
                            "#d8576b"
                          ],
                          [
                            0.6666666666666666,
                            "#ed7953"
                          ],
                          [
                            0.7777777777777778,
                            "#fb9f3a"
                          ],
                          [
                            0.8888888888888888,
                            "#fdca26"
                          ],
                          [
                            1,
                            "#f0f921"
                          ]
                        ],
                        "type": "contour"
                      }
                    ],
                    "contourcarpet": [
                      {
                        "colorbar": {
                          "outlinewidth": 0,
                          "ticks": ""
                        },
                        "type": "contourcarpet"
                      }
                    ],
                    "heatmap": [
                      {
                        "colorbar": {
                          "outlinewidth": 0,
                          "ticks": ""
                        },
                        "colorscale": [
                          [
                            0,
                            "#0d0887"
                          ],
                          [
                            0.1111111111111111,
                            "#46039f"
                          ],
                          [
                            0.2222222222222222,
                            "#7201a8"
                          ],
                          [
                            0.3333333333333333,
                            "#9c179e"
                          ],
                          [
                            0.4444444444444444,
                            "#bd3786"
                          ],
                          [
                            0.5555555555555556,
                            "#d8576b"
                          ],
                          [
                            0.6666666666666666,
                            "#ed7953"
                          ],
                          [
                            0.7777777777777778,
                            "#fb9f3a"
                          ],
                          [
                            0.8888888888888888,
                            "#fdca26"
                          ],
                          [
                            1,
                            "#f0f921"
                          ]
                        ],
                        "type": "heatmap"
                      }
                    ],
                    "heatmapgl": [
                      {
                        "colorbar": {
                          "outlinewidth": 0,
                          "ticks": ""
                        },
                        "colorscale": [
                          [
                            0,
                            "#0d0887"
                          ],
                          [
                            0.1111111111111111,
                            "#46039f"
                          ],
                          [
                            0.2222222222222222,
                            "#7201a8"
                          ],
                          [
                            0.3333333333333333,
                            "#9c179e"
                          ],
                          [
                            0.4444444444444444,
                            "#bd3786"
                          ],
                          [
                            0.5555555555555556,
                            "#d8576b"
                          ],
                          [
                            0.6666666666666666,
                            "#ed7953"
                          ],
                          [
                            0.7777777777777778,
                            "#fb9f3a"
                          ],
                          [
                            0.8888888888888888,
                            "#fdca26"
                          ],
                          [
                            1,
                            "#f0f921"
                          ]
                        ],
                        "type": "heatmapgl"
                      }
                    ],
                    "histogram": [
                      {
                        "marker": {
                          "pattern": {
                            "fillmode": "overlay",
                            "size": 10,
                            "solidity": 0.2
                          }
                        },
                        "type": "histogram"
                      }
                    ],
                    "histogram2d": [
                      {
                        "colorbar": {
                          "outlinewidth": 0,
                          "ticks": ""
                        },
                        "colorscale": [
                          [
                            0,
                            "#0d0887"
                          ],
                          [
                            0.1111111111111111,
                            "#46039f"
                          ],
                          [
                            0.2222222222222222,
                            "#7201a8"
                          ],
                          [
                            0.3333333333333333,
                            "#9c179e"
                          ],
                          [
                            0.4444444444444444,
                            "#bd3786"
                          ],
                          [
                            0.5555555555555556,
                            "#d8576b"
                          ],
                          [
                            0.6666666666666666,
                            "#ed7953"
                          ],
                          [
                            0.7777777777777778,
                            "#fb9f3a"
                          ],
                          [
                            0.8888888888888888,
                            "#fdca26"
                          ],
                          [
                            1,
                            "#f0f921"
                          ]
                        ],
                        "type": "histogram2d"
                      }
                    ],
                    "histogram2dcontour": [
                      {
                        "colorbar": {
                          "outlinewidth": 0,
                          "ticks": ""
                        },
                        "colorscale": [
                          [
                            0,
                            "#0d0887"
                          ],
                          [
                            0.1111111111111111,
                            "#46039f"
                          ],
                          [
                            0.2222222222222222,
                            "#7201a8"
                          ],
                          [
                            0.3333333333333333,
                            "#9c179e"
                          ],
                          [
                            0.4444444444444444,
                            "#bd3786"
                          ],
                          [
                            0.5555555555555556,
                            "#d8576b"
                          ],
                          [
                            0.6666666666666666,
                            "#ed7953"
                          ],
                          [
                            0.7777777777777778,
                            "#fb9f3a"
                          ],
                          [
                            0.8888888888888888,
                            "#fdca26"
                          ],
                          [
                            1,
                            "#f0f921"
                          ]
                        ],
                        "type": "histogram2dcontour"
                      }
                    ],
                    "mesh3d": [
                      {
                        "colorbar": {
                          "outlinewidth": 0,
                          "ticks": ""
                        },
                        "type": "mesh3d"
                      }
                    ],
                    "parcoords": [
                      {
                        "line": {
                          "colorbar": {
                            "outlinewidth": 0,
                            "ticks": ""
                          }
                        },
                        "type": "parcoords"
                      }
                    ],
                    "pie": [
                      {
                        "automargin": true,
                        "type": "pie"
                      }
                    ],
                    "scatter": [
                      {
                        "marker": {
                          "colorbar": {
                            "outlinewidth": 0,
                            "ticks": ""
                          }
                        },
                        "type": "scatter"
                      }
                    ],
                    "scatter3d": [
                      {
                        "line": {
                          "colorbar": {
                            "outlinewidth": 0,
                            "ticks": ""
                          }
                        },
                        "marker": {
                          "colorbar": {
                            "outlinewidth": 0,
                            "ticks": ""
                          }
                        },
                        "type": "scatter3d"
                      }
                    ],
                    "scattercarpet": [
                      {
                        "marker": {
                          "colorbar": {
                            "outlinewidth": 0,
                            "ticks": ""
                          }
                        },
                        "type": "scattercarpet"
                      }
                    ],
                    "scattergeo": [
                      {
                        "marker": {
                          "colorbar": {
                            "outlinewidth": 0,
                            "ticks": ""
                          }
                        },
                        "type": "scattergeo"
                      }
                    ],
                    "scattergl": [
                      {
                        "marker": {
                          "colorbar": {
                            "outlinewidth": 0,
                            "ticks": ""
                          }
                        },
                        "type": "scattergl"
                      }
                    ],
                    "scattermapbox": [
                      {
                        "marker": {
                          "colorbar": {
                            "outlinewidth": 0,
                            "ticks": ""
                          }
                        },
                        "type": "scattermapbox"
                      }
                    ],
                    "scatterpolar": [
                      {
                        "marker": {
                          "colorbar": {
                            "outlinewidth": 0,
                            "ticks": ""
                          }
                        },
                        "type": "scatterpolar"
                      }
                    ],
                    "scatterpolargl": [
                      {
                        "marker": {
                          "colorbar": {
                            "outlinewidth": 0,
                            "ticks": ""
                          }
                        },
                        "type": "scatterpolargl"
                      }
                    ],
                    "scatterternary": [
                      {
                        "marker": {
                          "colorbar": {
                            "outlinewidth": 0,
                            "ticks": ""
                          }
                        },
                        "type": "scatterternary"
                      }
                    ],
                    "surface": [
                      {
                        "colorbar": {
                          "outlinewidth": 0,
                          "ticks": ""
                        },
                        "colorscale": [
                          [
                            0,
                            "#0d0887"
                          ],
                          [
                            0.1111111111111111,
                            "#46039f"
                          ],
                          [
                            0.2222222222222222,
                            "#7201a8"
                          ],
                          [
                            0.3333333333333333,
                            "#9c179e"
                          ],
                          [
                            0.4444444444444444,
                            "#bd3786"
                          ],
                          [
                            0.5555555555555556,
                            "#d8576b"
                          ],
                          [
                            0.6666666666666666,
                            "#ed7953"
                          ],
                          [
                            0.7777777777777778,
                            "#fb9f3a"
                          ],
                          [
                            0.8888888888888888,
                            "#fdca26"
                          ],
                          [
                            1,
                            "#f0f921"
                          ]
                        ],
                        "type": "surface"
                      }
                    ],
                    "table": [
                      {
                        "cells": {
                          "fill": {
                            "color": "#EBF0F8"
                          },
                          "line": {
                            "color": "white"
                          }
                        },
                        "header": {
                          "fill": {
                            "color": "#C8D4E3"
                          },
                          "line": {
                            "color": "white"
                          }
                        },
                        "type": "table"
                      }
                    ]
                  },
                  "layout": {
                    "annotationdefaults": {
                      "arrowcolor": "#2a3f5f",
                      "arrowhead": 0,
                      "arrowwidth": 1
                    },
                    "autotypenumbers": "strict",
                    "coloraxis": {
                      "colorbar": {
                        "outlinewidth": 0,
                        "ticks": ""
                      }
                    },
                    "colorscale": {
                      "diverging": [
                        [
                          0,
                          "#8e0152"
                        ],
                        [
                          0.1,
                          "#c51b7d"
                        ],
                        [
                          0.2,
                          "#de77ae"
                        ],
                        [
                          0.3,
                          "#f1b6da"
                        ],
                        [
                          0.4,
                          "#fde0ef"
                        ],
                        [
                          0.5,
                          "#f7f7f7"
                        ],
                        [
                          0.6,
                          "#e6f5d0"
                        ],
                        [
                          0.7,
                          "#b8e186"
                        ],
                        [
                          0.8,
                          "#7fbc41"
                        ],
                        [
                          0.9,
                          "#4d9221"
                        ],
                        [
                          1,
                          "#276419"
                        ]
                      ],
                      "sequential": [
                        [
                          0,
                          "#0d0887"
                        ],
                        [
                          0.1111111111111111,
                          "#46039f"
                        ],
                        [
                          0.2222222222222222,
                          "#7201a8"
                        ],
                        [
                          0.3333333333333333,
                          "#9c179e"
                        ],
                        [
                          0.4444444444444444,
                          "#bd3786"
                        ],
                        [
                          0.5555555555555556,
                          "#d8576b"
                        ],
                        [
                          0.6666666666666666,
                          "#ed7953"
                        ],
                        [
                          0.7777777777777778,
                          "#fb9f3a"
                        ],
                        [
                          0.8888888888888888,
                          "#fdca26"
                        ],
                        [
                          1,
                          "#f0f921"
                        ]
                      ],
                      "sequentialminus": [
                        [
                          0,
                          "#0d0887"
                        ],
                        [
                          0.1111111111111111,
                          "#46039f"
                        ],
                        [
                          0.2222222222222222,
                          "#7201a8"
                        ],
                        [
                          0.3333333333333333,
                          "#9c179e"
                        ],
                        [
                          0.4444444444444444,
                          "#bd3786"
                        ],
                        [
                          0.5555555555555556,
                          "#d8576b"
                        ],
                        [
                          0.6666666666666666,
                          "#ed7953"
                        ],
                        [
                          0.7777777777777778,
                          "#fb9f3a"
                        ],
                        [
                          0.8888888888888888,
                          "#fdca26"
                        ],
                        [
                          1,
                          "#f0f921"
                        ]
                      ]
                    },
                    "colorway": [
                      "#636efa",
                      "#EF553B",
                      "#00cc96",
                      "#ab63fa",
                      "#FFA15A",
                      "#19d3f3",
                      "#FF6692",
                      "#B6E880",
                      "#FF97FF",
                      "#FECB52"
                    ],
                    "font": {
                      "color": "#2a3f5f"
                    },
                    "geo": {
                      "bgcolor": "white",
                      "lakecolor": "white",
                      "landcolor": "#E5ECF6",
                      "showlakes": true,
                      "showland": true,
                      "subunitcolor": "white"
                    },
                    "hoverlabel": {
                      "align": "left"
                    },
                    "hovermode": "closest",
                    "mapbox": {
                      "style": "light"
                    },
                    "paper_bgcolor": "white",
                    "plot_bgcolor": "#E5ECF6",
                    "polar": {
                      "angularaxis": {
                        "gridcolor": "white",
                        "linecolor": "white",
                        "ticks": ""
                      },
                      "bgcolor": "#E5ECF6",
                      "radialaxis": {
                        "gridcolor": "white",
                        "linecolor": "white",
                        "ticks": ""
                      }
                    },
                    "scene": {
                      "xaxis": {
                        "backgroundcolor": "#E5ECF6",
                        "gridcolor": "white",
                        "gridwidth": 2,
                        "linecolor": "white",
                        "showbackground": true,
                        "ticks": "",
                        "zerolinecolor": "white"
                      },
                      "yaxis": {
                        "backgroundcolor": "#E5ECF6",
                        "gridcolor": "white",
                        "gridwidth": 2,
                        "linecolor": "white",
                        "showbackground": true,
                        "ticks": "",
                        "zerolinecolor": "white"
                      },
                      "zaxis": {
                        "backgroundcolor": "#E5ECF6",
                        "gridcolor": "white",
                        "gridwidth": 2,
                        "linecolor": "white",
                        "showbackground": true,
                        "ticks": "",
                        "zerolinecolor": "white"
                      }
                    },
                    "shapedefaults": {
                      "line": {
                        "color": "#2a3f5f"
                      }
                    },
                    "ternary": {
                      "aaxis": {
                        "gridcolor": "white",
                        "linecolor": "white",
                        "ticks": ""
                      },
                      "baxis": {
                        "gridcolor": "white",
                        "linecolor": "white",
                        "ticks": ""
                      },
                      "bgcolor": "#E5ECF6",
                      "caxis": {
                        "gridcolor": "white",
                        "linecolor": "white",
                        "ticks": ""
                      }
                    },
                    "title": {
                      "x": 0.05
                    },
                    "xaxis": {
                      "automargin": true,
                      "gridcolor": "white",
                      "linecolor": "white",
                      "ticks": "",
                      "title": {
                        "standoff": 15
                      },
                      "zerolinecolor": "white",
                      "zerolinewidth": 2
                    },
                    "yaxis": {
                      "automargin": true,
                      "gridcolor": "white",
                      "linecolor": "white",
                      "ticks": "",
                      "title": {
                        "standoff": 15
                      },
                      "zerolinecolor": "white",
                      "zerolinewidth": 2
                    }
                  }
                },
                "title": {
                  "text": "Sulfate (#1 in FI)",
                  "x": 0.5,
                  "xanchor": "center"
                },
                "width": 700,
                "xaxis": {
                  "anchor": "y",
                  "domain": [
                    0,
                    1
                  ],
                  "dtick": 0.05,
                  "fixedrange": true,
                  "gridcolor": "black",
                  "linecolor": "black",
                  "range": [
                    0,
                    0.4
                  ],
                  "showgrid": false
                },
                "xaxis2": {
                  "anchor": "y2",
                  "domain": [
                    0,
                    1
                  ],
                  "fixedrange": false,
                  "range": [
                    253.43923220167306,
                    418.21202969727455
                  ],
                  "title": {
                    "text": "Sulfate"
                  }
                },
                "yaxis": {
                  "anchor": "x",
                  "color": "black",
                  "domain": [
                    0.9200000000000002,
                    1
                  ],
                  "fixedrange": true,
                  "showgrid": false,
                  "showline": false,
                  "showticklabels": false,
                  "zeroline": false
                },
                "yaxis2": {
                  "anchor": "x2",
                  "domain": [
                    0,
                    0.7200000000000001
                  ],
                  "fixedrange": true,
                  "title": {
                    "text": "Probability Density"
                  }
                }
              }
            }
          },
          "metadata": {},
          "output_type": "display_data"
        },
        {
          "data": {
            "text/html": []
          },
          "metadata": {},
          "output_type": "display_data"
        },
        {
          "data": {
            "application/vnd.plotly.v1+json": {
              "config": {
                "plotlyServerURL": "https://plot.ly"
              },
              "data": [
                {
                  "base": 0,
                  "marker": {
                    "color": "#01B8AA"
                  },
                  "offsetgroup": "0",
                  "orientation": "h",
                  "showlegend": false,
                  "type": "bar",
                  "x": [
                    0.0071533396314092815
                  ],
                  "xaxis": "x",
                  "y": [
                    "Drift Score"
                  ],
                  "yaxis": "y"
                },
                {
                  "fill": "tozeroy",
                  "line": {
                    "color": "#00008b"
                  },
                  "name": "Train Dataset",
                  "type": "scatter",
                  "x": [
                    0,
                    0.2857142857142857,
                    0.5714285714285714,
                    0.8571428571428571,
                    1.1428571428571428,
                    1.4285714285714284,
                    1.7142857142857142,
                    2,
                    2.2857142857142856,
                    2.571428571428571,
                    2.8571428571428568,
                    3.142857142857143,
                    3.4285714285714284,
                    3.714285714285714,
                    3.7986358773706117,
                    4,
                    4.175175708607427,
                    4.285714285714286,
                    4.3198501927367525,
                    4.571428571428571,
                    4.664760091734169,
                    4.764500425682844,
                    4.857142857142857,
                    4.902758888491825,
                    5.0388240594118034,
                    5.142857142857142,
                    5.167156287487206,
                    5.269007396036654,
                    5.373294903936419,
                    5.428571428571428,
                    5.429061022354568,
                    5.574942215941077,
                    5.584046056059381,
                    5.690890646537925,
                    5.708421973483686,
                    5.7142857142857135,
                    5.842715371951869,
                    5.869953003667935,
                    5.98397327816197,
                    5.987719392291456,
                    6,
                    6.096731145083243,
                    6.128812027411434,
                    6.196748895103763,
                    6.227404648429682,
                    6.285714285714286,
                    6.286005213003758,
                    6.327886080515761,
                    6.382207209749097,
                    6.432168420112296,
                    6.478502021714752,
                    6.5293641151251975,
                    6.571428571428571,
                    6.580037378039392,
                    6.61436552455041,
                    6.655692568406447,
                    6.704705497189311,
                    6.749123491598983,
                    6.76367280496236,
                    6.846564857369231,
                    6.848175612605639,
                    6.857142857142857,
                    6.915550310836212,
                    6.920553232843449,
                    6.978365546565642,
                    6.990633716711868,
                    7.073752118223371,
                    7.080794504276835,
                    7.080794504276835,
                    7.080794504276835,
                    7.080794504276835,
                    7.080794504276835,
                    7.080794504276835,
                    7.080794504276835,
                    7.080794504276835,
                    7.080794504276835,
                    7.080794504276835,
                    7.080794504276835,
                    7.080794504276835,
                    7.080794504276835,
                    7.080794504276835,
                    7.080794504276835,
                    7.080794504276835,
                    7.121693501201871,
                    7.142857142857142,
                    7.161215827908392,
                    7.249916908229808,
                    7.268796091749099,
                    7.3014650783990405,
                    7.362214169889156,
                    7.420302765947166,
                    7.428571428571428,
                    7.44246801755707,
                    7.506462778293151,
                    7.534068628759435,
                    7.606398213485196,
                    7.629556196050595,
                    7.709557056413563,
                    7.7142857142857135,
                    7.739664344299228,
                    7.814370839432119,
                    7.818463800007364,
                    7.911644296657187,
                    7.9169279249882605,
                    7.990955519149677,
                    8,
                    8.026598958169421,
                    8.130846094406307,
                    8.14259450339272,
                    8.231819465681129,
                    8.273516504889821,
                    8.285714285714285,
                    8.312726077124994,
                    8.427048968886943,
                    8.467300312246985,
                    8.571428571428571,
                    8.592705640064844,
                    8.625749554340638,
                    8.771180027241089,
                    8.848021825037833,
                    8.857142857142856,
                    8.937887952208698,
                    9.04945190623,
                    9.142857142857142,
                    9.161044897947864,
                    9.389667664323023,
                    9.428571428571429,
                    9.496611441743044,
                    9.671361768935824,
                    9.714285714285714,
                    9.869146961950673,
                    10,
                    10.158023183262538,
                    10.285714285714285,
                    10.355593671348831,
                    10.571428571428571,
                    10.857142857142856,
                    11.142857142857142,
                    11.428571428571427,
                    11.714285714285714,
                    12,
                    12.285714285714285,
                    12.571428571428571,
                    12.857142857142856,
                    13.142857142857142,
                    13.428571428571427,
                    13.714285714285714,
                    13.999999999999998
                  ],
                  "xaxis": "x2",
                  "y": [
                    0.0008201257858458475,
                    0.0009096607666607946,
                    0.0009314589259239488,
                    0.001134136307834165,
                    0.0013785538011397002,
                    0.0016500780939319197,
                    0.0021094989332305727,
                    0.0027354380878710435,
                    0.0035989000383574096,
                    0.004815593756977418,
                    0.006828482852201332,
                    0.010942775434659121,
                    0.017875209884954047,
                    0.026318782855251303,
                    0.028779910039804426,
                    0.034387876407130515,
                    0.03935167148401434,
                    0.04293201235768954,
                    0.04415790900240421,
                    0.05559727197899882,
                    0.06101257276355869,
                    0.06743912882218259,
                    0.07391043622620266,
                    0.07724671637045202,
                    0.0876790265202009,
                    0.09605852215092689,
                    0.09805900466822987,
                    0.10660416985115677,
                    0.11559728393951811,
                    0.12045515985116212,
                    0.12049845828333726,
                    0.1336114175917772,
                    0.1344441398263563,
                    0.14435974157743206,
                    0.14601443242983514,
                    0.14656982956729867,
                    0.15902613007807714,
                    0.16175610400384852,
                    0.17368288914462554,
                    0.17409195903506966,
                    0.175442417842477,
                    0.18669181541600086,
                    0.19072313274895603,
                    0.1999181955209926,
                    0.2044147473332292,
                    0.21368003719800935,
                    0.21372881871156107,
                    0.2210386363282092,
                    0.23142343684563227,
                    0.24193052626792277,
                    0.2525014100617627,
                    0.26497044836988554,
                    0.2758778506761935,
                    0.2781657798492828,
                    0.2874369854577468,
                    0.298809297001525,
                    0.3123405461196752,
                    0.32434229718345936,
                    0.32816435420120815,
                    0.3481822890887106,
                    0.34853296754417334,
                    0.35045289945181557,
                    0.3614543995443418,
                    0.3622624313885246,
                    0.3698410588390934,
                    0.3710059111078489,
                    0.3744517201162094,
                    0.3743774903886644,
                    0.3743774903886644,
                    0.3743774903886644,
                    0.3743774903886644,
                    0.3743774903886644,
                    0.3743774903886644,
                    0.3743774903886644,
                    0.3743774903886644,
                    0.3743774903886644,
                    0.3743774903886644,
                    0.3743774903886644,
                    0.3743774903886644,
                    0.3743774903886644,
                    0.3743774903886644,
                    0.3743774903886644,
                    0.3743774903886644,
                    0.3728098252462665,
                    0.3712481627314133,
                    0.3694905901886392,
                    0.35614229558074734,
                    0.3523773958274887,
                    0.3452246091539498,
                    0.3301698970307554,
                    0.3143164011688631,
                    0.31198857946331066,
                    0.30805166562526304,
                    0.28976625182339544,
                    0.2819376900048385,
                    0.26210175515390693,
                    0.25604504849189347,
                    0.23651840378793762,
                    0.23543678061377202,
                    0.22977398700494694,
                    0.21447602299981006,
                    0.21369502751001912,
                    0.1973591450940664,
                    0.19650896205545004,
                    0.18532041670926933,
                    0.18403727524650215,
                    0.18035663642048153,
                    0.16707225098978695,
                    0.1656723596190134,
                    0.15557067848158124,
                    0.15114132820931997,
                    0.14987809703107266,
                    0.14713141085109735,
                    0.13624223038887062,
                    0.1326742240164534,
                    0.12400805625418804,
                    0.12232545374809681,
                    0.11976273168654461,
                    0.10903528163096439,
                    0.10359244167070097,
                    0.10295215016933727,
                    0.09732086306673476,
                    0.08964417529663682,
                    0.08336687471653484,
                    0.08216930631222241,
                    0.06823536808437278,
                    0.06612147213639834,
                    0.06262255958688398,
                    0.054703614238553966,
                    0.05295585509820228,
                    0.04709381613057033,
                    0.042487879638815784,
                    0.03713467200127331,
                    0.03290652040986499,
                    0.030628877927452572,
                    0.023879135336425387,
                    0.016353419578532393,
                    0.011298539755004658,
                    0.00808579783480507,
                    0.005388967500385256,
                    0.003030394198613391,
                    0.001436342441009219,
                    0.0006177229289956527,
                    0.00042698385834852954,
                    0.0006789597348692635,
                    0.0009747305709659965,
                    0.0009821735541811745,
                    0.0007338392233306615
                  ],
                  "yaxis": "y2"
                },
                {
                  "fill": "tozeroy",
                  "line": {
                    "color": "#69b3a2"
                  },
                  "name": "Test Dataset",
                  "type": "scatter",
                  "x": [
                    0,
                    0.2857142857142857,
                    0.5714285714285714,
                    0.8571428571428571,
                    1.1428571428571428,
                    1.4285714285714284,
                    1.7142857142857142,
                    2,
                    2.2857142857142856,
                    2.571428571428571,
                    2.8571428571428568,
                    3.142857142857143,
                    3.4285714285714284,
                    3.714285714285714,
                    3.7986358773706117,
                    4,
                    4.175175708607427,
                    4.285714285714286,
                    4.3198501927367525,
                    4.571428571428571,
                    4.664760091734169,
                    4.764500425682844,
                    4.857142857142857,
                    4.902758888491825,
                    5.0388240594118034,
                    5.142857142857142,
                    5.167156287487206,
                    5.269007396036654,
                    5.373294903936419,
                    5.428571428571428,
                    5.429061022354568,
                    5.574942215941077,
                    5.584046056059381,
                    5.690890646537925,
                    5.708421973483686,
                    5.7142857142857135,
                    5.842715371951869,
                    5.869953003667935,
                    5.98397327816197,
                    5.987719392291456,
                    6,
                    6.096731145083243,
                    6.128812027411434,
                    6.196748895103763,
                    6.227404648429682,
                    6.285714285714286,
                    6.286005213003758,
                    6.327886080515761,
                    6.382207209749097,
                    6.432168420112296,
                    6.478502021714752,
                    6.5293641151251975,
                    6.571428571428571,
                    6.580037378039392,
                    6.61436552455041,
                    6.655692568406447,
                    6.704705497189311,
                    6.749123491598983,
                    6.76367280496236,
                    6.846564857369231,
                    6.848175612605639,
                    6.857142857142857,
                    6.915550310836212,
                    6.920553232843449,
                    6.978365546565642,
                    6.990633716711868,
                    7.073752118223371,
                    7.080794504276835,
                    7.080794504276835,
                    7.080794504276835,
                    7.080794504276835,
                    7.080794504276835,
                    7.080794504276835,
                    7.080794504276835,
                    7.080794504276835,
                    7.080794504276835,
                    7.080794504276835,
                    7.080794504276835,
                    7.080794504276835,
                    7.080794504276835,
                    7.080794504276835,
                    7.080794504276835,
                    7.080794504276835,
                    7.121693501201871,
                    7.142857142857142,
                    7.161215827908392,
                    7.249916908229808,
                    7.268796091749099,
                    7.3014650783990405,
                    7.362214169889156,
                    7.420302765947166,
                    7.428571428571428,
                    7.44246801755707,
                    7.506462778293151,
                    7.534068628759435,
                    7.606398213485196,
                    7.629556196050595,
                    7.709557056413563,
                    7.7142857142857135,
                    7.739664344299228,
                    7.814370839432119,
                    7.818463800007364,
                    7.911644296657187,
                    7.9169279249882605,
                    7.990955519149677,
                    8,
                    8.026598958169421,
                    8.130846094406307,
                    8.14259450339272,
                    8.231819465681129,
                    8.273516504889821,
                    8.285714285714285,
                    8.312726077124994,
                    8.427048968886943,
                    8.467300312246985,
                    8.571428571428571,
                    8.592705640064844,
                    8.625749554340638,
                    8.771180027241089,
                    8.848021825037833,
                    8.857142857142856,
                    8.937887952208698,
                    9.04945190623,
                    9.142857142857142,
                    9.161044897947864,
                    9.389667664323023,
                    9.428571428571429,
                    9.496611441743044,
                    9.671361768935824,
                    9.714285714285714,
                    9.869146961950673,
                    10,
                    10.158023183262538,
                    10.285714285714285,
                    10.355593671348831,
                    10.571428571428571,
                    10.857142857142856,
                    11.142857142857142,
                    11.428571428571427,
                    11.714285714285714,
                    12,
                    12.285714285714285,
                    12.571428571428571,
                    12.857142857142856,
                    13.142857142857142,
                    13.428571428571427,
                    13.714285714285714,
                    13.999999999999998
                  ],
                  "xaxis": "x2",
                  "y": [
                    2.983300947440535e-18,
                    2.1166478772925223e-15,
                    7.473537320902903e-13,
                    1.3152259609931554e-10,
                    1.1558112775488522e-8,
                    5.083417739832365e-7,
                    0.000011219330019129302,
                    0.00012471746992785213,
                    0.0007040886221880464,
                    0.002084993626813343,
                    0.0037530257037278027,
                    0.006255631377204476,
                    0.012020545642491519,
                    0.02028416320206718,
                    0.022820754097908014,
                    0.029113828284388094,
                    0.03539442886545927,
                    0.04001584008420769,
                    0.04156872921331627,
                    0.05505714946849865,
                    0.0609211507747112,
                    0.06753338902389,
                    0.07383606357739667,
                    0.07695270146744737,
                    0.0861820114592303,
                    0.0931575901926515,
                    0.09478440492743996,
                    0.10164044259154811,
                    0.10879673291825671,
                    0.11267169776709295,
                    0.11270630720517187,
                    0.12327753065300667,
                    0.12395668386455495,
                    0.1321569084744262,
                    0.1335512497873427,
                    0.13402132258617863,
                    0.14490921210169025,
                    0.14740350399704774,
                    0.1588701615509854,
                    0.15928092380878547,
                    0.1606453898077441,
                    0.17250440450044294,
                    0.1769574400468254,
                    0.1874685770466882,
                    0.19276887169902693,
                    0.20397498987911492,
                    0.20403491641401778,
                    0.21311381518308317,
                    0.22631881934634046,
                    0.23999821355938394,
                    0.2540435727663938,
                    0.2709328492030037,
                    0.2859611791039866,
                    0.2891411320222519,
                    0.3021178851169019,
                    0.3182189449165779,
                    0.33760564997628484,
                    0.3549714192911732,
                    0.36052815085093187,
                    0.38973463769550687,
                    0.3902461773539117,
                    0.3930453489248821,
                    0.4089816426063394,
                    0.41013915504409804,
                    0.4207617368737984,
                    0.4223186900726679,
                    0.42586694215743814,
                    0.4255935618555794,
                    0.4255935618555794,
                    0.4255935618555794,
                    0.4255935618555794,
                    0.4255935618555794,
                    0.4255935618555794,
                    0.4255935618555794,
                    0.4255935618555794,
                    0.4255935618555794,
                    0.4255935618555794,
                    0.4255935618555794,
                    0.4255935618555794,
                    0.4255935618555794,
                    0.4255935618555794,
                    0.4255935618555794,
                    0.4255935618555794,
                    0.42224547429041054,
                    0.41936255876860096,
                    0.4162535218276545,
                    0.3941576253448076,
                    0.38817581441707905,
                    0.3770167104380583,
                    0.35429259915506545,
                    0.3313956554409075,
                    0.328122048470703,
                    0.3226379225541177,
                    0.2980575225995446,
                    0.2880055638168098,
                    0.2639280277645707,
                    0.257005965726054,
                    0.2362079557056882,
                    0.23512739036092506,
                    0.22959763529532792,
                    0.2157361646008164,
                    0.21506981938306427,
                    0.20192000607523097,
                    0.20126912251481688,
                    0.19283240415890035,
                    0.19186589858596723,
                    0.18907166533352504,
                    0.17833949073728422,
                    0.17711373540746597,
                    0.167479266508089,
                    0.16274769453399857,
                    0.16133598304206975,
                    0.15816872767591764,
                    0.14431507323881465,
                    0.1393693383674322,
                    0.12681904739297137,
                    0.12434217639878191,
                    0.12057912568312162,
                    0.10551911513331858,
                    0.09866277391166056,
                    0.09789922058401518,
                    0.09157270251777697,
                    0.08394131079758672,
                    0.07830305648981926,
                    0.07726570143122982,
                    0.06530604115564542,
                    0.06340952092360615,
                    0.060163084912893725,
                    0.05222214811963139,
                    0.050361881768103134,
                    0.04394140839779139,
                    0.0388185447398112,
                    0.03291515058749555,
                    0.028395873427181566,
                    0.02605297375262278,
                    0.019576894987509995,
                    0.012862994534989089,
                    0.0081666378275783,
                    0.005025385965980197,
                    0.0025302417412153885,
                    0.0008351263403559372,
                    0.00020348018318642683,
                    0.00031282640522212754,
                    0.0009250191692456489,
                    0.0014231370099584185,
                    0.0010847645531636403,
                    0.0004093098816237388,
                    0.00007645232448585405
                  ],
                  "yaxis": "y2"
                }
              ],
              "layout": {
                "annotations": [
                  {
                    "font": {
                      "size": 16
                    },
                    "showarrow": false,
                    "text": "Drift Score (Earth Mover's Distance)",
                    "x": 0.5,
                    "xanchor": "center",
                    "xref": "paper",
                    "y": 1.0000000000000002,
                    "yanchor": "bottom",
                    "yref": "paper"
                  },
                  {
                    "font": {
                      "size": 16
                    },
                    "showarrow": false,
                    "text": "Distribution Plot",
                    "x": 0.5,
                    "xanchor": "center",
                    "xref": "paper",
                    "y": 0.7200000000000001,
                    "yanchor": "bottom",
                    "yref": "paper"
                  }
                ],
                "bargroupgap": 0,
                "height": 400,
                "legend": {
                  "title": {
                    "text": "Dataset"
                  },
                  "y": 0.6,
                  "yanchor": "top"
                },
                "template": {
                  "data": {
                    "bar": [
                      {
                        "error_x": {
                          "color": "#2a3f5f"
                        },
                        "error_y": {
                          "color": "#2a3f5f"
                        },
                        "marker": {
                          "line": {
                            "color": "#E5ECF6",
                            "width": 0.5
                          },
                          "pattern": {
                            "fillmode": "overlay",
                            "size": 10,
                            "solidity": 0.2
                          }
                        },
                        "type": "bar"
                      }
                    ],
                    "barpolar": [
                      {
                        "marker": {
                          "line": {
                            "color": "#E5ECF6",
                            "width": 0.5
                          },
                          "pattern": {
                            "fillmode": "overlay",
                            "size": 10,
                            "solidity": 0.2
                          }
                        },
                        "type": "barpolar"
                      }
                    ],
                    "carpet": [
                      {
                        "aaxis": {
                          "endlinecolor": "#2a3f5f",
                          "gridcolor": "white",
                          "linecolor": "white",
                          "minorgridcolor": "white",
                          "startlinecolor": "#2a3f5f"
                        },
                        "baxis": {
                          "endlinecolor": "#2a3f5f",
                          "gridcolor": "white",
                          "linecolor": "white",
                          "minorgridcolor": "white",
                          "startlinecolor": "#2a3f5f"
                        },
                        "type": "carpet"
                      }
                    ],
                    "choropleth": [
                      {
                        "colorbar": {
                          "outlinewidth": 0,
                          "ticks": ""
                        },
                        "type": "choropleth"
                      }
                    ],
                    "contour": [
                      {
                        "colorbar": {
                          "outlinewidth": 0,
                          "ticks": ""
                        },
                        "colorscale": [
                          [
                            0,
                            "#0d0887"
                          ],
                          [
                            0.1111111111111111,
                            "#46039f"
                          ],
                          [
                            0.2222222222222222,
                            "#7201a8"
                          ],
                          [
                            0.3333333333333333,
                            "#9c179e"
                          ],
                          [
                            0.4444444444444444,
                            "#bd3786"
                          ],
                          [
                            0.5555555555555556,
                            "#d8576b"
                          ],
                          [
                            0.6666666666666666,
                            "#ed7953"
                          ],
                          [
                            0.7777777777777778,
                            "#fb9f3a"
                          ],
                          [
                            0.8888888888888888,
                            "#fdca26"
                          ],
                          [
                            1,
                            "#f0f921"
                          ]
                        ],
                        "type": "contour"
                      }
                    ],
                    "contourcarpet": [
                      {
                        "colorbar": {
                          "outlinewidth": 0,
                          "ticks": ""
                        },
                        "type": "contourcarpet"
                      }
                    ],
                    "heatmap": [
                      {
                        "colorbar": {
                          "outlinewidth": 0,
                          "ticks": ""
                        },
                        "colorscale": [
                          [
                            0,
                            "#0d0887"
                          ],
                          [
                            0.1111111111111111,
                            "#46039f"
                          ],
                          [
                            0.2222222222222222,
                            "#7201a8"
                          ],
                          [
                            0.3333333333333333,
                            "#9c179e"
                          ],
                          [
                            0.4444444444444444,
                            "#bd3786"
                          ],
                          [
                            0.5555555555555556,
                            "#d8576b"
                          ],
                          [
                            0.6666666666666666,
                            "#ed7953"
                          ],
                          [
                            0.7777777777777778,
                            "#fb9f3a"
                          ],
                          [
                            0.8888888888888888,
                            "#fdca26"
                          ],
                          [
                            1,
                            "#f0f921"
                          ]
                        ],
                        "type": "heatmap"
                      }
                    ],
                    "heatmapgl": [
                      {
                        "colorbar": {
                          "outlinewidth": 0,
                          "ticks": ""
                        },
                        "colorscale": [
                          [
                            0,
                            "#0d0887"
                          ],
                          [
                            0.1111111111111111,
                            "#46039f"
                          ],
                          [
                            0.2222222222222222,
                            "#7201a8"
                          ],
                          [
                            0.3333333333333333,
                            "#9c179e"
                          ],
                          [
                            0.4444444444444444,
                            "#bd3786"
                          ],
                          [
                            0.5555555555555556,
                            "#d8576b"
                          ],
                          [
                            0.6666666666666666,
                            "#ed7953"
                          ],
                          [
                            0.7777777777777778,
                            "#fb9f3a"
                          ],
                          [
                            0.8888888888888888,
                            "#fdca26"
                          ],
                          [
                            1,
                            "#f0f921"
                          ]
                        ],
                        "type": "heatmapgl"
                      }
                    ],
                    "histogram": [
                      {
                        "marker": {
                          "pattern": {
                            "fillmode": "overlay",
                            "size": 10,
                            "solidity": 0.2
                          }
                        },
                        "type": "histogram"
                      }
                    ],
                    "histogram2d": [
                      {
                        "colorbar": {
                          "outlinewidth": 0,
                          "ticks": ""
                        },
                        "colorscale": [
                          [
                            0,
                            "#0d0887"
                          ],
                          [
                            0.1111111111111111,
                            "#46039f"
                          ],
                          [
                            0.2222222222222222,
                            "#7201a8"
                          ],
                          [
                            0.3333333333333333,
                            "#9c179e"
                          ],
                          [
                            0.4444444444444444,
                            "#bd3786"
                          ],
                          [
                            0.5555555555555556,
                            "#d8576b"
                          ],
                          [
                            0.6666666666666666,
                            "#ed7953"
                          ],
                          [
                            0.7777777777777778,
                            "#fb9f3a"
                          ],
                          [
                            0.8888888888888888,
                            "#fdca26"
                          ],
                          [
                            1,
                            "#f0f921"
                          ]
                        ],
                        "type": "histogram2d"
                      }
                    ],
                    "histogram2dcontour": [
                      {
                        "colorbar": {
                          "outlinewidth": 0,
                          "ticks": ""
                        },
                        "colorscale": [
                          [
                            0,
                            "#0d0887"
                          ],
                          [
                            0.1111111111111111,
                            "#46039f"
                          ],
                          [
                            0.2222222222222222,
                            "#7201a8"
                          ],
                          [
                            0.3333333333333333,
                            "#9c179e"
                          ],
                          [
                            0.4444444444444444,
                            "#bd3786"
                          ],
                          [
                            0.5555555555555556,
                            "#d8576b"
                          ],
                          [
                            0.6666666666666666,
                            "#ed7953"
                          ],
                          [
                            0.7777777777777778,
                            "#fb9f3a"
                          ],
                          [
                            0.8888888888888888,
                            "#fdca26"
                          ],
                          [
                            1,
                            "#f0f921"
                          ]
                        ],
                        "type": "histogram2dcontour"
                      }
                    ],
                    "mesh3d": [
                      {
                        "colorbar": {
                          "outlinewidth": 0,
                          "ticks": ""
                        },
                        "type": "mesh3d"
                      }
                    ],
                    "parcoords": [
                      {
                        "line": {
                          "colorbar": {
                            "outlinewidth": 0,
                            "ticks": ""
                          }
                        },
                        "type": "parcoords"
                      }
                    ],
                    "pie": [
                      {
                        "automargin": true,
                        "type": "pie"
                      }
                    ],
                    "scatter": [
                      {
                        "marker": {
                          "colorbar": {
                            "outlinewidth": 0,
                            "ticks": ""
                          }
                        },
                        "type": "scatter"
                      }
                    ],
                    "scatter3d": [
                      {
                        "line": {
                          "colorbar": {
                            "outlinewidth": 0,
                            "ticks": ""
                          }
                        },
                        "marker": {
                          "colorbar": {
                            "outlinewidth": 0,
                            "ticks": ""
                          }
                        },
                        "type": "scatter3d"
                      }
                    ],
                    "scattercarpet": [
                      {
                        "marker": {
                          "colorbar": {
                            "outlinewidth": 0,
                            "ticks": ""
                          }
                        },
                        "type": "scattercarpet"
                      }
                    ],
                    "scattergeo": [
                      {
                        "marker": {
                          "colorbar": {
                            "outlinewidth": 0,
                            "ticks": ""
                          }
                        },
                        "type": "scattergeo"
                      }
                    ],
                    "scattergl": [
                      {
                        "marker": {
                          "colorbar": {
                            "outlinewidth": 0,
                            "ticks": ""
                          }
                        },
                        "type": "scattergl"
                      }
                    ],
                    "scattermapbox": [
                      {
                        "marker": {
                          "colorbar": {
                            "outlinewidth": 0,
                            "ticks": ""
                          }
                        },
                        "type": "scattermapbox"
                      }
                    ],
                    "scatterpolar": [
                      {
                        "marker": {
                          "colorbar": {
                            "outlinewidth": 0,
                            "ticks": ""
                          }
                        },
                        "type": "scatterpolar"
                      }
                    ],
                    "scatterpolargl": [
                      {
                        "marker": {
                          "colorbar": {
                            "outlinewidth": 0,
                            "ticks": ""
                          }
                        },
                        "type": "scatterpolargl"
                      }
                    ],
                    "scatterternary": [
                      {
                        "marker": {
                          "colorbar": {
                            "outlinewidth": 0,
                            "ticks": ""
                          }
                        },
                        "type": "scatterternary"
                      }
                    ],
                    "surface": [
                      {
                        "colorbar": {
                          "outlinewidth": 0,
                          "ticks": ""
                        },
                        "colorscale": [
                          [
                            0,
                            "#0d0887"
                          ],
                          [
                            0.1111111111111111,
                            "#46039f"
                          ],
                          [
                            0.2222222222222222,
                            "#7201a8"
                          ],
                          [
                            0.3333333333333333,
                            "#9c179e"
                          ],
                          [
                            0.4444444444444444,
                            "#bd3786"
                          ],
                          [
                            0.5555555555555556,
                            "#d8576b"
                          ],
                          [
                            0.6666666666666666,
                            "#ed7953"
                          ],
                          [
                            0.7777777777777778,
                            "#fb9f3a"
                          ],
                          [
                            0.8888888888888888,
                            "#fdca26"
                          ],
                          [
                            1,
                            "#f0f921"
                          ]
                        ],
                        "type": "surface"
                      }
                    ],
                    "table": [
                      {
                        "cells": {
                          "fill": {
                            "color": "#EBF0F8"
                          },
                          "line": {
                            "color": "white"
                          }
                        },
                        "header": {
                          "fill": {
                            "color": "#C8D4E3"
                          },
                          "line": {
                            "color": "white"
                          }
                        },
                        "type": "table"
                      }
                    ]
                  },
                  "layout": {
                    "annotationdefaults": {
                      "arrowcolor": "#2a3f5f",
                      "arrowhead": 0,
                      "arrowwidth": 1
                    },
                    "autotypenumbers": "strict",
                    "coloraxis": {
                      "colorbar": {
                        "outlinewidth": 0,
                        "ticks": ""
                      }
                    },
                    "colorscale": {
                      "diverging": [
                        [
                          0,
                          "#8e0152"
                        ],
                        [
                          0.1,
                          "#c51b7d"
                        ],
                        [
                          0.2,
                          "#de77ae"
                        ],
                        [
                          0.3,
                          "#f1b6da"
                        ],
                        [
                          0.4,
                          "#fde0ef"
                        ],
                        [
                          0.5,
                          "#f7f7f7"
                        ],
                        [
                          0.6,
                          "#e6f5d0"
                        ],
                        [
                          0.7,
                          "#b8e186"
                        ],
                        [
                          0.8,
                          "#7fbc41"
                        ],
                        [
                          0.9,
                          "#4d9221"
                        ],
                        [
                          1,
                          "#276419"
                        ]
                      ],
                      "sequential": [
                        [
                          0,
                          "#0d0887"
                        ],
                        [
                          0.1111111111111111,
                          "#46039f"
                        ],
                        [
                          0.2222222222222222,
                          "#7201a8"
                        ],
                        [
                          0.3333333333333333,
                          "#9c179e"
                        ],
                        [
                          0.4444444444444444,
                          "#bd3786"
                        ],
                        [
                          0.5555555555555556,
                          "#d8576b"
                        ],
                        [
                          0.6666666666666666,
                          "#ed7953"
                        ],
                        [
                          0.7777777777777778,
                          "#fb9f3a"
                        ],
                        [
                          0.8888888888888888,
                          "#fdca26"
                        ],
                        [
                          1,
                          "#f0f921"
                        ]
                      ],
                      "sequentialminus": [
                        [
                          0,
                          "#0d0887"
                        ],
                        [
                          0.1111111111111111,
                          "#46039f"
                        ],
                        [
                          0.2222222222222222,
                          "#7201a8"
                        ],
                        [
                          0.3333333333333333,
                          "#9c179e"
                        ],
                        [
                          0.4444444444444444,
                          "#bd3786"
                        ],
                        [
                          0.5555555555555556,
                          "#d8576b"
                        ],
                        [
                          0.6666666666666666,
                          "#ed7953"
                        ],
                        [
                          0.7777777777777778,
                          "#fb9f3a"
                        ],
                        [
                          0.8888888888888888,
                          "#fdca26"
                        ],
                        [
                          1,
                          "#f0f921"
                        ]
                      ]
                    },
                    "colorway": [
                      "#636efa",
                      "#EF553B",
                      "#00cc96",
                      "#ab63fa",
                      "#FFA15A",
                      "#19d3f3",
                      "#FF6692",
                      "#B6E880",
                      "#FF97FF",
                      "#FECB52"
                    ],
                    "font": {
                      "color": "#2a3f5f"
                    },
                    "geo": {
                      "bgcolor": "white",
                      "lakecolor": "white",
                      "landcolor": "#E5ECF6",
                      "showlakes": true,
                      "showland": true,
                      "subunitcolor": "white"
                    },
                    "hoverlabel": {
                      "align": "left"
                    },
                    "hovermode": "closest",
                    "mapbox": {
                      "style": "light"
                    },
                    "paper_bgcolor": "white",
                    "plot_bgcolor": "#E5ECF6",
                    "polar": {
                      "angularaxis": {
                        "gridcolor": "white",
                        "linecolor": "white",
                        "ticks": ""
                      },
                      "bgcolor": "#E5ECF6",
                      "radialaxis": {
                        "gridcolor": "white",
                        "linecolor": "white",
                        "ticks": ""
                      }
                    },
                    "scene": {
                      "xaxis": {
                        "backgroundcolor": "#E5ECF6",
                        "gridcolor": "white",
                        "gridwidth": 2,
                        "linecolor": "white",
                        "showbackground": true,
                        "ticks": "",
                        "zerolinecolor": "white"
                      },
                      "yaxis": {
                        "backgroundcolor": "#E5ECF6",
                        "gridcolor": "white",
                        "gridwidth": 2,
                        "linecolor": "white",
                        "showbackground": true,
                        "ticks": "",
                        "zerolinecolor": "white"
                      },
                      "zaxis": {
                        "backgroundcolor": "#E5ECF6",
                        "gridcolor": "white",
                        "gridwidth": 2,
                        "linecolor": "white",
                        "showbackground": true,
                        "ticks": "",
                        "zerolinecolor": "white"
                      }
                    },
                    "shapedefaults": {
                      "line": {
                        "color": "#2a3f5f"
                      }
                    },
                    "ternary": {
                      "aaxis": {
                        "gridcolor": "white",
                        "linecolor": "white",
                        "ticks": ""
                      },
                      "baxis": {
                        "gridcolor": "white",
                        "linecolor": "white",
                        "ticks": ""
                      },
                      "bgcolor": "#E5ECF6",
                      "caxis": {
                        "gridcolor": "white",
                        "linecolor": "white",
                        "ticks": ""
                      }
                    },
                    "title": {
                      "x": 0.05
                    },
                    "xaxis": {
                      "automargin": true,
                      "gridcolor": "white",
                      "linecolor": "white",
                      "ticks": "",
                      "title": {
                        "standoff": 15
                      },
                      "zerolinecolor": "white",
                      "zerolinewidth": 2
                    },
                    "yaxis": {
                      "automargin": true,
                      "gridcolor": "white",
                      "linecolor": "white",
                      "ticks": "",
                      "title": {
                        "standoff": 15
                      },
                      "zerolinecolor": "white",
                      "zerolinewidth": 2
                    }
                  }
                },
                "title": {
                  "text": "ph (#2 in FI)",
                  "x": 0.5,
                  "xanchor": "center"
                },
                "width": 700,
                "xaxis": {
                  "anchor": "y",
                  "domain": [
                    0,
                    1
                  ],
                  "dtick": 0.05,
                  "fixedrange": true,
                  "gridcolor": "black",
                  "linecolor": "black",
                  "range": [
                    0,
                    0.4
                  ],
                  "showgrid": false
                },
                "xaxis2": {
                  "anchor": "y2",
                  "domain": [
                    0,
                    1
                  ],
                  "fixedrange": false,
                  "range": [
                    3.7986358773706117,
                    10.355593671348831
                  ],
                  "title": {
                    "text": "ph"
                  }
                },
                "yaxis": {
                  "anchor": "x",
                  "color": "black",
                  "domain": [
                    0.9200000000000002,
                    1
                  ],
                  "fixedrange": true,
                  "showgrid": false,
                  "showline": false,
                  "showticklabels": false,
                  "zeroline": false
                },
                "yaxis2": {
                  "anchor": "x2",
                  "domain": [
                    0,
                    0.7200000000000001
                  ],
                  "fixedrange": true,
                  "title": {
                    "text": "Probability Density"
                  }
                }
              }
            }
          },
          "metadata": {},
          "output_type": "display_data"
        },
        {
          "data": {
            "text/html": []
          },
          "metadata": {},
          "output_type": "display_data"
        },
        {
          "data": {
            "application/vnd.plotly.v1+json": {
              "config": {
                "plotlyServerURL": "https://plot.ly"
              },
              "data": [
                {
                  "base": 0,
                  "marker": {
                    "color": "#01B8AA"
                  },
                  "offsetgroup": "0",
                  "orientation": "h",
                  "showlegend": false,
                  "type": "bar",
                  "x": [
                    0.007135376935718777
                  ],
                  "xaxis": "x",
                  "y": [
                    "Drift Score"
                  ],
                  "yaxis": "y"
                },
                {
                  "fill": "tozeroy",
                  "line": {
                    "color": "#00008b"
                  },
                  "name": "Train Dataset",
                  "type": "scatter",
                  "x": [
                    0.3520000000000003,
                    0.612714285714286,
                    0.8734285714285718,
                    1.1341428571428576,
                    1.3948571428571432,
                    1.655571428571429,
                    1.9162857142857148,
                    2.1770000000000005,
                    2.437714285714286,
                    2.698428571428572,
                    2.9591428571428575,
                    3.219857142857143,
                    3.4805714285714293,
                    3.713770171356856,
                    3.741285714285715,
                    3.81246594914576,
                    4.002000000000001,
                    4.251349899912665,
                    4.262714285714287,
                    4.523428571428572,
                    4.534078658373281,
                    4.649197939884784,
                    4.784142857142858,
                    4.9246896521997305,
                    4.933849070143891,
                    5.044857142857143,
                    5.1081136742782025,
                    5.199676313494853,
                    5.297695028285566,
                    5.3055714285714295,
                    5.3132216273465716,
                    5.477127292633958,
                    5.490295324775277,
                    5.566285714285715,
                    5.598326187289781,
                    5.628479131963995,
                    5.689306848547828,
                    5.7628630250777295,
                    5.827000000000001,
                    5.8304526820734015,
                    5.8595587591534635,
                    5.948226614958858,
                    5.971883175938507,
                    6.050060679821867,
                    6.064244205632733,
                    6.087714285714286,
                    6.147483828523979,
                    6.154282768287505,
                    6.224874911626533,
                    6.23148719624928,
                    6.3089963364191535,
                    6.326664285437813,
                    6.348428571428572,
                    6.3884940690673995,
                    6.3920043125177815,
                    6.4749872885208575,
                    6.485602883847705,
                    6.541730244630439,
                    6.577260093033135,
                    6.609142857142858,
                    6.613011733754648,
                    6.641765687655827,
                    6.718643492211795,
                    6.718972881811948,
                    6.794326559331182,
                    6.798487633174322,
                    6.853638171117666,
                    6.8698571428571436,
                    6.888213421710001,
                    6.907105636785688,
                    6.96046959771762,
                    6.976142770522346,
                    7.043494850672982,
                    7.057401394445197,
                    7.118465402791268,
                    7.13057142857143,
                    7.1321536678159045,
                    7.166884788863754,
                    7.219697034070346,
                    7.247551641002072,
                    7.294559667113702,
                    7.301803699252682,
                    7.371969802325807,
                    7.373824445108307,
                    7.391285714285715,
                    7.438042629925235,
                    7.453690446494443,
                    7.513685520991678,
                    7.519832869869929,
                    7.59788902747023,
                    7.6312694975585975,
                    7.652000000000001,
                    7.658936767222124,
                    7.692214439502604,
                    7.716868877578746,
                    7.770449827827028,
                    7.794792210418491,
                    7.877350361755219,
                    7.88003947388925,
                    7.912714285714286,
                    7.9802580165928525,
                    7.981376037855376,
                    8.062233830719988,
                    8.076508570672104,
                    8.164307657882354,
                    8.173428571428573,
                    8.18561313452603,
                    8.262199612304935,
                    8.299381796497887,
                    8.371571529901919,
                    8.378072427777077,
                    8.434142857142858,
                    8.457996859866713,
                    8.487421177218332,
                    8.550108424351805,
                    8.630394149166404,
                    8.683531018262045,
                    8.694857142857144,
                    8.816534424223207,
                    8.865865381424578,
                    8.95557142857143,
                    8.970985065140143,
                    9.013524324412856,
                    9.14255861845135,
                    9.216285714285716,
                    9.224874012300084,
                    9.374770101268032,
                    9.477,
                    9.502037072571834,
                    9.633461752630183,
                    9.734767650221617,
                    9.737714285714286,
                    9.89204260322977,
                    9.998428571428573,
                    10.107833957827655,
                    10.259142857142859,
                    10.42209143500668,
                    10.519857142857143,
                    10.78057142857143,
                    11.041285714285715,
                    11.302000000000001,
                    11.562714285714287,
                    11.823428571428572,
                    12.084142857142858,
                    12.344857142857144,
                    12.60557142857143,
                    12.866285714285716,
                    13.127000000000002
                  ],
                  "xaxis": "x2",
                  "y": [
                    0.0007859938610502162,
                    0.0007984650693380769,
                    0.000698851152820275,
                    0.0007507321526105478,
                    0.001024655901335888,
                    0.0014719931798740558,
                    0.0023021367581036083,
                    0.0038973032648119753,
                    0.006231898360526996,
                    0.008958212152999244,
                    0.012142112232198184,
                    0.01618687771508286,
                    0.021551424273682365,
                    0.027989188646453403,
                    0.028864719714106882,
                    0.031238251278849882,
                    0.03822986372155298,
                    0.048658969091515826,
                    0.049169838668261905,
                    0.06214330894144694,
                    0.06273419388341997,
                    0.0694686822966527,
                    0.07816717856433071,
                    0.08808740235605662,
                    0.08876302854080839,
                    0.09724239540540308,
                    0.10233295054775286,
                    0.11008756099418664,
                    0.11897924015837033,
                    0.11972307813679443,
                    0.12044992734213299,
                    0.13709100125892854,
                    0.13851610115725643,
                    0.14697414182534554,
                    0.15064851226347084,
                    0.15415594120692147,
                    0.16134723199022563,
                    0.17016389416337388,
                    0.17785291911567885,
                    0.1782647192701261,
                    0.1817213500505434,
                    0.19200179748612603,
                    0.1946559960803682,
                    0.20306724253231856,
                    0.204525503535812,
                    0.20688766154518584,
                    0.2125961818736088,
                    0.21321610517603612,
                    0.21927630590633962,
                    0.21980794393182906,
                    0.2255696162080621,
                    0.22676173667284477,
                    0.22816912217607896,
                    0.23058670752915578,
                    0.2307880283397716,
                    0.23508059759847302,
                    0.2355684280123593,
                    0.237939190682353,
                    0.2392740155653606,
                    0.24037534615011738,
                    0.2405032839775382,
                    0.24141857932945687,
                    0.24360388790954451,
                    0.24361256747961368,
                    0.24548589565419418,
                    0.2455839510076084,
                    0.24684656686182235,
                    0.24720738551449886,
                    0.24761138626675663,
                    0.24802301177802066,
                    0.24916660682703543,
                    0.2494974399624867,
                    0.2508869862871383,
                    0.2511653109627103,
                    0.252332780311675,
                    0.2525504765986722,
                    0.2525785168290381,
                    0.25316674146314355,
                    0.2539370568279584,
                    0.2542665006931079,
                    0.2546711834102468,
                    0.25471434257370157,
                    0.2548183201281375,
                    0.2548125948752853,
                    0.25473521786708064,
                    0.2543062403371752,
                    0.2540857924255936,
                    0.25285340452589333,
                    0.2526909110987138,
                    0.2500091843477811,
                    0.24850296878772654,
                    0.24745762148459954,
                    0.24708902896542542,
                    0.245190323061721,
                    0.2436457197734326,
                    0.23989479895290344,
                    0.23801861347534053,
                    0.23091502901541566,
                    0.2306656867117495,
                    0.22755309755284428,
                    0.2206762730020098,
                    0.22055792043512976,
                    0.2116734318024125,
                    0.21004716430764034,
                    0.1997730678017535,
                    0.19868545538654572,
                    0.19722839252231508,
                    0.18800321040147053,
                    0.18351480819035093,
                    0.1748645336700635,
                    0.17409274286426915,
                    0.1675073944246614,
                    0.16475145973998367,
                    0.16139601109008353,
                    0.15443082953902185,
                    0.14592288993362856,
                    0.1405682471862883,
                    0.13945616075866996,
                    0.12815338716806074,
                    0.12389530436010533,
                    0.11659203820842048,
                    0.11539063800632994,
                    0.11215093092084709,
                    0.10294969857764719,
                    0.0980701072160285,
                    0.0975178797355777,
                    0.08835765548327014,
                    0.08252873229741624,
                    0.08113668393060185,
                    0.07393975824846827,
                    0.06838404244503773,
                    0.06822096354171371,
                    0.05950438687470557,
                    0.05332072831101861,
                    0.04695556496490991,
                    0.038546476068577,
                    0.03058298410097746,
                    0.02651538566333087,
                    0.018190336958666987,
                    0.012542407175801348,
                    0.008527145346678314,
                    0.005807090727071539,
                    0.004350126725026681,
                    0.003862179902354981,
                    0.0036739211519586576,
                    0.003226310944001993,
                    0.0024221782575264005,
                    0.001490545054794503
                  ],
                  "yaxis": "y2"
                },
                {
                  "fill": "tozeroy",
                  "line": {
                    "color": "#69b3a2"
                  },
                  "name": "Test Dataset",
                  "type": "scatter",
                  "x": [
                    0.3520000000000003,
                    0.612714285714286,
                    0.8734285714285718,
                    1.1341428571428576,
                    1.3948571428571432,
                    1.655571428571429,
                    1.9162857142857148,
                    2.1770000000000005,
                    2.437714285714286,
                    2.698428571428572,
                    2.9591428571428575,
                    3.219857142857143,
                    3.4805714285714293,
                    3.713770171356856,
                    3.741285714285715,
                    3.81246594914576,
                    4.002000000000001,
                    4.251349899912665,
                    4.262714285714287,
                    4.523428571428572,
                    4.534078658373281,
                    4.649197939884784,
                    4.784142857142858,
                    4.9246896521997305,
                    4.933849070143891,
                    5.044857142857143,
                    5.1081136742782025,
                    5.199676313494853,
                    5.297695028285566,
                    5.3055714285714295,
                    5.3132216273465716,
                    5.477127292633958,
                    5.490295324775277,
                    5.566285714285715,
                    5.598326187289781,
                    5.628479131963995,
                    5.689306848547828,
                    5.7628630250777295,
                    5.827000000000001,
                    5.8304526820734015,
                    5.8595587591534635,
                    5.948226614958858,
                    5.971883175938507,
                    6.050060679821867,
                    6.064244205632733,
                    6.087714285714286,
                    6.147483828523979,
                    6.154282768287505,
                    6.224874911626533,
                    6.23148719624928,
                    6.3089963364191535,
                    6.326664285437813,
                    6.348428571428572,
                    6.3884940690673995,
                    6.3920043125177815,
                    6.4749872885208575,
                    6.485602883847705,
                    6.541730244630439,
                    6.577260093033135,
                    6.609142857142858,
                    6.613011733754648,
                    6.641765687655827,
                    6.718643492211795,
                    6.718972881811948,
                    6.794326559331182,
                    6.798487633174322,
                    6.853638171117666,
                    6.8698571428571436,
                    6.888213421710001,
                    6.907105636785688,
                    6.96046959771762,
                    6.976142770522346,
                    7.043494850672982,
                    7.057401394445197,
                    7.118465402791268,
                    7.13057142857143,
                    7.1321536678159045,
                    7.166884788863754,
                    7.219697034070346,
                    7.247551641002072,
                    7.294559667113702,
                    7.301803699252682,
                    7.371969802325807,
                    7.373824445108307,
                    7.391285714285715,
                    7.438042629925235,
                    7.453690446494443,
                    7.513685520991678,
                    7.519832869869929,
                    7.59788902747023,
                    7.6312694975585975,
                    7.652000000000001,
                    7.658936767222124,
                    7.692214439502604,
                    7.716868877578746,
                    7.770449827827028,
                    7.794792210418491,
                    7.877350361755219,
                    7.88003947388925,
                    7.912714285714286,
                    7.9802580165928525,
                    7.981376037855376,
                    8.062233830719988,
                    8.076508570672104,
                    8.164307657882354,
                    8.173428571428573,
                    8.18561313452603,
                    8.262199612304935,
                    8.299381796497887,
                    8.371571529901919,
                    8.378072427777077,
                    8.434142857142858,
                    8.457996859866713,
                    8.487421177218332,
                    8.550108424351805,
                    8.630394149166404,
                    8.683531018262045,
                    8.694857142857144,
                    8.816534424223207,
                    8.865865381424578,
                    8.95557142857143,
                    8.970985065140143,
                    9.013524324412856,
                    9.14255861845135,
                    9.216285714285716,
                    9.224874012300084,
                    9.374770101268032,
                    9.477,
                    9.502037072571834,
                    9.633461752630183,
                    9.734767650221617,
                    9.737714285714286,
                    9.89204260322977,
                    9.998428571428573,
                    10.107833957827655,
                    10.259142857142859,
                    10.42209143500668,
                    10.519857142857143,
                    10.78057142857143,
                    11.041285714285715,
                    11.302000000000001,
                    11.562714285714287,
                    11.823428571428572,
                    12.084142857142858,
                    12.344857142857144,
                    12.60557142857143,
                    12.866285714285716,
                    13.127000000000002
                  ],
                  "xaxis": "x2",
                  "y": [
                    2.6507835838783976e-8,
                    5.322006146384885e-7,
                    0.000006696880783184451,
                    0.000053352299218340474,
                    0.00027417735808766386,
                    0.0009404676841512565,
                    0.0022817633588292827,
                    0.0042433031106686265,
                    0.006519680895742435,
                    0.00865732434232106,
                    0.010482173873857676,
                    0.012673557051859251,
                    0.015827043212881343,
                    0.019308351129414054,
                    0.01977545547523227,
                    0.0210802287702339,
                    0.02559236485184487,
                    0.03481067047270623,
                    0.035323695499948314,
                    0.04899040892663276,
                    0.049625457295279736,
                    0.05695776557830555,
                    0.0669260994944561,
                    0.07935206568781042,
                    0.08024111337546844,
                    0.09175993704564478,
                    0.09887384102324116,
                    0.10969016339187673,
                    0.12164332118047648,
                    0.12260941451418819,
                    0.1235476782754995,
                    0.14336450246549431,
                    0.1449155815531913,
                    0.1537117497729496,
                    0.15734182520764298,
                    0.16071830956806357,
                    0.16742764249701017,
                    0.1754059725701072,
                    0.18229754468610684,
                    0.18266779507136924,
                    0.18578825170758367,
                    0.19530676487447887,
                    0.1978527135412128,
                    0.2062799095014744,
                    0.20780884988696244,
                    0.2103367046026492,
                    0.21674881047154204,
                    0.21747466620448921,
                    0.22494401374856268,
                    0.2256359627332185,
                    0.23361591671695864,
                    0.2353958784242229,
                    0.23756570458180343,
                    0.24148896741267792,
                    0.24182804510480552,
                    0.2496030997499597,
                    0.25056196188087476,
                    0.2554818013781291,
                    0.2584555353236713,
                    0.26102179276692167,
                    0.2613262223976269,
                    0.26353873798723115,
                    0.26897508050847385,
                    0.2689967194909451,
                    0.2735201439136004,
                    0.2737433211473677,
                    0.2764063361012878,
                    0.2770787001265312,
                    0.27777480069155935,
                    0.27841667244006013,
                    0.2797983235448301,
                    0.2800773643216998,
                    0.28058437681355436,
                    0.2805453436090999,
                    0.27977963915271464,
                    0.2795127916840339,
                    0.2794751185900941,
                    0.27848676842923487,
                    0.2764071097620293,
                    0.2750429509044047,
                    0.2723529051311193,
                    0.27189770106319966,
                    0.2669908132795747,
                    0.2668499714410084,
                    0.26549911390576253,
                    0.2616832860642929,
                    0.2603507119364958,
                    0.2550478244524398,
                    0.25449092254779754,
                    0.24730398222490652,
                    0.24420865968005032,
                    0.24229314002960042,
                    0.24165426683131835,
                    0.23860978060132554,
                    0.23638179009615193,
                    0.23164467425217708,
                    0.22954731687463245,
                    0.22271441169893336,
                    0.2224991550176696,
                    0.21991860560438337,
                    0.21476733189545022,
                    0.2146838259972546,
                    0.20874222205398402,
                    0.2077047631522351,
                    0.20127939589592814,
                    0.2005998885693367,
                    0.19968640315550978,
                    0.19374518381791442,
                    0.19070060049344253,
                    0.18441123534181725,
                    0.18381815212073702,
                    0.1785106866361279,
                    0.17614821549956583,
                    0.17315032479419953,
                    0.1664768230525227,
                    0.15746458146035994,
                    0.15131211657192792,
                    0.14999027019692462,
                    0.13582900857724492,
                    0.13024146465003122,
                    0.12054898621203274,
                    0.11895827431351,
                    0.11469600613194261,
                    0.10297746503258531,
                    0.09707579049076076,
                    0.09642217350891807,
                    0.08591039875513626,
                    0.07936252474424876,
                    0.07778885620213533,
                    0.06948753407961782,
                    0.06287549440040784,
                    0.0626794854534868,
                    0.052185667677307576,
                    0.04489110554336229,
                    0.03766402480584385,
                    0.028685626291763935,
                    0.020939858140917995,
                    0.017393721636539572,
                    0.011802941648800885,
                    0.010025914986900983,
                    0.00886664778240174,
                    0.006948187592446407,
                    0.005039248769183048,
                    0.003465742614589568,
                    0.0020669053848964987,
                    0.0012510982342039748,
                    0.0012136725137777743,
                    0.0013265899363997956
                  ],
                  "yaxis": "y2"
                }
              ],
              "layout": {
                "annotations": [
                  {
                    "font": {
                      "size": 16
                    },
                    "showarrow": false,
                    "text": "Drift Score (Earth Mover's Distance)",
                    "x": 0.5,
                    "xanchor": "center",
                    "xref": "paper",
                    "y": 1.0000000000000002,
                    "yanchor": "bottom",
                    "yref": "paper"
                  },
                  {
                    "font": {
                      "size": 16
                    },
                    "showarrow": false,
                    "text": "Distribution Plot",
                    "x": 0.5,
                    "xanchor": "center",
                    "xref": "paper",
                    "y": 0.7200000000000001,
                    "yanchor": "bottom",
                    "yref": "paper"
                  }
                ],
                "bargroupgap": 0,
                "height": 400,
                "legend": {
                  "title": {
                    "text": "Dataset"
                  },
                  "y": 0.6,
                  "yanchor": "top"
                },
                "template": {
                  "data": {
                    "bar": [
                      {
                        "error_x": {
                          "color": "#2a3f5f"
                        },
                        "error_y": {
                          "color": "#2a3f5f"
                        },
                        "marker": {
                          "line": {
                            "color": "#E5ECF6",
                            "width": 0.5
                          },
                          "pattern": {
                            "fillmode": "overlay",
                            "size": 10,
                            "solidity": 0.2
                          }
                        },
                        "type": "bar"
                      }
                    ],
                    "barpolar": [
                      {
                        "marker": {
                          "line": {
                            "color": "#E5ECF6",
                            "width": 0.5
                          },
                          "pattern": {
                            "fillmode": "overlay",
                            "size": 10,
                            "solidity": 0.2
                          }
                        },
                        "type": "barpolar"
                      }
                    ],
                    "carpet": [
                      {
                        "aaxis": {
                          "endlinecolor": "#2a3f5f",
                          "gridcolor": "white",
                          "linecolor": "white",
                          "minorgridcolor": "white",
                          "startlinecolor": "#2a3f5f"
                        },
                        "baxis": {
                          "endlinecolor": "#2a3f5f",
                          "gridcolor": "white",
                          "linecolor": "white",
                          "minorgridcolor": "white",
                          "startlinecolor": "#2a3f5f"
                        },
                        "type": "carpet"
                      }
                    ],
                    "choropleth": [
                      {
                        "colorbar": {
                          "outlinewidth": 0,
                          "ticks": ""
                        },
                        "type": "choropleth"
                      }
                    ],
                    "contour": [
                      {
                        "colorbar": {
                          "outlinewidth": 0,
                          "ticks": ""
                        },
                        "colorscale": [
                          [
                            0,
                            "#0d0887"
                          ],
                          [
                            0.1111111111111111,
                            "#46039f"
                          ],
                          [
                            0.2222222222222222,
                            "#7201a8"
                          ],
                          [
                            0.3333333333333333,
                            "#9c179e"
                          ],
                          [
                            0.4444444444444444,
                            "#bd3786"
                          ],
                          [
                            0.5555555555555556,
                            "#d8576b"
                          ],
                          [
                            0.6666666666666666,
                            "#ed7953"
                          ],
                          [
                            0.7777777777777778,
                            "#fb9f3a"
                          ],
                          [
                            0.8888888888888888,
                            "#fdca26"
                          ],
                          [
                            1,
                            "#f0f921"
                          ]
                        ],
                        "type": "contour"
                      }
                    ],
                    "contourcarpet": [
                      {
                        "colorbar": {
                          "outlinewidth": 0,
                          "ticks": ""
                        },
                        "type": "contourcarpet"
                      }
                    ],
                    "heatmap": [
                      {
                        "colorbar": {
                          "outlinewidth": 0,
                          "ticks": ""
                        },
                        "colorscale": [
                          [
                            0,
                            "#0d0887"
                          ],
                          [
                            0.1111111111111111,
                            "#46039f"
                          ],
                          [
                            0.2222222222222222,
                            "#7201a8"
                          ],
                          [
                            0.3333333333333333,
                            "#9c179e"
                          ],
                          [
                            0.4444444444444444,
                            "#bd3786"
                          ],
                          [
                            0.5555555555555556,
                            "#d8576b"
                          ],
                          [
                            0.6666666666666666,
                            "#ed7953"
                          ],
                          [
                            0.7777777777777778,
                            "#fb9f3a"
                          ],
                          [
                            0.8888888888888888,
                            "#fdca26"
                          ],
                          [
                            1,
                            "#f0f921"
                          ]
                        ],
                        "type": "heatmap"
                      }
                    ],
                    "heatmapgl": [
                      {
                        "colorbar": {
                          "outlinewidth": 0,
                          "ticks": ""
                        },
                        "colorscale": [
                          [
                            0,
                            "#0d0887"
                          ],
                          [
                            0.1111111111111111,
                            "#46039f"
                          ],
                          [
                            0.2222222222222222,
                            "#7201a8"
                          ],
                          [
                            0.3333333333333333,
                            "#9c179e"
                          ],
                          [
                            0.4444444444444444,
                            "#bd3786"
                          ],
                          [
                            0.5555555555555556,
                            "#d8576b"
                          ],
                          [
                            0.6666666666666666,
                            "#ed7953"
                          ],
                          [
                            0.7777777777777778,
                            "#fb9f3a"
                          ],
                          [
                            0.8888888888888888,
                            "#fdca26"
                          ],
                          [
                            1,
                            "#f0f921"
                          ]
                        ],
                        "type": "heatmapgl"
                      }
                    ],
                    "histogram": [
                      {
                        "marker": {
                          "pattern": {
                            "fillmode": "overlay",
                            "size": 10,
                            "solidity": 0.2
                          }
                        },
                        "type": "histogram"
                      }
                    ],
                    "histogram2d": [
                      {
                        "colorbar": {
                          "outlinewidth": 0,
                          "ticks": ""
                        },
                        "colorscale": [
                          [
                            0,
                            "#0d0887"
                          ],
                          [
                            0.1111111111111111,
                            "#46039f"
                          ],
                          [
                            0.2222222222222222,
                            "#7201a8"
                          ],
                          [
                            0.3333333333333333,
                            "#9c179e"
                          ],
                          [
                            0.4444444444444444,
                            "#bd3786"
                          ],
                          [
                            0.5555555555555556,
                            "#d8576b"
                          ],
                          [
                            0.6666666666666666,
                            "#ed7953"
                          ],
                          [
                            0.7777777777777778,
                            "#fb9f3a"
                          ],
                          [
                            0.8888888888888888,
                            "#fdca26"
                          ],
                          [
                            1,
                            "#f0f921"
                          ]
                        ],
                        "type": "histogram2d"
                      }
                    ],
                    "histogram2dcontour": [
                      {
                        "colorbar": {
                          "outlinewidth": 0,
                          "ticks": ""
                        },
                        "colorscale": [
                          [
                            0,
                            "#0d0887"
                          ],
                          [
                            0.1111111111111111,
                            "#46039f"
                          ],
                          [
                            0.2222222222222222,
                            "#7201a8"
                          ],
                          [
                            0.3333333333333333,
                            "#9c179e"
                          ],
                          [
                            0.4444444444444444,
                            "#bd3786"
                          ],
                          [
                            0.5555555555555556,
                            "#d8576b"
                          ],
                          [
                            0.6666666666666666,
                            "#ed7953"
                          ],
                          [
                            0.7777777777777778,
                            "#fb9f3a"
                          ],
                          [
                            0.8888888888888888,
                            "#fdca26"
                          ],
                          [
                            1,
                            "#f0f921"
                          ]
                        ],
                        "type": "histogram2dcontour"
                      }
                    ],
                    "mesh3d": [
                      {
                        "colorbar": {
                          "outlinewidth": 0,
                          "ticks": ""
                        },
                        "type": "mesh3d"
                      }
                    ],
                    "parcoords": [
                      {
                        "line": {
                          "colorbar": {
                            "outlinewidth": 0,
                            "ticks": ""
                          }
                        },
                        "type": "parcoords"
                      }
                    ],
                    "pie": [
                      {
                        "automargin": true,
                        "type": "pie"
                      }
                    ],
                    "scatter": [
                      {
                        "marker": {
                          "colorbar": {
                            "outlinewidth": 0,
                            "ticks": ""
                          }
                        },
                        "type": "scatter"
                      }
                    ],
                    "scatter3d": [
                      {
                        "line": {
                          "colorbar": {
                            "outlinewidth": 0,
                            "ticks": ""
                          }
                        },
                        "marker": {
                          "colorbar": {
                            "outlinewidth": 0,
                            "ticks": ""
                          }
                        },
                        "type": "scatter3d"
                      }
                    ],
                    "scattercarpet": [
                      {
                        "marker": {
                          "colorbar": {
                            "outlinewidth": 0,
                            "ticks": ""
                          }
                        },
                        "type": "scattercarpet"
                      }
                    ],
                    "scattergeo": [
                      {
                        "marker": {
                          "colorbar": {
                            "outlinewidth": 0,
                            "ticks": ""
                          }
                        },
                        "type": "scattergeo"
                      }
                    ],
                    "scattergl": [
                      {
                        "marker": {
                          "colorbar": {
                            "outlinewidth": 0,
                            "ticks": ""
                          }
                        },
                        "type": "scattergl"
                      }
                    ],
                    "scattermapbox": [
                      {
                        "marker": {
                          "colorbar": {
                            "outlinewidth": 0,
                            "ticks": ""
                          }
                        },
                        "type": "scattermapbox"
                      }
                    ],
                    "scatterpolar": [
                      {
                        "marker": {
                          "colorbar": {
                            "outlinewidth": 0,
                            "ticks": ""
                          }
                        },
                        "type": "scatterpolar"
                      }
                    ],
                    "scatterpolargl": [
                      {
                        "marker": {
                          "colorbar": {
                            "outlinewidth": 0,
                            "ticks": ""
                          }
                        },
                        "type": "scatterpolargl"
                      }
                    ],
                    "scatterternary": [
                      {
                        "marker": {
                          "colorbar": {
                            "outlinewidth": 0,
                            "ticks": ""
                          }
                        },
                        "type": "scatterternary"
                      }
                    ],
                    "surface": [
                      {
                        "colorbar": {
                          "outlinewidth": 0,
                          "ticks": ""
                        },
                        "colorscale": [
                          [
                            0,
                            "#0d0887"
                          ],
                          [
                            0.1111111111111111,
                            "#46039f"
                          ],
                          [
                            0.2222222222222222,
                            "#7201a8"
                          ],
                          [
                            0.3333333333333333,
                            "#9c179e"
                          ],
                          [
                            0.4444444444444444,
                            "#bd3786"
                          ],
                          [
                            0.5555555555555556,
                            "#d8576b"
                          ],
                          [
                            0.6666666666666666,
                            "#ed7953"
                          ],
                          [
                            0.7777777777777778,
                            "#fb9f3a"
                          ],
                          [
                            0.8888888888888888,
                            "#fdca26"
                          ],
                          [
                            1,
                            "#f0f921"
                          ]
                        ],
                        "type": "surface"
                      }
                    ],
                    "table": [
                      {
                        "cells": {
                          "fill": {
                            "color": "#EBF0F8"
                          },
                          "line": {
                            "color": "white"
                          }
                        },
                        "header": {
                          "fill": {
                            "color": "#C8D4E3"
                          },
                          "line": {
                            "color": "white"
                          }
                        },
                        "type": "table"
                      }
                    ]
                  },
                  "layout": {
                    "annotationdefaults": {
                      "arrowcolor": "#2a3f5f",
                      "arrowhead": 0,
                      "arrowwidth": 1
                    },
                    "autotypenumbers": "strict",
                    "coloraxis": {
                      "colorbar": {
                        "outlinewidth": 0,
                        "ticks": ""
                      }
                    },
                    "colorscale": {
                      "diverging": [
                        [
                          0,
                          "#8e0152"
                        ],
                        [
                          0.1,
                          "#c51b7d"
                        ],
                        [
                          0.2,
                          "#de77ae"
                        ],
                        [
                          0.3,
                          "#f1b6da"
                        ],
                        [
                          0.4,
                          "#fde0ef"
                        ],
                        [
                          0.5,
                          "#f7f7f7"
                        ],
                        [
                          0.6,
                          "#e6f5d0"
                        ],
                        [
                          0.7,
                          "#b8e186"
                        ],
                        [
                          0.8,
                          "#7fbc41"
                        ],
                        [
                          0.9,
                          "#4d9221"
                        ],
                        [
                          1,
                          "#276419"
                        ]
                      ],
                      "sequential": [
                        [
                          0,
                          "#0d0887"
                        ],
                        [
                          0.1111111111111111,
                          "#46039f"
                        ],
                        [
                          0.2222222222222222,
                          "#7201a8"
                        ],
                        [
                          0.3333333333333333,
                          "#9c179e"
                        ],
                        [
                          0.4444444444444444,
                          "#bd3786"
                        ],
                        [
                          0.5555555555555556,
                          "#d8576b"
                        ],
                        [
                          0.6666666666666666,
                          "#ed7953"
                        ],
                        [
                          0.7777777777777778,
                          "#fb9f3a"
                        ],
                        [
                          0.8888888888888888,
                          "#fdca26"
                        ],
                        [
                          1,
                          "#f0f921"
                        ]
                      ],
                      "sequentialminus": [
                        [
                          0,
                          "#0d0887"
                        ],
                        [
                          0.1111111111111111,
                          "#46039f"
                        ],
                        [
                          0.2222222222222222,
                          "#7201a8"
                        ],
                        [
                          0.3333333333333333,
                          "#9c179e"
                        ],
                        [
                          0.4444444444444444,
                          "#bd3786"
                        ],
                        [
                          0.5555555555555556,
                          "#d8576b"
                        ],
                        [
                          0.6666666666666666,
                          "#ed7953"
                        ],
                        [
                          0.7777777777777778,
                          "#fb9f3a"
                        ],
                        [
                          0.8888888888888888,
                          "#fdca26"
                        ],
                        [
                          1,
                          "#f0f921"
                        ]
                      ]
                    },
                    "colorway": [
                      "#636efa",
                      "#EF553B",
                      "#00cc96",
                      "#ab63fa",
                      "#FFA15A",
                      "#19d3f3",
                      "#FF6692",
                      "#B6E880",
                      "#FF97FF",
                      "#FECB52"
                    ],
                    "font": {
                      "color": "#2a3f5f"
                    },
                    "geo": {
                      "bgcolor": "white",
                      "lakecolor": "white",
                      "landcolor": "#E5ECF6",
                      "showlakes": true,
                      "showland": true,
                      "subunitcolor": "white"
                    },
                    "hoverlabel": {
                      "align": "left"
                    },
                    "hovermode": "closest",
                    "mapbox": {
                      "style": "light"
                    },
                    "paper_bgcolor": "white",
                    "plot_bgcolor": "#E5ECF6",
                    "polar": {
                      "angularaxis": {
                        "gridcolor": "white",
                        "linecolor": "white",
                        "ticks": ""
                      },
                      "bgcolor": "#E5ECF6",
                      "radialaxis": {
                        "gridcolor": "white",
                        "linecolor": "white",
                        "ticks": ""
                      }
                    },
                    "scene": {
                      "xaxis": {
                        "backgroundcolor": "#E5ECF6",
                        "gridcolor": "white",
                        "gridwidth": 2,
                        "linecolor": "white",
                        "showbackground": true,
                        "ticks": "",
                        "zerolinecolor": "white"
                      },
                      "yaxis": {
                        "backgroundcolor": "#E5ECF6",
                        "gridcolor": "white",
                        "gridwidth": 2,
                        "linecolor": "white",
                        "showbackground": true,
                        "ticks": "",
                        "zerolinecolor": "white"
                      },
                      "zaxis": {
                        "backgroundcolor": "#E5ECF6",
                        "gridcolor": "white",
                        "gridwidth": 2,
                        "linecolor": "white",
                        "showbackground": true,
                        "ticks": "",
                        "zerolinecolor": "white"
                      }
                    },
                    "shapedefaults": {
                      "line": {
                        "color": "#2a3f5f"
                      }
                    },
                    "ternary": {
                      "aaxis": {
                        "gridcolor": "white",
                        "linecolor": "white",
                        "ticks": ""
                      },
                      "baxis": {
                        "gridcolor": "white",
                        "linecolor": "white",
                        "ticks": ""
                      },
                      "bgcolor": "#E5ECF6",
                      "caxis": {
                        "gridcolor": "white",
                        "linecolor": "white",
                        "ticks": ""
                      }
                    },
                    "title": {
                      "x": 0.05
                    },
                    "xaxis": {
                      "automargin": true,
                      "gridcolor": "white",
                      "linecolor": "white",
                      "ticks": "",
                      "title": {
                        "standoff": 15
                      },
                      "zerolinecolor": "white",
                      "zerolinewidth": 2
                    },
                    "yaxis": {
                      "automargin": true,
                      "gridcolor": "white",
                      "linecolor": "white",
                      "ticks": "",
                      "title": {
                        "standoff": 15
                      },
                      "zerolinecolor": "white",
                      "zerolinewidth": 2
                    }
                  }
                },
                "title": {
                  "text": "Chloramines (#3 in FI)",
                  "x": 0.5,
                  "xanchor": "center"
                },
                "width": 700,
                "xaxis": {
                  "anchor": "y",
                  "domain": [
                    0,
                    1
                  ],
                  "dtick": 0.05,
                  "fixedrange": true,
                  "gridcolor": "black",
                  "linecolor": "black",
                  "range": [
                    0,
                    0.4
                  ],
                  "showgrid": false
                },
                "xaxis2": {
                  "anchor": "y2",
                  "domain": [
                    0,
                    1
                  ],
                  "fixedrange": false,
                  "range": [
                    3.713770171356856,
                    10.42209143500668
                  ],
                  "title": {
                    "text": "Chloramines"
                  }
                },
                "yaxis": {
                  "anchor": "x",
                  "color": "black",
                  "domain": [
                    0.9200000000000002,
                    1
                  ],
                  "fixedrange": true,
                  "showgrid": false,
                  "showline": false,
                  "showticklabels": false,
                  "zeroline": false
                },
                "yaxis2": {
                  "anchor": "x2",
                  "domain": [
                    0,
                    0.7200000000000001
                  ],
                  "fixedrange": true,
                  "title": {
                    "text": "Probability Density"
                  }
                }
              }
            }
          },
          "metadata": {},
          "output_type": "display_data"
        },
        {
          "data": {
            "text/html": []
          },
          "metadata": {},
          "output_type": "display_data"
        },
        {
          "data": {
            "application/vnd.plotly.v1+json": {
              "config": {
                "plotlyServerURL": "https://plot.ly"
              },
              "data": [
                {
                  "base": 0,
                  "marker": {
                    "color": "#01B8AA"
                  },
                  "offsetgroup": "0",
                  "orientation": "h",
                  "showlegend": false,
                  "type": "bar",
                  "x": [
                    0.007205490918406147
                  ],
                  "xaxis": "x",
                  "y": [
                    "Drift Score"
                  ],
                  "yaxis": "y"
                },
                {
                  "fill": "tozeroy",
                  "line": {
                    "color": "#00008b"
                  },
                  "name": "Train Dataset",
                  "type": "scatter",
                  "x": [
                    0.7379999999999995,
                    3.253551020408163,
                    5.7691020408163265,
                    8.284653061224489,
                    10.800204081632653,
                    13.315755102040818,
                    15.83130612244898,
                    18.346857142857143,
                    20.862408163265307,
                    23.37795918367347,
                    25.893510204081636,
                    28.409061224489797,
                    30.92461224489796,
                    32.2431821928482,
                    33.08618831968664,
                    33.440163265306126,
                    35.955714285714286,
                    37.742164645769414,
                    38.015207424052385,
                    38.471265306122454,
                    40.986816326530615,
                    41.1462673942946,
                    42.3348530217321,
                    43.502367346938776,
                    43.5773859157786,
                    44.549307443331806,
                    46.017918367346944,
                    46.08512019181636,
                    46.62526435877229,
                    47.94290343087535,
                    48.533469387755105,
                    49.26105731987148,
                    49.3689491540059,
                    50.762367580544925,
                    50.878144063199365,
                    51.04902040816327,
                    52.26590764076513,
                    52.290094228279166,
                    53.28722879720046,
                    53.56457142857143,
                    53.70100291573249,
                    54.55750164128193,
                    54.715760217211404,
                    55.594161743449995,
                    56.080122448979594,
                    56.40743772130188,
                    56.783020150538974,
                    57.349069790216475,
                    58.09185480778936,
                    58.23551313719837,
                    58.59567346938776,
                    59.009153207134425,
                    59.27805396687729,
                    59.691729358395015,
                    60.15832712541533,
                    60.268120748025375,
                    60.94020037266809,
                    61.11122448979592,
                    61.11719368437736,
                    61.855296226406416,
                    61.87227112255801,
                    62.63330980961214,
                    62.66195098140379,
                    63.31242194571149,
                    63.483770059131615,
                    63.626775510204084,
                    64.08696163829181,
                    64.20831872798347,
                    64.86687163036447,
                    65.05604684563818,
                    65.82635183197287,
                    66.14232653061225,
                    66.17178112211997,
                    66.39629294676803,
                    66.39629294676803,
                    66.39629294676803,
                    66.39629294676803,
                    66.39629294676803,
                    66.8322933387617,
                    67.1010368835034,
                    67.87556112748446,
                    67.93970448618431,
                    68.65328680303465,
                    68.65787755102042,
                    68.84453201854545,
                    69.0491405672868,
                    69.41671233277215,
                    69.85271562229775,
                    70.30711846642149,
                    70.54711813091508,
                    71.13307519354873,
                    71.17342857142857,
                    71.50668428049751,
                    72.15661592091946,
                    72.56555464275206,
                    73.18705020857018,
                    73.4653219558578,
                    73.68897959183674,
                    74.16658600390763,
                    74.2429571258397,
                    74.77156953771727,
                    75.2733037327636,
                    76.11778887420667,
                    76.20453061224491,
                    76.28010360657565,
                    77.11521435616345,
                    77.29068897105303,
                    77.73212315148156,
                    78.29553821510957,
                    78.40971772331572,
                    78.72008163265306,
                    79.35602439414527,
                    79.83270783329252,
                    80.49768001546417,
                    81.12279256376094,
                    81.23563265306123,
                    81.62878704588334,
                    82.4890246351949,
                    83.24680319456667,
                    83.70434300592454,
                    83.7511836734694,
                    84.72799563951813,
                    85.27388868550005,
                    85.87814270426212,
                    86.26673469387755,
                    86.67380662295031,
                    87.41856650257854,
                    88.78228571428572,
                    88.89076208655504,
                    91.0400444115428,
                    91.26009527928419,
                    91.29783673469389,
                    93.81338775510204,
                    93.9112899701928,
                    96.32893877551021,
                    96.67568860670144,
                    98.84448979591838,
                    99.98693781076068,
                    101.36004081632655,
                    103.8755918367347,
                    106.39114285714287,
                    108.90669387755104,
                    111.42224489795919,
                    113.93779591836736,
                    116.45334693877552,
                    118.96889795918368,
                    121.48444897959185,
                    124
                  ],
                  "xaxis": "x2",
                  "y": [
                    0.00004664814196691839,
                    0.00005090262419502425,
                    0.00005588474846967309,
                    0.0000745594880796801,
                    0.000127041780421446,
                    0.00023653278694505834,
                    0.00039318689545649423,
                    0.0005538542330103359,
                    0.0007073080763360024,
                    0.0009068816043835308,
                    0.0012447435248534163,
                    0.0017980180364042316,
                    0.0025463997693402087,
                    0.002983430572228545,
                    0.003273213186193046,
                    0.0033975409253534385,
                    0.004355819136103647,
                    0.005162647346039304,
                    0.00529728869793123,
                    0.005528800828446311,
                    0.006937399285935714,
                    0.007033234923777451,
                    0.007770449620206068,
                    0.008536930827054886,
                    0.008587778348812247,
                    0.00926570690998276,
                    0.010360316283355056,
                    0.010412360503390705,
                    0.010836171939667237,
                    0.011901777569371642,
                    0.012387073858582107,
                    0.012984111727492831,
                    0.0130721786687707,
                    0.014186468601665576,
                    0.014276543053607652,
                    0.014408662816919325,
                    0.015320771336139124,
                    0.015338415576335317,
                    0.01605391928295819,
                    0.016250372805498115,
                    0.01634694223945147,
                    0.01695793940964174,
                    0.017072837569647482,
                    0.017733286207611484,
                    0.01812221243492076,
                    0.018396706473974702,
                    0.018726110271808934,
                    0.01925547211000511,
                    0.020017056375623662,
                    0.02017361072968607,
                    0.020579473023674143,
                    0.021068632993623694,
                    0.021399530145663065,
                    0.02192673752868157,
                    0.02254439964160783,
                    0.02269271144739844,
                    0.0236175609453064,
                    0.02385566488444184,
                    0.023863981869131558,
                    0.024887063673460785,
                    0.024910288157367184,
                    0.02591958153181801,
                    0.02595596213461241,
                    0.02673720798194745,
                    0.02692608893119795,
                    0.02707741249703839,
                    0.027521070315438764,
                    0.027626087844660797,
                    0.028097957011605397,
                    0.028200663268680804,
                    0.02845493973901484,
                    0.028480657689886724,
                    0.028480702644310556,
                    0.028467919412070955,
                    0.028467919412070955,
                    0.028467919412070955,
                    0.028467919412070955,
                    0.028467919412070955,
                    0.02837771427000904,
                    0.028280390662661775,
                    0.027835792321037212,
                    0.027788951020854685,
                    0.027180443276974386,
                    0.02717606274707003,
                    0.026993612398986223,
                    0.026784581173524887,
                    0.026388935918612844,
                    0.025894024431809156,
                    0.025359689142892414,
                    0.025073664721485197,
                    0.02437548416746969,
                    0.024327760007725567,
                    0.023937053992652082,
                    0.023199740142756605,
                    0.022757430004198533,
                    0.022121928486519508,
                    0.02185210095152424,
                    0.021641682117913386,
                    0.0212105660160715,
                    0.02114379166462999,
                    0.020696125983073,
                    0.02029115392871046,
                    0.019638976766467812,
                    0.01957328359392644,
                    0.019516163070822774,
                    0.018887378205078083,
                    0.018754734126965173,
                    0.018418307439393888,
                    0.017980689372637075,
                    0.017890616844086406,
                    0.01764313569109247,
                    0.017123176465866204,
                    0.01672181161370014,
                    0.016146204410281195,
                    0.01559086770304077,
                    0.01548942993052605,
                    0.015133790871488759,
                    0.014348285807042133,
                    0.013656019927915389,
                    0.01324154583502597,
                    0.013199349990357578,
                    0.0123330321133547,
                    0.01186275577243503,
                    0.011355751569882944,
                    0.011037564878614113,
                    0.010710857543941889,
                    0.010129941319613929,
                    0.009114902662195046,
                    0.009036390312458946,
                    0.007527332305254106,
                    0.007377014238209364,
                    0.007351309070216261,
                    0.005706756952114962,
                    0.005646508253117154,
                    0.0042983589761507275,
                    0.004130022752854786,
                    0.0032227945869478985,
                    0.002834413848333907,
                    0.0024320930065062692,
                    0.001837807772567873,
                    0.0013890405157890536,
                    0.0010460892124514439,
                    0.0007695456708885352,
                    0.0005319759166926165,
                    0.0003303408333866129,
                    0.00018097821654442368,
                    0.00008853417428250457,
                    0.000038107039242573
                  ],
                  "yaxis": "y2"
                },
                {
                  "fill": "tozeroy",
                  "line": {
                    "color": "#69b3a2"
                  },
                  "name": "Test Dataset",
                  "type": "scatter",
                  "x": [
                    0.7379999999999995,
                    3.253551020408163,
                    5.7691020408163265,
                    8.284653061224489,
                    10.800204081632653,
                    13.315755102040818,
                    15.83130612244898,
                    18.346857142857143,
                    20.862408163265307,
                    23.37795918367347,
                    25.893510204081636,
                    28.409061224489797,
                    30.92461224489796,
                    32.2431821928482,
                    33.08618831968664,
                    33.440163265306126,
                    35.955714285714286,
                    37.742164645769414,
                    38.015207424052385,
                    38.471265306122454,
                    40.986816326530615,
                    41.1462673942946,
                    42.3348530217321,
                    43.502367346938776,
                    43.5773859157786,
                    44.549307443331806,
                    46.017918367346944,
                    46.08512019181636,
                    46.62526435877229,
                    47.94290343087535,
                    48.533469387755105,
                    49.26105731987148,
                    49.3689491540059,
                    50.762367580544925,
                    50.878144063199365,
                    51.04902040816327,
                    52.26590764076513,
                    52.290094228279166,
                    53.28722879720046,
                    53.56457142857143,
                    53.70100291573249,
                    54.55750164128193,
                    54.715760217211404,
                    55.594161743449995,
                    56.080122448979594,
                    56.40743772130188,
                    56.783020150538974,
                    57.349069790216475,
                    58.09185480778936,
                    58.23551313719837,
                    58.59567346938776,
                    59.009153207134425,
                    59.27805396687729,
                    59.691729358395015,
                    60.15832712541533,
                    60.268120748025375,
                    60.94020037266809,
                    61.11122448979592,
                    61.11719368437736,
                    61.855296226406416,
                    61.87227112255801,
                    62.63330980961214,
                    62.66195098140379,
                    63.31242194571149,
                    63.483770059131615,
                    63.626775510204084,
                    64.08696163829181,
                    64.20831872798347,
                    64.86687163036447,
                    65.05604684563818,
                    65.82635183197287,
                    66.14232653061225,
                    66.17178112211997,
                    66.39629294676803,
                    66.39629294676803,
                    66.39629294676803,
                    66.39629294676803,
                    66.39629294676803,
                    66.8322933387617,
                    67.1010368835034,
                    67.87556112748446,
                    67.93970448618431,
                    68.65328680303465,
                    68.65787755102042,
                    68.84453201854545,
                    69.0491405672868,
                    69.41671233277215,
                    69.85271562229775,
                    70.30711846642149,
                    70.54711813091508,
                    71.13307519354873,
                    71.17342857142857,
                    71.50668428049751,
                    72.15661592091946,
                    72.56555464275206,
                    73.18705020857018,
                    73.4653219558578,
                    73.68897959183674,
                    74.16658600390763,
                    74.2429571258397,
                    74.77156953771727,
                    75.2733037327636,
                    76.11778887420667,
                    76.20453061224491,
                    76.28010360657565,
                    77.11521435616345,
                    77.29068897105303,
                    77.73212315148156,
                    78.29553821510957,
                    78.40971772331572,
                    78.72008163265306,
                    79.35602439414527,
                    79.83270783329252,
                    80.49768001546417,
                    81.12279256376094,
                    81.23563265306123,
                    81.62878704588334,
                    82.4890246351949,
                    83.24680319456667,
                    83.70434300592454,
                    83.7511836734694,
                    84.72799563951813,
                    85.27388868550005,
                    85.87814270426212,
                    86.26673469387755,
                    86.67380662295031,
                    87.41856650257854,
                    88.78228571428572,
                    88.89076208655504,
                    91.0400444115428,
                    91.26009527928419,
                    91.29783673469389,
                    93.81338775510204,
                    93.9112899701928,
                    96.32893877551021,
                    96.67568860670144,
                    98.84448979591838,
                    99.98693781076068,
                    101.36004081632655,
                    103.8755918367347,
                    106.39114285714287,
                    108.90669387755104,
                    111.42224489795919,
                    113.93779591836736,
                    116.45334693877552,
                    118.96889795918368,
                    121.48444897959185,
                    124
                  ],
                  "xaxis": "x2",
                  "y": [
                    0.000018768763629766727,
                    0.00005697100494896063,
                    0.00011569972565472381,
                    0.00016899553541250772,
                    0.00020507386472078692,
                    0.00023920842142714126,
                    0.0002745291718078622,
                    0.0003157269184335862,
                    0.0004111603959902981,
                    0.0006254216235263764,
                    0.0010157208068165085,
                    0.0016524716956537692,
                    0.0025231260028761677,
                    0.0030076119901656533,
                    0.0033034502427466052,
                    0.0034222719386459875,
                    0.0041757986759035585,
                    0.004700706717831312,
                    0.004789935030458321,
                    0.004947567172036359,
                    0.006060805552525827,
                    0.006145665354365357,
                    0.006820147689987507,
                    0.0075310645741056125,
                    0.007577621750745819,
                    0.008184724191975535,
                    0.009109025112934927,
                    0.009151679259268077,
                    0.009497094727259459,
                    0.010374112787996341,
                    0.010792864828650595,
                    0.011339638656981949,
                    0.01142404336405185,
                    0.01260491147287094,
                    0.012711354506817327,
                    0.012870991529252848,
                    0.014100779102183741,
                    0.014126957589767347,
                    0.015268419477399892,
                    0.015607773949885764,
                    0.01577819430586728,
                    0.016898845708833703,
                    0.01711499939078599,
                    0.018358495601618112,
                    0.019071549910876937,
                    0.01955818525544299,
                    0.020119838720241146,
                    0.020965779132468533,
                    0.022057190599025837,
                    0.02226389378192521,
                    0.022773692089155695,
                    0.02334165834666198,
                    0.023699705069813937,
                    0.02423129677046562,
                    0.024800955157536272,
                    0.02493020427964242,
                    0.02568062168493474,
                    0.025860338957353603,
                    0.02586652927057235,
                    0.026589454601929897,
                    0.0266050934117492,
                    0.027260792175627466,
                    0.027283723314447735,
                    0.02776939490283656,
                    0.027885776182266574,
                    0.027979046574751986,
                    0.02825420987837788,
                    0.028320111258613785,
                    0.028624682028542108,
                    0.028694371216320333,
                    0.028886139159477714,
                    0.02891858843076807,
                    0.028920161690574524,
                    0.028923823931836134,
                    0.028923823931836134,
                    0.028923823931836134,
                    0.028923823931836134,
                    0.028923823931836134,
                    0.028887922709335302,
                    0.028836915769451334,
                    0.02856611997122071,
                    0.028535592099290137,
                    0.028117422544279083,
                    0.02811428818154864,
                    0.027982376733059162,
                    0.027828134163673527,
                    0.0275278217708034,
                    0.02713806936120796,
                    0.026701162577931127,
                    0.02646083655799209,
                    0.025856347492000407,
                    0.025814132834995476,
                    0.0254643663121401,
                    0.02478470207295576,
                    0.024365146819421386,
                    0.023747444686629902,
                    0.023480004534271084,
                    0.02326934826361351,
                    0.022832067409077016,
                    0.022763661169827563,
                    0.02230042555172038,
                    0.021874598092418384,
                    0.021176735073118992,
                    0.0211057556059718,
                    0.021043958738754576,
                    0.020360623188438703,
                    0.02021628788669465,
                    0.019851153023264165,
                    0.019380377390443706,
                    0.019284330098307143,
                    0.019022269146378917,
                    0.018481685216243732,
                    0.018074453092499974,
                    0.017505121391336167,
                    0.016968912375157918,
                    0.016871909894942517,
                    0.016532949330431174,
                    0.015780831012767196,
                    0.015095272931875505,
                    0.014665028067785923,
                    0.014620141722770227,
                    0.013642824210804354,
                    0.013059440933473394,
                    0.012382544855206328,
                    0.011931592499633424,
                    0.011448273098218897,
                    0.010544120186100014,
                    0.008882564060695675,
                    0.008753184075221616,
                    0.006400955369579826,
                    0.006188702012856791,
                    0.0061528923643206146,
                    0.004151870838566362,
                    0.004088438080571294,
                    0.0028067130541150776,
                    0.00266290715550785,
                    0.0019526967072501227,
                    0.0016929546492820257,
                    0.0014642467537080456,
                    0.001199050206436961,
                    0.000985734846786781,
                    0.000728893762438192,
                    0.0004634871700955128,
                    0.0002764410590658306,
                    0.00020343349047335243,
                    0.00019808718736747847,
                    0.00019778197565549816,
                    0.00017152084234045437
                  ],
                  "yaxis": "y2"
                }
              ],
              "layout": {
                "annotations": [
                  {
                    "font": {
                      "size": 16
                    },
                    "showarrow": false,
                    "text": "Drift Score (Earth Mover's Distance)",
                    "x": 0.5,
                    "xanchor": "center",
                    "xref": "paper",
                    "y": 1.0000000000000002,
                    "yanchor": "bottom",
                    "yref": "paper"
                  },
                  {
                    "font": {
                      "size": 16
                    },
                    "showarrow": false,
                    "text": "Distribution Plot",
                    "x": 0.5,
                    "xanchor": "center",
                    "xref": "paper",
                    "y": 0.7200000000000001,
                    "yanchor": "bottom",
                    "yref": "paper"
                  }
                ],
                "bargroupgap": 0,
                "height": 400,
                "legend": {
                  "title": {
                    "text": "Dataset"
                  },
                  "y": 0.6,
                  "yanchor": "top"
                },
                "template": {
                  "data": {
                    "bar": [
                      {
                        "error_x": {
                          "color": "#2a3f5f"
                        },
                        "error_y": {
                          "color": "#2a3f5f"
                        },
                        "marker": {
                          "line": {
                            "color": "#E5ECF6",
                            "width": 0.5
                          },
                          "pattern": {
                            "fillmode": "overlay",
                            "size": 10,
                            "solidity": 0.2
                          }
                        },
                        "type": "bar"
                      }
                    ],
                    "barpolar": [
                      {
                        "marker": {
                          "line": {
                            "color": "#E5ECF6",
                            "width": 0.5
                          },
                          "pattern": {
                            "fillmode": "overlay",
                            "size": 10,
                            "solidity": 0.2
                          }
                        },
                        "type": "barpolar"
                      }
                    ],
                    "carpet": [
                      {
                        "aaxis": {
                          "endlinecolor": "#2a3f5f",
                          "gridcolor": "white",
                          "linecolor": "white",
                          "minorgridcolor": "white",
                          "startlinecolor": "#2a3f5f"
                        },
                        "baxis": {
                          "endlinecolor": "#2a3f5f",
                          "gridcolor": "white",
                          "linecolor": "white",
                          "minorgridcolor": "white",
                          "startlinecolor": "#2a3f5f"
                        },
                        "type": "carpet"
                      }
                    ],
                    "choropleth": [
                      {
                        "colorbar": {
                          "outlinewidth": 0,
                          "ticks": ""
                        },
                        "type": "choropleth"
                      }
                    ],
                    "contour": [
                      {
                        "colorbar": {
                          "outlinewidth": 0,
                          "ticks": ""
                        },
                        "colorscale": [
                          [
                            0,
                            "#0d0887"
                          ],
                          [
                            0.1111111111111111,
                            "#46039f"
                          ],
                          [
                            0.2222222222222222,
                            "#7201a8"
                          ],
                          [
                            0.3333333333333333,
                            "#9c179e"
                          ],
                          [
                            0.4444444444444444,
                            "#bd3786"
                          ],
                          [
                            0.5555555555555556,
                            "#d8576b"
                          ],
                          [
                            0.6666666666666666,
                            "#ed7953"
                          ],
                          [
                            0.7777777777777778,
                            "#fb9f3a"
                          ],
                          [
                            0.8888888888888888,
                            "#fdca26"
                          ],
                          [
                            1,
                            "#f0f921"
                          ]
                        ],
                        "type": "contour"
                      }
                    ],
                    "contourcarpet": [
                      {
                        "colorbar": {
                          "outlinewidth": 0,
                          "ticks": ""
                        },
                        "type": "contourcarpet"
                      }
                    ],
                    "heatmap": [
                      {
                        "colorbar": {
                          "outlinewidth": 0,
                          "ticks": ""
                        },
                        "colorscale": [
                          [
                            0,
                            "#0d0887"
                          ],
                          [
                            0.1111111111111111,
                            "#46039f"
                          ],
                          [
                            0.2222222222222222,
                            "#7201a8"
                          ],
                          [
                            0.3333333333333333,
                            "#9c179e"
                          ],
                          [
                            0.4444444444444444,
                            "#bd3786"
                          ],
                          [
                            0.5555555555555556,
                            "#d8576b"
                          ],
                          [
                            0.6666666666666666,
                            "#ed7953"
                          ],
                          [
                            0.7777777777777778,
                            "#fb9f3a"
                          ],
                          [
                            0.8888888888888888,
                            "#fdca26"
                          ],
                          [
                            1,
                            "#f0f921"
                          ]
                        ],
                        "type": "heatmap"
                      }
                    ],
                    "heatmapgl": [
                      {
                        "colorbar": {
                          "outlinewidth": 0,
                          "ticks": ""
                        },
                        "colorscale": [
                          [
                            0,
                            "#0d0887"
                          ],
                          [
                            0.1111111111111111,
                            "#46039f"
                          ],
                          [
                            0.2222222222222222,
                            "#7201a8"
                          ],
                          [
                            0.3333333333333333,
                            "#9c179e"
                          ],
                          [
                            0.4444444444444444,
                            "#bd3786"
                          ],
                          [
                            0.5555555555555556,
                            "#d8576b"
                          ],
                          [
                            0.6666666666666666,
                            "#ed7953"
                          ],
                          [
                            0.7777777777777778,
                            "#fb9f3a"
                          ],
                          [
                            0.8888888888888888,
                            "#fdca26"
                          ],
                          [
                            1,
                            "#f0f921"
                          ]
                        ],
                        "type": "heatmapgl"
                      }
                    ],
                    "histogram": [
                      {
                        "marker": {
                          "pattern": {
                            "fillmode": "overlay",
                            "size": 10,
                            "solidity": 0.2
                          }
                        },
                        "type": "histogram"
                      }
                    ],
                    "histogram2d": [
                      {
                        "colorbar": {
                          "outlinewidth": 0,
                          "ticks": ""
                        },
                        "colorscale": [
                          [
                            0,
                            "#0d0887"
                          ],
                          [
                            0.1111111111111111,
                            "#46039f"
                          ],
                          [
                            0.2222222222222222,
                            "#7201a8"
                          ],
                          [
                            0.3333333333333333,
                            "#9c179e"
                          ],
                          [
                            0.4444444444444444,
                            "#bd3786"
                          ],
                          [
                            0.5555555555555556,
                            "#d8576b"
                          ],
                          [
                            0.6666666666666666,
                            "#ed7953"
                          ],
                          [
                            0.7777777777777778,
                            "#fb9f3a"
                          ],
                          [
                            0.8888888888888888,
                            "#fdca26"
                          ],
                          [
                            1,
                            "#f0f921"
                          ]
                        ],
                        "type": "histogram2d"
                      }
                    ],
                    "histogram2dcontour": [
                      {
                        "colorbar": {
                          "outlinewidth": 0,
                          "ticks": ""
                        },
                        "colorscale": [
                          [
                            0,
                            "#0d0887"
                          ],
                          [
                            0.1111111111111111,
                            "#46039f"
                          ],
                          [
                            0.2222222222222222,
                            "#7201a8"
                          ],
                          [
                            0.3333333333333333,
                            "#9c179e"
                          ],
                          [
                            0.4444444444444444,
                            "#bd3786"
                          ],
                          [
                            0.5555555555555556,
                            "#d8576b"
                          ],
                          [
                            0.6666666666666666,
                            "#ed7953"
                          ],
                          [
                            0.7777777777777778,
                            "#fb9f3a"
                          ],
                          [
                            0.8888888888888888,
                            "#fdca26"
                          ],
                          [
                            1,
                            "#f0f921"
                          ]
                        ],
                        "type": "histogram2dcontour"
                      }
                    ],
                    "mesh3d": [
                      {
                        "colorbar": {
                          "outlinewidth": 0,
                          "ticks": ""
                        },
                        "type": "mesh3d"
                      }
                    ],
                    "parcoords": [
                      {
                        "line": {
                          "colorbar": {
                            "outlinewidth": 0,
                            "ticks": ""
                          }
                        },
                        "type": "parcoords"
                      }
                    ],
                    "pie": [
                      {
                        "automargin": true,
                        "type": "pie"
                      }
                    ],
                    "scatter": [
                      {
                        "marker": {
                          "colorbar": {
                            "outlinewidth": 0,
                            "ticks": ""
                          }
                        },
                        "type": "scatter"
                      }
                    ],
                    "scatter3d": [
                      {
                        "line": {
                          "colorbar": {
                            "outlinewidth": 0,
                            "ticks": ""
                          }
                        },
                        "marker": {
                          "colorbar": {
                            "outlinewidth": 0,
                            "ticks": ""
                          }
                        },
                        "type": "scatter3d"
                      }
                    ],
                    "scattercarpet": [
                      {
                        "marker": {
                          "colorbar": {
                            "outlinewidth": 0,
                            "ticks": ""
                          }
                        },
                        "type": "scattercarpet"
                      }
                    ],
                    "scattergeo": [
                      {
                        "marker": {
                          "colorbar": {
                            "outlinewidth": 0,
                            "ticks": ""
                          }
                        },
                        "type": "scattergeo"
                      }
                    ],
                    "scattergl": [
                      {
                        "marker": {
                          "colorbar": {
                            "outlinewidth": 0,
                            "ticks": ""
                          }
                        },
                        "type": "scattergl"
                      }
                    ],
                    "scattermapbox": [
                      {
                        "marker": {
                          "colorbar": {
                            "outlinewidth": 0,
                            "ticks": ""
                          }
                        },
                        "type": "scattermapbox"
                      }
                    ],
                    "scatterpolar": [
                      {
                        "marker": {
                          "colorbar": {
                            "outlinewidth": 0,
                            "ticks": ""
                          }
                        },
                        "type": "scatterpolar"
                      }
                    ],
                    "scatterpolargl": [
                      {
                        "marker": {
                          "colorbar": {
                            "outlinewidth": 0,
                            "ticks": ""
                          }
                        },
                        "type": "scatterpolargl"
                      }
                    ],
                    "scatterternary": [
                      {
                        "marker": {
                          "colorbar": {
                            "outlinewidth": 0,
                            "ticks": ""
                          }
                        },
                        "type": "scatterternary"
                      }
                    ],
                    "surface": [
                      {
                        "colorbar": {
                          "outlinewidth": 0,
                          "ticks": ""
                        },
                        "colorscale": [
                          [
                            0,
                            "#0d0887"
                          ],
                          [
                            0.1111111111111111,
                            "#46039f"
                          ],
                          [
                            0.2222222222222222,
                            "#7201a8"
                          ],
                          [
                            0.3333333333333333,
                            "#9c179e"
                          ],
                          [
                            0.4444444444444444,
                            "#bd3786"
                          ],
                          [
                            0.5555555555555556,
                            "#d8576b"
                          ],
                          [
                            0.6666666666666666,
                            "#ed7953"
                          ],
                          [
                            0.7777777777777778,
                            "#fb9f3a"
                          ],
                          [
                            0.8888888888888888,
                            "#fdca26"
                          ],
                          [
                            1,
                            "#f0f921"
                          ]
                        ],
                        "type": "surface"
                      }
                    ],
                    "table": [
                      {
                        "cells": {
                          "fill": {
                            "color": "#EBF0F8"
                          },
                          "line": {
                            "color": "white"
                          }
                        },
                        "header": {
                          "fill": {
                            "color": "#C8D4E3"
                          },
                          "line": {
                            "color": "white"
                          }
                        },
                        "type": "table"
                      }
                    ]
                  },
                  "layout": {
                    "annotationdefaults": {
                      "arrowcolor": "#2a3f5f",
                      "arrowhead": 0,
                      "arrowwidth": 1
                    },
                    "autotypenumbers": "strict",
                    "coloraxis": {
                      "colorbar": {
                        "outlinewidth": 0,
                        "ticks": ""
                      }
                    },
                    "colorscale": {
                      "diverging": [
                        [
                          0,
                          "#8e0152"
                        ],
                        [
                          0.1,
                          "#c51b7d"
                        ],
                        [
                          0.2,
                          "#de77ae"
                        ],
                        [
                          0.3,
                          "#f1b6da"
                        ],
                        [
                          0.4,
                          "#fde0ef"
                        ],
                        [
                          0.5,
                          "#f7f7f7"
                        ],
                        [
                          0.6,
                          "#e6f5d0"
                        ],
                        [
                          0.7,
                          "#b8e186"
                        ],
                        [
                          0.8,
                          "#7fbc41"
                        ],
                        [
                          0.9,
                          "#4d9221"
                        ],
                        [
                          1,
                          "#276419"
                        ]
                      ],
                      "sequential": [
                        [
                          0,
                          "#0d0887"
                        ],
                        [
                          0.1111111111111111,
                          "#46039f"
                        ],
                        [
                          0.2222222222222222,
                          "#7201a8"
                        ],
                        [
                          0.3333333333333333,
                          "#9c179e"
                        ],
                        [
                          0.4444444444444444,
                          "#bd3786"
                        ],
                        [
                          0.5555555555555556,
                          "#d8576b"
                        ],
                        [
                          0.6666666666666666,
                          "#ed7953"
                        ],
                        [
                          0.7777777777777778,
                          "#fb9f3a"
                        ],
                        [
                          0.8888888888888888,
                          "#fdca26"
                        ],
                        [
                          1,
                          "#f0f921"
                        ]
                      ],
                      "sequentialminus": [
                        [
                          0,
                          "#0d0887"
                        ],
                        [
                          0.1111111111111111,
                          "#46039f"
                        ],
                        [
                          0.2222222222222222,
                          "#7201a8"
                        ],
                        [
                          0.3333333333333333,
                          "#9c179e"
                        ],
                        [
                          0.4444444444444444,
                          "#bd3786"
                        ],
                        [
                          0.5555555555555556,
                          "#d8576b"
                        ],
                        [
                          0.6666666666666666,
                          "#ed7953"
                        ],
                        [
                          0.7777777777777778,
                          "#fb9f3a"
                        ],
                        [
                          0.8888888888888888,
                          "#fdca26"
                        ],
                        [
                          1,
                          "#f0f921"
                        ]
                      ]
                    },
                    "colorway": [
                      "#636efa",
                      "#EF553B",
                      "#00cc96",
                      "#ab63fa",
                      "#FFA15A",
                      "#19d3f3",
                      "#FF6692",
                      "#B6E880",
                      "#FF97FF",
                      "#FECB52"
                    ],
                    "font": {
                      "color": "#2a3f5f"
                    },
                    "geo": {
                      "bgcolor": "white",
                      "lakecolor": "white",
                      "landcolor": "#E5ECF6",
                      "showlakes": true,
                      "showland": true,
                      "subunitcolor": "white"
                    },
                    "hoverlabel": {
                      "align": "left"
                    },
                    "hovermode": "closest",
                    "mapbox": {
                      "style": "light"
                    },
                    "paper_bgcolor": "white",
                    "plot_bgcolor": "#E5ECF6",
                    "polar": {
                      "angularaxis": {
                        "gridcolor": "white",
                        "linecolor": "white",
                        "ticks": ""
                      },
                      "bgcolor": "#E5ECF6",
                      "radialaxis": {
                        "gridcolor": "white",
                        "linecolor": "white",
                        "ticks": ""
                      }
                    },
                    "scene": {
                      "xaxis": {
                        "backgroundcolor": "#E5ECF6",
                        "gridcolor": "white",
                        "gridwidth": 2,
                        "linecolor": "white",
                        "showbackground": true,
                        "ticks": "",
                        "zerolinecolor": "white"
                      },
                      "yaxis": {
                        "backgroundcolor": "#E5ECF6",
                        "gridcolor": "white",
                        "gridwidth": 2,
                        "linecolor": "white",
                        "showbackground": true,
                        "ticks": "",
                        "zerolinecolor": "white"
                      },
                      "zaxis": {
                        "backgroundcolor": "#E5ECF6",
                        "gridcolor": "white",
                        "gridwidth": 2,
                        "linecolor": "white",
                        "showbackground": true,
                        "ticks": "",
                        "zerolinecolor": "white"
                      }
                    },
                    "shapedefaults": {
                      "line": {
                        "color": "#2a3f5f"
                      }
                    },
                    "ternary": {
                      "aaxis": {
                        "gridcolor": "white",
                        "linecolor": "white",
                        "ticks": ""
                      },
                      "baxis": {
                        "gridcolor": "white",
                        "linecolor": "white",
                        "ticks": ""
                      },
                      "bgcolor": "#E5ECF6",
                      "caxis": {
                        "gridcolor": "white",
                        "linecolor": "white",
                        "ticks": ""
                      }
                    },
                    "title": {
                      "x": 0.05
                    },
                    "xaxis": {
                      "automargin": true,
                      "gridcolor": "white",
                      "linecolor": "white",
                      "ticks": "",
                      "title": {
                        "standoff": 15
                      },
                      "zerolinecolor": "white",
                      "zerolinewidth": 2
                    },
                    "yaxis": {
                      "automargin": true,
                      "gridcolor": "white",
                      "linecolor": "white",
                      "ticks": "",
                      "title": {
                        "standoff": 15
                      },
                      "zerolinecolor": "white",
                      "zerolinewidth": 2
                    }
                  }
                },
                "title": {
                  "text": "Trihalomethanes (#4 in FI)",
                  "x": 0.5,
                  "xanchor": "center"
                },
                "width": 700,
                "xaxis": {
                  "anchor": "y",
                  "domain": [
                    0,
                    1
                  ],
                  "dtick": 0.05,
                  "fixedrange": true,
                  "gridcolor": "black",
                  "linecolor": "black",
                  "range": [
                    0,
                    0.4
                  ],
                  "showgrid": false
                },
                "xaxis2": {
                  "anchor": "y2",
                  "domain": [
                    0,
                    1
                  ],
                  "fixedrange": false,
                  "range": [
                    32.2431821928482,
                    99.98693781076068
                  ],
                  "title": {
                    "text": "Trihalomethanes"
                  }
                },
                "yaxis": {
                  "anchor": "x",
                  "color": "black",
                  "domain": [
                    0.9200000000000002,
                    1
                  ],
                  "fixedrange": true,
                  "showgrid": false,
                  "showline": false,
                  "showticklabels": false,
                  "zeroline": false
                },
                "yaxis2": {
                  "anchor": "x2",
                  "domain": [
                    0,
                    0.7200000000000001
                  ],
                  "fixedrange": true,
                  "title": {
                    "text": "Probability Density"
                  }
                }
              }
            }
          },
          "metadata": {},
          "output_type": "display_data"
        },
        {
          "data": {
            "text/html": []
          },
          "metadata": {},
          "output_type": "display_data"
        },
        {
          "data": {
            "application/vnd.plotly.v1+json": {
              "config": {
                "plotlyServerURL": "https://plot.ly"
              },
              "data": [
                {
                  "base": 0,
                  "marker": {
                    "color": "#01B8AA"
                  },
                  "offsetgroup": "0",
                  "orientation": "h",
                  "showlegend": false,
                  "type": "bar",
                  "x": [
                    0.005023299602646218
                  ],
                  "xaxis": "x",
                  "y": [
                    "Drift Score"
                  ],
                  "yaxis": "y"
                },
                {
                  "fill": "tozeroy",
                  "line": {
                    "color": "#00008b"
                  },
                  "name": "Train Dataset",
                  "type": "scatter",
                  "x": [
                    47.432,
                    53.05836734693878,
                    58.68473469387755,
                    64.31110204081634,
                    69.9374693877551,
                    75.56383673469388,
                    81.19020408163266,
                    86.81657142857142,
                    92.44293877551021,
                    98.06930612244898,
                    103.69567346938776,
                    109.32204081632653,
                    114.94840816326531,
                    120.131846256513,
                    120.57477551020409,
                    125.35103255526852,
                    126.20114285714286,
                    131.82751020408165,
                    137.06641231238822,
                    137.4538775510204,
                    137.69487214666086,
                    143.08024489795918,
                    144.24188887065347,
                    145.8005405919925,
                    148.70661224489797,
                    149.20441520381465,
                    151.2786116744624,
                    154.33297959183673,
                    154.44570565078942,
                    155.43565757281337,
                    158.36849222619665,
                    159.17198581321702,
                    159.95934693877552,
                    162.10491443272255,
                    163.31098079835508,
                    164.67448132362284,
                    165.5857142857143,
                    165.80631406769592,
                    167.1023705677893,
                    168.89957603246404,
                    169.7295800791201,
                    170.99640867576986,
                    171.21208163265305,
                    173.04134961602404,
                    173.73536555646152,
                    175.46301631148168,
                    176.83844897959182,
                    177.17362137169962,
                    177.40156190805746,
                    178.44576880670516,
                    179.4537441533177,
                    180.29457605738403,
                    181.29342255284703,
                    181.97763354218105,
                    182.46481632653064,
                    182.88831248286553,
                    183.23876457682206,
                    184.63003321679903,
                    184.7515823703454,
                    185.7688121720894,
                    185.92269092126094,
                    187.17515364138987,
                    187.70811217675217,
                    188.0911836734694,
                    189.05434608625885,
                    189.38085990197112,
                    190.38578635768067,
                    191.12774813003603,
                    191.8502511191423,
                    192.2230154725936,
                    193.57140989391013,
                    193.71755102040817,
                    194.18052728299142,
                    195.2098676548448,
                    195.68793140691952,
                    196.90009840651132,
                    197.1042098290997,
                    197.82942743059306,
                    198.49532300741868,
                    199.07815085345638,
                    199.34391836734693,
                    199.641694041602,
                    200.37438390177925,
                    200.95315954782896,
                    202.0397631767789,
                    202.75101734969266,
                    203.40723808629713,
                    204.23447314515107,
                    204.9702857142857,
                    205.40336494621775,
                    205.54271134734364,
                    206.9891912154134,
                    207.50241839657176,
                    208.4005683322127,
                    209.15674056581008,
                    210.1529967384305,
                    210.59665306122452,
                    210.93151567086696,
                    211.42322803750469,
                    212.65177750507473,
                    212.91803093271312,
                    214.34882997518244,
                    214.57277931238593,
                    215.97154213723664,
                    216.22302040816328,
                    217.09942771735894,
                    217.98312826439846,
                    218.9183888604604,
                    220.1858640034968,
                    221.44102167405643,
                    221.84938775510204,
                    222.60300078896694,
                    223.82136690310705,
                    225.0603064331166,
                    225.67073355967077,
                    227.4757551020408,
                    227.55424752347997,
                    229.0503769335886,
                    230.04754979622078,
                    231.31828794527513,
                    233.10212244897957,
                    233.264407802573,
                    234.25590280482496,
                    236.83853051535954,
                    238.7284897959184,
                    239.1036549882872,
                    240.7648541989313,
                    243.59102231341586,
                    244.35485714285716,
                    245.83194288488713,
                    249.98122448979592,
                    251.4517875851822,
                    255.60759183673468,
                    256.2639400572256,
                    261.23395918367345,
                    262.4139752626737,
                    266.86032653061227,
                    271.49106541432155,
                    272.48669387755103,
                    278.1130612244898,
                    283.73942857142856,
                    289.3657959183673,
                    294.99216326530615,
                    300.6185306122449,
                    306.2448979591837,
                    311.8712653061225,
                    317.49763265306126,
                    323.124
                  ],
                  "xaxis": "x2",
                  "y": [
                    1.315040941644768e-7,
                    9.06158086062882e-7,
                    0.0000039173542874853455,
                    0.000010671814119960247,
                    0.00001881580124054601,
                    0.000024770541166346952,
                    0.000037481130067215654,
                    0.00007827507476253863,
                    0.00015543324351174065,
                    0.00025920091862860923,
                    0.000394885658903554,
                    0.0005832491703643486,
                    0.0008185627430142557,
                    0.0010552419656140312,
                    0.0010761942791010606,
                    0.001316284836232745,
                    0.0013630036251631658,
                    0.001725574926087039,
                    0.0021969432410364137,
                    0.0022390583147065156,
                    0.0022658321356826645,
                    0.0029890148254599525,
                    0.003176862082982207,
                    0.0034451172169583356,
                    0.003986120282289239,
                    0.004082828674008947,
                    0.004493205369652047,
                    0.005102873978150281,
                    0.005125173667255569,
                    0.005319743505759569,
                    0.00587875373100383,
                    0.006026778752617091,
                    0.006169801157007725,
                    0.00655156714642514,
                    0.006763524766811831,
                    0.007004148365712354,
                    0.00716725414554902,
                    0.007207172322002318,
                    0.007446293700109747,
                    0.0077951875707290156,
                    0.007964836194816926,
                    0.00823561001673809,
                    0.008283191827421932,
                    0.008704170523120714,
                    0.008871681257008572,
                    0.009304421982974752,
                    0.009660736539108452,
                    0.00974850676514703,
                    0.009808315097812409,
                    0.010082679976297337,
                    0.01034618679796488,
                    0.010563127267543467,
                    0.010815307034048196,
                    0.010983454043360406,
                    0.011100450974701283,
                    0.011200100211137303,
                    0.01128100948145593,
                    0.011586846658475248,
                    0.011612312461738005,
                    0.011816889821185204,
                    0.011846464389335528,
                    0.012073100105497168,
                    0.012161704814274405,
                    0.012222424216576315,
                    0.01236394831247993,
                    0.01240826465963766,
                    0.012532894606346075,
                    0.012613436193461386,
                    0.012682444566321102,
                    0.012714403366984118,
                    0.012809244733895211,
                    0.012817568125358116,
                    0.012841410918061421,
                    0.012880669354807193,
                    0.012892459431987108,
                    0.012904102981321351,
                    0.012903498960553587,
                    0.012895412619074387,
                    0.012879877659148069,
                    0.012859974211023882,
                    0.012848962845839574,
                    0.012835197310875774,
                    0.01279497175172739,
                    0.012756905248915292,
                    0.012670839589358359,
                    0.012604506497215721,
                    0.012536545534187683,
                    0.012441967488045274,
                    0.012349832668783303,
                    0.01229221719628945,
                    0.012273159685947414,
                    0.012061044532495154,
                    0.011979811067539259,
                    0.011830619936362845,
                    0.011698434781463951,
                    0.011515703291322652,
                    0.011431368752574675,
                    0.011366565037110712,
                    0.0112696791511692,
                    0.011019164607877201,
                    0.010963381728372003,
                    0.01065542739453907,
                    0.010606070179281762,
                    0.010291648221990544,
                    0.01023410504514602,
                    0.010031505468049158,
                    0.009824431089444148,
                    0.009602888927167316,
                    0.009299957266356698,
                    0.008998367860242096,
                    0.00890014258546268,
                    0.008718964805559518,
                    0.008426801045060998,
                    0.008131296805636325,
                    0.007986440890757443,
                    0.007561167793359662,
                    0.007542775163037086,
                    0.007193566273273043,
                    0.006961959305399902,
                    0.006667507662664956,
                    0.006254083079992467,
                    0.006216407313425758,
                    0.005985836533422078,
                    0.005381565276489466,
                    0.0049372483809047695,
                    0.004849165959522264,
                    0.004461493839415485,
                    0.0038228908089809636,
                    0.0036580759419324823,
                    0.0033526994537706523,
                    0.0026169796142744327,
                    0.002405757734547674,
                    0.0019431587796577457,
                    0.001885794058126415,
                    0.0015492003479297464,
                    0.00148856974095656,
                    0.0013054542282067308,
                    0.0011620397210264505,
                    0.0011324291887382177,
                    0.0009317497190327212,
                    0.0006565517067785057,
                    0.00038784598529687073,
                    0.00022300036637802885,
                    0.00016244964098669686,
                    0.00013983003588604145,
                    0.0001079512400480348,
                    0.00006656326759337458,
                    0.00003187620582704206
                  ],
                  "yaxis": "y2"
                },
                {
                  "fill": "tozeroy",
                  "line": {
                    "color": "#69b3a2"
                  },
                  "name": "Test Dataset",
                  "type": "scatter",
                  "x": [
                    47.432,
                    53.05836734693878,
                    58.68473469387755,
                    64.31110204081634,
                    69.9374693877551,
                    75.56383673469388,
                    81.19020408163266,
                    86.81657142857142,
                    92.44293877551021,
                    98.06930612244898,
                    103.69567346938776,
                    109.32204081632653,
                    114.94840816326531,
                    120.131846256513,
                    120.57477551020409,
                    125.35103255526852,
                    126.20114285714286,
                    131.82751020408165,
                    137.06641231238822,
                    137.4538775510204,
                    137.69487214666086,
                    143.08024489795918,
                    144.24188887065347,
                    145.8005405919925,
                    148.70661224489797,
                    149.20441520381465,
                    151.2786116744624,
                    154.33297959183673,
                    154.44570565078942,
                    155.43565757281337,
                    158.36849222619665,
                    159.17198581321702,
                    159.95934693877552,
                    162.10491443272255,
                    163.31098079835508,
                    164.67448132362284,
                    165.5857142857143,
                    165.80631406769592,
                    167.1023705677893,
                    168.89957603246404,
                    169.7295800791201,
                    170.99640867576986,
                    171.21208163265305,
                    173.04134961602404,
                    173.73536555646152,
                    175.46301631148168,
                    176.83844897959182,
                    177.17362137169962,
                    177.40156190805746,
                    178.44576880670516,
                    179.4537441533177,
                    180.29457605738403,
                    181.29342255284703,
                    181.97763354218105,
                    182.46481632653064,
                    182.88831248286553,
                    183.23876457682206,
                    184.63003321679903,
                    184.7515823703454,
                    185.7688121720894,
                    185.92269092126094,
                    187.17515364138987,
                    187.70811217675217,
                    188.0911836734694,
                    189.05434608625885,
                    189.38085990197112,
                    190.38578635768067,
                    191.12774813003603,
                    191.8502511191423,
                    192.2230154725936,
                    193.57140989391013,
                    193.71755102040817,
                    194.18052728299142,
                    195.2098676548448,
                    195.68793140691952,
                    196.90009840651132,
                    197.1042098290997,
                    197.82942743059306,
                    198.49532300741868,
                    199.07815085345638,
                    199.34391836734693,
                    199.641694041602,
                    200.37438390177925,
                    200.95315954782896,
                    202.0397631767789,
                    202.75101734969266,
                    203.40723808629713,
                    204.23447314515107,
                    204.9702857142857,
                    205.40336494621775,
                    205.54271134734364,
                    206.9891912154134,
                    207.50241839657176,
                    208.4005683322127,
                    209.15674056581008,
                    210.1529967384305,
                    210.59665306122452,
                    210.93151567086696,
                    211.42322803750469,
                    212.65177750507473,
                    212.91803093271312,
                    214.34882997518244,
                    214.57277931238593,
                    215.97154213723664,
                    216.22302040816328,
                    217.09942771735894,
                    217.98312826439846,
                    218.9183888604604,
                    220.1858640034968,
                    221.44102167405643,
                    221.84938775510204,
                    222.60300078896694,
                    223.82136690310705,
                    225.0603064331166,
                    225.67073355967077,
                    227.4757551020408,
                    227.55424752347997,
                    229.0503769335886,
                    230.04754979622078,
                    231.31828794527513,
                    233.10212244897957,
                    233.264407802573,
                    234.25590280482496,
                    236.83853051535954,
                    238.7284897959184,
                    239.1036549882872,
                    240.7648541989313,
                    243.59102231341586,
                    244.35485714285716,
                    245.83194288488713,
                    249.98122448979592,
                    251.4517875851822,
                    255.60759183673468,
                    256.2639400572256,
                    261.23395918367345,
                    262.4139752626737,
                    266.86032653061227,
                    271.49106541432155,
                    272.48669387755103,
                    278.1130612244898,
                    283.73942857142856,
                    289.3657959183673,
                    294.99216326530615,
                    300.6185306122449,
                    306.2448979591837,
                    311.8712653061225,
                    317.49763265306126,
                    323.124
                  ],
                  "xaxis": "x2",
                  "y": [
                    0.00005958830236344831,
                    0.00004781745690497474,
                    0.000028558812055563106,
                    0.000029713454879630892,
                    0.0000618033118265121,
                    0.000105553179998896,
                    0.00012821933761577158,
                    0.00013890150183564176,
                    0.0001936058722286205,
                    0.0003213065990598936,
                    0.0005010136972409948,
                    0.0006918712452918425,
                    0.0008454841815058491,
                    0.0009670602161806458,
                    0.0009795113912654772,
                    0.0011730547668815565,
                    0.0012224127464567278,
                    0.0016822971870225553,
                    0.0022800559999388353,
                    0.0023281934282319535,
                    0.0023583038641639144,
                    0.003049300553474838,
                    0.0031998809938424714,
                    0.003402036032855076,
                    0.003781454077484698,
                    0.003847258225268161,
                    0.004126506446118209,
                    0.004562097986170506,
                    0.004578940622074889,
                    0.0047296845463249615,
                    0.005210351859358166,
                    0.005352018083502855,
                    0.005495363412875734,
                    0.0059100550928049235,
                    0.00615968221786563,
                    0.006457486299885691,
                    0.006666412569212606,
                    0.006718248148328437,
                    0.007033182684133848,
                    0.007500986096757949,
                    0.007729773354088522,
                    0.008094523681511975,
                    0.008158445627437864,
                    0.00872008480248633,
                    0.008941112919959577,
                    0.00950406798571434,
                    0.009957574775619163,
                    0.010067729980589671,
                    0.01014241676582071,
                    0.010480927459520619,
                    0.01079919716848757,
                    0.011055691768512156,
                    0.011346969020119984,
                    0.011536735061869528,
                    0.011666531492961927,
                    0.011775562373269715,
                    0.011863023894053921,
                    0.012184518242735297,
                    0.012210608769626149,
                    0.012416214775045823,
                    0.01244533756544503,
                    0.012663301522709006,
                    0.012745960992024189,
                    0.012801764408762848,
                    0.012929160742496375,
                    0.012968285001267168,
                    0.013076355416335995,
                    0.013144654789591727,
                    0.013202182006129232,
                    0.013228491335464082,
                    0.013305003819499953,
                    0.01331156413632001,
                    0.013330126848907229,
                    0.01335929106778747,
                    0.01336711994380345,
                    0.013370433154905883,
                    0.013368620240765246,
                    0.013356540372128111,
                    0.01333758116354059,
                    0.01331469589165781,
                    0.013302286878156286,
                    0.013286903082781578,
                    0.013242340200420626,
                    0.013200344838607558,
                    0.013105226286867005,
                    0.013031488158518574,
                    0.012955479089790514,
                    0.012848929480556515,
                    0.012744331628270426,
                    0.012678561026633619,
                    0.012656749918865052,
                    0.012412404800330002,
                    0.012318217415420264,
                    0.012144668721420938,
                    0.01199055549410144,
                    0.011777472102010944,
                    0.011679270928658779,
                    0.011603924737410325,
                    0.011491518168008408,
                    0.011202699901264549,
                    0.011138830344408351,
                    0.01078980790045798,
                    0.010734486064071647,
                    0.01038645181123387,
                    0.01032359885661878,
                    0.010104382711087719,
                    0.00988357285296946,
                    0.00965069279882524,
                    0.009337014570191982,
                    0.009028668499031096,
                    0.008928759541315726,
                    0.008744747009274755,
                    0.008447630206670912,
                    0.00814475167373858,
                    0.007994797144431666,
                    0.007546758953012183,
                    0.00752708628695625,
                    0.00714871407010404,
                    0.006893000229384983,
                    0.006563735828997329,
                    0.006098270413809761,
                    0.006055938657780341,
                    0.005798186048332585,
                    0.00514356579652821,
                    0.004692983539431782,
                    0.004607462867374863,
                    0.0042469268149106405,
                    0.00370701386179225,
                    0.0035769098716391568,
                    0.0033426046624887764,
                    0.002776851912681894,
                    0.0025966065957166357,
                    0.002111693314425162,
                    0.002037730000468652,
                    0.0015180847105096132,
                    0.0014099929869948364,
                    0.0010708844934248858,
                    0.0008208004742306438,
                    0.0007767731906018719,
                    0.0005603802607841318,
                    0.0003696563550431855,
                    0.00020878053950860214,
                    0.00010499301145840581,
                    0.00006800739989593165,
                    0.00007098177091408665,
                    0.00007799113114521831,
                    0.00007852321318170136,
                    0.00007094066789674412
                  ],
                  "yaxis": "y2"
                }
              ],
              "layout": {
                "annotations": [
                  {
                    "font": {
                      "size": 16
                    },
                    "showarrow": false,
                    "text": "Drift Score (Earth Mover's Distance)",
                    "x": 0.5,
                    "xanchor": "center",
                    "xref": "paper",
                    "y": 1.0000000000000002,
                    "yanchor": "bottom",
                    "yref": "paper"
                  },
                  {
                    "font": {
                      "size": 16
                    },
                    "showarrow": false,
                    "text": "Distribution Plot",
                    "x": 0.5,
                    "xanchor": "center",
                    "xref": "paper",
                    "y": 0.7200000000000001,
                    "yanchor": "bottom",
                    "yref": "paper"
                  }
                ],
                "bargroupgap": 0,
                "height": 400,
                "legend": {
                  "title": {
                    "text": "Dataset"
                  },
                  "y": 0.6,
                  "yanchor": "top"
                },
                "template": {
                  "data": {
                    "bar": [
                      {
                        "error_x": {
                          "color": "#2a3f5f"
                        },
                        "error_y": {
                          "color": "#2a3f5f"
                        },
                        "marker": {
                          "line": {
                            "color": "#E5ECF6",
                            "width": 0.5
                          },
                          "pattern": {
                            "fillmode": "overlay",
                            "size": 10,
                            "solidity": 0.2
                          }
                        },
                        "type": "bar"
                      }
                    ],
                    "barpolar": [
                      {
                        "marker": {
                          "line": {
                            "color": "#E5ECF6",
                            "width": 0.5
                          },
                          "pattern": {
                            "fillmode": "overlay",
                            "size": 10,
                            "solidity": 0.2
                          }
                        },
                        "type": "barpolar"
                      }
                    ],
                    "carpet": [
                      {
                        "aaxis": {
                          "endlinecolor": "#2a3f5f",
                          "gridcolor": "white",
                          "linecolor": "white",
                          "minorgridcolor": "white",
                          "startlinecolor": "#2a3f5f"
                        },
                        "baxis": {
                          "endlinecolor": "#2a3f5f",
                          "gridcolor": "white",
                          "linecolor": "white",
                          "minorgridcolor": "white",
                          "startlinecolor": "#2a3f5f"
                        },
                        "type": "carpet"
                      }
                    ],
                    "choropleth": [
                      {
                        "colorbar": {
                          "outlinewidth": 0,
                          "ticks": ""
                        },
                        "type": "choropleth"
                      }
                    ],
                    "contour": [
                      {
                        "colorbar": {
                          "outlinewidth": 0,
                          "ticks": ""
                        },
                        "colorscale": [
                          [
                            0,
                            "#0d0887"
                          ],
                          [
                            0.1111111111111111,
                            "#46039f"
                          ],
                          [
                            0.2222222222222222,
                            "#7201a8"
                          ],
                          [
                            0.3333333333333333,
                            "#9c179e"
                          ],
                          [
                            0.4444444444444444,
                            "#bd3786"
                          ],
                          [
                            0.5555555555555556,
                            "#d8576b"
                          ],
                          [
                            0.6666666666666666,
                            "#ed7953"
                          ],
                          [
                            0.7777777777777778,
                            "#fb9f3a"
                          ],
                          [
                            0.8888888888888888,
                            "#fdca26"
                          ],
                          [
                            1,
                            "#f0f921"
                          ]
                        ],
                        "type": "contour"
                      }
                    ],
                    "contourcarpet": [
                      {
                        "colorbar": {
                          "outlinewidth": 0,
                          "ticks": ""
                        },
                        "type": "contourcarpet"
                      }
                    ],
                    "heatmap": [
                      {
                        "colorbar": {
                          "outlinewidth": 0,
                          "ticks": ""
                        },
                        "colorscale": [
                          [
                            0,
                            "#0d0887"
                          ],
                          [
                            0.1111111111111111,
                            "#46039f"
                          ],
                          [
                            0.2222222222222222,
                            "#7201a8"
                          ],
                          [
                            0.3333333333333333,
                            "#9c179e"
                          ],
                          [
                            0.4444444444444444,
                            "#bd3786"
                          ],
                          [
                            0.5555555555555556,
                            "#d8576b"
                          ],
                          [
                            0.6666666666666666,
                            "#ed7953"
                          ],
                          [
                            0.7777777777777778,
                            "#fb9f3a"
                          ],
                          [
                            0.8888888888888888,
                            "#fdca26"
                          ],
                          [
                            1,
                            "#f0f921"
                          ]
                        ],
                        "type": "heatmap"
                      }
                    ],
                    "heatmapgl": [
                      {
                        "colorbar": {
                          "outlinewidth": 0,
                          "ticks": ""
                        },
                        "colorscale": [
                          [
                            0,
                            "#0d0887"
                          ],
                          [
                            0.1111111111111111,
                            "#46039f"
                          ],
                          [
                            0.2222222222222222,
                            "#7201a8"
                          ],
                          [
                            0.3333333333333333,
                            "#9c179e"
                          ],
                          [
                            0.4444444444444444,
                            "#bd3786"
                          ],
                          [
                            0.5555555555555556,
                            "#d8576b"
                          ],
                          [
                            0.6666666666666666,
                            "#ed7953"
                          ],
                          [
                            0.7777777777777778,
                            "#fb9f3a"
                          ],
                          [
                            0.8888888888888888,
                            "#fdca26"
                          ],
                          [
                            1,
                            "#f0f921"
                          ]
                        ],
                        "type": "heatmapgl"
                      }
                    ],
                    "histogram": [
                      {
                        "marker": {
                          "pattern": {
                            "fillmode": "overlay",
                            "size": 10,
                            "solidity": 0.2
                          }
                        },
                        "type": "histogram"
                      }
                    ],
                    "histogram2d": [
                      {
                        "colorbar": {
                          "outlinewidth": 0,
                          "ticks": ""
                        },
                        "colorscale": [
                          [
                            0,
                            "#0d0887"
                          ],
                          [
                            0.1111111111111111,
                            "#46039f"
                          ],
                          [
                            0.2222222222222222,
                            "#7201a8"
                          ],
                          [
                            0.3333333333333333,
                            "#9c179e"
                          ],
                          [
                            0.4444444444444444,
                            "#bd3786"
                          ],
                          [
                            0.5555555555555556,
                            "#d8576b"
                          ],
                          [
                            0.6666666666666666,
                            "#ed7953"
                          ],
                          [
                            0.7777777777777778,
                            "#fb9f3a"
                          ],
                          [
                            0.8888888888888888,
                            "#fdca26"
                          ],
                          [
                            1,
                            "#f0f921"
                          ]
                        ],
                        "type": "histogram2d"
                      }
                    ],
                    "histogram2dcontour": [
                      {
                        "colorbar": {
                          "outlinewidth": 0,
                          "ticks": ""
                        },
                        "colorscale": [
                          [
                            0,
                            "#0d0887"
                          ],
                          [
                            0.1111111111111111,
                            "#46039f"
                          ],
                          [
                            0.2222222222222222,
                            "#7201a8"
                          ],
                          [
                            0.3333333333333333,
                            "#9c179e"
                          ],
                          [
                            0.4444444444444444,
                            "#bd3786"
                          ],
                          [
                            0.5555555555555556,
                            "#d8576b"
                          ],
                          [
                            0.6666666666666666,
                            "#ed7953"
                          ],
                          [
                            0.7777777777777778,
                            "#fb9f3a"
                          ],
                          [
                            0.8888888888888888,
                            "#fdca26"
                          ],
                          [
                            1,
                            "#f0f921"
                          ]
                        ],
                        "type": "histogram2dcontour"
                      }
                    ],
                    "mesh3d": [
                      {
                        "colorbar": {
                          "outlinewidth": 0,
                          "ticks": ""
                        },
                        "type": "mesh3d"
                      }
                    ],
                    "parcoords": [
                      {
                        "line": {
                          "colorbar": {
                            "outlinewidth": 0,
                            "ticks": ""
                          }
                        },
                        "type": "parcoords"
                      }
                    ],
                    "pie": [
                      {
                        "automargin": true,
                        "type": "pie"
                      }
                    ],
                    "scatter": [
                      {
                        "marker": {
                          "colorbar": {
                            "outlinewidth": 0,
                            "ticks": ""
                          }
                        },
                        "type": "scatter"
                      }
                    ],
                    "scatter3d": [
                      {
                        "line": {
                          "colorbar": {
                            "outlinewidth": 0,
                            "ticks": ""
                          }
                        },
                        "marker": {
                          "colorbar": {
                            "outlinewidth": 0,
                            "ticks": ""
                          }
                        },
                        "type": "scatter3d"
                      }
                    ],
                    "scattercarpet": [
                      {
                        "marker": {
                          "colorbar": {
                            "outlinewidth": 0,
                            "ticks": ""
                          }
                        },
                        "type": "scattercarpet"
                      }
                    ],
                    "scattergeo": [
                      {
                        "marker": {
                          "colorbar": {
                            "outlinewidth": 0,
                            "ticks": ""
                          }
                        },
                        "type": "scattergeo"
                      }
                    ],
                    "scattergl": [
                      {
                        "marker": {
                          "colorbar": {
                            "outlinewidth": 0,
                            "ticks": ""
                          }
                        },
                        "type": "scattergl"
                      }
                    ],
                    "scattermapbox": [
                      {
                        "marker": {
                          "colorbar": {
                            "outlinewidth": 0,
                            "ticks": ""
                          }
                        },
                        "type": "scattermapbox"
                      }
                    ],
                    "scatterpolar": [
                      {
                        "marker": {
                          "colorbar": {
                            "outlinewidth": 0,
                            "ticks": ""
                          }
                        },
                        "type": "scatterpolar"
                      }
                    ],
                    "scatterpolargl": [
                      {
                        "marker": {
                          "colorbar": {
                            "outlinewidth": 0,
                            "ticks": ""
                          }
                        },
                        "type": "scatterpolargl"
                      }
                    ],
                    "scatterternary": [
                      {
                        "marker": {
                          "colorbar": {
                            "outlinewidth": 0,
                            "ticks": ""
                          }
                        },
                        "type": "scatterternary"
                      }
                    ],
                    "surface": [
                      {
                        "colorbar": {
                          "outlinewidth": 0,
                          "ticks": ""
                        },
                        "colorscale": [
                          [
                            0,
                            "#0d0887"
                          ],
                          [
                            0.1111111111111111,
                            "#46039f"
                          ],
                          [
                            0.2222222222222222,
                            "#7201a8"
                          ],
                          [
                            0.3333333333333333,
                            "#9c179e"
                          ],
                          [
                            0.4444444444444444,
                            "#bd3786"
                          ],
                          [
                            0.5555555555555556,
                            "#d8576b"
                          ],
                          [
                            0.6666666666666666,
                            "#ed7953"
                          ],
                          [
                            0.7777777777777778,
                            "#fb9f3a"
                          ],
                          [
                            0.8888888888888888,
                            "#fdca26"
                          ],
                          [
                            1,
                            "#f0f921"
                          ]
                        ],
                        "type": "surface"
                      }
                    ],
                    "table": [
                      {
                        "cells": {
                          "fill": {
                            "color": "#EBF0F8"
                          },
                          "line": {
                            "color": "white"
                          }
                        },
                        "header": {
                          "fill": {
                            "color": "#C8D4E3"
                          },
                          "line": {
                            "color": "white"
                          }
                        },
                        "type": "table"
                      }
                    ]
                  },
                  "layout": {
                    "annotationdefaults": {
                      "arrowcolor": "#2a3f5f",
                      "arrowhead": 0,
                      "arrowwidth": 1
                    },
                    "autotypenumbers": "strict",
                    "coloraxis": {
                      "colorbar": {
                        "outlinewidth": 0,
                        "ticks": ""
                      }
                    },
                    "colorscale": {
                      "diverging": [
                        [
                          0,
                          "#8e0152"
                        ],
                        [
                          0.1,
                          "#c51b7d"
                        ],
                        [
                          0.2,
                          "#de77ae"
                        ],
                        [
                          0.3,
                          "#f1b6da"
                        ],
                        [
                          0.4,
                          "#fde0ef"
                        ],
                        [
                          0.5,
                          "#f7f7f7"
                        ],
                        [
                          0.6,
                          "#e6f5d0"
                        ],
                        [
                          0.7,
                          "#b8e186"
                        ],
                        [
                          0.8,
                          "#7fbc41"
                        ],
                        [
                          0.9,
                          "#4d9221"
                        ],
                        [
                          1,
                          "#276419"
                        ]
                      ],
                      "sequential": [
                        [
                          0,
                          "#0d0887"
                        ],
                        [
                          0.1111111111111111,
                          "#46039f"
                        ],
                        [
                          0.2222222222222222,
                          "#7201a8"
                        ],
                        [
                          0.3333333333333333,
                          "#9c179e"
                        ],
                        [
                          0.4444444444444444,
                          "#bd3786"
                        ],
                        [
                          0.5555555555555556,
                          "#d8576b"
                        ],
                        [
                          0.6666666666666666,
                          "#ed7953"
                        ],
                        [
                          0.7777777777777778,
                          "#fb9f3a"
                        ],
                        [
                          0.8888888888888888,
                          "#fdca26"
                        ],
                        [
                          1,
                          "#f0f921"
                        ]
                      ],
                      "sequentialminus": [
                        [
                          0,
                          "#0d0887"
                        ],
                        [
                          0.1111111111111111,
                          "#46039f"
                        ],
                        [
                          0.2222222222222222,
                          "#7201a8"
                        ],
                        [
                          0.3333333333333333,
                          "#9c179e"
                        ],
                        [
                          0.4444444444444444,
                          "#bd3786"
                        ],
                        [
                          0.5555555555555556,
                          "#d8576b"
                        ],
                        [
                          0.6666666666666666,
                          "#ed7953"
                        ],
                        [
                          0.7777777777777778,
                          "#fb9f3a"
                        ],
                        [
                          0.8888888888888888,
                          "#fdca26"
                        ],
                        [
                          1,
                          "#f0f921"
                        ]
                      ]
                    },
                    "colorway": [
                      "#636efa",
                      "#EF553B",
                      "#00cc96",
                      "#ab63fa",
                      "#FFA15A",
                      "#19d3f3",
                      "#FF6692",
                      "#B6E880",
                      "#FF97FF",
                      "#FECB52"
                    ],
                    "font": {
                      "color": "#2a3f5f"
                    },
                    "geo": {
                      "bgcolor": "white",
                      "lakecolor": "white",
                      "landcolor": "#E5ECF6",
                      "showlakes": true,
                      "showland": true,
                      "subunitcolor": "white"
                    },
                    "hoverlabel": {
                      "align": "left"
                    },
                    "hovermode": "closest",
                    "mapbox": {
                      "style": "light"
                    },
                    "paper_bgcolor": "white",
                    "plot_bgcolor": "#E5ECF6",
                    "polar": {
                      "angularaxis": {
                        "gridcolor": "white",
                        "linecolor": "white",
                        "ticks": ""
                      },
                      "bgcolor": "#E5ECF6",
                      "radialaxis": {
                        "gridcolor": "white",
                        "linecolor": "white",
                        "ticks": ""
                      }
                    },
                    "scene": {
                      "xaxis": {
                        "backgroundcolor": "#E5ECF6",
                        "gridcolor": "white",
                        "gridwidth": 2,
                        "linecolor": "white",
                        "showbackground": true,
                        "ticks": "",
                        "zerolinecolor": "white"
                      },
                      "yaxis": {
                        "backgroundcolor": "#E5ECF6",
                        "gridcolor": "white",
                        "gridwidth": 2,
                        "linecolor": "white",
                        "showbackground": true,
                        "ticks": "",
                        "zerolinecolor": "white"
                      },
                      "zaxis": {
                        "backgroundcolor": "#E5ECF6",
                        "gridcolor": "white",
                        "gridwidth": 2,
                        "linecolor": "white",
                        "showbackground": true,
                        "ticks": "",
                        "zerolinecolor": "white"
                      }
                    },
                    "shapedefaults": {
                      "line": {
                        "color": "#2a3f5f"
                      }
                    },
                    "ternary": {
                      "aaxis": {
                        "gridcolor": "white",
                        "linecolor": "white",
                        "ticks": ""
                      },
                      "baxis": {
                        "gridcolor": "white",
                        "linecolor": "white",
                        "ticks": ""
                      },
                      "bgcolor": "#E5ECF6",
                      "caxis": {
                        "gridcolor": "white",
                        "linecolor": "white",
                        "ticks": ""
                      }
                    },
                    "title": {
                      "x": 0.05
                    },
                    "xaxis": {
                      "automargin": true,
                      "gridcolor": "white",
                      "linecolor": "white",
                      "ticks": "",
                      "title": {
                        "standoff": 15
                      },
                      "zerolinecolor": "white",
                      "zerolinewidth": 2
                    },
                    "yaxis": {
                      "automargin": true,
                      "gridcolor": "white",
                      "linecolor": "white",
                      "ticks": "",
                      "title": {
                        "standoff": 15
                      },
                      "zerolinecolor": "white",
                      "zerolinewidth": 2
                    }
                  }
                },
                "title": {
                  "text": "Hardness (#5 in FI)",
                  "x": 0.5,
                  "xanchor": "center"
                },
                "width": 700,
                "xaxis": {
                  "anchor": "y",
                  "domain": [
                    0,
                    1
                  ],
                  "dtick": 0.05,
                  "fixedrange": true,
                  "gridcolor": "black",
                  "linecolor": "black",
                  "range": [
                    0,
                    0.4
                  ],
                  "showgrid": false
                },
                "xaxis2": {
                  "anchor": "y2",
                  "domain": [
                    0,
                    1
                  ],
                  "fixedrange": false,
                  "range": [
                    120.131846256513,
                    271.49106541432155
                  ],
                  "title": {
                    "text": "Hardness"
                  }
                },
                "yaxis": {
                  "anchor": "x",
                  "color": "black",
                  "domain": [
                    0.9200000000000002,
                    1
                  ],
                  "fixedrange": true,
                  "showgrid": false,
                  "showline": false,
                  "showticklabels": false,
                  "zeroline": false
                },
                "yaxis2": {
                  "anchor": "x2",
                  "domain": [
                    0,
                    0.7200000000000001
                  ],
                  "fixedrange": true,
                  "title": {
                    "text": "Probability Density"
                  }
                }
              }
            }
          },
          "metadata": {},
          "output_type": "display_data"
        },
        {
          "data": {
            "text/html": [
              "<br><a href=\"#summary_Y10XZ\" style=\"font-size: 14px\">Go to top</a>"
            ]
          },
          "metadata": {},
          "output_type": "display_data"
        },
        {
          "data": {
            "text/html": [
              "<hr style=\"background-color: #eee;border: 0 none;color: #eee;height: 4px;\">"
            ]
          },
          "metadata": {},
          "output_type": "display_data"
        },
        {
          "data": {
            "text/html": [
              "<h4 id=\"TrainTestLabelDrift_Y10XZ\">Train Test Label Drift</h4><p>    Calculate label drift between train dataset and test dataset, using statistical measures. <a href=\"https://docs.deepchecks.com/0.6.1/examples/tabular/checks/distribution/examples/plot_train_test_label_drift.html?utm_source=display_output&utm_medium=referral&utm_campaign=check_link\" target=\"_blank\">Read More...</a></p><h5>Conditions Summary</h5><style type=\"text/css\">\n",
              "#T_7d05d table {\n",
              "  text-align: left;\n",
              "  white-space: pre-wrap;\n",
              "}\n",
              "#T_7d05d thead {\n",
              "  text-align: left;\n",
              "  white-space: pre-wrap;\n",
              "}\n",
              "#T_7d05d tbody {\n",
              "  text-align: left;\n",
              "  white-space: pre-wrap;\n",
              "}\n",
              "#T_7d05d th {\n",
              "  text-align: left;\n",
              "  white-space: pre-wrap;\n",
              "}\n",
              "#T_7d05d td {\n",
              "  text-align: left;\n",
              "  white-space: pre-wrap;\n",
              "}\n",
              "</style>\n",
              "<table id=\"T_7d05d\">\n",
              "  <thead>\n",
              "    <tr>\n",
              "      <th id=\"T_7d05d_level0_col0\" class=\"col_heading level0 col0\" >Status</th>\n",
              "      <th id=\"T_7d05d_level0_col1\" class=\"col_heading level0 col1\" >Condition</th>\n",
              "      <th id=\"T_7d05d_level0_col2\" class=\"col_heading level0 col2\" >More Info</th>\n",
              "    </tr>\n",
              "  </thead>\n",
              "  <tbody>\n",
              "    <tr>\n",
              "      <td id=\"T_7d05d_row0_col0\" class=\"data row0 col0\" ><div style=\"color: green;text-align: center\">✓</div></td>\n",
              "      <td id=\"T_7d05d_row0_col1\" class=\"data row0 col1\" >PSI <= 0.2 and Earth Mover's Distance <= 0.1 for label drift</td>\n",
              "      <td id=\"T_7d05d_row0_col2\" class=\"data row0 col2\" ></td>\n",
              "    </tr>\n",
              "  </tbody>\n",
              "</table>\n",
              "<h5>Additional Outputs</h5><div><span>\n",
              "            The Drift score is a measure for the difference between two distributions, in this check - the test\n",
              "            and train distributions.<br> The check shows the drift score and distributions for the label.\n",
              "        </span></div>"
            ]
          },
          "metadata": {},
          "output_type": "display_data"
        },
        {
          "data": {
            "application/vnd.plotly.v1+json": {
              "config": {
                "plotlyServerURL": "https://plot.ly"
              },
              "data": [
                {
                  "base": 0,
                  "marker": {
                    "color": "#01B8AA"
                  },
                  "offsetgroup": "0",
                  "orientation": "h",
                  "showlegend": false,
                  "type": "bar",
                  "x": [
                    0.0000027843876060161124
                  ],
                  "xaxis": "x",
                  "y": [
                    "Drift Score"
                  ],
                  "yaxis": "y"
                },
                {
                  "marker": {
                    "color": "#00008b"
                  },
                  "name": "Train Dataset",
                  "type": "bar",
                  "x": [
                    0,
                    1
                  ],
                  "xaxis": "x2",
                  "y": [
                    0.6100936100936101,
                    0.3899063899063899
                  ],
                  "yaxis": "y2"
                },
                {
                  "marker": {
                    "color": "#69b3a2"
                  },
                  "name": "Test Dataset",
                  "type": "bar",
                  "x": [
                    0,
                    1
                  ],
                  "xaxis": "x2",
                  "y": [
                    0.6092796092796092,
                    0.3907203907203907
                  ],
                  "yaxis": "y2"
                }
              ],
              "layout": {
                "annotations": [
                  {
                    "font": {
                      "size": 16
                    },
                    "showarrow": false,
                    "text": "Drift Score (PSI)",
                    "x": 0.5,
                    "xanchor": "center",
                    "xref": "paper",
                    "y": 1.0000000000000002,
                    "yanchor": "bottom",
                    "yref": "paper"
                  },
                  {
                    "font": {
                      "size": 16
                    },
                    "showarrow": false,
                    "text": "Distribution Plot",
                    "x": 0.5,
                    "xanchor": "center",
                    "xref": "paper",
                    "y": 0.7200000000000001,
                    "yanchor": "bottom",
                    "yref": "paper"
                  }
                ],
                "bargroupgap": 0,
                "height": 400,
                "legend": {
                  "title": {
                    "text": "Dataset"
                  },
                  "y": 0.6,
                  "yanchor": "top"
                },
                "template": {
                  "data": {
                    "bar": [
                      {
                        "error_x": {
                          "color": "#2a3f5f"
                        },
                        "error_y": {
                          "color": "#2a3f5f"
                        },
                        "marker": {
                          "line": {
                            "color": "#E5ECF6",
                            "width": 0.5
                          },
                          "pattern": {
                            "fillmode": "overlay",
                            "size": 10,
                            "solidity": 0.2
                          }
                        },
                        "type": "bar"
                      }
                    ],
                    "barpolar": [
                      {
                        "marker": {
                          "line": {
                            "color": "#E5ECF6",
                            "width": 0.5
                          },
                          "pattern": {
                            "fillmode": "overlay",
                            "size": 10,
                            "solidity": 0.2
                          }
                        },
                        "type": "barpolar"
                      }
                    ],
                    "carpet": [
                      {
                        "aaxis": {
                          "endlinecolor": "#2a3f5f",
                          "gridcolor": "white",
                          "linecolor": "white",
                          "minorgridcolor": "white",
                          "startlinecolor": "#2a3f5f"
                        },
                        "baxis": {
                          "endlinecolor": "#2a3f5f",
                          "gridcolor": "white",
                          "linecolor": "white",
                          "minorgridcolor": "white",
                          "startlinecolor": "#2a3f5f"
                        },
                        "type": "carpet"
                      }
                    ],
                    "choropleth": [
                      {
                        "colorbar": {
                          "outlinewidth": 0,
                          "ticks": ""
                        },
                        "type": "choropleth"
                      }
                    ],
                    "contour": [
                      {
                        "colorbar": {
                          "outlinewidth": 0,
                          "ticks": ""
                        },
                        "colorscale": [
                          [
                            0,
                            "#0d0887"
                          ],
                          [
                            0.1111111111111111,
                            "#46039f"
                          ],
                          [
                            0.2222222222222222,
                            "#7201a8"
                          ],
                          [
                            0.3333333333333333,
                            "#9c179e"
                          ],
                          [
                            0.4444444444444444,
                            "#bd3786"
                          ],
                          [
                            0.5555555555555556,
                            "#d8576b"
                          ],
                          [
                            0.6666666666666666,
                            "#ed7953"
                          ],
                          [
                            0.7777777777777778,
                            "#fb9f3a"
                          ],
                          [
                            0.8888888888888888,
                            "#fdca26"
                          ],
                          [
                            1,
                            "#f0f921"
                          ]
                        ],
                        "type": "contour"
                      }
                    ],
                    "contourcarpet": [
                      {
                        "colorbar": {
                          "outlinewidth": 0,
                          "ticks": ""
                        },
                        "type": "contourcarpet"
                      }
                    ],
                    "heatmap": [
                      {
                        "colorbar": {
                          "outlinewidth": 0,
                          "ticks": ""
                        },
                        "colorscale": [
                          [
                            0,
                            "#0d0887"
                          ],
                          [
                            0.1111111111111111,
                            "#46039f"
                          ],
                          [
                            0.2222222222222222,
                            "#7201a8"
                          ],
                          [
                            0.3333333333333333,
                            "#9c179e"
                          ],
                          [
                            0.4444444444444444,
                            "#bd3786"
                          ],
                          [
                            0.5555555555555556,
                            "#d8576b"
                          ],
                          [
                            0.6666666666666666,
                            "#ed7953"
                          ],
                          [
                            0.7777777777777778,
                            "#fb9f3a"
                          ],
                          [
                            0.8888888888888888,
                            "#fdca26"
                          ],
                          [
                            1,
                            "#f0f921"
                          ]
                        ],
                        "type": "heatmap"
                      }
                    ],
                    "heatmapgl": [
                      {
                        "colorbar": {
                          "outlinewidth": 0,
                          "ticks": ""
                        },
                        "colorscale": [
                          [
                            0,
                            "#0d0887"
                          ],
                          [
                            0.1111111111111111,
                            "#46039f"
                          ],
                          [
                            0.2222222222222222,
                            "#7201a8"
                          ],
                          [
                            0.3333333333333333,
                            "#9c179e"
                          ],
                          [
                            0.4444444444444444,
                            "#bd3786"
                          ],
                          [
                            0.5555555555555556,
                            "#d8576b"
                          ],
                          [
                            0.6666666666666666,
                            "#ed7953"
                          ],
                          [
                            0.7777777777777778,
                            "#fb9f3a"
                          ],
                          [
                            0.8888888888888888,
                            "#fdca26"
                          ],
                          [
                            1,
                            "#f0f921"
                          ]
                        ],
                        "type": "heatmapgl"
                      }
                    ],
                    "histogram": [
                      {
                        "marker": {
                          "pattern": {
                            "fillmode": "overlay",
                            "size": 10,
                            "solidity": 0.2
                          }
                        },
                        "type": "histogram"
                      }
                    ],
                    "histogram2d": [
                      {
                        "colorbar": {
                          "outlinewidth": 0,
                          "ticks": ""
                        },
                        "colorscale": [
                          [
                            0,
                            "#0d0887"
                          ],
                          [
                            0.1111111111111111,
                            "#46039f"
                          ],
                          [
                            0.2222222222222222,
                            "#7201a8"
                          ],
                          [
                            0.3333333333333333,
                            "#9c179e"
                          ],
                          [
                            0.4444444444444444,
                            "#bd3786"
                          ],
                          [
                            0.5555555555555556,
                            "#d8576b"
                          ],
                          [
                            0.6666666666666666,
                            "#ed7953"
                          ],
                          [
                            0.7777777777777778,
                            "#fb9f3a"
                          ],
                          [
                            0.8888888888888888,
                            "#fdca26"
                          ],
                          [
                            1,
                            "#f0f921"
                          ]
                        ],
                        "type": "histogram2d"
                      }
                    ],
                    "histogram2dcontour": [
                      {
                        "colorbar": {
                          "outlinewidth": 0,
                          "ticks": ""
                        },
                        "colorscale": [
                          [
                            0,
                            "#0d0887"
                          ],
                          [
                            0.1111111111111111,
                            "#46039f"
                          ],
                          [
                            0.2222222222222222,
                            "#7201a8"
                          ],
                          [
                            0.3333333333333333,
                            "#9c179e"
                          ],
                          [
                            0.4444444444444444,
                            "#bd3786"
                          ],
                          [
                            0.5555555555555556,
                            "#d8576b"
                          ],
                          [
                            0.6666666666666666,
                            "#ed7953"
                          ],
                          [
                            0.7777777777777778,
                            "#fb9f3a"
                          ],
                          [
                            0.8888888888888888,
                            "#fdca26"
                          ],
                          [
                            1,
                            "#f0f921"
                          ]
                        ],
                        "type": "histogram2dcontour"
                      }
                    ],
                    "mesh3d": [
                      {
                        "colorbar": {
                          "outlinewidth": 0,
                          "ticks": ""
                        },
                        "type": "mesh3d"
                      }
                    ],
                    "parcoords": [
                      {
                        "line": {
                          "colorbar": {
                            "outlinewidth": 0,
                            "ticks": ""
                          }
                        },
                        "type": "parcoords"
                      }
                    ],
                    "pie": [
                      {
                        "automargin": true,
                        "type": "pie"
                      }
                    ],
                    "scatter": [
                      {
                        "marker": {
                          "colorbar": {
                            "outlinewidth": 0,
                            "ticks": ""
                          }
                        },
                        "type": "scatter"
                      }
                    ],
                    "scatter3d": [
                      {
                        "line": {
                          "colorbar": {
                            "outlinewidth": 0,
                            "ticks": ""
                          }
                        },
                        "marker": {
                          "colorbar": {
                            "outlinewidth": 0,
                            "ticks": ""
                          }
                        },
                        "type": "scatter3d"
                      }
                    ],
                    "scattercarpet": [
                      {
                        "marker": {
                          "colorbar": {
                            "outlinewidth": 0,
                            "ticks": ""
                          }
                        },
                        "type": "scattercarpet"
                      }
                    ],
                    "scattergeo": [
                      {
                        "marker": {
                          "colorbar": {
                            "outlinewidth": 0,
                            "ticks": ""
                          }
                        },
                        "type": "scattergeo"
                      }
                    ],
                    "scattergl": [
                      {
                        "marker": {
                          "colorbar": {
                            "outlinewidth": 0,
                            "ticks": ""
                          }
                        },
                        "type": "scattergl"
                      }
                    ],
                    "scattermapbox": [
                      {
                        "marker": {
                          "colorbar": {
                            "outlinewidth": 0,
                            "ticks": ""
                          }
                        },
                        "type": "scattermapbox"
                      }
                    ],
                    "scatterpolar": [
                      {
                        "marker": {
                          "colorbar": {
                            "outlinewidth": 0,
                            "ticks": ""
                          }
                        },
                        "type": "scatterpolar"
                      }
                    ],
                    "scatterpolargl": [
                      {
                        "marker": {
                          "colorbar": {
                            "outlinewidth": 0,
                            "ticks": ""
                          }
                        },
                        "type": "scatterpolargl"
                      }
                    ],
                    "scatterternary": [
                      {
                        "marker": {
                          "colorbar": {
                            "outlinewidth": 0,
                            "ticks": ""
                          }
                        },
                        "type": "scatterternary"
                      }
                    ],
                    "surface": [
                      {
                        "colorbar": {
                          "outlinewidth": 0,
                          "ticks": ""
                        },
                        "colorscale": [
                          [
                            0,
                            "#0d0887"
                          ],
                          [
                            0.1111111111111111,
                            "#46039f"
                          ],
                          [
                            0.2222222222222222,
                            "#7201a8"
                          ],
                          [
                            0.3333333333333333,
                            "#9c179e"
                          ],
                          [
                            0.4444444444444444,
                            "#bd3786"
                          ],
                          [
                            0.5555555555555556,
                            "#d8576b"
                          ],
                          [
                            0.6666666666666666,
                            "#ed7953"
                          ],
                          [
                            0.7777777777777778,
                            "#fb9f3a"
                          ],
                          [
                            0.8888888888888888,
                            "#fdca26"
                          ],
                          [
                            1,
                            "#f0f921"
                          ]
                        ],
                        "type": "surface"
                      }
                    ],
                    "table": [
                      {
                        "cells": {
                          "fill": {
                            "color": "#EBF0F8"
                          },
                          "line": {
                            "color": "white"
                          }
                        },
                        "header": {
                          "fill": {
                            "color": "#C8D4E3"
                          },
                          "line": {
                            "color": "white"
                          }
                        },
                        "type": "table"
                      }
                    ]
                  },
                  "layout": {
                    "annotationdefaults": {
                      "arrowcolor": "#2a3f5f",
                      "arrowhead": 0,
                      "arrowwidth": 1
                    },
                    "autotypenumbers": "strict",
                    "coloraxis": {
                      "colorbar": {
                        "outlinewidth": 0,
                        "ticks": ""
                      }
                    },
                    "colorscale": {
                      "diverging": [
                        [
                          0,
                          "#8e0152"
                        ],
                        [
                          0.1,
                          "#c51b7d"
                        ],
                        [
                          0.2,
                          "#de77ae"
                        ],
                        [
                          0.3,
                          "#f1b6da"
                        ],
                        [
                          0.4,
                          "#fde0ef"
                        ],
                        [
                          0.5,
                          "#f7f7f7"
                        ],
                        [
                          0.6,
                          "#e6f5d0"
                        ],
                        [
                          0.7,
                          "#b8e186"
                        ],
                        [
                          0.8,
                          "#7fbc41"
                        ],
                        [
                          0.9,
                          "#4d9221"
                        ],
                        [
                          1,
                          "#276419"
                        ]
                      ],
                      "sequential": [
                        [
                          0,
                          "#0d0887"
                        ],
                        [
                          0.1111111111111111,
                          "#46039f"
                        ],
                        [
                          0.2222222222222222,
                          "#7201a8"
                        ],
                        [
                          0.3333333333333333,
                          "#9c179e"
                        ],
                        [
                          0.4444444444444444,
                          "#bd3786"
                        ],
                        [
                          0.5555555555555556,
                          "#d8576b"
                        ],
                        [
                          0.6666666666666666,
                          "#ed7953"
                        ],
                        [
                          0.7777777777777778,
                          "#fb9f3a"
                        ],
                        [
                          0.8888888888888888,
                          "#fdca26"
                        ],
                        [
                          1,
                          "#f0f921"
                        ]
                      ],
                      "sequentialminus": [
                        [
                          0,
                          "#0d0887"
                        ],
                        [
                          0.1111111111111111,
                          "#46039f"
                        ],
                        [
                          0.2222222222222222,
                          "#7201a8"
                        ],
                        [
                          0.3333333333333333,
                          "#9c179e"
                        ],
                        [
                          0.4444444444444444,
                          "#bd3786"
                        ],
                        [
                          0.5555555555555556,
                          "#d8576b"
                        ],
                        [
                          0.6666666666666666,
                          "#ed7953"
                        ],
                        [
                          0.7777777777777778,
                          "#fb9f3a"
                        ],
                        [
                          0.8888888888888888,
                          "#fdca26"
                        ],
                        [
                          1,
                          "#f0f921"
                        ]
                      ]
                    },
                    "colorway": [
                      "#636efa",
                      "#EF553B",
                      "#00cc96",
                      "#ab63fa",
                      "#FFA15A",
                      "#19d3f3",
                      "#FF6692",
                      "#B6E880",
                      "#FF97FF",
                      "#FECB52"
                    ],
                    "font": {
                      "color": "#2a3f5f"
                    },
                    "geo": {
                      "bgcolor": "white",
                      "lakecolor": "white",
                      "landcolor": "#E5ECF6",
                      "showlakes": true,
                      "showland": true,
                      "subunitcolor": "white"
                    },
                    "hoverlabel": {
                      "align": "left"
                    },
                    "hovermode": "closest",
                    "mapbox": {
                      "style": "light"
                    },
                    "paper_bgcolor": "white",
                    "plot_bgcolor": "#E5ECF6",
                    "polar": {
                      "angularaxis": {
                        "gridcolor": "white",
                        "linecolor": "white",
                        "ticks": ""
                      },
                      "bgcolor": "#E5ECF6",
                      "radialaxis": {
                        "gridcolor": "white",
                        "linecolor": "white",
                        "ticks": ""
                      }
                    },
                    "scene": {
                      "xaxis": {
                        "backgroundcolor": "#E5ECF6",
                        "gridcolor": "white",
                        "gridwidth": 2,
                        "linecolor": "white",
                        "showbackground": true,
                        "ticks": "",
                        "zerolinecolor": "white"
                      },
                      "yaxis": {
                        "backgroundcolor": "#E5ECF6",
                        "gridcolor": "white",
                        "gridwidth": 2,
                        "linecolor": "white",
                        "showbackground": true,
                        "ticks": "",
                        "zerolinecolor": "white"
                      },
                      "zaxis": {
                        "backgroundcolor": "#E5ECF6",
                        "gridcolor": "white",
                        "gridwidth": 2,
                        "linecolor": "white",
                        "showbackground": true,
                        "ticks": "",
                        "zerolinecolor": "white"
                      }
                    },
                    "shapedefaults": {
                      "line": {
                        "color": "#2a3f5f"
                      }
                    },
                    "ternary": {
                      "aaxis": {
                        "gridcolor": "white",
                        "linecolor": "white",
                        "ticks": ""
                      },
                      "baxis": {
                        "gridcolor": "white",
                        "linecolor": "white",
                        "ticks": ""
                      },
                      "bgcolor": "#E5ECF6",
                      "caxis": {
                        "gridcolor": "white",
                        "linecolor": "white",
                        "ticks": ""
                      }
                    },
                    "title": {
                      "x": 0.05
                    },
                    "xaxis": {
                      "automargin": true,
                      "gridcolor": "white",
                      "linecolor": "white",
                      "ticks": "",
                      "title": {
                        "standoff": 15
                      },
                      "zerolinecolor": "white",
                      "zerolinewidth": 2
                    },
                    "yaxis": {
                      "automargin": true,
                      "gridcolor": "white",
                      "linecolor": "white",
                      "ticks": "",
                      "title": {
                        "standoff": 15
                      },
                      "zerolinecolor": "white",
                      "zerolinewidth": 2
                    }
                  }
                },
                "title": {
                  "text": "Potability",
                  "x": 0.5,
                  "xanchor": "center"
                },
                "width": 700,
                "xaxis": {
                  "anchor": "y",
                  "domain": [
                    0,
                    1
                  ],
                  "dtick": 0.05,
                  "fixedrange": true,
                  "gridcolor": "black",
                  "linecolor": "black",
                  "range": [
                    0,
                    0.4
                  ],
                  "showgrid": false
                },
                "xaxis2": {
                  "anchor": "y2",
                  "domain": [
                    0,
                    1
                  ],
                  "type": "category"
                },
                "yaxis": {
                  "anchor": "x",
                  "color": "black",
                  "domain": [
                    0.9200000000000002,
                    1
                  ],
                  "fixedrange": true,
                  "showgrid": false,
                  "showline": false,
                  "showticklabels": false,
                  "zeroline": false
                },
                "yaxis2": {
                  "anchor": "x2",
                  "domain": [
                    0,
                    0.7200000000000001
                  ],
                  "fixedrange": true,
                  "range": [
                    0,
                    1
                  ],
                  "title": {
                    "text": "Percentage"
                  }
                }
              }
            }
          },
          "metadata": {},
          "output_type": "display_data"
        },
        {
          "data": {
            "text/html": [
              "<br><a href=\"#summary_Y10XZ\" style=\"font-size: 14px\">Go to top</a>"
            ]
          },
          "metadata": {},
          "output_type": "display_data"
        },
        {
          "data": {
            "text/html": [
              "<hr style=\"background-color: #eee;border: 0 none;color: #eee;height: 4px;\">"
            ]
          },
          "metadata": {},
          "output_type": "display_data"
        },
        {
          "data": {
            "text/html": [
              "<h4 id=\"DatasetsSizeComparison_Y10XZ\">Datasets Size Comparison</h4><p>Verify test dataset size comparing it to the train dataset size. <a href=\"https://docs.deepchecks.com/0.6.1/examples/tabular/checks/methodology/examples/plot_datasets_size_comparison.html?utm_source=display_output&utm_medium=referral&utm_campaign=check_link\" target=\"_blank\">Read More...</a></p><h5>Conditions Summary</h5><style type=\"text/css\">\n",
              "#T_f8f57 table {\n",
              "  text-align: left;\n",
              "  white-space: pre-wrap;\n",
              "}\n",
              "#T_f8f57 thead {\n",
              "  text-align: left;\n",
              "  white-space: pre-wrap;\n",
              "}\n",
              "#T_f8f57 tbody {\n",
              "  text-align: left;\n",
              "  white-space: pre-wrap;\n",
              "}\n",
              "#T_f8f57 th {\n",
              "  text-align: left;\n",
              "  white-space: pre-wrap;\n",
              "}\n",
              "#T_f8f57 td {\n",
              "  text-align: left;\n",
              "  white-space: pre-wrap;\n",
              "}\n",
              "</style>\n",
              "<table id=\"T_f8f57\">\n",
              "  <thead>\n",
              "    <tr>\n",
              "      <th id=\"T_f8f57_level0_col0\" class=\"col_heading level0 col0\" >Status</th>\n",
              "      <th id=\"T_f8f57_level0_col1\" class=\"col_heading level0 col1\" >Condition</th>\n",
              "      <th id=\"T_f8f57_level0_col2\" class=\"col_heading level0 col2\" >More Info</th>\n",
              "    </tr>\n",
              "  </thead>\n",
              "  <tbody>\n",
              "    <tr>\n",
              "      <td id=\"T_f8f57_row0_col0\" class=\"data row0 col0\" ><div style=\"color: green;text-align: center\">✓</div></td>\n",
              "      <td id=\"T_f8f57_row0_col1\" class=\"data row0 col1\" >Test-Train size ratio is not smaller than 0.01</td>\n",
              "      <td id=\"T_f8f57_row0_col2\" class=\"data row0 col2\" ></td>\n",
              "    </tr>\n",
              "  </tbody>\n",
              "</table>\n",
              "<h5>Additional Outputs</h5><style type=\"text/css\">\n",
              "#T_7aefe table {\n",
              "  text-align: left;\n",
              "  white-space: pre-wrap;\n",
              "}\n",
              "#T_7aefe thead {\n",
              "  text-align: left;\n",
              "  white-space: pre-wrap;\n",
              "}\n",
              "#T_7aefe tbody {\n",
              "  text-align: left;\n",
              "  white-space: pre-wrap;\n",
              "}\n",
              "#T_7aefe th {\n",
              "  text-align: left;\n",
              "  white-space: pre-wrap;\n",
              "}\n",
              "#T_7aefe td {\n",
              "  text-align: left;\n",
              "  white-space: pre-wrap;\n",
              "}\n",
              "</style>\n",
              "<table id=\"T_7aefe\">\n",
              "  <thead>\n",
              "    <tr>\n",
              "      <th class=\"blank level0\" >&nbsp;</th>\n",
              "      <th id=\"T_7aefe_level0_col0\" class=\"col_heading level0 col0\" >Train</th>\n",
              "      <th id=\"T_7aefe_level0_col1\" class=\"col_heading level0 col1\" >Test</th>\n",
              "    </tr>\n",
              "  </thead>\n",
              "  <tbody>\n",
              "    <tr>\n",
              "      <th id=\"T_7aefe_level0_row0\" class=\"row_heading level0 row0\" >Size</th>\n",
              "      <td id=\"T_7aefe_row0_col0\" class=\"data row0 col0\" >2457</td>\n",
              "      <td id=\"T_7aefe_row0_col1\" class=\"data row0 col1\" >819</td>\n",
              "    </tr>\n",
              "  </tbody>\n",
              "</table>\n",
              "<br><a href=\"#summary_Y10XZ\" style=\"font-size: 14px\">Go to top</a>"
            ]
          },
          "metadata": {},
          "output_type": "display_data"
        },
        {
          "data": {
            "text/html": [
              "<hr style=\"background-color: black;border: 0 none;color: black;height: 1px;\"><h2>Check Without Conditions Output</h2>"
            ]
          },
          "metadata": {},
          "output_type": "display_data"
        },
        {
          "data": {
            "text/html": [
              "<h4 id=\"ModelInfo_Y10XZ\">Model Info</h4><p>Summarize given model parameters. <a href=\"https://docs.deepchecks.com/0.6.1/examples/tabular/checks/overview/examples/plot_model_info.html?utm_source=display_output&utm_medium=referral&utm_campaign=check_link\" target=\"_blank\">Read More...</a></p><h5>Additional Outputs</h5><div>Model Type: SoftSplitDecisionTreeClassifier</div><style type=\"text/css\">\n",
              "#T_98b1c table {\n",
              "  text-align: left;\n",
              "  white-space: pre-wrap;\n",
              "}\n",
              "#T_98b1c thead {\n",
              "  text-align: left;\n",
              "  white-space: pre-wrap;\n",
              "}\n",
              "#T_98b1c tbody {\n",
              "  text-align: left;\n",
              "  white-space: pre-wrap;\n",
              "}\n",
              "#T_98b1c th {\n",
              "  text-align: left;\n",
              "  white-space: pre-wrap;\n",
              "}\n",
              "#T_98b1c td {\n",
              "  text-align: left;\n",
              "  white-space: pre-wrap;\n",
              "}\n",
              "</style>\n",
              "<table id=\"T_98b1c\">\n",
              "  <thead>\n",
              "    <tr>\n",
              "      <th id=\"T_98b1c_level0_col0\" class=\"col_heading level0 col0\" >Parameter</th>\n",
              "      <th id=\"T_98b1c_level0_col1\" class=\"col_heading level0 col1\" >Value</th>\n",
              "      <th id=\"T_98b1c_level0_col2\" class=\"col_heading level0 col2\" >Default</th>\n",
              "    </tr>\n",
              "  </thead>\n",
              "  <tbody>\n",
              "    <tr>\n",
              "      <td id=\"T_98b1c_row0_col0\" class=\"data row0 col0\" >alphaProbability</td>\n",
              "      <td id=\"T_98b1c_row0_col1\" class=\"data row0 col1\" >0.10</td>\n",
              "      <td id=\"T_98b1c_row0_col2\" class=\"data row0 col2\" >0.10</td>\n",
              "    </tr>\n",
              "    <tr>\n",
              "      <td id=\"T_98b1c_row1_col0\" class=\"data row1 col0\" >ccp_alpha</td>\n",
              "      <td id=\"T_98b1c_row1_col1\" class=\"data row1 col1\" >0.00</td>\n",
              "      <td id=\"T_98b1c_row1_col2\" class=\"data row1 col2\" >0.00</td>\n",
              "    </tr>\n",
              "    <tr>\n",
              "      <td id=\"T_98b1c_row2_col0\" class=\"data row2 col0\" >class_weight</td>\n",
              "      <td id=\"T_98b1c_row2_col1\" class=\"data row2 col1\" >None</td>\n",
              "      <td id=\"T_98b1c_row2_col2\" class=\"data row2 col2\" >None</td>\n",
              "    </tr>\n",
              "    <tr>\n",
              "      <td id=\"T_98b1c_row3_col0\" class=\"data row3 col0\" >criterion</td>\n",
              "      <td id=\"T_98b1c_row3_col1\" class=\"data row3 col1\" >gini</td>\n",
              "      <td id=\"T_98b1c_row3_col2\" class=\"data row3 col2\" >gini</td>\n",
              "    </tr>\n",
              "    <tr>\n",
              "      <td id=\"T_98b1c_row4_col0\" class=\"data row4 col0\" >max_depth</td>\n",
              "      <td id=\"T_98b1c_row4_col1\" class=\"data row4 col1\" >None</td>\n",
              "      <td id=\"T_98b1c_row4_col2\" class=\"data row4 col2\" >None</td>\n",
              "    </tr>\n",
              "    <tr>\n",
              "      <td id=\"T_98b1c_row5_col0\" class=\"data row5 col0\" >max_features</td>\n",
              "      <td id=\"T_98b1c_row5_col1\" class=\"data row5 col1\" >None</td>\n",
              "      <td id=\"T_98b1c_row5_col2\" class=\"data row5 col2\" >None</td>\n",
              "    </tr>\n",
              "    <tr>\n",
              "      <td id=\"T_98b1c_row6_col0\" class=\"data row6 col0\" >max_leaf_nodes</td>\n",
              "      <td id=\"T_98b1c_row6_col1\" class=\"data row6 col1\" >None</td>\n",
              "      <td id=\"T_98b1c_row6_col2\" class=\"data row6 col2\" >None</td>\n",
              "    </tr>\n",
              "    <tr>\n",
              "      <td id=\"T_98b1c_row7_col0\" class=\"data row7 col0\" >min_impurity_decrease</td>\n",
              "      <td id=\"T_98b1c_row7_col1\" class=\"data row7 col1\" >0.00</td>\n",
              "      <td id=\"T_98b1c_row7_col2\" class=\"data row7 col2\" >0.00</td>\n",
              "    </tr>\n",
              "    <tr>\n",
              "      <td id=\"T_98b1c_row8_col0\" class=\"data row8 col0\" >min_samples_leaf</td>\n",
              "      <td id=\"T_98b1c_row8_col1\" class=\"data row8 col1\" >1</td>\n",
              "      <td id=\"T_98b1c_row8_col2\" class=\"data row8 col2\" >1</td>\n",
              "    </tr>\n",
              "    <tr>\n",
              "      <td id=\"T_98b1c_row9_col0\" class=\"data row9 col0\" >min_samples_split</td>\n",
              "      <td id=\"T_98b1c_row9_col1\" class=\"data row9 col1\" >2</td>\n",
              "      <td id=\"T_98b1c_row9_col2\" class=\"data row9 col2\" >2</td>\n",
              "    </tr>\n",
              "    <tr>\n",
              "      <td id=\"T_98b1c_row10_col0\" class=\"data row10 col0\" >min_weight_fraction_leaf</td>\n",
              "      <td id=\"T_98b1c_row10_col1\" class=\"data row10 col1\" >0.00</td>\n",
              "      <td id=\"T_98b1c_row10_col2\" class=\"data row10 col2\" >0.00</td>\n",
              "    </tr>\n",
              "    <tr>\n",
              "      <td id=\"T_98b1c_row11_col0\" class=\"data row11 col0\" >n</td>\n",
              "      <td id=\"T_98b1c_row11_col1\" class=\"data row11 col1\" >100</td>\n",
              "      <td id=\"T_98b1c_row11_col2\" class=\"data row11 col2\" >100</td>\n",
              "    </tr>\n",
              "    <tr>\n",
              "      <td id=\"T_98b1c_row12_col0\" class=\"data row12 col0\" >random_state</td>\n",
              "      <td id=\"T_98b1c_row12_col1\" class=\"data row12 col1\" >None</td>\n",
              "      <td id=\"T_98b1c_row12_col2\" class=\"data row12 col2\" >None</td>\n",
              "    </tr>\n",
              "    <tr>\n",
              "      <td id=\"T_98b1c_row13_col0\" class=\"data row13 col0\" >splitter</td>\n",
              "      <td id=\"T_98b1c_row13_col1\" class=\"data row13 col1\" >best</td>\n",
              "      <td id=\"T_98b1c_row13_col2\" class=\"data row13 col2\" >best</td>\n",
              "    </tr>\n",
              "  </tbody>\n",
              "</table>\n",
              "<div><p style=\"font-size:0.7em\"><i>Colored rows are parameters with non-default values</i></p></div><br><a href=\"#summary_Y10XZ\" style=\"font-size: 14px\">Go to top</a>"
            ]
          },
          "metadata": {},
          "output_type": "display_data"
        },
        {
          "data": {
            "text/html": [
              "<hr style=\"background-color: #eee;border: 0 none;color: #eee;height: 4px;\">"
            ]
          },
          "metadata": {},
          "output_type": "display_data"
        },
        {
          "data": {
            "text/html": [
              "<h4 id=\"ColumnsInfo-TrainDataset_Y10XZ\">Columns Info - Train Dataset</h4><p>Return the role and logical type of each column. <a href=\"https://docs.deepchecks.com/0.6.1/examples/tabular/checks/overview/examples/plot_columns_info.html?utm_source=display_output&utm_medium=referral&utm_campaign=check_link\" target=\"_blank\">Read More...</a></p><h5>Additional Outputs</h5><div>* showing only the top 10 columns, you can change it using n_top_columns param</div><style type=\"text/css\">\n",
              "#T_c4c1c table {\n",
              "  text-align: left;\n",
              "  white-space: pre-wrap;\n",
              "}\n",
              "#T_c4c1c thead {\n",
              "  text-align: left;\n",
              "  white-space: pre-wrap;\n",
              "}\n",
              "#T_c4c1c tbody {\n",
              "  text-align: left;\n",
              "  white-space: pre-wrap;\n",
              "}\n",
              "#T_c4c1c th {\n",
              "  text-align: left;\n",
              "  white-space: pre-wrap;\n",
              "}\n",
              "#T_c4c1c td {\n",
              "  text-align: left;\n",
              "  white-space: pre-wrap;\n",
              "}\n",
              "</style>\n",
              "<table id=\"T_c4c1c\">\n",
              "  <thead>\n",
              "    <tr>\n",
              "      <th class=\"blank level0\" >&nbsp;</th>\n",
              "      <th id=\"T_c4c1c_level0_col0\" class=\"col_heading level0 col0\" >Potability</th>\n",
              "      <th id=\"T_c4c1c_level0_col1\" class=\"col_heading level0 col1\" >Sulfate</th>\n",
              "      <th id=\"T_c4c1c_level0_col2\" class=\"col_heading level0 col2\" >ph</th>\n",
              "      <th id=\"T_c4c1c_level0_col3\" class=\"col_heading level0 col3\" >Chloramines</th>\n",
              "      <th id=\"T_c4c1c_level0_col4\" class=\"col_heading level0 col4\" >Trihalomethanes</th>\n",
              "      <th id=\"T_c4c1c_level0_col5\" class=\"col_heading level0 col5\" >Hardness</th>\n",
              "      <th id=\"T_c4c1c_level0_col6\" class=\"col_heading level0 col6\" >Solids</th>\n",
              "      <th id=\"T_c4c1c_level0_col7\" class=\"col_heading level0 col7\" >Conductivity</th>\n",
              "      <th id=\"T_c4c1c_level0_col8\" class=\"col_heading level0 col8\" >Turbidity</th>\n",
              "      <th id=\"T_c4c1c_level0_col9\" class=\"col_heading level0 col9\" >Organic_carbon</th>\n",
              "    </tr>\n",
              "  </thead>\n",
              "  <tbody>\n",
              "    <tr>\n",
              "      <th id=\"T_c4c1c_level0_row0\" class=\"row_heading level0 row0\" >role</th>\n",
              "      <td id=\"T_c4c1c_row0_col0\" class=\"data row0 col0\" >label</td>\n",
              "      <td id=\"T_c4c1c_row0_col1\" class=\"data row0 col1\" >numerical feature</td>\n",
              "      <td id=\"T_c4c1c_row0_col2\" class=\"data row0 col2\" >numerical feature</td>\n",
              "      <td id=\"T_c4c1c_row0_col3\" class=\"data row0 col3\" >numerical feature</td>\n",
              "      <td id=\"T_c4c1c_row0_col4\" class=\"data row0 col4\" >numerical feature</td>\n",
              "      <td id=\"T_c4c1c_row0_col5\" class=\"data row0 col5\" >numerical feature</td>\n",
              "      <td id=\"T_c4c1c_row0_col6\" class=\"data row0 col6\" >numerical feature</td>\n",
              "      <td id=\"T_c4c1c_row0_col7\" class=\"data row0 col7\" >numerical feature</td>\n",
              "      <td id=\"T_c4c1c_row0_col8\" class=\"data row0 col8\" >numerical feature</td>\n",
              "      <td id=\"T_c4c1c_row0_col9\" class=\"data row0 col9\" >numerical feature</td>\n",
              "    </tr>\n",
              "  </tbody>\n",
              "</table>\n",
              "<br><a href=\"#summary_Y10XZ\" style=\"font-size: 14px\">Go to top</a>"
            ]
          },
          "metadata": {},
          "output_type": "display_data"
        },
        {
          "data": {
            "text/html": [
              "<hr style=\"background-color: #eee;border: 0 none;color: #eee;height: 4px;\">"
            ]
          },
          "metadata": {},
          "output_type": "display_data"
        },
        {
          "data": {
            "text/html": [
              "<h4 id=\"ColumnsInfo-TestDataset_Y10XZ\">Columns Info - Test Dataset</h4><p>Return the role and logical type of each column. <a href=\"https://docs.deepchecks.com/0.6.1/examples/tabular/checks/overview/examples/plot_columns_info.html?utm_source=display_output&utm_medium=referral&utm_campaign=check_link\" target=\"_blank\">Read More...</a></p><h5>Additional Outputs</h5><div>* showing only the top 10 columns, you can change it using n_top_columns param</div><style type=\"text/css\">\n",
              "#T_acd8c table {\n",
              "  text-align: left;\n",
              "  white-space: pre-wrap;\n",
              "}\n",
              "#T_acd8c thead {\n",
              "  text-align: left;\n",
              "  white-space: pre-wrap;\n",
              "}\n",
              "#T_acd8c tbody {\n",
              "  text-align: left;\n",
              "  white-space: pre-wrap;\n",
              "}\n",
              "#T_acd8c th {\n",
              "  text-align: left;\n",
              "  white-space: pre-wrap;\n",
              "}\n",
              "#T_acd8c td {\n",
              "  text-align: left;\n",
              "  white-space: pre-wrap;\n",
              "}\n",
              "</style>\n",
              "<table id=\"T_acd8c\">\n",
              "  <thead>\n",
              "    <tr>\n",
              "      <th class=\"blank level0\" >&nbsp;</th>\n",
              "      <th id=\"T_acd8c_level0_col0\" class=\"col_heading level0 col0\" >Potability</th>\n",
              "      <th id=\"T_acd8c_level0_col1\" class=\"col_heading level0 col1\" >Sulfate</th>\n",
              "      <th id=\"T_acd8c_level0_col2\" class=\"col_heading level0 col2\" >ph</th>\n",
              "      <th id=\"T_acd8c_level0_col3\" class=\"col_heading level0 col3\" >Chloramines</th>\n",
              "      <th id=\"T_acd8c_level0_col4\" class=\"col_heading level0 col4\" >Trihalomethanes</th>\n",
              "      <th id=\"T_acd8c_level0_col5\" class=\"col_heading level0 col5\" >Hardness</th>\n",
              "      <th id=\"T_acd8c_level0_col6\" class=\"col_heading level0 col6\" >Solids</th>\n",
              "      <th id=\"T_acd8c_level0_col7\" class=\"col_heading level0 col7\" >Conductivity</th>\n",
              "      <th id=\"T_acd8c_level0_col8\" class=\"col_heading level0 col8\" >Turbidity</th>\n",
              "      <th id=\"T_acd8c_level0_col9\" class=\"col_heading level0 col9\" >Organic_carbon</th>\n",
              "    </tr>\n",
              "  </thead>\n",
              "  <tbody>\n",
              "    <tr>\n",
              "      <th id=\"T_acd8c_level0_row0\" class=\"row_heading level0 row0\" >role</th>\n",
              "      <td id=\"T_acd8c_row0_col0\" class=\"data row0 col0\" >label</td>\n",
              "      <td id=\"T_acd8c_row0_col1\" class=\"data row0 col1\" >numerical feature</td>\n",
              "      <td id=\"T_acd8c_row0_col2\" class=\"data row0 col2\" >numerical feature</td>\n",
              "      <td id=\"T_acd8c_row0_col3\" class=\"data row0 col3\" >numerical feature</td>\n",
              "      <td id=\"T_acd8c_row0_col4\" class=\"data row0 col4\" >numerical feature</td>\n",
              "      <td id=\"T_acd8c_row0_col5\" class=\"data row0 col5\" >numerical feature</td>\n",
              "      <td id=\"T_acd8c_row0_col6\" class=\"data row0 col6\" >numerical feature</td>\n",
              "      <td id=\"T_acd8c_row0_col7\" class=\"data row0 col7\" >numerical feature</td>\n",
              "      <td id=\"T_acd8c_row0_col8\" class=\"data row0 col8\" >numerical feature</td>\n",
              "      <td id=\"T_acd8c_row0_col9\" class=\"data row0 col9\" >numerical feature</td>\n",
              "    </tr>\n",
              "  </tbody>\n",
              "</table>\n",
              "<br><a href=\"#summary_Y10XZ\" style=\"font-size: 14px\">Go to top</a>"
            ]
          },
          "metadata": {},
          "output_type": "display_data"
        },
        {
          "data": {
            "text/html": [
              "<hr style=\"background-color: #eee;border: 0 none;color: #eee;height: 4px;\">"
            ]
          },
          "metadata": {},
          "output_type": "display_data"
        },
        {
          "data": {
            "text/html": [
              "<h4 id=\"ConfusionMatrixReport-TrainDataset_Y10XZ\">Confusion Matrix Report - Train Dataset</h4><p>Calculate the confusion matrix of the model on the given dataset. <a href=\"https://docs.deepchecks.com/0.6.1/examples/tabular/checks/performance/examples/plot_confusion_matrix_report.html?utm_source=display_output&utm_medium=referral&utm_campaign=check_link\" target=\"_blank\">Read More...</a></p><h5>Additional Outputs</h5>"
            ]
          },
          "metadata": {},
          "output_type": "display_data"
        },
        {
          "data": {
            "application/vnd.plotly.v1+json": {
              "config": {
                "plotlyServerURL": "https://plot.ly"
              },
              "data": [
                {
                  "coloraxis": "coloraxis",
                  "hovertemplate": "x: %{x}<br>y: %{y}<br>color: %{z}<extra></extra>",
                  "name": "0",
                  "texttemplate": "%{z}",
                  "type": "heatmap",
                  "x": [
                    0,
                    1
                  ],
                  "xaxis": "x",
                  "y": [
                    0,
                    1
                  ],
                  "yaxis": "y",
                  "z": [
                    [
                      1439,
                      60
                    ],
                    [
                      466,
                      492
                    ]
                  ]
                }
              ],
              "layout": {
                "coloraxis": {
                  "colorscale": [
                    [
                      0,
                      "#0d0887"
                    ],
                    [
                      0.1111111111111111,
                      "#46039f"
                    ],
                    [
                      0.2222222222222222,
                      "#7201a8"
                    ],
                    [
                      0.3333333333333333,
                      "#9c179e"
                    ],
                    [
                      0.4444444444444444,
                      "#bd3786"
                    ],
                    [
                      0.5555555555555556,
                      "#d8576b"
                    ],
                    [
                      0.6666666666666666,
                      "#ed7953"
                    ],
                    [
                      0.7777777777777778,
                      "#fb9f3a"
                    ],
                    [
                      0.8888888888888888,
                      "#fdca26"
                    ],
                    [
                      1,
                      "#f0f921"
                    ]
                  ]
                },
                "height": 600,
                "margin": {
                  "t": 60
                },
                "template": {
                  "data": {
                    "bar": [
                      {
                        "error_x": {
                          "color": "#2a3f5f"
                        },
                        "error_y": {
                          "color": "#2a3f5f"
                        },
                        "marker": {
                          "line": {
                            "color": "#E5ECF6",
                            "width": 0.5
                          },
                          "pattern": {
                            "fillmode": "overlay",
                            "size": 10,
                            "solidity": 0.2
                          }
                        },
                        "type": "bar"
                      }
                    ],
                    "barpolar": [
                      {
                        "marker": {
                          "line": {
                            "color": "#E5ECF6",
                            "width": 0.5
                          },
                          "pattern": {
                            "fillmode": "overlay",
                            "size": 10,
                            "solidity": 0.2
                          }
                        },
                        "type": "barpolar"
                      }
                    ],
                    "carpet": [
                      {
                        "aaxis": {
                          "endlinecolor": "#2a3f5f",
                          "gridcolor": "white",
                          "linecolor": "white",
                          "minorgridcolor": "white",
                          "startlinecolor": "#2a3f5f"
                        },
                        "baxis": {
                          "endlinecolor": "#2a3f5f",
                          "gridcolor": "white",
                          "linecolor": "white",
                          "minorgridcolor": "white",
                          "startlinecolor": "#2a3f5f"
                        },
                        "type": "carpet"
                      }
                    ],
                    "choropleth": [
                      {
                        "colorbar": {
                          "outlinewidth": 0,
                          "ticks": ""
                        },
                        "type": "choropleth"
                      }
                    ],
                    "contour": [
                      {
                        "colorbar": {
                          "outlinewidth": 0,
                          "ticks": ""
                        },
                        "colorscale": [
                          [
                            0,
                            "#0d0887"
                          ],
                          [
                            0.1111111111111111,
                            "#46039f"
                          ],
                          [
                            0.2222222222222222,
                            "#7201a8"
                          ],
                          [
                            0.3333333333333333,
                            "#9c179e"
                          ],
                          [
                            0.4444444444444444,
                            "#bd3786"
                          ],
                          [
                            0.5555555555555556,
                            "#d8576b"
                          ],
                          [
                            0.6666666666666666,
                            "#ed7953"
                          ],
                          [
                            0.7777777777777778,
                            "#fb9f3a"
                          ],
                          [
                            0.8888888888888888,
                            "#fdca26"
                          ],
                          [
                            1,
                            "#f0f921"
                          ]
                        ],
                        "type": "contour"
                      }
                    ],
                    "contourcarpet": [
                      {
                        "colorbar": {
                          "outlinewidth": 0,
                          "ticks": ""
                        },
                        "type": "contourcarpet"
                      }
                    ],
                    "heatmap": [
                      {
                        "colorbar": {
                          "outlinewidth": 0,
                          "ticks": ""
                        },
                        "colorscale": [
                          [
                            0,
                            "#0d0887"
                          ],
                          [
                            0.1111111111111111,
                            "#46039f"
                          ],
                          [
                            0.2222222222222222,
                            "#7201a8"
                          ],
                          [
                            0.3333333333333333,
                            "#9c179e"
                          ],
                          [
                            0.4444444444444444,
                            "#bd3786"
                          ],
                          [
                            0.5555555555555556,
                            "#d8576b"
                          ],
                          [
                            0.6666666666666666,
                            "#ed7953"
                          ],
                          [
                            0.7777777777777778,
                            "#fb9f3a"
                          ],
                          [
                            0.8888888888888888,
                            "#fdca26"
                          ],
                          [
                            1,
                            "#f0f921"
                          ]
                        ],
                        "type": "heatmap"
                      }
                    ],
                    "heatmapgl": [
                      {
                        "colorbar": {
                          "outlinewidth": 0,
                          "ticks": ""
                        },
                        "colorscale": [
                          [
                            0,
                            "#0d0887"
                          ],
                          [
                            0.1111111111111111,
                            "#46039f"
                          ],
                          [
                            0.2222222222222222,
                            "#7201a8"
                          ],
                          [
                            0.3333333333333333,
                            "#9c179e"
                          ],
                          [
                            0.4444444444444444,
                            "#bd3786"
                          ],
                          [
                            0.5555555555555556,
                            "#d8576b"
                          ],
                          [
                            0.6666666666666666,
                            "#ed7953"
                          ],
                          [
                            0.7777777777777778,
                            "#fb9f3a"
                          ],
                          [
                            0.8888888888888888,
                            "#fdca26"
                          ],
                          [
                            1,
                            "#f0f921"
                          ]
                        ],
                        "type": "heatmapgl"
                      }
                    ],
                    "histogram": [
                      {
                        "marker": {
                          "pattern": {
                            "fillmode": "overlay",
                            "size": 10,
                            "solidity": 0.2
                          }
                        },
                        "type": "histogram"
                      }
                    ],
                    "histogram2d": [
                      {
                        "colorbar": {
                          "outlinewidth": 0,
                          "ticks": ""
                        },
                        "colorscale": [
                          [
                            0,
                            "#0d0887"
                          ],
                          [
                            0.1111111111111111,
                            "#46039f"
                          ],
                          [
                            0.2222222222222222,
                            "#7201a8"
                          ],
                          [
                            0.3333333333333333,
                            "#9c179e"
                          ],
                          [
                            0.4444444444444444,
                            "#bd3786"
                          ],
                          [
                            0.5555555555555556,
                            "#d8576b"
                          ],
                          [
                            0.6666666666666666,
                            "#ed7953"
                          ],
                          [
                            0.7777777777777778,
                            "#fb9f3a"
                          ],
                          [
                            0.8888888888888888,
                            "#fdca26"
                          ],
                          [
                            1,
                            "#f0f921"
                          ]
                        ],
                        "type": "histogram2d"
                      }
                    ],
                    "histogram2dcontour": [
                      {
                        "colorbar": {
                          "outlinewidth": 0,
                          "ticks": ""
                        },
                        "colorscale": [
                          [
                            0,
                            "#0d0887"
                          ],
                          [
                            0.1111111111111111,
                            "#46039f"
                          ],
                          [
                            0.2222222222222222,
                            "#7201a8"
                          ],
                          [
                            0.3333333333333333,
                            "#9c179e"
                          ],
                          [
                            0.4444444444444444,
                            "#bd3786"
                          ],
                          [
                            0.5555555555555556,
                            "#d8576b"
                          ],
                          [
                            0.6666666666666666,
                            "#ed7953"
                          ],
                          [
                            0.7777777777777778,
                            "#fb9f3a"
                          ],
                          [
                            0.8888888888888888,
                            "#fdca26"
                          ],
                          [
                            1,
                            "#f0f921"
                          ]
                        ],
                        "type": "histogram2dcontour"
                      }
                    ],
                    "mesh3d": [
                      {
                        "colorbar": {
                          "outlinewidth": 0,
                          "ticks": ""
                        },
                        "type": "mesh3d"
                      }
                    ],
                    "parcoords": [
                      {
                        "line": {
                          "colorbar": {
                            "outlinewidth": 0,
                            "ticks": ""
                          }
                        },
                        "type": "parcoords"
                      }
                    ],
                    "pie": [
                      {
                        "automargin": true,
                        "type": "pie"
                      }
                    ],
                    "scatter": [
                      {
                        "marker": {
                          "colorbar": {
                            "outlinewidth": 0,
                            "ticks": ""
                          }
                        },
                        "type": "scatter"
                      }
                    ],
                    "scatter3d": [
                      {
                        "line": {
                          "colorbar": {
                            "outlinewidth": 0,
                            "ticks": ""
                          }
                        },
                        "marker": {
                          "colorbar": {
                            "outlinewidth": 0,
                            "ticks": ""
                          }
                        },
                        "type": "scatter3d"
                      }
                    ],
                    "scattercarpet": [
                      {
                        "marker": {
                          "colorbar": {
                            "outlinewidth": 0,
                            "ticks": ""
                          }
                        },
                        "type": "scattercarpet"
                      }
                    ],
                    "scattergeo": [
                      {
                        "marker": {
                          "colorbar": {
                            "outlinewidth": 0,
                            "ticks": ""
                          }
                        },
                        "type": "scattergeo"
                      }
                    ],
                    "scattergl": [
                      {
                        "marker": {
                          "colorbar": {
                            "outlinewidth": 0,
                            "ticks": ""
                          }
                        },
                        "type": "scattergl"
                      }
                    ],
                    "scattermapbox": [
                      {
                        "marker": {
                          "colorbar": {
                            "outlinewidth": 0,
                            "ticks": ""
                          }
                        },
                        "type": "scattermapbox"
                      }
                    ],
                    "scatterpolar": [
                      {
                        "marker": {
                          "colorbar": {
                            "outlinewidth": 0,
                            "ticks": ""
                          }
                        },
                        "type": "scatterpolar"
                      }
                    ],
                    "scatterpolargl": [
                      {
                        "marker": {
                          "colorbar": {
                            "outlinewidth": 0,
                            "ticks": ""
                          }
                        },
                        "type": "scatterpolargl"
                      }
                    ],
                    "scatterternary": [
                      {
                        "marker": {
                          "colorbar": {
                            "outlinewidth": 0,
                            "ticks": ""
                          }
                        },
                        "type": "scatterternary"
                      }
                    ],
                    "surface": [
                      {
                        "colorbar": {
                          "outlinewidth": 0,
                          "ticks": ""
                        },
                        "colorscale": [
                          [
                            0,
                            "#0d0887"
                          ],
                          [
                            0.1111111111111111,
                            "#46039f"
                          ],
                          [
                            0.2222222222222222,
                            "#7201a8"
                          ],
                          [
                            0.3333333333333333,
                            "#9c179e"
                          ],
                          [
                            0.4444444444444444,
                            "#bd3786"
                          ],
                          [
                            0.5555555555555556,
                            "#d8576b"
                          ],
                          [
                            0.6666666666666666,
                            "#ed7953"
                          ],
                          [
                            0.7777777777777778,
                            "#fb9f3a"
                          ],
                          [
                            0.8888888888888888,
                            "#fdca26"
                          ],
                          [
                            1,
                            "#f0f921"
                          ]
                        ],
                        "type": "surface"
                      }
                    ],
                    "table": [
                      {
                        "cells": {
                          "fill": {
                            "color": "#EBF0F8"
                          },
                          "line": {
                            "color": "white"
                          }
                        },
                        "header": {
                          "fill": {
                            "color": "#C8D4E3"
                          },
                          "line": {
                            "color": "white"
                          }
                        },
                        "type": "table"
                      }
                    ]
                  },
                  "layout": {
                    "annotationdefaults": {
                      "arrowcolor": "#2a3f5f",
                      "arrowhead": 0,
                      "arrowwidth": 1
                    },
                    "autotypenumbers": "strict",
                    "coloraxis": {
                      "colorbar": {
                        "outlinewidth": 0,
                        "ticks": ""
                      }
                    },
                    "colorscale": {
                      "diverging": [
                        [
                          0,
                          "#8e0152"
                        ],
                        [
                          0.1,
                          "#c51b7d"
                        ],
                        [
                          0.2,
                          "#de77ae"
                        ],
                        [
                          0.3,
                          "#f1b6da"
                        ],
                        [
                          0.4,
                          "#fde0ef"
                        ],
                        [
                          0.5,
                          "#f7f7f7"
                        ],
                        [
                          0.6,
                          "#e6f5d0"
                        ],
                        [
                          0.7,
                          "#b8e186"
                        ],
                        [
                          0.8,
                          "#7fbc41"
                        ],
                        [
                          0.9,
                          "#4d9221"
                        ],
                        [
                          1,
                          "#276419"
                        ]
                      ],
                      "sequential": [
                        [
                          0,
                          "#0d0887"
                        ],
                        [
                          0.1111111111111111,
                          "#46039f"
                        ],
                        [
                          0.2222222222222222,
                          "#7201a8"
                        ],
                        [
                          0.3333333333333333,
                          "#9c179e"
                        ],
                        [
                          0.4444444444444444,
                          "#bd3786"
                        ],
                        [
                          0.5555555555555556,
                          "#d8576b"
                        ],
                        [
                          0.6666666666666666,
                          "#ed7953"
                        ],
                        [
                          0.7777777777777778,
                          "#fb9f3a"
                        ],
                        [
                          0.8888888888888888,
                          "#fdca26"
                        ],
                        [
                          1,
                          "#f0f921"
                        ]
                      ],
                      "sequentialminus": [
                        [
                          0,
                          "#0d0887"
                        ],
                        [
                          0.1111111111111111,
                          "#46039f"
                        ],
                        [
                          0.2222222222222222,
                          "#7201a8"
                        ],
                        [
                          0.3333333333333333,
                          "#9c179e"
                        ],
                        [
                          0.4444444444444444,
                          "#bd3786"
                        ],
                        [
                          0.5555555555555556,
                          "#d8576b"
                        ],
                        [
                          0.6666666666666666,
                          "#ed7953"
                        ],
                        [
                          0.7777777777777778,
                          "#fb9f3a"
                        ],
                        [
                          0.8888888888888888,
                          "#fdca26"
                        ],
                        [
                          1,
                          "#f0f921"
                        ]
                      ]
                    },
                    "colorway": [
                      "#636efa",
                      "#EF553B",
                      "#00cc96",
                      "#ab63fa",
                      "#FFA15A",
                      "#19d3f3",
                      "#FF6692",
                      "#B6E880",
                      "#FF97FF",
                      "#FECB52"
                    ],
                    "font": {
                      "color": "#2a3f5f"
                    },
                    "geo": {
                      "bgcolor": "white",
                      "lakecolor": "white",
                      "landcolor": "#E5ECF6",
                      "showlakes": true,
                      "showland": true,
                      "subunitcolor": "white"
                    },
                    "hoverlabel": {
                      "align": "left"
                    },
                    "hovermode": "closest",
                    "mapbox": {
                      "style": "light"
                    },
                    "paper_bgcolor": "white",
                    "plot_bgcolor": "#E5ECF6",
                    "polar": {
                      "angularaxis": {
                        "gridcolor": "white",
                        "linecolor": "white",
                        "ticks": ""
                      },
                      "bgcolor": "#E5ECF6",
                      "radialaxis": {
                        "gridcolor": "white",
                        "linecolor": "white",
                        "ticks": ""
                      }
                    },
                    "scene": {
                      "xaxis": {
                        "backgroundcolor": "#E5ECF6",
                        "gridcolor": "white",
                        "gridwidth": 2,
                        "linecolor": "white",
                        "showbackground": true,
                        "ticks": "",
                        "zerolinecolor": "white"
                      },
                      "yaxis": {
                        "backgroundcolor": "#E5ECF6",
                        "gridcolor": "white",
                        "gridwidth": 2,
                        "linecolor": "white",
                        "showbackground": true,
                        "ticks": "",
                        "zerolinecolor": "white"
                      },
                      "zaxis": {
                        "backgroundcolor": "#E5ECF6",
                        "gridcolor": "white",
                        "gridwidth": 2,
                        "linecolor": "white",
                        "showbackground": true,
                        "ticks": "",
                        "zerolinecolor": "white"
                      }
                    },
                    "shapedefaults": {
                      "line": {
                        "color": "#2a3f5f"
                      }
                    },
                    "ternary": {
                      "aaxis": {
                        "gridcolor": "white",
                        "linecolor": "white",
                        "ticks": ""
                      },
                      "baxis": {
                        "gridcolor": "white",
                        "linecolor": "white",
                        "ticks": ""
                      },
                      "bgcolor": "#E5ECF6",
                      "caxis": {
                        "gridcolor": "white",
                        "linecolor": "white",
                        "ticks": ""
                      }
                    },
                    "title": {
                      "x": 0.05
                    },
                    "xaxis": {
                      "automargin": true,
                      "gridcolor": "white",
                      "linecolor": "white",
                      "ticks": "",
                      "title": {
                        "standoff": 15
                      },
                      "zerolinecolor": "white",
                      "zerolinewidth": 2
                    },
                    "yaxis": {
                      "automargin": true,
                      "gridcolor": "white",
                      "linecolor": "white",
                      "ticks": "",
                      "title": {
                        "standoff": 15
                      },
                      "zerolinecolor": "white",
                      "zerolinewidth": 2
                    }
                  }
                },
                "width": 600,
                "xaxis": {
                  "anchor": "y",
                  "constrain": "domain",
                  "domain": [
                    0,
                    1
                  ],
                  "scaleanchor": "y",
                  "title": {
                    "text": "Predicted Value"
                  },
                  "type": "category"
                },
                "yaxis": {
                  "anchor": "x",
                  "autorange": "reversed",
                  "constrain": "domain",
                  "domain": [
                    0,
                    1
                  ],
                  "title": {
                    "text": "True value"
                  },
                  "type": "category"
                }
              }
            }
          },
          "metadata": {},
          "output_type": "display_data"
        },
        {
          "data": {
            "text/html": [
              "<br><a href=\"#summary_Y10XZ\" style=\"font-size: 14px\">Go to top</a>"
            ]
          },
          "metadata": {},
          "output_type": "display_data"
        },
        {
          "data": {
            "text/html": [
              "<hr style=\"background-color: #eee;border: 0 none;color: #eee;height: 4px;\">"
            ]
          },
          "metadata": {},
          "output_type": "display_data"
        },
        {
          "data": {
            "text/html": [
              "<h4 id=\"ConfusionMatrixReport-TestDataset_Y10XZ\">Confusion Matrix Report - Test Dataset</h4><p>Calculate the confusion matrix of the model on the given dataset. <a href=\"https://docs.deepchecks.com/0.6.1/examples/tabular/checks/performance/examples/plot_confusion_matrix_report.html?utm_source=display_output&utm_medium=referral&utm_campaign=check_link\" target=\"_blank\">Read More...</a></p><h5>Additional Outputs</h5>"
            ]
          },
          "metadata": {},
          "output_type": "display_data"
        },
        {
          "data": {
            "application/vnd.plotly.v1+json": {
              "config": {
                "plotlyServerURL": "https://plot.ly"
              },
              "data": [
                {
                  "coloraxis": "coloraxis",
                  "hovertemplate": "x: %{x}<br>y: %{y}<br>color: %{z}<extra></extra>",
                  "name": "0",
                  "texttemplate": "%{z}",
                  "type": "heatmap",
                  "x": [
                    0,
                    1
                  ],
                  "xaxis": "x",
                  "y": [
                    0,
                    1
                  ],
                  "yaxis": "y",
                  "z": [
                    [
                      429,
                      70
                    ],
                    [
                      227,
                      93
                    ]
                  ]
                }
              ],
              "layout": {
                "coloraxis": {
                  "colorscale": [
                    [
                      0,
                      "#0d0887"
                    ],
                    [
                      0.1111111111111111,
                      "#46039f"
                    ],
                    [
                      0.2222222222222222,
                      "#7201a8"
                    ],
                    [
                      0.3333333333333333,
                      "#9c179e"
                    ],
                    [
                      0.4444444444444444,
                      "#bd3786"
                    ],
                    [
                      0.5555555555555556,
                      "#d8576b"
                    ],
                    [
                      0.6666666666666666,
                      "#ed7953"
                    ],
                    [
                      0.7777777777777778,
                      "#fb9f3a"
                    ],
                    [
                      0.8888888888888888,
                      "#fdca26"
                    ],
                    [
                      1,
                      "#f0f921"
                    ]
                  ]
                },
                "height": 600,
                "margin": {
                  "t": 60
                },
                "template": {
                  "data": {
                    "bar": [
                      {
                        "error_x": {
                          "color": "#2a3f5f"
                        },
                        "error_y": {
                          "color": "#2a3f5f"
                        },
                        "marker": {
                          "line": {
                            "color": "#E5ECF6",
                            "width": 0.5
                          },
                          "pattern": {
                            "fillmode": "overlay",
                            "size": 10,
                            "solidity": 0.2
                          }
                        },
                        "type": "bar"
                      }
                    ],
                    "barpolar": [
                      {
                        "marker": {
                          "line": {
                            "color": "#E5ECF6",
                            "width": 0.5
                          },
                          "pattern": {
                            "fillmode": "overlay",
                            "size": 10,
                            "solidity": 0.2
                          }
                        },
                        "type": "barpolar"
                      }
                    ],
                    "carpet": [
                      {
                        "aaxis": {
                          "endlinecolor": "#2a3f5f",
                          "gridcolor": "white",
                          "linecolor": "white",
                          "minorgridcolor": "white",
                          "startlinecolor": "#2a3f5f"
                        },
                        "baxis": {
                          "endlinecolor": "#2a3f5f",
                          "gridcolor": "white",
                          "linecolor": "white",
                          "minorgridcolor": "white",
                          "startlinecolor": "#2a3f5f"
                        },
                        "type": "carpet"
                      }
                    ],
                    "choropleth": [
                      {
                        "colorbar": {
                          "outlinewidth": 0,
                          "ticks": ""
                        },
                        "type": "choropleth"
                      }
                    ],
                    "contour": [
                      {
                        "colorbar": {
                          "outlinewidth": 0,
                          "ticks": ""
                        },
                        "colorscale": [
                          [
                            0,
                            "#0d0887"
                          ],
                          [
                            0.1111111111111111,
                            "#46039f"
                          ],
                          [
                            0.2222222222222222,
                            "#7201a8"
                          ],
                          [
                            0.3333333333333333,
                            "#9c179e"
                          ],
                          [
                            0.4444444444444444,
                            "#bd3786"
                          ],
                          [
                            0.5555555555555556,
                            "#d8576b"
                          ],
                          [
                            0.6666666666666666,
                            "#ed7953"
                          ],
                          [
                            0.7777777777777778,
                            "#fb9f3a"
                          ],
                          [
                            0.8888888888888888,
                            "#fdca26"
                          ],
                          [
                            1,
                            "#f0f921"
                          ]
                        ],
                        "type": "contour"
                      }
                    ],
                    "contourcarpet": [
                      {
                        "colorbar": {
                          "outlinewidth": 0,
                          "ticks": ""
                        },
                        "type": "contourcarpet"
                      }
                    ],
                    "heatmap": [
                      {
                        "colorbar": {
                          "outlinewidth": 0,
                          "ticks": ""
                        },
                        "colorscale": [
                          [
                            0,
                            "#0d0887"
                          ],
                          [
                            0.1111111111111111,
                            "#46039f"
                          ],
                          [
                            0.2222222222222222,
                            "#7201a8"
                          ],
                          [
                            0.3333333333333333,
                            "#9c179e"
                          ],
                          [
                            0.4444444444444444,
                            "#bd3786"
                          ],
                          [
                            0.5555555555555556,
                            "#d8576b"
                          ],
                          [
                            0.6666666666666666,
                            "#ed7953"
                          ],
                          [
                            0.7777777777777778,
                            "#fb9f3a"
                          ],
                          [
                            0.8888888888888888,
                            "#fdca26"
                          ],
                          [
                            1,
                            "#f0f921"
                          ]
                        ],
                        "type": "heatmap"
                      }
                    ],
                    "heatmapgl": [
                      {
                        "colorbar": {
                          "outlinewidth": 0,
                          "ticks": ""
                        },
                        "colorscale": [
                          [
                            0,
                            "#0d0887"
                          ],
                          [
                            0.1111111111111111,
                            "#46039f"
                          ],
                          [
                            0.2222222222222222,
                            "#7201a8"
                          ],
                          [
                            0.3333333333333333,
                            "#9c179e"
                          ],
                          [
                            0.4444444444444444,
                            "#bd3786"
                          ],
                          [
                            0.5555555555555556,
                            "#d8576b"
                          ],
                          [
                            0.6666666666666666,
                            "#ed7953"
                          ],
                          [
                            0.7777777777777778,
                            "#fb9f3a"
                          ],
                          [
                            0.8888888888888888,
                            "#fdca26"
                          ],
                          [
                            1,
                            "#f0f921"
                          ]
                        ],
                        "type": "heatmapgl"
                      }
                    ],
                    "histogram": [
                      {
                        "marker": {
                          "pattern": {
                            "fillmode": "overlay",
                            "size": 10,
                            "solidity": 0.2
                          }
                        },
                        "type": "histogram"
                      }
                    ],
                    "histogram2d": [
                      {
                        "colorbar": {
                          "outlinewidth": 0,
                          "ticks": ""
                        },
                        "colorscale": [
                          [
                            0,
                            "#0d0887"
                          ],
                          [
                            0.1111111111111111,
                            "#46039f"
                          ],
                          [
                            0.2222222222222222,
                            "#7201a8"
                          ],
                          [
                            0.3333333333333333,
                            "#9c179e"
                          ],
                          [
                            0.4444444444444444,
                            "#bd3786"
                          ],
                          [
                            0.5555555555555556,
                            "#d8576b"
                          ],
                          [
                            0.6666666666666666,
                            "#ed7953"
                          ],
                          [
                            0.7777777777777778,
                            "#fb9f3a"
                          ],
                          [
                            0.8888888888888888,
                            "#fdca26"
                          ],
                          [
                            1,
                            "#f0f921"
                          ]
                        ],
                        "type": "histogram2d"
                      }
                    ],
                    "histogram2dcontour": [
                      {
                        "colorbar": {
                          "outlinewidth": 0,
                          "ticks": ""
                        },
                        "colorscale": [
                          [
                            0,
                            "#0d0887"
                          ],
                          [
                            0.1111111111111111,
                            "#46039f"
                          ],
                          [
                            0.2222222222222222,
                            "#7201a8"
                          ],
                          [
                            0.3333333333333333,
                            "#9c179e"
                          ],
                          [
                            0.4444444444444444,
                            "#bd3786"
                          ],
                          [
                            0.5555555555555556,
                            "#d8576b"
                          ],
                          [
                            0.6666666666666666,
                            "#ed7953"
                          ],
                          [
                            0.7777777777777778,
                            "#fb9f3a"
                          ],
                          [
                            0.8888888888888888,
                            "#fdca26"
                          ],
                          [
                            1,
                            "#f0f921"
                          ]
                        ],
                        "type": "histogram2dcontour"
                      }
                    ],
                    "mesh3d": [
                      {
                        "colorbar": {
                          "outlinewidth": 0,
                          "ticks": ""
                        },
                        "type": "mesh3d"
                      }
                    ],
                    "parcoords": [
                      {
                        "line": {
                          "colorbar": {
                            "outlinewidth": 0,
                            "ticks": ""
                          }
                        },
                        "type": "parcoords"
                      }
                    ],
                    "pie": [
                      {
                        "automargin": true,
                        "type": "pie"
                      }
                    ],
                    "scatter": [
                      {
                        "marker": {
                          "colorbar": {
                            "outlinewidth": 0,
                            "ticks": ""
                          }
                        },
                        "type": "scatter"
                      }
                    ],
                    "scatter3d": [
                      {
                        "line": {
                          "colorbar": {
                            "outlinewidth": 0,
                            "ticks": ""
                          }
                        },
                        "marker": {
                          "colorbar": {
                            "outlinewidth": 0,
                            "ticks": ""
                          }
                        },
                        "type": "scatter3d"
                      }
                    ],
                    "scattercarpet": [
                      {
                        "marker": {
                          "colorbar": {
                            "outlinewidth": 0,
                            "ticks": ""
                          }
                        },
                        "type": "scattercarpet"
                      }
                    ],
                    "scattergeo": [
                      {
                        "marker": {
                          "colorbar": {
                            "outlinewidth": 0,
                            "ticks": ""
                          }
                        },
                        "type": "scattergeo"
                      }
                    ],
                    "scattergl": [
                      {
                        "marker": {
                          "colorbar": {
                            "outlinewidth": 0,
                            "ticks": ""
                          }
                        },
                        "type": "scattergl"
                      }
                    ],
                    "scattermapbox": [
                      {
                        "marker": {
                          "colorbar": {
                            "outlinewidth": 0,
                            "ticks": ""
                          }
                        },
                        "type": "scattermapbox"
                      }
                    ],
                    "scatterpolar": [
                      {
                        "marker": {
                          "colorbar": {
                            "outlinewidth": 0,
                            "ticks": ""
                          }
                        },
                        "type": "scatterpolar"
                      }
                    ],
                    "scatterpolargl": [
                      {
                        "marker": {
                          "colorbar": {
                            "outlinewidth": 0,
                            "ticks": ""
                          }
                        },
                        "type": "scatterpolargl"
                      }
                    ],
                    "scatterternary": [
                      {
                        "marker": {
                          "colorbar": {
                            "outlinewidth": 0,
                            "ticks": ""
                          }
                        },
                        "type": "scatterternary"
                      }
                    ],
                    "surface": [
                      {
                        "colorbar": {
                          "outlinewidth": 0,
                          "ticks": ""
                        },
                        "colorscale": [
                          [
                            0,
                            "#0d0887"
                          ],
                          [
                            0.1111111111111111,
                            "#46039f"
                          ],
                          [
                            0.2222222222222222,
                            "#7201a8"
                          ],
                          [
                            0.3333333333333333,
                            "#9c179e"
                          ],
                          [
                            0.4444444444444444,
                            "#bd3786"
                          ],
                          [
                            0.5555555555555556,
                            "#d8576b"
                          ],
                          [
                            0.6666666666666666,
                            "#ed7953"
                          ],
                          [
                            0.7777777777777778,
                            "#fb9f3a"
                          ],
                          [
                            0.8888888888888888,
                            "#fdca26"
                          ],
                          [
                            1,
                            "#f0f921"
                          ]
                        ],
                        "type": "surface"
                      }
                    ],
                    "table": [
                      {
                        "cells": {
                          "fill": {
                            "color": "#EBF0F8"
                          },
                          "line": {
                            "color": "white"
                          }
                        },
                        "header": {
                          "fill": {
                            "color": "#C8D4E3"
                          },
                          "line": {
                            "color": "white"
                          }
                        },
                        "type": "table"
                      }
                    ]
                  },
                  "layout": {
                    "annotationdefaults": {
                      "arrowcolor": "#2a3f5f",
                      "arrowhead": 0,
                      "arrowwidth": 1
                    },
                    "autotypenumbers": "strict",
                    "coloraxis": {
                      "colorbar": {
                        "outlinewidth": 0,
                        "ticks": ""
                      }
                    },
                    "colorscale": {
                      "diverging": [
                        [
                          0,
                          "#8e0152"
                        ],
                        [
                          0.1,
                          "#c51b7d"
                        ],
                        [
                          0.2,
                          "#de77ae"
                        ],
                        [
                          0.3,
                          "#f1b6da"
                        ],
                        [
                          0.4,
                          "#fde0ef"
                        ],
                        [
                          0.5,
                          "#f7f7f7"
                        ],
                        [
                          0.6,
                          "#e6f5d0"
                        ],
                        [
                          0.7,
                          "#b8e186"
                        ],
                        [
                          0.8,
                          "#7fbc41"
                        ],
                        [
                          0.9,
                          "#4d9221"
                        ],
                        [
                          1,
                          "#276419"
                        ]
                      ],
                      "sequential": [
                        [
                          0,
                          "#0d0887"
                        ],
                        [
                          0.1111111111111111,
                          "#46039f"
                        ],
                        [
                          0.2222222222222222,
                          "#7201a8"
                        ],
                        [
                          0.3333333333333333,
                          "#9c179e"
                        ],
                        [
                          0.4444444444444444,
                          "#bd3786"
                        ],
                        [
                          0.5555555555555556,
                          "#d8576b"
                        ],
                        [
                          0.6666666666666666,
                          "#ed7953"
                        ],
                        [
                          0.7777777777777778,
                          "#fb9f3a"
                        ],
                        [
                          0.8888888888888888,
                          "#fdca26"
                        ],
                        [
                          1,
                          "#f0f921"
                        ]
                      ],
                      "sequentialminus": [
                        [
                          0,
                          "#0d0887"
                        ],
                        [
                          0.1111111111111111,
                          "#46039f"
                        ],
                        [
                          0.2222222222222222,
                          "#7201a8"
                        ],
                        [
                          0.3333333333333333,
                          "#9c179e"
                        ],
                        [
                          0.4444444444444444,
                          "#bd3786"
                        ],
                        [
                          0.5555555555555556,
                          "#d8576b"
                        ],
                        [
                          0.6666666666666666,
                          "#ed7953"
                        ],
                        [
                          0.7777777777777778,
                          "#fb9f3a"
                        ],
                        [
                          0.8888888888888888,
                          "#fdca26"
                        ],
                        [
                          1,
                          "#f0f921"
                        ]
                      ]
                    },
                    "colorway": [
                      "#636efa",
                      "#EF553B",
                      "#00cc96",
                      "#ab63fa",
                      "#FFA15A",
                      "#19d3f3",
                      "#FF6692",
                      "#B6E880",
                      "#FF97FF",
                      "#FECB52"
                    ],
                    "font": {
                      "color": "#2a3f5f"
                    },
                    "geo": {
                      "bgcolor": "white",
                      "lakecolor": "white",
                      "landcolor": "#E5ECF6",
                      "showlakes": true,
                      "showland": true,
                      "subunitcolor": "white"
                    },
                    "hoverlabel": {
                      "align": "left"
                    },
                    "hovermode": "closest",
                    "mapbox": {
                      "style": "light"
                    },
                    "paper_bgcolor": "white",
                    "plot_bgcolor": "#E5ECF6",
                    "polar": {
                      "angularaxis": {
                        "gridcolor": "white",
                        "linecolor": "white",
                        "ticks": ""
                      },
                      "bgcolor": "#E5ECF6",
                      "radialaxis": {
                        "gridcolor": "white",
                        "linecolor": "white",
                        "ticks": ""
                      }
                    },
                    "scene": {
                      "xaxis": {
                        "backgroundcolor": "#E5ECF6",
                        "gridcolor": "white",
                        "gridwidth": 2,
                        "linecolor": "white",
                        "showbackground": true,
                        "ticks": "",
                        "zerolinecolor": "white"
                      },
                      "yaxis": {
                        "backgroundcolor": "#E5ECF6",
                        "gridcolor": "white",
                        "gridwidth": 2,
                        "linecolor": "white",
                        "showbackground": true,
                        "ticks": "",
                        "zerolinecolor": "white"
                      },
                      "zaxis": {
                        "backgroundcolor": "#E5ECF6",
                        "gridcolor": "white",
                        "gridwidth": 2,
                        "linecolor": "white",
                        "showbackground": true,
                        "ticks": "",
                        "zerolinecolor": "white"
                      }
                    },
                    "shapedefaults": {
                      "line": {
                        "color": "#2a3f5f"
                      }
                    },
                    "ternary": {
                      "aaxis": {
                        "gridcolor": "white",
                        "linecolor": "white",
                        "ticks": ""
                      },
                      "baxis": {
                        "gridcolor": "white",
                        "linecolor": "white",
                        "ticks": ""
                      },
                      "bgcolor": "#E5ECF6",
                      "caxis": {
                        "gridcolor": "white",
                        "linecolor": "white",
                        "ticks": ""
                      }
                    },
                    "title": {
                      "x": 0.05
                    },
                    "xaxis": {
                      "automargin": true,
                      "gridcolor": "white",
                      "linecolor": "white",
                      "ticks": "",
                      "title": {
                        "standoff": 15
                      },
                      "zerolinecolor": "white",
                      "zerolinewidth": 2
                    },
                    "yaxis": {
                      "automargin": true,
                      "gridcolor": "white",
                      "linecolor": "white",
                      "ticks": "",
                      "title": {
                        "standoff": 15
                      },
                      "zerolinecolor": "white",
                      "zerolinewidth": 2
                    }
                  }
                },
                "width": 600,
                "xaxis": {
                  "anchor": "y",
                  "constrain": "domain",
                  "domain": [
                    0,
                    1
                  ],
                  "scaleanchor": "y",
                  "title": {
                    "text": "Predicted Value"
                  },
                  "type": "category"
                },
                "yaxis": {
                  "anchor": "x",
                  "autorange": "reversed",
                  "constrain": "domain",
                  "domain": [
                    0,
                    1
                  ],
                  "title": {
                    "text": "True value"
                  },
                  "type": "category"
                }
              }
            }
          },
          "metadata": {},
          "output_type": "display_data"
        },
        {
          "data": {
            "text/html": [
              "<br><a href=\"#summary_Y10XZ\" style=\"font-size: 14px\">Go to top</a>"
            ]
          },
          "metadata": {},
          "output_type": "display_data"
        },
        {
          "data": {
            "text/html": [
              "<hr style=\"background-color: #eee;border: 0 none;color: #eee;height: 4px;\">"
            ]
          },
          "metadata": {},
          "output_type": "display_data"
        },
        {
          "data": {
            "text/html": [
              "<h4 id=\"CalibrationMetric-TrainDataset_Y10XZ\">Calibration Metric - Train Dataset</h4><p>Calculate the calibration curve with brier score for each class. <a href=\"https://docs.deepchecks.com/0.6.1/examples/tabular/checks/performance/examples/plot_calibration_score.html?utm_source=display_output&utm_medium=referral&utm_campaign=check_link\" target=\"_blank\">Read More...</a></p><h5>Additional Outputs</h5><div>Calibration curves (also known as reliability diagrams) compare how well the probabilistic predictions of a binary classifier are calibrated. It plots the true frequency of the positive label against its predicted probability, for binned predictions.</div>"
            ]
          },
          "metadata": {},
          "output_type": "display_data"
        },
        {
          "data": {
            "application/vnd.plotly.v1+json": {
              "config": {
                "plotlyServerURL": "https://plot.ly"
              },
              "data": [
                {
                  "line": {
                    "dash": "dash",
                    "width": 2
                  },
                  "name": "Perfectly calibrated",
                  "type": "scatter",
                  "x": [
                    0,
                    1
                  ],
                  "y": [
                    0,
                    1
                  ]
                },
                {
                  "mode": "lines+markers",
                  "name": "(brier:   0.1436)",
                  "type": "scatter",
                  "x": [
                    0.0631910109087745,
                    0.15325529413440084,
                    0.24667755062453103,
                    0.34527063028988947,
                    0.4497409622462289,
                    0.5468219178476211,
                    0.6517291985375224,
                    0.7519753765868462,
                    0.84829001299005,
                    0.9399704626040346
                  ],
                  "y": [
                    0,
                    0.03333333333333333,
                    0.17825311942959002,
                    0.38095238095238093,
                    0.6903914590747331,
                    0.7761904761904762,
                    0.839622641509434,
                    0.9883720930232558,
                    1,
                    1
                  ]
                }
              ],
              "layout": {
                "height": 500,
                "template": {
                  "data": {
                    "bar": [
                      {
                        "error_x": {
                          "color": "#2a3f5f"
                        },
                        "error_y": {
                          "color": "#2a3f5f"
                        },
                        "marker": {
                          "line": {
                            "color": "#E5ECF6",
                            "width": 0.5
                          },
                          "pattern": {
                            "fillmode": "overlay",
                            "size": 10,
                            "solidity": 0.2
                          }
                        },
                        "type": "bar"
                      }
                    ],
                    "barpolar": [
                      {
                        "marker": {
                          "line": {
                            "color": "#E5ECF6",
                            "width": 0.5
                          },
                          "pattern": {
                            "fillmode": "overlay",
                            "size": 10,
                            "solidity": 0.2
                          }
                        },
                        "type": "barpolar"
                      }
                    ],
                    "carpet": [
                      {
                        "aaxis": {
                          "endlinecolor": "#2a3f5f",
                          "gridcolor": "white",
                          "linecolor": "white",
                          "minorgridcolor": "white",
                          "startlinecolor": "#2a3f5f"
                        },
                        "baxis": {
                          "endlinecolor": "#2a3f5f",
                          "gridcolor": "white",
                          "linecolor": "white",
                          "minorgridcolor": "white",
                          "startlinecolor": "#2a3f5f"
                        },
                        "type": "carpet"
                      }
                    ],
                    "choropleth": [
                      {
                        "colorbar": {
                          "outlinewidth": 0,
                          "ticks": ""
                        },
                        "type": "choropleth"
                      }
                    ],
                    "contour": [
                      {
                        "colorbar": {
                          "outlinewidth": 0,
                          "ticks": ""
                        },
                        "colorscale": [
                          [
                            0,
                            "#0d0887"
                          ],
                          [
                            0.1111111111111111,
                            "#46039f"
                          ],
                          [
                            0.2222222222222222,
                            "#7201a8"
                          ],
                          [
                            0.3333333333333333,
                            "#9c179e"
                          ],
                          [
                            0.4444444444444444,
                            "#bd3786"
                          ],
                          [
                            0.5555555555555556,
                            "#d8576b"
                          ],
                          [
                            0.6666666666666666,
                            "#ed7953"
                          ],
                          [
                            0.7777777777777778,
                            "#fb9f3a"
                          ],
                          [
                            0.8888888888888888,
                            "#fdca26"
                          ],
                          [
                            1,
                            "#f0f921"
                          ]
                        ],
                        "type": "contour"
                      }
                    ],
                    "contourcarpet": [
                      {
                        "colorbar": {
                          "outlinewidth": 0,
                          "ticks": ""
                        },
                        "type": "contourcarpet"
                      }
                    ],
                    "heatmap": [
                      {
                        "colorbar": {
                          "outlinewidth": 0,
                          "ticks": ""
                        },
                        "colorscale": [
                          [
                            0,
                            "#0d0887"
                          ],
                          [
                            0.1111111111111111,
                            "#46039f"
                          ],
                          [
                            0.2222222222222222,
                            "#7201a8"
                          ],
                          [
                            0.3333333333333333,
                            "#9c179e"
                          ],
                          [
                            0.4444444444444444,
                            "#bd3786"
                          ],
                          [
                            0.5555555555555556,
                            "#d8576b"
                          ],
                          [
                            0.6666666666666666,
                            "#ed7953"
                          ],
                          [
                            0.7777777777777778,
                            "#fb9f3a"
                          ],
                          [
                            0.8888888888888888,
                            "#fdca26"
                          ],
                          [
                            1,
                            "#f0f921"
                          ]
                        ],
                        "type": "heatmap"
                      }
                    ],
                    "heatmapgl": [
                      {
                        "colorbar": {
                          "outlinewidth": 0,
                          "ticks": ""
                        },
                        "colorscale": [
                          [
                            0,
                            "#0d0887"
                          ],
                          [
                            0.1111111111111111,
                            "#46039f"
                          ],
                          [
                            0.2222222222222222,
                            "#7201a8"
                          ],
                          [
                            0.3333333333333333,
                            "#9c179e"
                          ],
                          [
                            0.4444444444444444,
                            "#bd3786"
                          ],
                          [
                            0.5555555555555556,
                            "#d8576b"
                          ],
                          [
                            0.6666666666666666,
                            "#ed7953"
                          ],
                          [
                            0.7777777777777778,
                            "#fb9f3a"
                          ],
                          [
                            0.8888888888888888,
                            "#fdca26"
                          ],
                          [
                            1,
                            "#f0f921"
                          ]
                        ],
                        "type": "heatmapgl"
                      }
                    ],
                    "histogram": [
                      {
                        "marker": {
                          "pattern": {
                            "fillmode": "overlay",
                            "size": 10,
                            "solidity": 0.2
                          }
                        },
                        "type": "histogram"
                      }
                    ],
                    "histogram2d": [
                      {
                        "colorbar": {
                          "outlinewidth": 0,
                          "ticks": ""
                        },
                        "colorscale": [
                          [
                            0,
                            "#0d0887"
                          ],
                          [
                            0.1111111111111111,
                            "#46039f"
                          ],
                          [
                            0.2222222222222222,
                            "#7201a8"
                          ],
                          [
                            0.3333333333333333,
                            "#9c179e"
                          ],
                          [
                            0.4444444444444444,
                            "#bd3786"
                          ],
                          [
                            0.5555555555555556,
                            "#d8576b"
                          ],
                          [
                            0.6666666666666666,
                            "#ed7953"
                          ],
                          [
                            0.7777777777777778,
                            "#fb9f3a"
                          ],
                          [
                            0.8888888888888888,
                            "#fdca26"
                          ],
                          [
                            1,
                            "#f0f921"
                          ]
                        ],
                        "type": "histogram2d"
                      }
                    ],
                    "histogram2dcontour": [
                      {
                        "colorbar": {
                          "outlinewidth": 0,
                          "ticks": ""
                        },
                        "colorscale": [
                          [
                            0,
                            "#0d0887"
                          ],
                          [
                            0.1111111111111111,
                            "#46039f"
                          ],
                          [
                            0.2222222222222222,
                            "#7201a8"
                          ],
                          [
                            0.3333333333333333,
                            "#9c179e"
                          ],
                          [
                            0.4444444444444444,
                            "#bd3786"
                          ],
                          [
                            0.5555555555555556,
                            "#d8576b"
                          ],
                          [
                            0.6666666666666666,
                            "#ed7953"
                          ],
                          [
                            0.7777777777777778,
                            "#fb9f3a"
                          ],
                          [
                            0.8888888888888888,
                            "#fdca26"
                          ],
                          [
                            1,
                            "#f0f921"
                          ]
                        ],
                        "type": "histogram2dcontour"
                      }
                    ],
                    "mesh3d": [
                      {
                        "colorbar": {
                          "outlinewidth": 0,
                          "ticks": ""
                        },
                        "type": "mesh3d"
                      }
                    ],
                    "parcoords": [
                      {
                        "line": {
                          "colorbar": {
                            "outlinewidth": 0,
                            "ticks": ""
                          }
                        },
                        "type": "parcoords"
                      }
                    ],
                    "pie": [
                      {
                        "automargin": true,
                        "type": "pie"
                      }
                    ],
                    "scatter": [
                      {
                        "marker": {
                          "colorbar": {
                            "outlinewidth": 0,
                            "ticks": ""
                          }
                        },
                        "type": "scatter"
                      }
                    ],
                    "scatter3d": [
                      {
                        "line": {
                          "colorbar": {
                            "outlinewidth": 0,
                            "ticks": ""
                          }
                        },
                        "marker": {
                          "colorbar": {
                            "outlinewidth": 0,
                            "ticks": ""
                          }
                        },
                        "type": "scatter3d"
                      }
                    ],
                    "scattercarpet": [
                      {
                        "marker": {
                          "colorbar": {
                            "outlinewidth": 0,
                            "ticks": ""
                          }
                        },
                        "type": "scattercarpet"
                      }
                    ],
                    "scattergeo": [
                      {
                        "marker": {
                          "colorbar": {
                            "outlinewidth": 0,
                            "ticks": ""
                          }
                        },
                        "type": "scattergeo"
                      }
                    ],
                    "scattergl": [
                      {
                        "marker": {
                          "colorbar": {
                            "outlinewidth": 0,
                            "ticks": ""
                          }
                        },
                        "type": "scattergl"
                      }
                    ],
                    "scattermapbox": [
                      {
                        "marker": {
                          "colorbar": {
                            "outlinewidth": 0,
                            "ticks": ""
                          }
                        },
                        "type": "scattermapbox"
                      }
                    ],
                    "scatterpolar": [
                      {
                        "marker": {
                          "colorbar": {
                            "outlinewidth": 0,
                            "ticks": ""
                          }
                        },
                        "type": "scatterpolar"
                      }
                    ],
                    "scatterpolargl": [
                      {
                        "marker": {
                          "colorbar": {
                            "outlinewidth": 0,
                            "ticks": ""
                          }
                        },
                        "type": "scatterpolargl"
                      }
                    ],
                    "scatterternary": [
                      {
                        "marker": {
                          "colorbar": {
                            "outlinewidth": 0,
                            "ticks": ""
                          }
                        },
                        "type": "scatterternary"
                      }
                    ],
                    "surface": [
                      {
                        "colorbar": {
                          "outlinewidth": 0,
                          "ticks": ""
                        },
                        "colorscale": [
                          [
                            0,
                            "#0d0887"
                          ],
                          [
                            0.1111111111111111,
                            "#46039f"
                          ],
                          [
                            0.2222222222222222,
                            "#7201a8"
                          ],
                          [
                            0.3333333333333333,
                            "#9c179e"
                          ],
                          [
                            0.4444444444444444,
                            "#bd3786"
                          ],
                          [
                            0.5555555555555556,
                            "#d8576b"
                          ],
                          [
                            0.6666666666666666,
                            "#ed7953"
                          ],
                          [
                            0.7777777777777778,
                            "#fb9f3a"
                          ],
                          [
                            0.8888888888888888,
                            "#fdca26"
                          ],
                          [
                            1,
                            "#f0f921"
                          ]
                        ],
                        "type": "surface"
                      }
                    ],
                    "table": [
                      {
                        "cells": {
                          "fill": {
                            "color": "#EBF0F8"
                          },
                          "line": {
                            "color": "white"
                          }
                        },
                        "header": {
                          "fill": {
                            "color": "#C8D4E3"
                          },
                          "line": {
                            "color": "white"
                          }
                        },
                        "type": "table"
                      }
                    ]
                  },
                  "layout": {
                    "annotationdefaults": {
                      "arrowcolor": "#2a3f5f",
                      "arrowhead": 0,
                      "arrowwidth": 1
                    },
                    "autotypenumbers": "strict",
                    "coloraxis": {
                      "colorbar": {
                        "outlinewidth": 0,
                        "ticks": ""
                      }
                    },
                    "colorscale": {
                      "diverging": [
                        [
                          0,
                          "#8e0152"
                        ],
                        [
                          0.1,
                          "#c51b7d"
                        ],
                        [
                          0.2,
                          "#de77ae"
                        ],
                        [
                          0.3,
                          "#f1b6da"
                        ],
                        [
                          0.4,
                          "#fde0ef"
                        ],
                        [
                          0.5,
                          "#f7f7f7"
                        ],
                        [
                          0.6,
                          "#e6f5d0"
                        ],
                        [
                          0.7,
                          "#b8e186"
                        ],
                        [
                          0.8,
                          "#7fbc41"
                        ],
                        [
                          0.9,
                          "#4d9221"
                        ],
                        [
                          1,
                          "#276419"
                        ]
                      ],
                      "sequential": [
                        [
                          0,
                          "#0d0887"
                        ],
                        [
                          0.1111111111111111,
                          "#46039f"
                        ],
                        [
                          0.2222222222222222,
                          "#7201a8"
                        ],
                        [
                          0.3333333333333333,
                          "#9c179e"
                        ],
                        [
                          0.4444444444444444,
                          "#bd3786"
                        ],
                        [
                          0.5555555555555556,
                          "#d8576b"
                        ],
                        [
                          0.6666666666666666,
                          "#ed7953"
                        ],
                        [
                          0.7777777777777778,
                          "#fb9f3a"
                        ],
                        [
                          0.8888888888888888,
                          "#fdca26"
                        ],
                        [
                          1,
                          "#f0f921"
                        ]
                      ],
                      "sequentialminus": [
                        [
                          0,
                          "#0d0887"
                        ],
                        [
                          0.1111111111111111,
                          "#46039f"
                        ],
                        [
                          0.2222222222222222,
                          "#7201a8"
                        ],
                        [
                          0.3333333333333333,
                          "#9c179e"
                        ],
                        [
                          0.4444444444444444,
                          "#bd3786"
                        ],
                        [
                          0.5555555555555556,
                          "#d8576b"
                        ],
                        [
                          0.6666666666666666,
                          "#ed7953"
                        ],
                        [
                          0.7777777777777778,
                          "#fb9f3a"
                        ],
                        [
                          0.8888888888888888,
                          "#fdca26"
                        ],
                        [
                          1,
                          "#f0f921"
                        ]
                      ]
                    },
                    "colorway": [
                      "#636efa",
                      "#EF553B",
                      "#00cc96",
                      "#ab63fa",
                      "#FFA15A",
                      "#19d3f3",
                      "#FF6692",
                      "#B6E880",
                      "#FF97FF",
                      "#FECB52"
                    ],
                    "font": {
                      "color": "#2a3f5f"
                    },
                    "geo": {
                      "bgcolor": "white",
                      "lakecolor": "white",
                      "landcolor": "#E5ECF6",
                      "showlakes": true,
                      "showland": true,
                      "subunitcolor": "white"
                    },
                    "hoverlabel": {
                      "align": "left"
                    },
                    "hovermode": "closest",
                    "mapbox": {
                      "style": "light"
                    },
                    "paper_bgcolor": "white",
                    "plot_bgcolor": "#E5ECF6",
                    "polar": {
                      "angularaxis": {
                        "gridcolor": "white",
                        "linecolor": "white",
                        "ticks": ""
                      },
                      "bgcolor": "#E5ECF6",
                      "radialaxis": {
                        "gridcolor": "white",
                        "linecolor": "white",
                        "ticks": ""
                      }
                    },
                    "scene": {
                      "xaxis": {
                        "backgroundcolor": "#E5ECF6",
                        "gridcolor": "white",
                        "gridwidth": 2,
                        "linecolor": "white",
                        "showbackground": true,
                        "ticks": "",
                        "zerolinecolor": "white"
                      },
                      "yaxis": {
                        "backgroundcolor": "#E5ECF6",
                        "gridcolor": "white",
                        "gridwidth": 2,
                        "linecolor": "white",
                        "showbackground": true,
                        "ticks": "",
                        "zerolinecolor": "white"
                      },
                      "zaxis": {
                        "backgroundcolor": "#E5ECF6",
                        "gridcolor": "white",
                        "gridwidth": 2,
                        "linecolor": "white",
                        "showbackground": true,
                        "ticks": "",
                        "zerolinecolor": "white"
                      }
                    },
                    "shapedefaults": {
                      "line": {
                        "color": "#2a3f5f"
                      }
                    },
                    "ternary": {
                      "aaxis": {
                        "gridcolor": "white",
                        "linecolor": "white",
                        "ticks": ""
                      },
                      "baxis": {
                        "gridcolor": "white",
                        "linecolor": "white",
                        "ticks": ""
                      },
                      "bgcolor": "#E5ECF6",
                      "caxis": {
                        "gridcolor": "white",
                        "linecolor": "white",
                        "ticks": ""
                      }
                    },
                    "title": {
                      "x": 0.05
                    },
                    "xaxis": {
                      "automargin": true,
                      "gridcolor": "white",
                      "linecolor": "white",
                      "ticks": "",
                      "title": {
                        "standoff": 15
                      },
                      "zerolinecolor": "white",
                      "zerolinewidth": 2
                    },
                    "yaxis": {
                      "automargin": true,
                      "gridcolor": "white",
                      "linecolor": "white",
                      "ticks": "",
                      "title": {
                        "standoff": 15
                      },
                      "zerolinecolor": "white",
                      "zerolinewidth": 2
                    }
                  }
                },
                "title": {
                  "text": "Calibration plots (reliability curve)"
                },
                "width": 700,
                "xaxis": {
                  "title": {
                    "text": "Mean predicted value"
                  }
                },
                "yaxis": {
                  "title": {
                    "text": "Fraction of positives"
                  }
                }
              }
            }
          },
          "metadata": {},
          "output_type": "display_data"
        },
        {
          "data": {
            "text/html": [
              "<div>The Brier score metric may be used to assess how well a classifier is calibrated. For more info, please visit https://en.wikipedia.org/wiki/Brier_score</div><br><a href=\"#summary_Y10XZ\" style=\"font-size: 14px\">Go to top</a>"
            ]
          },
          "metadata": {},
          "output_type": "display_data"
        },
        {
          "data": {
            "text/html": [
              "<hr style=\"background-color: #eee;border: 0 none;color: #eee;height: 4px;\">"
            ]
          },
          "metadata": {},
          "output_type": "display_data"
        },
        {
          "data": {
            "text/html": [
              "<h4 id=\"CalibrationMetric-TestDataset_Y10XZ\">Calibration Metric - Test Dataset</h4><p>Calculate the calibration curve with brier score for each class. <a href=\"https://docs.deepchecks.com/0.6.1/examples/tabular/checks/performance/examples/plot_calibration_score.html?utm_source=display_output&utm_medium=referral&utm_campaign=check_link\" target=\"_blank\">Read More...</a></p><h5>Additional Outputs</h5><div>Calibration curves (also known as reliability diagrams) compare how well the probabilistic predictions of a binary classifier are calibrated. It plots the true frequency of the positive label against its predicted probability, for binned predictions.</div>"
            ]
          },
          "metadata": {},
          "output_type": "display_data"
        },
        {
          "data": {
            "application/vnd.plotly.v1+json": {
              "config": {
                "plotlyServerURL": "https://plot.ly"
              },
              "data": [
                {
                  "line": {
                    "dash": "dash",
                    "width": 2
                  },
                  "name": "Perfectly calibrated",
                  "type": "scatter",
                  "x": [
                    0,
                    1
                  ],
                  "y": [
                    0,
                    1
                  ]
                },
                {
                  "mode": "lines+markers",
                  "name": "(brier:   0.2490)",
                  "type": "scatter",
                  "x": [
                    0.0644453486420897,
                    0.15396645375271079,
                    0.2467882948186339,
                    0.3440776450633253,
                    0.44333788299929255,
                    0.5432034311268606,
                    0.6378272736079903,
                    0.7546557723088109,
                    0.8476386420406036,
                    0.9439210375735726
                  ],
                  "y": [
                    0.27631578947368424,
                    0.32679738562091504,
                    0.3492063492063492,
                    0.40714285714285714,
                    0.4,
                    0.48484848484848486,
                    0.3333333333333333,
                    0.6666666666666666,
                    0.64,
                    0.6470588235294118
                  ]
                }
              ],
              "layout": {
                "height": 500,
                "template": {
                  "data": {
                    "bar": [
                      {
                        "error_x": {
                          "color": "#2a3f5f"
                        },
                        "error_y": {
                          "color": "#2a3f5f"
                        },
                        "marker": {
                          "line": {
                            "color": "#E5ECF6",
                            "width": 0.5
                          },
                          "pattern": {
                            "fillmode": "overlay",
                            "size": 10,
                            "solidity": 0.2
                          }
                        },
                        "type": "bar"
                      }
                    ],
                    "barpolar": [
                      {
                        "marker": {
                          "line": {
                            "color": "#E5ECF6",
                            "width": 0.5
                          },
                          "pattern": {
                            "fillmode": "overlay",
                            "size": 10,
                            "solidity": 0.2
                          }
                        },
                        "type": "barpolar"
                      }
                    ],
                    "carpet": [
                      {
                        "aaxis": {
                          "endlinecolor": "#2a3f5f",
                          "gridcolor": "white",
                          "linecolor": "white",
                          "minorgridcolor": "white",
                          "startlinecolor": "#2a3f5f"
                        },
                        "baxis": {
                          "endlinecolor": "#2a3f5f",
                          "gridcolor": "white",
                          "linecolor": "white",
                          "minorgridcolor": "white",
                          "startlinecolor": "#2a3f5f"
                        },
                        "type": "carpet"
                      }
                    ],
                    "choropleth": [
                      {
                        "colorbar": {
                          "outlinewidth": 0,
                          "ticks": ""
                        },
                        "type": "choropleth"
                      }
                    ],
                    "contour": [
                      {
                        "colorbar": {
                          "outlinewidth": 0,
                          "ticks": ""
                        },
                        "colorscale": [
                          [
                            0,
                            "#0d0887"
                          ],
                          [
                            0.1111111111111111,
                            "#46039f"
                          ],
                          [
                            0.2222222222222222,
                            "#7201a8"
                          ],
                          [
                            0.3333333333333333,
                            "#9c179e"
                          ],
                          [
                            0.4444444444444444,
                            "#bd3786"
                          ],
                          [
                            0.5555555555555556,
                            "#d8576b"
                          ],
                          [
                            0.6666666666666666,
                            "#ed7953"
                          ],
                          [
                            0.7777777777777778,
                            "#fb9f3a"
                          ],
                          [
                            0.8888888888888888,
                            "#fdca26"
                          ],
                          [
                            1,
                            "#f0f921"
                          ]
                        ],
                        "type": "contour"
                      }
                    ],
                    "contourcarpet": [
                      {
                        "colorbar": {
                          "outlinewidth": 0,
                          "ticks": ""
                        },
                        "type": "contourcarpet"
                      }
                    ],
                    "heatmap": [
                      {
                        "colorbar": {
                          "outlinewidth": 0,
                          "ticks": ""
                        },
                        "colorscale": [
                          [
                            0,
                            "#0d0887"
                          ],
                          [
                            0.1111111111111111,
                            "#46039f"
                          ],
                          [
                            0.2222222222222222,
                            "#7201a8"
                          ],
                          [
                            0.3333333333333333,
                            "#9c179e"
                          ],
                          [
                            0.4444444444444444,
                            "#bd3786"
                          ],
                          [
                            0.5555555555555556,
                            "#d8576b"
                          ],
                          [
                            0.6666666666666666,
                            "#ed7953"
                          ],
                          [
                            0.7777777777777778,
                            "#fb9f3a"
                          ],
                          [
                            0.8888888888888888,
                            "#fdca26"
                          ],
                          [
                            1,
                            "#f0f921"
                          ]
                        ],
                        "type": "heatmap"
                      }
                    ],
                    "heatmapgl": [
                      {
                        "colorbar": {
                          "outlinewidth": 0,
                          "ticks": ""
                        },
                        "colorscale": [
                          [
                            0,
                            "#0d0887"
                          ],
                          [
                            0.1111111111111111,
                            "#46039f"
                          ],
                          [
                            0.2222222222222222,
                            "#7201a8"
                          ],
                          [
                            0.3333333333333333,
                            "#9c179e"
                          ],
                          [
                            0.4444444444444444,
                            "#bd3786"
                          ],
                          [
                            0.5555555555555556,
                            "#d8576b"
                          ],
                          [
                            0.6666666666666666,
                            "#ed7953"
                          ],
                          [
                            0.7777777777777778,
                            "#fb9f3a"
                          ],
                          [
                            0.8888888888888888,
                            "#fdca26"
                          ],
                          [
                            1,
                            "#f0f921"
                          ]
                        ],
                        "type": "heatmapgl"
                      }
                    ],
                    "histogram": [
                      {
                        "marker": {
                          "pattern": {
                            "fillmode": "overlay",
                            "size": 10,
                            "solidity": 0.2
                          }
                        },
                        "type": "histogram"
                      }
                    ],
                    "histogram2d": [
                      {
                        "colorbar": {
                          "outlinewidth": 0,
                          "ticks": ""
                        },
                        "colorscale": [
                          [
                            0,
                            "#0d0887"
                          ],
                          [
                            0.1111111111111111,
                            "#46039f"
                          ],
                          [
                            0.2222222222222222,
                            "#7201a8"
                          ],
                          [
                            0.3333333333333333,
                            "#9c179e"
                          ],
                          [
                            0.4444444444444444,
                            "#bd3786"
                          ],
                          [
                            0.5555555555555556,
                            "#d8576b"
                          ],
                          [
                            0.6666666666666666,
                            "#ed7953"
                          ],
                          [
                            0.7777777777777778,
                            "#fb9f3a"
                          ],
                          [
                            0.8888888888888888,
                            "#fdca26"
                          ],
                          [
                            1,
                            "#f0f921"
                          ]
                        ],
                        "type": "histogram2d"
                      }
                    ],
                    "histogram2dcontour": [
                      {
                        "colorbar": {
                          "outlinewidth": 0,
                          "ticks": ""
                        },
                        "colorscale": [
                          [
                            0,
                            "#0d0887"
                          ],
                          [
                            0.1111111111111111,
                            "#46039f"
                          ],
                          [
                            0.2222222222222222,
                            "#7201a8"
                          ],
                          [
                            0.3333333333333333,
                            "#9c179e"
                          ],
                          [
                            0.4444444444444444,
                            "#bd3786"
                          ],
                          [
                            0.5555555555555556,
                            "#d8576b"
                          ],
                          [
                            0.6666666666666666,
                            "#ed7953"
                          ],
                          [
                            0.7777777777777778,
                            "#fb9f3a"
                          ],
                          [
                            0.8888888888888888,
                            "#fdca26"
                          ],
                          [
                            1,
                            "#f0f921"
                          ]
                        ],
                        "type": "histogram2dcontour"
                      }
                    ],
                    "mesh3d": [
                      {
                        "colorbar": {
                          "outlinewidth": 0,
                          "ticks": ""
                        },
                        "type": "mesh3d"
                      }
                    ],
                    "parcoords": [
                      {
                        "line": {
                          "colorbar": {
                            "outlinewidth": 0,
                            "ticks": ""
                          }
                        },
                        "type": "parcoords"
                      }
                    ],
                    "pie": [
                      {
                        "automargin": true,
                        "type": "pie"
                      }
                    ],
                    "scatter": [
                      {
                        "marker": {
                          "colorbar": {
                            "outlinewidth": 0,
                            "ticks": ""
                          }
                        },
                        "type": "scatter"
                      }
                    ],
                    "scatter3d": [
                      {
                        "line": {
                          "colorbar": {
                            "outlinewidth": 0,
                            "ticks": ""
                          }
                        },
                        "marker": {
                          "colorbar": {
                            "outlinewidth": 0,
                            "ticks": ""
                          }
                        },
                        "type": "scatter3d"
                      }
                    ],
                    "scattercarpet": [
                      {
                        "marker": {
                          "colorbar": {
                            "outlinewidth": 0,
                            "ticks": ""
                          }
                        },
                        "type": "scattercarpet"
                      }
                    ],
                    "scattergeo": [
                      {
                        "marker": {
                          "colorbar": {
                            "outlinewidth": 0,
                            "ticks": ""
                          }
                        },
                        "type": "scattergeo"
                      }
                    ],
                    "scattergl": [
                      {
                        "marker": {
                          "colorbar": {
                            "outlinewidth": 0,
                            "ticks": ""
                          }
                        },
                        "type": "scattergl"
                      }
                    ],
                    "scattermapbox": [
                      {
                        "marker": {
                          "colorbar": {
                            "outlinewidth": 0,
                            "ticks": ""
                          }
                        },
                        "type": "scattermapbox"
                      }
                    ],
                    "scatterpolar": [
                      {
                        "marker": {
                          "colorbar": {
                            "outlinewidth": 0,
                            "ticks": ""
                          }
                        },
                        "type": "scatterpolar"
                      }
                    ],
                    "scatterpolargl": [
                      {
                        "marker": {
                          "colorbar": {
                            "outlinewidth": 0,
                            "ticks": ""
                          }
                        },
                        "type": "scatterpolargl"
                      }
                    ],
                    "scatterternary": [
                      {
                        "marker": {
                          "colorbar": {
                            "outlinewidth": 0,
                            "ticks": ""
                          }
                        },
                        "type": "scatterternary"
                      }
                    ],
                    "surface": [
                      {
                        "colorbar": {
                          "outlinewidth": 0,
                          "ticks": ""
                        },
                        "colorscale": [
                          [
                            0,
                            "#0d0887"
                          ],
                          [
                            0.1111111111111111,
                            "#46039f"
                          ],
                          [
                            0.2222222222222222,
                            "#7201a8"
                          ],
                          [
                            0.3333333333333333,
                            "#9c179e"
                          ],
                          [
                            0.4444444444444444,
                            "#bd3786"
                          ],
                          [
                            0.5555555555555556,
                            "#d8576b"
                          ],
                          [
                            0.6666666666666666,
                            "#ed7953"
                          ],
                          [
                            0.7777777777777778,
                            "#fb9f3a"
                          ],
                          [
                            0.8888888888888888,
                            "#fdca26"
                          ],
                          [
                            1,
                            "#f0f921"
                          ]
                        ],
                        "type": "surface"
                      }
                    ],
                    "table": [
                      {
                        "cells": {
                          "fill": {
                            "color": "#EBF0F8"
                          },
                          "line": {
                            "color": "white"
                          }
                        },
                        "header": {
                          "fill": {
                            "color": "#C8D4E3"
                          },
                          "line": {
                            "color": "white"
                          }
                        },
                        "type": "table"
                      }
                    ]
                  },
                  "layout": {
                    "annotationdefaults": {
                      "arrowcolor": "#2a3f5f",
                      "arrowhead": 0,
                      "arrowwidth": 1
                    },
                    "autotypenumbers": "strict",
                    "coloraxis": {
                      "colorbar": {
                        "outlinewidth": 0,
                        "ticks": ""
                      }
                    },
                    "colorscale": {
                      "diverging": [
                        [
                          0,
                          "#8e0152"
                        ],
                        [
                          0.1,
                          "#c51b7d"
                        ],
                        [
                          0.2,
                          "#de77ae"
                        ],
                        [
                          0.3,
                          "#f1b6da"
                        ],
                        [
                          0.4,
                          "#fde0ef"
                        ],
                        [
                          0.5,
                          "#f7f7f7"
                        ],
                        [
                          0.6,
                          "#e6f5d0"
                        ],
                        [
                          0.7,
                          "#b8e186"
                        ],
                        [
                          0.8,
                          "#7fbc41"
                        ],
                        [
                          0.9,
                          "#4d9221"
                        ],
                        [
                          1,
                          "#276419"
                        ]
                      ],
                      "sequential": [
                        [
                          0,
                          "#0d0887"
                        ],
                        [
                          0.1111111111111111,
                          "#46039f"
                        ],
                        [
                          0.2222222222222222,
                          "#7201a8"
                        ],
                        [
                          0.3333333333333333,
                          "#9c179e"
                        ],
                        [
                          0.4444444444444444,
                          "#bd3786"
                        ],
                        [
                          0.5555555555555556,
                          "#d8576b"
                        ],
                        [
                          0.6666666666666666,
                          "#ed7953"
                        ],
                        [
                          0.7777777777777778,
                          "#fb9f3a"
                        ],
                        [
                          0.8888888888888888,
                          "#fdca26"
                        ],
                        [
                          1,
                          "#f0f921"
                        ]
                      ],
                      "sequentialminus": [
                        [
                          0,
                          "#0d0887"
                        ],
                        [
                          0.1111111111111111,
                          "#46039f"
                        ],
                        [
                          0.2222222222222222,
                          "#7201a8"
                        ],
                        [
                          0.3333333333333333,
                          "#9c179e"
                        ],
                        [
                          0.4444444444444444,
                          "#bd3786"
                        ],
                        [
                          0.5555555555555556,
                          "#d8576b"
                        ],
                        [
                          0.6666666666666666,
                          "#ed7953"
                        ],
                        [
                          0.7777777777777778,
                          "#fb9f3a"
                        ],
                        [
                          0.8888888888888888,
                          "#fdca26"
                        ],
                        [
                          1,
                          "#f0f921"
                        ]
                      ]
                    },
                    "colorway": [
                      "#636efa",
                      "#EF553B",
                      "#00cc96",
                      "#ab63fa",
                      "#FFA15A",
                      "#19d3f3",
                      "#FF6692",
                      "#B6E880",
                      "#FF97FF",
                      "#FECB52"
                    ],
                    "font": {
                      "color": "#2a3f5f"
                    },
                    "geo": {
                      "bgcolor": "white",
                      "lakecolor": "white",
                      "landcolor": "#E5ECF6",
                      "showlakes": true,
                      "showland": true,
                      "subunitcolor": "white"
                    },
                    "hoverlabel": {
                      "align": "left"
                    },
                    "hovermode": "closest",
                    "mapbox": {
                      "style": "light"
                    },
                    "paper_bgcolor": "white",
                    "plot_bgcolor": "#E5ECF6",
                    "polar": {
                      "angularaxis": {
                        "gridcolor": "white",
                        "linecolor": "white",
                        "ticks": ""
                      },
                      "bgcolor": "#E5ECF6",
                      "radialaxis": {
                        "gridcolor": "white",
                        "linecolor": "white",
                        "ticks": ""
                      }
                    },
                    "scene": {
                      "xaxis": {
                        "backgroundcolor": "#E5ECF6",
                        "gridcolor": "white",
                        "gridwidth": 2,
                        "linecolor": "white",
                        "showbackground": true,
                        "ticks": "",
                        "zerolinecolor": "white"
                      },
                      "yaxis": {
                        "backgroundcolor": "#E5ECF6",
                        "gridcolor": "white",
                        "gridwidth": 2,
                        "linecolor": "white",
                        "showbackground": true,
                        "ticks": "",
                        "zerolinecolor": "white"
                      },
                      "zaxis": {
                        "backgroundcolor": "#E5ECF6",
                        "gridcolor": "white",
                        "gridwidth": 2,
                        "linecolor": "white",
                        "showbackground": true,
                        "ticks": "",
                        "zerolinecolor": "white"
                      }
                    },
                    "shapedefaults": {
                      "line": {
                        "color": "#2a3f5f"
                      }
                    },
                    "ternary": {
                      "aaxis": {
                        "gridcolor": "white",
                        "linecolor": "white",
                        "ticks": ""
                      },
                      "baxis": {
                        "gridcolor": "white",
                        "linecolor": "white",
                        "ticks": ""
                      },
                      "bgcolor": "#E5ECF6",
                      "caxis": {
                        "gridcolor": "white",
                        "linecolor": "white",
                        "ticks": ""
                      }
                    },
                    "title": {
                      "x": 0.05
                    },
                    "xaxis": {
                      "automargin": true,
                      "gridcolor": "white",
                      "linecolor": "white",
                      "ticks": "",
                      "title": {
                        "standoff": 15
                      },
                      "zerolinecolor": "white",
                      "zerolinewidth": 2
                    },
                    "yaxis": {
                      "automargin": true,
                      "gridcolor": "white",
                      "linecolor": "white",
                      "ticks": "",
                      "title": {
                        "standoff": 15
                      },
                      "zerolinecolor": "white",
                      "zerolinewidth": 2
                    }
                  }
                },
                "title": {
                  "text": "Calibration plots (reliability curve)"
                },
                "width": 700,
                "xaxis": {
                  "title": {
                    "text": "Mean predicted value"
                  }
                },
                "yaxis": {
                  "title": {
                    "text": "Fraction of positives"
                  }
                }
              }
            }
          },
          "metadata": {},
          "output_type": "display_data"
        },
        {
          "data": {
            "text/html": [
              "<div>The Brier score metric may be used to assess how well a classifier is calibrated. For more info, please visit https://en.wikipedia.org/wiki/Brier_score</div><br><a href=\"#summary_Y10XZ\" style=\"font-size: 14px\">Go to top</a>"
            ]
          },
          "metadata": {},
          "output_type": "display_data"
        },
        {
          "data": {
            "text/html": [
              "<hr style=\"background-color: black;border: 0 none;color: black;height: 1px;\"><h2>Other Checks That Weren't Displayed</h2><style type=\"text/css\">\n",
              "#T_5b863 table {\n",
              "  text-align: left;\n",
              "  white-space: pre-wrap;\n",
              "}\n",
              "#T_5b863 thead {\n",
              "  text-align: left;\n",
              "  white-space: pre-wrap;\n",
              "}\n",
              "#T_5b863 tbody {\n",
              "  text-align: left;\n",
              "  white-space: pre-wrap;\n",
              "}\n",
              "#T_5b863 th {\n",
              "  text-align: left;\n",
              "  white-space: pre-wrap;\n",
              "}\n",
              "#T_5b863 td {\n",
              "  text-align: left;\n",
              "  white-space: pre-wrap;\n",
              "}\n",
              "</style>\n",
              "<table id=\"T_5b863\">\n",
              "  <thead>\n",
              "    <tr>\n",
              "      <th id=\"T_5b863_level0_col0\" class=\"col_heading level0 col0\" >Check</th>\n",
              "      <th id=\"T_5b863_level0_col1\" class=\"col_heading level0 col1\" >Reason</th>\n",
              "    </tr>\n",
              "  </thead>\n",
              "  <tbody>\n",
              "    <tr>\n",
              "      <td id=\"T_5b863_row0_col0\" class=\"data row0 col0\" >Model Error Analysis</td>\n",
              "      <td id=\"T_5b863_row0_col1\" class=\"data row0 col1\" >Unable to train meaningful error model (r^2 score: -0.15)</td>\n",
              "    </tr>\n",
              "    <tr>\n",
              "      <td id=\"T_5b863_row1_col0\" class=\"data row1 col0\" >Index Train Test Leakage</td>\n",
              "      <td id=\"T_5b863_row1_col1\" class=\"data row1 col1\" >There is no index defined to use. Did you pass a DataFrame instead of a Dataset?</td>\n",
              "    </tr>\n",
              "    <tr>\n",
              "      <td id=\"T_5b863_row2_col0\" class=\"data row2 col0\" >Identifier Leakage - Train Dataset</td>\n",
              "      <td id=\"T_5b863_row2_col1\" class=\"data row2 col1\" >Check is irrelevant for Datasets without index or date column</td>\n",
              "    </tr>\n",
              "    <tr>\n",
              "      <td id=\"T_5b863_row3_col0\" class=\"data row3 col0\" >Date Train Test Leakage Overlap</td>\n",
              "      <td id=\"T_5b863_row3_col1\" class=\"data row3 col1\" >There is no datetime defined to use. Did you pass a DataFrame instead of a Dataset?</td>\n",
              "    </tr>\n",
              "    <tr>\n",
              "      <td id=\"T_5b863_row4_col0\" class=\"data row4 col0\" >Date Train Test Leakage Duplicates</td>\n",
              "      <td id=\"T_5b863_row4_col1\" class=\"data row4 col1\" >There is no datetime defined to use. Did you pass a DataFrame instead of a Dataset?</td>\n",
              "    </tr>\n",
              "    <tr>\n",
              "      <td id=\"T_5b863_row5_col0\" class=\"data row5 col0\" >Identifier Leakage - Test Dataset</td>\n",
              "      <td id=\"T_5b863_row5_col1\" class=\"data row5 col1\" >Check is irrelevant for Datasets without index or date column</td>\n",
              "    </tr>\n",
              "    <tr>\n",
              "      <td id=\"T_5b863_row6_col0\" class=\"data row6 col0\" >Regression Error Distribution - Test Dataset</td>\n",
              "      <td id=\"T_5b863_row6_col1\" class=\"data row6 col1\" >Check is relevant for models of type ['regression'], but received model of type 'binary'</td>\n",
              "    </tr>\n",
              "    <tr>\n",
              "      <td id=\"T_5b863_row7_col0\" class=\"data row7 col0\" >Regression Error Distribution - Train Dataset</td>\n",
              "      <td id=\"T_5b863_row7_col1\" class=\"data row7 col1\" >Check is relevant for models of type ['regression'], but received model of type 'binary'</td>\n",
              "    </tr>\n",
              "    <tr>\n",
              "      <td id=\"T_5b863_row8_col0\" class=\"data row8 col0\" >Regression Systematic Error - Test Dataset</td>\n",
              "      <td id=\"T_5b863_row8_col1\" class=\"data row8 col1\" >Check is relevant for models of type ['regression'], but received model of type 'binary'</td>\n",
              "    </tr>\n",
              "    <tr>\n",
              "      <td id=\"T_5b863_row9_col0\" class=\"data row9 col0\" >Regression Systematic Error - Train Dataset</td>\n",
              "      <td id=\"T_5b863_row9_col1\" class=\"data row9 col1\" >Check is relevant for models of type ['regression'], but received model of type 'binary'</td>\n",
              "    </tr>\n",
              "    <tr>\n",
              "      <td id=\"T_5b863_row10_col0\" class=\"data row10 col0\" >Boosting Overfit</td>\n",
              "      <td id=\"T_5b863_row10_col1\" class=\"data row10 col1\" >Check is relevant for Boosting models of type ('AdaBoostClassifier', 'GradientBoostingClassifier', 'LGBMClassifier', 'XGBClassifier', 'CatBoostClassifier', 'AdaBoostRegressor', 'GradientBoostingRegressor', 'LGBMRegressor', 'XGBRegressor', 'CatBoostRegressor'), but received model of type SoftSplitDecisionTreeClassifier</td>\n",
              "    </tr>\n",
              "    <tr>\n",
              "      <td id=\"T_5b863_row11_col0\" class=\"data row11 col0\" >Unused Features</td>\n",
              "      <td id=\"T_5b863_row11_col1\" class=\"data row11 col1\" >Nothing found</td>\n",
              "    </tr>\n",
              "    <tr>\n",
              "      <td id=\"T_5b863_row12_col0\" class=\"data row12 col0\" >Special Characters - Test Dataset</td>\n",
              "      <td id=\"T_5b863_row12_col1\" class=\"data row12 col1\" >Nothing found</td>\n",
              "    </tr>\n",
              "    <tr>\n",
              "      <td id=\"T_5b863_row13_col0\" class=\"data row13 col0\" >Special Characters - Train Dataset</td>\n",
              "      <td id=\"T_5b863_row13_col1\" class=\"data row13 col1\" >Nothing found</td>\n",
              "    </tr>\n",
              "    <tr>\n",
              "      <td id=\"T_5b863_row14_col0\" class=\"data row14 col0\" >String Length Out Of Bounds - Test Dataset</td>\n",
              "      <td id=\"T_5b863_row14_col1\" class=\"data row14 col1\" >Nothing found</td>\n",
              "    </tr>\n",
              "    <tr>\n",
              "      <td id=\"T_5b863_row15_col0\" class=\"data row15 col0\" >String Length Out Of Bounds - Train Dataset</td>\n",
              "      <td id=\"T_5b863_row15_col1\" class=\"data row15 col1\" >Nothing found</td>\n",
              "    </tr>\n",
              "    <tr>\n",
              "      <td id=\"T_5b863_row16_col0\" class=\"data row16 col0\" >Data Duplicates - Test Dataset</td>\n",
              "      <td id=\"T_5b863_row16_col1\" class=\"data row16 col1\" >Nothing found</td>\n",
              "    </tr>\n",
              "    <tr>\n",
              "      <td id=\"T_5b863_row17_col0\" class=\"data row17 col0\" >Data Duplicates - Train Dataset</td>\n",
              "      <td id=\"T_5b863_row17_col1\" class=\"data row17 col1\" >Nothing found</td>\n",
              "    </tr>\n",
              "    <tr>\n",
              "      <td id=\"T_5b863_row18_col0\" class=\"data row18 col0\" >String Mismatch - Test Dataset</td>\n",
              "      <td id=\"T_5b863_row18_col1\" class=\"data row18 col1\" >Nothing found</td>\n",
              "    </tr>\n",
              "    <tr>\n",
              "      <td id=\"T_5b863_row19_col0\" class=\"data row19 col0\" >String Mismatch - Train Dataset</td>\n",
              "      <td id=\"T_5b863_row19_col1\" class=\"data row19 col1\" >Nothing found</td>\n",
              "    </tr>\n",
              "    <tr>\n",
              "      <td id=\"T_5b863_row20_col0\" class=\"data row20 col0\" >Mixed Data Types - Test Dataset</td>\n",
              "      <td id=\"T_5b863_row20_col1\" class=\"data row20 col1\" >Nothing found</td>\n",
              "    </tr>\n",
              "    <tr>\n",
              "      <td id=\"T_5b863_row21_col0\" class=\"data row21 col0\" >Mixed Data Types - Train Dataset</td>\n",
              "      <td id=\"T_5b863_row21_col1\" class=\"data row21 col1\" >Nothing found</td>\n",
              "    </tr>\n",
              "    <tr>\n",
              "      <td id=\"T_5b863_row22_col0\" class=\"data row22 col0\" >Single Value in Column - Test Dataset</td>\n",
              "      <td id=\"T_5b863_row22_col1\" class=\"data row22 col1\" >Nothing found</td>\n",
              "    </tr>\n",
              "    <tr>\n",
              "      <td id=\"T_5b863_row23_col0\" class=\"data row23 col0\" >Mixed Nulls - Train Dataset</td>\n",
              "      <td id=\"T_5b863_row23_col1\" class=\"data row23 col1\" >Nothing found</td>\n",
              "    </tr>\n",
              "    <tr>\n",
              "      <td id=\"T_5b863_row24_col0\" class=\"data row24 col0\" >Single Value in Column - Train Dataset</td>\n",
              "      <td id=\"T_5b863_row24_col1\" class=\"data row24 col1\" >Nothing found</td>\n",
              "    </tr>\n",
              "    <tr>\n",
              "      <td id=\"T_5b863_row25_col0\" class=\"data row25 col0\" >Label Ambiguity - Train Dataset</td>\n",
              "      <td id=\"T_5b863_row25_col1\" class=\"data row25 col1\" >Nothing found</td>\n",
              "    </tr>\n",
              "    <tr>\n",
              "      <td id=\"T_5b863_row26_col0\" class=\"data row26 col0\" >Train Test Samples Mix</td>\n",
              "      <td id=\"T_5b863_row26_col1\" class=\"data row26 col1\" >Nothing found</td>\n",
              "    </tr>\n",
              "    <tr>\n",
              "      <td id=\"T_5b863_row27_col0\" class=\"data row27 col0\" >Single Feature Contribution Train-Test</td>\n",
              "      <td id=\"T_5b863_row27_col1\" class=\"data row27 col1\" >Nothing found</td>\n",
              "    </tr>\n",
              "    <tr>\n",
              "      <td id=\"T_5b863_row28_col0\" class=\"data row28 col0\" >String Mismatch Comparison</td>\n",
              "      <td id=\"T_5b863_row28_col1\" class=\"data row28 col1\" >Nothing found</td>\n",
              "    </tr>\n",
              "    <tr>\n",
              "      <td id=\"T_5b863_row29_col0\" class=\"data row29 col0\" >New Label Train Test</td>\n",
              "      <td id=\"T_5b863_row29_col1\" class=\"data row29 col1\" >Nothing found</td>\n",
              "    </tr>\n",
              "    <tr>\n",
              "      <td id=\"T_5b863_row30_col0\" class=\"data row30 col0\" >Category Mismatch Train Test</td>\n",
              "      <td id=\"T_5b863_row30_col1\" class=\"data row30 col1\" >Nothing found</td>\n",
              "    </tr>\n",
              "    <tr>\n",
              "      <td id=\"T_5b863_row31_col0\" class=\"data row31 col0\" >Dominant Frequency Change</td>\n",
              "      <td id=\"T_5b863_row31_col1\" class=\"data row31 col1\" >Nothing found</td>\n",
              "    </tr>\n",
              "    <tr>\n",
              "      <td id=\"T_5b863_row32_col0\" class=\"data row32 col0\" >Whole Dataset Drift</td>\n",
              "      <td id=\"T_5b863_row32_col1\" class=\"data row32 col1\" >Nothing found</td>\n",
              "    </tr>\n",
              "    <tr>\n",
              "      <td id=\"T_5b863_row33_col0\" class=\"data row33 col0\" >Mixed Nulls - Test Dataset</td>\n",
              "      <td id=\"T_5b863_row33_col1\" class=\"data row33 col1\" >Nothing found</td>\n",
              "    </tr>\n",
              "    <tr>\n",
              "      <td id=\"T_5b863_row34_col0\" class=\"data row34 col0\" >Label Ambiguity - Test Dataset</td>\n",
              "      <td id=\"T_5b863_row34_col1\" class=\"data row34 col1\" >Nothing found</td>\n",
              "    </tr>\n",
              "  </tbody>\n",
              "</table>\n"
            ]
          },
          "metadata": {},
          "output_type": "display_data"
        },
        {
          "data": {
            "text/html": [
              "<br><a href=\"#summary_Y10XZ\" style=\"font-size: 14px\">Go to top</a>"
            ]
          },
          "metadata": {},
          "output_type": "display_data"
        }
      ],
      "source": [
        "suite.run(train_dataset=ds_train, test_dataset=ds_test, model=rf_clf)"
      ]
    }
  ],
  "metadata": {
    "kernelspec": {
      "display_name": "Python 3",
      "language": "python",
      "name": "python3"
    },
    "language_info": {
      "codemirror_mode": {
        "name": "ipython",
        "version": 3
      },
      "file_extension": ".py",
      "mimetype": "text/x-python",
      "name": "python",
      "nbconvert_exporter": "python",
      "pygments_lexer": "ipython3",
      "version": "3.8.9"
    }
  },
  "nbformat": 4,
  "nbformat_minor": 0
}
