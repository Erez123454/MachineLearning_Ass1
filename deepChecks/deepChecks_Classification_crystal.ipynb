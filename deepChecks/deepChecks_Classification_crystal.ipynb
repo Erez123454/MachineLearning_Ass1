{
  "cells": [
    {
      "cell_type": "code",
      "execution_count": null,
      "metadata": {
        "collapsed": false
      },
      "outputs": [],
      "source": [
        "%matplotlib inline"
      ]
    },
    {
      "cell_type": "code",
      "execution_count": 1,
      "metadata": {},
      "outputs": [],
      "source": [
        "from random import random\n",
        "from sklearn import tree\n",
        "from sklearn.tree import _tree\n",
        "from sklearn.utils.validation import check_is_fitted, _deprecate_positional_args\n",
        "\n",
        "\n",
        "class SoftSplitDecisionTreeClassifier(tree.DecisionTreeClassifier):\n",
        "    def __init__(self, *,n=100,\n",
        "                 alphaProbability=0.1,\n",
        "                 criterion=\"gini\",\n",
        "                 splitter=\"best\",\n",
        "                 max_depth=None,\n",
        "                 min_samples_split=2,\n",
        "                 min_samples_leaf=1,\n",
        "                 min_weight_fraction_leaf=0.,\n",
        "                 max_features=None,\n",
        "                 random_state=None,\n",
        "                 max_leaf_nodes=None,\n",
        "                 min_impurity_decrease=0.,\n",
        "                 class_weight=None,\n",
        "                 ccp_alpha=0.0):\n",
        "        super().__init__(\n",
        "            criterion=criterion,\n",
        "            splitter=splitter,\n",
        "            max_depth=max_depth,\n",
        "            min_samples_split=min_samples_split,\n",
        "            min_samples_leaf=min_samples_leaf,\n",
        "            min_weight_fraction_leaf=min_weight_fraction_leaf,\n",
        "            max_features=max_features,\n",
        "            random_state=random_state,\n",
        "            max_leaf_nodes=max_leaf_nodes,\n",
        "            min_impurity_decrease=min_impurity_decrease,\n",
        "            class_weight=class_weight,\n",
        "            ccp_alpha=ccp_alpha)\n",
        "        self.n=n\n",
        "        self.alphaProbability=alphaProbability\n",
        "\n",
        "\n",
        "    def predict(self, X, check_input=True):\n",
        "        # check_is_fitted(self)\n",
        "        # X = self._validate_X_predict(X, check_input)\n",
        "        # return self.predictWrapper(X)\n",
        "        \"\"\"Predict class or regression value for X.\n",
        "\n",
        "        For a classification model, the predicted class for each sample in X is\n",
        "        returned. For a regression model, the predicted value based on X is\n",
        "        returned.\n",
        "\n",
        "        Parameters\n",
        "        ----------\n",
        "        X : {array-like, sparse matrix} of shape (n_samples, n_features)\n",
        "            The input samples. Internally, it will be converted to\n",
        "            ``dtype=np.float32`` and if a sparse matrix is provided\n",
        "            to a sparse ``csr_matrix``.\n",
        "\n",
        "        check_input : bool, default=True\n",
        "            Allow to bypass several input checking.\n",
        "            Don't use this parameter unless you know what you do.\n",
        "\n",
        "        Returns\n",
        "        -------\n",
        "        y : array-like of shape (n_samples,) or (n_samples, n_outputs)\n",
        "            The predicted classes, or the predict values.\n",
        "        \"\"\"\n",
        "        check_is_fitted(self)\n",
        "        X = self._validate_X_predict(X, check_input)\n",
        "        proba = self.predict_proba(X,check_input)\n",
        "        n_samples = X.shape[0]\n",
        "\n",
        "        # Classification\n",
        "        if self.n_outputs_ == 1:\n",
        "            return self.classes_.take(np.argmax(proba, axis=1), axis=0)\n",
        "\n",
        "        else:\n",
        "            class_type = self.classes_[0].dtype\n",
        "            predictions = np.zeros((n_samples, self.n_outputs_),\n",
        "                                   dtype=class_type)\n",
        "            for k in range(self.n_outputs_):\n",
        "                predictions[:, k] = self.classes_[k].take(\n",
        "                    np.argmax(proba[:, k], axis=1),\n",
        "                    axis=0)\n",
        "\n",
        "            return predictions\n",
        "\n",
        "    def predictWrapper(self,row,predictionFunction):\n",
        "        '''\n",
        "        Function to wrap the single prediction process, the function will\n",
        "        run the prediction for n iteration\n",
        "        :param X:\n",
        "        :type X:\n",
        "        :param n:\n",
        "        :type n:\n",
        "        :param alphaProbability:\n",
        "        :type alphaProbability:\n",
        "        :return:\n",
        "        :rtype:\n",
        "        '''\n",
        "        predictions = np.array([predictionFunction(row) for i in range(self.n)])\n",
        "        avgPredictions = np.array([np.array([val for val in i]) for i in predictions.mean(0)])\n",
        "        return avgPredictions\n",
        "\n",
        "    def predict_proba(self, X, check_input=True):\n",
        "        \"\"\"Predict class probabilities of the input samples X.\n",
        "\n",
        "        The predicted class probability is the fraction of samples of the same\n",
        "        class in a leaf.\n",
        "\n",
        "        Parameters\n",
        "        ----------\n",
        "        X : {array-like, sparse matrix} of shape (n_samples, n_features)\n",
        "            The input samples. Internally, it will be converted to\n",
        "            ``dtype=np.float32`` and if a sparse matrix is provided\n",
        "            to a sparse ``csr_matrix``.\n",
        "\n",
        "        alphaProbability : double, default=0 probability to choose the opposite decision path.\n",
        "\n",
        "        check_input : bool, default=True\n",
        "            Allow to bypass several input checking.\n",
        "            Don't use this parameter unless you know what you do.\n",
        "\n",
        "        Returns\n",
        "        -------\n",
        "        proba : ndarray of shape (n_samples, n_classes) or list of n_outputs \\\n",
        "            such arrays if n_outputs > 1\n",
        "            The class probabilities of the input samples. The order of the\n",
        "            classes corresponds to that in the attribute :term:`classes_`.\n",
        "        \"\"\"\n",
        "        check_is_fitted(self)\n",
        "        X = self._validate_X_predict(X, check_input)\n",
        "        probabilisticPredictionFunction = self._generateProbabilisticPredictionFunction(self.alphaProbability)\n",
        "        probaList = [self.predictWrapper(row, probabilisticPredictionFunction) for row in X]\n",
        "        proba = np.concatenate(probaList, axis=0)\n",
        "\n",
        "        if self.n_outputs_ == 1:\n",
        "            proba = proba[:, :self.n_classes_]\n",
        "            normalizer = proba.sum(axis=1)[:, np.newaxis]\n",
        "            normalizer[normalizer == 0.0] = 1.0\n",
        "            proba /= normalizer\n",
        "\n",
        "            return proba\n",
        "\n",
        "        else:\n",
        "            all_proba = []\n",
        "\n",
        "            for k in range(self.n_outputs_):\n",
        "                proba_k = proba[:, k, :self.n_classes_[k]]\n",
        "                normalizer = proba_k.sum(axis=1)[:, np.newaxis]\n",
        "                normalizer[normalizer == 0.0] = 1.0\n",
        "                proba_k /= normalizer\n",
        "                all_proba.append(proba_k)\n",
        "\n",
        "            return all_proba\n",
        "\n",
        "    def _generateProbabilisticPredictionFunction(self, alphaProbability):\n",
        "        '''\n",
        "        Private util function to generate probabilistic prediction function.\n",
        "        :param alphaProbability:\n",
        "        :type alphaProbability:\n",
        "        :return: function which accept single record\n",
        "        :rtype: function\n",
        "        '''\n",
        "        tree = self.tree_\n",
        "\n",
        "        def _traverse(sample, currNode):\n",
        "            '''\n",
        "            private function to traverse in the decision tree\n",
        "            :param sample: single record without the target variable\n",
        "            :type sample: pandas dataframe\n",
        "            :param currNode: index of the current node in the tree struct\n",
        "            :type currNode: int\n",
        "            :return: array of n-output of the classes, hold values for the record\n",
        "            :rtype: nd.array\n",
        "            '''\n",
        "            if tree.feature[currNode] != _tree.TREE_UNDEFINED:\n",
        "                randomProb = random()\n",
        "                sampleValue = sample[tree.feature[currNode]]\n",
        "                if sampleValue <= tree.threshold[currNode]:\n",
        "                    if (1 - alphaProbability) >= randomProb:\n",
        "                        return _traverse(sample, tree.children_left[currNode])\n",
        "                    else:\n",
        "                        return _traverse(sample, tree.children_right[currNode])\n",
        "                else:\n",
        "                    if (1 - alphaProbability) >= randomProb:\n",
        "                        return _traverse(sample, tree.children_right[currNode])\n",
        "                    else:\n",
        "                        return _traverse(sample, tree.children_left[currNode])\n",
        "            else:\n",
        "                value = tree.value[currNode]\n",
        "                return value\n",
        "\n",
        "        def _predict_single(sample):\n",
        "            '''\n",
        "            Util function to wrap the sample and the tree traverse for lazy use\n",
        "            :param sample:\n",
        "            :type sample:\n",
        "            :return: application of the traverse with the given sample and the root\n",
        "            :rtype:\n",
        "            '''\n",
        "            return _traverse(sample, 0)\n",
        "\n",
        "        return _predict_single\n",
        "\n",
        "\n",
        "class SoftSplitDecisionTreeRegressor(tree.DecisionTreeRegressor):\n",
        "    \"\"\"A decision tree regressor.\n",
        "\n",
        "    Read more in the :ref:`User Guide <tree>`.\n",
        "\n",
        "    Parameters\n",
        "    ----------\n",
        "    criterion : {\"mse\", \"friedman_mse\", \"mae\", \"poisson\"}, default=\"mse\"\n",
        "        The function to measure the quality of a split. Supported criteria\n",
        "        are \"mse\" for the mean squared error, which is equal to variance\n",
        "        reduction as feature selection criterion and minimizes the L2 loss\n",
        "        using the mean of each terminal node, \"friedman_mse\", which uses mean\n",
        "        squared error with Friedman's improvement score for potential splits,\n",
        "        \"mae\" for the mean absolute error, which minimizes the L1 loss using\n",
        "        the median of each terminal node, and \"poisson\" which uses reduction in\n",
        "        Poisson deviance to find splits.\n",
        "\n",
        "        .. versionadded:: 0.18\n",
        "           Mean Absolute Error (MAE) criterion.\n",
        "\n",
        "        .. versionadded:: 0.24\n",
        "            Poisson deviance criterion.\n",
        "\n",
        "    splitter : {\"best\", \"random\"}, default=\"best\"\n",
        "        The strategy used to choose the split at each node. Supported\n",
        "        strategies are \"best\" to choose the best split and \"random\" to choose\n",
        "        the best random split.\n",
        "\n",
        "    max_depth : int, default=None\n",
        "        The maximum depth of the tree. If None, then nodes are expanded until\n",
        "        all leaves are pure or until all leaves contain less than\n",
        "        min_samples_split samples.\n",
        "\n",
        "    min_samples_split : int or float, default=2\n",
        "        The minimum number of samples required to split an internal node:\n",
        "\n",
        "        - If int, then consider `min_samples_split` as the minimum number.\n",
        "        - If float, then `min_samples_split` is a fraction and\n",
        "          `ceil(min_samples_split * n_samples)` are the minimum\n",
        "          number of samples for each split.\n",
        "\n",
        "        .. versionchanged:: 0.18\n",
        "           Added float values for fractions.\n",
        "\n",
        "    min_samples_leaf : int or float, default=1\n",
        "        The minimum number of samples required to be at a leaf node.\n",
        "        A split point at any depth will only be considered if it leaves at\n",
        "        least ``min_samples_leaf`` training samples in each of the left and\n",
        "        right branches.  This may have the effect of smoothing the model,\n",
        "        especially in regression.\n",
        "\n",
        "        - If int, then consider `min_samples_leaf` as the minimum number.\n",
        "        - If float, then `min_samples_leaf` is a fraction and\n",
        "          `ceil(min_samples_leaf * n_samples)` are the minimum\n",
        "          number of samples for each node.\n",
        "\n",
        "        .. versionchanged:: 0.18\n",
        "           Added float values for fractions.\n",
        "\n",
        "    min_weight_fraction_leaf : float, default=0.0\n",
        "        The minimum weighted fraction of the sum total of weights (of all\n",
        "        the input samples) required to be at a leaf node. Samples have\n",
        "        equal weight when sample_weight is not provided.\n",
        "\n",
        "    max_features : int, float or {\"auto\", \"sqrt\", \"log2\"}, default=None\n",
        "        The number of features to consider when looking for the best split:\n",
        "\n",
        "        - If int, then consider `max_features` features at each split.\n",
        "        - If float, then `max_features` is a fraction and\n",
        "          `int(max_features * n_features)` features are considered at each\n",
        "          split.\n",
        "        - If \"auto\", then `max_features=n_features`.\n",
        "        - If \"sqrt\", then `max_features=sqrt(n_features)`.\n",
        "        - If \"log2\", then `max_features=log2(n_features)`.\n",
        "        - If None, then `max_features=n_features`.\n",
        "\n",
        "        Note: the search for a split does not stop until at least one\n",
        "        valid partition of the node samples is found, even if it requires to\n",
        "        effectively inspect more than ``max_features`` features.\n",
        "\n",
        "    random_state : int, RandomState instance or None, default=None\n",
        "        Controls the randomness of the estimator. The features are always\n",
        "        randomly permuted at each split, even if ``splitter`` is set to\n",
        "        ``\"best\"``. When ``max_features < n_features``, the algorithm will\n",
        "        select ``max_features`` at random at each split before finding the best\n",
        "        split among them. But the best found split may vary across different\n",
        "        runs, even if ``max_features=n_features``. That is the case, if the\n",
        "        improvement of the criterion is identical for several splits and one\n",
        "        split has to be selected at random. To obtain a deterministic behaviour\n",
        "        during fitting, ``random_state`` has to be fixed to an integer.\n",
        "        See :term:`Glossary <random_state>` for details.\n",
        "\n",
        "    max_leaf_nodes : int, default=None\n",
        "        Grow a tree with ``max_leaf_nodes`` in best-first fashion.\n",
        "        Best nodes are defined as relative reduction in impurity.\n",
        "        If None then unlimited number of leaf nodes.\n",
        "\n",
        "    min_impurity_decrease : float, default=0.0\n",
        "        A node will be split if this split induces a decrease of the impurity\n",
        "        greater than or equal to this value.\n",
        "\n",
        "        The weighted impurity decrease equation is the following::\n",
        "\n",
        "            N_t / N * (impurity - N_t_R / N_t * right_impurity\n",
        "                                - N_t_L / N_t * left_impurity)\n",
        "\n",
        "        where ``N`` is the total number of samples, ``N_t`` is the number of\n",
        "        samples at the current node, ``N_t_L`` is the number of samples in the\n",
        "        left child, and ``N_t_R`` is the number of samples in the right child.\n",
        "\n",
        "        ``N``, ``N_t``, ``N_t_R`` and ``N_t_L`` all refer to the weighted sum,\n",
        "        if ``sample_weight`` is passed.\n",
        "\n",
        "        .. versionadded:: 0.19\n",
        "\n",
        "    min_impurity_split : float, default=0\n",
        "        Threshold for early stopping in tree growth. A node will split\n",
        "        if its impurity is above the threshold, otherwise it is a leaf.\n",
        "\n",
        "        .. deprecated:: 0.19\n",
        "           ``min_impurity_split`` has been deprecated in favor of\n",
        "           ``min_impurity_decrease`` in 0.19. The default value of\n",
        "           ``min_impurity_split`` has changed from 1e-7 to 0 in 0.23 and it\n",
        "           will be removed in 1.0 (renaming of 0.25).\n",
        "           Use ``min_impurity_decrease`` instead.\n",
        "\n",
        "    ccp_alpha : non-negative float, default=0.0\n",
        "        Complexity parameter used for Minimal Cost-Complexity Pruning. The\n",
        "        subtree with the largest cost complexity that is smaller than\n",
        "        ``ccp_alpha`` will be chosen. By default, no pruning is performed. See\n",
        "        :ref:`minimal_cost_complexity_pruning` for details.\n",
        "\n",
        "        .. versionadded:: 0.22\n",
        "\n",
        "    Attributes\n",
        "    ----------\n",
        "    feature_importances_ : ndarray of shape (n_features,)\n",
        "        The feature importances.\n",
        "        The higher, the more important the feature.\n",
        "        The importance of a feature is computed as the\n",
        "        (normalized) total reduction of the criterion brought\n",
        "        by that feature. It is also known as the Gini importance [4]_.\n",
        "\n",
        "        Warning: impurity-based feature importances can be misleading for\n",
        "        high cardinality features (many unique values). See\n",
        "        :func:`sklearn.inspection.permutation_importance` as an alternative.\n",
        "\n",
        "    max_features_ : int\n",
        "        The inferred value of max_features.\n",
        "\n",
        "    n_features_ : int\n",
        "        The number of features when ``fit`` is performed.\n",
        "\n",
        "    n_outputs_ : int\n",
        "        The number of outputs when ``fit`` is performed.\n",
        "\n",
        "    tree_ : Tree instance\n",
        "        The underlying Tree object. Please refer to\n",
        "        ``help(sklearn.tree._tree.Tree)`` for attributes of Tree object and\n",
        "        :ref:`sphx_glr_auto_examples_tree_plot_unveil_tree_structure.py`\n",
        "        for basic usage of these attributes.\n",
        "\n",
        "    See Also\n",
        "    --------\n",
        "    DecisionTreeClassifier : A decision tree classifier.\n",
        "\n",
        "    Notes\n",
        "    -----\n",
        "    The default values for the parameters controlling the size of the trees\n",
        "    (e.g. ``max_depth``, ``min_samples_leaf``, etc.) lead to fully grown and\n",
        "    unpruned trees which can potentially be very large on some data sets. To\n",
        "    reduce memory consumption, the complexity and size of the trees should be\n",
        "    controlled by setting those parameter values.\n",
        "\n",
        "    References\n",
        "    ----------\n",
        "\n",
        "    .. [1] https://en.wikipedia.org/wiki/Decision_tree_learning\n",
        "\n",
        "    .. [2] L. Breiman, J. Friedman, R. Olshen, and C. Stone, \"Classification\n",
        "           and Regression Trees\", Wadsworth, Belmont, CA, 1984.\n",
        "\n",
        "    .. [3] T. Hastie, R. Tibshirani and J. Friedman. \"Elements of Statistical\n",
        "           Learning\", Springer, 2009.\n",
        "\n",
        "    .. [4] L. Breiman, and A. Cutler, \"Random Forests\",\n",
        "           https://www.stat.berkeley.edu/~breiman/RandomForests/cc_home.htm\n",
        "\n",
        "    Examples\n",
        "    --------\n",
        "    >>> from sklearn.datasets import load_diabetes\n",
        "    >>> from sklearn.model_selection import cross_val_score\n",
        "    >>> from sklearn.tree import DecisionTreeRegressor\n",
        "    >>> X, y = load_diabetes(return_X_y=True)\n",
        "    >>> regressor = DecisionTreeRegressor(random_state=0)\n",
        "    >>> cross_val_score(regressor, X, y, cv=10)\n",
        "    ...                    # doctest: +SKIP\n",
        "    ...\n",
        "    array([-0.39..., -0.46...,  0.02...,  0.06..., -0.50...,\n",
        "           0.16...,  0.11..., -0.73..., -0.30..., -0.00...])\n",
        "    \"\"\"\n",
        "\n",
        "    def __init__(self, *,n=100,\n",
        "                 alphaProbability=0.1,\n",
        "                 criterion=\"mse\",\n",
        "                 splitter=\"best\",\n",
        "                 max_depth=None,\n",
        "                 min_samples_split=2,\n",
        "                 min_samples_leaf=1,\n",
        "                 min_weight_fraction_leaf=0.,\n",
        "                 max_features=None,\n",
        "                 random_state=None,\n",
        "                 max_leaf_nodes=None,\n",
        "                 min_impurity_decrease=0.,\n",
        "                 min_impurity_split=None,\n",
        "                 ccp_alpha=0.0):\n",
        "        super().__init__(\n",
        "            criterion=criterion,\n",
        "            splitter=splitter,\n",
        "            max_depth=max_depth,\n",
        "            min_samples_split=min_samples_split,\n",
        "            min_samples_leaf=min_samples_leaf,\n",
        "            min_weight_fraction_leaf=min_weight_fraction_leaf,\n",
        "            max_features=max_features,\n",
        "            max_leaf_nodes=max_leaf_nodes,\n",
        "            random_state=random_state,\n",
        "            min_impurity_decrease=min_impurity_decrease,\n",
        "            min_impurity_split=min_impurity_split,\n",
        "            ccp_alpha=ccp_alpha)\n",
        "        self.n=n\n",
        "        self.alphaProbability=alphaProbability\n",
        "\n",
        "    def predict(self, X, check_input=True):\n",
        "        \"\"\"Predict class or regression value for X.\n",
        "\n",
        "            For a classification model, the predicted class for each sample in X is\n",
        "            returned. For a regression model, the predicted value based on X is\n",
        "            returned.\n",
        "\n",
        "            Parameters\n",
        "            ----------\n",
        "            X : {array-like, sparse matrix} of shape (n_samples, n_features)\n",
        "                The input samples. Internally, it will be converted to\n",
        "                ``dtype=np.float32`` and if a sparse matrix is provided\n",
        "                to a sparse ``csr_matrix``.\n",
        "\n",
        "            alphaProbability : double, default=0 probability to choose the opposite decision path.\n",
        "\n",
        "            check_input : bool, default=True\n",
        "                Allow to bypass several input checking.\n",
        "                Don't use this parameter unless you know what you do.\n",
        "\n",
        "            Returns\n",
        "            -------\n",
        "            y : array-like of shape (n_samples,) or (n_samples, n_outputs)\n",
        "                The predicted classes, or the predict values.\n",
        "            \"\"\"\n",
        "        check_is_fitted(self)\n",
        "        X = self._validate_X_predict(X, check_input)\n",
        "        probabilisticPredictionFunction = self._generateProbabilisticPredictionFunction(self.alphaProbability)\n",
        "        probaList = [self.predictWrapper(row,probabilisticPredictionFunction) for row in X]\n",
        "        proba = np.concatenate(probaList, axis=0)\n",
        "\n",
        "        # Regression\n",
        "        if self.n_outputs_ == 1:\n",
        "            return proba[:, 0]\n",
        "\n",
        "        else:\n",
        "            return proba[:, :, 0]\n",
        "\n",
        "    def _generateProbabilisticPredictionFunction(self, alphaProbability):\n",
        "        '''\n",
        "        Private util function to generate probabilistic prediction function.\n",
        "        :param alphaProbability:\n",
        "        :type alphaProbability:\n",
        "        :return: function which accept single record\n",
        "        :rtype: function\n",
        "        '''\n",
        "        tree = self.tree_\n",
        "\n",
        "        def _traverse(sample, currNode):\n",
        "            '''\n",
        "            private function to traverse in the decision tree\n",
        "            :param sample: single record without the target variable\n",
        "            :type sample: pandas dataframe\n",
        "            :param currNode: index of the current node in the tree struct\n",
        "            :type currNode: int\n",
        "            :return: array of n-output of the classes, hold values for the record\n",
        "            :rtype: nd.array\n",
        "            '''\n",
        "            if tree.feature[currNode] != _tree.TREE_UNDEFINED:\n",
        "                randomProb = random()\n",
        "                sampleValue = sample[tree.feature[currNode]]\n",
        "                if sampleValue <= tree.threshold[currNode]:\n",
        "                    if (1 - alphaProbability) >= randomProb:\n",
        "                        return _traverse(sample, tree.children_left[currNode])\n",
        "                    else:\n",
        "                        return _traverse(sample, tree.children_right[currNode])\n",
        "                else:\n",
        "                    if (1 - alphaProbability) >= randomProb:\n",
        "                        return _traverse(sample, tree.children_right[currNode])\n",
        "                    else:\n",
        "                        return _traverse(sample, tree.children_left[currNode])\n",
        "            else:\n",
        "                value = tree.value[currNode]\n",
        "                return value\n",
        "\n",
        "        def _predict_single(sample):\n",
        "            '''\n",
        "            Util function to wrap the sample and the tree traverse for lazy use\n",
        "            :param sample:\n",
        "            :type sample:\n",
        "            :return: application of the traverse with the given sample and the root\n",
        "            :rtype:\n",
        "            '''\n",
        "            return _traverse(sample, 0)\n",
        "\n",
        "        return _predict_single\n",
        "\n",
        "    def predictWrapper(self, row, predictionFunction):\n",
        "        '''\n",
        "        Function to wrap the single prediction process, the function will\n",
        "        run the prediction for n iteration\n",
        "        :param X:\n",
        "        :type X:\n",
        "        :param n:\n",
        "        :type n:\n",
        "        :param alphaProbability:\n",
        "        :type alphaProbability:\n",
        "        :return:\n",
        "        :rtype:\n",
        "        '''\n",
        "        predictions = np.array([predictionFunction(row) for i in range(self.n)])\n",
        "        avgPredictions = np.array([np.array([val for val in i]) for i in predictions.mean(0)])\n",
        "        return avgPredictions\n"
      ]
    },
    {
      "cell_type": "code",
      "execution_count": 4,
      "metadata": {
        "collapsed": false
      },
      "outputs": [],
      "source": [
        "# General imports\n",
        "import pandas as pd\n",
        "import numpy as np\n",
        "from sklearn.ensemble import RandomForestClassifier\n",
        "from sklearn.model_selection import train_test_split\n",
        "\n",
        "crystalDataset = pd.read_csv('../datasets/classification/crystal.csv')\n",
        "\n",
        "crystalDataset=crystalDataset[(crystalDataset['τ'] > crystalDataset['τ'].quantile(0.15)) & (crystalDataset['τ'] < crystalDataset['τ'].quantile(0.95))]\n",
        "crystalDataset['Lowest distortion'].mask(crystalDataset['Lowest distortion'] != 'cubic', 'no cubic', inplace=True)\n",
        "\n",
        "\n",
        "# Load Data\n",
        "crystal_df = crystalDataset\n",
        "label_col = 'Lowest distortion'\n",
        "df_train, df_test = train_test_split(crystal_df, stratify=crystal_df[label_col], random_state=0)\n",
        "\n",
        "# Train Model\n",
        "rf_clf = SoftSplitDecisionTreeClassifier()\n",
        "rf_clf.fit(df_train.drop(label_col, axis=1), df_train[label_col]);"
      ]
    },
    {
      "cell_type": "markdown",
      "metadata": {},
      "source": [
        "Define a Dataset Object\n",
        "=======================\n",
        "\n",
        "Initialize the Dataset object, stating the relevant metadata about the\n",
        "dataset (e.g. the name for the label column)\n",
        "\n",
        "Check out the Dataset\\'s attributes to see which additional special\n",
        "columns can be declared and used (e.g. date column, index column).\n"
      ]
    },
    {
      "cell_type": "code",
      "execution_count": 5,
      "metadata": {
        "collapsed": false
      },
      "outputs": [],
      "source": [
        "from deepchecks.tabular import Dataset\n",
        "\n",
        "# We explicitly state that this dataset has no categorical features, otherwise they will be automatically inferred\n",
        "# If the dataset has categorical features, the best practice is to pass a list with their names\n",
        "\n",
        "ds_train = Dataset(df_train, label=label_col, cat_features=[])\n",
        "ds_test =  Dataset(df_test,  label=label_col, cat_features=[])"
      ]
    },
    {
      "cell_type": "code",
      "execution_count": 6,
      "metadata": {
        "collapsed": false
      },
      "outputs": [],
      "source": [
        "from deepchecks.tabular.suites import full_suite\n",
        "\n",
        "suite = full_suite()"
      ]
    },
    {
      "cell_type": "code",
      "execution_count": 7,
      "metadata": {
        "collapsed": false
      },
      "outputs": [
        {
          "name": "stdout",
          "output_type": "stream",
          "text": [
            "Full Suite:   6%|██                                 | 2/35 [00:00<00:03,  8.81 Check/s, Check=Confusion Matrix Report]"
          ]
        },
        {
          "name": "stderr",
          "output_type": "stream",
          "text": [
            "/Users/eshmueli/Library/Python/3.8/lib/python/site-packages/sklearn/base.py:450: UserWarning:\n",
            "\n",
            "X does not have valid feature names, but SoftSplitDecisionTreeClassifier was fitted with feature names\n",
            "\n",
            "/Users/eshmueli/Library/Python/3.8/lib/python/site-packages/sklearn/base.py:450: UserWarning:\n",
            "\n",
            "X does not have valid feature names, but SoftSplitDecisionTreeClassifier was fitted with feature names\n",
            "\n",
            "/Users/eshmueli/Library/Python/3.8/lib/python/site-packages/sklearn/base.py:450: UserWarning:\n",
            "\n",
            "X does not have valid feature names, but SoftSplitDecisionTreeClassifier was fitted with feature names\n",
            "\n",
            "/Users/eshmueli/Library/Python/3.8/lib/python/site-packages/sklearn/base.py:450: UserWarning:\n",
            "\n",
            "X does not have valid feature names, but SoftSplitDecisionTreeClassifier was fitted with feature names\n",
            "\n"
          ]
        },
        {
          "name": "stdout",
          "output_type": "stream",
          "text": [
            "Full Suite:   9%|███                                | 3/35 [00:05<01:02,  1.97s/ Check, Check=Performance Report]     "
          ]
        },
        {
          "name": "stderr",
          "output_type": "stream",
          "text": [
            "/Users/eshmueli/Library/Python/3.8/lib/python/site-packages/sklearn/base.py:450: UserWarning:\n",
            "\n",
            "X does not have valid feature names, but SoftSplitDecisionTreeClassifier was fitted with feature names\n",
            "\n",
            "/Users/eshmueli/Library/Python/3.8/lib/python/site-packages/sklearn/base.py:450: UserWarning:\n",
            "\n",
            "X does not have valid feature names, but SoftSplitDecisionTreeClassifier was fitted with feature names\n",
            "\n",
            "/Users/eshmueli/Library/Python/3.8/lib/python/site-packages/sklearn/base.py:450: UserWarning:\n",
            "\n",
            "X does not have valid feature names, but SoftSplitDecisionTreeClassifier was fitted with feature names\n",
            "\n",
            "/Users/eshmueli/Library/Python/3.8/lib/python/site-packages/sklearn/base.py:450: UserWarning:\n",
            "\n",
            "X does not have valid feature names, but SoftSplitDecisionTreeClassifier was fitted with feature names\n",
            "\n",
            "/Users/eshmueli/Library/Python/3.8/lib/python/site-packages/sklearn/base.py:450: UserWarning:\n",
            "\n",
            "X does not have valid feature names, but SoftSplitDecisionTreeClassifier was fitted with feature names\n",
            "\n",
            "/Users/eshmueli/Library/Python/3.8/lib/python/site-packages/sklearn/base.py:450: UserWarning:\n",
            "\n",
            "X does not have valid feature names, but SoftSplitDecisionTreeClassifier was fitted with feature names\n",
            "\n",
            "/Users/eshmueli/Library/Python/3.8/lib/python/site-packages/sklearn/base.py:450: UserWarning:\n",
            "\n",
            "X does not have valid feature names, but SoftSplitDecisionTreeClassifier was fitted with feature names\n",
            "\n",
            "/Users/eshmueli/Library/Python/3.8/lib/python/site-packages/sklearn/base.py:450: UserWarning:\n",
            "\n",
            "X does not have valid feature names, but SoftSplitDecisionTreeClassifier was fitted with feature names\n",
            "\n",
            "/Users/eshmueli/Library/Python/3.8/lib/python/site-packages/sklearn/base.py:450: UserWarning:\n",
            "\n",
            "X does not have valid feature names, but SoftSplitDecisionTreeClassifier was fitted with feature names\n",
            "\n"
          ]
        },
        {
          "name": "stdout",
          "output_type": "stream",
          "text": [
            "Full Suite:  14%|█████                              | 5/35 [00:25<02:59,  5.97s/ Check, Check=Simple Model Comparison]"
          ]
        },
        {
          "name": "stderr",
          "output_type": "stream",
          "text": [
            "/Users/eshmueli/Library/Python/3.8/lib/python/site-packages/sklearn/base.py:450: UserWarning:\n",
            "\n",
            "X does not have valid feature names, but SoftSplitDecisionTreeClassifier was fitted with feature names\n",
            "\n",
            "/Users/eshmueli/Library/Python/3.8/lib/python/site-packages/sklearn/base.py:450: UserWarning:\n",
            "\n",
            "X does not have valid feature names, but SoftSplitDecisionTreeClassifier was fitted with feature names\n",
            "\n"
          ]
        },
        {
          "name": "stdout",
          "output_type": "stream",
          "text": [
            "Full Suite:  17%|██████                             | 6/35 [00:26<02:09,  4.47s/ Check, Check=Model Error Analysis]   "
          ]
        },
        {
          "name": "stderr",
          "output_type": "stream",
          "text": [
            "/Users/eshmueli/Library/Python/3.8/lib/python/site-packages/sklearn/base.py:450: UserWarning:\n",
            "\n",
            "X does not have valid feature names, but SoftSplitDecisionTreeClassifier was fitted with feature names\n",
            "\n"
          ]
        },
        {
          "name": "stdout",
          "output_type": "stream",
          "text": [
            "Full Suite:  34%|████████████                       | 12/35 [00:36<01:49,  4.75s/ Check, Check=Model Inference Time]        "
          ]
        },
        {
          "name": "stderr",
          "output_type": "stream",
          "text": [
            "/Users/eshmueli/Library/Python/3.8/lib/python/site-packages/sklearn/base.py:450: UserWarning:\n",
            "\n",
            "X does not have valid feature names, but SoftSplitDecisionTreeClassifier was fitted with feature names\n",
            "\n",
            "/Users/eshmueli/Library/Python/3.8/lib/python/site-packages/sklearn/base.py:450: UserWarning:\n",
            "\n",
            "X does not have valid feature names, but SoftSplitDecisionTreeClassifier was fitted with feature names\n",
            "\n",
            "/Users/eshmueli/Library/Python/3.8/lib/python/site-packages/sklearn/base.py:450: UserWarning:\n",
            "\n",
            "X does not have valid feature names, but SoftSplitDecisionTreeClassifier was fitted with feature names\n",
            "\n"
          ]
        },
        {
          "name": "stdout",
          "output_type": "stream",
          "text": [
            "                                                                                                                                      \r"
          ]
        },
        {
          "data": {
            "text/html": [
              "<hr style=\"background-color: black;border: 0 none;color: black;height: 1px;\">\n",
              "        <h1 id=\"summary_OD0JV\">Full Suite</h1>\n",
              "        <p>\n",
              "            The suite is composed of various checks such as: Performance Report, Data Duplicates, Regression Error Distribution, etc...<br>\n",
              "            Each check may contain conditions (which will result in pass / fail / warning / error\n",
              "            , represented by \n",
              "    <span style=\"color: green;display:inline-block\">✓</span> /\n",
              "    <span style=\"color: red;display:inline-block\">✖</span> /\n",
              "    <span style=\"color: orange;font-weight:bold;display:inline-block\">!</span> /\n",
              "    <span style=\"color: firebrick;font-weight:bold;display:inline-block\">⁈</span>\n",
              "    ) as well as other outputs such as plots or tables.<br>\n",
              "            Suites, checks and conditions can all be modified. Read more about\n",
              "            <a href=https://docs.deepchecks.com/en/stable/examples/guides/create_a_custom_suite.html?utm_source=display_output&utm_medium=referral&utm_campaign=suite_link target=\"_blank\">custom suites</a>.\n",
              "        </p>\n",
              "        "
            ]
          },
          "metadata": {},
          "output_type": "display_data"
        },
        {
          "data": {
            "text/html": [
              "<h2>Conditions Summary</h2><style type=\"text/css\">\n",
              "#T_10694 table {\n",
              "  text-align: left;\n",
              "  white-space: pre-wrap;\n",
              "}\n",
              "#T_10694 thead {\n",
              "  text-align: left;\n",
              "  white-space: pre-wrap;\n",
              "}\n",
              "#T_10694 tbody {\n",
              "  text-align: left;\n",
              "  white-space: pre-wrap;\n",
              "}\n",
              "#T_10694 th {\n",
              "  text-align: left;\n",
              "  white-space: pre-wrap;\n",
              "}\n",
              "#T_10694 td {\n",
              "  text-align: left;\n",
              "  white-space: pre-wrap;\n",
              "}\n",
              "</style>\n",
              "<table id=\"T_10694\">\n",
              "  <thead>\n",
              "    <tr>\n",
              "      <th id=\"T_10694_level0_col0\" class=\"col_heading level0 col0\" >Status</th>\n",
              "      <th id=\"T_10694_level0_col1\" class=\"col_heading level0 col1\" >Check</th>\n",
              "      <th id=\"T_10694_level0_col2\" class=\"col_heading level0 col2\" >Condition</th>\n",
              "      <th id=\"T_10694_level0_col3\" class=\"col_heading level0 col3\" >More Info</th>\n",
              "    </tr>\n",
              "  </thead>\n",
              "  <tbody>\n",
              "    <tr>\n",
              "      <td id=\"T_10694_row0_col0\" class=\"data row0 col0\" ><div style=\"color: red;text-align: center\">✖</div></td>\n",
              "      <td id=\"T_10694_row0_col1\" class=\"data row0 col1\" ><a href=#TrainTestSamplesMix_OD0JV>Train Test Samples Mix</a></td>\n",
              "      <td id=\"T_10694_row0_col2\" class=\"data row0 col2\" >Percentage of test data samples that appear in train data not greater than 10%</td>\n",
              "      <td id=\"T_10694_row0_col3\" class=\"data row0 col3\" >Percent of test data samples that appear in train data: 34.67%</td>\n",
              "    </tr>\n",
              "    <tr>\n",
              "      <td id=\"T_10694_row1_col0\" class=\"data row1 col0\" ><div style=\"color: red;text-align: center\">✖</div></td>\n",
              "      <td id=\"T_10694_row1_col1\" class=\"data row1 col1\" ><a href=#SingleFeatureContributionTrain-Test_OD0JV>Single Feature Contribution Train-Test</a></td>\n",
              "      <td id=\"T_10694_row1_col2\" class=\"data row1 col2\" >Train-Test features' Predictive Power Score difference is not greater than 0.2</td>\n",
              "      <td id=\"T_10694_row1_col3\" class=\"data row1 col3\" >Features with PPS difference above threshold: {'τ': '0.23'}</td>\n",
              "    </tr>\n",
              "    <tr>\n",
              "      <td id=\"T_10694_row2_col0\" class=\"data row2 col0\" ><div style=\"color: red;text-align: center\">✖</div></td>\n",
              "      <td id=\"T_10694_row2_col1\" class=\"data row2 col1\" ><a href=#ModelInferenceTime-TrainDataset_OD0JV>Model Inference Time - Train Dataset</a></td>\n",
              "      <td id=\"T_10694_row2_col2\" class=\"data row2 col2\" >Average model inference time for one sample is not greater than 0.001</td>\n",
              "      <td id=\"T_10694_row2_col3\" class=\"data row2 col3\" >Found average inference time (in seconds) above threshold: 0.00369823</td>\n",
              "    </tr>\n",
              "    <tr>\n",
              "      <td id=\"T_10694_row3_col0\" class=\"data row3 col0\" ><div style=\"color: red;text-align: center\">✖</div></td>\n",
              "      <td id=\"T_10694_row3_col1\" class=\"data row3 col1\" ><a href=#ModelInferenceTime-TestDataset_OD0JV>Model Inference Time - Test Dataset</a></td>\n",
              "      <td id=\"T_10694_row3_col2\" class=\"data row3 col2\" >Average model inference time for one sample is not greater than 0.001</td>\n",
              "      <td id=\"T_10694_row3_col3\" class=\"data row3 col3\" >Found average inference time (in seconds) above threshold: 0.00353392</td>\n",
              "    </tr>\n",
              "    <tr>\n",
              "      <td id=\"T_10694_row4_col0\" class=\"data row4 col0\" ><div style=\"color: orange;text-align: center;font-weight:bold\">!</div></td>\n",
              "      <td id=\"T_10694_row4_col1\" class=\"data row4 col1\" ><a href=#DataDuplicates-TestDataset_OD0JV>Data Duplicates - Test Dataset</a></td>\n",
              "      <td id=\"T_10694_row4_col2\" class=\"data row4 col2\" >Duplicate data ratio is not greater than 0%</td>\n",
              "      <td id=\"T_10694_row4_col3\" class=\"data row4 col3\" >Found 4.58% duplicate data</td>\n",
              "    </tr>\n",
              "    <tr>\n",
              "      <td id=\"T_10694_row5_col0\" class=\"data row5 col0\" ><div style=\"color: orange;text-align: center;font-weight:bold\">!</div></td>\n",
              "      <td id=\"T_10694_row5_col1\" class=\"data row5 col1\" ><a href=#DataDuplicates-TrainDataset_OD0JV>Data Duplicates - Train Dataset</a></td>\n",
              "      <td id=\"T_10694_row5_col2\" class=\"data row5 col2\" >Duplicate data ratio is not greater than 0%</td>\n",
              "      <td id=\"T_10694_row5_col3\" class=\"data row5 col3\" >Found 16.76% duplicate data</td>\n",
              "    </tr>\n",
              "    <tr>\n",
              "      <td id=\"T_10694_row6_col0\" class=\"data row6 col0\" ><div style=\"color: green;text-align: center\">✓</div></td>\n",
              "      <td id=\"T_10694_row6_col1\" class=\"data row6 col1\" ><a href=#PerformanceReport_OD0JV>Performance Report</a></td>\n",
              "      <td id=\"T_10694_row6_col2\" class=\"data row6 col2\" >Train-Test scores relative degradation is not greater than 0.1</td>\n",
              "      <td id=\"T_10694_row6_col3\" class=\"data row6 col3\" ></td>\n",
              "    </tr>\n",
              "    <tr>\n",
              "      <td id=\"T_10694_row7_col0\" class=\"data row7 col0\" ><div style=\"color: green;text-align: center\">✓</div></td>\n",
              "      <td id=\"T_10694_row7_col1\" class=\"data row7 col1\" ><a href=#DatasetsSizeComparison_OD0JV>Datasets Size Comparison</a></td>\n",
              "      <td id=\"T_10694_row7_col2\" class=\"data row7 col2\" >Test-Train size ratio is not smaller than 0.01</td>\n",
              "      <td id=\"T_10694_row7_col3\" class=\"data row7 col3\" ></td>\n",
              "    </tr>\n",
              "    <tr>\n",
              "      <td id=\"T_10694_row8_col0\" class=\"data row8 col0\" ><div style=\"color: green;text-align: center\">✓</div></td>\n",
              "      <td id=\"T_10694_row8_col1\" class=\"data row8 col1\" ><a href=#SingleFeatureContributionTrain-Test_OD0JV>Single Feature Contribution Train-Test</a></td>\n",
              "      <td id=\"T_10694_row8_col2\" class=\"data row8 col2\" >Train features' Predictive Power Score is not greater than 0.7</td>\n",
              "      <td id=\"T_10694_row8_col3\" class=\"data row8 col3\" ></td>\n",
              "    </tr>\n",
              "    <tr>\n",
              "      <td id=\"T_10694_row9_col0\" class=\"data row9 col0\" ><div style=\"color: green;text-align: center\">✓</div></td>\n",
              "      <td id=\"T_10694_row9_col1\" class=\"data row9 col1\" ><a href=#TrainTestDrift_OD0JV>Train Test Drift</a></td>\n",
              "      <td id=\"T_10694_row9_col2\" class=\"data row9 col2\" >PSI <= 0.2 and Earth Mover's Distance <= 0.1</td>\n",
              "      <td id=\"T_10694_row9_col3\" class=\"data row9 col3\" ></td>\n",
              "    </tr>\n",
              "    <tr>\n",
              "      <td id=\"T_10694_row10_col0\" class=\"data row10 col0\" ><div style=\"color: green;text-align: center\">✓</div></td>\n",
              "      <td id=\"T_10694_row10_col1\" class=\"data row10 col1\" ><a href=#UnusedFeatures_OD0JV>Unused Features</a></td>\n",
              "      <td id=\"T_10694_row10_col2\" class=\"data row10 col2\" >Number of high variance unused features is not greater than 5</td>\n",
              "      <td id=\"T_10694_row10_col3\" class=\"data row10 col3\" ></td>\n",
              "    </tr>\n",
              "    <tr>\n",
              "      <td id=\"T_10694_row11_col0\" class=\"data row11 col0\" ><div style=\"color: green;text-align: center\">✓</div></td>\n",
              "      <td id=\"T_10694_row11_col1\" class=\"data row11 col1\" ><a href=#ROCReport-TrainDataset_OD0JV>ROC Report - Train Dataset</a></td>\n",
              "      <td id=\"T_10694_row11_col2\" class=\"data row11 col2\" >AUC score for all the classes is not less than 0.7</td>\n",
              "      <td id=\"T_10694_row11_col3\" class=\"data row11 col3\" ></td>\n",
              "    </tr>\n",
              "    <tr>\n",
              "      <td id=\"T_10694_row12_col0\" class=\"data row12 col0\" ><div style=\"color: green;text-align: center\">✓</div></td>\n",
              "      <td id=\"T_10694_row12_col1\" class=\"data row12 col1\" ><a href=#SimpleModelComparison_OD0JV>Simple Model Comparison</a></td>\n",
              "      <td id=\"T_10694_row12_col2\" class=\"data row12 col2\" >Model performance gain over simple model is not less than 10%</td>\n",
              "      <td id=\"T_10694_row12_col3\" class=\"data row12 col3\" ></td>\n",
              "    </tr>\n",
              "    <tr>\n",
              "      <td id=\"T_10694_row13_col0\" class=\"data row13 col0\" ><div style=\"color: green;text-align: center\">✓</div></td>\n",
              "      <td id=\"T_10694_row13_col1\" class=\"data row13 col1\" ><a href=#ROCReport-TestDataset_OD0JV>ROC Report - Test Dataset</a></td>\n",
              "      <td id=\"T_10694_row13_col2\" class=\"data row13 col2\" >AUC score for all the classes is not less than 0.7</td>\n",
              "      <td id=\"T_10694_row13_col3\" class=\"data row13 col3\" ></td>\n",
              "    </tr>\n",
              "    <tr>\n",
              "      <td id=\"T_10694_row14_col0\" class=\"data row14 col0\" ><div style=\"color: green;text-align: center\">✓</div></td>\n",
              "      <td id=\"T_10694_row14_col1\" class=\"data row14 col1\" ><a href=#TrainTestLabelDrift_OD0JV>Train Test Label Drift</a></td>\n",
              "      <td id=\"T_10694_row14_col2\" class=\"data row14 col2\" >PSI <= 0.2 and Earth Mover's Distance <= 0.1 for label drift</td>\n",
              "      <td id=\"T_10694_row14_col3\" class=\"data row14 col3\" ></td>\n",
              "    </tr>\n",
              "    <tr>\n",
              "      <td id=\"T_10694_row15_col0\" class=\"data row15 col0\" ><div style=\"color: green;text-align: center\">✓</div></td>\n",
              "      <td id=\"T_10694_row15_col1\" class=\"data row15 col1\" >Whole Dataset Drift</td>\n",
              "      <td id=\"T_10694_row15_col2\" class=\"data row15 col2\" >Drift value is not greater than 0.25</td>\n",
              "      <td id=\"T_10694_row15_col3\" class=\"data row15 col3\" ></td>\n",
              "    </tr>\n",
              "    <tr>\n",
              "      <td id=\"T_10694_row16_col0\" class=\"data row16 col0\" ><div style=\"color: green;text-align: center\">✓</div></td>\n",
              "      <td id=\"T_10694_row16_col1\" class=\"data row16 col1\" >Special Characters - Test Dataset</td>\n",
              "      <td id=\"T_10694_row16_col2\" class=\"data row16 col2\" >Ratio of entirely special character samples not greater than 0.1%</td>\n",
              "      <td id=\"T_10694_row16_col3\" class=\"data row16 col3\" ></td>\n",
              "    </tr>\n",
              "    <tr>\n",
              "      <td id=\"T_10694_row17_col0\" class=\"data row17 col0\" ><div style=\"color: green;text-align: center\">✓</div></td>\n",
              "      <td id=\"T_10694_row17_col1\" class=\"data row17 col1\" >Special Characters - Train Dataset</td>\n",
              "      <td id=\"T_10694_row17_col2\" class=\"data row17 col2\" >Ratio of entirely special character samples not greater than 0.1%</td>\n",
              "      <td id=\"T_10694_row17_col3\" class=\"data row17 col3\" ></td>\n",
              "    </tr>\n",
              "    <tr>\n",
              "      <td id=\"T_10694_row18_col0\" class=\"data row18 col0\" ><div style=\"color: green;text-align: center\">✓</div></td>\n",
              "      <td id=\"T_10694_row18_col1\" class=\"data row18 col1\" >String Length Out Of Bounds - Test Dataset</td>\n",
              "      <td id=\"T_10694_row18_col2\" class=\"data row18 col2\" >Ratio of outliers not greater than 0% string length outliers</td>\n",
              "      <td id=\"T_10694_row18_col3\" class=\"data row18 col3\" ></td>\n",
              "    </tr>\n",
              "    <tr>\n",
              "      <td id=\"T_10694_row19_col0\" class=\"data row19 col0\" ><div style=\"color: green;text-align: center\">✓</div></td>\n",
              "      <td id=\"T_10694_row19_col1\" class=\"data row19 col1\" >String Length Out Of Bounds - Train Dataset</td>\n",
              "      <td id=\"T_10694_row19_col2\" class=\"data row19 col2\" >Ratio of outliers not greater than 0% string length outliers</td>\n",
              "      <td id=\"T_10694_row19_col3\" class=\"data row19 col3\" ></td>\n",
              "    </tr>\n",
              "    <tr>\n",
              "      <td id=\"T_10694_row20_col0\" class=\"data row20 col0\" ><div style=\"color: green;text-align: center\">✓</div></td>\n",
              "      <td id=\"T_10694_row20_col1\" class=\"data row20 col1\" >String Mismatch - Test Dataset</td>\n",
              "      <td id=\"T_10694_row20_col2\" class=\"data row20 col2\" >No string variants</td>\n",
              "      <td id=\"T_10694_row20_col3\" class=\"data row20 col3\" ></td>\n",
              "    </tr>\n",
              "    <tr>\n",
              "      <td id=\"T_10694_row21_col0\" class=\"data row21 col0\" ><div style=\"color: green;text-align: center\">✓</div></td>\n",
              "      <td id=\"T_10694_row21_col1\" class=\"data row21 col1\" >String Mismatch - Train Dataset</td>\n",
              "      <td id=\"T_10694_row21_col2\" class=\"data row21 col2\" >No string variants</td>\n",
              "      <td id=\"T_10694_row21_col3\" class=\"data row21 col3\" ></td>\n",
              "    </tr>\n",
              "    <tr>\n",
              "      <td id=\"T_10694_row22_col0\" class=\"data row22 col0\" ><div style=\"color: green;text-align: center\">✓</div></td>\n",
              "      <td id=\"T_10694_row22_col1\" class=\"data row22 col1\" >Mixed Data Types - Test Dataset</td>\n",
              "      <td id=\"T_10694_row22_col2\" class=\"data row22 col2\" >Rare data types in column are either more than 10% or less than 1% of the data</td>\n",
              "      <td id=\"T_10694_row22_col3\" class=\"data row22 col3\" ></td>\n",
              "    </tr>\n",
              "    <tr>\n",
              "      <td id=\"T_10694_row23_col0\" class=\"data row23 col0\" ><div style=\"color: green;text-align: center\">✓</div></td>\n",
              "      <td id=\"T_10694_row23_col1\" class=\"data row23 col1\" >Mixed Nulls - Test Dataset</td>\n",
              "      <td id=\"T_10694_row23_col2\" class=\"data row23 col2\" >Not more than 1 different null types</td>\n",
              "      <td id=\"T_10694_row23_col3\" class=\"data row23 col3\" ></td>\n",
              "    </tr>\n",
              "    <tr>\n",
              "      <td id=\"T_10694_row24_col0\" class=\"data row24 col0\" ><div style=\"color: green;text-align: center\">✓</div></td>\n",
              "      <td id=\"T_10694_row24_col1\" class=\"data row24 col1\" >Mixed Nulls - Train Dataset</td>\n",
              "      <td id=\"T_10694_row24_col2\" class=\"data row24 col2\" >Not more than 1 different null types</td>\n",
              "      <td id=\"T_10694_row24_col3\" class=\"data row24 col3\" ></td>\n",
              "    </tr>\n",
              "    <tr>\n",
              "      <td id=\"T_10694_row25_col0\" class=\"data row25 col0\" ><div style=\"color: green;text-align: center\">✓</div></td>\n",
              "      <td id=\"T_10694_row25_col1\" class=\"data row25 col1\" >Single Value in Column - Test Dataset</td>\n",
              "      <td id=\"T_10694_row25_col2\" class=\"data row25 col2\" >Does not contain only a single value</td>\n",
              "      <td id=\"T_10694_row25_col3\" class=\"data row25 col3\" ></td>\n",
              "    </tr>\n",
              "    <tr>\n",
              "      <td id=\"T_10694_row26_col0\" class=\"data row26 col0\" ><div style=\"color: green;text-align: center\">✓</div></td>\n",
              "      <td id=\"T_10694_row26_col1\" class=\"data row26 col1\" >Single Value in Column - Train Dataset</td>\n",
              "      <td id=\"T_10694_row26_col2\" class=\"data row26 col2\" >Does not contain only a single value</td>\n",
              "      <td id=\"T_10694_row26_col3\" class=\"data row26 col3\" ></td>\n",
              "    </tr>\n",
              "    <tr>\n",
              "      <td id=\"T_10694_row27_col0\" class=\"data row27 col0\" ><div style=\"color: green;text-align: center\">✓</div></td>\n",
              "      <td id=\"T_10694_row27_col1\" class=\"data row27 col1\" >Label Ambiguity - Train Dataset</td>\n",
              "      <td id=\"T_10694_row27_col2\" class=\"data row27 col2\" >Ambiguous sample ratio is not greater than 0%</td>\n",
              "      <td id=\"T_10694_row27_col3\" class=\"data row27 col3\" ></td>\n",
              "    </tr>\n",
              "    <tr>\n",
              "      <td id=\"T_10694_row28_col0\" class=\"data row28 col0\" ><div style=\"color: green;text-align: center\">✓</div></td>\n",
              "      <td id=\"T_10694_row28_col1\" class=\"data row28 col1\" >String Mismatch Comparison</td>\n",
              "      <td id=\"T_10694_row28_col2\" class=\"data row28 col2\" >No new variants allowed in test data</td>\n",
              "      <td id=\"T_10694_row28_col3\" class=\"data row28 col3\" ></td>\n",
              "    </tr>\n",
              "    <tr>\n",
              "      <td id=\"T_10694_row29_col0\" class=\"data row29 col0\" ><div style=\"color: green;text-align: center\">✓</div></td>\n",
              "      <td id=\"T_10694_row29_col1\" class=\"data row29 col1\" >New Label Train Test</td>\n",
              "      <td id=\"T_10694_row29_col2\" class=\"data row29 col2\" >Number of new label values is not greater than 0</td>\n",
              "      <td id=\"T_10694_row29_col3\" class=\"data row29 col3\" ></td>\n",
              "    </tr>\n",
              "    <tr>\n",
              "      <td id=\"T_10694_row30_col0\" class=\"data row30 col0\" ><div style=\"color: green;text-align: center\">✓</div></td>\n",
              "      <td id=\"T_10694_row30_col1\" class=\"data row30 col1\" >Category Mismatch Train Test</td>\n",
              "      <td id=\"T_10694_row30_col2\" class=\"data row30 col2\" >Ratio of samples with a new category is not greater than 0%</td>\n",
              "      <td id=\"T_10694_row30_col3\" class=\"data row30 col3\" ></td>\n",
              "    </tr>\n",
              "    <tr>\n",
              "      <td id=\"T_10694_row31_col0\" class=\"data row31 col0\" ><div style=\"color: green;text-align: center\">✓</div></td>\n",
              "      <td id=\"T_10694_row31_col1\" class=\"data row31 col1\" >Dominant Frequency Change</td>\n",
              "      <td id=\"T_10694_row31_col2\" class=\"data row31 col2\" >Change in ratio of dominant value in data is not greater than 25%</td>\n",
              "      <td id=\"T_10694_row31_col3\" class=\"data row31 col3\" ></td>\n",
              "    </tr>\n",
              "    <tr>\n",
              "      <td id=\"T_10694_row32_col0\" class=\"data row32 col0\" ><div style=\"color: green;text-align: center\">✓</div></td>\n",
              "      <td id=\"T_10694_row32_col1\" class=\"data row32 col1\" >Mixed Data Types - Train Dataset</td>\n",
              "      <td id=\"T_10694_row32_col2\" class=\"data row32 col2\" >Rare data types in column are either more than 10% or less than 1% of the data</td>\n",
              "      <td id=\"T_10694_row32_col3\" class=\"data row32 col3\" ></td>\n",
              "    </tr>\n",
              "    <tr>\n",
              "      <td id=\"T_10694_row33_col0\" class=\"data row33 col0\" ><div style=\"color: green;text-align: center\">✓</div></td>\n",
              "      <td id=\"T_10694_row33_col1\" class=\"data row33 col1\" >Label Ambiguity - Test Dataset</td>\n",
              "      <td id=\"T_10694_row33_col2\" class=\"data row33 col2\" >Ambiguous sample ratio is not greater than 0%</td>\n",
              "      <td id=\"T_10694_row33_col3\" class=\"data row33 col3\" ></td>\n",
              "    </tr>\n",
              "  </tbody>\n",
              "</table>\n"
            ]
          },
          "metadata": {},
          "output_type": "display_data"
        },
        {
          "data": {
            "text/html": [
              "<hr style=\"background-color: black;border: 0 none;color: black;height: 1px;\"><h2>Check With Conditions Output</h2>"
            ]
          },
          "metadata": {},
          "output_type": "display_data"
        },
        {
          "data": {
            "text/html": [
              "<h4 id=\"ModelInferenceTime-TrainDataset_OD0JV\">Model Inference Time - Train Dataset</h4><p>Measure model average inference time (in seconds) per sample. <a href=\"https://docs.deepchecks.com/0.6.1/examples/tabular/checks/methodology/examples/plot_model_inference_time.html?utm_source=display_output&utm_medium=referral&utm_campaign=check_link\" target=\"_blank\">Read More...</a></p><h5>Conditions Summary</h5><style type=\"text/css\">\n",
              "#T_856f7 table {\n",
              "  text-align: left;\n",
              "  white-space: pre-wrap;\n",
              "}\n",
              "#T_856f7 thead {\n",
              "  text-align: left;\n",
              "  white-space: pre-wrap;\n",
              "}\n",
              "#T_856f7 tbody {\n",
              "  text-align: left;\n",
              "  white-space: pre-wrap;\n",
              "}\n",
              "#T_856f7 th {\n",
              "  text-align: left;\n",
              "  white-space: pre-wrap;\n",
              "}\n",
              "#T_856f7 td {\n",
              "  text-align: left;\n",
              "  white-space: pre-wrap;\n",
              "}\n",
              "</style>\n",
              "<table id=\"T_856f7\">\n",
              "  <thead>\n",
              "    <tr>\n",
              "      <th id=\"T_856f7_level0_col0\" class=\"col_heading level0 col0\" >Status</th>\n",
              "      <th id=\"T_856f7_level0_col1\" class=\"col_heading level0 col1\" >Condition</th>\n",
              "      <th id=\"T_856f7_level0_col2\" class=\"col_heading level0 col2\" >More Info</th>\n",
              "    </tr>\n",
              "  </thead>\n",
              "  <tbody>\n",
              "    <tr>\n",
              "      <td id=\"T_856f7_row0_col0\" class=\"data row0 col0\" ><div style=\"color: red;text-align: center\">✖</div></td>\n",
              "      <td id=\"T_856f7_row0_col1\" class=\"data row0 col1\" >Average model inference time for one sample is not greater than 0.001</td>\n",
              "      <td id=\"T_856f7_row0_col2\" class=\"data row0 col2\" >Found average inference time (in seconds) above threshold: 0.00369823</td>\n",
              "    </tr>\n",
              "  </tbody>\n",
              "</table>\n",
              "<h5>Additional Outputs</h5><div>Average model inference time for one sample (in seconds): 0.00369823</div><br><a href=\"#summary_OD0JV\" style=\"font-size: 14px\">Go to top</a>"
            ]
          },
          "metadata": {},
          "output_type": "display_data"
        },
        {
          "data": {
            "text/html": [
              "<hr style=\"background-color: #eee;border: 0 none;color: #eee;height: 4px;\">"
            ]
          },
          "metadata": {},
          "output_type": "display_data"
        },
        {
          "data": {
            "text/html": [
              "<h4 id=\"ModelInferenceTime-TestDataset_OD0JV\">Model Inference Time - Test Dataset</h4><p>Measure model average inference time (in seconds) per sample. <a href=\"https://docs.deepchecks.com/0.6.1/examples/tabular/checks/methodology/examples/plot_model_inference_time.html?utm_source=display_output&utm_medium=referral&utm_campaign=check_link\" target=\"_blank\">Read More...</a></p><h5>Conditions Summary</h5><style type=\"text/css\">\n",
              "#T_ffe13 table {\n",
              "  text-align: left;\n",
              "  white-space: pre-wrap;\n",
              "}\n",
              "#T_ffe13 thead {\n",
              "  text-align: left;\n",
              "  white-space: pre-wrap;\n",
              "}\n",
              "#T_ffe13 tbody {\n",
              "  text-align: left;\n",
              "  white-space: pre-wrap;\n",
              "}\n",
              "#T_ffe13 th {\n",
              "  text-align: left;\n",
              "  white-space: pre-wrap;\n",
              "}\n",
              "#T_ffe13 td {\n",
              "  text-align: left;\n",
              "  white-space: pre-wrap;\n",
              "}\n",
              "</style>\n",
              "<table id=\"T_ffe13\">\n",
              "  <thead>\n",
              "    <tr>\n",
              "      <th id=\"T_ffe13_level0_col0\" class=\"col_heading level0 col0\" >Status</th>\n",
              "      <th id=\"T_ffe13_level0_col1\" class=\"col_heading level0 col1\" >Condition</th>\n",
              "      <th id=\"T_ffe13_level0_col2\" class=\"col_heading level0 col2\" >More Info</th>\n",
              "    </tr>\n",
              "  </thead>\n",
              "  <tbody>\n",
              "    <tr>\n",
              "      <td id=\"T_ffe13_row0_col0\" class=\"data row0 col0\" ><div style=\"color: red;text-align: center\">✖</div></td>\n",
              "      <td id=\"T_ffe13_row0_col1\" class=\"data row0 col1\" >Average model inference time for one sample is not greater than 0.001</td>\n",
              "      <td id=\"T_ffe13_row0_col2\" class=\"data row0 col2\" >Found average inference time (in seconds) above threshold: 0.00353392</td>\n",
              "    </tr>\n",
              "  </tbody>\n",
              "</table>\n",
              "<h5>Additional Outputs</h5><div>Average model inference time for one sample (in seconds): 0.00353392</div><br><a href=\"#summary_OD0JV\" style=\"font-size: 14px\">Go to top</a>"
            ]
          },
          "metadata": {},
          "output_type": "display_data"
        },
        {
          "data": {
            "text/html": [
              "<hr style=\"background-color: #eee;border: 0 none;color: #eee;height: 4px;\">"
            ]
          },
          "metadata": {},
          "output_type": "display_data"
        },
        {
          "data": {
            "text/html": [
              "<h4 id=\"SingleFeatureContributionTrain-Test_OD0JV\">Single Feature Contribution Train-Test</h4><p>    Return the Predictive Power Score of all features, in order to estimate each feature's ability to predict the label. <a href=\"https://docs.deepchecks.com/0.6.1/examples/tabular/checks/methodology/examples/plot_single_feature_contribution_train_test.html?utm_source=display_output&utm_medium=referral&utm_campaign=check_link\" target=\"_blank\">Read More...</a></p><h5>Conditions Summary</h5><style type=\"text/css\">\n",
              "#T_30e87 table {\n",
              "  text-align: left;\n",
              "  white-space: pre-wrap;\n",
              "}\n",
              "#T_30e87 thead {\n",
              "  text-align: left;\n",
              "  white-space: pre-wrap;\n",
              "}\n",
              "#T_30e87 tbody {\n",
              "  text-align: left;\n",
              "  white-space: pre-wrap;\n",
              "}\n",
              "#T_30e87 th {\n",
              "  text-align: left;\n",
              "  white-space: pre-wrap;\n",
              "}\n",
              "#T_30e87 td {\n",
              "  text-align: left;\n",
              "  white-space: pre-wrap;\n",
              "}\n",
              "</style>\n",
              "<table id=\"T_30e87\">\n",
              "  <thead>\n",
              "    <tr>\n",
              "      <th id=\"T_30e87_level0_col0\" class=\"col_heading level0 col0\" >Status</th>\n",
              "      <th id=\"T_30e87_level0_col1\" class=\"col_heading level0 col1\" >Condition</th>\n",
              "      <th id=\"T_30e87_level0_col2\" class=\"col_heading level0 col2\" >More Info</th>\n",
              "    </tr>\n",
              "  </thead>\n",
              "  <tbody>\n",
              "    <tr>\n",
              "      <td id=\"T_30e87_row0_col0\" class=\"data row0 col0\" ><div style=\"color: red;text-align: center\">✖</div></td>\n",
              "      <td id=\"T_30e87_row0_col1\" class=\"data row0 col1\" >Train-Test features' Predictive Power Score difference is not greater than 0.2</td>\n",
              "      <td id=\"T_30e87_row0_col2\" class=\"data row0 col2\" >Features with PPS difference above threshold: {'τ': '0.23'}</td>\n",
              "    </tr>\n",
              "    <tr>\n",
              "      <td id=\"T_30e87_row1_col0\" class=\"data row1 col0\" ><div style=\"color: green;text-align: center\">✓</div></td>\n",
              "      <td id=\"T_30e87_row1_col1\" class=\"data row1 col1\" >Train features' Predictive Power Score is not greater than 0.7</td>\n",
              "      <td id=\"T_30e87_row1_col2\" class=\"data row1 col2\" ></td>\n",
              "    </tr>\n",
              "  </tbody>\n",
              "</table>\n",
              "<h5>Additional Outputs</h5>"
            ]
          },
          "metadata": {},
          "output_type": "display_data"
        },
        {
          "data": {
            "application/vnd.plotly.v1+json": {
              "config": {
                "plotlyServerURL": "https://plot.ly"
              },
              "data": [
                {
                  "marker": {
                    "color": "#00008b"
                  },
                  "name": "Train",
                  "text": [
                    0.51,
                    0.43,
                    0.46,
                    0.29,
                    0.29
                  ],
                  "textposition": "outside",
                  "type": "bar",
                  "x": [
                    "τ",
                    "ΔENR",
                    "tG",
                    "μ",
                    "r(BVI)(Å)"
                  ],
                  "y": [
                    0.5145893067587892,
                    0.429817422426148,
                    0.46128110665461497,
                    0.2854812340950694,
                    0.2854812340950694
                  ]
                },
                {
                  "marker": {
                    "color": "#69b3a2"
                  },
                  "name": "Test",
                  "text": [
                    0.28,
                    0.24,
                    0.31,
                    0.4,
                    0.39
                  ],
                  "textposition": "outside",
                  "type": "bar",
                  "x": [
                    "τ",
                    "ΔENR",
                    "tG",
                    "μ",
                    "r(BVI)(Å)"
                  ],
                  "y": [
                    0.2809793445433827,
                    0.23880325474789804,
                    0.31268885086873205,
                    0.396864286294121,
                    0.3906081945733204
                  ]
                },
                {
                  "line": {
                    "color": "#aa57b5",
                    "width": 5
                  },
                  "marker": {
                    "size": 15,
                    "symbol": "circle"
                  },
                  "name": "Train-Test Difference (abs)",
                  "type": "scatter",
                  "x": [
                    "τ",
                    "ΔENR",
                    "tG",
                    "μ",
                    "r(BVI)(Å)"
                  ],
                  "y": [
                    0.23360996221540653,
                    0.19101416767824997,
                    0.14859225578588292,
                    0.11138305219905159,
                    0.10512696047825099
                  ]
                }
              ],
              "layout": {
                "barmode": "group",
                "height": 500,
                "legend": {
                  "x": 1,
                  "y": 1
                },
                "template": {
                  "data": {
                    "bar": [
                      {
                        "error_x": {
                          "color": "#2a3f5f"
                        },
                        "error_y": {
                          "color": "#2a3f5f"
                        },
                        "marker": {
                          "line": {
                            "color": "#E5ECF6",
                            "width": 0.5
                          },
                          "pattern": {
                            "fillmode": "overlay",
                            "size": 10,
                            "solidity": 0.2
                          }
                        },
                        "type": "bar"
                      }
                    ],
                    "barpolar": [
                      {
                        "marker": {
                          "line": {
                            "color": "#E5ECF6",
                            "width": 0.5
                          },
                          "pattern": {
                            "fillmode": "overlay",
                            "size": 10,
                            "solidity": 0.2
                          }
                        },
                        "type": "barpolar"
                      }
                    ],
                    "carpet": [
                      {
                        "aaxis": {
                          "endlinecolor": "#2a3f5f",
                          "gridcolor": "white",
                          "linecolor": "white",
                          "minorgridcolor": "white",
                          "startlinecolor": "#2a3f5f"
                        },
                        "baxis": {
                          "endlinecolor": "#2a3f5f",
                          "gridcolor": "white",
                          "linecolor": "white",
                          "minorgridcolor": "white",
                          "startlinecolor": "#2a3f5f"
                        },
                        "type": "carpet"
                      }
                    ],
                    "choropleth": [
                      {
                        "colorbar": {
                          "outlinewidth": 0,
                          "ticks": ""
                        },
                        "type": "choropleth"
                      }
                    ],
                    "contour": [
                      {
                        "colorbar": {
                          "outlinewidth": 0,
                          "ticks": ""
                        },
                        "colorscale": [
                          [
                            0,
                            "#0d0887"
                          ],
                          [
                            0.1111111111111111,
                            "#46039f"
                          ],
                          [
                            0.2222222222222222,
                            "#7201a8"
                          ],
                          [
                            0.3333333333333333,
                            "#9c179e"
                          ],
                          [
                            0.4444444444444444,
                            "#bd3786"
                          ],
                          [
                            0.5555555555555556,
                            "#d8576b"
                          ],
                          [
                            0.6666666666666666,
                            "#ed7953"
                          ],
                          [
                            0.7777777777777778,
                            "#fb9f3a"
                          ],
                          [
                            0.8888888888888888,
                            "#fdca26"
                          ],
                          [
                            1,
                            "#f0f921"
                          ]
                        ],
                        "type": "contour"
                      }
                    ],
                    "contourcarpet": [
                      {
                        "colorbar": {
                          "outlinewidth": 0,
                          "ticks": ""
                        },
                        "type": "contourcarpet"
                      }
                    ],
                    "heatmap": [
                      {
                        "colorbar": {
                          "outlinewidth": 0,
                          "ticks": ""
                        },
                        "colorscale": [
                          [
                            0,
                            "#0d0887"
                          ],
                          [
                            0.1111111111111111,
                            "#46039f"
                          ],
                          [
                            0.2222222222222222,
                            "#7201a8"
                          ],
                          [
                            0.3333333333333333,
                            "#9c179e"
                          ],
                          [
                            0.4444444444444444,
                            "#bd3786"
                          ],
                          [
                            0.5555555555555556,
                            "#d8576b"
                          ],
                          [
                            0.6666666666666666,
                            "#ed7953"
                          ],
                          [
                            0.7777777777777778,
                            "#fb9f3a"
                          ],
                          [
                            0.8888888888888888,
                            "#fdca26"
                          ],
                          [
                            1,
                            "#f0f921"
                          ]
                        ],
                        "type": "heatmap"
                      }
                    ],
                    "heatmapgl": [
                      {
                        "colorbar": {
                          "outlinewidth": 0,
                          "ticks": ""
                        },
                        "colorscale": [
                          [
                            0,
                            "#0d0887"
                          ],
                          [
                            0.1111111111111111,
                            "#46039f"
                          ],
                          [
                            0.2222222222222222,
                            "#7201a8"
                          ],
                          [
                            0.3333333333333333,
                            "#9c179e"
                          ],
                          [
                            0.4444444444444444,
                            "#bd3786"
                          ],
                          [
                            0.5555555555555556,
                            "#d8576b"
                          ],
                          [
                            0.6666666666666666,
                            "#ed7953"
                          ],
                          [
                            0.7777777777777778,
                            "#fb9f3a"
                          ],
                          [
                            0.8888888888888888,
                            "#fdca26"
                          ],
                          [
                            1,
                            "#f0f921"
                          ]
                        ],
                        "type": "heatmapgl"
                      }
                    ],
                    "histogram": [
                      {
                        "marker": {
                          "pattern": {
                            "fillmode": "overlay",
                            "size": 10,
                            "solidity": 0.2
                          }
                        },
                        "type": "histogram"
                      }
                    ],
                    "histogram2d": [
                      {
                        "colorbar": {
                          "outlinewidth": 0,
                          "ticks": ""
                        },
                        "colorscale": [
                          [
                            0,
                            "#0d0887"
                          ],
                          [
                            0.1111111111111111,
                            "#46039f"
                          ],
                          [
                            0.2222222222222222,
                            "#7201a8"
                          ],
                          [
                            0.3333333333333333,
                            "#9c179e"
                          ],
                          [
                            0.4444444444444444,
                            "#bd3786"
                          ],
                          [
                            0.5555555555555556,
                            "#d8576b"
                          ],
                          [
                            0.6666666666666666,
                            "#ed7953"
                          ],
                          [
                            0.7777777777777778,
                            "#fb9f3a"
                          ],
                          [
                            0.8888888888888888,
                            "#fdca26"
                          ],
                          [
                            1,
                            "#f0f921"
                          ]
                        ],
                        "type": "histogram2d"
                      }
                    ],
                    "histogram2dcontour": [
                      {
                        "colorbar": {
                          "outlinewidth": 0,
                          "ticks": ""
                        },
                        "colorscale": [
                          [
                            0,
                            "#0d0887"
                          ],
                          [
                            0.1111111111111111,
                            "#46039f"
                          ],
                          [
                            0.2222222222222222,
                            "#7201a8"
                          ],
                          [
                            0.3333333333333333,
                            "#9c179e"
                          ],
                          [
                            0.4444444444444444,
                            "#bd3786"
                          ],
                          [
                            0.5555555555555556,
                            "#d8576b"
                          ],
                          [
                            0.6666666666666666,
                            "#ed7953"
                          ],
                          [
                            0.7777777777777778,
                            "#fb9f3a"
                          ],
                          [
                            0.8888888888888888,
                            "#fdca26"
                          ],
                          [
                            1,
                            "#f0f921"
                          ]
                        ],
                        "type": "histogram2dcontour"
                      }
                    ],
                    "mesh3d": [
                      {
                        "colorbar": {
                          "outlinewidth": 0,
                          "ticks": ""
                        },
                        "type": "mesh3d"
                      }
                    ],
                    "parcoords": [
                      {
                        "line": {
                          "colorbar": {
                            "outlinewidth": 0,
                            "ticks": ""
                          }
                        },
                        "type": "parcoords"
                      }
                    ],
                    "pie": [
                      {
                        "automargin": true,
                        "type": "pie"
                      }
                    ],
                    "scatter": [
                      {
                        "marker": {
                          "colorbar": {
                            "outlinewidth": 0,
                            "ticks": ""
                          }
                        },
                        "type": "scatter"
                      }
                    ],
                    "scatter3d": [
                      {
                        "line": {
                          "colorbar": {
                            "outlinewidth": 0,
                            "ticks": ""
                          }
                        },
                        "marker": {
                          "colorbar": {
                            "outlinewidth": 0,
                            "ticks": ""
                          }
                        },
                        "type": "scatter3d"
                      }
                    ],
                    "scattercarpet": [
                      {
                        "marker": {
                          "colorbar": {
                            "outlinewidth": 0,
                            "ticks": ""
                          }
                        },
                        "type": "scattercarpet"
                      }
                    ],
                    "scattergeo": [
                      {
                        "marker": {
                          "colorbar": {
                            "outlinewidth": 0,
                            "ticks": ""
                          }
                        },
                        "type": "scattergeo"
                      }
                    ],
                    "scattergl": [
                      {
                        "marker": {
                          "colorbar": {
                            "outlinewidth": 0,
                            "ticks": ""
                          }
                        },
                        "type": "scattergl"
                      }
                    ],
                    "scattermapbox": [
                      {
                        "marker": {
                          "colorbar": {
                            "outlinewidth": 0,
                            "ticks": ""
                          }
                        },
                        "type": "scattermapbox"
                      }
                    ],
                    "scatterpolar": [
                      {
                        "marker": {
                          "colorbar": {
                            "outlinewidth": 0,
                            "ticks": ""
                          }
                        },
                        "type": "scatterpolar"
                      }
                    ],
                    "scatterpolargl": [
                      {
                        "marker": {
                          "colorbar": {
                            "outlinewidth": 0,
                            "ticks": ""
                          }
                        },
                        "type": "scatterpolargl"
                      }
                    ],
                    "scatterternary": [
                      {
                        "marker": {
                          "colorbar": {
                            "outlinewidth": 0,
                            "ticks": ""
                          }
                        },
                        "type": "scatterternary"
                      }
                    ],
                    "surface": [
                      {
                        "colorbar": {
                          "outlinewidth": 0,
                          "ticks": ""
                        },
                        "colorscale": [
                          [
                            0,
                            "#0d0887"
                          ],
                          [
                            0.1111111111111111,
                            "#46039f"
                          ],
                          [
                            0.2222222222222222,
                            "#7201a8"
                          ],
                          [
                            0.3333333333333333,
                            "#9c179e"
                          ],
                          [
                            0.4444444444444444,
                            "#bd3786"
                          ],
                          [
                            0.5555555555555556,
                            "#d8576b"
                          ],
                          [
                            0.6666666666666666,
                            "#ed7953"
                          ],
                          [
                            0.7777777777777778,
                            "#fb9f3a"
                          ],
                          [
                            0.8888888888888888,
                            "#fdca26"
                          ],
                          [
                            1,
                            "#f0f921"
                          ]
                        ],
                        "type": "surface"
                      }
                    ],
                    "table": [
                      {
                        "cells": {
                          "fill": {
                            "color": "#EBF0F8"
                          },
                          "line": {
                            "color": "white"
                          }
                        },
                        "header": {
                          "fill": {
                            "color": "#C8D4E3"
                          },
                          "line": {
                            "color": "white"
                          }
                        },
                        "type": "table"
                      }
                    ]
                  },
                  "layout": {
                    "annotationdefaults": {
                      "arrowcolor": "#2a3f5f",
                      "arrowhead": 0,
                      "arrowwidth": 1
                    },
                    "autotypenumbers": "strict",
                    "coloraxis": {
                      "colorbar": {
                        "outlinewidth": 0,
                        "ticks": ""
                      }
                    },
                    "colorscale": {
                      "diverging": [
                        [
                          0,
                          "#8e0152"
                        ],
                        [
                          0.1,
                          "#c51b7d"
                        ],
                        [
                          0.2,
                          "#de77ae"
                        ],
                        [
                          0.3,
                          "#f1b6da"
                        ],
                        [
                          0.4,
                          "#fde0ef"
                        ],
                        [
                          0.5,
                          "#f7f7f7"
                        ],
                        [
                          0.6,
                          "#e6f5d0"
                        ],
                        [
                          0.7,
                          "#b8e186"
                        ],
                        [
                          0.8,
                          "#7fbc41"
                        ],
                        [
                          0.9,
                          "#4d9221"
                        ],
                        [
                          1,
                          "#276419"
                        ]
                      ],
                      "sequential": [
                        [
                          0,
                          "#0d0887"
                        ],
                        [
                          0.1111111111111111,
                          "#46039f"
                        ],
                        [
                          0.2222222222222222,
                          "#7201a8"
                        ],
                        [
                          0.3333333333333333,
                          "#9c179e"
                        ],
                        [
                          0.4444444444444444,
                          "#bd3786"
                        ],
                        [
                          0.5555555555555556,
                          "#d8576b"
                        ],
                        [
                          0.6666666666666666,
                          "#ed7953"
                        ],
                        [
                          0.7777777777777778,
                          "#fb9f3a"
                        ],
                        [
                          0.8888888888888888,
                          "#fdca26"
                        ],
                        [
                          1,
                          "#f0f921"
                        ]
                      ],
                      "sequentialminus": [
                        [
                          0,
                          "#0d0887"
                        ],
                        [
                          0.1111111111111111,
                          "#46039f"
                        ],
                        [
                          0.2222222222222222,
                          "#7201a8"
                        ],
                        [
                          0.3333333333333333,
                          "#9c179e"
                        ],
                        [
                          0.4444444444444444,
                          "#bd3786"
                        ],
                        [
                          0.5555555555555556,
                          "#d8576b"
                        ],
                        [
                          0.6666666666666666,
                          "#ed7953"
                        ],
                        [
                          0.7777777777777778,
                          "#fb9f3a"
                        ],
                        [
                          0.8888888888888888,
                          "#fdca26"
                        ],
                        [
                          1,
                          "#f0f921"
                        ]
                      ]
                    },
                    "colorway": [
                      "#636efa",
                      "#EF553B",
                      "#00cc96",
                      "#ab63fa",
                      "#FFA15A",
                      "#19d3f3",
                      "#FF6692",
                      "#B6E880",
                      "#FF97FF",
                      "#FECB52"
                    ],
                    "font": {
                      "color": "#2a3f5f"
                    },
                    "geo": {
                      "bgcolor": "white",
                      "lakecolor": "white",
                      "landcolor": "#E5ECF6",
                      "showlakes": true,
                      "showland": true,
                      "subunitcolor": "white"
                    },
                    "hoverlabel": {
                      "align": "left"
                    },
                    "hovermode": "closest",
                    "mapbox": {
                      "style": "light"
                    },
                    "paper_bgcolor": "white",
                    "plot_bgcolor": "#E5ECF6",
                    "polar": {
                      "angularaxis": {
                        "gridcolor": "white",
                        "linecolor": "white",
                        "ticks": ""
                      },
                      "bgcolor": "#E5ECF6",
                      "radialaxis": {
                        "gridcolor": "white",
                        "linecolor": "white",
                        "ticks": ""
                      }
                    },
                    "scene": {
                      "xaxis": {
                        "backgroundcolor": "#E5ECF6",
                        "gridcolor": "white",
                        "gridwidth": 2,
                        "linecolor": "white",
                        "showbackground": true,
                        "ticks": "",
                        "zerolinecolor": "white"
                      },
                      "yaxis": {
                        "backgroundcolor": "#E5ECF6",
                        "gridcolor": "white",
                        "gridwidth": 2,
                        "linecolor": "white",
                        "showbackground": true,
                        "ticks": "",
                        "zerolinecolor": "white"
                      },
                      "zaxis": {
                        "backgroundcolor": "#E5ECF6",
                        "gridcolor": "white",
                        "gridwidth": 2,
                        "linecolor": "white",
                        "showbackground": true,
                        "ticks": "",
                        "zerolinecolor": "white"
                      }
                    },
                    "shapedefaults": {
                      "line": {
                        "color": "#2a3f5f"
                      }
                    },
                    "ternary": {
                      "aaxis": {
                        "gridcolor": "white",
                        "linecolor": "white",
                        "ticks": ""
                      },
                      "baxis": {
                        "gridcolor": "white",
                        "linecolor": "white",
                        "ticks": ""
                      },
                      "bgcolor": "#E5ECF6",
                      "caxis": {
                        "gridcolor": "white",
                        "linecolor": "white",
                        "ticks": ""
                      }
                    },
                    "title": {
                      "x": 0.05
                    },
                    "xaxis": {
                      "automargin": true,
                      "gridcolor": "white",
                      "linecolor": "white",
                      "ticks": "",
                      "title": {
                        "standoff": 15
                      },
                      "zerolinecolor": "white",
                      "zerolinewidth": 2
                    },
                    "yaxis": {
                      "automargin": true,
                      "gridcolor": "white",
                      "linecolor": "white",
                      "ticks": "",
                      "title": {
                        "standoff": 15
                      },
                      "zerolinecolor": "white",
                      "zerolinewidth": 2
                    }
                  }
                },
                "title": {
                  "text": "Predictive Power Score (PPS) - Can a feature predict the label by itself?"
                },
                "width": 800,
                "xaxis": {
                  "title": {
                    "text": "Column"
                  }
                },
                "yaxis": {
                  "range": [
                    0,
                    1.05
                  ],
                  "title": {
                    "text": "Predictive Power Score (PPS)"
                  }
                }
              }
            }
          },
          "metadata": {},
          "output_type": "display_data"
        },
        {
          "data": {
            "text/html": [
              "<div>The Predictive Power Score (PPS) is used to estimate the ability of a feature to predict the label by itself. (Read more about <a href=https://docs.deepchecks.com/en/stable/examples/tabular/checks/methodology/single_feature_contribution_train_test.html?utm_source=display_output&utm_medium=referral&utm_campaign=check_link target=\"_blank\">Predictive Power Score</a>)</div><div><u>In the graph above</u>, we should suspect we have problems in our data if:</div><div>1. <b>Train dataset PPS values are high</b>:</div><div>Can indicate that this feature's success in predicting the label is actually due to data leakage, </div><div>   meaning that the feature holds information that is based on the label to begin with.</div><div>2. <b>Large difference between train and test PPS</b> (train PPS is larger):</div><div>   An even more powerful indication of data leakage, as a feature that was powerful in train but not in test </div><div>   can be explained by leakage in train that is not relevant to a new dataset.</div><div>3. <b>Large difference between test and train PPS</b> (test PPS is larger):</div><div>   An anomalous value, could indicate drift in test dataset that caused a coincidental correlation to the target label.</div><br><a href=\"#summary_OD0JV\" style=\"font-size: 14px\">Go to top</a>"
            ]
          },
          "metadata": {},
          "output_type": "display_data"
        },
        {
          "data": {
            "text/html": [
              "<hr style=\"background-color: #eee;border: 0 none;color: #eee;height: 4px;\">"
            ]
          },
          "metadata": {},
          "output_type": "display_data"
        },
        {
          "data": {
            "text/html": [
              "<h4 id=\"TrainTestSamplesMix_OD0JV\">Train Test Samples Mix</h4><p>Detect samples in the test data that appear also in training data. <a href=\"https://docs.deepchecks.com/0.6.1/examples/tabular/checks/methodology/examples/plot_train_test_samples_mix.html?utm_source=display_output&utm_medium=referral&utm_campaign=check_link\" target=\"_blank\">Read More...</a></p><h5>Conditions Summary</h5><style type=\"text/css\">\n",
              "#T_3ec9f table {\n",
              "  text-align: left;\n",
              "  white-space: pre-wrap;\n",
              "}\n",
              "#T_3ec9f thead {\n",
              "  text-align: left;\n",
              "  white-space: pre-wrap;\n",
              "}\n",
              "#T_3ec9f tbody {\n",
              "  text-align: left;\n",
              "  white-space: pre-wrap;\n",
              "}\n",
              "#T_3ec9f th {\n",
              "  text-align: left;\n",
              "  white-space: pre-wrap;\n",
              "}\n",
              "#T_3ec9f td {\n",
              "  text-align: left;\n",
              "  white-space: pre-wrap;\n",
              "}\n",
              "</style>\n",
              "<table id=\"T_3ec9f\">\n",
              "  <thead>\n",
              "    <tr>\n",
              "      <th id=\"T_3ec9f_level0_col0\" class=\"col_heading level0 col0\" >Status</th>\n",
              "      <th id=\"T_3ec9f_level0_col1\" class=\"col_heading level0 col1\" >Condition</th>\n",
              "      <th id=\"T_3ec9f_level0_col2\" class=\"col_heading level0 col2\" >More Info</th>\n",
              "    </tr>\n",
              "  </thead>\n",
              "  <tbody>\n",
              "    <tr>\n",
              "      <td id=\"T_3ec9f_row0_col0\" class=\"data row0 col0\" ><div style=\"color: red;text-align: center\">✖</div></td>\n",
              "      <td id=\"T_3ec9f_row0_col1\" class=\"data row0 col1\" >Percentage of test data samples that appear in train data not greater than 10%</td>\n",
              "      <td id=\"T_3ec9f_row0_col2\" class=\"data row0 col2\" >Percent of test data samples that appear in train data: 34.67%</td>\n",
              "    </tr>\n",
              "  </tbody>\n",
              "</table>\n",
              "<h5>Additional Outputs</h5><div>34.67% (121 / 349)                      of test data samples appear in train data</div><style type=\"text/css\">\n",
              "#T_4baf8 table {\n",
              "  text-align: left;\n",
              "  white-space: pre-wrap;\n",
              "}\n",
              "#T_4baf8 thead {\n",
              "  text-align: left;\n",
              "  white-space: pre-wrap;\n",
              "}\n",
              "#T_4baf8 tbody {\n",
              "  text-align: left;\n",
              "  white-space: pre-wrap;\n",
              "}\n",
              "#T_4baf8 th {\n",
              "  text-align: left;\n",
              "  white-space: pre-wrap;\n",
              "}\n",
              "#T_4baf8 td {\n",
              "  text-align: left;\n",
              "  white-space: pre-wrap;\n",
              "}\n",
              "</style>\n",
              "<table id=\"T_4baf8\">\n",
              "  <thead>\n",
              "    <tr>\n",
              "      <th class=\"blank level0\" >&nbsp;</th>\n",
              "      <th id=\"T_4baf8_level0_col0\" class=\"col_heading level0 col0\" >v(A)</th>\n",
              "      <th id=\"T_4baf8_level0_col1\" class=\"col_heading level0 col1\" >v(B)</th>\n",
              "      <th id=\"T_4baf8_level0_col2\" class=\"col_heading level0 col2\" >r(AXII)(Å)</th>\n",
              "      <th id=\"T_4baf8_level0_col3\" class=\"col_heading level0 col3\" >r(AVI)(Å)</th>\n",
              "      <th id=\"T_4baf8_level0_col4\" class=\"col_heading level0 col4\" >r(BVI)(Å)</th>\n",
              "      <th id=\"T_4baf8_level0_col5\" class=\"col_heading level0 col5\" >EN(A)</th>\n",
              "      <th id=\"T_4baf8_level0_col6\" class=\"col_heading level0 col6\" >EN(B)</th>\n",
              "      <th id=\"T_4baf8_level0_col7\" class=\"col_heading level0 col7\" >l(A-O)(Å)</th>\n",
              "      <th id=\"T_4baf8_level0_col8\" class=\"col_heading level0 col8\" >l(B-O)(Å)</th>\n",
              "      <th id=\"T_4baf8_level0_col9\" class=\"col_heading level0 col9\" >ΔENR</th>\n",
              "      <th id=\"T_4baf8_level0_col10\" class=\"col_heading level0 col10\" >tG</th>\n",
              "      <th id=\"T_4baf8_level0_col11\" class=\"col_heading level0 col11\" >τ</th>\n",
              "      <th id=\"T_4baf8_level0_col12\" class=\"col_heading level0 col12\" >μ</th>\n",
              "      <th id=\"T_4baf8_level0_col13\" class=\"col_heading level0 col13\" >Lowest distortion</th>\n",
              "    </tr>\n",
              "  </thead>\n",
              "  <tbody>\n",
              "    <tr>\n",
              "      <th id=\"T_4baf8_level0_row0\" class=\"row_heading level0 row0\" >Train indices: 4150\n",
              "Test indices: 1983</th>\n",
              "      <td id=\"T_4baf8_row0_col0\" class=\"data row0 col0\" >1</td>\n",
              "      <td id=\"T_4baf8_row0_col1\" class=\"data row0 col1\" >5</td>\n",
              "      <td id=\"T_4baf8_row0_col2\" class=\"data row0 col2\" >0.92</td>\n",
              "      <td id=\"T_4baf8_row0_col3\" class=\"data row0 col3\" >0.80</td>\n",
              "      <td id=\"T_4baf8_row0_col4\" class=\"data row0 col4\" >0.60</td>\n",
              "      <td id=\"T_4baf8_row0_col5\" class=\"data row0 col5\" >1.78</td>\n",
              "      <td id=\"T_4baf8_row0_col6\" class=\"data row0 col6\" >2.05</td>\n",
              "      <td id=\"T_4baf8_row0_col7\" class=\"data row0 col7\" >2.39</td>\n",
              "      <td id=\"T_4baf8_row0_col8\" class=\"data row0 col8\" >2.08</td>\n",
              "      <td id=\"T_4baf8_row0_col9\" class=\"data row0 col9\" >-1.55</td>\n",
              "      <td id=\"T_4baf8_row0_col10\" class=\"data row0 col10\" >0.82</td>\n",
              "      <td id=\"T_4baf8_row0_col11\" class=\"data row0 col11\" >4.92</td>\n",
              "      <td id=\"T_4baf8_row0_col12\" class=\"data row0 col12\" >0.43</td>\n",
              "      <td id=\"T_4baf8_row0_col13\" class=\"data row0 col13\" >no cubic</td>\n",
              "    </tr>\n",
              "    <tr>\n",
              "      <th id=\"T_4baf8_level0_row1\" class=\"row_heading level0 row1\" >Train indices: 1761\n",
              "Test indices: 432</th>\n",
              "      <td id=\"T_4baf8_row1_col0\" class=\"data row1 col0\" >2</td>\n",
              "      <td id=\"T_4baf8_row1_col1\" class=\"data row1 col1\" >4</td>\n",
              "      <td id=\"T_4baf8_row1_col2\" class=\"data row1 col2\" >1.49</td>\n",
              "      <td id=\"T_4baf8_row1_col3\" class=\"data row1 col3\" >0.99</td>\n",
              "      <td id=\"T_4baf8_row1_col4\" class=\"data row1 col4\" >0.62</td>\n",
              "      <td id=\"T_4baf8_row1_col5\" class=\"data row1 col5\" >2.33</td>\n",
              "      <td id=\"T_4baf8_row1_col6\" class=\"data row1 col6\" >2.20</td>\n",
              "      <td id=\"T_4baf8_row1_col7\" class=\"data row1 col7\" >2.66</td>\n",
              "      <td id=\"T_4baf8_row1_col8\" class=\"data row1 col8\" >2.04</td>\n",
              "      <td id=\"T_4baf8_row1_col9\" class=\"data row1 col9\" >-1.67</td>\n",
              "      <td id=\"T_4baf8_row1_col10\" class=\"data row1 col10\" >1.01</td>\n",
              "      <td id=\"T_4baf8_row1_col11\" class=\"data row1 col11\" >3.74</td>\n",
              "      <td id=\"T_4baf8_row1_col12\" class=\"data row1 col12\" >0.44</td>\n",
              "      <td id=\"T_4baf8_row1_col13\" class=\"data row1 col13\" >no cubic</td>\n",
              "    </tr>\n",
              "    <tr>\n",
              "      <th id=\"T_4baf8_level0_row2\" class=\"row_heading level0 row2\" >Train indices: 3477\n",
              "Test indices: 2082</th>\n",
              "      <td id=\"T_4baf8_row2_col0\" class=\"data row2 col0\" >3</td>\n",
              "      <td id=\"T_4baf8_row2_col1\" class=\"data row2 col1\" >3</td>\n",
              "      <td id=\"T_4baf8_row2_col2\" class=\"data row2 col2\" >1.18</td>\n",
              "      <td id=\"T_4baf8_row2_col3\" class=\"data row2 col3\" >0.92</td>\n",
              "      <td id=\"T_4baf8_row2_col4\" class=\"data row2 col4\" >0.71</td>\n",
              "      <td id=\"T_4baf8_row2_col5\" class=\"data row2 col5\" >1.13</td>\n",
              "      <td id=\"T_4baf8_row2_col6\" class=\"data row2 col6\" >1.30</td>\n",
              "      <td id=\"T_4baf8_row2_col7\" class=\"data row2 col7\" >2.65</td>\n",
              "      <td id=\"T_4baf8_row2_col8\" class=\"data row2 col8\" >2.03</td>\n",
              "      <td id=\"T_4baf8_row2_col9\" class=\"data row2 col9\" >-2.36</td>\n",
              "      <td id=\"T_4baf8_row2_col10\" class=\"data row2 col10\" >0.86</td>\n",
              "      <td id=\"T_4baf8_row2_col11\" class=\"data row2 col11\" >2.79</td>\n",
              "      <td id=\"T_4baf8_row2_col12\" class=\"data row2 col12\" >0.51</td>\n",
              "      <td id=\"T_4baf8_row2_col13\" class=\"data row2 col13\" >no cubic</td>\n",
              "    </tr>\n",
              "    <tr>\n",
              "      <th id=\"T_4baf8_level0_row3\" class=\"row_heading level0 row3\" >Train indices: 216\n",
              "Test indices: 2328</th>\n",
              "      <td id=\"T_4baf8_row3_col0\" class=\"data row3 col0\" >3</td>\n",
              "      <td id=\"T_4baf8_row3_col1\" class=\"data row3 col1\" >3</td>\n",
              "      <td id=\"T_4baf8_row3_col2\" class=\"data row3 col2\" >1.18</td>\n",
              "      <td id=\"T_4baf8_row3_col3\" class=\"data row3 col3\" >0.92</td>\n",
              "      <td id=\"T_4baf8_row3_col4\" class=\"data row3 col4\" >0.69</td>\n",
              "      <td id=\"T_4baf8_row3_col5\" class=\"data row3 col5\" >1.13</td>\n",
              "      <td id=\"T_4baf8_row3_col6\" class=\"data row3 col6\" >2.16</td>\n",
              "      <td id=\"T_4baf8_row3_col7\" class=\"data row3 col7\" >2.65</td>\n",
              "      <td id=\"T_4baf8_row3_col8\" class=\"data row3 col8\" >1.79</td>\n",
              "      <td id=\"T_4baf8_row3_col9\" class=\"data row3 col9\" >-1.96</td>\n",
              "      <td id=\"T_4baf8_row3_col10\" class=\"data row3 col10\" >0.87</td>\n",
              "      <td id=\"T_4baf8_row3_col11\" class=\"data row3 col11\" >2.59</td>\n",
              "      <td id=\"T_4baf8_row3_col12\" class=\"data row3 col12\" >0.49</td>\n",
              "      <td id=\"T_4baf8_row3_col13\" class=\"data row3 col13\" >no cubic</td>\n",
              "    </tr>\n",
              "    <tr>\n",
              "      <th id=\"T_4baf8_level0_row4\" class=\"row_heading level0 row4\" >Train indices: 3065\n",
              "Test indices: 3976</th>\n",
              "      <td id=\"T_4baf8_row4_col0\" class=\"data row4 col0\" >3</td>\n",
              "      <td id=\"T_4baf8_row4_col1\" class=\"data row4 col1\" >3</td>\n",
              "      <td id=\"T_4baf8_row4_col2\" class=\"data row4 col2\" >1.18</td>\n",
              "      <td id=\"T_4baf8_row4_col3\" class=\"data row4 col3\" >0.92</td>\n",
              "      <td id=\"T_4baf8_row4_col4\" class=\"data row4 col4\" >0.69</td>\n",
              "      <td id=\"T_4baf8_row4_col5\" class=\"data row4 col5\" >1.13</td>\n",
              "      <td id=\"T_4baf8_row4_col6\" class=\"data row4 col6\" >1.96</td>\n",
              "      <td id=\"T_4baf8_row4_col7\" class=\"data row4 col7\" >2.65</td>\n",
              "      <td id=\"T_4baf8_row4_col8\" class=\"data row4 col8\" >2.05</td>\n",
              "      <td id=\"T_4baf8_row4_col9\" class=\"data row4 col9\" >-2.04</td>\n",
              "      <td id=\"T_4baf8_row4_col10\" class=\"data row4 col10\" >0.87</td>\n",
              "      <td id=\"T_4baf8_row4_col11\" class=\"data row4 col11\" >2.59</td>\n",
              "      <td id=\"T_4baf8_row4_col12\" class=\"data row4 col12\" >0.49</td>\n",
              "      <td id=\"T_4baf8_row4_col13\" class=\"data row4 col13\" >cubic</td>\n",
              "    </tr>\n",
              "    <tr>\n",
              "      <th id=\"T_4baf8_level0_row5\" class=\"row_heading level0 row5\" >Train indices: 1889\n",
              "Test indices: 799</th>\n",
              "      <td id=\"T_4baf8_row5_col0\" class=\"data row5 col0\" >3</td>\n",
              "      <td id=\"T_4baf8_row5_col1\" class=\"data row5 col1\" >3</td>\n",
              "      <td id=\"T_4baf8_row5_col2\" class=\"data row5 col2\" >1.18</td>\n",
              "      <td id=\"T_4baf8_row5_col3\" class=\"data row5 col3\" >0.92</td>\n",
              "      <td id=\"T_4baf8_row5_col4\" class=\"data row5 col4\" >0.63</td>\n",
              "      <td id=\"T_4baf8_row5_col5\" class=\"data row5 col5\" >1.13</td>\n",
              "      <td id=\"T_4baf8_row5_col6\" class=\"data row5 col6\" >2.01</td>\n",
              "      <td id=\"T_4baf8_row5_col7\" class=\"data row5 col7\" >2.65</td>\n",
              "      <td id=\"T_4baf8_row5_col8\" class=\"data row5 col8\" >1.90</td>\n",
              "      <td id=\"T_4baf8_row5_col9\" class=\"data row5 col9\" >-1.90</td>\n",
              "      <td id=\"T_4baf8_row5_col10\" class=\"data row5 col10\" >0.90</td>\n",
              "      <td id=\"T_4baf8_row5_col11\" class=\"data row5 col11\" >2.18</td>\n",
              "      <td id=\"T_4baf8_row5_col12\" class=\"data row5 col12\" >0.45</td>\n",
              "      <td id=\"T_4baf8_row5_col13\" class=\"data row5 col13\" >no cubic</td>\n",
              "    </tr>\n",
              "    <tr>\n",
              "      <th id=\"T_4baf8_level0_row6\" class=\"row_heading level0 row6\" >Train indices: 2727\n",
              "Test indices: 3610</th>\n",
              "      <td id=\"T_4baf8_row6_col0\" class=\"data row6 col0\" >3</td>\n",
              "      <td id=\"T_4baf8_row6_col1\" class=\"data row6 col1\" >3</td>\n",
              "      <td id=\"T_4baf8_row6_col2\" class=\"data row6 col2\" >1.18</td>\n",
              "      <td id=\"T_4baf8_row6_col3\" class=\"data row6 col3\" >0.92</td>\n",
              "      <td id=\"T_4baf8_row6_col4\" class=\"data row6 col4\" >0.63</td>\n",
              "      <td id=\"T_4baf8_row6_col5\" class=\"data row6 col5\" >1.13</td>\n",
              "      <td id=\"T_4baf8_row6_col6\" class=\"data row6 col6\" >1.90</td>\n",
              "      <td id=\"T_4baf8_row6_col7\" class=\"data row6 col7\" >2.65</td>\n",
              "      <td id=\"T_4baf8_row6_col8\" class=\"data row6 col8\" >1.99</td>\n",
              "      <td id=\"T_4baf8_row6_col9\" class=\"data row6 col9\" >-1.94</td>\n",
              "      <td id=\"T_4baf8_row6_col10\" class=\"data row6 col10\" >0.90</td>\n",
              "      <td id=\"T_4baf8_row6_col11\" class=\"data row6 col11\" >2.18</td>\n",
              "      <td id=\"T_4baf8_row6_col12\" class=\"data row6 col12\" >0.45</td>\n",
              "      <td id=\"T_4baf8_row6_col13\" class=\"data row6 col13\" >cubic</td>\n",
              "    </tr>\n",
              "    <tr>\n",
              "      <th id=\"T_4baf8_level0_row7\" class=\"row_heading level0 row7\" >Train indices: 2191\n",
              "Test indices: 1120</th>\n",
              "      <td id=\"T_4baf8_row7_col0\" class=\"data row7 col0\" >3</td>\n",
              "      <td id=\"T_4baf8_row7_col1\" class=\"data row7 col1\" >3</td>\n",
              "      <td id=\"T_4baf8_row7_col2\" class=\"data row7 col2\" >1.18</td>\n",
              "      <td id=\"T_4baf8_row7_col3\" class=\"data row7 col3\" >0.92</td>\n",
              "      <td id=\"T_4baf8_row7_col4\" class=\"data row7 col4\" >0.62</td>\n",
              "      <td id=\"T_4baf8_row7_col5\" class=\"data row7 col5\" >1.13</td>\n",
              "      <td id=\"T_4baf8_row7_col6\" class=\"data row7 col6\" >1.66</td>\n",
              "      <td id=\"T_4baf8_row7_col7\" class=\"data row7 col7\" >2.65</td>\n",
              "      <td id=\"T_4baf8_row7_col8\" class=\"data row7 col8\" >1.96</td>\n",
              "      <td id=\"T_4baf8_row7_col9\" class=\"data row7 col9\" >-2.02</td>\n",
              "      <td id=\"T_4baf8_row7_col10\" class=\"data row7 col10\" >0.90</td>\n",
              "      <td id=\"T_4baf8_row7_col11\" class=\"data row7 col11\" >2.13</td>\n",
              "      <td id=\"T_4baf8_row7_col12\" class=\"data row7 col12\" >0.44</td>\n",
              "      <td id=\"T_4baf8_row7_col13\" class=\"data row7 col13\" >no cubic</td>\n",
              "    </tr>\n",
              "    <tr>\n",
              "      <th id=\"T_4baf8_level0_row8\" class=\"row_heading level0 row8\" >Train indices: 450\n",
              "Test indices: 672</th>\n",
              "      <td id=\"T_4baf8_row8_col0\" class=\"data row8 col0\" >3</td>\n",
              "      <td id=\"T_4baf8_row8_col1\" class=\"data row8 col1\" >3</td>\n",
              "      <td id=\"T_4baf8_row8_col2\" class=\"data row8 col2\" >1.12</td>\n",
              "      <td id=\"T_4baf8_row8_col3\" class=\"data row8 col3\" >1.06</td>\n",
              "      <td id=\"T_4baf8_row8_col4\" class=\"data row8 col4\" >0.75</td>\n",
              "      <td id=\"T_4baf8_row8_col5\" class=\"data row8 col5\" >1.20</td>\n",
              "      <td id=\"T_4baf8_row8_col6\" class=\"data row8 col6\" >1.93</td>\n",
              "      <td id=\"T_4baf8_row8_col7\" class=\"data row8 col7\" >2.68</td>\n",
              "      <td id=\"T_4baf8_row8_col8\" class=\"data row8 col8\" >2.49</td>\n",
              "      <td id=\"T_4baf8_row8_col9\" class=\"data row8 col9\" >-2.13</td>\n",
              "      <td id=\"T_4baf8_row8_col10\" class=\"data row8 col10\" >0.83</td>\n",
              "      <td id=\"T_4baf8_row8_col11\" class=\"data row8 col11\" >4.04</td>\n",
              "      <td id=\"T_4baf8_row8_col12\" class=\"data row8 col12\" >0.54</td>\n",
              "      <td id=\"T_4baf8_row8_col13\" class=\"data row8 col13\" >no cubic</td>\n",
              "    </tr>\n",
              "    <tr>\n",
              "      <th id=\"T_4baf8_level0_row9\" class=\"row_heading level0 row9\" >Train indices: 2095\n",
              "Test indices: 1603</th>\n",
              "      <td id=\"T_4baf8_row9_col0\" class=\"data row9 col0\" >3</td>\n",
              "      <td id=\"T_4baf8_row9_col1\" class=\"data row9 col1\" >3</td>\n",
              "      <td id=\"T_4baf8_row9_col2\" class=\"data row9 col2\" >1.12</td>\n",
              "      <td id=\"T_4baf8_row9_col3\" class=\"data row9 col3\" >0.90</td>\n",
              "      <td id=\"T_4baf8_row9_col4\" class=\"data row9 col4\" >0.65</td>\n",
              "      <td id=\"T_4baf8_row9_col5\" class=\"data row9 col5\" >1.23</td>\n",
              "      <td id=\"T_4baf8_row9_col6\" class=\"data row9 col6\" >1.83</td>\n",
              "      <td id=\"T_4baf8_row9_col7\" class=\"data row9 col7\" >2.55</td>\n",
              "      <td id=\"T_4baf8_row9_col8\" class=\"data row9 col8\" >2.00</td>\n",
              "      <td id=\"T_4baf8_row9_col9\" class=\"data row9 col9\" >-1.96</td>\n",
              "      <td id=\"T_4baf8_row9_col10\" class=\"data row9 col10\" >0.87</td>\n",
              "      <td id=\"T_4baf8_row9_col11\" class=\"data row9 col11\" >2.65</td>\n",
              "      <td id=\"T_4baf8_row9_col12\" class=\"data row9 col12\" >0.46</td>\n",
              "      <td id=\"T_4baf8_row9_col13\" class=\"data row9 col13\" >no cubic</td>\n",
              "    </tr>\n",
              "  </tbody>\n",
              "</table>\n",
              "<br><a href=\"#summary_OD0JV\" style=\"font-size: 14px\">Go to top</a>"
            ]
          },
          "metadata": {},
          "output_type": "display_data"
        },
        {
          "data": {
            "text/html": [
              "<hr style=\"background-color: #eee;border: 0 none;color: #eee;height: 4px;\">"
            ]
          },
          "metadata": {},
          "output_type": "display_data"
        },
        {
          "data": {
            "text/html": [
              "<h4 id=\"DataDuplicates-TrainDataset_OD0JV\">Data Duplicates - Train Dataset</h4><p>Checks for duplicate samples in the dataset. <a href=\"https://docs.deepchecks.com/0.6.1/examples/tabular/checks/integrity/examples/plot_data_duplicates.html?utm_source=display_output&utm_medium=referral&utm_campaign=check_link\" target=\"_blank\">Read More...</a></p><h5>Conditions Summary</h5><style type=\"text/css\">\n",
              "#T_653a2 table {\n",
              "  text-align: left;\n",
              "  white-space: pre-wrap;\n",
              "}\n",
              "#T_653a2 thead {\n",
              "  text-align: left;\n",
              "  white-space: pre-wrap;\n",
              "}\n",
              "#T_653a2 tbody {\n",
              "  text-align: left;\n",
              "  white-space: pre-wrap;\n",
              "}\n",
              "#T_653a2 th {\n",
              "  text-align: left;\n",
              "  white-space: pre-wrap;\n",
              "}\n",
              "#T_653a2 td {\n",
              "  text-align: left;\n",
              "  white-space: pre-wrap;\n",
              "}\n",
              "</style>\n",
              "<table id=\"T_653a2\">\n",
              "  <thead>\n",
              "    <tr>\n",
              "      <th id=\"T_653a2_level0_col0\" class=\"col_heading level0 col0\" >Status</th>\n",
              "      <th id=\"T_653a2_level0_col1\" class=\"col_heading level0 col1\" >Condition</th>\n",
              "      <th id=\"T_653a2_level0_col2\" class=\"col_heading level0 col2\" >More Info</th>\n",
              "    </tr>\n",
              "  </thead>\n",
              "  <tbody>\n",
              "    <tr>\n",
              "      <td id=\"T_653a2_row0_col0\" class=\"data row0 col0\" ><div style=\"color: orange;text-align: center;font-weight:bold\">!</div></td>\n",
              "      <td id=\"T_653a2_row0_col1\" class=\"data row0 col1\" >Duplicate data ratio is not greater than 0%</td>\n",
              "      <td id=\"T_653a2_row0_col2\" class=\"data row0 col2\" >Found 16.76% duplicate data</td>\n",
              "    </tr>\n",
              "  </tbody>\n",
              "</table>\n",
              "<h5>Additional Outputs</h5><div>16.76% of data samples are duplicates. </div><div>Each row in the table shows an example of duplicate data and the number of times it appears.</div><style type=\"text/css\">\n",
              "#T_11802 table {\n",
              "  text-align: left;\n",
              "  white-space: pre-wrap;\n",
              "}\n",
              "#T_11802 thead {\n",
              "  text-align: left;\n",
              "  white-space: pre-wrap;\n",
              "}\n",
              "#T_11802 tbody {\n",
              "  text-align: left;\n",
              "  white-space: pre-wrap;\n",
              "}\n",
              "#T_11802 th {\n",
              "  text-align: left;\n",
              "  white-space: pre-wrap;\n",
              "}\n",
              "#T_11802 td {\n",
              "  text-align: left;\n",
              "  white-space: pre-wrap;\n",
              "}\n",
              "</style>\n",
              "<table id=\"T_11802\">\n",
              "  <thead>\n",
              "    <tr>\n",
              "      <th class=\"blank\" >&nbsp;</th>\n",
              "      <th class=\"blank level0\" >&nbsp;</th>\n",
              "      <th id=\"T_11802_level0_col0\" class=\"col_heading level0 col0\" >v(A)</th>\n",
              "      <th id=\"T_11802_level0_col1\" class=\"col_heading level0 col1\" >v(B)</th>\n",
              "      <th id=\"T_11802_level0_col2\" class=\"col_heading level0 col2\" >r(AXII)(Å)</th>\n",
              "      <th id=\"T_11802_level0_col3\" class=\"col_heading level0 col3\" >r(AVI)(Å)</th>\n",
              "      <th id=\"T_11802_level0_col4\" class=\"col_heading level0 col4\" >r(BVI)(Å)</th>\n",
              "      <th id=\"T_11802_level0_col5\" class=\"col_heading level0 col5\" >EN(A)</th>\n",
              "      <th id=\"T_11802_level0_col6\" class=\"col_heading level0 col6\" >EN(B)</th>\n",
              "      <th id=\"T_11802_level0_col7\" class=\"col_heading level0 col7\" >l(A-O)(Å)</th>\n",
              "      <th id=\"T_11802_level0_col8\" class=\"col_heading level0 col8\" >l(B-O)(Å)</th>\n",
              "      <th id=\"T_11802_level0_col9\" class=\"col_heading level0 col9\" >ΔENR</th>\n",
              "      <th id=\"T_11802_level0_col10\" class=\"col_heading level0 col10\" >tG</th>\n",
              "      <th id=\"T_11802_level0_col11\" class=\"col_heading level0 col11\" >τ</th>\n",
              "      <th id=\"T_11802_level0_col12\" class=\"col_heading level0 col12\" >μ</th>\n",
              "      <th id=\"T_11802_level0_col13\" class=\"col_heading level0 col13\" >Lowest distortion</th>\n",
              "    </tr>\n",
              "    <tr>\n",
              "      <th class=\"index_name level0\" >Instances</th>\n",
              "      <th class=\"index_name level1\" >Number of Duplicates</th>\n",
              "      <th class=\"blank col0\" >&nbsp;</th>\n",
              "      <th class=\"blank col1\" >&nbsp;</th>\n",
              "      <th class=\"blank col2\" >&nbsp;</th>\n",
              "      <th class=\"blank col3\" >&nbsp;</th>\n",
              "      <th class=\"blank col4\" >&nbsp;</th>\n",
              "      <th class=\"blank col5\" >&nbsp;</th>\n",
              "      <th class=\"blank col6\" >&nbsp;</th>\n",
              "      <th class=\"blank col7\" >&nbsp;</th>\n",
              "      <th class=\"blank col8\" >&nbsp;</th>\n",
              "      <th class=\"blank col9\" >&nbsp;</th>\n",
              "      <th class=\"blank col10\" >&nbsp;</th>\n",
              "      <th class=\"blank col11\" >&nbsp;</th>\n",
              "      <th class=\"blank col12\" >&nbsp;</th>\n",
              "      <th class=\"blank col13\" >&nbsp;</th>\n",
              "    </tr>\n",
              "  </thead>\n",
              "  <tbody>\n",
              "    <tr>\n",
              "      <th id=\"T_11802_level0_row0\" class=\"row_heading level0 row0\" >3833, 796</th>\n",
              "      <th id=\"T_11802_level1_row0\" class=\"row_heading level1 row0\" >2</th>\n",
              "      <td id=\"T_11802_row0_col0\" class=\"data row0 col0\" >1</td>\n",
              "      <td id=\"T_11802_row0_col1\" class=\"data row0 col1\" >5</td>\n",
              "      <td id=\"T_11802_row0_col2\" class=\"data row0 col2\" >0.96</td>\n",
              "      <td id=\"T_11802_row0_col3\" class=\"data row0 col3\" >0.62</td>\n",
              "      <td id=\"T_11802_row0_col4\" class=\"data row0 col4\" >0.60</td>\n",
              "      <td id=\"T_11802_row0_col5\" class=\"data row0 col5\" >1.55</td>\n",
              "      <td id=\"T_11802_row0_col6\" class=\"data row0 col6\" >2.05</td>\n",
              "      <td id=\"T_11802_row0_col7\" class=\"data row0 col7\" >2.47</td>\n",
              "      <td id=\"T_11802_row0_col8\" class=\"data row0 col8\" >2.08</td>\n",
              "      <td id=\"T_11802_row0_col9\" class=\"data row0 col9\" >-1.62</td>\n",
              "      <td id=\"T_11802_row0_col10\" class=\"data row0 col10\" >0.83</td>\n",
              "      <td id=\"T_11802_row0_col11\" class=\"data row0 col11\" >4.74</td>\n",
              "      <td id=\"T_11802_row0_col12\" class=\"data row0 col12\" >0.43</td>\n",
              "      <td id=\"T_11802_row0_col13\" class=\"data row0 col13\" >cubic</td>\n",
              "    </tr>\n",
              "    <tr>\n",
              "      <th id=\"T_11802_level0_row1\" class=\"row_heading level0 row1\" >134, 188</th>\n",
              "      <th id=\"T_11802_level1_row1\" class=\"row_heading level1 row1\" >2</th>\n",
              "      <td id=\"T_11802_row1_col0\" class=\"data row1 col0\" >1</td>\n",
              "      <td id=\"T_11802_row1_col1\" class=\"data row1 col1\" >5</td>\n",
              "      <td id=\"T_11802_row1_col2\" class=\"data row1 col2\" >0.97</td>\n",
              "      <td id=\"T_11802_row1_col3\" class=\"data row1 col3\" >0.77</td>\n",
              "      <td id=\"T_11802_row1_col4\" class=\"data row1 col4\" >0.64</td>\n",
              "      <td id=\"T_11802_row1_col5\" class=\"data row1 col5\" >2.10</td>\n",
              "      <td id=\"T_11802_row1_col6\" class=\"data row1 col6\" >1.60</td>\n",
              "      <td id=\"T_11802_row1_col7\" class=\"data row1 col7\" >2.39</td>\n",
              "      <td id=\"T_11802_row1_col8\" class=\"data row1 col8\" >1.96</td>\n",
              "      <td id=\"T_11802_row1_col9\" class=\"data row1 col9\" >-1.73</td>\n",
              "      <td id=\"T_11802_row1_col10\" class=\"data row1 col10\" >0.82</td>\n",
              "      <td id=\"T_11802_row1_col11\" class=\"data row1 col11\" >4.83</td>\n",
              "      <td id=\"T_11802_row1_col12\" class=\"data row1 col12\" >0.46</td>\n",
              "      <td id=\"T_11802_row1_col13\" class=\"data row1 col13\" >cubic</td>\n",
              "    </tr>\n",
              "    <tr>\n",
              "      <th id=\"T_11802_level0_row2\" class=\"row_heading level0 row2\" >2307, 445</th>\n",
              "      <th id=\"T_11802_level1_row2\" class=\"row_heading level1 row2\" >2</th>\n",
              "      <td id=\"T_11802_row2_col0\" class=\"data row2 col0\" >1</td>\n",
              "      <td id=\"T_11802_row2_col1\" class=\"data row2 col1\" >5</td>\n",
              "      <td id=\"T_11802_row2_col2\" class=\"data row2 col2\" >1.08</td>\n",
              "      <td id=\"T_11802_row2_col3\" class=\"data row2 col3\" >0.90</td>\n",
              "      <td id=\"T_11802_row2_col4\" class=\"data row2 col4\" >0.58</td>\n",
              "      <td id=\"T_11802_row2_col5\" class=\"data row2 col5\" >1.22</td>\n",
              "      <td id=\"T_11802_row2_col6\" class=\"data row2 col6\" >1.90</td>\n",
              "      <td id=\"T_11802_row2_col7\" class=\"data row2 col7\" >2.57</td>\n",
              "      <td id=\"T_11802_row2_col8\" class=\"data row2 col8\" >1.99</td>\n",
              "      <td id=\"T_11802_row2_col9\" class=\"data row2 col9\" >-1.77</td>\n",
              "      <td id=\"T_11802_row2_col10\" class=\"data row2 col10\" >0.89</td>\n",
              "      <td id=\"T_11802_row2_col11\" class=\"data row2 col11\" >4.41</td>\n",
              "      <td id=\"T_11802_row2_col12\" class=\"data row2 col12\" >0.41</td>\n",
              "      <td id=\"T_11802_row2_col13\" class=\"data row2 col13\" >cubic</td>\n",
              "    </tr>\n",
              "    <tr>\n",
              "      <th id=\"T_11802_level0_row3\" class=\"row_heading level0 row3\" >2723, 725</th>\n",
              "      <th id=\"T_11802_level1_row3\" class=\"row_heading level1 row3\" >2</th>\n",
              "      <td id=\"T_11802_row3_col0\" class=\"data row3 col0\" >1</td>\n",
              "      <td id=\"T_11802_row3_col1\" class=\"data row3 col1\" >5</td>\n",
              "      <td id=\"T_11802_row3_col2\" class=\"data row3 col2\" >1.08</td>\n",
              "      <td id=\"T_11802_row3_col3\" class=\"data row3 col3\" >0.90</td>\n",
              "      <td id=\"T_11802_row3_col4\" class=\"data row3 col4\" >0.62</td>\n",
              "      <td id=\"T_11802_row3_col5\" class=\"data row3 col5\" >1.22</td>\n",
              "      <td id=\"T_11802_row3_col6\" class=\"data row3 col6\" >2.36</td>\n",
              "      <td id=\"T_11802_row3_col7\" class=\"data row3 col7\" >2.57</td>\n",
              "      <td id=\"T_11802_row3_col8\" class=\"data row3 col8\" >1.75</td>\n",
              "      <td id=\"T_11802_row3_col9\" class=\"data row3 col9\" >-1.67</td>\n",
              "      <td id=\"T_11802_row3_col10\" class=\"data row3 col10\" >0.87</td>\n",
              "      <td id=\"T_11802_row3_col11\" class=\"data row3 col11\" >4.40</td>\n",
              "      <td id=\"T_11802_row3_col12\" class=\"data row3 col12\" >0.44</td>\n",
              "      <td id=\"T_11802_row3_col13\" class=\"data row3 col13\" >cubic</td>\n",
              "    </tr>\n",
              "    <tr>\n",
              "      <th id=\"T_11802_level0_row4\" class=\"row_heading level0 row4\" >1385, 3890</th>\n",
              "      <th id=\"T_11802_level1_row4\" class=\"row_heading level1 row4\" >2</th>\n",
              "      <td id=\"T_11802_row4_col0\" class=\"data row4 col0\" >1</td>\n",
              "      <td id=\"T_11802_row4_col1\" class=\"data row4 col1\" >5</td>\n",
              "      <td id=\"T_11802_row4_col2\" class=\"data row4 col2\" >1.08</td>\n",
              "      <td id=\"T_11802_row4_col3\" class=\"data row4 col3\" >0.90</td>\n",
              "      <td id=\"T_11802_row4_col4\" class=\"data row4 col4\" >0.64</td>\n",
              "      <td id=\"T_11802_row4_col5\" class=\"data row4 col5\" >1.22</td>\n",
              "      <td id=\"T_11802_row4_col6\" class=\"data row4 col6\" >1.60</td>\n",
              "      <td id=\"T_11802_row4_col7\" class=\"data row4 col7\" >2.57</td>\n",
              "      <td id=\"T_11802_row4_col8\" class=\"data row4 col8\" >1.96</td>\n",
              "      <td id=\"T_11802_row4_col9\" class=\"data row4 col9\" >-2.00</td>\n",
              "      <td id=\"T_11802_row4_col10\" class=\"data row4 col10\" >0.86</td>\n",
              "      <td id=\"T_11802_row4_col11\" class=\"data row4 col11\" >4.41</td>\n",
              "      <td id=\"T_11802_row4_col12\" class=\"data row4 col12\" >0.46</td>\n",
              "      <td id=\"T_11802_row4_col13\" class=\"data row4 col13\" >cubic</td>\n",
              "    </tr>\n",
              "  </tbody>\n",
              "</table>\n",
              "<br><a href=\"#summary_OD0JV\" style=\"font-size: 14px\">Go to top</a>"
            ]
          },
          "metadata": {},
          "output_type": "display_data"
        },
        {
          "data": {
            "text/html": [
              "<hr style=\"background-color: #eee;border: 0 none;color: #eee;height: 4px;\">"
            ]
          },
          "metadata": {},
          "output_type": "display_data"
        },
        {
          "data": {
            "text/html": [
              "<h4 id=\"DataDuplicates-TestDataset_OD0JV\">Data Duplicates - Test Dataset</h4><p>Checks for duplicate samples in the dataset. <a href=\"https://docs.deepchecks.com/0.6.1/examples/tabular/checks/integrity/examples/plot_data_duplicates.html?utm_source=display_output&utm_medium=referral&utm_campaign=check_link\" target=\"_blank\">Read More...</a></p><h5>Conditions Summary</h5><style type=\"text/css\">\n",
              "#T_85993 table {\n",
              "  text-align: left;\n",
              "  white-space: pre-wrap;\n",
              "}\n",
              "#T_85993 thead {\n",
              "  text-align: left;\n",
              "  white-space: pre-wrap;\n",
              "}\n",
              "#T_85993 tbody {\n",
              "  text-align: left;\n",
              "  white-space: pre-wrap;\n",
              "}\n",
              "#T_85993 th {\n",
              "  text-align: left;\n",
              "  white-space: pre-wrap;\n",
              "}\n",
              "#T_85993 td {\n",
              "  text-align: left;\n",
              "  white-space: pre-wrap;\n",
              "}\n",
              "</style>\n",
              "<table id=\"T_85993\">\n",
              "  <thead>\n",
              "    <tr>\n",
              "      <th id=\"T_85993_level0_col0\" class=\"col_heading level0 col0\" >Status</th>\n",
              "      <th id=\"T_85993_level0_col1\" class=\"col_heading level0 col1\" >Condition</th>\n",
              "      <th id=\"T_85993_level0_col2\" class=\"col_heading level0 col2\" >More Info</th>\n",
              "    </tr>\n",
              "  </thead>\n",
              "  <tbody>\n",
              "    <tr>\n",
              "      <td id=\"T_85993_row0_col0\" class=\"data row0 col0\" ><div style=\"color: orange;text-align: center;font-weight:bold\">!</div></td>\n",
              "      <td id=\"T_85993_row0_col1\" class=\"data row0 col1\" >Duplicate data ratio is not greater than 0%</td>\n",
              "      <td id=\"T_85993_row0_col2\" class=\"data row0 col2\" >Found 4.58% duplicate data</td>\n",
              "    </tr>\n",
              "  </tbody>\n",
              "</table>\n",
              "<h5>Additional Outputs</h5><div>4.58% of data samples are duplicates. </div><div>Each row in the table shows an example of duplicate data and the number of times it appears.</div><style type=\"text/css\">\n",
              "#T_6d044 table {\n",
              "  text-align: left;\n",
              "  white-space: pre-wrap;\n",
              "}\n",
              "#T_6d044 thead {\n",
              "  text-align: left;\n",
              "  white-space: pre-wrap;\n",
              "}\n",
              "#T_6d044 tbody {\n",
              "  text-align: left;\n",
              "  white-space: pre-wrap;\n",
              "}\n",
              "#T_6d044 th {\n",
              "  text-align: left;\n",
              "  white-space: pre-wrap;\n",
              "}\n",
              "#T_6d044 td {\n",
              "  text-align: left;\n",
              "  white-space: pre-wrap;\n",
              "}\n",
              "</style>\n",
              "<table id=\"T_6d044\">\n",
              "  <thead>\n",
              "    <tr>\n",
              "      <th class=\"blank\" >&nbsp;</th>\n",
              "      <th class=\"blank level0\" >&nbsp;</th>\n",
              "      <th id=\"T_6d044_level0_col0\" class=\"col_heading level0 col0\" >v(A)</th>\n",
              "      <th id=\"T_6d044_level0_col1\" class=\"col_heading level0 col1\" >v(B)</th>\n",
              "      <th id=\"T_6d044_level0_col2\" class=\"col_heading level0 col2\" >r(AXII)(Å)</th>\n",
              "      <th id=\"T_6d044_level0_col3\" class=\"col_heading level0 col3\" >r(AVI)(Å)</th>\n",
              "      <th id=\"T_6d044_level0_col4\" class=\"col_heading level0 col4\" >r(BVI)(Å)</th>\n",
              "      <th id=\"T_6d044_level0_col5\" class=\"col_heading level0 col5\" >EN(A)</th>\n",
              "      <th id=\"T_6d044_level0_col6\" class=\"col_heading level0 col6\" >EN(B)</th>\n",
              "      <th id=\"T_6d044_level0_col7\" class=\"col_heading level0 col7\" >l(A-O)(Å)</th>\n",
              "      <th id=\"T_6d044_level0_col8\" class=\"col_heading level0 col8\" >l(B-O)(Å)</th>\n",
              "      <th id=\"T_6d044_level0_col9\" class=\"col_heading level0 col9\" >ΔENR</th>\n",
              "      <th id=\"T_6d044_level0_col10\" class=\"col_heading level0 col10\" >tG</th>\n",
              "      <th id=\"T_6d044_level0_col11\" class=\"col_heading level0 col11\" >τ</th>\n",
              "      <th id=\"T_6d044_level0_col12\" class=\"col_heading level0 col12\" >μ</th>\n",
              "      <th id=\"T_6d044_level0_col13\" class=\"col_heading level0 col13\" >Lowest distortion</th>\n",
              "    </tr>\n",
              "    <tr>\n",
              "      <th class=\"index_name level0\" >Instances</th>\n",
              "      <th class=\"index_name level1\" >Number of Duplicates</th>\n",
              "      <th class=\"blank col0\" >&nbsp;</th>\n",
              "      <th class=\"blank col1\" >&nbsp;</th>\n",
              "      <th class=\"blank col2\" >&nbsp;</th>\n",
              "      <th class=\"blank col3\" >&nbsp;</th>\n",
              "      <th class=\"blank col4\" >&nbsp;</th>\n",
              "      <th class=\"blank col5\" >&nbsp;</th>\n",
              "      <th class=\"blank col6\" >&nbsp;</th>\n",
              "      <th class=\"blank col7\" >&nbsp;</th>\n",
              "      <th class=\"blank col8\" >&nbsp;</th>\n",
              "      <th class=\"blank col9\" >&nbsp;</th>\n",
              "      <th class=\"blank col10\" >&nbsp;</th>\n",
              "      <th class=\"blank col11\" >&nbsp;</th>\n",
              "      <th class=\"blank col12\" >&nbsp;</th>\n",
              "      <th class=\"blank col13\" >&nbsp;</th>\n",
              "    </tr>\n",
              "  </thead>\n",
              "  <tbody>\n",
              "    <tr>\n",
              "      <th id=\"T_6d044_level0_row0\" class=\"row_heading level0 row0\" >983, 505</th>\n",
              "      <th id=\"T_6d044_level1_row0\" class=\"row_heading level1 row0\" >2</th>\n",
              "      <td id=\"T_6d044_row0_col0\" class=\"data row0 col0\" >2</td>\n",
              "      <td id=\"T_6d044_row0_col1\" class=\"data row0 col1\" >4</td>\n",
              "      <td id=\"T_6d044_row0_col2\" class=\"data row0 col2\" >0.96</td>\n",
              "      <td id=\"T_6d044_row0_col3\" class=\"data row0 col3\" >0.62</td>\n",
              "      <td id=\"T_6d044_row0_col4\" class=\"data row0 col4\" >0.59</td>\n",
              "      <td id=\"T_6d044_row0_col5\" class=\"data row0 col5\" >1.55</td>\n",
              "      <td id=\"T_6d044_row0_col6\" class=\"data row0 col6\" >1.83</td>\n",
              "      <td id=\"T_6d044_row0_col7\" class=\"data row0 col7\" >2.47</td>\n",
              "      <td id=\"T_6d044_row0_col8\" class=\"data row0 col8\" >2.00</td>\n",
              "      <td id=\"T_6d044_row0_col9\" class=\"data row0 col9\" >-1.68</td>\n",
              "      <td id=\"T_6d044_row0_col10\" class=\"data row0 col10\" >0.84</td>\n",
              "      <td id=\"T_6d044_row0_col11\" class=\"data row0 col11\" >5.06</td>\n",
              "      <td id=\"T_6d044_row0_col12\" class=\"data row0 col12\" >0.42</td>\n",
              "      <td id=\"T_6d044_row0_col13\" class=\"data row0 col13\" >no cubic</td>\n",
              "    </tr>\n",
              "    <tr>\n",
              "      <th id=\"T_6d044_level0_row1\" class=\"row_heading level0 row1\" >3647, 977</th>\n",
              "      <th id=\"T_6d044_level1_row1\" class=\"row_heading level1 row1\" >2</th>\n",
              "      <td id=\"T_6d044_row1_col0\" class=\"data row1 col0\" >2</td>\n",
              "      <td id=\"T_6d044_row1_col1\" class=\"data row1 col1\" >4</td>\n",
              "      <td id=\"T_6d044_row1_col2\" class=\"data row1 col2\" >1.19</td>\n",
              "      <td id=\"T_6d044_row1_col3\" class=\"data row1 col3\" >0.99</td>\n",
              "      <td id=\"T_6d044_row1_col4\" class=\"data row1 col4\" >0.63</td>\n",
              "      <td id=\"T_6d044_row1_col5\" class=\"data row1 col5\" >1.22</td>\n",
              "      <td id=\"T_6d044_row1_col6\" class=\"data row1 col6\" >1.90</td>\n",
              "      <td id=\"T_6d044_row1_col7\" class=\"data row1 col7\" >2.55</td>\n",
              "      <td id=\"T_6d044_row1_col8\" class=\"data row1 col8\" >1.99</td>\n",
              "      <td id=\"T_6d044_row1_col9\" class=\"data row1 col9\" >-1.93</td>\n",
              "      <td id=\"T_6d044_row1_col10\" class=\"data row1 col10\" >0.90</td>\n",
              "      <td id=\"T_6d044_row1_col11\" class=\"data row1 col11\" >4.16</td>\n",
              "      <td id=\"T_6d044_row1_col12\" class=\"data row1 col12\" >0.45</td>\n",
              "      <td id=\"T_6d044_row1_col13\" class=\"data row1 col13\" >cubic</td>\n",
              "    </tr>\n",
              "    <tr>\n",
              "      <th id=\"T_6d044_level0_row2\" class=\"row_heading level0 row2\" >635, 3077</th>\n",
              "      <th id=\"T_6d044_level1_row2\" class=\"row_heading level1 row2\" >2</th>\n",
              "      <td id=\"T_6d044_row2_col0\" class=\"data row2 col0\" >2</td>\n",
              "      <td id=\"T_6d044_row2_col1\" class=\"data row2 col1\" >4</td>\n",
              "      <td id=\"T_6d044_row2_col2\" class=\"data row2 col2\" >1.38</td>\n",
              "      <td id=\"T_6d044_row2_col3\" class=\"data row2 col3\" >0.90</td>\n",
              "      <td id=\"T_6d044_row2_col4\" class=\"data row2 col4\" >0.66</td>\n",
              "      <td id=\"T_6d044_row2_col5\" class=\"data row2 col5\" >2.02</td>\n",
              "      <td id=\"T_6d044_row2_col6\" class=\"data row2 col6\" >2.36</td>\n",
              "      <td id=\"T_6d044_row2_col7\" class=\"data row2 col7\" >2.51</td>\n",
              "      <td id=\"T_6d044_row2_col8\" class=\"data row2 col8\" >1.75</td>\n",
              "      <td id=\"T_6d044_row2_col9\" class=\"data row2 col9\" >-1.68</td>\n",
              "      <td id=\"T_6d044_row2_col10\" class=\"data row2 col10\" >0.95</td>\n",
              "      <td id=\"T_6d044_row2_col11\" class=\"data row2 col11\" >3.79</td>\n",
              "      <td id=\"T_6d044_row2_col12\" class=\"data row2 col12\" >0.47</td>\n",
              "      <td id=\"T_6d044_row2_col13\" class=\"data row2 col13\" >cubic</td>\n",
              "    </tr>\n",
              "    <tr>\n",
              "      <th id=\"T_6d044_level0_row3\" class=\"row_heading level0 row3\" >142, 3829</th>\n",
              "      <th id=\"T_6d044_level1_row3\" class=\"row_heading level1 row3\" >2</th>\n",
              "      <td id=\"T_6d044_row3_col0\" class=\"data row3 col0\" >2</td>\n",
              "      <td id=\"T_6d044_row3_col1\" class=\"data row3 col1\" >4</td>\n",
              "      <td id=\"T_6d044_row3_col2\" class=\"data row3 col2\" >1.48</td>\n",
              "      <td id=\"T_6d044_row3_col3\" class=\"data row3 col3\" >1.06</td>\n",
              "      <td id=\"T_6d044_row3_col4\" class=\"data row3 col4\" >0.94</td>\n",
              "      <td id=\"T_6d044_row3_col5\" class=\"data row3 col5\" >1.20</td>\n",
              "      <td id=\"T_6d044_row3_col6\" class=\"data row3 col6\" >1.30</td>\n",
              "      <td id=\"T_6d044_row3_col7\" class=\"data row3 col7\" >2.68</td>\n",
              "      <td id=\"T_6d044_row3_col8\" class=\"data row3 col8\" >2.25</td>\n",
              "      <td id=\"T_6d044_row3_col9\" class=\"data row3 col9\" >-3.04</td>\n",
              "      <td id=\"T_6d044_row3_col10\" class=\"data row3 col10\" >0.87</td>\n",
              "      <td id=\"T_6d044_row3_col11\" class=\"data row3 col11\" >4.43</td>\n",
              "      <td id=\"T_6d044_row3_col12\" class=\"data row3 col12\" >0.67</td>\n",
              "      <td id=\"T_6d044_row3_col13\" class=\"data row3 col13\" >no cubic</td>\n",
              "    </tr>\n",
              "    <tr>\n",
              "      <th id=\"T_6d044_level0_row4\" class=\"row_heading level0 row4\" >716, 3557</th>\n",
              "      <th id=\"T_6d044_level1_row4\" class=\"row_heading level1 row4\" >2</th>\n",
              "      <td id=\"T_6d044_row4_col0\" class=\"data row4 col0\" >2</td>\n",
              "      <td id=\"T_6d044_row4_col1\" class=\"data row4 col1\" >4</td>\n",
              "      <td id=\"T_6d044_row4_col2\" class=\"data row4 col2\" >1.49</td>\n",
              "      <td id=\"T_6d044_row4_col3\" class=\"data row4 col3\" >0.99</td>\n",
              "      <td id=\"T_6d044_row4_col4\" class=\"data row4 col4\" >0.59</td>\n",
              "      <td id=\"T_6d044_row4_col5\" class=\"data row4 col5\" >2.33</td>\n",
              "      <td id=\"T_6d044_row4_col6\" class=\"data row4 col6\" >1.83</td>\n",
              "      <td id=\"T_6d044_row4_col7\" class=\"data row4 col7\" >2.66</td>\n",
              "      <td id=\"T_6d044_row4_col8\" class=\"data row4 col8\" >2.00</td>\n",
              "      <td id=\"T_6d044_row4_col9\" class=\"data row4 col9\" >-1.82</td>\n",
              "      <td id=\"T_6d044_row4_col10\" class=\"data row4 col10\" >1.03</td>\n",
              "      <td id=\"T_6d044_row4_col11\" class=\"data row4 col11\" >3.82</td>\n",
              "      <td id=\"T_6d044_row4_col12\" class=\"data row4 col12\" >0.42</td>\n",
              "      <td id=\"T_6d044_row4_col13\" class=\"data row4 col13\" >no cubic</td>\n",
              "    </tr>\n",
              "  </tbody>\n",
              "</table>\n",
              "<br><a href=\"#summary_OD0JV\" style=\"font-size: 14px\">Go to top</a>"
            ]
          },
          "metadata": {},
          "output_type": "display_data"
        },
        {
          "data": {
            "text/html": [
              "<hr style=\"background-color: #eee;border: 0 none;color: #eee;height: 4px;\">"
            ]
          },
          "metadata": {},
          "output_type": "display_data"
        },
        {
          "data": {
            "text/html": [
              "<h4 id=\"PerformanceReport_OD0JV\">Performance Report</h4><p>Summarize given scores on a dataset and model. <a href=\"https://docs.deepchecks.com/0.6.1/examples/tabular/checks/performance/examples/plot_performance_report.html?utm_source=display_output&utm_medium=referral&utm_campaign=check_link\" target=\"_blank\">Read More...</a></p><h5>Conditions Summary</h5><style type=\"text/css\">\n",
              "#T_b1c84 table {\n",
              "  text-align: left;\n",
              "  white-space: pre-wrap;\n",
              "}\n",
              "#T_b1c84 thead {\n",
              "  text-align: left;\n",
              "  white-space: pre-wrap;\n",
              "}\n",
              "#T_b1c84 tbody {\n",
              "  text-align: left;\n",
              "  white-space: pre-wrap;\n",
              "}\n",
              "#T_b1c84 th {\n",
              "  text-align: left;\n",
              "  white-space: pre-wrap;\n",
              "}\n",
              "#T_b1c84 td {\n",
              "  text-align: left;\n",
              "  white-space: pre-wrap;\n",
              "}\n",
              "</style>\n",
              "<table id=\"T_b1c84\">\n",
              "  <thead>\n",
              "    <tr>\n",
              "      <th id=\"T_b1c84_level0_col0\" class=\"col_heading level0 col0\" >Status</th>\n",
              "      <th id=\"T_b1c84_level0_col1\" class=\"col_heading level0 col1\" >Condition</th>\n",
              "      <th id=\"T_b1c84_level0_col2\" class=\"col_heading level0 col2\" >More Info</th>\n",
              "    </tr>\n",
              "  </thead>\n",
              "  <tbody>\n",
              "    <tr>\n",
              "      <td id=\"T_b1c84_row0_col0\" class=\"data row0 col0\" ><div style=\"color: green;text-align: center\">✓</div></td>\n",
              "      <td id=\"T_b1c84_row0_col1\" class=\"data row0 col1\" >Train-Test scores relative degradation is not greater than 0.1</td>\n",
              "      <td id=\"T_b1c84_row0_col2\" class=\"data row0 col2\" ></td>\n",
              "    </tr>\n",
              "  </tbody>\n",
              "</table>\n",
              "<h5>Additional Outputs</h5>"
            ]
          },
          "metadata": {},
          "output_type": "display_data"
        },
        {
          "data": {
            "application/vnd.plotly.v1+json": {
              "config": {
                "plotlyServerURL": "https://plot.ly"
              },
              "data": [
                {
                  "alignmentgroup": "True",
                  "bingroup": "x",
                  "histfunc": "sum",
                  "hovertemplate": "Dataset=Train<br>Metric=F1<br>Class=%{x}<br>sum of Value=%{y}<extra></extra>",
                  "legendgroup": "Train",
                  "marker": {
                    "color": "#636efa",
                    "pattern": {
                      "shape": ""
                    }
                  },
                  "name": "Train",
                  "offsetgroup": "Train",
                  "orientation": "v",
                  "showlegend": true,
                  "type": "histogram",
                  "x": [
                    "cubic",
                    "no cubic"
                  ],
                  "xaxis": "x",
                  "y": [
                    0.8919449901768173,
                    0.897196261682243
                  ],
                  "yaxis": "y"
                },
                {
                  "alignmentgroup": "True",
                  "bingroup": "x",
                  "histfunc": "sum",
                  "hovertemplate": "Dataset=Train<br>Metric=Precision<br>Class=%{x}<br>sum of Value=%{y}<extra></extra>",
                  "legendgroup": "Train",
                  "marker": {
                    "color": "#636efa",
                    "pattern": {
                      "shape": ""
                    }
                  },
                  "name": "Train",
                  "offsetgroup": "Train",
                  "orientation": "v",
                  "showlegend": false,
                  "type": "histogram",
                  "x": [
                    "cubic",
                    "no cubic"
                  ],
                  "xaxis": "x2",
                  "y": [
                    0.8628571428571429,
                    0.9017341040462428
                  ],
                  "yaxis": "y2"
                },
                {
                  "alignmentgroup": "True",
                  "bingroup": "x",
                  "histfunc": "sum",
                  "hovertemplate": "Dataset=Train<br>Metric=Recall<br>Class=%{x}<br>sum of Value=%{y}<extra></extra>",
                  "legendgroup": "Train",
                  "marker": {
                    "color": "#636efa",
                    "pattern": {
                      "shape": ""
                    }
                  },
                  "name": "Train",
                  "offsetgroup": "Train",
                  "orientation": "v",
                  "showlegend": false,
                  "type": "histogram",
                  "x": [
                    "cubic",
                    "no cubic"
                  ],
                  "xaxis": "x3",
                  "y": [
                    0.8948412698412699,
                    0.8685185185185185
                  ],
                  "yaxis": "y3"
                },
                {
                  "alignmentgroup": "True",
                  "bingroup": "x",
                  "histfunc": "sum",
                  "hovertemplate": "Dataset=Test<br>Metric=F1<br>Class=%{x}<br>sum of Value=%{y}<extra></extra>",
                  "legendgroup": "Test",
                  "marker": {
                    "color": "#EF553B",
                    "pattern": {
                      "shape": ""
                    }
                  },
                  "name": "Test",
                  "offsetgroup": "Test",
                  "orientation": "v",
                  "showlegend": true,
                  "type": "histogram",
                  "x": [
                    "cubic",
                    "no cubic"
                  ],
                  "xaxis": "x",
                  "y": [
                    0.8545454545454546,
                    0.8695652173913044
                  ],
                  "yaxis": "y"
                },
                {
                  "alignmentgroup": "True",
                  "bingroup": "x",
                  "histfunc": "sum",
                  "hovertemplate": "Dataset=Test<br>Metric=Precision<br>Class=%{x}<br>sum of Value=%{y}<extra></extra>",
                  "legendgroup": "Test",
                  "marker": {
                    "color": "#EF553B",
                    "pattern": {
                      "shape": ""
                    }
                  },
                  "name": "Test",
                  "offsetgroup": "Test",
                  "orientation": "v",
                  "showlegend": false,
                  "type": "histogram",
                  "x": [
                    "cubic",
                    "no cubic"
                  ],
                  "xaxis": "x2",
                  "y": [
                    0.8545454545454545,
                    0.8532608695652174
                  ],
                  "yaxis": "y2"
                },
                {
                  "alignmentgroup": "True",
                  "bingroup": "x",
                  "histfunc": "sum",
                  "hovertemplate": "Dataset=Test<br>Metric=Recall<br>Class=%{x}<br>sum of Value=%{y}<extra></extra>",
                  "legendgroup": "Test",
                  "marker": {
                    "color": "#EF553B",
                    "pattern": {
                      "shape": ""
                    }
                  },
                  "name": "Test",
                  "offsetgroup": "Test",
                  "orientation": "v",
                  "showlegend": false,
                  "type": "histogram",
                  "x": [
                    "cubic",
                    "no cubic"
                  ],
                  "xaxis": "x3",
                  "y": [
                    0.8333333333333334,
                    0.861878453038674
                  ],
                  "yaxis": "y3"
                }
              ],
              "layout": {
                "annotations": [
                  {
                    "font": {},
                    "showarrow": false,
                    "text": "F1",
                    "x": 0.15,
                    "xanchor": "center",
                    "xref": "paper",
                    "y": 1,
                    "yanchor": "bottom",
                    "yref": "paper"
                  },
                  {
                    "font": {},
                    "showarrow": false,
                    "text": "Precision",
                    "x": 0.49999999999999994,
                    "xanchor": "center",
                    "xref": "paper",
                    "y": 1,
                    "yanchor": "bottom",
                    "yref": "paper"
                  },
                  {
                    "font": {},
                    "showarrow": false,
                    "text": "Recall",
                    "x": 0.85,
                    "xanchor": "center",
                    "xref": "paper",
                    "y": 1,
                    "yanchor": "bottom",
                    "yref": "paper"
                  }
                ],
                "barmode": "group",
                "legend": {
                  "title": {
                    "text": "Dataset"
                  },
                  "tracegroupgap": 0
                },
                "margin": {
                  "t": 60
                },
                "template": {
                  "data": {
                    "bar": [
                      {
                        "error_x": {
                          "color": "#2a3f5f"
                        },
                        "error_y": {
                          "color": "#2a3f5f"
                        },
                        "marker": {
                          "line": {
                            "color": "#E5ECF6",
                            "width": 0.5
                          },
                          "pattern": {
                            "fillmode": "overlay",
                            "size": 10,
                            "solidity": 0.2
                          }
                        },
                        "type": "bar"
                      }
                    ],
                    "barpolar": [
                      {
                        "marker": {
                          "line": {
                            "color": "#E5ECF6",
                            "width": 0.5
                          },
                          "pattern": {
                            "fillmode": "overlay",
                            "size": 10,
                            "solidity": 0.2
                          }
                        },
                        "type": "barpolar"
                      }
                    ],
                    "carpet": [
                      {
                        "aaxis": {
                          "endlinecolor": "#2a3f5f",
                          "gridcolor": "white",
                          "linecolor": "white",
                          "minorgridcolor": "white",
                          "startlinecolor": "#2a3f5f"
                        },
                        "baxis": {
                          "endlinecolor": "#2a3f5f",
                          "gridcolor": "white",
                          "linecolor": "white",
                          "minorgridcolor": "white",
                          "startlinecolor": "#2a3f5f"
                        },
                        "type": "carpet"
                      }
                    ],
                    "choropleth": [
                      {
                        "colorbar": {
                          "outlinewidth": 0,
                          "ticks": ""
                        },
                        "type": "choropleth"
                      }
                    ],
                    "contour": [
                      {
                        "colorbar": {
                          "outlinewidth": 0,
                          "ticks": ""
                        },
                        "colorscale": [
                          [
                            0,
                            "#0d0887"
                          ],
                          [
                            0.1111111111111111,
                            "#46039f"
                          ],
                          [
                            0.2222222222222222,
                            "#7201a8"
                          ],
                          [
                            0.3333333333333333,
                            "#9c179e"
                          ],
                          [
                            0.4444444444444444,
                            "#bd3786"
                          ],
                          [
                            0.5555555555555556,
                            "#d8576b"
                          ],
                          [
                            0.6666666666666666,
                            "#ed7953"
                          ],
                          [
                            0.7777777777777778,
                            "#fb9f3a"
                          ],
                          [
                            0.8888888888888888,
                            "#fdca26"
                          ],
                          [
                            1,
                            "#f0f921"
                          ]
                        ],
                        "type": "contour"
                      }
                    ],
                    "contourcarpet": [
                      {
                        "colorbar": {
                          "outlinewidth": 0,
                          "ticks": ""
                        },
                        "type": "contourcarpet"
                      }
                    ],
                    "heatmap": [
                      {
                        "colorbar": {
                          "outlinewidth": 0,
                          "ticks": ""
                        },
                        "colorscale": [
                          [
                            0,
                            "#0d0887"
                          ],
                          [
                            0.1111111111111111,
                            "#46039f"
                          ],
                          [
                            0.2222222222222222,
                            "#7201a8"
                          ],
                          [
                            0.3333333333333333,
                            "#9c179e"
                          ],
                          [
                            0.4444444444444444,
                            "#bd3786"
                          ],
                          [
                            0.5555555555555556,
                            "#d8576b"
                          ],
                          [
                            0.6666666666666666,
                            "#ed7953"
                          ],
                          [
                            0.7777777777777778,
                            "#fb9f3a"
                          ],
                          [
                            0.8888888888888888,
                            "#fdca26"
                          ],
                          [
                            1,
                            "#f0f921"
                          ]
                        ],
                        "type": "heatmap"
                      }
                    ],
                    "heatmapgl": [
                      {
                        "colorbar": {
                          "outlinewidth": 0,
                          "ticks": ""
                        },
                        "colorscale": [
                          [
                            0,
                            "#0d0887"
                          ],
                          [
                            0.1111111111111111,
                            "#46039f"
                          ],
                          [
                            0.2222222222222222,
                            "#7201a8"
                          ],
                          [
                            0.3333333333333333,
                            "#9c179e"
                          ],
                          [
                            0.4444444444444444,
                            "#bd3786"
                          ],
                          [
                            0.5555555555555556,
                            "#d8576b"
                          ],
                          [
                            0.6666666666666666,
                            "#ed7953"
                          ],
                          [
                            0.7777777777777778,
                            "#fb9f3a"
                          ],
                          [
                            0.8888888888888888,
                            "#fdca26"
                          ],
                          [
                            1,
                            "#f0f921"
                          ]
                        ],
                        "type": "heatmapgl"
                      }
                    ],
                    "histogram": [
                      {
                        "marker": {
                          "pattern": {
                            "fillmode": "overlay",
                            "size": 10,
                            "solidity": 0.2
                          }
                        },
                        "type": "histogram"
                      }
                    ],
                    "histogram2d": [
                      {
                        "colorbar": {
                          "outlinewidth": 0,
                          "ticks": ""
                        },
                        "colorscale": [
                          [
                            0,
                            "#0d0887"
                          ],
                          [
                            0.1111111111111111,
                            "#46039f"
                          ],
                          [
                            0.2222222222222222,
                            "#7201a8"
                          ],
                          [
                            0.3333333333333333,
                            "#9c179e"
                          ],
                          [
                            0.4444444444444444,
                            "#bd3786"
                          ],
                          [
                            0.5555555555555556,
                            "#d8576b"
                          ],
                          [
                            0.6666666666666666,
                            "#ed7953"
                          ],
                          [
                            0.7777777777777778,
                            "#fb9f3a"
                          ],
                          [
                            0.8888888888888888,
                            "#fdca26"
                          ],
                          [
                            1,
                            "#f0f921"
                          ]
                        ],
                        "type": "histogram2d"
                      }
                    ],
                    "histogram2dcontour": [
                      {
                        "colorbar": {
                          "outlinewidth": 0,
                          "ticks": ""
                        },
                        "colorscale": [
                          [
                            0,
                            "#0d0887"
                          ],
                          [
                            0.1111111111111111,
                            "#46039f"
                          ],
                          [
                            0.2222222222222222,
                            "#7201a8"
                          ],
                          [
                            0.3333333333333333,
                            "#9c179e"
                          ],
                          [
                            0.4444444444444444,
                            "#bd3786"
                          ],
                          [
                            0.5555555555555556,
                            "#d8576b"
                          ],
                          [
                            0.6666666666666666,
                            "#ed7953"
                          ],
                          [
                            0.7777777777777778,
                            "#fb9f3a"
                          ],
                          [
                            0.8888888888888888,
                            "#fdca26"
                          ],
                          [
                            1,
                            "#f0f921"
                          ]
                        ],
                        "type": "histogram2dcontour"
                      }
                    ],
                    "mesh3d": [
                      {
                        "colorbar": {
                          "outlinewidth": 0,
                          "ticks": ""
                        },
                        "type": "mesh3d"
                      }
                    ],
                    "parcoords": [
                      {
                        "line": {
                          "colorbar": {
                            "outlinewidth": 0,
                            "ticks": ""
                          }
                        },
                        "type": "parcoords"
                      }
                    ],
                    "pie": [
                      {
                        "automargin": true,
                        "type": "pie"
                      }
                    ],
                    "scatter": [
                      {
                        "marker": {
                          "colorbar": {
                            "outlinewidth": 0,
                            "ticks": ""
                          }
                        },
                        "type": "scatter"
                      }
                    ],
                    "scatter3d": [
                      {
                        "line": {
                          "colorbar": {
                            "outlinewidth": 0,
                            "ticks": ""
                          }
                        },
                        "marker": {
                          "colorbar": {
                            "outlinewidth": 0,
                            "ticks": ""
                          }
                        },
                        "type": "scatter3d"
                      }
                    ],
                    "scattercarpet": [
                      {
                        "marker": {
                          "colorbar": {
                            "outlinewidth": 0,
                            "ticks": ""
                          }
                        },
                        "type": "scattercarpet"
                      }
                    ],
                    "scattergeo": [
                      {
                        "marker": {
                          "colorbar": {
                            "outlinewidth": 0,
                            "ticks": ""
                          }
                        },
                        "type": "scattergeo"
                      }
                    ],
                    "scattergl": [
                      {
                        "marker": {
                          "colorbar": {
                            "outlinewidth": 0,
                            "ticks": ""
                          }
                        },
                        "type": "scattergl"
                      }
                    ],
                    "scattermapbox": [
                      {
                        "marker": {
                          "colorbar": {
                            "outlinewidth": 0,
                            "ticks": ""
                          }
                        },
                        "type": "scattermapbox"
                      }
                    ],
                    "scatterpolar": [
                      {
                        "marker": {
                          "colorbar": {
                            "outlinewidth": 0,
                            "ticks": ""
                          }
                        },
                        "type": "scatterpolar"
                      }
                    ],
                    "scatterpolargl": [
                      {
                        "marker": {
                          "colorbar": {
                            "outlinewidth": 0,
                            "ticks": ""
                          }
                        },
                        "type": "scatterpolargl"
                      }
                    ],
                    "scatterternary": [
                      {
                        "marker": {
                          "colorbar": {
                            "outlinewidth": 0,
                            "ticks": ""
                          }
                        },
                        "type": "scatterternary"
                      }
                    ],
                    "surface": [
                      {
                        "colorbar": {
                          "outlinewidth": 0,
                          "ticks": ""
                        },
                        "colorscale": [
                          [
                            0,
                            "#0d0887"
                          ],
                          [
                            0.1111111111111111,
                            "#46039f"
                          ],
                          [
                            0.2222222222222222,
                            "#7201a8"
                          ],
                          [
                            0.3333333333333333,
                            "#9c179e"
                          ],
                          [
                            0.4444444444444444,
                            "#bd3786"
                          ],
                          [
                            0.5555555555555556,
                            "#d8576b"
                          ],
                          [
                            0.6666666666666666,
                            "#ed7953"
                          ],
                          [
                            0.7777777777777778,
                            "#fb9f3a"
                          ],
                          [
                            0.8888888888888888,
                            "#fdca26"
                          ],
                          [
                            1,
                            "#f0f921"
                          ]
                        ],
                        "type": "surface"
                      }
                    ],
                    "table": [
                      {
                        "cells": {
                          "fill": {
                            "color": "#EBF0F8"
                          },
                          "line": {
                            "color": "white"
                          }
                        },
                        "header": {
                          "fill": {
                            "color": "#C8D4E3"
                          },
                          "line": {
                            "color": "white"
                          }
                        },
                        "type": "table"
                      }
                    ]
                  },
                  "layout": {
                    "annotationdefaults": {
                      "arrowcolor": "#2a3f5f",
                      "arrowhead": 0,
                      "arrowwidth": 1
                    },
                    "autotypenumbers": "strict",
                    "coloraxis": {
                      "colorbar": {
                        "outlinewidth": 0,
                        "ticks": ""
                      }
                    },
                    "colorscale": {
                      "diverging": [
                        [
                          0,
                          "#8e0152"
                        ],
                        [
                          0.1,
                          "#c51b7d"
                        ],
                        [
                          0.2,
                          "#de77ae"
                        ],
                        [
                          0.3,
                          "#f1b6da"
                        ],
                        [
                          0.4,
                          "#fde0ef"
                        ],
                        [
                          0.5,
                          "#f7f7f7"
                        ],
                        [
                          0.6,
                          "#e6f5d0"
                        ],
                        [
                          0.7,
                          "#b8e186"
                        ],
                        [
                          0.8,
                          "#7fbc41"
                        ],
                        [
                          0.9,
                          "#4d9221"
                        ],
                        [
                          1,
                          "#276419"
                        ]
                      ],
                      "sequential": [
                        [
                          0,
                          "#0d0887"
                        ],
                        [
                          0.1111111111111111,
                          "#46039f"
                        ],
                        [
                          0.2222222222222222,
                          "#7201a8"
                        ],
                        [
                          0.3333333333333333,
                          "#9c179e"
                        ],
                        [
                          0.4444444444444444,
                          "#bd3786"
                        ],
                        [
                          0.5555555555555556,
                          "#d8576b"
                        ],
                        [
                          0.6666666666666666,
                          "#ed7953"
                        ],
                        [
                          0.7777777777777778,
                          "#fb9f3a"
                        ],
                        [
                          0.8888888888888888,
                          "#fdca26"
                        ],
                        [
                          1,
                          "#f0f921"
                        ]
                      ],
                      "sequentialminus": [
                        [
                          0,
                          "#0d0887"
                        ],
                        [
                          0.1111111111111111,
                          "#46039f"
                        ],
                        [
                          0.2222222222222222,
                          "#7201a8"
                        ],
                        [
                          0.3333333333333333,
                          "#9c179e"
                        ],
                        [
                          0.4444444444444444,
                          "#bd3786"
                        ],
                        [
                          0.5555555555555556,
                          "#d8576b"
                        ],
                        [
                          0.6666666666666666,
                          "#ed7953"
                        ],
                        [
                          0.7777777777777778,
                          "#fb9f3a"
                        ],
                        [
                          0.8888888888888888,
                          "#fdca26"
                        ],
                        [
                          1,
                          "#f0f921"
                        ]
                      ]
                    },
                    "colorway": [
                      "#636efa",
                      "#EF553B",
                      "#00cc96",
                      "#ab63fa",
                      "#FFA15A",
                      "#19d3f3",
                      "#FF6692",
                      "#B6E880",
                      "#FF97FF",
                      "#FECB52"
                    ],
                    "font": {
                      "color": "#2a3f5f"
                    },
                    "geo": {
                      "bgcolor": "white",
                      "lakecolor": "white",
                      "landcolor": "#E5ECF6",
                      "showlakes": true,
                      "showland": true,
                      "subunitcolor": "white"
                    },
                    "hoverlabel": {
                      "align": "left"
                    },
                    "hovermode": "closest",
                    "mapbox": {
                      "style": "light"
                    },
                    "paper_bgcolor": "white",
                    "plot_bgcolor": "#E5ECF6",
                    "polar": {
                      "angularaxis": {
                        "gridcolor": "white",
                        "linecolor": "white",
                        "ticks": ""
                      },
                      "bgcolor": "#E5ECF6",
                      "radialaxis": {
                        "gridcolor": "white",
                        "linecolor": "white",
                        "ticks": ""
                      }
                    },
                    "scene": {
                      "xaxis": {
                        "backgroundcolor": "#E5ECF6",
                        "gridcolor": "white",
                        "gridwidth": 2,
                        "linecolor": "white",
                        "showbackground": true,
                        "ticks": "",
                        "zerolinecolor": "white"
                      },
                      "yaxis": {
                        "backgroundcolor": "#E5ECF6",
                        "gridcolor": "white",
                        "gridwidth": 2,
                        "linecolor": "white",
                        "showbackground": true,
                        "ticks": "",
                        "zerolinecolor": "white"
                      },
                      "zaxis": {
                        "backgroundcolor": "#E5ECF6",
                        "gridcolor": "white",
                        "gridwidth": 2,
                        "linecolor": "white",
                        "showbackground": true,
                        "ticks": "",
                        "zerolinecolor": "white"
                      }
                    },
                    "shapedefaults": {
                      "line": {
                        "color": "#2a3f5f"
                      }
                    },
                    "ternary": {
                      "aaxis": {
                        "gridcolor": "white",
                        "linecolor": "white",
                        "ticks": ""
                      },
                      "baxis": {
                        "gridcolor": "white",
                        "linecolor": "white",
                        "ticks": ""
                      },
                      "bgcolor": "#E5ECF6",
                      "caxis": {
                        "gridcolor": "white",
                        "linecolor": "white",
                        "ticks": ""
                      }
                    },
                    "title": {
                      "x": 0.05
                    },
                    "xaxis": {
                      "automargin": true,
                      "gridcolor": "white",
                      "linecolor": "white",
                      "ticks": "",
                      "title": {
                        "standoff": 15
                      },
                      "zerolinecolor": "white",
                      "zerolinewidth": 2
                    },
                    "yaxis": {
                      "automargin": true,
                      "gridcolor": "white",
                      "linecolor": "white",
                      "ticks": "",
                      "title": {
                        "standoff": 15
                      },
                      "zerolinecolor": "white",
                      "zerolinewidth": 2
                    }
                  }
                },
                "xaxis": {
                  "anchor": "y",
                  "domain": [
                    0,
                    0.3
                  ],
                  "tickangle": 60,
                  "tickprefix": "Class ",
                  "title": {},
                  "type": "category"
                },
                "xaxis2": {
                  "anchor": "y2",
                  "domain": [
                    0.35,
                    0.6499999999999999
                  ],
                  "matches": "x",
                  "tickangle": 60,
                  "tickprefix": "Class ",
                  "title": {},
                  "type": "category"
                },
                "xaxis3": {
                  "anchor": "y3",
                  "domain": [
                    0.7,
                    1
                  ],
                  "matches": "x",
                  "tickangle": 60,
                  "tickprefix": "Class ",
                  "title": {},
                  "type": "category"
                },
                "yaxis": {
                  "anchor": "x",
                  "domain": [
                    0,
                    1
                  ],
                  "showticklabels": true,
                  "title": {}
                },
                "yaxis2": {
                  "anchor": "x2",
                  "domain": [
                    0,
                    1
                  ],
                  "showticklabels": true,
                  "title": {}
                },
                "yaxis3": {
                  "anchor": "x3",
                  "domain": [
                    0,
                    1
                  ],
                  "showticklabels": true,
                  "title": {}
                }
              }
            }
          },
          "metadata": {},
          "output_type": "display_data"
        },
        {
          "data": {
            "text/html": [
              "<br><a href=\"#summary_OD0JV\" style=\"font-size: 14px\">Go to top</a>"
            ]
          },
          "metadata": {},
          "output_type": "display_data"
        },
        {
          "data": {
            "text/html": [
              "<hr style=\"background-color: #eee;border: 0 none;color: #eee;height: 4px;\">"
            ]
          },
          "metadata": {},
          "output_type": "display_data"
        },
        {
          "data": {
            "text/html": [
              "<h4 id=\"ROCReport-TrainDataset_OD0JV\">ROC Report - Train Dataset</h4><p>Calculate the ROC curve for each class. <a href=\"https://docs.deepchecks.com/0.6.1/examples/tabular/checks/performance/examples/plot_roc_report.html?utm_source=display_output&utm_medium=referral&utm_campaign=check_link\" target=\"_blank\">Read More...</a></p><h5>Conditions Summary</h5><style type=\"text/css\">\n",
              "#T_8cc5d table {\n",
              "  text-align: left;\n",
              "  white-space: pre-wrap;\n",
              "}\n",
              "#T_8cc5d thead {\n",
              "  text-align: left;\n",
              "  white-space: pre-wrap;\n",
              "}\n",
              "#T_8cc5d tbody {\n",
              "  text-align: left;\n",
              "  white-space: pre-wrap;\n",
              "}\n",
              "#T_8cc5d th {\n",
              "  text-align: left;\n",
              "  white-space: pre-wrap;\n",
              "}\n",
              "#T_8cc5d td {\n",
              "  text-align: left;\n",
              "  white-space: pre-wrap;\n",
              "}\n",
              "</style>\n",
              "<table id=\"T_8cc5d\">\n",
              "  <thead>\n",
              "    <tr>\n",
              "      <th id=\"T_8cc5d_level0_col0\" class=\"col_heading level0 col0\" >Status</th>\n",
              "      <th id=\"T_8cc5d_level0_col1\" class=\"col_heading level0 col1\" >Condition</th>\n",
              "      <th id=\"T_8cc5d_level0_col2\" class=\"col_heading level0 col2\" >More Info</th>\n",
              "    </tr>\n",
              "  </thead>\n",
              "  <tbody>\n",
              "    <tr>\n",
              "      <td id=\"T_8cc5d_row0_col0\" class=\"data row0 col0\" ><div style=\"color: green;text-align: center\">✓</div></td>\n",
              "      <td id=\"T_8cc5d_row0_col1\" class=\"data row0 col1\" >AUC score for all the classes is not less than 0.7</td>\n",
              "      <td id=\"T_8cc5d_row0_col2\" class=\"data row0 col2\" ></td>\n",
              "    </tr>\n",
              "  </tbody>\n",
              "</table>\n",
              "<h5>Additional Outputs</h5>"
            ]
          },
          "metadata": {},
          "output_type": "display_data"
        },
        {
          "data": {
            "application/vnd.plotly.v1+json": {
              "config": {
                "plotlyServerURL": "https://plot.ly"
              },
              "data": [
                {
                  "line": {
                    "width": 2
                  },
                  "name": "auc = 0.96",
                  "type": "scatter",
                  "x": [
                    0,
                    0,
                    0,
                    0.001851851851851852,
                    0.001851851851851852,
                    0.003703703703703704,
                    0.003703703703703704,
                    0.005555555555555556,
                    0.005555555555555556,
                    0.007407407407407408,
                    0.007407407407407408,
                    0.009259259259259259,
                    0.009259259259259259,
                    0.011111111111111112,
                    0.011111111111111112,
                    0.012962962962962963,
                    0.012962962962962963,
                    0.014814814814814815,
                    0.014814814814814815,
                    0.016666666666666666,
                    0.016666666666666666,
                    0.018518518518518517,
                    0.018518518518518517,
                    0.022222222222222223,
                    0.022222222222222223,
                    0.024074074074074074,
                    0.024074074074074074,
                    0.025925925925925925,
                    0.025925925925925925,
                    0.027777777777777776,
                    0.027777777777777776,
                    0.02962962962962963,
                    0.02962962962962963,
                    0.03333333333333333,
                    0.03333333333333333,
                    0.03518518518518519,
                    0.03518518518518519,
                    0.037037037037037035,
                    0.037037037037037035,
                    0.03888888888888889,
                    0.03888888888888889,
                    0.040740740740740744,
                    0.040740740740740744,
                    0.044444444444444446,
                    0.044444444444444446,
                    0.046296296296296294,
                    0.046296296296296294,
                    0.04814814814814815,
                    0.04814814814814815,
                    0.05185185185185185,
                    0.05185185185185185,
                    0.05555555555555555,
                    0.05555555555555555,
                    0.05740740740740741,
                    0.05740740740740741,
                    0.05925925925925926,
                    0.05925925925925926,
                    0.06296296296296296,
                    0.06296296296296296,
                    0.06666666666666667,
                    0.06666666666666667,
                    0.07592592592592592,
                    0.07592592592592592,
                    0.07777777777777778,
                    0.07777777777777778,
                    0.08333333333333333,
                    0.08333333333333333,
                    0.08518518518518518,
                    0.08518518518518518,
                    0.08888888888888889,
                    0.08888888888888889,
                    0.09074074074074075,
                    0.09074074074074075,
                    0.1,
                    0.1,
                    0.10555555555555556,
                    0.10555555555555556,
                    0.1111111111111111,
                    0.1111111111111111,
                    0.11481481481481481,
                    0.11481481481481481,
                    0.11851851851851852,
                    0.11851851851851852,
                    0.12037037037037036,
                    0.12037037037037036,
                    0.12222222222222222,
                    0.12222222222222222,
                    0.1259259259259259,
                    0.1259259259259259,
                    0.12777777777777777,
                    0.12777777777777777,
                    0.13148148148148148,
                    0.13148148148148148,
                    0.1388888888888889,
                    0.1388888888888889,
                    0.14074074074074075,
                    0.14074074074074075,
                    0.14629629629629629,
                    0.14629629629629629,
                    0.15555555555555556,
                    0.15555555555555556,
                    0.1648148148148148,
                    0.1648148148148148,
                    0.17777777777777778,
                    0.17777777777777778,
                    0.1814814814814815,
                    0.1814814814814815,
                    0.18333333333333332,
                    0.18333333333333332,
                    0.1962962962962963,
                    0.1962962962962963,
                    0.20185185185185187,
                    0.20185185185185187,
                    0.2037037037037037,
                    0.2037037037037037,
                    0.20555555555555555,
                    0.20555555555555555,
                    0.2074074074074074,
                    0.2074074074074074,
                    0.22592592592592592,
                    0.22592592592592592,
                    0.23148148148148148,
                    0.23148148148148148,
                    0.2388888888888889,
                    0.2388888888888889,
                    0.2462962962962963,
                    0.2462962962962963,
                    0.2574074074074074,
                    0.2574074074074074,
                    0.25925925925925924,
                    0.25925925925925924,
                    0.26481481481481484,
                    0.26481481481481484,
                    0.2814814814814815,
                    0.2814814814814815,
                    0.2833333333333333,
                    0.2833333333333333,
                    0.29074074074074074,
                    0.29074074074074074,
                    0.31296296296296294,
                    0.31296296296296294,
                    0.31851851851851853,
                    0.31851851851851853,
                    0.32222222222222224,
                    0.32222222222222224,
                    0.3574074074074074,
                    0.3574074074074074,
                    0.387037037037037,
                    0.387037037037037,
                    0.4203703703703704,
                    0.4203703703703704,
                    0.43148148148148147,
                    0.43148148148148147,
                    0.6907407407407408,
                    0.6907407407407408,
                    1
                  ],
                  "y": [
                    0,
                    0.001984126984126984,
                    0.5476190476190477,
                    0.5476190476190477,
                    0.5496031746031746,
                    0.5496031746031746,
                    0.5972222222222222,
                    0.5972222222222222,
                    0.6011904761904762,
                    0.6011904761904762,
                    0.6111111111111112,
                    0.6111111111111112,
                    0.6448412698412699,
                    0.6448412698412699,
                    0.6607142857142857,
                    0.6607142857142857,
                    0.6765873015873016,
                    0.6765873015873016,
                    0.6805555555555556,
                    0.6805555555555556,
                    0.6825396825396826,
                    0.6825396825396826,
                    0.6865079365079365,
                    0.6865079365079365,
                    0.7083333333333334,
                    0.7083333333333334,
                    0.7103174603174603,
                    0.7103174603174603,
                    0.7123015873015873,
                    0.7123015873015873,
                    0.7142857142857143,
                    0.7142857142857143,
                    0.7301587301587301,
                    0.7301587301587301,
                    0.7400793650793651,
                    0.7400793650793651,
                    0.7440476190476191,
                    0.7440476190476191,
                    0.7658730158730159,
                    0.7658730158730159,
                    0.7876984126984127,
                    0.7876984126984127,
                    0.7956349206349206,
                    0.7956349206349206,
                    0.8273809523809523,
                    0.8273809523809523,
                    0.8293650793650794,
                    0.8293650793650794,
                    0.8333333333333334,
                    0.8333333333333334,
                    0.8353174603174603,
                    0.8353174603174603,
                    0.8373015873015873,
                    0.8373015873015873,
                    0.8412698412698413,
                    0.8412698412698413,
                    0.8432539682539683,
                    0.8432539682539683,
                    0.8452380952380952,
                    0.8452380952380952,
                    0.8591269841269841,
                    0.8591269841269841,
                    0.8611111111111112,
                    0.8611111111111112,
                    0.8670634920634921,
                    0.8670634920634921,
                    0.8690476190476191,
                    0.8690476190476191,
                    0.875,
                    0.875,
                    0.878968253968254,
                    0.878968253968254,
                    0.8869047619047619,
                    0.8869047619047619,
                    0.8908730158730159,
                    0.8908730158730159,
                    0.8928571428571429,
                    0.8928571428571429,
                    0.8948412698412699,
                    0.8948412698412699,
                    0.8968253968253969,
                    0.8968253968253969,
                    0.8988095238095238,
                    0.8988095238095238,
                    0.9007936507936508,
                    0.9007936507936508,
                    0.9047619047619048,
                    0.9047619047619048,
                    0.9067460317460317,
                    0.9067460317460317,
                    0.9087301587301587,
                    0.9087301587301587,
                    0.9107142857142857,
                    0.9107142857142857,
                    0.9126984126984127,
                    0.9126984126984127,
                    0.9146825396825397,
                    0.9146825396825397,
                    0.9166666666666666,
                    0.9166666666666666,
                    0.9186507936507936,
                    0.9186507936507936,
                    0.9206349206349206,
                    0.9206349206349206,
                    0.9285714285714286,
                    0.9285714285714286,
                    0.9305555555555556,
                    0.9305555555555556,
                    0.9325396825396826,
                    0.9325396825396826,
                    0.9365079365079365,
                    0.9365079365079365,
                    0.9384920634920635,
                    0.9384920634920635,
                    0.9404761904761905,
                    0.9404761904761905,
                    0.9484126984126984,
                    0.9484126984126984,
                    0.9503968253968254,
                    0.9503968253968254,
                    0.9543650793650794,
                    0.9543650793650794,
                    0.9623015873015873,
                    0.9623015873015873,
                    0.9642857142857143,
                    0.9642857142857143,
                    0.9662698412698413,
                    0.9662698412698413,
                    0.9682539682539683,
                    0.9682539682539683,
                    0.9702380952380952,
                    0.9702380952380952,
                    0.9722222222222222,
                    0.9722222222222222,
                    0.9742063492063492,
                    0.9742063492063492,
                    0.9761904761904762,
                    0.9761904761904762,
                    0.9801587301587301,
                    0.9801587301587301,
                    0.9821428571428571,
                    0.9821428571428571,
                    0.9861111111111112,
                    0.9861111111111112,
                    0.9880952380952381,
                    0.9880952380952381,
                    0.9920634920634921,
                    0.9920634920634921,
                    0.9940476190476191,
                    0.9940476190476191,
                    0.996031746031746,
                    0.996031746031746,
                    0.998015873015873,
                    0.998015873015873,
                    1,
                    1
                  ]
                },
                {
                  "hovertemplate": "TPR: %{y:.2%}<br>FPR: %{x:.2%}<br>Youden's Index: 0.559",
                  "marker": {
                    "size": 15
                  },
                  "mode": "markers",
                  "showlegend": false,
                  "type": "scatter",
                  "x": [
                    0.09074074074074075
                  ],
                  "y": [
                    0.8869047619047619
                  ]
                },
                {
                  "line": {
                    "color": "#444",
                    "dash": "dash",
                    "width": 2
                  },
                  "showlegend": false,
                  "type": "scatter",
                  "x": [
                    0,
                    1
                  ],
                  "y": [
                    0,
                    1
                  ]
                }
              ],
              "layout": {
                "height": 500,
                "template": {
                  "data": {
                    "bar": [
                      {
                        "error_x": {
                          "color": "#2a3f5f"
                        },
                        "error_y": {
                          "color": "#2a3f5f"
                        },
                        "marker": {
                          "line": {
                            "color": "#E5ECF6",
                            "width": 0.5
                          },
                          "pattern": {
                            "fillmode": "overlay",
                            "size": 10,
                            "solidity": 0.2
                          }
                        },
                        "type": "bar"
                      }
                    ],
                    "barpolar": [
                      {
                        "marker": {
                          "line": {
                            "color": "#E5ECF6",
                            "width": 0.5
                          },
                          "pattern": {
                            "fillmode": "overlay",
                            "size": 10,
                            "solidity": 0.2
                          }
                        },
                        "type": "barpolar"
                      }
                    ],
                    "carpet": [
                      {
                        "aaxis": {
                          "endlinecolor": "#2a3f5f",
                          "gridcolor": "white",
                          "linecolor": "white",
                          "minorgridcolor": "white",
                          "startlinecolor": "#2a3f5f"
                        },
                        "baxis": {
                          "endlinecolor": "#2a3f5f",
                          "gridcolor": "white",
                          "linecolor": "white",
                          "minorgridcolor": "white",
                          "startlinecolor": "#2a3f5f"
                        },
                        "type": "carpet"
                      }
                    ],
                    "choropleth": [
                      {
                        "colorbar": {
                          "outlinewidth": 0,
                          "ticks": ""
                        },
                        "type": "choropleth"
                      }
                    ],
                    "contour": [
                      {
                        "colorbar": {
                          "outlinewidth": 0,
                          "ticks": ""
                        },
                        "colorscale": [
                          [
                            0,
                            "#0d0887"
                          ],
                          [
                            0.1111111111111111,
                            "#46039f"
                          ],
                          [
                            0.2222222222222222,
                            "#7201a8"
                          ],
                          [
                            0.3333333333333333,
                            "#9c179e"
                          ],
                          [
                            0.4444444444444444,
                            "#bd3786"
                          ],
                          [
                            0.5555555555555556,
                            "#d8576b"
                          ],
                          [
                            0.6666666666666666,
                            "#ed7953"
                          ],
                          [
                            0.7777777777777778,
                            "#fb9f3a"
                          ],
                          [
                            0.8888888888888888,
                            "#fdca26"
                          ],
                          [
                            1,
                            "#f0f921"
                          ]
                        ],
                        "type": "contour"
                      }
                    ],
                    "contourcarpet": [
                      {
                        "colorbar": {
                          "outlinewidth": 0,
                          "ticks": ""
                        },
                        "type": "contourcarpet"
                      }
                    ],
                    "heatmap": [
                      {
                        "colorbar": {
                          "outlinewidth": 0,
                          "ticks": ""
                        },
                        "colorscale": [
                          [
                            0,
                            "#0d0887"
                          ],
                          [
                            0.1111111111111111,
                            "#46039f"
                          ],
                          [
                            0.2222222222222222,
                            "#7201a8"
                          ],
                          [
                            0.3333333333333333,
                            "#9c179e"
                          ],
                          [
                            0.4444444444444444,
                            "#bd3786"
                          ],
                          [
                            0.5555555555555556,
                            "#d8576b"
                          ],
                          [
                            0.6666666666666666,
                            "#ed7953"
                          ],
                          [
                            0.7777777777777778,
                            "#fb9f3a"
                          ],
                          [
                            0.8888888888888888,
                            "#fdca26"
                          ],
                          [
                            1,
                            "#f0f921"
                          ]
                        ],
                        "type": "heatmap"
                      }
                    ],
                    "heatmapgl": [
                      {
                        "colorbar": {
                          "outlinewidth": 0,
                          "ticks": ""
                        },
                        "colorscale": [
                          [
                            0,
                            "#0d0887"
                          ],
                          [
                            0.1111111111111111,
                            "#46039f"
                          ],
                          [
                            0.2222222222222222,
                            "#7201a8"
                          ],
                          [
                            0.3333333333333333,
                            "#9c179e"
                          ],
                          [
                            0.4444444444444444,
                            "#bd3786"
                          ],
                          [
                            0.5555555555555556,
                            "#d8576b"
                          ],
                          [
                            0.6666666666666666,
                            "#ed7953"
                          ],
                          [
                            0.7777777777777778,
                            "#fb9f3a"
                          ],
                          [
                            0.8888888888888888,
                            "#fdca26"
                          ],
                          [
                            1,
                            "#f0f921"
                          ]
                        ],
                        "type": "heatmapgl"
                      }
                    ],
                    "histogram": [
                      {
                        "marker": {
                          "pattern": {
                            "fillmode": "overlay",
                            "size": 10,
                            "solidity": 0.2
                          }
                        },
                        "type": "histogram"
                      }
                    ],
                    "histogram2d": [
                      {
                        "colorbar": {
                          "outlinewidth": 0,
                          "ticks": ""
                        },
                        "colorscale": [
                          [
                            0,
                            "#0d0887"
                          ],
                          [
                            0.1111111111111111,
                            "#46039f"
                          ],
                          [
                            0.2222222222222222,
                            "#7201a8"
                          ],
                          [
                            0.3333333333333333,
                            "#9c179e"
                          ],
                          [
                            0.4444444444444444,
                            "#bd3786"
                          ],
                          [
                            0.5555555555555556,
                            "#d8576b"
                          ],
                          [
                            0.6666666666666666,
                            "#ed7953"
                          ],
                          [
                            0.7777777777777778,
                            "#fb9f3a"
                          ],
                          [
                            0.8888888888888888,
                            "#fdca26"
                          ],
                          [
                            1,
                            "#f0f921"
                          ]
                        ],
                        "type": "histogram2d"
                      }
                    ],
                    "histogram2dcontour": [
                      {
                        "colorbar": {
                          "outlinewidth": 0,
                          "ticks": ""
                        },
                        "colorscale": [
                          [
                            0,
                            "#0d0887"
                          ],
                          [
                            0.1111111111111111,
                            "#46039f"
                          ],
                          [
                            0.2222222222222222,
                            "#7201a8"
                          ],
                          [
                            0.3333333333333333,
                            "#9c179e"
                          ],
                          [
                            0.4444444444444444,
                            "#bd3786"
                          ],
                          [
                            0.5555555555555556,
                            "#d8576b"
                          ],
                          [
                            0.6666666666666666,
                            "#ed7953"
                          ],
                          [
                            0.7777777777777778,
                            "#fb9f3a"
                          ],
                          [
                            0.8888888888888888,
                            "#fdca26"
                          ],
                          [
                            1,
                            "#f0f921"
                          ]
                        ],
                        "type": "histogram2dcontour"
                      }
                    ],
                    "mesh3d": [
                      {
                        "colorbar": {
                          "outlinewidth": 0,
                          "ticks": ""
                        },
                        "type": "mesh3d"
                      }
                    ],
                    "parcoords": [
                      {
                        "line": {
                          "colorbar": {
                            "outlinewidth": 0,
                            "ticks": ""
                          }
                        },
                        "type": "parcoords"
                      }
                    ],
                    "pie": [
                      {
                        "automargin": true,
                        "type": "pie"
                      }
                    ],
                    "scatter": [
                      {
                        "marker": {
                          "colorbar": {
                            "outlinewidth": 0,
                            "ticks": ""
                          }
                        },
                        "type": "scatter"
                      }
                    ],
                    "scatter3d": [
                      {
                        "line": {
                          "colorbar": {
                            "outlinewidth": 0,
                            "ticks": ""
                          }
                        },
                        "marker": {
                          "colorbar": {
                            "outlinewidth": 0,
                            "ticks": ""
                          }
                        },
                        "type": "scatter3d"
                      }
                    ],
                    "scattercarpet": [
                      {
                        "marker": {
                          "colorbar": {
                            "outlinewidth": 0,
                            "ticks": ""
                          }
                        },
                        "type": "scattercarpet"
                      }
                    ],
                    "scattergeo": [
                      {
                        "marker": {
                          "colorbar": {
                            "outlinewidth": 0,
                            "ticks": ""
                          }
                        },
                        "type": "scattergeo"
                      }
                    ],
                    "scattergl": [
                      {
                        "marker": {
                          "colorbar": {
                            "outlinewidth": 0,
                            "ticks": ""
                          }
                        },
                        "type": "scattergl"
                      }
                    ],
                    "scattermapbox": [
                      {
                        "marker": {
                          "colorbar": {
                            "outlinewidth": 0,
                            "ticks": ""
                          }
                        },
                        "type": "scattermapbox"
                      }
                    ],
                    "scatterpolar": [
                      {
                        "marker": {
                          "colorbar": {
                            "outlinewidth": 0,
                            "ticks": ""
                          }
                        },
                        "type": "scatterpolar"
                      }
                    ],
                    "scatterpolargl": [
                      {
                        "marker": {
                          "colorbar": {
                            "outlinewidth": 0,
                            "ticks": ""
                          }
                        },
                        "type": "scatterpolargl"
                      }
                    ],
                    "scatterternary": [
                      {
                        "marker": {
                          "colorbar": {
                            "outlinewidth": 0,
                            "ticks": ""
                          }
                        },
                        "type": "scatterternary"
                      }
                    ],
                    "surface": [
                      {
                        "colorbar": {
                          "outlinewidth": 0,
                          "ticks": ""
                        },
                        "colorscale": [
                          [
                            0,
                            "#0d0887"
                          ],
                          [
                            0.1111111111111111,
                            "#46039f"
                          ],
                          [
                            0.2222222222222222,
                            "#7201a8"
                          ],
                          [
                            0.3333333333333333,
                            "#9c179e"
                          ],
                          [
                            0.4444444444444444,
                            "#bd3786"
                          ],
                          [
                            0.5555555555555556,
                            "#d8576b"
                          ],
                          [
                            0.6666666666666666,
                            "#ed7953"
                          ],
                          [
                            0.7777777777777778,
                            "#fb9f3a"
                          ],
                          [
                            0.8888888888888888,
                            "#fdca26"
                          ],
                          [
                            1,
                            "#f0f921"
                          ]
                        ],
                        "type": "surface"
                      }
                    ],
                    "table": [
                      {
                        "cells": {
                          "fill": {
                            "color": "#EBF0F8"
                          },
                          "line": {
                            "color": "white"
                          }
                        },
                        "header": {
                          "fill": {
                            "color": "#C8D4E3"
                          },
                          "line": {
                            "color": "white"
                          }
                        },
                        "type": "table"
                      }
                    ]
                  },
                  "layout": {
                    "annotationdefaults": {
                      "arrowcolor": "#2a3f5f",
                      "arrowhead": 0,
                      "arrowwidth": 1
                    },
                    "autotypenumbers": "strict",
                    "coloraxis": {
                      "colorbar": {
                        "outlinewidth": 0,
                        "ticks": ""
                      }
                    },
                    "colorscale": {
                      "diverging": [
                        [
                          0,
                          "#8e0152"
                        ],
                        [
                          0.1,
                          "#c51b7d"
                        ],
                        [
                          0.2,
                          "#de77ae"
                        ],
                        [
                          0.3,
                          "#f1b6da"
                        ],
                        [
                          0.4,
                          "#fde0ef"
                        ],
                        [
                          0.5,
                          "#f7f7f7"
                        ],
                        [
                          0.6,
                          "#e6f5d0"
                        ],
                        [
                          0.7,
                          "#b8e186"
                        ],
                        [
                          0.8,
                          "#7fbc41"
                        ],
                        [
                          0.9,
                          "#4d9221"
                        ],
                        [
                          1,
                          "#276419"
                        ]
                      ],
                      "sequential": [
                        [
                          0,
                          "#0d0887"
                        ],
                        [
                          0.1111111111111111,
                          "#46039f"
                        ],
                        [
                          0.2222222222222222,
                          "#7201a8"
                        ],
                        [
                          0.3333333333333333,
                          "#9c179e"
                        ],
                        [
                          0.4444444444444444,
                          "#bd3786"
                        ],
                        [
                          0.5555555555555556,
                          "#d8576b"
                        ],
                        [
                          0.6666666666666666,
                          "#ed7953"
                        ],
                        [
                          0.7777777777777778,
                          "#fb9f3a"
                        ],
                        [
                          0.8888888888888888,
                          "#fdca26"
                        ],
                        [
                          1,
                          "#f0f921"
                        ]
                      ],
                      "sequentialminus": [
                        [
                          0,
                          "#0d0887"
                        ],
                        [
                          0.1111111111111111,
                          "#46039f"
                        ],
                        [
                          0.2222222222222222,
                          "#7201a8"
                        ],
                        [
                          0.3333333333333333,
                          "#9c179e"
                        ],
                        [
                          0.4444444444444444,
                          "#bd3786"
                        ],
                        [
                          0.5555555555555556,
                          "#d8576b"
                        ],
                        [
                          0.6666666666666666,
                          "#ed7953"
                        ],
                        [
                          0.7777777777777778,
                          "#fb9f3a"
                        ],
                        [
                          0.8888888888888888,
                          "#fdca26"
                        ],
                        [
                          1,
                          "#f0f921"
                        ]
                      ]
                    },
                    "colorway": [
                      "#636efa",
                      "#EF553B",
                      "#00cc96",
                      "#ab63fa",
                      "#FFA15A",
                      "#19d3f3",
                      "#FF6692",
                      "#B6E880",
                      "#FF97FF",
                      "#FECB52"
                    ],
                    "font": {
                      "color": "#2a3f5f"
                    },
                    "geo": {
                      "bgcolor": "white",
                      "lakecolor": "white",
                      "landcolor": "#E5ECF6",
                      "showlakes": true,
                      "showland": true,
                      "subunitcolor": "white"
                    },
                    "hoverlabel": {
                      "align": "left"
                    },
                    "hovermode": "closest",
                    "mapbox": {
                      "style": "light"
                    },
                    "paper_bgcolor": "white",
                    "plot_bgcolor": "#E5ECF6",
                    "polar": {
                      "angularaxis": {
                        "gridcolor": "white",
                        "linecolor": "white",
                        "ticks": ""
                      },
                      "bgcolor": "#E5ECF6",
                      "radialaxis": {
                        "gridcolor": "white",
                        "linecolor": "white",
                        "ticks": ""
                      }
                    },
                    "scene": {
                      "xaxis": {
                        "backgroundcolor": "#E5ECF6",
                        "gridcolor": "white",
                        "gridwidth": 2,
                        "linecolor": "white",
                        "showbackground": true,
                        "ticks": "",
                        "zerolinecolor": "white"
                      },
                      "yaxis": {
                        "backgroundcolor": "#E5ECF6",
                        "gridcolor": "white",
                        "gridwidth": 2,
                        "linecolor": "white",
                        "showbackground": true,
                        "ticks": "",
                        "zerolinecolor": "white"
                      },
                      "zaxis": {
                        "backgroundcolor": "#E5ECF6",
                        "gridcolor": "white",
                        "gridwidth": 2,
                        "linecolor": "white",
                        "showbackground": true,
                        "ticks": "",
                        "zerolinecolor": "white"
                      }
                    },
                    "shapedefaults": {
                      "line": {
                        "color": "#2a3f5f"
                      }
                    },
                    "ternary": {
                      "aaxis": {
                        "gridcolor": "white",
                        "linecolor": "white",
                        "ticks": ""
                      },
                      "baxis": {
                        "gridcolor": "white",
                        "linecolor": "white",
                        "ticks": ""
                      },
                      "bgcolor": "#E5ECF6",
                      "caxis": {
                        "gridcolor": "white",
                        "linecolor": "white",
                        "ticks": ""
                      }
                    },
                    "title": {
                      "x": 0.05
                    },
                    "xaxis": {
                      "automargin": true,
                      "gridcolor": "white",
                      "linecolor": "white",
                      "ticks": "",
                      "title": {
                        "standoff": 15
                      },
                      "zerolinecolor": "white",
                      "zerolinewidth": 2
                    },
                    "yaxis": {
                      "automargin": true,
                      "gridcolor": "white",
                      "linecolor": "white",
                      "ticks": "",
                      "title": {
                        "standoff": 15
                      },
                      "zerolinecolor": "white",
                      "zerolinewidth": 2
                    }
                  }
                },
                "title": {
                  "text": "Receiver operating characteristic for binary data"
                },
                "width": 900,
                "xaxis": {
                  "title": {
                    "text": "False Positive Rate"
                  }
                },
                "yaxis": {
                  "title": {
                    "text": "True Positive Rate"
                  }
                }
              }
            }
          },
          "metadata": {},
          "output_type": "display_data"
        },
        {
          "data": {
            "text/html": [
              "<div><span style=\"font-size:0.8em\"><i>\n",
              "        The marked points are the optimal threshold cut-off points. They are determined using Youden's index defined\n",
              "        as sensitivity + specificity - 1\n",
              "        </i></span></div><br><a href=\"#summary_OD0JV\" style=\"font-size: 14px\">Go to top</a>"
            ]
          },
          "metadata": {},
          "output_type": "display_data"
        },
        {
          "data": {
            "text/html": [
              "<hr style=\"background-color: #eee;border: 0 none;color: #eee;height: 4px;\">"
            ]
          },
          "metadata": {},
          "output_type": "display_data"
        },
        {
          "data": {
            "text/html": [
              "<h4 id=\"ROCReport-TestDataset_OD0JV\">ROC Report - Test Dataset</h4><p>Calculate the ROC curve for each class. <a href=\"https://docs.deepchecks.com/0.6.1/examples/tabular/checks/performance/examples/plot_roc_report.html?utm_source=display_output&utm_medium=referral&utm_campaign=check_link\" target=\"_blank\">Read More...</a></p><h5>Conditions Summary</h5><style type=\"text/css\">\n",
              "#T_a4ef8 table {\n",
              "  text-align: left;\n",
              "  white-space: pre-wrap;\n",
              "}\n",
              "#T_a4ef8 thead {\n",
              "  text-align: left;\n",
              "  white-space: pre-wrap;\n",
              "}\n",
              "#T_a4ef8 tbody {\n",
              "  text-align: left;\n",
              "  white-space: pre-wrap;\n",
              "}\n",
              "#T_a4ef8 th {\n",
              "  text-align: left;\n",
              "  white-space: pre-wrap;\n",
              "}\n",
              "#T_a4ef8 td {\n",
              "  text-align: left;\n",
              "  white-space: pre-wrap;\n",
              "}\n",
              "</style>\n",
              "<table id=\"T_a4ef8\">\n",
              "  <thead>\n",
              "    <tr>\n",
              "      <th id=\"T_a4ef8_level0_col0\" class=\"col_heading level0 col0\" >Status</th>\n",
              "      <th id=\"T_a4ef8_level0_col1\" class=\"col_heading level0 col1\" >Condition</th>\n",
              "      <th id=\"T_a4ef8_level0_col2\" class=\"col_heading level0 col2\" >More Info</th>\n",
              "    </tr>\n",
              "  </thead>\n",
              "  <tbody>\n",
              "    <tr>\n",
              "      <td id=\"T_a4ef8_row0_col0\" class=\"data row0 col0\" ><div style=\"color: green;text-align: center\">✓</div></td>\n",
              "      <td id=\"T_a4ef8_row0_col1\" class=\"data row0 col1\" >AUC score for all the classes is not less than 0.7</td>\n",
              "      <td id=\"T_a4ef8_row0_col2\" class=\"data row0 col2\" ></td>\n",
              "    </tr>\n",
              "  </tbody>\n",
              "</table>\n",
              "<h5>Additional Outputs</h5>"
            ]
          },
          "metadata": {},
          "output_type": "display_data"
        },
        {
          "data": {
            "application/vnd.plotly.v1+json": {
              "config": {
                "plotlyServerURL": "https://plot.ly"
              },
              "data": [
                {
                  "line": {
                    "width": 2
                  },
                  "name": "auc = 0.93",
                  "type": "scatter",
                  "x": [
                    0,
                    0,
                    0,
                    0.0055248618784530384,
                    0.0055248618784530384,
                    0.011049723756906077,
                    0.011049723756906077,
                    0.022099447513812154,
                    0.022099447513812154,
                    0.027624309392265192,
                    0.027624309392265192,
                    0.04419889502762431,
                    0.04419889502762431,
                    0.049723756906077346,
                    0.049723756906077346,
                    0.055248618784530384,
                    0.055248618784530384,
                    0.06077348066298342,
                    0.06077348066298342,
                    0.08287292817679558,
                    0.08287292817679558,
                    0.08839779005524862,
                    0.08839779005524862,
                    0.09392265193370165,
                    0.09392265193370165,
                    0.09944751381215469,
                    0.09944751381215469,
                    0.10497237569060773,
                    0.10497237569060773,
                    0.11602209944751381,
                    0.11602209944751381,
                    0.1270718232044199,
                    0.1270718232044199,
                    0.14917127071823205,
                    0.14917127071823205,
                    0.15469613259668508,
                    0.15469613259668508,
                    0.1878453038674033,
                    0.1878453038674033,
                    0.19889502762430938,
                    0.19889502762430938,
                    0.22099447513812154,
                    0.22099447513812154,
                    0.23204419889502761,
                    0.23204419889502761,
                    0.281767955801105,
                    0.281767955801105,
                    0.292817679558011,
                    0.292817679558011,
                    0.2983425414364641,
                    0.2983425414364641,
                    0.30386740331491713,
                    0.30386740331491713,
                    0.39226519337016574,
                    0.39226519337016574,
                    0.39779005524861877,
                    0.39779005524861877,
                    0.4088397790055249,
                    0.4088397790055249,
                    0.4419889502762431,
                    0.4419889502762431,
                    0.5138121546961326,
                    0.5138121546961326,
                    0.5359116022099447,
                    0.5359116022099447,
                    0.6243093922651933,
                    0.6243093922651933,
                    0.7458563535911602,
                    0.7458563535911602,
                    1
                  ],
                  "y": [
                    0,
                    0.005952380952380952,
                    0.1130952380952381,
                    0.1130952380952381,
                    0.36904761904761907,
                    0.36904761904761907,
                    0.4107142857142857,
                    0.4107142857142857,
                    0.4523809523809524,
                    0.4523809523809524,
                    0.5952380952380952,
                    0.5952380952380952,
                    0.6547619047619048,
                    0.6547619047619048,
                    0.6785714285714286,
                    0.6785714285714286,
                    0.75,
                    0.75,
                    0.7916666666666666,
                    0.7916666666666666,
                    0.7976190476190477,
                    0.7976190476190477,
                    0.8095238095238095,
                    0.8095238095238095,
                    0.8273809523809523,
                    0.8273809523809523,
                    0.8392857142857143,
                    0.8392857142857143,
                    0.8511904761904762,
                    0.8511904761904762,
                    0.8571428571428571,
                    0.8571428571428571,
                    0.8630952380952381,
                    0.8630952380952381,
                    0.875,
                    0.875,
                    0.8928571428571429,
                    0.8928571428571429,
                    0.8988095238095238,
                    0.8988095238095238,
                    0.9107142857142857,
                    0.9107142857142857,
                    0.9166666666666666,
                    0.9166666666666666,
                    0.9226190476190477,
                    0.9226190476190477,
                    0.9285714285714286,
                    0.9285714285714286,
                    0.9345238095238095,
                    0.9345238095238095,
                    0.9404761904761905,
                    0.9404761904761905,
                    0.9523809523809523,
                    0.9523809523809523,
                    0.9583333333333334,
                    0.9583333333333334,
                    0.9642857142857143,
                    0.9642857142857143,
                    0.9702380952380952,
                    0.9702380952380952,
                    0.9761904761904762,
                    0.9761904761904762,
                    0.9821428571428571,
                    0.9821428571428571,
                    0.9880952380952381,
                    0.9880952380952381,
                    0.9940476190476191,
                    0.9940476190476191,
                    1,
                    1
                  ]
                },
                {
                  "hovertemplate": "TPR: %{y:.2%}<br>FPR: %{x:.2%}<br>Youden's Index: 0.491",
                  "marker": {
                    "size": 15
                  },
                  "mode": "markers",
                  "showlegend": false,
                  "type": "scatter",
                  "x": [
                    0.10497237569060773
                  ],
                  "y": [
                    0.8511904761904762
                  ]
                },
                {
                  "line": {
                    "color": "#444",
                    "dash": "dash",
                    "width": 2
                  },
                  "showlegend": false,
                  "type": "scatter",
                  "x": [
                    0,
                    1
                  ],
                  "y": [
                    0,
                    1
                  ]
                }
              ],
              "layout": {
                "height": 500,
                "template": {
                  "data": {
                    "bar": [
                      {
                        "error_x": {
                          "color": "#2a3f5f"
                        },
                        "error_y": {
                          "color": "#2a3f5f"
                        },
                        "marker": {
                          "line": {
                            "color": "#E5ECF6",
                            "width": 0.5
                          },
                          "pattern": {
                            "fillmode": "overlay",
                            "size": 10,
                            "solidity": 0.2
                          }
                        },
                        "type": "bar"
                      }
                    ],
                    "barpolar": [
                      {
                        "marker": {
                          "line": {
                            "color": "#E5ECF6",
                            "width": 0.5
                          },
                          "pattern": {
                            "fillmode": "overlay",
                            "size": 10,
                            "solidity": 0.2
                          }
                        },
                        "type": "barpolar"
                      }
                    ],
                    "carpet": [
                      {
                        "aaxis": {
                          "endlinecolor": "#2a3f5f",
                          "gridcolor": "white",
                          "linecolor": "white",
                          "minorgridcolor": "white",
                          "startlinecolor": "#2a3f5f"
                        },
                        "baxis": {
                          "endlinecolor": "#2a3f5f",
                          "gridcolor": "white",
                          "linecolor": "white",
                          "minorgridcolor": "white",
                          "startlinecolor": "#2a3f5f"
                        },
                        "type": "carpet"
                      }
                    ],
                    "choropleth": [
                      {
                        "colorbar": {
                          "outlinewidth": 0,
                          "ticks": ""
                        },
                        "type": "choropleth"
                      }
                    ],
                    "contour": [
                      {
                        "colorbar": {
                          "outlinewidth": 0,
                          "ticks": ""
                        },
                        "colorscale": [
                          [
                            0,
                            "#0d0887"
                          ],
                          [
                            0.1111111111111111,
                            "#46039f"
                          ],
                          [
                            0.2222222222222222,
                            "#7201a8"
                          ],
                          [
                            0.3333333333333333,
                            "#9c179e"
                          ],
                          [
                            0.4444444444444444,
                            "#bd3786"
                          ],
                          [
                            0.5555555555555556,
                            "#d8576b"
                          ],
                          [
                            0.6666666666666666,
                            "#ed7953"
                          ],
                          [
                            0.7777777777777778,
                            "#fb9f3a"
                          ],
                          [
                            0.8888888888888888,
                            "#fdca26"
                          ],
                          [
                            1,
                            "#f0f921"
                          ]
                        ],
                        "type": "contour"
                      }
                    ],
                    "contourcarpet": [
                      {
                        "colorbar": {
                          "outlinewidth": 0,
                          "ticks": ""
                        },
                        "type": "contourcarpet"
                      }
                    ],
                    "heatmap": [
                      {
                        "colorbar": {
                          "outlinewidth": 0,
                          "ticks": ""
                        },
                        "colorscale": [
                          [
                            0,
                            "#0d0887"
                          ],
                          [
                            0.1111111111111111,
                            "#46039f"
                          ],
                          [
                            0.2222222222222222,
                            "#7201a8"
                          ],
                          [
                            0.3333333333333333,
                            "#9c179e"
                          ],
                          [
                            0.4444444444444444,
                            "#bd3786"
                          ],
                          [
                            0.5555555555555556,
                            "#d8576b"
                          ],
                          [
                            0.6666666666666666,
                            "#ed7953"
                          ],
                          [
                            0.7777777777777778,
                            "#fb9f3a"
                          ],
                          [
                            0.8888888888888888,
                            "#fdca26"
                          ],
                          [
                            1,
                            "#f0f921"
                          ]
                        ],
                        "type": "heatmap"
                      }
                    ],
                    "heatmapgl": [
                      {
                        "colorbar": {
                          "outlinewidth": 0,
                          "ticks": ""
                        },
                        "colorscale": [
                          [
                            0,
                            "#0d0887"
                          ],
                          [
                            0.1111111111111111,
                            "#46039f"
                          ],
                          [
                            0.2222222222222222,
                            "#7201a8"
                          ],
                          [
                            0.3333333333333333,
                            "#9c179e"
                          ],
                          [
                            0.4444444444444444,
                            "#bd3786"
                          ],
                          [
                            0.5555555555555556,
                            "#d8576b"
                          ],
                          [
                            0.6666666666666666,
                            "#ed7953"
                          ],
                          [
                            0.7777777777777778,
                            "#fb9f3a"
                          ],
                          [
                            0.8888888888888888,
                            "#fdca26"
                          ],
                          [
                            1,
                            "#f0f921"
                          ]
                        ],
                        "type": "heatmapgl"
                      }
                    ],
                    "histogram": [
                      {
                        "marker": {
                          "pattern": {
                            "fillmode": "overlay",
                            "size": 10,
                            "solidity": 0.2
                          }
                        },
                        "type": "histogram"
                      }
                    ],
                    "histogram2d": [
                      {
                        "colorbar": {
                          "outlinewidth": 0,
                          "ticks": ""
                        },
                        "colorscale": [
                          [
                            0,
                            "#0d0887"
                          ],
                          [
                            0.1111111111111111,
                            "#46039f"
                          ],
                          [
                            0.2222222222222222,
                            "#7201a8"
                          ],
                          [
                            0.3333333333333333,
                            "#9c179e"
                          ],
                          [
                            0.4444444444444444,
                            "#bd3786"
                          ],
                          [
                            0.5555555555555556,
                            "#d8576b"
                          ],
                          [
                            0.6666666666666666,
                            "#ed7953"
                          ],
                          [
                            0.7777777777777778,
                            "#fb9f3a"
                          ],
                          [
                            0.8888888888888888,
                            "#fdca26"
                          ],
                          [
                            1,
                            "#f0f921"
                          ]
                        ],
                        "type": "histogram2d"
                      }
                    ],
                    "histogram2dcontour": [
                      {
                        "colorbar": {
                          "outlinewidth": 0,
                          "ticks": ""
                        },
                        "colorscale": [
                          [
                            0,
                            "#0d0887"
                          ],
                          [
                            0.1111111111111111,
                            "#46039f"
                          ],
                          [
                            0.2222222222222222,
                            "#7201a8"
                          ],
                          [
                            0.3333333333333333,
                            "#9c179e"
                          ],
                          [
                            0.4444444444444444,
                            "#bd3786"
                          ],
                          [
                            0.5555555555555556,
                            "#d8576b"
                          ],
                          [
                            0.6666666666666666,
                            "#ed7953"
                          ],
                          [
                            0.7777777777777778,
                            "#fb9f3a"
                          ],
                          [
                            0.8888888888888888,
                            "#fdca26"
                          ],
                          [
                            1,
                            "#f0f921"
                          ]
                        ],
                        "type": "histogram2dcontour"
                      }
                    ],
                    "mesh3d": [
                      {
                        "colorbar": {
                          "outlinewidth": 0,
                          "ticks": ""
                        },
                        "type": "mesh3d"
                      }
                    ],
                    "parcoords": [
                      {
                        "line": {
                          "colorbar": {
                            "outlinewidth": 0,
                            "ticks": ""
                          }
                        },
                        "type": "parcoords"
                      }
                    ],
                    "pie": [
                      {
                        "automargin": true,
                        "type": "pie"
                      }
                    ],
                    "scatter": [
                      {
                        "marker": {
                          "colorbar": {
                            "outlinewidth": 0,
                            "ticks": ""
                          }
                        },
                        "type": "scatter"
                      }
                    ],
                    "scatter3d": [
                      {
                        "line": {
                          "colorbar": {
                            "outlinewidth": 0,
                            "ticks": ""
                          }
                        },
                        "marker": {
                          "colorbar": {
                            "outlinewidth": 0,
                            "ticks": ""
                          }
                        },
                        "type": "scatter3d"
                      }
                    ],
                    "scattercarpet": [
                      {
                        "marker": {
                          "colorbar": {
                            "outlinewidth": 0,
                            "ticks": ""
                          }
                        },
                        "type": "scattercarpet"
                      }
                    ],
                    "scattergeo": [
                      {
                        "marker": {
                          "colorbar": {
                            "outlinewidth": 0,
                            "ticks": ""
                          }
                        },
                        "type": "scattergeo"
                      }
                    ],
                    "scattergl": [
                      {
                        "marker": {
                          "colorbar": {
                            "outlinewidth": 0,
                            "ticks": ""
                          }
                        },
                        "type": "scattergl"
                      }
                    ],
                    "scattermapbox": [
                      {
                        "marker": {
                          "colorbar": {
                            "outlinewidth": 0,
                            "ticks": ""
                          }
                        },
                        "type": "scattermapbox"
                      }
                    ],
                    "scatterpolar": [
                      {
                        "marker": {
                          "colorbar": {
                            "outlinewidth": 0,
                            "ticks": ""
                          }
                        },
                        "type": "scatterpolar"
                      }
                    ],
                    "scatterpolargl": [
                      {
                        "marker": {
                          "colorbar": {
                            "outlinewidth": 0,
                            "ticks": ""
                          }
                        },
                        "type": "scatterpolargl"
                      }
                    ],
                    "scatterternary": [
                      {
                        "marker": {
                          "colorbar": {
                            "outlinewidth": 0,
                            "ticks": ""
                          }
                        },
                        "type": "scatterternary"
                      }
                    ],
                    "surface": [
                      {
                        "colorbar": {
                          "outlinewidth": 0,
                          "ticks": ""
                        },
                        "colorscale": [
                          [
                            0,
                            "#0d0887"
                          ],
                          [
                            0.1111111111111111,
                            "#46039f"
                          ],
                          [
                            0.2222222222222222,
                            "#7201a8"
                          ],
                          [
                            0.3333333333333333,
                            "#9c179e"
                          ],
                          [
                            0.4444444444444444,
                            "#bd3786"
                          ],
                          [
                            0.5555555555555556,
                            "#d8576b"
                          ],
                          [
                            0.6666666666666666,
                            "#ed7953"
                          ],
                          [
                            0.7777777777777778,
                            "#fb9f3a"
                          ],
                          [
                            0.8888888888888888,
                            "#fdca26"
                          ],
                          [
                            1,
                            "#f0f921"
                          ]
                        ],
                        "type": "surface"
                      }
                    ],
                    "table": [
                      {
                        "cells": {
                          "fill": {
                            "color": "#EBF0F8"
                          },
                          "line": {
                            "color": "white"
                          }
                        },
                        "header": {
                          "fill": {
                            "color": "#C8D4E3"
                          },
                          "line": {
                            "color": "white"
                          }
                        },
                        "type": "table"
                      }
                    ]
                  },
                  "layout": {
                    "annotationdefaults": {
                      "arrowcolor": "#2a3f5f",
                      "arrowhead": 0,
                      "arrowwidth": 1
                    },
                    "autotypenumbers": "strict",
                    "coloraxis": {
                      "colorbar": {
                        "outlinewidth": 0,
                        "ticks": ""
                      }
                    },
                    "colorscale": {
                      "diverging": [
                        [
                          0,
                          "#8e0152"
                        ],
                        [
                          0.1,
                          "#c51b7d"
                        ],
                        [
                          0.2,
                          "#de77ae"
                        ],
                        [
                          0.3,
                          "#f1b6da"
                        ],
                        [
                          0.4,
                          "#fde0ef"
                        ],
                        [
                          0.5,
                          "#f7f7f7"
                        ],
                        [
                          0.6,
                          "#e6f5d0"
                        ],
                        [
                          0.7,
                          "#b8e186"
                        ],
                        [
                          0.8,
                          "#7fbc41"
                        ],
                        [
                          0.9,
                          "#4d9221"
                        ],
                        [
                          1,
                          "#276419"
                        ]
                      ],
                      "sequential": [
                        [
                          0,
                          "#0d0887"
                        ],
                        [
                          0.1111111111111111,
                          "#46039f"
                        ],
                        [
                          0.2222222222222222,
                          "#7201a8"
                        ],
                        [
                          0.3333333333333333,
                          "#9c179e"
                        ],
                        [
                          0.4444444444444444,
                          "#bd3786"
                        ],
                        [
                          0.5555555555555556,
                          "#d8576b"
                        ],
                        [
                          0.6666666666666666,
                          "#ed7953"
                        ],
                        [
                          0.7777777777777778,
                          "#fb9f3a"
                        ],
                        [
                          0.8888888888888888,
                          "#fdca26"
                        ],
                        [
                          1,
                          "#f0f921"
                        ]
                      ],
                      "sequentialminus": [
                        [
                          0,
                          "#0d0887"
                        ],
                        [
                          0.1111111111111111,
                          "#46039f"
                        ],
                        [
                          0.2222222222222222,
                          "#7201a8"
                        ],
                        [
                          0.3333333333333333,
                          "#9c179e"
                        ],
                        [
                          0.4444444444444444,
                          "#bd3786"
                        ],
                        [
                          0.5555555555555556,
                          "#d8576b"
                        ],
                        [
                          0.6666666666666666,
                          "#ed7953"
                        ],
                        [
                          0.7777777777777778,
                          "#fb9f3a"
                        ],
                        [
                          0.8888888888888888,
                          "#fdca26"
                        ],
                        [
                          1,
                          "#f0f921"
                        ]
                      ]
                    },
                    "colorway": [
                      "#636efa",
                      "#EF553B",
                      "#00cc96",
                      "#ab63fa",
                      "#FFA15A",
                      "#19d3f3",
                      "#FF6692",
                      "#B6E880",
                      "#FF97FF",
                      "#FECB52"
                    ],
                    "font": {
                      "color": "#2a3f5f"
                    },
                    "geo": {
                      "bgcolor": "white",
                      "lakecolor": "white",
                      "landcolor": "#E5ECF6",
                      "showlakes": true,
                      "showland": true,
                      "subunitcolor": "white"
                    },
                    "hoverlabel": {
                      "align": "left"
                    },
                    "hovermode": "closest",
                    "mapbox": {
                      "style": "light"
                    },
                    "paper_bgcolor": "white",
                    "plot_bgcolor": "#E5ECF6",
                    "polar": {
                      "angularaxis": {
                        "gridcolor": "white",
                        "linecolor": "white",
                        "ticks": ""
                      },
                      "bgcolor": "#E5ECF6",
                      "radialaxis": {
                        "gridcolor": "white",
                        "linecolor": "white",
                        "ticks": ""
                      }
                    },
                    "scene": {
                      "xaxis": {
                        "backgroundcolor": "#E5ECF6",
                        "gridcolor": "white",
                        "gridwidth": 2,
                        "linecolor": "white",
                        "showbackground": true,
                        "ticks": "",
                        "zerolinecolor": "white"
                      },
                      "yaxis": {
                        "backgroundcolor": "#E5ECF6",
                        "gridcolor": "white",
                        "gridwidth": 2,
                        "linecolor": "white",
                        "showbackground": true,
                        "ticks": "",
                        "zerolinecolor": "white"
                      },
                      "zaxis": {
                        "backgroundcolor": "#E5ECF6",
                        "gridcolor": "white",
                        "gridwidth": 2,
                        "linecolor": "white",
                        "showbackground": true,
                        "ticks": "",
                        "zerolinecolor": "white"
                      }
                    },
                    "shapedefaults": {
                      "line": {
                        "color": "#2a3f5f"
                      }
                    },
                    "ternary": {
                      "aaxis": {
                        "gridcolor": "white",
                        "linecolor": "white",
                        "ticks": ""
                      },
                      "baxis": {
                        "gridcolor": "white",
                        "linecolor": "white",
                        "ticks": ""
                      },
                      "bgcolor": "#E5ECF6",
                      "caxis": {
                        "gridcolor": "white",
                        "linecolor": "white",
                        "ticks": ""
                      }
                    },
                    "title": {
                      "x": 0.05
                    },
                    "xaxis": {
                      "automargin": true,
                      "gridcolor": "white",
                      "linecolor": "white",
                      "ticks": "",
                      "title": {
                        "standoff": 15
                      },
                      "zerolinecolor": "white",
                      "zerolinewidth": 2
                    },
                    "yaxis": {
                      "automargin": true,
                      "gridcolor": "white",
                      "linecolor": "white",
                      "ticks": "",
                      "title": {
                        "standoff": 15
                      },
                      "zerolinecolor": "white",
                      "zerolinewidth": 2
                    }
                  }
                },
                "title": {
                  "text": "Receiver operating characteristic for binary data"
                },
                "width": 900,
                "xaxis": {
                  "title": {
                    "text": "False Positive Rate"
                  }
                },
                "yaxis": {
                  "title": {
                    "text": "True Positive Rate"
                  }
                }
              }
            }
          },
          "metadata": {},
          "output_type": "display_data"
        },
        {
          "data": {
            "text/html": [
              "<div><span style=\"font-size:0.8em\"><i>\n",
              "        The marked points are the optimal threshold cut-off points. They are determined using Youden's index defined\n",
              "        as sensitivity + specificity - 1\n",
              "        </i></span></div><br><a href=\"#summary_OD0JV\" style=\"font-size: 14px\">Go to top</a>"
            ]
          },
          "metadata": {},
          "output_type": "display_data"
        },
        {
          "data": {
            "text/html": [
              "<hr style=\"background-color: #eee;border: 0 none;color: #eee;height: 4px;\">"
            ]
          },
          "metadata": {},
          "output_type": "display_data"
        },
        {
          "data": {
            "text/html": [
              "<h4 id=\"SimpleModelComparison_OD0JV\">Simple Model Comparison</h4><p>Compare given model score to simple model score (according to given model type). <a href=\"https://docs.deepchecks.com/0.6.1/examples/tabular/checks/performance/examples/plot_simple_model_comparison.html?utm_source=display_output&utm_medium=referral&utm_campaign=check_link\" target=\"_blank\">Read More...</a></p><h5>Conditions Summary</h5><style type=\"text/css\">\n",
              "#T_888c9 table {\n",
              "  text-align: left;\n",
              "  white-space: pre-wrap;\n",
              "}\n",
              "#T_888c9 thead {\n",
              "  text-align: left;\n",
              "  white-space: pre-wrap;\n",
              "}\n",
              "#T_888c9 tbody {\n",
              "  text-align: left;\n",
              "  white-space: pre-wrap;\n",
              "}\n",
              "#T_888c9 th {\n",
              "  text-align: left;\n",
              "  white-space: pre-wrap;\n",
              "}\n",
              "#T_888c9 td {\n",
              "  text-align: left;\n",
              "  white-space: pre-wrap;\n",
              "}\n",
              "</style>\n",
              "<table id=\"T_888c9\">\n",
              "  <thead>\n",
              "    <tr>\n",
              "      <th id=\"T_888c9_level0_col0\" class=\"col_heading level0 col0\" >Status</th>\n",
              "      <th id=\"T_888c9_level0_col1\" class=\"col_heading level0 col1\" >Condition</th>\n",
              "      <th id=\"T_888c9_level0_col2\" class=\"col_heading level0 col2\" >More Info</th>\n",
              "    </tr>\n",
              "  </thead>\n",
              "  <tbody>\n",
              "    <tr>\n",
              "      <td id=\"T_888c9_row0_col0\" class=\"data row0 col0\" ><div style=\"color: green;text-align: center\">✓</div></td>\n",
              "      <td id=\"T_888c9_row0_col1\" class=\"data row0 col1\" >Model performance gain over simple model is not less than 10%</td>\n",
              "      <td id=\"T_888c9_row0_col2\" class=\"data row0 col2\" ></td>\n",
              "    </tr>\n",
              "  </tbody>\n",
              "</table>\n",
              "<h5>Additional Outputs</h5>"
            ]
          },
          "metadata": {},
          "output_type": "display_data"
        },
        {
          "data": {
            "application/vnd.plotly.v1+json": {
              "config": {
                "plotlyServerURL": "https://plot.ly"
              },
              "data": [
                {
                  "alignmentgroup": "True",
                  "bingroup": "x",
                  "histfunc": "sum",
                  "hovertemplate": "Model=SoftSplitDecisionTreeClassifier model<br>Metric=F1<br>value=%{x}<br>sum of Value=%{y}<extra></extra>",
                  "legendgroup": "SoftSplitDecisionTreeClassifier model",
                  "marker": {
                    "color": "#636efa",
                    "pattern": {
                      "shape": ""
                    }
                  },
                  "name": "SoftSplitDecisionTreeClassifier model",
                  "offsetgroup": "SoftSplitDecisionTreeClassifier model",
                  "orientation": "v",
                  "showlegend": true,
                  "type": "histogram",
                  "x": [
                    "cubic",
                    "no cubic"
                  ],
                  "xaxis": "x",
                  "y": [
                    0.8537313432835821,
                    0.8650137741046833
                  ],
                  "yaxis": "y"
                },
                {
                  "alignmentgroup": "True",
                  "bingroup": "x",
                  "histfunc": "sum",
                  "hovertemplate": "Model=Simple model - constant<br>Metric=F1<br>value=%{x}<br>sum of Value=%{y}<extra></extra>",
                  "legendgroup": "Simple model - constant",
                  "marker": {
                    "color": "#EF553B",
                    "pattern": {
                      "shape": ""
                    }
                  },
                  "name": "Simple model - constant",
                  "offsetgroup": "Simple model - constant",
                  "orientation": "v",
                  "showlegend": true,
                  "type": "histogram",
                  "x": [
                    "cubic",
                    "no cubic"
                  ],
                  "xaxis": "x",
                  "y": [
                    0,
                    0.6830188679245283
                  ],
                  "yaxis": "y"
                }
              ],
              "layout": {
                "annotations": [
                  {
                    "font": {},
                    "showarrow": false,
                    "text": "F1",
                    "x": 0.5,
                    "xanchor": "center",
                    "xref": "paper",
                    "y": 1,
                    "yanchor": "bottom",
                    "yref": "paper"
                  }
                ],
                "barmode": "group",
                "legend": {
                  "title": {
                    "text": "Model"
                  },
                  "tracegroupgap": 0
                },
                "margin": {
                  "t": 60
                },
                "template": {
                  "data": {
                    "bar": [
                      {
                        "error_x": {
                          "color": "#2a3f5f"
                        },
                        "error_y": {
                          "color": "#2a3f5f"
                        },
                        "marker": {
                          "line": {
                            "color": "#E5ECF6",
                            "width": 0.5
                          },
                          "pattern": {
                            "fillmode": "overlay",
                            "size": 10,
                            "solidity": 0.2
                          }
                        },
                        "type": "bar"
                      }
                    ],
                    "barpolar": [
                      {
                        "marker": {
                          "line": {
                            "color": "#E5ECF6",
                            "width": 0.5
                          },
                          "pattern": {
                            "fillmode": "overlay",
                            "size": 10,
                            "solidity": 0.2
                          }
                        },
                        "type": "barpolar"
                      }
                    ],
                    "carpet": [
                      {
                        "aaxis": {
                          "endlinecolor": "#2a3f5f",
                          "gridcolor": "white",
                          "linecolor": "white",
                          "minorgridcolor": "white",
                          "startlinecolor": "#2a3f5f"
                        },
                        "baxis": {
                          "endlinecolor": "#2a3f5f",
                          "gridcolor": "white",
                          "linecolor": "white",
                          "minorgridcolor": "white",
                          "startlinecolor": "#2a3f5f"
                        },
                        "type": "carpet"
                      }
                    ],
                    "choropleth": [
                      {
                        "colorbar": {
                          "outlinewidth": 0,
                          "ticks": ""
                        },
                        "type": "choropleth"
                      }
                    ],
                    "contour": [
                      {
                        "colorbar": {
                          "outlinewidth": 0,
                          "ticks": ""
                        },
                        "colorscale": [
                          [
                            0,
                            "#0d0887"
                          ],
                          [
                            0.1111111111111111,
                            "#46039f"
                          ],
                          [
                            0.2222222222222222,
                            "#7201a8"
                          ],
                          [
                            0.3333333333333333,
                            "#9c179e"
                          ],
                          [
                            0.4444444444444444,
                            "#bd3786"
                          ],
                          [
                            0.5555555555555556,
                            "#d8576b"
                          ],
                          [
                            0.6666666666666666,
                            "#ed7953"
                          ],
                          [
                            0.7777777777777778,
                            "#fb9f3a"
                          ],
                          [
                            0.8888888888888888,
                            "#fdca26"
                          ],
                          [
                            1,
                            "#f0f921"
                          ]
                        ],
                        "type": "contour"
                      }
                    ],
                    "contourcarpet": [
                      {
                        "colorbar": {
                          "outlinewidth": 0,
                          "ticks": ""
                        },
                        "type": "contourcarpet"
                      }
                    ],
                    "heatmap": [
                      {
                        "colorbar": {
                          "outlinewidth": 0,
                          "ticks": ""
                        },
                        "colorscale": [
                          [
                            0,
                            "#0d0887"
                          ],
                          [
                            0.1111111111111111,
                            "#46039f"
                          ],
                          [
                            0.2222222222222222,
                            "#7201a8"
                          ],
                          [
                            0.3333333333333333,
                            "#9c179e"
                          ],
                          [
                            0.4444444444444444,
                            "#bd3786"
                          ],
                          [
                            0.5555555555555556,
                            "#d8576b"
                          ],
                          [
                            0.6666666666666666,
                            "#ed7953"
                          ],
                          [
                            0.7777777777777778,
                            "#fb9f3a"
                          ],
                          [
                            0.8888888888888888,
                            "#fdca26"
                          ],
                          [
                            1,
                            "#f0f921"
                          ]
                        ],
                        "type": "heatmap"
                      }
                    ],
                    "heatmapgl": [
                      {
                        "colorbar": {
                          "outlinewidth": 0,
                          "ticks": ""
                        },
                        "colorscale": [
                          [
                            0,
                            "#0d0887"
                          ],
                          [
                            0.1111111111111111,
                            "#46039f"
                          ],
                          [
                            0.2222222222222222,
                            "#7201a8"
                          ],
                          [
                            0.3333333333333333,
                            "#9c179e"
                          ],
                          [
                            0.4444444444444444,
                            "#bd3786"
                          ],
                          [
                            0.5555555555555556,
                            "#d8576b"
                          ],
                          [
                            0.6666666666666666,
                            "#ed7953"
                          ],
                          [
                            0.7777777777777778,
                            "#fb9f3a"
                          ],
                          [
                            0.8888888888888888,
                            "#fdca26"
                          ],
                          [
                            1,
                            "#f0f921"
                          ]
                        ],
                        "type": "heatmapgl"
                      }
                    ],
                    "histogram": [
                      {
                        "marker": {
                          "pattern": {
                            "fillmode": "overlay",
                            "size": 10,
                            "solidity": 0.2
                          }
                        },
                        "type": "histogram"
                      }
                    ],
                    "histogram2d": [
                      {
                        "colorbar": {
                          "outlinewidth": 0,
                          "ticks": ""
                        },
                        "colorscale": [
                          [
                            0,
                            "#0d0887"
                          ],
                          [
                            0.1111111111111111,
                            "#46039f"
                          ],
                          [
                            0.2222222222222222,
                            "#7201a8"
                          ],
                          [
                            0.3333333333333333,
                            "#9c179e"
                          ],
                          [
                            0.4444444444444444,
                            "#bd3786"
                          ],
                          [
                            0.5555555555555556,
                            "#d8576b"
                          ],
                          [
                            0.6666666666666666,
                            "#ed7953"
                          ],
                          [
                            0.7777777777777778,
                            "#fb9f3a"
                          ],
                          [
                            0.8888888888888888,
                            "#fdca26"
                          ],
                          [
                            1,
                            "#f0f921"
                          ]
                        ],
                        "type": "histogram2d"
                      }
                    ],
                    "histogram2dcontour": [
                      {
                        "colorbar": {
                          "outlinewidth": 0,
                          "ticks": ""
                        },
                        "colorscale": [
                          [
                            0,
                            "#0d0887"
                          ],
                          [
                            0.1111111111111111,
                            "#46039f"
                          ],
                          [
                            0.2222222222222222,
                            "#7201a8"
                          ],
                          [
                            0.3333333333333333,
                            "#9c179e"
                          ],
                          [
                            0.4444444444444444,
                            "#bd3786"
                          ],
                          [
                            0.5555555555555556,
                            "#d8576b"
                          ],
                          [
                            0.6666666666666666,
                            "#ed7953"
                          ],
                          [
                            0.7777777777777778,
                            "#fb9f3a"
                          ],
                          [
                            0.8888888888888888,
                            "#fdca26"
                          ],
                          [
                            1,
                            "#f0f921"
                          ]
                        ],
                        "type": "histogram2dcontour"
                      }
                    ],
                    "mesh3d": [
                      {
                        "colorbar": {
                          "outlinewidth": 0,
                          "ticks": ""
                        },
                        "type": "mesh3d"
                      }
                    ],
                    "parcoords": [
                      {
                        "line": {
                          "colorbar": {
                            "outlinewidth": 0,
                            "ticks": ""
                          }
                        },
                        "type": "parcoords"
                      }
                    ],
                    "pie": [
                      {
                        "automargin": true,
                        "type": "pie"
                      }
                    ],
                    "scatter": [
                      {
                        "marker": {
                          "colorbar": {
                            "outlinewidth": 0,
                            "ticks": ""
                          }
                        },
                        "type": "scatter"
                      }
                    ],
                    "scatter3d": [
                      {
                        "line": {
                          "colorbar": {
                            "outlinewidth": 0,
                            "ticks": ""
                          }
                        },
                        "marker": {
                          "colorbar": {
                            "outlinewidth": 0,
                            "ticks": ""
                          }
                        },
                        "type": "scatter3d"
                      }
                    ],
                    "scattercarpet": [
                      {
                        "marker": {
                          "colorbar": {
                            "outlinewidth": 0,
                            "ticks": ""
                          }
                        },
                        "type": "scattercarpet"
                      }
                    ],
                    "scattergeo": [
                      {
                        "marker": {
                          "colorbar": {
                            "outlinewidth": 0,
                            "ticks": ""
                          }
                        },
                        "type": "scattergeo"
                      }
                    ],
                    "scattergl": [
                      {
                        "marker": {
                          "colorbar": {
                            "outlinewidth": 0,
                            "ticks": ""
                          }
                        },
                        "type": "scattergl"
                      }
                    ],
                    "scattermapbox": [
                      {
                        "marker": {
                          "colorbar": {
                            "outlinewidth": 0,
                            "ticks": ""
                          }
                        },
                        "type": "scattermapbox"
                      }
                    ],
                    "scatterpolar": [
                      {
                        "marker": {
                          "colorbar": {
                            "outlinewidth": 0,
                            "ticks": ""
                          }
                        },
                        "type": "scatterpolar"
                      }
                    ],
                    "scatterpolargl": [
                      {
                        "marker": {
                          "colorbar": {
                            "outlinewidth": 0,
                            "ticks": ""
                          }
                        },
                        "type": "scatterpolargl"
                      }
                    ],
                    "scatterternary": [
                      {
                        "marker": {
                          "colorbar": {
                            "outlinewidth": 0,
                            "ticks": ""
                          }
                        },
                        "type": "scatterternary"
                      }
                    ],
                    "surface": [
                      {
                        "colorbar": {
                          "outlinewidth": 0,
                          "ticks": ""
                        },
                        "colorscale": [
                          [
                            0,
                            "#0d0887"
                          ],
                          [
                            0.1111111111111111,
                            "#46039f"
                          ],
                          [
                            0.2222222222222222,
                            "#7201a8"
                          ],
                          [
                            0.3333333333333333,
                            "#9c179e"
                          ],
                          [
                            0.4444444444444444,
                            "#bd3786"
                          ],
                          [
                            0.5555555555555556,
                            "#d8576b"
                          ],
                          [
                            0.6666666666666666,
                            "#ed7953"
                          ],
                          [
                            0.7777777777777778,
                            "#fb9f3a"
                          ],
                          [
                            0.8888888888888888,
                            "#fdca26"
                          ],
                          [
                            1,
                            "#f0f921"
                          ]
                        ],
                        "type": "surface"
                      }
                    ],
                    "table": [
                      {
                        "cells": {
                          "fill": {
                            "color": "#EBF0F8"
                          },
                          "line": {
                            "color": "white"
                          }
                        },
                        "header": {
                          "fill": {
                            "color": "#C8D4E3"
                          },
                          "line": {
                            "color": "white"
                          }
                        },
                        "type": "table"
                      }
                    ]
                  },
                  "layout": {
                    "annotationdefaults": {
                      "arrowcolor": "#2a3f5f",
                      "arrowhead": 0,
                      "arrowwidth": 1
                    },
                    "autotypenumbers": "strict",
                    "coloraxis": {
                      "colorbar": {
                        "outlinewidth": 0,
                        "ticks": ""
                      }
                    },
                    "colorscale": {
                      "diverging": [
                        [
                          0,
                          "#8e0152"
                        ],
                        [
                          0.1,
                          "#c51b7d"
                        ],
                        [
                          0.2,
                          "#de77ae"
                        ],
                        [
                          0.3,
                          "#f1b6da"
                        ],
                        [
                          0.4,
                          "#fde0ef"
                        ],
                        [
                          0.5,
                          "#f7f7f7"
                        ],
                        [
                          0.6,
                          "#e6f5d0"
                        ],
                        [
                          0.7,
                          "#b8e186"
                        ],
                        [
                          0.8,
                          "#7fbc41"
                        ],
                        [
                          0.9,
                          "#4d9221"
                        ],
                        [
                          1,
                          "#276419"
                        ]
                      ],
                      "sequential": [
                        [
                          0,
                          "#0d0887"
                        ],
                        [
                          0.1111111111111111,
                          "#46039f"
                        ],
                        [
                          0.2222222222222222,
                          "#7201a8"
                        ],
                        [
                          0.3333333333333333,
                          "#9c179e"
                        ],
                        [
                          0.4444444444444444,
                          "#bd3786"
                        ],
                        [
                          0.5555555555555556,
                          "#d8576b"
                        ],
                        [
                          0.6666666666666666,
                          "#ed7953"
                        ],
                        [
                          0.7777777777777778,
                          "#fb9f3a"
                        ],
                        [
                          0.8888888888888888,
                          "#fdca26"
                        ],
                        [
                          1,
                          "#f0f921"
                        ]
                      ],
                      "sequentialminus": [
                        [
                          0,
                          "#0d0887"
                        ],
                        [
                          0.1111111111111111,
                          "#46039f"
                        ],
                        [
                          0.2222222222222222,
                          "#7201a8"
                        ],
                        [
                          0.3333333333333333,
                          "#9c179e"
                        ],
                        [
                          0.4444444444444444,
                          "#bd3786"
                        ],
                        [
                          0.5555555555555556,
                          "#d8576b"
                        ],
                        [
                          0.6666666666666666,
                          "#ed7953"
                        ],
                        [
                          0.7777777777777778,
                          "#fb9f3a"
                        ],
                        [
                          0.8888888888888888,
                          "#fdca26"
                        ],
                        [
                          1,
                          "#f0f921"
                        ]
                      ]
                    },
                    "colorway": [
                      "#636efa",
                      "#EF553B",
                      "#00cc96",
                      "#ab63fa",
                      "#FFA15A",
                      "#19d3f3",
                      "#FF6692",
                      "#B6E880",
                      "#FF97FF",
                      "#FECB52"
                    ],
                    "font": {
                      "color": "#2a3f5f"
                    },
                    "geo": {
                      "bgcolor": "white",
                      "lakecolor": "white",
                      "landcolor": "#E5ECF6",
                      "showlakes": true,
                      "showland": true,
                      "subunitcolor": "white"
                    },
                    "hoverlabel": {
                      "align": "left"
                    },
                    "hovermode": "closest",
                    "mapbox": {
                      "style": "light"
                    },
                    "paper_bgcolor": "white",
                    "plot_bgcolor": "#E5ECF6",
                    "polar": {
                      "angularaxis": {
                        "gridcolor": "white",
                        "linecolor": "white",
                        "ticks": ""
                      },
                      "bgcolor": "#E5ECF6",
                      "radialaxis": {
                        "gridcolor": "white",
                        "linecolor": "white",
                        "ticks": ""
                      }
                    },
                    "scene": {
                      "xaxis": {
                        "backgroundcolor": "#E5ECF6",
                        "gridcolor": "white",
                        "gridwidth": 2,
                        "linecolor": "white",
                        "showbackground": true,
                        "ticks": "",
                        "zerolinecolor": "white"
                      },
                      "yaxis": {
                        "backgroundcolor": "#E5ECF6",
                        "gridcolor": "white",
                        "gridwidth": 2,
                        "linecolor": "white",
                        "showbackground": true,
                        "ticks": "",
                        "zerolinecolor": "white"
                      },
                      "zaxis": {
                        "backgroundcolor": "#E5ECF6",
                        "gridcolor": "white",
                        "gridwidth": 2,
                        "linecolor": "white",
                        "showbackground": true,
                        "ticks": "",
                        "zerolinecolor": "white"
                      }
                    },
                    "shapedefaults": {
                      "line": {
                        "color": "#2a3f5f"
                      }
                    },
                    "ternary": {
                      "aaxis": {
                        "gridcolor": "white",
                        "linecolor": "white",
                        "ticks": ""
                      },
                      "baxis": {
                        "gridcolor": "white",
                        "linecolor": "white",
                        "ticks": ""
                      },
                      "bgcolor": "#E5ECF6",
                      "caxis": {
                        "gridcolor": "white",
                        "linecolor": "white",
                        "ticks": ""
                      }
                    },
                    "title": {
                      "x": 0.05
                    },
                    "xaxis": {
                      "automargin": true,
                      "gridcolor": "white",
                      "linecolor": "white",
                      "ticks": "",
                      "title": {
                        "standoff": 15
                      },
                      "zerolinecolor": "white",
                      "zerolinewidth": 2
                    },
                    "yaxis": {
                      "automargin": true,
                      "gridcolor": "white",
                      "linecolor": "white",
                      "ticks": "",
                      "title": {
                        "standoff": 15
                      },
                      "zerolinecolor": "white",
                      "zerolinewidth": 2
                    }
                  }
                },
                "xaxis": {
                  "anchor": "y",
                  "domain": [
                    0,
                    1
                  ],
                  "tickangle": 60,
                  "tickprefix": "Class ",
                  "title": {},
                  "type": "category"
                },
                "yaxis": {
                  "anchor": "x",
                  "domain": [
                    0,
                    1
                  ],
                  "showticklabels": true,
                  "title": {}
                }
              }
            }
          },
          "metadata": {},
          "output_type": "display_data"
        },
        {
          "data": {
            "text/html": [
              "<br><a href=\"#summary_OD0JV\" style=\"font-size: 14px\">Go to top</a>"
            ]
          },
          "metadata": {},
          "output_type": "display_data"
        },
        {
          "data": {
            "text/html": [
              "<hr style=\"background-color: #eee;border: 0 none;color: #eee;height: 4px;\">"
            ]
          },
          "metadata": {},
          "output_type": "display_data"
        },
        {
          "data": {
            "text/html": [
              "<h4 id=\"UnusedFeatures_OD0JV\">Unused Features</h4><p>Detect features that are nearly unused by the model. <a href=\"https://docs.deepchecks.com/0.6.1/examples/tabular/checks/methodology/examples/plot_unused_features.html?utm_source=display_output&utm_medium=referral&utm_campaign=check_link\" target=\"_blank\">Read More...</a></p><h5>Conditions Summary</h5><style type=\"text/css\">\n",
              "#T_ef719 table {\n",
              "  text-align: left;\n",
              "  white-space: pre-wrap;\n",
              "}\n",
              "#T_ef719 thead {\n",
              "  text-align: left;\n",
              "  white-space: pre-wrap;\n",
              "}\n",
              "#T_ef719 tbody {\n",
              "  text-align: left;\n",
              "  white-space: pre-wrap;\n",
              "}\n",
              "#T_ef719 th {\n",
              "  text-align: left;\n",
              "  white-space: pre-wrap;\n",
              "}\n",
              "#T_ef719 td {\n",
              "  text-align: left;\n",
              "  white-space: pre-wrap;\n",
              "}\n",
              "</style>\n",
              "<table id=\"T_ef719\">\n",
              "  <thead>\n",
              "    <tr>\n",
              "      <th id=\"T_ef719_level0_col0\" class=\"col_heading level0 col0\" >Status</th>\n",
              "      <th id=\"T_ef719_level0_col1\" class=\"col_heading level0 col1\" >Condition</th>\n",
              "      <th id=\"T_ef719_level0_col2\" class=\"col_heading level0 col2\" >More Info</th>\n",
              "    </tr>\n",
              "  </thead>\n",
              "  <tbody>\n",
              "    <tr>\n",
              "      <td id=\"T_ef719_row0_col0\" class=\"data row0 col0\" ><div style=\"color: green;text-align: center\">✓</div></td>\n",
              "      <td id=\"T_ef719_row0_col1\" class=\"data row0 col1\" >Number of high variance unused features is not greater than 5</td>\n",
              "      <td id=\"T_ef719_row0_col2\" class=\"data row0 col2\" ></td>\n",
              "    </tr>\n",
              "  </tbody>\n",
              "</table>\n",
              "<h5>Additional Outputs</h5><div>Features above the line are a sample of the most important features, while the features below the line are the unused features with highest variance, as defined by check parameters</div>"
            ]
          },
          "metadata": {},
          "output_type": "display_data"
        },
        {
          "data": {
            "application/vnd.plotly.v1+json": {
              "config": {
                "plotlyServerURL": "https://plot.ly"
              },
              "data": [
                {
                  "marker": {
                    "color": "indianred"
                  },
                  "name": "Feature Importance %",
                  "orientation": "h",
                  "type": "bar",
                  "x": [
                    28.88120050122533,
                    14.676604716473127,
                    14.505660813585553,
                    9.62811368893148,
                    8.5145491804922,
                    1.0845117414549341,
                    0.9704443226040274,
                    0.688126861502892,
                    0.09589947089947091
                  ],
                  "y": [
                    "τ",
                    "tG",
                    "ΔENR",
                    "EN(B)",
                    "EN(A)",
                    "r(BVI)(Å)",
                    "μ",
                    "v(A)",
                    "v(B)"
                  ]
                },
                {
                  "marker": {
                    "color": "lightsalmon"
                  },
                  "name": "Feature Variance %",
                  "orientation": "h",
                  "type": "bar",
                  "x": [
                    11.241021928604882,
                    4.893933873200013,
                    5.1394836497275875,
                    6.441582575488924,
                    9.457238105187006,
                    7.913228397096307,
                    7.911031906975541,
                    7.630708193593942,
                    7.630708193593938
                  ],
                  "y": [
                    "τ",
                    "tG",
                    "ΔENR",
                    "EN(B)",
                    "EN(A)",
                    "r(BVI)(Å)",
                    "μ",
                    "v(A)",
                    "v(B)"
                  ]
                }
              ],
              "layout": {
                "annotations": [
                  {
                    "showarrow": false,
                    "text": "Last shown significant feature",
                    "x": 1,
                    "xanchor": "right",
                    "xref": "x domain",
                    "y": 4.5,
                    "yanchor": "bottom",
                    "yref": "y"
                  }
                ],
                "height": 500,
                "shapes": [
                  {
                    "line": {
                      "color": "green",
                      "dash": "dash",
                      "width": 2
                    },
                    "type": "line",
                    "x0": 0,
                    "x1": 1,
                    "xref": "x domain",
                    "y0": 4.5,
                    "y1": 4.5,
                    "yref": "y"
                  }
                ],
                "template": {
                  "data": {
                    "bar": [
                      {
                        "error_x": {
                          "color": "#2a3f5f"
                        },
                        "error_y": {
                          "color": "#2a3f5f"
                        },
                        "marker": {
                          "line": {
                            "color": "#E5ECF6",
                            "width": 0.5
                          },
                          "pattern": {
                            "fillmode": "overlay",
                            "size": 10,
                            "solidity": 0.2
                          }
                        },
                        "type": "bar"
                      }
                    ],
                    "barpolar": [
                      {
                        "marker": {
                          "line": {
                            "color": "#E5ECF6",
                            "width": 0.5
                          },
                          "pattern": {
                            "fillmode": "overlay",
                            "size": 10,
                            "solidity": 0.2
                          }
                        },
                        "type": "barpolar"
                      }
                    ],
                    "carpet": [
                      {
                        "aaxis": {
                          "endlinecolor": "#2a3f5f",
                          "gridcolor": "white",
                          "linecolor": "white",
                          "minorgridcolor": "white",
                          "startlinecolor": "#2a3f5f"
                        },
                        "baxis": {
                          "endlinecolor": "#2a3f5f",
                          "gridcolor": "white",
                          "linecolor": "white",
                          "minorgridcolor": "white",
                          "startlinecolor": "#2a3f5f"
                        },
                        "type": "carpet"
                      }
                    ],
                    "choropleth": [
                      {
                        "colorbar": {
                          "outlinewidth": 0,
                          "ticks": ""
                        },
                        "type": "choropleth"
                      }
                    ],
                    "contour": [
                      {
                        "colorbar": {
                          "outlinewidth": 0,
                          "ticks": ""
                        },
                        "colorscale": [
                          [
                            0,
                            "#0d0887"
                          ],
                          [
                            0.1111111111111111,
                            "#46039f"
                          ],
                          [
                            0.2222222222222222,
                            "#7201a8"
                          ],
                          [
                            0.3333333333333333,
                            "#9c179e"
                          ],
                          [
                            0.4444444444444444,
                            "#bd3786"
                          ],
                          [
                            0.5555555555555556,
                            "#d8576b"
                          ],
                          [
                            0.6666666666666666,
                            "#ed7953"
                          ],
                          [
                            0.7777777777777778,
                            "#fb9f3a"
                          ],
                          [
                            0.8888888888888888,
                            "#fdca26"
                          ],
                          [
                            1,
                            "#f0f921"
                          ]
                        ],
                        "type": "contour"
                      }
                    ],
                    "contourcarpet": [
                      {
                        "colorbar": {
                          "outlinewidth": 0,
                          "ticks": ""
                        },
                        "type": "contourcarpet"
                      }
                    ],
                    "heatmap": [
                      {
                        "colorbar": {
                          "outlinewidth": 0,
                          "ticks": ""
                        },
                        "colorscale": [
                          [
                            0,
                            "#0d0887"
                          ],
                          [
                            0.1111111111111111,
                            "#46039f"
                          ],
                          [
                            0.2222222222222222,
                            "#7201a8"
                          ],
                          [
                            0.3333333333333333,
                            "#9c179e"
                          ],
                          [
                            0.4444444444444444,
                            "#bd3786"
                          ],
                          [
                            0.5555555555555556,
                            "#d8576b"
                          ],
                          [
                            0.6666666666666666,
                            "#ed7953"
                          ],
                          [
                            0.7777777777777778,
                            "#fb9f3a"
                          ],
                          [
                            0.8888888888888888,
                            "#fdca26"
                          ],
                          [
                            1,
                            "#f0f921"
                          ]
                        ],
                        "type": "heatmap"
                      }
                    ],
                    "heatmapgl": [
                      {
                        "colorbar": {
                          "outlinewidth": 0,
                          "ticks": ""
                        },
                        "colorscale": [
                          [
                            0,
                            "#0d0887"
                          ],
                          [
                            0.1111111111111111,
                            "#46039f"
                          ],
                          [
                            0.2222222222222222,
                            "#7201a8"
                          ],
                          [
                            0.3333333333333333,
                            "#9c179e"
                          ],
                          [
                            0.4444444444444444,
                            "#bd3786"
                          ],
                          [
                            0.5555555555555556,
                            "#d8576b"
                          ],
                          [
                            0.6666666666666666,
                            "#ed7953"
                          ],
                          [
                            0.7777777777777778,
                            "#fb9f3a"
                          ],
                          [
                            0.8888888888888888,
                            "#fdca26"
                          ],
                          [
                            1,
                            "#f0f921"
                          ]
                        ],
                        "type": "heatmapgl"
                      }
                    ],
                    "histogram": [
                      {
                        "marker": {
                          "pattern": {
                            "fillmode": "overlay",
                            "size": 10,
                            "solidity": 0.2
                          }
                        },
                        "type": "histogram"
                      }
                    ],
                    "histogram2d": [
                      {
                        "colorbar": {
                          "outlinewidth": 0,
                          "ticks": ""
                        },
                        "colorscale": [
                          [
                            0,
                            "#0d0887"
                          ],
                          [
                            0.1111111111111111,
                            "#46039f"
                          ],
                          [
                            0.2222222222222222,
                            "#7201a8"
                          ],
                          [
                            0.3333333333333333,
                            "#9c179e"
                          ],
                          [
                            0.4444444444444444,
                            "#bd3786"
                          ],
                          [
                            0.5555555555555556,
                            "#d8576b"
                          ],
                          [
                            0.6666666666666666,
                            "#ed7953"
                          ],
                          [
                            0.7777777777777778,
                            "#fb9f3a"
                          ],
                          [
                            0.8888888888888888,
                            "#fdca26"
                          ],
                          [
                            1,
                            "#f0f921"
                          ]
                        ],
                        "type": "histogram2d"
                      }
                    ],
                    "histogram2dcontour": [
                      {
                        "colorbar": {
                          "outlinewidth": 0,
                          "ticks": ""
                        },
                        "colorscale": [
                          [
                            0,
                            "#0d0887"
                          ],
                          [
                            0.1111111111111111,
                            "#46039f"
                          ],
                          [
                            0.2222222222222222,
                            "#7201a8"
                          ],
                          [
                            0.3333333333333333,
                            "#9c179e"
                          ],
                          [
                            0.4444444444444444,
                            "#bd3786"
                          ],
                          [
                            0.5555555555555556,
                            "#d8576b"
                          ],
                          [
                            0.6666666666666666,
                            "#ed7953"
                          ],
                          [
                            0.7777777777777778,
                            "#fb9f3a"
                          ],
                          [
                            0.8888888888888888,
                            "#fdca26"
                          ],
                          [
                            1,
                            "#f0f921"
                          ]
                        ],
                        "type": "histogram2dcontour"
                      }
                    ],
                    "mesh3d": [
                      {
                        "colorbar": {
                          "outlinewidth": 0,
                          "ticks": ""
                        },
                        "type": "mesh3d"
                      }
                    ],
                    "parcoords": [
                      {
                        "line": {
                          "colorbar": {
                            "outlinewidth": 0,
                            "ticks": ""
                          }
                        },
                        "type": "parcoords"
                      }
                    ],
                    "pie": [
                      {
                        "automargin": true,
                        "type": "pie"
                      }
                    ],
                    "scatter": [
                      {
                        "marker": {
                          "colorbar": {
                            "outlinewidth": 0,
                            "ticks": ""
                          }
                        },
                        "type": "scatter"
                      }
                    ],
                    "scatter3d": [
                      {
                        "line": {
                          "colorbar": {
                            "outlinewidth": 0,
                            "ticks": ""
                          }
                        },
                        "marker": {
                          "colorbar": {
                            "outlinewidth": 0,
                            "ticks": ""
                          }
                        },
                        "type": "scatter3d"
                      }
                    ],
                    "scattercarpet": [
                      {
                        "marker": {
                          "colorbar": {
                            "outlinewidth": 0,
                            "ticks": ""
                          }
                        },
                        "type": "scattercarpet"
                      }
                    ],
                    "scattergeo": [
                      {
                        "marker": {
                          "colorbar": {
                            "outlinewidth": 0,
                            "ticks": ""
                          }
                        },
                        "type": "scattergeo"
                      }
                    ],
                    "scattergl": [
                      {
                        "marker": {
                          "colorbar": {
                            "outlinewidth": 0,
                            "ticks": ""
                          }
                        },
                        "type": "scattergl"
                      }
                    ],
                    "scattermapbox": [
                      {
                        "marker": {
                          "colorbar": {
                            "outlinewidth": 0,
                            "ticks": ""
                          }
                        },
                        "type": "scattermapbox"
                      }
                    ],
                    "scatterpolar": [
                      {
                        "marker": {
                          "colorbar": {
                            "outlinewidth": 0,
                            "ticks": ""
                          }
                        },
                        "type": "scatterpolar"
                      }
                    ],
                    "scatterpolargl": [
                      {
                        "marker": {
                          "colorbar": {
                            "outlinewidth": 0,
                            "ticks": ""
                          }
                        },
                        "type": "scatterpolargl"
                      }
                    ],
                    "scatterternary": [
                      {
                        "marker": {
                          "colorbar": {
                            "outlinewidth": 0,
                            "ticks": ""
                          }
                        },
                        "type": "scatterternary"
                      }
                    ],
                    "surface": [
                      {
                        "colorbar": {
                          "outlinewidth": 0,
                          "ticks": ""
                        },
                        "colorscale": [
                          [
                            0,
                            "#0d0887"
                          ],
                          [
                            0.1111111111111111,
                            "#46039f"
                          ],
                          [
                            0.2222222222222222,
                            "#7201a8"
                          ],
                          [
                            0.3333333333333333,
                            "#9c179e"
                          ],
                          [
                            0.4444444444444444,
                            "#bd3786"
                          ],
                          [
                            0.5555555555555556,
                            "#d8576b"
                          ],
                          [
                            0.6666666666666666,
                            "#ed7953"
                          ],
                          [
                            0.7777777777777778,
                            "#fb9f3a"
                          ],
                          [
                            0.8888888888888888,
                            "#fdca26"
                          ],
                          [
                            1,
                            "#f0f921"
                          ]
                        ],
                        "type": "surface"
                      }
                    ],
                    "table": [
                      {
                        "cells": {
                          "fill": {
                            "color": "#EBF0F8"
                          },
                          "line": {
                            "color": "white"
                          }
                        },
                        "header": {
                          "fill": {
                            "color": "#C8D4E3"
                          },
                          "line": {
                            "color": "white"
                          }
                        },
                        "type": "table"
                      }
                    ]
                  },
                  "layout": {
                    "annotationdefaults": {
                      "arrowcolor": "#2a3f5f",
                      "arrowhead": 0,
                      "arrowwidth": 1
                    },
                    "autotypenumbers": "strict",
                    "coloraxis": {
                      "colorbar": {
                        "outlinewidth": 0,
                        "ticks": ""
                      }
                    },
                    "colorscale": {
                      "diverging": [
                        [
                          0,
                          "#8e0152"
                        ],
                        [
                          0.1,
                          "#c51b7d"
                        ],
                        [
                          0.2,
                          "#de77ae"
                        ],
                        [
                          0.3,
                          "#f1b6da"
                        ],
                        [
                          0.4,
                          "#fde0ef"
                        ],
                        [
                          0.5,
                          "#f7f7f7"
                        ],
                        [
                          0.6,
                          "#e6f5d0"
                        ],
                        [
                          0.7,
                          "#b8e186"
                        ],
                        [
                          0.8,
                          "#7fbc41"
                        ],
                        [
                          0.9,
                          "#4d9221"
                        ],
                        [
                          1,
                          "#276419"
                        ]
                      ],
                      "sequential": [
                        [
                          0,
                          "#0d0887"
                        ],
                        [
                          0.1111111111111111,
                          "#46039f"
                        ],
                        [
                          0.2222222222222222,
                          "#7201a8"
                        ],
                        [
                          0.3333333333333333,
                          "#9c179e"
                        ],
                        [
                          0.4444444444444444,
                          "#bd3786"
                        ],
                        [
                          0.5555555555555556,
                          "#d8576b"
                        ],
                        [
                          0.6666666666666666,
                          "#ed7953"
                        ],
                        [
                          0.7777777777777778,
                          "#fb9f3a"
                        ],
                        [
                          0.8888888888888888,
                          "#fdca26"
                        ],
                        [
                          1,
                          "#f0f921"
                        ]
                      ],
                      "sequentialminus": [
                        [
                          0,
                          "#0d0887"
                        ],
                        [
                          0.1111111111111111,
                          "#46039f"
                        ],
                        [
                          0.2222222222222222,
                          "#7201a8"
                        ],
                        [
                          0.3333333333333333,
                          "#9c179e"
                        ],
                        [
                          0.4444444444444444,
                          "#bd3786"
                        ],
                        [
                          0.5555555555555556,
                          "#d8576b"
                        ],
                        [
                          0.6666666666666666,
                          "#ed7953"
                        ],
                        [
                          0.7777777777777778,
                          "#fb9f3a"
                        ],
                        [
                          0.8888888888888888,
                          "#fdca26"
                        ],
                        [
                          1,
                          "#f0f921"
                        ]
                      ]
                    },
                    "colorway": [
                      "#636efa",
                      "#EF553B",
                      "#00cc96",
                      "#ab63fa",
                      "#FFA15A",
                      "#19d3f3",
                      "#FF6692",
                      "#B6E880",
                      "#FF97FF",
                      "#FECB52"
                    ],
                    "font": {
                      "color": "#2a3f5f"
                    },
                    "geo": {
                      "bgcolor": "white",
                      "lakecolor": "white",
                      "landcolor": "#E5ECF6",
                      "showlakes": true,
                      "showland": true,
                      "subunitcolor": "white"
                    },
                    "hoverlabel": {
                      "align": "left"
                    },
                    "hovermode": "closest",
                    "mapbox": {
                      "style": "light"
                    },
                    "paper_bgcolor": "white",
                    "plot_bgcolor": "#E5ECF6",
                    "polar": {
                      "angularaxis": {
                        "gridcolor": "white",
                        "linecolor": "white",
                        "ticks": ""
                      },
                      "bgcolor": "#E5ECF6",
                      "radialaxis": {
                        "gridcolor": "white",
                        "linecolor": "white",
                        "ticks": ""
                      }
                    },
                    "scene": {
                      "xaxis": {
                        "backgroundcolor": "#E5ECF6",
                        "gridcolor": "white",
                        "gridwidth": 2,
                        "linecolor": "white",
                        "showbackground": true,
                        "ticks": "",
                        "zerolinecolor": "white"
                      },
                      "yaxis": {
                        "backgroundcolor": "#E5ECF6",
                        "gridcolor": "white",
                        "gridwidth": 2,
                        "linecolor": "white",
                        "showbackground": true,
                        "ticks": "",
                        "zerolinecolor": "white"
                      },
                      "zaxis": {
                        "backgroundcolor": "#E5ECF6",
                        "gridcolor": "white",
                        "gridwidth": 2,
                        "linecolor": "white",
                        "showbackground": true,
                        "ticks": "",
                        "zerolinecolor": "white"
                      }
                    },
                    "shapedefaults": {
                      "line": {
                        "color": "#2a3f5f"
                      }
                    },
                    "ternary": {
                      "aaxis": {
                        "gridcolor": "white",
                        "linecolor": "white",
                        "ticks": ""
                      },
                      "baxis": {
                        "gridcolor": "white",
                        "linecolor": "white",
                        "ticks": ""
                      },
                      "bgcolor": "#E5ECF6",
                      "caxis": {
                        "gridcolor": "white",
                        "linecolor": "white",
                        "ticks": ""
                      }
                    },
                    "title": {
                      "x": 0.05
                    },
                    "xaxis": {
                      "automargin": true,
                      "gridcolor": "white",
                      "linecolor": "white",
                      "ticks": "",
                      "title": {
                        "standoff": 15
                      },
                      "zerolinecolor": "white",
                      "zerolinewidth": 2
                    },
                    "yaxis": {
                      "automargin": true,
                      "gridcolor": "white",
                      "linecolor": "white",
                      "ticks": "",
                      "title": {
                        "standoff": 15
                      },
                      "zerolinecolor": "white",
                      "zerolinewidth": 2
                    }
                  }
                },
                "title": {
                  "text": "Unused features compared to top important features"
                },
                "width": 800,
                "yaxis": {
                  "autorange": "reversed"
                }
              }
            }
          },
          "metadata": {},
          "output_type": "display_data"
        },
        {
          "data": {
            "text/html": [
              "<br><a href=\"#summary_OD0JV\" style=\"font-size: 14px\">Go to top</a>"
            ]
          },
          "metadata": {},
          "output_type": "display_data"
        },
        {
          "data": {
            "text/html": [
              "<hr style=\"background-color: #eee;border: 0 none;color: #eee;height: 4px;\">"
            ]
          },
          "metadata": {},
          "output_type": "display_data"
        },
        {
          "data": {
            "text/html": [
              "<h4 id=\"TrainTestDrift_OD0JV\">Train Test Drift</h4><p>    Calculate drift between train dataset and test dataset per feature, using statistical measures. <a href=\"https://docs.deepchecks.com/0.6.1/examples/tabular/checks/distribution/examples/plot_train_test_feature_drift.html?utm_source=display_output&utm_medium=referral&utm_campaign=check_link\" target=\"_blank\">Read More...</a></p><h5>Conditions Summary</h5><style type=\"text/css\">\n",
              "#T_221d9 table {\n",
              "  text-align: left;\n",
              "  white-space: pre-wrap;\n",
              "}\n",
              "#T_221d9 thead {\n",
              "  text-align: left;\n",
              "  white-space: pre-wrap;\n",
              "}\n",
              "#T_221d9 tbody {\n",
              "  text-align: left;\n",
              "  white-space: pre-wrap;\n",
              "}\n",
              "#T_221d9 th {\n",
              "  text-align: left;\n",
              "  white-space: pre-wrap;\n",
              "}\n",
              "#T_221d9 td {\n",
              "  text-align: left;\n",
              "  white-space: pre-wrap;\n",
              "}\n",
              "</style>\n",
              "<table id=\"T_221d9\">\n",
              "  <thead>\n",
              "    <tr>\n",
              "      <th id=\"T_221d9_level0_col0\" class=\"col_heading level0 col0\" >Status</th>\n",
              "      <th id=\"T_221d9_level0_col1\" class=\"col_heading level0 col1\" >Condition</th>\n",
              "      <th id=\"T_221d9_level0_col2\" class=\"col_heading level0 col2\" >More Info</th>\n",
              "    </tr>\n",
              "  </thead>\n",
              "  <tbody>\n",
              "    <tr>\n",
              "      <td id=\"T_221d9_row0_col0\" class=\"data row0 col0\" ><div style=\"color: green;text-align: center\">✓</div></td>\n",
              "      <td id=\"T_221d9_row0_col1\" class=\"data row0 col1\" >PSI <= 0.2 and Earth Mover's Distance <= 0.1</td>\n",
              "      <td id=\"T_221d9_row0_col2\" class=\"data row0 col2\" ></td>\n",
              "    </tr>\n",
              "  </tbody>\n",
              "</table>\n",
              "<h5>Additional Outputs</h5><div><span>\n",
              "            The Drift score is a measure for the difference between two distributions, in this check - the test\n",
              "            and train distributions.<br> The check shows the drift score and distributions for the features, sorted by\n",
              "            feature importance and showing only the top 5 features, according to feature importance.\n",
              "            <br>If available, the plot titles also show the feature importance (FI) rank.\n",
              "        </span></div>"
            ]
          },
          "metadata": {},
          "output_type": "display_data"
        },
        {
          "data": {
            "application/vnd.plotly.v1+json": {
              "config": {
                "plotlyServerURL": "https://plot.ly"
              },
              "data": [
                {
                  "base": 0,
                  "marker": {
                    "color": "#01B8AA"
                  },
                  "offsetgroup": "0",
                  "orientation": "h",
                  "showlegend": false,
                  "type": "bar",
                  "x": [
                    0.011815083888088239
                  ],
                  "xaxis": "x",
                  "y": [
                    "Drift Score"
                  ],
                  "yaxis": "y"
                },
                {
                  "fill": "tozeroy",
                  "line": {
                    "color": "#00008b"
                  },
                  "name": "Train Dataset",
                  "type": "scatter",
                  "x": [
                    0.09174805,
                    0.33201137530612246,
                    0.5722747006122448,
                    0.8125380259183673,
                    1.0528013512244898,
                    1.2930646765306122,
                    1.5333280018367348,
                    1.58829778152,
                    1.6130721864000002,
                    1.67082925292,
                    1.691073151,
                    1.7735913271428572,
                    1.78226999772,
                    1.8365907929,
                    1.914234761,
                    2.0138546524489795,
                    2.03311949628,
                    2.150915506,
                    2.2518657917000002,
                    2.254117977755102,
                    2.287131426,
                    2.4226045752000003,
                    2.480259443,
                    2.4943813030612243,
                    2.590379445,
                    2.592949714,
                    2.70092251768,
                    2.70937398136,
                    2.734644628367347,
                    2.8159958878,
                    2.8569064288799995,
                    2.89969641292,
                    2.9749079536734695,
                    3.05127397416,
                    3.076669632,
                    3.199478438,
                    3.2151712789795917,
                    3.317198813,
                    3.4554346042857143,
                    3.4566460434,
                    3.5112942537200005,
                    3.5741135052,
                    3.6264831736,
                    3.63426531656,
                    3.6742877452000005,
                    3.6956979295918364,
                    3.71042465288,
                    3.72745005824,
                    3.73270897352,
                    3.7760561900400003,
                    3.80569179716,
                    3.82251944192,
                    3.8444851682000003,
                    3.8493019844,
                    3.868922301,
                    3.8802524518800006,
                    3.90306178,
                    3.912075379,
                    3.91368538048,
                    3.935961254897959,
                    3.94071272628,
                    3.97484672696,
                    3.9954951044000007,
                    4.002669215,
                    4.04123565788,
                    4.072890082,
                    4.09442094024,
                    4.102310561,
                    4.144346517,
                    4.15520040684,
                    4.176224580204081,
                    4.19181143044,
                    4.205821347680001,
                    4.2399956133200005,
                    4.272305656,
                    4.313114555,
                    4.3365847338,
                    4.360983427,
                    4.38850198756,
                    4.4008049192,
                    4.416487905510204,
                    4.419284971,
                    4.47740229148,
                    4.534214963,
                    4.632432017,
                    4.656751230816326,
                    4.65779123084,
                    4.71523503572,
                    4.7410437916,
                    4.827582385,
                    4.848270278,
                    4.852011679,
                    4.897014556122448,
                    4.91925232944,
                    4.936557696,
                    5.035826892040001,
                    5.05212849816,
                    5.1197934374,
                    5.137277881428571,
                    5.152971202380001,
                    5.2399744084,
                    5.342972334200001,
                    5.37025466356,
                    5.377541206734693,
                    5.530833695,
                    5.617804532040815,
                    5.654895273520001,
                    5.8580678573469385,
                    5.86196026732,
                    6.026304311919997,
                    6.098331182653061,
                    6.09872808374,
                    6.258628505640001,
                    6.338594507959183,
                    6.578857833265305,
                    6.73508712056,
                    6.819121158571428,
                    6.9974628586,
                    7.05938448387755,
                    7.2328568648000005,
                    7.299647809183672,
                    7.324461829480002,
                    7.539911134489795,
                    7.7801744597959175,
                    7.847068197,
                    8.02043778510204,
                    8.05948764292,
                    8.260701110408162,
                    8.500964435714284,
                    8.57499678932001,
                    8.741227761020408,
                    8.98149108632653,
                    9.056886508280003,
                    9.221754411632652,
                    9.462017736938774,
                    9.488301183880003,
                    9.702281062244897,
                    9.942544387551019,
                    9.98099178336,
                    10.182807712857143,
                    10.423071038163265,
                    10.61545782,
                    10.663334363469387,
                    10.903597688775509,
                    11.143861014081631,
                    11.384124339387753,
                    11.624387664693877,
                    11.86465099
                  ],
                  "xaxis": "x2",
                  "y": [
                    0.00770745403969016,
                    0.010337899228031633,
                    0.013786781274772652,
                    0.0197253469821005,
                    0.030205939929428948,
                    0.04600750101117915,
                    0.0652296819102923,
                    0.06971200555045315,
                    0.07171021316160062,
                    0.07628529948346703,
                    0.07785435847245267,
                    0.08401492582755604,
                    0.08463819031103231,
                    0.08842057963638092,
                    0.09344974655568923,
                    0.09923034793780856,
                    0.10026311889931473,
                    0.10603889421021945,
                    0.11039109080204301,
                    0.1104836190352652,
                    0.11182346494903264,
                    0.11718482634093465,
                    0.11953600208525525,
                    0.1201310248506674,
                    0.12449912537859843,
                    0.12462595129492252,
                    0.13061576457301852,
                    0.1311490244737478,
                    0.132809649677585,
                    0.13891447110982066,
                    0.14248414159189793,
                    0.14662230699049753,
                    0.1549943878527651,
                    0.16504349011096367,
                    0.16874533992060012,
                    0.18916507974108795,
                    0.19206175384201285,
                    0.2122574101174696,
                    0.24222887287242184,
                    0.2424977326555009,
                    0.2546142019205703,
                    0.268311332827395,
                    0.2792964344764778,
                    0.28088122168209856,
                    0.2887909438911653,
                    0.2928354617654872,
                    0.29553251729847446,
                    0.2985578928405922,
                    0.29947135945251807,
                    0.30659371992854567,
                    0.31101192122163507,
                    0.31334458645123653,
                    0.31618781105082167,
                    0.3167798828743225,
                    0.31907158368423244,
                    0.3203055235695106,
                    0.3225857933367753,
                    0.3234104104195117,
                    0.3235530828008357,
                    0.32538173465250747,
                    0.32573639108081365,
                    0.32791240127088433,
                    0.32890804971504867,
                    0.3291968647501671,
                    0.330242073509546,
                    0.330460176825347,
                    0.3302807441186371,
                    0.33014907319412273,
                    0.32885992213478493,
                    0.32836880009669284,
                    0.32723693523833214,
                    0.32624676270179837,
                    0.3252493117643494,
                    0.32240224694548086,
                    0.31919357494058614,
                    0.3144701852719144,
                    0.31143795252229894,
                    0.30805897959445205,
                    0.30398960290685784,
                    0.3020873836494857,
                    0.299592767552662,
                    0.29913992688845625,
                    0.2892383480388092,
                    0.27879257087655557,
                    0.2595244849099808,
                    0.254605685686234,
                    0.2543945294884379,
                    0.2426677681803209,
                    0.2373820942324245,
                    0.21977356183485564,
                    0.21561953938594688,
                    0.21487145703493862,
                    0.2059606982790014,
                    0.2016242353237133,
                    0.19828362617737946,
                    0.1797719358925524,
                    0.17684739968387245,
                    0.16508366482318343,
                    0.1621448991931264,
                    0.15954313847757826,
                    0.14574269252413904,
                    0.1307732509604294,
                    0.12705346694061193,
                    0.12607711765783025,
                    0.10716168042789934,
                    0.0977436399096786,
                    0.09399818032784275,
                    0.07610883356104521,
                    0.07580645077088238,
                    0.06428097330149284,
                    0.05994934327177706,
                    0.05992662718956985,
                    0.05176645909169763,
                    0.048406130345004586,
                    0.04102891281827904,
                    0.0381831232405523,
                    0.037161940454141174,
                    0.03582467785877158,
                    0.035532330278804876,
                    0.03489082997249087,
                    0.03464524316865512,
                    0.034547437986482174,
                    0.03343819974323953,
                    0.03150464048663091,
                    0.030842746889012982,
                    0.028961619852357335,
                    0.02851967577540721,
                    0.02628804019483887,
                    0.02410482788076639,
                    0.02360396451370658,
                    0.022795490690270266,
                    0.022193111024831753,
                    0.02205724190880299,
                    0.021696903332899347,
                    0.020808636862286033,
                    0.020683812759410076,
                    0.019562890716739254,
                    0.01837741940089554,
                    0.018217810390413716,
                    0.017533949043134444,
                    0.016930375863705157,
                    0.01645281025562715,
                    0.01632506173079678,
                    0.015628416209834992,
                    0.01481351123622166,
                    0.013652763926564141,
                    0.011788296099136822,
                    0.009147328459709992
                  ],
                  "yaxis": "y2"
                },
                {
                  "fill": "tozeroy",
                  "line": {
                    "color": "#69b3a2"
                  },
                  "name": "Test Dataset",
                  "type": "scatter",
                  "x": [
                    0.09174805,
                    0.33201137530612246,
                    0.5722747006122448,
                    0.8125380259183673,
                    1.0528013512244898,
                    1.2930646765306122,
                    1.5333280018367348,
                    1.58829778152,
                    1.6130721864000002,
                    1.67082925292,
                    1.691073151,
                    1.7735913271428572,
                    1.78226999772,
                    1.8365907929,
                    1.914234761,
                    2.0138546524489795,
                    2.03311949628,
                    2.150915506,
                    2.2518657917000002,
                    2.254117977755102,
                    2.287131426,
                    2.4226045752000003,
                    2.480259443,
                    2.4943813030612243,
                    2.590379445,
                    2.592949714,
                    2.70092251768,
                    2.70937398136,
                    2.734644628367347,
                    2.8159958878,
                    2.8569064288799995,
                    2.89969641292,
                    2.9749079536734695,
                    3.05127397416,
                    3.076669632,
                    3.199478438,
                    3.2151712789795917,
                    3.317198813,
                    3.4554346042857143,
                    3.4566460434,
                    3.5112942537200005,
                    3.5741135052,
                    3.6264831736,
                    3.63426531656,
                    3.6742877452000005,
                    3.6956979295918364,
                    3.71042465288,
                    3.72745005824,
                    3.73270897352,
                    3.7760561900400003,
                    3.80569179716,
                    3.82251944192,
                    3.8444851682000003,
                    3.8493019844,
                    3.868922301,
                    3.8802524518800006,
                    3.90306178,
                    3.912075379,
                    3.91368538048,
                    3.935961254897959,
                    3.94071272628,
                    3.97484672696,
                    3.9954951044000007,
                    4.002669215,
                    4.04123565788,
                    4.072890082,
                    4.09442094024,
                    4.102310561,
                    4.144346517,
                    4.15520040684,
                    4.176224580204081,
                    4.19181143044,
                    4.205821347680001,
                    4.2399956133200005,
                    4.272305656,
                    4.313114555,
                    4.3365847338,
                    4.360983427,
                    4.38850198756,
                    4.4008049192,
                    4.416487905510204,
                    4.419284971,
                    4.47740229148,
                    4.534214963,
                    4.632432017,
                    4.656751230816326,
                    4.65779123084,
                    4.71523503572,
                    4.7410437916,
                    4.827582385,
                    4.848270278,
                    4.852011679,
                    4.897014556122448,
                    4.91925232944,
                    4.936557696,
                    5.035826892040001,
                    5.05212849816,
                    5.1197934374,
                    5.137277881428571,
                    5.152971202380001,
                    5.2399744084,
                    5.342972334200001,
                    5.37025466356,
                    5.377541206734693,
                    5.530833695,
                    5.617804532040815,
                    5.654895273520001,
                    5.8580678573469385,
                    5.86196026732,
                    6.026304311919997,
                    6.098331182653061,
                    6.09872808374,
                    6.258628505640001,
                    6.338594507959183,
                    6.578857833265305,
                    6.73508712056,
                    6.819121158571428,
                    6.9974628586,
                    7.05938448387755,
                    7.2328568648000005,
                    7.299647809183672,
                    7.324461829480002,
                    7.539911134489795,
                    7.7801744597959175,
                    7.847068197,
                    8.02043778510204,
                    8.05948764292,
                    8.260701110408162,
                    8.500964435714284,
                    8.57499678932001,
                    8.741227761020408,
                    8.98149108632653,
                    9.056886508280003,
                    9.221754411632652,
                    9.462017736938774,
                    9.488301183880003,
                    9.702281062244897,
                    9.942544387551019,
                    9.98099178336,
                    10.182807712857143,
                    10.423071038163265,
                    10.61545782,
                    10.663334363469387,
                    10.903597688775509,
                    11.143861014081631,
                    11.384124339387753,
                    11.624387664693877,
                    11.86465099
                  ],
                  "xaxis": "x2",
                  "y": [
                    0.009429799246595615,
                    0.013316323728096827,
                    0.017325729612973104,
                    0.023092210891681817,
                    0.03360901207134162,
                    0.05076249388923501,
                    0.07280947974022223,
                    0.07806832843302045,
                    0.08042457629958062,
                    0.08584629202867022,
                    0.0877143358525483,
                    0.0950931092906551,
                    0.0958437395595634,
                    0.10041655557422412,
                    0.1065463708813482,
                    0.11366336991705249,
                    0.11494145684802708,
                    0.12208489722248234,
                    0.12734768091875814,
                    0.1274567884572641,
                    0.1290173123478923,
                    0.13474672500883508,
                    0.13692727316600253,
                    0.13744558463665926,
                    0.1408941045713617,
                    0.14098635825355002,
                    0.14503942358494173,
                    0.14538146805516944,
                    0.14643715885323175,
                    0.15027670003432628,
                    0.15254385887686034,
                    0.1552234750800905,
                    0.16085467432192274,
                    0.16799859796532274,
                    0.17073000441296954,
                    0.18661911231059367,
                    0.18897073368132236,
                    0.2058959568715434,
                    0.23228346132414432,
                    0.2325251295417878,
                    0.24348219036674712,
                    0.25598919968124406,
                    0.26607349061960145,
                    0.26753007707623677,
                    0.27479925642780234,
                    0.27851221258697895,
                    0.28098500046134234,
                    0.28375455773164515,
                    0.28458970493196106,
                    0.29107799824585256,
                    0.2950739512400075,
                    0.2971710402004692,
                    0.29971176421453455,
                    0.3002383246150898,
                    0.30226657353399605,
                    0.303351089718589,
                    0.30533746201895967,
                    0.30604879095745613,
                    0.30617141331543907,
                    0.3077289397591399,
                    0.3080273970089957,
                    0.3098193155549295,
                    0.31060186998732897,
                    0.31082053596111653,
                    0.3115280180185131,
                    0.31152627676710853,
                    0.3112317257956355,
                    0.31106551435935337,
                    0.3096684226612629,
                    0.30917183464626175,
                    0.30805771698866663,
                    0.30710595175092337,
                    0.3061621956385576,
                    0.3035260103419968,
                    0.3006263199218476,
                    0.29645313934376905,
                    0.2938204743414759,
                    0.29092193168274005,
                    0.28747375789143814,
                    0.2858761805541038,
                    0.2837936316403326,
                    0.28341704522622013,
                    0.27528150578279215,
                    0.2668676745261155,
                    0.251650537831753,
                    0.24780378003080003,
                    0.2476388315976784,
                    0.2384878764809341,
                    0.23435957562565024,
                    0.2204969145006751,
                    0.21718447920615536,
                    0.2165856289528129,
                    0.20938850353472474,
                    0.20583684063806154,
                    0.20307537434811485,
                    0.18728309727758066,
                    0.1846992963753813,
                    0.17401533481748058,
                    0.1712681037759154,
                    0.16880820380388595,
                    0.15530389674339412,
                    0.13975929204933754,
                    0.13575574481740676,
                    0.13469619502276864,
                    0.11357253734447541,
                    0.10279481868777501,
                    0.09850596410988359,
                    0.07846203612821663,
                    0.07813423351950421,
                    0.06602300644274799,
                    0.06165899710263646,
                    0.06163633151484975,
                    0.053568405509322764,
                    0.05022467845166927,
                    0.04246946909026602,
                    0.0391174215963462,
                    0.0378037884965455,
                    0.03586671284073892,
                    0.03536684287153129,
                    0.03407501193641109,
                    0.03353151763958665,
                    0.0333147311780169,
                    0.030998211195673777,
                    0.027598836069422268,
                    0.02658851204790265,
                    0.02413087825116798,
                    0.02365032567226653,
                    0.021954857047182016,
                    0.02219873222613185,
                    0.022760245426430813,
                    0.024504388845065256,
                    0.02681406172752025,
                    0.027164394040137027,
                    0.0270030702770996,
                    0.024633696971345025,
                    0.024262587626503365,
                    0.02089927692216417,
                    0.017214701759506568,
                    0.016685778965941915,
                    0.014246799506542175,
                    0.012034568035173658,
                    0.010724633928007857,
                    0.010454604576795186,
                    0.009373201732796163,
                    0.008545126977941,
                    0.00758986573678869,
                    0.0062073289300320295,
                    0.0044470919765905136
                  ],
                  "yaxis": "y2"
                }
              ],
              "layout": {
                "annotations": [
                  {
                    "font": {
                      "size": 16
                    },
                    "showarrow": false,
                    "text": "Drift Score (Earth Mover's Distance)",
                    "x": 0.5,
                    "xanchor": "center",
                    "xref": "paper",
                    "y": 1.0000000000000002,
                    "yanchor": "bottom",
                    "yref": "paper"
                  },
                  {
                    "font": {
                      "size": 16
                    },
                    "showarrow": false,
                    "text": "Distribution Plot",
                    "x": 0.5,
                    "xanchor": "center",
                    "xref": "paper",
                    "y": 0.7200000000000001,
                    "yanchor": "bottom",
                    "yref": "paper"
                  }
                ],
                "bargroupgap": 0,
                "height": 400,
                "legend": {
                  "title": {
                    "text": "Dataset"
                  },
                  "y": 0.6,
                  "yanchor": "top"
                },
                "template": {
                  "data": {
                    "bar": [
                      {
                        "error_x": {
                          "color": "#2a3f5f"
                        },
                        "error_y": {
                          "color": "#2a3f5f"
                        },
                        "marker": {
                          "line": {
                            "color": "#E5ECF6",
                            "width": 0.5
                          },
                          "pattern": {
                            "fillmode": "overlay",
                            "size": 10,
                            "solidity": 0.2
                          }
                        },
                        "type": "bar"
                      }
                    ],
                    "barpolar": [
                      {
                        "marker": {
                          "line": {
                            "color": "#E5ECF6",
                            "width": 0.5
                          },
                          "pattern": {
                            "fillmode": "overlay",
                            "size": 10,
                            "solidity": 0.2
                          }
                        },
                        "type": "barpolar"
                      }
                    ],
                    "carpet": [
                      {
                        "aaxis": {
                          "endlinecolor": "#2a3f5f",
                          "gridcolor": "white",
                          "linecolor": "white",
                          "minorgridcolor": "white",
                          "startlinecolor": "#2a3f5f"
                        },
                        "baxis": {
                          "endlinecolor": "#2a3f5f",
                          "gridcolor": "white",
                          "linecolor": "white",
                          "minorgridcolor": "white",
                          "startlinecolor": "#2a3f5f"
                        },
                        "type": "carpet"
                      }
                    ],
                    "choropleth": [
                      {
                        "colorbar": {
                          "outlinewidth": 0,
                          "ticks": ""
                        },
                        "type": "choropleth"
                      }
                    ],
                    "contour": [
                      {
                        "colorbar": {
                          "outlinewidth": 0,
                          "ticks": ""
                        },
                        "colorscale": [
                          [
                            0,
                            "#0d0887"
                          ],
                          [
                            0.1111111111111111,
                            "#46039f"
                          ],
                          [
                            0.2222222222222222,
                            "#7201a8"
                          ],
                          [
                            0.3333333333333333,
                            "#9c179e"
                          ],
                          [
                            0.4444444444444444,
                            "#bd3786"
                          ],
                          [
                            0.5555555555555556,
                            "#d8576b"
                          ],
                          [
                            0.6666666666666666,
                            "#ed7953"
                          ],
                          [
                            0.7777777777777778,
                            "#fb9f3a"
                          ],
                          [
                            0.8888888888888888,
                            "#fdca26"
                          ],
                          [
                            1,
                            "#f0f921"
                          ]
                        ],
                        "type": "contour"
                      }
                    ],
                    "contourcarpet": [
                      {
                        "colorbar": {
                          "outlinewidth": 0,
                          "ticks": ""
                        },
                        "type": "contourcarpet"
                      }
                    ],
                    "heatmap": [
                      {
                        "colorbar": {
                          "outlinewidth": 0,
                          "ticks": ""
                        },
                        "colorscale": [
                          [
                            0,
                            "#0d0887"
                          ],
                          [
                            0.1111111111111111,
                            "#46039f"
                          ],
                          [
                            0.2222222222222222,
                            "#7201a8"
                          ],
                          [
                            0.3333333333333333,
                            "#9c179e"
                          ],
                          [
                            0.4444444444444444,
                            "#bd3786"
                          ],
                          [
                            0.5555555555555556,
                            "#d8576b"
                          ],
                          [
                            0.6666666666666666,
                            "#ed7953"
                          ],
                          [
                            0.7777777777777778,
                            "#fb9f3a"
                          ],
                          [
                            0.8888888888888888,
                            "#fdca26"
                          ],
                          [
                            1,
                            "#f0f921"
                          ]
                        ],
                        "type": "heatmap"
                      }
                    ],
                    "heatmapgl": [
                      {
                        "colorbar": {
                          "outlinewidth": 0,
                          "ticks": ""
                        },
                        "colorscale": [
                          [
                            0,
                            "#0d0887"
                          ],
                          [
                            0.1111111111111111,
                            "#46039f"
                          ],
                          [
                            0.2222222222222222,
                            "#7201a8"
                          ],
                          [
                            0.3333333333333333,
                            "#9c179e"
                          ],
                          [
                            0.4444444444444444,
                            "#bd3786"
                          ],
                          [
                            0.5555555555555556,
                            "#d8576b"
                          ],
                          [
                            0.6666666666666666,
                            "#ed7953"
                          ],
                          [
                            0.7777777777777778,
                            "#fb9f3a"
                          ],
                          [
                            0.8888888888888888,
                            "#fdca26"
                          ],
                          [
                            1,
                            "#f0f921"
                          ]
                        ],
                        "type": "heatmapgl"
                      }
                    ],
                    "histogram": [
                      {
                        "marker": {
                          "pattern": {
                            "fillmode": "overlay",
                            "size": 10,
                            "solidity": 0.2
                          }
                        },
                        "type": "histogram"
                      }
                    ],
                    "histogram2d": [
                      {
                        "colorbar": {
                          "outlinewidth": 0,
                          "ticks": ""
                        },
                        "colorscale": [
                          [
                            0,
                            "#0d0887"
                          ],
                          [
                            0.1111111111111111,
                            "#46039f"
                          ],
                          [
                            0.2222222222222222,
                            "#7201a8"
                          ],
                          [
                            0.3333333333333333,
                            "#9c179e"
                          ],
                          [
                            0.4444444444444444,
                            "#bd3786"
                          ],
                          [
                            0.5555555555555556,
                            "#d8576b"
                          ],
                          [
                            0.6666666666666666,
                            "#ed7953"
                          ],
                          [
                            0.7777777777777778,
                            "#fb9f3a"
                          ],
                          [
                            0.8888888888888888,
                            "#fdca26"
                          ],
                          [
                            1,
                            "#f0f921"
                          ]
                        ],
                        "type": "histogram2d"
                      }
                    ],
                    "histogram2dcontour": [
                      {
                        "colorbar": {
                          "outlinewidth": 0,
                          "ticks": ""
                        },
                        "colorscale": [
                          [
                            0,
                            "#0d0887"
                          ],
                          [
                            0.1111111111111111,
                            "#46039f"
                          ],
                          [
                            0.2222222222222222,
                            "#7201a8"
                          ],
                          [
                            0.3333333333333333,
                            "#9c179e"
                          ],
                          [
                            0.4444444444444444,
                            "#bd3786"
                          ],
                          [
                            0.5555555555555556,
                            "#d8576b"
                          ],
                          [
                            0.6666666666666666,
                            "#ed7953"
                          ],
                          [
                            0.7777777777777778,
                            "#fb9f3a"
                          ],
                          [
                            0.8888888888888888,
                            "#fdca26"
                          ],
                          [
                            1,
                            "#f0f921"
                          ]
                        ],
                        "type": "histogram2dcontour"
                      }
                    ],
                    "mesh3d": [
                      {
                        "colorbar": {
                          "outlinewidth": 0,
                          "ticks": ""
                        },
                        "type": "mesh3d"
                      }
                    ],
                    "parcoords": [
                      {
                        "line": {
                          "colorbar": {
                            "outlinewidth": 0,
                            "ticks": ""
                          }
                        },
                        "type": "parcoords"
                      }
                    ],
                    "pie": [
                      {
                        "automargin": true,
                        "type": "pie"
                      }
                    ],
                    "scatter": [
                      {
                        "marker": {
                          "colorbar": {
                            "outlinewidth": 0,
                            "ticks": ""
                          }
                        },
                        "type": "scatter"
                      }
                    ],
                    "scatter3d": [
                      {
                        "line": {
                          "colorbar": {
                            "outlinewidth": 0,
                            "ticks": ""
                          }
                        },
                        "marker": {
                          "colorbar": {
                            "outlinewidth": 0,
                            "ticks": ""
                          }
                        },
                        "type": "scatter3d"
                      }
                    ],
                    "scattercarpet": [
                      {
                        "marker": {
                          "colorbar": {
                            "outlinewidth": 0,
                            "ticks": ""
                          }
                        },
                        "type": "scattercarpet"
                      }
                    ],
                    "scattergeo": [
                      {
                        "marker": {
                          "colorbar": {
                            "outlinewidth": 0,
                            "ticks": ""
                          }
                        },
                        "type": "scattergeo"
                      }
                    ],
                    "scattergl": [
                      {
                        "marker": {
                          "colorbar": {
                            "outlinewidth": 0,
                            "ticks": ""
                          }
                        },
                        "type": "scattergl"
                      }
                    ],
                    "scattermapbox": [
                      {
                        "marker": {
                          "colorbar": {
                            "outlinewidth": 0,
                            "ticks": ""
                          }
                        },
                        "type": "scattermapbox"
                      }
                    ],
                    "scatterpolar": [
                      {
                        "marker": {
                          "colorbar": {
                            "outlinewidth": 0,
                            "ticks": ""
                          }
                        },
                        "type": "scatterpolar"
                      }
                    ],
                    "scatterpolargl": [
                      {
                        "marker": {
                          "colorbar": {
                            "outlinewidth": 0,
                            "ticks": ""
                          }
                        },
                        "type": "scatterpolargl"
                      }
                    ],
                    "scatterternary": [
                      {
                        "marker": {
                          "colorbar": {
                            "outlinewidth": 0,
                            "ticks": ""
                          }
                        },
                        "type": "scatterternary"
                      }
                    ],
                    "surface": [
                      {
                        "colorbar": {
                          "outlinewidth": 0,
                          "ticks": ""
                        },
                        "colorscale": [
                          [
                            0,
                            "#0d0887"
                          ],
                          [
                            0.1111111111111111,
                            "#46039f"
                          ],
                          [
                            0.2222222222222222,
                            "#7201a8"
                          ],
                          [
                            0.3333333333333333,
                            "#9c179e"
                          ],
                          [
                            0.4444444444444444,
                            "#bd3786"
                          ],
                          [
                            0.5555555555555556,
                            "#d8576b"
                          ],
                          [
                            0.6666666666666666,
                            "#ed7953"
                          ],
                          [
                            0.7777777777777778,
                            "#fb9f3a"
                          ],
                          [
                            0.8888888888888888,
                            "#fdca26"
                          ],
                          [
                            1,
                            "#f0f921"
                          ]
                        ],
                        "type": "surface"
                      }
                    ],
                    "table": [
                      {
                        "cells": {
                          "fill": {
                            "color": "#EBF0F8"
                          },
                          "line": {
                            "color": "white"
                          }
                        },
                        "header": {
                          "fill": {
                            "color": "#C8D4E3"
                          },
                          "line": {
                            "color": "white"
                          }
                        },
                        "type": "table"
                      }
                    ]
                  },
                  "layout": {
                    "annotationdefaults": {
                      "arrowcolor": "#2a3f5f",
                      "arrowhead": 0,
                      "arrowwidth": 1
                    },
                    "autotypenumbers": "strict",
                    "coloraxis": {
                      "colorbar": {
                        "outlinewidth": 0,
                        "ticks": ""
                      }
                    },
                    "colorscale": {
                      "diverging": [
                        [
                          0,
                          "#8e0152"
                        ],
                        [
                          0.1,
                          "#c51b7d"
                        ],
                        [
                          0.2,
                          "#de77ae"
                        ],
                        [
                          0.3,
                          "#f1b6da"
                        ],
                        [
                          0.4,
                          "#fde0ef"
                        ],
                        [
                          0.5,
                          "#f7f7f7"
                        ],
                        [
                          0.6,
                          "#e6f5d0"
                        ],
                        [
                          0.7,
                          "#b8e186"
                        ],
                        [
                          0.8,
                          "#7fbc41"
                        ],
                        [
                          0.9,
                          "#4d9221"
                        ],
                        [
                          1,
                          "#276419"
                        ]
                      ],
                      "sequential": [
                        [
                          0,
                          "#0d0887"
                        ],
                        [
                          0.1111111111111111,
                          "#46039f"
                        ],
                        [
                          0.2222222222222222,
                          "#7201a8"
                        ],
                        [
                          0.3333333333333333,
                          "#9c179e"
                        ],
                        [
                          0.4444444444444444,
                          "#bd3786"
                        ],
                        [
                          0.5555555555555556,
                          "#d8576b"
                        ],
                        [
                          0.6666666666666666,
                          "#ed7953"
                        ],
                        [
                          0.7777777777777778,
                          "#fb9f3a"
                        ],
                        [
                          0.8888888888888888,
                          "#fdca26"
                        ],
                        [
                          1,
                          "#f0f921"
                        ]
                      ],
                      "sequentialminus": [
                        [
                          0,
                          "#0d0887"
                        ],
                        [
                          0.1111111111111111,
                          "#46039f"
                        ],
                        [
                          0.2222222222222222,
                          "#7201a8"
                        ],
                        [
                          0.3333333333333333,
                          "#9c179e"
                        ],
                        [
                          0.4444444444444444,
                          "#bd3786"
                        ],
                        [
                          0.5555555555555556,
                          "#d8576b"
                        ],
                        [
                          0.6666666666666666,
                          "#ed7953"
                        ],
                        [
                          0.7777777777777778,
                          "#fb9f3a"
                        ],
                        [
                          0.8888888888888888,
                          "#fdca26"
                        ],
                        [
                          1,
                          "#f0f921"
                        ]
                      ]
                    },
                    "colorway": [
                      "#636efa",
                      "#EF553B",
                      "#00cc96",
                      "#ab63fa",
                      "#FFA15A",
                      "#19d3f3",
                      "#FF6692",
                      "#B6E880",
                      "#FF97FF",
                      "#FECB52"
                    ],
                    "font": {
                      "color": "#2a3f5f"
                    },
                    "geo": {
                      "bgcolor": "white",
                      "lakecolor": "white",
                      "landcolor": "#E5ECF6",
                      "showlakes": true,
                      "showland": true,
                      "subunitcolor": "white"
                    },
                    "hoverlabel": {
                      "align": "left"
                    },
                    "hovermode": "closest",
                    "mapbox": {
                      "style": "light"
                    },
                    "paper_bgcolor": "white",
                    "plot_bgcolor": "#E5ECF6",
                    "polar": {
                      "angularaxis": {
                        "gridcolor": "white",
                        "linecolor": "white",
                        "ticks": ""
                      },
                      "bgcolor": "#E5ECF6",
                      "radialaxis": {
                        "gridcolor": "white",
                        "linecolor": "white",
                        "ticks": ""
                      }
                    },
                    "scene": {
                      "xaxis": {
                        "backgroundcolor": "#E5ECF6",
                        "gridcolor": "white",
                        "gridwidth": 2,
                        "linecolor": "white",
                        "showbackground": true,
                        "ticks": "",
                        "zerolinecolor": "white"
                      },
                      "yaxis": {
                        "backgroundcolor": "#E5ECF6",
                        "gridcolor": "white",
                        "gridwidth": 2,
                        "linecolor": "white",
                        "showbackground": true,
                        "ticks": "",
                        "zerolinecolor": "white"
                      },
                      "zaxis": {
                        "backgroundcolor": "#E5ECF6",
                        "gridcolor": "white",
                        "gridwidth": 2,
                        "linecolor": "white",
                        "showbackground": true,
                        "ticks": "",
                        "zerolinecolor": "white"
                      }
                    },
                    "shapedefaults": {
                      "line": {
                        "color": "#2a3f5f"
                      }
                    },
                    "ternary": {
                      "aaxis": {
                        "gridcolor": "white",
                        "linecolor": "white",
                        "ticks": ""
                      },
                      "baxis": {
                        "gridcolor": "white",
                        "linecolor": "white",
                        "ticks": ""
                      },
                      "bgcolor": "#E5ECF6",
                      "caxis": {
                        "gridcolor": "white",
                        "linecolor": "white",
                        "ticks": ""
                      }
                    },
                    "title": {
                      "x": 0.05
                    },
                    "xaxis": {
                      "automargin": true,
                      "gridcolor": "white",
                      "linecolor": "white",
                      "ticks": "",
                      "title": {
                        "standoff": 15
                      },
                      "zerolinecolor": "white",
                      "zerolinewidth": 2
                    },
                    "yaxis": {
                      "automargin": true,
                      "gridcolor": "white",
                      "linecolor": "white",
                      "ticks": "",
                      "title": {
                        "standoff": 15
                      },
                      "zerolinecolor": "white",
                      "zerolinewidth": 2
                    }
                  }
                },
                "title": {
                  "text": "τ (#1 in FI)",
                  "x": 0.5,
                  "xanchor": "center"
                },
                "width": 700,
                "xaxis": {
                  "anchor": "y",
                  "domain": [
                    0,
                    1
                  ],
                  "dtick": 0.05,
                  "fixedrange": true,
                  "gridcolor": "black",
                  "linecolor": "black",
                  "range": [
                    0,
                    0.4
                  ],
                  "showgrid": false
                },
                "xaxis2": {
                  "anchor": "y2",
                  "domain": [
                    0,
                    1
                  ],
                  "fixedrange": false,
                  "range": [
                    1.58829778152,
                    10.61545782
                  ],
                  "title": {
                    "text": "τ"
                  }
                },
                "yaxis": {
                  "anchor": "x",
                  "color": "black",
                  "domain": [
                    0.9200000000000002,
                    1
                  ],
                  "fixedrange": true,
                  "showgrid": false,
                  "showline": false,
                  "showticklabels": false,
                  "zeroline": false
                },
                "yaxis2": {
                  "anchor": "x2",
                  "domain": [
                    0,
                    0.7200000000000001
                  ],
                  "fixedrange": true,
                  "title": {
                    "text": "Probability Density"
                  }
                }
              }
            }
          },
          "metadata": {},
          "output_type": "display_data"
        },
        {
          "data": {
            "text/html": []
          },
          "metadata": {},
          "output_type": "display_data"
        },
        {
          "data": {
            "application/vnd.plotly.v1+json": {
              "config": {
                "plotlyServerURL": "https://plot.ly"
              },
              "data": [
                {
                  "base": 0,
                  "marker": {
                    "color": "#01B8AA"
                  },
                  "offsetgroup": "0",
                  "orientation": "h",
                  "showlegend": false,
                  "type": "bar",
                  "x": [
                    0.005996165273146223
                  ],
                  "xaxis": "x",
                  "y": [
                    "Drift Score"
                  ],
                  "yaxis": "y"
                },
                {
                  "fill": "tozeroy",
                  "line": {
                    "color": "#00008b"
                  },
                  "name": "Train Dataset",
                  "type": "scatter",
                  "x": [
                    0.546698298,
                    0.5595680234285715,
                    0.5724377488571429,
                    0.5853074742857143,
                    0.5981771997142857,
                    0.6110469251428572,
                    0.6239166505714286,
                    0.6367863760000001,
                    0.6496561014285714,
                    0.6625258268571429,
                    0.6753955522857144,
                    0.6882652777142857,
                    0.7011350031428571,
                    0.7140047285714286,
                    0.7268744540000001,
                    0.7397441794285715,
                    0.752613904857143,
                    0.7529240952,
                    0.75809387096,
                    0.75980279848,
                    0.762839335,
                    0.7654836302857143,
                    0.76777508264,
                    0.7682262362800001,
                    0.77370400792,
                    0.7767783875200001,
                    0.7783533557142858,
                    0.7785619183,
                    0.7849700536,
                    0.78573522436,
                    0.7912230811428572,
                    0.79354509258,
                    0.79364318248,
                    0.79832100856,
                    0.80146613688,
                    0.801621054,
                    0.80355704892,
                    0.8040928065714286,
                    0.8091969211,
                    0.811863341,
                    0.81563945,
                    0.816962532,
                    0.82013928548,
                    0.820482552,
                    0.82173873528,
                    0.822138506,
                    0.826091095,
                    0.8274250559999999,
                    0.828529158,
                    0.8298322574285715,
                    0.83014917376,
                    0.8309488378,
                    0.8328912584,
                    0.834677592,
                    0.836492277,
                    0.83867709632,
                    0.838885772,
                    0.842379383,
                    0.8427019828571429,
                    0.8437075098400001,
                    0.84590188024,
                    0.848528137,
                    0.848528137,
                    0.8506316534199999,
                    0.8536355166,
                    0.85542674,
                    0.8555717082857144,
                    0.85671921544,
                    0.85915085032,
                    0.859354653,
                    0.86121356144,
                    0.86319244388,
                    0.86425651532,
                    0.865972181,
                    0.867982927,
                    0.8684414337142858,
                    0.869223946,
                    0.87026601492,
                    0.87448654042,
                    0.87511801148,
                    0.8777335435600001,
                    0.87853509316,
                    0.8813111591428573,
                    0.882133212,
                    0.8822411184000001,
                    0.8863587314,
                    0.8891138776,
                    0.890164882,
                    0.893525842,
                    0.8941808845714286,
                    0.8968160522799999,
                    0.8985104793600001,
                    0.9027655743999999,
                    0.90282737184,
                    0.9070506100000001,
                    0.907836261,
                    0.90989130732,
                    0.914305512,
                    0.9199203354285714,
                    0.9201858642,
                    0.92465655632,
                    0.928944203,
                    0.930036998,
                    0.9327900608571429,
                    0.93359206788,
                    0.93492812528,
                    0.942809042,
                    0.9433663671200001,
                    0.9456597862857143,
                    0.9487520808,
                    0.9518607059599999,
                    0.9563691476000001,
                    0.95693625234,
                    0.9585295117142858,
                    0.9627530247599999,
                    0.9640647607200001,
                    0.96660110544,
                    0.9713992371428573,
                    0.973146956,
                    0.9736227560799999,
                    0.98199894016,
                    0.9842689625714287,
                    0.9904437821600001,
                    0.9933671292,
                    0.9971386880000002,
                    1.0061234256,
                    1.0089520729199999,
                    1.0100084134285714,
                    1.01343372532,
                    1.022878138857143,
                    1.026903818,
                    1.028518954,
                    1.0357478642857143,
                    1.0486175897142858,
                    1.0536646059600001,
                    1.053727752,
                    1.0614873151428572,
                    1.0696270204,
                    1.0743570405714287,
                    1.08145743,
                    1.0872267660000001,
                    1.1000964914285716,
                    1.112966216857143,
                    1.1258359422857143,
                    1.138705667714286,
                    1.1515753931428572,
                    1.1644451185714288,
                    1.177314844
                  ],
                  "xaxis": "x2",
                  "y": [
                    0.025243097938862324,
                    0.03560283326702643,
                    0.05126323007458702,
                    0.06886600737458938,
                    0.07865908936025859,
                    0.07602618127260924,
                    0.06392174255738103,
                    0.046272146834430004,
                    0.027281690495002963,
                    0.012487184158139526,
                    0.005597183058230358,
                    0.01051164787492997,
                    0.045802822777715926,
                    0.1665133908553986,
                    0.4645370916150284,
                    1.000017175375792,
                    1.6928696733577078,
                    1.7098332762900803,
                    1.9846909262136776,
                    2.0709110780721893,
                    2.2165215707142876,
                    2.334433042832816,
                    2.4295031956682096,
                    2.447439046985775,
                    2.645901993018307,
                    2.7439819709526794,
                    2.7915800627758953,
                    2.79778130458195,
                    2.98391901512503,
                    3.0064652209245635,
                    3.1796287570224755,
                    3.261940055090539,
                    3.2655663584976113,
                    3.4542766140664867,
                    3.59958915163739,
                    3.607132846200222,
                    3.7043544433976283,
                    3.7321936332323498,
                    4.014900771056782,
                    4.172039767705286,
                    4.399167181134386,
                    4.478614238116569,
                    4.665743483698543,
                    4.685491947841197,
                    4.756710927342493,
                    4.778994143600485,
                    4.986938735067638,
                    5.051108576952022,
                    5.10156580744192,
                    5.157811837510934,
                    5.170927241248992,
                    5.203008659464636,
                    5.274689734887998,
                    5.332480670651718,
                    5.382933078931918,
                    5.432417204507233,
                    5.436496112647433,
                    5.488103770268875,
                    5.4912977328345525,
                    5.499579611762895,
                    5.509021079613281,
                    5.505355468445017,
                    5.505355468445017,
                    5.49131343484329,
                    5.455401795841083,
                    5.425776471405907,
                    5.423126337326367,
                    5.400867038878384,
                    5.346539749883787,
                    5.341567136349342,
                    5.293404101954016,
                    5.236892107516235,
                    5.204430770832774,
                    5.14925624509299,
                    5.080471141067298,
                    5.06420624645934,
                    5.035978031385711,
                    4.997504574877936,
                    4.8325189921855305,
                    4.806722247002883,
                    4.697328289128999,
                    4.663078574433845,
                    4.542373412039599,
                    4.506127469272169,
                    4.501356072994064,
                    4.317774991878793,
                    4.194612345004545,
                    4.147883993150082,
                    4.000497645304061,
                    3.972272184045457,
                    3.860949216097039,
                    3.7915991217671245,
                    3.6270270006672023,
                    3.6247501072276425,
                    3.477768695703794,
                    3.4523897322029113,
                    3.389047085558099,
                    3.268031516013438,
                    3.142540055269891,
                    3.1373274074240523,
                    3.0579196888774183,
                    2.993789478934062,
                    2.978806486071711,
                    2.94269692465671,
                    2.9324927893916017,
                    2.91567894909248,
                    2.81488698681053,
                    2.8072910331311833,
                    2.774902855604963,
                    2.7278163870733083,
                    2.6758043814757624,
                    2.590968915348946,
                    2.579472391305858,
                    2.546176896510864,
                    2.450940474455301,
                    2.4193923511574895,
                    2.3559689374584587,
                    2.2285232932411225,
                    2.180203510974362,
                    2.166916405008996,
                    1.9287688610963565,
                    1.8645925554408407,
                    1.695962331715698,
                    1.6204988907229467,
                    1.5282321912285874,
                    1.3327475773270474,
                    1.2778812262925192,
                    1.2581284627715337,
                    1.196636928706265,
                    1.0451981209709695,
                    0.9882969794200851,
                    0.9668076381411755,
                    0.8809247831480573,
                    0.7743714056087397,
                    0.747991414023579,
                    0.7477049609507983,
                    0.7178334183536577,
                    0.6885066960888808,
                    0.6666349616475719,
                    0.6213322908908416,
                    0.571788010006322,
                    0.42930156276846565,
                    0.27933320081626495,
                    0.16319008896442203,
                    0.09658281009798168,
                    0.07041043641244127,
                    0.062235681577042165,
                    0.05198940359067569
                  ],
                  "yaxis": "y2"
                },
                {
                  "fill": "tozeroy",
                  "line": {
                    "color": "#69b3a2"
                  },
                  "name": "Test Dataset",
                  "type": "scatter",
                  "x": [
                    0.546698298,
                    0.5595680234285715,
                    0.5724377488571429,
                    0.5853074742857143,
                    0.5981771997142857,
                    0.6110469251428572,
                    0.6239166505714286,
                    0.6367863760000001,
                    0.6496561014285714,
                    0.6625258268571429,
                    0.6753955522857144,
                    0.6882652777142857,
                    0.7011350031428571,
                    0.7140047285714286,
                    0.7268744540000001,
                    0.7397441794285715,
                    0.752613904857143,
                    0.7529240952,
                    0.75809387096,
                    0.75980279848,
                    0.762839335,
                    0.7654836302857143,
                    0.76777508264,
                    0.7682262362800001,
                    0.77370400792,
                    0.7767783875200001,
                    0.7783533557142858,
                    0.7785619183,
                    0.7849700536,
                    0.78573522436,
                    0.7912230811428572,
                    0.79354509258,
                    0.79364318248,
                    0.79832100856,
                    0.80146613688,
                    0.801621054,
                    0.80355704892,
                    0.8040928065714286,
                    0.8091969211,
                    0.811863341,
                    0.81563945,
                    0.816962532,
                    0.82013928548,
                    0.820482552,
                    0.82173873528,
                    0.822138506,
                    0.826091095,
                    0.8274250559999999,
                    0.828529158,
                    0.8298322574285715,
                    0.83014917376,
                    0.8309488378,
                    0.8328912584,
                    0.834677592,
                    0.836492277,
                    0.83867709632,
                    0.838885772,
                    0.842379383,
                    0.8427019828571429,
                    0.8437075098400001,
                    0.84590188024,
                    0.848528137,
                    0.848528137,
                    0.8506316534199999,
                    0.8536355166,
                    0.85542674,
                    0.8555717082857144,
                    0.85671921544,
                    0.85915085032,
                    0.859354653,
                    0.86121356144,
                    0.86319244388,
                    0.86425651532,
                    0.865972181,
                    0.867982927,
                    0.8684414337142858,
                    0.869223946,
                    0.87026601492,
                    0.87448654042,
                    0.87511801148,
                    0.8777335435600001,
                    0.87853509316,
                    0.8813111591428573,
                    0.882133212,
                    0.8822411184000001,
                    0.8863587314,
                    0.8891138776,
                    0.890164882,
                    0.893525842,
                    0.8941808845714286,
                    0.8968160522799999,
                    0.8985104793600001,
                    0.9027655743999999,
                    0.90282737184,
                    0.9070506100000001,
                    0.907836261,
                    0.90989130732,
                    0.914305512,
                    0.9199203354285714,
                    0.9201858642,
                    0.92465655632,
                    0.928944203,
                    0.930036998,
                    0.9327900608571429,
                    0.93359206788,
                    0.93492812528,
                    0.942809042,
                    0.9433663671200001,
                    0.9456597862857143,
                    0.9487520808,
                    0.9518607059599999,
                    0.9563691476000001,
                    0.95693625234,
                    0.9585295117142858,
                    0.9627530247599999,
                    0.9640647607200001,
                    0.96660110544,
                    0.9713992371428573,
                    0.973146956,
                    0.9736227560799999,
                    0.98199894016,
                    0.9842689625714287,
                    0.9904437821600001,
                    0.9933671292,
                    0.9971386880000002,
                    1.0061234256,
                    1.0089520729199999,
                    1.0100084134285714,
                    1.01343372532,
                    1.022878138857143,
                    1.026903818,
                    1.028518954,
                    1.0357478642857143,
                    1.0486175897142858,
                    1.0536646059600001,
                    1.053727752,
                    1.0614873151428572,
                    1.0696270204,
                    1.0743570405714287,
                    1.08145743,
                    1.0872267660000001,
                    1.1000964914285716,
                    1.112966216857143,
                    1.1258359422857143,
                    1.138705667714286,
                    1.1515753931428572,
                    1.1644451185714288,
                    1.177314844
                  ],
                  "xaxis": "x2",
                  "y": [
                    0.02839418091046584,
                    0.06773649271910133,
                    0.11699553457290755,
                    0.1474097689635189,
                    0.13622306262387027,
                    0.09248832816682451,
                    0.04601255588017686,
                    0.016668474993444593,
                    0.004370793106488255,
                    0.0009386729213981931,
                    0.0011524869727336433,
                    0.006739756042529783,
                    0.03318489533955672,
                    0.12609687238726658,
                    0.36950854057665583,
                    0.8373053644169772,
                    1.4922835887261658,
                    1.509171280696537,
                    1.7908224247423548,
                    1.8829325486115471,
                    2.043859053424868,
                    2.1802938219945203,
                    2.2952812959434254,
                    2.317547698888954,
                    2.578110565128218,
                    2.7169986310490857,
                    2.7864128638529237,
                    2.7955266169123383,
                    3.06874226521227,
                    3.100735958242369,
                    3.3287653300597446,
                    3.42523023266609,
                    3.4293124022582475,
                    3.6250746830980383,
                    3.758171566053911,
                    3.764760042152081,
                    3.8473391928857614,
                    3.8702663398797004,
                    4.0897977487769355,
                    4.204661512772057,
                    4.366148958495203,
                    4.422076609467956,
                    4.55412742878467,
                    4.568162463451019,
                    4.619058150106399,
                    4.6350911110377435,
                    4.788542846836368,
                    4.83791779083305,
                    4.877719456930412,
                    4.923355874957247,
                    4.934224071889781,
                    4.961228570622644,
                    5.024193188561815,
                    5.078566830866589,
                    5.1300527177204955,
                    5.186630703216674,
                    5.191709141282376,
                    5.267720680811339,
                    5.273844124552581,
                    5.2919102828071125,
                    5.325785136428343,
                    5.35577019107266,
                    5.35577019107266,
                    5.370994566140263,
                    5.378384490577908,
                    5.374408607400663,
                    5.373805864958642,
                    5.36753103691008,
                    5.34530500132556,
                    5.3428860647177085,
                    5.31683046952287,
                    5.2811930246041205,
                    5.258685959516468,
                    5.217544372629981,
                    5.161886282868837,
                    5.148101366938665,
                    5.123662399287466,
                    5.089368930090462,
                    4.931482307183497,
                    4.90545929622857,
                    4.791899971341008,
                    4.755406023888616,
                    4.6238626953166095,
                    4.583592489008261,
                    4.578268029936496,
                    4.369930230700963,
                    4.227147864633201,
                    4.172490741345884,
                    3.9986671625674868,
                    3.9651586130983665,
                    3.8323826296342607,
                    3.749196217423266,
                    3.550419678689956,
                    3.547656639670463,
                    3.3686714397272377,
                    3.3376754049040964,
                    3.260301952540281,
                    3.1133301678257372,
                    2.966506800505186,
                    2.9606931964700474,
                    2.877734949861189,
                    2.8229750883483757,
                    2.8124865735446782,
                    2.791450405432066,
                    2.7866156976596614,
                    2.779674880119623,
                    2.7559917919901986,
                    2.754677949436578,
                    2.7485654967433213,
                    2.7368470530151576,
                    2.7184462719966187,
                    2.675128184226825,
                    2.6680522020914217,
                    2.646079078063304,
                    2.572568779032333,
                    2.545289431855616,
                    2.486974965553275,
                    2.359651210292427,
                    2.309120129595165,
                    2.295094017891783,
                    2.0423857289488216,
                    1.976245800098035,
                    1.8119864545229707,
                    1.7439908181057358,
                    1.6657569489770567,
                    1.5130606162275249,
                    1.4708384068524882,
                    1.4553860281214268,
                    1.405808851941196,
                    1.2688705832024234,
                    1.2109763676060774,
                    1.1882493451932488,
                    1.0930600144022327,
                    0.9563411212452905,
                    0.9087603834558544,
                    0.9081585585145506,
                    0.8292089945125197,
                    0.7302803063039357,
                    0.6655277181693473,
                    0.5644897335285229,
                    0.4856249788871526,
                    0.34300194153241836,
                    0.24894068612359063,
                    0.17866919297187056,
                    0.1167143574422053,
                    0.0650302974854415,
                    0.029208312800189592,
                    0.010027525319524869
                  ],
                  "yaxis": "y2"
                }
              ],
              "layout": {
                "annotations": [
                  {
                    "font": {
                      "size": 16
                    },
                    "showarrow": false,
                    "text": "Drift Score (Earth Mover's Distance)",
                    "x": 0.5,
                    "xanchor": "center",
                    "xref": "paper",
                    "y": 1.0000000000000002,
                    "yanchor": "bottom",
                    "yref": "paper"
                  },
                  {
                    "font": {
                      "size": 16
                    },
                    "showarrow": false,
                    "text": "Distribution Plot",
                    "x": 0.5,
                    "xanchor": "center",
                    "xref": "paper",
                    "y": 0.7200000000000001,
                    "yanchor": "bottom",
                    "yref": "paper"
                  }
                ],
                "bargroupgap": 0,
                "height": 400,
                "legend": {
                  "title": {
                    "text": "Dataset"
                  },
                  "y": 0.6,
                  "yanchor": "top"
                },
                "template": {
                  "data": {
                    "bar": [
                      {
                        "error_x": {
                          "color": "#2a3f5f"
                        },
                        "error_y": {
                          "color": "#2a3f5f"
                        },
                        "marker": {
                          "line": {
                            "color": "#E5ECF6",
                            "width": 0.5
                          },
                          "pattern": {
                            "fillmode": "overlay",
                            "size": 10,
                            "solidity": 0.2
                          }
                        },
                        "type": "bar"
                      }
                    ],
                    "barpolar": [
                      {
                        "marker": {
                          "line": {
                            "color": "#E5ECF6",
                            "width": 0.5
                          },
                          "pattern": {
                            "fillmode": "overlay",
                            "size": 10,
                            "solidity": 0.2
                          }
                        },
                        "type": "barpolar"
                      }
                    ],
                    "carpet": [
                      {
                        "aaxis": {
                          "endlinecolor": "#2a3f5f",
                          "gridcolor": "white",
                          "linecolor": "white",
                          "minorgridcolor": "white",
                          "startlinecolor": "#2a3f5f"
                        },
                        "baxis": {
                          "endlinecolor": "#2a3f5f",
                          "gridcolor": "white",
                          "linecolor": "white",
                          "minorgridcolor": "white",
                          "startlinecolor": "#2a3f5f"
                        },
                        "type": "carpet"
                      }
                    ],
                    "choropleth": [
                      {
                        "colorbar": {
                          "outlinewidth": 0,
                          "ticks": ""
                        },
                        "type": "choropleth"
                      }
                    ],
                    "contour": [
                      {
                        "colorbar": {
                          "outlinewidth": 0,
                          "ticks": ""
                        },
                        "colorscale": [
                          [
                            0,
                            "#0d0887"
                          ],
                          [
                            0.1111111111111111,
                            "#46039f"
                          ],
                          [
                            0.2222222222222222,
                            "#7201a8"
                          ],
                          [
                            0.3333333333333333,
                            "#9c179e"
                          ],
                          [
                            0.4444444444444444,
                            "#bd3786"
                          ],
                          [
                            0.5555555555555556,
                            "#d8576b"
                          ],
                          [
                            0.6666666666666666,
                            "#ed7953"
                          ],
                          [
                            0.7777777777777778,
                            "#fb9f3a"
                          ],
                          [
                            0.8888888888888888,
                            "#fdca26"
                          ],
                          [
                            1,
                            "#f0f921"
                          ]
                        ],
                        "type": "contour"
                      }
                    ],
                    "contourcarpet": [
                      {
                        "colorbar": {
                          "outlinewidth": 0,
                          "ticks": ""
                        },
                        "type": "contourcarpet"
                      }
                    ],
                    "heatmap": [
                      {
                        "colorbar": {
                          "outlinewidth": 0,
                          "ticks": ""
                        },
                        "colorscale": [
                          [
                            0,
                            "#0d0887"
                          ],
                          [
                            0.1111111111111111,
                            "#46039f"
                          ],
                          [
                            0.2222222222222222,
                            "#7201a8"
                          ],
                          [
                            0.3333333333333333,
                            "#9c179e"
                          ],
                          [
                            0.4444444444444444,
                            "#bd3786"
                          ],
                          [
                            0.5555555555555556,
                            "#d8576b"
                          ],
                          [
                            0.6666666666666666,
                            "#ed7953"
                          ],
                          [
                            0.7777777777777778,
                            "#fb9f3a"
                          ],
                          [
                            0.8888888888888888,
                            "#fdca26"
                          ],
                          [
                            1,
                            "#f0f921"
                          ]
                        ],
                        "type": "heatmap"
                      }
                    ],
                    "heatmapgl": [
                      {
                        "colorbar": {
                          "outlinewidth": 0,
                          "ticks": ""
                        },
                        "colorscale": [
                          [
                            0,
                            "#0d0887"
                          ],
                          [
                            0.1111111111111111,
                            "#46039f"
                          ],
                          [
                            0.2222222222222222,
                            "#7201a8"
                          ],
                          [
                            0.3333333333333333,
                            "#9c179e"
                          ],
                          [
                            0.4444444444444444,
                            "#bd3786"
                          ],
                          [
                            0.5555555555555556,
                            "#d8576b"
                          ],
                          [
                            0.6666666666666666,
                            "#ed7953"
                          ],
                          [
                            0.7777777777777778,
                            "#fb9f3a"
                          ],
                          [
                            0.8888888888888888,
                            "#fdca26"
                          ],
                          [
                            1,
                            "#f0f921"
                          ]
                        ],
                        "type": "heatmapgl"
                      }
                    ],
                    "histogram": [
                      {
                        "marker": {
                          "pattern": {
                            "fillmode": "overlay",
                            "size": 10,
                            "solidity": 0.2
                          }
                        },
                        "type": "histogram"
                      }
                    ],
                    "histogram2d": [
                      {
                        "colorbar": {
                          "outlinewidth": 0,
                          "ticks": ""
                        },
                        "colorscale": [
                          [
                            0,
                            "#0d0887"
                          ],
                          [
                            0.1111111111111111,
                            "#46039f"
                          ],
                          [
                            0.2222222222222222,
                            "#7201a8"
                          ],
                          [
                            0.3333333333333333,
                            "#9c179e"
                          ],
                          [
                            0.4444444444444444,
                            "#bd3786"
                          ],
                          [
                            0.5555555555555556,
                            "#d8576b"
                          ],
                          [
                            0.6666666666666666,
                            "#ed7953"
                          ],
                          [
                            0.7777777777777778,
                            "#fb9f3a"
                          ],
                          [
                            0.8888888888888888,
                            "#fdca26"
                          ],
                          [
                            1,
                            "#f0f921"
                          ]
                        ],
                        "type": "histogram2d"
                      }
                    ],
                    "histogram2dcontour": [
                      {
                        "colorbar": {
                          "outlinewidth": 0,
                          "ticks": ""
                        },
                        "colorscale": [
                          [
                            0,
                            "#0d0887"
                          ],
                          [
                            0.1111111111111111,
                            "#46039f"
                          ],
                          [
                            0.2222222222222222,
                            "#7201a8"
                          ],
                          [
                            0.3333333333333333,
                            "#9c179e"
                          ],
                          [
                            0.4444444444444444,
                            "#bd3786"
                          ],
                          [
                            0.5555555555555556,
                            "#d8576b"
                          ],
                          [
                            0.6666666666666666,
                            "#ed7953"
                          ],
                          [
                            0.7777777777777778,
                            "#fb9f3a"
                          ],
                          [
                            0.8888888888888888,
                            "#fdca26"
                          ],
                          [
                            1,
                            "#f0f921"
                          ]
                        ],
                        "type": "histogram2dcontour"
                      }
                    ],
                    "mesh3d": [
                      {
                        "colorbar": {
                          "outlinewidth": 0,
                          "ticks": ""
                        },
                        "type": "mesh3d"
                      }
                    ],
                    "parcoords": [
                      {
                        "line": {
                          "colorbar": {
                            "outlinewidth": 0,
                            "ticks": ""
                          }
                        },
                        "type": "parcoords"
                      }
                    ],
                    "pie": [
                      {
                        "automargin": true,
                        "type": "pie"
                      }
                    ],
                    "scatter": [
                      {
                        "marker": {
                          "colorbar": {
                            "outlinewidth": 0,
                            "ticks": ""
                          }
                        },
                        "type": "scatter"
                      }
                    ],
                    "scatter3d": [
                      {
                        "line": {
                          "colorbar": {
                            "outlinewidth": 0,
                            "ticks": ""
                          }
                        },
                        "marker": {
                          "colorbar": {
                            "outlinewidth": 0,
                            "ticks": ""
                          }
                        },
                        "type": "scatter3d"
                      }
                    ],
                    "scattercarpet": [
                      {
                        "marker": {
                          "colorbar": {
                            "outlinewidth": 0,
                            "ticks": ""
                          }
                        },
                        "type": "scattercarpet"
                      }
                    ],
                    "scattergeo": [
                      {
                        "marker": {
                          "colorbar": {
                            "outlinewidth": 0,
                            "ticks": ""
                          }
                        },
                        "type": "scattergeo"
                      }
                    ],
                    "scattergl": [
                      {
                        "marker": {
                          "colorbar": {
                            "outlinewidth": 0,
                            "ticks": ""
                          }
                        },
                        "type": "scattergl"
                      }
                    ],
                    "scattermapbox": [
                      {
                        "marker": {
                          "colorbar": {
                            "outlinewidth": 0,
                            "ticks": ""
                          }
                        },
                        "type": "scattermapbox"
                      }
                    ],
                    "scatterpolar": [
                      {
                        "marker": {
                          "colorbar": {
                            "outlinewidth": 0,
                            "ticks": ""
                          }
                        },
                        "type": "scatterpolar"
                      }
                    ],
                    "scatterpolargl": [
                      {
                        "marker": {
                          "colorbar": {
                            "outlinewidth": 0,
                            "ticks": ""
                          }
                        },
                        "type": "scatterpolargl"
                      }
                    ],
                    "scatterternary": [
                      {
                        "marker": {
                          "colorbar": {
                            "outlinewidth": 0,
                            "ticks": ""
                          }
                        },
                        "type": "scatterternary"
                      }
                    ],
                    "surface": [
                      {
                        "colorbar": {
                          "outlinewidth": 0,
                          "ticks": ""
                        },
                        "colorscale": [
                          [
                            0,
                            "#0d0887"
                          ],
                          [
                            0.1111111111111111,
                            "#46039f"
                          ],
                          [
                            0.2222222222222222,
                            "#7201a8"
                          ],
                          [
                            0.3333333333333333,
                            "#9c179e"
                          ],
                          [
                            0.4444444444444444,
                            "#bd3786"
                          ],
                          [
                            0.5555555555555556,
                            "#d8576b"
                          ],
                          [
                            0.6666666666666666,
                            "#ed7953"
                          ],
                          [
                            0.7777777777777778,
                            "#fb9f3a"
                          ],
                          [
                            0.8888888888888888,
                            "#fdca26"
                          ],
                          [
                            1,
                            "#f0f921"
                          ]
                        ],
                        "type": "surface"
                      }
                    ],
                    "table": [
                      {
                        "cells": {
                          "fill": {
                            "color": "#EBF0F8"
                          },
                          "line": {
                            "color": "white"
                          }
                        },
                        "header": {
                          "fill": {
                            "color": "#C8D4E3"
                          },
                          "line": {
                            "color": "white"
                          }
                        },
                        "type": "table"
                      }
                    ]
                  },
                  "layout": {
                    "annotationdefaults": {
                      "arrowcolor": "#2a3f5f",
                      "arrowhead": 0,
                      "arrowwidth": 1
                    },
                    "autotypenumbers": "strict",
                    "coloraxis": {
                      "colorbar": {
                        "outlinewidth": 0,
                        "ticks": ""
                      }
                    },
                    "colorscale": {
                      "diverging": [
                        [
                          0,
                          "#8e0152"
                        ],
                        [
                          0.1,
                          "#c51b7d"
                        ],
                        [
                          0.2,
                          "#de77ae"
                        ],
                        [
                          0.3,
                          "#f1b6da"
                        ],
                        [
                          0.4,
                          "#fde0ef"
                        ],
                        [
                          0.5,
                          "#f7f7f7"
                        ],
                        [
                          0.6,
                          "#e6f5d0"
                        ],
                        [
                          0.7,
                          "#b8e186"
                        ],
                        [
                          0.8,
                          "#7fbc41"
                        ],
                        [
                          0.9,
                          "#4d9221"
                        ],
                        [
                          1,
                          "#276419"
                        ]
                      ],
                      "sequential": [
                        [
                          0,
                          "#0d0887"
                        ],
                        [
                          0.1111111111111111,
                          "#46039f"
                        ],
                        [
                          0.2222222222222222,
                          "#7201a8"
                        ],
                        [
                          0.3333333333333333,
                          "#9c179e"
                        ],
                        [
                          0.4444444444444444,
                          "#bd3786"
                        ],
                        [
                          0.5555555555555556,
                          "#d8576b"
                        ],
                        [
                          0.6666666666666666,
                          "#ed7953"
                        ],
                        [
                          0.7777777777777778,
                          "#fb9f3a"
                        ],
                        [
                          0.8888888888888888,
                          "#fdca26"
                        ],
                        [
                          1,
                          "#f0f921"
                        ]
                      ],
                      "sequentialminus": [
                        [
                          0,
                          "#0d0887"
                        ],
                        [
                          0.1111111111111111,
                          "#46039f"
                        ],
                        [
                          0.2222222222222222,
                          "#7201a8"
                        ],
                        [
                          0.3333333333333333,
                          "#9c179e"
                        ],
                        [
                          0.4444444444444444,
                          "#bd3786"
                        ],
                        [
                          0.5555555555555556,
                          "#d8576b"
                        ],
                        [
                          0.6666666666666666,
                          "#ed7953"
                        ],
                        [
                          0.7777777777777778,
                          "#fb9f3a"
                        ],
                        [
                          0.8888888888888888,
                          "#fdca26"
                        ],
                        [
                          1,
                          "#f0f921"
                        ]
                      ]
                    },
                    "colorway": [
                      "#636efa",
                      "#EF553B",
                      "#00cc96",
                      "#ab63fa",
                      "#FFA15A",
                      "#19d3f3",
                      "#FF6692",
                      "#B6E880",
                      "#FF97FF",
                      "#FECB52"
                    ],
                    "font": {
                      "color": "#2a3f5f"
                    },
                    "geo": {
                      "bgcolor": "white",
                      "lakecolor": "white",
                      "landcolor": "#E5ECF6",
                      "showlakes": true,
                      "showland": true,
                      "subunitcolor": "white"
                    },
                    "hoverlabel": {
                      "align": "left"
                    },
                    "hovermode": "closest",
                    "mapbox": {
                      "style": "light"
                    },
                    "paper_bgcolor": "white",
                    "plot_bgcolor": "#E5ECF6",
                    "polar": {
                      "angularaxis": {
                        "gridcolor": "white",
                        "linecolor": "white",
                        "ticks": ""
                      },
                      "bgcolor": "#E5ECF6",
                      "radialaxis": {
                        "gridcolor": "white",
                        "linecolor": "white",
                        "ticks": ""
                      }
                    },
                    "scene": {
                      "xaxis": {
                        "backgroundcolor": "#E5ECF6",
                        "gridcolor": "white",
                        "gridwidth": 2,
                        "linecolor": "white",
                        "showbackground": true,
                        "ticks": "",
                        "zerolinecolor": "white"
                      },
                      "yaxis": {
                        "backgroundcolor": "#E5ECF6",
                        "gridcolor": "white",
                        "gridwidth": 2,
                        "linecolor": "white",
                        "showbackground": true,
                        "ticks": "",
                        "zerolinecolor": "white"
                      },
                      "zaxis": {
                        "backgroundcolor": "#E5ECF6",
                        "gridcolor": "white",
                        "gridwidth": 2,
                        "linecolor": "white",
                        "showbackground": true,
                        "ticks": "",
                        "zerolinecolor": "white"
                      }
                    },
                    "shapedefaults": {
                      "line": {
                        "color": "#2a3f5f"
                      }
                    },
                    "ternary": {
                      "aaxis": {
                        "gridcolor": "white",
                        "linecolor": "white",
                        "ticks": ""
                      },
                      "baxis": {
                        "gridcolor": "white",
                        "linecolor": "white",
                        "ticks": ""
                      },
                      "bgcolor": "#E5ECF6",
                      "caxis": {
                        "gridcolor": "white",
                        "linecolor": "white",
                        "ticks": ""
                      }
                    },
                    "title": {
                      "x": 0.05
                    },
                    "xaxis": {
                      "automargin": true,
                      "gridcolor": "white",
                      "linecolor": "white",
                      "ticks": "",
                      "title": {
                        "standoff": 15
                      },
                      "zerolinecolor": "white",
                      "zerolinewidth": 2
                    },
                    "yaxis": {
                      "automargin": true,
                      "gridcolor": "white",
                      "linecolor": "white",
                      "ticks": "",
                      "title": {
                        "standoff": 15
                      },
                      "zerolinecolor": "white",
                      "zerolinewidth": 2
                    }
                  }
                },
                "title": {
                  "text": "tG (#2 in FI)",
                  "x": 0.5,
                  "xanchor": "center"
                },
                "width": 700,
                "xaxis": {
                  "anchor": "y",
                  "domain": [
                    0,
                    1
                  ],
                  "dtick": 0.05,
                  "fixedrange": true,
                  "gridcolor": "black",
                  "linecolor": "black",
                  "range": [
                    0,
                    0.4
                  ],
                  "showgrid": false
                },
                "xaxis2": {
                  "anchor": "y2",
                  "domain": [
                    0,
                    1
                  ],
                  "fixedrange": false,
                  "range": [
                    0.7529240952,
                    1.08145743
                  ],
                  "title": {
                    "text": "tG"
                  }
                },
                "yaxis": {
                  "anchor": "x",
                  "color": "black",
                  "domain": [
                    0.9200000000000002,
                    1
                  ],
                  "fixedrange": true,
                  "showgrid": false,
                  "showline": false,
                  "showticklabels": false,
                  "zeroline": false
                },
                "yaxis2": {
                  "anchor": "x2",
                  "domain": [
                    0,
                    0.7200000000000001
                  ],
                  "fixedrange": true,
                  "title": {
                    "text": "Probability Density"
                  }
                }
              }
            }
          },
          "metadata": {},
          "output_type": "display_data"
        },
        {
          "data": {
            "text/html": []
          },
          "metadata": {},
          "output_type": "display_data"
        },
        {
          "data": {
            "application/vnd.plotly.v1+json": {
              "config": {
                "plotlyServerURL": "https://plot.ly"
              },
              "data": [
                {
                  "base": 0,
                  "marker": {
                    "color": "#01B8AA"
                  },
                  "offsetgroup": "0",
                  "orientation": "h",
                  "showlegend": false,
                  "type": "bar",
                  "x": [
                    0.0078043346730486
                  ],
                  "xaxis": "x",
                  "y": [
                    "Drift Score"
                  ],
                  "yaxis": "y"
                },
                {
                  "fill": "tozeroy",
                  "line": {
                    "color": "#00008b"
                  },
                  "name": "Train Dataset",
                  "type": "scatter",
                  "x": [
                    -3.241428571,
                    -3.189158891714286,
                    -3.1368892124285717,
                    -3.0846195331428574,
                    -3.038,
                    -3.032349853857143,
                    -3.005714286,
                    -2.9800801745714285,
                    -2.9289714288,
                    -2.9278104952857142,
                    -2.875540816,
                    -2.85227428532,
                    -2.84592214288,
                    -2.8232711367142858,
                    -2.8033828568000003,
                    -2.7710014574285715,
                    -2.75171285692,
                    -2.74927571436,
                    -2.7187317781428573,
                    -2.6794499996,
                    -2.6771857144999998,
                    -2.666462098857143,
                    -2.648321429,
                    -2.63990285736,
                    -2.614192419571429,
                    -2.5811971425799998,
                    -2.5656442860000004,
                    -2.5619227402857145,
                    -2.5125371426800003,
                    -2.509653061,
                    -2.4923771428,
                    -2.4573833817142856,
                    -2.441785714,
                    -2.4051137024285714,
                    -2.36119142848,
                    -2.3564714282,
                    -2.352844023142857,
                    -2.3233142856,
                    -2.31467071422,
                    -2.300574343857143,
                    -2.29428285732,
                    -2.281535714,
                    -2.27118142844,
                    -2.2483046645714286,
                    -2.2429028572800003,
                    -2.24170142878,
                    -2.1978914285999998,
                    -2.1960349852857144,
                    -2.18969857144,
                    -2.1533000001,
                    -2.1466571426,
                    -2.1437653059999997,
                    -2.1282628573599998,
                    -2.11863714252,
                    -2.107832857,
                    -2.091495626714286,
                    -2.07894714272,
                    -2.078357143,
                    -2.061071429,
                    -2.0518628569999997,
                    -2.05122214286,
                    -2.039225947428571,
                    -2.0356642860000003,
                    -2.0264999996,
                    -2.0182285711200003,
                    -2.00680571442,
                    -1.99750285752,
                    -1.9869562681428572,
                    -1.9862314288,
                    -1.9725285718,
                    -1.96274428608,
                    -1.95680428612,
                    -1.94866000004,
                    -1.941,
                    -1.934686588857143,
                    -1.9272857145,
                    -1.92539428544,
                    -1.91459714312,
                    -1.9104957145199999,
                    -1.89460142868,
                    -1.8942157144599998,
                    -1.8824169095714285,
                    -1.8736285716799999,
                    -1.86729714288,
                    -1.854892857,
                    -1.8523285714000002,
                    -1.8371771430400001,
                    -1.834785714,
                    -1.8301472302857142,
                    -1.81967428538,
                    -1.8164799999999999,
                    -1.805357143,
                    -1.8013,
                    -1.790907143,
                    -1.777877551,
                    -1.7756714289999997,
                    -1.769571429,
                    -1.7511642857999998,
                    -1.7477571426,
                    -1.729357143,
                    -1.7256078717142858,
                    -1.7159228568399993,
                    -1.7062757139600002,
                    -1.68537285708,
                    -1.68366428572,
                    -1.67481571436,
                    -1.6733381924285713,
                    -1.66404499978,
                    -1.649492857,
                    -1.6416642855999999,
                    -1.63605,
                    -1.621068513142857,
                    -1.61405428544,
                    -1.6076714286399998,
                    -1.5975142855599997,
                    -1.5735342859999997,
                    -1.5687988338571428,
                    -1.54998285716,
                    -1.54277,
                    -1.52277285736,
                    -1.5165291545714286,
                    -1.51236857148,
                    -1.4799035716,
                    -1.4778999998,
                    -1.4642594752857143,
                    -1.43447428576,
                    -1.425662857,
                    -1.4119897959999999,
                    -1.376631428639999,
                    -1.3597201167142856,
                    -1.34646,
                    -1.3074504374285714,
                    -1.2551807581428571,
                    -1.2517700001199996,
                    -1.2483028571599983,
                    -1.2029110788571429,
                    -1.1715771427199992,
                    -1.1506413995714286,
                    -1.0983717202857144,
                    -1.06752785698,
                    -1.0461020409999997,
                    -0.9938323617142855,
                    -0.9415626824285712,
                    -0.889293003142857,
                    -0.8370233238571427,
                    -0.7847536445714285,
                    -0.7324839652857142,
                    -0.680214286
                  ],
                  "xaxis": "x2",
                  "y": [
                    0.038952386500146444,
                    0.06040593873912956,
                    0.08802931047330266,
                    0.12136579058293483,
                    0.1536274837342282,
                    0.15752259413858946,
                    0.17537851531738016,
                    0.19128723114055926,
                    0.21763921819191695,
                    0.21815011789120503,
                    0.23805183111755943,
                    0.24579368743476943,
                    0.24789268877124507,
                    0.2555291798234321,
                    0.2625938758820358,
                    0.27493547634555626,
                    0.2825743258693477,
                    0.28353836971281693,
                    0.2951745609198304,
                    0.30719751074991103,
                    0.3077358551105928,
                    0.3100145224815813,
                    0.31280490975225056,
                    0.3136384632995738,
                    0.3144882599865767,
                    0.31272706654260046,
                    0.3113685809763133,
                    0.31104160078126997,
                    0.309149603737989,
                    0.30929351010103207,
                    0.311032820371575,
                    0.3200147149533335,
                    0.32666490699732864,
                    0.34888933093628444,
                    0.386437077762026,
                    0.39106767377572565,
                    0.394694641569962,
                    0.42620809128154497,
                    0.43603026909075143,
                    0.4525612282625969,
                    0.4601340351686411,
                    0.47583094596400044,
                    0.4889234956026725,
                    0.5189377891171029,
                    0.526247379933499,
                    0.5278849033356664,
                    0.5906206892077301,
                    0.593411377137859,
                    0.6030173322542527,
                    0.6605033192887001,
                    0.6713800784908799,
                    0.6761473455180904,
                    0.7020006620937544,
                    0.718265906896923,
                    0.7366646864466854,
                    0.7646499712846532,
                    0.7861624367728168,
                    0.7871722863024456,
                    0.8166074473056654,
                    0.8321050359969292,
                    0.8331768806858505,
                    0.8530561021846814,
                    0.8588796164221423,
                    0.8736671497606618,
                    0.8867373271644247,
                    0.9042821959690949,
                    0.9180731554117203,
                    0.933090041701864,
                    0.9340959869548305,
                    0.952421186826738,
                    0.9646342927909296,
                    0.9716612933849663,
                    0.9807872691591067,
                    0.9888027288484553,
                    0.994972826396173,
                    1.0016795173768775,
                    1.0032994465173204,
                    1.0117847595261065,
                    1.014657988598269,
                    1.0238826755130317,
                    1.024067733756541,
                    1.0288105367425338,
                    1.031164586411537,
                    1.0322236739283552,
                    1.032729518324252,
                    1.0325730272297782,
                    1.0298167375576683,
                    1.0290960287617226,
                    1.0274774231225519,
                    1.0227610401540805,
                    1.0210330604847442,
                    1.0139824348389705,
                    1.011018756094042,
                    1.0025025169920647,
                    0.99002806429251,
                    0.9877272054684292,
                    0.9810934948153026,
                    0.9588115006495008,
                    0.9543421798929238,
                    0.9285745504613271,
                    0.9230175990794641,
                    0.9082441428772603,
                    0.8929908067143295,
                    0.8584599122552611,
                    0.8555642986139159,
                    0.8404272655737546,
                    0.837878770618687,
                    0.8217329091830842,
                    0.7961288244131322,
                    0.7822378997487203,
                    0.7722400560003121,
                    0.7454599113131908,
                    0.7328876047179242,
                    0.7214347425746102,
                    0.703191629934982,
                    0.6600438548359648,
                    0.6515071988303751,
                    0.6175081842160642,
                    0.6044331551615458,
                    0.5680341734948732,
                    0.5566222044329685,
                    0.5490056881049966,
                    0.4893444607657001,
                    0.48565778994373243,
                    0.4605932728514335,
                    0.40648261600420976,
                    0.3907835974712503,
                    0.3668511638295787,
                    0.30835536083565773,
                    0.2826436387741278,
                    0.26371374922391017,
                    0.21499520578022452,
                    0.16647454521579833,
                    0.16392882259250435,
                    0.16141141865209646,
                    0.13417066397136126,
                    0.12008444841644783,
                    0.11202972068749664,
                    0.09449955271758859,
                    0.08517327516435219,
                    0.07912420965542477,
                    0.0666169916706745,
                    0.05858277196502205,
                    0.05478370586861889,
                    0.05233966370866159,
                    0.04763195776761036,
                    0.03906310031222533,
                    0.02800753975281539
                  ],
                  "yaxis": "y2"
                },
                {
                  "fill": "tozeroy",
                  "line": {
                    "color": "#69b3a2"
                  },
                  "name": "Test Dataset",
                  "type": "scatter",
                  "x": [
                    -3.241428571,
                    -3.189158891714286,
                    -3.1368892124285717,
                    -3.0846195331428574,
                    -3.038,
                    -3.032349853857143,
                    -3.005714286,
                    -2.9800801745714285,
                    -2.9289714288,
                    -2.9278104952857142,
                    -2.875540816,
                    -2.85227428532,
                    -2.84592214288,
                    -2.8232711367142858,
                    -2.8033828568000003,
                    -2.7710014574285715,
                    -2.75171285692,
                    -2.74927571436,
                    -2.7187317781428573,
                    -2.6794499996,
                    -2.6771857144999998,
                    -2.666462098857143,
                    -2.648321429,
                    -2.63990285736,
                    -2.614192419571429,
                    -2.5811971425799998,
                    -2.5656442860000004,
                    -2.5619227402857145,
                    -2.5125371426800003,
                    -2.509653061,
                    -2.4923771428,
                    -2.4573833817142856,
                    -2.441785714,
                    -2.4051137024285714,
                    -2.36119142848,
                    -2.3564714282,
                    -2.352844023142857,
                    -2.3233142856,
                    -2.31467071422,
                    -2.300574343857143,
                    -2.29428285732,
                    -2.281535714,
                    -2.27118142844,
                    -2.2483046645714286,
                    -2.2429028572800003,
                    -2.24170142878,
                    -2.1978914285999998,
                    -2.1960349852857144,
                    -2.18969857144,
                    -2.1533000001,
                    -2.1466571426,
                    -2.1437653059999997,
                    -2.1282628573599998,
                    -2.11863714252,
                    -2.107832857,
                    -2.091495626714286,
                    -2.07894714272,
                    -2.078357143,
                    -2.061071429,
                    -2.0518628569999997,
                    -2.05122214286,
                    -2.039225947428571,
                    -2.0356642860000003,
                    -2.0264999996,
                    -2.0182285711200003,
                    -2.00680571442,
                    -1.99750285752,
                    -1.9869562681428572,
                    -1.9862314288,
                    -1.9725285718,
                    -1.96274428608,
                    -1.95680428612,
                    -1.94866000004,
                    -1.941,
                    -1.934686588857143,
                    -1.9272857145,
                    -1.92539428544,
                    -1.91459714312,
                    -1.9104957145199999,
                    -1.89460142868,
                    -1.8942157144599998,
                    -1.8824169095714285,
                    -1.8736285716799999,
                    -1.86729714288,
                    -1.854892857,
                    -1.8523285714000002,
                    -1.8371771430400001,
                    -1.834785714,
                    -1.8301472302857142,
                    -1.81967428538,
                    -1.8164799999999999,
                    -1.805357143,
                    -1.8013,
                    -1.790907143,
                    -1.777877551,
                    -1.7756714289999997,
                    -1.769571429,
                    -1.7511642857999998,
                    -1.7477571426,
                    -1.729357143,
                    -1.7256078717142858,
                    -1.7159228568399993,
                    -1.7062757139600002,
                    -1.68537285708,
                    -1.68366428572,
                    -1.67481571436,
                    -1.6733381924285713,
                    -1.66404499978,
                    -1.649492857,
                    -1.6416642855999999,
                    -1.63605,
                    -1.621068513142857,
                    -1.61405428544,
                    -1.6076714286399998,
                    -1.5975142855599997,
                    -1.5735342859999997,
                    -1.5687988338571428,
                    -1.54998285716,
                    -1.54277,
                    -1.52277285736,
                    -1.5165291545714286,
                    -1.51236857148,
                    -1.4799035716,
                    -1.4778999998,
                    -1.4642594752857143,
                    -1.43447428576,
                    -1.425662857,
                    -1.4119897959999999,
                    -1.376631428639999,
                    -1.3597201167142856,
                    -1.34646,
                    -1.3074504374285714,
                    -1.2551807581428571,
                    -1.2517700001199996,
                    -1.2483028571599983,
                    -1.2029110788571429,
                    -1.1715771427199992,
                    -1.1506413995714286,
                    -1.0983717202857144,
                    -1.06752785698,
                    -1.0461020409999997,
                    -0.9938323617142855,
                    -0.9415626824285712,
                    -0.889293003142857,
                    -0.8370233238571427,
                    -0.7847536445714285,
                    -0.7324839652857142,
                    -0.680214286
                  ],
                  "xaxis": "x2",
                  "y": [
                    0.04323800943330769,
                    0.063673645236704,
                    0.0852518898659743,
                    0.10565379737735955,
                    0.12310652766157404,
                    0.12529866622964556,
                    0.13629882799724044,
                    0.14845271693013173,
                    0.17918500039795884,
                    0.17998947914852917,
                    0.21982711547730666,
                    0.2385789938089929,
                    0.24363214063107097,
                    0.26099266499035256,
                    0.2748976934761327,
                    0.2935611238713646,
                    0.30179031539778134,
                    0.3026614545082121,
                    0.3102420985944886,
                    0.3110365271110547,
                    0.31079675571306903,
                    0.3092819199498087,
                    0.3054298765170418,
                    0.30317270374560334,
                    0.29498047736914484,
                    0.28349606594368076,
                    0.27864820194527484,
                    0.2776110086639932,
                    0.27172946772034967,
                    0.2719891907197507,
                    0.2753100274847587,
                    0.29224956259226303,
                    0.3044026224612081,
                    0.34319367326208966,
                    0.40294908702818355,
                    0.40981472042524636,
                    0.41511429437731745,
                    0.4582964081312864,
                    0.4707331436741977,
                    0.4906430100850565,
                    0.4993643941021871,
                    0.5167272910007172,
                    0.5305656411010882,
                    0.5606665988046726,
                    0.5677664191498849,
                    0.5693491430373859,
                    0.6298515236421292,
                    0.6326072982026012,
                    0.6421734231059129,
                    0.7025020811803453,
                    0.7145364077747298,
                    0.7198691429717656,
                    0.7493438649234383,
                    0.7682905083388958,
                    0.7899863434615436,
                    0.8232468122134742,
                    0.8487541284457325,
                    0.8499455775499438,
                    0.8842406554179465,
                    0.9018168448859358,
                    0.9030164307973694,
                    0.924815878539684,
                    0.9310205780134607,
                    0.9463429053728467,
                    0.9593010571154036,
                    0.975689227542204,
                    0.987635530791008,
                    0.9995557042004233,
                    1.000309484906339,
                    1.0129304884621735,
                    1.0200177573338371,
                    1.0235311624681176,
                    1.0273821416426743,
                    1.0299950855571625,
                    1.0314261987632067,
                    1.0322922577558382,
                    1.0323760580670625,
                    1.0318177854919715,
                    1.0311582608490892,
                    1.026436733154217,
                    1.0262816925690235,
                    1.020691942383767,
                    1.0155415874957388,
                    1.0113645035390468,
                    1.0021896152126466,
                    1.000147353836849,
                    0.9872391320049366,
                    0.9850881814257959,
                    0.9808426766667102,
                    0.97095372205302,
                    0.9678684576564608,
                    0.9569386807545616,
                    0.9528965456165766,
                    0.9424559600906315,
                    0.9292733530171117,
                    0.9270373769172998,
                    0.9208538925930502,
                    0.9022011048404203,
                    0.898746754379532,
                    0.8800013682246807,
                    0.8761456594133926,
                    0.8660866386618291,
                    0.8558722834354346,
                    0.8327285324044661,
                    0.8307582217650055,
                    0.8203239881690376,
                    0.8185417289486645,
                    0.8070456602000206,
                    0.7879585603045479,
                    0.7770937419175885,
                    0.7690317216245721,
                    0.7463862859164913,
                    0.7352163428077413,
                    0.7247431209122258,
                    0.7074918746066047,
                    0.6642064808907128,
                    0.6552960086631353,
                    0.6190173538416468,
                    0.6048359365848672,
                    0.5651588752602009,
                    0.552758216003794,
                    0.5445142215119828,
                    0.48152548259486677,
                    0.47775454594701855,
                    0.45257093730024484,
                    0.4011090894282656,
                    0.3869443576325215,
                    0.3659998883182641,
                    0.31785012245198496,
                    0.29784783453311114,
                    0.28345709304408007,
                    0.24694130255470156,
                    0.20793876301722353,
                    0.20564121107761363,
                    0.20332537689504582,
                    0.17406424641179644,
                    0.1540812433669101,
                    0.1405912082385351,
                    0.1070694702493229,
                    0.08847264504260663,
                    0.07664886428140646,
                    0.05318812350738948,
                    0.038369351544018805,
                    0.030642947401440183,
                    0.026359321367064602,
                    0.022106643641146215,
                    0.016567366962511328,
                    0.010569330980034887
                  ],
                  "yaxis": "y2"
                }
              ],
              "layout": {
                "annotations": [
                  {
                    "font": {
                      "size": 16
                    },
                    "showarrow": false,
                    "text": "Drift Score (Earth Mover's Distance)",
                    "x": 0.5,
                    "xanchor": "center",
                    "xref": "paper",
                    "y": 1.0000000000000002,
                    "yanchor": "bottom",
                    "yref": "paper"
                  },
                  {
                    "font": {
                      "size": 16
                    },
                    "showarrow": false,
                    "text": "Distribution Plot",
                    "x": 0.5,
                    "xanchor": "center",
                    "xref": "paper",
                    "y": 0.7200000000000001,
                    "yanchor": "bottom",
                    "yref": "paper"
                  }
                ],
                "bargroupgap": 0,
                "height": 400,
                "legend": {
                  "title": {
                    "text": "Dataset"
                  },
                  "y": 0.6,
                  "yanchor": "top"
                },
                "template": {
                  "data": {
                    "bar": [
                      {
                        "error_x": {
                          "color": "#2a3f5f"
                        },
                        "error_y": {
                          "color": "#2a3f5f"
                        },
                        "marker": {
                          "line": {
                            "color": "#E5ECF6",
                            "width": 0.5
                          },
                          "pattern": {
                            "fillmode": "overlay",
                            "size": 10,
                            "solidity": 0.2
                          }
                        },
                        "type": "bar"
                      }
                    ],
                    "barpolar": [
                      {
                        "marker": {
                          "line": {
                            "color": "#E5ECF6",
                            "width": 0.5
                          },
                          "pattern": {
                            "fillmode": "overlay",
                            "size": 10,
                            "solidity": 0.2
                          }
                        },
                        "type": "barpolar"
                      }
                    ],
                    "carpet": [
                      {
                        "aaxis": {
                          "endlinecolor": "#2a3f5f",
                          "gridcolor": "white",
                          "linecolor": "white",
                          "minorgridcolor": "white",
                          "startlinecolor": "#2a3f5f"
                        },
                        "baxis": {
                          "endlinecolor": "#2a3f5f",
                          "gridcolor": "white",
                          "linecolor": "white",
                          "minorgridcolor": "white",
                          "startlinecolor": "#2a3f5f"
                        },
                        "type": "carpet"
                      }
                    ],
                    "choropleth": [
                      {
                        "colorbar": {
                          "outlinewidth": 0,
                          "ticks": ""
                        },
                        "type": "choropleth"
                      }
                    ],
                    "contour": [
                      {
                        "colorbar": {
                          "outlinewidth": 0,
                          "ticks": ""
                        },
                        "colorscale": [
                          [
                            0,
                            "#0d0887"
                          ],
                          [
                            0.1111111111111111,
                            "#46039f"
                          ],
                          [
                            0.2222222222222222,
                            "#7201a8"
                          ],
                          [
                            0.3333333333333333,
                            "#9c179e"
                          ],
                          [
                            0.4444444444444444,
                            "#bd3786"
                          ],
                          [
                            0.5555555555555556,
                            "#d8576b"
                          ],
                          [
                            0.6666666666666666,
                            "#ed7953"
                          ],
                          [
                            0.7777777777777778,
                            "#fb9f3a"
                          ],
                          [
                            0.8888888888888888,
                            "#fdca26"
                          ],
                          [
                            1,
                            "#f0f921"
                          ]
                        ],
                        "type": "contour"
                      }
                    ],
                    "contourcarpet": [
                      {
                        "colorbar": {
                          "outlinewidth": 0,
                          "ticks": ""
                        },
                        "type": "contourcarpet"
                      }
                    ],
                    "heatmap": [
                      {
                        "colorbar": {
                          "outlinewidth": 0,
                          "ticks": ""
                        },
                        "colorscale": [
                          [
                            0,
                            "#0d0887"
                          ],
                          [
                            0.1111111111111111,
                            "#46039f"
                          ],
                          [
                            0.2222222222222222,
                            "#7201a8"
                          ],
                          [
                            0.3333333333333333,
                            "#9c179e"
                          ],
                          [
                            0.4444444444444444,
                            "#bd3786"
                          ],
                          [
                            0.5555555555555556,
                            "#d8576b"
                          ],
                          [
                            0.6666666666666666,
                            "#ed7953"
                          ],
                          [
                            0.7777777777777778,
                            "#fb9f3a"
                          ],
                          [
                            0.8888888888888888,
                            "#fdca26"
                          ],
                          [
                            1,
                            "#f0f921"
                          ]
                        ],
                        "type": "heatmap"
                      }
                    ],
                    "heatmapgl": [
                      {
                        "colorbar": {
                          "outlinewidth": 0,
                          "ticks": ""
                        },
                        "colorscale": [
                          [
                            0,
                            "#0d0887"
                          ],
                          [
                            0.1111111111111111,
                            "#46039f"
                          ],
                          [
                            0.2222222222222222,
                            "#7201a8"
                          ],
                          [
                            0.3333333333333333,
                            "#9c179e"
                          ],
                          [
                            0.4444444444444444,
                            "#bd3786"
                          ],
                          [
                            0.5555555555555556,
                            "#d8576b"
                          ],
                          [
                            0.6666666666666666,
                            "#ed7953"
                          ],
                          [
                            0.7777777777777778,
                            "#fb9f3a"
                          ],
                          [
                            0.8888888888888888,
                            "#fdca26"
                          ],
                          [
                            1,
                            "#f0f921"
                          ]
                        ],
                        "type": "heatmapgl"
                      }
                    ],
                    "histogram": [
                      {
                        "marker": {
                          "pattern": {
                            "fillmode": "overlay",
                            "size": 10,
                            "solidity": 0.2
                          }
                        },
                        "type": "histogram"
                      }
                    ],
                    "histogram2d": [
                      {
                        "colorbar": {
                          "outlinewidth": 0,
                          "ticks": ""
                        },
                        "colorscale": [
                          [
                            0,
                            "#0d0887"
                          ],
                          [
                            0.1111111111111111,
                            "#46039f"
                          ],
                          [
                            0.2222222222222222,
                            "#7201a8"
                          ],
                          [
                            0.3333333333333333,
                            "#9c179e"
                          ],
                          [
                            0.4444444444444444,
                            "#bd3786"
                          ],
                          [
                            0.5555555555555556,
                            "#d8576b"
                          ],
                          [
                            0.6666666666666666,
                            "#ed7953"
                          ],
                          [
                            0.7777777777777778,
                            "#fb9f3a"
                          ],
                          [
                            0.8888888888888888,
                            "#fdca26"
                          ],
                          [
                            1,
                            "#f0f921"
                          ]
                        ],
                        "type": "histogram2d"
                      }
                    ],
                    "histogram2dcontour": [
                      {
                        "colorbar": {
                          "outlinewidth": 0,
                          "ticks": ""
                        },
                        "colorscale": [
                          [
                            0,
                            "#0d0887"
                          ],
                          [
                            0.1111111111111111,
                            "#46039f"
                          ],
                          [
                            0.2222222222222222,
                            "#7201a8"
                          ],
                          [
                            0.3333333333333333,
                            "#9c179e"
                          ],
                          [
                            0.4444444444444444,
                            "#bd3786"
                          ],
                          [
                            0.5555555555555556,
                            "#d8576b"
                          ],
                          [
                            0.6666666666666666,
                            "#ed7953"
                          ],
                          [
                            0.7777777777777778,
                            "#fb9f3a"
                          ],
                          [
                            0.8888888888888888,
                            "#fdca26"
                          ],
                          [
                            1,
                            "#f0f921"
                          ]
                        ],
                        "type": "histogram2dcontour"
                      }
                    ],
                    "mesh3d": [
                      {
                        "colorbar": {
                          "outlinewidth": 0,
                          "ticks": ""
                        },
                        "type": "mesh3d"
                      }
                    ],
                    "parcoords": [
                      {
                        "line": {
                          "colorbar": {
                            "outlinewidth": 0,
                            "ticks": ""
                          }
                        },
                        "type": "parcoords"
                      }
                    ],
                    "pie": [
                      {
                        "automargin": true,
                        "type": "pie"
                      }
                    ],
                    "scatter": [
                      {
                        "marker": {
                          "colorbar": {
                            "outlinewidth": 0,
                            "ticks": ""
                          }
                        },
                        "type": "scatter"
                      }
                    ],
                    "scatter3d": [
                      {
                        "line": {
                          "colorbar": {
                            "outlinewidth": 0,
                            "ticks": ""
                          }
                        },
                        "marker": {
                          "colorbar": {
                            "outlinewidth": 0,
                            "ticks": ""
                          }
                        },
                        "type": "scatter3d"
                      }
                    ],
                    "scattercarpet": [
                      {
                        "marker": {
                          "colorbar": {
                            "outlinewidth": 0,
                            "ticks": ""
                          }
                        },
                        "type": "scattercarpet"
                      }
                    ],
                    "scattergeo": [
                      {
                        "marker": {
                          "colorbar": {
                            "outlinewidth": 0,
                            "ticks": ""
                          }
                        },
                        "type": "scattergeo"
                      }
                    ],
                    "scattergl": [
                      {
                        "marker": {
                          "colorbar": {
                            "outlinewidth": 0,
                            "ticks": ""
                          }
                        },
                        "type": "scattergl"
                      }
                    ],
                    "scattermapbox": [
                      {
                        "marker": {
                          "colorbar": {
                            "outlinewidth": 0,
                            "ticks": ""
                          }
                        },
                        "type": "scattermapbox"
                      }
                    ],
                    "scatterpolar": [
                      {
                        "marker": {
                          "colorbar": {
                            "outlinewidth": 0,
                            "ticks": ""
                          }
                        },
                        "type": "scatterpolar"
                      }
                    ],
                    "scatterpolargl": [
                      {
                        "marker": {
                          "colorbar": {
                            "outlinewidth": 0,
                            "ticks": ""
                          }
                        },
                        "type": "scatterpolargl"
                      }
                    ],
                    "scatterternary": [
                      {
                        "marker": {
                          "colorbar": {
                            "outlinewidth": 0,
                            "ticks": ""
                          }
                        },
                        "type": "scatterternary"
                      }
                    ],
                    "surface": [
                      {
                        "colorbar": {
                          "outlinewidth": 0,
                          "ticks": ""
                        },
                        "colorscale": [
                          [
                            0,
                            "#0d0887"
                          ],
                          [
                            0.1111111111111111,
                            "#46039f"
                          ],
                          [
                            0.2222222222222222,
                            "#7201a8"
                          ],
                          [
                            0.3333333333333333,
                            "#9c179e"
                          ],
                          [
                            0.4444444444444444,
                            "#bd3786"
                          ],
                          [
                            0.5555555555555556,
                            "#d8576b"
                          ],
                          [
                            0.6666666666666666,
                            "#ed7953"
                          ],
                          [
                            0.7777777777777778,
                            "#fb9f3a"
                          ],
                          [
                            0.8888888888888888,
                            "#fdca26"
                          ],
                          [
                            1,
                            "#f0f921"
                          ]
                        ],
                        "type": "surface"
                      }
                    ],
                    "table": [
                      {
                        "cells": {
                          "fill": {
                            "color": "#EBF0F8"
                          },
                          "line": {
                            "color": "white"
                          }
                        },
                        "header": {
                          "fill": {
                            "color": "#C8D4E3"
                          },
                          "line": {
                            "color": "white"
                          }
                        },
                        "type": "table"
                      }
                    ]
                  },
                  "layout": {
                    "annotationdefaults": {
                      "arrowcolor": "#2a3f5f",
                      "arrowhead": 0,
                      "arrowwidth": 1
                    },
                    "autotypenumbers": "strict",
                    "coloraxis": {
                      "colorbar": {
                        "outlinewidth": 0,
                        "ticks": ""
                      }
                    },
                    "colorscale": {
                      "diverging": [
                        [
                          0,
                          "#8e0152"
                        ],
                        [
                          0.1,
                          "#c51b7d"
                        ],
                        [
                          0.2,
                          "#de77ae"
                        ],
                        [
                          0.3,
                          "#f1b6da"
                        ],
                        [
                          0.4,
                          "#fde0ef"
                        ],
                        [
                          0.5,
                          "#f7f7f7"
                        ],
                        [
                          0.6,
                          "#e6f5d0"
                        ],
                        [
                          0.7,
                          "#b8e186"
                        ],
                        [
                          0.8,
                          "#7fbc41"
                        ],
                        [
                          0.9,
                          "#4d9221"
                        ],
                        [
                          1,
                          "#276419"
                        ]
                      ],
                      "sequential": [
                        [
                          0,
                          "#0d0887"
                        ],
                        [
                          0.1111111111111111,
                          "#46039f"
                        ],
                        [
                          0.2222222222222222,
                          "#7201a8"
                        ],
                        [
                          0.3333333333333333,
                          "#9c179e"
                        ],
                        [
                          0.4444444444444444,
                          "#bd3786"
                        ],
                        [
                          0.5555555555555556,
                          "#d8576b"
                        ],
                        [
                          0.6666666666666666,
                          "#ed7953"
                        ],
                        [
                          0.7777777777777778,
                          "#fb9f3a"
                        ],
                        [
                          0.8888888888888888,
                          "#fdca26"
                        ],
                        [
                          1,
                          "#f0f921"
                        ]
                      ],
                      "sequentialminus": [
                        [
                          0,
                          "#0d0887"
                        ],
                        [
                          0.1111111111111111,
                          "#46039f"
                        ],
                        [
                          0.2222222222222222,
                          "#7201a8"
                        ],
                        [
                          0.3333333333333333,
                          "#9c179e"
                        ],
                        [
                          0.4444444444444444,
                          "#bd3786"
                        ],
                        [
                          0.5555555555555556,
                          "#d8576b"
                        ],
                        [
                          0.6666666666666666,
                          "#ed7953"
                        ],
                        [
                          0.7777777777777778,
                          "#fb9f3a"
                        ],
                        [
                          0.8888888888888888,
                          "#fdca26"
                        ],
                        [
                          1,
                          "#f0f921"
                        ]
                      ]
                    },
                    "colorway": [
                      "#636efa",
                      "#EF553B",
                      "#00cc96",
                      "#ab63fa",
                      "#FFA15A",
                      "#19d3f3",
                      "#FF6692",
                      "#B6E880",
                      "#FF97FF",
                      "#FECB52"
                    ],
                    "font": {
                      "color": "#2a3f5f"
                    },
                    "geo": {
                      "bgcolor": "white",
                      "lakecolor": "white",
                      "landcolor": "#E5ECF6",
                      "showlakes": true,
                      "showland": true,
                      "subunitcolor": "white"
                    },
                    "hoverlabel": {
                      "align": "left"
                    },
                    "hovermode": "closest",
                    "mapbox": {
                      "style": "light"
                    },
                    "paper_bgcolor": "white",
                    "plot_bgcolor": "#E5ECF6",
                    "polar": {
                      "angularaxis": {
                        "gridcolor": "white",
                        "linecolor": "white",
                        "ticks": ""
                      },
                      "bgcolor": "#E5ECF6",
                      "radialaxis": {
                        "gridcolor": "white",
                        "linecolor": "white",
                        "ticks": ""
                      }
                    },
                    "scene": {
                      "xaxis": {
                        "backgroundcolor": "#E5ECF6",
                        "gridcolor": "white",
                        "gridwidth": 2,
                        "linecolor": "white",
                        "showbackground": true,
                        "ticks": "",
                        "zerolinecolor": "white"
                      },
                      "yaxis": {
                        "backgroundcolor": "#E5ECF6",
                        "gridcolor": "white",
                        "gridwidth": 2,
                        "linecolor": "white",
                        "showbackground": true,
                        "ticks": "",
                        "zerolinecolor": "white"
                      },
                      "zaxis": {
                        "backgroundcolor": "#E5ECF6",
                        "gridcolor": "white",
                        "gridwidth": 2,
                        "linecolor": "white",
                        "showbackground": true,
                        "ticks": "",
                        "zerolinecolor": "white"
                      }
                    },
                    "shapedefaults": {
                      "line": {
                        "color": "#2a3f5f"
                      }
                    },
                    "ternary": {
                      "aaxis": {
                        "gridcolor": "white",
                        "linecolor": "white",
                        "ticks": ""
                      },
                      "baxis": {
                        "gridcolor": "white",
                        "linecolor": "white",
                        "ticks": ""
                      },
                      "bgcolor": "#E5ECF6",
                      "caxis": {
                        "gridcolor": "white",
                        "linecolor": "white",
                        "ticks": ""
                      }
                    },
                    "title": {
                      "x": 0.05
                    },
                    "xaxis": {
                      "automargin": true,
                      "gridcolor": "white",
                      "linecolor": "white",
                      "ticks": "",
                      "title": {
                        "standoff": 15
                      },
                      "zerolinecolor": "white",
                      "zerolinewidth": 2
                    },
                    "yaxis": {
                      "automargin": true,
                      "gridcolor": "white",
                      "linecolor": "white",
                      "ticks": "",
                      "title": {
                        "standoff": 15
                      },
                      "zerolinecolor": "white",
                      "zerolinewidth": 2
                    }
                  }
                },
                "title": {
                  "text": "ΔENR (#3 in FI)",
                  "x": 0.5,
                  "xanchor": "center"
                },
                "width": 700,
                "xaxis": {
                  "anchor": "y",
                  "domain": [
                    0,
                    1
                  ],
                  "dtick": 0.05,
                  "fixedrange": true,
                  "gridcolor": "black",
                  "linecolor": "black",
                  "range": [
                    0,
                    0.4
                  ],
                  "showgrid": false
                },
                "xaxis2": {
                  "anchor": "y2",
                  "domain": [
                    0,
                    1
                  ],
                  "fixedrange": false,
                  "range": [
                    -3.038,
                    -1.06752785698
                  ],
                  "title": {
                    "text": "ΔENR"
                  }
                },
                "yaxis": {
                  "anchor": "x",
                  "color": "black",
                  "domain": [
                    0.9200000000000002,
                    1
                  ],
                  "fixedrange": true,
                  "showgrid": false,
                  "showline": false,
                  "showticklabels": false,
                  "zeroline": false
                },
                "yaxis2": {
                  "anchor": "x2",
                  "domain": [
                    0,
                    0.7200000000000001
                  ],
                  "fixedrange": true,
                  "title": {
                    "text": "Probability Density"
                  }
                }
              }
            }
          },
          "metadata": {},
          "output_type": "display_data"
        },
        {
          "data": {
            "text/html": []
          },
          "metadata": {},
          "output_type": "display_data"
        },
        {
          "data": {
            "application/vnd.plotly.v1+json": {
              "config": {
                "plotlyServerURL": "https://plot.ly"
              },
              "data": [
                {
                  "base": 0,
                  "marker": {
                    "color": "#01B8AA"
                  },
                  "offsetgroup": "0",
                  "orientation": "h",
                  "showlegend": false,
                  "type": "bar",
                  "x": [
                    0.013801224142128615
                  ],
                  "xaxis": "x",
                  "y": [
                    "Drift Score"
                  ],
                  "yaxis": "y"
                },
                {
                  "fill": "tozeroy",
                  "line": {
                    "color": "#00008b"
                  },
                  "name": "Train Dataset",
                  "type": "scatter",
                  "x": [
                    1,
                    1.0277551020408162,
                    1.0555102040816327,
                    1.0832653061224489,
                    1.1110204081632653,
                    1.12,
                    1.1296,
                    1.1372,
                    1.1387755102040815,
                    1.166530612244898,
                    1.1942857142857142,
                    1.2,
                    1.2,
                    1.22,
                    1.22,
                    1.2220408163265306,
                    1.2384,
                    1.2497959183673468,
                    1.2560000000000002,
                    1.2775510204081633,
                    1.3,
                    1.3,
                    1.3,
                    1.3,
                    1.3053061224489795,
                    1.33,
                    1.33,
                    1.333061224489796,
                    1.36,
                    1.3608163265306121,
                    1.38,
                    1.38,
                    1.3885714285714286,
                    1.4163265306122448,
                    1.4440816326530612,
                    1.4718367346938774,
                    1.4995918367346939,
                    1.5,
                    1.5,
                    1.5,
                    1.5,
                    1.5,
                    1.52734693877551,
                    1.54,
                    1.54,
                    1.55,
                    1.55,
                    1.55,
                    1.55,
                    1.55,
                    1.5551020408163265,
                    1.5828571428571427,
                    1.6,
                    1.6,
                    1.6,
                    1.61,
                    1.610612244897959,
                    1.62,
                    1.62,
                    1.63,
                    1.63,
                    1.63,
                    1.63,
                    1.6383673469387754,
                    1.66,
                    1.66,
                    1.66,
                    1.6661224489795918,
                    1.6876000000000004,
                    1.693877551020408,
                    1.7216326530612243,
                    1.7493877551020407,
                    1.7771428571428571,
                    1.78,
                    1.8048979591836734,
                    1.81,
                    1.81,
                    1.83,
                    1.83,
                    1.83,
                    1.8326530612244896,
                    1.860408163265306,
                    1.8780000000000003,
                    1.88,
                    1.8881632653061224,
                    1.8984000000000003,
                    1.9,
                    1.9,
                    1.9,
                    1.9,
                    1.9,
                    1.9,
                    1.9,
                    1.91,
                    1.91,
                    1.91,
                    1.9159183673469387,
                    1.93,
                    1.93,
                    1.9436734693877549,
                    1.96,
                    1.96,
                    1.9714285714285713,
                    1.9991836734693877,
                    2.01,
                    2.01,
                    2.02,
                    2.026938775510204,
                    2.04,
                    2.04,
                    2.05,
                    2.05,
                    2.05469387755102,
                    2.0740000000000007,
                    2.0824489795918364,
                    2.110204081632653,
                    2.1379591836734693,
                    2.140800000000004,
                    2.16,
                    2.16,
                    2.1657142857142855,
                    2.18,
                    2.18,
                    2.18,
                    2.18,
                    2.193469387755102,
                    2.2,
                    2.2,
                    2.2,
                    2.2,
                    2.2,
                    2.2,
                    2.2,
                    2.2,
                    2.2,
                    2.2128000000000023,
                    2.221224489795918,
                    2.2489795918367346,
                    2.276734693877551,
                    2.28,
                    2.28,
                    2.304489795918367,
                    2.33,
                    2.33,
                    2.3322448979591837,
                    2.36,
                    2.36,
                    2.36
                  ],
                  "xaxis": "x2",
                  "y": [
                    0.10017243247083855,
                    0.150486815920869,
                    0.2118813692573469,
                    0.28094510821985497,
                    0.3530426548831819,
                    0.37622383422700933,
                    0.40064687184978987,
                    0.41961485438545554,
                    0.42349881916994836,
                    0.4884677375794748,
                    0.5450176424797065,
                    0.5553805577147469,
                    0.5553805577147469,
                    0.5876399218246314,
                    0.5876399218246314,
                    0.5905531751829154,
                    0.6111056756686397,
                    0.6222638281447915,
                    0.6271682254095275,
                    0.6374158265409164,
                    0.6366461726701441,
                    0.6366461726701441,
                    0.6366461726701441,
                    0.6366461726701441,
                    0.6348303335782017,
                    0.6195304905545997,
                    0.6195304905545997,
                    0.6170073046592806,
                    0.5923237799162231,
                    0.5915733653017695,
                    0.575801033034022,
                    0.575801033034022,
                    0.5706504057753705,
                    0.5676274510139655,
                    0.5922826031128249,
                    0.6463366040176541,
                    0.7215444869178858,
                    0.7227326194160931,
                    0.7227326194160931,
                    0.7227326194160931,
                    0.7227326194160931,
                    0.7227326194160931,
                    0.801330944852571,
                    0.833711566010664,
                    0.833711566010664,
                    0.8557514769707998,
                    0.8557514769707998,
                    0.8557514769707998,
                    0.8557514769707998,
                    0.8557514769707998,
                    0.8654906949236627,
                    0.8964266745142196,
                    0.8944807967974047,
                    0.8944807967974047,
                    0.8944807967974047,
                    0.8857476130691342,
                    0.8850382303199441,
                    0.8717769922864588,
                    0.8717769922864588,
                    0.8531211829887226,
                    0.8531211829887226,
                    0.8531211829887226,
                    0.8531211829887226,
                    0.8344550470186507,
                    0.7774639701305194,
                    0.7774639701305194,
                    0.7774639701305194,
                    0.7601901158731682,
                    0.701524686918232,
                    0.6861504010524268,
                    0.6373827510334463,
                    0.6319215688789256,
                    0.6747461784113388,
                    0.6816300622240498,
                    0.7561590842427479,
                    0.773778519869824,
                    0.773778519869824,
                    0.8456585811045725,
                    0.8456585811045725,
                    0.8456585811045725,
                    0.855191982056406,
                    0.9467383439222607,
                    0.9909284916242793,
                    0.9950427899985531,
                    1.0097302100746284,
                    1.0232005304202505,
                    1.024799578816921,
                    1.024799578816921,
                    1.024799578816921,
                    1.024799578816921,
                    1.024799578816921,
                    1.024799578816921,
                    1.024799578816921,
                    1.0317008279888968,
                    1.0317008279888968,
                    1.0317008279888968,
                    1.0333182654238886,
                    1.0302317347716028,
                    1.0302317347716028,
                    1.018938711300511,
                    0.9970953118006872,
                    0.9970953118006872,
                    0.9780831320045354,
                    0.9274649638100245,
                    0.9088096872213962,
                    0.9088096872213962,
                    0.8933007980151122,
                    0.8838452046098316,
                    0.8695786899702032,
                    0.8695786899702032,
                    0.862183192547235,
                    0.862183192547235,
                    0.8598409627196213,
                    0.8579293913851496,
                    0.8608493667690811,
                    0.8831710002335361,
                    0.914322004030978,
                    0.9173246803575242,
                    0.9336757710998149,
                    0.9336757710998149,
                    0.9366872127931114,
                    0.9392032336466167,
                    0.9392032336466167,
                    0.9392032336466167,
                    0.9392032336466167,
                    0.9339741555197327,
                    0.9285402195739905,
                    0.9285402195739905,
                    0.9285402195739905,
                    0.9285402195739905,
                    0.9285402195739905,
                    0.9285402195739905,
                    0.9285402195739905,
                    0.9285402195739905,
                    0.9285402195739905,
                    0.9122533695001878,
                    0.8975271387253184,
                    0.8289259218718118,
                    0.7375210926824237,
                    0.7258213002148636,
                    0.7258213002148636,
                    0.6349661124162548,
                    0.5388741216185714,
                    0.5388741216185714,
                    0.5305032910323234,
                    0.42948267200281726,
                    0.42948267200281726,
                    0.42948267200281726
                  ],
                  "yaxis": "y2"
                },
                {
                  "fill": "tozeroy",
                  "line": {
                    "color": "#69b3a2"
                  },
                  "name": "Test Dataset",
                  "type": "scatter",
                  "x": [
                    1,
                    1.0277551020408162,
                    1.0555102040816327,
                    1.0832653061224489,
                    1.1110204081632653,
                    1.12,
                    1.1296,
                    1.1372,
                    1.1387755102040815,
                    1.166530612244898,
                    1.1942857142857142,
                    1.2,
                    1.2,
                    1.22,
                    1.22,
                    1.2220408163265306,
                    1.2384,
                    1.2497959183673468,
                    1.2560000000000002,
                    1.2775510204081633,
                    1.3,
                    1.3,
                    1.3,
                    1.3,
                    1.3053061224489795,
                    1.33,
                    1.33,
                    1.333061224489796,
                    1.36,
                    1.3608163265306121,
                    1.38,
                    1.38,
                    1.3885714285714286,
                    1.4163265306122448,
                    1.4440816326530612,
                    1.4718367346938774,
                    1.4995918367346939,
                    1.5,
                    1.5,
                    1.5,
                    1.5,
                    1.5,
                    1.52734693877551,
                    1.54,
                    1.54,
                    1.55,
                    1.55,
                    1.55,
                    1.55,
                    1.55,
                    1.5551020408163265,
                    1.5828571428571427,
                    1.6,
                    1.6,
                    1.6,
                    1.61,
                    1.610612244897959,
                    1.62,
                    1.62,
                    1.63,
                    1.63,
                    1.63,
                    1.63,
                    1.6383673469387754,
                    1.66,
                    1.66,
                    1.66,
                    1.6661224489795918,
                    1.6876000000000004,
                    1.693877551020408,
                    1.7216326530612243,
                    1.7493877551020407,
                    1.7771428571428571,
                    1.78,
                    1.8048979591836734,
                    1.81,
                    1.81,
                    1.83,
                    1.83,
                    1.83,
                    1.8326530612244896,
                    1.860408163265306,
                    1.8780000000000003,
                    1.88,
                    1.8881632653061224,
                    1.8984000000000003,
                    1.9,
                    1.9,
                    1.9,
                    1.9,
                    1.9,
                    1.9,
                    1.9,
                    1.91,
                    1.91,
                    1.91,
                    1.9159183673469387,
                    1.93,
                    1.93,
                    1.9436734693877549,
                    1.96,
                    1.96,
                    1.9714285714285713,
                    1.9991836734693877,
                    2.01,
                    2.01,
                    2.02,
                    2.026938775510204,
                    2.04,
                    2.04,
                    2.05,
                    2.05,
                    2.05469387755102,
                    2.0740000000000007,
                    2.0824489795918364,
                    2.110204081632653,
                    2.1379591836734693,
                    2.140800000000004,
                    2.16,
                    2.16,
                    2.1657142857142855,
                    2.18,
                    2.18,
                    2.18,
                    2.18,
                    2.193469387755102,
                    2.2,
                    2.2,
                    2.2,
                    2.2,
                    2.2,
                    2.2,
                    2.2,
                    2.2,
                    2.2,
                    2.2128000000000023,
                    2.221224489795918,
                    2.2489795918367346,
                    2.276734693877551,
                    2.28,
                    2.28,
                    2.304489795918367,
                    2.33,
                    2.33,
                    2.3322448979591837,
                    2.36,
                    2.36,
                    2.36
                  ],
                  "xaxis": "x2",
                  "y": [
                    0.0684697364886769,
                    0.11000600263500243,
                    0.16382586676202382,
                    0.22756694988809278,
                    0.2968292528111875,
                    0.3195053142474196,
                    0.3435131142542509,
                    0.3621905107969682,
                    0.3660138595758061,
                    0.4293570321986874,
                    0.4818041341095626,
                    0.49087836640807425,
                    0.49087836640807425,
                    0.5173792323775112,
                    0.5173792323775112,
                    0.5196039436620071,
                    0.5341218226152045,
                    0.5407396917349258,
                    0.5431555589674466,
                    0.5454400790061286,
                    0.5393261926468683,
                    0.5393261926468683,
                    0.5393261926468683,
                    0.5393261926468683,
                    0.5369605324195406,
                    0.5240418456743351,
                    0.5240418456743351,
                    0.522464800621508,
                    0.5132903660247056,
                    0.513221020184487,
                    0.5171152701433419,
                    0.5171152701433419,
                    0.5229790171144406,
                    0.5640094971636266,
                    0.6418597205130706,
                    0.7513138549371109,
                    0.8759763808751528,
                    0.8778086948633484,
                    0.8778086948633484,
                    0.8778086948633484,
                    0.8778086948633484,
                    0.8778086948633484,
                    0.9921164665453823,
                    1.0354292697336094,
                    1.0354292697336094,
                    1.0634113844178845,
                    1.0634113844178845,
                    1.0634113844178845,
                    1.0634113844178845,
                    1.0634113844178845,
                    1.0752577618008765,
                    1.107063646108521,
                    1.0974633946972079,
                    1.0974633946972079,
                    1.0974633946972079,
                    1.0817827212607183,
                    1.080594427765246,
                    1.0592816453655876,
                    1.0592816453655876,
                    1.030727257972522,
                    1.030727257972522,
                    1.030727257972522,
                    1.030727257972522,
                    1.0028898014235978,
                    0.91943061982697,
                    0.91943061982697,
                    0.91943061982697,
                    0.8941821319147104,
                    0.8069746473529603,
                    0.7833098531855022,
                    0.6999531763324627,
                    0.6659296739248809,
                    0.6886433522141285,
                    0.6939804408019177,
                    0.7590422836503321,
                    0.7755470256804785,
                    0.7755470256804785,
                    0.8452423473027936,
                    0.8452423473027936,
                    0.8452423473027936,
                    0.854700108588914,
                    0.947005272825092,
                    0.9917140396539288,
                    0.9958226420256409,
                    1.010279506708533,
                    1.0228968018712794,
                    1.0242983046067449,
                    1.0242983046067449,
                    1.0242983046067449,
                    1.0242983046067449,
                    1.0242983046067449,
                    1.0242983046067449,
                    1.0242983046067449,
                    1.0295381378485378,
                    1.0295381378485378,
                    1.0295381378485378,
                    1.0298147827979494,
                    1.0224779937398756,
                    1.0224779937398756,
                    1.0057706045151358,
                    0.9762465757782167,
                    0.9762465757782167,
                    0.9514390312017584,
                    0.8871668024327308,
                    0.8639321333585294,
                    0.8639321333585294,
                    0.844778947221999,
                    0.8331749564047004,
                    0.8157809890197973,
                    0.8157809890197973,
                    0.8068289021117953,
                    0.8068289021117953,
                    0.804007171299959,
                    0.8017457567513435,
                    0.80527770638847,
                    0.8322774431226453,
                    0.8707639485997417,
                    0.8745847120263922,
                    0.8964457625732725,
                    0.8964457625732725,
                    0.9010319417293596,
                    0.9072149516496717,
                    0.9072149516496717,
                    0.9072149516496717,
                    0.9072149516496717,
                    0.904985509882741,
                    0.9008247216988322,
                    0.9008247216988322,
                    0.9008247216988322,
                    0.9008247216988322,
                    0.9008247216988322,
                    0.9008247216988322,
                    0.9008247216988322,
                    0.9008247216988322,
                    0.9008247216988322,
                    0.8866867292038423,
                    0.8731397209559041,
                    0.8074174747109946,
                    0.7181130947194178,
                    0.7066471451289158,
                    0.7066471451289158,
                    0.6175427371125809,
                    0.5231504889155066,
                    0.5231504889155066,
                    0.5149124335345743,
                    0.41516608653111,
                    0.41516608653111,
                    0.41516608653111
                  ],
                  "yaxis": "y2"
                }
              ],
              "layout": {
                "annotations": [
                  {
                    "font": {
                      "size": 16
                    },
                    "showarrow": false,
                    "text": "Drift Score (Earth Mover's Distance)",
                    "x": 0.5,
                    "xanchor": "center",
                    "xref": "paper",
                    "y": 1.0000000000000002,
                    "yanchor": "bottom",
                    "yref": "paper"
                  },
                  {
                    "font": {
                      "size": 16
                    },
                    "showarrow": false,
                    "text": "Distribution Plot",
                    "x": 0.5,
                    "xanchor": "center",
                    "xref": "paper",
                    "y": 0.7200000000000001,
                    "yanchor": "bottom",
                    "yref": "paper"
                  }
                ],
                "bargroupgap": 0,
                "height": 400,
                "legend": {
                  "title": {
                    "text": "Dataset"
                  },
                  "y": 0.6,
                  "yanchor": "top"
                },
                "template": {
                  "data": {
                    "bar": [
                      {
                        "error_x": {
                          "color": "#2a3f5f"
                        },
                        "error_y": {
                          "color": "#2a3f5f"
                        },
                        "marker": {
                          "line": {
                            "color": "#E5ECF6",
                            "width": 0.5
                          },
                          "pattern": {
                            "fillmode": "overlay",
                            "size": 10,
                            "solidity": 0.2
                          }
                        },
                        "type": "bar"
                      }
                    ],
                    "barpolar": [
                      {
                        "marker": {
                          "line": {
                            "color": "#E5ECF6",
                            "width": 0.5
                          },
                          "pattern": {
                            "fillmode": "overlay",
                            "size": 10,
                            "solidity": 0.2
                          }
                        },
                        "type": "barpolar"
                      }
                    ],
                    "carpet": [
                      {
                        "aaxis": {
                          "endlinecolor": "#2a3f5f",
                          "gridcolor": "white",
                          "linecolor": "white",
                          "minorgridcolor": "white",
                          "startlinecolor": "#2a3f5f"
                        },
                        "baxis": {
                          "endlinecolor": "#2a3f5f",
                          "gridcolor": "white",
                          "linecolor": "white",
                          "minorgridcolor": "white",
                          "startlinecolor": "#2a3f5f"
                        },
                        "type": "carpet"
                      }
                    ],
                    "choropleth": [
                      {
                        "colorbar": {
                          "outlinewidth": 0,
                          "ticks": ""
                        },
                        "type": "choropleth"
                      }
                    ],
                    "contour": [
                      {
                        "colorbar": {
                          "outlinewidth": 0,
                          "ticks": ""
                        },
                        "colorscale": [
                          [
                            0,
                            "#0d0887"
                          ],
                          [
                            0.1111111111111111,
                            "#46039f"
                          ],
                          [
                            0.2222222222222222,
                            "#7201a8"
                          ],
                          [
                            0.3333333333333333,
                            "#9c179e"
                          ],
                          [
                            0.4444444444444444,
                            "#bd3786"
                          ],
                          [
                            0.5555555555555556,
                            "#d8576b"
                          ],
                          [
                            0.6666666666666666,
                            "#ed7953"
                          ],
                          [
                            0.7777777777777778,
                            "#fb9f3a"
                          ],
                          [
                            0.8888888888888888,
                            "#fdca26"
                          ],
                          [
                            1,
                            "#f0f921"
                          ]
                        ],
                        "type": "contour"
                      }
                    ],
                    "contourcarpet": [
                      {
                        "colorbar": {
                          "outlinewidth": 0,
                          "ticks": ""
                        },
                        "type": "contourcarpet"
                      }
                    ],
                    "heatmap": [
                      {
                        "colorbar": {
                          "outlinewidth": 0,
                          "ticks": ""
                        },
                        "colorscale": [
                          [
                            0,
                            "#0d0887"
                          ],
                          [
                            0.1111111111111111,
                            "#46039f"
                          ],
                          [
                            0.2222222222222222,
                            "#7201a8"
                          ],
                          [
                            0.3333333333333333,
                            "#9c179e"
                          ],
                          [
                            0.4444444444444444,
                            "#bd3786"
                          ],
                          [
                            0.5555555555555556,
                            "#d8576b"
                          ],
                          [
                            0.6666666666666666,
                            "#ed7953"
                          ],
                          [
                            0.7777777777777778,
                            "#fb9f3a"
                          ],
                          [
                            0.8888888888888888,
                            "#fdca26"
                          ],
                          [
                            1,
                            "#f0f921"
                          ]
                        ],
                        "type": "heatmap"
                      }
                    ],
                    "heatmapgl": [
                      {
                        "colorbar": {
                          "outlinewidth": 0,
                          "ticks": ""
                        },
                        "colorscale": [
                          [
                            0,
                            "#0d0887"
                          ],
                          [
                            0.1111111111111111,
                            "#46039f"
                          ],
                          [
                            0.2222222222222222,
                            "#7201a8"
                          ],
                          [
                            0.3333333333333333,
                            "#9c179e"
                          ],
                          [
                            0.4444444444444444,
                            "#bd3786"
                          ],
                          [
                            0.5555555555555556,
                            "#d8576b"
                          ],
                          [
                            0.6666666666666666,
                            "#ed7953"
                          ],
                          [
                            0.7777777777777778,
                            "#fb9f3a"
                          ],
                          [
                            0.8888888888888888,
                            "#fdca26"
                          ],
                          [
                            1,
                            "#f0f921"
                          ]
                        ],
                        "type": "heatmapgl"
                      }
                    ],
                    "histogram": [
                      {
                        "marker": {
                          "pattern": {
                            "fillmode": "overlay",
                            "size": 10,
                            "solidity": 0.2
                          }
                        },
                        "type": "histogram"
                      }
                    ],
                    "histogram2d": [
                      {
                        "colorbar": {
                          "outlinewidth": 0,
                          "ticks": ""
                        },
                        "colorscale": [
                          [
                            0,
                            "#0d0887"
                          ],
                          [
                            0.1111111111111111,
                            "#46039f"
                          ],
                          [
                            0.2222222222222222,
                            "#7201a8"
                          ],
                          [
                            0.3333333333333333,
                            "#9c179e"
                          ],
                          [
                            0.4444444444444444,
                            "#bd3786"
                          ],
                          [
                            0.5555555555555556,
                            "#d8576b"
                          ],
                          [
                            0.6666666666666666,
                            "#ed7953"
                          ],
                          [
                            0.7777777777777778,
                            "#fb9f3a"
                          ],
                          [
                            0.8888888888888888,
                            "#fdca26"
                          ],
                          [
                            1,
                            "#f0f921"
                          ]
                        ],
                        "type": "histogram2d"
                      }
                    ],
                    "histogram2dcontour": [
                      {
                        "colorbar": {
                          "outlinewidth": 0,
                          "ticks": ""
                        },
                        "colorscale": [
                          [
                            0,
                            "#0d0887"
                          ],
                          [
                            0.1111111111111111,
                            "#46039f"
                          ],
                          [
                            0.2222222222222222,
                            "#7201a8"
                          ],
                          [
                            0.3333333333333333,
                            "#9c179e"
                          ],
                          [
                            0.4444444444444444,
                            "#bd3786"
                          ],
                          [
                            0.5555555555555556,
                            "#d8576b"
                          ],
                          [
                            0.6666666666666666,
                            "#ed7953"
                          ],
                          [
                            0.7777777777777778,
                            "#fb9f3a"
                          ],
                          [
                            0.8888888888888888,
                            "#fdca26"
                          ],
                          [
                            1,
                            "#f0f921"
                          ]
                        ],
                        "type": "histogram2dcontour"
                      }
                    ],
                    "mesh3d": [
                      {
                        "colorbar": {
                          "outlinewidth": 0,
                          "ticks": ""
                        },
                        "type": "mesh3d"
                      }
                    ],
                    "parcoords": [
                      {
                        "line": {
                          "colorbar": {
                            "outlinewidth": 0,
                            "ticks": ""
                          }
                        },
                        "type": "parcoords"
                      }
                    ],
                    "pie": [
                      {
                        "automargin": true,
                        "type": "pie"
                      }
                    ],
                    "scatter": [
                      {
                        "marker": {
                          "colorbar": {
                            "outlinewidth": 0,
                            "ticks": ""
                          }
                        },
                        "type": "scatter"
                      }
                    ],
                    "scatter3d": [
                      {
                        "line": {
                          "colorbar": {
                            "outlinewidth": 0,
                            "ticks": ""
                          }
                        },
                        "marker": {
                          "colorbar": {
                            "outlinewidth": 0,
                            "ticks": ""
                          }
                        },
                        "type": "scatter3d"
                      }
                    ],
                    "scattercarpet": [
                      {
                        "marker": {
                          "colorbar": {
                            "outlinewidth": 0,
                            "ticks": ""
                          }
                        },
                        "type": "scattercarpet"
                      }
                    ],
                    "scattergeo": [
                      {
                        "marker": {
                          "colorbar": {
                            "outlinewidth": 0,
                            "ticks": ""
                          }
                        },
                        "type": "scattergeo"
                      }
                    ],
                    "scattergl": [
                      {
                        "marker": {
                          "colorbar": {
                            "outlinewidth": 0,
                            "ticks": ""
                          }
                        },
                        "type": "scattergl"
                      }
                    ],
                    "scattermapbox": [
                      {
                        "marker": {
                          "colorbar": {
                            "outlinewidth": 0,
                            "ticks": ""
                          }
                        },
                        "type": "scattermapbox"
                      }
                    ],
                    "scatterpolar": [
                      {
                        "marker": {
                          "colorbar": {
                            "outlinewidth": 0,
                            "ticks": ""
                          }
                        },
                        "type": "scatterpolar"
                      }
                    ],
                    "scatterpolargl": [
                      {
                        "marker": {
                          "colorbar": {
                            "outlinewidth": 0,
                            "ticks": ""
                          }
                        },
                        "type": "scatterpolargl"
                      }
                    ],
                    "scatterternary": [
                      {
                        "marker": {
                          "colorbar": {
                            "outlinewidth": 0,
                            "ticks": ""
                          }
                        },
                        "type": "scatterternary"
                      }
                    ],
                    "surface": [
                      {
                        "colorbar": {
                          "outlinewidth": 0,
                          "ticks": ""
                        },
                        "colorscale": [
                          [
                            0,
                            "#0d0887"
                          ],
                          [
                            0.1111111111111111,
                            "#46039f"
                          ],
                          [
                            0.2222222222222222,
                            "#7201a8"
                          ],
                          [
                            0.3333333333333333,
                            "#9c179e"
                          ],
                          [
                            0.4444444444444444,
                            "#bd3786"
                          ],
                          [
                            0.5555555555555556,
                            "#d8576b"
                          ],
                          [
                            0.6666666666666666,
                            "#ed7953"
                          ],
                          [
                            0.7777777777777778,
                            "#fb9f3a"
                          ],
                          [
                            0.8888888888888888,
                            "#fdca26"
                          ],
                          [
                            1,
                            "#f0f921"
                          ]
                        ],
                        "type": "surface"
                      }
                    ],
                    "table": [
                      {
                        "cells": {
                          "fill": {
                            "color": "#EBF0F8"
                          },
                          "line": {
                            "color": "white"
                          }
                        },
                        "header": {
                          "fill": {
                            "color": "#C8D4E3"
                          },
                          "line": {
                            "color": "white"
                          }
                        },
                        "type": "table"
                      }
                    ]
                  },
                  "layout": {
                    "annotationdefaults": {
                      "arrowcolor": "#2a3f5f",
                      "arrowhead": 0,
                      "arrowwidth": 1
                    },
                    "autotypenumbers": "strict",
                    "coloraxis": {
                      "colorbar": {
                        "outlinewidth": 0,
                        "ticks": ""
                      }
                    },
                    "colorscale": {
                      "diverging": [
                        [
                          0,
                          "#8e0152"
                        ],
                        [
                          0.1,
                          "#c51b7d"
                        ],
                        [
                          0.2,
                          "#de77ae"
                        ],
                        [
                          0.3,
                          "#f1b6da"
                        ],
                        [
                          0.4,
                          "#fde0ef"
                        ],
                        [
                          0.5,
                          "#f7f7f7"
                        ],
                        [
                          0.6,
                          "#e6f5d0"
                        ],
                        [
                          0.7,
                          "#b8e186"
                        ],
                        [
                          0.8,
                          "#7fbc41"
                        ],
                        [
                          0.9,
                          "#4d9221"
                        ],
                        [
                          1,
                          "#276419"
                        ]
                      ],
                      "sequential": [
                        [
                          0,
                          "#0d0887"
                        ],
                        [
                          0.1111111111111111,
                          "#46039f"
                        ],
                        [
                          0.2222222222222222,
                          "#7201a8"
                        ],
                        [
                          0.3333333333333333,
                          "#9c179e"
                        ],
                        [
                          0.4444444444444444,
                          "#bd3786"
                        ],
                        [
                          0.5555555555555556,
                          "#d8576b"
                        ],
                        [
                          0.6666666666666666,
                          "#ed7953"
                        ],
                        [
                          0.7777777777777778,
                          "#fb9f3a"
                        ],
                        [
                          0.8888888888888888,
                          "#fdca26"
                        ],
                        [
                          1,
                          "#f0f921"
                        ]
                      ],
                      "sequentialminus": [
                        [
                          0,
                          "#0d0887"
                        ],
                        [
                          0.1111111111111111,
                          "#46039f"
                        ],
                        [
                          0.2222222222222222,
                          "#7201a8"
                        ],
                        [
                          0.3333333333333333,
                          "#9c179e"
                        ],
                        [
                          0.4444444444444444,
                          "#bd3786"
                        ],
                        [
                          0.5555555555555556,
                          "#d8576b"
                        ],
                        [
                          0.6666666666666666,
                          "#ed7953"
                        ],
                        [
                          0.7777777777777778,
                          "#fb9f3a"
                        ],
                        [
                          0.8888888888888888,
                          "#fdca26"
                        ],
                        [
                          1,
                          "#f0f921"
                        ]
                      ]
                    },
                    "colorway": [
                      "#636efa",
                      "#EF553B",
                      "#00cc96",
                      "#ab63fa",
                      "#FFA15A",
                      "#19d3f3",
                      "#FF6692",
                      "#B6E880",
                      "#FF97FF",
                      "#FECB52"
                    ],
                    "font": {
                      "color": "#2a3f5f"
                    },
                    "geo": {
                      "bgcolor": "white",
                      "lakecolor": "white",
                      "landcolor": "#E5ECF6",
                      "showlakes": true,
                      "showland": true,
                      "subunitcolor": "white"
                    },
                    "hoverlabel": {
                      "align": "left"
                    },
                    "hovermode": "closest",
                    "mapbox": {
                      "style": "light"
                    },
                    "paper_bgcolor": "white",
                    "plot_bgcolor": "#E5ECF6",
                    "polar": {
                      "angularaxis": {
                        "gridcolor": "white",
                        "linecolor": "white",
                        "ticks": ""
                      },
                      "bgcolor": "#E5ECF6",
                      "radialaxis": {
                        "gridcolor": "white",
                        "linecolor": "white",
                        "ticks": ""
                      }
                    },
                    "scene": {
                      "xaxis": {
                        "backgroundcolor": "#E5ECF6",
                        "gridcolor": "white",
                        "gridwidth": 2,
                        "linecolor": "white",
                        "showbackground": true,
                        "ticks": "",
                        "zerolinecolor": "white"
                      },
                      "yaxis": {
                        "backgroundcolor": "#E5ECF6",
                        "gridcolor": "white",
                        "gridwidth": 2,
                        "linecolor": "white",
                        "showbackground": true,
                        "ticks": "",
                        "zerolinecolor": "white"
                      },
                      "zaxis": {
                        "backgroundcolor": "#E5ECF6",
                        "gridcolor": "white",
                        "gridwidth": 2,
                        "linecolor": "white",
                        "showbackground": true,
                        "ticks": "",
                        "zerolinecolor": "white"
                      }
                    },
                    "shapedefaults": {
                      "line": {
                        "color": "#2a3f5f"
                      }
                    },
                    "ternary": {
                      "aaxis": {
                        "gridcolor": "white",
                        "linecolor": "white",
                        "ticks": ""
                      },
                      "baxis": {
                        "gridcolor": "white",
                        "linecolor": "white",
                        "ticks": ""
                      },
                      "bgcolor": "#E5ECF6",
                      "caxis": {
                        "gridcolor": "white",
                        "linecolor": "white",
                        "ticks": ""
                      }
                    },
                    "title": {
                      "x": 0.05
                    },
                    "xaxis": {
                      "automargin": true,
                      "gridcolor": "white",
                      "linecolor": "white",
                      "ticks": "",
                      "title": {
                        "standoff": 15
                      },
                      "zerolinecolor": "white",
                      "zerolinewidth": 2
                    },
                    "yaxis": {
                      "automargin": true,
                      "gridcolor": "white",
                      "linecolor": "white",
                      "ticks": "",
                      "title": {
                        "standoff": 15
                      },
                      "zerolinecolor": "white",
                      "zerolinewidth": 2
                    }
                  }
                },
                "title": {
                  "text": "EN(B) (#4 in FI)",
                  "x": 0.5,
                  "xanchor": "center"
                },
                "width": 700,
                "xaxis": {
                  "anchor": "y",
                  "domain": [
                    0,
                    1
                  ],
                  "dtick": 0.05,
                  "fixedrange": true,
                  "gridcolor": "black",
                  "linecolor": "black",
                  "range": [
                    0,
                    0.4
                  ],
                  "showgrid": false
                },
                "xaxis2": {
                  "anchor": "y2",
                  "domain": [
                    0,
                    1
                  ],
                  "fixedrange": false,
                  "range": [
                    1.12,
                    2.36
                  ],
                  "title": {
                    "text": "EN(B)"
                  }
                },
                "yaxis": {
                  "anchor": "x",
                  "color": "black",
                  "domain": [
                    0.9200000000000002,
                    1
                  ],
                  "fixedrange": true,
                  "showgrid": false,
                  "showline": false,
                  "showticklabels": false,
                  "zeroline": false
                },
                "yaxis2": {
                  "anchor": "x2",
                  "domain": [
                    0,
                    0.7200000000000001
                  ],
                  "fixedrange": true,
                  "title": {
                    "text": "Probability Density"
                  }
                }
              }
            }
          },
          "metadata": {},
          "output_type": "display_data"
        },
        {
          "data": {
            "text/html": []
          },
          "metadata": {},
          "output_type": "display_data"
        },
        {
          "data": {
            "application/vnd.plotly.v1+json": {
              "config": {
                "plotlyServerURL": "https://plot.ly"
              },
              "data": [
                {
                  "base": 0,
                  "marker": {
                    "color": "#01B8AA"
                  },
                  "offsetgroup": "0",
                  "orientation": "h",
                  "showlegend": false,
                  "type": "bar",
                  "x": [
                    0.014383584249826926
                  ],
                  "xaxis": "x",
                  "y": [
                    "Drift Score"
                  ],
                  "yaxis": "y"
                },
                {
                  "fill": "tozeroy",
                  "line": {
                    "color": "#00008b"
                  },
                  "name": "Train Dataset",
                  "type": "scatter",
                  "x": [
                    0.79,
                    0.82,
                    0.8220408163265307,
                    0.8540816326530613,
                    0.8802,
                    0.8861224489795918,
                    0.89,
                    0.89,
                    0.9181632653061225,
                    0.93,
                    0.95,
                    0.95,
                    0.9502040816326531,
                    0.9822448979591837,
                    0.9887999999999999,
                    1,
                    1,
                    1.0142857142857142,
                    1.046326530612245,
                    1.0783673469387756,
                    1.1,
                    1.1,
                    1.1,
                    1.1,
                    1.1,
                    1.1,
                    1.1,
                    1.1104081632653062,
                    1.12,
                    1.12,
                    1.12,
                    1.12,
                    1.13,
                    1.13,
                    1.13,
                    1.13,
                    1.14,
                    1.14,
                    1.14,
                    1.14,
                    1.14,
                    1.1424489795918367,
                    1.1507999999999998,
                    1.17,
                    1.17,
                    1.1744897959183673,
                    1.2,
                    1.2,
                    1.2,
                    1.2,
                    1.2,
                    1.2,
                    1.2,
                    1.2,
                    1.2,
                    1.206530612244898,
                    1.22,
                    1.22,
                    1.22,
                    1.22,
                    1.22,
                    1.23,
                    1.23,
                    1.23,
                    1.23,
                    1.2385714285714284,
                    1.24,
                    1.24,
                    1.25,
                    1.25,
                    1.268800000000001,
                    1.27,
                    1.27,
                    1.270612244897959,
                    1.3,
                    1.3026530612244898,
                    1.31,
                    1.33,
                    1.3346938775510204,
                    1.3455999999999995,
                    1.36,
                    1.366734693877551,
                    1.38,
                    1.38,
                    1.3987755102040815,
                    1.4308163265306122,
                    1.4628571428571429,
                    1.4948979591836733,
                    1.526938775510204,
                    1.54,
                    1.55,
                    1.55,
                    1.5589795918367346,
                    1.5910204081632653,
                    1.6,
                    1.62,
                    1.62,
                    1.623061224489796,
                    1.65,
                    1.65,
                    1.6551020408163264,
                    1.687142857142857,
                    1.69,
                    1.69,
                    1.69,
                    1.7191836734693877,
                    1.738600000000007,
                    1.7512244897959182,
                    1.78,
                    1.7832653061224488,
                    1.8153061224489795,
                    1.83,
                    1.8473469387755102,
                    1.8500000000000016,
                    1.8793877551020408,
                    1.9,
                    1.9114285714285713,
                    1.93,
                    1.9336000000000035,
                    1.943469387755102,
                    1.96,
                    1.9755102040816326,
                    2,
                    2,
                    2.007551020408163,
                    2.02,
                    2.02,
                    2.02,
                    2.02,
                    2.0232000000000006,
                    2.0395918367346937,
                    2.04,
                    2.0716326530612243,
                    2.1,
                    2.1,
                    2.103673469387755,
                    2.1357142857142857,
                    2.1677551020408163,
                    2.1997959183673466,
                    2.2,
                    2.2064000000000035,
                    2.2318367346938777,
                    2.263877551020408,
                    2.2959183673469385,
                    2.327959183673469,
                    2.33,
                    2.33,
                    2.36
                  ],
                  "xaxis": "x2",
                  "y": [
                    0.18731879678071364,
                    0.24270319563358195,
                    0.24664191741475236,
                    0.31101380151236,
                    0.36762718626817703,
                    0.3812053621074477,
                    0.3902877856702813,
                    0.3902877856702813,
                    0.4624196501659988,
                    0.49714583720261,
                    0.5642800392965802,
                    0.5642800392965802,
                    0.5650292230030618,
                    0.7022956507418651,
                    0.735713390915406,
                    0.7973490360851028,
                    0.7973490360851028,
                    0.8843013236079023,
                    1.109813718657821,
                    1.360259417592702,
                    1.526032315571852,
                    1.526032315571852,
                    1.526032315571852,
                    1.526032315571852,
                    1.526032315571852,
                    1.526032315571852,
                    1.526032315571852,
                    1.6001257113899126,
                    1.663291944061691,
                    1.663291944061691,
                    1.663291944061691,
                    1.663291944061691,
                    1.7225962730346105,
                    1.7225962730346105,
                    1.7225962730346105,
                    1.7225962730346105,
                    1.7739664677710074,
                    1.7739664677710074,
                    1.7739664677710074,
                    1.7739664677710074,
                    1.7739664677710074,
                    1.785204481764739,
                    1.8192277374170187,
                    1.8699782470308515,
                    1.8699782470308515,
                    1.87594175123166,
                    1.8653068133243116,
                    1.8653068133243116,
                    1.8653068133243116,
                    1.8653068133243116,
                    1.8653068133243116,
                    1.8653068133243116,
                    1.8653068133243116,
                    1.8653068133243116,
                    1.8653068133243116,
                    1.8504478267747815,
                    1.8048759474246394,
                    1.8048759474246394,
                    1.8048759474246394,
                    1.8048759474246394,
                    1.8048759474246394,
                    1.7588261489324373,
                    1.7588261489324373,
                    1.7588261489324373,
                    1.7588261489324373,
                    1.7118103903110387,
                    1.703346270348714,
                    1.703346270348714,
                    1.6395079876488827,
                    1.6395079876488827,
                    1.501184076212997,
                    1.491702642755559,
                    1.491702642755559,
                    1.486840258105656,
                    1.2400115242818714,
                    1.2170645286012542,
                    1.1535765699642395,
                    0.9843876963386774,
                    0.9461137562418432,
                    0.8602248935320012,
                    0.7546929823406892,
                    0.7088775208546392,
                    0.6259186994577954,
                    0.6259186994577954,
                    0.5260727747607091,
                    0.40441874414277373,
                    0.33999038081300254,
                    0.3220498466635717,
                    0.3360654652336109,
                    0.34726474213057645,
                    0.35695379442032044,
                    0.35695379442032044,
                    0.36605251812411393,
                    0.39685598736048466,
                    0.4039004370510098,
                    0.4154527177904059,
                    0.4154527177904059,
                    0.4166478267183621,
                    0.42002551713107394,
                    0.42002551713107394,
                    0.4192276938507467,
                    0.40518548951615135,
                    0.4033128938914863,
                    0.4033128938914863,
                    0.4033128938914863,
                    0.381079273941052,
                    0.36567548345744466,
                    0.35667106920374003,
                    0.34231238732394564,
                    0.34138862571350664,
                    0.3415625347684276,
                    0.3475338752077422,
                    0.3592319621084017,
                    0.361438358560021,
                    0.39215297042647496,
                    0.41869496853307575,
                    0.43422361568496953,
                    0.45924037985090016,
                    0.46390981782680996,
                    0.4761687132034909,
                    0.49418358945022794,
                    0.5071121125370023,
                    0.5172462075268626,
                    0.5172462075268626,
                    0.5174716475896964,
                    0.5146815896161535,
                    0.5146815896161535,
                    0.5146815896161535,
                    0.5146815896161535,
                    0.5133254897462599,
                    0.5023737455535066,
                    0.5020180251322428,
                    0.4637252458238063,
                    0.4161489507966815,
                    0.4161489507966815,
                    0.4094761198650823,
                    0.3503410545665475,
                    0.29582671358083795,
                    0.25152095456384466,
                    0.2512758720561082,
                    0.2438251599892909,
                    0.21842152821713132,
                    0.19388071485060285,
                    0.17337508566752974,
                    0.15250229962711953,
                    0.15108642496912372,
                    0.15108642496912372,
                    0.12869290274297196
                  ],
                  "yaxis": "y2"
                },
                {
                  "fill": "tozeroy",
                  "line": {
                    "color": "#69b3a2"
                  },
                  "name": "Test Dataset",
                  "type": "scatter",
                  "x": [
                    0.79,
                    0.82,
                    0.8220408163265307,
                    0.8540816326530613,
                    0.8802,
                    0.8861224489795918,
                    0.89,
                    0.89,
                    0.9181632653061225,
                    0.93,
                    0.95,
                    0.95,
                    0.9502040816326531,
                    0.9822448979591837,
                    0.9887999999999999,
                    1,
                    1,
                    1.0142857142857142,
                    1.046326530612245,
                    1.0783673469387756,
                    1.1,
                    1.1,
                    1.1,
                    1.1,
                    1.1,
                    1.1,
                    1.1,
                    1.1104081632653062,
                    1.12,
                    1.12,
                    1.12,
                    1.12,
                    1.13,
                    1.13,
                    1.13,
                    1.13,
                    1.14,
                    1.14,
                    1.14,
                    1.14,
                    1.14,
                    1.1424489795918367,
                    1.1507999999999998,
                    1.17,
                    1.17,
                    1.1744897959183673,
                    1.2,
                    1.2,
                    1.2,
                    1.2,
                    1.2,
                    1.2,
                    1.2,
                    1.2,
                    1.2,
                    1.206530612244898,
                    1.22,
                    1.22,
                    1.22,
                    1.22,
                    1.22,
                    1.23,
                    1.23,
                    1.23,
                    1.23,
                    1.2385714285714284,
                    1.24,
                    1.24,
                    1.25,
                    1.25,
                    1.268800000000001,
                    1.27,
                    1.27,
                    1.270612244897959,
                    1.3,
                    1.3026530612244898,
                    1.31,
                    1.33,
                    1.3346938775510204,
                    1.3455999999999995,
                    1.36,
                    1.366734693877551,
                    1.38,
                    1.38,
                    1.3987755102040815,
                    1.4308163265306122,
                    1.4628571428571429,
                    1.4948979591836733,
                    1.526938775510204,
                    1.54,
                    1.55,
                    1.55,
                    1.5589795918367346,
                    1.5910204081632653,
                    1.6,
                    1.62,
                    1.62,
                    1.623061224489796,
                    1.65,
                    1.65,
                    1.6551020408163264,
                    1.687142857142857,
                    1.69,
                    1.69,
                    1.69,
                    1.7191836734693877,
                    1.738600000000007,
                    1.7512244897959182,
                    1.78,
                    1.7832653061224488,
                    1.8153061224489795,
                    1.83,
                    1.8473469387755102,
                    1.8500000000000016,
                    1.8793877551020408,
                    1.9,
                    1.9114285714285713,
                    1.93,
                    1.9336000000000035,
                    1.943469387755102,
                    1.96,
                    1.9755102040816326,
                    2,
                    2,
                    2.007551020408163,
                    2.02,
                    2.02,
                    2.02,
                    2.02,
                    2.0232000000000006,
                    2.0395918367346937,
                    2.04,
                    2.0716326530612243,
                    2.1,
                    2.1,
                    2.103673469387755,
                    2.1357142857142857,
                    2.1677551020408163,
                    2.1997959183673466,
                    2.2,
                    2.2064000000000035,
                    2.2318367346938777,
                    2.263877551020408,
                    2.2959183673469385,
                    2.327959183673469,
                    2.33,
                    2.33,
                    2.36
                  ],
                  "xaxis": "x2",
                  "y": [
                    0.23699688187113435,
                    0.2957867248443054,
                    0.29983599618971235,
                    0.3638828039085098,
                    0.4175975680582627,
                    0.43023659035568296,
                    0.43865329629069044,
                    0.43865329629069044,
                    0.5048299746666174,
                    0.5364701204536092,
                    0.5974620904602106,
                    0.5974620904602106,
                    0.5981415316641371,
                    0.7220258157262799,
                    0.7519615520536912,
                    0.8069033599669,
                    0.8069033599669,
                    0.883778291283363,
                    1.0795395826080838,
                    1.2905956197787776,
                    1.4262006476947466,
                    1.4262006476947466,
                    1.4262006476947466,
                    1.4262006476947466,
                    1.4262006476947466,
                    1.4262006476947466,
                    1.4262006476947466,
                    1.485524316718161,
                    1.5353070527467425,
                    1.5353070527467425,
                    1.5353070527467425,
                    1.5353070527467425,
                    1.5811944021329247,
                    1.5811944021329247,
                    1.5811944021329247,
                    1.5811944021329247,
                    1.6200089632947847,
                    1.6200089632947847,
                    1.6200089632947847,
                    1.6200089632947847,
                    1.6200089632947847,
                    1.628339632878967,
                    1.6530408373088228,
                    1.6865829319353554,
                    1.6865829319353554,
                    1.6895160130059967,
                    1.6699730528086394,
                    1.6699730528086394,
                    1.6699730528086394,
                    1.6699730528086394,
                    1.6699730528086394,
                    1.6699730528086394,
                    1.6699730528086394,
                    1.6699730528086394,
                    1.6699730528086394,
                    1.655236390374466,
                    1.6130494416679548,
                    1.6130494416679548,
                    1.6130494416679548,
                    1.6130494416679548,
                    1.6130494416679548,
                    1.5721530792192981,
                    1.5721530792192981,
                    1.5721530792192981,
                    1.5721530792192981,
                    1.5312274351032147,
                    1.523919432698595,
                    1.523919432698595,
                    1.4692151838369814,
                    1.4692151838369814,
                    1.3522551106276925,
                    1.3442874171144772,
                    1.3442874171144772,
                    1.34020308133903,
                    1.1337794481633863,
                    1.1146265499022567,
                    1.0616250675375614,
                    0.920118723446731,
                    0.8880184727360156,
                    0.8158186804256411,
                    0.7267359487771865,
                    0.6879176649085535,
                    0.6173931055343849,
                    0.6173931055343849,
                    0.5321364426966432,
                    0.4281337164160743,
                    0.3742862354444309,
                    0.36195812472367866,
                    0.3779436622305925,
                    0.389121717463092,
                    0.39853881284170145,
                    0.39853881284170145,
                    0.4072395564435223,
                    0.43595513574146993,
                    0.4423830216143019,
                    0.4528031987998342,
                    0.4528031987998342,
                    0.453869939639913,
                    0.4568087299933115,
                    0.4568087299933115,
                    0.4560757173711226,
                    0.4433312696033391,
                    0.4416254198721227,
                    0.4416254198721227,
                    0.4416254198721227,
                    0.42108977021555666,
                    0.406406062729203,
                    0.3975328958480699,
                    0.38233298663739945,
                    0.3812216165920812,
                    0.37895040293115057,
                    0.38368575592592863,
                    0.39407513280511286,
                    0.39610452919871125,
                    0.42532992176456014,
                    0.4511816782456632,
                    0.46630683581935695,
                    0.4903673842766202,
                    0.49478095423558766,
                    0.5061789996231755,
                    0.5221178786184681,
                    0.5322438289885065,
                    0.5361337175889579,
                    0.5361337175889579,
                    0.5340058622284187,
                    0.526960483654574,
                    0.526960483654574,
                    0.526960483654574,
                    0.526960483654574,
                    0.5244452490488951,
                    0.5072491216670726,
                    0.5067330593901787,
                    0.4559859490497715,
                    0.3987598625113339,
                    0.3987598625113339,
                    0.39105552704792695,
                    0.3259909716512329,
                    0.2722052365855901,
                    0.2355902093867113,
                    0.23541398063876953,
                    0.23023194104526257,
                    0.21554670059759842,
                    0.20628298983755614,
                    0.19958589122860754,
                    0.1880581960957413,
                    0.1870435004322057,
                    0.1870435004322057,
                    0.1677257055455099
                  ],
                  "yaxis": "y2"
                }
              ],
              "layout": {
                "annotations": [
                  {
                    "font": {
                      "size": 16
                    },
                    "showarrow": false,
                    "text": "Drift Score (Earth Mover's Distance)",
                    "x": 0.5,
                    "xanchor": "center",
                    "xref": "paper",
                    "y": 1.0000000000000002,
                    "yanchor": "bottom",
                    "yref": "paper"
                  },
                  {
                    "font": {
                      "size": 16
                    },
                    "showarrow": false,
                    "text": "Distribution Plot",
                    "x": 0.5,
                    "xanchor": "center",
                    "xref": "paper",
                    "y": 0.7200000000000001,
                    "yanchor": "bottom",
                    "yref": "paper"
                  }
                ],
                "bargroupgap": 0,
                "height": 400,
                "legend": {
                  "title": {
                    "text": "Dataset"
                  },
                  "y": 0.6,
                  "yanchor": "top"
                },
                "template": {
                  "data": {
                    "bar": [
                      {
                        "error_x": {
                          "color": "#2a3f5f"
                        },
                        "error_y": {
                          "color": "#2a3f5f"
                        },
                        "marker": {
                          "line": {
                            "color": "#E5ECF6",
                            "width": 0.5
                          },
                          "pattern": {
                            "fillmode": "overlay",
                            "size": 10,
                            "solidity": 0.2
                          }
                        },
                        "type": "bar"
                      }
                    ],
                    "barpolar": [
                      {
                        "marker": {
                          "line": {
                            "color": "#E5ECF6",
                            "width": 0.5
                          },
                          "pattern": {
                            "fillmode": "overlay",
                            "size": 10,
                            "solidity": 0.2
                          }
                        },
                        "type": "barpolar"
                      }
                    ],
                    "carpet": [
                      {
                        "aaxis": {
                          "endlinecolor": "#2a3f5f",
                          "gridcolor": "white",
                          "linecolor": "white",
                          "minorgridcolor": "white",
                          "startlinecolor": "#2a3f5f"
                        },
                        "baxis": {
                          "endlinecolor": "#2a3f5f",
                          "gridcolor": "white",
                          "linecolor": "white",
                          "minorgridcolor": "white",
                          "startlinecolor": "#2a3f5f"
                        },
                        "type": "carpet"
                      }
                    ],
                    "choropleth": [
                      {
                        "colorbar": {
                          "outlinewidth": 0,
                          "ticks": ""
                        },
                        "type": "choropleth"
                      }
                    ],
                    "contour": [
                      {
                        "colorbar": {
                          "outlinewidth": 0,
                          "ticks": ""
                        },
                        "colorscale": [
                          [
                            0,
                            "#0d0887"
                          ],
                          [
                            0.1111111111111111,
                            "#46039f"
                          ],
                          [
                            0.2222222222222222,
                            "#7201a8"
                          ],
                          [
                            0.3333333333333333,
                            "#9c179e"
                          ],
                          [
                            0.4444444444444444,
                            "#bd3786"
                          ],
                          [
                            0.5555555555555556,
                            "#d8576b"
                          ],
                          [
                            0.6666666666666666,
                            "#ed7953"
                          ],
                          [
                            0.7777777777777778,
                            "#fb9f3a"
                          ],
                          [
                            0.8888888888888888,
                            "#fdca26"
                          ],
                          [
                            1,
                            "#f0f921"
                          ]
                        ],
                        "type": "contour"
                      }
                    ],
                    "contourcarpet": [
                      {
                        "colorbar": {
                          "outlinewidth": 0,
                          "ticks": ""
                        },
                        "type": "contourcarpet"
                      }
                    ],
                    "heatmap": [
                      {
                        "colorbar": {
                          "outlinewidth": 0,
                          "ticks": ""
                        },
                        "colorscale": [
                          [
                            0,
                            "#0d0887"
                          ],
                          [
                            0.1111111111111111,
                            "#46039f"
                          ],
                          [
                            0.2222222222222222,
                            "#7201a8"
                          ],
                          [
                            0.3333333333333333,
                            "#9c179e"
                          ],
                          [
                            0.4444444444444444,
                            "#bd3786"
                          ],
                          [
                            0.5555555555555556,
                            "#d8576b"
                          ],
                          [
                            0.6666666666666666,
                            "#ed7953"
                          ],
                          [
                            0.7777777777777778,
                            "#fb9f3a"
                          ],
                          [
                            0.8888888888888888,
                            "#fdca26"
                          ],
                          [
                            1,
                            "#f0f921"
                          ]
                        ],
                        "type": "heatmap"
                      }
                    ],
                    "heatmapgl": [
                      {
                        "colorbar": {
                          "outlinewidth": 0,
                          "ticks": ""
                        },
                        "colorscale": [
                          [
                            0,
                            "#0d0887"
                          ],
                          [
                            0.1111111111111111,
                            "#46039f"
                          ],
                          [
                            0.2222222222222222,
                            "#7201a8"
                          ],
                          [
                            0.3333333333333333,
                            "#9c179e"
                          ],
                          [
                            0.4444444444444444,
                            "#bd3786"
                          ],
                          [
                            0.5555555555555556,
                            "#d8576b"
                          ],
                          [
                            0.6666666666666666,
                            "#ed7953"
                          ],
                          [
                            0.7777777777777778,
                            "#fb9f3a"
                          ],
                          [
                            0.8888888888888888,
                            "#fdca26"
                          ],
                          [
                            1,
                            "#f0f921"
                          ]
                        ],
                        "type": "heatmapgl"
                      }
                    ],
                    "histogram": [
                      {
                        "marker": {
                          "pattern": {
                            "fillmode": "overlay",
                            "size": 10,
                            "solidity": 0.2
                          }
                        },
                        "type": "histogram"
                      }
                    ],
                    "histogram2d": [
                      {
                        "colorbar": {
                          "outlinewidth": 0,
                          "ticks": ""
                        },
                        "colorscale": [
                          [
                            0,
                            "#0d0887"
                          ],
                          [
                            0.1111111111111111,
                            "#46039f"
                          ],
                          [
                            0.2222222222222222,
                            "#7201a8"
                          ],
                          [
                            0.3333333333333333,
                            "#9c179e"
                          ],
                          [
                            0.4444444444444444,
                            "#bd3786"
                          ],
                          [
                            0.5555555555555556,
                            "#d8576b"
                          ],
                          [
                            0.6666666666666666,
                            "#ed7953"
                          ],
                          [
                            0.7777777777777778,
                            "#fb9f3a"
                          ],
                          [
                            0.8888888888888888,
                            "#fdca26"
                          ],
                          [
                            1,
                            "#f0f921"
                          ]
                        ],
                        "type": "histogram2d"
                      }
                    ],
                    "histogram2dcontour": [
                      {
                        "colorbar": {
                          "outlinewidth": 0,
                          "ticks": ""
                        },
                        "colorscale": [
                          [
                            0,
                            "#0d0887"
                          ],
                          [
                            0.1111111111111111,
                            "#46039f"
                          ],
                          [
                            0.2222222222222222,
                            "#7201a8"
                          ],
                          [
                            0.3333333333333333,
                            "#9c179e"
                          ],
                          [
                            0.4444444444444444,
                            "#bd3786"
                          ],
                          [
                            0.5555555555555556,
                            "#d8576b"
                          ],
                          [
                            0.6666666666666666,
                            "#ed7953"
                          ],
                          [
                            0.7777777777777778,
                            "#fb9f3a"
                          ],
                          [
                            0.8888888888888888,
                            "#fdca26"
                          ],
                          [
                            1,
                            "#f0f921"
                          ]
                        ],
                        "type": "histogram2dcontour"
                      }
                    ],
                    "mesh3d": [
                      {
                        "colorbar": {
                          "outlinewidth": 0,
                          "ticks": ""
                        },
                        "type": "mesh3d"
                      }
                    ],
                    "parcoords": [
                      {
                        "line": {
                          "colorbar": {
                            "outlinewidth": 0,
                            "ticks": ""
                          }
                        },
                        "type": "parcoords"
                      }
                    ],
                    "pie": [
                      {
                        "automargin": true,
                        "type": "pie"
                      }
                    ],
                    "scatter": [
                      {
                        "marker": {
                          "colorbar": {
                            "outlinewidth": 0,
                            "ticks": ""
                          }
                        },
                        "type": "scatter"
                      }
                    ],
                    "scatter3d": [
                      {
                        "line": {
                          "colorbar": {
                            "outlinewidth": 0,
                            "ticks": ""
                          }
                        },
                        "marker": {
                          "colorbar": {
                            "outlinewidth": 0,
                            "ticks": ""
                          }
                        },
                        "type": "scatter3d"
                      }
                    ],
                    "scattercarpet": [
                      {
                        "marker": {
                          "colorbar": {
                            "outlinewidth": 0,
                            "ticks": ""
                          }
                        },
                        "type": "scattercarpet"
                      }
                    ],
                    "scattergeo": [
                      {
                        "marker": {
                          "colorbar": {
                            "outlinewidth": 0,
                            "ticks": ""
                          }
                        },
                        "type": "scattergeo"
                      }
                    ],
                    "scattergl": [
                      {
                        "marker": {
                          "colorbar": {
                            "outlinewidth": 0,
                            "ticks": ""
                          }
                        },
                        "type": "scattergl"
                      }
                    ],
                    "scattermapbox": [
                      {
                        "marker": {
                          "colorbar": {
                            "outlinewidth": 0,
                            "ticks": ""
                          }
                        },
                        "type": "scattermapbox"
                      }
                    ],
                    "scatterpolar": [
                      {
                        "marker": {
                          "colorbar": {
                            "outlinewidth": 0,
                            "ticks": ""
                          }
                        },
                        "type": "scatterpolar"
                      }
                    ],
                    "scatterpolargl": [
                      {
                        "marker": {
                          "colorbar": {
                            "outlinewidth": 0,
                            "ticks": ""
                          }
                        },
                        "type": "scatterpolargl"
                      }
                    ],
                    "scatterternary": [
                      {
                        "marker": {
                          "colorbar": {
                            "outlinewidth": 0,
                            "ticks": ""
                          }
                        },
                        "type": "scatterternary"
                      }
                    ],
                    "surface": [
                      {
                        "colorbar": {
                          "outlinewidth": 0,
                          "ticks": ""
                        },
                        "colorscale": [
                          [
                            0,
                            "#0d0887"
                          ],
                          [
                            0.1111111111111111,
                            "#46039f"
                          ],
                          [
                            0.2222222222222222,
                            "#7201a8"
                          ],
                          [
                            0.3333333333333333,
                            "#9c179e"
                          ],
                          [
                            0.4444444444444444,
                            "#bd3786"
                          ],
                          [
                            0.5555555555555556,
                            "#d8576b"
                          ],
                          [
                            0.6666666666666666,
                            "#ed7953"
                          ],
                          [
                            0.7777777777777778,
                            "#fb9f3a"
                          ],
                          [
                            0.8888888888888888,
                            "#fdca26"
                          ],
                          [
                            1,
                            "#f0f921"
                          ]
                        ],
                        "type": "surface"
                      }
                    ],
                    "table": [
                      {
                        "cells": {
                          "fill": {
                            "color": "#EBF0F8"
                          },
                          "line": {
                            "color": "white"
                          }
                        },
                        "header": {
                          "fill": {
                            "color": "#C8D4E3"
                          },
                          "line": {
                            "color": "white"
                          }
                        },
                        "type": "table"
                      }
                    ]
                  },
                  "layout": {
                    "annotationdefaults": {
                      "arrowcolor": "#2a3f5f",
                      "arrowhead": 0,
                      "arrowwidth": 1
                    },
                    "autotypenumbers": "strict",
                    "coloraxis": {
                      "colorbar": {
                        "outlinewidth": 0,
                        "ticks": ""
                      }
                    },
                    "colorscale": {
                      "diverging": [
                        [
                          0,
                          "#8e0152"
                        ],
                        [
                          0.1,
                          "#c51b7d"
                        ],
                        [
                          0.2,
                          "#de77ae"
                        ],
                        [
                          0.3,
                          "#f1b6da"
                        ],
                        [
                          0.4,
                          "#fde0ef"
                        ],
                        [
                          0.5,
                          "#f7f7f7"
                        ],
                        [
                          0.6,
                          "#e6f5d0"
                        ],
                        [
                          0.7,
                          "#b8e186"
                        ],
                        [
                          0.8,
                          "#7fbc41"
                        ],
                        [
                          0.9,
                          "#4d9221"
                        ],
                        [
                          1,
                          "#276419"
                        ]
                      ],
                      "sequential": [
                        [
                          0,
                          "#0d0887"
                        ],
                        [
                          0.1111111111111111,
                          "#46039f"
                        ],
                        [
                          0.2222222222222222,
                          "#7201a8"
                        ],
                        [
                          0.3333333333333333,
                          "#9c179e"
                        ],
                        [
                          0.4444444444444444,
                          "#bd3786"
                        ],
                        [
                          0.5555555555555556,
                          "#d8576b"
                        ],
                        [
                          0.6666666666666666,
                          "#ed7953"
                        ],
                        [
                          0.7777777777777778,
                          "#fb9f3a"
                        ],
                        [
                          0.8888888888888888,
                          "#fdca26"
                        ],
                        [
                          1,
                          "#f0f921"
                        ]
                      ],
                      "sequentialminus": [
                        [
                          0,
                          "#0d0887"
                        ],
                        [
                          0.1111111111111111,
                          "#46039f"
                        ],
                        [
                          0.2222222222222222,
                          "#7201a8"
                        ],
                        [
                          0.3333333333333333,
                          "#9c179e"
                        ],
                        [
                          0.4444444444444444,
                          "#bd3786"
                        ],
                        [
                          0.5555555555555556,
                          "#d8576b"
                        ],
                        [
                          0.6666666666666666,
                          "#ed7953"
                        ],
                        [
                          0.7777777777777778,
                          "#fb9f3a"
                        ],
                        [
                          0.8888888888888888,
                          "#fdca26"
                        ],
                        [
                          1,
                          "#f0f921"
                        ]
                      ]
                    },
                    "colorway": [
                      "#636efa",
                      "#EF553B",
                      "#00cc96",
                      "#ab63fa",
                      "#FFA15A",
                      "#19d3f3",
                      "#FF6692",
                      "#B6E880",
                      "#FF97FF",
                      "#FECB52"
                    ],
                    "font": {
                      "color": "#2a3f5f"
                    },
                    "geo": {
                      "bgcolor": "white",
                      "lakecolor": "white",
                      "landcolor": "#E5ECF6",
                      "showlakes": true,
                      "showland": true,
                      "subunitcolor": "white"
                    },
                    "hoverlabel": {
                      "align": "left"
                    },
                    "hovermode": "closest",
                    "mapbox": {
                      "style": "light"
                    },
                    "paper_bgcolor": "white",
                    "plot_bgcolor": "#E5ECF6",
                    "polar": {
                      "angularaxis": {
                        "gridcolor": "white",
                        "linecolor": "white",
                        "ticks": ""
                      },
                      "bgcolor": "#E5ECF6",
                      "radialaxis": {
                        "gridcolor": "white",
                        "linecolor": "white",
                        "ticks": ""
                      }
                    },
                    "scene": {
                      "xaxis": {
                        "backgroundcolor": "#E5ECF6",
                        "gridcolor": "white",
                        "gridwidth": 2,
                        "linecolor": "white",
                        "showbackground": true,
                        "ticks": "",
                        "zerolinecolor": "white"
                      },
                      "yaxis": {
                        "backgroundcolor": "#E5ECF6",
                        "gridcolor": "white",
                        "gridwidth": 2,
                        "linecolor": "white",
                        "showbackground": true,
                        "ticks": "",
                        "zerolinecolor": "white"
                      },
                      "zaxis": {
                        "backgroundcolor": "#E5ECF6",
                        "gridcolor": "white",
                        "gridwidth": 2,
                        "linecolor": "white",
                        "showbackground": true,
                        "ticks": "",
                        "zerolinecolor": "white"
                      }
                    },
                    "shapedefaults": {
                      "line": {
                        "color": "#2a3f5f"
                      }
                    },
                    "ternary": {
                      "aaxis": {
                        "gridcolor": "white",
                        "linecolor": "white",
                        "ticks": ""
                      },
                      "baxis": {
                        "gridcolor": "white",
                        "linecolor": "white",
                        "ticks": ""
                      },
                      "bgcolor": "#E5ECF6",
                      "caxis": {
                        "gridcolor": "white",
                        "linecolor": "white",
                        "ticks": ""
                      }
                    },
                    "title": {
                      "x": 0.05
                    },
                    "xaxis": {
                      "automargin": true,
                      "gridcolor": "white",
                      "linecolor": "white",
                      "ticks": "",
                      "title": {
                        "standoff": 15
                      },
                      "zerolinecolor": "white",
                      "zerolinewidth": 2
                    },
                    "yaxis": {
                      "automargin": true,
                      "gridcolor": "white",
                      "linecolor": "white",
                      "ticks": "",
                      "title": {
                        "standoff": 15
                      },
                      "zerolinecolor": "white",
                      "zerolinewidth": 2
                    }
                  }
                },
                "title": {
                  "text": "EN(A) (#5 in FI)",
                  "x": 0.5,
                  "xanchor": "center"
                },
                "width": 700,
                "xaxis": {
                  "anchor": "y",
                  "domain": [
                    0,
                    1
                  ],
                  "dtick": 0.05,
                  "fixedrange": true,
                  "gridcolor": "black",
                  "linecolor": "black",
                  "range": [
                    0,
                    0.4
                  ],
                  "showgrid": false
                },
                "xaxis2": {
                  "anchor": "y2",
                  "domain": [
                    0,
                    1
                  ],
                  "fixedrange": false,
                  "range": [
                    0.82,
                    2.33
                  ],
                  "title": {
                    "text": "EN(A)"
                  }
                },
                "yaxis": {
                  "anchor": "x",
                  "color": "black",
                  "domain": [
                    0.9200000000000002,
                    1
                  ],
                  "fixedrange": true,
                  "showgrid": false,
                  "showline": false,
                  "showticklabels": false,
                  "zeroline": false
                },
                "yaxis2": {
                  "anchor": "x2",
                  "domain": [
                    0,
                    0.7200000000000001
                  ],
                  "fixedrange": true,
                  "title": {
                    "text": "Probability Density"
                  }
                }
              }
            }
          },
          "metadata": {},
          "output_type": "display_data"
        },
        {
          "data": {
            "text/html": [
              "<br><a href=\"#summary_OD0JV\" style=\"font-size: 14px\">Go to top</a>"
            ]
          },
          "metadata": {},
          "output_type": "display_data"
        },
        {
          "data": {
            "text/html": [
              "<hr style=\"background-color: #eee;border: 0 none;color: #eee;height: 4px;\">"
            ]
          },
          "metadata": {},
          "output_type": "display_data"
        },
        {
          "data": {
            "text/html": [
              "<h4 id=\"TrainTestLabelDrift_OD0JV\">Train Test Label Drift</h4><p>    Calculate label drift between train dataset and test dataset, using statistical measures. <a href=\"https://docs.deepchecks.com/0.6.1/examples/tabular/checks/distribution/examples/plot_train_test_label_drift.html?utm_source=display_output&utm_medium=referral&utm_campaign=check_link\" target=\"_blank\">Read More...</a></p><h5>Conditions Summary</h5><style type=\"text/css\">\n",
              "#T_cd3ed table {\n",
              "  text-align: left;\n",
              "  white-space: pre-wrap;\n",
              "}\n",
              "#T_cd3ed thead {\n",
              "  text-align: left;\n",
              "  white-space: pre-wrap;\n",
              "}\n",
              "#T_cd3ed tbody {\n",
              "  text-align: left;\n",
              "  white-space: pre-wrap;\n",
              "}\n",
              "#T_cd3ed th {\n",
              "  text-align: left;\n",
              "  white-space: pre-wrap;\n",
              "}\n",
              "#T_cd3ed td {\n",
              "  text-align: left;\n",
              "  white-space: pre-wrap;\n",
              "}\n",
              "</style>\n",
              "<table id=\"T_cd3ed\">\n",
              "  <thead>\n",
              "    <tr>\n",
              "      <th id=\"T_cd3ed_level0_col0\" class=\"col_heading level0 col0\" >Status</th>\n",
              "      <th id=\"T_cd3ed_level0_col1\" class=\"col_heading level0 col1\" >Condition</th>\n",
              "      <th id=\"T_cd3ed_level0_col2\" class=\"col_heading level0 col2\" >More Info</th>\n",
              "    </tr>\n",
              "  </thead>\n",
              "  <tbody>\n",
              "    <tr>\n",
              "      <td id=\"T_cd3ed_row0_col0\" class=\"data row0 col0\" ><div style=\"color: green;text-align: center\">✓</div></td>\n",
              "      <td id=\"T_cd3ed_row0_col1\" class=\"data row0 col1\" >PSI <= 0.2 and Earth Mover's Distance <= 0.1 for label drift</td>\n",
              "      <td id=\"T_cd3ed_row0_col2\" class=\"data row0 col2\" ></td>\n",
              "    </tr>\n",
              "  </tbody>\n",
              "</table>\n",
              "<h5>Additional Outputs</h5><div><span>\n",
              "            The Drift score is a measure for the difference between two distributions, in this check - the test\n",
              "            and train distributions.<br> The check shows the drift score and distributions for the label.\n",
              "        </span></div>"
            ]
          },
          "metadata": {},
          "output_type": "display_data"
        },
        {
          "data": {
            "application/vnd.plotly.v1+json": {
              "config": {
                "plotlyServerURL": "https://plot.ly"
              },
              "data": [
                {
                  "base": 0,
                  "marker": {
                    "color": "#01B8AA"
                  },
                  "offsetgroup": "0",
                  "orientation": "h",
                  "showlegend": false,
                  "type": "bar",
                  "x": [
                    0.000007663523886830783
                  ],
                  "xaxis": "x",
                  "y": [
                    "Drift Score"
                  ],
                  "yaxis": "y"
                },
                {
                  "marker": {
                    "color": "#00008b"
                  },
                  "name": "Train Dataset",
                  "type": "bar",
                  "x": [
                    "cubic",
                    "no cubic"
                  ],
                  "xaxis": "x2",
                  "y": [
                    0.4827586206896552,
                    0.5172413793103449
                  ],
                  "yaxis": "y2"
                },
                {
                  "marker": {
                    "color": "#69b3a2"
                  },
                  "name": "Test Dataset",
                  "type": "bar",
                  "x": [
                    "cubic",
                    "no cubic"
                  ],
                  "xaxis": "x2",
                  "y": [
                    0.4813753581661891,
                    0.5186246418338109
                  ],
                  "yaxis": "y2"
                }
              ],
              "layout": {
                "annotations": [
                  {
                    "font": {
                      "size": 16
                    },
                    "showarrow": false,
                    "text": "Drift Score (PSI)",
                    "x": 0.5,
                    "xanchor": "center",
                    "xref": "paper",
                    "y": 1.0000000000000002,
                    "yanchor": "bottom",
                    "yref": "paper"
                  },
                  {
                    "font": {
                      "size": 16
                    },
                    "showarrow": false,
                    "text": "Distribution Plot",
                    "x": 0.5,
                    "xanchor": "center",
                    "xref": "paper",
                    "y": 0.7200000000000001,
                    "yanchor": "bottom",
                    "yref": "paper"
                  }
                ],
                "bargroupgap": 0,
                "height": 400,
                "legend": {
                  "title": {
                    "text": "Dataset"
                  },
                  "y": 0.6,
                  "yanchor": "top"
                },
                "template": {
                  "data": {
                    "bar": [
                      {
                        "error_x": {
                          "color": "#2a3f5f"
                        },
                        "error_y": {
                          "color": "#2a3f5f"
                        },
                        "marker": {
                          "line": {
                            "color": "#E5ECF6",
                            "width": 0.5
                          },
                          "pattern": {
                            "fillmode": "overlay",
                            "size": 10,
                            "solidity": 0.2
                          }
                        },
                        "type": "bar"
                      }
                    ],
                    "barpolar": [
                      {
                        "marker": {
                          "line": {
                            "color": "#E5ECF6",
                            "width": 0.5
                          },
                          "pattern": {
                            "fillmode": "overlay",
                            "size": 10,
                            "solidity": 0.2
                          }
                        },
                        "type": "barpolar"
                      }
                    ],
                    "carpet": [
                      {
                        "aaxis": {
                          "endlinecolor": "#2a3f5f",
                          "gridcolor": "white",
                          "linecolor": "white",
                          "minorgridcolor": "white",
                          "startlinecolor": "#2a3f5f"
                        },
                        "baxis": {
                          "endlinecolor": "#2a3f5f",
                          "gridcolor": "white",
                          "linecolor": "white",
                          "minorgridcolor": "white",
                          "startlinecolor": "#2a3f5f"
                        },
                        "type": "carpet"
                      }
                    ],
                    "choropleth": [
                      {
                        "colorbar": {
                          "outlinewidth": 0,
                          "ticks": ""
                        },
                        "type": "choropleth"
                      }
                    ],
                    "contour": [
                      {
                        "colorbar": {
                          "outlinewidth": 0,
                          "ticks": ""
                        },
                        "colorscale": [
                          [
                            0,
                            "#0d0887"
                          ],
                          [
                            0.1111111111111111,
                            "#46039f"
                          ],
                          [
                            0.2222222222222222,
                            "#7201a8"
                          ],
                          [
                            0.3333333333333333,
                            "#9c179e"
                          ],
                          [
                            0.4444444444444444,
                            "#bd3786"
                          ],
                          [
                            0.5555555555555556,
                            "#d8576b"
                          ],
                          [
                            0.6666666666666666,
                            "#ed7953"
                          ],
                          [
                            0.7777777777777778,
                            "#fb9f3a"
                          ],
                          [
                            0.8888888888888888,
                            "#fdca26"
                          ],
                          [
                            1,
                            "#f0f921"
                          ]
                        ],
                        "type": "contour"
                      }
                    ],
                    "contourcarpet": [
                      {
                        "colorbar": {
                          "outlinewidth": 0,
                          "ticks": ""
                        },
                        "type": "contourcarpet"
                      }
                    ],
                    "heatmap": [
                      {
                        "colorbar": {
                          "outlinewidth": 0,
                          "ticks": ""
                        },
                        "colorscale": [
                          [
                            0,
                            "#0d0887"
                          ],
                          [
                            0.1111111111111111,
                            "#46039f"
                          ],
                          [
                            0.2222222222222222,
                            "#7201a8"
                          ],
                          [
                            0.3333333333333333,
                            "#9c179e"
                          ],
                          [
                            0.4444444444444444,
                            "#bd3786"
                          ],
                          [
                            0.5555555555555556,
                            "#d8576b"
                          ],
                          [
                            0.6666666666666666,
                            "#ed7953"
                          ],
                          [
                            0.7777777777777778,
                            "#fb9f3a"
                          ],
                          [
                            0.8888888888888888,
                            "#fdca26"
                          ],
                          [
                            1,
                            "#f0f921"
                          ]
                        ],
                        "type": "heatmap"
                      }
                    ],
                    "heatmapgl": [
                      {
                        "colorbar": {
                          "outlinewidth": 0,
                          "ticks": ""
                        },
                        "colorscale": [
                          [
                            0,
                            "#0d0887"
                          ],
                          [
                            0.1111111111111111,
                            "#46039f"
                          ],
                          [
                            0.2222222222222222,
                            "#7201a8"
                          ],
                          [
                            0.3333333333333333,
                            "#9c179e"
                          ],
                          [
                            0.4444444444444444,
                            "#bd3786"
                          ],
                          [
                            0.5555555555555556,
                            "#d8576b"
                          ],
                          [
                            0.6666666666666666,
                            "#ed7953"
                          ],
                          [
                            0.7777777777777778,
                            "#fb9f3a"
                          ],
                          [
                            0.8888888888888888,
                            "#fdca26"
                          ],
                          [
                            1,
                            "#f0f921"
                          ]
                        ],
                        "type": "heatmapgl"
                      }
                    ],
                    "histogram": [
                      {
                        "marker": {
                          "pattern": {
                            "fillmode": "overlay",
                            "size": 10,
                            "solidity": 0.2
                          }
                        },
                        "type": "histogram"
                      }
                    ],
                    "histogram2d": [
                      {
                        "colorbar": {
                          "outlinewidth": 0,
                          "ticks": ""
                        },
                        "colorscale": [
                          [
                            0,
                            "#0d0887"
                          ],
                          [
                            0.1111111111111111,
                            "#46039f"
                          ],
                          [
                            0.2222222222222222,
                            "#7201a8"
                          ],
                          [
                            0.3333333333333333,
                            "#9c179e"
                          ],
                          [
                            0.4444444444444444,
                            "#bd3786"
                          ],
                          [
                            0.5555555555555556,
                            "#d8576b"
                          ],
                          [
                            0.6666666666666666,
                            "#ed7953"
                          ],
                          [
                            0.7777777777777778,
                            "#fb9f3a"
                          ],
                          [
                            0.8888888888888888,
                            "#fdca26"
                          ],
                          [
                            1,
                            "#f0f921"
                          ]
                        ],
                        "type": "histogram2d"
                      }
                    ],
                    "histogram2dcontour": [
                      {
                        "colorbar": {
                          "outlinewidth": 0,
                          "ticks": ""
                        },
                        "colorscale": [
                          [
                            0,
                            "#0d0887"
                          ],
                          [
                            0.1111111111111111,
                            "#46039f"
                          ],
                          [
                            0.2222222222222222,
                            "#7201a8"
                          ],
                          [
                            0.3333333333333333,
                            "#9c179e"
                          ],
                          [
                            0.4444444444444444,
                            "#bd3786"
                          ],
                          [
                            0.5555555555555556,
                            "#d8576b"
                          ],
                          [
                            0.6666666666666666,
                            "#ed7953"
                          ],
                          [
                            0.7777777777777778,
                            "#fb9f3a"
                          ],
                          [
                            0.8888888888888888,
                            "#fdca26"
                          ],
                          [
                            1,
                            "#f0f921"
                          ]
                        ],
                        "type": "histogram2dcontour"
                      }
                    ],
                    "mesh3d": [
                      {
                        "colorbar": {
                          "outlinewidth": 0,
                          "ticks": ""
                        },
                        "type": "mesh3d"
                      }
                    ],
                    "parcoords": [
                      {
                        "line": {
                          "colorbar": {
                            "outlinewidth": 0,
                            "ticks": ""
                          }
                        },
                        "type": "parcoords"
                      }
                    ],
                    "pie": [
                      {
                        "automargin": true,
                        "type": "pie"
                      }
                    ],
                    "scatter": [
                      {
                        "marker": {
                          "colorbar": {
                            "outlinewidth": 0,
                            "ticks": ""
                          }
                        },
                        "type": "scatter"
                      }
                    ],
                    "scatter3d": [
                      {
                        "line": {
                          "colorbar": {
                            "outlinewidth": 0,
                            "ticks": ""
                          }
                        },
                        "marker": {
                          "colorbar": {
                            "outlinewidth": 0,
                            "ticks": ""
                          }
                        },
                        "type": "scatter3d"
                      }
                    ],
                    "scattercarpet": [
                      {
                        "marker": {
                          "colorbar": {
                            "outlinewidth": 0,
                            "ticks": ""
                          }
                        },
                        "type": "scattercarpet"
                      }
                    ],
                    "scattergeo": [
                      {
                        "marker": {
                          "colorbar": {
                            "outlinewidth": 0,
                            "ticks": ""
                          }
                        },
                        "type": "scattergeo"
                      }
                    ],
                    "scattergl": [
                      {
                        "marker": {
                          "colorbar": {
                            "outlinewidth": 0,
                            "ticks": ""
                          }
                        },
                        "type": "scattergl"
                      }
                    ],
                    "scattermapbox": [
                      {
                        "marker": {
                          "colorbar": {
                            "outlinewidth": 0,
                            "ticks": ""
                          }
                        },
                        "type": "scattermapbox"
                      }
                    ],
                    "scatterpolar": [
                      {
                        "marker": {
                          "colorbar": {
                            "outlinewidth": 0,
                            "ticks": ""
                          }
                        },
                        "type": "scatterpolar"
                      }
                    ],
                    "scatterpolargl": [
                      {
                        "marker": {
                          "colorbar": {
                            "outlinewidth": 0,
                            "ticks": ""
                          }
                        },
                        "type": "scatterpolargl"
                      }
                    ],
                    "scatterternary": [
                      {
                        "marker": {
                          "colorbar": {
                            "outlinewidth": 0,
                            "ticks": ""
                          }
                        },
                        "type": "scatterternary"
                      }
                    ],
                    "surface": [
                      {
                        "colorbar": {
                          "outlinewidth": 0,
                          "ticks": ""
                        },
                        "colorscale": [
                          [
                            0,
                            "#0d0887"
                          ],
                          [
                            0.1111111111111111,
                            "#46039f"
                          ],
                          [
                            0.2222222222222222,
                            "#7201a8"
                          ],
                          [
                            0.3333333333333333,
                            "#9c179e"
                          ],
                          [
                            0.4444444444444444,
                            "#bd3786"
                          ],
                          [
                            0.5555555555555556,
                            "#d8576b"
                          ],
                          [
                            0.6666666666666666,
                            "#ed7953"
                          ],
                          [
                            0.7777777777777778,
                            "#fb9f3a"
                          ],
                          [
                            0.8888888888888888,
                            "#fdca26"
                          ],
                          [
                            1,
                            "#f0f921"
                          ]
                        ],
                        "type": "surface"
                      }
                    ],
                    "table": [
                      {
                        "cells": {
                          "fill": {
                            "color": "#EBF0F8"
                          },
                          "line": {
                            "color": "white"
                          }
                        },
                        "header": {
                          "fill": {
                            "color": "#C8D4E3"
                          },
                          "line": {
                            "color": "white"
                          }
                        },
                        "type": "table"
                      }
                    ]
                  },
                  "layout": {
                    "annotationdefaults": {
                      "arrowcolor": "#2a3f5f",
                      "arrowhead": 0,
                      "arrowwidth": 1
                    },
                    "autotypenumbers": "strict",
                    "coloraxis": {
                      "colorbar": {
                        "outlinewidth": 0,
                        "ticks": ""
                      }
                    },
                    "colorscale": {
                      "diverging": [
                        [
                          0,
                          "#8e0152"
                        ],
                        [
                          0.1,
                          "#c51b7d"
                        ],
                        [
                          0.2,
                          "#de77ae"
                        ],
                        [
                          0.3,
                          "#f1b6da"
                        ],
                        [
                          0.4,
                          "#fde0ef"
                        ],
                        [
                          0.5,
                          "#f7f7f7"
                        ],
                        [
                          0.6,
                          "#e6f5d0"
                        ],
                        [
                          0.7,
                          "#b8e186"
                        ],
                        [
                          0.8,
                          "#7fbc41"
                        ],
                        [
                          0.9,
                          "#4d9221"
                        ],
                        [
                          1,
                          "#276419"
                        ]
                      ],
                      "sequential": [
                        [
                          0,
                          "#0d0887"
                        ],
                        [
                          0.1111111111111111,
                          "#46039f"
                        ],
                        [
                          0.2222222222222222,
                          "#7201a8"
                        ],
                        [
                          0.3333333333333333,
                          "#9c179e"
                        ],
                        [
                          0.4444444444444444,
                          "#bd3786"
                        ],
                        [
                          0.5555555555555556,
                          "#d8576b"
                        ],
                        [
                          0.6666666666666666,
                          "#ed7953"
                        ],
                        [
                          0.7777777777777778,
                          "#fb9f3a"
                        ],
                        [
                          0.8888888888888888,
                          "#fdca26"
                        ],
                        [
                          1,
                          "#f0f921"
                        ]
                      ],
                      "sequentialminus": [
                        [
                          0,
                          "#0d0887"
                        ],
                        [
                          0.1111111111111111,
                          "#46039f"
                        ],
                        [
                          0.2222222222222222,
                          "#7201a8"
                        ],
                        [
                          0.3333333333333333,
                          "#9c179e"
                        ],
                        [
                          0.4444444444444444,
                          "#bd3786"
                        ],
                        [
                          0.5555555555555556,
                          "#d8576b"
                        ],
                        [
                          0.6666666666666666,
                          "#ed7953"
                        ],
                        [
                          0.7777777777777778,
                          "#fb9f3a"
                        ],
                        [
                          0.8888888888888888,
                          "#fdca26"
                        ],
                        [
                          1,
                          "#f0f921"
                        ]
                      ]
                    },
                    "colorway": [
                      "#636efa",
                      "#EF553B",
                      "#00cc96",
                      "#ab63fa",
                      "#FFA15A",
                      "#19d3f3",
                      "#FF6692",
                      "#B6E880",
                      "#FF97FF",
                      "#FECB52"
                    ],
                    "font": {
                      "color": "#2a3f5f"
                    },
                    "geo": {
                      "bgcolor": "white",
                      "lakecolor": "white",
                      "landcolor": "#E5ECF6",
                      "showlakes": true,
                      "showland": true,
                      "subunitcolor": "white"
                    },
                    "hoverlabel": {
                      "align": "left"
                    },
                    "hovermode": "closest",
                    "mapbox": {
                      "style": "light"
                    },
                    "paper_bgcolor": "white",
                    "plot_bgcolor": "#E5ECF6",
                    "polar": {
                      "angularaxis": {
                        "gridcolor": "white",
                        "linecolor": "white",
                        "ticks": ""
                      },
                      "bgcolor": "#E5ECF6",
                      "radialaxis": {
                        "gridcolor": "white",
                        "linecolor": "white",
                        "ticks": ""
                      }
                    },
                    "scene": {
                      "xaxis": {
                        "backgroundcolor": "#E5ECF6",
                        "gridcolor": "white",
                        "gridwidth": 2,
                        "linecolor": "white",
                        "showbackground": true,
                        "ticks": "",
                        "zerolinecolor": "white"
                      },
                      "yaxis": {
                        "backgroundcolor": "#E5ECF6",
                        "gridcolor": "white",
                        "gridwidth": 2,
                        "linecolor": "white",
                        "showbackground": true,
                        "ticks": "",
                        "zerolinecolor": "white"
                      },
                      "zaxis": {
                        "backgroundcolor": "#E5ECF6",
                        "gridcolor": "white",
                        "gridwidth": 2,
                        "linecolor": "white",
                        "showbackground": true,
                        "ticks": "",
                        "zerolinecolor": "white"
                      }
                    },
                    "shapedefaults": {
                      "line": {
                        "color": "#2a3f5f"
                      }
                    },
                    "ternary": {
                      "aaxis": {
                        "gridcolor": "white",
                        "linecolor": "white",
                        "ticks": ""
                      },
                      "baxis": {
                        "gridcolor": "white",
                        "linecolor": "white",
                        "ticks": ""
                      },
                      "bgcolor": "#E5ECF6",
                      "caxis": {
                        "gridcolor": "white",
                        "linecolor": "white",
                        "ticks": ""
                      }
                    },
                    "title": {
                      "x": 0.05
                    },
                    "xaxis": {
                      "automargin": true,
                      "gridcolor": "white",
                      "linecolor": "white",
                      "ticks": "",
                      "title": {
                        "standoff": 15
                      },
                      "zerolinecolor": "white",
                      "zerolinewidth": 2
                    },
                    "yaxis": {
                      "automargin": true,
                      "gridcolor": "white",
                      "linecolor": "white",
                      "ticks": "",
                      "title": {
                        "standoff": 15
                      },
                      "zerolinecolor": "white",
                      "zerolinewidth": 2
                    }
                  }
                },
                "title": {
                  "text": "Lowest distortion",
                  "x": 0.5,
                  "xanchor": "center"
                },
                "width": 700,
                "xaxis": {
                  "anchor": "y",
                  "domain": [
                    0,
                    1
                  ],
                  "dtick": 0.05,
                  "fixedrange": true,
                  "gridcolor": "black",
                  "linecolor": "black",
                  "range": [
                    0,
                    0.4
                  ],
                  "showgrid": false
                },
                "xaxis2": {
                  "anchor": "y2",
                  "domain": [
                    0,
                    1
                  ],
                  "type": "category"
                },
                "yaxis": {
                  "anchor": "x",
                  "color": "black",
                  "domain": [
                    0.9200000000000002,
                    1
                  ],
                  "fixedrange": true,
                  "showgrid": false,
                  "showline": false,
                  "showticklabels": false,
                  "zeroline": false
                },
                "yaxis2": {
                  "anchor": "x2",
                  "domain": [
                    0,
                    0.7200000000000001
                  ],
                  "fixedrange": true,
                  "range": [
                    0,
                    1
                  ],
                  "title": {
                    "text": "Percentage"
                  }
                }
              }
            }
          },
          "metadata": {},
          "output_type": "display_data"
        },
        {
          "data": {
            "text/html": [
              "<br><a href=\"#summary_OD0JV\" style=\"font-size: 14px\">Go to top</a>"
            ]
          },
          "metadata": {},
          "output_type": "display_data"
        },
        {
          "data": {
            "text/html": [
              "<hr style=\"background-color: #eee;border: 0 none;color: #eee;height: 4px;\">"
            ]
          },
          "metadata": {},
          "output_type": "display_data"
        },
        {
          "data": {
            "text/html": [
              "<h4 id=\"DatasetsSizeComparison_OD0JV\">Datasets Size Comparison</h4><p>Verify test dataset size comparing it to the train dataset size. <a href=\"https://docs.deepchecks.com/0.6.1/examples/tabular/checks/methodology/examples/plot_datasets_size_comparison.html?utm_source=display_output&utm_medium=referral&utm_campaign=check_link\" target=\"_blank\">Read More...</a></p><h5>Conditions Summary</h5><style type=\"text/css\">\n",
              "#T_c1779 table {\n",
              "  text-align: left;\n",
              "  white-space: pre-wrap;\n",
              "}\n",
              "#T_c1779 thead {\n",
              "  text-align: left;\n",
              "  white-space: pre-wrap;\n",
              "}\n",
              "#T_c1779 tbody {\n",
              "  text-align: left;\n",
              "  white-space: pre-wrap;\n",
              "}\n",
              "#T_c1779 th {\n",
              "  text-align: left;\n",
              "  white-space: pre-wrap;\n",
              "}\n",
              "#T_c1779 td {\n",
              "  text-align: left;\n",
              "  white-space: pre-wrap;\n",
              "}\n",
              "</style>\n",
              "<table id=\"T_c1779\">\n",
              "  <thead>\n",
              "    <tr>\n",
              "      <th id=\"T_c1779_level0_col0\" class=\"col_heading level0 col0\" >Status</th>\n",
              "      <th id=\"T_c1779_level0_col1\" class=\"col_heading level0 col1\" >Condition</th>\n",
              "      <th id=\"T_c1779_level0_col2\" class=\"col_heading level0 col2\" >More Info</th>\n",
              "    </tr>\n",
              "  </thead>\n",
              "  <tbody>\n",
              "    <tr>\n",
              "      <td id=\"T_c1779_row0_col0\" class=\"data row0 col0\" ><div style=\"color: green;text-align: center\">✓</div></td>\n",
              "      <td id=\"T_c1779_row0_col1\" class=\"data row0 col1\" >Test-Train size ratio is not smaller than 0.01</td>\n",
              "      <td id=\"T_c1779_row0_col2\" class=\"data row0 col2\" ></td>\n",
              "    </tr>\n",
              "  </tbody>\n",
              "</table>\n",
              "<h5>Additional Outputs</h5><style type=\"text/css\">\n",
              "#T_84b50 table {\n",
              "  text-align: left;\n",
              "  white-space: pre-wrap;\n",
              "}\n",
              "#T_84b50 thead {\n",
              "  text-align: left;\n",
              "  white-space: pre-wrap;\n",
              "}\n",
              "#T_84b50 tbody {\n",
              "  text-align: left;\n",
              "  white-space: pre-wrap;\n",
              "}\n",
              "#T_84b50 th {\n",
              "  text-align: left;\n",
              "  white-space: pre-wrap;\n",
              "}\n",
              "#T_84b50 td {\n",
              "  text-align: left;\n",
              "  white-space: pre-wrap;\n",
              "}\n",
              "</style>\n",
              "<table id=\"T_84b50\">\n",
              "  <thead>\n",
              "    <tr>\n",
              "      <th class=\"blank level0\" >&nbsp;</th>\n",
              "      <th id=\"T_84b50_level0_col0\" class=\"col_heading level0 col0\" >Train</th>\n",
              "      <th id=\"T_84b50_level0_col1\" class=\"col_heading level0 col1\" >Test</th>\n",
              "    </tr>\n",
              "  </thead>\n",
              "  <tbody>\n",
              "    <tr>\n",
              "      <th id=\"T_84b50_level0_row0\" class=\"row_heading level0 row0\" >Size</th>\n",
              "      <td id=\"T_84b50_row0_col0\" class=\"data row0 col0\" >1044</td>\n",
              "      <td id=\"T_84b50_row0_col1\" class=\"data row0 col1\" >349</td>\n",
              "    </tr>\n",
              "  </tbody>\n",
              "</table>\n",
              "<br><a href=\"#summary_OD0JV\" style=\"font-size: 14px\">Go to top</a>"
            ]
          },
          "metadata": {},
          "output_type": "display_data"
        },
        {
          "data": {
            "text/html": [
              "<hr style=\"background-color: black;border: 0 none;color: black;height: 1px;\"><h2>Check Without Conditions Output</h2>"
            ]
          },
          "metadata": {},
          "output_type": "display_data"
        },
        {
          "data": {
            "text/html": [
              "<h4 id=\"ModelInfo_OD0JV\">Model Info</h4><p>Summarize given model parameters. <a href=\"https://docs.deepchecks.com/0.6.1/examples/tabular/checks/overview/examples/plot_model_info.html?utm_source=display_output&utm_medium=referral&utm_campaign=check_link\" target=\"_blank\">Read More...</a></p><h5>Additional Outputs</h5><div>Model Type: SoftSplitDecisionTreeClassifier</div><style type=\"text/css\">\n",
              "#T_538e0 table {\n",
              "  text-align: left;\n",
              "  white-space: pre-wrap;\n",
              "}\n",
              "#T_538e0 thead {\n",
              "  text-align: left;\n",
              "  white-space: pre-wrap;\n",
              "}\n",
              "#T_538e0 tbody {\n",
              "  text-align: left;\n",
              "  white-space: pre-wrap;\n",
              "}\n",
              "#T_538e0 th {\n",
              "  text-align: left;\n",
              "  white-space: pre-wrap;\n",
              "}\n",
              "#T_538e0 td {\n",
              "  text-align: left;\n",
              "  white-space: pre-wrap;\n",
              "}\n",
              "</style>\n",
              "<table id=\"T_538e0\">\n",
              "  <thead>\n",
              "    <tr>\n",
              "      <th id=\"T_538e0_level0_col0\" class=\"col_heading level0 col0\" >Parameter</th>\n",
              "      <th id=\"T_538e0_level0_col1\" class=\"col_heading level0 col1\" >Value</th>\n",
              "      <th id=\"T_538e0_level0_col2\" class=\"col_heading level0 col2\" >Default</th>\n",
              "    </tr>\n",
              "  </thead>\n",
              "  <tbody>\n",
              "    <tr>\n",
              "      <td id=\"T_538e0_row0_col0\" class=\"data row0 col0\" >alphaProbability</td>\n",
              "      <td id=\"T_538e0_row0_col1\" class=\"data row0 col1\" >0.10</td>\n",
              "      <td id=\"T_538e0_row0_col2\" class=\"data row0 col2\" >0.10</td>\n",
              "    </tr>\n",
              "    <tr>\n",
              "      <td id=\"T_538e0_row1_col0\" class=\"data row1 col0\" >ccp_alpha</td>\n",
              "      <td id=\"T_538e0_row1_col1\" class=\"data row1 col1\" >0.00</td>\n",
              "      <td id=\"T_538e0_row1_col2\" class=\"data row1 col2\" >0.00</td>\n",
              "    </tr>\n",
              "    <tr>\n",
              "      <td id=\"T_538e0_row2_col0\" class=\"data row2 col0\" >class_weight</td>\n",
              "      <td id=\"T_538e0_row2_col1\" class=\"data row2 col1\" >None</td>\n",
              "      <td id=\"T_538e0_row2_col2\" class=\"data row2 col2\" >None</td>\n",
              "    </tr>\n",
              "    <tr>\n",
              "      <td id=\"T_538e0_row3_col0\" class=\"data row3 col0\" >criterion</td>\n",
              "      <td id=\"T_538e0_row3_col1\" class=\"data row3 col1\" >gini</td>\n",
              "      <td id=\"T_538e0_row3_col2\" class=\"data row3 col2\" >gini</td>\n",
              "    </tr>\n",
              "    <tr>\n",
              "      <td id=\"T_538e0_row4_col0\" class=\"data row4 col0\" >max_depth</td>\n",
              "      <td id=\"T_538e0_row4_col1\" class=\"data row4 col1\" >None</td>\n",
              "      <td id=\"T_538e0_row4_col2\" class=\"data row4 col2\" >None</td>\n",
              "    </tr>\n",
              "    <tr>\n",
              "      <td id=\"T_538e0_row5_col0\" class=\"data row5 col0\" >max_features</td>\n",
              "      <td id=\"T_538e0_row5_col1\" class=\"data row5 col1\" >None</td>\n",
              "      <td id=\"T_538e0_row5_col2\" class=\"data row5 col2\" >None</td>\n",
              "    </tr>\n",
              "    <tr>\n",
              "      <td id=\"T_538e0_row6_col0\" class=\"data row6 col0\" >max_leaf_nodes</td>\n",
              "      <td id=\"T_538e0_row6_col1\" class=\"data row6 col1\" >None</td>\n",
              "      <td id=\"T_538e0_row6_col2\" class=\"data row6 col2\" >None</td>\n",
              "    </tr>\n",
              "    <tr>\n",
              "      <td id=\"T_538e0_row7_col0\" class=\"data row7 col0\" >min_impurity_decrease</td>\n",
              "      <td id=\"T_538e0_row7_col1\" class=\"data row7 col1\" >0.00</td>\n",
              "      <td id=\"T_538e0_row7_col2\" class=\"data row7 col2\" >0.00</td>\n",
              "    </tr>\n",
              "    <tr>\n",
              "      <td id=\"T_538e0_row8_col0\" class=\"data row8 col0\" >min_samples_leaf</td>\n",
              "      <td id=\"T_538e0_row8_col1\" class=\"data row8 col1\" >1</td>\n",
              "      <td id=\"T_538e0_row8_col2\" class=\"data row8 col2\" >1</td>\n",
              "    </tr>\n",
              "    <tr>\n",
              "      <td id=\"T_538e0_row9_col0\" class=\"data row9 col0\" >min_samples_split</td>\n",
              "      <td id=\"T_538e0_row9_col1\" class=\"data row9 col1\" >2</td>\n",
              "      <td id=\"T_538e0_row9_col2\" class=\"data row9 col2\" >2</td>\n",
              "    </tr>\n",
              "    <tr>\n",
              "      <td id=\"T_538e0_row10_col0\" class=\"data row10 col0\" >min_weight_fraction_leaf</td>\n",
              "      <td id=\"T_538e0_row10_col1\" class=\"data row10 col1\" >0.00</td>\n",
              "      <td id=\"T_538e0_row10_col2\" class=\"data row10 col2\" >0.00</td>\n",
              "    </tr>\n",
              "    <tr>\n",
              "      <td id=\"T_538e0_row11_col0\" class=\"data row11 col0\" >n</td>\n",
              "      <td id=\"T_538e0_row11_col1\" class=\"data row11 col1\" >100</td>\n",
              "      <td id=\"T_538e0_row11_col2\" class=\"data row11 col2\" >100</td>\n",
              "    </tr>\n",
              "    <tr>\n",
              "      <td id=\"T_538e0_row12_col0\" class=\"data row12 col0\" >random_state</td>\n",
              "      <td id=\"T_538e0_row12_col1\" class=\"data row12 col1\" >None</td>\n",
              "      <td id=\"T_538e0_row12_col2\" class=\"data row12 col2\" >None</td>\n",
              "    </tr>\n",
              "    <tr>\n",
              "      <td id=\"T_538e0_row13_col0\" class=\"data row13 col0\" >splitter</td>\n",
              "      <td id=\"T_538e0_row13_col1\" class=\"data row13 col1\" >best</td>\n",
              "      <td id=\"T_538e0_row13_col2\" class=\"data row13 col2\" >best</td>\n",
              "    </tr>\n",
              "  </tbody>\n",
              "</table>\n",
              "<div><p style=\"font-size:0.7em\"><i>Colored rows are parameters with non-default values</i></p></div><br><a href=\"#summary_OD0JV\" style=\"font-size: 14px\">Go to top</a>"
            ]
          },
          "metadata": {},
          "output_type": "display_data"
        },
        {
          "data": {
            "text/html": [
              "<hr style=\"background-color: #eee;border: 0 none;color: #eee;height: 4px;\">"
            ]
          },
          "metadata": {},
          "output_type": "display_data"
        },
        {
          "data": {
            "text/html": [
              "<h4 id=\"ColumnsInfo-TrainDataset_OD0JV\">Columns Info - Train Dataset</h4><p>Return the role and logical type of each column. <a href=\"https://docs.deepchecks.com/0.6.1/examples/tabular/checks/overview/examples/plot_columns_info.html?utm_source=display_output&utm_medium=referral&utm_campaign=check_link\" target=\"_blank\">Read More...</a></p><h5>Additional Outputs</h5><div>* showing only the top 10 columns, you can change it using n_top_columns param</div><style type=\"text/css\">\n",
              "#T_e1d7c table {\n",
              "  text-align: left;\n",
              "  white-space: pre-wrap;\n",
              "}\n",
              "#T_e1d7c thead {\n",
              "  text-align: left;\n",
              "  white-space: pre-wrap;\n",
              "}\n",
              "#T_e1d7c tbody {\n",
              "  text-align: left;\n",
              "  white-space: pre-wrap;\n",
              "}\n",
              "#T_e1d7c th {\n",
              "  text-align: left;\n",
              "  white-space: pre-wrap;\n",
              "}\n",
              "#T_e1d7c td {\n",
              "  text-align: left;\n",
              "  white-space: pre-wrap;\n",
              "}\n",
              "</style>\n",
              "<table id=\"T_e1d7c\">\n",
              "  <thead>\n",
              "    <tr>\n",
              "      <th class=\"blank level0\" >&nbsp;</th>\n",
              "      <th id=\"T_e1d7c_level0_col0\" class=\"col_heading level0 col0\" >Lowest distortion</th>\n",
              "      <th id=\"T_e1d7c_level0_col1\" class=\"col_heading level0 col1\" >τ</th>\n",
              "      <th id=\"T_e1d7c_level0_col2\" class=\"col_heading level0 col2\" >tG</th>\n",
              "      <th id=\"T_e1d7c_level0_col3\" class=\"col_heading level0 col3\" >ΔENR</th>\n",
              "      <th id=\"T_e1d7c_level0_col4\" class=\"col_heading level0 col4\" >EN(B)</th>\n",
              "      <th id=\"T_e1d7c_level0_col5\" class=\"col_heading level0 col5\" >EN(A)</th>\n",
              "      <th id=\"T_e1d7c_level0_col6\" class=\"col_heading level0 col6\" >r(AVI)(Å)</th>\n",
              "      <th id=\"T_e1d7c_level0_col7\" class=\"col_heading level0 col7\" >l(B-O)(Å)</th>\n",
              "      <th id=\"T_e1d7c_level0_col8\" class=\"col_heading level0 col8\" >l(A-O)(Å)</th>\n",
              "      <th id=\"T_e1d7c_level0_col9\" class=\"col_heading level0 col9\" >r(AXII)(Å)</th>\n",
              "    </tr>\n",
              "  </thead>\n",
              "  <tbody>\n",
              "    <tr>\n",
              "      <th id=\"T_e1d7c_level0_row0\" class=\"row_heading level0 row0\" >role</th>\n",
              "      <td id=\"T_e1d7c_row0_col0\" class=\"data row0 col0\" >label</td>\n",
              "      <td id=\"T_e1d7c_row0_col1\" class=\"data row0 col1\" >numerical feature</td>\n",
              "      <td id=\"T_e1d7c_row0_col2\" class=\"data row0 col2\" >numerical feature</td>\n",
              "      <td id=\"T_e1d7c_row0_col3\" class=\"data row0 col3\" >numerical feature</td>\n",
              "      <td id=\"T_e1d7c_row0_col4\" class=\"data row0 col4\" >numerical feature</td>\n",
              "      <td id=\"T_e1d7c_row0_col5\" class=\"data row0 col5\" >numerical feature</td>\n",
              "      <td id=\"T_e1d7c_row0_col6\" class=\"data row0 col6\" >numerical feature</td>\n",
              "      <td id=\"T_e1d7c_row0_col7\" class=\"data row0 col7\" >numerical feature</td>\n",
              "      <td id=\"T_e1d7c_row0_col8\" class=\"data row0 col8\" >numerical feature</td>\n",
              "      <td id=\"T_e1d7c_row0_col9\" class=\"data row0 col9\" >numerical feature</td>\n",
              "    </tr>\n",
              "  </tbody>\n",
              "</table>\n",
              "<br><a href=\"#summary_OD0JV\" style=\"font-size: 14px\">Go to top</a>"
            ]
          },
          "metadata": {},
          "output_type": "display_data"
        },
        {
          "data": {
            "text/html": [
              "<hr style=\"background-color: #eee;border: 0 none;color: #eee;height: 4px;\">"
            ]
          },
          "metadata": {},
          "output_type": "display_data"
        },
        {
          "data": {
            "text/html": [
              "<h4 id=\"ColumnsInfo-TestDataset_OD0JV\">Columns Info - Test Dataset</h4><p>Return the role and logical type of each column. <a href=\"https://docs.deepchecks.com/0.6.1/examples/tabular/checks/overview/examples/plot_columns_info.html?utm_source=display_output&utm_medium=referral&utm_campaign=check_link\" target=\"_blank\">Read More...</a></p><h5>Additional Outputs</h5><div>* showing only the top 10 columns, you can change it using n_top_columns param</div><style type=\"text/css\">\n",
              "#T_77310 table {\n",
              "  text-align: left;\n",
              "  white-space: pre-wrap;\n",
              "}\n",
              "#T_77310 thead {\n",
              "  text-align: left;\n",
              "  white-space: pre-wrap;\n",
              "}\n",
              "#T_77310 tbody {\n",
              "  text-align: left;\n",
              "  white-space: pre-wrap;\n",
              "}\n",
              "#T_77310 th {\n",
              "  text-align: left;\n",
              "  white-space: pre-wrap;\n",
              "}\n",
              "#T_77310 td {\n",
              "  text-align: left;\n",
              "  white-space: pre-wrap;\n",
              "}\n",
              "</style>\n",
              "<table id=\"T_77310\">\n",
              "  <thead>\n",
              "    <tr>\n",
              "      <th class=\"blank level0\" >&nbsp;</th>\n",
              "      <th id=\"T_77310_level0_col0\" class=\"col_heading level0 col0\" >Lowest distortion</th>\n",
              "      <th id=\"T_77310_level0_col1\" class=\"col_heading level0 col1\" >τ</th>\n",
              "      <th id=\"T_77310_level0_col2\" class=\"col_heading level0 col2\" >tG</th>\n",
              "      <th id=\"T_77310_level0_col3\" class=\"col_heading level0 col3\" >ΔENR</th>\n",
              "      <th id=\"T_77310_level0_col4\" class=\"col_heading level0 col4\" >EN(B)</th>\n",
              "      <th id=\"T_77310_level0_col5\" class=\"col_heading level0 col5\" >EN(A)</th>\n",
              "      <th id=\"T_77310_level0_col6\" class=\"col_heading level0 col6\" >r(AVI)(Å)</th>\n",
              "      <th id=\"T_77310_level0_col7\" class=\"col_heading level0 col7\" >l(B-O)(Å)</th>\n",
              "      <th id=\"T_77310_level0_col8\" class=\"col_heading level0 col8\" >l(A-O)(Å)</th>\n",
              "      <th id=\"T_77310_level0_col9\" class=\"col_heading level0 col9\" >r(AXII)(Å)</th>\n",
              "    </tr>\n",
              "  </thead>\n",
              "  <tbody>\n",
              "    <tr>\n",
              "      <th id=\"T_77310_level0_row0\" class=\"row_heading level0 row0\" >role</th>\n",
              "      <td id=\"T_77310_row0_col0\" class=\"data row0 col0\" >label</td>\n",
              "      <td id=\"T_77310_row0_col1\" class=\"data row0 col1\" >numerical feature</td>\n",
              "      <td id=\"T_77310_row0_col2\" class=\"data row0 col2\" >numerical feature</td>\n",
              "      <td id=\"T_77310_row0_col3\" class=\"data row0 col3\" >numerical feature</td>\n",
              "      <td id=\"T_77310_row0_col4\" class=\"data row0 col4\" >numerical feature</td>\n",
              "      <td id=\"T_77310_row0_col5\" class=\"data row0 col5\" >numerical feature</td>\n",
              "      <td id=\"T_77310_row0_col6\" class=\"data row0 col6\" >numerical feature</td>\n",
              "      <td id=\"T_77310_row0_col7\" class=\"data row0 col7\" >numerical feature</td>\n",
              "      <td id=\"T_77310_row0_col8\" class=\"data row0 col8\" >numerical feature</td>\n",
              "      <td id=\"T_77310_row0_col9\" class=\"data row0 col9\" >numerical feature</td>\n",
              "    </tr>\n",
              "  </tbody>\n",
              "</table>\n",
              "<br><a href=\"#summary_OD0JV\" style=\"font-size: 14px\">Go to top</a>"
            ]
          },
          "metadata": {},
          "output_type": "display_data"
        },
        {
          "data": {
            "text/html": [
              "<hr style=\"background-color: #eee;border: 0 none;color: #eee;height: 4px;\">"
            ]
          },
          "metadata": {},
          "output_type": "display_data"
        },
        {
          "data": {
            "text/html": [
              "<h4 id=\"ConfusionMatrixReport-TrainDataset_OD0JV\">Confusion Matrix Report - Train Dataset</h4><p>Calculate the confusion matrix of the model on the given dataset. <a href=\"https://docs.deepchecks.com/0.6.1/examples/tabular/checks/performance/examples/plot_confusion_matrix_report.html?utm_source=display_output&utm_medium=referral&utm_campaign=check_link\" target=\"_blank\">Read More...</a></p><h5>Additional Outputs</h5>"
            ]
          },
          "metadata": {},
          "output_type": "display_data"
        },
        {
          "data": {
            "application/vnd.plotly.v1+json": {
              "config": {
                "plotlyServerURL": "https://plot.ly"
              },
              "data": [
                {
                  "coloraxis": "coloraxis",
                  "hovertemplate": "x: %{x}<br>y: %{y}<br>color: %{z}<extra></extra>",
                  "name": "0",
                  "texttemplate": "%{z}",
                  "type": "heatmap",
                  "x": [
                    "cubic",
                    "no cubic"
                  ],
                  "xaxis": "x",
                  "y": [
                    "cubic",
                    "no cubic"
                  ],
                  "yaxis": "y",
                  "z": [
                    [
                      452,
                      52
                    ],
                    [
                      65,
                      475
                    ]
                  ]
                }
              ],
              "layout": {
                "coloraxis": {
                  "colorscale": [
                    [
                      0,
                      "#0d0887"
                    ],
                    [
                      0.1111111111111111,
                      "#46039f"
                    ],
                    [
                      0.2222222222222222,
                      "#7201a8"
                    ],
                    [
                      0.3333333333333333,
                      "#9c179e"
                    ],
                    [
                      0.4444444444444444,
                      "#bd3786"
                    ],
                    [
                      0.5555555555555556,
                      "#d8576b"
                    ],
                    [
                      0.6666666666666666,
                      "#ed7953"
                    ],
                    [
                      0.7777777777777778,
                      "#fb9f3a"
                    ],
                    [
                      0.8888888888888888,
                      "#fdca26"
                    ],
                    [
                      1,
                      "#f0f921"
                    ]
                  ]
                },
                "height": 600,
                "margin": {
                  "t": 60
                },
                "template": {
                  "data": {
                    "bar": [
                      {
                        "error_x": {
                          "color": "#2a3f5f"
                        },
                        "error_y": {
                          "color": "#2a3f5f"
                        },
                        "marker": {
                          "line": {
                            "color": "#E5ECF6",
                            "width": 0.5
                          },
                          "pattern": {
                            "fillmode": "overlay",
                            "size": 10,
                            "solidity": 0.2
                          }
                        },
                        "type": "bar"
                      }
                    ],
                    "barpolar": [
                      {
                        "marker": {
                          "line": {
                            "color": "#E5ECF6",
                            "width": 0.5
                          },
                          "pattern": {
                            "fillmode": "overlay",
                            "size": 10,
                            "solidity": 0.2
                          }
                        },
                        "type": "barpolar"
                      }
                    ],
                    "carpet": [
                      {
                        "aaxis": {
                          "endlinecolor": "#2a3f5f",
                          "gridcolor": "white",
                          "linecolor": "white",
                          "minorgridcolor": "white",
                          "startlinecolor": "#2a3f5f"
                        },
                        "baxis": {
                          "endlinecolor": "#2a3f5f",
                          "gridcolor": "white",
                          "linecolor": "white",
                          "minorgridcolor": "white",
                          "startlinecolor": "#2a3f5f"
                        },
                        "type": "carpet"
                      }
                    ],
                    "choropleth": [
                      {
                        "colorbar": {
                          "outlinewidth": 0,
                          "ticks": ""
                        },
                        "type": "choropleth"
                      }
                    ],
                    "contour": [
                      {
                        "colorbar": {
                          "outlinewidth": 0,
                          "ticks": ""
                        },
                        "colorscale": [
                          [
                            0,
                            "#0d0887"
                          ],
                          [
                            0.1111111111111111,
                            "#46039f"
                          ],
                          [
                            0.2222222222222222,
                            "#7201a8"
                          ],
                          [
                            0.3333333333333333,
                            "#9c179e"
                          ],
                          [
                            0.4444444444444444,
                            "#bd3786"
                          ],
                          [
                            0.5555555555555556,
                            "#d8576b"
                          ],
                          [
                            0.6666666666666666,
                            "#ed7953"
                          ],
                          [
                            0.7777777777777778,
                            "#fb9f3a"
                          ],
                          [
                            0.8888888888888888,
                            "#fdca26"
                          ],
                          [
                            1,
                            "#f0f921"
                          ]
                        ],
                        "type": "contour"
                      }
                    ],
                    "contourcarpet": [
                      {
                        "colorbar": {
                          "outlinewidth": 0,
                          "ticks": ""
                        },
                        "type": "contourcarpet"
                      }
                    ],
                    "heatmap": [
                      {
                        "colorbar": {
                          "outlinewidth": 0,
                          "ticks": ""
                        },
                        "colorscale": [
                          [
                            0,
                            "#0d0887"
                          ],
                          [
                            0.1111111111111111,
                            "#46039f"
                          ],
                          [
                            0.2222222222222222,
                            "#7201a8"
                          ],
                          [
                            0.3333333333333333,
                            "#9c179e"
                          ],
                          [
                            0.4444444444444444,
                            "#bd3786"
                          ],
                          [
                            0.5555555555555556,
                            "#d8576b"
                          ],
                          [
                            0.6666666666666666,
                            "#ed7953"
                          ],
                          [
                            0.7777777777777778,
                            "#fb9f3a"
                          ],
                          [
                            0.8888888888888888,
                            "#fdca26"
                          ],
                          [
                            1,
                            "#f0f921"
                          ]
                        ],
                        "type": "heatmap"
                      }
                    ],
                    "heatmapgl": [
                      {
                        "colorbar": {
                          "outlinewidth": 0,
                          "ticks": ""
                        },
                        "colorscale": [
                          [
                            0,
                            "#0d0887"
                          ],
                          [
                            0.1111111111111111,
                            "#46039f"
                          ],
                          [
                            0.2222222222222222,
                            "#7201a8"
                          ],
                          [
                            0.3333333333333333,
                            "#9c179e"
                          ],
                          [
                            0.4444444444444444,
                            "#bd3786"
                          ],
                          [
                            0.5555555555555556,
                            "#d8576b"
                          ],
                          [
                            0.6666666666666666,
                            "#ed7953"
                          ],
                          [
                            0.7777777777777778,
                            "#fb9f3a"
                          ],
                          [
                            0.8888888888888888,
                            "#fdca26"
                          ],
                          [
                            1,
                            "#f0f921"
                          ]
                        ],
                        "type": "heatmapgl"
                      }
                    ],
                    "histogram": [
                      {
                        "marker": {
                          "pattern": {
                            "fillmode": "overlay",
                            "size": 10,
                            "solidity": 0.2
                          }
                        },
                        "type": "histogram"
                      }
                    ],
                    "histogram2d": [
                      {
                        "colorbar": {
                          "outlinewidth": 0,
                          "ticks": ""
                        },
                        "colorscale": [
                          [
                            0,
                            "#0d0887"
                          ],
                          [
                            0.1111111111111111,
                            "#46039f"
                          ],
                          [
                            0.2222222222222222,
                            "#7201a8"
                          ],
                          [
                            0.3333333333333333,
                            "#9c179e"
                          ],
                          [
                            0.4444444444444444,
                            "#bd3786"
                          ],
                          [
                            0.5555555555555556,
                            "#d8576b"
                          ],
                          [
                            0.6666666666666666,
                            "#ed7953"
                          ],
                          [
                            0.7777777777777778,
                            "#fb9f3a"
                          ],
                          [
                            0.8888888888888888,
                            "#fdca26"
                          ],
                          [
                            1,
                            "#f0f921"
                          ]
                        ],
                        "type": "histogram2d"
                      }
                    ],
                    "histogram2dcontour": [
                      {
                        "colorbar": {
                          "outlinewidth": 0,
                          "ticks": ""
                        },
                        "colorscale": [
                          [
                            0,
                            "#0d0887"
                          ],
                          [
                            0.1111111111111111,
                            "#46039f"
                          ],
                          [
                            0.2222222222222222,
                            "#7201a8"
                          ],
                          [
                            0.3333333333333333,
                            "#9c179e"
                          ],
                          [
                            0.4444444444444444,
                            "#bd3786"
                          ],
                          [
                            0.5555555555555556,
                            "#d8576b"
                          ],
                          [
                            0.6666666666666666,
                            "#ed7953"
                          ],
                          [
                            0.7777777777777778,
                            "#fb9f3a"
                          ],
                          [
                            0.8888888888888888,
                            "#fdca26"
                          ],
                          [
                            1,
                            "#f0f921"
                          ]
                        ],
                        "type": "histogram2dcontour"
                      }
                    ],
                    "mesh3d": [
                      {
                        "colorbar": {
                          "outlinewidth": 0,
                          "ticks": ""
                        },
                        "type": "mesh3d"
                      }
                    ],
                    "parcoords": [
                      {
                        "line": {
                          "colorbar": {
                            "outlinewidth": 0,
                            "ticks": ""
                          }
                        },
                        "type": "parcoords"
                      }
                    ],
                    "pie": [
                      {
                        "automargin": true,
                        "type": "pie"
                      }
                    ],
                    "scatter": [
                      {
                        "marker": {
                          "colorbar": {
                            "outlinewidth": 0,
                            "ticks": ""
                          }
                        },
                        "type": "scatter"
                      }
                    ],
                    "scatter3d": [
                      {
                        "line": {
                          "colorbar": {
                            "outlinewidth": 0,
                            "ticks": ""
                          }
                        },
                        "marker": {
                          "colorbar": {
                            "outlinewidth": 0,
                            "ticks": ""
                          }
                        },
                        "type": "scatter3d"
                      }
                    ],
                    "scattercarpet": [
                      {
                        "marker": {
                          "colorbar": {
                            "outlinewidth": 0,
                            "ticks": ""
                          }
                        },
                        "type": "scattercarpet"
                      }
                    ],
                    "scattergeo": [
                      {
                        "marker": {
                          "colorbar": {
                            "outlinewidth": 0,
                            "ticks": ""
                          }
                        },
                        "type": "scattergeo"
                      }
                    ],
                    "scattergl": [
                      {
                        "marker": {
                          "colorbar": {
                            "outlinewidth": 0,
                            "ticks": ""
                          }
                        },
                        "type": "scattergl"
                      }
                    ],
                    "scattermapbox": [
                      {
                        "marker": {
                          "colorbar": {
                            "outlinewidth": 0,
                            "ticks": ""
                          }
                        },
                        "type": "scattermapbox"
                      }
                    ],
                    "scatterpolar": [
                      {
                        "marker": {
                          "colorbar": {
                            "outlinewidth": 0,
                            "ticks": ""
                          }
                        },
                        "type": "scatterpolar"
                      }
                    ],
                    "scatterpolargl": [
                      {
                        "marker": {
                          "colorbar": {
                            "outlinewidth": 0,
                            "ticks": ""
                          }
                        },
                        "type": "scatterpolargl"
                      }
                    ],
                    "scatterternary": [
                      {
                        "marker": {
                          "colorbar": {
                            "outlinewidth": 0,
                            "ticks": ""
                          }
                        },
                        "type": "scatterternary"
                      }
                    ],
                    "surface": [
                      {
                        "colorbar": {
                          "outlinewidth": 0,
                          "ticks": ""
                        },
                        "colorscale": [
                          [
                            0,
                            "#0d0887"
                          ],
                          [
                            0.1111111111111111,
                            "#46039f"
                          ],
                          [
                            0.2222222222222222,
                            "#7201a8"
                          ],
                          [
                            0.3333333333333333,
                            "#9c179e"
                          ],
                          [
                            0.4444444444444444,
                            "#bd3786"
                          ],
                          [
                            0.5555555555555556,
                            "#d8576b"
                          ],
                          [
                            0.6666666666666666,
                            "#ed7953"
                          ],
                          [
                            0.7777777777777778,
                            "#fb9f3a"
                          ],
                          [
                            0.8888888888888888,
                            "#fdca26"
                          ],
                          [
                            1,
                            "#f0f921"
                          ]
                        ],
                        "type": "surface"
                      }
                    ],
                    "table": [
                      {
                        "cells": {
                          "fill": {
                            "color": "#EBF0F8"
                          },
                          "line": {
                            "color": "white"
                          }
                        },
                        "header": {
                          "fill": {
                            "color": "#C8D4E3"
                          },
                          "line": {
                            "color": "white"
                          }
                        },
                        "type": "table"
                      }
                    ]
                  },
                  "layout": {
                    "annotationdefaults": {
                      "arrowcolor": "#2a3f5f",
                      "arrowhead": 0,
                      "arrowwidth": 1
                    },
                    "autotypenumbers": "strict",
                    "coloraxis": {
                      "colorbar": {
                        "outlinewidth": 0,
                        "ticks": ""
                      }
                    },
                    "colorscale": {
                      "diverging": [
                        [
                          0,
                          "#8e0152"
                        ],
                        [
                          0.1,
                          "#c51b7d"
                        ],
                        [
                          0.2,
                          "#de77ae"
                        ],
                        [
                          0.3,
                          "#f1b6da"
                        ],
                        [
                          0.4,
                          "#fde0ef"
                        ],
                        [
                          0.5,
                          "#f7f7f7"
                        ],
                        [
                          0.6,
                          "#e6f5d0"
                        ],
                        [
                          0.7,
                          "#b8e186"
                        ],
                        [
                          0.8,
                          "#7fbc41"
                        ],
                        [
                          0.9,
                          "#4d9221"
                        ],
                        [
                          1,
                          "#276419"
                        ]
                      ],
                      "sequential": [
                        [
                          0,
                          "#0d0887"
                        ],
                        [
                          0.1111111111111111,
                          "#46039f"
                        ],
                        [
                          0.2222222222222222,
                          "#7201a8"
                        ],
                        [
                          0.3333333333333333,
                          "#9c179e"
                        ],
                        [
                          0.4444444444444444,
                          "#bd3786"
                        ],
                        [
                          0.5555555555555556,
                          "#d8576b"
                        ],
                        [
                          0.6666666666666666,
                          "#ed7953"
                        ],
                        [
                          0.7777777777777778,
                          "#fb9f3a"
                        ],
                        [
                          0.8888888888888888,
                          "#fdca26"
                        ],
                        [
                          1,
                          "#f0f921"
                        ]
                      ],
                      "sequentialminus": [
                        [
                          0,
                          "#0d0887"
                        ],
                        [
                          0.1111111111111111,
                          "#46039f"
                        ],
                        [
                          0.2222222222222222,
                          "#7201a8"
                        ],
                        [
                          0.3333333333333333,
                          "#9c179e"
                        ],
                        [
                          0.4444444444444444,
                          "#bd3786"
                        ],
                        [
                          0.5555555555555556,
                          "#d8576b"
                        ],
                        [
                          0.6666666666666666,
                          "#ed7953"
                        ],
                        [
                          0.7777777777777778,
                          "#fb9f3a"
                        ],
                        [
                          0.8888888888888888,
                          "#fdca26"
                        ],
                        [
                          1,
                          "#f0f921"
                        ]
                      ]
                    },
                    "colorway": [
                      "#636efa",
                      "#EF553B",
                      "#00cc96",
                      "#ab63fa",
                      "#FFA15A",
                      "#19d3f3",
                      "#FF6692",
                      "#B6E880",
                      "#FF97FF",
                      "#FECB52"
                    ],
                    "font": {
                      "color": "#2a3f5f"
                    },
                    "geo": {
                      "bgcolor": "white",
                      "lakecolor": "white",
                      "landcolor": "#E5ECF6",
                      "showlakes": true,
                      "showland": true,
                      "subunitcolor": "white"
                    },
                    "hoverlabel": {
                      "align": "left"
                    },
                    "hovermode": "closest",
                    "mapbox": {
                      "style": "light"
                    },
                    "paper_bgcolor": "white",
                    "plot_bgcolor": "#E5ECF6",
                    "polar": {
                      "angularaxis": {
                        "gridcolor": "white",
                        "linecolor": "white",
                        "ticks": ""
                      },
                      "bgcolor": "#E5ECF6",
                      "radialaxis": {
                        "gridcolor": "white",
                        "linecolor": "white",
                        "ticks": ""
                      }
                    },
                    "scene": {
                      "xaxis": {
                        "backgroundcolor": "#E5ECF6",
                        "gridcolor": "white",
                        "gridwidth": 2,
                        "linecolor": "white",
                        "showbackground": true,
                        "ticks": "",
                        "zerolinecolor": "white"
                      },
                      "yaxis": {
                        "backgroundcolor": "#E5ECF6",
                        "gridcolor": "white",
                        "gridwidth": 2,
                        "linecolor": "white",
                        "showbackground": true,
                        "ticks": "",
                        "zerolinecolor": "white"
                      },
                      "zaxis": {
                        "backgroundcolor": "#E5ECF6",
                        "gridcolor": "white",
                        "gridwidth": 2,
                        "linecolor": "white",
                        "showbackground": true,
                        "ticks": "",
                        "zerolinecolor": "white"
                      }
                    },
                    "shapedefaults": {
                      "line": {
                        "color": "#2a3f5f"
                      }
                    },
                    "ternary": {
                      "aaxis": {
                        "gridcolor": "white",
                        "linecolor": "white",
                        "ticks": ""
                      },
                      "baxis": {
                        "gridcolor": "white",
                        "linecolor": "white",
                        "ticks": ""
                      },
                      "bgcolor": "#E5ECF6",
                      "caxis": {
                        "gridcolor": "white",
                        "linecolor": "white",
                        "ticks": ""
                      }
                    },
                    "title": {
                      "x": 0.05
                    },
                    "xaxis": {
                      "automargin": true,
                      "gridcolor": "white",
                      "linecolor": "white",
                      "ticks": "",
                      "title": {
                        "standoff": 15
                      },
                      "zerolinecolor": "white",
                      "zerolinewidth": 2
                    },
                    "yaxis": {
                      "automargin": true,
                      "gridcolor": "white",
                      "linecolor": "white",
                      "ticks": "",
                      "title": {
                        "standoff": 15
                      },
                      "zerolinecolor": "white",
                      "zerolinewidth": 2
                    }
                  }
                },
                "width": 600,
                "xaxis": {
                  "anchor": "y",
                  "constrain": "domain",
                  "domain": [
                    0,
                    1
                  ],
                  "scaleanchor": "y",
                  "title": {
                    "text": "Predicted Value"
                  },
                  "type": "category"
                },
                "yaxis": {
                  "anchor": "x",
                  "autorange": "reversed",
                  "constrain": "domain",
                  "domain": [
                    0,
                    1
                  ],
                  "title": {
                    "text": "True value"
                  },
                  "type": "category"
                }
              }
            }
          },
          "metadata": {},
          "output_type": "display_data"
        },
        {
          "data": {
            "text/html": [
              "<br><a href=\"#summary_OD0JV\" style=\"font-size: 14px\">Go to top</a>"
            ]
          },
          "metadata": {},
          "output_type": "display_data"
        },
        {
          "data": {
            "text/html": [
              "<hr style=\"background-color: #eee;border: 0 none;color: #eee;height: 4px;\">"
            ]
          },
          "metadata": {},
          "output_type": "display_data"
        },
        {
          "data": {
            "text/html": [
              "<h4 id=\"ConfusionMatrixReport-TestDataset_OD0JV\">Confusion Matrix Report - Test Dataset</h4><p>Calculate the confusion matrix of the model on the given dataset. <a href=\"https://docs.deepchecks.com/0.6.1/examples/tabular/checks/performance/examples/plot_confusion_matrix_report.html?utm_source=display_output&utm_medium=referral&utm_campaign=check_link\" target=\"_blank\">Read More...</a></p><h5>Additional Outputs</h5>"
            ]
          },
          "metadata": {},
          "output_type": "display_data"
        },
        {
          "data": {
            "application/vnd.plotly.v1+json": {
              "config": {
                "plotlyServerURL": "https://plot.ly"
              },
              "data": [
                {
                  "coloraxis": "coloraxis",
                  "hovertemplate": "x: %{x}<br>y: %{y}<br>color: %{z}<extra></extra>",
                  "name": "0",
                  "texttemplate": "%{z}",
                  "type": "heatmap",
                  "x": [
                    "cubic",
                    "no cubic"
                  ],
                  "xaxis": "x",
                  "y": [
                    "cubic",
                    "no cubic"
                  ],
                  "yaxis": "y",
                  "z": [
                    [
                      144,
                      24
                    ],
                    [
                      20,
                      161
                    ]
                  ]
                }
              ],
              "layout": {
                "coloraxis": {
                  "colorscale": [
                    [
                      0,
                      "#0d0887"
                    ],
                    [
                      0.1111111111111111,
                      "#46039f"
                    ],
                    [
                      0.2222222222222222,
                      "#7201a8"
                    ],
                    [
                      0.3333333333333333,
                      "#9c179e"
                    ],
                    [
                      0.4444444444444444,
                      "#bd3786"
                    ],
                    [
                      0.5555555555555556,
                      "#d8576b"
                    ],
                    [
                      0.6666666666666666,
                      "#ed7953"
                    ],
                    [
                      0.7777777777777778,
                      "#fb9f3a"
                    ],
                    [
                      0.8888888888888888,
                      "#fdca26"
                    ],
                    [
                      1,
                      "#f0f921"
                    ]
                  ]
                },
                "height": 600,
                "margin": {
                  "t": 60
                },
                "template": {
                  "data": {
                    "bar": [
                      {
                        "error_x": {
                          "color": "#2a3f5f"
                        },
                        "error_y": {
                          "color": "#2a3f5f"
                        },
                        "marker": {
                          "line": {
                            "color": "#E5ECF6",
                            "width": 0.5
                          },
                          "pattern": {
                            "fillmode": "overlay",
                            "size": 10,
                            "solidity": 0.2
                          }
                        },
                        "type": "bar"
                      }
                    ],
                    "barpolar": [
                      {
                        "marker": {
                          "line": {
                            "color": "#E5ECF6",
                            "width": 0.5
                          },
                          "pattern": {
                            "fillmode": "overlay",
                            "size": 10,
                            "solidity": 0.2
                          }
                        },
                        "type": "barpolar"
                      }
                    ],
                    "carpet": [
                      {
                        "aaxis": {
                          "endlinecolor": "#2a3f5f",
                          "gridcolor": "white",
                          "linecolor": "white",
                          "minorgridcolor": "white",
                          "startlinecolor": "#2a3f5f"
                        },
                        "baxis": {
                          "endlinecolor": "#2a3f5f",
                          "gridcolor": "white",
                          "linecolor": "white",
                          "minorgridcolor": "white",
                          "startlinecolor": "#2a3f5f"
                        },
                        "type": "carpet"
                      }
                    ],
                    "choropleth": [
                      {
                        "colorbar": {
                          "outlinewidth": 0,
                          "ticks": ""
                        },
                        "type": "choropleth"
                      }
                    ],
                    "contour": [
                      {
                        "colorbar": {
                          "outlinewidth": 0,
                          "ticks": ""
                        },
                        "colorscale": [
                          [
                            0,
                            "#0d0887"
                          ],
                          [
                            0.1111111111111111,
                            "#46039f"
                          ],
                          [
                            0.2222222222222222,
                            "#7201a8"
                          ],
                          [
                            0.3333333333333333,
                            "#9c179e"
                          ],
                          [
                            0.4444444444444444,
                            "#bd3786"
                          ],
                          [
                            0.5555555555555556,
                            "#d8576b"
                          ],
                          [
                            0.6666666666666666,
                            "#ed7953"
                          ],
                          [
                            0.7777777777777778,
                            "#fb9f3a"
                          ],
                          [
                            0.8888888888888888,
                            "#fdca26"
                          ],
                          [
                            1,
                            "#f0f921"
                          ]
                        ],
                        "type": "contour"
                      }
                    ],
                    "contourcarpet": [
                      {
                        "colorbar": {
                          "outlinewidth": 0,
                          "ticks": ""
                        },
                        "type": "contourcarpet"
                      }
                    ],
                    "heatmap": [
                      {
                        "colorbar": {
                          "outlinewidth": 0,
                          "ticks": ""
                        },
                        "colorscale": [
                          [
                            0,
                            "#0d0887"
                          ],
                          [
                            0.1111111111111111,
                            "#46039f"
                          ],
                          [
                            0.2222222222222222,
                            "#7201a8"
                          ],
                          [
                            0.3333333333333333,
                            "#9c179e"
                          ],
                          [
                            0.4444444444444444,
                            "#bd3786"
                          ],
                          [
                            0.5555555555555556,
                            "#d8576b"
                          ],
                          [
                            0.6666666666666666,
                            "#ed7953"
                          ],
                          [
                            0.7777777777777778,
                            "#fb9f3a"
                          ],
                          [
                            0.8888888888888888,
                            "#fdca26"
                          ],
                          [
                            1,
                            "#f0f921"
                          ]
                        ],
                        "type": "heatmap"
                      }
                    ],
                    "heatmapgl": [
                      {
                        "colorbar": {
                          "outlinewidth": 0,
                          "ticks": ""
                        },
                        "colorscale": [
                          [
                            0,
                            "#0d0887"
                          ],
                          [
                            0.1111111111111111,
                            "#46039f"
                          ],
                          [
                            0.2222222222222222,
                            "#7201a8"
                          ],
                          [
                            0.3333333333333333,
                            "#9c179e"
                          ],
                          [
                            0.4444444444444444,
                            "#bd3786"
                          ],
                          [
                            0.5555555555555556,
                            "#d8576b"
                          ],
                          [
                            0.6666666666666666,
                            "#ed7953"
                          ],
                          [
                            0.7777777777777778,
                            "#fb9f3a"
                          ],
                          [
                            0.8888888888888888,
                            "#fdca26"
                          ],
                          [
                            1,
                            "#f0f921"
                          ]
                        ],
                        "type": "heatmapgl"
                      }
                    ],
                    "histogram": [
                      {
                        "marker": {
                          "pattern": {
                            "fillmode": "overlay",
                            "size": 10,
                            "solidity": 0.2
                          }
                        },
                        "type": "histogram"
                      }
                    ],
                    "histogram2d": [
                      {
                        "colorbar": {
                          "outlinewidth": 0,
                          "ticks": ""
                        },
                        "colorscale": [
                          [
                            0,
                            "#0d0887"
                          ],
                          [
                            0.1111111111111111,
                            "#46039f"
                          ],
                          [
                            0.2222222222222222,
                            "#7201a8"
                          ],
                          [
                            0.3333333333333333,
                            "#9c179e"
                          ],
                          [
                            0.4444444444444444,
                            "#bd3786"
                          ],
                          [
                            0.5555555555555556,
                            "#d8576b"
                          ],
                          [
                            0.6666666666666666,
                            "#ed7953"
                          ],
                          [
                            0.7777777777777778,
                            "#fb9f3a"
                          ],
                          [
                            0.8888888888888888,
                            "#fdca26"
                          ],
                          [
                            1,
                            "#f0f921"
                          ]
                        ],
                        "type": "histogram2d"
                      }
                    ],
                    "histogram2dcontour": [
                      {
                        "colorbar": {
                          "outlinewidth": 0,
                          "ticks": ""
                        },
                        "colorscale": [
                          [
                            0,
                            "#0d0887"
                          ],
                          [
                            0.1111111111111111,
                            "#46039f"
                          ],
                          [
                            0.2222222222222222,
                            "#7201a8"
                          ],
                          [
                            0.3333333333333333,
                            "#9c179e"
                          ],
                          [
                            0.4444444444444444,
                            "#bd3786"
                          ],
                          [
                            0.5555555555555556,
                            "#d8576b"
                          ],
                          [
                            0.6666666666666666,
                            "#ed7953"
                          ],
                          [
                            0.7777777777777778,
                            "#fb9f3a"
                          ],
                          [
                            0.8888888888888888,
                            "#fdca26"
                          ],
                          [
                            1,
                            "#f0f921"
                          ]
                        ],
                        "type": "histogram2dcontour"
                      }
                    ],
                    "mesh3d": [
                      {
                        "colorbar": {
                          "outlinewidth": 0,
                          "ticks": ""
                        },
                        "type": "mesh3d"
                      }
                    ],
                    "parcoords": [
                      {
                        "line": {
                          "colorbar": {
                            "outlinewidth": 0,
                            "ticks": ""
                          }
                        },
                        "type": "parcoords"
                      }
                    ],
                    "pie": [
                      {
                        "automargin": true,
                        "type": "pie"
                      }
                    ],
                    "scatter": [
                      {
                        "marker": {
                          "colorbar": {
                            "outlinewidth": 0,
                            "ticks": ""
                          }
                        },
                        "type": "scatter"
                      }
                    ],
                    "scatter3d": [
                      {
                        "line": {
                          "colorbar": {
                            "outlinewidth": 0,
                            "ticks": ""
                          }
                        },
                        "marker": {
                          "colorbar": {
                            "outlinewidth": 0,
                            "ticks": ""
                          }
                        },
                        "type": "scatter3d"
                      }
                    ],
                    "scattercarpet": [
                      {
                        "marker": {
                          "colorbar": {
                            "outlinewidth": 0,
                            "ticks": ""
                          }
                        },
                        "type": "scattercarpet"
                      }
                    ],
                    "scattergeo": [
                      {
                        "marker": {
                          "colorbar": {
                            "outlinewidth": 0,
                            "ticks": ""
                          }
                        },
                        "type": "scattergeo"
                      }
                    ],
                    "scattergl": [
                      {
                        "marker": {
                          "colorbar": {
                            "outlinewidth": 0,
                            "ticks": ""
                          }
                        },
                        "type": "scattergl"
                      }
                    ],
                    "scattermapbox": [
                      {
                        "marker": {
                          "colorbar": {
                            "outlinewidth": 0,
                            "ticks": ""
                          }
                        },
                        "type": "scattermapbox"
                      }
                    ],
                    "scatterpolar": [
                      {
                        "marker": {
                          "colorbar": {
                            "outlinewidth": 0,
                            "ticks": ""
                          }
                        },
                        "type": "scatterpolar"
                      }
                    ],
                    "scatterpolargl": [
                      {
                        "marker": {
                          "colorbar": {
                            "outlinewidth": 0,
                            "ticks": ""
                          }
                        },
                        "type": "scatterpolargl"
                      }
                    ],
                    "scatterternary": [
                      {
                        "marker": {
                          "colorbar": {
                            "outlinewidth": 0,
                            "ticks": ""
                          }
                        },
                        "type": "scatterternary"
                      }
                    ],
                    "surface": [
                      {
                        "colorbar": {
                          "outlinewidth": 0,
                          "ticks": ""
                        },
                        "colorscale": [
                          [
                            0,
                            "#0d0887"
                          ],
                          [
                            0.1111111111111111,
                            "#46039f"
                          ],
                          [
                            0.2222222222222222,
                            "#7201a8"
                          ],
                          [
                            0.3333333333333333,
                            "#9c179e"
                          ],
                          [
                            0.4444444444444444,
                            "#bd3786"
                          ],
                          [
                            0.5555555555555556,
                            "#d8576b"
                          ],
                          [
                            0.6666666666666666,
                            "#ed7953"
                          ],
                          [
                            0.7777777777777778,
                            "#fb9f3a"
                          ],
                          [
                            0.8888888888888888,
                            "#fdca26"
                          ],
                          [
                            1,
                            "#f0f921"
                          ]
                        ],
                        "type": "surface"
                      }
                    ],
                    "table": [
                      {
                        "cells": {
                          "fill": {
                            "color": "#EBF0F8"
                          },
                          "line": {
                            "color": "white"
                          }
                        },
                        "header": {
                          "fill": {
                            "color": "#C8D4E3"
                          },
                          "line": {
                            "color": "white"
                          }
                        },
                        "type": "table"
                      }
                    ]
                  },
                  "layout": {
                    "annotationdefaults": {
                      "arrowcolor": "#2a3f5f",
                      "arrowhead": 0,
                      "arrowwidth": 1
                    },
                    "autotypenumbers": "strict",
                    "coloraxis": {
                      "colorbar": {
                        "outlinewidth": 0,
                        "ticks": ""
                      }
                    },
                    "colorscale": {
                      "diverging": [
                        [
                          0,
                          "#8e0152"
                        ],
                        [
                          0.1,
                          "#c51b7d"
                        ],
                        [
                          0.2,
                          "#de77ae"
                        ],
                        [
                          0.3,
                          "#f1b6da"
                        ],
                        [
                          0.4,
                          "#fde0ef"
                        ],
                        [
                          0.5,
                          "#f7f7f7"
                        ],
                        [
                          0.6,
                          "#e6f5d0"
                        ],
                        [
                          0.7,
                          "#b8e186"
                        ],
                        [
                          0.8,
                          "#7fbc41"
                        ],
                        [
                          0.9,
                          "#4d9221"
                        ],
                        [
                          1,
                          "#276419"
                        ]
                      ],
                      "sequential": [
                        [
                          0,
                          "#0d0887"
                        ],
                        [
                          0.1111111111111111,
                          "#46039f"
                        ],
                        [
                          0.2222222222222222,
                          "#7201a8"
                        ],
                        [
                          0.3333333333333333,
                          "#9c179e"
                        ],
                        [
                          0.4444444444444444,
                          "#bd3786"
                        ],
                        [
                          0.5555555555555556,
                          "#d8576b"
                        ],
                        [
                          0.6666666666666666,
                          "#ed7953"
                        ],
                        [
                          0.7777777777777778,
                          "#fb9f3a"
                        ],
                        [
                          0.8888888888888888,
                          "#fdca26"
                        ],
                        [
                          1,
                          "#f0f921"
                        ]
                      ],
                      "sequentialminus": [
                        [
                          0,
                          "#0d0887"
                        ],
                        [
                          0.1111111111111111,
                          "#46039f"
                        ],
                        [
                          0.2222222222222222,
                          "#7201a8"
                        ],
                        [
                          0.3333333333333333,
                          "#9c179e"
                        ],
                        [
                          0.4444444444444444,
                          "#bd3786"
                        ],
                        [
                          0.5555555555555556,
                          "#d8576b"
                        ],
                        [
                          0.6666666666666666,
                          "#ed7953"
                        ],
                        [
                          0.7777777777777778,
                          "#fb9f3a"
                        ],
                        [
                          0.8888888888888888,
                          "#fdca26"
                        ],
                        [
                          1,
                          "#f0f921"
                        ]
                      ]
                    },
                    "colorway": [
                      "#636efa",
                      "#EF553B",
                      "#00cc96",
                      "#ab63fa",
                      "#FFA15A",
                      "#19d3f3",
                      "#FF6692",
                      "#B6E880",
                      "#FF97FF",
                      "#FECB52"
                    ],
                    "font": {
                      "color": "#2a3f5f"
                    },
                    "geo": {
                      "bgcolor": "white",
                      "lakecolor": "white",
                      "landcolor": "#E5ECF6",
                      "showlakes": true,
                      "showland": true,
                      "subunitcolor": "white"
                    },
                    "hoverlabel": {
                      "align": "left"
                    },
                    "hovermode": "closest",
                    "mapbox": {
                      "style": "light"
                    },
                    "paper_bgcolor": "white",
                    "plot_bgcolor": "#E5ECF6",
                    "polar": {
                      "angularaxis": {
                        "gridcolor": "white",
                        "linecolor": "white",
                        "ticks": ""
                      },
                      "bgcolor": "#E5ECF6",
                      "radialaxis": {
                        "gridcolor": "white",
                        "linecolor": "white",
                        "ticks": ""
                      }
                    },
                    "scene": {
                      "xaxis": {
                        "backgroundcolor": "#E5ECF6",
                        "gridcolor": "white",
                        "gridwidth": 2,
                        "linecolor": "white",
                        "showbackground": true,
                        "ticks": "",
                        "zerolinecolor": "white"
                      },
                      "yaxis": {
                        "backgroundcolor": "#E5ECF6",
                        "gridcolor": "white",
                        "gridwidth": 2,
                        "linecolor": "white",
                        "showbackground": true,
                        "ticks": "",
                        "zerolinecolor": "white"
                      },
                      "zaxis": {
                        "backgroundcolor": "#E5ECF6",
                        "gridcolor": "white",
                        "gridwidth": 2,
                        "linecolor": "white",
                        "showbackground": true,
                        "ticks": "",
                        "zerolinecolor": "white"
                      }
                    },
                    "shapedefaults": {
                      "line": {
                        "color": "#2a3f5f"
                      }
                    },
                    "ternary": {
                      "aaxis": {
                        "gridcolor": "white",
                        "linecolor": "white",
                        "ticks": ""
                      },
                      "baxis": {
                        "gridcolor": "white",
                        "linecolor": "white",
                        "ticks": ""
                      },
                      "bgcolor": "#E5ECF6",
                      "caxis": {
                        "gridcolor": "white",
                        "linecolor": "white",
                        "ticks": ""
                      }
                    },
                    "title": {
                      "x": 0.05
                    },
                    "xaxis": {
                      "automargin": true,
                      "gridcolor": "white",
                      "linecolor": "white",
                      "ticks": "",
                      "title": {
                        "standoff": 15
                      },
                      "zerolinecolor": "white",
                      "zerolinewidth": 2
                    },
                    "yaxis": {
                      "automargin": true,
                      "gridcolor": "white",
                      "linecolor": "white",
                      "ticks": "",
                      "title": {
                        "standoff": 15
                      },
                      "zerolinecolor": "white",
                      "zerolinewidth": 2
                    }
                  }
                },
                "width": 600,
                "xaxis": {
                  "anchor": "y",
                  "constrain": "domain",
                  "domain": [
                    0,
                    1
                  ],
                  "scaleanchor": "y",
                  "title": {
                    "text": "Predicted Value"
                  },
                  "type": "category"
                },
                "yaxis": {
                  "anchor": "x",
                  "autorange": "reversed",
                  "constrain": "domain",
                  "domain": [
                    0,
                    1
                  ],
                  "title": {
                    "text": "True value"
                  },
                  "type": "category"
                }
              }
            }
          },
          "metadata": {},
          "output_type": "display_data"
        },
        {
          "data": {
            "text/html": [
              "<br><a href=\"#summary_OD0JV\" style=\"font-size: 14px\">Go to top</a>"
            ]
          },
          "metadata": {},
          "output_type": "display_data"
        },
        {
          "data": {
            "text/html": [
              "<hr style=\"background-color: #eee;border: 0 none;color: #eee;height: 4px;\">"
            ]
          },
          "metadata": {},
          "output_type": "display_data"
        },
        {
          "data": {
            "text/html": [
              "<h4 id=\"CalibrationMetric-TrainDataset_OD0JV\">Calibration Metric - Train Dataset</h4><p>Calculate the calibration curve with brier score for each class. <a href=\"https://docs.deepchecks.com/0.6.1/examples/tabular/checks/performance/examples/plot_calibration_score.html?utm_source=display_output&utm_medium=referral&utm_campaign=check_link\" target=\"_blank\">Read More...</a></p><h5>Additional Outputs</h5><div>Calibration curves (also known as reliability diagrams) compare how well the probabilistic predictions of a binary classifier are calibrated. It plots the true frequency of the positive label against its predicted probability, for binned predictions.</div>"
            ]
          },
          "metadata": {},
          "output_type": "display_data"
        },
        {
          "data": {
            "application/vnd.plotly.v1+json": {
              "config": {
                "plotlyServerURL": "https://plot.ly"
              },
              "data": [
                {
                  "line": {
                    "dash": "dash",
                    "width": 2
                  },
                  "name": "Perfectly calibrated",
                  "type": "scatter",
                  "x": [
                    0,
                    1
                  ],
                  "y": [
                    0,
                    1
                  ]
                },
                {
                  "mode": "lines+markers",
                  "name": "(brier:   0.0834)",
                  "type": "scatter",
                  "x": [
                    0.06500843548595435,
                    0.14499214113241474,
                    0.2509491876282154,
                    0.3408474960823873,
                    0.4550361424973793,
                    0.5523429512984868,
                    0.6557522618499199,
                    0.7548481907133204,
                    0.8594266793567599,
                    0.9472184788909853
                  ],
                  "y": [
                    0,
                    0.011560693641618497,
                    0.1574074074074074,
                    0.4461538461538462,
                    0.65,
                    0.5833333333333334,
                    0.5769230769230769,
                    0.8571428571428571,
                    0.9761904761904762,
                    0.995475113122172
                  ]
                }
              ],
              "layout": {
                "height": 500,
                "template": {
                  "data": {
                    "bar": [
                      {
                        "error_x": {
                          "color": "#2a3f5f"
                        },
                        "error_y": {
                          "color": "#2a3f5f"
                        },
                        "marker": {
                          "line": {
                            "color": "#E5ECF6",
                            "width": 0.5
                          },
                          "pattern": {
                            "fillmode": "overlay",
                            "size": 10,
                            "solidity": 0.2
                          }
                        },
                        "type": "bar"
                      }
                    ],
                    "barpolar": [
                      {
                        "marker": {
                          "line": {
                            "color": "#E5ECF6",
                            "width": 0.5
                          },
                          "pattern": {
                            "fillmode": "overlay",
                            "size": 10,
                            "solidity": 0.2
                          }
                        },
                        "type": "barpolar"
                      }
                    ],
                    "carpet": [
                      {
                        "aaxis": {
                          "endlinecolor": "#2a3f5f",
                          "gridcolor": "white",
                          "linecolor": "white",
                          "minorgridcolor": "white",
                          "startlinecolor": "#2a3f5f"
                        },
                        "baxis": {
                          "endlinecolor": "#2a3f5f",
                          "gridcolor": "white",
                          "linecolor": "white",
                          "minorgridcolor": "white",
                          "startlinecolor": "#2a3f5f"
                        },
                        "type": "carpet"
                      }
                    ],
                    "choropleth": [
                      {
                        "colorbar": {
                          "outlinewidth": 0,
                          "ticks": ""
                        },
                        "type": "choropleth"
                      }
                    ],
                    "contour": [
                      {
                        "colorbar": {
                          "outlinewidth": 0,
                          "ticks": ""
                        },
                        "colorscale": [
                          [
                            0,
                            "#0d0887"
                          ],
                          [
                            0.1111111111111111,
                            "#46039f"
                          ],
                          [
                            0.2222222222222222,
                            "#7201a8"
                          ],
                          [
                            0.3333333333333333,
                            "#9c179e"
                          ],
                          [
                            0.4444444444444444,
                            "#bd3786"
                          ],
                          [
                            0.5555555555555556,
                            "#d8576b"
                          ],
                          [
                            0.6666666666666666,
                            "#ed7953"
                          ],
                          [
                            0.7777777777777778,
                            "#fb9f3a"
                          ],
                          [
                            0.8888888888888888,
                            "#fdca26"
                          ],
                          [
                            1,
                            "#f0f921"
                          ]
                        ],
                        "type": "contour"
                      }
                    ],
                    "contourcarpet": [
                      {
                        "colorbar": {
                          "outlinewidth": 0,
                          "ticks": ""
                        },
                        "type": "contourcarpet"
                      }
                    ],
                    "heatmap": [
                      {
                        "colorbar": {
                          "outlinewidth": 0,
                          "ticks": ""
                        },
                        "colorscale": [
                          [
                            0,
                            "#0d0887"
                          ],
                          [
                            0.1111111111111111,
                            "#46039f"
                          ],
                          [
                            0.2222222222222222,
                            "#7201a8"
                          ],
                          [
                            0.3333333333333333,
                            "#9c179e"
                          ],
                          [
                            0.4444444444444444,
                            "#bd3786"
                          ],
                          [
                            0.5555555555555556,
                            "#d8576b"
                          ],
                          [
                            0.6666666666666666,
                            "#ed7953"
                          ],
                          [
                            0.7777777777777778,
                            "#fb9f3a"
                          ],
                          [
                            0.8888888888888888,
                            "#fdca26"
                          ],
                          [
                            1,
                            "#f0f921"
                          ]
                        ],
                        "type": "heatmap"
                      }
                    ],
                    "heatmapgl": [
                      {
                        "colorbar": {
                          "outlinewidth": 0,
                          "ticks": ""
                        },
                        "colorscale": [
                          [
                            0,
                            "#0d0887"
                          ],
                          [
                            0.1111111111111111,
                            "#46039f"
                          ],
                          [
                            0.2222222222222222,
                            "#7201a8"
                          ],
                          [
                            0.3333333333333333,
                            "#9c179e"
                          ],
                          [
                            0.4444444444444444,
                            "#bd3786"
                          ],
                          [
                            0.5555555555555556,
                            "#d8576b"
                          ],
                          [
                            0.6666666666666666,
                            "#ed7953"
                          ],
                          [
                            0.7777777777777778,
                            "#fb9f3a"
                          ],
                          [
                            0.8888888888888888,
                            "#fdca26"
                          ],
                          [
                            1,
                            "#f0f921"
                          ]
                        ],
                        "type": "heatmapgl"
                      }
                    ],
                    "histogram": [
                      {
                        "marker": {
                          "pattern": {
                            "fillmode": "overlay",
                            "size": 10,
                            "solidity": 0.2
                          }
                        },
                        "type": "histogram"
                      }
                    ],
                    "histogram2d": [
                      {
                        "colorbar": {
                          "outlinewidth": 0,
                          "ticks": ""
                        },
                        "colorscale": [
                          [
                            0,
                            "#0d0887"
                          ],
                          [
                            0.1111111111111111,
                            "#46039f"
                          ],
                          [
                            0.2222222222222222,
                            "#7201a8"
                          ],
                          [
                            0.3333333333333333,
                            "#9c179e"
                          ],
                          [
                            0.4444444444444444,
                            "#bd3786"
                          ],
                          [
                            0.5555555555555556,
                            "#d8576b"
                          ],
                          [
                            0.6666666666666666,
                            "#ed7953"
                          ],
                          [
                            0.7777777777777778,
                            "#fb9f3a"
                          ],
                          [
                            0.8888888888888888,
                            "#fdca26"
                          ],
                          [
                            1,
                            "#f0f921"
                          ]
                        ],
                        "type": "histogram2d"
                      }
                    ],
                    "histogram2dcontour": [
                      {
                        "colorbar": {
                          "outlinewidth": 0,
                          "ticks": ""
                        },
                        "colorscale": [
                          [
                            0,
                            "#0d0887"
                          ],
                          [
                            0.1111111111111111,
                            "#46039f"
                          ],
                          [
                            0.2222222222222222,
                            "#7201a8"
                          ],
                          [
                            0.3333333333333333,
                            "#9c179e"
                          ],
                          [
                            0.4444444444444444,
                            "#bd3786"
                          ],
                          [
                            0.5555555555555556,
                            "#d8576b"
                          ],
                          [
                            0.6666666666666666,
                            "#ed7953"
                          ],
                          [
                            0.7777777777777778,
                            "#fb9f3a"
                          ],
                          [
                            0.8888888888888888,
                            "#fdca26"
                          ],
                          [
                            1,
                            "#f0f921"
                          ]
                        ],
                        "type": "histogram2dcontour"
                      }
                    ],
                    "mesh3d": [
                      {
                        "colorbar": {
                          "outlinewidth": 0,
                          "ticks": ""
                        },
                        "type": "mesh3d"
                      }
                    ],
                    "parcoords": [
                      {
                        "line": {
                          "colorbar": {
                            "outlinewidth": 0,
                            "ticks": ""
                          }
                        },
                        "type": "parcoords"
                      }
                    ],
                    "pie": [
                      {
                        "automargin": true,
                        "type": "pie"
                      }
                    ],
                    "scatter": [
                      {
                        "marker": {
                          "colorbar": {
                            "outlinewidth": 0,
                            "ticks": ""
                          }
                        },
                        "type": "scatter"
                      }
                    ],
                    "scatter3d": [
                      {
                        "line": {
                          "colorbar": {
                            "outlinewidth": 0,
                            "ticks": ""
                          }
                        },
                        "marker": {
                          "colorbar": {
                            "outlinewidth": 0,
                            "ticks": ""
                          }
                        },
                        "type": "scatter3d"
                      }
                    ],
                    "scattercarpet": [
                      {
                        "marker": {
                          "colorbar": {
                            "outlinewidth": 0,
                            "ticks": ""
                          }
                        },
                        "type": "scattercarpet"
                      }
                    ],
                    "scattergeo": [
                      {
                        "marker": {
                          "colorbar": {
                            "outlinewidth": 0,
                            "ticks": ""
                          }
                        },
                        "type": "scattergeo"
                      }
                    ],
                    "scattergl": [
                      {
                        "marker": {
                          "colorbar": {
                            "outlinewidth": 0,
                            "ticks": ""
                          }
                        },
                        "type": "scattergl"
                      }
                    ],
                    "scattermapbox": [
                      {
                        "marker": {
                          "colorbar": {
                            "outlinewidth": 0,
                            "ticks": ""
                          }
                        },
                        "type": "scattermapbox"
                      }
                    ],
                    "scatterpolar": [
                      {
                        "marker": {
                          "colorbar": {
                            "outlinewidth": 0,
                            "ticks": ""
                          }
                        },
                        "type": "scatterpolar"
                      }
                    ],
                    "scatterpolargl": [
                      {
                        "marker": {
                          "colorbar": {
                            "outlinewidth": 0,
                            "ticks": ""
                          }
                        },
                        "type": "scatterpolargl"
                      }
                    ],
                    "scatterternary": [
                      {
                        "marker": {
                          "colorbar": {
                            "outlinewidth": 0,
                            "ticks": ""
                          }
                        },
                        "type": "scatterternary"
                      }
                    ],
                    "surface": [
                      {
                        "colorbar": {
                          "outlinewidth": 0,
                          "ticks": ""
                        },
                        "colorscale": [
                          [
                            0,
                            "#0d0887"
                          ],
                          [
                            0.1111111111111111,
                            "#46039f"
                          ],
                          [
                            0.2222222222222222,
                            "#7201a8"
                          ],
                          [
                            0.3333333333333333,
                            "#9c179e"
                          ],
                          [
                            0.4444444444444444,
                            "#bd3786"
                          ],
                          [
                            0.5555555555555556,
                            "#d8576b"
                          ],
                          [
                            0.6666666666666666,
                            "#ed7953"
                          ],
                          [
                            0.7777777777777778,
                            "#fb9f3a"
                          ],
                          [
                            0.8888888888888888,
                            "#fdca26"
                          ],
                          [
                            1,
                            "#f0f921"
                          ]
                        ],
                        "type": "surface"
                      }
                    ],
                    "table": [
                      {
                        "cells": {
                          "fill": {
                            "color": "#EBF0F8"
                          },
                          "line": {
                            "color": "white"
                          }
                        },
                        "header": {
                          "fill": {
                            "color": "#C8D4E3"
                          },
                          "line": {
                            "color": "white"
                          }
                        },
                        "type": "table"
                      }
                    ]
                  },
                  "layout": {
                    "annotationdefaults": {
                      "arrowcolor": "#2a3f5f",
                      "arrowhead": 0,
                      "arrowwidth": 1
                    },
                    "autotypenumbers": "strict",
                    "coloraxis": {
                      "colorbar": {
                        "outlinewidth": 0,
                        "ticks": ""
                      }
                    },
                    "colorscale": {
                      "diverging": [
                        [
                          0,
                          "#8e0152"
                        ],
                        [
                          0.1,
                          "#c51b7d"
                        ],
                        [
                          0.2,
                          "#de77ae"
                        ],
                        [
                          0.3,
                          "#f1b6da"
                        ],
                        [
                          0.4,
                          "#fde0ef"
                        ],
                        [
                          0.5,
                          "#f7f7f7"
                        ],
                        [
                          0.6,
                          "#e6f5d0"
                        ],
                        [
                          0.7,
                          "#b8e186"
                        ],
                        [
                          0.8,
                          "#7fbc41"
                        ],
                        [
                          0.9,
                          "#4d9221"
                        ],
                        [
                          1,
                          "#276419"
                        ]
                      ],
                      "sequential": [
                        [
                          0,
                          "#0d0887"
                        ],
                        [
                          0.1111111111111111,
                          "#46039f"
                        ],
                        [
                          0.2222222222222222,
                          "#7201a8"
                        ],
                        [
                          0.3333333333333333,
                          "#9c179e"
                        ],
                        [
                          0.4444444444444444,
                          "#bd3786"
                        ],
                        [
                          0.5555555555555556,
                          "#d8576b"
                        ],
                        [
                          0.6666666666666666,
                          "#ed7953"
                        ],
                        [
                          0.7777777777777778,
                          "#fb9f3a"
                        ],
                        [
                          0.8888888888888888,
                          "#fdca26"
                        ],
                        [
                          1,
                          "#f0f921"
                        ]
                      ],
                      "sequentialminus": [
                        [
                          0,
                          "#0d0887"
                        ],
                        [
                          0.1111111111111111,
                          "#46039f"
                        ],
                        [
                          0.2222222222222222,
                          "#7201a8"
                        ],
                        [
                          0.3333333333333333,
                          "#9c179e"
                        ],
                        [
                          0.4444444444444444,
                          "#bd3786"
                        ],
                        [
                          0.5555555555555556,
                          "#d8576b"
                        ],
                        [
                          0.6666666666666666,
                          "#ed7953"
                        ],
                        [
                          0.7777777777777778,
                          "#fb9f3a"
                        ],
                        [
                          0.8888888888888888,
                          "#fdca26"
                        ],
                        [
                          1,
                          "#f0f921"
                        ]
                      ]
                    },
                    "colorway": [
                      "#636efa",
                      "#EF553B",
                      "#00cc96",
                      "#ab63fa",
                      "#FFA15A",
                      "#19d3f3",
                      "#FF6692",
                      "#B6E880",
                      "#FF97FF",
                      "#FECB52"
                    ],
                    "font": {
                      "color": "#2a3f5f"
                    },
                    "geo": {
                      "bgcolor": "white",
                      "lakecolor": "white",
                      "landcolor": "#E5ECF6",
                      "showlakes": true,
                      "showland": true,
                      "subunitcolor": "white"
                    },
                    "hoverlabel": {
                      "align": "left"
                    },
                    "hovermode": "closest",
                    "mapbox": {
                      "style": "light"
                    },
                    "paper_bgcolor": "white",
                    "plot_bgcolor": "#E5ECF6",
                    "polar": {
                      "angularaxis": {
                        "gridcolor": "white",
                        "linecolor": "white",
                        "ticks": ""
                      },
                      "bgcolor": "#E5ECF6",
                      "radialaxis": {
                        "gridcolor": "white",
                        "linecolor": "white",
                        "ticks": ""
                      }
                    },
                    "scene": {
                      "xaxis": {
                        "backgroundcolor": "#E5ECF6",
                        "gridcolor": "white",
                        "gridwidth": 2,
                        "linecolor": "white",
                        "showbackground": true,
                        "ticks": "",
                        "zerolinecolor": "white"
                      },
                      "yaxis": {
                        "backgroundcolor": "#E5ECF6",
                        "gridcolor": "white",
                        "gridwidth": 2,
                        "linecolor": "white",
                        "showbackground": true,
                        "ticks": "",
                        "zerolinecolor": "white"
                      },
                      "zaxis": {
                        "backgroundcolor": "#E5ECF6",
                        "gridcolor": "white",
                        "gridwidth": 2,
                        "linecolor": "white",
                        "showbackground": true,
                        "ticks": "",
                        "zerolinecolor": "white"
                      }
                    },
                    "shapedefaults": {
                      "line": {
                        "color": "#2a3f5f"
                      }
                    },
                    "ternary": {
                      "aaxis": {
                        "gridcolor": "white",
                        "linecolor": "white",
                        "ticks": ""
                      },
                      "baxis": {
                        "gridcolor": "white",
                        "linecolor": "white",
                        "ticks": ""
                      },
                      "bgcolor": "#E5ECF6",
                      "caxis": {
                        "gridcolor": "white",
                        "linecolor": "white",
                        "ticks": ""
                      }
                    },
                    "title": {
                      "x": 0.05
                    },
                    "xaxis": {
                      "automargin": true,
                      "gridcolor": "white",
                      "linecolor": "white",
                      "ticks": "",
                      "title": {
                        "standoff": 15
                      },
                      "zerolinecolor": "white",
                      "zerolinewidth": 2
                    },
                    "yaxis": {
                      "automargin": true,
                      "gridcolor": "white",
                      "linecolor": "white",
                      "ticks": "",
                      "title": {
                        "standoff": 15
                      },
                      "zerolinecolor": "white",
                      "zerolinewidth": 2
                    }
                  }
                },
                "title": {
                  "text": "Calibration plots (reliability curve)"
                },
                "width": 700,
                "xaxis": {
                  "title": {
                    "text": "Mean predicted value"
                  }
                },
                "yaxis": {
                  "title": {
                    "text": "Fraction of positives"
                  }
                }
              }
            }
          },
          "metadata": {},
          "output_type": "display_data"
        },
        {
          "data": {
            "text/html": [
              "<div>The Brier score metric may be used to assess how well a classifier is calibrated. For more info, please visit https://en.wikipedia.org/wiki/Brier_score</div><br><a href=\"#summary_OD0JV\" style=\"font-size: 14px\">Go to top</a>"
            ]
          },
          "metadata": {},
          "output_type": "display_data"
        },
        {
          "data": {
            "text/html": [
              "<hr style=\"background-color: #eee;border: 0 none;color: #eee;height: 4px;\">"
            ]
          },
          "metadata": {},
          "output_type": "display_data"
        },
        {
          "data": {
            "text/html": [
              "<h4 id=\"CalibrationMetric-TestDataset_OD0JV\">Calibration Metric - Test Dataset</h4><p>Calculate the calibration curve with brier score for each class. <a href=\"https://docs.deepchecks.com/0.6.1/examples/tabular/checks/performance/examples/plot_calibration_score.html?utm_source=display_output&utm_medium=referral&utm_campaign=check_link\" target=\"_blank\">Read More...</a></p><h5>Additional Outputs</h5><div>Calibration curves (also known as reliability diagrams) compare how well the probabilistic predictions of a binary classifier are calibrated. It plots the true frequency of the positive label against its predicted probability, for binned predictions.</div>"
            ]
          },
          "metadata": {},
          "output_type": "display_data"
        },
        {
          "data": {
            "application/vnd.plotly.v1+json": {
              "config": {
                "plotlyServerURL": "https://plot.ly"
              },
              "data": [
                {
                  "line": {
                    "dash": "dash",
                    "width": 2
                  },
                  "name": "Perfectly calibrated",
                  "type": "scatter",
                  "x": [
                    0,
                    1
                  ],
                  "y": [
                    0,
                    1
                  ]
                },
                {
                  "mode": "lines+markers",
                  "name": "(brier:   0.0987)",
                  "type": "scatter",
                  "x": [
                    0.06750253052684253,
                    0.14000868125804783,
                    0.25844948806283446,
                    0.3422570201108333,
                    0.4400432401963689,
                    0.5533539809024581,
                    0.6510154195868278,
                    0.752368359054988,
                    0.8567794380459468,
                    0.9533055023003709
                  ],
                  "y": [
                    0.037037037037037035,
                    0.08163265306122448,
                    0.20689655172413793,
                    0.2222222222222222,
                    0.18181818181818182,
                    0.5,
                    0.7391304347826086,
                    0.7916666666666666,
                    0.9047619047619048,
                    0.9876543209876543
                  ]
                }
              ],
              "layout": {
                "height": 500,
                "template": {
                  "data": {
                    "bar": [
                      {
                        "error_x": {
                          "color": "#2a3f5f"
                        },
                        "error_y": {
                          "color": "#2a3f5f"
                        },
                        "marker": {
                          "line": {
                            "color": "#E5ECF6",
                            "width": 0.5
                          },
                          "pattern": {
                            "fillmode": "overlay",
                            "size": 10,
                            "solidity": 0.2
                          }
                        },
                        "type": "bar"
                      }
                    ],
                    "barpolar": [
                      {
                        "marker": {
                          "line": {
                            "color": "#E5ECF6",
                            "width": 0.5
                          },
                          "pattern": {
                            "fillmode": "overlay",
                            "size": 10,
                            "solidity": 0.2
                          }
                        },
                        "type": "barpolar"
                      }
                    ],
                    "carpet": [
                      {
                        "aaxis": {
                          "endlinecolor": "#2a3f5f",
                          "gridcolor": "white",
                          "linecolor": "white",
                          "minorgridcolor": "white",
                          "startlinecolor": "#2a3f5f"
                        },
                        "baxis": {
                          "endlinecolor": "#2a3f5f",
                          "gridcolor": "white",
                          "linecolor": "white",
                          "minorgridcolor": "white",
                          "startlinecolor": "#2a3f5f"
                        },
                        "type": "carpet"
                      }
                    ],
                    "choropleth": [
                      {
                        "colorbar": {
                          "outlinewidth": 0,
                          "ticks": ""
                        },
                        "type": "choropleth"
                      }
                    ],
                    "contour": [
                      {
                        "colorbar": {
                          "outlinewidth": 0,
                          "ticks": ""
                        },
                        "colorscale": [
                          [
                            0,
                            "#0d0887"
                          ],
                          [
                            0.1111111111111111,
                            "#46039f"
                          ],
                          [
                            0.2222222222222222,
                            "#7201a8"
                          ],
                          [
                            0.3333333333333333,
                            "#9c179e"
                          ],
                          [
                            0.4444444444444444,
                            "#bd3786"
                          ],
                          [
                            0.5555555555555556,
                            "#d8576b"
                          ],
                          [
                            0.6666666666666666,
                            "#ed7953"
                          ],
                          [
                            0.7777777777777778,
                            "#fb9f3a"
                          ],
                          [
                            0.8888888888888888,
                            "#fdca26"
                          ],
                          [
                            1,
                            "#f0f921"
                          ]
                        ],
                        "type": "contour"
                      }
                    ],
                    "contourcarpet": [
                      {
                        "colorbar": {
                          "outlinewidth": 0,
                          "ticks": ""
                        },
                        "type": "contourcarpet"
                      }
                    ],
                    "heatmap": [
                      {
                        "colorbar": {
                          "outlinewidth": 0,
                          "ticks": ""
                        },
                        "colorscale": [
                          [
                            0,
                            "#0d0887"
                          ],
                          [
                            0.1111111111111111,
                            "#46039f"
                          ],
                          [
                            0.2222222222222222,
                            "#7201a8"
                          ],
                          [
                            0.3333333333333333,
                            "#9c179e"
                          ],
                          [
                            0.4444444444444444,
                            "#bd3786"
                          ],
                          [
                            0.5555555555555556,
                            "#d8576b"
                          ],
                          [
                            0.6666666666666666,
                            "#ed7953"
                          ],
                          [
                            0.7777777777777778,
                            "#fb9f3a"
                          ],
                          [
                            0.8888888888888888,
                            "#fdca26"
                          ],
                          [
                            1,
                            "#f0f921"
                          ]
                        ],
                        "type": "heatmap"
                      }
                    ],
                    "heatmapgl": [
                      {
                        "colorbar": {
                          "outlinewidth": 0,
                          "ticks": ""
                        },
                        "colorscale": [
                          [
                            0,
                            "#0d0887"
                          ],
                          [
                            0.1111111111111111,
                            "#46039f"
                          ],
                          [
                            0.2222222222222222,
                            "#7201a8"
                          ],
                          [
                            0.3333333333333333,
                            "#9c179e"
                          ],
                          [
                            0.4444444444444444,
                            "#bd3786"
                          ],
                          [
                            0.5555555555555556,
                            "#d8576b"
                          ],
                          [
                            0.6666666666666666,
                            "#ed7953"
                          ],
                          [
                            0.7777777777777778,
                            "#fb9f3a"
                          ],
                          [
                            0.8888888888888888,
                            "#fdca26"
                          ],
                          [
                            1,
                            "#f0f921"
                          ]
                        ],
                        "type": "heatmapgl"
                      }
                    ],
                    "histogram": [
                      {
                        "marker": {
                          "pattern": {
                            "fillmode": "overlay",
                            "size": 10,
                            "solidity": 0.2
                          }
                        },
                        "type": "histogram"
                      }
                    ],
                    "histogram2d": [
                      {
                        "colorbar": {
                          "outlinewidth": 0,
                          "ticks": ""
                        },
                        "colorscale": [
                          [
                            0,
                            "#0d0887"
                          ],
                          [
                            0.1111111111111111,
                            "#46039f"
                          ],
                          [
                            0.2222222222222222,
                            "#7201a8"
                          ],
                          [
                            0.3333333333333333,
                            "#9c179e"
                          ],
                          [
                            0.4444444444444444,
                            "#bd3786"
                          ],
                          [
                            0.5555555555555556,
                            "#d8576b"
                          ],
                          [
                            0.6666666666666666,
                            "#ed7953"
                          ],
                          [
                            0.7777777777777778,
                            "#fb9f3a"
                          ],
                          [
                            0.8888888888888888,
                            "#fdca26"
                          ],
                          [
                            1,
                            "#f0f921"
                          ]
                        ],
                        "type": "histogram2d"
                      }
                    ],
                    "histogram2dcontour": [
                      {
                        "colorbar": {
                          "outlinewidth": 0,
                          "ticks": ""
                        },
                        "colorscale": [
                          [
                            0,
                            "#0d0887"
                          ],
                          [
                            0.1111111111111111,
                            "#46039f"
                          ],
                          [
                            0.2222222222222222,
                            "#7201a8"
                          ],
                          [
                            0.3333333333333333,
                            "#9c179e"
                          ],
                          [
                            0.4444444444444444,
                            "#bd3786"
                          ],
                          [
                            0.5555555555555556,
                            "#d8576b"
                          ],
                          [
                            0.6666666666666666,
                            "#ed7953"
                          ],
                          [
                            0.7777777777777778,
                            "#fb9f3a"
                          ],
                          [
                            0.8888888888888888,
                            "#fdca26"
                          ],
                          [
                            1,
                            "#f0f921"
                          ]
                        ],
                        "type": "histogram2dcontour"
                      }
                    ],
                    "mesh3d": [
                      {
                        "colorbar": {
                          "outlinewidth": 0,
                          "ticks": ""
                        },
                        "type": "mesh3d"
                      }
                    ],
                    "parcoords": [
                      {
                        "line": {
                          "colorbar": {
                            "outlinewidth": 0,
                            "ticks": ""
                          }
                        },
                        "type": "parcoords"
                      }
                    ],
                    "pie": [
                      {
                        "automargin": true,
                        "type": "pie"
                      }
                    ],
                    "scatter": [
                      {
                        "marker": {
                          "colorbar": {
                            "outlinewidth": 0,
                            "ticks": ""
                          }
                        },
                        "type": "scatter"
                      }
                    ],
                    "scatter3d": [
                      {
                        "line": {
                          "colorbar": {
                            "outlinewidth": 0,
                            "ticks": ""
                          }
                        },
                        "marker": {
                          "colorbar": {
                            "outlinewidth": 0,
                            "ticks": ""
                          }
                        },
                        "type": "scatter3d"
                      }
                    ],
                    "scattercarpet": [
                      {
                        "marker": {
                          "colorbar": {
                            "outlinewidth": 0,
                            "ticks": ""
                          }
                        },
                        "type": "scattercarpet"
                      }
                    ],
                    "scattergeo": [
                      {
                        "marker": {
                          "colorbar": {
                            "outlinewidth": 0,
                            "ticks": ""
                          }
                        },
                        "type": "scattergeo"
                      }
                    ],
                    "scattergl": [
                      {
                        "marker": {
                          "colorbar": {
                            "outlinewidth": 0,
                            "ticks": ""
                          }
                        },
                        "type": "scattergl"
                      }
                    ],
                    "scattermapbox": [
                      {
                        "marker": {
                          "colorbar": {
                            "outlinewidth": 0,
                            "ticks": ""
                          }
                        },
                        "type": "scattermapbox"
                      }
                    ],
                    "scatterpolar": [
                      {
                        "marker": {
                          "colorbar": {
                            "outlinewidth": 0,
                            "ticks": ""
                          }
                        },
                        "type": "scatterpolar"
                      }
                    ],
                    "scatterpolargl": [
                      {
                        "marker": {
                          "colorbar": {
                            "outlinewidth": 0,
                            "ticks": ""
                          }
                        },
                        "type": "scatterpolargl"
                      }
                    ],
                    "scatterternary": [
                      {
                        "marker": {
                          "colorbar": {
                            "outlinewidth": 0,
                            "ticks": ""
                          }
                        },
                        "type": "scatterternary"
                      }
                    ],
                    "surface": [
                      {
                        "colorbar": {
                          "outlinewidth": 0,
                          "ticks": ""
                        },
                        "colorscale": [
                          [
                            0,
                            "#0d0887"
                          ],
                          [
                            0.1111111111111111,
                            "#46039f"
                          ],
                          [
                            0.2222222222222222,
                            "#7201a8"
                          ],
                          [
                            0.3333333333333333,
                            "#9c179e"
                          ],
                          [
                            0.4444444444444444,
                            "#bd3786"
                          ],
                          [
                            0.5555555555555556,
                            "#d8576b"
                          ],
                          [
                            0.6666666666666666,
                            "#ed7953"
                          ],
                          [
                            0.7777777777777778,
                            "#fb9f3a"
                          ],
                          [
                            0.8888888888888888,
                            "#fdca26"
                          ],
                          [
                            1,
                            "#f0f921"
                          ]
                        ],
                        "type": "surface"
                      }
                    ],
                    "table": [
                      {
                        "cells": {
                          "fill": {
                            "color": "#EBF0F8"
                          },
                          "line": {
                            "color": "white"
                          }
                        },
                        "header": {
                          "fill": {
                            "color": "#C8D4E3"
                          },
                          "line": {
                            "color": "white"
                          }
                        },
                        "type": "table"
                      }
                    ]
                  },
                  "layout": {
                    "annotationdefaults": {
                      "arrowcolor": "#2a3f5f",
                      "arrowhead": 0,
                      "arrowwidth": 1
                    },
                    "autotypenumbers": "strict",
                    "coloraxis": {
                      "colorbar": {
                        "outlinewidth": 0,
                        "ticks": ""
                      }
                    },
                    "colorscale": {
                      "diverging": [
                        [
                          0,
                          "#8e0152"
                        ],
                        [
                          0.1,
                          "#c51b7d"
                        ],
                        [
                          0.2,
                          "#de77ae"
                        ],
                        [
                          0.3,
                          "#f1b6da"
                        ],
                        [
                          0.4,
                          "#fde0ef"
                        ],
                        [
                          0.5,
                          "#f7f7f7"
                        ],
                        [
                          0.6,
                          "#e6f5d0"
                        ],
                        [
                          0.7,
                          "#b8e186"
                        ],
                        [
                          0.8,
                          "#7fbc41"
                        ],
                        [
                          0.9,
                          "#4d9221"
                        ],
                        [
                          1,
                          "#276419"
                        ]
                      ],
                      "sequential": [
                        [
                          0,
                          "#0d0887"
                        ],
                        [
                          0.1111111111111111,
                          "#46039f"
                        ],
                        [
                          0.2222222222222222,
                          "#7201a8"
                        ],
                        [
                          0.3333333333333333,
                          "#9c179e"
                        ],
                        [
                          0.4444444444444444,
                          "#bd3786"
                        ],
                        [
                          0.5555555555555556,
                          "#d8576b"
                        ],
                        [
                          0.6666666666666666,
                          "#ed7953"
                        ],
                        [
                          0.7777777777777778,
                          "#fb9f3a"
                        ],
                        [
                          0.8888888888888888,
                          "#fdca26"
                        ],
                        [
                          1,
                          "#f0f921"
                        ]
                      ],
                      "sequentialminus": [
                        [
                          0,
                          "#0d0887"
                        ],
                        [
                          0.1111111111111111,
                          "#46039f"
                        ],
                        [
                          0.2222222222222222,
                          "#7201a8"
                        ],
                        [
                          0.3333333333333333,
                          "#9c179e"
                        ],
                        [
                          0.4444444444444444,
                          "#bd3786"
                        ],
                        [
                          0.5555555555555556,
                          "#d8576b"
                        ],
                        [
                          0.6666666666666666,
                          "#ed7953"
                        ],
                        [
                          0.7777777777777778,
                          "#fb9f3a"
                        ],
                        [
                          0.8888888888888888,
                          "#fdca26"
                        ],
                        [
                          1,
                          "#f0f921"
                        ]
                      ]
                    },
                    "colorway": [
                      "#636efa",
                      "#EF553B",
                      "#00cc96",
                      "#ab63fa",
                      "#FFA15A",
                      "#19d3f3",
                      "#FF6692",
                      "#B6E880",
                      "#FF97FF",
                      "#FECB52"
                    ],
                    "font": {
                      "color": "#2a3f5f"
                    },
                    "geo": {
                      "bgcolor": "white",
                      "lakecolor": "white",
                      "landcolor": "#E5ECF6",
                      "showlakes": true,
                      "showland": true,
                      "subunitcolor": "white"
                    },
                    "hoverlabel": {
                      "align": "left"
                    },
                    "hovermode": "closest",
                    "mapbox": {
                      "style": "light"
                    },
                    "paper_bgcolor": "white",
                    "plot_bgcolor": "#E5ECF6",
                    "polar": {
                      "angularaxis": {
                        "gridcolor": "white",
                        "linecolor": "white",
                        "ticks": ""
                      },
                      "bgcolor": "#E5ECF6",
                      "radialaxis": {
                        "gridcolor": "white",
                        "linecolor": "white",
                        "ticks": ""
                      }
                    },
                    "scene": {
                      "xaxis": {
                        "backgroundcolor": "#E5ECF6",
                        "gridcolor": "white",
                        "gridwidth": 2,
                        "linecolor": "white",
                        "showbackground": true,
                        "ticks": "",
                        "zerolinecolor": "white"
                      },
                      "yaxis": {
                        "backgroundcolor": "#E5ECF6",
                        "gridcolor": "white",
                        "gridwidth": 2,
                        "linecolor": "white",
                        "showbackground": true,
                        "ticks": "",
                        "zerolinecolor": "white"
                      },
                      "zaxis": {
                        "backgroundcolor": "#E5ECF6",
                        "gridcolor": "white",
                        "gridwidth": 2,
                        "linecolor": "white",
                        "showbackground": true,
                        "ticks": "",
                        "zerolinecolor": "white"
                      }
                    },
                    "shapedefaults": {
                      "line": {
                        "color": "#2a3f5f"
                      }
                    },
                    "ternary": {
                      "aaxis": {
                        "gridcolor": "white",
                        "linecolor": "white",
                        "ticks": ""
                      },
                      "baxis": {
                        "gridcolor": "white",
                        "linecolor": "white",
                        "ticks": ""
                      },
                      "bgcolor": "#E5ECF6",
                      "caxis": {
                        "gridcolor": "white",
                        "linecolor": "white",
                        "ticks": ""
                      }
                    },
                    "title": {
                      "x": 0.05
                    },
                    "xaxis": {
                      "automargin": true,
                      "gridcolor": "white",
                      "linecolor": "white",
                      "ticks": "",
                      "title": {
                        "standoff": 15
                      },
                      "zerolinecolor": "white",
                      "zerolinewidth": 2
                    },
                    "yaxis": {
                      "automargin": true,
                      "gridcolor": "white",
                      "linecolor": "white",
                      "ticks": "",
                      "title": {
                        "standoff": 15
                      },
                      "zerolinecolor": "white",
                      "zerolinewidth": 2
                    }
                  }
                },
                "title": {
                  "text": "Calibration plots (reliability curve)"
                },
                "width": 700,
                "xaxis": {
                  "title": {
                    "text": "Mean predicted value"
                  }
                },
                "yaxis": {
                  "title": {
                    "text": "Fraction of positives"
                  }
                }
              }
            }
          },
          "metadata": {},
          "output_type": "display_data"
        },
        {
          "data": {
            "text/html": [
              "<div>The Brier score metric may be used to assess how well a classifier is calibrated. For more info, please visit https://en.wikipedia.org/wiki/Brier_score</div><br><a href=\"#summary_OD0JV\" style=\"font-size: 14px\">Go to top</a>"
            ]
          },
          "metadata": {},
          "output_type": "display_data"
        },
        {
          "data": {
            "text/html": [
              "<hr style=\"background-color: black;border: 0 none;color: black;height: 1px;\"><h2>Other Checks That Weren't Displayed</h2><style type=\"text/css\">\n",
              "#T_55ce8 table {\n",
              "  text-align: left;\n",
              "  white-space: pre-wrap;\n",
              "}\n",
              "#T_55ce8 thead {\n",
              "  text-align: left;\n",
              "  white-space: pre-wrap;\n",
              "}\n",
              "#T_55ce8 tbody {\n",
              "  text-align: left;\n",
              "  white-space: pre-wrap;\n",
              "}\n",
              "#T_55ce8 th {\n",
              "  text-align: left;\n",
              "  white-space: pre-wrap;\n",
              "}\n",
              "#T_55ce8 td {\n",
              "  text-align: left;\n",
              "  white-space: pre-wrap;\n",
              "}\n",
              "</style>\n",
              "<table id=\"T_55ce8\">\n",
              "  <thead>\n",
              "    <tr>\n",
              "      <th id=\"T_55ce8_level0_col0\" class=\"col_heading level0 col0\" >Check</th>\n",
              "      <th id=\"T_55ce8_level0_col1\" class=\"col_heading level0 col1\" >Reason</th>\n",
              "    </tr>\n",
              "  </thead>\n",
              "  <tbody>\n",
              "    <tr>\n",
              "      <td id=\"T_55ce8_row0_col0\" class=\"data row0 col0\" >Model Error Analysis</td>\n",
              "      <td id=\"T_55ce8_row0_col1\" class=\"data row0 col1\" >Unable to train meaningful error model (r^2 score: 0.09)</td>\n",
              "    </tr>\n",
              "    <tr>\n",
              "      <td id=\"T_55ce8_row1_col0\" class=\"data row1 col0\" >Index Train Test Leakage</td>\n",
              "      <td id=\"T_55ce8_row1_col1\" class=\"data row1 col1\" >There is no index defined to use. Did you pass a DataFrame instead of a Dataset?</td>\n",
              "    </tr>\n",
              "    <tr>\n",
              "      <td id=\"T_55ce8_row2_col0\" class=\"data row2 col0\" >Identifier Leakage - Train Dataset</td>\n",
              "      <td id=\"T_55ce8_row2_col1\" class=\"data row2 col1\" >Check is irrelevant for Datasets without index or date column</td>\n",
              "    </tr>\n",
              "    <tr>\n",
              "      <td id=\"T_55ce8_row3_col0\" class=\"data row3 col0\" >Date Train Test Leakage Overlap</td>\n",
              "      <td id=\"T_55ce8_row3_col1\" class=\"data row3 col1\" >There is no datetime defined to use. Did you pass a DataFrame instead of a Dataset?</td>\n",
              "    </tr>\n",
              "    <tr>\n",
              "      <td id=\"T_55ce8_row4_col0\" class=\"data row4 col0\" >Date Train Test Leakage Duplicates</td>\n",
              "      <td id=\"T_55ce8_row4_col1\" class=\"data row4 col1\" >There is no datetime defined to use. Did you pass a DataFrame instead of a Dataset?</td>\n",
              "    </tr>\n",
              "    <tr>\n",
              "      <td id=\"T_55ce8_row5_col0\" class=\"data row5 col0\" >Identifier Leakage - Test Dataset</td>\n",
              "      <td id=\"T_55ce8_row5_col1\" class=\"data row5 col1\" >Check is irrelevant for Datasets without index or date column</td>\n",
              "    </tr>\n",
              "    <tr>\n",
              "      <td id=\"T_55ce8_row6_col0\" class=\"data row6 col0\" >Regression Error Distribution - Test Dataset</td>\n",
              "      <td id=\"T_55ce8_row6_col1\" class=\"data row6 col1\" >Check is relevant for models of type ['regression'], but received model of type 'binary'</td>\n",
              "    </tr>\n",
              "    <tr>\n",
              "      <td id=\"T_55ce8_row7_col0\" class=\"data row7 col0\" >Regression Error Distribution - Train Dataset</td>\n",
              "      <td id=\"T_55ce8_row7_col1\" class=\"data row7 col1\" >Check is relevant for models of type ['regression'], but received model of type 'binary'</td>\n",
              "    </tr>\n",
              "    <tr>\n",
              "      <td id=\"T_55ce8_row8_col0\" class=\"data row8 col0\" >Regression Systematic Error - Test Dataset</td>\n",
              "      <td id=\"T_55ce8_row8_col1\" class=\"data row8 col1\" >Check is relevant for models of type ['regression'], but received model of type 'binary'</td>\n",
              "    </tr>\n",
              "    <tr>\n",
              "      <td id=\"T_55ce8_row9_col0\" class=\"data row9 col0\" >Regression Systematic Error - Train Dataset</td>\n",
              "      <td id=\"T_55ce8_row9_col1\" class=\"data row9 col1\" >Check is relevant for models of type ['regression'], but received model of type 'binary'</td>\n",
              "    </tr>\n",
              "    <tr>\n",
              "      <td id=\"T_55ce8_row10_col0\" class=\"data row10 col0\" >Boosting Overfit</td>\n",
              "      <td id=\"T_55ce8_row10_col1\" class=\"data row10 col1\" >Check is relevant for Boosting models of type ('AdaBoostClassifier', 'GradientBoostingClassifier', 'LGBMClassifier', 'XGBClassifier', 'CatBoostClassifier', 'AdaBoostRegressor', 'GradientBoostingRegressor', 'LGBMRegressor', 'XGBRegressor', 'CatBoostRegressor'), but received model of type SoftSplitDecisionTreeClassifier</td>\n",
              "    </tr>\n",
              "    <tr>\n",
              "      <td id=\"T_55ce8_row11_col0\" class=\"data row11 col0\" >Whole Dataset Drift</td>\n",
              "      <td id=\"T_55ce8_row11_col1\" class=\"data row11 col1\" >Nothing found</td>\n",
              "    </tr>\n",
              "    <tr>\n",
              "      <td id=\"T_55ce8_row12_col0\" class=\"data row12 col0\" >Special Characters - Test Dataset</td>\n",
              "      <td id=\"T_55ce8_row12_col1\" class=\"data row12 col1\" >Nothing found</td>\n",
              "    </tr>\n",
              "    <tr>\n",
              "      <td id=\"T_55ce8_row13_col0\" class=\"data row13 col0\" >Special Characters - Train Dataset</td>\n",
              "      <td id=\"T_55ce8_row13_col1\" class=\"data row13 col1\" >Nothing found</td>\n",
              "    </tr>\n",
              "    <tr>\n",
              "      <td id=\"T_55ce8_row14_col0\" class=\"data row14 col0\" >String Length Out Of Bounds - Test Dataset</td>\n",
              "      <td id=\"T_55ce8_row14_col1\" class=\"data row14 col1\" >Nothing found</td>\n",
              "    </tr>\n",
              "    <tr>\n",
              "      <td id=\"T_55ce8_row15_col0\" class=\"data row15 col0\" >String Length Out Of Bounds - Train Dataset</td>\n",
              "      <td id=\"T_55ce8_row15_col1\" class=\"data row15 col1\" >Nothing found</td>\n",
              "    </tr>\n",
              "    <tr>\n",
              "      <td id=\"T_55ce8_row16_col0\" class=\"data row16 col0\" >String Mismatch - Test Dataset</td>\n",
              "      <td id=\"T_55ce8_row16_col1\" class=\"data row16 col1\" >Nothing found</td>\n",
              "    </tr>\n",
              "    <tr>\n",
              "      <td id=\"T_55ce8_row17_col0\" class=\"data row17 col0\" >String Mismatch - Train Dataset</td>\n",
              "      <td id=\"T_55ce8_row17_col1\" class=\"data row17 col1\" >Nothing found</td>\n",
              "    </tr>\n",
              "    <tr>\n",
              "      <td id=\"T_55ce8_row18_col0\" class=\"data row18 col0\" >Mixed Data Types - Test Dataset</td>\n",
              "      <td id=\"T_55ce8_row18_col1\" class=\"data row18 col1\" >Nothing found</td>\n",
              "    </tr>\n",
              "    <tr>\n",
              "      <td id=\"T_55ce8_row19_col0\" class=\"data row19 col0\" >Mixed Data Types - Train Dataset</td>\n",
              "      <td id=\"T_55ce8_row19_col1\" class=\"data row19 col1\" >Nothing found</td>\n",
              "    </tr>\n",
              "    <tr>\n",
              "      <td id=\"T_55ce8_row20_col0\" class=\"data row20 col0\" >Single Value in Column - Test Dataset</td>\n",
              "      <td id=\"T_55ce8_row20_col1\" class=\"data row20 col1\" >Nothing found</td>\n",
              "    </tr>\n",
              "    <tr>\n",
              "      <td id=\"T_55ce8_row21_col0\" class=\"data row21 col0\" >Mixed Nulls - Train Dataset</td>\n",
              "      <td id=\"T_55ce8_row21_col1\" class=\"data row21 col1\" >Nothing found</td>\n",
              "    </tr>\n",
              "    <tr>\n",
              "      <td id=\"T_55ce8_row22_col0\" class=\"data row22 col0\" >Single Value in Column - Train Dataset</td>\n",
              "      <td id=\"T_55ce8_row22_col1\" class=\"data row22 col1\" >Nothing found</td>\n",
              "    </tr>\n",
              "    <tr>\n",
              "      <td id=\"T_55ce8_row23_col0\" class=\"data row23 col0\" >Label Ambiguity - Train Dataset</td>\n",
              "      <td id=\"T_55ce8_row23_col1\" class=\"data row23 col1\" >Nothing found</td>\n",
              "    </tr>\n",
              "    <tr>\n",
              "      <td id=\"T_55ce8_row24_col0\" class=\"data row24 col0\" >String Mismatch Comparison</td>\n",
              "      <td id=\"T_55ce8_row24_col1\" class=\"data row24 col1\" >Nothing found</td>\n",
              "    </tr>\n",
              "    <tr>\n",
              "      <td id=\"T_55ce8_row25_col0\" class=\"data row25 col0\" >New Label Train Test</td>\n",
              "      <td id=\"T_55ce8_row25_col1\" class=\"data row25 col1\" >Nothing found</td>\n",
              "    </tr>\n",
              "    <tr>\n",
              "      <td id=\"T_55ce8_row26_col0\" class=\"data row26 col0\" >Category Mismatch Train Test</td>\n",
              "      <td id=\"T_55ce8_row26_col1\" class=\"data row26 col1\" >Nothing found</td>\n",
              "    </tr>\n",
              "    <tr>\n",
              "      <td id=\"T_55ce8_row27_col0\" class=\"data row27 col0\" >Dominant Frequency Change</td>\n",
              "      <td id=\"T_55ce8_row27_col1\" class=\"data row27 col1\" >Nothing found</td>\n",
              "    </tr>\n",
              "    <tr>\n",
              "      <td id=\"T_55ce8_row28_col0\" class=\"data row28 col0\" >Mixed Nulls - Test Dataset</td>\n",
              "      <td id=\"T_55ce8_row28_col1\" class=\"data row28 col1\" >Nothing found</td>\n",
              "    </tr>\n",
              "    <tr>\n",
              "      <td id=\"T_55ce8_row29_col0\" class=\"data row29 col0\" >Label Ambiguity - Test Dataset</td>\n",
              "      <td id=\"T_55ce8_row29_col1\" class=\"data row29 col1\" >Nothing found</td>\n",
              "    </tr>\n",
              "  </tbody>\n",
              "</table>\n"
            ]
          },
          "metadata": {},
          "output_type": "display_data"
        },
        {
          "data": {
            "text/html": [
              "<br><a href=\"#summary_OD0JV\" style=\"font-size: 14px\">Go to top</a>"
            ]
          },
          "metadata": {},
          "output_type": "display_data"
        }
      ],
      "source": [
        "suite.run(train_dataset=ds_train, test_dataset=ds_test, model=rf_clf)"
      ]
    }
  ],
  "metadata": {
    "kernelspec": {
      "display_name": "Python 3",
      "language": "python",
      "name": "python3"
    },
    "language_info": {
      "codemirror_mode": {
        "name": "ipython",
        "version": 3
      },
      "file_extension": ".py",
      "mimetype": "text/x-python",
      "name": "python",
      "nbconvert_exporter": "python",
      "pygments_lexer": "ipython3",
      "version": "3.8.9"
    }
  },
  "nbformat": 4,
  "nbformat_minor": 0
}
