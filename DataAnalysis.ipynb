{
 "cells": [
  {
   "cell_type": "code",
   "execution_count": null,
   "metadata": {},
   "outputs": [],
   "source": [
    "import pandas as pd\n",
    "import numpy as np\n",
    "import matplotlib.pyplot as plt\n",
    "import seaborn as sns"
   ]
  },
  {
   "cell_type": "markdown",
   "metadata": {},
   "source": [
    "# Data Exploration"
   ]
  },
  {
   "cell_type": "code",
   "execution_count": null,
   "metadata": {},
   "outputs": [],
   "source": [
    "def plotPieChart(x,labels,title,colors = sns.color_palette(\"pastel\"),autopct='%.0f%%',shadow=True, startangle=90, explode=(0.1, 0)):\n",
    "    plt.subplot(())\n",
    "    plt.title(title.capitalize(),fontsize=16)\n",
    "    plt.pie(x=x,labels=labels,colors = colors, autopct=autopct,shadow=shadow, startangle=startangle)\n",
    "    plt.legend()\n",
    "    plt.show()\n",
    "    "
   ]
  },
  {
   "cell_type": "code",
   "execution_count": null,
   "metadata": {},
   "outputs": [],
   "source": [
    "def plotChartForAllDataset(dataset,excludeList=[]):\n",
    "    for column_name in set(dataset.columns).difference(excludeList):\n",
    "        if dataset[column_name].dtype == object or (dataset[column_name].dtype == 'int64' and len(dataset[column_name].unique())<5):\n",
    "            data=[len(dataset[dataset[column_name] == value]) for value in dataset[column_name].unique()]\n",
    "            plotPieChart(x=data,title=column_name,labels=dataset[column_name].unique())\n",
    "        else:\n",
    "            his = sns.histplot(data=dataset, x=column_name)\n",
    "            his.set_ylabel(\"# of Records\")\n",
    "            plt.show()"
   ]
  },
  {
   "cell_type": "markdown",
   "metadata": {},
   "source": [
    "## Classification"
   ]
  },
  {
   "cell_type": "markdown",
   "metadata": {},
   "source": [
    "### Healthcare dataset stroke "
   ]
  },
  {
   "cell_type": "markdown",
   "metadata": {},
   "source": [
    "https://nbviewer.org/github/PBPatil/Exploratory_Data_Analysis-Wine_Quality_Dataset/blob/master/winequality_white.ipynb\n",
    "https://towardsdatascience.com/exploratory-data-analysis-8fc1cb20fd15"
   ]
  },
  {
   "cell_type": "code",
   "execution_count": null,
   "metadata": {},
   "outputs": [],
   "source": [
    "# Importing the healthcare dataset\n",
    "strokeDataset = pd.read_csv('datasets/healthcare-dataset-stroke-data.csv')"
   ]
  },
  {
   "cell_type": "code",
   "execution_count": null,
   "metadata": {},
   "outputs": [],
   "source": [
    "strokeDataset.info()"
   ]
  },
  {
   "cell_type": "code",
   "execution_count": null,
   "metadata": {},
   "outputs": [],
   "source": [
    "strokeDataset.head()"
   ]
  },
  {
   "cell_type": "code",
   "execution_count": null,
   "metadata": {},
   "outputs": [],
   "source": [
    "strokeDataset.describe()"
   ]
  },
  {
   "cell_type": "markdown",
   "metadata": {},
   "source": [
    "#### Feature explination"
   ]
  },
  {
   "cell_type": "markdown",
   "metadata": {},
   "source": [
    "\n",
    "Each record hold an information regarding the patient's health and if he/she had stroke.\n",
    "For the classification we will discrad the Id attribute bacuse it does not hold any prediction power.\n",
    "\n",
    "1) id: unique identifier\n",
    "2) gender: \"Male\", \"Female\" or \"Other\"\n",
    "3) age: age of the patient\n",
    "4) hypertension: 0 if the patient doesn't have hypertension, 1 if the patient has hypertension\n",
    "5) heart_disease: 0 if the patient doesn't have any heart diseases, 1 if the patient has a heart disease\n",
    "6) ever_married: \"No\" or \"Yes\"\n",
    "7) work_type: \"children\", \"Govt_jov\", \"Never_worked\", \"Private\" or \"Self-employed\"\n",
    "8) Residence_type: \"Rural\" or \"Urban\"\n",
    "9) avg_glucose_level: average glucose level in blood\n",
    "10) bmi: body mass index\n",
    "11) smoking_status: \"formerly smoked\", \"never smoked\", \"smokes\" or \"Unknown\"*\n",
    "12) stroke: 1 if the patient had a stroke or 0 if not\n",
    "*Note: \"Unknown\" in smoking_status means that the information is unavailable for this patient"
   ]
  },
  {
   "cell_type": "code",
   "execution_count": null,
   "metadata": {},
   "outputs": [],
   "source": [
    "plotChartForAllDataset(strokeDataset,excludeList=['id'])"
   ]
  },
  {
   "cell_type": "markdown",
   "metadata": {},
   "source": [
    "# Model Evaluation"
   ]
  },
  {
   "cell_type": "code",
   "execution_count": null,
   "metadata": {},
   "outputs": [],
   "source": [
    "# Utils\n",
    "def preprocess(dataset):\n",
    "    le = preprocessing.LabelEncoder()\n",
    "    for column_name in dataset.columns:\n",
    "        if dataset[column_name].dtype == object:\n",
    "            dataset[column_name] = le.fit_transform(dataset[column_name])\n",
    "        else:\n",
    "            pass\n",
    "    dataset.fillna(strokeDataset.mean(), inplace=True)\n",
    "    return dataset"
   ]
  },
  {
   "cell_type": "markdown",
   "metadata": {},
   "source": [
    "## Classifiers"
   ]
  },
  {
   "cell_type": "markdown",
   "metadata": {},
   "source": [
    "### Healthcare dataset stroke "
   ]
  },
  {
   "cell_type": "code",
   "execution_count": null,
   "metadata": {},
   "outputs": [],
   "source": [
    "from sklearn.tree import DecisionTreeClassifier\n",
    "from SoftSplitDecisionTrees import SoftSplitDecisionTreeClassifier \n",
    "from sklearn.model_selection import cross_val_score\n",
    "from sklearn import preprocessing\n",
    "\n",
    "## regular classifier\n",
    "strokeDataset=preprocess(strokeDataset)\n",
    "treeClassifier = DecisionTreeClassifier()\n",
    "treeSoftSplitClassifier = SoftSplitDecisionTreeClassifier()\n",
    "scoresRegular = cross_val_score(estimator=treeClassifier, X=strokeDataset.loc[:, strokeDataset.columns!='stroke'], y=strokeDataset['stroke'], cv=5)\n",
    "scoresSoftSplit = cross_val_score(estimator=treeSoftSplitClassifier, X=strokeDataset.loc[:, strokeDataset.columns!='stroke'], y=strokeDataset['stroke'], cv=5)\n",
    "display(f'Regular Model accuracy {scoresRegular.mean()}')\n",
    "display(f'SoftSplit Model accuracy {scoresSoftSplit.mean()}')\n"
   ]
  }
 ],
 "metadata": {
  "interpreter": {
   "hash": "cc926c36cec0e8ffe22e9a1ce04180c672e5bf0cd88e8bc00fd0debb6a9e3eeb"
  },
  "kernelspec": {
   "display_name": "Python 3.6.8 64-bit",
   "language": "python",
   "name": "python3"
  },
  "language_info": {
   "codemirror_mode": {
    "name": "ipython",
    "version": 3
   },
   "file_extension": ".py",
   "mimetype": "text/x-python",
   "name": "python",
   "nbconvert_exporter": "python",
   "pygments_lexer": "ipython3",
   "version": "3.6.8"
  },
  "orig_nbformat": 4
 },
 "nbformat": 4,
 "nbformat_minor": 2
}
