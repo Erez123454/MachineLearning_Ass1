{
 "cells": [
  {
   "cell_type": "code",
   "execution_count": null,
   "metadata": {},
   "outputs": [],
   "source": [
    "import pandas as pd\n",
    "import numpy as np\n",
    "import matplotlib.pyplot as plt\n",
    "import seaborn as sns"
   ]
  },
  {
   "cell_type": "markdown",
   "metadata": {},
   "source": [
    "# Data Exploration"
   ]
  },
  {
   "cell_type": "code",
   "execution_count": null,
   "metadata": {},
   "outputs": [],
   "source": [
    "def plotPieChart(x,labels,title,colors = sns.color_palette(\"pastel\"),autopct='%.0f%%',shadow=True, startangle=90, explode=(0.1, 0)):\n",
    "    plt.title(title.capitalize(),fontsize=16)\n",
    "    plt.pie(x=x,labels=labels,colors = colors, autopct=autopct,shadow=shadow, startangle=startangle)\n",
    "    plt.legend()\n",
    "    plt.show()\n",
    "    "
   ]
  },
  {
   "cell_type": "code",
   "execution_count": null,
   "metadata": {},
   "outputs": [],
   "source": [
    "def plotChartForAllDataset(dataset,excludeList=[]):\n",
    "    for column_name in set(dataset.columns).difference(excludeList):\n",
    "        if dataset[column_name].dtype == object or (dataset[column_name].dtype == 'int64' and len(dataset[column_name].unique())<5):\n",
    "            data=[len(dataset[dataset[column_name] == value]) for value in dataset[column_name].unique()]\n",
    "            plotPieChart(x=data,title=column_name,labels=dataset[column_name].unique())\n",
    "        else:\n",
    "            his = sns.histplot(data=dataset, x=column_name)\n",
    "            his.set_ylabel(\"# of Records\")\n",
    "            plt.show()"
   ]
  },
  {
   "cell_type": "markdown",
   "metadata": {},
   "source": [
    "## Classification"
   ]
  },
  {
   "cell_type": "code",
   "execution_count": null,
   "metadata": {},
   "outputs": [],
   "source": [
    "# Importing the datasets\n",
    "strokeDataset = pd.read_csv('datasets/classification/healthcare-dataset-stroke-data.csv')\n",
    "waterQualityDataset = pd.read_csv('datasets/classification/waterQuality.csv')\n",
    "cristalDataset = pd.read_csv('datasets/classification/cristal.csv')\n",
    "fuelConsumptionDataset = pd.read_csv('datasets/classification/fuelConsumption.csv')\n",
    "wineQualityDataset = pd.read_csv('datasets/classification/wineQuality.csv')\n",
    "\n",
    "classificationDatasets = [strokeDataset,waterQualityDataset,cristalDataset,fuelConsumptionDataset,wineQualityDataset]"
   ]
  },
  {
   "cell_type": "markdown",
   "metadata": {},
   "source": [
    "### Healthcare Stroke dataset"
   ]
  },
  {
   "cell_type": "markdown",
   "metadata": {},
   "source": [
    "https://nbviewer.org/github/PBPatil/Exploratory_Data_Analysis-Wine_Quality_Dataset/blob/master/winequality_white.ipynb \n",
    "https://towardsdatascience.com/exploratory-data-analysis-8fc1cb20fd15"
   ]
  },
  {
   "cell_type": "code",
   "execution_count": null,
   "metadata": {},
   "outputs": [],
   "source": [
    "strokeDataset.info()"
   ]
  },
  {
   "cell_type": "code",
   "execution_count": null,
   "metadata": {},
   "outputs": [],
   "source": [
    "strokeDataset.head()"
   ]
  },
  {
   "cell_type": "code",
   "execution_count": null,
   "metadata": {},
   "outputs": [],
   "source": [
    "strokeDataset.describe()"
   ]
  },
  {
   "cell_type": "markdown",
   "metadata": {},
   "source": [
    "#### Feature explination"
   ]
  },
  {
   "cell_type": "markdown",
   "metadata": {},
   "source": [
    "\n",
    "Each record hold an information regarding the patient's health and if he/she had stroke.\n",
    "For the classification we will discrad the Id attribute bacuse it does not hold any prediction power.\n",
    "\n",
    "1) id: unique identifier\n",
    "2) gender: \"Male\", \"Female\" or \"Other\"\n",
    "3) age: age of the patient\n",
    "4) hypertension: 0 if the patient doesn't have hypertension, 1 if the patient has hypertension\n",
    "5) heart_disease: 0 if the patient doesn't have any heart diseases, 1 if the patient has a heart disease\n",
    "6) ever_married: \"No\" or \"Yes\"\n",
    "7) work_type: \"children\", \"Govt_jov\", \"Never_worked\", \"Private\" or \"Self-employed\"\n",
    "8) Residence_type: \"Rural\" or \"Urban\"\n",
    "9) avg_glucose_level: average glucose level in blood\n",
    "10) bmi: body mass index\n",
    "11) smoking_status: \"formerly smoked\", \"never smoked\", \"smokes\" or \"Unknown\"*\n",
    "12) stroke: 1 if the patient had a stroke or 0 if not\n",
    "*Note: \"Unknown\" in smoking_status means that the information is unavailable for this patient"
   ]
  },
  {
   "cell_type": "code",
   "execution_count": null,
   "metadata": {},
   "outputs": [],
   "source": [
    "plotChartForAllDataset(strokeDataset,excludeList=['id'])"
   ]
  },
  {
   "cell_type": "markdown",
   "metadata": {},
   "source": [
    "### Water Quality dataset "
   ]
  },
  {
   "cell_type": "code",
   "execution_count": null,
   "metadata": {},
   "outputs": [],
   "source": [
    "waterQualityDataset.info()"
   ]
  },
  {
   "cell_type": "code",
   "execution_count": null,
   "metadata": {},
   "outputs": [],
   "source": [
    "waterQualityDataset.head()"
   ]
  },
  {
   "cell_type": "code",
   "execution_count": null,
   "metadata": {},
   "outputs": [],
   "source": [
    "waterQualityDataset.describe()"
   ]
  },
  {
   "cell_type": "markdown",
   "metadata": {},
   "source": [
    "#### Feature explination"
   ]
  },
  {
   "cell_type": "markdown",
   "metadata": {},
   "source": [
    "1) pH value:\n",
    "PH is an important parameter in evaluating the acid–base balance of water. It is also the indicator of acidic or alkaline condition of water status. WHO has recommended maximum permissible limit of pH from 6.5 to 8.5. The current investigation ranges were 6.52–6.83 which are in the range of WHO standards.\n",
    "\n",
    "2) Hardness:\n",
    "Hardness is mainly caused by calcium and magnesium salts. These salts are dissolved from geologic deposits through which water travels. The length of time water is in contact with hardness producing material helps determine how much hardness there is in raw water. Hardness was originally defined as the capacity of water to precipitate soap caused by Calcium and Magnesium.\n",
    "\n",
    "3) Solids (Total dissolved solids - TDS):\n",
    "Water has the ability to dissolve a wide range of inorganic and some organic minerals or salts such as potassium, calcium, sodium, bicarbonates, chlorides, magnesium, sulfates etc. These minerals produced un-wanted taste and diluted color in appearance of water. This is the important parameter for the use of water. The water with high TDS value indicates that water is highly mineralized. Desirable limit for TDS is 500 mg/l and maximum limit is 1000 mg/l which prescribed for drinking purpose.\n",
    "\n",
    "4) Chloramines:\n",
    "Chlorine and chloramine are the major disinfectants used in public water systems. Chloramines are most commonly formed when ammonia is added to chlorine to treat drinking water. Chlorine levels up to 4 milligrams per liter (mg/L or 4 parts per million (ppm)) are considered safe in drinking water.\n",
    "\n",
    "5) Sulfate:\n",
    "Sulfates are naturally occurring substances that are found in minerals, soil, and rocks. They are present in ambient air, groundwater, plants, and food. The principal commercial use of sulfate is in the chemical industry. Sulfate concentration in seawater is about 2,700 milligrams per liter (mg/L). It ranges from 3 to 30 mg/L in most freshwater supplies, although much higher concentrations (1000 mg/L) are found in some geographic locations.\n",
    "\n",
    "6) Conductivity:\n",
    "Pure water is not a good conductor of electric current rather’s a good insulator. Increase in ions concentration enhances the electrical conductivity of water. Generally, the amount of dissolved solids in water determines the electrical conductivity. Electrical conductivity (EC) actually measures the ionic process of a solution that enables it to transmit current. According to WHO standards, EC value should not exceeded 400 μS/cm.\n",
    "\n",
    "7) Organic_carbon:\n",
    "Total Organic Carbon (TOC) in source waters comes from decaying natural organic matter (NOM) as well as synthetic sources. TOC is a measure of the total amount of carbon in organic compounds in pure water. According to US EPA < 2 mg/L as TOC in treated / drinking water, and < 4 mg/Lit in source water which is use for treatment.\n",
    "\n",
    "8) Trihalomethanes:\n",
    "THMs are chemicals which may be found in water treated with chlorine. The concentration of THMs in drinking water varies according to the level of organic material in the water, the amount of chlorine required to treat the water, and the temperature of the water that is being treated. THM levels up to 80 ppm is considered safe in drinking water.\n",
    "\n",
    "9) Turbidity:\n",
    "The turbidity of water depends on the quantity of solid matter present in the suspended state. It is a measure of light emitting properties of water and the test is used to indicate the quality of waste discharge with respect to colloidal matter. The mean turbidity value obtained for Wondo Genet Campus (0.98 NTU) is lower than the WHO recommended value of 5.00 NTU.\n",
    "\n",
    "10) Potability:\n",
    "Indicates if water is safe for human consumption where 1 means Potable and 0 means Not potable."
   ]
  },
  {
   "cell_type": "code",
   "execution_count": null,
   "metadata": {},
   "outputs": [],
   "source": [
    "plotChartForAllDataset(waterQualityDataset,excludeList=[])"
   ]
  },
  {
   "cell_type": "markdown",
   "metadata": {},
   "source": [
    "### Cristal dataset "
   ]
  },
  {
   "cell_type": "code",
   "execution_count": null,
   "metadata": {},
   "outputs": [],
   "source": [
    "cristalDataset.info()"
   ]
  },
  {
   "cell_type": "code",
   "execution_count": null,
   "metadata": {},
   "outputs": [],
   "source": [
    "cristalDataset.head()"
   ]
  },
  {
   "cell_type": "code",
   "execution_count": null,
   "metadata": {},
   "outputs": [],
   "source": [
    "cristalDataset.describe()"
   ]
  },
  {
   "cell_type": "markdown",
   "metadata": {},
   "source": [
    "#### Feature explination"
   ]
  },
  {
   "cell_type": "markdown",
   "metadata": {},
   "source": [
    "1) v(A) - Valence of A\n",
    "2) v(B) - Valence of B\n",
    "3) Radius A (r(A)) - ionic radius of A cation\n",
    "4) Radius B (r(B)) - ionic radius of B cation\n",
    "5) Electronegativity of A (EN(A)) - Average electronegativity value of A cation\n",
    "6) Electronegativity of B (EN(B)) - Average electronegativity value of B cation\n",
    "7) l(A-O) - Bond length of A-O pair\n",
    "8) l(B-O) - Bond length of B-O pair\n",
    "9) ΔENR - Electronegativity difference with radius\n",
    "10) tG - Goldschmidt tolerance factor\n",
    "11) τ New tolerance factor\n",
    "12) μ - Octahedral factor\n",
    "13) Lowest distortion - identifies it to be either a cubic, tetragonal, orthorhombic, and rhombohedral structure."
   ]
  },
  {
   "cell_type": "code",
   "execution_count": null,
   "metadata": {},
   "outputs": [],
   "source": [
    "plotChartForAllDataset(cristalDataset,excludeList=[])"
   ]
  },
  {
   "cell_type": "markdown",
   "metadata": {},
   "source": [
    "### Fuel Consumption dataset"
   ]
  },
  {
   "cell_type": "code",
   "execution_count": null,
   "metadata": {},
   "outputs": [],
   "source": [
    "fuelConsumptionDataset.info()"
   ]
  },
  {
   "cell_type": "code",
   "execution_count": null,
   "metadata": {},
   "outputs": [],
   "source": [
    "fuelConsumptionDataset.head()"
   ]
  },
  {
   "cell_type": "code",
   "execution_count": null,
   "metadata": {},
   "outputs": [],
   "source": [
    "fuelConsumptionDataset.describe()"
   ]
  },
  {
   "cell_type": "markdown",
   "metadata": {},
   "source": [
    "#### Feature explination"
   ]
  },
  {
   "cell_type": "markdown",
   "metadata": {},
   "source": [
    "1) Model Year - The vehicle manufator year\n",
    "2) Make - The vehicle maker\n",
    "3) Model - Vehicle Model type: 4WD/4X4 = Four-wheel drive; AWD = All-wheel drive; FFV = Flexible-fuel vehicle; SWB = Short\n",
    "4) Vehicle Class - The vehicle class type (small, compact, mid-size etc.)\n",
    "5) Engine Size(L) - The vehicle engine size (2, 3.5 , 2.4 (L) etc.)\n",
    "6) Cylinders - Number of cylinders    \n",
    "7) Transmission - Transmission: A = automatic; AM = automated manual; AS = automatic with select shift; AV = continuously\n",
    "8) Fuel Type - Z = Benzin, X = Soler.\n",
    "9 - 11) Fuel consumption: City and highway fuel consumption ratings are shown in liters per 100 kilometers - the combined rating (55% city, 45% highway) is shown in L/100 km and in miles per imperial\n",
    "12) CO2 emissions: the tailpipe emissions of carbon dioxide (in grams per kilometer) for combined city and highway driving\n",
    "13) CO2 rating: the tailpipe emissions of carbon dioxide rated on a scale from 1 (worst) to 10 (best)\n",
    "14) Smog rating: the tailpipe emissions of smog-forming pollutants rated on a scale from 1 (worst) to 10 (best)"
   ]
  },
  {
   "cell_type": "code",
   "execution_count": null,
   "metadata": {},
   "outputs": [],
   "source": [
    "plotChartForAllDataset(fuelConsumptionDataset,excludeList=[\"Model\"])"
   ]
  },
  {
   "cell_type": "markdown",
   "metadata": {},
   "source": [
    "### Wine Quality dataset"
   ]
  },
  {
   "cell_type": "code",
   "execution_count": null,
   "metadata": {},
   "outputs": [],
   "source": [
    "wineQualityDataset.info()"
   ]
  },
  {
   "cell_type": "code",
   "execution_count": null,
   "metadata": {},
   "outputs": [],
   "source": [
    "wineQualityDataset.head()"
   ]
  },
  {
   "cell_type": "code",
   "execution_count": null,
   "metadata": {},
   "outputs": [],
   "source": [
    "wineQualityDataset.describe()"
   ]
  },
  {
   "cell_type": "markdown",
   "metadata": {},
   "source": [
    "#### Feature explination"
   ]
  },
  {
   "cell_type": "markdown",
   "metadata": {},
   "source": [
    "1) fixed acidity - Fixed acidity value\n",
    "2) volatile acidity - Volatile acidity value\n",
    "3) citric acid - Citric acid value\n",
    "4) residual sugar - Residual sugar value\n",
    "5) chlorides - Chlorides value\n",
    "6) free sulfur dioxide - Free sulfur dioxide value\n",
    "7) total sulfur dioxide - Total sulfur dioxide value\n",
    "8) density - Density value\n",
    "9) pH - pH value\n",
    "10) sulphates - \n",
    "11) alcohol - alcohol rate\n",
    "12) quality (score between 0 and 10)"
   ]
  },
  {
   "cell_type": "code",
   "execution_count": null,
   "metadata": {},
   "outputs": [],
   "source": [
    "plotChartForAllDataset(wineQualityDataset,excludeList=[\"Id\"])"
   ]
  },
  {
   "cell_type": "markdown",
   "metadata": {},
   "source": [
    "## Regression"
   ]
  },
  {
   "cell_type": "code",
   "execution_count": null,
   "metadata": {},
   "outputs": [],
   "source": [
    "# Importing the datasets\n",
    "carSellingPrice = pd.read_csv('datasets\\\\regression\\\\Car details v3__selling_price.csv')"
   ]
  },
  {
   "cell_type": "markdown",
   "metadata": {},
   "source": [
    "### Car selling price"
   ]
  },
  {
   "cell_type": "markdown",
   "metadata": {},
   "source": [
    "#### Feature explination\n",
    "\n",
    "1) Name - full name of the car\n",
    "2) Year - model of the car\n",
    "3) selling_price - selling price of the car\n",
    "4) km_driven - number of kilometer which has been drove with the car\n",
    "5) fuel - car's fuel type\n",
    "6) seller_type - 'Individual' or 'Dealer'\n",
    "7) transmission  - car's transmission system (Manual\\Automatic)\n",
    "8) Owner - first owner, second etc...\n",
    "9) Fuel consumption - how many kilometer per liter fuel\n",
    "10) engine - Car's engine volume\n",
    "11) max_power - brake horsepower (1 Brake horsepower [bhp] =1.013869665424 Horsepower [HP])\n",
    "12) torque - the force that acts on a pivot point with the aid of a lever arm.\n",
    "13) seats - numer of seats in the car"
   ]
  },
  {
   "cell_type": "code",
   "execution_count": null,
   "metadata": {},
   "outputs": [],
   "source": [
    "# carSellingPrice.info()"
   ]
  },
  {
   "cell_type": "code",
   "execution_count": null,
   "metadata": {},
   "outputs": [],
   "source": [
    "# carSellingPrice.describe()"
   ]
  },
  {
   "cell_type": "code",
   "execution_count": null,
   "metadata": {},
   "outputs": [],
   "source": [
    "# carSellingPrice.head()"
   ]
  },
  {
   "cell_type": "code",
   "execution_count": null,
   "metadata": {},
   "outputs": [],
   "source": [
    "# carSellingPrice=carSellingPrice.dropna(axis=0,how='any')\n",
    "# def toFloat(x):\n",
    "#     if type(x)=='float':\n",
    "#         return x\n",
    "#     if type(x)=='str':\n",
    "#         return float(x.split(' ')[0])\n",
    "# carSellingPrice['fuel_consumption']=carSellingPrice['fuel_consumption'].apply(toFloat)\n",
    "# carSellingPrice['engine']=carSellingPrice['engine'].apply(toFloat)\n",
    "# carSellingPrice['max_power']=carSellingPrice['max_power'].apply(toFloat)\n",
    "#carSellingPrice=carSellingPrice.astype({'fuel_consumption':np.float64,'engine':np.float64,'max_power':np.float64})\n",
    "\n",
    "\n",
    "\n",
    "# carSellingPrice.head()\n",
    "# carSellingPrice.describe()\n",
    "\n",
    "\n",
    "# plotChartForAllDataset(carSellingPrice,excludeList=[\"name\",'torque'])"
   ]
  },
  {
   "cell_type": "markdown",
   "metadata": {},
   "source": [
    "# Model Evaluation"
   ]
  },
  {
   "cell_type": "code",
   "execution_count": 26,
   "metadata": {},
   "outputs": [],
   "source": [
    "from sklearn import preprocessing\n",
    "from sklearn.model_selection import RepeatedKFold, cross_validate\n",
    "from sklearn.tree import DecisionTreeClassifier\n",
    "from SoftSplitDecisionTrees import SoftSplitDecisionTreeClassifier\n",
    "\n",
    "# Utils\n",
    "def preprocess(dataset):\n",
    "    le = preprocessing.LabelEncoder()\n",
    "    for column_name in dataset.columns:\n",
    "        if dataset[column_name].dtype == object:\n",
    "            dataset[column_name] = le.fit_transform(dataset[column_name])\n",
    "        else:\n",
    "            pass\n",
    "    dataset.fillna(strokeDataset.mean(), inplace=True)\n",
    "    return dataset\n",
    "\n",
    "def evaluateModel(model, X, y, k=5, repeats=2):\n",
    "    rkfcv = RepeatedKFold(n_splits=k, n_repeats=repeats, random_state=1)\n",
    "    return cross_validate(estimator=model, scoring=['accuracy', 'roc_auc'], X=X, y=y, cv=rkfcv, n_jobs=-1)\n",
    "\n",
    "def plotModelScore(scoresRegular, scoresSoftSplit,dataset_name ,title, metric):\n",
    "    colors = sns.color_palette(\"Paired\")\n",
    "    plt.plot(scoresRegular[metric], label=f'regular classifier {title}', color=colors[0])\n",
    "    plt.plot([scoresRegular[metric].mean() for x in scoresRegular[metric]], label=f'regular classifier {title} mean',\n",
    "             color=colors[1], linewidth=0.5, marker=\"_\")\n",
    "    plt.plot(scoresSoftSplit[metric], label=f'soft split classifier {title}', color=colors[2])\n",
    "    plt.plot([scoresSoftSplit[metric].mean() for x in scoresSoftSplit[metric]], label=f'soft split classifier {title} mean',\n",
    "             color=colors[3], linewidth=0.5, marker=\"_\")\n",
    "    plt.legend()\n",
    "    plt.title(f'{title.capitalize()} of models on {dataset_name.capitalize()}')\n",
    "    plt.xlabel('Iteration')\n",
    "    plt.ylabel(f'{title.capitalize()}')\n",
    "    plt.show()"
   ]
  },
  {
   "cell_type": "markdown",
   "metadata": {},
   "source": [
    "## Classifiers"
   ]
  },
  {
   "cell_type": "markdown",
   "metadata": {},
   "source": [
    "### Healthcare dataset stroke "
   ]
  },
  {
   "cell_type": "code",
   "execution_count": null,
   "metadata": {},
   "outputs": [],
   "source": [
    "strokeDataset=preprocess(strokeDataset)\n",
    "X,y = strokeDataset.loc[:, strokeDataset.columns!='stroke'],strokeDataset['stroke']\n",
    "\n",
    "treeClassifier = DecisionTreeClassifier()\n",
    "treeSoftSplitClassifier = SoftSplitDecisionTreeClassifier(n=100,alphaProbability=0.1)\n",
    "\n",
    "scoresRegular =evaluateModel(treeClassifier,X,y)\n",
    "scoresSoftSplit =evaluateModel(treeSoftSplitClassifier,X,y)"
   ]
  },
  {
   "cell_type": "code",
   "execution_count": null,
   "metadata": {},
   "outputs": [],
   "source": [
    "plotModelScore(scoresRegular, scoresSoftSplit,'Stroke dataset','accuracy','test_accuracy')\n",
    "plotModelScore(scoresRegular, scoresSoftSplit,'Stroke dataset','auc','test_roc_auc')"
   ]
  },
  {
   "cell_type": "markdown",
   "metadata": {},
   "source": [
    "Regarding the stroke dataset its clear that the soft split model out preform sklearn decision tree classifier on both accuracy and AUC."
   ]
  }
 ],
 "metadata": {
  "interpreter": {
   "hash": "cc926c36cec0e8ffe22e9a1ce04180c672e5bf0cd88e8bc00fd0debb6a9e3eeb"
  },
  "kernelspec": {
   "display_name": "Python 3.6.8 64-bit",
   "language": "python",
   "name": "python3"
  },
  "language_info": {
   "codemirror_mode": {
    "name": "ipython",
    "version": 3
   },
   "file_extension": ".py",
   "mimetype": "text/x-python",
   "name": "python",
   "nbconvert_exporter": "python",
   "pygments_lexer": "ipython3",
   "version": "3.6.8"
  },
  "orig_nbformat": 4
 },
 "nbformat": 4,
 "nbformat_minor": 2
}
